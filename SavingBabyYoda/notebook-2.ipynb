{
  "cells": [
    {
      "cell_type": "code",
      "metadata": {
        "tags": [],
        "deepnote_to_be_reexecuted": false,
        "source_hash": "e4bfbba6",
        "execution_millis": 110,
        "cell_id": "00000-8ce0018d-d970-43ab-8dd2-1b041316ef6b",
        "execution_start": 1619166992118,
        "deepnote_cell_type": "code"
      },
      "source": "import pandas as pd\nimport numpy as np\nfrom sklearn.cluster import KMeans\nfrom sklearn.preprocessing import StandardScaler\nimport matplotlib.pyplot as plt\nimport seaborn as sns",
      "execution_count": 18,
      "outputs": []
    },
    {
      "cell_type": "code",
      "metadata": {
        "tags": [],
        "deepnote_to_be_reexecuted": false,
        "source_hash": "d5a701ac",
        "execution_millis": 161,
        "cell_id": "00001-07f17dfd-1dda-4493-983a-1702f20747bd",
        "execution_start": 1619166946942,
        "deepnote_cell_type": "code"
      },
      "source": "df=pd.read_csv(\"/work/galaxies.csv\")\ndf",
      "execution_count": 2,
      "outputs": [
        {
          "output_type": "execute_result",
          "execution_count": 2,
          "data": {
            "application/vnd.deepnote.dataframe.v2+json": {
              "row_count": 1000,
              "column_count": 2,
              "columns": [
                {
                  "name": "X",
                  "dtype": "float64",
                  "stats": {
                    "unique_count": 1000,
                    "nan_count": 0,
                    "min": "1.9135929701884589",
                    "max": "9.16085726217318",
                    "histogram": [
                      {
                        "bin_start": 1.9135929701884589,
                        "bin_end": 2.6383193993869307,
                        "count": 3
                      },
                      {
                        "bin_start": 2.6383193993869307,
                        "bin_end": 3.363045828585403,
                        "count": 9
                      },
                      {
                        "bin_start": 3.363045828585403,
                        "bin_end": 4.087772257783875,
                        "count": 62
                      },
                      {
                        "bin_start": 4.087772257783875,
                        "bin_end": 4.812498686982347,
                        "count": 151
                      },
                      {
                        "bin_start": 4.812498686982347,
                        "bin_end": 5.537225116180819,
                        "count": 253
                      },
                      {
                        "bin_start": 5.537225116180819,
                        "bin_end": 6.261951545379292,
                        "count": 245
                      },
                      {
                        "bin_start": 6.261951545379292,
                        "bin_end": 6.986677974577764,
                        "count": 166
                      },
                      {
                        "bin_start": 6.986677974577764,
                        "bin_end": 7.7114044037762355,
                        "count": 74
                      },
                      {
                        "bin_start": 7.7114044037762355,
                        "bin_end": 8.436130832974708,
                        "count": 32
                      },
                      {
                        "bin_start": 8.436130832974708,
                        "bin_end": 9.16085726217318,
                        "count": 5
                      }
                    ]
                  }
                },
                {
                  "name": "Y",
                  "dtype": "float64",
                  "stats": {
                    "unique_count": 1000,
                    "nan_count": 0,
                    "min": "-11.305421631058293",
                    "max": "13.612303608308151",
                    "histogram": [
                      {
                        "bin_start": -11.305421631058293,
                        "bin_end": -8.813649107121648,
                        "count": 86
                      },
                      {
                        "bin_start": -8.813649107121648,
                        "bin_end": -6.321876583185004,
                        "count": 236
                      },
                      {
                        "bin_start": -6.321876583185004,
                        "bin_end": -3.8301040592483595,
                        "count": 11
                      },
                      {
                        "bin_start": -3.8301040592483595,
                        "bin_end": -1.3383315353117151,
                        "count": 0
                      },
                      {
                        "bin_start": -1.3383315353117151,
                        "bin_end": 1.1534409886249293,
                        "count": 4
                      },
                      {
                        "bin_start": 1.1534409886249293,
                        "bin_end": 3.6452135125615737,
                        "count": 181
                      },
                      {
                        "bin_start": 3.6452135125615737,
                        "bin_end": 6.136986036498216,
                        "count": 146
                      },
                      {
                        "bin_start": 6.136986036498216,
                        "bin_end": 8.628758560434862,
                        "count": 65
                      },
                      {
                        "bin_start": 8.628758560434862,
                        "bin_end": 11.120531084371509,
                        "count": 244
                      },
                      {
                        "bin_start": 11.120531084371509,
                        "bin_end": 13.612303608308151,
                        "count": 27
                      }
                    ]
                  }
                },
                {
                  "name": "_deepnote_index_column",
                  "dtype": "int64"
                }
              ],
              "rows_top": [
                {
                  "X": 6.649504200096853,
                  "Y": 2.223293028251595,
                  "_deepnote_index_column": 0
                },
                {
                  "X": 5.260231731441283,
                  "Y": -7.556044532921168,
                  "_deepnote_index_column": 1
                },
                {
                  "X": 6.164551027767426,
                  "Y": 9.24561800014239,
                  "_deepnote_index_column": 2
                },
                {
                  "X": 5.033344908832953,
                  "Y": 9.002008610768787,
                  "_deepnote_index_column": 3
                },
                {
                  "X": 3.6743500228392234,
                  "Y": -7.836117669984453,
                  "_deepnote_index_column": 4
                },
                {
                  "X": 4.697979598539535,
                  "Y": 3.3461961843986594,
                  "_deepnote_index_column": 5
                },
                {
                  "X": 7.119966370982796,
                  "Y": 3.9467886533222982,
                  "_deepnote_index_column": 6
                },
                {
                  "X": 5.121132028074139,
                  "Y": -7.757304331164904,
                  "_deepnote_index_column": 7
                },
                {
                  "X": 3.2940019178049087,
                  "Y": 10.738827735729682,
                  "_deepnote_index_column": 8
                },
                {
                  "X": 4.220692383406102,
                  "Y": 11.641911669863545,
                  "_deepnote_index_column": 9
                },
                {
                  "X": 5.31038925877621,
                  "Y": 3.671731347867615,
                  "_deepnote_index_column": 10
                },
                {
                  "X": 4.394850432960989,
                  "Y": -9.002457113905525,
                  "_deepnote_index_column": 11
                },
                {
                  "X": 8.051080931226737,
                  "Y": -8.067176520339144,
                  "_deepnote_index_column": 12
                },
                {
                  "X": 5.218824340491361,
                  "Y": -8.493466422296919,
                  "_deepnote_index_column": 13
                },
                {
                  "X": 6.060112533571965,
                  "Y": 3.033652415685124,
                  "_deepnote_index_column": 14
                },
                {
                  "X": 3.968500891023417,
                  "Y": 10.796762745653702,
                  "_deepnote_index_column": 15
                },
                {
                  "X": 5.701424462860512,
                  "Y": 2.651120208433781,
                  "_deepnote_index_column": 16
                },
                {
                  "X": 4.681658952494677,
                  "Y": -8.23544297084461,
                  "_deepnote_index_column": 17
                },
                {
                  "X": 4.922484754914062,
                  "Y": -8.124855192017236,
                  "_deepnote_index_column": 18
                },
                {
                  "X": 6.637092442301642,
                  "Y": 5.607998361813911,
                  "_deepnote_index_column": 19
                },
                {
                  "X": 6.312481998783911,
                  "Y": 3.025256105546085,
                  "_deepnote_index_column": 20
                },
                {
                  "X": 5.333503374745869,
                  "Y": -9.622134376932427,
                  "_deepnote_index_column": 21
                },
                {
                  "X": 6.569223502516504,
                  "Y": 4.479940928059448,
                  "_deepnote_index_column": 22
                },
                {
                  "X": 6.32118119948469,
                  "Y": 4.122000011893686,
                  "_deepnote_index_column": 23
                },
                {
                  "X": 5.052487092993996,
                  "Y": 9.536973446605671,
                  "_deepnote_index_column": 24
                },
                {
                  "X": 5.030443534611415,
                  "Y": -8.983419092086924,
                  "_deepnote_index_column": 25
                },
                {
                  "X": 6.662717551920393,
                  "Y": -9.410801317174617,
                  "_deepnote_index_column": 26
                },
                {
                  "X": 6.691528979569692,
                  "Y": -6.887104060083061,
                  "_deepnote_index_column": 27
                },
                {
                  "X": 3.7083728246952137,
                  "Y": 10.12931779234532,
                  "_deepnote_index_column": 28
                },
                {
                  "X": 5.263977918375367,
                  "Y": 0.8016336406557634,
                  "_deepnote_index_column": 29
                },
                {
                  "X": 6.561751147007882,
                  "Y": 3.3190894929677657,
                  "_deepnote_index_column": 30
                },
                {
                  "X": 5.744520113962376,
                  "Y": 9.80893966964761,
                  "_deepnote_index_column": 31
                },
                {
                  "X": 7.3420855297603165,
                  "Y": 2.842348309496596,
                  "_deepnote_index_column": 32
                },
                {
                  "X": 6.235209798888491,
                  "Y": 9.764122396665718,
                  "_deepnote_index_column": 33
                },
                {
                  "X": 8.995615796367574,
                  "Y": 2.4359242924778357,
                  "_deepnote_index_column": 34
                },
                {
                  "X": 7.756347025850246,
                  "Y": 3.827013754422005,
                  "_deepnote_index_column": 35
                },
                {
                  "X": 5.92627372275054,
                  "Y": -7.179040922032251,
                  "_deepnote_index_column": 36
                },
                {
                  "X": 3.9990051221089926,
                  "Y": 10.385315498290424,
                  "_deepnote_index_column": 37
                },
                {
                  "X": 6.181502021856382,
                  "Y": 2.6743439684041923,
                  "_deepnote_index_column": 38
                },
                {
                  "X": 6.211241400472022,
                  "Y": 4.288174311063491,
                  "_deepnote_index_column": 39
                },
                {
                  "X": 5.73144125560838,
                  "Y": 4.837134089018065,
                  "_deepnote_index_column": 40
                },
                {
                  "X": 4.4852080198882565,
                  "Y": 9.788684623386722,
                  "_deepnote_index_column": 41
                },
                {
                  "X": 5.202754523944431,
                  "Y": 8.777232331274732,
                  "_deepnote_index_column": 42
                },
                {
                  "X": 5.987226764484853,
                  "Y": 3.9397130363330657,
                  "_deepnote_index_column": 43
                },
                {
                  "X": 4.910851193959577,
                  "Y": 9.4459616225064,
                  "_deepnote_index_column": 44
                },
                {
                  "X": 4.986822683408039,
                  "Y": 10.71146517348214,
                  "_deepnote_index_column": 45
                },
                {
                  "X": 3.646052507545826,
                  "Y": 10.648336694716804,
                  "_deepnote_index_column": 46
                },
                {
                  "X": 6.3936652784845815,
                  "Y": 2.914703048810135,
                  "_deepnote_index_column": 47
                },
                {
                  "X": 6.452624775278093,
                  "Y": 2.4663275979066066,
                  "_deepnote_index_column": 48
                },
                {
                  "X": 5.421752165627586,
                  "Y": 4.969783245027875,
                  "_deepnote_index_column": 49
                },
                {
                  "X": 6.7692933530412045,
                  "Y": 4.359350587574789,
                  "_deepnote_index_column": 50
                },
                {
                  "X": 4.242323774475097,
                  "Y": -9.050132671732072,
                  "_deepnote_index_column": 51
                },
                {
                  "X": 7.041428707983979,
                  "Y": 5.739087728763822,
                  "_deepnote_index_column": 52
                },
                {
                  "X": 5.062782078002797,
                  "Y": 10.44470564710126,
                  "_deepnote_index_column": 53
                },
                {
                  "X": 5.302194697095936,
                  "Y": 8.694567910082746,
                  "_deepnote_index_column": 54
                },
                {
                  "X": 5.774926955947393,
                  "Y": 11.490906545607334,
                  "_deepnote_index_column": 55
                },
                {
                  "X": 5.321112966833042,
                  "Y": 8.259457624110777,
                  "_deepnote_index_column": 56
                },
                {
                  "X": 5.712304631334582,
                  "Y": -7.498959931136455,
                  "_deepnote_index_column": 57
                },
                {
                  "X": 4.708380699582555,
                  "Y": 2.6428796714205065,
                  "_deepnote_index_column": 58
                },
                {
                  "X": 4.9553909022427565,
                  "Y": -7.735045581937075,
                  "_deepnote_index_column": 59
                },
                {
                  "X": 4.6565293405898265,
                  "Y": -8.137040034674081,
                  "_deepnote_index_column": 60
                },
                {
                  "X": 6.354055488596649,
                  "Y": 3.01978457995435,
                  "_deepnote_index_column": 61
                },
                {
                  "X": 7.378790945952895,
                  "Y": 9.789595981878064,
                  "_deepnote_index_column": 62
                },
                {
                  "X": 7.106831105105718,
                  "Y": 3.6749924015970072,
                  "_deepnote_index_column": 63
                },
                {
                  "X": 5.500882697984759,
                  "Y": -8.605972433486407,
                  "_deepnote_index_column": 64
                },
                {
                  "X": 3.9528658460445527,
                  "Y": -8.025856935054936,
                  "_deepnote_index_column": 65
                },
                {
                  "X": 5.635433078170448,
                  "Y": 10.154857449561945,
                  "_deepnote_index_column": 66
                },
                {
                  "X": 8.034070704433207,
                  "Y": 3.345967147111541,
                  "_deepnote_index_column": 67
                },
                {
                  "X": 5.387037702218866,
                  "Y": 4.1778445010570415,
                  "_deepnote_index_column": 68
                },
                {
                  "X": 6.160313485254051,
                  "Y": 4.259499495985461,
                  "_deepnote_index_column": 69
                },
                {
                  "X": 5.889245195390677,
                  "Y": 10.306002138117991,
                  "_deepnote_index_column": 70
                },
                {
                  "X": 4.255954243779208,
                  "Y": -7.232560704551679,
                  "_deepnote_index_column": 71
                },
                {
                  "X": 3.8199109493770793,
                  "Y": -8.811084283678936,
                  "_deepnote_index_column": 72
                },
                {
                  "X": 5.931380658175799,
                  "Y": 4.417907290022337,
                  "_deepnote_index_column": 73
                },
                {
                  "X": 6.22533534122538,
                  "Y": -9.084387490895272,
                  "_deepnote_index_column": 74
                },
                {
                  "X": 7.4761691894370434,
                  "Y": 2.212771752252941,
                  "_deepnote_index_column": 75
                },
                {
                  "X": 6.086035094338464,
                  "Y": -9.048655094846248,
                  "_deepnote_index_column": 76
                },
                {
                  "X": 5.140793523802756,
                  "Y": 9.254372074453014,
                  "_deepnote_index_column": 77
                },
                {
                  "X": 8.289957425168556,
                  "Y": 4.273199379961474,
                  "_deepnote_index_column": 78
                },
                {
                  "X": 5.56758005416152,
                  "Y": -8.105339939820732,
                  "_deepnote_index_column": 79
                },
                {
                  "X": 7.301970988082402,
                  "Y": 2.6318924985523706,
                  "_deepnote_index_column": 80
                },
                {
                  "X": 6.338588021941825,
                  "Y": 2.7815897145345096,
                  "_deepnote_index_column": 81
                },
                {
                  "X": 7.698460073125563,
                  "Y": 3.3286479739164987,
                  "_deepnote_index_column": 82
                },
                {
                  "X": 5.281228346673291,
                  "Y": 3.0635629210962616,
                  "_deepnote_index_column": 83
                },
                {
                  "X": 8.124126904709986,
                  "Y": 2.2736244876152334,
                  "_deepnote_index_column": 84
                },
                {
                  "X": 7.468654130081981,
                  "Y": 3.7475180673142434,
                  "_deepnote_index_column": 85
                },
                {
                  "X": 4.643532016519144,
                  "Y": 4.032547641223382,
                  "_deepnote_index_column": 86
                },
                {
                  "X": 3.915185300048857,
                  "Y": -9.613525052323885,
                  "_deepnote_index_column": 87
                },
                {
                  "X": 5.988629085105741,
                  "Y": -8.7962439546083,
                  "_deepnote_index_column": 88
                },
                {
                  "X": 5.111637450899319,
                  "Y": 8.368790901732396,
                  "_deepnote_index_column": 89
                },
                {
                  "X": 6.428655802577049,
                  "Y": -9.06323893541807,
                  "_deepnote_index_column": 90
                },
                {
                  "X": 4.736793973383439,
                  "Y": 10.417416425388916,
                  "_deepnote_index_column": 91
                },
                {
                  "X": 5.818017500049452,
                  "Y": 3.220276549957728,
                  "_deepnote_index_column": 92
                },
                {
                  "X": 6.125388784200801,
                  "Y": 10.074077892523302,
                  "_deepnote_index_column": 93
                },
                {
                  "X": 6.498527091648768,
                  "Y": 10.689718214337647,
                  "_deepnote_index_column": 94
                },
                {
                  "X": 6.262593057825091,
                  "Y": 10.497265880797215,
                  "_deepnote_index_column": 95
                },
                {
                  "X": 7.857528780670886,
                  "Y": 3.9496935222101057,
                  "_deepnote_index_column": 96
                },
                {
                  "X": 6.523869214609618,
                  "Y": 9.648963557276623,
                  "_deepnote_index_column": 97
                },
                {
                  "X": 5.586382955052604,
                  "Y": -9.87576481018442,
                  "_deepnote_index_column": 98
                },
                {
                  "X": 3.7820669480764617,
                  "Y": 1.478990115609656,
                  "_deepnote_index_column": 99
                },
                {
                  "X": 5.284879514856148,
                  "Y": -8.255564614564872,
                  "_deepnote_index_column": 100
                },
                {
                  "X": 6.080988793237623,
                  "Y": 8.815007566973698,
                  "_deepnote_index_column": 101
                },
                {
                  "X": 6.791580340083796,
                  "Y": -8.683948041501674,
                  "_deepnote_index_column": 102
                },
                {
                  "X": 4.782966714541073,
                  "Y": 10.121188944724109,
                  "_deepnote_index_column": 103
                },
                {
                  "X": 7.291440940684774,
                  "Y": 4.240339724394908,
                  "_deepnote_index_column": 104
                },
                {
                  "X": 6.9061010207676405,
                  "Y": 3.3731119465710178,
                  "_deepnote_index_column": 105
                },
                {
                  "X": 6.052586692240527,
                  "Y": 7.702137206064831,
                  "_deepnote_index_column": 106
                },
                {
                  "X": 4.994226374594552,
                  "Y": -6.409813529636155,
                  "_deepnote_index_column": 107
                },
                {
                  "X": 5.752162547930652,
                  "Y": 8.53805831319462,
                  "_deepnote_index_column": 108
                },
                {
                  "X": 4.576762739114828,
                  "Y": -9.621485182612943,
                  "_deepnote_index_column": 109
                },
                {
                  "X": 5.580090551567306,
                  "Y": 10.3718645428228,
                  "_deepnote_index_column": 110
                },
                {
                  "X": 4.914737771793638,
                  "Y": 10.090766087760295,
                  "_deepnote_index_column": 111
                },
                {
                  "X": 5.548393039248966,
                  "Y": 10.396419837160837,
                  "_deepnote_index_column": 112
                },
                {
                  "X": 5.960813345878402,
                  "Y": 4.489040491682625,
                  "_deepnote_index_column": 113
                },
                {
                  "X": 6.423014376963431,
                  "Y": 5.700836061137258,
                  "_deepnote_index_column": 114
                },
                {
                  "X": 3.290491038347423,
                  "Y": 9.599816151026417,
                  "_deepnote_index_column": 115
                },
                {
                  "X": 9.018413932408688,
                  "Y": 3.492067453748076,
                  "_deepnote_index_column": 116
                },
                {
                  "X": 4.54781764998559,
                  "Y": -8.651548866366362,
                  "_deepnote_index_column": 117
                },
                {
                  "X": 5.0970344435473125,
                  "Y": 3.844340730568311,
                  "_deepnote_index_column": 118
                },
                {
                  "X": 4.214328249284661,
                  "Y": 8.407556317137843,
                  "_deepnote_index_column": 119
                },
                {
                  "X": 5.881530331213922,
                  "Y": 10.082436397855904,
                  "_deepnote_index_column": 120
                },
                {
                  "X": 4.720545502314451,
                  "Y": 3.315290255067682,
                  "_deepnote_index_column": 121
                },
                {
                  "X": 6.624647959320658,
                  "Y": 3.7831616422611134,
                  "_deepnote_index_column": 122
                },
                {
                  "X": 5.854703212220616,
                  "Y": 3.235732726155478,
                  "_deepnote_index_column": 123
                },
                {
                  "X": 5.816978557405203,
                  "Y": 2.6230871483517824,
                  "_deepnote_index_column": 124
                },
                {
                  "X": 4.299738688729963,
                  "Y": 5.222108673166998,
                  "_deepnote_index_column": 125
                },
                {
                  "X": 3.707217160515,
                  "Y": -8.33203776638516,
                  "_deepnote_index_column": 126
                },
                {
                  "X": 8.660927883223035,
                  "Y": 2.741041299934458,
                  "_deepnote_index_column": 127
                },
                {
                  "X": 7.290390780098161,
                  "Y": 1.9116880649154688,
                  "_deepnote_index_column": 128
                },
                {
                  "X": 6.373258670354024,
                  "Y": 10.785781062327002,
                  "_deepnote_index_column": 129
                },
                {
                  "X": 5.530322715900412,
                  "Y": -9.048222718781425,
                  "_deepnote_index_column": 130
                },
                {
                  "X": 6.174527964799349,
                  "Y": 5.071778304807088,
                  "_deepnote_index_column": 131
                },
                {
                  "X": 5.035444051965795,
                  "Y": 9.2659781914849,
                  "_deepnote_index_column": 132
                },
                {
                  "X": 4.558680587571363,
                  "Y": 10.45674502794323,
                  "_deepnote_index_column": 133
                },
                {
                  "X": 6.204874438124858,
                  "Y": -7.591535340304617,
                  "_deepnote_index_column": 134
                },
                {
                  "X": 5.639602893216662,
                  "Y": 9.890702181405883,
                  "_deepnote_index_column": 135
                },
                {
                  "X": 5.708805907336817,
                  "Y": -7.236823598771193,
                  "_deepnote_index_column": 136
                },
                {
                  "X": 6.113284852306038,
                  "Y": 3.103210199590008,
                  "_deepnote_index_column": 137
                },
                {
                  "X": 6.23351673050837,
                  "Y": -7.653384693178989,
                  "_deepnote_index_column": 138
                },
                {
                  "X": 4.216884792497558,
                  "Y": 2.4881504152679974,
                  "_deepnote_index_column": 139
                },
                {
                  "X": 4.060327783565736,
                  "Y": -7.689182206118145,
                  "_deepnote_index_column": 140
                },
                {
                  "X": 7.218846708608075,
                  "Y": 3.085921966168711,
                  "_deepnote_index_column": 141
                },
                {
                  "X": 5.962638447425519,
                  "Y": -6.41555572163483,
                  "_deepnote_index_column": 142
                },
                {
                  "X": 5.483888228946595,
                  "Y": 4.749651146553386,
                  "_deepnote_index_column": 143
                },
                {
                  "X": 5.184300438964439,
                  "Y": -7.48517466157724,
                  "_deepnote_index_column": 144
                },
                {
                  "X": 6.759664533785641,
                  "Y": 3.098418084213054,
                  "_deepnote_index_column": 145
                },
                {
                  "X": 7.81771604822223,
                  "Y": 2.3252177525962514,
                  "_deepnote_index_column": 146
                },
                {
                  "X": 6.014223217364408,
                  "Y": -7.910280508319522,
                  "_deepnote_index_column": 147
                },
                {
                  "X": 5.721806134701562,
                  "Y": 9.490658206624447,
                  "_deepnote_index_column": 148
                },
                {
                  "X": 6.659972319873033,
                  "Y": 3.6995844818812222,
                  "_deepnote_index_column": 149
                },
                {
                  "X": 6.996895912986284,
                  "Y": 4.9854647704176,
                  "_deepnote_index_column": 150
                },
                {
                  "X": 5.284849737684815,
                  "Y": -8.180375561491804,
                  "_deepnote_index_column": 151
                },
                {
                  "X": 4.907111580671904,
                  "Y": 10.016550263610917,
                  "_deepnote_index_column": 152
                },
                {
                  "X": 5.364460882619262,
                  "Y": 9.639606306293835,
                  "_deepnote_index_column": 153
                },
                {
                  "X": 6.441172367908867,
                  "Y": 8.290733437254367,
                  "_deepnote_index_column": 154
                },
                {
                  "X": 5.934647292218787,
                  "Y": 8.020976857776901,
                  "_deepnote_index_column": 155
                },
                {
                  "X": 7.15363313286681,
                  "Y": 11.892215533613884,
                  "_deepnote_index_column": 156
                },
                {
                  "X": 4.324341710021361,
                  "Y": -7.1217043889750045,
                  "_deepnote_index_column": 157
                },
                {
                  "X": 5.073657257323611,
                  "Y": 4.183644966969451,
                  "_deepnote_index_column": 158
                },
                {
                  "X": 4.839615844121191,
                  "Y": -8.145262844084938,
                  "_deepnote_index_column": 159
                },
                {
                  "X": 5.148451130631211,
                  "Y": -9.970923777737628,
                  "_deepnote_index_column": 160
                },
                {
                  "X": 5.670312449121908,
                  "Y": 10.753295190107924,
                  "_deepnote_index_column": 161
                },
                {
                  "X": 7.001599155203056,
                  "Y": 2.4725884212282154,
                  "_deepnote_index_column": 162
                },
                {
                  "X": 4.256875343182126,
                  "Y": 8.746267046107953,
                  "_deepnote_index_column": 163
                },
                {
                  "X": 6.510127670441572,
                  "Y": 4.638224337898393,
                  "_deepnote_index_column": 164
                },
                {
                  "X": 4.749881428107516,
                  "Y": -8.315144133825338,
                  "_deepnote_index_column": 165
                },
                {
                  "X": 4.43366716103758,
                  "Y": -7.184489609728683,
                  "_deepnote_index_column": 166
                },
                {
                  "X": 5.462446892800749,
                  "Y": 8.036485718420634,
                  "_deepnote_index_column": 167
                },
                {
                  "X": 8.147796969953378,
                  "Y": 4.530642130131375,
                  "_deepnote_index_column": 168
                },
                {
                  "X": 5.030082528840302,
                  "Y": 9.36180668377616,
                  "_deepnote_index_column": 169
                },
                {
                  "X": 7.388198931009732,
                  "Y": 4.566557518177955,
                  "_deepnote_index_column": 170
                },
                {
                  "X": 6.153396916687753,
                  "Y": -6.983442826485657,
                  "_deepnote_index_column": 171
                },
                {
                  "X": 7.72989492565139,
                  "Y": 9.96505732932992,
                  "_deepnote_index_column": 172
                },
                {
                  "X": 7.294037330265687,
                  "Y": 4.102545893017421,
                  "_deepnote_index_column": 173
                },
                {
                  "X": 5.827827070422861,
                  "Y": 3.679961957748188,
                  "_deepnote_index_column": 174
                },
                {
                  "X": 2.6413752610501517,
                  "Y": -8.414350238801974,
                  "_deepnote_index_column": 175
                },
                {
                  "X": 5.035420087703936,
                  "Y": 10.522527501616102,
                  "_deepnote_index_column": 176
                },
                {
                  "X": 7.674430932501157,
                  "Y": 3.9484963283956063,
                  "_deepnote_index_column": 177
                },
                {
                  "X": 7.833607473532522,
                  "Y": 2.920069411642912,
                  "_deepnote_index_column": 178
                },
                {
                  "X": 5.889193216934244,
                  "Y": 11.159881365920445,
                  "_deepnote_index_column": 179
                },
                {
                  "X": 5.088969243877431,
                  "Y": 4.314735499238329,
                  "_deepnote_index_column": 180
                },
                {
                  "X": 6.56357268133851,
                  "Y": 3.455947261341941,
                  "_deepnote_index_column": 181
                },
                {
                  "X": 5.290920209347691,
                  "Y": 3.449660409795912,
                  "_deepnote_index_column": 182
                },
                {
                  "X": 4.855299463676286,
                  "Y": 10.301589001705937,
                  "_deepnote_index_column": 183
                },
                {
                  "X": 5.671783371761831,
                  "Y": 10.607209298239493,
                  "_deepnote_index_column": 184
                },
                {
                  "X": 4.225824601538692,
                  "Y": -8.093035713765016,
                  "_deepnote_index_column": 185
                },
                {
                  "X": 5.868566315912404,
                  "Y": 2.537731984765629,
                  "_deepnote_index_column": 186
                },
                {
                  "X": 5.823004585743314,
                  "Y": 2.470784765859184,
                  "_deepnote_index_column": 187
                },
                {
                  "X": 6.368540603169638,
                  "Y": 8.34607841050552,
                  "_deepnote_index_column": 188
                },
                {
                  "X": 4.8936125602473926,
                  "Y": 10.483740565482632,
                  "_deepnote_index_column": 189
                },
                {
                  "X": 7.073580500132847,
                  "Y": 8.362129578450393,
                  "_deepnote_index_column": 190
                },
                {
                  "X": 6.255435899900564,
                  "Y": 6.181516445830924,
                  "_deepnote_index_column": 191
                },
                {
                  "X": 5.456836230595696,
                  "Y": 8.700103839731419,
                  "_deepnote_index_column": 192
                },
                {
                  "X": 4.287781624333141,
                  "Y": -8.389349468995716,
                  "_deepnote_index_column": 193
                },
                {
                  "X": 4.934826855754058,
                  "Y": -10.68222221025418,
                  "_deepnote_index_column": 194
                },
                {
                  "X": 7.493854370238244,
                  "Y": 2.8679780456374107,
                  "_deepnote_index_column": 195
                },
                {
                  "X": 5.334408139643804,
                  "Y": -8.177585497717105,
                  "_deepnote_index_column": 196
                },
                {
                  "X": 6.578729764350067,
                  "Y": 3.97241825986805,
                  "_deepnote_index_column": 197
                },
                {
                  "X": 5.920725526637598,
                  "Y": -9.043431009612233,
                  "_deepnote_index_column": 198
                },
                {
                  "X": 9.16085726217318,
                  "Y": 8.807258629151487,
                  "_deepnote_index_column": 199
                },
                {
                  "X": 8.408203578998524,
                  "Y": 5.667342139187207,
                  "_deepnote_index_column": 200
                },
                {
                  "X": 6.866151383431943,
                  "Y": 0.7587900006310639,
                  "_deepnote_index_column": 201
                },
                {
                  "X": 7.712264799687758,
                  "Y": -7.981261634641591,
                  "_deepnote_index_column": 202
                },
                {
                  "X": 7.079505219393104,
                  "Y": 6.04265038919402,
                  "_deepnote_index_column": 203
                },
                {
                  "X": 5.475766859293388,
                  "Y": 3.731113050194608,
                  "_deepnote_index_column": 204
                },
                {
                  "X": 4.681667778014931,
                  "Y": -9.3707979087059,
                  "_deepnote_index_column": 205
                },
                {
                  "X": 4.639685963659194,
                  "Y": 9.887662021215847,
                  "_deepnote_index_column": 206
                },
                {
                  "X": 5.328468245935094,
                  "Y": 2.075363820571537,
                  "_deepnote_index_column": 207
                },
                {
                  "X": 4.136259945010618,
                  "Y": -7.748994337521952,
                  "_deepnote_index_column": 208
                },
                {
                  "X": 6.43255691706372,
                  "Y": 3.6309307572398777,
                  "_deepnote_index_column": 209
                },
                {
                  "X": 4.341929311984615,
                  "Y": -8.474319876345193,
                  "_deepnote_index_column": 210
                },
                {
                  "X": 1.9135929701884589,
                  "Y": -7.725598132348796,
                  "_deepnote_index_column": 211
                },
                {
                  "X": 5.8765033725917,
                  "Y": 3.924169378778657,
                  "_deepnote_index_column": 212
                },
                {
                  "X": 4.152414383375662,
                  "Y": 8.073719348585584,
                  "_deepnote_index_column": 213
                },
                {
                  "X": 6.937088975730159,
                  "Y": 8.129568583985181,
                  "_deepnote_index_column": 214
                },
                {
                  "X": 6.28202789613289,
                  "Y": 2.1828928193749384,
                  "_deepnote_index_column": 215
                },
                {
                  "X": 6.671396637727309,
                  "Y": 2.684323188165441,
                  "_deepnote_index_column": 216
                },
                {
                  "X": 4.352858125909579,
                  "Y": 10.23643780935418,
                  "_deepnote_index_column": 217
                },
                {
                  "X": 6.1029495642937786,
                  "Y": 3.1007926005041706,
                  "_deepnote_index_column": 218
                },
                {
                  "X": 6.646330516896065,
                  "Y": 2.299040212829582,
                  "_deepnote_index_column": 219
                },
                {
                  "X": 5.823383268558174,
                  "Y": -8.564972046517015,
                  "_deepnote_index_column": 220
                },
                {
                  "X": 4.865068762154733,
                  "Y": 11.511954399467816,
                  "_deepnote_index_column": 221
                },
                {
                  "X": 5.448432958974953,
                  "Y": -6.671772515275398,
                  "_deepnote_index_column": 222
                },
                {
                  "X": 6.786750858975946,
                  "Y": 10.089269885792458,
                  "_deepnote_index_column": 223
                },
                {
                  "X": 6.975023510139056,
                  "Y": 4.344131472507088,
                  "_deepnote_index_column": 224
                },
                {
                  "X": 5.792844371064192,
                  "Y": -8.341711698294617,
                  "_deepnote_index_column": 225
                },
                {
                  "X": 4.827240786591315,
                  "Y": 9.193474789760137,
                  "_deepnote_index_column": 226
                },
                {
                  "X": 7.1735770074886265,
                  "Y": 2.5627907641168197,
                  "_deepnote_index_column": 227
                },
                {
                  "X": 5.635719317365906,
                  "Y": 3.900092829864583,
                  "_deepnote_index_column": 228
                },
                {
                  "X": 6.76614059279272,
                  "Y": -6.794950348215522,
                  "_deepnote_index_column": 229
                },
                {
                  "X": 4.8270788800006725,
                  "Y": -8.078336000535838,
                  "_deepnote_index_column": 230
                },
                {
                  "X": 6.714575729677003,
                  "Y": 8.390338160217054,
                  "_deepnote_index_column": 231
                },
                {
                  "X": 5.781319005219516,
                  "Y": 10.084314836594055,
                  "_deepnote_index_column": 232
                },
                {
                  "X": 5.545223348282735,
                  "Y": 10.497944899751566,
                  "_deepnote_index_column": 233
                },
                {
                  "X": 5.695861655252831,
                  "Y": -9.328245275728497,
                  "_deepnote_index_column": 234
                },
                {
                  "X": 5.447285093311908,
                  "Y": 11.11633272591537,
                  "_deepnote_index_column": 235
                },
                {
                  "X": 6.864446794261674,
                  "Y": 2.7389111609488284,
                  "_deepnote_index_column": 236
                },
                {
                  "X": 4.920020214755413,
                  "Y": -8.258874244135905,
                  "_deepnote_index_column": 237
                },
                {
                  "X": 7.458233259016504,
                  "Y": 1.7908656185613112,
                  "_deepnote_index_column": 238
                },
                {
                  "X": 6.589285063354186,
                  "Y": 9.243390377813034,
                  "_deepnote_index_column": 239
                },
                {
                  "X": 4.579232835432453,
                  "Y": 5.026488367663204,
                  "_deepnote_index_column": 240
                },
                {
                  "X": 5.605101808796795,
                  "Y": 9.644835797141118,
                  "_deepnote_index_column": 241
                },
                {
                  "X": 5.143670107323184,
                  "Y": 4.940392708349432,
                  "_deepnote_index_column": 242
                },
                {
                  "X": 6.642049075276029,
                  "Y": 4.5326013212594045,
                  "_deepnote_index_column": 243
                },
                {
                  "X": 4.588527276055764,
                  "Y": -8.991310295321922,
                  "_deepnote_index_column": 244
                },
                {
                  "X": 6.680990115815594,
                  "Y": 9.321677989590675,
                  "_deepnote_index_column": 245
                },
                {
                  "X": 7.110280036848712,
                  "Y": 10.290626521188877,
                  "_deepnote_index_column": 246
                },
                {
                  "X": 6.129872544798356,
                  "Y": 4.142252127079338,
                  "_deepnote_index_column": 247
                },
                {
                  "X": 5.078132678665662,
                  "Y": 9.098131288813466,
                  "_deepnote_index_column": 248
                },
                {
                  "X": 4.641615099878443,
                  "Y": 9.062725935871322,
                  "_deepnote_index_column": 249
                }
              ],
              "rows_bottom": [
                {
                  "X": 5.482472385762076,
                  "Y": 3.60901567000488,
                  "_deepnote_index_column": 750
                },
                {
                  "X": 6.187124072878048,
                  "Y": -8.313140863810428,
                  "_deepnote_index_column": 751
                },
                {
                  "X": 5.451531785453334,
                  "Y": -7.328247397282942,
                  "_deepnote_index_column": 752
                },
                {
                  "X": 5.667490300572674,
                  "Y": 7.903572768481277,
                  "_deepnote_index_column": 753
                },
                {
                  "X": 5.464277271764418,
                  "Y": -8.028450409572645,
                  "_deepnote_index_column": 754
                },
                {
                  "X": 7.411794860628065,
                  "Y": -6.22772388735709,
                  "_deepnote_index_column": 755
                },
                {
                  "X": 4.387892399158499,
                  "Y": -7.975895068218521,
                  "_deepnote_index_column": 756
                },
                {
                  "X": 5.662936932942559,
                  "Y": 8.542472128863956,
                  "_deepnote_index_column": 757
                },
                {
                  "X": 5.1429676335475625,
                  "Y": -7.979348264648396,
                  "_deepnote_index_column": 758
                },
                {
                  "X": 6.8245490834526,
                  "Y": 9.623887507548025,
                  "_deepnote_index_column": 759
                },
                {
                  "X": 6.425822944191878,
                  "Y": 5.5295377818917775,
                  "_deepnote_index_column": 760
                },
                {
                  "X": 7.1048762731442165,
                  "Y": 2.595127839179176,
                  "_deepnote_index_column": 761
                },
                {
                  "X": 5.601148329498336,
                  "Y": 2.8012327614734023,
                  "_deepnote_index_column": 762
                },
                {
                  "X": 5.144339907201379,
                  "Y": 10.081106175746507,
                  "_deepnote_index_column": 763
                },
                {
                  "X": 7.195461138979064,
                  "Y": 2.728558244305266,
                  "_deepnote_index_column": 764
                },
                {
                  "X": 4.009991520604199,
                  "Y": -7.556194687062379,
                  "_deepnote_index_column": 765
                },
                {
                  "X": 6.20812559933297,
                  "Y": -9.047175224201156,
                  "_deepnote_index_column": 766
                },
                {
                  "X": 5.9764335916667495,
                  "Y": 10.248095470636809,
                  "_deepnote_index_column": 767
                },
                {
                  "X": 6.064851115071799,
                  "Y": 10.958225249742362,
                  "_deepnote_index_column": 768
                },
                {
                  "X": 5.362982274270588,
                  "Y": -9.289137796486738,
                  "_deepnote_index_column": 769
                },
                {
                  "X": 4.46997829698838,
                  "Y": -9.47739956095684,
                  "_deepnote_index_column": 770
                },
                {
                  "X": 4.639521934267826,
                  "Y": 9.561084513065085,
                  "_deepnote_index_column": 771
                },
                {
                  "X": 4.753445012966843,
                  "Y": 2.928940718443195,
                  "_deepnote_index_column": 772
                },
                {
                  "X": 6.098941693634679,
                  "Y": 8.582302387334376,
                  "_deepnote_index_column": 773
                },
                {
                  "X": 6.668813292579194,
                  "Y": 1.4195284053259196,
                  "_deepnote_index_column": 774
                },
                {
                  "X": 5.914276194604757,
                  "Y": 1.811279375313036,
                  "_deepnote_index_column": 775
                },
                {
                  "X": 3.5501586813732064,
                  "Y": 9.583689393372987,
                  "_deepnote_index_column": 776
                },
                {
                  "X": 7.659588752009127,
                  "Y": 2.4403965579658458,
                  "_deepnote_index_column": 777
                },
                {
                  "X": 4.436786418434172,
                  "Y": -8.389828111772252,
                  "_deepnote_index_column": 778
                },
                {
                  "X": 4.103283151171768,
                  "Y": 8.830642975605176,
                  "_deepnote_index_column": 779
                },
                {
                  "X": 6.586693690518166,
                  "Y": 10.106672592038285,
                  "_deepnote_index_column": 780
                },
                {
                  "X": 6.263413425855045,
                  "Y": 8.779134241129341,
                  "_deepnote_index_column": 781
                },
                {
                  "X": 5.526864659665019,
                  "Y": -8.23385850715552,
                  "_deepnote_index_column": 782
                },
                {
                  "X": 3.71527778682507,
                  "Y": -8.108278841163825,
                  "_deepnote_index_column": 783
                },
                {
                  "X": 5.352564352495268,
                  "Y": -7.62847730058491,
                  "_deepnote_index_column": 784
                },
                {
                  "X": 4.92986267898836,
                  "Y": -6.978226917809655,
                  "_deepnote_index_column": 785
                },
                {
                  "X": 5.810571369682292,
                  "Y": -8.510948849793916,
                  "_deepnote_index_column": 786
                },
                {
                  "X": 5.73457969782777,
                  "Y": -11.305421631058293,
                  "_deepnote_index_column": 787
                },
                {
                  "X": 5.028706114015134,
                  "Y": 9.729219288644472,
                  "_deepnote_index_column": 788
                },
                {
                  "X": 5.816283987189748,
                  "Y": 3.79410869304604,
                  "_deepnote_index_column": 789
                },
                {
                  "X": 6.249066905325516,
                  "Y": 3.945934045022744,
                  "_deepnote_index_column": 790
                },
                {
                  "X": 7.513682649201749,
                  "Y": 3.151070195657687,
                  "_deepnote_index_column": 791
                },
                {
                  "X": 5.2144089391812045,
                  "Y": -8.76755995817569,
                  "_deepnote_index_column": 792
                },
                {
                  "X": 4.285879045170184,
                  "Y": -8.63762588906299,
                  "_deepnote_index_column": 793
                },
                {
                  "X": 7.201656554194026,
                  "Y": 2.1558702156493066,
                  "_deepnote_index_column": 794
                },
                {
                  "X": 6.109245903771828,
                  "Y": 3.1670757213580405,
                  "_deepnote_index_column": 795
                },
                {
                  "X": 6.007156154048689,
                  "Y": -8.267207526152518,
                  "_deepnote_index_column": 796
                },
                {
                  "X": 5.030360814058088,
                  "Y": -8.873615450419518,
                  "_deepnote_index_column": 797
                },
                {
                  "X": 4.28132171670323,
                  "Y": -8.202695239783667,
                  "_deepnote_index_column": 798
                },
                {
                  "X": 5.7501293466915415,
                  "Y": -6.374809082859658,
                  "_deepnote_index_column": 799
                },
                {
                  "X": 4.499920222959035,
                  "Y": -6.7197811906153255,
                  "_deepnote_index_column": 800
                },
                {
                  "X": 5.364265665912559,
                  "Y": 4.092046129442041,
                  "_deepnote_index_column": 801
                },
                {
                  "X": 6.094601068855578,
                  "Y": 2.487190798304148,
                  "_deepnote_index_column": 802
                },
                {
                  "X": 5.052179209642457,
                  "Y": 10.466928588481895,
                  "_deepnote_index_column": 803
                },
                {
                  "X": 5.643311235252727,
                  "Y": 9.590100680388831,
                  "_deepnote_index_column": 804
                },
                {
                  "X": 7.46116339448217,
                  "Y": 4.033850997857678,
                  "_deepnote_index_column": 805
                },
                {
                  "X": 5.854927988893063,
                  "Y": 8.276211233339827,
                  "_deepnote_index_column": 806
                },
                {
                  "X": 7.04000573789536,
                  "Y": 0.6236216619806627,
                  "_deepnote_index_column": 807
                },
                {
                  "X": 4.4369920188023215,
                  "Y": 3.1924207797190176,
                  "_deepnote_index_column": 808
                },
                {
                  "X": 6.692374157717901,
                  "Y": 4.112369367204911,
                  "_deepnote_index_column": 809
                },
                {
                  "X": 6.111331835802096,
                  "Y": 9.562551417013973,
                  "_deepnote_index_column": 810
                },
                {
                  "X": 4.365248326303368,
                  "Y": 3.849839279921977,
                  "_deepnote_index_column": 811
                },
                {
                  "X": 5.912524316006772,
                  "Y": 4.296791822057581,
                  "_deepnote_index_column": 812
                },
                {
                  "X": 3.906829382280408,
                  "Y": 9.591131352826034,
                  "_deepnote_index_column": 813
                },
                {
                  "X": 3.4827503462486487,
                  "Y": 8.093526259059706,
                  "_deepnote_index_column": 814
                },
                {
                  "X": 4.762204074901764,
                  "Y": -9.917500782695129,
                  "_deepnote_index_column": 815
                },
                {
                  "X": 5.149198788449771,
                  "Y": 10.397802192338354,
                  "_deepnote_index_column": 816
                },
                {
                  "X": 4.098632260579693,
                  "Y": 11.627056303474893,
                  "_deepnote_index_column": 817
                },
                {
                  "X": 5.482874787630002,
                  "Y": 9.230692711899392,
                  "_deepnote_index_column": 818
                },
                {
                  "X": 4.667387226315651,
                  "Y": 9.345952943137757,
                  "_deepnote_index_column": 819
                },
                {
                  "X": 4.71018807644239,
                  "Y": -8.568242680048181,
                  "_deepnote_index_column": 820
                },
                {
                  "X": 3.230629327256381,
                  "Y": -9.830390276216644,
                  "_deepnote_index_column": 821
                },
                {
                  "X": 5.139925573430144,
                  "Y": 8.738691351467782,
                  "_deepnote_index_column": 822
                },
                {
                  "X": 4.899263225320174,
                  "Y": -8.21526159046944,
                  "_deepnote_index_column": 823
                },
                {
                  "X": 4.583293712768257,
                  "Y": -7.210563901948505,
                  "_deepnote_index_column": 824
                },
                {
                  "X": 6.301529475612625,
                  "Y": 9.470032525351284,
                  "_deepnote_index_column": 825
                },
                {
                  "X": 4.780700335000554,
                  "Y": -8.312320664225867,
                  "_deepnote_index_column": 826
                },
                {
                  "X": 4.834741796199384,
                  "Y": 8.244796473255402,
                  "_deepnote_index_column": 827
                },
                {
                  "X": 5.364996220844921,
                  "Y": 10.863723949498322,
                  "_deepnote_index_column": 828
                },
                {
                  "X": 6.213523804941436,
                  "Y": -5.756687353230964,
                  "_deepnote_index_column": 829
                },
                {
                  "X": 6.381689864821082,
                  "Y": 3.5849868766888378,
                  "_deepnote_index_column": 830
                },
                {
                  "X": 7.450232503752681,
                  "Y": 6.943042767766419,
                  "_deepnote_index_column": 831
                },
                {
                  "X": 6.046858512450847,
                  "Y": 11.395122491436355,
                  "_deepnote_index_column": 832
                },
                {
                  "X": 4.405456571578773,
                  "Y": 11.163383508791313,
                  "_deepnote_index_column": 833
                },
                {
                  "X": 4.899153350386031,
                  "Y": -5.404487418714917,
                  "_deepnote_index_column": 834
                },
                {
                  "X": 5.546236039590007,
                  "Y": -7.385007240180545,
                  "_deepnote_index_column": 835
                },
                {
                  "X": 8.405828995590412,
                  "Y": 11.519746585416971,
                  "_deepnote_index_column": 836
                },
                {
                  "X": 6.004474869351318,
                  "Y": 2.672768403039491,
                  "_deepnote_index_column": 837
                },
                {
                  "X": 4.20895790216366,
                  "Y": -7.807433814725771,
                  "_deepnote_index_column": 838
                },
                {
                  "X": 6.199984587882611,
                  "Y": -6.699955263896207,
                  "_deepnote_index_column": 839
                },
                {
                  "X": 4.706776548062587,
                  "Y": 9.38006892964472,
                  "_deepnote_index_column": 840
                },
                {
                  "X": 6.6137012515617295,
                  "Y": 2.03272276042844,
                  "_deepnote_index_column": 841
                },
                {
                  "X": 5.71832945680129,
                  "Y": 4.279164865631056,
                  "_deepnote_index_column": 842
                },
                {
                  "X": 4.023973649347971,
                  "Y": -8.957388420893649,
                  "_deepnote_index_column": 843
                },
                {
                  "X": 4.92221623086426,
                  "Y": 9.832140503259309,
                  "_deepnote_index_column": 844
                },
                {
                  "X": 5.276393271524507,
                  "Y": -9.103541150392424,
                  "_deepnote_index_column": 845
                },
                {
                  "X": 5.392088043437235,
                  "Y": 9.192871226466664,
                  "_deepnote_index_column": 846
                },
                {
                  "X": 5.293709203236842,
                  "Y": 3.573708249122185,
                  "_deepnote_index_column": 847
                },
                {
                  "X": 4.171948539469606,
                  "Y": 4.977488837911259,
                  "_deepnote_index_column": 848
                },
                {
                  "X": 5.989263503457408,
                  "Y": 4.787833608065796,
                  "_deepnote_index_column": 849
                },
                {
                  "X": 5.953911418165594,
                  "Y": -8.679706997871147,
                  "_deepnote_index_column": 850
                },
                {
                  "X": 5.186567298697407,
                  "Y": 7.953139950003759,
                  "_deepnote_index_column": 851
                },
                {
                  "X": 6.844499522440477,
                  "Y": 4.702554184487005,
                  "_deepnote_index_column": 852
                },
                {
                  "X": 6.744104647414678,
                  "Y": 3.8727106145535855,
                  "_deepnote_index_column": 853
                },
                {
                  "X": 5.143772970329051,
                  "Y": 8.751987564668415,
                  "_deepnote_index_column": 854
                },
                {
                  "X": 4.921087541302885,
                  "Y": 10.289641838708002,
                  "_deepnote_index_column": 855
                },
                {
                  "X": 6.340983463603057,
                  "Y": 4.095706193776067,
                  "_deepnote_index_column": 856
                },
                {
                  "X": 5.550449845720096,
                  "Y": -9.381257819548637,
                  "_deepnote_index_column": 857
                },
                {
                  "X": 6.949409916806302,
                  "Y": 4.99227238503496,
                  "_deepnote_index_column": 858
                },
                {
                  "X": 7.861585608065442,
                  "Y": -7.912290304583798,
                  "_deepnote_index_column": 859
                },
                {
                  "X": 7.163702709939882,
                  "Y": -7.446218708269301,
                  "_deepnote_index_column": 860
                },
                {
                  "X": 6.600921921079888,
                  "Y": 3.9604270392397,
                  "_deepnote_index_column": 861
                },
                {
                  "X": 2.844547232892247,
                  "Y": 9.088502656301769,
                  "_deepnote_index_column": 862
                },
                {
                  "X": 3.602330276746238,
                  "Y": 3.3613695625494797,
                  "_deepnote_index_column": 863
                },
                {
                  "X": 4.598134828225058,
                  "Y": 3.3192548506553483,
                  "_deepnote_index_column": 864
                },
                {
                  "X": 5.477575699430993,
                  "Y": 2.7187652250696344,
                  "_deepnote_index_column": 865
                },
                {
                  "X": 5.6805015184530685,
                  "Y": 9.779896654396936,
                  "_deepnote_index_column": 866
                },
                {
                  "X": 5.995976728019343,
                  "Y": 10.12522112455763,
                  "_deepnote_index_column": 867
                },
                {
                  "X": 5.15371171680098,
                  "Y": 11.58585289829765,
                  "_deepnote_index_column": 868
                },
                {
                  "X": 5.111199088006638,
                  "Y": -7.793378375761273,
                  "_deepnote_index_column": 869
                },
                {
                  "X": 4.39060046498124,
                  "Y": -8.399143673959015,
                  "_deepnote_index_column": 870
                },
                {
                  "X": 4.898070199850251,
                  "Y": 4.340025552610011,
                  "_deepnote_index_column": 871
                },
                {
                  "X": 5.198977298954871,
                  "Y": -8.684485455659209,
                  "_deepnote_index_column": 872
                },
                {
                  "X": 6.076384858023903,
                  "Y": 7.863245490228495,
                  "_deepnote_index_column": 873
                },
                {
                  "X": 4.713078302145592,
                  "Y": 9.440226966860722,
                  "_deepnote_index_column": 874
                },
                {
                  "X": 6.904640058852782,
                  "Y": 4.545108483635231,
                  "_deepnote_index_column": 875
                },
                {
                  "X": 6.47455749024998,
                  "Y": -8.175833363488831,
                  "_deepnote_index_column": 876
                },
                {
                  "X": 3.974743773971854,
                  "Y": 5.045162664028471,
                  "_deepnote_index_column": 877
                },
                {
                  "X": 6.411659738408732,
                  "Y": -7.250747037985873,
                  "_deepnote_index_column": 878
                },
                {
                  "X": 5.472262389094289,
                  "Y": 8.852205497461387,
                  "_deepnote_index_column": 879
                },
                {
                  "X": 3.8595373269858544,
                  "Y": -7.118606937350412,
                  "_deepnote_index_column": 880
                },
                {
                  "X": 5.446868798899877,
                  "Y": 7.407344466324845,
                  "_deepnote_index_column": 881
                },
                {
                  "X": 5.533341243753519,
                  "Y": 4.19232188604955,
                  "_deepnote_index_column": 882
                },
                {
                  "X": 5.217478974703003,
                  "Y": -7.090963776032092,
                  "_deepnote_index_column": 883
                },
                {
                  "X": 4.74037483808876,
                  "Y": -7.406264215860177,
                  "_deepnote_index_column": 884
                },
                {
                  "X": 4.453113598051543,
                  "Y": 9.111424160848664,
                  "_deepnote_index_column": 885
                },
                {
                  "X": 5.439045830402476,
                  "Y": -7.014519861008763,
                  "_deepnote_index_column": 886
                },
                {
                  "X": 5.114588610965297,
                  "Y": 3.6892463991163256,
                  "_deepnote_index_column": 887
                },
                {
                  "X": 5.457478608288045,
                  "Y": -7.916660552412825,
                  "_deepnote_index_column": 888
                },
                {
                  "X": 5.722452582413705,
                  "Y": 10.65067894113421,
                  "_deepnote_index_column": 889
                },
                {
                  "X": 5.394164881121748,
                  "Y": 2.7955929534094865,
                  "_deepnote_index_column": 890
                },
                {
                  "X": 5.106166115088165,
                  "Y": -7.659956853788514,
                  "_deepnote_index_column": 891
                },
                {
                  "X": 5.9878613806215135,
                  "Y": 9.603566946606142,
                  "_deepnote_index_column": 892
                },
                {
                  "X": 5.381966464072049,
                  "Y": -8.839234183017147,
                  "_deepnote_index_column": 893
                },
                {
                  "X": 4.564150388807031,
                  "Y": 10.4953946276782,
                  "_deepnote_index_column": 894
                },
                {
                  "X": 6.083235303121619,
                  "Y": -9.071160764671466,
                  "_deepnote_index_column": 895
                },
                {
                  "X": 5.038130699398811,
                  "Y": -7.6803271321271955,
                  "_deepnote_index_column": 896
                },
                {
                  "X": 5.308120600762841,
                  "Y": -7.1637393490826575,
                  "_deepnote_index_column": 897
                },
                {
                  "X": 6.005253523855318,
                  "Y": 2.4562506580842696,
                  "_deepnote_index_column": 898
                },
                {
                  "X": 5.302311824493201,
                  "Y": -8.079432158891578,
                  "_deepnote_index_column": 899
                },
                {
                  "X": 6.350633768980986,
                  "Y": 8.486253912748488,
                  "_deepnote_index_column": 900
                },
                {
                  "X": 4.028701297795674,
                  "Y": -10.225315765805286,
                  "_deepnote_index_column": 901
                },
                {
                  "X": 5.095763324056564,
                  "Y": 8.575308457176233,
                  "_deepnote_index_column": 902
                },
                {
                  "X": 6.331167121476112,
                  "Y": 9.839884968954228,
                  "_deepnote_index_column": 903
                },
                {
                  "X": 5.466060988669327,
                  "Y": -7.784442800851875,
                  "_deepnote_index_column": 904
                },
                {
                  "X": 6.74314179653269,
                  "Y": 9.988253925712227,
                  "_deepnote_index_column": 905
                },
                {
                  "X": 5.240435757838605,
                  "Y": -9.413922415335628,
                  "_deepnote_index_column": 906
                },
                {
                  "X": 7.966018248239549,
                  "Y": 2.9840313948947808,
                  "_deepnote_index_column": 907
                },
                {
                  "X": 5.0940248925533576,
                  "Y": -8.53496535318852,
                  "_deepnote_index_column": 908
                },
                {
                  "X": 5.418632078809311,
                  "Y": -8.002158549614508,
                  "_deepnote_index_column": 909
                },
                {
                  "X": 5.005973288824329,
                  "Y": 10.176015784315403,
                  "_deepnote_index_column": 910
                },
                {
                  "X": 5.316824739105567,
                  "Y": 10.222742745404776,
                  "_deepnote_index_column": 911
                },
                {
                  "X": 3.9857139428226023,
                  "Y": -7.59405193569293,
                  "_deepnote_index_column": 912
                },
                {
                  "X": 5.837270706244352,
                  "Y": -5.707691603513561,
                  "_deepnote_index_column": 913
                },
                {
                  "X": 5.035237128712451,
                  "Y": -9.831480876779018,
                  "_deepnote_index_column": 914
                },
                {
                  "X": 4.0187075127657845,
                  "Y": -8.470180024876745,
                  "_deepnote_index_column": 915
                },
                {
                  "X": 7.359803539342344,
                  "Y": 2.949708925177417,
                  "_deepnote_index_column": 916
                },
                {
                  "X": 6.908912303846222,
                  "Y": -10.210772964836847,
                  "_deepnote_index_column": 917
                },
                {
                  "X": 4.762388036032302,
                  "Y": -8.382412174698494,
                  "_deepnote_index_column": 918
                },
                {
                  "X": 5.601630565018966,
                  "Y": -8.062326060514492,
                  "_deepnote_index_column": 919
                },
                {
                  "X": 4.343545666056114,
                  "Y": 2.225643555654212,
                  "_deepnote_index_column": 920
                },
                {
                  "X": 6.476297290682494,
                  "Y": 4.426914259847207,
                  "_deepnote_index_column": 921
                },
                {
                  "X": 5.174158667654325,
                  "Y": -8.757715876176398,
                  "_deepnote_index_column": 922
                },
                {
                  "X": 6.616552731665129,
                  "Y": 2.8609587493411204,
                  "_deepnote_index_column": 923
                },
                {
                  "X": 6.012435592973733,
                  "Y": 9.871015811552232,
                  "_deepnote_index_column": 924
                },
                {
                  "X": 6.924792263027342,
                  "Y": 5.401604515135311,
                  "_deepnote_index_column": 925
                },
                {
                  "X": 3.831301978353882,
                  "Y": -7.072001533709944,
                  "_deepnote_index_column": 926
                },
                {
                  "X": 5.875495678420989,
                  "Y": 11.034175110061682,
                  "_deepnote_index_column": 927
                },
                {
                  "X": 4.323179443893874,
                  "Y": -9.716745935857476,
                  "_deepnote_index_column": 928
                },
                {
                  "X": 6.936095600165429,
                  "Y": 8.801391820970332,
                  "_deepnote_index_column": 929
                },
                {
                  "X": 7.511805567065354,
                  "Y": 4.153587313900424,
                  "_deepnote_index_column": 930
                },
                {
                  "X": 5.002938866787167,
                  "Y": 12.135720436880188,
                  "_deepnote_index_column": 931
                },
                {
                  "X": 4.897521113764564,
                  "Y": 8.613622687801048,
                  "_deepnote_index_column": 932
                },
                {
                  "X": 6.224701840896384,
                  "Y": 9.019677945359478,
                  "_deepnote_index_column": 933
                },
                {
                  "X": 6.4962264670364975,
                  "Y": 9.583738121735728,
                  "_deepnote_index_column": 934
                },
                {
                  "X": 4.796527219463028,
                  "Y": 2.299249762989408,
                  "_deepnote_index_column": 935
                },
                {
                  "X": 4.632405151968707,
                  "Y": 3.2790974893442044,
                  "_deepnote_index_column": 936
                },
                {
                  "X": 5.395709595590539,
                  "Y": -7.706014383798087,
                  "_deepnote_index_column": 937
                },
                {
                  "X": 4.163767162767499,
                  "Y": 9.935965920646144,
                  "_deepnote_index_column": 938
                },
                {
                  "X": 6.381288017976299,
                  "Y": 4.081432641933604,
                  "_deepnote_index_column": 939
                },
                {
                  "X": 4.146117559688765,
                  "Y": -6.917161562392927,
                  "_deepnote_index_column": 940
                },
                {
                  "X": 6.769684090016705,
                  "Y": 3.347755466444565,
                  "_deepnote_index_column": 941
                },
                {
                  "X": 5.157783602551766,
                  "Y": -6.637530114341766,
                  "_deepnote_index_column": 942
                },
                {
                  "X": 4.8471284503943,
                  "Y": -7.870240701694022,
                  "_deepnote_index_column": 943
                },
                {
                  "X": 5.785638483574378,
                  "Y": 1.1365207600838474,
                  "_deepnote_index_column": 944
                },
                {
                  "X": 7.014260998425073,
                  "Y": 3.401516351819098,
                  "_deepnote_index_column": 945
                },
                {
                  "X": 6.566976410903923,
                  "Y": -7.057449467510224,
                  "_deepnote_index_column": 946
                },
                {
                  "X": 5.358953726327688,
                  "Y": -6.969356031393764,
                  "_deepnote_index_column": 947
                },
                {
                  "X": 4.986632396316554,
                  "Y": 4.781790767857837,
                  "_deepnote_index_column": 948
                },
                {
                  "X": 5.34772382223626,
                  "Y": 10.397523954289902,
                  "_deepnote_index_column": 949
                },
                {
                  "X": 5.678376272458931,
                  "Y": 8.256136612773133,
                  "_deepnote_index_column": 950
                },
                {
                  "X": 4.107656696525408,
                  "Y": -7.697720929893285,
                  "_deepnote_index_column": 951
                },
                {
                  "X": 5.835758367955032,
                  "Y": -8.735385164905892,
                  "_deepnote_index_column": 952
                },
                {
                  "X": 6.117229556362546,
                  "Y": 8.00813779898212,
                  "_deepnote_index_column": 953
                },
                {
                  "X": 6.235066797990019,
                  "Y": 3.856808372170189,
                  "_deepnote_index_column": 954
                },
                {
                  "X": 6.481208823162597,
                  "Y": 2.0583941626187467,
                  "_deepnote_index_column": 955
                },
                {
                  "X": 5.871172196077974,
                  "Y": -8.313401214837318,
                  "_deepnote_index_column": 956
                },
                {
                  "X": 2.077956864771416,
                  "Y": -8.440826426884778,
                  "_deepnote_index_column": 957
                },
                {
                  "X": 5.353257481579834,
                  "Y": 3.5841579099034955,
                  "_deepnote_index_column": 958
                },
                {
                  "X": 6.313642584500661,
                  "Y": 4.201447898101234,
                  "_deepnote_index_column": 959
                },
                {
                  "X": 5.148249262965898,
                  "Y": -7.840783961904181,
                  "_deepnote_index_column": 960
                },
                {
                  "X": 4.388044976728806,
                  "Y": -7.471741130780076,
                  "_deepnote_index_column": 961
                },
                {
                  "X": 5.64903539924615,
                  "Y": 10.592985124709475,
                  "_deepnote_index_column": 962
                },
                {
                  "X": 3.636736294981394,
                  "Y": -6.454834407047926,
                  "_deepnote_index_column": 963
                },
                {
                  "X": 6.487646568465599,
                  "Y": 8.447239720347172,
                  "_deepnote_index_column": 964
                },
                {
                  "X": 3.47648520363304,
                  "Y": 11.1489817399579,
                  "_deepnote_index_column": 965
                },
                {
                  "X": 7.485724154096386,
                  "Y": 9.65309420354222,
                  "_deepnote_index_column": 966
                },
                {
                  "X": 6.052050577761298,
                  "Y": 8.229284905836606,
                  "_deepnote_index_column": 967
                },
                {
                  "X": 6.325923928155192,
                  "Y": 1.8038192168848888,
                  "_deepnote_index_column": 968
                },
                {
                  "X": 7.4629588543260015,
                  "Y": 2.25715178259121,
                  "_deepnote_index_column": 969
                },
                {
                  "X": 5.312008396697377,
                  "Y": -9.062168302958751,
                  "_deepnote_index_column": 970
                },
                {
                  "X": 5.376184190592898,
                  "Y": 9.05072820344513,
                  "_deepnote_index_column": 971
                },
                {
                  "X": 4.3278160622688535,
                  "Y": 7.776986990526396,
                  "_deepnote_index_column": 972
                },
                {
                  "X": 4.028713161753314,
                  "Y": 10.260725159998277,
                  "_deepnote_index_column": 973
                },
                {
                  "X": 6.743129097382695,
                  "Y": 4.205032669534508,
                  "_deepnote_index_column": 974
                },
                {
                  "X": 6.459038017039116,
                  "Y": -9.018408904145758,
                  "_deepnote_index_column": 975
                },
                {
                  "X": 4.551269280260254,
                  "Y": 8.934165134639272,
                  "_deepnote_index_column": 976
                },
                {
                  "X": 5.404210226975833,
                  "Y": -7.741625732006789,
                  "_deepnote_index_column": 977
                },
                {
                  "X": 6.529758334529426,
                  "Y": 3.593876635194696,
                  "_deepnote_index_column": 978
                },
                {
                  "X": 2.907015093178653,
                  "Y": -7.735417587497264,
                  "_deepnote_index_column": 979
                },
                {
                  "X": 6.090318885109883,
                  "Y": 11.45174457941561,
                  "_deepnote_index_column": 980
                },
                {
                  "X": 5.5795568626532726,
                  "Y": 3.035539105140792,
                  "_deepnote_index_column": 981
                },
                {
                  "X": 5.2856488753632656,
                  "Y": 10.530811334354366,
                  "_deepnote_index_column": 982
                },
                {
                  "X": 6.151353301127753,
                  "Y": 7.9295743753677455,
                  "_deepnote_index_column": 983
                },
                {
                  "X": 4.92411476885711,
                  "Y": 1.9209866493531464,
                  "_deepnote_index_column": 984
                },
                {
                  "X": 6.153596547073493,
                  "Y": 8.516763611909065,
                  "_deepnote_index_column": 985
                },
                {
                  "X": 3.693719665995767,
                  "Y": -8.787234135890662,
                  "_deepnote_index_column": 986
                },
                {
                  "X": 5.039403850470428,
                  "Y": -7.657877309469477,
                  "_deepnote_index_column": 987
                },
                {
                  "X": 4.844736575235359,
                  "Y": 10.745419454060572,
                  "_deepnote_index_column": 988
                },
                {
                  "X": 3.972645421891249,
                  "Y": -7.332760684907407,
                  "_deepnote_index_column": 989
                },
                {
                  "X": 6.0957273103681295,
                  "Y": 11.693951169688404,
                  "_deepnote_index_column": 990
                },
                {
                  "X": 5.184663503292265,
                  "Y": -8.34182326399732,
                  "_deepnote_index_column": 991
                },
                {
                  "X": 4.522057996272538,
                  "Y": 8.445517843815527,
                  "_deepnote_index_column": 992
                },
                {
                  "X": 5.446405229438576,
                  "Y": 11.044408102031309,
                  "_deepnote_index_column": 993
                },
                {
                  "X": 4.62838280731747,
                  "Y": 9.402309659225306,
                  "_deepnote_index_column": 994
                },
                {
                  "X": 4.963106084793117,
                  "Y": -7.547203850920549,
                  "_deepnote_index_column": 995
                },
                {
                  "X": 6.147832844035795,
                  "Y": -8.74269604153518,
                  "_deepnote_index_column": 996
                },
                {
                  "X": 4.722671716302783,
                  "Y": 9.892130552981444,
                  "_deepnote_index_column": 997
                },
                {
                  "X": 6.333305400362552,
                  "Y": 2.750708140489294,
                  "_deepnote_index_column": 998
                },
                {
                  "X": 7.275561083439352,
                  "Y": 4.521316777903173,
                  "_deepnote_index_column": 999
                }
              ]
            },
            "text/plain": "            X         Y\n0    6.649504  2.223293\n1    5.260232 -7.556045\n2    6.164551  9.245618\n3    5.033345  9.002009\n4    3.674350 -7.836118\n..        ...       ...\n995  4.963106 -7.547204\n996  6.147833 -8.742696\n997  4.722672  9.892131\n998  6.333305  2.750708\n999  7.275561  4.521317\n\n[1000 rows x 2 columns]",
            "text/html": "<div>\n<style scoped>\n    .dataframe tbody tr th:only-of-type {\n        vertical-align: middle;\n    }\n\n    .dataframe tbody tr th {\n        vertical-align: top;\n    }\n\n    .dataframe thead th {\n        text-align: right;\n    }\n</style>\n<table border=\"1\" class=\"dataframe\">\n  <thead>\n    <tr style=\"text-align: right;\">\n      <th></th>\n      <th>X</th>\n      <th>Y</th>\n    </tr>\n  </thead>\n  <tbody>\n    <tr>\n      <th>0</th>\n      <td>6.649504</td>\n      <td>2.223293</td>\n    </tr>\n    <tr>\n      <th>1</th>\n      <td>5.260232</td>\n      <td>-7.556045</td>\n    </tr>\n    <tr>\n      <th>2</th>\n      <td>6.164551</td>\n      <td>9.245618</td>\n    </tr>\n    <tr>\n      <th>3</th>\n      <td>5.033345</td>\n      <td>9.002009</td>\n    </tr>\n    <tr>\n      <th>4</th>\n      <td>3.674350</td>\n      <td>-7.836118</td>\n    </tr>\n    <tr>\n      <th>...</th>\n      <td>...</td>\n      <td>...</td>\n    </tr>\n    <tr>\n      <th>995</th>\n      <td>4.963106</td>\n      <td>-7.547204</td>\n    </tr>\n    <tr>\n      <th>996</th>\n      <td>6.147833</td>\n      <td>-8.742696</td>\n    </tr>\n    <tr>\n      <th>997</th>\n      <td>4.722672</td>\n      <td>9.892131</td>\n    </tr>\n    <tr>\n      <th>998</th>\n      <td>6.333305</td>\n      <td>2.750708</td>\n    </tr>\n    <tr>\n      <th>999</th>\n      <td>7.275561</td>\n      <td>4.521317</td>\n    </tr>\n  </tbody>\n</table>\n<p>1000 rows × 2 columns</p>\n</div>"
          },
          "metadata": {}
        }
      ]
    },
    {
      "cell_type": "code",
      "metadata": {
        "tags": [],
        "deepnote_to_be_reexecuted": false,
        "source_hash": "2a1dffab",
        "execution_millis": 555,
        "cell_id": "00002-cb9bc2e3-7e41-4c20-813b-5c04a9fe1ad1",
        "execution_start": 1619166947095,
        "deepnote_cell_type": "code"
      },
      "source": "plt.scatter(df[\"X\"],df[\"Y\"])",
      "execution_count": 3,
      "outputs": [
        {
          "output_type": "execute_result",
          "execution_count": 3,
          "data": {
            "text/plain": "<matplotlib.collections.PathCollection at 0x7f6e4944f190>"
          },
          "metadata": {}
        },
        {
          "data": {
            "text/plain": "<Figure size 432x288 with 1 Axes>",
            "image/png": "[encoded data removed]"
          },
          "metadata": {
            "needs_background": "light"
          },
          "output_type": "display_data"
        }
      ]
    },
    {
      "cell_type": "code",
      "metadata": {
        "tags": [],
        "deepnote_to_be_reexecuted": false,
        "source_hash": "ed6fb297",
        "execution_millis": 169,
        "cell_id": "00003-aa9107d7-cb87-43df-bff5-d7ce62af5184",
        "execution_start": 1619166947656,
        "deepnote_cell_type": "code"
      },
      "source": "X=df[[\"X\",\"Y\"]]\nk_means = KMeans(init = \"k-means++\", n_clusters = 3, n_init = 8)\nk_means.fit(X)",
      "execution_count": 4,
      "outputs": [
        {
          "output_type": "execute_result",
          "execution_count": 4,
          "data": {
            "text/plain": "KMeans(n_clusters=3, n_init=8)"
          },
          "metadata": {}
        }
      ]
    },
    {
      "cell_type": "code",
      "metadata": {
        "tags": [],
        "deepnote_to_be_reexecuted": false,
        "source_hash": "df6c0c8f",
        "execution_millis": 0,
        "cell_id": "00004-517f78db-7c02-4dcb-9c95-ca9bbade087d",
        "execution_start": 1619166947866,
        "deepnote_cell_type": "code"
      },
      "source": "labels = k_means.labels_",
      "execution_count": 5,
      "outputs": []
    },
    {
      "cell_type": "code",
      "metadata": {
        "tags": [],
        "deepnote_to_be_reexecuted": false,
        "source_hash": "e581a32f",
        "execution_millis": 0,
        "cell_id": "00005-2019db14-72ee-4beb-a797-54a037ae6929",
        "execution_start": 1619166947867,
        "deepnote_cell_type": "code"
      },
      "source": "k_means_cluster_centers = k_means.cluster_centers_\n",
      "execution_count": 6,
      "outputs": []
    },
    {
      "cell_type": "code",
      "metadata": {
        "tags": [],
        "deepnote_to_be_reexecuted": false,
        "source_hash": "1b94602f",
        "execution_millis": 1428,
        "cell_id": "00006-51b06889-dab7-45ee-8ae3-a5dc88f42c05",
        "execution_start": 1619166953545,
        "deepnote_cell_type": "code"
      },
      "source": "f, (ax1, ax2) = plt.subplots(1, 2,figsize=(15,8))\nax1.set_title('K Means')\nax1.scatter(df[\"X\"],df[\"Y\"],c=labels,cmap='autumn')\nax2.set_title(\"Original\")\nax2.scatter(df[\"X\"],df[\"Y\"])\nax1.grid()\nax2.grid()",
      "execution_count": 7,
      "outputs": [
        {
          "data": {
            "text/plain": "<Figure size 1080x576 with 2 Axes>",
            "image/png": "[encoded data removed]"
          },
          "metadata": {
            "needs_background": "light"
          },
          "output_type": "display_data"
        }
      ]
    },
    {
      "cell_type": "code",
      "metadata": {
        "tags": [],
        "deepnote_to_be_reexecuted": false,
        "source_hash": "7d973261",
        "execution_millis": 1,
        "cell_id": "00007-d48f316a-a1ad-47c1-821b-e6cae4af35f6",
        "execution_start": 1619166955003,
        "deepnote_cell_type": "code"
      },
      "source": "df[\"Labels\"]=labels",
      "execution_count": 8,
      "outputs": []
    },
    {
      "cell_type": "code",
      "metadata": {
        "tags": [],
        "deepnote_to_be_reexecuted": false,
        "source_hash": "a5742d33",
        "execution_millis": 564,
        "cell_id": "00008-700c675c-105c-4722-bddb-23e48bec1d72",
        "execution_start": 1619166955004,
        "deepnote_cell_type": "code"
      },
      "source": "plt.scatter(df.loc[df[\"Labels\"]==1][\"X\"],df.loc[df[\"Labels\"]==1][\"Y\"])",
      "execution_count": 9,
      "outputs": [
        {
          "output_type": "execute_result",
          "execution_count": 9,
          "data": {
            "text/plain": "<matplotlib.collections.PathCollection at 0x7f6e485fb550>"
          },
          "metadata": {}
        },
        {
          "data": {
            "text/plain": "<Figure size 432x288 with 1 Axes>",
            "image/png": "[encoded data removed]"
          },
          "metadata": {
            "needs_background": "light"
          },
          "output_type": "display_data"
        }
      ]
    },
    {
      "cell_type": "code",
      "metadata": {
        "tags": [],
        "deepnote_to_be_reexecuted": false,
        "source_hash": "90c8abd1",
        "execution_millis": 14,
        "cell_id": "00009-7fda4f58-497f-4339-846d-edb35a6cb55b",
        "execution_start": 1619166955571,
        "deepnote_cell_type": "code"
      },
      "source": "x_baby=df.loc[df[\"Labels\"]==1][\"X\"].max()",
      "execution_count": 10,
      "outputs": []
    },
    {
      "cell_type": "code",
      "metadata": {
        "tags": [],
        "deepnote_to_be_reexecuted": false,
        "source_hash": "aa6ffe1f",
        "execution_millis": 38,
        "cell_id": "00010-a4286f7d-9a67-4dc5-8f6d-f8c84dc89b93",
        "execution_start": 1619166955590,
        "deepnote_cell_type": "code"
      },
      "source": "y_baby=df.loc[df[\"X\"]==x_baby,\"Y\"]",
      "execution_count": 11,
      "outputs": []
    },
    {
      "cell_type": "code",
      "metadata": {
        "tags": [],
        "deepnote_to_be_reexecuted": false,
        "source_hash": "c7705e37",
        "execution_millis": 567,
        "cell_id": "00011-0e1b9d29-25f6-4327-8dd4-7527211048b5",
        "execution_start": 1619166956883,
        "deepnote_cell_type": "code"
      },
      "source": "plt.scatter(df.loc[df[\"Labels\"]==1][\"X\"],df.loc[df[\"Labels\"]==1][\"Y\"])\nplt.scatter(x_baby,y_baby,s=90, c='red', marker='X')",
      "execution_count": 12,
      "outputs": [
        {
          "output_type": "execute_result",
          "execution_count": 12,
          "data": {
            "text/plain": "<matplotlib.collections.PathCollection at 0x7f6e48837210>"
          },
          "metadata": {}
        },
        {
          "data": {
            "text/plain": "<Figure size 432x288 with 1 Axes>",
            "image/png": "[encoded data removed]"
          },
          "metadata": {
            "needs_background": "light"
          },
          "output_type": "display_data"
        }
      ]
    },
    {
      "cell_type": "code",
      "metadata": {
        "tags": [],
        "deepnote_to_be_reexecuted": false,
        "source_hash": "15969a60",
        "execution_millis": 18,
        "cell_id": "00012-2bf5c748-1716-404c-a404-e42654a33ab4",
        "execution_start": 1619166957453,
        "deepnote_cell_type": "code"
      },
      "source": "print(x_baby)\nprint(y_baby)",
      "execution_count": 13,
      "outputs": [
        {
          "name": "stdout",
          "text": "9.16085726217318\n199    8.807259\nName: Y, dtype: float64\n",
          "output_type": "stream"
        }
      ]
    },
    {
      "cell_type": "code",
      "metadata": {
        "tags": [],
        "deepnote_to_be_reexecuted": false,
        "source_hash": "56641a97",
        "execution_millis": 124,
        "cell_id": "00013-0dd1c6e3-0136-4cc2-bdca-0b3313b61394",
        "execution_start": 1619166959024,
        "deepnote_cell_type": "code"
      },
      "source": "df_new=pd.read_csv(\"/work/planet.csv\")\ndf_new.head()",
      "execution_count": 14,
      "outputs": [
        {
          "output_type": "execute_result",
          "execution_count": 14,
          "data": {
            "application/vnd.deepnote.dataframe.v2+json": {
              "row_count": 5,
              "column_count": 5,
              "columns": [
                {
                  "name": "X",
                  "dtype": "float64",
                  "stats": {
                    "unique_count": 5,
                    "nan_count": 0,
                    "min": "-10.577705871350958",
                    "max": "4.680549005991116",
                    "histogram": [
                      {
                        "bin_start": -10.577705871350958,
                        "bin_end": -9.05188038361675,
                        "count": 1
                      },
                      {
                        "bin_start": -9.05188038361675,
                        "bin_end": -7.526054895882543,
                        "count": 2
                      },
                      {
                        "bin_start": -7.526054895882543,
                        "bin_end": -6.000229408148336,
                        "count": 1
                      },
                      {
                        "bin_start": -6.000229408148336,
                        "bin_end": -4.474403920414128,
                        "count": 0
                      },
                      {
                        "bin_start": -4.474403920414128,
                        "bin_end": -2.94857843267992,
                        "count": 0
                      },
                      {
                        "bin_start": -2.94857843267992,
                        "bin_end": -1.4227529449457137,
                        "count": 0
                      },
                      {
                        "bin_start": -1.4227529449457137,
                        "bin_end": 0.1030725427884942,
                        "count": 0
                      },
                      {
                        "bin_start": 0.1030725427884942,
                        "bin_end": 1.628898030522702,
                        "count": 0
                      },
                      {
                        "bin_start": 1.628898030522702,
                        "bin_end": 3.15472351825691,
                        "count": 0
                      },
                      {
                        "bin_start": 3.15472351825691,
                        "bin_end": 4.680549005991116,
                        "count": 1
                      }
                    ]
                  }
                },
                {
                  "name": "Y",
                  "dtype": "float64",
                  "stats": {
                    "unique_count": 5,
                    "nan_count": 0,
                    "min": "-8.821567115864449",
                    "max": "7.121961798829664",
                    "histogram": [
                      {
                        "bin_start": -8.821567115864449,
                        "bin_end": -7.227214224395038,
                        "count": 1
                      },
                      {
                        "bin_start": -7.227214224395038,
                        "bin_end": -5.632861332925626,
                        "count": 0
                      },
                      {
                        "bin_start": -5.632861332925626,
                        "bin_end": -4.038508441456214,
                        "count": 0
                      },
                      {
                        "bin_start": -4.038508441456214,
                        "bin_end": -2.444155549986803,
                        "count": 0
                      },
                      {
                        "bin_start": -2.444155549986803,
                        "bin_end": -0.8498026585173921,
                        "count": 0
                      },
                      {
                        "bin_start": -0.8498026585173921,
                        "bin_end": 0.7445502329520206,
                        "count": 1
                      },
                      {
                        "bin_start": 0.7445502329520206,
                        "bin_end": 2.3389031244214316,
                        "count": 1
                      },
                      {
                        "bin_start": 2.3389031244214316,
                        "bin_end": 3.9332560158908425,
                        "count": 0
                      },
                      {
                        "bin_start": 3.9332560158908425,
                        "bin_end": 5.5276089073602535,
                        "count": 1
                      },
                      {
                        "bin_start": 5.5276089073602535,
                        "bin_end": 7.121961798829664,
                        "count": 1
                      }
                    ]
                  }
                },
                {
                  "name": "Z",
                  "dtype": "float64",
                  "stats": {
                    "unique_count": 5,
                    "nan_count": 0,
                    "min": "-5.58860803212353",
                    "max": "8.955228964509592",
                    "histogram": [
                      {
                        "bin_start": -5.58860803212353,
                        "bin_end": -4.134224332460218,
                        "count": 1
                      },
                      {
                        "bin_start": -4.134224332460218,
                        "bin_end": -2.679840632796906,
                        "count": 0
                      },
                      {
                        "bin_start": -2.679840632796906,
                        "bin_end": -1.2254569331335938,
                        "count": 0
                      },
                      {
                        "bin_start": -1.2254569331335938,
                        "bin_end": 0.22892676652971833,
                        "count": 1
                      },
                      {
                        "bin_start": 0.22892676652971833,
                        "bin_end": 1.6833104661930305,
                        "count": 1
                      },
                      {
                        "bin_start": 1.6833104661930305,
                        "bin_end": 3.1376941658563426,
                        "count": 0
                      },
                      {
                        "bin_start": 3.1376941658563426,
                        "bin_end": 4.592077865519655,
                        "count": 0
                      },
                      {
                        "bin_start": 4.592077865519655,
                        "bin_end": 6.046461565182967,
                        "count": 1
                      },
                      {
                        "bin_start": 6.046461565182967,
                        "bin_end": 7.500845264846279,
                        "count": 0
                      },
                      {
                        "bin_start": 7.500845264846279,
                        "bin_end": 8.955228964509592,
                        "count": 1
                      }
                    ]
                  }
                },
                {
                  "name": "Temp",
                  "dtype": "float64",
                  "stats": {
                    "unique_count": 5,
                    "nan_count": 0,
                    "min": "-8.438928909338676",
                    "max": "8.154624394805673",
                    "histogram": [
                      {
                        "bin_start": -8.438928909338676,
                        "bin_end": -6.779573578924241,
                        "count": 3
                      },
                      {
                        "bin_start": -6.779573578924241,
                        "bin_end": -5.120218248509806,
                        "count": 1
                      },
                      {
                        "bin_start": -5.120218248509806,
                        "bin_end": -3.460862918095371,
                        "count": 0
                      },
                      {
                        "bin_start": -3.460862918095371,
                        "bin_end": -1.8015075876809359,
                        "count": 0
                      },
                      {
                        "bin_start": -1.8015075876809359,
                        "bin_end": -0.14215225726650083,
                        "count": 0
                      },
                      {
                        "bin_start": -0.14215225726650083,
                        "bin_end": 1.5172030731479342,
                        "count": 0
                      },
                      {
                        "bin_start": 1.5172030731479342,
                        "bin_end": 3.1765584035623693,
                        "count": 0
                      },
                      {
                        "bin_start": 3.1765584035623693,
                        "bin_end": 4.835913733976804,
                        "count": 0
                      },
                      {
                        "bin_start": 4.835913733976804,
                        "bin_end": 6.495269064391239,
                        "count": 0
                      },
                      {
                        "bin_start": 6.495269064391239,
                        "bin_end": 8.154624394805673,
                        "count": 1
                      }
                    ]
                  }
                },
                {
                  "name": "climate",
                  "dtype": "float64",
                  "stats": {
                    "unique_count": 5,
                    "nan_count": 0,
                    "min": "-9.494052696968932",
                    "max": "9.046185289270852",
                    "histogram": [
                      {
                        "bin_start": -9.494052696968932,
                        "bin_end": -7.640028898344954,
                        "count": 2
                      },
                      {
                        "bin_start": -7.640028898344954,
                        "bin_end": -5.786005099720976,
                        "count": 0
                      },
                      {
                        "bin_start": -5.786005099720976,
                        "bin_end": -3.9319813010969966,
                        "count": 0
                      },
                      {
                        "bin_start": -3.9319813010969966,
                        "bin_end": -2.0779575024730184,
                        "count": 1
                      },
                      {
                        "bin_start": -2.0779575024730184,
                        "bin_end": -0.2239337038490401,
                        "count": 0
                      },
                      {
                        "bin_start": -0.2239337038490401,
                        "bin_end": 1.630090094774939,
                        "count": 0
                      },
                      {
                        "bin_start": 1.630090094774939,
                        "bin_end": 3.4841138933989164,
                        "count": 0
                      },
                      {
                        "bin_start": 3.4841138933989164,
                        "bin_end": 5.338137692022896,
                        "count": 0
                      },
                      {
                        "bin_start": 5.338137692022896,
                        "bin_end": 7.192161490646875,
                        "count": 0
                      },
                      {
                        "bin_start": 7.192161490646875,
                        "bin_end": 9.046185289270852,
                        "count": 2
                      }
                    ]
                  }
                },
                {
                  "name": "_deepnote_index_column",
                  "dtype": "int64"
                }
              ],
              "rows_top": [
                {
                  "X": -10.577705871350958,
                  "Y": 2.279241597144936,
                  "Z": -0.8654523500053504,
                  "Temp": -8.438928909338676,
                  "climate": -9.494052696968932,
                  "_deepnote_index_column": 0
                },
                {
                  "X": -7.427127452604408,
                  "Y": 0.1764099706254495,
                  "Z": -5.58860803212353,
                  "Temp": -5.443328686210434,
                  "climate": -3.629749115998497,
                  "_deepnote_index_column": 1
                },
                {
                  "X": -7.590299755682365,
                  "Y": 7.121961798829664,
                  "Z": 8.955228964509592,
                  "Temp": -7.675402057892525,
                  "climate": 8.909423224617354,
                  "_deepnote_index_column": 2
                },
                {
                  "X": -8.8506996220433,
                  "Y": 4.544746579473163,
                  "Z": 0.6165608983563643,
                  "Temp": -7.1596178397326335,
                  "climate": -8.560697876271805,
                  "_deepnote_index_column": 3
                },
                {
                  "X": 4.680549005991116,
                  "Y": -8.821567115864449,
                  "Z": 5.156382195430829,
                  "Temp": 8.154624394805673,
                  "climate": 9.046185289270852,
                  "_deepnote_index_column": 4
                }
              ],
              "rows_bottom": null
            },
            "text/plain": "           X         Y         Z      Temp   climate\n0 -10.577706  2.279242 -0.865452 -8.438929 -9.494053\n1  -7.427127  0.176410 -5.588608 -5.443329 -3.629749\n2  -7.590300  7.121962  8.955229 -7.675402  8.909423\n3  -8.850700  4.544747  0.616561 -7.159618 -8.560698\n4   4.680549 -8.821567  5.156382  8.154624  9.046185",
            "text/html": "<div>\n<style scoped>\n    .dataframe tbody tr th:only-of-type {\n        vertical-align: middle;\n    }\n\n    .dataframe tbody tr th {\n        vertical-align: top;\n    }\n\n    .dataframe thead th {\n        text-align: right;\n    }\n</style>\n<table border=\"1\" class=\"dataframe\">\n  <thead>\n    <tr style=\"text-align: right;\">\n      <th></th>\n      <th>X</th>\n      <th>Y</th>\n      <th>Z</th>\n      <th>Temp</th>\n      <th>climate</th>\n    </tr>\n  </thead>\n  <tbody>\n    <tr>\n      <th>0</th>\n      <td>-10.577706</td>\n      <td>2.279242</td>\n      <td>-0.865452</td>\n      <td>-8.438929</td>\n      <td>-9.494053</td>\n    </tr>\n    <tr>\n      <th>1</th>\n      <td>-7.427127</td>\n      <td>0.176410</td>\n      <td>-5.588608</td>\n      <td>-5.443329</td>\n      <td>-3.629749</td>\n    </tr>\n    <tr>\n      <th>2</th>\n      <td>-7.590300</td>\n      <td>7.121962</td>\n      <td>8.955229</td>\n      <td>-7.675402</td>\n      <td>8.909423</td>\n    </tr>\n    <tr>\n      <th>3</th>\n      <td>-8.850700</td>\n      <td>4.544747</td>\n      <td>0.616561</td>\n      <td>-7.159618</td>\n      <td>-8.560698</td>\n    </tr>\n    <tr>\n      <th>4</th>\n      <td>4.680549</td>\n      <td>-8.821567</td>\n      <td>5.156382</td>\n      <td>8.154624</td>\n      <td>9.046185</td>\n    </tr>\n  </tbody>\n</table>\n</div>"
          },
          "metadata": {}
        }
      ]
    },
    {
      "cell_type": "code",
      "metadata": {
        "tags": [],
        "deepnote_to_be_reexecuted": true,
        "source_hash": "f325f5dd",
        "execution_millis": 40,
        "cell_id": "00014-757d2e72-693c-45fd-abd7-28f2ee919721",
        "deepnote_cell_type": "code"
      },
      "source": "from sklearn.pipeline import make_pipeline\nfrom sklearn.preprocessing import StandardScaler\nfrom sklearn.decomposition import PCA\npca = PCA(n_components=2)\nscaler = StandardScaler()\npipeline = make_pipeline(scaler, pca)\n\nX_new=df_new[[\"0\",\"1\",\"2\",\"3\",\"4\"]]\n\n\npipeline.fit_transform(X_sample)\n\n# j=pca.fit_transform(df_new)\n# y_variance = pca.explained_variance_ratio_\n# j=pd.DataFrame(j)",
      "execution_count": 68,
      "outputs": [
        {
          "output_type": "error",
          "ename": "ValueError",
          "evalue": "could not convert string to float: 'X'",
          "traceback": [
            "\u001b[0;31m---------------------------------------------------------------------------\u001b[0m",
            "\u001b[0;31mValueError\u001b[0m                                Traceback (most recent call last)",
            "\u001b[0;32m<ipython-input-68-89235e9d5fe6>\u001b[0m in \u001b[0;36m<module>\u001b[0;34m\u001b[0m\n\u001b[1;32m      8\u001b[0m \u001b[0msamples\u001b[0m \u001b[0;34m=\u001b[0m \u001b[0mdf_new\u001b[0m\u001b[0;34m.\u001b[0m\u001b[0mcolumns\u001b[0m\u001b[0;34m.\u001b[0m\u001b[0mvalues\u001b[0m\u001b[0;34m\u001b[0m\u001b[0;34m\u001b[0m\u001b[0m\n\u001b[1;32m      9\u001b[0m \u001b[0;34m\u001b[0m\u001b[0m\n\u001b[0;32m---> 10\u001b[0;31m \u001b[0mpipeline\u001b[0m\u001b[0;34m.\u001b[0m\u001b[0mfit_transform\u001b[0m\u001b[0;34m(\u001b[0m\u001b[0msamples\u001b[0m\u001b[0;34m)\u001b[0m\u001b[0;34m\u001b[0m\u001b[0;34m\u001b[0m\u001b[0m\n\u001b[0m\u001b[1;32m     11\u001b[0m \u001b[0;34m\u001b[0m\u001b[0m\n\u001b[1;32m     12\u001b[0m \u001b[0;31m# j=pca.fit_transform(df_new)\u001b[0m\u001b[0;34m\u001b[0m\u001b[0;34m\u001b[0m\u001b[0;34m\u001b[0m\u001b[0m\n",
            "\u001b[0;32m/shared-libs/python3.7/py/lib/python3.7/site-packages/sklearn/pipeline.py\u001b[0m in \u001b[0;36mfit_transform\u001b[0;34m(self, X, y, **fit_params)\u001b[0m\n\u001b[1;32m    376\u001b[0m         \"\"\"\n\u001b[1;32m    377\u001b[0m         \u001b[0mfit_params_steps\u001b[0m \u001b[0;34m=\u001b[0m \u001b[0mself\u001b[0m\u001b[0;34m.\u001b[0m\u001b[0m_check_fit_params\u001b[0m\u001b[0;34m(\u001b[0m\u001b[0;34m**\u001b[0m\u001b[0mfit_params\u001b[0m\u001b[0;34m)\u001b[0m\u001b[0;34m\u001b[0m\u001b[0;34m\u001b[0m\u001b[0m\n\u001b[0;32m--> 378\u001b[0;31m         \u001b[0mXt\u001b[0m \u001b[0;34m=\u001b[0m \u001b[0mself\u001b[0m\u001b[0;34m.\u001b[0m\u001b[0m_fit\u001b[0m\u001b[0;34m(\u001b[0m\u001b[0mX\u001b[0m\u001b[0;34m,\u001b[0m \u001b[0my\u001b[0m\u001b[0;34m,\u001b[0m \u001b[0;34m**\u001b[0m\u001b[0mfit_params_steps\u001b[0m\u001b[0;34m)\u001b[0m\u001b[0;34m\u001b[0m\u001b[0;34m\u001b[0m\u001b[0m\n\u001b[0m\u001b[1;32m    379\u001b[0m \u001b[0;34m\u001b[0m\u001b[0m\n\u001b[1;32m    380\u001b[0m         \u001b[0mlast_step\u001b[0m \u001b[0;34m=\u001b[0m \u001b[0mself\u001b[0m\u001b[0;34m.\u001b[0m\u001b[0m_final_estimator\u001b[0m\u001b[0;34m\u001b[0m\u001b[0;34m\u001b[0m\u001b[0m\n",
            "\u001b[0;32m/shared-libs/python3.7/py/lib/python3.7/site-packages/sklearn/pipeline.py\u001b[0m in \u001b[0;36m_fit\u001b[0;34m(self, X, y, **fit_params_steps)\u001b[0m\n\u001b[1;32m    305\u001b[0m                 \u001b[0mmessage_clsname\u001b[0m\u001b[0;34m=\u001b[0m\u001b[0;34m'Pipeline'\u001b[0m\u001b[0;34m,\u001b[0m\u001b[0;34m\u001b[0m\u001b[0;34m\u001b[0m\u001b[0m\n\u001b[1;32m    306\u001b[0m                 \u001b[0mmessage\u001b[0m\u001b[0;34m=\u001b[0m\u001b[0mself\u001b[0m\u001b[0;34m.\u001b[0m\u001b[0m_log_message\u001b[0m\u001b[0;34m(\u001b[0m\u001b[0mstep_idx\u001b[0m\u001b[0;34m)\u001b[0m\u001b[0;34m,\u001b[0m\u001b[0;34m\u001b[0m\u001b[0;34m\u001b[0m\u001b[0m\n\u001b[0;32m--> 307\u001b[0;31m                 **fit_params_steps[name])\n\u001b[0m\u001b[1;32m    308\u001b[0m             \u001b[0;31m# Replace the transformer of the step with the fitted\u001b[0m\u001b[0;34m\u001b[0m\u001b[0;34m\u001b[0m\u001b[0;34m\u001b[0m\u001b[0m\n\u001b[1;32m    309\u001b[0m             \u001b[0;31m# transformer. This is necessary when loading the transformer\u001b[0m\u001b[0;34m\u001b[0m\u001b[0;34m\u001b[0m\u001b[0;34m\u001b[0m\u001b[0m\n",
            "\u001b[0;32m/shared-libs/python3.7/py/lib/python3.7/site-packages/joblib/memory.py\u001b[0m in \u001b[0;36m__call__\u001b[0;34m(self, *args, **kwargs)\u001b[0m\n\u001b[1;32m    350\u001b[0m \u001b[0;34m\u001b[0m\u001b[0m\n\u001b[1;32m    351\u001b[0m     \u001b[0;32mdef\u001b[0m \u001b[0m__call__\u001b[0m\u001b[0;34m(\u001b[0m\u001b[0mself\u001b[0m\u001b[0;34m,\u001b[0m \u001b[0;34m*\u001b[0m\u001b[0margs\u001b[0m\u001b[0;34m,\u001b[0m \u001b[0;34m**\u001b[0m\u001b[0mkwargs\u001b[0m\u001b[0;34m)\u001b[0m\u001b[0;34m:\u001b[0m\u001b[0;34m\u001b[0m\u001b[0;34m\u001b[0m\u001b[0m\n\u001b[0;32m--> 352\u001b[0;31m         \u001b[0;32mreturn\u001b[0m \u001b[0mself\u001b[0m\u001b[0;34m.\u001b[0m\u001b[0mfunc\u001b[0m\u001b[0;34m(\u001b[0m\u001b[0;34m*\u001b[0m\u001b[0margs\u001b[0m\u001b[0;34m,\u001b[0m \u001b[0;34m**\u001b[0m\u001b[0mkwargs\u001b[0m\u001b[0;34m)\u001b[0m\u001b[0;34m\u001b[0m\u001b[0;34m\u001b[0m\u001b[0m\n\u001b[0m\u001b[1;32m    353\u001b[0m \u001b[0;34m\u001b[0m\u001b[0m\n\u001b[1;32m    354\u001b[0m     \u001b[0;32mdef\u001b[0m \u001b[0mcall_and_shelve\u001b[0m\u001b[0;34m(\u001b[0m\u001b[0mself\u001b[0m\u001b[0;34m,\u001b[0m \u001b[0;34m*\u001b[0m\u001b[0margs\u001b[0m\u001b[0;34m,\u001b[0m \u001b[0;34m**\u001b[0m\u001b[0mkwargs\u001b[0m\u001b[0;34m)\u001b[0m\u001b[0;34m:\u001b[0m\u001b[0;34m\u001b[0m\u001b[0;34m\u001b[0m\u001b[0m\n",
            "\u001b[0;32m/shared-libs/python3.7/py/lib/python3.7/site-packages/sklearn/pipeline.py\u001b[0m in \u001b[0;36m_fit_transform_one\u001b[0;34m(transformer, X, y, weight, message_clsname, message, **fit_params)\u001b[0m\n\u001b[1;32m    752\u001b[0m     \u001b[0;32mwith\u001b[0m \u001b[0m_print_elapsed_time\u001b[0m\u001b[0;34m(\u001b[0m\u001b[0mmessage_clsname\u001b[0m\u001b[0;34m,\u001b[0m \u001b[0mmessage\u001b[0m\u001b[0;34m)\u001b[0m\u001b[0;34m:\u001b[0m\u001b[0;34m\u001b[0m\u001b[0;34m\u001b[0m\u001b[0m\n\u001b[1;32m    753\u001b[0m         \u001b[0;32mif\u001b[0m \u001b[0mhasattr\u001b[0m\u001b[0;34m(\u001b[0m\u001b[0mtransformer\u001b[0m\u001b[0;34m,\u001b[0m \u001b[0;34m'fit_transform'\u001b[0m\u001b[0;34m)\u001b[0m\u001b[0;34m:\u001b[0m\u001b[0;34m\u001b[0m\u001b[0;34m\u001b[0m\u001b[0m\n\u001b[0;32m--> 754\u001b[0;31m             \u001b[0mres\u001b[0m \u001b[0;34m=\u001b[0m \u001b[0mtransformer\u001b[0m\u001b[0;34m.\u001b[0m\u001b[0mfit_transform\u001b[0m\u001b[0;34m(\u001b[0m\u001b[0mX\u001b[0m\u001b[0;34m,\u001b[0m \u001b[0my\u001b[0m\u001b[0;34m,\u001b[0m \u001b[0;34m**\u001b[0m\u001b[0mfit_params\u001b[0m\u001b[0;34m)\u001b[0m\u001b[0;34m\u001b[0m\u001b[0;34m\u001b[0m\u001b[0m\n\u001b[0m\u001b[1;32m    755\u001b[0m         \u001b[0;32melse\u001b[0m\u001b[0;34m:\u001b[0m\u001b[0;34m\u001b[0m\u001b[0;34m\u001b[0m\u001b[0m\n\u001b[1;32m    756\u001b[0m             \u001b[0mres\u001b[0m \u001b[0;34m=\u001b[0m \u001b[0mtransformer\u001b[0m\u001b[0;34m.\u001b[0m\u001b[0mfit\u001b[0m\u001b[0;34m(\u001b[0m\u001b[0mX\u001b[0m\u001b[0;34m,\u001b[0m \u001b[0my\u001b[0m\u001b[0;34m,\u001b[0m \u001b[0;34m**\u001b[0m\u001b[0mfit_params\u001b[0m\u001b[0;34m)\u001b[0m\u001b[0;34m.\u001b[0m\u001b[0mtransform\u001b[0m\u001b[0;34m(\u001b[0m\u001b[0mX\u001b[0m\u001b[0;34m)\u001b[0m\u001b[0;34m\u001b[0m\u001b[0;34m\u001b[0m\u001b[0m\n",
            "\u001b[0;32m/shared-libs/python3.7/py/lib/python3.7/site-packages/sklearn/base.py\u001b[0m in \u001b[0;36mfit_transform\u001b[0;34m(self, X, y, **fit_params)\u001b[0m\n\u001b[1;32m    697\u001b[0m         \u001b[0;32mif\u001b[0m \u001b[0my\u001b[0m \u001b[0;32mis\u001b[0m \u001b[0;32mNone\u001b[0m\u001b[0;34m:\u001b[0m\u001b[0;34m\u001b[0m\u001b[0;34m\u001b[0m\u001b[0m\n\u001b[1;32m    698\u001b[0m             \u001b[0;31m# fit method of arity 1 (unsupervised transformation)\u001b[0m\u001b[0;34m\u001b[0m\u001b[0;34m\u001b[0m\u001b[0;34m\u001b[0m\u001b[0m\n\u001b[0;32m--> 699\u001b[0;31m             \u001b[0;32mreturn\u001b[0m \u001b[0mself\u001b[0m\u001b[0;34m.\u001b[0m\u001b[0mfit\u001b[0m\u001b[0;34m(\u001b[0m\u001b[0mX\u001b[0m\u001b[0;34m,\u001b[0m \u001b[0;34m**\u001b[0m\u001b[0mfit_params\u001b[0m\u001b[0;34m)\u001b[0m\u001b[0;34m.\u001b[0m\u001b[0mtransform\u001b[0m\u001b[0;34m(\u001b[0m\u001b[0mX\u001b[0m\u001b[0;34m)\u001b[0m\u001b[0;34m\u001b[0m\u001b[0;34m\u001b[0m\u001b[0m\n\u001b[0m\u001b[1;32m    700\u001b[0m         \u001b[0;32melse\u001b[0m\u001b[0;34m:\u001b[0m\u001b[0;34m\u001b[0m\u001b[0;34m\u001b[0m\u001b[0m\n\u001b[1;32m    701\u001b[0m             \u001b[0;31m# fit method of arity 2 (supervised transformation)\u001b[0m\u001b[0;34m\u001b[0m\u001b[0;34m\u001b[0m\u001b[0;34m\u001b[0m\u001b[0m\n",
            "\u001b[0;32m/shared-libs/python3.7/py/lib/python3.7/site-packages/sklearn/preprocessing/_data.py\u001b[0m in \u001b[0;36mfit\u001b[0;34m(self, X, y, sample_weight)\u001b[0m\n\u001b[1;32m    728\u001b[0m         \u001b[0;31m# Reset internal state before fitting\u001b[0m\u001b[0;34m\u001b[0m\u001b[0;34m\u001b[0m\u001b[0;34m\u001b[0m\u001b[0m\n\u001b[1;32m    729\u001b[0m         \u001b[0mself\u001b[0m\u001b[0;34m.\u001b[0m\u001b[0m_reset\u001b[0m\u001b[0;34m(\u001b[0m\u001b[0;34m)\u001b[0m\u001b[0;34m\u001b[0m\u001b[0;34m\u001b[0m\u001b[0m\n\u001b[0;32m--> 730\u001b[0;31m         \u001b[0;32mreturn\u001b[0m \u001b[0mself\u001b[0m\u001b[0;34m.\u001b[0m\u001b[0mpartial_fit\u001b[0m\u001b[0;34m(\u001b[0m\u001b[0mX\u001b[0m\u001b[0;34m,\u001b[0m \u001b[0my\u001b[0m\u001b[0;34m,\u001b[0m \u001b[0msample_weight\u001b[0m\u001b[0;34m)\u001b[0m\u001b[0;34m\u001b[0m\u001b[0;34m\u001b[0m\u001b[0m\n\u001b[0m\u001b[1;32m    731\u001b[0m \u001b[0;34m\u001b[0m\u001b[0m\n\u001b[1;32m    732\u001b[0m     \u001b[0;32mdef\u001b[0m \u001b[0mpartial_fit\u001b[0m\u001b[0;34m(\u001b[0m\u001b[0mself\u001b[0m\u001b[0;34m,\u001b[0m \u001b[0mX\u001b[0m\u001b[0;34m,\u001b[0m \u001b[0my\u001b[0m\u001b[0;34m=\u001b[0m\u001b[0;32mNone\u001b[0m\u001b[0;34m,\u001b[0m \u001b[0msample_weight\u001b[0m\u001b[0;34m=\u001b[0m\u001b[0;32mNone\u001b[0m\u001b[0;34m)\u001b[0m\u001b[0;34m:\u001b[0m\u001b[0;34m\u001b[0m\u001b[0;34m\u001b[0m\u001b[0m\n",
            "\u001b[0;32m/shared-libs/python3.7/py/lib/python3.7/site-packages/sklearn/preprocessing/_data.py\u001b[0m in \u001b[0;36mpartial_fit\u001b[0;34m(self, X, y, sample_weight)\u001b[0m\n\u001b[1;32m    766\u001b[0m         X = self._validate_data(X, accept_sparse=('csr', 'csc'),\n\u001b[1;32m    767\u001b[0m                                 \u001b[0mestimator\u001b[0m\u001b[0;34m=\u001b[0m\u001b[0mself\u001b[0m\u001b[0;34m,\u001b[0m \u001b[0mdtype\u001b[0m\u001b[0;34m=\u001b[0m\u001b[0mFLOAT_DTYPES\u001b[0m\u001b[0;34m,\u001b[0m\u001b[0;34m\u001b[0m\u001b[0;34m\u001b[0m\u001b[0m\n\u001b[0;32m--> 768\u001b[0;31m                                 force_all_finite='allow-nan', reset=first_call)\n\u001b[0m\u001b[1;32m    769\u001b[0m         \u001b[0mn_features\u001b[0m \u001b[0;34m=\u001b[0m \u001b[0mX\u001b[0m\u001b[0;34m.\u001b[0m\u001b[0mshape\u001b[0m\u001b[0;34m[\u001b[0m\u001b[0;36m1\u001b[0m\u001b[0;34m]\u001b[0m\u001b[0;34m\u001b[0m\u001b[0;34m\u001b[0m\u001b[0m\n\u001b[1;32m    770\u001b[0m \u001b[0;34m\u001b[0m\u001b[0m\n",
            "\u001b[0;32m/shared-libs/python3.7/py/lib/python3.7/site-packages/sklearn/base.py\u001b[0m in \u001b[0;36m_validate_data\u001b[0;34m(self, X, y, reset, validate_separately, **check_params)\u001b[0m\n\u001b[1;32m    419\u001b[0m             \u001b[0mout\u001b[0m \u001b[0;34m=\u001b[0m \u001b[0mX\u001b[0m\u001b[0;34m\u001b[0m\u001b[0;34m\u001b[0m\u001b[0m\n\u001b[1;32m    420\u001b[0m         \u001b[0;32melif\u001b[0m \u001b[0misinstance\u001b[0m\u001b[0;34m(\u001b[0m\u001b[0my\u001b[0m\u001b[0;34m,\u001b[0m \u001b[0mstr\u001b[0m\u001b[0;34m)\u001b[0m \u001b[0;32mand\u001b[0m \u001b[0my\u001b[0m \u001b[0;34m==\u001b[0m \u001b[0;34m'no_validation'\u001b[0m\u001b[0;34m:\u001b[0m\u001b[0;34m\u001b[0m\u001b[0;34m\u001b[0m\u001b[0m\n\u001b[0;32m--> 421\u001b[0;31m             \u001b[0mX\u001b[0m \u001b[0;34m=\u001b[0m \u001b[0mcheck_array\u001b[0m\u001b[0;34m(\u001b[0m\u001b[0mX\u001b[0m\u001b[0;34m,\u001b[0m \u001b[0;34m**\u001b[0m\u001b[0mcheck_params\u001b[0m\u001b[0;34m)\u001b[0m\u001b[0;34m\u001b[0m\u001b[0;34m\u001b[0m\u001b[0m\n\u001b[0m\u001b[1;32m    422\u001b[0m             \u001b[0mout\u001b[0m \u001b[0;34m=\u001b[0m \u001b[0mX\u001b[0m\u001b[0;34m\u001b[0m\u001b[0;34m\u001b[0m\u001b[0m\n\u001b[1;32m    423\u001b[0m         \u001b[0;32melse\u001b[0m\u001b[0;34m:\u001b[0m\u001b[0;34m\u001b[0m\u001b[0;34m\u001b[0m\u001b[0m\n",
            "\u001b[0;32m/shared-libs/python3.7/py/lib/python3.7/site-packages/sklearn/utils/validation.py\u001b[0m in \u001b[0;36minner_f\u001b[0;34m(*args, **kwargs)\u001b[0m\n\u001b[1;32m     61\u001b[0m             \u001b[0mextra_args\u001b[0m \u001b[0;34m=\u001b[0m \u001b[0mlen\u001b[0m\u001b[0;34m(\u001b[0m\u001b[0margs\u001b[0m\u001b[0;34m)\u001b[0m \u001b[0;34m-\u001b[0m \u001b[0mlen\u001b[0m\u001b[0;34m(\u001b[0m\u001b[0mall_args\u001b[0m\u001b[0;34m)\u001b[0m\u001b[0;34m\u001b[0m\u001b[0;34m\u001b[0m\u001b[0m\n\u001b[1;32m     62\u001b[0m             \u001b[0;32mif\u001b[0m \u001b[0mextra_args\u001b[0m \u001b[0;34m<=\u001b[0m \u001b[0;36m0\u001b[0m\u001b[0;34m:\u001b[0m\u001b[0;34m\u001b[0m\u001b[0;34m\u001b[0m\u001b[0m\n\u001b[0;32m---> 63\u001b[0;31m                 \u001b[0;32mreturn\u001b[0m \u001b[0mf\u001b[0m\u001b[0;34m(\u001b[0m\u001b[0;34m*\u001b[0m\u001b[0margs\u001b[0m\u001b[0;34m,\u001b[0m \u001b[0;34m**\u001b[0m\u001b[0mkwargs\u001b[0m\u001b[0;34m)\u001b[0m\u001b[0;34m\u001b[0m\u001b[0;34m\u001b[0m\u001b[0m\n\u001b[0m\u001b[1;32m     64\u001b[0m \u001b[0;34m\u001b[0m\u001b[0m\n\u001b[1;32m     65\u001b[0m             \u001b[0;31m# extra_args > 0\u001b[0m\u001b[0;34m\u001b[0m\u001b[0;34m\u001b[0m\u001b[0;34m\u001b[0m\u001b[0m\n",
            "\u001b[0;32m/shared-libs/python3.7/py/lib/python3.7/site-packages/sklearn/utils/validation.py\u001b[0m in \u001b[0;36mcheck_array\u001b[0;34m(array, accept_sparse, accept_large_sparse, dtype, order, copy, force_all_finite, ensure_2d, allow_nd, ensure_min_samples, ensure_min_features, estimator)\u001b[0m\n\u001b[1;32m    614\u001b[0m                     \u001b[0marray\u001b[0m \u001b[0;34m=\u001b[0m \u001b[0marray\u001b[0m\u001b[0;34m.\u001b[0m\u001b[0mastype\u001b[0m\u001b[0;34m(\u001b[0m\u001b[0mdtype\u001b[0m\u001b[0;34m,\u001b[0m \u001b[0mcasting\u001b[0m\u001b[0;34m=\u001b[0m\u001b[0;34m\"unsafe\"\u001b[0m\u001b[0;34m,\u001b[0m \u001b[0mcopy\u001b[0m\u001b[0;34m=\u001b[0m\u001b[0;32mFalse\u001b[0m\u001b[0;34m)\u001b[0m\u001b[0;34m\u001b[0m\u001b[0;34m\u001b[0m\u001b[0m\n\u001b[1;32m    615\u001b[0m                 \u001b[0;32melse\u001b[0m\u001b[0;34m:\u001b[0m\u001b[0;34m\u001b[0m\u001b[0;34m\u001b[0m\u001b[0m\n\u001b[0;32m--> 616\u001b[0;31m                     \u001b[0marray\u001b[0m \u001b[0;34m=\u001b[0m \u001b[0mnp\u001b[0m\u001b[0;34m.\u001b[0m\u001b[0masarray\u001b[0m\u001b[0;34m(\u001b[0m\u001b[0marray\u001b[0m\u001b[0;34m,\u001b[0m \u001b[0morder\u001b[0m\u001b[0;34m=\u001b[0m\u001b[0morder\u001b[0m\u001b[0;34m,\u001b[0m \u001b[0mdtype\u001b[0m\u001b[0;34m=\u001b[0m\u001b[0mdtype\u001b[0m\u001b[0;34m)\u001b[0m\u001b[0;34m\u001b[0m\u001b[0;34m\u001b[0m\u001b[0m\n\u001b[0m\u001b[1;32m    617\u001b[0m             \u001b[0;32mexcept\u001b[0m \u001b[0mComplexWarning\u001b[0m \u001b[0;32mas\u001b[0m \u001b[0mcomplex_warning\u001b[0m\u001b[0;34m:\u001b[0m\u001b[0;34m\u001b[0m\u001b[0;34m\u001b[0m\u001b[0m\n\u001b[1;32m    618\u001b[0m                 raise ValueError(\"Complex data not supported\\n\"\n",
            "\u001b[0;32m/shared-libs/python3.7/py/lib/python3.7/site-packages/numpy/core/_asarray.py\u001b[0m in \u001b[0;36masarray\u001b[0;34m(a, dtype, order)\u001b[0m\n\u001b[1;32m     81\u001b[0m \u001b[0;34m\u001b[0m\u001b[0m\n\u001b[1;32m     82\u001b[0m     \"\"\"\n\u001b[0;32m---> 83\u001b[0;31m     \u001b[0;32mreturn\u001b[0m \u001b[0marray\u001b[0m\u001b[0;34m(\u001b[0m\u001b[0ma\u001b[0m\u001b[0;34m,\u001b[0m \u001b[0mdtype\u001b[0m\u001b[0;34m,\u001b[0m \u001b[0mcopy\u001b[0m\u001b[0;34m=\u001b[0m\u001b[0;32mFalse\u001b[0m\u001b[0;34m,\u001b[0m \u001b[0morder\u001b[0m\u001b[0;34m=\u001b[0m\u001b[0morder\u001b[0m\u001b[0;34m)\u001b[0m\u001b[0;34m\u001b[0m\u001b[0;34m\u001b[0m\u001b[0m\n\u001b[0m\u001b[1;32m     84\u001b[0m \u001b[0;34m\u001b[0m\u001b[0m\n\u001b[1;32m     85\u001b[0m \u001b[0;34m\u001b[0m\u001b[0m\n",
            "\u001b[0;31mValueError\u001b[0m: could not convert string to float: 'X'"
          ]
        }
      ]
    },
    {
      "cell_type": "code",
      "metadata": {
        "tags": [],
        "deepnote_to_be_reexecuted": false,
        "source_hash": "93af396",
        "execution_start": 1619166245526,
        "execution_millis": 55,
        "cell_id": "00015-ae377f58-375d-48c4-9b8a-e65326d04fa3",
        "deepnote_cell_type": "code"
      },
      "source": "j",
      "execution_count": 60,
      "outputs": [
        {
          "output_type": "execute_result",
          "execution_count": 60,
          "data": {
            "application/vnd.deepnote.dataframe.v2+json": {
              "row_count": 1000,
              "column_count": 5,
              "columns": [
                {
                  "name": 0,
                  "dtype": "float64",
                  "stats": {
                    "unique_count": 1000,
                    "nan_count": 0,
                    "min": "-14.834403845837734",
                    "max": "16.63030350575026",
                    "histogram": [
                      {
                        "bin_start": -14.834403845837734,
                        "bin_end": -11.687933110678934,
                        "count": 187
                      },
                      {
                        "bin_start": -11.687933110678934,
                        "bin_end": -8.541462375520135,
                        "count": 239
                      },
                      {
                        "bin_start": -8.541462375520135,
                        "bin_end": -5.3949916403613365,
                        "count": 2
                      },
                      {
                        "bin_start": -5.3949916403613365,
                        "bin_end": -2.248520905202536,
                        "count": 0
                      },
                      {
                        "bin_start": -2.248520905202536,
                        "bin_end": 0.8979498299562643,
                        "count": 29
                      },
                      {
                        "bin_start": 0.8979498299562643,
                        "bin_end": 4.044420565115061,
                        "count": 113
                      },
                      {
                        "bin_start": 4.044420565115061,
                        "bin_end": 7.1908913002738615,
                        "count": 20
                      },
                      {
                        "bin_start": 7.1908913002738615,
                        "bin_end": 10.337362035432662,
                        "count": 186
                      },
                      {
                        "bin_start": 10.337362035432662,
                        "bin_end": 13.483832770591462,
                        "count": 123
                      },
                      {
                        "bin_start": 13.483832770591462,
                        "bin_end": 16.63030350575026,
                        "count": 101
                      }
                    ]
                  }
                },
                {
                  "name": 1,
                  "dtype": "float64",
                  "stats": {
                    "unique_count": 1000,
                    "nan_count": 0,
                    "min": "-8.536271414711507",
                    "max": "16.848118181176424",
                    "histogram": [
                      {
                        "bin_start": -8.536271414711507,
                        "bin_end": -5.997832455122714,
                        "count": 164
                      },
                      {
                        "bin_start": -5.997832455122714,
                        "bin_end": -3.459393495533921,
                        "count": 288
                      },
                      {
                        "bin_start": -3.459393495533921,
                        "bin_end": -0.9209545359451283,
                        "count": 215
                      },
                      {
                        "bin_start": -0.9209545359451283,
                        "bin_end": 1.6174844236436652,
                        "count": 47
                      },
                      {
                        "bin_start": 1.6174844236436652,
                        "bin_end": 4.155923383232459,
                        "count": 0
                      },
                      {
                        "bin_start": 4.155923383232459,
                        "bin_end": 6.69436234282125,
                        "count": 32
                      },
                      {
                        "bin_start": 6.69436234282125,
                        "bin_end": 9.232801302410046,
                        "count": 102
                      },
                      {
                        "bin_start": 9.232801302410046,
                        "bin_end": 11.771240261998837,
                        "count": 14
                      },
                      {
                        "bin_start": 11.771240261998837,
                        "bin_end": 14.30967922158763,
                        "count": 110
                      },
                      {
                        "bin_start": 14.30967922158763,
                        "bin_end": 16.848118181176424,
                        "count": 28
                      }
                    ]
                  }
                },
                {
                  "name": 2,
                  "dtype": "float64",
                  "stats": {
                    "unique_count": 1000,
                    "nan_count": 0,
                    "min": "-11.130503725739219",
                    "max": "12.126172306333713",
                    "histogram": [
                      {
                        "bin_start": -11.130503725739219,
                        "bin_end": -8.804836122531926,
                        "count": 42
                      },
                      {
                        "bin_start": -8.804836122531926,
                        "bin_end": -6.479168519324633,
                        "count": 173
                      },
                      {
                        "bin_start": -6.479168519324633,
                        "bin_end": -4.1535009161173395,
                        "count": 70
                      },
                      {
                        "bin_start": -4.1535009161173395,
                        "bin_end": -1.8278333129100464,
                        "count": 5
                      },
                      {
                        "bin_start": -1.8278333129100464,
                        "bin_end": 0.4978342902972468,
                        "count": 161
                      },
                      {
                        "bin_start": 0.4978342902972468,
                        "bin_end": 2.82350189350454,
                        "count": 330
                      },
                      {
                        "bin_start": 2.82350189350454,
                        "bin_end": 5.149169496711833,
                        "count": 76
                      },
                      {
                        "bin_start": 5.149169496711833,
                        "bin_end": 7.474837099919126,
                        "count": 2
                      },
                      {
                        "bin_start": 7.474837099919126,
                        "bin_end": 9.80050470312642,
                        "count": 74
                      },
                      {
                        "bin_start": 9.80050470312642,
                        "bin_end": 12.126172306333713,
                        "count": 67
                      }
                    ]
                  }
                },
                {
                  "name": 3,
                  "dtype": "float64",
                  "stats": {
                    "unique_count": 1000,
                    "nan_count": 0,
                    "min": "-8.81014772171858",
                    "max": "11.062336915021609",
                    "histogram": [
                      {
                        "bin_start": -8.81014772171858,
                        "bin_end": -6.822899258044561,
                        "count": 58
                      },
                      {
                        "bin_start": -6.822899258044561,
                        "bin_end": -4.835650794370543,
                        "count": 174
                      },
                      {
                        "bin_start": -4.835650794370543,
                        "bin_end": -2.8484023306965245,
                        "count": 124
                      },
                      {
                        "bin_start": -2.8484023306965245,
                        "bin_end": -0.8611538670225052,
                        "count": 167
                      },
                      {
                        "bin_start": -0.8611538670225052,
                        "bin_end": 1.1260945966515141,
                        "count": 51
                      },
                      {
                        "bin_start": 1.1260945966515141,
                        "bin_end": 3.1133430603255317,
                        "count": 74
                      },
                      {
                        "bin_start": 3.1133430603255317,
                        "bin_end": 5.100591523999551,
                        "count": 104
                      },
                      {
                        "bin_start": 5.100591523999551,
                        "bin_end": 7.08783998767357,
                        "count": 156
                      },
                      {
                        "bin_start": 7.08783998767357,
                        "bin_end": 9.075088451347588,
                        "count": 86
                      },
                      {
                        "bin_start": 9.075088451347588,
                        "bin_end": 11.062336915021609,
                        "count": 6
                      }
                    ]
                  }
                },
                {
                  "name": 4,
                  "dtype": "float64",
                  "stats": {
                    "unique_count": 1000,
                    "nan_count": 0,
                    "min": "-6.5530365338856145",
                    "max": "7.822667906523268",
                    "histogram": [
                      {
                        "bin_start": -6.5530365338856145,
                        "bin_end": -5.115466089844727,
                        "count": 48
                      },
                      {
                        "bin_start": -5.115466089844727,
                        "bin_end": -3.6778956458038383,
                        "count": 145
                      },
                      {
                        "bin_start": -3.6778956458038383,
                        "bin_end": -2.2403252017629507,
                        "count": 189
                      },
                      {
                        "bin_start": -2.2403252017629507,
                        "bin_end": -0.8027547577220622,
                        "count": 79
                      },
                      {
                        "bin_start": -0.8027547577220622,
                        "bin_end": 0.6348156863188263,
                        "count": 79
                      },
                      {
                        "bin_start": 0.6348156863188263,
                        "bin_end": 2.072386130359713,
                        "count": 106
                      },
                      {
                        "bin_start": 2.072386130359713,
                        "bin_end": 3.5099565744006016,
                        "count": 150
                      },
                      {
                        "bin_start": 3.5099565744006016,
                        "bin_end": 4.94752701844149,
                        "count": 99
                      },
                      {
                        "bin_start": 4.94752701844149,
                        "bin_end": 6.385097462482379,
                        "count": 82
                      },
                      {
                        "bin_start": 6.385097462482379,
                        "bin_end": 7.822667906523268,
                        "count": 23
                      }
                    ]
                  }
                },
                {
                  "name": "_deepnote_index_column",
                  "dtype": "int64"
                }
              ],
              "rows_top": [
                {
                  "0": 15.220699201863079,
                  "1": -6.287646606095659,
                  "2": 0.6958974127002359,
                  "3": -4.661161687211065,
                  "4": -2.157695527914865,
                  "_deepnote_index_column": 0
                },
                {
                  "0": 7.648626167771544,
                  "1": -6.150861104020656,
                  "2": 2.4120640761674577,
                  "3": -4.791753560942484,
                  "4": 2.281070003716717,
                  "_deepnote_index_column": 1
                },
                {
                  "0": 10.069569805237522,
                  "1": 12.715796011089678,
                  "2": 3.1248387306543477,
                  "3": 2.9270565129971815,
                  "4": 1.9590311130964135,
                  "_deepnote_index_column": 2
                },
                {
                  "0": 14.203317468967006,
                  "1": -4.832268021693066,
                  "2": 1.7503438146778165,
                  "3": -2.1161152973526542,
                  "4": -3.5988422786009884,
                  "_deepnote_index_column": 3
                },
                {
                  "0": -12.591471540947744,
                  "1": 8.813087313698265,
                  "2": 0.3877525412917095,
                  "3": -6.567472308296487,
                  "4": -4.6301929155245425,
                  "_deepnote_index_column": 4
                },
                {
                  "0": -10.720138466403629,
                  "1": -5.290352455164932,
                  "2": 10.315784756961092,
                  "3": 5.528053401896661,
                  "4": -0.09960633798820805,
                  "_deepnote_index_column": 5
                },
                {
                  "0": 8.433756572275865,
                  "1": -6.763315727905876,
                  "2": 1.409495723497181,
                  "3": -5.274219530362286,
                  "4": 2.499058661974388,
                  "_deepnote_index_column": 6
                },
                {
                  "0": -10.607095352952546,
                  "1": -6.0787220342608705,
                  "2": 11.680219400414183,
                  "3": 4.760687832530516,
                  "4": -0.8525017220833396,
                  "_deepnote_index_column": 7
                },
                {
                  "0": -9.942135556258924,
                  "1": -5.6054994620735785,
                  "2": -5.503043306450898,
                  "3": -1.458871610826255,
                  "4": 5.333966004605911,
                  "_deepnote_index_column": 8
                },
                {
                  "0": -13.537624035813886,
                  "1": 8.072909415526047,
                  "2": 0.9004584989166871,
                  "3": -6.388461715588083,
                  "4": -4.636661593474583,
                  "_deepnote_index_column": 9
                },
                {
                  "0": 12.525201990618212,
                  "1": -6.7575259662617695,
                  "2": 0.6745094900773811,
                  "3": -3.519626505693744,
                  "4": -2.778838639234822,
                  "_deepnote_index_column": 10
                },
                {
                  "0": 8.553893049777024,
                  "1": -4.651050098796514,
                  "2": 0.6741102897679644,
                  "3": -4.8271380438602085,
                  "4": 1.3410618422315224,
                  "_deepnote_index_column": 11
                },
                {
                  "0": 1.191780954120213,
                  "1": -1.4348070963121775,
                  "2": -8.776213886584953,
                  "3": 7.476476850030253,
                  "4": -5.023019363040926,
                  "_deepnote_index_column": 12
                },
                {
                  "0": 8.388133386246249,
                  "1": -5.269380375934491,
                  "2": 1.5288102250147966,
                  "3": -4.698384703286377,
                  "4": 1.956446334604862,
                  "_deepnote_index_column": 13
                },
                {
                  "0": -11.576828496491258,
                  "1": -5.658720087491332,
                  "2": 10.013234729353961,
                  "3": 5.386950312030558,
                  "4": -1.14949585353907,
                  "_deepnote_index_column": 14
                },
                {
                  "0": -9.626111227142852,
                  "1": -1.970492627887374,
                  "2": -7.02758361693165,
                  "3": -1.6282834651944973,
                  "4": 4.949442045904282,
                  "_deepnote_index_column": 15
                },
                {
                  "0": -11.026846289121771,
                  "1": 8.032422647635062,
                  "2": 2.1377642779077393,
                  "3": -7.47203068153071,
                  "4": -5.603185247107896,
                  "_deepnote_index_column": 16
                },
                {
                  "0": 9.902456433182593,
                  "1": 15.556014374160593,
                  "2": 1.7526048194455444,
                  "3": 2.597310091111293,
                  "4": 2.7723850146726705,
                  "_deepnote_index_column": 17
                },
                {
                  "0": 10.845099668736252,
                  "1": 13.457796750199593,
                  "2": 2.0203936528584694,
                  "3": 2.1306696834015506,
                  "4": 2.8097669923542927,
                  "_deepnote_index_column": 18
                },
                {
                  "0": 1.7802201940227664,
                  "1": -1.407980291851291,
                  "2": -8.129423012795527,
                  "3": 6.3881882899728195,
                  "4": -3.5158859253796386,
                  "_deepnote_index_column": 19
                },
                {
                  "0": 9.12045653756999,
                  "1": 12.839735334377334,
                  "2": 4.202216635530057,
                  "3": 1.7632379877239652,
                  "4": 1.473332853584056,
                  "_deepnote_index_column": 20
                },
                {
                  "0": 14.858043934320364,
                  "1": -7.2129996083719,
                  "2": 0.24076893266298316,
                  "3": -3.5423304969830425,
                  "4": -3.2341415198693495,
                  "_deepnote_index_column": 21
                },
                {
                  "0": 2.2739636512309485,
                  "1": -0.8415187785445843,
                  "2": -7.529469763796986,
                  "3": 9.173144912228276,
                  "4": -3.419792202004764,
                  "_deepnote_index_column": 22
                },
                {
                  "0": -14.834403845837734,
                  "1": 5.849913852834475,
                  "2": 1.7767826126158668,
                  "3": -8.447320762783043,
                  "4": -4.643684581286911,
                  "_deepnote_index_column": 23
                },
                {
                  "0": 1.373755972054653,
                  "1": -1.1286334139562701,
                  "2": -8.209313653981036,
                  "3": 7.6973364301803855,
                  "4": -3.271341980055347,
                  "_deepnote_index_column": 24
                },
                {
                  "0": 7.54086449161235,
                  "1": -6.933220379314738,
                  "2": 1.3108782628568834,
                  "3": -5.623729265863258,
                  "4": 1.0179276757230582,
                  "_deepnote_index_column": 25
                },
                {
                  "0": -12.850811789563243,
                  "1": -3.3980691200307636,
                  "2": 9.595443412934074,
                  "3": 5.310305960273256,
                  "4": -0.41425100000883985,
                  "_deepnote_index_column": 26
                },
                {
                  "0": 11.324525179167429,
                  "1": 13.354542246021326,
                  "2": 1.189201388919507,
                  "3": 1.9584584708817179,
                  "4": 4.569444605902174,
                  "_deepnote_index_column": 27
                },
                {
                  "0": 1.1791019132390472,
                  "1": -2.6057059630158097,
                  "2": -9.680088812886371,
                  "3": 6.77502617298813,
                  "4": -2.9857566576985164,
                  "_deepnote_index_column": 28
                },
                {
                  "0": -11.082080036676416,
                  "1": -1.6715228769012889,
                  "2": -6.796880086879393,
                  "3": -0.5161720551480585,
                  "4": 6.794338553534077,
                  "_deepnote_index_column": 29
                },
                {
                  "0": -9.46524911754972,
                  "1": -1.8090060015461609,
                  "2": -5.3555043231235615,
                  "3": -0.8063233433073157,
                  "4": 4.6981151864098125,
                  "_deepnote_index_column": 30
                },
                {
                  "0": 7.903710860487327,
                  "1": -5.103828940837941,
                  "2": 2.057600081053385,
                  "3": -4.9340658375486965,
                  "4": 1.1563684837085604,
                  "_deepnote_index_column": 31
                },
                {
                  "0": -11.00981265449852,
                  "1": -2.637115463697294,
                  "2": -7.001062201427054,
                  "3": -2.753143162934767,
                  "4": 6.011903360561635,
                  "_deepnote_index_column": 32
                },
                {
                  "0": -9.263666102780721,
                  "1": -5.214085580493989,
                  "2": 9.960948102479758,
                  "3": 6.4880913556103685,
                  "4": -1.405354223734967,
                  "_deepnote_index_column": 33
                },
                {
                  "0": -14.725429929663983,
                  "1": 6.298401360183822,
                  "2": -0.5495986287751414,
                  "3": -6.720373075731097,
                  "4": -4.622731302109485,
                  "_deepnote_index_column": 34
                },
                {
                  "0": 11.09788173246027,
                  "1": 12.552696840046309,
                  "2": 2.412293638709417,
                  "3": 2.474304230250256,
                  "4": 4.886753894847839,
                  "_deepnote_index_column": 35
                },
                {
                  "0": 13.380701562602923,
                  "1": -4.840262123232406,
                  "2": 0.3746859683235664,
                  "3": -2.3476756803337615,
                  "4": -4.036413160610315,
                  "_deepnote_index_column": 36
                },
                {
                  "0": -10.8550554966676,
                  "1": -5.445805650579986,
                  "2": 10.205310434899598,
                  "3": 5.02653219744057,
                  "4": 2.38193117840896,
                  "_deepnote_index_column": 37
                },
                {
                  "0": 13.968919245735494,
                  "1": -5.3737330127329725,
                  "2": 1.1979110320746824,
                  "3": -1.8333411185137973,
                  "4": -2.5218525541000463,
                  "_deepnote_index_column": 38
                },
                {
                  "0": 15.376653206268376,
                  "1": -3.6604540320851964,
                  "2": 1.04505656536497,
                  "3": -2.6343767090665486,
                  "4": -2.2927389460684107,
                  "_deepnote_index_column": 39
                },
                {
                  "0": 10.806633168345334,
                  "1": 14.57504547894647,
                  "2": 1.8930734393447017,
                  "3": 2.1275815544972314,
                  "4": 3.7627555620077136,
                  "_deepnote_index_column": 40
                },
                {
                  "0": 13.914888698354991,
                  "1": -5.296698882649347,
                  "2": 0.1928048951595404,
                  "3": -1.202743625674459,
                  "4": -1.7338883290153353,
                  "_deepnote_index_column": 41
                },
                {
                  "0": 10.331210563584511,
                  "1": 14.474919916577496,
                  "2": 2.596693274830861,
                  "3": 2.8147354217311817,
                  "4": 2.4059703671832935,
                  "_deepnote_index_column": 42
                },
                {
                  "0": 11.595431428328322,
                  "1": 11.975423265907157,
                  "2": 3.515509468083443,
                  "3": 3.5847032305523623,
                  "4": 2.0291205734498408,
                  "_deepnote_index_column": 43
                },
                {
                  "0": 12.448377251493229,
                  "1": 16.197135858372068,
                  "2": 2.5212583126181416,
                  "3": 2.506247556404026,
                  "4": 2.835759563856455,
                  "_deepnote_index_column": 44
                },
                {
                  "0": 6.7003368073667025,
                  "1": -6.154375781857116,
                  "2": 2.2575792460563946,
                  "3": -5.661893999649004,
                  "4": 2.457110344972682,
                  "_deepnote_index_column": 45
                },
                {
                  "0": 8.49432096708233,
                  "1": -6.887121758019913,
                  "2": 0.8717529385472891,
                  "3": -2.0763437070794546,
                  "4": 2.394006371713845,
                  "_deepnote_index_column": 46
                },
                {
                  "0": 11.163013684245806,
                  "1": 14.681936629988003,
                  "2": 2.606700607385861,
                  "3": 1.4667512257861235,
                  "4": 1.5963395399293046,
                  "_deepnote_index_column": 47
                },
                {
                  "0": -13.20954657537967,
                  "1": -4.252440752859835,
                  "2": -6.064661447166762,
                  "3": -1.9021280851849578,
                  "4": 5.184450403753883,
                  "_deepnote_index_column": 48
                },
                {
                  "0": -10.451332795151119,
                  "1": -1.016142160860073,
                  "2": -6.953575122677637,
                  "3": -2.0318526604769986,
                  "4": 5.87660830895609,
                  "_deepnote_index_column": 49
                },
                {
                  "0": 10.656357990386494,
                  "1": 12.607618354102645,
                  "2": 3.272706058065149,
                  "3": 2.79137198090694,
                  "4": 2.9316007702959315,
                  "_deepnote_index_column": 50
                },
                {
                  "0": 9.777398125223,
                  "1": -6.130339915744451,
                  "2": 3.4712432010870207,
                  "3": -4.132303036781655,
                  "4": 2.1498538779599956,
                  "_deepnote_index_column": 51
                },
                {
                  "0": -12.120927131491205,
                  "1": 7.0103006883118235,
                  "2": -0.5267482318697777,
                  "3": -6.88022106594702,
                  "4": -4.577117001704485,
                  "_deepnote_index_column": 52
                },
                {
                  "0": 8.398501464932735,
                  "1": -5.269748007431395,
                  "2": 2.9414947915879193,
                  "3": -4.943107776966574,
                  "4": 1.9613984570311946,
                  "_deepnote_index_column": 53
                },
                {
                  "0": -11.097428717654314,
                  "1": -5.028425659400186,
                  "2": 7.692058290886956,
                  "3": 6.475039884025179,
                  "4": 0.007261817791956246,
                  "_deepnote_index_column": 54
                },
                {
                  "0": 2.0403468557036293,
                  "1": -1.0067207111088994,
                  "2": -8.815982588102226,
                  "3": 6.545089101828047,
                  "4": -4.072565220789406,
                  "_deepnote_index_column": 55
                },
                {
                  "0": -10.28774894697093,
                  "1": -4.1849556809589075,
                  "2": 10.015383149030239,
                  "3": 5.600990494512729,
                  "4": 0.051990181800298636,
                  "_deepnote_index_column": 56
                },
                {
                  "0": -9.479175289374746,
                  "1": -1.4332676743847361,
                  "2": -6.569413713320125,
                  "3": -1.505724199708913,
                  "4": 5.791092637613993,
                  "_deepnote_index_column": 57
                },
                {
                  "0": -9.965679695260087,
                  "1": -6.998985475209046,
                  "2": 9.313887284164565,
                  "3": 5.367194277287015,
                  "4": -2.163790986037148,
                  "_deepnote_index_column": 58
                },
                {
                  "0": -12.765296688314276,
                  "1": 5.860437397148026,
                  "2": -2.137293652568804,
                  "3": -7.035193858819314,
                  "4": -6.378007680451392,
                  "_deepnote_index_column": 59
                },
                {
                  "0": -11.426642560807167,
                  "1": -4.094713684200244,
                  "2": -7.862645342683244,
                  "3": -3.256278554262333,
                  "4": 6.097609779319925,
                  "_deepnote_index_column": 60
                },
                {
                  "0": 2.3738467116816775,
                  "1": -1.8659740194414716,
                  "2": -8.532073348453071,
                  "3": 7.36584342286991,
                  "4": -4.850552111610003,
                  "_deepnote_index_column": 61
                },
                {
                  "0": -10.49182029579142,
                  "1": -0.895942153518546,
                  "2": -7.4060048466620305,
                  "3": -1.4745054088258125,
                  "4": 7.526326167494556,
                  "_deepnote_index_column": 62
                },
                {
                  "0": 14.259353838057082,
                  "1": -6.191223685932654,
                  "2": 1.7689086557820812,
                  "3": -2.246438761055903,
                  "4": -2.386748415048481,
                  "_deepnote_index_column": 63
                },
                {
                  "0": -12.80679574296211,
                  "1": 7.430925861232071,
                  "2": -0.015918043146281702,
                  "3": -6.636260318979812,
                  "4": -5.471007082738369,
                  "_deepnote_index_column": 64
                },
                {
                  "0": 13.025325139037056,
                  "1": -6.3576770679360335,
                  "2": -0.27907519952297727,
                  "3": -1.6960041999047497,
                  "4": -2.6775303965433697,
                  "_deepnote_index_column": 65
                },
                {
                  "0": 9.028096320952487,
                  "1": 13.100912086973842,
                  "2": 2.373258057886957,
                  "3": 4.399545649840975,
                  "4": 3.058756188533474,
                  "_deepnote_index_column": 66
                },
                {
                  "0": -12.95803966774276,
                  "1": 9.470175545928408,
                  "2": 0.5750779782599854,
                  "3": -6.612753277476419,
                  "4": -4.4458228448879185,
                  "_deepnote_index_column": 67
                },
                {
                  "0": 5.779565789138962,
                  "1": -4.752785605780072,
                  "2": -0.17461845862075728,
                  "3": -5.861253902908124,
                  "4": 2.7104570433427324,
                  "_deepnote_index_column": 68
                },
                {
                  "0": 8.832497457105434,
                  "1": -5.291268711686652,
                  "2": 1.4681746341980315,
                  "3": -4.349524127085788,
                  "4": 3.618874949655718,
                  "_deepnote_index_column": 69
                },
                {
                  "0": 8.77259073494835,
                  "1": 11.77613411777712,
                  "2": 3.8383855718402797,
                  "3": 2.2038231415334018,
                  "4": 3.415769881798306,
                  "_deepnote_index_column": 70
                },
                {
                  "0": 0.1650361928137268,
                  "1": -1.7850008920359797,
                  "2": -7.879488973996487,
                  "3": 7.785251968563059,
                  "4": -4.7304236247026115,
                  "_deepnote_index_column": 71
                },
                {
                  "0": 10.380580480727566,
                  "1": -5.337614345784649,
                  "2": 0.9105434722746291,
                  "3": -6.090186398699322,
                  "4": -0.14743298852209408,
                  "_deepnote_index_column": 72
                },
                {
                  "0": 7.170764010104985,
                  "1": -6.723689254530407,
                  "2": 1.8875736622385935,
                  "3": -4.864901208910521,
                  "4": 1.4250085499550973,
                  "_deepnote_index_column": 73
                },
                {
                  "0": 15.469540115335265,
                  "1": -7.335133425991707,
                  "2": 1.6689322740152814,
                  "3": -2.994301333712883,
                  "4": -1.92841277338803,
                  "_deepnote_index_column": 74
                },
                {
                  "0": -9.336800098945183,
                  "1": -1.6089361660089607,
                  "2": -7.112317531725525,
                  "3": -0.6570356465189531,
                  "4": 5.058805774163422,
                  "_deepnote_index_column": 75
                },
                {
                  "0": 14.799987558821398,
                  "1": -5.744871866160752,
                  "2": 1.9930171705198043,
                  "3": -4.217019720743493,
                  "4": -2.2528262813047744,
                  "_deepnote_index_column": 76
                },
                {
                  "0": -10.07641917016011,
                  "1": -6.066627531925465,
                  "2": 9.38539423878516,
                  "3": 5.9669931164185686,
                  "4": 0.42783132780277183,
                  "_deepnote_index_column": 77
                },
                {
                  "0": -11.06304539613851,
                  "1": -6.022483127640286,
                  "2": 10.719287250661274,
                  "3": 5.706588138774569,
                  "4": -1.1992902603303288,
                  "_deepnote_index_column": 78
                },
                {
                  "0": 9.272539631481397,
                  "1": 13.92038809050918,
                  "2": 2.844334458778634,
                  "3": 4.592330807219304,
                  "4": 4.216856360639068,
                  "_deepnote_index_column": 79
                },
                {
                  "0": 7.943039595027032,
                  "1": -4.666078740576742,
                  "2": 1.0788355453167886,
                  "3": -5.540634905303838,
                  "4": 0.8984773429557852,
                  "_deepnote_index_column": 80
                },
                {
                  "0": -9.72148626689867,
                  "1": -3.1091512233984058,
                  "2": -6.8924512455804825,
                  "3": -1.115404377442728,
                  "4": 6.10784119899497,
                  "_deepnote_index_column": 81
                },
                {
                  "0": 8.659556738331899,
                  "1": 13.231893049810768,
                  "2": 3.760536127254076,
                  "3": 2.2254163941184255,
                  "4": 2.4927243973281183,
                  "_deepnote_index_column": 82
                },
                {
                  "0": 2.1657068879923767,
                  "1": -1.988067091640238,
                  "2": -7.4981421970884,
                  "3": 8.57092299454263,
                  "4": -3.189179348587516,
                  "_deepnote_index_column": 83
                },
                {
                  "0": -11.187300681968763,
                  "1": -6.9397914937419465,
                  "2": 9.842438946959698,
                  "3": 6.894220868828949,
                  "4": 1.0503872944675763,
                  "_deepnote_index_column": 84
                },
                {
                  "0": 8.363385776460593,
                  "1": -5.3454549821931465,
                  "2": 2.7063600211731496,
                  "3": -6.507365616624573,
                  "4": 2.582154478537368,
                  "_deepnote_index_column": 85
                },
                {
                  "0": 14.874114759763058,
                  "1": -6.857227454564458,
                  "2": 0.6493494964579519,
                  "3": -1.2747990215936595,
                  "4": -4.648592894841031,
                  "_deepnote_index_column": 86
                },
                {
                  "0": -12.84215542430765,
                  "1": 7.133125118831076,
                  "2": 0.5447677762676247,
                  "3": -8.043020340817737,
                  "4": -3.296401537379266,
                  "_deepnote_index_column": 87
                },
                {
                  "0": -11.001793443905648,
                  "1": -4.720318206323525,
                  "2": 10.138962423221123,
                  "3": 5.442369238441808,
                  "4": -0.25934732198132365,
                  "_deepnote_index_column": 88
                },
                {
                  "0": -11.67693692425219,
                  "1": -7.02341713650619,
                  "2": 9.77551398344968,
                  "3": 6.150330646211649,
                  "4": -0.3381373900113245,
                  "_deepnote_index_column": 89
                },
                {
                  "0": -11.595981667413996,
                  "1": 8.084873213994516,
                  "2": -0.7471105486598605,
                  "3": -6.3049435107890925,
                  "4": -3.6024053578096704,
                  "_deepnote_index_column": 90
                },
                {
                  "0": -11.59095805942905,
                  "1": -5.579729296944196,
                  "2": 9.721188235405949,
                  "3": 5.058089699600399,
                  "4": -0.6155868616786033,
                  "_deepnote_index_column": 91
                },
                {
                  "0": 10.21914984418076,
                  "1": 16.848118181176424,
                  "2": 3.9134975852692384,
                  "3": 3.930293902109838,
                  "4": 1.7482154828153367,
                  "_deepnote_index_column": 92
                },
                {
                  "0": 2.4531910511649033,
                  "1": 0.84456676748827,
                  "2": -8.343345990151624,
                  "3": 8.452866935790215,
                  "4": -3.3165513085241836,
                  "_deepnote_index_column": 93
                },
                {
                  "0": 1.5791051800088025,
                  "1": -1.0038655323556385,
                  "2": -7.65357556916357,
                  "3": 7.793890214460137,
                  "4": -3.118833145841972,
                  "_deepnote_index_column": 94
                },
                {
                  "0": 8.711383798718188,
                  "1": -4.7190198006244986,
                  "2": 2.5948650793992107,
                  "3": -3.686355330129011,
                  "4": 3.353817725935297,
                  "_deepnote_index_column": 95
                },
                {
                  "0": -11.665437361610806,
                  "1": -3.2224606152200015,
                  "2": -5.383904423824667,
                  "3": -2.0981450304894795,
                  "4": 5.8250280088975295,
                  "_deepnote_index_column": 96
                },
                {
                  "0": -11.6199258522687,
                  "1": -5.378192957232852,
                  "2": 7.945857274276934,
                  "3": 5.462720351388995,
                  "4": 1.7277778700055635,
                  "_deepnote_index_column": 97
                },
                {
                  "0": 6.955641708663972,
                  "1": -7.1413517299175595,
                  "2": 0.7778645817916624,
                  "3": -4.103528983765995,
                  "4": 0.36170161116018934,
                  "_deepnote_index_column": 98
                },
                {
                  "0": 14.749220597166932,
                  "1": -5.70339301798609,
                  "2": 0.40719263415110246,
                  "3": -1.8584761940053969,
                  "4": -2.8819581531538985,
                  "_deepnote_index_column": 99
                }
              ],
              "rows_bottom": [
                {
                  "0": -13.918903825322072,
                  "1": 8.491527973051017,
                  "2": 0.4551465138522806,
                  "3": -6.035394217005912,
                  "4": -4.401735242235311,
                  "_deepnote_index_column": 900
                },
                {
                  "0": -10.439713652670648,
                  "1": -2.8579480196952005,
                  "2": -6.10494778470531,
                  "3": -1.500986256928419,
                  "4": 5.155348111105043,
                  "_deepnote_index_column": 901
                },
                {
                  "0": 14.475547928289929,
                  "1": -5.517348264846519,
                  "2": -0.5115991256822007,
                  "3": -2.8511697226566066,
                  "4": -3.6154604800166457,
                  "_deepnote_index_column": 902
                },
                {
                  "0": 8.909742032747763,
                  "1": 14.558001872733728,
                  "2": 1.74687833333405,
                  "3": 2.3420053646984225,
                  "4": 1.0967252869309307,
                  "_deepnote_index_column": 903
                },
                {
                  "0": 10.614388195617927,
                  "1": -5.00104010764329,
                  "2": 3.0136680836338834,
                  "3": -5.698774186149193,
                  "4": 4.889769363416888,
                  "_deepnote_index_column": 904
                },
                {
                  "0": 9.58275500091747,
                  "1": 13.91105180564361,
                  "2": 3.735759840218212,
                  "3": 2.8341559114109267,
                  "4": 3.2541348119298386,
                  "_deepnote_index_column": 905
                },
                {
                  "0": 9.494325722126323,
                  "1": 12.649990436147421,
                  "2": 3.946567214235964,
                  "3": 1.8996106650415725,
                  "4": 2.6068312237723816,
                  "_deepnote_index_column": 906
                },
                {
                  "0": 14.43667942251746,
                  "1": -5.700114353952007,
                  "2": -0.7912205913450985,
                  "3": -2.513109563305477,
                  "4": -2.965201441909668,
                  "_deepnote_index_column": 907
                },
                {
                  "0": -12.456186604168783,
                  "1": -3.1257433274884483,
                  "2": -5.994327563856538,
                  "3": -2.0439480379018264,
                  "4": 5.789781271896443,
                  "_deepnote_index_column": 908
                },
                {
                  "0": 1.1791641467894467,
                  "1": -1.866480076526213,
                  "2": -7.378752978956046,
                  "3": 6.541298047442657,
                  "4": -2.5698988416813378,
                  "_deepnote_index_column": 909
                },
                {
                  "0": 15.174040380746934,
                  "1": -6.023406234295875,
                  "2": 1.560081737635872,
                  "3": -4.007792177641939,
                  "4": -4.021403483063339,
                  "_deepnote_index_column": 910
                },
                {
                  "0": 7.776540045519287,
                  "1": -6.6804054486599265,
                  "2": 1.904428376174028,
                  "3": -4.113507020734777,
                  "4": 3.196962504896569,
                  "_deepnote_index_column": 911
                },
                {
                  "0": -10.412728012322585,
                  "1": -2.2633349462433117,
                  "2": -7.247354032681827,
                  "3": 1.0981270953534474,
                  "4": 4.329824092350966,
                  "_deepnote_index_column": 912
                },
                {
                  "0": 11.410757029101031,
                  "1": 13.622943714810047,
                  "2": 3.6231933057069896,
                  "3": 3.2942893144168055,
                  "4": 4.034581881059855,
                  "_deepnote_index_column": 913
                },
                {
                  "0": 10.283186656157323,
                  "1": 13.040836220819672,
                  "2": 3.4386951373249097,
                  "3": 1.8770605196331462,
                  "4": 2.8180478919494583,
                  "_deepnote_index_column": 914
                },
                {
                  "0": -11.494267672611237,
                  "1": 8.15816954821641,
                  "2": -0.7140068611630507,
                  "3": -5.953202046177419,
                  "4": -5.019626268766895,
                  "_deepnote_index_column": 915
                },
                {
                  "0": -13.305795646466946,
                  "1": 8.482786235920303,
                  "2": 1.689887943047372,
                  "3": -5.092126216404533,
                  "4": -6.1887789811524865,
                  "_deepnote_index_column": 916
                },
                {
                  "0": -11.153015829239576,
                  "1": -7.094799251324094,
                  "2": 9.30599254059442,
                  "3": 7.758060651141239,
                  "4": 1.746821283613356,
                  "_deepnote_index_column": 917
                },
                {
                  "0": 15.029207946452617,
                  "1": -6.492445947842265,
                  "2": 0.18740469346876568,
                  "3": -4.214150040167197,
                  "4": -5.710693442220016,
                  "_deepnote_index_column": 918
                },
                {
                  "0": 11.368936720304246,
                  "1": 14.039300607358175,
                  "2": 3.614514896875938,
                  "3": 2.9599806464638623,
                  "4": 4.058881209291577,
                  "_deepnote_index_column": 919
                },
                {
                  "0": -10.06214707024873,
                  "1": -1.1071289830633269,
                  "2": -5.001904498854022,
                  "3": -1.673319825097041,
                  "4": 4.876142457154625,
                  "_deepnote_index_column": 920
                },
                {
                  "0": -13.468315470148442,
                  "1": 8.003218107726884,
                  "2": -0.47881489970706664,
                  "3": -6.359072964098259,
                  "4": -4.37578265452437,
                  "_deepnote_index_column": 921
                },
                {
                  "0": 0.24815442644143598,
                  "1": -2.6330459381889164,
                  "2": -9.471385615988497,
                  "3": 6.862532670134501,
                  "4": -4.854493788003152,
                  "_deepnote_index_column": 922
                },
                {
                  "0": -11.74632756792787,
                  "1": 6.737197512140673,
                  "2": 2.739358028355396,
                  "3": -5.893077959413572,
                  "4": -2.5069546575194854,
                  "_deepnote_index_column": 923
                },
                {
                  "0": 8.423613911755263,
                  "1": -5.35262923641517,
                  "2": 1.4412433250896108,
                  "3": -6.197111504511359,
                  "4": 2.8167559255975303,
                  "_deepnote_index_column": 924
                },
                {
                  "0": 13.290982922054932,
                  "1": -5.721502391998546,
                  "2": 1.5388799068995664,
                  "3": -1.0661562671383362,
                  "4": -3.196069302086772,
                  "_deepnote_index_column": 925
                },
                {
                  "0": 10.34886571048786,
                  "1": 12.80860005029725,
                  "2": 0.9739936011613565,
                  "3": 2.9155841147371007,
                  "4": 2.7062433081440083,
                  "_deepnote_index_column": 926
                },
                {
                  "0": -12.722228322779909,
                  "1": -3.499332861002915,
                  "2": 7.876383254599865,
                  "3": 4.739810219636133,
                  "4": 0.8549110604258001,
                  "_deepnote_index_column": 927
                },
                {
                  "0": -11.989471587638532,
                  "1": 6.803883846868657,
                  "2": 0.32377979061756235,
                  "3": -5.73272488093283,
                  "4": -3.1988097405857,
                  "_deepnote_index_column": 928
                },
                {
                  "0": 11.172691889930295,
                  "1": 12.95125357228748,
                  "2": 2.37903078752955,
                  "3": 3.4662920581244725,
                  "4": 2.9071504745266767,
                  "_deepnote_index_column": 929
                },
                {
                  "0": -11.853630271197455,
                  "1": -1.3995527775318226,
                  "2": -6.204895587477051,
                  "3": -0.21470065785391773,
                  "4": 5.30650386286212,
                  "_deepnote_index_column": 930
                },
                {
                  "0": 10.5737322613632,
                  "1": 13.079926850716683,
                  "2": 2.026825411807535,
                  "3": 2.8585324824320835,
                  "4": 3.246354368377181,
                  "_deepnote_index_column": 931
                },
                {
                  "0": 14.133260327352522,
                  "1": -6.7530217780155395,
                  "2": -0.7603304704534473,
                  "3": -3.4095656362515827,
                  "4": -1.4559785259579656,
                  "_deepnote_index_column": 932
                },
                {
                  "0": 1.2949803153135107,
                  "1": -1.6444276696213869,
                  "2": -8.87242595970152,
                  "3": 7.866927964183931,
                  "4": -4.493515293388012,
                  "_deepnote_index_column": 933
                },
                {
                  "0": 7.575161223842869,
                  "1": -4.851221828587826,
                  "2": 2.7765022825478933,
                  "3": -5.316142371399819,
                  "4": 2.24621298178604,
                  "_deepnote_index_column": 934
                },
                {
                  "0": -11.429049751757251,
                  "1": -2.6627373528725653,
                  "2": -7.699809860891068,
                  "3": -1.2684280083659996,
                  "4": 3.9855188178066894,
                  "_deepnote_index_column": 935
                },
                {
                  "0": 8.542025391736948,
                  "1": -5.518088154328938,
                  "2": 2.4747741290323293,
                  "3": -5.4180030748662515,
                  "4": 3.9771563179840297,
                  "_deepnote_index_column": 936
                },
                {
                  "0": -12.832893956274107,
                  "1": 9.426977352719518,
                  "2": -0.6651556297261859,
                  "3": -5.760212263324236,
                  "4": -3.5656113382503256,
                  "_deepnote_index_column": 937
                },
                {
                  "0": -13.338958255182867,
                  "1": 7.103497899326462,
                  "2": -0.7637089637974878,
                  "3": -4.762259712812214,
                  "4": -2.8703448807866696,
                  "_deepnote_index_column": 938
                },
                {
                  "0": -10.436369214054046,
                  "1": -0.7231570325139762,
                  "2": -6.629641067560166,
                  "3": -2.8721431653673513,
                  "4": 6.137173763138588,
                  "_deepnote_index_column": 939
                },
                {
                  "0": 10.218618599064119,
                  "1": 12.682221174693703,
                  "2": 1.648155061055547,
                  "3": 2.9915207804570043,
                  "4": 2.5074331251745625,
                  "_deepnote_index_column": 940
                },
                {
                  "0": 1.075528990789313,
                  "1": -2.65894536365863,
                  "2": -6.796049911701033,
                  "3": 6.691735338813487,
                  "4": -4.326495159052129,
                  "_deepnote_index_column": 941
                },
                {
                  "0": 9.478649491519796,
                  "1": 13.728787638449896,
                  "2": 1.4751534914283218,
                  "3": 4.054600176417141,
                  "4": 3.95568781500635,
                  "_deepnote_index_column": 942
                },
                {
                  "0": 8.010053543003218,
                  "1": -5.0097248249406885,
                  "2": 2.8976812763293376,
                  "3": -5.749519997165732,
                  "4": 2.9173041994670315,
                  "_deepnote_index_column": 943
                },
                {
                  "0": 10.359445831021242,
                  "1": 14.192530647405235,
                  "2": 2.9795377917330117,
                  "3": 3.606102224755529,
                  "4": 3.6647709245581326,
                  "_deepnote_index_column": 944
                },
                {
                  "0": 8.05941702377337,
                  "1": -7.553904053128067,
                  "2": 1.9045027430442245,
                  "3": -5.709149579398991,
                  "4": 3.474310692261876,
                  "_deepnote_index_column": 945
                },
                {
                  "0": -10.429121231222618,
                  "1": -1.6799791061443128,
                  "2": -6.992222911290944,
                  "3": -1.561196209123797,
                  "4": 6.043663156703077,
                  "_deepnote_index_column": 946
                },
                {
                  "0": -12.712504258929163,
                  "1": -7.154038662643287,
                  "2": 9.206865180955381,
                  "3": 5.188244394095779,
                  "4": 0.011960960204159649,
                  "_deepnote_index_column": 947
                },
                {
                  "0": 7.949939820996441,
                  "1": -5.269337339044072,
                  "2": 2.4018702537960337,
                  "3": -5.689315541640355,
                  "4": 3.39349946798565,
                  "_deepnote_index_column": 948
                },
                {
                  "0": 14.155834145548777,
                  "1": -6.133469302149455,
                  "2": 0.39782800732243767,
                  "3": 0.018417924999242257,
                  "4": -2.240099446859116,
                  "_deepnote_index_column": 949
                },
                {
                  "0": -10.827743906736554,
                  "1": -3.0413830471693735,
                  "2": 8.636131122958565,
                  "3": 4.8297674166143985,
                  "4": -1.2760099627888348,
                  "_deepnote_index_column": 950
                },
                {
                  "0": -10.173050284741318,
                  "1": -4.591220761718403,
                  "2": 9.420011739117298,
                  "3": 5.694005333828461,
                  "4": -0.1284322551073403,
                  "_deepnote_index_column": 951
                },
                {
                  "0": -10.931334590363495,
                  "1": -1.5818470167387988,
                  "2": -5.1657260989617795,
                  "3": -3.267456198770408,
                  "4": 4.857416343277536,
                  "_deepnote_index_column": 952
                },
                {
                  "0": 0.8706500495469157,
                  "1": -1.1614935020591044,
                  "2": -8.158641696317263,
                  "3": 8.640629675473066,
                  "4": -3.003062927057925,
                  "_deepnote_index_column": 953
                },
                {
                  "0": -11.714223414891686,
                  "1": 7.319832437790773,
                  "2": 0.5547387963189829,
                  "3": -7.155858300146717,
                  "4": -4.804762678897068,
                  "_deepnote_index_column": 954
                },
                {
                  "0": -11.839150450178348,
                  "1": 6.257378679595033,
                  "2": -0.22261540139553052,
                  "3": -8.054939550360372,
                  "4": -5.79953709570994,
                  "_deepnote_index_column": 955
                },
                {
                  "0": 13.001124645878445,
                  "1": -5.037687104467981,
                  "2": 1.0117889003944402,
                  "3": -2.902744487482866,
                  "4": -4.215942330137315,
                  "_deepnote_index_column": 956
                },
                {
                  "0": -11.639380723739798,
                  "1": 5.722264361337218,
                  "2": 0.5184977939876351,
                  "3": -5.5084218324500975,
                  "4": -3.4067016415889873,
                  "_deepnote_index_column": 957
                },
                {
                  "0": 1.9704673073020365,
                  "1": -2.2415388608129847,
                  "2": -7.736863282112462,
                  "3": 8.5647088870567,
                  "4": -4.2119660317742875,
                  "_deepnote_index_column": 958
                },
                {
                  "0": 11.140186954671483,
                  "1": 13.34780630583471,
                  "2": 3.5325183742987436,
                  "3": 3.028077846697878,
                  "4": 2.0289178151887586,
                  "_deepnote_index_column": 959
                },
                {
                  "0": 8.496653098371645,
                  "1": -3.5304341324836295,
                  "2": 0.47161427687707114,
                  "3": -5.5603297914149605,
                  "4": 3.0200839676884734,
                  "_deepnote_index_column": 960
                },
                {
                  "0": 10.22743820326057,
                  "1": 12.169782232131473,
                  "2": 1.074864482379169,
                  "3": 3.3365321260878598,
                  "4": 3.6851455077974875,
                  "_deepnote_index_column": 961
                },
                {
                  "0": -10.763549157837096,
                  "1": -6.477253422632656,
                  "2": 8.868392048780462,
                  "3": 6.539097071988259,
                  "4": -0.4342494991570564,
                  "_deepnote_index_column": 962
                },
                {
                  "0": -10.55462154363273,
                  "1": -5.812953091957062,
                  "2": 10.229595105786089,
                  "3": 5.683652700146696,
                  "4": -1.1489145599861519,
                  "_deepnote_index_column": 963
                },
                {
                  "0": 1.8275392921018447,
                  "1": -2.238302336661505,
                  "2": -8.777008943993938,
                  "3": 8.426696632859676,
                  "4": -4.9197127637937985,
                  "_deepnote_index_column": 964
                },
                {
                  "0": 9.566642955728941,
                  "1": -5.627993667235716,
                  "2": 0.8911053980186193,
                  "3": -5.7939344035979365,
                  "4": 2.781391325103673,
                  "_deepnote_index_column": 965
                },
                {
                  "0": 12.285457309634062,
                  "1": -4.761805949719607,
                  "2": 0.4040582534740019,
                  "3": -3.873675839805689,
                  "4": -2.0477311201635917,
                  "_deepnote_index_column": 966
                },
                {
                  "0": 5.382120831988667,
                  "1": -3.6604488893604628,
                  "2": 1.5764823577277818,
                  "3": -3.8108120302776256,
                  "4": 3.0782785076365595,
                  "_deepnote_index_column": 967
                },
                {
                  "0": 2.953205946810761,
                  "1": -1.7400391811838951,
                  "2": -7.428579611296024,
                  "3": 7.681235206254122,
                  "4": -3.969166405410552,
                  "_deepnote_index_column": 968
                },
                {
                  "0": -12.038301432293606,
                  "1": -6.29267250531194,
                  "2": 8.795458040925903,
                  "3": 2.990005870556067,
                  "4": -0.7092490397900015,
                  "_deepnote_index_column": 969
                },
                {
                  "0": 1.3959269736972064,
                  "1": -2.5710629723198863,
                  "2": -7.905444835678072,
                  "3": 6.764917320420813,
                  "4": -3.678721019492168,
                  "_deepnote_index_column": 970
                },
                {
                  "0": 0.25072122726009594,
                  "1": -3.1545886671081065,
                  "2": -8.512484946961166,
                  "3": 7.287458731150676,
                  "4": -2.9313382109336414,
                  "_deepnote_index_column": 971
                },
                {
                  "0": 9.251762316642543,
                  "1": -7.103031693319562,
                  "2": 2.105381263850797,
                  "3": -5.041565652288879,
                  "4": 2.530180464629495,
                  "_deepnote_index_column": 972
                },
                {
                  "0": -12.633158179254387,
                  "1": -4.007953118940316,
                  "2": -6.840877128776551,
                  "3": -0.16237739697934225,
                  "4": 5.932650284094788,
                  "_deepnote_index_column": 973
                },
                {
                  "0": -10.950630305511677,
                  "1": -3.092092457363292,
                  "2": -7.14742000612013,
                  "3": -2.5539296135968903,
                  "4": 5.003989065750538,
                  "_deepnote_index_column": 974
                },
                {
                  "0": -13.422294946281703,
                  "1": 8.856773272675367,
                  "2": -0.24516990726681956,
                  "3": -6.032868340367445,
                  "4": -4.519359121174328,
                  "_deepnote_index_column": 975
                },
                {
                  "0": 10.276643927310465,
                  "1": 13.373199087742258,
                  "2": 2.2096154138573905,
                  "3": 3.9188669241911627,
                  "4": 1.4639435049688752,
                  "_deepnote_index_column": 976
                },
                {
                  "0": -8.962672682508238,
                  "1": -4.69062727591981,
                  "2": -8.927636967356303,
                  "3": -2.8727743523899525,
                  "4": 6.069041480423091,
                  "_deepnote_index_column": 977
                },
                {
                  "0": 9.565099699905431,
                  "1": 13.636806946129497,
                  "2": 2.537145757346514,
                  "3": 2.1769430370132765,
                  "4": 4.097346431932506,
                  "_deepnote_index_column": 978
                },
                {
                  "0": -10.71925489356723,
                  "1": -7.841128724421359,
                  "2": 10.49698673714992,
                  "3": 4.9359342610680415,
                  "4": 0.8305811783114202,
                  "_deepnote_index_column": 979
                },
                {
                  "0": 2.239259428119804,
                  "1": -3.534942353784606,
                  "2": -7.471569283909783,
                  "3": 6.215852088121836,
                  "4": -3.893961949232808,
                  "_deepnote_index_column": 980
                },
                {
                  "0": 1.273699764602642,
                  "1": -2.031919092275036,
                  "2": -7.029391990294841,
                  "3": 7.078473490375237,
                  "4": -3.806365423586472,
                  "_deepnote_index_column": 981
                },
                {
                  "0": -12.067179089493576,
                  "1": -6.781738011421604,
                  "2": 9.932127540010672,
                  "3": 5.936970628870083,
                  "4": -0.23335965251181418,
                  "_deepnote_index_column": 982
                },
                {
                  "0": 9.659163761948166,
                  "1": 12.264018704097216,
                  "2": 2.46345145356592,
                  "3": 4.0726192196116076,
                  "4": 2.876852614467183,
                  "_deepnote_index_column": 983
                },
                {
                  "0": 12.60233184917668,
                  "1": 12.228823344551802,
                  "2": 2.796553412450823,
                  "3": 2.0269948301155383,
                  "4": 2.886414071644263,
                  "_deepnote_index_column": 984
                },
                {
                  "0": -11.982153628357754,
                  "1": 8.999142814435437,
                  "2": 0.10229333708020708,
                  "3": -7.687902877957288,
                  "4": -4.391970059816694,
                  "_deepnote_index_column": 985
                },
                {
                  "0": 1.454092281410602,
                  "1": -2.0648316512257403,
                  "2": -9.007442771404868,
                  "3": 4.0484383346554695,
                  "4": -3.410783702683887,
                  "_deepnote_index_column": 986
                },
                {
                  "0": -12.565012473500733,
                  "1": 7.737801623036285,
                  "2": -0.6341156888631424,
                  "3": -7.384109609683786,
                  "4": -4.789820150873259,
                  "_deepnote_index_column": 987
                },
                {
                  "0": -0.501386915068927,
                  "1": -0.4884583063730074,
                  "2": -7.995270701515713,
                  "3": 6.485502998326592,
                  "4": -4.624873727149603,
                  "_deepnote_index_column": 988
                },
                {
                  "0": 2.077413329237836,
                  "1": -1.2926527409764643,
                  "2": -8.8401933642935,
                  "3": 7.8810189111488125,
                  "4": -2.706016028350687,
                  "_deepnote_index_column": 989
                },
                {
                  "0": -10.812154338434047,
                  "1": -2.4648446941027093,
                  "2": -6.453542308587167,
                  "3": -0.9008377506866482,
                  "4": 5.719650992922113,
                  "_deepnote_index_column": 990
                },
                {
                  "0": 7.805567915073139,
                  "1": -5.5519913173862205,
                  "2": 0.23432804197215043,
                  "3": -4.292007076346667,
                  "4": 3.503038766214154,
                  "_deepnote_index_column": 991
                },
                {
                  "0": 2.479295821556889,
                  "1": -1.473614885911078,
                  "2": -9.928165651671495,
                  "3": 6.572027853502941,
                  "4": -3.598244993064203,
                  "_deepnote_index_column": 992
                },
                {
                  "0": -11.095227067591019,
                  "1": -2.0289009280886354,
                  "2": -6.809844448461973,
                  "3": -2.092094696772024,
                  "4": 6.4341283987952025,
                  "_deepnote_index_column": 993
                },
                {
                  "0": 1.2457793981874397,
                  "1": -1.685868893939713,
                  "2": -8.534793755352593,
                  "3": 10.156638942299262,
                  "4": -1.2853141767746794,
                  "_deepnote_index_column": 994
                },
                {
                  "0": -12.811167614523665,
                  "1": 5.089181552448686,
                  "2": 0.43280728878136837,
                  "3": -6.438456813448567,
                  "4": -4.073176749507147,
                  "_deepnote_index_column": 995
                },
                {
                  "0": 13.992403225728786,
                  "1": -6.6264759968163744,
                  "2": 2.9538397544115442,
                  "3": -2.181909939089092,
                  "4": -2.09706505483997,
                  "_deepnote_index_column": 996
                },
                {
                  "0": 13.945019831231296,
                  "1": -4.576512131691314,
                  "2": 1.335249513059233,
                  "3": -2.22267347632688,
                  "4": -3.872313382232368,
                  "_deepnote_index_column": 997
                },
                {
                  "0": 1.5142059497329177,
                  "1": -0.4431863761277895,
                  "2": -9.67441657680403,
                  "3": 8.980124165141254,
                  "4": -3.1391269730957543,
                  "_deepnote_index_column": 998
                },
                {
                  "0": 11.755606196710255,
                  "1": 13.103539807618994,
                  "2": 1.1124870213152223,
                  "3": 1.4243988863805674,
                  "4": 3.498193479885199,
                  "_deepnote_index_column": 999
                }
              ]
            },
            "text/plain": "             0          1         2         3         4\n0    15.220699  -6.287647  0.695897 -4.661162 -2.157696\n1     7.648626  -6.150861  2.412064 -4.791754  2.281070\n2    10.069570  12.715796  3.124839  2.927057  1.959031\n3    14.203317  -4.832268  1.750344 -2.116115 -3.598842\n4   -12.591472   8.813087  0.387753 -6.567472 -4.630193\n..         ...        ...       ...       ...       ...\n995 -12.811168   5.089182  0.432807 -6.438457 -4.073177\n996  13.992403  -6.626476  2.953840 -2.181910 -2.097065\n997  13.945020  -4.576512  1.335250 -2.222673 -3.872313\n998   1.514206  -0.443186 -9.674417  8.980124 -3.139127\n999  11.755606  13.103540  1.112487  1.424399  3.498193\n\n[1000 rows x 5 columns]",
            "text/html": "<div>\n<style scoped>\n    .dataframe tbody tr th:only-of-type {\n        vertical-align: middle;\n    }\n\n    .dataframe tbody tr th {\n        vertical-align: top;\n    }\n\n    .dataframe thead th {\n        text-align: right;\n    }\n</style>\n<table border=\"1\" class=\"dataframe\">\n  <thead>\n    <tr style=\"text-align: right;\">\n      <th></th>\n      <th>0</th>\n      <th>1</th>\n      <th>2</th>\n      <th>3</th>\n      <th>4</th>\n    </tr>\n  </thead>\n  <tbody>\n    <tr>\n      <th>0</th>\n      <td>15.220699</td>\n      <td>-6.287647</td>\n      <td>0.695897</td>\n      <td>-4.661162</td>\n      <td>-2.157696</td>\n    </tr>\n    <tr>\n      <th>1</th>\n      <td>7.648626</td>\n      <td>-6.150861</td>\n      <td>2.412064</td>\n      <td>-4.791754</td>\n      <td>2.281070</td>\n    </tr>\n    <tr>\n      <th>2</th>\n      <td>10.069570</td>\n      <td>12.715796</td>\n      <td>3.124839</td>\n      <td>2.927057</td>\n      <td>1.959031</td>\n    </tr>\n    <tr>\n      <th>3</th>\n      <td>14.203317</td>\n      <td>-4.832268</td>\n      <td>1.750344</td>\n      <td>-2.116115</td>\n      <td>-3.598842</td>\n    </tr>\n    <tr>\n      <th>4</th>\n      <td>-12.591472</td>\n      <td>8.813087</td>\n      <td>0.387753</td>\n      <td>-6.567472</td>\n      <td>-4.630193</td>\n    </tr>\n    <tr>\n      <th>...</th>\n      <td>...</td>\n      <td>...</td>\n      <td>...</td>\n      <td>...</td>\n      <td>...</td>\n    </tr>\n    <tr>\n      <th>995</th>\n      <td>-12.811168</td>\n      <td>5.089182</td>\n      <td>0.432807</td>\n      <td>-6.438457</td>\n      <td>-4.073177</td>\n    </tr>\n    <tr>\n      <th>996</th>\n      <td>13.992403</td>\n      <td>-6.626476</td>\n      <td>2.953840</td>\n      <td>-2.181910</td>\n      <td>-2.097065</td>\n    </tr>\n    <tr>\n      <th>997</th>\n      <td>13.945020</td>\n      <td>-4.576512</td>\n      <td>1.335250</td>\n      <td>-2.222673</td>\n      <td>-3.872313</td>\n    </tr>\n    <tr>\n      <th>998</th>\n      <td>1.514206</td>\n      <td>-0.443186</td>\n      <td>-9.674417</td>\n      <td>8.980124</td>\n      <td>-3.139127</td>\n    </tr>\n    <tr>\n      <th>999</th>\n      <td>11.755606</td>\n      <td>13.103540</td>\n      <td>1.112487</td>\n      <td>1.424399</td>\n      <td>3.498193</td>\n    </tr>\n  </tbody>\n</table>\n<p>1000 rows × 5 columns</p>\n</div>"
          },
          "metadata": {}
        }
      ]
    },
    {
      "cell_type": "code",
      "metadata": {
        "tags": [],
        "deepnote_to_be_reexecuted": false,
        "source_hash": "5da07c84",
        "execution_millis": 3,
        "cell_id": "00016-f5e62265-283c-4c7a-a383-9a549ad01143",
        "execution_start": 1619166973060,
        "deepnote_cell_type": "code"
      },
      "source": "k_means_new = KMeans(init = \"k-means++\", n_clusters = 5, n_init = 12)",
      "execution_count": 15,
      "outputs": []
    },
    {
      "cell_type": "code",
      "metadata": {
        "tags": [],
        "deepnote_to_be_reexecuted": false,
        "source_hash": "becc2f1f",
        "cell_id": "00017-074b01d5-fb19-420c-aad0-f2ca39446181",
        "execution_millis": 33,
        "execution_start": 1619167093731,
        "deepnote_cell_type": "code"
      },
      "source": "X_new=df_new[[\"0\",\"1\",\"2\",\"3\",\"4\"]]\nk_means_new(X_new)",
      "execution_count": 21,
      "outputs": [
        {
          "output_type": "error",
          "ename": "KeyError",
          "evalue": "\"None of [Int64Index([0, 1, 2, 3, 4], dtype='int64')] are in the [columns]\"",
          "traceback": [
            "\u001b[0;31m---------------------------------------------------------------------------\u001b[0m",
            "\u001b[0;31mKeyError\u001b[0m                                  Traceback (most recent call last)",
            "\u001b[0;32m<ipython-input-21-77d7ae16b9dc>\u001b[0m in \u001b[0;36m<module>\u001b[0;34m\u001b[0m\n\u001b[0;32m----> 1\u001b[0;31m \u001b[0mX_new\u001b[0m\u001b[0;34m=\u001b[0m\u001b[0mdf_new\u001b[0m\u001b[0;34m[\u001b[0m\u001b[0;34m[\u001b[0m\u001b[0;36m0\u001b[0m\u001b[0;34m,\u001b[0m\u001b[0;36m1\u001b[0m\u001b[0;34m,\u001b[0m\u001b[0;36m2\u001b[0m\u001b[0;34m,\u001b[0m\u001b[0;36m3\u001b[0m\u001b[0;34m,\u001b[0m\u001b[0;36m4\u001b[0m\u001b[0;34m]\u001b[0m\u001b[0;34m]\u001b[0m\u001b[0;34m\u001b[0m\u001b[0;34m\u001b[0m\u001b[0m\n\u001b[0m\u001b[1;32m      2\u001b[0m \u001b[0mk_means_new\u001b[0m\u001b[0;34m(\u001b[0m\u001b[0mX_new\u001b[0m\u001b[0;34m)\u001b[0m\u001b[0;34m\u001b[0m\u001b[0;34m\u001b[0m\u001b[0m\n",
            "\u001b[0;32m/shared-libs/python3.7/py/lib/python3.7/site-packages/pandas/core/frame.py\u001b[0m in \u001b[0;36m__getitem__\u001b[0;34m(self, key)\u001b[0m\n\u001b[1;32m   3028\u001b[0m             \u001b[0;32mif\u001b[0m \u001b[0mis_iterator\u001b[0m\u001b[0;34m(\u001b[0m\u001b[0mkey\u001b[0m\u001b[0;34m)\u001b[0m\u001b[0;34m:\u001b[0m\u001b[0;34m\u001b[0m\u001b[0;34m\u001b[0m\u001b[0m\n\u001b[1;32m   3029\u001b[0m                 \u001b[0mkey\u001b[0m \u001b[0;34m=\u001b[0m \u001b[0mlist\u001b[0m\u001b[0;34m(\u001b[0m\u001b[0mkey\u001b[0m\u001b[0;34m)\u001b[0m\u001b[0;34m\u001b[0m\u001b[0;34m\u001b[0m\u001b[0m\n\u001b[0;32m-> 3030\u001b[0;31m             \u001b[0mindexer\u001b[0m \u001b[0;34m=\u001b[0m \u001b[0mself\u001b[0m\u001b[0;34m.\u001b[0m\u001b[0mloc\u001b[0m\u001b[0;34m.\u001b[0m\u001b[0m_get_listlike_indexer\u001b[0m\u001b[0;34m(\u001b[0m\u001b[0mkey\u001b[0m\u001b[0;34m,\u001b[0m \u001b[0maxis\u001b[0m\u001b[0;34m=\u001b[0m\u001b[0;36m1\u001b[0m\u001b[0;34m,\u001b[0m \u001b[0mraise_missing\u001b[0m\u001b[0;34m=\u001b[0m\u001b[0;32mTrue\u001b[0m\u001b[0;34m)\u001b[0m\u001b[0;34m[\u001b[0m\u001b[0;36m1\u001b[0m\u001b[0;34m]\u001b[0m\u001b[0;34m\u001b[0m\u001b[0;34m\u001b[0m\u001b[0m\n\u001b[0m\u001b[1;32m   3031\u001b[0m \u001b[0;34m\u001b[0m\u001b[0m\n\u001b[1;32m   3032\u001b[0m         \u001b[0;31m# take() does not accept boolean indexers\u001b[0m\u001b[0;34m\u001b[0m\u001b[0;34m\u001b[0m\u001b[0;34m\u001b[0m\u001b[0m\n",
            "\u001b[0;32m/shared-libs/python3.7/py/lib/python3.7/site-packages/pandas/core/indexing.py\u001b[0m in \u001b[0;36m_get_listlike_indexer\u001b[0;34m(self, key, axis, raise_missing)\u001b[0m\n\u001b[1;32m   1264\u001b[0m             \u001b[0mkeyarr\u001b[0m\u001b[0;34m,\u001b[0m \u001b[0mindexer\u001b[0m\u001b[0;34m,\u001b[0m \u001b[0mnew_indexer\u001b[0m \u001b[0;34m=\u001b[0m \u001b[0max\u001b[0m\u001b[0;34m.\u001b[0m\u001b[0m_reindex_non_unique\u001b[0m\u001b[0;34m(\u001b[0m\u001b[0mkeyarr\u001b[0m\u001b[0;34m)\u001b[0m\u001b[0;34m\u001b[0m\u001b[0;34m\u001b[0m\u001b[0m\n\u001b[1;32m   1265\u001b[0m \u001b[0;34m\u001b[0m\u001b[0m\n\u001b[0;32m-> 1266\u001b[0;31m         \u001b[0mself\u001b[0m\u001b[0;34m.\u001b[0m\u001b[0m_validate_read_indexer\u001b[0m\u001b[0;34m(\u001b[0m\u001b[0mkeyarr\u001b[0m\u001b[0;34m,\u001b[0m \u001b[0mindexer\u001b[0m\u001b[0;34m,\u001b[0m \u001b[0maxis\u001b[0m\u001b[0;34m,\u001b[0m \u001b[0mraise_missing\u001b[0m\u001b[0;34m=\u001b[0m\u001b[0mraise_missing\u001b[0m\u001b[0;34m)\u001b[0m\u001b[0;34m\u001b[0m\u001b[0;34m\u001b[0m\u001b[0m\n\u001b[0m\u001b[1;32m   1267\u001b[0m         \u001b[0;32mreturn\u001b[0m \u001b[0mkeyarr\u001b[0m\u001b[0;34m,\u001b[0m \u001b[0mindexer\u001b[0m\u001b[0;34m\u001b[0m\u001b[0;34m\u001b[0m\u001b[0m\n\u001b[1;32m   1268\u001b[0m \u001b[0;34m\u001b[0m\u001b[0m\n",
            "\u001b[0;32m/shared-libs/python3.7/py/lib/python3.7/site-packages/pandas/core/indexing.py\u001b[0m in \u001b[0;36m_validate_read_indexer\u001b[0;34m(self, key, indexer, axis, raise_missing)\u001b[0m\n\u001b[1;32m   1306\u001b[0m             \u001b[0;32mif\u001b[0m \u001b[0mmissing\u001b[0m \u001b[0;34m==\u001b[0m \u001b[0mlen\u001b[0m\u001b[0;34m(\u001b[0m\u001b[0mindexer\u001b[0m\u001b[0;34m)\u001b[0m\u001b[0;34m:\u001b[0m\u001b[0;34m\u001b[0m\u001b[0;34m\u001b[0m\u001b[0m\n\u001b[1;32m   1307\u001b[0m                 \u001b[0maxis_name\u001b[0m \u001b[0;34m=\u001b[0m \u001b[0mself\u001b[0m\u001b[0;34m.\u001b[0m\u001b[0mobj\u001b[0m\u001b[0;34m.\u001b[0m\u001b[0m_get_axis_name\u001b[0m\u001b[0;34m(\u001b[0m\u001b[0maxis\u001b[0m\u001b[0;34m)\u001b[0m\u001b[0;34m\u001b[0m\u001b[0;34m\u001b[0m\u001b[0m\n\u001b[0;32m-> 1308\u001b[0;31m                 \u001b[0;32mraise\u001b[0m \u001b[0mKeyError\u001b[0m\u001b[0;34m(\u001b[0m\u001b[0;34mf\"None of [{key}] are in the [{axis_name}]\"\u001b[0m\u001b[0;34m)\u001b[0m\u001b[0;34m\u001b[0m\u001b[0;34m\u001b[0m\u001b[0m\n\u001b[0m\u001b[1;32m   1309\u001b[0m \u001b[0;34m\u001b[0m\u001b[0m\n\u001b[1;32m   1310\u001b[0m             \u001b[0max\u001b[0m \u001b[0;34m=\u001b[0m \u001b[0mself\u001b[0m\u001b[0;34m.\u001b[0m\u001b[0mobj\u001b[0m\u001b[0;34m.\u001b[0m\u001b[0m_get_axis\u001b[0m\u001b[0;34m(\u001b[0m\u001b[0maxis\u001b[0m\u001b[0;34m)\u001b[0m\u001b[0;34m\u001b[0m\u001b[0;34m\u001b[0m\u001b[0m\n",
            "\u001b[0;31mKeyError\u001b[0m: \"None of [Int64Index([0, 1, 2, 3, 4], dtype='int64')] are in the [columns]\""
          ]
        }
      ]
    },
    {
      "cell_type": "code",
      "metadata": {
        "tags": [],
        "deepnote_to_be_reexecuted": false,
        "source_hash": "f7e46970",
        "cell_id": "00018-e948d338-77bf-409b-a6d8-9fbe09cd2ec6",
        "execution_millis": 13430,
        "execution_start": 1619166998278,
        "deepnote_cell_type": "code"
      },
      "source": "sns.set(style=\"ticks\")\nsns.pairplot(data = df_new)",
      "execution_count": 19,
      "outputs": [
        {
          "output_type": "execute_result",
          "execution_count": 19,
          "data": {
            "text/plain": "<seaborn.axisgrid.PairGrid at 0x7f6e48376a10>"
          },
          "metadata": {}
        },
        {
          "data": {
            "text/plain": "<Figure size 900x900 with 30 Axes>",
            "image/png": "[encoded data removed]"
          },
          "metadata": {},
          "output_type": "display_data"
        }
      ]
    },
    {
      "cell_type": "code",
      "metadata": {
        "tags": [],
        "cell_id": "00019-a2c48eec-e1a0-44cc-b59d-37c8b091ff34",
        "deepnote_cell_type": "code"
      },
      "source": "",
      "execution_count": null,
      "outputs": []
    },
    {
      "cell_type": "markdown",
      "source": "<a style='text-decoration:none;line-height:16px;display:flex;color:#5B5B62;padding:10px;justify-content:end;' href='https://deepnote.com?utm_source=created-in-deepnote-cell&projectId=a70149da-7ba5-4906-a687-caea6d00d31b' target=\"_blank\">\n<img alt='Created in deepnote.com' style='display:inline;max-height:16px;margin:0px;margin-right:7.5px;' src='data:image/svg+xml;base64,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' > </img>\nCreated in <span style='font-weight:600;margin-left:4px;'>Deepnote</span></a>",
      "metadata": {
        "tags": [],
        "created_in_deepnote_cell": true,
        "deepnote_cell_type": "markdown"
      }
    }
  ],
  "nbformat": 4,
  "nbformat_minor": 2,
  "metadata": {
    "orig_nbformat": 2,
    "deepnote": {
      "is_reactive": false
    },
    "deepnote_notebook_id": "a463552c-5ff4-4a78-acb5-9b7ddbea8e3f",
    "deepnote_execution_queue": []
  }
}