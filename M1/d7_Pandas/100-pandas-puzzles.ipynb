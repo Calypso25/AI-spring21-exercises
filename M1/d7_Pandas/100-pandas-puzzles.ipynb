{
  "cells": [
    {
      "cell_type": "markdown",
      "source": "# 100 pandas puzzles\n\nHere are 100* short puzzles for testing your knowledge of [pandas'](http://pandas.pydata.org/) power.\n\nSince pandas is a large library with many different specialist features and functions, these excercises focus mainly on the fundamentals of manipulating data (indexing, grouping, aggregating, cleaning), making use of the core DataFrame and Series objects. \n\nMany of the excerises here are stright-forward in that the solutions require no more than a few lines of code (in pandas or NumPy... don't go using pure Python!). Choosing the right methods and following best practices is the underlying goal.\n\nThe exercises are loosely divided in sections. Each section has a difficulty rating; these ratings are subjective, of course, but should be a seen as a rough guide as to how inventive the required solution is.\n\nIf you are looking for some other resources with pandas, the official documentation  is very extensive. In particular, some good places get a broader overview of pandas are...\n\n- [10 minutes to pandas](http://pandas.pydata.org/pandas-docs/stable/10min.html)\n- [pandas basics](http://pandas.pydata.org/pandas-docs/stable/basics.html)\n- [tutorials](http://pandas.pydata.org/pandas-docs/stable/tutorials.html)\n- [cookbook and idioms](http://pandas.pydata.org/pandas-docs/stable/cookbook.html#cookbook)\n\nEnjoy the puzzles!",
      "metadata": {
        "cell_id": "00000-dbc9b3e7-5d72-4739-b022-7be27eb1012e",
        "deepnote_cell_type": "markdown"
      }
    },
    {
      "cell_type": "markdown",
      "source": "## Importing pandas\n\n### Getting started and checking your pandas setup\n\nDifficulty: *easy* \n\n**1.** Import pandas under the name `pd`.",
      "metadata": {
        "cell_id": "00001-79b49d55-78ff-429e-9815-52ccffd425a4",
        "deepnote_cell_type": "markdown"
      }
    },
    {
      "cell_type": "code",
      "metadata": {
        "collapsed": true,
        "cell_id": "00002-bc433320-d7a1-4ef1-b117-2ab1f5747ac3",
        "deepnote_to_be_reexecuted": false,
        "source_hash": "c76c7c51",
        "execution_millis": 2,
        "execution_start": 1616511739595,
        "deepnote_cell_type": "code"
      },
      "source": "import pandas as pd\nimport numpy as np",
      "execution_count": 1,
      "outputs": []
    },
    {
      "cell_type": "markdown",
      "source": "**2.** Print the version of pandas that has been imported.",
      "metadata": {
        "cell_id": "00003-f891b2e9-5f0b-4648-b62c-2a12e6a187fd",
        "deepnote_cell_type": "markdown"
      }
    },
    {
      "cell_type": "code",
      "metadata": {
        "collapsed": true,
        "cell_id": "00004-e57f4528-54db-40e2-a476-3f2d3f5ac4db",
        "deepnote_to_be_reexecuted": false,
        "source_hash": "e61788c2",
        "execution_millis": 12,
        "execution_start": 1616511739603,
        "deepnote_cell_type": "code"
      },
      "source": "pd. __version__ ",
      "execution_count": 2,
      "outputs": [
        {
          "output_type": "execute_result",
          "execution_count": 2,
          "data": {
            "text/plain": "'1.2.3'"
          },
          "metadata": {}
        }
      ]
    },
    {
      "cell_type": "markdown",
      "source": "**3.** Print out all the version information of the libraries that are required by the pandas library.",
      "metadata": {
        "cell_id": "00005-f14d9476-2c2c-40e7-9114-dcb8d7e3bb8f",
        "deepnote_cell_type": "markdown"
      }
    },
    {
      "cell_type": "code",
      "metadata": {
        "collapsed": true,
        "cell_id": "00006-7a98c79e-40f2-401e-8c9d-b5f8840a35f7",
        "deepnote_to_be_reexecuted": false,
        "source_hash": "6643de18",
        "execution_millis": 981,
        "execution_start": 1616511739610,
        "deepnote_cell_type": "code"
      },
      "source": "pd.show_versions()",
      "execution_count": 3,
      "outputs": [
        {
          "name": "stdout",
          "text": "\nINSTALLED VERSIONS\n------------------\ncommit           : f2c8480af2f25efdbd803218b9d87980f416563e\npython           : 3.7.10.final.0\npython-bits      : 64\nOS               : Linux\nOS-release       : 5.4.95-42.163.amzn2.x86_64\nVersion          : #1 SMP Thu Feb 4 12:50:05 UTC 2021\nmachine          : x86_64\nprocessor        : \nbyteorder        : little\nLC_ALL           : en_US.UTF-8\nLANG             : en_US.UTF-8\nLOCALE           : en_US.UTF-8\n\npandas           : 1.2.3\nnumpy            : 1.19.5\npytz             : 2021.1\ndateutil         : 2.8.1\npip              : 20.1.1\nsetuptools       : 47.1.0\nCython           : None\npytest           : 6.2.2\nhypothesis       : None\nsphinx           : 3.5.2\nblosc            : None\nfeather          : None\nxlsxwriter       : None\nlxml.etree       : 4.6.2\nhtml5lib         : None\npymysql          : None\npsycopg2         : 2.8.6 (dt dec pq3 ext lo64)\njinja2           : 2.11.3\nIPython          : 7.21.0\npandas_datareader: None\nbs4              : None\nbottleneck       : None\nfsspec           : None\nfastparquet      : None\ngcsfs            : None\nmatplotlib       : 3.3.4\nnumexpr          : None\nodfpy            : None\nopenpyxl         : None\npandas_gbq       : None\npyarrow          : 3.0.0\npyxlsb           : None\ns3fs             : None\nscipy            : 1.6.1\nsqlalchemy       : 1.4.0\ntables           : None\ntabulate         : 0.8.9\nxarray           : None\nxlrd             : None\nxlwt             : None\nnumba            : None\n",
          "output_type": "stream"
        }
      ]
    },
    {
      "cell_type": "markdown",
      "source": "## DataFrame basics\n\n### A few of the fundamental routines for selecting, sorting, adding and aggregating data in DataFrames\n\nDifficulty: *easy*\n\nNote: remember to import numpy using:\n```python\nimport numpy as np\n```\n\nConsider the following Python dictionary `data` and Python list `labels`:\n\n``` python\ndata = {'animal': ['cat', 'cat', 'snake', 'dog', 'dog', 'cat', 'snake', 'cat', 'dog', 'dog'],\n        'age': [2.5, 3, 0.5, np.nan, 5, 2, 4.5, np.nan, 7, 3],\n        'visits': [1, 3, 2, 3, 2, 3, 1, 1, 2, 1],\n        'priority': ['yes', 'yes', 'no', 'yes', 'no', 'no', 'no', 'yes', 'no', 'no']}\n\nlabels = ['a', 'b', 'c', 'd', 'e', 'f', 'g', 'h', 'i', 'j']\n```\n(This is just some meaningless data I made up with the theme of animals and trips to a vet.)\n\n**4.** Create a DataFrame `df` from this dictionary `data` which has the index `labels`.",
      "metadata": {
        "cell_id": "00007-1d650d0b-387d-42df-834b-8235f60f3300",
        "deepnote_cell_type": "markdown"
      }
    },
    {
      "cell_type": "code",
      "metadata": {
        "collapsed": true,
        "cell_id": "00008-691d5ca3-0754-4320-8971-1654aaaf5296",
        "deepnote_to_be_reexecuted": false,
        "source_hash": "f70e54a3",
        "execution_millis": 40,
        "execution_start": 1616511740581,
        "deepnote_cell_type": "code"
      },
      "source": "data = {'animal': ['cat', 'cat', 'snake', 'dog', 'dog', 'cat', 'snake', 'cat', 'dog', 'dog'],\n        'age': [2.5, 3, 0.5, np.nan, 5, 2, 4.5, np.nan, 7, 3],\n        'visits': [1, 3, 2, 3, 2, 3, 1, 1, 2, 1],\n        'priority': ['yes', 'yes', 'no', 'yes', 'no', 'no', 'no', 'yes', 'no', 'no']}\n\nlabels = ['a', 'b', 'c', 'd', 'e', 'f', 'g', 'h', 'i', 'j']\n\ndf = pd.DataFrame(data, index=labels)\ndisplay(df)",
      "execution_count": 4,
      "outputs": [
        {
          "data": {
            "application/vnd.deepnote.dataframe.v2+json": {
              "row_count": 10,
              "column_count": 4,
              "columns": [
                {
                  "name": "animal",
                  "dtype": "object",
                  "stats": {
                    "unique_count": 3,
                    "nan_count": 0,
                    "categories": [
                      {
                        "name": "cat",
                        "count": 4
                      },
                      {
                        "name": "dog",
                        "count": 4
                      },
                      {
                        "name": "snake",
                        "count": 2
                      }
                    ]
                  }
                },
                {
                  "name": "age",
                  "dtype": "float64",
                  "stats": {
                    "unique_count": 7,
                    "nan_count": 2,
                    "min": 0.5,
                    "max": 7,
                    "histogram": [
                      {
                        "bin_start": 0.5,
                        "bin_end": 1.15,
                        "count": 1
                      },
                      {
                        "bin_start": 1.15,
                        "bin_end": 1.8,
                        "count": 0
                      },
                      {
                        "bin_start": 1.8,
                        "bin_end": 2.45,
                        "count": 1
                      },
                      {
                        "bin_start": 2.45,
                        "bin_end": 3.1,
                        "count": 3
                      },
                      {
                        "bin_start": 3.1,
                        "bin_end": 3.75,
                        "count": 0
                      },
                      {
                        "bin_start": 3.75,
                        "bin_end": 4.4,
                        "count": 0
                      },
                      {
                        "bin_start": 4.4,
                        "bin_end": 5.05,
                        "count": 2
                      },
                      {
                        "bin_start": 5.05,
                        "bin_end": 5.7,
                        "count": 0
                      },
                      {
                        "bin_start": 5.7,
                        "bin_end": 6.3500000000000005,
                        "count": 0
                      },
                      {
                        "bin_start": 6.3500000000000005,
                        "bin_end": 7,
                        "count": 1
                      }
                    ]
                  }
                },
                {
                  "name": "visits",
                  "dtype": "int64",
                  "stats": {
                    "unique_count": 3,
                    "nan_count": 0,
                    "min": 1,
                    "max": 3,
                    "histogram": [
                      {
                        "bin_start": 1,
                        "bin_end": 1.2,
                        "count": 4
                      },
                      {
                        "bin_start": 1.2,
                        "bin_end": 1.4,
                        "count": 0
                      },
                      {
                        "bin_start": 1.4,
                        "bin_end": 1.6,
                        "count": 0
                      },
                      {
                        "bin_start": 1.6,
                        "bin_end": 1.8,
                        "count": 0
                      },
                      {
                        "bin_start": 1.8,
                        "bin_end": 2,
                        "count": 0
                      },
                      {
                        "bin_start": 2,
                        "bin_end": 2.2,
                        "count": 3
                      },
                      {
                        "bin_start": 2.2,
                        "bin_end": 2.4000000000000004,
                        "count": 0
                      },
                      {
                        "bin_start": 2.4000000000000004,
                        "bin_end": 2.6,
                        "count": 0
                      },
                      {
                        "bin_start": 2.6,
                        "bin_end": 2.8,
                        "count": 0
                      },
                      {
                        "bin_start": 2.8,
                        "bin_end": 3,
                        "count": 3
                      }
                    ]
                  }
                },
                {
                  "name": "priority",
                  "dtype": "object",
                  "stats": {
                    "unique_count": 2,
                    "nan_count": 0,
                    "categories": [
                      {
                        "name": "no",
                        "count": 6
                      },
                      {
                        "name": "yes",
                        "count": 4
                      }
                    ]
                  }
                },
                {
                  "name": "_deepnote_index_column",
                  "dtype": "object"
                }
              ],
              "rows_top": [
                {
                  "animal": "cat",
                  "age": "2.5",
                  "visits": 1,
                  "priority": "yes",
                  "_deepnote_index_column": "a"
                },
                {
                  "animal": "cat",
                  "age": "3.0",
                  "visits": 3,
                  "priority": "yes",
                  "_deepnote_index_column": "b"
                },
                {
                  "animal": "snake",
                  "age": "0.5",
                  "visits": 2,
                  "priority": "no",
                  "_deepnote_index_column": "c"
                },
                {
                  "animal": "dog",
                  "age": "nan",
                  "visits": 3,
                  "priority": "yes",
                  "_deepnote_index_column": "d"
                },
                {
                  "animal": "dog",
                  "age": "5.0",
                  "visits": 2,
                  "priority": "no",
                  "_deepnote_index_column": "e"
                },
                {
                  "animal": "cat",
                  "age": "2.0",
                  "visits": 3,
                  "priority": "no",
                  "_deepnote_index_column": "f"
                },
                {
                  "animal": "snake",
                  "age": "4.5",
                  "visits": 1,
                  "priority": "no",
                  "_deepnote_index_column": "g"
                },
                {
                  "animal": "cat",
                  "age": "nan",
                  "visits": 1,
                  "priority": "yes",
                  "_deepnote_index_column": "h"
                },
                {
                  "animal": "dog",
                  "age": "7.0",
                  "visits": 2,
                  "priority": "no",
                  "_deepnote_index_column": "i"
                },
                {
                  "animal": "dog",
                  "age": "3.0",
                  "visits": 1,
                  "priority": "no",
                  "_deepnote_index_column": "j"
                }
              ],
              "rows_bottom": null
            },
            "text/plain": "  animal  age  visits priority\na    cat  2.5       1      yes\nb    cat  3.0       3      yes\nc  snake  0.5       2       no\nd    dog  NaN       3      yes\ne    dog  5.0       2       no\nf    cat  2.0       3       no\ng  snake  4.5       1       no\nh    cat  NaN       1      yes\ni    dog  7.0       2       no\nj    dog  3.0       1       no",
            "text/html": "<div>\n<style scoped>\n    .dataframe tbody tr th:only-of-type {\n        vertical-align: middle;\n    }\n\n    .dataframe tbody tr th {\n        vertical-align: top;\n    }\n\n    .dataframe thead th {\n        text-align: right;\n    }\n</style>\n<table border=\"1\" class=\"dataframe\">\n  <thead>\n    <tr style=\"text-align: right;\">\n      <th></th>\n      <th>animal</th>\n      <th>age</th>\n      <th>visits</th>\n      <th>priority</th>\n    </tr>\n  </thead>\n  <tbody>\n    <tr>\n      <th>a</th>\n      <td>cat</td>\n      <td>2.5</td>\n      <td>1</td>\n      <td>yes</td>\n    </tr>\n    <tr>\n      <th>b</th>\n      <td>cat</td>\n      <td>3.0</td>\n      <td>3</td>\n      <td>yes</td>\n    </tr>\n    <tr>\n      <th>c</th>\n      <td>snake</td>\n      <td>0.5</td>\n      <td>2</td>\n      <td>no</td>\n    </tr>\n    <tr>\n      <th>d</th>\n      <td>dog</td>\n      <td>NaN</td>\n      <td>3</td>\n      <td>yes</td>\n    </tr>\n    <tr>\n      <th>e</th>\n      <td>dog</td>\n      <td>5.0</td>\n      <td>2</td>\n      <td>no</td>\n    </tr>\n    <tr>\n      <th>f</th>\n      <td>cat</td>\n      <td>2.0</td>\n      <td>3</td>\n      <td>no</td>\n    </tr>\n    <tr>\n      <th>g</th>\n      <td>snake</td>\n      <td>4.5</td>\n      <td>1</td>\n      <td>no</td>\n    </tr>\n    <tr>\n      <th>h</th>\n      <td>cat</td>\n      <td>NaN</td>\n      <td>1</td>\n      <td>yes</td>\n    </tr>\n    <tr>\n      <th>i</th>\n      <td>dog</td>\n      <td>7.0</td>\n      <td>2</td>\n      <td>no</td>\n    </tr>\n    <tr>\n      <th>j</th>\n      <td>dog</td>\n      <td>3.0</td>\n      <td>1</td>\n      <td>no</td>\n    </tr>\n  </tbody>\n</table>\n</div>"
          },
          "metadata": {},
          "output_type": "display_data"
        }
      ]
    },
    {
      "cell_type": "markdown",
      "source": "**5.** Display a summary of the basic information about this DataFrame and its data.",
      "metadata": {
        "cell_id": "00009-9ee9de3d-2eec-4152-99eb-414a44612d1e",
        "deepnote_cell_type": "markdown"
      }
    },
    {
      "cell_type": "code",
      "metadata": {
        "collapsed": true,
        "cell_id": "00010-d65398bd-e63f-4a02-8755-be39773e07da",
        "deepnote_to_be_reexecuted": false,
        "source_hash": "367c90db",
        "execution_millis": 8,
        "execution_start": 1616511740614,
        "deepnote_cell_type": "code"
      },
      "source": "print(\"Summary information about this DataFrame and its data:\")\nprint(df.info())",
      "execution_count": 5,
      "outputs": [
        {
          "name": "stdout",
          "text": "Summary information about this DataFrame and its data:\n<class 'pandas.core.frame.DataFrame'>\nIndex: 10 entries, a to j\nData columns (total 4 columns):\n #   Column    Non-Null Count  Dtype  \n---  ------    --------------  -----  \n 0   animal    10 non-null     object \n 1   age       8 non-null      float64\n 2   visits    10 non-null     int64  \n 3   priority  10 non-null     object \ndtypes: float64(1), int64(1), object(2)\nmemory usage: 400.0+ bytes\nNone\n",
          "output_type": "stream"
        }
      ]
    },
    {
      "cell_type": "markdown",
      "source": "**6.** Return the first 3 rows of the DataFrame `df`.",
      "metadata": {
        "cell_id": "00011-25ed5ce5-1918-481d-ae02-a07c7cffcd0f",
        "deepnote_cell_type": "markdown"
      }
    },
    {
      "cell_type": "code",
      "metadata": {
        "collapsed": true,
        "cell_id": "00012-e6e7e063-b131-4008-a780-6690ce97a29e",
        "deepnote_to_be_reexecuted": false,
        "source_hash": "71163ced",
        "execution_millis": 7,
        "execution_start": 1616511740615,
        "deepnote_cell_type": "code"
      },
      "source": "print (\"First 3 rows of dataframe:\")\nprint (df.iloc[:3])",
      "execution_count": 6,
      "outputs": [
        {
          "name": "stdout",
          "text": "First 3 rows of dataframe:\n  animal  age  visits priority\na    cat  2.5       1      yes\nb    cat  3.0       3      yes\nc  snake  0.5       2       no\n",
          "output_type": "stream"
        }
      ]
    },
    {
      "cell_type": "markdown",
      "source": "**7.** Select just the 'animal' and 'age' columns from the DataFrame `df`.",
      "metadata": {
        "cell_id": "00013-e766663b-77f6-4a55-9ace-f531127860b3",
        "deepnote_cell_type": "markdown"
      }
    },
    {
      "cell_type": "code",
      "metadata": {
        "collapsed": true,
        "cell_id": "00014-3763a30e-1a27-45e4-a65a-db76ac6a7346",
        "deepnote_to_be_reexecuted": false,
        "source_hash": "311101c1",
        "execution_millis": 34,
        "execution_start": 1616511740616,
        "deepnote_cell_type": "code"
      },
      "source": "print(\"Select animal and age:\")\nprint(df.iloc[:,[0, 1]])",
      "execution_count": 7,
      "outputs": [
        {
          "name": "stdout",
          "text": "Select animal and age:\n  animal  age\na    cat  2.5\nb    cat  3.0\nc  snake  0.5\nd    dog  NaN\ne    dog  5.0\nf    cat  2.0\ng  snake  4.5\nh    cat  NaN\ni    dog  7.0\nj    dog  3.0\n",
          "output_type": "stream"
        }
      ]
    },
    {
      "cell_type": "markdown",
      "source": "**8.** Select the data in rows `[3, 4, 8]` *and* in columns `['animal', 'age']`.",
      "metadata": {
        "cell_id": "00015-7176a3c2-ec1a-4eb5-9e66-afa00e17febc",
        "deepnote_cell_type": "markdown"
      }
    },
    {
      "cell_type": "code",
      "metadata": {
        "collapsed": true,
        "cell_id": "00016-4ec0c080-501d-406c-920c-2ada772b718c",
        "deepnote_to_be_reexecuted": false,
        "source_hash": "6db19e45",
        "execution_millis": 8,
        "execution_start": 1616511740642,
        "deepnote_cell_type": "code"
      },
      "source": "print(\"Select data in rows [3,4,8] and columns [animal,age]:\")\nprint(df.iloc[[3,4,8],[0, 1]])",
      "execution_count": 8,
      "outputs": [
        {
          "name": "stdout",
          "text": "Select data in rows [3,4,8] and columns [animal,age]:\n  animal  age\nd    dog  NaN\ne    dog  5.0\ni    dog  7.0\n",
          "output_type": "stream"
        }
      ]
    },
    {
      "cell_type": "markdown",
      "source": "**9.** Select only the rows where the number of visits is greater than 2.",
      "metadata": {
        "cell_id": "00017-31b4716d-ca24-42f5-8f46-31675a1e7cbe",
        "deepnote_cell_type": "markdown"
      }
    },
    {
      "cell_type": "code",
      "metadata": {
        "collapsed": true,
        "cell_id": "00018-c79e5457-d4bf-4287-823a-ceec66885d05",
        "deepnote_to_be_reexecuted": false,
        "source_hash": "b3f45e2a",
        "execution_millis": 7,
        "execution_start": 1616511740643,
        "deepnote_cell_type": "code"
      },
      "source": "print(\"Number of visits is greater than 2:\")\nprint(df[df['visits'] > 2])",
      "execution_count": 9,
      "outputs": [
        {
          "name": "stdout",
          "text": "Number of visits is greater than 2:\n  animal  age  visits priority\nb    cat  3.0       3      yes\nd    dog  NaN       3      yes\nf    cat  2.0       3       no\n",
          "output_type": "stream"
        }
      ]
    },
    {
      "cell_type": "markdown",
      "source": "**10.** Select the rows where the age is missing, i.e. is `NaN`.",
      "metadata": {
        "cell_id": "00019-be899c36-8caa-43fa-9ae9-c241a583c0ed",
        "deepnote_cell_type": "markdown"
      }
    },
    {
      "cell_type": "code",
      "metadata": {
        "collapsed": true,
        "cell_id": "00020-cea6063c-a351-43a3-b2a2-ed5c57630f42",
        "deepnote_to_be_reexecuted": false,
        "source_hash": "350ff9f9",
        "execution_millis": 9,
        "execution_start": 1616511740678,
        "deepnote_cell_type": "code"
      },
      "source": "print(\"Rows where age is missing:\")\nprint(df[df['age'].isnull()])",
      "execution_count": 10,
      "outputs": [
        {
          "name": "stdout",
          "text": "Rows where age is missing:\n  animal  age  visits priority\nd    dog  NaN       3      yes\nh    cat  NaN       1      yes\n",
          "output_type": "stream"
        }
      ]
    },
    {
      "cell_type": "markdown",
      "source": "**11.** Select the rows where the animal is a cat *and* the age is less than 3.",
      "metadata": {
        "cell_id": "00021-8a102dd2-e292-4483-9b08-d37c22a6e04e",
        "deepnote_cell_type": "markdown"
      }
    },
    {
      "cell_type": "code",
      "metadata": {
        "tags": [],
        "cell_id": "00023-03cab3db-4215-4766-8e3a-c7d1b0adf6b1",
        "deepnote_to_be_reexecuted": false,
        "source_hash": "76da4882",
        "execution_millis": 9,
        "execution_start": 1616511740678,
        "deepnote_cell_type": "code"
      },
      "source": "print(\"Select rows where animal is cat and of cat is less than 3:\")\ndf[(df['animal'] == 'cat') & (df['age']<3)]",
      "execution_count": 11,
      "outputs": [
        {
          "name": "stdout",
          "text": "Select rows where animal is cat and of cat is less than 3:\n",
          "output_type": "stream"
        },
        {
          "output_type": "execute_result",
          "execution_count": 11,
          "data": {
            "application/vnd.deepnote.dataframe.v2+json": {
              "row_count": 2,
              "column_count": 4,
              "columns": [
                {
                  "name": "animal",
                  "dtype": "object",
                  "stats": {
                    "unique_count": 1,
                    "nan_count": 0,
                    "categories": [
                      {
                        "name": "cat",
                        "count": 2
                      }
                    ]
                  }
                },
                {
                  "name": "age",
                  "dtype": "float64",
                  "stats": {
                    "unique_count": 2,
                    "nan_count": 0,
                    "min": 2,
                    "max": 2.5,
                    "histogram": [
                      {
                        "bin_start": 2,
                        "bin_end": 2.05,
                        "count": 1
                      },
                      {
                        "bin_start": 2.05,
                        "bin_end": 2.1,
                        "count": 0
                      },
                      {
                        "bin_start": 2.1,
                        "bin_end": 2.15,
                        "count": 0
                      },
                      {
                        "bin_start": 2.15,
                        "bin_end": 2.2,
                        "count": 0
                      },
                      {
                        "bin_start": 2.2,
                        "bin_end": 2.25,
                        "count": 0
                      },
                      {
                        "bin_start": 2.25,
                        "bin_end": 2.3,
                        "count": 0
                      },
                      {
                        "bin_start": 2.3,
                        "bin_end": 2.35,
                        "count": 0
                      },
                      {
                        "bin_start": 2.35,
                        "bin_end": 2.4,
                        "count": 0
                      },
                      {
                        "bin_start": 2.4,
                        "bin_end": 2.45,
                        "count": 0
                      },
                      {
                        "bin_start": 2.45,
                        "bin_end": 2.5,
                        "count": 1
                      }
                    ]
                  }
                },
                {
                  "name": "visits",
                  "dtype": "int64",
                  "stats": {
                    "unique_count": 2,
                    "nan_count": 0,
                    "min": 1,
                    "max": 3,
                    "histogram": [
                      {
                        "bin_start": 1,
                        "bin_end": 1.2,
                        "count": 1
                      },
                      {
                        "bin_start": 1.2,
                        "bin_end": 1.4,
                        "count": 0
                      },
                      {
                        "bin_start": 1.4,
                        "bin_end": 1.6,
                        "count": 0
                      },
                      {
                        "bin_start": 1.6,
                        "bin_end": 1.8,
                        "count": 0
                      },
                      {
                        "bin_start": 1.8,
                        "bin_end": 2,
                        "count": 0
                      },
                      {
                        "bin_start": 2,
                        "bin_end": 2.2,
                        "count": 0
                      },
                      {
                        "bin_start": 2.2,
                        "bin_end": 2.4000000000000004,
                        "count": 0
                      },
                      {
                        "bin_start": 2.4000000000000004,
                        "bin_end": 2.6,
                        "count": 0
                      },
                      {
                        "bin_start": 2.6,
                        "bin_end": 2.8,
                        "count": 0
                      },
                      {
                        "bin_start": 2.8,
                        "bin_end": 3,
                        "count": 1
                      }
                    ]
                  }
                },
                {
                  "name": "priority",
                  "dtype": "object",
                  "stats": {
                    "unique_count": 2,
                    "nan_count": 0,
                    "categories": [
                      {
                        "name": "yes",
                        "count": 1
                      },
                      {
                        "name": "no",
                        "count": 1
                      }
                    ]
                  }
                },
                {
                  "name": "_deepnote_index_column",
                  "dtype": "object"
                }
              ],
              "rows_top": [
                {
                  "animal": "cat",
                  "age": 2.5,
                  "visits": 1,
                  "priority": "yes",
                  "_deepnote_index_column": "a"
                },
                {
                  "animal": "cat",
                  "age": 2,
                  "visits": 3,
                  "priority": "no",
                  "_deepnote_index_column": "f"
                }
              ],
              "rows_bottom": null
            },
            "text/plain": "  animal  age  visits priority\na    cat  2.5       1      yes\nf    cat  2.0       3       no",
            "text/html": "<div>\n<style scoped>\n    .dataframe tbody tr th:only-of-type {\n        vertical-align: middle;\n    }\n\n    .dataframe tbody tr th {\n        vertical-align: top;\n    }\n\n    .dataframe thead th {\n        text-align: right;\n    }\n</style>\n<table border=\"1\" class=\"dataframe\">\n  <thead>\n    <tr style=\"text-align: right;\">\n      <th></th>\n      <th>animal</th>\n      <th>age</th>\n      <th>visits</th>\n      <th>priority</th>\n    </tr>\n  </thead>\n  <tbody>\n    <tr>\n      <th>a</th>\n      <td>cat</td>\n      <td>2.5</td>\n      <td>1</td>\n      <td>yes</td>\n    </tr>\n    <tr>\n      <th>f</th>\n      <td>cat</td>\n      <td>2.0</td>\n      <td>3</td>\n      <td>no</td>\n    </tr>\n  </tbody>\n</table>\n</div>"
          },
          "metadata": {}
        }
      ]
    },
    {
      "cell_type": "markdown",
      "source": "**12.** Select the rows the age is between 2 and 4 (inclusive).",
      "metadata": {
        "cell_id": "00023-48899e26-0ea6-4f67-88f0-183f5b260dad",
        "deepnote_cell_type": "markdown"
      }
    },
    {
      "cell_type": "code",
      "metadata": {
        "collapsed": true,
        "cell_id": "00024-aa10f8be-e97c-47e6-bac1-01893debf223",
        "deepnote_to_be_reexecuted": false,
        "source_hash": "8778714b",
        "execution_millis": 7,
        "execution_start": 1616511740703,
        "deepnote_cell_type": "code"
      },
      "source": "print(\"Select rows where the age is between 2 and 4 :\")\nprint(df[df['age'].between(2, 4)])",
      "execution_count": 12,
      "outputs": [
        {
          "name": "stdout",
          "text": "Select rows where the age is between 2 and 4 :\n  animal  age  visits priority\na    cat  2.5       1      yes\nb    cat  3.0       3      yes\nf    cat  2.0       3       no\nj    dog  3.0       1       no\n",
          "output_type": "stream"
        }
      ]
    },
    {
      "cell_type": "markdown",
      "source": "**13.** Change the age in row 'f' to 1.5.",
      "metadata": {
        "cell_id": "00025-e5654a18-2ee8-4240-ad5e-be071ac96bad",
        "deepnote_cell_type": "markdown"
      }
    },
    {
      "cell_type": "code",
      "metadata": {
        "collapsed": true,
        "cell_id": "00026-b0f653bf-4bfe-4fd1-a30a-9eea1a0a58c6",
        "deepnote_to_be_reexecuted": false,
        "source_hash": "22eb5b13",
        "execution_millis": 7,
        "execution_start": 1616511740704,
        "deepnote_cell_type": "code"
      },
      "source": "print(\"Change the age in row 'f' to 1.5:\")\ndf.loc['f','age'] = 1.5\nprint(df.loc['f'])",
      "execution_count": 13,
      "outputs": [
        {
          "name": "stdout",
          "text": "Change the age in row 'f' to 1.5:\nanimal      cat\nage         1.5\nvisits        3\npriority     no\nName: f, dtype: object\n",
          "output_type": "stream"
        }
      ]
    },
    {
      "cell_type": "markdown",
      "source": "**14.** Calculate the sum of all visits (the total number of visits).",
      "metadata": {
        "cell_id": "00027-1d35b147-7ea4-4539-8bda-b86ed305bbfc",
        "deepnote_cell_type": "markdown"
      }
    },
    {
      "cell_type": "code",
      "metadata": {
        "collapsed": true,
        "cell_id": "00028-1eaa9002-4018-4e96-9843-a2993bc8dbf9",
        "deepnote_to_be_reexecuted": false,
        "source_hash": "21ff650b",
        "execution_millis": 36,
        "execution_start": 1616511740704,
        "deepnote_cell_type": "code"
      },
      "source": "print('The sum of all total visits is: ')\ncolumn_sum = df['visits'].sum()\nprint(column_sum)\n",
      "execution_count": 14,
      "outputs": [
        {
          "name": "stdout",
          "text": "The sum of all total visits is: \n19\n",
          "output_type": "stream"
        }
      ]
    },
    {
      "cell_type": "markdown",
      "source": "**15.** Calculate the mean age for each different animal in `df`.",
      "metadata": {
        "cell_id": "00029-45d2ebb4-ac85-461a-8974-b33e80978f87",
        "deepnote_cell_type": "markdown"
      }
    },
    {
      "cell_type": "code",
      "metadata": {
        "collapsed": true,
        "cell_id": "00030-dce58c4a-053b-4af9-b26d-5c2a431982e7",
        "deepnote_to_be_reexecuted": false,
        "source_hash": "e3a654ae",
        "execution_millis": 7,
        "execution_start": 1616511740733,
        "deepnote_cell_type": "code"
      },
      "source": "print('The mean age for each diffrent animal is:')\nprint(df.groupby('animal')['age'].mean())",
      "execution_count": 15,
      "outputs": [
        {
          "name": "stdout",
          "text": "The mean age for each diffrent animal is:\nanimal\ncat      2.333333\ndog      5.000000\nsnake    2.500000\nName: age, dtype: float64\n",
          "output_type": "stream"
        }
      ]
    },
    {
      "cell_type": "markdown",
      "source": "**16.** Append a new row 'k' to `df` with your choice of values for each column. Then delete that row to return the original DataFrame.",
      "metadata": {
        "cell_id": "00031-d9d0e44c-0c41-4faf-b228-96992a81488c",
        "deepnote_cell_type": "markdown"
      }
    },
    {
      "cell_type": "code",
      "metadata": {
        "collapsed": true,
        "cell_id": "00032-d015d434-c78d-4c1c-a9f3-f347bc36003b",
        "deepnote_to_be_reexecuted": false,
        "source_hash": "d2419876",
        "execution_millis": 6,
        "execution_start": 1616511740734,
        "deepnote_cell_type": "code"
      },
      "source": "#appending new row\ndf.loc['k'] = ['cat', 3, 1, 'yes']\n\n#check appending results\nprint (df)\n\n#deleting new row\ndf = df.drop('k')\n\n#checking removed results\nprint(df)",
      "execution_count": 16,
      "outputs": [
        {
          "name": "stdout",
          "text": "  animal  age  visits priority\na    cat  2.5       1      yes\nb    cat  3.0       3      yes\nc  snake  0.5       2       no\nd    dog  NaN       3      yes\ne    dog  5.0       2       no\nf    cat  1.5       3       no\ng  snake  4.5       1       no\nh    cat  NaN       1      yes\ni    dog  7.0       2       no\nj    dog  3.0       1       no\nk    cat  3.0       1      yes\n  animal  age  visits priority\na    cat  2.5       1      yes\nb    cat  3.0       3      yes\nc  snake  0.5       2       no\nd    dog  NaN       3      yes\ne    dog  5.0       2       no\nf    cat  1.5       3       no\ng  snake  4.5       1       no\nh    cat  NaN       1      yes\ni    dog  7.0       2       no\nj    dog  3.0       1       no\n",
          "output_type": "stream"
        }
      ]
    },
    {
      "cell_type": "markdown",
      "source": "**17.** Count the number of each type of animal in `df`.",
      "metadata": {
        "cell_id": "00033-c4958505-244e-4e51-a561-8a2fea22c5b6",
        "deepnote_cell_type": "markdown"
      }
    },
    {
      "cell_type": "code",
      "metadata": {
        "collapsed": true,
        "cell_id": "00034-e97cbcdf-ffdb-4f8d-9dd6-0144adbfe592",
        "deepnote_to_be_reexecuted": false,
        "source_hash": "3bc5564e",
        "execution_millis": 14,
        "execution_start": 1616511740765,
        "deepnote_cell_type": "code"
      },
      "source": "#counting the value of each animal\nprint(df['animal'].value_counts())",
      "execution_count": 17,
      "outputs": [
        {
          "name": "stdout",
          "text": "dog      4\ncat      4\nsnake    2\nName: animal, dtype: int64\n",
          "output_type": "stream"
        }
      ]
    },
    {
      "cell_type": "markdown",
      "source": "**18.** Sort `df` first by the values in the 'age' in *decending* order, then by the value in the 'visit' column in *ascending* order.",
      "metadata": {
        "cell_id": "00035-17fc6f88-fdc4-4b1f-8b2d-fe76492edd0c",
        "deepnote_cell_type": "markdown"
      }
    },
    {
      "cell_type": "code",
      "metadata": {
        "collapsed": true,
        "cell_id": "00036-1f1f0dea-233c-402f-a29e-3462a3ecbe5a",
        "deepnote_to_be_reexecuted": false,
        "source_hash": "e42dad19",
        "execution_millis": 65,
        "execution_start": 1616511740767,
        "deepnote_cell_type": "code"
      },
      "source": "#sorting the values in 'age'(decending order), and 'visit' (ascending order)\ndf.sort_values(by=['age', 'visits'], ascending=[False, True])",
      "execution_count": 18,
      "outputs": [
        {
          "output_type": "execute_result",
          "execution_count": 18,
          "data": {
            "application/vnd.deepnote.dataframe.v2+json": {
              "row_count": 10,
              "column_count": 4,
              "columns": [
                {
                  "name": "animal",
                  "dtype": "object",
                  "stats": {
                    "unique_count": 3,
                    "nan_count": 0,
                    "categories": [
                      {
                        "name": "dog",
                        "count": 4
                      },
                      {
                        "name": "cat",
                        "count": 4
                      },
                      {
                        "name": "snake",
                        "count": 2
                      }
                    ]
                  }
                },
                {
                  "name": "age",
                  "dtype": "float64",
                  "stats": {
                    "unique_count": 7,
                    "nan_count": 2,
                    "min": 0.5,
                    "max": 7,
                    "histogram": [
                      {
                        "bin_start": 0.5,
                        "bin_end": 1.15,
                        "count": 1
                      },
                      {
                        "bin_start": 1.15,
                        "bin_end": 1.8,
                        "count": 1
                      },
                      {
                        "bin_start": 1.8,
                        "bin_end": 2.45,
                        "count": 0
                      },
                      {
                        "bin_start": 2.45,
                        "bin_end": 3.1,
                        "count": 3
                      },
                      {
                        "bin_start": 3.1,
                        "bin_end": 3.75,
                        "count": 0
                      },
                      {
                        "bin_start": 3.75,
                        "bin_end": 4.4,
                        "count": 0
                      },
                      {
                        "bin_start": 4.4,
                        "bin_end": 5.05,
                        "count": 2
                      },
                      {
                        "bin_start": 5.05,
                        "bin_end": 5.7,
                        "count": 0
                      },
                      {
                        "bin_start": 5.7,
                        "bin_end": 6.3500000000000005,
                        "count": 0
                      },
                      {
                        "bin_start": 6.3500000000000005,
                        "bin_end": 7,
                        "count": 1
                      }
                    ]
                  }
                },
                {
                  "name": "visits",
                  "dtype": "int64",
                  "stats": {
                    "unique_count": 3,
                    "nan_count": 0,
                    "min": 1,
                    "max": 3,
                    "histogram": [
                      {
                        "bin_start": 1,
                        "bin_end": 1.2,
                        "count": 4
                      },
                      {
                        "bin_start": 1.2,
                        "bin_end": 1.4,
                        "count": 0
                      },
                      {
                        "bin_start": 1.4,
                        "bin_end": 1.6,
                        "count": 0
                      },
                      {
                        "bin_start": 1.6,
                        "bin_end": 1.8,
                        "count": 0
                      },
                      {
                        "bin_start": 1.8,
                        "bin_end": 2,
                        "count": 0
                      },
                      {
                        "bin_start": 2,
                        "bin_end": 2.2,
                        "count": 3
                      },
                      {
                        "bin_start": 2.2,
                        "bin_end": 2.4000000000000004,
                        "count": 0
                      },
                      {
                        "bin_start": 2.4000000000000004,
                        "bin_end": 2.6,
                        "count": 0
                      },
                      {
                        "bin_start": 2.6,
                        "bin_end": 2.8,
                        "count": 0
                      },
                      {
                        "bin_start": 2.8,
                        "bin_end": 3,
                        "count": 3
                      }
                    ]
                  }
                },
                {
                  "name": "priority",
                  "dtype": "object",
                  "stats": {
                    "unique_count": 2,
                    "nan_count": 0,
                    "categories": [
                      {
                        "name": "no",
                        "count": 6
                      },
                      {
                        "name": "yes",
                        "count": 4
                      }
                    ]
                  }
                },
                {
                  "name": "_deepnote_index_column",
                  "dtype": "object"
                }
              ],
              "rows_top": [
                {
                  "animal": "dog",
                  "age": "7.0",
                  "visits": 2,
                  "priority": "no",
                  "_deepnote_index_column": "i"
                },
                {
                  "animal": "dog",
                  "age": "5.0",
                  "visits": 2,
                  "priority": "no",
                  "_deepnote_index_column": "e"
                },
                {
                  "animal": "snake",
                  "age": "4.5",
                  "visits": 1,
                  "priority": "no",
                  "_deepnote_index_column": "g"
                },
                {
                  "animal": "dog",
                  "age": "3.0",
                  "visits": 1,
                  "priority": "no",
                  "_deepnote_index_column": "j"
                },
                {
                  "animal": "cat",
                  "age": "3.0",
                  "visits": 3,
                  "priority": "yes",
                  "_deepnote_index_column": "b"
                },
                {
                  "animal": "cat",
                  "age": "2.5",
                  "visits": 1,
                  "priority": "yes",
                  "_deepnote_index_column": "a"
                },
                {
                  "animal": "cat",
                  "age": "1.5",
                  "visits": 3,
                  "priority": "no",
                  "_deepnote_index_column": "f"
                },
                {
                  "animal": "snake",
                  "age": "0.5",
                  "visits": 2,
                  "priority": "no",
                  "_deepnote_index_column": "c"
                },
                {
                  "animal": "cat",
                  "age": "nan",
                  "visits": 1,
                  "priority": "yes",
                  "_deepnote_index_column": "h"
                },
                {
                  "animal": "dog",
                  "age": "nan",
                  "visits": 3,
                  "priority": "yes",
                  "_deepnote_index_column": "d"
                }
              ],
              "rows_bottom": null
            },
            "text/plain": "  animal  age  visits priority\ni    dog  7.0       2       no\ne    dog  5.0       2       no\ng  snake  4.5       1       no\nj    dog  3.0       1       no\nb    cat  3.0       3      yes\na    cat  2.5       1      yes\nf    cat  1.5       3       no\nc  snake  0.5       2       no\nh    cat  NaN       1      yes\nd    dog  NaN       3      yes",
            "text/html": "<div>\n<style scoped>\n    .dataframe tbody tr th:only-of-type {\n        vertical-align: middle;\n    }\n\n    .dataframe tbody tr th {\n        vertical-align: top;\n    }\n\n    .dataframe thead th {\n        text-align: right;\n    }\n</style>\n<table border=\"1\" class=\"dataframe\">\n  <thead>\n    <tr style=\"text-align: right;\">\n      <th></th>\n      <th>animal</th>\n      <th>age</th>\n      <th>visits</th>\n      <th>priority</th>\n    </tr>\n  </thead>\n  <tbody>\n    <tr>\n      <th>i</th>\n      <td>dog</td>\n      <td>7.0</td>\n      <td>2</td>\n      <td>no</td>\n    </tr>\n    <tr>\n      <th>e</th>\n      <td>dog</td>\n      <td>5.0</td>\n      <td>2</td>\n      <td>no</td>\n    </tr>\n    <tr>\n      <th>g</th>\n      <td>snake</td>\n      <td>4.5</td>\n      <td>1</td>\n      <td>no</td>\n    </tr>\n    <tr>\n      <th>j</th>\n      <td>dog</td>\n      <td>3.0</td>\n      <td>1</td>\n      <td>no</td>\n    </tr>\n    <tr>\n      <th>b</th>\n      <td>cat</td>\n      <td>3.0</td>\n      <td>3</td>\n      <td>yes</td>\n    </tr>\n    <tr>\n      <th>a</th>\n      <td>cat</td>\n      <td>2.5</td>\n      <td>1</td>\n      <td>yes</td>\n    </tr>\n    <tr>\n      <th>f</th>\n      <td>cat</td>\n      <td>1.5</td>\n      <td>3</td>\n      <td>no</td>\n    </tr>\n    <tr>\n      <th>c</th>\n      <td>snake</td>\n      <td>0.5</td>\n      <td>2</td>\n      <td>no</td>\n    </tr>\n    <tr>\n      <th>h</th>\n      <td>cat</td>\n      <td>NaN</td>\n      <td>1</td>\n      <td>yes</td>\n    </tr>\n    <tr>\n      <th>d</th>\n      <td>dog</td>\n      <td>NaN</td>\n      <td>3</td>\n      <td>yes</td>\n    </tr>\n  </tbody>\n</table>\n</div>"
          },
          "metadata": {}
        }
      ]
    },
    {
      "cell_type": "markdown",
      "source": "**19.** The 'priority' column contains the values 'yes' and 'no'. Replace this column with a column of boolean values: 'yes' should be `True` and 'no' should be `False`.",
      "metadata": {
        "cell_id": "00037-a5a769ba-38f9-449e-a80e-4fe358f7617d",
        "deepnote_cell_type": "markdown"
      }
    },
    {
      "cell_type": "code",
      "metadata": {
        "collapsed": true,
        "cell_id": "00038-7de08992-3e8c-4a0d-9d37-b5535a072008",
        "deepnote_to_be_reexecuted": false,
        "source_hash": "9ad2bc00",
        "execution_millis": 1,
        "execution_start": 1616511740790,
        "deepnote_cell_type": "code"
      },
      "source": "# Replacing 'prioity' column values yes and no with bolean True and False\ndf['priority'] = df['priority'].map({'yes': True, 'no': False})",
      "execution_count": 19,
      "outputs": []
    },
    {
      "cell_type": "markdown",
      "source": "**20.** In the 'animal' column, change the 'snake' entries to 'python'.",
      "metadata": {
        "cell_id": "00039-4f43b892-5618-4ff2-b5a0-28992143a66d",
        "deepnote_cell_type": "markdown"
      }
    },
    {
      "cell_type": "code",
      "metadata": {
        "collapsed": true,
        "cell_id": "00040-fa90b5d7-ac23-45aa-8c33-8253e2a4d04e",
        "deepnote_to_be_reexecuted": false,
        "source_hash": "d6104d61",
        "execution_millis": 0,
        "execution_start": 1616511740791,
        "deepnote_cell_type": "code"
      },
      "source": "# Changing 'snake' to 'python' in animal column\ndf['animal'] = df['animal'].replace('snake', 'python')",
      "execution_count": 20,
      "outputs": []
    },
    {
      "cell_type": "markdown",
      "source": "**21.** For each animal type and each number of visits, find the mean age. In other words, each row is an animal, each column is a number of visits and the values are the mean ages (hint: use a pivot table).",
      "metadata": {
        "cell_id": "00041-09c9c315-84a6-49d5-bf3d-b459a46bd2d9",
        "deepnote_cell_type": "markdown"
      }
    },
    {
      "cell_type": "code",
      "metadata": {
        "collapsed": true,
        "cell_id": "00042-188ed41e-b9b5-465a-af27-187e5d1d3d5e",
        "deepnote_to_be_reexecuted": false,
        "source_hash": "66fddda9",
        "execution_millis": 10,
        "execution_start": 1616511887563,
        "deepnote_cell_type": "code"
      },
      "source": "# Creating a pivot table with the mean age for each animal type and each number of visits\ndf.pivot_table(index='animal', columns='visits', values='age', aggfunc='mean')",
      "execution_count": 23,
      "outputs": [
        {
          "output_type": "execute_result",
          "execution_count": 23,
          "data": {
            "application/vnd.deepnote.dataframe.v2+json": {
              "row_count": 3,
              "column_count": 3,
              "columns": [
                {
                  "name": 1,
                  "dtype": "float64",
                  "stats": {
                    "unique_count": 3,
                    "nan_count": 0,
                    "min": 2.5,
                    "max": 4.5,
                    "histogram": [
                      {
                        "bin_start": 2.5,
                        "bin_end": 2.7,
                        "count": 1
                      },
                      {
                        "bin_start": 2.7,
                        "bin_end": 2.9,
                        "count": 0
                      },
                      {
                        "bin_start": 2.9,
                        "bin_end": 3.1,
                        "count": 1
                      },
                      {
                        "bin_start": 3.1,
                        "bin_end": 3.3,
                        "count": 0
                      },
                      {
                        "bin_start": 3.3,
                        "bin_end": 3.5,
                        "count": 0
                      },
                      {
                        "bin_start": 3.5,
                        "bin_end": 3.7,
                        "count": 0
                      },
                      {
                        "bin_start": 3.7,
                        "bin_end": 3.9000000000000004,
                        "count": 0
                      },
                      {
                        "bin_start": 3.9000000000000004,
                        "bin_end": 4.1,
                        "count": 0
                      },
                      {
                        "bin_start": 4.1,
                        "bin_end": 4.3,
                        "count": 0
                      },
                      {
                        "bin_start": 4.3,
                        "bin_end": 4.5,
                        "count": 1
                      }
                    ]
                  }
                },
                {
                  "name": 2,
                  "dtype": "float64",
                  "stats": {
                    "unique_count": 2,
                    "nan_count": 1,
                    "min": 0.5,
                    "max": 6,
                    "histogram": [
                      {
                        "bin_start": 0.5,
                        "bin_end": 1.05,
                        "count": 1
                      },
                      {
                        "bin_start": 1.05,
                        "bin_end": 1.6,
                        "count": 0
                      },
                      {
                        "bin_start": 1.6,
                        "bin_end": 2.1500000000000004,
                        "count": 0
                      },
                      {
                        "bin_start": 2.1500000000000004,
                        "bin_end": 2.7,
                        "count": 0
                      },
                      {
                        "bin_start": 2.7,
                        "bin_end": 3.25,
                        "count": 0
                      },
                      {
                        "bin_start": 3.25,
                        "bin_end": 3.8000000000000003,
                        "count": 0
                      },
                      {
                        "bin_start": 3.8000000000000003,
                        "bin_end": 4.3500000000000005,
                        "count": 0
                      },
                      {
                        "bin_start": 4.3500000000000005,
                        "bin_end": 4.9,
                        "count": 0
                      },
                      {
                        "bin_start": 4.9,
                        "bin_end": 5.45,
                        "count": 0
                      },
                      {
                        "bin_start": 5.45,
                        "bin_end": 6,
                        "count": 1
                      }
                    ]
                  }
                },
                {
                  "name": 3,
                  "dtype": "float64",
                  "stats": {
                    "unique_count": 1,
                    "nan_count": 2,
                    "min": 2.25,
                    "max": 2.25,
                    "histogram": [
                      {
                        "bin_start": 1.75,
                        "bin_end": 1.85,
                        "count": 0
                      },
                      {
                        "bin_start": 1.85,
                        "bin_end": 1.95,
                        "count": 0
                      },
                      {
                        "bin_start": 1.95,
                        "bin_end": 2.05,
                        "count": 0
                      },
                      {
                        "bin_start": 2.05,
                        "bin_end": 2.15,
                        "count": 0
                      },
                      {
                        "bin_start": 2.15,
                        "bin_end": 2.25,
                        "count": 0
                      },
                      {
                        "bin_start": 2.25,
                        "bin_end": 2.35,
                        "count": 1
                      },
                      {
                        "bin_start": 2.35,
                        "bin_end": 2.45,
                        "count": 0
                      },
                      {
                        "bin_start": 2.45,
                        "bin_end": 2.55,
                        "count": 0
                      },
                      {
                        "bin_start": 2.55,
                        "bin_end": 2.65,
                        "count": 0
                      },
                      {
                        "bin_start": 2.65,
                        "bin_end": 2.75,
                        "count": 0
                      }
                    ]
                  }
                },
                {
                  "name": "_deepnote_index_column",
                  "dtype": "object"
                }
              ],
              "rows_top": [
                {
                  "1": 2.5,
                  "2": "nan",
                  "3": "2.25",
                  "_deepnote_index_column": "cat"
                },
                {
                  "1": 3,
                  "2": "6.0",
                  "3": "nan",
                  "_deepnote_index_column": "dog"
                },
                {
                  "1": 4.5,
                  "2": "0.5",
                  "3": "nan",
                  "_deepnote_index_column": "python"
                }
              ],
              "rows_bottom": null
            },
            "text/plain": "visits    1    2     3\nanimal                \ncat     2.5  NaN  2.25\ndog     3.0  6.0   NaN\npython  4.5  0.5   NaN",
            "text/html": "<div>\n<style scoped>\n    .dataframe tbody tr th:only-of-type {\n        vertical-align: middle;\n    }\n\n    .dataframe tbody tr th {\n        vertical-align: top;\n    }\n\n    .dataframe thead th {\n        text-align: right;\n    }\n</style>\n<table border=\"1\" class=\"dataframe\">\n  <thead>\n    <tr style=\"text-align: right;\">\n      <th>visits</th>\n      <th>1</th>\n      <th>2</th>\n      <th>3</th>\n    </tr>\n    <tr>\n      <th>animal</th>\n      <th></th>\n      <th></th>\n      <th></th>\n    </tr>\n  </thead>\n  <tbody>\n    <tr>\n      <th>cat</th>\n      <td>2.5</td>\n      <td>NaN</td>\n      <td>2.25</td>\n    </tr>\n    <tr>\n      <th>dog</th>\n      <td>3.0</td>\n      <td>6.0</td>\n      <td>NaN</td>\n    </tr>\n    <tr>\n      <th>python</th>\n      <td>4.5</td>\n      <td>0.5</td>\n      <td>NaN</td>\n    </tr>\n  </tbody>\n</table>\n</div>"
          },
          "metadata": {}
        }
      ]
    },
    {
      "cell_type": "markdown",
      "source": "## DataFrames: beyond the basics\n\n### Slightly trickier: you may need to combine two or more methods to get the right answer\n\nDifficulty: *medium*\n\nThe previous section was tour through some basic but essential DataFrame operations. Below are some ways that you might need to cut your data, but for which there is no single \"out of the box\" method.",
      "metadata": {
        "cell_id": "00043-7e8e83a7-22d3-47d6-bbaf-367d22f198bf",
        "deepnote_cell_type": "markdown"
      }
    },
    {
      "cell_type": "markdown",
      "source": "**22.** You have a DataFrame `df` with a column 'A' of integers. For example:\n```python\ndf = pd.DataFrame({'A': [1, 2, 2, 3, 4, 5, 5, 5, 6, 7, 7]})\n```\n\nHow do you filter out rows which contain the same integer as the row immediately above?",
      "metadata": {
        "cell_id": "00044-5ce983de-ea5b-4365-9047-b9585dda14d7",
        "deepnote_cell_type": "markdown"
      }
    },
    {
      "cell_type": "code",
      "metadata": {
        "collapsed": true,
        "cell_id": "00045-46ec814d-11d8-4e04-b2d9-2a99f484324b",
        "deepnote_to_be_reexecuted": false,
        "source_hash": "c64cba04",
        "execution_millis": 8,
        "execution_start": 1616512111251,
        "deepnote_cell_type": "code"
      },
      "source": "# Definig dataframe\ndf = pd.DataFrame({'A': [1, 2, 2, 3, 4, 5, 5, 5, 6, 7, 7]})\n\n#Filter out rows with the same integer\ndf.loc[df['A'].shift() != df['A']]",
      "execution_count": 25,
      "outputs": [
        {
          "output_type": "execute_result",
          "execution_count": 25,
          "data": {
            "application/vnd.deepnote.dataframe.v2+json": {
              "row_count": 7,
              "column_count": 1,
              "columns": [
                {
                  "name": "A",
                  "dtype": "int64",
                  "stats": {
                    "unique_count": 7,
                    "nan_count": 0,
                    "min": 1,
                    "max": 7,
                    "histogram": [
                      {
                        "bin_start": 1,
                        "bin_end": 1.6,
                        "count": 1
                      },
                      {
                        "bin_start": 1.6,
                        "bin_end": 2.2,
                        "count": 1
                      },
                      {
                        "bin_start": 2.2,
                        "bin_end": 2.8,
                        "count": 0
                      },
                      {
                        "bin_start": 2.8,
                        "bin_end": 3.4,
                        "count": 1
                      },
                      {
                        "bin_start": 3.4,
                        "bin_end": 4,
                        "count": 0
                      },
                      {
                        "bin_start": 4,
                        "bin_end": 4.6,
                        "count": 1
                      },
                      {
                        "bin_start": 4.6,
                        "bin_end": 5.2,
                        "count": 1
                      },
                      {
                        "bin_start": 5.2,
                        "bin_end": 5.8,
                        "count": 0
                      },
                      {
                        "bin_start": 5.8,
                        "bin_end": 6.3999999999999995,
                        "count": 1
                      },
                      {
                        "bin_start": 6.3999999999999995,
                        "bin_end": 7,
                        "count": 1
                      }
                    ]
                  }
                },
                {
                  "name": "_deepnote_index_column",
                  "dtype": "int64"
                }
              ],
              "rows_top": [
                {
                  "A": 1,
                  "_deepnote_index_column": 0
                },
                {
                  "A": 2,
                  "_deepnote_index_column": 1
                },
                {
                  "A": 3,
                  "_deepnote_index_column": 3
                },
                {
                  "A": 4,
                  "_deepnote_index_column": 4
                },
                {
                  "A": 5,
                  "_deepnote_index_column": 5
                },
                {
                  "A": 6,
                  "_deepnote_index_column": 8
                },
                {
                  "A": 7,
                  "_deepnote_index_column": 9
                }
              ],
              "rows_bottom": null
            },
            "text/plain": "   A\n0  1\n1  2\n3  3\n4  4\n5  5\n8  6\n9  7",
            "text/html": "<div>\n<style scoped>\n    .dataframe tbody tr th:only-of-type {\n        vertical-align: middle;\n    }\n\n    .dataframe tbody tr th {\n        vertical-align: top;\n    }\n\n    .dataframe thead th {\n        text-align: right;\n    }\n</style>\n<table border=\"1\" class=\"dataframe\">\n  <thead>\n    <tr style=\"text-align: right;\">\n      <th></th>\n      <th>A</th>\n    </tr>\n  </thead>\n  <tbody>\n    <tr>\n      <th>0</th>\n      <td>1</td>\n    </tr>\n    <tr>\n      <th>1</th>\n      <td>2</td>\n    </tr>\n    <tr>\n      <th>3</th>\n      <td>3</td>\n    </tr>\n    <tr>\n      <th>4</th>\n      <td>4</td>\n    </tr>\n    <tr>\n      <th>5</th>\n      <td>5</td>\n    </tr>\n    <tr>\n      <th>8</th>\n      <td>6</td>\n    </tr>\n    <tr>\n      <th>9</th>\n      <td>7</td>\n    </tr>\n  </tbody>\n</table>\n</div>"
          },
          "metadata": {}
        }
      ]
    },
    {
      "cell_type": "markdown",
      "source": "**23.** Given a DataFrame of numeric values, say\n```python\ndf = pd.DataFrame(np.random.random(size=(5, 3))) # a 5x3 frame of float values\n```\n\nhow do you subtract the row mean from each element in the row?",
      "metadata": {
        "cell_id": "00046-9a21e24e-4b7c-434c-8498-9b1b6cc7302e",
        "deepnote_cell_type": "markdown"
      }
    },
    {
      "cell_type": "code",
      "metadata": {
        "collapsed": true,
        "cell_id": "00047-daa9663c-967f-4b03-a4c3-aac5ffba3483",
        "deepnote_to_be_reexecuted": false,
        "source_hash": "e2ace148",
        "execution_millis": 36,
        "execution_start": 1616512276075,
        "deepnote_cell_type": "code"
      },
      "source": "#define dataframe\ndf = pd.DataFrame(np.random.random(size=(5, 10)), columns=list('abcdefghij'))\n\n#solution\ndf.sub(df.mean(axis=1), axis=0)",
      "execution_count": 28,
      "outputs": [
        {
          "output_type": "execute_result",
          "execution_count": 28,
          "data": {
            "application/vnd.deepnote.dataframe.v2+json": {
              "row_count": 5,
              "column_count": 10,
              "columns": [
                {
                  "name": "a",
                  "dtype": "float64",
                  "stats": {
                    "unique_count": 5,
                    "nan_count": 0,
                    "min": -0.34134496239884493,
                    "max": 0.3521777555582502,
                    "histogram": [
                      {
                        "bin_start": -0.34134496239884493,
                        "bin_end": -0.2719926906031354,
                        "count": 1
                      },
                      {
                        "bin_start": -0.2719926906031354,
                        "bin_end": -0.20264041880742592,
                        "count": 1
                      },
                      {
                        "bin_start": -0.20264041880742592,
                        "bin_end": -0.13328814701171643,
                        "count": 0
                      },
                      {
                        "bin_start": -0.13328814701171643,
                        "bin_end": -0.06393587521600691,
                        "count": 0
                      },
                      {
                        "bin_start": -0.06393587521600691,
                        "bin_end": 0.005416396579702609,
                        "count": 0
                      },
                      {
                        "bin_start": 0.005416396579702609,
                        "bin_end": 0.07476866837541207,
                        "count": 1
                      },
                      {
                        "bin_start": 0.07476866837541207,
                        "bin_end": 0.1441209401711216,
                        "count": 1
                      },
                      {
                        "bin_start": 0.1441209401711216,
                        "bin_end": 0.2134732119668311,
                        "count": 0
                      },
                      {
                        "bin_start": 0.2134732119668311,
                        "bin_end": 0.2828254837625406,
                        "count": 0
                      },
                      {
                        "bin_start": 0.2828254837625406,
                        "bin_end": 0.3521777555582502,
                        "count": 1
                      }
                    ]
                  }
                },
                {
                  "name": "b",
                  "dtype": "float64",
                  "stats": {
                    "unique_count": 5,
                    "nan_count": 0,
                    "min": -0.38341883030880264,
                    "max": 0.25735139031777343,
                    "histogram": [
                      {
                        "bin_start": -0.38341883030880264,
                        "bin_end": -0.319341808246145,
                        "count": 1
                      },
                      {
                        "bin_start": -0.319341808246145,
                        "bin_end": -0.2552647861834874,
                        "count": 1
                      },
                      {
                        "bin_start": -0.2552647861834874,
                        "bin_end": -0.1911877641208298,
                        "count": 2
                      },
                      {
                        "bin_start": -0.1911877641208298,
                        "bin_end": -0.1271107420581722,
                        "count": 0
                      },
                      {
                        "bin_start": -0.1271107420581722,
                        "bin_end": -0.06303371999551455,
                        "count": 0
                      },
                      {
                        "bin_start": -0.06303371999551455,
                        "bin_end": 0.001043302067143037,
                        "count": 0
                      },
                      {
                        "bin_start": 0.001043302067143037,
                        "bin_end": 0.06512032412980062,
                        "count": 0
                      },
                      {
                        "bin_start": 0.06512032412980062,
                        "bin_end": 0.12919734619245826,
                        "count": 0
                      },
                      {
                        "bin_start": 0.12919734619245826,
                        "bin_end": 0.1932743682551159,
                        "count": 0
                      },
                      {
                        "bin_start": 0.1932743682551159,
                        "bin_end": 0.25735139031777343,
                        "count": 1
                      }
                    ]
                  }
                },
                {
                  "name": "c",
                  "dtype": "float64",
                  "stats": {
                    "unique_count": 5,
                    "nan_count": 0,
                    "min": -0.396178195862679,
                    "max": 0.3165948153623207,
                    "histogram": [
                      {
                        "bin_start": -0.396178195862679,
                        "bin_end": -0.324900894740179,
                        "count": 1
                      },
                      {
                        "bin_start": -0.324900894740179,
                        "bin_end": -0.25362359361767906,
                        "count": 0
                      },
                      {
                        "bin_start": -0.25362359361767906,
                        "bin_end": -0.18234629249517909,
                        "count": 0
                      },
                      {
                        "bin_start": -0.18234629249517909,
                        "bin_end": -0.11106899137267912,
                        "count": 0
                      },
                      {
                        "bin_start": -0.11106899137267912,
                        "bin_end": -0.039791690250179146,
                        "count": 1
                      },
                      {
                        "bin_start": -0.039791690250179146,
                        "bin_end": 0.031485610872320824,
                        "count": 0
                      },
                      {
                        "bin_start": 0.031485610872320824,
                        "bin_end": 0.1027629119948208,
                        "count": 1
                      },
                      {
                        "bin_start": 0.1027629119948208,
                        "bin_end": 0.17404021311732076,
                        "count": 0
                      },
                      {
                        "bin_start": 0.17404021311732076,
                        "bin_end": 0.24531751423982073,
                        "count": 1
                      },
                      {
                        "bin_start": 0.24531751423982073,
                        "bin_end": 0.3165948153623207,
                        "count": 1
                      }
                    ]
                  }
                },
                {
                  "name": "d",
                  "dtype": "float64",
                  "stats": {
                    "unique_count": 5,
                    "nan_count": 0,
                    "min": -0.43347470737272964,
                    "max": 0.10580749889349916,
                    "histogram": [
                      {
                        "bin_start": -0.43347470737272964,
                        "bin_end": -0.37954648674610675,
                        "count": 1
                      },
                      {
                        "bin_start": -0.37954648674610675,
                        "bin_end": -0.32561826611948386,
                        "count": 1
                      },
                      {
                        "bin_start": -0.32561826611948386,
                        "bin_end": -0.271690045492861,
                        "count": 1
                      },
                      {
                        "bin_start": -0.271690045492861,
                        "bin_end": -0.21776182486623813,
                        "count": 0
                      },
                      {
                        "bin_start": -0.21776182486623813,
                        "bin_end": -0.16383360423961524,
                        "count": 0
                      },
                      {
                        "bin_start": -0.16383360423961524,
                        "bin_end": -0.1099053836129924,
                        "count": 0
                      },
                      {
                        "bin_start": -0.1099053836129924,
                        "bin_end": -0.05597716298636951,
                        "count": 0
                      },
                      {
                        "bin_start": -0.05597716298636951,
                        "bin_end": -0.0020489423597466194,
                        "count": 0
                      },
                      {
                        "bin_start": -0.0020489423597466194,
                        "bin_end": 0.05187927826687627,
                        "count": 1
                      },
                      {
                        "bin_start": 0.05187927826687627,
                        "bin_end": 0.10580749889349916,
                        "count": 1
                      }
                    ]
                  }
                },
                {
                  "name": "e",
                  "dtype": "float64",
                  "stats": {
                    "unique_count": 5,
                    "nan_count": 0,
                    "min": -0.36020412387223655,
                    "max": 0.5404724836662508,
                    "histogram": [
                      {
                        "bin_start": -0.36020412387223655,
                        "bin_end": -0.2701364631183878,
                        "count": 1
                      },
                      {
                        "bin_start": -0.2701364631183878,
                        "bin_end": -0.1800688023645391,
                        "count": 0
                      },
                      {
                        "bin_start": -0.1800688023645391,
                        "bin_end": -0.0900011416106904,
                        "count": 1
                      },
                      {
                        "bin_start": -0.0900011416106904,
                        "bin_end": 0.00006651914315836116,
                        "count": 0
                      },
                      {
                        "bin_start": 0.00006651914315836116,
                        "bin_end": 0.09013417989700712,
                        "count": 0
                      },
                      {
                        "bin_start": 0.09013417989700712,
                        "bin_end": 0.18020184065085576,
                        "count": 1
                      },
                      {
                        "bin_start": 0.18020184065085576,
                        "bin_end": 0.2702695014047045,
                        "count": 0
                      },
                      {
                        "bin_start": 0.2702695014047045,
                        "bin_end": 0.36033716215855327,
                        "count": 1
                      },
                      {
                        "bin_start": 0.36033716215855327,
                        "bin_end": 0.450404822912402,
                        "count": 0
                      },
                      {
                        "bin_start": 0.450404822912402,
                        "bin_end": 0.5404724836662508,
                        "count": 1
                      }
                    ]
                  }
                },
                {
                  "name": "f",
                  "dtype": "float64",
                  "stats": {
                    "unique_count": 5,
                    "nan_count": 0,
                    "min": -0.28336644185008536,
                    "max": 0.44529406523700776,
                    "histogram": [
                      {
                        "bin_start": -0.28336644185008536,
                        "bin_end": -0.21050039114137606,
                        "count": 1
                      },
                      {
                        "bin_start": -0.21050039114137606,
                        "bin_end": -0.13763434043266676,
                        "count": 0
                      },
                      {
                        "bin_start": -0.13763434043266676,
                        "bin_end": -0.06476828972395746,
                        "count": 0
                      },
                      {
                        "bin_start": -0.06476828972395746,
                        "bin_end": 0.008097760984751845,
                        "count": 0
                      },
                      {
                        "bin_start": 0.008097760984751845,
                        "bin_end": 0.08096381169346117,
                        "count": 1
                      },
                      {
                        "bin_start": 0.08096381169346117,
                        "bin_end": 0.15382986240217045,
                        "count": 0
                      },
                      {
                        "bin_start": 0.15382986240217045,
                        "bin_end": 0.22669591311087972,
                        "count": 0
                      },
                      {
                        "bin_start": 0.22669591311087972,
                        "bin_end": 0.29956196381958905,
                        "count": 0
                      },
                      {
                        "bin_start": 0.29956196381958905,
                        "bin_end": 0.3724280145282984,
                        "count": 0
                      },
                      {
                        "bin_start": 0.3724280145282984,
                        "bin_end": 0.44529406523700776,
                        "count": 3
                      }
                    ]
                  }
                },
                {
                  "name": "g",
                  "dtype": "float64",
                  "stats": {
                    "unique_count": 5,
                    "nan_count": 0,
                    "min": -0.07237257030578059,
                    "max": 0.3711866172915129,
                    "histogram": [
                      {
                        "bin_start": -0.07237257030578059,
                        "bin_end": -0.028016651546051242,
                        "count": 1
                      },
                      {
                        "bin_start": -0.028016651546051242,
                        "bin_end": 0.016339267213678108,
                        "count": 0
                      },
                      {
                        "bin_start": 0.016339267213678108,
                        "bin_end": 0.06069518597340745,
                        "count": 0
                      },
                      {
                        "bin_start": 0.06069518597340745,
                        "bin_end": 0.10505110473313681,
                        "count": 0
                      },
                      {
                        "bin_start": 0.10505110473313681,
                        "bin_end": 0.14940702349286616,
                        "count": 0
                      },
                      {
                        "bin_start": 0.14940702349286616,
                        "bin_end": 0.1937629422525955,
                        "count": 1
                      },
                      {
                        "bin_start": 0.1937629422525955,
                        "bin_end": 0.23811886101232488,
                        "count": 1
                      },
                      {
                        "bin_start": 0.23811886101232488,
                        "bin_end": 0.2824747797720542,
                        "count": 0
                      },
                      {
                        "bin_start": 0.2824747797720542,
                        "bin_end": 0.32683069853178354,
                        "count": 1
                      },
                      {
                        "bin_start": 0.32683069853178354,
                        "bin_end": 0.3711866172915129,
                        "count": 1
                      }
                    ]
                  }
                },
                {
                  "name": "h",
                  "dtype": "float64",
                  "stats": {
                    "unique_count": 5,
                    "nan_count": 0,
                    "min": -0.3993726003184763,
                    "max": 0.41084783143682746,
                    "histogram": [
                      {
                        "bin_start": -0.3993726003184763,
                        "bin_end": -0.3183505571429459,
                        "count": 1
                      },
                      {
                        "bin_start": -0.3183505571429459,
                        "bin_end": -0.23732851396741556,
                        "count": 0
                      },
                      {
                        "bin_start": -0.23732851396741556,
                        "bin_end": -0.15630647079188517,
                        "count": 0
                      },
                      {
                        "bin_start": -0.15630647079188517,
                        "bin_end": -0.07528442761635479,
                        "count": 1
                      },
                      {
                        "bin_start": -0.07528442761635479,
                        "bin_end": 0.005737615559175624,
                        "count": 0
                      },
                      {
                        "bin_start": 0.005737615559175624,
                        "bin_end": 0.08675965873470598,
                        "count": 0
                      },
                      {
                        "bin_start": 0.08675965873470598,
                        "bin_end": 0.16778170191023634,
                        "count": 1
                      },
                      {
                        "bin_start": 0.16778170191023634,
                        "bin_end": 0.24880374508576675,
                        "count": 1
                      },
                      {
                        "bin_start": 0.24880374508576675,
                        "bin_end": 0.32982578826129716,
                        "count": 0
                      },
                      {
                        "bin_start": 0.32982578826129716,
                        "bin_end": 0.41084783143682746,
                        "count": 1
                      }
                    ]
                  }
                },
                {
                  "name": "i",
                  "dtype": "float64",
                  "stats": {
                    "unique_count": 5,
                    "nan_count": 0,
                    "min": -0.36636958763869265,
                    "max": 0.17735149233213143,
                    "histogram": [
                      {
                        "bin_start": -0.36636958763869265,
                        "bin_end": -0.31199747964161023,
                        "count": 2
                      },
                      {
                        "bin_start": -0.31199747964161023,
                        "bin_end": -0.2576253716445278,
                        "count": 0
                      },
                      {
                        "bin_start": -0.2576253716445278,
                        "bin_end": -0.20325326364744545,
                        "count": 0
                      },
                      {
                        "bin_start": -0.20325326364744545,
                        "bin_end": -0.14888115565036303,
                        "count": 1
                      },
                      {
                        "bin_start": -0.14888115565036303,
                        "bin_end": -0.09450904765328061,
                        "count": 1
                      },
                      {
                        "bin_start": -0.09450904765328061,
                        "bin_end": -0.040136939656198245,
                        "count": 0
                      },
                      {
                        "bin_start": -0.040136939656198245,
                        "bin_end": 0.014235168340884174,
                        "count": 0
                      },
                      {
                        "bin_start": 0.014235168340884174,
                        "bin_end": 0.0686072763379666,
                        "count": 0
                      },
                      {
                        "bin_start": 0.0686072763379666,
                        "bin_end": 0.12297938433504901,
                        "count": 0
                      },
                      {
                        "bin_start": 0.12297938433504901,
                        "bin_end": 0.17735149233213143,
                        "count": 1
                      }
                    ]
                  }
                },
                {
                  "name": "j",
                  "dtype": "float64",
                  "stats": {
                    "unique_count": 5,
                    "nan_count": 0,
                    "min": -0.2353517715719663,
                    "max": 0.09396346766515645,
                    "histogram": [
                      {
                        "bin_start": -0.2353517715719663,
                        "bin_end": -0.202420247648254,
                        "count": 1
                      },
                      {
                        "bin_start": -0.202420247648254,
                        "bin_end": -0.16948872372454174,
                        "count": 0
                      },
                      {
                        "bin_start": -0.16948872372454174,
                        "bin_end": -0.13655719980082948,
                        "count": 0
                      },
                      {
                        "bin_start": -0.13655719980082948,
                        "bin_end": -0.10362567587711718,
                        "count": 1
                      },
                      {
                        "bin_start": -0.10362567587711718,
                        "bin_end": -0.0706941519534049,
                        "count": 0
                      },
                      {
                        "bin_start": -0.0706941519534049,
                        "bin_end": -0.03776262802969263,
                        "count": 0
                      },
                      {
                        "bin_start": -0.03776262802969263,
                        "bin_end": -0.004831104105980366,
                        "count": 1
                      },
                      {
                        "bin_start": -0.004831104105980366,
                        "bin_end": 0.028100419817731925,
                        "count": 0
                      },
                      {
                        "bin_start": 0.028100419817731925,
                        "bin_end": 0.06103194374144422,
                        "count": 1
                      },
                      {
                        "bin_start": 0.06103194374144422,
                        "bin_end": 0.09396346766515645,
                        "count": 1
                      }
                    ]
                  }
                },
                {
                  "name": "_deepnote_index_column",
                  "dtype": "int64"
                }
              ],
              "rows_top": [
                {
                  "a": 0.3521777555582502,
                  "b": -0.23017390370775864,
                  "c": 0.19838250628709836,
                  "d": -0.3705934121355588,
                  "e": 0.3399872289390304,
                  "f": -0.28336644185008536,
                  "g": 0.18316333516906252,
                  "h": -0.1311493767833895,
                  "i": -0.15239115914180518,
                  "j": 0.09396346766515645,
                  "_deepnote_index_column": 0
                },
                {
                  "a": -0.2704553128077929,
                  "b": -0.22162365184065835,
                  "c": -0.06247872702340307,
                  "d": 0.10580749889349916,
                  "e": -0.10779918345489359,
                  "f": 0.4363464692129204,
                  "g": 0.21752858538416076,
                  "h": 0.24598601106369178,
                  "i": -0.33831541550858424,
                  "j": -0.00499627391894053,
                  "_deepnote_index_column": 1
                },
                {
                  "a": 0.09041720623931149,
                  "b": -0.29017571693473,
                  "c": 0.0695581528728696,
                  "d": -0.43347470737272964,
                  "e": 0.11283270251951871,
                  "f": 0.4229906157667488,
                  "g": -0.07237257030578059,
                  "h": 0.15822459645462583,
                  "i": 0.17735149233213143,
                  "j": -0.2353517715719663,
                  "_deepnote_index_column": 2
                },
                {
                  "a": 0.0743064119384339,
                  "b": 0.25735139031777343,
                  "c": -0.396178195862679,
                  "d": 0.03133305259905017,
                  "e": -0.36020412387223655,
                  "f": 0.034242353968423234,
                  "g": 0.2846457398506522,
                  "h": 0.41084783143682746,
                  "i": -0.36636958763869265,
                  "j": 0.030025127262447437,
                  "_deepnote_index_column": 3
                },
                {
                  "a": -0.34134496239884493,
                  "b": -0.38341883030880264,
                  "c": 0.3165948153623207,
                  "d": -0.2889684483956956,
                  "e": 0.5404724836662508,
                  "f": 0.44529406523700776,
                  "g": 0.3711866172915129,
                  "h": -0.3993726003184763,
                  "i": -0.14863472822593837,
                  "j": -0.1118084119093351,
                  "_deepnote_index_column": 4
                }
              ],
              "rows_bottom": null
            },
            "text/plain": "          a         b         c         d         e         f         g  \\\n0  0.352178 -0.230174  0.198383 -0.370593  0.339987 -0.283366  0.183163   \n1 -0.270455 -0.221624 -0.062479  0.105807 -0.107799  0.436346  0.217529   \n2  0.090417 -0.290176  0.069558 -0.433475  0.112833  0.422991 -0.072373   \n3  0.074306  0.257351 -0.396178  0.031333 -0.360204  0.034242  0.284646   \n4 -0.341345 -0.383419  0.316595 -0.288968  0.540472  0.445294  0.371187   \n\n          h         i         j  \n0 -0.131149 -0.152391  0.093963  \n1  0.245986 -0.338315 -0.004996  \n2  0.158225  0.177351 -0.235352  \n3  0.410848 -0.366370  0.030025  \n4 -0.399373 -0.148635 -0.111808  ",
            "text/html": "<div>\n<style scoped>\n    .dataframe tbody tr th:only-of-type {\n        vertical-align: middle;\n    }\n\n    .dataframe tbody tr th {\n        vertical-align: top;\n    }\n\n    .dataframe thead th {\n        text-align: right;\n    }\n</style>\n<table border=\"1\" class=\"dataframe\">\n  <thead>\n    <tr style=\"text-align: right;\">\n      <th></th>\n      <th>a</th>\n      <th>b</th>\n      <th>c</th>\n      <th>d</th>\n      <th>e</th>\n      <th>f</th>\n      <th>g</th>\n      <th>h</th>\n      <th>i</th>\n      <th>j</th>\n    </tr>\n  </thead>\n  <tbody>\n    <tr>\n      <th>0</th>\n      <td>0.352178</td>\n      <td>-0.230174</td>\n      <td>0.198383</td>\n      <td>-0.370593</td>\n      <td>0.339987</td>\n      <td>-0.283366</td>\n      <td>0.183163</td>\n      <td>-0.131149</td>\n      <td>-0.152391</td>\n      <td>0.093963</td>\n    </tr>\n    <tr>\n      <th>1</th>\n      <td>-0.270455</td>\n      <td>-0.221624</td>\n      <td>-0.062479</td>\n      <td>0.105807</td>\n      <td>-0.107799</td>\n      <td>0.436346</td>\n      <td>0.217529</td>\n      <td>0.245986</td>\n      <td>-0.338315</td>\n      <td>-0.004996</td>\n    </tr>\n    <tr>\n      <th>2</th>\n      <td>0.090417</td>\n      <td>-0.290176</td>\n      <td>0.069558</td>\n      <td>-0.433475</td>\n      <td>0.112833</td>\n      <td>0.422991</td>\n      <td>-0.072373</td>\n      <td>0.158225</td>\n      <td>0.177351</td>\n      <td>-0.235352</td>\n    </tr>\n    <tr>\n      <th>3</th>\n      <td>0.074306</td>\n      <td>0.257351</td>\n      <td>-0.396178</td>\n      <td>0.031333</td>\n      <td>-0.360204</td>\n      <td>0.034242</td>\n      <td>0.284646</td>\n      <td>0.410848</td>\n      <td>-0.366370</td>\n      <td>0.030025</td>\n    </tr>\n    <tr>\n      <th>4</th>\n      <td>-0.341345</td>\n      <td>-0.383419</td>\n      <td>0.316595</td>\n      <td>-0.288968</td>\n      <td>0.540472</td>\n      <td>0.445294</td>\n      <td>0.371187</td>\n      <td>-0.399373</td>\n      <td>-0.148635</td>\n      <td>-0.111808</td>\n    </tr>\n  </tbody>\n</table>\n</div>"
          },
          "metadata": {}
        }
      ]
    },
    {
      "cell_type": "markdown",
      "source": "**24.** Suppose you have DataFrame with 10 columns of real numbers, for example:\n\n```python\ndf = pd.DataFrame(np.random.random(size=(5, 10)), columns=list('abcdefghij'))\n```\nWhich column of numbers has the smallest sum? (Find that column's label.)",
      "metadata": {
        "cell_id": "00048-af2010df-4abd-4371-afde-e33bb08d3924",
        "deepnote_cell_type": "markdown"
      }
    },
    {
      "cell_type": "code",
      "metadata": {
        "collapsed": true,
        "cell_id": "00049-5c0f2cf4-778e-4da1-89e4-66150d495d02",
        "deepnote_to_be_reexecuted": false,
        "source_hash": "96d0d394",
        "execution_millis": 16,
        "execution_start": 1616512320002,
        "deepnote_cell_type": "code"
      },
      "source": "#define dataframe\ndf = pd.DataFrame(np.random.random(size=(5, 10)), columns=list('abcdefghij'))\n\n#solution\ndf.sum().idxmin()",
      "execution_count": 29,
      "outputs": [
        {
          "output_type": "execute_result",
          "execution_count": 29,
          "data": {
            "text/plain": "'j'"
          },
          "metadata": {}
        }
      ]
    },
    {
      "cell_type": "markdown",
      "source": "**25.** How do you count how many unique rows a DataFrame has (i.e. ignore all rows that are duplicates)?",
      "metadata": {
        "cell_id": "00050-25a76092-aa6f-44fc-a8db-07d3be23a795",
        "deepnote_cell_type": "markdown"
      }
    },
    {
      "cell_type": "code",
      "metadata": {
        "collapsed": true,
        "cell_id": "00051-fa8ef9af-a310-4f1e-acfb-95cbb470b857",
        "deepnote_to_be_reexecuted": false,
        "source_hash": "f0991583",
        "execution_millis": 3,
        "execution_start": 1616512382366,
        "deepnote_cell_type": "code"
      },
      "source": "#ignoring rows that are duplicates\nlen(df.drop_duplicates(keep=False))",
      "execution_count": 30,
      "outputs": [
        {
          "output_type": "execute_result",
          "execution_count": 30,
          "data": {
            "text/plain": "5"
          },
          "metadata": {}
        }
      ]
    },
    {
      "cell_type": "markdown",
      "source": "The next three puzzles are slightly harder...\n\n**26.** You have a DataFrame that consists of 10 columns of floating--point numbers. Suppose that exactly 5 entries in each row are NaN values. For each row of the DataFrame, find the *column* which contains the *third* NaN value.\n\n(You should return a Series of column labels. Try not to use `.iterrows()`)",
      "metadata": {
        "cell_id": "00052-e9526486-280d-4d71-93b4-67cfda2cfb6f",
        "deepnote_cell_type": "markdown"
      }
    },
    {
      "cell_type": "code",
      "metadata": {
        "collapsed": true,
        "cell_id": "00053-e5cb745a-8e80-411d-8e7f-361ffdc852bc",
        "deepnote_to_be_reexecuted": false,
        "source_hash": "fd6ac1ae",
        "execution_millis": 79,
        "execution_start": 1616513007916,
        "deepnote_cell_type": "code"
      },
      "source": "data = {\n1:[np.nan,2,np.nan,4,5],\n2:[np.nan,2,3,np.nan,5],\n3:[np.nan,2,np.nan,4,5],\n4:[1,np.nan,3,np.nan,np.nan],\n5:[1,2,np.nan,4,5],\n6:[1,np.nan,3,np.nan,np.nan],\n7:[1,2,3,4,5],\n8:[1,np.nan,3,np.nan,np.nan],\n9:[1,2,3,4,np.nan],\n10:[1,np.nan,3,4,5]}\n\ndf = pd.DataFrame(data, index='labels')\nlabels = [1, 2, 3, 4, 5, 6, 7, 8, 9, 10]\n(df.isnull().cumsum(axis=1) == 3).idxmax(axis=1)",
      "execution_count": 35,
      "outputs": [
        {
          "output_type": "error",
          "ename": "TypeError",
          "evalue": "Index(...) must be called with a collection of some kind, 'labels' was passed",
          "traceback": [
            "\u001b[0;31m---------------------------------------------------------------------------\u001b[0m",
            "\u001b[0;31mTypeError\u001b[0m                                 Traceback (most recent call last)",
            "\u001b[0;32m<ipython-input-35-0c9582e0efe6>\u001b[0m in \u001b[0;36m<module>\u001b[0;34m\u001b[0m\n\u001b[1;32m     11\u001b[0m 10:[1,np.nan,3,4,5]}\n\u001b[1;32m     12\u001b[0m \u001b[0;34m\u001b[0m\u001b[0m\n\u001b[0;32m---> 13\u001b[0;31m \u001b[0mdf\u001b[0m \u001b[0;34m=\u001b[0m \u001b[0mpd\u001b[0m\u001b[0;34m.\u001b[0m\u001b[0mDataFrame\u001b[0m\u001b[0;34m(\u001b[0m\u001b[0mdata\u001b[0m\u001b[0;34m,\u001b[0m \u001b[0mindex\u001b[0m\u001b[0;34m=\u001b[0m\u001b[0;34m'labels'\u001b[0m\u001b[0;34m)\u001b[0m\u001b[0;34m\u001b[0m\u001b[0;34m\u001b[0m\u001b[0m\n\u001b[0m\u001b[1;32m     14\u001b[0m \u001b[0mlabels\u001b[0m \u001b[0;34m=\u001b[0m \u001b[0;34m[\u001b[0m\u001b[0;36m1\u001b[0m\u001b[0;34m,\u001b[0m \u001b[0;36m2\u001b[0m\u001b[0;34m,\u001b[0m \u001b[0;36m3\u001b[0m\u001b[0;34m,\u001b[0m \u001b[0;36m4\u001b[0m\u001b[0;34m,\u001b[0m \u001b[0;36m5\u001b[0m\u001b[0;34m,\u001b[0m \u001b[0;36m6\u001b[0m\u001b[0;34m,\u001b[0m \u001b[0;36m7\u001b[0m\u001b[0;34m,\u001b[0m \u001b[0;36m8\u001b[0m\u001b[0;34m,\u001b[0m \u001b[0;36m9\u001b[0m\u001b[0;34m,\u001b[0m \u001b[0;36m10\u001b[0m\u001b[0;34m]\u001b[0m\u001b[0;34m\u001b[0m\u001b[0;34m\u001b[0m\u001b[0m\n\u001b[1;32m     15\u001b[0m \u001b[0;34m(\u001b[0m\u001b[0mdf\u001b[0m\u001b[0;34m.\u001b[0m\u001b[0misnull\u001b[0m\u001b[0;34m(\u001b[0m\u001b[0;34m)\u001b[0m\u001b[0;34m.\u001b[0m\u001b[0mcumsum\u001b[0m\u001b[0;34m(\u001b[0m\u001b[0maxis\u001b[0m\u001b[0;34m=\u001b[0m\u001b[0;36m1\u001b[0m\u001b[0;34m)\u001b[0m \u001b[0;34m==\u001b[0m \u001b[0;36m3\u001b[0m\u001b[0;34m)\u001b[0m\u001b[0;34m.\u001b[0m\u001b[0midxmax\u001b[0m\u001b[0;34m(\u001b[0m\u001b[0maxis\u001b[0m\u001b[0;34m=\u001b[0m\u001b[0;36m1\u001b[0m\u001b[0;34m)\u001b[0m\u001b[0;34m\u001b[0m\u001b[0;34m\u001b[0m\u001b[0m\n",
            "\u001b[0;32m/shared-libs/python3.7/py/lib/python3.7/site-packages/pandas/core/frame.py\u001b[0m in \u001b[0;36m__init__\u001b[0;34m(self, data, index, columns, dtype, copy)\u001b[0m\n\u001b[1;32m    527\u001b[0m \u001b[0;34m\u001b[0m\u001b[0m\n\u001b[1;32m    528\u001b[0m         \u001b[0;32melif\u001b[0m \u001b[0misinstance\u001b[0m\u001b[0;34m(\u001b[0m\u001b[0mdata\u001b[0m\u001b[0;34m,\u001b[0m \u001b[0mdict\u001b[0m\u001b[0;34m)\u001b[0m\u001b[0;34m:\u001b[0m\u001b[0;34m\u001b[0m\u001b[0;34m\u001b[0m\u001b[0m\n\u001b[0;32m--> 529\u001b[0;31m             \u001b[0mmgr\u001b[0m \u001b[0;34m=\u001b[0m \u001b[0minit_dict\u001b[0m\u001b[0;34m(\u001b[0m\u001b[0mdata\u001b[0m\u001b[0;34m,\u001b[0m \u001b[0mindex\u001b[0m\u001b[0;34m,\u001b[0m \u001b[0mcolumns\u001b[0m\u001b[0;34m,\u001b[0m \u001b[0mdtype\u001b[0m\u001b[0;34m=\u001b[0m\u001b[0mdtype\u001b[0m\u001b[0;34m)\u001b[0m\u001b[0;34m\u001b[0m\u001b[0;34m\u001b[0m\u001b[0m\n\u001b[0m\u001b[1;32m    530\u001b[0m         \u001b[0;32melif\u001b[0m \u001b[0misinstance\u001b[0m\u001b[0;34m(\u001b[0m\u001b[0mdata\u001b[0m\u001b[0;34m,\u001b[0m \u001b[0mma\u001b[0m\u001b[0;34m.\u001b[0m\u001b[0mMaskedArray\u001b[0m\u001b[0;34m)\u001b[0m\u001b[0;34m:\u001b[0m\u001b[0;34m\u001b[0m\u001b[0;34m\u001b[0m\u001b[0m\n\u001b[1;32m    531\u001b[0m             \u001b[0;32mimport\u001b[0m \u001b[0mnumpy\u001b[0m\u001b[0;34m.\u001b[0m\u001b[0mma\u001b[0m\u001b[0;34m.\u001b[0m\u001b[0mmrecords\u001b[0m \u001b[0;32mas\u001b[0m \u001b[0mmrecords\u001b[0m\u001b[0;34m\u001b[0m\u001b[0;34m\u001b[0m\u001b[0m\n",
            "\u001b[0;32m/shared-libs/python3.7/py/lib/python3.7/site-packages/pandas/core/internals/construction.py\u001b[0m in \u001b[0;36minit_dict\u001b[0;34m(data, index, columns, dtype)\u001b[0m\n\u001b[1;32m    285\u001b[0m             \u001b[0marr\u001b[0m \u001b[0;32mif\u001b[0m \u001b[0;32mnot\u001b[0m \u001b[0mis_datetime64tz_dtype\u001b[0m\u001b[0;34m(\u001b[0m\u001b[0marr\u001b[0m\u001b[0;34m)\u001b[0m \u001b[0;32melse\u001b[0m \u001b[0marr\u001b[0m\u001b[0;34m.\u001b[0m\u001b[0mcopy\u001b[0m\u001b[0;34m(\u001b[0m\u001b[0;34m)\u001b[0m \u001b[0;32mfor\u001b[0m \u001b[0marr\u001b[0m \u001b[0;32min\u001b[0m \u001b[0marrays\u001b[0m\u001b[0;34m\u001b[0m\u001b[0;34m\u001b[0m\u001b[0m\n\u001b[1;32m    286\u001b[0m         ]\n\u001b[0;32m--> 287\u001b[0;31m     \u001b[0;32mreturn\u001b[0m \u001b[0marrays_to_mgr\u001b[0m\u001b[0;34m(\u001b[0m\u001b[0marrays\u001b[0m\u001b[0;34m,\u001b[0m \u001b[0mdata_names\u001b[0m\u001b[0;34m,\u001b[0m \u001b[0mindex\u001b[0m\u001b[0;34m,\u001b[0m \u001b[0mcolumns\u001b[0m\u001b[0;34m,\u001b[0m \u001b[0mdtype\u001b[0m\u001b[0;34m=\u001b[0m\u001b[0mdtype\u001b[0m\u001b[0;34m)\u001b[0m\u001b[0;34m\u001b[0m\u001b[0;34m\u001b[0m\u001b[0m\n\u001b[0m\u001b[1;32m    288\u001b[0m \u001b[0;34m\u001b[0m\u001b[0m\n\u001b[1;32m    289\u001b[0m \u001b[0;34m\u001b[0m\u001b[0m\n",
            "\u001b[0;32m/shared-libs/python3.7/py/lib/python3.7/site-packages/pandas/core/internals/construction.py\u001b[0m in \u001b[0;36marrays_to_mgr\u001b[0;34m(arrays, arr_names, index, columns, dtype, verify_integrity)\u001b[0m\n\u001b[1;32m     80\u001b[0m             \u001b[0mindex\u001b[0m \u001b[0;34m=\u001b[0m \u001b[0mextract_index\u001b[0m\u001b[0;34m(\u001b[0m\u001b[0marrays\u001b[0m\u001b[0;34m)\u001b[0m\u001b[0;34m\u001b[0m\u001b[0;34m\u001b[0m\u001b[0m\n\u001b[1;32m     81\u001b[0m         \u001b[0;32melse\u001b[0m\u001b[0;34m:\u001b[0m\u001b[0;34m\u001b[0m\u001b[0;34m\u001b[0m\u001b[0m\n\u001b[0;32m---> 82\u001b[0;31m             \u001b[0mindex\u001b[0m \u001b[0;34m=\u001b[0m \u001b[0mensure_index\u001b[0m\u001b[0;34m(\u001b[0m\u001b[0mindex\u001b[0m\u001b[0;34m)\u001b[0m\u001b[0;34m\u001b[0m\u001b[0;34m\u001b[0m\u001b[0m\n\u001b[0m\u001b[1;32m     83\u001b[0m \u001b[0;34m\u001b[0m\u001b[0m\n\u001b[1;32m     84\u001b[0m         \u001b[0;31m# don't force copy because getting jammed in an ndarray anyway\u001b[0m\u001b[0;34m\u001b[0m\u001b[0;34m\u001b[0m\u001b[0;34m\u001b[0m\u001b[0m\n",
            "\u001b[0;32m/shared-libs/python3.7/py/lib/python3.7/site-packages/pandas/core/indexes/base.py\u001b[0m in \u001b[0;36mensure_index\u001b[0;34m(index_like, copy)\u001b[0m\n\u001b[1;32m   5915\u001b[0m             \u001b[0mindex_like\u001b[0m \u001b[0;34m=\u001b[0m \u001b[0mcopy_func\u001b[0m\u001b[0;34m(\u001b[0m\u001b[0mindex_like\u001b[0m\u001b[0;34m)\u001b[0m\u001b[0;34m\u001b[0m\u001b[0;34m\u001b[0m\u001b[0m\n\u001b[1;32m   5916\u001b[0m \u001b[0;34m\u001b[0m\u001b[0m\n\u001b[0;32m-> 5917\u001b[0;31m     \u001b[0;32mreturn\u001b[0m \u001b[0mIndex\u001b[0m\u001b[0;34m(\u001b[0m\u001b[0mindex_like\u001b[0m\u001b[0;34m)\u001b[0m\u001b[0;34m\u001b[0m\u001b[0;34m\u001b[0m\u001b[0m\n\u001b[0m\u001b[1;32m   5918\u001b[0m \u001b[0;34m\u001b[0m\u001b[0m\n\u001b[1;32m   5919\u001b[0m \u001b[0;34m\u001b[0m\u001b[0m\n",
            "\u001b[0;32m/shared-libs/python3.7/py/lib/python3.7/site-packages/pandas/core/indexes/base.py\u001b[0m in \u001b[0;36m__new__\u001b[0;34m(cls, data, dtype, copy, name, tupleize_cols, **kwargs)\u001b[0m\n\u001b[1;32m    370\u001b[0m \u001b[0;34m\u001b[0m\u001b[0m\n\u001b[1;32m    371\u001b[0m         \u001b[0;32melif\u001b[0m \u001b[0mdata\u001b[0m \u001b[0;32mis\u001b[0m \u001b[0;32mNone\u001b[0m \u001b[0;32mor\u001b[0m \u001b[0mis_scalar\u001b[0m\u001b[0;34m(\u001b[0m\u001b[0mdata\u001b[0m\u001b[0;34m)\u001b[0m\u001b[0;34m:\u001b[0m\u001b[0;34m\u001b[0m\u001b[0;34m\u001b[0m\u001b[0m\n\u001b[0;32m--> 372\u001b[0;31m             \u001b[0;32mraise\u001b[0m \u001b[0mcls\u001b[0m\u001b[0;34m.\u001b[0m\u001b[0m_scalar_data_error\u001b[0m\u001b[0;34m(\u001b[0m\u001b[0mdata\u001b[0m\u001b[0;34m)\u001b[0m\u001b[0;34m\u001b[0m\u001b[0;34m\u001b[0m\u001b[0m\n\u001b[0m\u001b[1;32m    373\u001b[0m         \u001b[0;32melif\u001b[0m \u001b[0mhasattr\u001b[0m\u001b[0;34m(\u001b[0m\u001b[0mdata\u001b[0m\u001b[0;34m,\u001b[0m \u001b[0;34m\"__array__\"\u001b[0m\u001b[0;34m)\u001b[0m\u001b[0;34m:\u001b[0m\u001b[0;34m\u001b[0m\u001b[0;34m\u001b[0m\u001b[0m\n\u001b[1;32m    374\u001b[0m             \u001b[0;32mreturn\u001b[0m \u001b[0mIndex\u001b[0m\u001b[0;34m(\u001b[0m\u001b[0mnp\u001b[0m\u001b[0;34m.\u001b[0m\u001b[0masarray\u001b[0m\u001b[0;34m(\u001b[0m\u001b[0mdata\u001b[0m\u001b[0;34m)\u001b[0m\u001b[0;34m,\u001b[0m \u001b[0mdtype\u001b[0m\u001b[0;34m=\u001b[0m\u001b[0mdtype\u001b[0m\u001b[0;34m,\u001b[0m \u001b[0mcopy\u001b[0m\u001b[0;34m=\u001b[0m\u001b[0mcopy\u001b[0m\u001b[0;34m,\u001b[0m \u001b[0mname\u001b[0m\u001b[0;34m=\u001b[0m\u001b[0mname\u001b[0m\u001b[0;34m,\u001b[0m \u001b[0;34m**\u001b[0m\u001b[0mkwargs\u001b[0m\u001b[0;34m)\u001b[0m\u001b[0;34m\u001b[0m\u001b[0;34m\u001b[0m\u001b[0m\n",
            "\u001b[0;31mTypeError\u001b[0m: Index(...) must be called with a collection of some kind, 'labels' was passed"
          ]
        }
      ]
    },
    {
      "cell_type": "markdown",
      "source": "**27.** A DataFrame has a column of groups 'grps' and and column of numbers 'vals'. For example: \n\n```python\ndf = pd.DataFrame({'grps': list('aaabbcaabcccbbc'), \n                   'vals': [12,345,3,1,45,14,4,52,54,23,235,21,57,3,87]})\n```\nFor each *group*, find the sum of the three greatest values.",
      "metadata": {
        "cell_id": "00054-06608584-1ace-4922-ab11-2d08ae6ce23a",
        "deepnote_cell_type": "markdown"
      }
    },
    {
      "cell_type": "code",
      "metadata": {
        "collapsed": true,
        "cell_id": "00055-4d8b61ec-8c2b-4475-9fb7-b871beaa39ea",
        "deepnote_to_be_reexecuted": false,
        "source_hash": "f88fa153",
        "execution_millis": 100,
        "execution_start": 1616513081475,
        "deepnote_cell_type": "code"
      },
      "source": "#deffing dataframe\ndf = pd.DataFrame({'grps': list('aaabbcaabcccbbc'), \n                   'vals': [12,345,3,1,45,14,4,52,54,23,235,21,57,3,87]})\n#solution\ndf.groupby('grp')['vals'].nlargest(3).sum(level=0)",
      "execution_count": 39,
      "outputs": [
        {
          "output_type": "error",
          "ename": "KeyError",
          "evalue": "'grp'",
          "traceback": [
            "\u001b[0;31m---------------------------------------------------------------------------\u001b[0m",
            "\u001b[0;31mKeyError\u001b[0m                                  Traceback (most recent call last)",
            "\u001b[0;32m<ipython-input-39-054f6880f71e>\u001b[0m in \u001b[0;36m<module>\u001b[0;34m\u001b[0m\n\u001b[1;32m      3\u001b[0m                    'vals': [12,345,3,1,45,14,4,52,54,23,235,21,57,3,87]})\n\u001b[1;32m      4\u001b[0m \u001b[0;31m#solution\u001b[0m\u001b[0;34m\u001b[0m\u001b[0;34m\u001b[0m\u001b[0;34m\u001b[0m\u001b[0m\n\u001b[0;32m----> 5\u001b[0;31m \u001b[0mdf\u001b[0m\u001b[0;34m.\u001b[0m\u001b[0mgroupby\u001b[0m\u001b[0;34m(\u001b[0m\u001b[0;34m'grp'\u001b[0m\u001b[0;34m)\u001b[0m\u001b[0;34m[\u001b[0m\u001b[0;34m'vals'\u001b[0m\u001b[0;34m]\u001b[0m\u001b[0;34m.\u001b[0m\u001b[0mnlargest\u001b[0m\u001b[0;34m(\u001b[0m\u001b[0;36m3\u001b[0m\u001b[0;34m)\u001b[0m\u001b[0;34m.\u001b[0m\u001b[0msum\u001b[0m\u001b[0;34m(\u001b[0m\u001b[0mlevel\u001b[0m\u001b[0;34m=\u001b[0m\u001b[0;36m0\u001b[0m\u001b[0;34m)\u001b[0m\u001b[0;34m\u001b[0m\u001b[0;34m\u001b[0m\u001b[0m\n\u001b[0m",
            "\u001b[0;32m/shared-libs/python3.7/py/lib/python3.7/site-packages/pandas/core/frame.py\u001b[0m in \u001b[0;36mgroupby\u001b[0;34m(self, by, axis, level, as_index, sort, group_keys, squeeze, observed, dropna)\u001b[0m\n\u001b[1;32m   6725\u001b[0m             \u001b[0msqueeze\u001b[0m\u001b[0;34m=\u001b[0m\u001b[0msqueeze\u001b[0m\u001b[0;34m,\u001b[0m\u001b[0;34m\u001b[0m\u001b[0;34m\u001b[0m\u001b[0m\n\u001b[1;32m   6726\u001b[0m             \u001b[0mobserved\u001b[0m\u001b[0;34m=\u001b[0m\u001b[0mobserved\u001b[0m\u001b[0;34m,\u001b[0m\u001b[0;34m\u001b[0m\u001b[0;34m\u001b[0m\u001b[0m\n\u001b[0;32m-> 6727\u001b[0;31m             \u001b[0mdropna\u001b[0m\u001b[0;34m=\u001b[0m\u001b[0mdropna\u001b[0m\u001b[0;34m,\u001b[0m\u001b[0;34m\u001b[0m\u001b[0;34m\u001b[0m\u001b[0m\n\u001b[0m\u001b[1;32m   6728\u001b[0m         )\n\u001b[1;32m   6729\u001b[0m \u001b[0;34m\u001b[0m\u001b[0m\n",
            "\u001b[0;32m/shared-libs/python3.7/py/lib/python3.7/site-packages/pandas/core/groupby/groupby.py\u001b[0m in \u001b[0;36m__init__\u001b[0;34m(self, obj, keys, axis, level, grouper, exclusions, selection, as_index, sort, group_keys, squeeze, observed, mutated, dropna)\u001b[0m\n\u001b[1;32m    566\u001b[0m                 \u001b[0mobserved\u001b[0m\u001b[0;34m=\u001b[0m\u001b[0mobserved\u001b[0m\u001b[0;34m,\u001b[0m\u001b[0;34m\u001b[0m\u001b[0;34m\u001b[0m\u001b[0m\n\u001b[1;32m    567\u001b[0m                 \u001b[0mmutated\u001b[0m\u001b[0;34m=\u001b[0m\u001b[0mself\u001b[0m\u001b[0;34m.\u001b[0m\u001b[0mmutated\u001b[0m\u001b[0;34m,\u001b[0m\u001b[0;34m\u001b[0m\u001b[0;34m\u001b[0m\u001b[0m\n\u001b[0;32m--> 568\u001b[0;31m                 \u001b[0mdropna\u001b[0m\u001b[0;34m=\u001b[0m\u001b[0mself\u001b[0m\u001b[0;34m.\u001b[0m\u001b[0mdropna\u001b[0m\u001b[0;34m,\u001b[0m\u001b[0;34m\u001b[0m\u001b[0;34m\u001b[0m\u001b[0m\n\u001b[0m\u001b[1;32m    569\u001b[0m             )\n\u001b[1;32m    570\u001b[0m \u001b[0;34m\u001b[0m\u001b[0m\n",
            "\u001b[0;32m/shared-libs/python3.7/py/lib/python3.7/site-packages/pandas/core/groupby/grouper.py\u001b[0m in \u001b[0;36mget_grouper\u001b[0;34m(obj, key, axis, level, sort, observed, mutated, validate, dropna)\u001b[0m\n\u001b[1;32m    809\u001b[0m                 \u001b[0min_axis\u001b[0m\u001b[0;34m,\u001b[0m \u001b[0mname\u001b[0m\u001b[0;34m,\u001b[0m \u001b[0mlevel\u001b[0m\u001b[0;34m,\u001b[0m \u001b[0mgpr\u001b[0m \u001b[0;34m=\u001b[0m \u001b[0;32mFalse\u001b[0m\u001b[0;34m,\u001b[0m \u001b[0;32mNone\u001b[0m\u001b[0;34m,\u001b[0m \u001b[0mgpr\u001b[0m\u001b[0;34m,\u001b[0m \u001b[0;32mNone\u001b[0m\u001b[0;34m\u001b[0m\u001b[0;34m\u001b[0m\u001b[0m\n\u001b[1;32m    810\u001b[0m             \u001b[0;32melse\u001b[0m\u001b[0;34m:\u001b[0m\u001b[0;34m\u001b[0m\u001b[0;34m\u001b[0m\u001b[0m\n\u001b[0;32m--> 811\u001b[0;31m                 \u001b[0;32mraise\u001b[0m \u001b[0mKeyError\u001b[0m\u001b[0;34m(\u001b[0m\u001b[0mgpr\u001b[0m\u001b[0;34m)\u001b[0m\u001b[0;34m\u001b[0m\u001b[0;34m\u001b[0m\u001b[0m\n\u001b[0m\u001b[1;32m    812\u001b[0m         \u001b[0;32melif\u001b[0m \u001b[0misinstance\u001b[0m\u001b[0;34m(\u001b[0m\u001b[0mgpr\u001b[0m\u001b[0;34m,\u001b[0m \u001b[0mGrouper\u001b[0m\u001b[0;34m)\u001b[0m \u001b[0;32mand\u001b[0m \u001b[0mgpr\u001b[0m\u001b[0;34m.\u001b[0m\u001b[0mkey\u001b[0m \u001b[0;32mis\u001b[0m \u001b[0;32mnot\u001b[0m \u001b[0;32mNone\u001b[0m\u001b[0;34m:\u001b[0m\u001b[0;34m\u001b[0m\u001b[0;34m\u001b[0m\u001b[0m\n\u001b[1;32m    813\u001b[0m             \u001b[0;31m# Add key to exclusions\u001b[0m\u001b[0;34m\u001b[0m\u001b[0;34m\u001b[0m\u001b[0;34m\u001b[0m\u001b[0m\n",
            "\u001b[0;31mKeyError\u001b[0m: 'grp'"
          ]
        }
      ]
    },
    {
      "cell_type": "markdown",
      "source": "**28.** A DataFrame has two integer columns 'A' and 'B'. The values in 'A' are between 1 and 100 (inclusive). For each group of 10 consecutive integers in 'A' (i.e. `(0, 10]`, `(10, 20]`, ...), calculate the sum of the corresponding values in column 'B'.",
      "metadata": {
        "cell_id": "00056-e580d5e8-5a61-4ee7-8ede-c099cc078e14",
        "deepnote_cell_type": "markdown"
      }
    },
    {
      "cell_type": "code",
      "metadata": {
        "collapsed": true,
        "cell_id": "00057-6ebb95a3-c34c-4b68-89b0-6d484e6eacb4",
        "deepnote_to_be_reexecuted": false,
        "source_hash": "b623e53d",
        "execution_millis": 0,
        "execution_start": 1616511740841,
        "deepnote_cell_type": "code"
      },
      "source": "#Solution\ndf.groupby(pd.cut(df['A'], np.arange(0, 101, 10)))['B'].sum()",
      "execution_count": 21,
      "outputs": []
    },
    {
      "cell_type": "markdown",
      "source": "## DataFrames: harder problems \n\n### These might require a bit of thinking outside the box...\n\n...but all are solvable using just the usual pandas/NumPy methods (and so avoid using explicit `for` loops).\n\nDifficulty: *hard*",
      "metadata": {
        "cell_id": "00058-ccc25cd6-b085-4fc3-8d8c-be6485787a53",
        "deepnote_cell_type": "markdown"
      }
    },
    {
      "cell_type": "markdown",
      "source": "**29.** Consider a DataFrame `df` where there is an integer column 'X':\n```python\ndf = pd.DataFrame({'X': [7, 2, 0, 3, 4, 2, 5, 0, 3, 4]})\n```\nFor each value, count the difference back to the previous zero (or the start of the Series, whichever is closer). These values should therefore be `[1, 2, 0, 1, 2, 3, 4, 0, 1, 2]`. Make this a new column 'Y'.",
      "metadata": {
        "cell_id": "00059-b49b6d4f-b634-44ab-81b9-83106c8be398",
        "deepnote_cell_type": "markdown"
      }
    },
    {
      "cell_type": "code",
      "metadata": {
        "collapsed": true,
        "cell_id": "00060-ad95b08f-d790-4d99-b6d7-ea8730c22ef9",
        "deepnote_to_be_reexecuted": false,
        "source_hash": "b623e53d",
        "execution_millis": 0,
        "execution_start": 1616511740855,
        "deepnote_cell_type": "code"
      },
      "source": "",
      "execution_count": 21,
      "outputs": []
    },
    {
      "cell_type": "markdown",
      "source": "Here's an alternative approach based on a [cookbook recipe](http://pandas.pydata.org/pandas-docs/stable/cookbook.html#grouping):",
      "metadata": {
        "cell_id": "00061-16d55781-3423-4468-9c22-186950ffe001",
        "deepnote_cell_type": "markdown"
      }
    },
    {
      "cell_type": "code",
      "metadata": {
        "collapsed": true,
        "cell_id": "00062-77290e01-3fa5-498c-bb7f-49a117513b33",
        "deepnote_to_be_reexecuted": false,
        "source_hash": "b623e53d",
        "execution_millis": 0,
        "execution_start": 1616511740855,
        "deepnote_cell_type": "code"
      },
      "source": "",
      "execution_count": 21,
      "outputs": []
    },
    {
      "cell_type": "markdown",
      "source": "**30.** Consider a DataFrame containing rows and columns of purely numerical data. Create a list of the row-column index locations of the 3 largest values.",
      "metadata": {
        "cell_id": "00063-54067c32-d381-4b18-a354-47c4cbf98a99",
        "deepnote_cell_type": "markdown"
      }
    },
    {
      "cell_type": "code",
      "metadata": {
        "collapsed": true,
        "cell_id": "00064-b05488d1-6301-4afc-ad40-75d7c084d2ce",
        "deepnote_to_be_reexecuted": false,
        "source_hash": "b623e53d",
        "execution_start": 1616511740856,
        "deepnote_cell_type": "code"
      },
      "source": "",
      "execution_count": 21,
      "outputs": []
    },
    {
      "cell_type": "markdown",
      "source": "**31.** Given a DataFrame with a column of group IDs, 'grps', and a column of corresponding integer values, 'vals', replace any negative values in 'vals' with the group mean.",
      "metadata": {
        "cell_id": "00065-70b470f4-7068-4b4c-80da-c4a022f270bf",
        "deepnote_cell_type": "markdown"
      }
    },
    {
      "cell_type": "code",
      "metadata": {
        "collapsed": true,
        "cell_id": "00066-83255d3e-21d2-4f03-a731-c619b586648f",
        "deepnote_to_be_reexecuted": false,
        "source_hash": "b623e53d",
        "execution_start": 1616511740870,
        "deepnote_cell_type": "code"
      },
      "source": "",
      "execution_count": 21,
      "outputs": []
    },
    {
      "cell_type": "markdown",
      "source": "**32.** Implement a rolling mean over groups with window size 3, which ignores NaN value. For example consider the following DataFrame:\n\n```python\n>>> df = pd.DataFrame({'group': list('aabbabbbabab'),\n                       'value': [1, 2, 3, np.nan, 2, 3, \n                                 np.nan, 1, 7, 3, np.nan, 8]})\n>>> df\n   group  value\n0      a    1.0\n1      a    2.0\n2      b    3.0\n3      b    NaN\n4      a    2.0\n5      b    3.0\n6      b    NaN\n7      b    1.0\n8      a    7.0\n9      b    3.0\n10     a    NaN\n11     b    8.0\n```\nThe goal is to compute the Series:\n\n```\n0     1.000000\n1     1.500000\n2     3.000000\n3     3.000000\n4     1.666667\n5     3.000000\n6     3.000000\n7     2.000000\n8     3.666667\n9     2.000000\n10    4.500000\n11    4.000000\n```\nE.g. the first window of size three for group 'b' has values 3.0, NaN and 3.0 and occurs at row index 5. Instead of being NaN the value in the new column at this row index should be 3.0 (just the two non-NaN values are used to compute the mean (3+3)/2)",
      "metadata": {
        "cell_id": "00067-c2f841d4-c52c-4811-90a8-e280cf067cb2",
        "deepnote_cell_type": "markdown"
      }
    },
    {
      "cell_type": "code",
      "metadata": {
        "collapsed": true,
        "cell_id": "00068-080b7281-ce34-4952-a11d-ebf1fc748749",
        "deepnote_to_be_reexecuted": false,
        "source_hash": "b623e53d",
        "execution_start": 1616511740871,
        "deepnote_cell_type": "code"
      },
      "source": "",
      "execution_count": 21,
      "outputs": []
    },
    {
      "cell_type": "markdown",
      "source": "## Series and DatetimeIndex\n\n### Exercises for creating and manipulating Series with datetime data\n\nDifficulty: *easy/medium*\n\npandas is fantastic for working with dates and times. These puzzles explore some of this functionality.\n",
      "metadata": {
        "cell_id": "00069-3aefa0d0-de84-4572-bb3f-e2e1f7c1dbdb",
        "deepnote_cell_type": "markdown"
      }
    },
    {
      "cell_type": "markdown",
      "source": "**33.** Create a DatetimeIndex that contains each business day of 2015 and use it to index a Series of random numbers. Let's call this Series `s`.",
      "metadata": {
        "cell_id": "00070-497ea923-48a9-4e6e-9516-47a815a54853",
        "deepnote_cell_type": "markdown"
      }
    },
    {
      "cell_type": "code",
      "metadata": {
        "collapsed": true,
        "cell_id": "00071-39e2c5bf-9f4c-40e9-89f6-68a1faec9d1a",
        "deepnote_to_be_reexecuted": false,
        "source_hash": "b623e53d",
        "execution_start": 1616511740872,
        "deepnote_cell_type": "code"
      },
      "source": "",
      "execution_count": 21,
      "outputs": []
    },
    {
      "cell_type": "markdown",
      "source": "**34.** Find the sum of the values in `s` for every Wednesday.",
      "metadata": {
        "cell_id": "00072-a6bde08a-b318-4cb8-934d-621563d2ac81",
        "deepnote_cell_type": "markdown"
      }
    },
    {
      "cell_type": "code",
      "metadata": {
        "collapsed": true,
        "cell_id": "00073-4658506c-bcd9-4fa0-aba8-92f4cf0a3a23",
        "deepnote_to_be_reexecuted": false,
        "source_hash": "b623e53d",
        "execution_millis": 0,
        "execution_start": 1616511740872,
        "deepnote_cell_type": "code"
      },
      "source": "",
      "execution_count": 21,
      "outputs": []
    },
    {
      "cell_type": "markdown",
      "source": "**35.** For each calendar month in `s`, find the mean of values.",
      "metadata": {
        "cell_id": "00074-735a01f2-e2b5-4ee1-b283-7e3ab834a24f",
        "deepnote_cell_type": "markdown"
      }
    },
    {
      "cell_type": "code",
      "metadata": {
        "collapsed": true,
        "cell_id": "00075-c69f1e02-9d1a-49fe-a9e8-6e6089b72d4f",
        "deepnote_to_be_reexecuted": false,
        "source_hash": "b623e53d",
        "execution_millis": 1,
        "execution_start": 1616511740886,
        "deepnote_cell_type": "code"
      },
      "source": "",
      "execution_count": 21,
      "outputs": []
    },
    {
      "cell_type": "markdown",
      "source": "**36.** For each group of four consecutive calendar months in `s`, find the date on which the highest value occurred.",
      "metadata": {
        "cell_id": "00076-0ef02fae-dc3e-4ecc-908d-1eb3f8055d93",
        "deepnote_cell_type": "markdown"
      }
    },
    {
      "cell_type": "code",
      "metadata": {
        "collapsed": true,
        "cell_id": "00077-f7e86941-a923-4951-b627-180b2513ce22",
        "deepnote_to_be_reexecuted": false,
        "source_hash": "b623e53d",
        "execution_millis": 1,
        "execution_start": 1616511740886,
        "deepnote_cell_type": "code"
      },
      "source": "",
      "execution_count": 21,
      "outputs": []
    },
    {
      "cell_type": "markdown",
      "source": "**37.** Create a DateTimeIndex consisting of the third Thursday in each month for the years 2015 and 2016.",
      "metadata": {
        "cell_id": "00078-8230a529-42e7-4a1e-b1b3-19eb7c26b93e",
        "deepnote_cell_type": "markdown"
      }
    },
    {
      "cell_type": "code",
      "metadata": {
        "collapsed": true,
        "cell_id": "00079-4f771cc9-dc92-4b2b-a340-48a19a45e70e",
        "deepnote_to_be_reexecuted": false,
        "source_hash": "b623e53d",
        "execution_millis": 0,
        "execution_start": 1616511740887,
        "deepnote_cell_type": "code"
      },
      "source": "",
      "execution_count": 21,
      "outputs": []
    },
    {
      "cell_type": "markdown",
      "source": "## Cleaning Data\n\n### Making a DataFrame easier to work with\n\nDifficulty: *easy/medium*\n\nIt happens all the time: someone gives you data containing malformed strings, Python, lists and missing data. How do you tidy it up so you can get on with the analysis?\n\nTake this monstrosity as the DataFrame to use in the following puzzles:\n\n```python\ndf = pd.DataFrame({'From_To': ['LoNDon_paris', 'MAdrid_miLAN', 'londON_StockhOlm', \n                               'Budapest_PaRis', 'Brussels_londOn'],\n              'FlightNumber': [10045, np.nan, 10065, np.nan, 10085],\n              'RecentDelays': [[23, 47], [], [24, 43, 87], [13], [67, 32]],\n                   'Airline': ['KLM(!)', '<Air France> (12)', '(British Airways. )', \n                               '12. Air France', '\"Swiss Air\"']})\n```\n(It's some flight data I made up; it's not meant to be accurate in any way.)\n",
      "metadata": {
        "cell_id": "00080-02d4e253-59d9-4a70-b616-8fdfe1c6f1b4",
        "deepnote_cell_type": "markdown"
      }
    },
    {
      "cell_type": "markdown",
      "source": "**38.** Some values in the the FlightNumber column are missing. These numbers are meant to increase by 10 with each row so 10055 and 10075 need to be put in place. Fill in these missing numbers and make the column an integer column (instead of a float column).",
      "metadata": {
        "cell_id": "00081-d87e9a42-d082-469d-a774-102cc65db39b",
        "deepnote_cell_type": "markdown"
      }
    },
    {
      "cell_type": "code",
      "metadata": {
        "collapsed": true,
        "cell_id": "00082-a858dd95-addb-4656-aa08-6f39d5304b31",
        "deepnote_to_be_reexecuted": false,
        "source_hash": "b623e53d",
        "execution_millis": 2,
        "execution_start": 1616511740901,
        "deepnote_cell_type": "code"
      },
      "source": "",
      "execution_count": 21,
      "outputs": []
    },
    {
      "cell_type": "markdown",
      "source": "**39.** The From\\_To column would be better as two separate columns! Split each string on the underscore delimiter `_` to give a new temporary DataFrame with the correct values. Assign the correct column names to this temporary DataFrame. ",
      "metadata": {
        "cell_id": "00083-4b9976c7-6a7a-402a-9107-ed0a696bba36",
        "deepnote_cell_type": "markdown"
      }
    },
    {
      "cell_type": "code",
      "metadata": {
        "collapsed": true,
        "cell_id": "00084-ce3578e0-8cf7-4909-8abb-fde73fa7acda",
        "deepnote_to_be_reexecuted": false,
        "source_hash": "b623e53d",
        "execution_millis": 1,
        "execution_start": 1616511740901,
        "deepnote_cell_type": "code"
      },
      "source": "",
      "execution_count": 21,
      "outputs": []
    },
    {
      "cell_type": "markdown",
      "source": "**40.** Notice how the capitalisation of the city names is all mixed up in this temporary DataFrame. Standardise the strings so that only the first letter is uppercase (e.g. \"londON\" should become \"London\".)",
      "metadata": {
        "cell_id": "00085-ebedd714-5354-4d1c-93ce-8b2e3f384335",
        "deepnote_cell_type": "markdown"
      }
    },
    {
      "cell_type": "code",
      "metadata": {
        "collapsed": true,
        "cell_id": "00086-43991019-b4cf-4686-9514-e70ac0247691",
        "deepnote_to_be_reexecuted": false,
        "source_hash": "b623e53d",
        "execution_millis": 1,
        "execution_start": 1616511740902,
        "deepnote_cell_type": "code"
      },
      "source": "",
      "execution_count": 21,
      "outputs": []
    },
    {
      "cell_type": "markdown",
      "source": "**41.** Delete the From_To column from `df` and attach the temporary DataFrame from the previous questions.",
      "metadata": {
        "cell_id": "00087-089ba08c-a6bd-4887-b2dd-d01140dfad21",
        "deepnote_cell_type": "markdown"
      }
    },
    {
      "cell_type": "code",
      "metadata": {
        "collapsed": true,
        "cell_id": "00088-832c806c-5da9-437b-bd50-5a918dfff733",
        "deepnote_to_be_reexecuted": false,
        "source_hash": "b623e53d",
        "execution_millis": 0,
        "execution_start": 1616511740938,
        "deepnote_cell_type": "code"
      },
      "source": "",
      "execution_count": 21,
      "outputs": []
    },
    {
      "cell_type": "markdown",
      "source": "**42**. In the Airline column, you can see some extra puctuation and symbols have appeared around the airline names. Pull out just the airline name. E.g. `'(British Airways. )'` should become `'British Airways'`.",
      "metadata": {
        "cell_id": "00089-e5d1e11b-413e-40f0-ab22-bf3fdd8f0060",
        "deepnote_cell_type": "markdown"
      }
    },
    {
      "cell_type": "code",
      "metadata": {
        "collapsed": true,
        "cell_id": "00090-21a5b2ca-cfea-4028-8503-76d0be624aaa",
        "deepnote_to_be_reexecuted": false,
        "source_hash": "b623e53d",
        "execution_millis": 0,
        "execution_start": 1616511740938,
        "deepnote_cell_type": "code"
      },
      "source": "",
      "execution_count": 21,
      "outputs": []
    },
    {
      "cell_type": "markdown",
      "source": "**43**. In the RecentDelays column, the values have been entered into the DataFrame as a list. We would like each first value in its own column, each second value in its own column, and so on. If there isn't an Nth value, the value should be NaN.\n\nExpand the Series of lists into a DataFrame named `delays`, rename the columns `delay_1`, `delay_2`, etc. and replace the unwanted RecentDelays column in `df` with `delays`.",
      "metadata": {
        "cell_id": "00091-aae2ef72-2132-4832-8b57-639029fd4038",
        "deepnote_cell_type": "markdown"
      }
    },
    {
      "cell_type": "code",
      "metadata": {
        "collapsed": true,
        "cell_id": "00092-60010ac1-ddf4-4d05-9249-5fb086cc87c7",
        "deepnote_to_be_reexecuted": false,
        "source_hash": "b623e53d",
        "execution_millis": 1,
        "execution_start": 1616511740939,
        "deepnote_cell_type": "code"
      },
      "source": "",
      "execution_count": 21,
      "outputs": []
    },
    {
      "cell_type": "markdown",
      "source": "The DataFrame should look much better now.",
      "metadata": {
        "cell_id": "00093-3347fd9a-5650-4a1d-a215-764a478f7dc6",
        "deepnote_cell_type": "markdown"
      }
    },
    {
      "cell_type": "markdown",
      "source": "## Using MultiIndexes\n\n### Go beyond flat DataFrames with additional index levels\n\nDifficulty: *medium*\n\nPrevious exercises have seen us analysing data from DataFrames equipped with a single index level. However, pandas also gives you the possibilty of indexing your data using *multiple* levels. This is very much like adding new dimensions to a Series or a DataFrame. For example, a Series is 1D, but by using a MultiIndex with 2 levels we gain of much the same functionality as a 2D DataFrame.\n\nThe set of puzzles below explores how you might use multiple index levels to enhance data analysis.\n\nTo warm up, we'll look make a Series with two index levels. ",
      "metadata": {
        "collapsed": true,
        "cell_id": "00094-451a6e0f-25bc-4221-b54e-9618fbca5249",
        "deepnote_cell_type": "markdown"
      }
    },
    {
      "cell_type": "markdown",
      "source": "**44**. Given the lists `letters = ['A', 'B', 'C']` and `numbers = list(range(10))`, construct a MultiIndex object from the product of the two lists. Use it to index a Series of random numbers. Call this Series `s`.",
      "metadata": {
        "cell_id": "00095-9be3d145-d2dd-41e1-a9a3-b5b766d28383",
        "deepnote_cell_type": "markdown"
      }
    },
    {
      "cell_type": "code",
      "metadata": {
        "collapsed": true,
        "cell_id": "00096-79967dc5-f0d2-4c82-b25a-5ff25a7b53a4",
        "deepnote_to_be_reexecuted": false,
        "source_hash": "b623e53d",
        "execution_millis": 1,
        "execution_start": 1616511740939,
        "deepnote_cell_type": "code"
      },
      "source": "",
      "execution_count": 21,
      "outputs": []
    },
    {
      "cell_type": "markdown",
      "source": "**45.** Check the index of `s` is lexicographically sorted (this is a necessary proprty for indexing to work correctly with a MultiIndex).",
      "metadata": {
        "cell_id": "00097-a27fd209-76a0-4526-8161-63e8d0f2722d",
        "deepnote_cell_type": "markdown"
      }
    },
    {
      "cell_type": "code",
      "metadata": {
        "collapsed": true,
        "cell_id": "00098-d82487bc-97a1-4376-9bc4-13b9dba58f9d",
        "deepnote_to_be_reexecuted": false,
        "source_hash": "b623e53d",
        "execution_millis": 0,
        "execution_start": 1616511740954,
        "deepnote_cell_type": "code"
      },
      "source": "",
      "execution_count": 21,
      "outputs": []
    },
    {
      "cell_type": "markdown",
      "source": "**46**. Select the labels `1`, `3` and `6` from the second level of the MultiIndexed Series.",
      "metadata": {
        "cell_id": "00099-b9a5c084-18a3-4ac2-a7ec-dccb10fe9cd1",
        "deepnote_cell_type": "markdown"
      }
    },
    {
      "cell_type": "code",
      "metadata": {
        "collapsed": true,
        "cell_id": "00100-9c771d89-28c0-4499-9cea-3ce0e8164c6d",
        "deepnote_to_be_reexecuted": false,
        "source_hash": "b623e53d",
        "execution_millis": 1,
        "execution_start": 1616511740954,
        "deepnote_cell_type": "code"
      },
      "source": "",
      "execution_count": 21,
      "outputs": []
    },
    {
      "cell_type": "markdown",
      "source": "**47**. Slice the Series `s`; slice up to label 'B' for the first level and from label 5 onwards for the second level.",
      "metadata": {
        "cell_id": "00101-e5b287fc-22e6-4820-8ad8-25823774f820",
        "deepnote_cell_type": "markdown"
      }
    },
    {
      "cell_type": "code",
      "metadata": {
        "collapsed": true,
        "cell_id": "00102-f85e9a90-21f6-4ab8-bef9-0b3c37ab4c73",
        "deepnote_to_be_reexecuted": false,
        "source_hash": "b623e53d",
        "execution_millis": 0,
        "execution_start": 1616511740955,
        "deepnote_cell_type": "code"
      },
      "source": "",
      "execution_count": 21,
      "outputs": []
    },
    {
      "cell_type": "markdown",
      "source": "**48**. Sum the values in `s` for each label in the first level (you should have Series giving you a total for labels A, B and C).",
      "metadata": {
        "cell_id": "00103-e499f8f1-2815-486d-a138-8c08b748aca2",
        "deepnote_cell_type": "markdown"
      }
    },
    {
      "cell_type": "code",
      "metadata": {
        "collapsed": true,
        "cell_id": "00104-3b07a837-4c34-46d1-bad5-1695dcea244c",
        "deepnote_to_be_reexecuted": false,
        "source_hash": "b623e53d",
        "execution_millis": 0,
        "execution_start": 1616511740969,
        "deepnote_cell_type": "code"
      },
      "source": "",
      "execution_count": 21,
      "outputs": []
    },
    {
      "cell_type": "markdown",
      "source": "**49**. Suppose that `sum()` (and other methods) did not accept a `level` keyword argument. How else could you perform the equivalent of `s.sum(level=1)`?",
      "metadata": {
        "cell_id": "00105-6f075853-2d0c-4c13-9179-ac2a55dd69ad",
        "deepnote_cell_type": "markdown"
      }
    },
    {
      "cell_type": "code",
      "metadata": {
        "collapsed": true,
        "cell_id": "00106-25677380-ba16-4df5-88cb-7a18a5bc48b0",
        "deepnote_to_be_reexecuted": false,
        "source_hash": "b623e53d",
        "execution_millis": 3,
        "execution_start": 1616511740970,
        "deepnote_cell_type": "code"
      },
      "source": "",
      "execution_count": 21,
      "outputs": []
    },
    {
      "cell_type": "markdown",
      "source": "**50**. Exchange the levels of the MultiIndex so we have an index of the form (letters, numbers). Is this new Series properly lexsorted? If not, sort it.",
      "metadata": {
        "cell_id": "00107-a65706f7-8aaf-4d1e-8383-82f65941f282",
        "deepnote_cell_type": "markdown"
      }
    },
    {
      "cell_type": "markdown",
      "source": "## Minesweeper\n\n### Generate the numbers for safe squares in a Minesweeper grid\n\nDifficulty: *medium* to *hard*\n\nIf you've ever used an older version of Windows, there's a good chance you've played with [Minesweeper](https://en.wikipedia.org/wiki/Minesweeper_(video_game). If you're not familiar with the game, imagine a grid of squares: some of these squares conceal a mine. If you click on a mine, you lose instantly. If you click on a safe square, you reveal a number telling you how many mines are found in the squares that are immediately adjacent. The aim of the game is to uncover all squares in the grid that do not contain a mine.\n\nIn this section, we'll make a DataFrame that contains the necessary data for a game of Minesweeper: coordinates of the squares, whether the square contains a mine and the number of mines found on adjacent squares.",
      "metadata": {
        "cell_id": "00108-05b2a727-5d28-4154-b72b-bd7f91453993",
        "deepnote_cell_type": "markdown"
      }
    },
    {
      "cell_type": "markdown",
      "source": "**51**. Let's suppose we're playing Minesweeper on a 5 by 4 grid, i.e.\n```\nX = 5\nY = 4\n```\nTo begin, generate a DataFrame `df` with two columns, `'x'` and `'y'` containing every coordinate for this grid. That is, the DataFrame should start:\n```\n   x  y\n0  0  0\n1  0  1\n2  0  2\n```",
      "metadata": {
        "cell_id": "00109-e11bc637-21f2-45e0-ad10-09d35320bc4e",
        "deepnote_cell_type": "markdown"
      }
    },
    {
      "cell_type": "code",
      "metadata": {
        "collapsed": true,
        "cell_id": "00110-2dd47c4d-6811-4be3-814b-1d365580be20",
        "deepnote_to_be_reexecuted": false,
        "source_hash": "b623e53d",
        "execution_millis": 2,
        "execution_start": 1616511740970,
        "deepnote_cell_type": "code"
      },
      "source": "",
      "execution_count": 21,
      "outputs": []
    },
    {
      "cell_type": "markdown",
      "source": "**52**. For this DataFrame `df`, create a new column of zeros (safe) and ones (mine). The probability of a mine occuring at each location should be 0.4.",
      "metadata": {
        "cell_id": "00111-3fc8ac05-3aec-4f54-a676-607033c1cea4",
        "deepnote_cell_type": "markdown"
      }
    },
    {
      "cell_type": "code",
      "metadata": {
        "collapsed": true,
        "cell_id": "00112-3b0f40b2-91d2-499d-b36c-4c0b342d6636",
        "deepnote_to_be_reexecuted": false,
        "source_hash": "b623e53d",
        "execution_millis": 1,
        "execution_start": 1616511740987,
        "deepnote_cell_type": "code"
      },
      "source": "",
      "execution_count": 21,
      "outputs": []
    },
    {
      "cell_type": "markdown",
      "source": "**53**. Now create a new column for this DataFrame called `'adjacent'`. This column should contain the number of mines found on adjacent squares in the grid. \n\n(E.g. for the first row, which is the entry for the coordinate `(0, 0)`, count how many mines are found on the coordinates `(0, 1)`, `(1, 0)` and `(1, 1)`.)",
      "metadata": {
        "cell_id": "00113-dcb5a305-4c39-4f1e-89d4-1f48bc418926",
        "deepnote_cell_type": "markdown"
      }
    },
    {
      "cell_type": "code",
      "metadata": {
        "collapsed": true,
        "cell_id": "00114-5d82b478-2245-4cc4-95f7-63279a260311",
        "deepnote_to_be_reexecuted": false,
        "source_hash": "b623e53d",
        "execution_millis": 1,
        "execution_start": 1616511740988,
        "deepnote_cell_type": "code"
      },
      "source": "",
      "execution_count": 21,
      "outputs": []
    },
    {
      "cell_type": "markdown",
      "source": "**54**. For rows of the DataFrame that contain a mine, set the value in the `'adjacent'` column to NaN.",
      "metadata": {
        "cell_id": "00115-6f54b23d-ae03-48d6-81cd-c053f0d6b90c",
        "deepnote_cell_type": "markdown"
      }
    },
    {
      "cell_type": "code",
      "metadata": {
        "collapsed": true,
        "cell_id": "00116-22b5ae0b-030c-4f93-8e64-2bfeeae515f2",
        "deepnote_to_be_reexecuted": false,
        "source_hash": "b623e53d",
        "execution_millis": 0,
        "execution_start": 1616511740989,
        "deepnote_cell_type": "code"
      },
      "source": "",
      "execution_count": 21,
      "outputs": []
    },
    {
      "cell_type": "markdown",
      "source": "**55**. Finally, convert the DataFrame to grid of the adjacent mine counts: columns are the `x` coordinate, rows are the `y` coordinate.",
      "metadata": {
        "cell_id": "00117-bce98f27-f2f6-4c36-85f6-6e773d4b6f2b",
        "deepnote_cell_type": "markdown"
      }
    },
    {
      "cell_type": "code",
      "metadata": {
        "collapsed": true,
        "cell_id": "00118-6bc791c2-51bd-4355-a559-eab0cb2f3074",
        "deepnote_to_be_reexecuted": false,
        "source_hash": "b623e53d",
        "execution_millis": 0,
        "execution_start": 1616511740990,
        "deepnote_cell_type": "code"
      },
      "source": "",
      "execution_count": 21,
      "outputs": []
    },
    {
      "cell_type": "markdown",
      "source": "## Plotting\n\n### Visualize trends and patterns in data\n\nDifficulty: *medium*\n\nTo really get a good understanding of the data contained in your DataFrame, it is often essential to create plots: if you're lucky, trends and anomalies will jump right out at you. This functionality is baked into pandas and the puzzles below explore some of what's possible with the library.\n\n**56.** Pandas is highly integrated with the plotting library matplotlib, and makes plotting DataFrames very user-friendly! Plotting in a notebook environment usually makes use of the following boilerplate:\n\n```python\nimport matplotlib.pyplot as plt\n%matplotlib inline\nplt.style.use('ggplot')\n```\n\nmatplotlib is the plotting library which pandas' plotting functionality is built upon, and it is usually aliased to ```plt```.\n\n```%matplotlib inline``` tells the notebook to show plots inline, instead of creating them in a separate window.  \n\n```plt.style.use('ggplot')``` is a style theme that most people find agreeable, based upon the styling of R's ggplot package.\n\nFor starters, make a scatter plot of this random data, but use black X's instead of the default markers. \n\n```df = pd.DataFrame({\"xs\":[1,5,2,8,1], \"ys\":[4,2,1,9,6]})```\n\nConsult the [documentation](https://pandas.pydata.org/pandas-docs/stable/generated/pandas.DataFrame.plot.html) if you get stuck!",
      "metadata": {
        "cell_id": "00119-9531e7ce-b5bd-4069-82f0-5a4724088b14",
        "deepnote_cell_type": "markdown"
      }
    },
    {
      "cell_type": "code",
      "metadata": {
        "collapsed": true,
        "cell_id": "00120-e379b597-6e73-4e3c-9c1a-5b63a7100dd2",
        "deepnote_to_be_reexecuted": false,
        "source_hash": "b623e53d",
        "execution_millis": 2,
        "execution_start": 1616511741002,
        "deepnote_cell_type": "code"
      },
      "source": "",
      "execution_count": 21,
      "outputs": []
    },
    {
      "cell_type": "markdown",
      "source": "**57.** Columns in your DataFrame can also be used to modify colors and sizes.  Bill has been keeping track of his performance at work over time, as well as how good he was feeling that day, and whether he had a cup of coffee in the morning.  Make a plot which incorporates all four features of this DataFrame.\n\n(Hint:  If you're having trouble seeing the plot, try multiplying the Series which you choose to represent size by 10 or more)\n\n*The chart doesn't have to be pretty: this isn't a course in data viz!*\n\n```\ndf = pd.DataFrame({\"productivity\":[5,2,3,1,4,5,6,7,8,3,4,8,9],\n                   \"hours_in\"    :[1,9,6,5,3,9,2,9,1,7,4,2,2],\n                   \"happiness\"   :[2,1,3,2,3,1,2,3,1,2,2,1,3],\n                   \"caffienated\" :[0,0,1,1,0,0,0,0,1,1,0,1,0]})\n```",
      "metadata": {
        "cell_id": "00121-ddb7a471-ecb5-4240-98f9-b07b943dc221",
        "deepnote_cell_type": "markdown"
      }
    },
    {
      "cell_type": "code",
      "metadata": {
        "collapsed": true,
        "cell_id": "00122-bc4dfabf-124e-461f-b3dd-9c2dce6ea1b8",
        "deepnote_to_be_reexecuted": false,
        "source_hash": "b623e53d",
        "execution_millis": 6,
        "execution_start": 1616511741002,
        "deepnote_cell_type": "code"
      },
      "source": "",
      "execution_count": 21,
      "outputs": []
    },
    {
      "cell_type": "markdown",
      "source": "**58.**  What if we want to plot multiple things?  Pandas allows you to pass in a matplotlib *Axis* object for plots, and plots will also return an Axis object.\n\nMake a bar plot of monthly revenue with a line plot of monthly advertising spending (numbers in millions)\n\n```\ndf = pd.DataFrame({\"revenue\":[57,68,63,71,72,90,80,62,59,51,47,52],\n                   \"advertising\":[2.1,1.9,2.7,3.0,3.6,3.2,2.7,2.4,1.8,1.6,1.3,1.9],\n                   \"month\":range(12)\n                  })\n```",
      "metadata": {
        "cell_id": "00123-5be91eb7-4a0c-4670-b28a-0889e5aa9110",
        "deepnote_cell_type": "markdown"
      }
    },
    {
      "cell_type": "code",
      "metadata": {
        "collapsed": true,
        "cell_id": "00124-0d3a9101-b506-436d-9a61-b49ad13763a1",
        "deepnote_to_be_reexecuted": false,
        "source_hash": "b623e53d",
        "execution_millis": 2,
        "execution_start": 1616511741003,
        "deepnote_cell_type": "code"
      },
      "source": "",
      "execution_count": 21,
      "outputs": []
    },
    {
      "cell_type": "markdown",
      "source": "Now we're finally ready to create a candlestick chart, which is a very common tool used to analyze stock price data.  A candlestick chart shows the opening, closing, highest, and lowest price for a stock during a time window.  The color of the \"candle\" (the thick part of the bar) is green if the stock closed above its opening price, or red if below.\n\n![Candlestick Example](img/candle.jpg)\n\nThis was initially designed to be a pandas plotting challenge, but it just so happens that this type of plot is just not feasible using pandas' methods.  If you are unfamiliar with matplotlib, we have provided a function that will plot the chart for you so long as you can use pandas to get the data into the correct format.\n\nYour first step should be to get the data in the correct format using pandas' time-series grouping function.  We would like each candle to represent an hour's worth of data.  You can write your own aggregation function which returns the open/high/low/close, but pandas has a built-in which also does this.",
      "metadata": {
        "cell_id": "00125-8bc0e7c2-f492-4e95-8a03-4060874891be",
        "deepnote_cell_type": "markdown"
      }
    },
    {
      "cell_type": "markdown",
      "source": "The below cell contains helper functions.  Call ```day_stock_data()``` to generate a DataFrame containing the prices a hypothetical stock sold for, and the time the sale occurred.  Call ```plot_candlestick(df)``` on your properly aggregated and formatted stock data to print the candlestick chart.",
      "metadata": {
        "cell_id": "00126-a284deb7-8757-4f58-a8b6-e5ac512af26e",
        "deepnote_cell_type": "markdown"
      }
    },
    {
      "cell_type": "code",
      "metadata": {
        "collapsed": true,
        "cell_id": "00127-7c5bf734-73ab-491c-a167-8f6530d30112",
        "deepnote_to_be_reexecuted": false,
        "source_hash": "13e5618d",
        "execution_millis": 9,
        "execution_start": 1616511741003,
        "deepnote_cell_type": "code"
      },
      "source": "import numpy as np\ndef float_to_time(x):\n    return str(int(x)) + \":\" + str(int(x%1 * 60)).zfill(2) + \":\" + str(int(x*60 % 1 * 60)).zfill(2)\n\ndef day_stock_data():\n    #NYSE is open from 9:30 to 4:00\n    time = 9.5\n    price = 100\n    results = [(float_to_time(time), price)]\n    while time < 16:\n        elapsed = np.random.exponential(.001)\n        time += elapsed\n        if time > 16:\n            break\n        price_diff = np.random.uniform(.999, 1.001)\n        price *= price_diff\n        results.append((float_to_time(time), price))\n    \n    \n    df = pd.DataFrame(results, columns = ['time','price'])\n    df.time = pd.to_datetime(df.time)\n    return df\n\n#Don't read me unless you get stuck!\ndef plot_candlestick(agg):\n    \"\"\"\n    agg is a DataFrame which has a DatetimeIndex and five columns: [\"open\",\"high\",\"low\",\"close\",\"color\"]\n    \"\"\"\n    fig, ax = plt.subplots()\n    for time in agg.index:\n        ax.plot([time.hour] * 2, agg.loc[time, [\"high\",\"low\"]].values, color = \"black\")\n        ax.plot([time.hour] * 2, agg.loc[time, [\"open\",\"close\"]].values, color = agg.loc[time, \"color\"], linewidth = 10)\n\n    ax.set_xlim((8,16))\n    ax.set_ylabel(\"Price\")\n    ax.set_xlabel(\"Hour\")\n    ax.set_title(\"OHLC of Stock Value During Trading Day\")\n    plt.show()",
      "execution_count": 22,
      "outputs": []
    },
    {
      "cell_type": "markdown",
      "source": "**59.** Generate a day's worth of random stock data, and aggregate / reformat it so that it has hourly summaries of the opening, highest, lowest, and closing prices",
      "metadata": {
        "cell_id": "00128-2eafdf49-6c33-4802-8d5a-96a765dd2ea9",
        "deepnote_cell_type": "markdown"
      }
    },
    {
      "cell_type": "code",
      "metadata": {
        "collapsed": true,
        "cell_id": "00129-6ab4a401-1453-4547-9cd0-f96f6b86e397",
        "deepnote_to_be_reexecuted": false,
        "source_hash": "b623e53d",
        "execution_millis": 3,
        "execution_start": 1616511741043,
        "deepnote_cell_type": "code"
      },
      "source": "",
      "execution_count": 22,
      "outputs": []
    },
    {
      "cell_type": "markdown",
      "source": "**60.** Now that you have your properly-formatted data, try to plot it yourself as a candlestick chart.  Use the ```plot_candlestick(df)``` function above, or matplotlib's [```plot``` documentation](https://matplotlib.org/api/_as_gen/matplotlib.axes.Axes.plot.html) if you get stuck.",
      "metadata": {
        "cell_id": "00130-b6b91d06-4fed-4442-9ead-43226fda6d0b",
        "deepnote_cell_type": "markdown"
      }
    },
    {
      "cell_type": "code",
      "metadata": {
        "collapsed": true,
        "cell_id": "00131-f367137f-6032-456f-a254-0b3c3e042cef",
        "deepnote_to_be_reexecuted": false,
        "source_hash": "b623e53d",
        "execution_millis": 3,
        "execution_start": 1616511741044,
        "deepnote_cell_type": "code"
      },
      "source": "",
      "execution_count": 22,
      "outputs": []
    },
    {
      "cell_type": "markdown",
      "source": "*More exercises to follow soon...*",
      "metadata": {
        "cell_id": "00132-1b55d2f0-b625-445d-9dba-10ab1de9e772",
        "deepnote_cell_type": "markdown"
      }
    },
    {
      "cell_type": "markdown",
      "source": "<a style='text-decoration:none;line-height:16px;display:flex;color:#5B5B62;padding:10px;justify-content:end;' href='https://deepnote.com?utm_source=created-in-deepnote-cell&projectId=c4f57e90-95e5-455b-8072-daeee03d1869' target=\"_blank\">\n<img style='display:inline;max-height:16px;margin:0px;margin-right:7.5px;' src='data:image/svg+xml;base64,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' > </img>\nCreated in <span style='font-weight:600;margin-left:4px;'>Deepnote</span></a>",
      "metadata": {
        "tags": [],
        "created_in_deepnote_cell": true,
        "deepnote_cell_type": "markdown"
      }
    }
  ],
  "nbformat": 4,
  "nbformat_minor": 1,
  "metadata": {
    "kernelspec": {
      "display_name": "Python 3",
      "language": "python",
      "name": "python3"
    },
    "language_info": {
      "codemirror_mode": {
        "name": "ipython",
        "version": 3
      },
      "file_extension": ".py",
      "mimetype": "text/x-python",
      "name": "python",
      "nbconvert_exporter": "python",
      "pygments_lexer": "ipython3",
      "version": "3.9.1"
    },
    "deepnote_notebook_id": "3cf65821-2617-43f2-b81a-14092808ebfd",
    "deepnote": {
      "is_reactive": false
    },
    "deepnote_execution_queue": []
  }
}