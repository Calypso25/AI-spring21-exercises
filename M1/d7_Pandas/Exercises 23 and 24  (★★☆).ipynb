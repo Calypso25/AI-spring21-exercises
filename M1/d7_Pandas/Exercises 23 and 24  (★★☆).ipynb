{
  "cells": [
    {
      "cell_type": "code",
      "metadata": {
        "cell_id": "00000-97e7103e-5e6b-415b-9989-b5a7612e129c",
        "deepnote_to_be_reexecuted": false,
        "source_hash": "f7b98f51",
        "execution_start": 1616513694587,
        "execution_millis": 0,
        "deepnote_cell_type": "code"
      },
      "source": "# import the needed libraries and datasets\nimport pandas as pd\nimport numpy as np\n\n",
      "execution_count": 2,
      "outputs": []
    },
    {
      "cell_type": "markdown",
      "source": "**23.** Given a DataFrame of numeric values, say\n```python\ndf = pd.DataFrame(np.random.random(size=(5, 3))) # a 5x3 frame of float values\n```\n\nhow do you subtract the row mean from each element in the row?",
      "metadata": {
        "cell_id": "00001-fb6a1ee6-c21c-4fc4-b818-d4150ab74af2",
        "deepnote_cell_type": "markdown"
      }
    },
    {
      "cell_type": "code",
      "metadata": {
        "cell_id": "00002-a0aeb185-d135-4d7b-96c4-145cf5426239",
        "deepnote_to_be_reexecuted": false,
        "source_hash": "e2ace148",
        "execution_millis": 64,
        "execution_start": 1616513698322,
        "deepnote_cell_type": "code"
      },
      "source": "#define dataframe\ndf = pd.DataFrame(np.random.random(size=(5, 10)), columns=list('abcdefghij'))\n\n#solution\ndf.sub(df.mean(axis=1), axis=0)",
      "execution_count": 3,
      "outputs": [
        {
          "output_type": "execute_result",
          "execution_count": 3,
          "data": {
            "application/vnd.deepnote.dataframe.v2+json": {
              "row_count": 5,
              "column_count": 10,
              "columns": [
                {
                  "name": "a",
                  "dtype": "float64",
                  "stats": {
                    "unique_count": 5,
                    "nan_count": 0,
                    "min": -0.1650430881571513,
                    "max": 0.23365849333499378,
                    "histogram": [
                      {
                        "bin_start": -0.1650430881571513,
                        "bin_end": -0.12517293000793678,
                        "count": 1
                      },
                      {
                        "bin_start": -0.12517293000793678,
                        "bin_end": -0.08530277185872229,
                        "count": 0
                      },
                      {
                        "bin_start": -0.08530277185872229,
                        "bin_end": -0.04543261370950778,
                        "count": 0
                      },
                      {
                        "bin_start": -0.04543261370950778,
                        "bin_end": -0.005562455560293278,
                        "count": 0
                      },
                      {
                        "bin_start": -0.005562455560293278,
                        "bin_end": 0.03430770258892124,
                        "count": 0
                      },
                      {
                        "bin_start": 0.03430770258892124,
                        "bin_end": 0.07417786073813573,
                        "count": 1
                      },
                      {
                        "bin_start": 0.07417786073813573,
                        "bin_end": 0.11404801888735022,
                        "count": 0
                      },
                      {
                        "bin_start": 0.11404801888735022,
                        "bin_end": 0.15391817703656474,
                        "count": 0
                      },
                      {
                        "bin_start": 0.15391817703656474,
                        "bin_end": 0.19378833518577926,
                        "count": 2
                      },
                      {
                        "bin_start": 0.19378833518577926,
                        "bin_end": 0.23365849333499378,
                        "count": 1
                      }
                    ]
                  }
                },
                {
                  "name": "b",
                  "dtype": "float64",
                  "stats": {
                    "unique_count": 5,
                    "nan_count": 0,
                    "min": -0.4108633123811932,
                    "max": 0.2700700144829228,
                    "histogram": [
                      {
                        "bin_start": -0.4108633123811932,
                        "bin_end": -0.3427699796947816,
                        "count": 1
                      },
                      {
                        "bin_start": -0.3427699796947816,
                        "bin_end": -0.27467664700837,
                        "count": 0
                      },
                      {
                        "bin_start": -0.27467664700837,
                        "bin_end": -0.20658331432195842,
                        "count": 0
                      },
                      {
                        "bin_start": -0.20658331432195842,
                        "bin_end": -0.13848998163554682,
                        "count": 0
                      },
                      {
                        "bin_start": -0.13848998163554682,
                        "bin_end": -0.07039664894913522,
                        "count": 1
                      },
                      {
                        "bin_start": -0.07039664894913522,
                        "bin_end": -0.0023033162627236203,
                        "count": 0
                      },
                      {
                        "bin_start": -0.0023033162627236203,
                        "bin_end": 0.06579001642368798,
                        "count": 0
                      },
                      {
                        "bin_start": 0.06579001642368798,
                        "bin_end": 0.13388334911009958,
                        "count": 1
                      },
                      {
                        "bin_start": 0.13388334911009958,
                        "bin_end": 0.20197668179651118,
                        "count": 1
                      },
                      {
                        "bin_start": 0.20197668179651118,
                        "bin_end": 0.2700700144829228,
                        "count": 1
                      }
                    ]
                  }
                },
                {
                  "name": "c",
                  "dtype": "float64",
                  "stats": {
                    "unique_count": 5,
                    "nan_count": 0,
                    "min": 0.05205895709625308,
                    "max": 0.4066162347410527,
                    "histogram": [
                      {
                        "bin_start": 0.05205895709625308,
                        "bin_end": 0.08751468486073304,
                        "count": 1
                      },
                      {
                        "bin_start": 0.08751468486073304,
                        "bin_end": 0.122970412625213,
                        "count": 0
                      },
                      {
                        "bin_start": 0.122970412625213,
                        "bin_end": 0.15842614038969294,
                        "count": 0
                      },
                      {
                        "bin_start": 0.15842614038969294,
                        "bin_end": 0.1938818681541729,
                        "count": 0
                      },
                      {
                        "bin_start": 0.1938818681541729,
                        "bin_end": 0.22933759591865288,
                        "count": 0
                      },
                      {
                        "bin_start": 0.22933759591865288,
                        "bin_end": 0.2647933236831328,
                        "count": 0
                      },
                      {
                        "bin_start": 0.2647933236831328,
                        "bin_end": 0.30024905144761277,
                        "count": 2
                      },
                      {
                        "bin_start": 0.30024905144761277,
                        "bin_end": 0.33570477921209274,
                        "count": 0
                      },
                      {
                        "bin_start": 0.33570477921209274,
                        "bin_end": 0.3711605069765727,
                        "count": 0
                      },
                      {
                        "bin_start": 0.3711605069765727,
                        "bin_end": 0.4066162347410527,
                        "count": 2
                      }
                    ]
                  }
                },
                {
                  "name": "d",
                  "dtype": "float64",
                  "stats": {
                    "unique_count": 5,
                    "nan_count": 0,
                    "min": -0.3621864353595333,
                    "max": 0.24197486031096582,
                    "histogram": [
                      {
                        "bin_start": -0.3621864353595333,
                        "bin_end": -0.30177030579248343,
                        "count": 1
                      },
                      {
                        "bin_start": -0.30177030579248343,
                        "bin_end": -0.24135417622543348,
                        "count": 0
                      },
                      {
                        "bin_start": -0.24135417622543348,
                        "bin_end": -0.1809380466583836,
                        "count": 0
                      },
                      {
                        "bin_start": -0.1809380466583836,
                        "bin_end": -0.12052191709133367,
                        "count": 1
                      },
                      {
                        "bin_start": -0.12052191709133367,
                        "bin_end": -0.06010578752428375,
                        "count": 1
                      },
                      {
                        "bin_start": -0.06010578752428375,
                        "bin_end": 0.00031034204276614297,
                        "count": 0
                      },
                      {
                        "bin_start": 0.00031034204276614297,
                        "bin_end": 0.06072647160981609,
                        "count": 0
                      },
                      {
                        "bin_start": 0.06072647160981609,
                        "bin_end": 0.12114260117686598,
                        "count": 1
                      },
                      {
                        "bin_start": 0.12114260117686598,
                        "bin_end": 0.18155873074391593,
                        "count": 0
                      },
                      {
                        "bin_start": 0.18155873074391593,
                        "bin_end": 0.24197486031096582,
                        "count": 1
                      }
                    ]
                  }
                },
                {
                  "name": "e",
                  "dtype": "float64",
                  "stats": {
                    "unique_count": 5,
                    "nan_count": 0,
                    "min": -0.49075750961037956,
                    "max": 0.2554901775571786,
                    "histogram": [
                      {
                        "bin_start": -0.49075750961037956,
                        "bin_end": -0.41613274089362373,
                        "count": 1
                      },
                      {
                        "bin_start": -0.41613274089362373,
                        "bin_end": -0.3415079721768679,
                        "count": 0
                      },
                      {
                        "bin_start": -0.3415079721768679,
                        "bin_end": -0.26688320346011213,
                        "count": 0
                      },
                      {
                        "bin_start": -0.26688320346011213,
                        "bin_end": -0.1922584347433563,
                        "count": 0
                      },
                      {
                        "bin_start": -0.1922584347433563,
                        "bin_end": -0.11763366602660047,
                        "count": 0
                      },
                      {
                        "bin_start": -0.11763366602660047,
                        "bin_end": -0.043008897309844696,
                        "count": 2
                      },
                      {
                        "bin_start": -0.043008897309844696,
                        "bin_end": 0.031615871406911134,
                        "count": 0
                      },
                      {
                        "bin_start": 0.031615871406911134,
                        "bin_end": 0.10624064012366696,
                        "count": 1
                      },
                      {
                        "bin_start": 0.10624064012366696,
                        "bin_end": 0.1808654088404228,
                        "count": 0
                      },
                      {
                        "bin_start": 0.1808654088404228,
                        "bin_end": 0.2554901775571786,
                        "count": 1
                      }
                    ]
                  }
                },
                {
                  "name": "f",
                  "dtype": "float64",
                  "stats": {
                    "unique_count": 5,
                    "nan_count": 0,
                    "min": -0.15167534188748605,
                    "max": 0.33318295350770755,
                    "histogram": [
                      {
                        "bin_start": -0.15167534188748605,
                        "bin_end": -0.1031895123479667,
                        "count": 1
                      },
                      {
                        "bin_start": -0.1031895123479667,
                        "bin_end": -0.054703682808447326,
                        "count": 0
                      },
                      {
                        "bin_start": -0.054703682808447326,
                        "bin_end": -0.006217853268927959,
                        "count": 1
                      },
                      {
                        "bin_start": -0.006217853268927959,
                        "bin_end": 0.042267976270591395,
                        "count": 1
                      },
                      {
                        "bin_start": 0.042267976270591395,
                        "bin_end": 0.09075380581011075,
                        "count": 1
                      },
                      {
                        "bin_start": 0.09075380581011075,
                        "bin_end": 0.13923963534963013,
                        "count": 0
                      },
                      {
                        "bin_start": 0.13923963534963013,
                        "bin_end": 0.18772546488914948,
                        "count": 0
                      },
                      {
                        "bin_start": 0.18772546488914948,
                        "bin_end": 0.23621129442866884,
                        "count": 0
                      },
                      {
                        "bin_start": 0.23621129442866884,
                        "bin_end": 0.2846971239681882,
                        "count": 0
                      },
                      {
                        "bin_start": 0.2846971239681882,
                        "bin_end": 0.33318295350770755,
                        "count": 1
                      }
                    ]
                  }
                },
                {
                  "name": "g",
                  "dtype": "float64",
                  "stats": {
                    "unique_count": 5,
                    "nan_count": 0,
                    "min": -0.3880118141475047,
                    "max": 0.311084043587296,
                    "histogram": [
                      {
                        "bin_start": -0.3880118141475047,
                        "bin_end": -0.3181022283740246,
                        "count": 1
                      },
                      {
                        "bin_start": -0.3181022283740246,
                        "bin_end": -0.24819264260054452,
                        "count": 0
                      },
                      {
                        "bin_start": -0.24819264260054452,
                        "bin_end": -0.17828305682706444,
                        "count": 0
                      },
                      {
                        "bin_start": -0.17828305682706444,
                        "bin_end": -0.10837347105358436,
                        "count": 0
                      },
                      {
                        "bin_start": -0.10837347105358436,
                        "bin_end": -0.038463885280104304,
                        "count": 1
                      },
                      {
                        "bin_start": -0.038463885280104304,
                        "bin_end": 0.031445700493375806,
                        "count": 1
                      },
                      {
                        "bin_start": 0.031445700493375806,
                        "bin_end": 0.10135528626685592,
                        "count": 0
                      },
                      {
                        "bin_start": 0.10135528626685592,
                        "bin_end": 0.17126487204033597,
                        "count": 1
                      },
                      {
                        "bin_start": 0.17126487204033597,
                        "bin_end": 0.24117445781381602,
                        "count": 0
                      },
                      {
                        "bin_start": 0.24117445781381602,
                        "bin_end": 0.311084043587296,
                        "count": 1
                      }
                    ]
                  }
                },
                {
                  "name": "h",
                  "dtype": "float64",
                  "stats": {
                    "unique_count": 5,
                    "nan_count": 0,
                    "min": -0.3974799314645331,
                    "max": 0.4893523495358298,
                    "histogram": [
                      {
                        "bin_start": -0.3974799314645331,
                        "bin_end": -0.3087967033644968,
                        "count": 1
                      },
                      {
                        "bin_start": -0.3087967033644968,
                        "bin_end": -0.2201134752644605,
                        "count": 0
                      },
                      {
                        "bin_start": -0.2201134752644605,
                        "bin_end": -0.1314302471644242,
                        "count": 1
                      },
                      {
                        "bin_start": -0.1314302471644242,
                        "bin_end": -0.04274701906438794,
                        "count": 0
                      },
                      {
                        "bin_start": -0.04274701906438794,
                        "bin_end": 0.04593620903564832,
                        "count": 1
                      },
                      {
                        "bin_start": 0.04593620903564832,
                        "bin_end": 0.1346194371356847,
                        "count": 1
                      },
                      {
                        "bin_start": 0.1346194371356847,
                        "bin_end": 0.22330266523572095,
                        "count": 0
                      },
                      {
                        "bin_start": 0.22330266523572095,
                        "bin_end": 0.3119858933357572,
                        "count": 0
                      },
                      {
                        "bin_start": 0.3119858933357572,
                        "bin_end": 0.4006691214357935,
                        "count": 0
                      },
                      {
                        "bin_start": 0.4006691214357935,
                        "bin_end": 0.4893523495358298,
                        "count": 1
                      }
                    ]
                  }
                },
                {
                  "name": "i",
                  "dtype": "float64",
                  "stats": {
                    "unique_count": 5,
                    "nan_count": 0,
                    "min": -0.5962213040884052,
                    "max": 0.37830974120857364,
                    "histogram": [
                      {
                        "bin_start": -0.5962213040884052,
                        "bin_end": -0.4987681995587073,
                        "count": 1
                      },
                      {
                        "bin_start": -0.4987681995587073,
                        "bin_end": -0.40131509502900947,
                        "count": 1
                      },
                      {
                        "bin_start": -0.40131509502900947,
                        "bin_end": -0.3038619904993116,
                        "count": 0
                      },
                      {
                        "bin_start": -0.3038619904993116,
                        "bin_end": -0.2064088859696137,
                        "count": 0
                      },
                      {
                        "bin_start": -0.2064088859696137,
                        "bin_end": -0.1089557814399158,
                        "count": 0
                      },
                      {
                        "bin_start": -0.1089557814399158,
                        "bin_end": -0.011502676910218002,
                        "count": 0
                      },
                      {
                        "bin_start": -0.011502676910218002,
                        "bin_end": 0.08595042761947991,
                        "count": 2
                      },
                      {
                        "bin_start": 0.08595042761947991,
                        "bin_end": 0.18340353214917782,
                        "count": 0
                      },
                      {
                        "bin_start": 0.18340353214917782,
                        "bin_end": 0.2808566366788757,
                        "count": 0
                      },
                      {
                        "bin_start": 0.2808566366788757,
                        "bin_end": 0.37830974120857364,
                        "count": 1
                      }
                    ]
                  }
                },
                {
                  "name": "j",
                  "dtype": "float64",
                  "stats": {
                    "unique_count": 5,
                    "nan_count": 0,
                    "min": -0.507017436129541,
                    "max": 0.5030081102104296,
                    "histogram": [
                      {
                        "bin_start": -0.507017436129541,
                        "bin_end": -0.40601488149554393,
                        "count": 1
                      },
                      {
                        "bin_start": -0.40601488149554393,
                        "bin_end": -0.3050123268615469,
                        "count": 2
                      },
                      {
                        "bin_start": -0.3050123268615469,
                        "bin_end": -0.2040097722275498,
                        "count": 0
                      },
                      {
                        "bin_start": -0.2040097722275498,
                        "bin_end": -0.10300721759355275,
                        "count": 1
                      },
                      {
                        "bin_start": -0.10300721759355275,
                        "bin_end": -0.002004662959555703,
                        "count": 0
                      },
                      {
                        "bin_start": -0.002004662959555703,
                        "bin_end": 0.0989978916744414,
                        "count": 0
                      },
                      {
                        "bin_start": 0.0989978916744414,
                        "bin_end": 0.20000044630843838,
                        "count": 0
                      },
                      {
                        "bin_start": 0.20000044630843838,
                        "bin_end": 0.3010030009424355,
                        "count": 0
                      },
                      {
                        "bin_start": 0.3010030009424355,
                        "bin_end": 0.4020055555764326,
                        "count": 0
                      },
                      {
                        "bin_start": 0.4020055555764326,
                        "bin_end": 0.5030081102104296,
                        "count": 1
                      }
                    ]
                  }
                },
                {
                  "name": "_deepnote_index_column",
                  "dtype": "int64"
                }
              ],
              "rows_top": [
                {
                  "a": -0.1650430881571513,
                  "b": 0.12548153458654698,
                  "c": 0.27189216032776997,
                  "d": 0.24197486031096582,
                  "e": -0.49075750961037956,
                  "f": -0.036208956537396086,
                  "g": 0.11997536599577718,
                  "h": -0.04130356621141107,
                  "i": 0.37830974120857364,
                  "j": -0.4043205419132957,
                  "_deepnote_index_column": 0
                },
                {
                  "a": 0.17113470873499648,
                  "b": -0.4108633123811932,
                  "c": 0.26511815115386506,
                  "d": -0.3621864353595333,
                  "e": 0.2554901775571786,
                  "f": 0.05711917210118311,
                  "g": -0.08660322280319266,
                  "h": -0.3974799314645331,
                  "i": 0.00526258225079923,
                  "j": 0.5030081102104296,
                  "_deepnote_index_column": 1
                },
                {
                  "a": 0.047264528069584644,
                  "b": 0.16731692199542197,
                  "c": 0.4037435081055342,
                  "d": -0.17745087005018118,
                  "e": -0.09217920045355893,
                  "f": -0.15167534188748605,
                  "g": -0.3880118141475047,
                  "h": 0.4893523495358298,
                  "i": 0.0387132399568782,
                  "j": -0.33707332112451854,
                  "_deepnote_index_column": 2
                },
                {
                  "a": 0.1930911145348052,
                  "b": 0.2700700144829228,
                  "c": 0.05205895709625308,
                  "d": 0.11141493612458131,
                  "e": -0.04983722636248766,
                  "f": 0.01417260372202489,
                  "g": 0.311084043587296,
                  "h": -0.16005746409728427,
                  "i": -0.5962213040884052,
                  "j": -0.14577567499970645,
                  "_deepnote_index_column": 3
                },
                {
                  "a": 0.23365849333499378,
                  "b": -0.07935378320430297,
                  "c": 0.4066162347410527,
                  "d": -0.10714046977234959,
                  "e": 0.05181944305673647,
                  "f": 0.33318295350770755,
                  "g": -0.014111320611511324,
                  "h": 0.1301670907652116,
                  "i": -0.44782120568799766,
                  "j": -0.507017436129541,
                  "_deepnote_index_column": 4
                }
              ],
              "rows_bottom": null
            },
            "text/plain": "          a         b         c         d         e         f         g  \\\n0 -0.165043  0.125482  0.271892  0.241975 -0.490758 -0.036209  0.119975   \n1  0.171135 -0.410863  0.265118 -0.362186  0.255490  0.057119 -0.086603   \n2  0.047265  0.167317  0.403744 -0.177451 -0.092179 -0.151675 -0.388012   \n3  0.193091  0.270070  0.052059  0.111415 -0.049837  0.014173  0.311084   \n4  0.233658 -0.079354  0.406616 -0.107140  0.051819  0.333183 -0.014111   \n\n          h         i         j  \n0 -0.041304  0.378310 -0.404321  \n1 -0.397480  0.005263  0.503008  \n2  0.489352  0.038713 -0.337073  \n3 -0.160057 -0.596221 -0.145776  \n4  0.130167 -0.447821 -0.507017  ",
            "text/html": "<div>\n<style scoped>\n    .dataframe tbody tr th:only-of-type {\n        vertical-align: middle;\n    }\n\n    .dataframe tbody tr th {\n        vertical-align: top;\n    }\n\n    .dataframe thead th {\n        text-align: right;\n    }\n</style>\n<table border=\"1\" class=\"dataframe\">\n  <thead>\n    <tr style=\"text-align: right;\">\n      <th></th>\n      <th>a</th>\n      <th>b</th>\n      <th>c</th>\n      <th>d</th>\n      <th>e</th>\n      <th>f</th>\n      <th>g</th>\n      <th>h</th>\n      <th>i</th>\n      <th>j</th>\n    </tr>\n  </thead>\n  <tbody>\n    <tr>\n      <th>0</th>\n      <td>-0.165043</td>\n      <td>0.125482</td>\n      <td>0.271892</td>\n      <td>0.241975</td>\n      <td>-0.490758</td>\n      <td>-0.036209</td>\n      <td>0.119975</td>\n      <td>-0.041304</td>\n      <td>0.378310</td>\n      <td>-0.404321</td>\n    </tr>\n    <tr>\n      <th>1</th>\n      <td>0.171135</td>\n      <td>-0.410863</td>\n      <td>0.265118</td>\n      <td>-0.362186</td>\n      <td>0.255490</td>\n      <td>0.057119</td>\n      <td>-0.086603</td>\n      <td>-0.397480</td>\n      <td>0.005263</td>\n      <td>0.503008</td>\n    </tr>\n    <tr>\n      <th>2</th>\n      <td>0.047265</td>\n      <td>0.167317</td>\n      <td>0.403744</td>\n      <td>-0.177451</td>\n      <td>-0.092179</td>\n      <td>-0.151675</td>\n      <td>-0.388012</td>\n      <td>0.489352</td>\n      <td>0.038713</td>\n      <td>-0.337073</td>\n    </tr>\n    <tr>\n      <th>3</th>\n      <td>0.193091</td>\n      <td>0.270070</td>\n      <td>0.052059</td>\n      <td>0.111415</td>\n      <td>-0.049837</td>\n      <td>0.014173</td>\n      <td>0.311084</td>\n      <td>-0.160057</td>\n      <td>-0.596221</td>\n      <td>-0.145776</td>\n    </tr>\n    <tr>\n      <th>4</th>\n      <td>0.233658</td>\n      <td>-0.079354</td>\n      <td>0.406616</td>\n      <td>-0.107140</td>\n      <td>0.051819</td>\n      <td>0.333183</td>\n      <td>-0.014111</td>\n      <td>0.130167</td>\n      <td>-0.447821</td>\n      <td>-0.507017</td>\n    </tr>\n  </tbody>\n</table>\n</div>"
          },
          "metadata": {}
        }
      ]
    },
    {
      "cell_type": "markdown",
      "source": "**24.** Suppose you have DataFrame with 10 columns of real numbers, for example:\n\n```python\ndf = pd.DataFrame(np.random.random(size=(5, 10)), columns=list('abcdefghij'))\n```\nWhich column of numbers has the smallest sum? (Find that column's label.)",
      "metadata": {
        "cell_id": "00003-54e638ad-2ac1-44d2-bbe7-258cfecfd946",
        "deepnote_cell_type": "markdown"
      }
    },
    {
      "cell_type": "code",
      "metadata": {
        "cell_id": "00004-629b1b7b-82fe-4deb-9491-8475b18bbd13",
        "deepnote_to_be_reexecuted": false,
        "source_hash": "96d0d394",
        "execution_start": 1616513737937,
        "execution_millis": 26,
        "deepnote_cell_type": "code"
      },
      "source": "#define dataframe\ndf = pd.DataFrame(np.random.random(size=(5, 10)), columns=list('abcdefghij'))\n\n#solution\ndf.sum().idxmin()",
      "execution_count": 4,
      "outputs": [
        {
          "output_type": "execute_result",
          "execution_count": 4,
          "data": {
            "text/plain": "'g'"
          },
          "metadata": {}
        }
      ]
    },
    {
      "cell_type": "markdown",
      "source": "<a style='text-decoration:none;line-height:16px;display:flex;color:#5B5B62;padding:10px;justify-content:end;' href='https://deepnote.com?utm_source=created-in-deepnote-cell&projectId=98dac385-2c9b-4da5-9630-c1b55aff40b5' target=\"_blank\">\n<img style='display:inline;max-height:16px;margin:0px;margin-right:7.5px;' src='data:image/svg+xml;base64,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' > </img>\nCreated in <span style='font-weight:600;margin-left:4px;'>Deepnote</span></a>",
      "metadata": {
        "tags": [],
        "created_in_deepnote_cell": true,
        "deepnote_cell_type": "markdown"
      }
    }
  ],
  "nbformat": 4,
  "nbformat_minor": 5,
  "metadata": {
    "kernelspec": {
      "display_name": "Python 3",
      "language": "python",
      "name": "python3"
    },
    "language_info": {
      "codemirror_mode": {
        "name": "ipython",
        "version": 3
      },
      "file_extension": ".py",
      "mimetype": "text/x-python",
      "name": "python",
      "nbconvert_exporter": "python",
      "pygments_lexer": "ipython3",
      "version": "3.9.1"
    },
    "deepnote_notebook_id": "bde62ec1-59ad-4726-a504-5cca582cde7e",
    "deepnote": {},
    "deepnote_execution_queue": []
  }
}