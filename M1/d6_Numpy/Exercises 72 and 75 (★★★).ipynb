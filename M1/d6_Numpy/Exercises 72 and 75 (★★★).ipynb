{
  "cells": [
    {
      "cell_type": "code",
      "metadata": {
        "slideshow": {
          "slide_type": "slide"
        },
        "cell_id": "00000-c71c7562-b9d7-468a-810e-d777ddedbc64",
        "deepnote_to_be_reexecuted": false,
        "source_hash": "fbac2bf6",
        "execution_start": 1616422925534,
        "execution_millis": 3,
        "deepnote_cell_type": "code"
      },
      "source": "# Import the needed libraries\nimport numpy as np",
      "execution_count": 2,
      "outputs": []
    },
    {
      "cell_type": "markdown",
      "source": "**72. How to swap two rows of an array?** ",
      "metadata": {
        "cell_id": "00001-c9add5cd-91f8-4295-9659-0202b03bc53e",
        "deepnote_cell_type": "markdown"
      }
    },
    {
      "cell_type": "code",
      "metadata": {
        "cell_id": "00002-39a8f8a2-e905-4c30-9229-75771dc5de35",
        "deepnote_to_be_reexecuted": false,
        "source_hash": "6d2637f8",
        "execution_millis": 9,
        "execution_start": 1616423264942,
        "deepnote_cell_type": "code"
      },
      "source": "arrayToSwap = np.random.randint(0,16,(4,4))\nprint(\"Original array:\\n\",arrayToSwap)\narrayToSwap[[0,1]]=arrayToSwap[[1,0]]\nprint(\"Swaped array:\\n\",arrayToSwap)",
      "execution_count": 8,
      "outputs": [
        {
          "name": "stdout",
          "text": "Original array:\n [[ 4  2  2 12]\n [ 0 13 14 13]\n [ 4  5  1  4]\n [15  0 12  4]]\nSwaped array:\n [[ 0 13 14 13]\n [ 4  2  2 12]\n [ 4  5  1  4]\n [15  0 12  4]]\n",
          "output_type": "stream"
        }
      ]
    },
    {
      "cell_type": "markdown",
      "source": "**75. How to compute averages using a sliding window over an array?**",
      "metadata": {
        "cell_id": "00003-ca646dd3-d9ce-4a14-b1b9-f44429e6d69f",
        "deepnote_cell_type": "markdown"
      }
    },
    {
      "cell_type": "code",
      "metadata": {
        "cell_id": "00004-6cdefb51-90f1-4219-9b73-5754acb1f56e",
        "deepnote_to_be_reexecuted": false,
        "source_hash": "51ed73f5",
        "execution_millis": 12,
        "execution_start": 1616425959099,
        "deepnote_cell_type": "code"
      },
      "source": "\"\"\"\nThis function will be taking the convolution of the sequence x and a \nsequence of ones of length w. Note that the chosen mode is valid so that \nthe convolution product is only given for points where the sequences overlap completely.\n\"\"\"\ndef sliding_window(x, window_size):\n    return np.convolve(x, np.ones(window_size), 'valid') / window_size\n\n#Creating a test Array\ntestArray = np.array([7,2,3,9,1,5,6,8,0,4])\n\n#Testing for a window of length 2\nresult = sliding_window(testArray, 2)\nprint(\"Sliding window averages is :\",result)",
      "execution_count": 15,
      "outputs": [
        {
          "name": "stdout",
          "text": "Sliding window averages is : [4.5 2.5 6.  5.  3.  5.5 7.  4.  2. ]\n",
          "output_type": "stream"
        }
      ]
    },
    {
      "cell_type": "markdown",
      "source": "<a style='text-decoration:none;line-height:16px;display:flex;color:#5B5B62;padding:10px;justify-content:end;' href='https://deepnote.com?utm_source=created-in-deepnote-cell&projectId=bd98ef8c-5d48-4869-a08c-0388d68e7ac9' target=\"_blank\">\n<img style='display:inline;max-height:16px;margin:0px;margin-right:7.5px;' src='data:image/svg+xml;base64,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' > </img>\nCreated in <span style='font-weight:600;margin-left:4px;'>Deepnote</span></a>",
      "metadata": {
        "tags": [],
        "created_in_deepnote_cell": true,
        "deepnote_cell_type": "markdown"
      }
    }
  ],
  "nbformat": 4,
  "nbformat_minor": 5,
  "metadata": {
    "kernelspec": {
      "display_name": "Python 3",
      "language": "python",
      "name": "python3"
    },
    "language_info": {
      "codemirror_mode": {
        "name": "ipython",
        "version": 3
      },
      "file_extension": ".py",
      "mimetype": "text/x-python",
      "name": "python",
      "nbconvert_exporter": "python",
      "pygments_lexer": "ipython3",
      "version": "3.9.1"
    },
    "deepnote_notebook_id": "305693dc-5850-43f9-b46d-c6d4e5782123",
    "deepnote": {},
    "deepnote_execution_queue": []
  }
}