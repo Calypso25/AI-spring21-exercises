{
  "cells": [
    {
      "cell_type": "markdown",
      "source": "# Matplotlib",
      "metadata": {
        "cell_id": "00000-b050e63d-4573-4058-b0d7-4e1d07fa3be4",
        "deepnote_cell_type": "markdown"
      }
    },
    {
      "cell_type": "markdown",
      "source": "For these exercises, we are using Pandas and Matplotlib to visualize Company Sales Data.\n\nWe will be using the following dataset: https://pynative.com/wp-content/uploads/2019/01/company_sales_data.csv",
      "metadata": {
        "cell_id": "00001-716d39e7-8ae4-4e0c-80ad-f664993c7e52",
        "deepnote_cell_type": "markdown"
      }
    },
    {
      "cell_type": "markdown",
      "source": "### Exercise 1: Read the Total profit of all months and show it using a line plot.\nTotal profit data provided for each month. The enerated line plot must include the following properties:<br>\n- X label name = Month Number\n- Y label name = Total profit\n\nThe line plot graph should look like this:\n![image.png](attachment:image.png)",
      "metadata": {
        "cell_id": "00002-9a7c73a0-bd49-4252-9a6f-c597e780e5d9",
        "deepnote_cell_type": "markdown"
      }
    },
    {
      "cell_type": "code",
      "metadata": {
        "cell_id": "00003-e703de69-2e12-445f-b875-5d64981cc9dd",
        "deepnote_to_be_reexecuted": false,
        "source_hash": "1cd4037d",
        "execution_millis": 2,
        "execution_start": 1616762232433,
        "deepnote_cell_type": "code"
      },
      "source": "import pandas as pd\nimport numpy as np\nimport matplotlib.pyplot as plt\n%matplotlib inline",
      "execution_count": 19,
      "outputs": []
    },
    {
      "cell_type": "code",
      "metadata": {
        "cell_id": "00004-fa9c528a-ff29-4c8b-8a4a-9265879b4db7",
        "deepnote_to_be_reexecuted": false,
        "source_hash": "f5452e0c",
        "execution_millis": 93,
        "execution_start": 1616761698129,
        "deepnote_cell_type": "code"
      },
      "source": "# Write your code here\nurl = 'https://pynative.com/wp-content/uploads/2019/01/company_sales_data.csv'\n\ndata = pd.read_csv(url)\nprint(data)\n",
      "execution_count": 2,
      "outputs": [
        {
          "name": "stdout",
          "text": "    month_number  facecream  facewash  toothpaste  bathingsoap  shampoo  \\\n0              1       2500      1500        5200         9200     1200   \n1              2       2630      1200        5100         6100     2100   \n2              3       2140      1340        4550         9550     3550   \n3              4       3400      1130        5870         8870     1870   \n4              5       3600      1740        4560         7760     1560   \n5              6       2760      1555        4890         7490     1890   \n6              7       2980      1120        4780         8980     1780   \n7              8       3700      1400        5860         9960     2860   \n8              9       3540      1780        6100         8100     2100   \n9             10       1990      1890        8300        10300     2300   \n10            11       2340      2100        7300        13300     2400   \n11            12       2900      1760        7400        14400     1800   \n\n    moisturizer  total_units  total_profit  \n0          1500        21100        211000  \n1          1200        18330        183300  \n2          1340        22470        224700  \n3          1130        22270        222700  \n4          1740        20960        209600  \n5          1555        20140        201400  \n6          1120        29550        295500  \n7          1400        36140        361400  \n8          1780        23400        234000  \n9          1890        26670        266700  \n10         2100        41280        412800  \n11         1760        30020        300200  \n",
          "output_type": "stream"
        }
      ]
    },
    {
      "cell_type": "code",
      "source": "# Exercise 1 solved\n# Write your code here\n\nplt.title('Company profit per Month')\nplt.plot(data['month_number'], data['total_profit'])\nplt.xlabel('Month Number')\nplt.ylabel('Total profit')\nplt.show()",
      "metadata": {
        "tags": [],
        "cell_id": "00005-e7cf0ef9-efe8-4b8b-b4bf-5d7582cfa3ab",
        "deepnote_to_be_reexecuted": false,
        "source_hash": "d3d2302d",
        "execution_millis": 153,
        "execution_start": 1616761698218,
        "deepnote_cell_type": "code"
      },
      "outputs": [
        {
          "data": {
            "text/plain": "<Figure size 432x288 with 1 Axes>",
            "image/png": "[encoded data removed]"
          },
          "metadata": {
            "needs_background": "light"
          },
          "output_type": "display_data"
        }
      ],
      "execution_count": 3
    },
    {
      "cell_type": "markdown",
      "source": "### Exercise 2: Get the Total profit of all months and show a line plot with the following Style properties:\n- Line Style dotted and Line color should be red\n- Show legend at the lower right location.\n- X label name = Month Number\n- Y label name = Sold units number\n- Add a circle marker.\n- Line marker color as read\n- Line width should be 3\n\nThe line plot graph should look like this:\n![image.png](attachment:image.png)",
      "metadata": {
        "cell_id": "00005-7670ccca-741a-4210-afcc-cb4a927d5082",
        "deepnote_cell_type": "markdown"
      }
    },
    {
      "cell_type": "code",
      "source": "",
      "metadata": {
        "tags": [],
        "cell_id": "00007-79c6c42b-0d85-4f67-99a2-f92d5f2ba1f6",
        "deepnote_to_be_reexecuted": false,
        "source_hash": "b623e53d",
        "execution_millis": 6,
        "execution_start": 1616761698357,
        "deepnote_cell_type": "code"
      },
      "outputs": [],
      "execution_count": 3
    },
    {
      "cell_type": "code",
      "metadata": {
        "cell_id": "00006-d92f80bf-0e63-4ab4-a222-150c7c41a54a",
        "deepnote_to_be_reexecuted": false,
        "source_hash": "8b0a6d4d",
        "execution_millis": 160,
        "execution_start": 1616761698404,
        "deepnote_cell_type": "code"
      },
      "source": "# Exercise 2 solved\n# Write your code here\n\nplt.title('Company sales data of last year')\nplt.plot(data['month_number'], data['total_profit'],linestyle='--', linewidth = 3, color = 'r', marker='o', markerfacecolor = 'black', label='Total Profit')\nplt.xlabel('Month Number')\nplt.ylabel('Sold units number')\nplt.legend(loc=\"lower right\")\nplt.show()",
      "execution_count": 4,
      "outputs": [
        {
          "data": {
            "text/plain": "<Figure size 432x288 with 1 Axes>",
            "image/png": "[encoded data removed]"
          },
          "metadata": {
            "needs_background": "light"
          },
          "output_type": "display_data"
        }
      ]
    },
    {
      "cell_type": "markdown",
      "source": "### Exercise 3: Read all product sales data and show it using a multiline plot.\nDisplay the number of units sold per month for each product using multiline plots. (i.e., Separate Plotline for each product).\n\nThe graph should look like this:\n![image.png](attachment:image.png)",
      "metadata": {
        "cell_id": "00007-47c6c100-21d2-449e-adcb-c914c1fefe82",
        "deepnote_cell_type": "markdown"
      }
    },
    {
      "cell_type": "code",
      "metadata": {
        "cell_id": "00008-f6c667ca-8cee-4424-82c6-743c39c0d062",
        "deepnote_to_be_reexecuted": false,
        "source_hash": "41313cfa",
        "execution_millis": 27,
        "execution_start": 1616761698586,
        "deepnote_cell_type": "code"
      },
      "source": "data.head()",
      "execution_count": 5,
      "outputs": [
        {
          "output_type": "execute_result",
          "execution_count": 5,
          "data": {
            "application/vnd.deepnote.dataframe.v2+json": {
              "row_count": 5,
              "column_count": 9,
              "columns": [
                {
                  "name": "month_number",
                  "dtype": "int64",
                  "stats": {
                    "unique_count": 5,
                    "nan_count": 0,
                    "min": 1,
                    "max": 5,
                    "histogram": [
                      {
                        "bin_start": 1,
                        "bin_end": 1.4,
                        "count": 1
                      },
                      {
                        "bin_start": 1.4,
                        "bin_end": 1.8,
                        "count": 0
                      },
                      {
                        "bin_start": 1.8,
                        "bin_end": 2.2,
                        "count": 1
                      },
                      {
                        "bin_start": 2.2,
                        "bin_end": 2.6,
                        "count": 0
                      },
                      {
                        "bin_start": 2.6,
                        "bin_end": 3,
                        "count": 0
                      },
                      {
                        "bin_start": 3,
                        "bin_end": 3.4000000000000004,
                        "count": 1
                      },
                      {
                        "bin_start": 3.4000000000000004,
                        "bin_end": 3.8000000000000003,
                        "count": 0
                      },
                      {
                        "bin_start": 3.8000000000000003,
                        "bin_end": 4.2,
                        "count": 1
                      },
                      {
                        "bin_start": 4.2,
                        "bin_end": 4.6,
                        "count": 0
                      },
                      {
                        "bin_start": 4.6,
                        "bin_end": 5,
                        "count": 1
                      }
                    ]
                  }
                },
                {
                  "name": "facecream",
                  "dtype": "int64",
                  "stats": {
                    "unique_count": 5,
                    "nan_count": 0,
                    "min": 2140,
                    "max": 3600,
                    "histogram": [
                      {
                        "bin_start": 2140,
                        "bin_end": 2286,
                        "count": 1
                      },
                      {
                        "bin_start": 2286,
                        "bin_end": 2432,
                        "count": 0
                      },
                      {
                        "bin_start": 2432,
                        "bin_end": 2578,
                        "count": 1
                      },
                      {
                        "bin_start": 2578,
                        "bin_end": 2724,
                        "count": 1
                      },
                      {
                        "bin_start": 2724,
                        "bin_end": 2870,
                        "count": 0
                      },
                      {
                        "bin_start": 2870,
                        "bin_end": 3016,
                        "count": 0
                      },
                      {
                        "bin_start": 3016,
                        "bin_end": 3162,
                        "count": 0
                      },
                      {
                        "bin_start": 3162,
                        "bin_end": 3308,
                        "count": 0
                      },
                      {
                        "bin_start": 3308,
                        "bin_end": 3454,
                        "count": 1
                      },
                      {
                        "bin_start": 3454,
                        "bin_end": 3600,
                        "count": 1
                      }
                    ]
                  }
                },
                {
                  "name": "facewash",
                  "dtype": "int64",
                  "stats": {
                    "unique_count": 5,
                    "nan_count": 0,
                    "min": 1130,
                    "max": 1740,
                    "histogram": [
                      {
                        "bin_start": 1130,
                        "bin_end": 1191,
                        "count": 1
                      },
                      {
                        "bin_start": 1191,
                        "bin_end": 1252,
                        "count": 1
                      },
                      {
                        "bin_start": 1252,
                        "bin_end": 1313,
                        "count": 0
                      },
                      {
                        "bin_start": 1313,
                        "bin_end": 1374,
                        "count": 1
                      },
                      {
                        "bin_start": 1374,
                        "bin_end": 1435,
                        "count": 0
                      },
                      {
                        "bin_start": 1435,
                        "bin_end": 1496,
                        "count": 0
                      },
                      {
                        "bin_start": 1496,
                        "bin_end": 1557,
                        "count": 1
                      },
                      {
                        "bin_start": 1557,
                        "bin_end": 1618,
                        "count": 0
                      },
                      {
                        "bin_start": 1618,
                        "bin_end": 1679,
                        "count": 0
                      },
                      {
                        "bin_start": 1679,
                        "bin_end": 1740,
                        "count": 1
                      }
                    ]
                  }
                },
                {
                  "name": "toothpaste",
                  "dtype": "int64",
                  "stats": {
                    "unique_count": 5,
                    "nan_count": 0,
                    "min": 4550,
                    "max": 5870,
                    "histogram": [
                      {
                        "bin_start": 4550,
                        "bin_end": 4682,
                        "count": 2
                      },
                      {
                        "bin_start": 4682,
                        "bin_end": 4814,
                        "count": 0
                      },
                      {
                        "bin_start": 4814,
                        "bin_end": 4946,
                        "count": 0
                      },
                      {
                        "bin_start": 4946,
                        "bin_end": 5078,
                        "count": 0
                      },
                      {
                        "bin_start": 5078,
                        "bin_end": 5210,
                        "count": 2
                      },
                      {
                        "bin_start": 5210,
                        "bin_end": 5342,
                        "count": 0
                      },
                      {
                        "bin_start": 5342,
                        "bin_end": 5474,
                        "count": 0
                      },
                      {
                        "bin_start": 5474,
                        "bin_end": 5606,
                        "count": 0
                      },
                      {
                        "bin_start": 5606,
                        "bin_end": 5738,
                        "count": 0
                      },
                      {
                        "bin_start": 5738,
                        "bin_end": 5870,
                        "count": 1
                      }
                    ]
                  }
                },
                {
                  "name": "bathingsoap",
                  "dtype": "int64",
                  "stats": {
                    "unique_count": 5,
                    "nan_count": 0,
                    "min": 6100,
                    "max": 9550,
                    "histogram": [
                      {
                        "bin_start": 6100,
                        "bin_end": 6445,
                        "count": 1
                      },
                      {
                        "bin_start": 6445,
                        "bin_end": 6790,
                        "count": 0
                      },
                      {
                        "bin_start": 6790,
                        "bin_end": 7135,
                        "count": 0
                      },
                      {
                        "bin_start": 7135,
                        "bin_end": 7480,
                        "count": 0
                      },
                      {
                        "bin_start": 7480,
                        "bin_end": 7825,
                        "count": 1
                      },
                      {
                        "bin_start": 7825,
                        "bin_end": 8170,
                        "count": 0
                      },
                      {
                        "bin_start": 8170,
                        "bin_end": 8515,
                        "count": 0
                      },
                      {
                        "bin_start": 8515,
                        "bin_end": 8860,
                        "count": 0
                      },
                      {
                        "bin_start": 8860,
                        "bin_end": 9205,
                        "count": 2
                      },
                      {
                        "bin_start": 9205,
                        "bin_end": 9550,
                        "count": 1
                      }
                    ]
                  }
                },
                {
                  "name": "shampoo",
                  "dtype": "int64",
                  "stats": {
                    "unique_count": 5,
                    "nan_count": 0,
                    "min": 1200,
                    "max": 3550,
                    "histogram": [
                      {
                        "bin_start": 1200,
                        "bin_end": 1435,
                        "count": 1
                      },
                      {
                        "bin_start": 1435,
                        "bin_end": 1670,
                        "count": 1
                      },
                      {
                        "bin_start": 1670,
                        "bin_end": 1905,
                        "count": 1
                      },
                      {
                        "bin_start": 1905,
                        "bin_end": 2140,
                        "count": 1
                      },
                      {
                        "bin_start": 2140,
                        "bin_end": 2375,
                        "count": 0
                      },
                      {
                        "bin_start": 2375,
                        "bin_end": 2610,
                        "count": 0
                      },
                      {
                        "bin_start": 2610,
                        "bin_end": 2845,
                        "count": 0
                      },
                      {
                        "bin_start": 2845,
                        "bin_end": 3080,
                        "count": 0
                      },
                      {
                        "bin_start": 3080,
                        "bin_end": 3315,
                        "count": 0
                      },
                      {
                        "bin_start": 3315,
                        "bin_end": 3550,
                        "count": 1
                      }
                    ]
                  }
                },
                {
                  "name": "moisturizer",
                  "dtype": "int64",
                  "stats": {
                    "unique_count": 5,
                    "nan_count": 0,
                    "min": 1130,
                    "max": 1740,
                    "histogram": [
                      {
                        "bin_start": 1130,
                        "bin_end": 1191,
                        "count": 1
                      },
                      {
                        "bin_start": 1191,
                        "bin_end": 1252,
                        "count": 1
                      },
                      {
                        "bin_start": 1252,
                        "bin_end": 1313,
                        "count": 0
                      },
                      {
                        "bin_start": 1313,
                        "bin_end": 1374,
                        "count": 1
                      },
                      {
                        "bin_start": 1374,
                        "bin_end": 1435,
                        "count": 0
                      },
                      {
                        "bin_start": 1435,
                        "bin_end": 1496,
                        "count": 0
                      },
                      {
                        "bin_start": 1496,
                        "bin_end": 1557,
                        "count": 1
                      },
                      {
                        "bin_start": 1557,
                        "bin_end": 1618,
                        "count": 0
                      },
                      {
                        "bin_start": 1618,
                        "bin_end": 1679,
                        "count": 0
                      },
                      {
                        "bin_start": 1679,
                        "bin_end": 1740,
                        "count": 1
                      }
                    ]
                  }
                },
                {
                  "name": "total_units",
                  "dtype": "int64",
                  "stats": {
                    "unique_count": 5,
                    "nan_count": 0,
                    "min": 18330,
                    "max": 22470,
                    "histogram": [
                      {
                        "bin_start": 18330,
                        "bin_end": 18744,
                        "count": 1
                      },
                      {
                        "bin_start": 18744,
                        "bin_end": 19158,
                        "count": 0
                      },
                      {
                        "bin_start": 19158,
                        "bin_end": 19572,
                        "count": 0
                      },
                      {
                        "bin_start": 19572,
                        "bin_end": 19986,
                        "count": 0
                      },
                      {
                        "bin_start": 19986,
                        "bin_end": 20400,
                        "count": 0
                      },
                      {
                        "bin_start": 20400,
                        "bin_end": 20814,
                        "count": 0
                      },
                      {
                        "bin_start": 20814,
                        "bin_end": 21228,
                        "count": 2
                      },
                      {
                        "bin_start": 21228,
                        "bin_end": 21642,
                        "count": 0
                      },
                      {
                        "bin_start": 21642,
                        "bin_end": 22056,
                        "count": 0
                      },
                      {
                        "bin_start": 22056,
                        "bin_end": 22470,
                        "count": 2
                      }
                    ]
                  }
                },
                {
                  "name": "total_profit",
                  "dtype": "int64",
                  "stats": {
                    "unique_count": 5,
                    "nan_count": 0,
                    "min": 183300,
                    "max": 224700,
                    "histogram": [
                      {
                        "bin_start": 183300,
                        "bin_end": 187440,
                        "count": 1
                      },
                      {
                        "bin_start": 187440,
                        "bin_end": 191580,
                        "count": 0
                      },
                      {
                        "bin_start": 191580,
                        "bin_end": 195720,
                        "count": 0
                      },
                      {
                        "bin_start": 195720,
                        "bin_end": 199860,
                        "count": 0
                      },
                      {
                        "bin_start": 199860,
                        "bin_end": 204000,
                        "count": 0
                      },
                      {
                        "bin_start": 204000,
                        "bin_end": 208140,
                        "count": 0
                      },
                      {
                        "bin_start": 208140,
                        "bin_end": 212280,
                        "count": 2
                      },
                      {
                        "bin_start": 212280,
                        "bin_end": 216420,
                        "count": 0
                      },
                      {
                        "bin_start": 216420,
                        "bin_end": 220560,
                        "count": 0
                      },
                      {
                        "bin_start": 220560,
                        "bin_end": 224700,
                        "count": 2
                      }
                    ]
                  }
                },
                {
                  "name": "_deepnote_index_column",
                  "dtype": "int64"
                }
              ],
              "rows_top": [
                {
                  "month_number": 1,
                  "facecream": 2500,
                  "facewash": 1500,
                  "toothpaste": 5200,
                  "bathingsoap": 9200,
                  "shampoo": 1200,
                  "moisturizer": 1500,
                  "total_units": 21100,
                  "total_profit": 211000,
                  "_deepnote_index_column": 0
                },
                {
                  "month_number": 2,
                  "facecream": 2630,
                  "facewash": 1200,
                  "toothpaste": 5100,
                  "bathingsoap": 6100,
                  "shampoo": 2100,
                  "moisturizer": 1200,
                  "total_units": 18330,
                  "total_profit": 183300,
                  "_deepnote_index_column": 1
                },
                {
                  "month_number": 3,
                  "facecream": 2140,
                  "facewash": 1340,
                  "toothpaste": 4550,
                  "bathingsoap": 9550,
                  "shampoo": 3550,
                  "moisturizer": 1340,
                  "total_units": 22470,
                  "total_profit": 224700,
                  "_deepnote_index_column": 2
                },
                {
                  "month_number": 4,
                  "facecream": 3400,
                  "facewash": 1130,
                  "toothpaste": 5870,
                  "bathingsoap": 8870,
                  "shampoo": 1870,
                  "moisturizer": 1130,
                  "total_units": 22270,
                  "total_profit": 222700,
                  "_deepnote_index_column": 3
                },
                {
                  "month_number": 5,
                  "facecream": 3600,
                  "facewash": 1740,
                  "toothpaste": 4560,
                  "bathingsoap": 7760,
                  "shampoo": 1560,
                  "moisturizer": 1740,
                  "total_units": 20960,
                  "total_profit": 209600,
                  "_deepnote_index_column": 4
                }
              ],
              "rows_bottom": null
            },
            "text/plain": "   month_number  facecream  facewash  toothpaste  bathingsoap  shampoo  \\\n0             1       2500      1500        5200         9200     1200   \n1             2       2630      1200        5100         6100     2100   \n2             3       2140      1340        4550         9550     3550   \n3             4       3400      1130        5870         8870     1870   \n4             5       3600      1740        4560         7760     1560   \n\n   moisturizer  total_units  total_profit  \n0         1500        21100        211000  \n1         1200        18330        183300  \n2         1340        22470        224700  \n3         1130        22270        222700  \n4         1740        20960        209600  ",
            "text/html": "<div>\n<style scoped>\n    .dataframe tbody tr th:only-of-type {\n        vertical-align: middle;\n    }\n\n    .dataframe tbody tr th {\n        vertical-align: top;\n    }\n\n    .dataframe thead th {\n        text-align: right;\n    }\n</style>\n<table border=\"1\" class=\"dataframe\">\n  <thead>\n    <tr style=\"text-align: right;\">\n      <th></th>\n      <th>month_number</th>\n      <th>facecream</th>\n      <th>facewash</th>\n      <th>toothpaste</th>\n      <th>bathingsoap</th>\n      <th>shampoo</th>\n      <th>moisturizer</th>\n      <th>total_units</th>\n      <th>total_profit</th>\n    </tr>\n  </thead>\n  <tbody>\n    <tr>\n      <th>0</th>\n      <td>1</td>\n      <td>2500</td>\n      <td>1500</td>\n      <td>5200</td>\n      <td>9200</td>\n      <td>1200</td>\n      <td>1500</td>\n      <td>21100</td>\n      <td>211000</td>\n    </tr>\n    <tr>\n      <th>1</th>\n      <td>2</td>\n      <td>2630</td>\n      <td>1200</td>\n      <td>5100</td>\n      <td>6100</td>\n      <td>2100</td>\n      <td>1200</td>\n      <td>18330</td>\n      <td>183300</td>\n    </tr>\n    <tr>\n      <th>2</th>\n      <td>3</td>\n      <td>2140</td>\n      <td>1340</td>\n      <td>4550</td>\n      <td>9550</td>\n      <td>3550</td>\n      <td>1340</td>\n      <td>22470</td>\n      <td>224700</td>\n    </tr>\n    <tr>\n      <th>3</th>\n      <td>4</td>\n      <td>3400</td>\n      <td>1130</td>\n      <td>5870</td>\n      <td>8870</td>\n      <td>1870</td>\n      <td>1130</td>\n      <td>22270</td>\n      <td>222700</td>\n    </tr>\n    <tr>\n      <th>4</th>\n      <td>5</td>\n      <td>3600</td>\n      <td>1740</td>\n      <td>4560</td>\n      <td>7760</td>\n      <td>1560</td>\n      <td>1740</td>\n      <td>20960</td>\n      <td>209600</td>\n    </tr>\n  </tbody>\n</table>\n</div>"
          },
          "metadata": {}
        }
      ]
    },
    {
      "cell_type": "code",
      "metadata": {
        "cell_id": "00009-dcd7e8d9-5030-4672-9fcd-07731f0532c8",
        "deepnote_to_be_reexecuted": false,
        "source_hash": "36812e7b",
        "execution_millis": 1,
        "execution_start": 1616761698592,
        "deepnote_cell_type": "code"
      },
      "source": "# Write your code here\n#fig, ax = plt.subplots(figsize=(10,8))\n\n",
      "execution_count": 6,
      "outputs": []
    },
    {
      "cell_type": "code",
      "source": "plt.figure(figsize=(9,7))\nplt.title('Sales data')\nplt.plot(data['month_number'], data['facecream'], \"go-\",linewidth= 2, label='facecream')\nplt.plot(data['month_number'], data['facewash'], \"bo-\",linewidth= 2, label='facewash')\nplt.plot(data['month_number'], data['toothpaste'], \"ro-\",linewidth= 2, label='toothpaste')\nplt.plot(data['month_number'], data['bathingsoap'], \"bo-\",linewidth= 2, label='bathingsoap')\nplt.plot(data['month_number'], data['shampoo'], \"yo-\",linewidth= 2, label='bathingsoap')\nplt.plot(data['month_number'], data['moisturizer'], \"bo-\",linewidth= 2, label='moisturizer')\n\n\nplt.xlabel('Month Number')\nplt.ylabel('number of units sold per month')\nplt.legend(loc=\"upper left\")\nplt.show()",
      "metadata": {
        "tags": [],
        "cell_id": "00013-d10df89d-adb0-4f16-8594-8f8ce453b943",
        "deepnote_to_be_reexecuted": false,
        "source_hash": "3e40c442",
        "execution_millis": 233,
        "execution_start": 1616764536706,
        "deepnote_cell_type": "code"
      },
      "outputs": [
        {
          "data": {
            "text/plain": "<Figure size 648x504 with 1 Axes>",
            "image/png": "[encoded data removed]"
          },
          "metadata": {
            "needs_background": "light"
          },
          "output_type": "display_data"
        }
      ],
      "execution_count": 31
    },
    {
      "cell_type": "code",
      "source": "",
      "metadata": {
        "tags": [],
        "cell_id": "00013-4b19c053-b6be-4819-872e-f3650d59a278",
        "deepnote_to_be_reexecuted": true,
        "source_hash": "b623e53d",
        "execution_millis": 1,
        "deepnote_cell_type": "code"
      },
      "outputs": [],
      "execution_count": null
    },
    {
      "cell_type": "markdown",
      "source": "### Exercise 4: Read the toothpaste sales data of each month and show it using a scatter plot.\nAlso, add a grid in the plot (the grid line style should be “–“).\n\nThe scatter plot should look like this:\n![image.png](attachment:image.png)",
      "metadata": {
        "cell_id": "00010-7a6ad0f9-0a74-4a1a-bf8d-ca2e96e4dccd",
        "deepnote_cell_type": "markdown"
      }
    },
    {
      "cell_type": "code",
      "source": "# Write your code here\n\nplt.figure(figsize=(9,7))\nplt.title('Toothpaste sales data')\nplt.scatter(data['month_number'],data['toothpaste'],s=170)\nplt.grid(b=True, linestyle=\"--\", linewidth='1')\nplt.xticks(data.month_number, rotation=0)\nplt.xlabel('Month Number')\nplt.ylabel('Sold units number')\n\nplt.show()",
      "metadata": {
        "tags": [],
        "cell_id": "00017-0827891c-9398-4d69-bb5b-963c9c3de887",
        "deepnote_to_be_reexecuted": false,
        "source_hash": "b4a2f912",
        "execution_millis": 202,
        "execution_start": 1616766171716,
        "deepnote_cell_type": "code"
      },
      "outputs": [
        {
          "data": {
            "text/plain": "<Figure size 648x504 with 1 Axes>",
            "image/png": "[encoded data removed]"
          },
          "metadata": {
            "needs_background": "light"
          },
          "output_type": "display_data"
        }
      ],
      "execution_count": 88
    },
    {
      "cell_type": "code",
      "source": "",
      "metadata": {
        "tags": [],
        "cell_id": "00017-1f3b65aa-c5fb-49fa-8806-79c7319b23e4",
        "deepnote_cell_type": "code"
      },
      "outputs": [],
      "execution_count": null
    },
    {
      "cell_type": "markdown",
      "source": "### Exercise 5: Read the face cream and facewash product sales data and show it using the bar chart.\nThe bar chart should display the number of units sold per month for each product. Add a separate bar for each product in the same chart.\n\nThe bar chart should look like this:\n![image.png](attachment:image.png)",
      "metadata": {
        "cell_id": "00012-96a497fa-8e66-4d24-b99e-d60840ea545c",
        "deepnote_cell_type": "markdown"
      }
    },
    {
      "cell_type": "code",
      "metadata": {
        "cell_id": "00013-3efeceaa-8327-47cf-b9a1-d103c313d16f",
        "deepnote_to_be_reexecuted": false,
        "source_hash": "2939c99c",
        "execution_millis": 239,
        "execution_start": 1616767466670,
        "deepnote_cell_type": "code"
      },
      "source": "# Write your code here\nplt.figure(figsize=(10,7))\nplt.title('Facewash and Facecream Sales Data')\nplt.bar(data['month_number'], data['facecream'], width= 0.4, align='edge', label='Facewash sales')\nplt.bar(data['month_number']-0.4,data['facewash'], width=0.4, align='edge', label='Facewash sales')\nplt.grid(b=True,which='major', linestyle='--', linewidth=1.5, color='gray')\nplt.xticks(data.month_number)\nplt.xlabel(\"Month number\")\nplt.ylabel(\"Sales unit in numbers\")\nplt.title(\"Facewash and Facecream sales data\")\nplt.legend(loc='upper left')\nplt.show()\n\n",
      "execution_count": 114,
      "outputs": [
        {
          "data": {
            "text/plain": "<Figure size 720x504 with 1 Axes>",
            "image/png": "[encoded data removed]"
          },
          "metadata": {
            "needs_background": "light"
          },
          "output_type": "display_data"
        }
      ]
    },
    {
      "cell_type": "markdown",
      "source": "",
      "metadata": {
        "tags": [],
        "cell_id": "00020-44e0fc42-ebb8-4d7e-a4d0-4a72c00316d0",
        "deepnote_cell_type": "markdown"
      }
    },
    {
      "cell_type": "markdown",
      "source": "### Exercise 6: Read the sales data of bathing soap of all months and show it using a bar chart. Save this plot to your hard disk.\nThe bar chart should look like this:\n![image.png](attachment:image.png)",
      "metadata": {
        "cell_id": "00014-2edb605d-f450-44e3-831f-2cacb328f535",
        "deepnote_cell_type": "markdown"
      }
    },
    {
      "cell_type": "code",
      "metadata": {
        "cell_id": "00015-157c1f32-ed42-4bd3-93dc-d4c1f0ca9cba",
        "deepnote_to_be_reexecuted": true,
        "source_hash": "aad9d1a7",
        "execution_millis": 0,
        "deepnote_cell_type": "code"
      },
      "source": "# Write your code here\n",
      "outputs": [],
      "execution_count": null
    },
    {
      "cell_type": "code",
      "source": "plt.figure(figsize=(9,7))\nplt.title('Bathing soap sales data')\nplt.grid(linestyle='--') \nplt.bar(data['month_number'], data['bathingsoap'])\nplt.xlabel('Month Number')\nplt.ylabel('Sold units number')\nplt.xticks(data.month_number)\nplt.show()",
      "metadata": {
        "tags": [],
        "cell_id": "00022-9ffc8bfe-128b-4f6a-b6b7-82a976a94820",
        "deepnote_to_be_reexecuted": false,
        "source_hash": "32f7876c",
        "execution_millis": 208,
        "execution_start": 1616766101039,
        "deepnote_cell_type": "code"
      },
      "outputs": [
        {
          "data": {
            "text/plain": "<Figure size 648x504 with 1 Axes>",
            "image/png": "[encoded data removed]"
          },
          "metadata": {
            "needs_background": "light"
          },
          "output_type": "display_data"
        }
      ],
      "execution_count": 82
    },
    {
      "cell_type": "code",
      "source": "",
      "metadata": {
        "tags": [],
        "cell_id": "00025-fc7838c0-ecbf-41ae-b2ac-898760290332",
        "deepnote_cell_type": "code"
      },
      "outputs": [],
      "execution_count": null
    },
    {
      "cell_type": "markdown",
      "source": "![Picture title](image-20210326-143933.png)",
      "metadata": {
        "tags": [],
        "cell_id": "00026-585ea8d1-ba60-468f-8768-136f3005b3d1",
        "deepnote_cell_type": "markdown"
      }
    },
    {
      "cell_type": "markdown",
      "source": "### Exercise 7: Read the total profit of each month and show it using the histogram to see the most common profit ranges.\nThe histogram should look like this:\n![image.png](attachment:image.png)",
      "metadata": {
        "cell_id": "00016-f3792a08-03b7-44b2-9ca6-6131e5d5fd3f",
        "deepnote_cell_type": "markdown"
      }
    },
    {
      "cell_type": "code",
      "metadata": {
        "cell_id": "00017-ba0c72a1-f4da-4fa8-8fab-5d81ffec85a1",
        "deepnote_to_be_reexecuted": true,
        "source_hash": "aad9d1a7",
        "execution_millis": 0,
        "deepnote_cell_type": "code"
      },
      "source": "# Write your code here\n",
      "outputs": [],
      "execution_count": null
    },
    {
      "cell_type": "code",
      "source": "n_bins = 20\nplt.figure(figsize=(10,7))\nplt.title('Total profit of each month')\nplt.grid(linestyle='--')\nplt.hist(data['month_number'], data['total_profit'])\nplt.xlabel('Month Number')\nplt.ylabel('Total Profit')\nplt.legend(loc=\"lower right\")\nplt.xticks(data.month_number)\nplt.show()",
      "metadata": {
        "tags": [],
        "cell_id": "00026-d6f700f0-329c-4750-b475-dc9703e8bd9b",
        "deepnote_to_be_reexecuted": false,
        "source_hash": "12fcaf09",
        "execution_millis": 147,
        "execution_start": 1616767034825,
        "deepnote_cell_type": "code"
      },
      "outputs": [
        {
          "output_type": "error",
          "ename": "ValueError",
          "evalue": "`bins` must increase monotonically, when an array",
          "traceback": [
            "\u001b[0;31m---------------------------------------------------------------------------\u001b[0m",
            "\u001b[0;31mValueError\u001b[0m                                Traceback (most recent call last)",
            "\u001b[0;32m<ipython-input-107-a2f91a206f0d>\u001b[0m in \u001b[0;36m<module>\u001b[0;34m\u001b[0m\n\u001b[1;32m      3\u001b[0m \u001b[0mplt\u001b[0m\u001b[0;34m.\u001b[0m\u001b[0mtitle\u001b[0m\u001b[0;34m(\u001b[0m\u001b[0;34m'Total profit of each month'\u001b[0m\u001b[0;34m)\u001b[0m\u001b[0;34m\u001b[0m\u001b[0;34m\u001b[0m\u001b[0m\n\u001b[1;32m      4\u001b[0m \u001b[0mplt\u001b[0m\u001b[0;34m.\u001b[0m\u001b[0mgrid\u001b[0m\u001b[0;34m(\u001b[0m\u001b[0mlinestyle\u001b[0m\u001b[0;34m=\u001b[0m\u001b[0;34m'--'\u001b[0m\u001b[0;34m)\u001b[0m\u001b[0;34m\u001b[0m\u001b[0;34m\u001b[0m\u001b[0m\n\u001b[0;32m----> 5\u001b[0;31m \u001b[0mplt\u001b[0m\u001b[0;34m.\u001b[0m\u001b[0mhist\u001b[0m\u001b[0;34m(\u001b[0m\u001b[0mdata\u001b[0m\u001b[0;34m[\u001b[0m\u001b[0;34m'month_number'\u001b[0m\u001b[0;34m]\u001b[0m\u001b[0;34m,\u001b[0m \u001b[0mdata\u001b[0m\u001b[0;34m[\u001b[0m\u001b[0;34m'total_profit'\u001b[0m\u001b[0;34m]\u001b[0m\u001b[0;34m)\u001b[0m\u001b[0;34m\u001b[0m\u001b[0;34m\u001b[0m\u001b[0m\n\u001b[0m\u001b[1;32m      6\u001b[0m \u001b[0mplt\u001b[0m\u001b[0;34m.\u001b[0m\u001b[0mxlabel\u001b[0m\u001b[0;34m(\u001b[0m\u001b[0;34m'Month Number'\u001b[0m\u001b[0;34m)\u001b[0m\u001b[0;34m\u001b[0m\u001b[0;34m\u001b[0m\u001b[0m\n\u001b[1;32m      7\u001b[0m \u001b[0mplt\u001b[0m\u001b[0;34m.\u001b[0m\u001b[0mylabel\u001b[0m\u001b[0;34m(\u001b[0m\u001b[0;34m'Total Profit'\u001b[0m\u001b[0;34m)\u001b[0m\u001b[0;34m\u001b[0m\u001b[0;34m\u001b[0m\u001b[0m\n",
            "\u001b[0;32m/shared-libs/python3.7/py/lib/python3.7/site-packages/matplotlib/pyplot.py\u001b[0m in \u001b[0;36mhist\u001b[0;34m(x, bins, range, density, weights, cumulative, bottom, histtype, align, orientation, rwidth, log, color, label, stacked, data, **kwargs)\u001b[0m\n\u001b[1;32m   2688\u001b[0m         \u001b[0malign\u001b[0m\u001b[0;34m=\u001b[0m\u001b[0malign\u001b[0m\u001b[0;34m,\u001b[0m \u001b[0morientation\u001b[0m\u001b[0;34m=\u001b[0m\u001b[0morientation\u001b[0m\u001b[0;34m,\u001b[0m \u001b[0mrwidth\u001b[0m\u001b[0;34m=\u001b[0m\u001b[0mrwidth\u001b[0m\u001b[0;34m,\u001b[0m \u001b[0mlog\u001b[0m\u001b[0;34m=\u001b[0m\u001b[0mlog\u001b[0m\u001b[0;34m,\u001b[0m\u001b[0;34m\u001b[0m\u001b[0;34m\u001b[0m\u001b[0m\n\u001b[1;32m   2689\u001b[0m         \u001b[0mcolor\u001b[0m\u001b[0;34m=\u001b[0m\u001b[0mcolor\u001b[0m\u001b[0;34m,\u001b[0m \u001b[0mlabel\u001b[0m\u001b[0;34m=\u001b[0m\u001b[0mlabel\u001b[0m\u001b[0;34m,\u001b[0m \u001b[0mstacked\u001b[0m\u001b[0;34m=\u001b[0m\u001b[0mstacked\u001b[0m\u001b[0;34m,\u001b[0m\u001b[0;34m\u001b[0m\u001b[0;34m\u001b[0m\u001b[0m\n\u001b[0;32m-> 2690\u001b[0;31m         **({\"data\": data} if data is not None else {}), **kwargs)\n\u001b[0m\u001b[1;32m   2691\u001b[0m \u001b[0;34m\u001b[0m\u001b[0m\n\u001b[1;32m   2692\u001b[0m \u001b[0;34m\u001b[0m\u001b[0m\n",
            "\u001b[0;32m/shared-libs/python3.7/py/lib/python3.7/site-packages/matplotlib/__init__.py\u001b[0m in \u001b[0;36minner\u001b[0;34m(ax, data, *args, **kwargs)\u001b[0m\n\u001b[1;32m   1445\u001b[0m     \u001b[0;32mdef\u001b[0m \u001b[0minner\u001b[0m\u001b[0;34m(\u001b[0m\u001b[0max\u001b[0m\u001b[0;34m,\u001b[0m \u001b[0;34m*\u001b[0m\u001b[0margs\u001b[0m\u001b[0;34m,\u001b[0m \u001b[0mdata\u001b[0m\u001b[0;34m=\u001b[0m\u001b[0;32mNone\u001b[0m\u001b[0;34m,\u001b[0m \u001b[0;34m**\u001b[0m\u001b[0mkwargs\u001b[0m\u001b[0;34m)\u001b[0m\u001b[0;34m:\u001b[0m\u001b[0;34m\u001b[0m\u001b[0;34m\u001b[0m\u001b[0m\n\u001b[1;32m   1446\u001b[0m         \u001b[0;32mif\u001b[0m \u001b[0mdata\u001b[0m \u001b[0;32mis\u001b[0m \u001b[0;32mNone\u001b[0m\u001b[0;34m:\u001b[0m\u001b[0;34m\u001b[0m\u001b[0;34m\u001b[0m\u001b[0m\n\u001b[0;32m-> 1447\u001b[0;31m             \u001b[0;32mreturn\u001b[0m \u001b[0mfunc\u001b[0m\u001b[0;34m(\u001b[0m\u001b[0max\u001b[0m\u001b[0;34m,\u001b[0m \u001b[0;34m*\u001b[0m\u001b[0mmap\u001b[0m\u001b[0;34m(\u001b[0m\u001b[0msanitize_sequence\u001b[0m\u001b[0;34m,\u001b[0m \u001b[0margs\u001b[0m\u001b[0;34m)\u001b[0m\u001b[0;34m,\u001b[0m \u001b[0;34m**\u001b[0m\u001b[0mkwargs\u001b[0m\u001b[0;34m)\u001b[0m\u001b[0;34m\u001b[0m\u001b[0;34m\u001b[0m\u001b[0m\n\u001b[0m\u001b[1;32m   1448\u001b[0m \u001b[0;34m\u001b[0m\u001b[0m\n\u001b[1;32m   1449\u001b[0m         \u001b[0mbound\u001b[0m \u001b[0;34m=\u001b[0m \u001b[0mnew_sig\u001b[0m\u001b[0;34m.\u001b[0m\u001b[0mbind\u001b[0m\u001b[0;34m(\u001b[0m\u001b[0max\u001b[0m\u001b[0;34m,\u001b[0m \u001b[0;34m*\u001b[0m\u001b[0margs\u001b[0m\u001b[0;34m,\u001b[0m \u001b[0;34m**\u001b[0m\u001b[0mkwargs\u001b[0m\u001b[0;34m)\u001b[0m\u001b[0;34m\u001b[0m\u001b[0;34m\u001b[0m\u001b[0m\n",
            "\u001b[0;32m/shared-libs/python3.7/py/lib/python3.7/site-packages/matplotlib/axes/_axes.py\u001b[0m in \u001b[0;36mhist\u001b[0;34m(self, x, bins, range, density, weights, cumulative, bottom, histtype, align, orientation, rwidth, log, color, label, stacked, **kwargs)\u001b[0m\n\u001b[1;32m   6649\u001b[0m             \u001b[0;31m# this will automatically overwrite bins,\u001b[0m\u001b[0;34m\u001b[0m\u001b[0;34m\u001b[0m\u001b[0;34m\u001b[0m\u001b[0m\n\u001b[1;32m   6650\u001b[0m             \u001b[0;31m# so that each histogram uses the same bins\u001b[0m\u001b[0;34m\u001b[0m\u001b[0;34m\u001b[0m\u001b[0;34m\u001b[0m\u001b[0m\n\u001b[0;32m-> 6651\u001b[0;31m             \u001b[0mm\u001b[0m\u001b[0;34m,\u001b[0m \u001b[0mbins\u001b[0m \u001b[0;34m=\u001b[0m \u001b[0mnp\u001b[0m\u001b[0;34m.\u001b[0m\u001b[0mhistogram\u001b[0m\u001b[0;34m(\u001b[0m\u001b[0mx\u001b[0m\u001b[0;34m[\u001b[0m\u001b[0mi\u001b[0m\u001b[0;34m]\u001b[0m\u001b[0;34m,\u001b[0m \u001b[0mbins\u001b[0m\u001b[0;34m,\u001b[0m \u001b[0mweights\u001b[0m\u001b[0;34m=\u001b[0m\u001b[0mw\u001b[0m\u001b[0;34m[\u001b[0m\u001b[0mi\u001b[0m\u001b[0;34m]\u001b[0m\u001b[0;34m,\u001b[0m \u001b[0;34m**\u001b[0m\u001b[0mhist_kwargs\u001b[0m\u001b[0;34m)\u001b[0m\u001b[0;34m\u001b[0m\u001b[0;34m\u001b[0m\u001b[0m\n\u001b[0m\u001b[1;32m   6652\u001b[0m             \u001b[0mtops\u001b[0m\u001b[0;34m.\u001b[0m\u001b[0mappend\u001b[0m\u001b[0;34m(\u001b[0m\u001b[0mm\u001b[0m\u001b[0;34m)\u001b[0m\u001b[0;34m\u001b[0m\u001b[0;34m\u001b[0m\u001b[0m\n\u001b[1;32m   6653\u001b[0m         \u001b[0mtops\u001b[0m \u001b[0;34m=\u001b[0m \u001b[0mnp\u001b[0m\u001b[0;34m.\u001b[0m\u001b[0marray\u001b[0m\u001b[0;34m(\u001b[0m\u001b[0mtops\u001b[0m\u001b[0;34m,\u001b[0m \u001b[0mfloat\u001b[0m\u001b[0;34m)\u001b[0m  \u001b[0;31m# causes problems later if it's an int\u001b[0m\u001b[0;34m\u001b[0m\u001b[0;34m\u001b[0m\u001b[0m\n",
            "\u001b[0;32m<__array_function__ internals>\u001b[0m in \u001b[0;36mhistogram\u001b[0;34m(*args, **kwargs)\u001b[0m\n",
            "\u001b[0;32m/shared-libs/python3.7/py/lib/python3.7/site-packages/numpy/lib/histograms.py\u001b[0m in \u001b[0;36mhistogram\u001b[0;34m(a, bins, range, normed, weights, density)\u001b[0m\n\u001b[1;32m    790\u001b[0m     \u001b[0ma\u001b[0m\u001b[0;34m,\u001b[0m \u001b[0mweights\u001b[0m \u001b[0;34m=\u001b[0m \u001b[0m_ravel_and_check_weights\u001b[0m\u001b[0;34m(\u001b[0m\u001b[0ma\u001b[0m\u001b[0;34m,\u001b[0m \u001b[0mweights\u001b[0m\u001b[0;34m)\u001b[0m\u001b[0;34m\u001b[0m\u001b[0;34m\u001b[0m\u001b[0m\n\u001b[1;32m    791\u001b[0m \u001b[0;34m\u001b[0m\u001b[0m\n\u001b[0;32m--> 792\u001b[0;31m     \u001b[0mbin_edges\u001b[0m\u001b[0;34m,\u001b[0m \u001b[0muniform_bins\u001b[0m \u001b[0;34m=\u001b[0m \u001b[0m_get_bin_edges\u001b[0m\u001b[0;34m(\u001b[0m\u001b[0ma\u001b[0m\u001b[0;34m,\u001b[0m \u001b[0mbins\u001b[0m\u001b[0;34m,\u001b[0m \u001b[0mrange\u001b[0m\u001b[0;34m,\u001b[0m \u001b[0mweights\u001b[0m\u001b[0;34m)\u001b[0m\u001b[0;34m\u001b[0m\u001b[0;34m\u001b[0m\u001b[0m\n\u001b[0m\u001b[1;32m    793\u001b[0m \u001b[0;34m\u001b[0m\u001b[0m\n\u001b[1;32m    794\u001b[0m     \u001b[0;31m# Histogram is an integer or a float array depending on the weights.\u001b[0m\u001b[0;34m\u001b[0m\u001b[0;34m\u001b[0m\u001b[0;34m\u001b[0m\u001b[0m\n",
            "\u001b[0;32m/shared-libs/python3.7/py/lib/python3.7/site-packages/numpy/lib/histograms.py\u001b[0m in \u001b[0;36m_get_bin_edges\u001b[0;34m(a, bins, range, weights)\u001b[0m\n\u001b[1;32m    430\u001b[0m         \u001b[0;32mif\u001b[0m \u001b[0mnp\u001b[0m\u001b[0;34m.\u001b[0m\u001b[0many\u001b[0m\u001b[0;34m(\u001b[0m\u001b[0mbin_edges\u001b[0m\u001b[0;34m[\u001b[0m\u001b[0;34m:\u001b[0m\u001b[0;34m-\u001b[0m\u001b[0;36m1\u001b[0m\u001b[0;34m]\u001b[0m \u001b[0;34m>\u001b[0m \u001b[0mbin_edges\u001b[0m\u001b[0;34m[\u001b[0m\u001b[0;36m1\u001b[0m\u001b[0;34m:\u001b[0m\u001b[0;34m]\u001b[0m\u001b[0;34m)\u001b[0m\u001b[0;34m:\u001b[0m\u001b[0;34m\u001b[0m\u001b[0;34m\u001b[0m\u001b[0m\n\u001b[1;32m    431\u001b[0m             raise ValueError(\n\u001b[0;32m--> 432\u001b[0;31m                 '`bins` must increase monotonically, when an array')\n\u001b[0m\u001b[1;32m    433\u001b[0m \u001b[0;34m\u001b[0m\u001b[0m\n\u001b[1;32m    434\u001b[0m     \u001b[0;32melse\u001b[0m\u001b[0;34m:\u001b[0m\u001b[0;34m\u001b[0m\u001b[0;34m\u001b[0m\u001b[0m\n",
            "\u001b[0;31mValueError\u001b[0m: `bins` must increase monotonically, when an array"
          ]
        },
        {
          "data": {
            "text/plain": "<Figure size 720x504 with 1 Axes>",
            "image/png": "[encoded data removed]"
          },
          "metadata": {
            "needs_background": "light"
          },
          "output_type": "display_data"
        }
      ],
      "execution_count": 107
    },
    {
      "cell_type": "code",
      "source": "",
      "metadata": {
        "tags": [],
        "cell_id": "00029-203eee33-57e9-4cb1-bbe2-431aba26801e",
        "deepnote_cell_type": "code"
      },
      "outputs": [],
      "execution_count": null
    },
    {
      "cell_type": "markdown",
      "source": "![Picture title](image-20210326-143457.png)",
      "metadata": {
        "tags": [],
        "cell_id": "00030-0ce7a7b1-32c7-436a-b5bd-7e28790c2f10",
        "deepnote_cell_type": "markdown"
      }
    },
    {
      "cell_type": "markdown",
      "source": "### Exercise 8: Calculate the total sale data for last year for each product and show it using a Pie chart.\nNote: In the Pie chart you should display the Number of units sold per year for each product in percentage.\n\nThe Pie chart should look like this:\n![image.png](attachment:image.png)",
      "metadata": {
        "cell_id": "00018-80c8936d-8e25-49d0-b6a0-1870ef50ffbc",
        "deepnote_cell_type": "markdown"
      }
    },
    {
      "cell_type": "code",
      "metadata": {
        "cell_id": "00019-2131c6ff-546b-4e89-a1d1-436c0e84636b",
        "deepnote_to_be_reexecuted": true,
        "source_hash": "37ac728b",
        "execution_millis": 2,
        "deepnote_cell_type": "code"
      },
      "source": "# Write your code here\n\n",
      "outputs": [],
      "execution_count": null
    },
    {
      "cell_type": "code",
      "source": "for \n\n\n\nplt.hist(data['month_number'], data['bathingsoap'], linewidth = 3, 'ro-', markerfacecolor = 'black', label='Bathing Soap', bins = 10)\nplt.xlabel('Month Number')\nplt.ylabel('Sold units number')\nplt.legend(loc=\"lower right\")\nplt.show()\n\ndata.head()",
      "metadata": {
        "tags": [],
        "cell_id": "00027-dbcead0d-9a4e-4ea9-b6a1-29989a196313",
        "deepnote_cell_type": "code"
      },
      "outputs": [],
      "execution_count": null
    },
    {
      "cell_type": "code",
      "source": "data.head()\nlist1= \n\ncsv_writer.writerow(list1)",
      "metadata": {
        "tags": [],
        "cell_id": "00034-494c11a4-61a8-46fd-a996-04a229e4a337",
        "deepnote_to_be_reexecuted": false,
        "source_hash": "41313cfa",
        "execution_start": 1616766954393,
        "execution_millis": 48,
        "deepnote_cell_type": "code"
      },
      "outputs": [
        {
          "output_type": "execute_result",
          "execution_count": 105,
          "data": {
            "application/vnd.deepnote.dataframe.v2+json": {
              "row_count": 5,
              "column_count": 9,
              "columns": [
                {
                  "name": "month_number",
                  "dtype": "int64",
                  "stats": {
                    "unique_count": 5,
                    "nan_count": 0,
                    "min": 1,
                    "max": 5,
                    "histogram": [
                      {
                        "bin_start": 1,
                        "bin_end": 1.4,
                        "count": 1
                      },
                      {
                        "bin_start": 1.4,
                        "bin_end": 1.8,
                        "count": 0
                      },
                      {
                        "bin_start": 1.8,
                        "bin_end": 2.2,
                        "count": 1
                      },
                      {
                        "bin_start": 2.2,
                        "bin_end": 2.6,
                        "count": 0
                      },
                      {
                        "bin_start": 2.6,
                        "bin_end": 3,
                        "count": 0
                      },
                      {
                        "bin_start": 3,
                        "bin_end": 3.4000000000000004,
                        "count": 1
                      },
                      {
                        "bin_start": 3.4000000000000004,
                        "bin_end": 3.8000000000000003,
                        "count": 0
                      },
                      {
                        "bin_start": 3.8000000000000003,
                        "bin_end": 4.2,
                        "count": 1
                      },
                      {
                        "bin_start": 4.2,
                        "bin_end": 4.6,
                        "count": 0
                      },
                      {
                        "bin_start": 4.6,
                        "bin_end": 5,
                        "count": 1
                      }
                    ]
                  }
                },
                {
                  "name": "facecream",
                  "dtype": "int64",
                  "stats": {
                    "unique_count": 5,
                    "nan_count": 0,
                    "min": 2140,
                    "max": 3600,
                    "histogram": [
                      {
                        "bin_start": 2140,
                        "bin_end": 2286,
                        "count": 1
                      },
                      {
                        "bin_start": 2286,
                        "bin_end": 2432,
                        "count": 0
                      },
                      {
                        "bin_start": 2432,
                        "bin_end": 2578,
                        "count": 1
                      },
                      {
                        "bin_start": 2578,
                        "bin_end": 2724,
                        "count": 1
                      },
                      {
                        "bin_start": 2724,
                        "bin_end": 2870,
                        "count": 0
                      },
                      {
                        "bin_start": 2870,
                        "bin_end": 3016,
                        "count": 0
                      },
                      {
                        "bin_start": 3016,
                        "bin_end": 3162,
                        "count": 0
                      },
                      {
                        "bin_start": 3162,
                        "bin_end": 3308,
                        "count": 0
                      },
                      {
                        "bin_start": 3308,
                        "bin_end": 3454,
                        "count": 1
                      },
                      {
                        "bin_start": 3454,
                        "bin_end": 3600,
                        "count": 1
                      }
                    ]
                  }
                },
                {
                  "name": "facewash",
                  "dtype": "int64",
                  "stats": {
                    "unique_count": 5,
                    "nan_count": 0,
                    "min": 1130,
                    "max": 1740,
                    "histogram": [
                      {
                        "bin_start": 1130,
                        "bin_end": 1191,
                        "count": 1
                      },
                      {
                        "bin_start": 1191,
                        "bin_end": 1252,
                        "count": 1
                      },
                      {
                        "bin_start": 1252,
                        "bin_end": 1313,
                        "count": 0
                      },
                      {
                        "bin_start": 1313,
                        "bin_end": 1374,
                        "count": 1
                      },
                      {
                        "bin_start": 1374,
                        "bin_end": 1435,
                        "count": 0
                      },
                      {
                        "bin_start": 1435,
                        "bin_end": 1496,
                        "count": 0
                      },
                      {
                        "bin_start": 1496,
                        "bin_end": 1557,
                        "count": 1
                      },
                      {
                        "bin_start": 1557,
                        "bin_end": 1618,
                        "count": 0
                      },
                      {
                        "bin_start": 1618,
                        "bin_end": 1679,
                        "count": 0
                      },
                      {
                        "bin_start": 1679,
                        "bin_end": 1740,
                        "count": 1
                      }
                    ]
                  }
                },
                {
                  "name": "toothpaste",
                  "dtype": "int64",
                  "stats": {
                    "unique_count": 5,
                    "nan_count": 0,
                    "min": 4550,
                    "max": 5870,
                    "histogram": [
                      {
                        "bin_start": 4550,
                        "bin_end": 4682,
                        "count": 2
                      },
                      {
                        "bin_start": 4682,
                        "bin_end": 4814,
                        "count": 0
                      },
                      {
                        "bin_start": 4814,
                        "bin_end": 4946,
                        "count": 0
                      },
                      {
                        "bin_start": 4946,
                        "bin_end": 5078,
                        "count": 0
                      },
                      {
                        "bin_start": 5078,
                        "bin_end": 5210,
                        "count": 2
                      },
                      {
                        "bin_start": 5210,
                        "bin_end": 5342,
                        "count": 0
                      },
                      {
                        "bin_start": 5342,
                        "bin_end": 5474,
                        "count": 0
                      },
                      {
                        "bin_start": 5474,
                        "bin_end": 5606,
                        "count": 0
                      },
                      {
                        "bin_start": 5606,
                        "bin_end": 5738,
                        "count": 0
                      },
                      {
                        "bin_start": 5738,
                        "bin_end": 5870,
                        "count": 1
                      }
                    ]
                  }
                },
                {
                  "name": "bathingsoap",
                  "dtype": "int64",
                  "stats": {
                    "unique_count": 5,
                    "nan_count": 0,
                    "min": 6100,
                    "max": 9550,
                    "histogram": [
                      {
                        "bin_start": 6100,
                        "bin_end": 6445,
                        "count": 1
                      },
                      {
                        "bin_start": 6445,
                        "bin_end": 6790,
                        "count": 0
                      },
                      {
                        "bin_start": 6790,
                        "bin_end": 7135,
                        "count": 0
                      },
                      {
                        "bin_start": 7135,
                        "bin_end": 7480,
                        "count": 0
                      },
                      {
                        "bin_start": 7480,
                        "bin_end": 7825,
                        "count": 1
                      },
                      {
                        "bin_start": 7825,
                        "bin_end": 8170,
                        "count": 0
                      },
                      {
                        "bin_start": 8170,
                        "bin_end": 8515,
                        "count": 0
                      },
                      {
                        "bin_start": 8515,
                        "bin_end": 8860,
                        "count": 0
                      },
                      {
                        "bin_start": 8860,
                        "bin_end": 9205,
                        "count": 2
                      },
                      {
                        "bin_start": 9205,
                        "bin_end": 9550,
                        "count": 1
                      }
                    ]
                  }
                },
                {
                  "name": "shampoo",
                  "dtype": "int64",
                  "stats": {
                    "unique_count": 5,
                    "nan_count": 0,
                    "min": 1200,
                    "max": 3550,
                    "histogram": [
                      {
                        "bin_start": 1200,
                        "bin_end": 1435,
                        "count": 1
                      },
                      {
                        "bin_start": 1435,
                        "bin_end": 1670,
                        "count": 1
                      },
                      {
                        "bin_start": 1670,
                        "bin_end": 1905,
                        "count": 1
                      },
                      {
                        "bin_start": 1905,
                        "bin_end": 2140,
                        "count": 1
                      },
                      {
                        "bin_start": 2140,
                        "bin_end": 2375,
                        "count": 0
                      },
                      {
                        "bin_start": 2375,
                        "bin_end": 2610,
                        "count": 0
                      },
                      {
                        "bin_start": 2610,
                        "bin_end": 2845,
                        "count": 0
                      },
                      {
                        "bin_start": 2845,
                        "bin_end": 3080,
                        "count": 0
                      },
                      {
                        "bin_start": 3080,
                        "bin_end": 3315,
                        "count": 0
                      },
                      {
                        "bin_start": 3315,
                        "bin_end": 3550,
                        "count": 1
                      }
                    ]
                  }
                },
                {
                  "name": "moisturizer",
                  "dtype": "int64",
                  "stats": {
                    "unique_count": 5,
                    "nan_count": 0,
                    "min": 1130,
                    "max": 1740,
                    "histogram": [
                      {
                        "bin_start": 1130,
                        "bin_end": 1191,
                        "count": 1
                      },
                      {
                        "bin_start": 1191,
                        "bin_end": 1252,
                        "count": 1
                      },
                      {
                        "bin_start": 1252,
                        "bin_end": 1313,
                        "count": 0
                      },
                      {
                        "bin_start": 1313,
                        "bin_end": 1374,
                        "count": 1
                      },
                      {
                        "bin_start": 1374,
                        "bin_end": 1435,
                        "count": 0
                      },
                      {
                        "bin_start": 1435,
                        "bin_end": 1496,
                        "count": 0
                      },
                      {
                        "bin_start": 1496,
                        "bin_end": 1557,
                        "count": 1
                      },
                      {
                        "bin_start": 1557,
                        "bin_end": 1618,
                        "count": 0
                      },
                      {
                        "bin_start": 1618,
                        "bin_end": 1679,
                        "count": 0
                      },
                      {
                        "bin_start": 1679,
                        "bin_end": 1740,
                        "count": 1
                      }
                    ]
                  }
                },
                {
                  "name": "total_units",
                  "dtype": "int64",
                  "stats": {
                    "unique_count": 5,
                    "nan_count": 0,
                    "min": 18330,
                    "max": 22470,
                    "histogram": [
                      {
                        "bin_start": 18330,
                        "bin_end": 18744,
                        "count": 1
                      },
                      {
                        "bin_start": 18744,
                        "bin_end": 19158,
                        "count": 0
                      },
                      {
                        "bin_start": 19158,
                        "bin_end": 19572,
                        "count": 0
                      },
                      {
                        "bin_start": 19572,
                        "bin_end": 19986,
                        "count": 0
                      },
                      {
                        "bin_start": 19986,
                        "bin_end": 20400,
                        "count": 0
                      },
                      {
                        "bin_start": 20400,
                        "bin_end": 20814,
                        "count": 0
                      },
                      {
                        "bin_start": 20814,
                        "bin_end": 21228,
                        "count": 2
                      },
                      {
                        "bin_start": 21228,
                        "bin_end": 21642,
                        "count": 0
                      },
                      {
                        "bin_start": 21642,
                        "bin_end": 22056,
                        "count": 0
                      },
                      {
                        "bin_start": 22056,
                        "bin_end": 22470,
                        "count": 2
                      }
                    ]
                  }
                },
                {
                  "name": "total_profit",
                  "dtype": "int64",
                  "stats": {
                    "unique_count": 5,
                    "nan_count": 0,
                    "min": 183300,
                    "max": 224700,
                    "histogram": [
                      {
                        "bin_start": 183300,
                        "bin_end": 187440,
                        "count": 1
                      },
                      {
                        "bin_start": 187440,
                        "bin_end": 191580,
                        "count": 0
                      },
                      {
                        "bin_start": 191580,
                        "bin_end": 195720,
                        "count": 0
                      },
                      {
                        "bin_start": 195720,
                        "bin_end": 199860,
                        "count": 0
                      },
                      {
                        "bin_start": 199860,
                        "bin_end": 204000,
                        "count": 0
                      },
                      {
                        "bin_start": 204000,
                        "bin_end": 208140,
                        "count": 0
                      },
                      {
                        "bin_start": 208140,
                        "bin_end": 212280,
                        "count": 2
                      },
                      {
                        "bin_start": 212280,
                        "bin_end": 216420,
                        "count": 0
                      },
                      {
                        "bin_start": 216420,
                        "bin_end": 220560,
                        "count": 0
                      },
                      {
                        "bin_start": 220560,
                        "bin_end": 224700,
                        "count": 2
                      }
                    ]
                  }
                },
                {
                  "name": "_deepnote_index_column",
                  "dtype": "int64"
                }
              ],
              "rows_top": [
                {
                  "month_number": 1,
                  "facecream": 2500,
                  "facewash": 1500,
                  "toothpaste": 5200,
                  "bathingsoap": 9200,
                  "shampoo": 1200,
                  "moisturizer": 1500,
                  "total_units": 21100,
                  "total_profit": 211000,
                  "_deepnote_index_column": 0
                },
                {
                  "month_number": 2,
                  "facecream": 2630,
                  "facewash": 1200,
                  "toothpaste": 5100,
                  "bathingsoap": 6100,
                  "shampoo": 2100,
                  "moisturizer": 1200,
                  "total_units": 18330,
                  "total_profit": 183300,
                  "_deepnote_index_column": 1
                },
                {
                  "month_number": 3,
                  "facecream": 2140,
                  "facewash": 1340,
                  "toothpaste": 4550,
                  "bathingsoap": 9550,
                  "shampoo": 3550,
                  "moisturizer": 1340,
                  "total_units": 22470,
                  "total_profit": 224700,
                  "_deepnote_index_column": 2
                },
                {
                  "month_number": 4,
                  "facecream": 3400,
                  "facewash": 1130,
                  "toothpaste": 5870,
                  "bathingsoap": 8870,
                  "shampoo": 1870,
                  "moisturizer": 1130,
                  "total_units": 22270,
                  "total_profit": 222700,
                  "_deepnote_index_column": 3
                },
                {
                  "month_number": 5,
                  "facecream": 3600,
                  "facewash": 1740,
                  "toothpaste": 4560,
                  "bathingsoap": 7760,
                  "shampoo": 1560,
                  "moisturizer": 1740,
                  "total_units": 20960,
                  "total_profit": 209600,
                  "_deepnote_index_column": 4
                }
              ],
              "rows_bottom": null
            },
            "text/plain": "   month_number  facecream  facewash  toothpaste  bathingsoap  shampoo  \\\n0             1       2500      1500        5200         9200     1200   \n1             2       2630      1200        5100         6100     2100   \n2             3       2140      1340        4550         9550     3550   \n3             4       3400      1130        5870         8870     1870   \n4             5       3600      1740        4560         7760     1560   \n\n   moisturizer  total_units  total_profit  \n0         1500        21100        211000  \n1         1200        18330        183300  \n2         1340        22470        224700  \n3         1130        22270        222700  \n4         1740        20960        209600  ",
            "text/html": "<div>\n<style scoped>\n    .dataframe tbody tr th:only-of-type {\n        vertical-align: middle;\n    }\n\n    .dataframe tbody tr th {\n        vertical-align: top;\n    }\n\n    .dataframe thead th {\n        text-align: right;\n    }\n</style>\n<table border=\"1\" class=\"dataframe\">\n  <thead>\n    <tr style=\"text-align: right;\">\n      <th></th>\n      <th>month_number</th>\n      <th>facecream</th>\n      <th>facewash</th>\n      <th>toothpaste</th>\n      <th>bathingsoap</th>\n      <th>shampoo</th>\n      <th>moisturizer</th>\n      <th>total_units</th>\n      <th>total_profit</th>\n    </tr>\n  </thead>\n  <tbody>\n    <tr>\n      <th>0</th>\n      <td>1</td>\n      <td>2500</td>\n      <td>1500</td>\n      <td>5200</td>\n      <td>9200</td>\n      <td>1200</td>\n      <td>1500</td>\n      <td>21100</td>\n      <td>211000</td>\n    </tr>\n    <tr>\n      <th>1</th>\n      <td>2</td>\n      <td>2630</td>\n      <td>1200</td>\n      <td>5100</td>\n      <td>6100</td>\n      <td>2100</td>\n      <td>1200</td>\n      <td>18330</td>\n      <td>183300</td>\n    </tr>\n    <tr>\n      <th>2</th>\n      <td>3</td>\n      <td>2140</td>\n      <td>1340</td>\n      <td>4550</td>\n      <td>9550</td>\n      <td>3550</td>\n      <td>1340</td>\n      <td>22470</td>\n      <td>224700</td>\n    </tr>\n    <tr>\n      <th>3</th>\n      <td>4</td>\n      <td>3400</td>\n      <td>1130</td>\n      <td>5870</td>\n      <td>8870</td>\n      <td>1870</td>\n      <td>1130</td>\n      <td>22270</td>\n      <td>222700</td>\n    </tr>\n    <tr>\n      <th>4</th>\n      <td>5</td>\n      <td>3600</td>\n      <td>1740</td>\n      <td>4560</td>\n      <td>7760</td>\n      <td>1560</td>\n      <td>1740</td>\n      <td>20960</td>\n      <td>209600</td>\n    </tr>\n  </tbody>\n</table>\n</div>"
          },
          "metadata": {}
        }
      ],
      "execution_count": 105
    },
    {
      "cell_type": "markdown",
      "source": "![Picture title](image-20210326-143529.png)",
      "metadata": {
        "tags": [],
        "cell_id": "00035-84968cdb-649e-488d-9704-430b646680e9",
        "deepnote_cell_type": "markdown"
      }
    },
    {
      "cell_type": "markdown",
      "source": "### Exercise 9: Read the Bathing soap facewash of all months and display it using the Subplot.\nThe Subplot should look like this:\n![image.png](attachment:image.png)",
      "metadata": {
        "cell_id": "00020-f3b2e052-3431-4836-8f47-880873eed64e",
        "deepnote_cell_type": "markdown"
      }
    },
    {
      "cell_type": "code",
      "metadata": {
        "cell_id": "00021-b62af59a-a816-46b1-bf88-1efbccf1245a",
        "deepnote_to_be_reexecuted": true,
        "source_hash": "2123feef",
        "execution_millis": 3,
        "deepnote_cell_type": "code"
      },
      "source": "# Write your code here\n\n\n",
      "outputs": [],
      "execution_count": null
    },
    {
      "cell_type": "code",
      "source": "",
      "metadata": {
        "tags": [],
        "cell_id": "00038-a3088ab8-c924-438e-8786-d915fe7f390f",
        "deepnote_cell_type": "code"
      },
      "outputs": [],
      "execution_count": null
    },
    {
      "cell_type": "markdown",
      "source": "![Picture title](image-20210326-143638.png)",
      "metadata": {
        "tags": [],
        "cell_id": "00039-d612349e-16d8-48f3-937d-465f375cdf70",
        "deepnote_cell_type": "markdown"
      }
    },
    {
      "cell_type": "markdown",
      "source": "### Exercise 10: Read all product sales data and show it using the stack plot.\nThe Stack plot should look like this:\n![image.png](attachment:image.png)",
      "metadata": {
        "cell_id": "00022-8397607d-5682-45f9-9dbb-c2010ae09ad8",
        "deepnote_cell_type": "markdown"
      }
    },
    {
      "cell_type": "code",
      "metadata": {
        "cell_id": "00023-861e14c4-0841-43fc-abb9-237852c5e981",
        "deepnote_to_be_reexecuted": true,
        "source_hash": "41313cfa",
        "execution_millis": 37,
        "deepnote_cell_type": "code"
      },
      "source": "data.head()",
      "outputs": [
        {
          "output_type": "execute_result",
          "execution_count": 14,
          "data": {
            "application/vnd.deepnote.dataframe.v2+json": {
              "row_count": 5,
              "column_count": 9,
              "columns": [
                {
                  "name": "month_number",
                  "dtype": "int64",
                  "stats": {
                    "unique_count": 5,
                    "nan_count": 0,
                    "min": 1,
                    "max": 5,
                    "histogram": [
                      {
                        "bin_start": 1,
                        "bin_end": 1.4,
                        "count": 1
                      },
                      {
                        "bin_start": 1.4,
                        "bin_end": 1.8,
                        "count": 0
                      },
                      {
                        "bin_start": 1.8,
                        "bin_end": 2.2,
                        "count": 1
                      },
                      {
                        "bin_start": 2.2,
                        "bin_end": 2.6,
                        "count": 0
                      },
                      {
                        "bin_start": 2.6,
                        "bin_end": 3,
                        "count": 0
                      },
                      {
                        "bin_start": 3,
                        "bin_end": 3.4000000000000004,
                        "count": 1
                      },
                      {
                        "bin_start": 3.4000000000000004,
                        "bin_end": 3.8000000000000003,
                        "count": 0
                      },
                      {
                        "bin_start": 3.8000000000000003,
                        "bin_end": 4.2,
                        "count": 1
                      },
                      {
                        "bin_start": 4.2,
                        "bin_end": 4.6,
                        "count": 0
                      },
                      {
                        "bin_start": 4.6,
                        "bin_end": 5,
                        "count": 1
                      }
                    ]
                  }
                },
                {
                  "name": "facecream",
                  "dtype": "int64",
                  "stats": {
                    "unique_count": 5,
                    "nan_count": 0,
                    "min": 2140,
                    "max": 3600,
                    "histogram": [
                      {
                        "bin_start": 2140,
                        "bin_end": 2286,
                        "count": 1
                      },
                      {
                        "bin_start": 2286,
                        "bin_end": 2432,
                        "count": 0
                      },
                      {
                        "bin_start": 2432,
                        "bin_end": 2578,
                        "count": 1
                      },
                      {
                        "bin_start": 2578,
                        "bin_end": 2724,
                        "count": 1
                      },
                      {
                        "bin_start": 2724,
                        "bin_end": 2870,
                        "count": 0
                      },
                      {
                        "bin_start": 2870,
                        "bin_end": 3016,
                        "count": 0
                      },
                      {
                        "bin_start": 3016,
                        "bin_end": 3162,
                        "count": 0
                      },
                      {
                        "bin_start": 3162,
                        "bin_end": 3308,
                        "count": 0
                      },
                      {
                        "bin_start": 3308,
                        "bin_end": 3454,
                        "count": 1
                      },
                      {
                        "bin_start": 3454,
                        "bin_end": 3600,
                        "count": 1
                      }
                    ]
                  }
                },
                {
                  "name": "facewash",
                  "dtype": "int64",
                  "stats": {
                    "unique_count": 5,
                    "nan_count": 0,
                    "min": 1130,
                    "max": 1740,
                    "histogram": [
                      {
                        "bin_start": 1130,
                        "bin_end": 1191,
                        "count": 1
                      },
                      {
                        "bin_start": 1191,
                        "bin_end": 1252,
                        "count": 1
                      },
                      {
                        "bin_start": 1252,
                        "bin_end": 1313,
                        "count": 0
                      },
                      {
                        "bin_start": 1313,
                        "bin_end": 1374,
                        "count": 1
                      },
                      {
                        "bin_start": 1374,
                        "bin_end": 1435,
                        "count": 0
                      },
                      {
                        "bin_start": 1435,
                        "bin_end": 1496,
                        "count": 0
                      },
                      {
                        "bin_start": 1496,
                        "bin_end": 1557,
                        "count": 1
                      },
                      {
                        "bin_start": 1557,
                        "bin_end": 1618,
                        "count": 0
                      },
                      {
                        "bin_start": 1618,
                        "bin_end": 1679,
                        "count": 0
                      },
                      {
                        "bin_start": 1679,
                        "bin_end": 1740,
                        "count": 1
                      }
                    ]
                  }
                },
                {
                  "name": "toothpaste",
                  "dtype": "int64",
                  "stats": {
                    "unique_count": 5,
                    "nan_count": 0,
                    "min": 4550,
                    "max": 5870,
                    "histogram": [
                      {
                        "bin_start": 4550,
                        "bin_end": 4682,
                        "count": 2
                      },
                      {
                        "bin_start": 4682,
                        "bin_end": 4814,
                        "count": 0
                      },
                      {
                        "bin_start": 4814,
                        "bin_end": 4946,
                        "count": 0
                      },
                      {
                        "bin_start": 4946,
                        "bin_end": 5078,
                        "count": 0
                      },
                      {
                        "bin_start": 5078,
                        "bin_end": 5210,
                        "count": 2
                      },
                      {
                        "bin_start": 5210,
                        "bin_end": 5342,
                        "count": 0
                      },
                      {
                        "bin_start": 5342,
                        "bin_end": 5474,
                        "count": 0
                      },
                      {
                        "bin_start": 5474,
                        "bin_end": 5606,
                        "count": 0
                      },
                      {
                        "bin_start": 5606,
                        "bin_end": 5738,
                        "count": 0
                      },
                      {
                        "bin_start": 5738,
                        "bin_end": 5870,
                        "count": 1
                      }
                    ]
                  }
                },
                {
                  "name": "bathingsoap",
                  "dtype": "int64",
                  "stats": {
                    "unique_count": 5,
                    "nan_count": 0,
                    "min": 6100,
                    "max": 9550,
                    "histogram": [
                      {
                        "bin_start": 6100,
                        "bin_end": 6445,
                        "count": 1
                      },
                      {
                        "bin_start": 6445,
                        "bin_end": 6790,
                        "count": 0
                      },
                      {
                        "bin_start": 6790,
                        "bin_end": 7135,
                        "count": 0
                      },
                      {
                        "bin_start": 7135,
                        "bin_end": 7480,
                        "count": 0
                      },
                      {
                        "bin_start": 7480,
                        "bin_end": 7825,
                        "count": 1
                      },
                      {
                        "bin_start": 7825,
                        "bin_end": 8170,
                        "count": 0
                      },
                      {
                        "bin_start": 8170,
                        "bin_end": 8515,
                        "count": 0
                      },
                      {
                        "bin_start": 8515,
                        "bin_end": 8860,
                        "count": 0
                      },
                      {
                        "bin_start": 8860,
                        "bin_end": 9205,
                        "count": 2
                      },
                      {
                        "bin_start": 9205,
                        "bin_end": 9550,
                        "count": 1
                      }
                    ]
                  }
                },
                {
                  "name": "shampoo",
                  "dtype": "int64",
                  "stats": {
                    "unique_count": 5,
                    "nan_count": 0,
                    "min": 1200,
                    "max": 3550,
                    "histogram": [
                      {
                        "bin_start": 1200,
                        "bin_end": 1435,
                        "count": 1
                      },
                      {
                        "bin_start": 1435,
                        "bin_end": 1670,
                        "count": 1
                      },
                      {
                        "bin_start": 1670,
                        "bin_end": 1905,
                        "count": 1
                      },
                      {
                        "bin_start": 1905,
                        "bin_end": 2140,
                        "count": 1
                      },
                      {
                        "bin_start": 2140,
                        "bin_end": 2375,
                        "count": 0
                      },
                      {
                        "bin_start": 2375,
                        "bin_end": 2610,
                        "count": 0
                      },
                      {
                        "bin_start": 2610,
                        "bin_end": 2845,
                        "count": 0
                      },
                      {
                        "bin_start": 2845,
                        "bin_end": 3080,
                        "count": 0
                      },
                      {
                        "bin_start": 3080,
                        "bin_end": 3315,
                        "count": 0
                      },
                      {
                        "bin_start": 3315,
                        "bin_end": 3550,
                        "count": 1
                      }
                    ]
                  }
                },
                {
                  "name": "moisturizer",
                  "dtype": "int64",
                  "stats": {
                    "unique_count": 5,
                    "nan_count": 0,
                    "min": 1130,
                    "max": 1740,
                    "histogram": [
                      {
                        "bin_start": 1130,
                        "bin_end": 1191,
                        "count": 1
                      },
                      {
                        "bin_start": 1191,
                        "bin_end": 1252,
                        "count": 1
                      },
                      {
                        "bin_start": 1252,
                        "bin_end": 1313,
                        "count": 0
                      },
                      {
                        "bin_start": 1313,
                        "bin_end": 1374,
                        "count": 1
                      },
                      {
                        "bin_start": 1374,
                        "bin_end": 1435,
                        "count": 0
                      },
                      {
                        "bin_start": 1435,
                        "bin_end": 1496,
                        "count": 0
                      },
                      {
                        "bin_start": 1496,
                        "bin_end": 1557,
                        "count": 1
                      },
                      {
                        "bin_start": 1557,
                        "bin_end": 1618,
                        "count": 0
                      },
                      {
                        "bin_start": 1618,
                        "bin_end": 1679,
                        "count": 0
                      },
                      {
                        "bin_start": 1679,
                        "bin_end": 1740,
                        "count": 1
                      }
                    ]
                  }
                },
                {
                  "name": "total_units",
                  "dtype": "int64",
                  "stats": {
                    "unique_count": 5,
                    "nan_count": 0,
                    "min": 18330,
                    "max": 22470,
                    "histogram": [
                      {
                        "bin_start": 18330,
                        "bin_end": 18744,
                        "count": 1
                      },
                      {
                        "bin_start": 18744,
                        "bin_end": 19158,
                        "count": 0
                      },
                      {
                        "bin_start": 19158,
                        "bin_end": 19572,
                        "count": 0
                      },
                      {
                        "bin_start": 19572,
                        "bin_end": 19986,
                        "count": 0
                      },
                      {
                        "bin_start": 19986,
                        "bin_end": 20400,
                        "count": 0
                      },
                      {
                        "bin_start": 20400,
                        "bin_end": 20814,
                        "count": 0
                      },
                      {
                        "bin_start": 20814,
                        "bin_end": 21228,
                        "count": 2
                      },
                      {
                        "bin_start": 21228,
                        "bin_end": 21642,
                        "count": 0
                      },
                      {
                        "bin_start": 21642,
                        "bin_end": 22056,
                        "count": 0
                      },
                      {
                        "bin_start": 22056,
                        "bin_end": 22470,
                        "count": 2
                      }
                    ]
                  }
                },
                {
                  "name": "total_profit",
                  "dtype": "int64",
                  "stats": {
                    "unique_count": 5,
                    "nan_count": 0,
                    "min": 183300,
                    "max": 224700,
                    "histogram": [
                      {
                        "bin_start": 183300,
                        "bin_end": 187440,
                        "count": 1
                      },
                      {
                        "bin_start": 187440,
                        "bin_end": 191580,
                        "count": 0
                      },
                      {
                        "bin_start": 191580,
                        "bin_end": 195720,
                        "count": 0
                      },
                      {
                        "bin_start": 195720,
                        "bin_end": 199860,
                        "count": 0
                      },
                      {
                        "bin_start": 199860,
                        "bin_end": 204000,
                        "count": 0
                      },
                      {
                        "bin_start": 204000,
                        "bin_end": 208140,
                        "count": 0
                      },
                      {
                        "bin_start": 208140,
                        "bin_end": 212280,
                        "count": 2
                      },
                      {
                        "bin_start": 212280,
                        "bin_end": 216420,
                        "count": 0
                      },
                      {
                        "bin_start": 216420,
                        "bin_end": 220560,
                        "count": 0
                      },
                      {
                        "bin_start": 220560,
                        "bin_end": 224700,
                        "count": 2
                      }
                    ]
                  }
                },
                {
                  "name": "_deepnote_index_column",
                  "dtype": "int64"
                }
              ],
              "rows_top": [
                {
                  "month_number": 1,
                  "facecream": 2500,
                  "facewash": 1500,
                  "toothpaste": 5200,
                  "bathingsoap": 9200,
                  "shampoo": 1200,
                  "moisturizer": 1500,
                  "total_units": 21100,
                  "total_profit": 211000,
                  "_deepnote_index_column": 0
                },
                {
                  "month_number": 2,
                  "facecream": 2630,
                  "facewash": 1200,
                  "toothpaste": 5100,
                  "bathingsoap": 6100,
                  "shampoo": 2100,
                  "moisturizer": 1200,
                  "total_units": 18330,
                  "total_profit": 183300,
                  "_deepnote_index_column": 1
                },
                {
                  "month_number": 3,
                  "facecream": 2140,
                  "facewash": 1340,
                  "toothpaste": 4550,
                  "bathingsoap": 9550,
                  "shampoo": 3550,
                  "moisturizer": 1340,
                  "total_units": 22470,
                  "total_profit": 224700,
                  "_deepnote_index_column": 2
                },
                {
                  "month_number": 4,
                  "facecream": 3400,
                  "facewash": 1130,
                  "toothpaste": 5870,
                  "bathingsoap": 8870,
                  "shampoo": 1870,
                  "moisturizer": 1130,
                  "total_units": 22270,
                  "total_profit": 222700,
                  "_deepnote_index_column": 3
                },
                {
                  "month_number": 5,
                  "facecream": 3600,
                  "facewash": 1740,
                  "toothpaste": 4560,
                  "bathingsoap": 7760,
                  "shampoo": 1560,
                  "moisturizer": 1740,
                  "total_units": 20960,
                  "total_profit": 209600,
                  "_deepnote_index_column": 4
                }
              ],
              "rows_bottom": null
            },
            "text/plain": "   month_number  facecream  facewash  toothpaste  bathingsoap  shampoo  \\\n0             1       2500      1500        5200         9200     1200   \n1             2       2630      1200        5100         6100     2100   \n2             3       2140      1340        4550         9550     3550   \n3             4       3400      1130        5870         8870     1870   \n4             5       3600      1740        4560         7760     1560   \n\n   moisturizer  total_units  total_profit  \n0         1500        21100        211000  \n1         1200        18330        183300  \n2         1340        22470        224700  \n3         1130        22270        222700  \n4         1740        20960        209600  ",
            "text/html": "<div>\n<style scoped>\n    .dataframe tbody tr th:only-of-type {\n        vertical-align: middle;\n    }\n\n    .dataframe tbody tr th {\n        vertical-align: top;\n    }\n\n    .dataframe thead th {\n        text-align: right;\n    }\n</style>\n<table border=\"1\" class=\"dataframe\">\n  <thead>\n    <tr style=\"text-align: right;\">\n      <th></th>\n      <th>month_number</th>\n      <th>facecream</th>\n      <th>facewash</th>\n      <th>toothpaste</th>\n      <th>bathingsoap</th>\n      <th>shampoo</th>\n      <th>moisturizer</th>\n      <th>total_units</th>\n      <th>total_profit</th>\n    </tr>\n  </thead>\n  <tbody>\n    <tr>\n      <th>0</th>\n      <td>1</td>\n      <td>2500</td>\n      <td>1500</td>\n      <td>5200</td>\n      <td>9200</td>\n      <td>1200</td>\n      <td>1500</td>\n      <td>21100</td>\n      <td>211000</td>\n    </tr>\n    <tr>\n      <th>1</th>\n      <td>2</td>\n      <td>2630</td>\n      <td>1200</td>\n      <td>5100</td>\n      <td>6100</td>\n      <td>2100</td>\n      <td>1200</td>\n      <td>18330</td>\n      <td>183300</td>\n    </tr>\n    <tr>\n      <th>2</th>\n      <td>3</td>\n      <td>2140</td>\n      <td>1340</td>\n      <td>4550</td>\n      <td>9550</td>\n      <td>3550</td>\n      <td>1340</td>\n      <td>22470</td>\n      <td>224700</td>\n    </tr>\n    <tr>\n      <th>3</th>\n      <td>4</td>\n      <td>3400</td>\n      <td>1130</td>\n      <td>5870</td>\n      <td>8870</td>\n      <td>1870</td>\n      <td>1130</td>\n      <td>22270</td>\n      <td>222700</td>\n    </tr>\n    <tr>\n      <th>4</th>\n      <td>5</td>\n      <td>3600</td>\n      <td>1740</td>\n      <td>4560</td>\n      <td>7760</td>\n      <td>1560</td>\n      <td>1740</td>\n      <td>20960</td>\n      <td>209600</td>\n    </tr>\n  </tbody>\n</table>\n</div>"
          },
          "metadata": {}
        }
      ],
      "execution_count": null
    },
    {
      "cell_type": "code",
      "metadata": {
        "cell_id": "00024-682e0cd0-90c2-4942-aa49-48ca867c32b0",
        "deepnote_to_be_reexecuted": true,
        "source_hash": "37ac728b",
        "execution_millis": 0,
        "deepnote_cell_type": "code"
      },
      "source": "# Write your code here\n\n",
      "outputs": [],
      "execution_count": null
    },
    {
      "cell_type": "code",
      "metadata": {
        "cell_id": "00025-90dec3ef-bd54-4088-b8f2-b26e4a7884c4",
        "deepnote_to_be_reexecuted": true,
        "source_hash": "b623e53d",
        "execution_millis": 2,
        "deepnote_cell_type": "code"
      },
      "source": "",
      "outputs": [],
      "execution_count": null
    },
    {
      "cell_type": "markdown",
      "source": "![Picture title](image-20210326-143619.png)",
      "metadata": {
        "tags": [],
        "cell_id": "00045-88c367e0-f842-4ae5-a3f7-ab77822402cd",
        "deepnote_cell_type": "markdown"
      }
    },
    {
      "cell_type": "markdown",
      "source": "<a style='text-decoration:none;line-height:16px;display:flex;color:#5B5B62;padding:10px;justify-content:end;' href='https://deepnote.com?utm_source=created-in-deepnote-cell&projectId=b93d1fa0-2632-4298-a2b8-d04dd02c8e69' target=\"_blank\">\n<img style='display:inline;max-height:16px;margin:0px;margin-right:7.5px;' src='data:image/svg+xml;base64,PD94bWwgdmVyc2lvbj0iMS4wIiBlbmNvZGluZz0iVVRGLTgiPz4KPHN2ZyB3aWR0aD0iODBweCIgaGVpZ2h0PSI4MHB4IiB2aWV3Qm94PSIwIDAgODAgODAiIHZlcnNpb249IjEuMSIgeG1sbnM9Imh0dHA6Ly93d3cudzMub3JnLzIwMDAvc3ZnIiB4bWxuczp4bGluaz0iaHR0cDovL3d3dy53My5vcmcvMTk5OS94bGluayI+CiAgICA8IS0tIEdlbmVyYXRvcjogU2tldGNoIDU0LjEgKDc2NDkwKSAtIGh0dHBzOi8vc2tldGNoYXBwLmNvbSAtLT4KICAgIDx0aXRsZT5Hcm91cCAzPC90aXRsZT4KICAgIDxkZXNjPkNyZWF0ZWQgd2l0aCBTa2V0Y2guPC9kZXNjPgogICAgPGcgaWQ9IkxhbmRpbmciIHN0cm9rZT0ibm9uZSIgc3Ryb2tlLXdpZHRoPSIxIiBmaWxsPSJub25lIiBmaWxsLXJ1bGU9ImV2ZW5vZGQiPgogICAgICAgIDxnIGlkPSJBcnRib2FyZCIgdHJhbnNmb3JtPSJ0cmFuc2xhdGUoLTEyMzUuMDAwMDAwLCAtNzkuMDAwMDAwKSI+CiAgICAgICAgICAgIDxnIGlkPSJHcm91cC0zIiB0cmFuc2Zvcm09InRyYW5zbGF0ZSgxMjM1LjAwMDAwMCwgNzkuMDAwMDAwKSI+CiAgICAgICAgICAgICAgICA8cG9seWdvbiBpZD0iUGF0aC0yMCIgZmlsbD0iIzAyNjVCNCIgcG9pbnRzPSIyLjM3NjIzNzYyIDgwIDM4LjA0NzY2NjcgODAgNTcuODIxNzgyMiA3My44MDU3NTkyIDU3LjgyMTc4MjIgMzIuNzU5MjczOSAzOS4xNDAyMjc4IDMxLjY4MzE2ODMiPjwvcG9seWdvbj4KICAgICAgICAgICAgICAgIDxwYXRoIGQ9Ik0zNS4wMDc3MTgsODAgQzQyLjkwNjIwMDcsNzYuNDU0OTM1OCA0Ny41NjQ5MTY3LDcxLjU0MjI2NzEgNDguOTgzODY2LDY1LjI2MTk5MzkgQzUxLjExMjI4OTksNTUuODQxNTg0MiA0MS42NzcxNzk1LDQ5LjIxMjIyODQgMjUuNjIzOTg0Niw0OS4yMTIyMjg0IEMyNS40ODQ5Mjg5LDQ5LjEyNjg0NDggMjkuODI2MTI5Niw0My4yODM4MjQ4IDM4LjY0NzU4NjksMzEuNjgzMTY4MyBMNzIuODcxMjg3MSwzMi41NTQ0MjUgTDY1LjI4MDk3Myw2Ny42NzYzNDIxIEw1MS4xMTIyODk5LDc3LjM3NjE0NCBMMzUuMDA3NzE4LDgwIFoiIGlkPSJQYXRoLTIyIiBmaWxsPSIjMDAyODY4Ij48L3BhdGg+CiAgICAgICAgICAgICAgICA8cGF0aCBkPSJNMCwzNy43MzA0NDA1IEwyNy4xMTQ1MzcsMC4yNTcxMTE0MzYgQzYyLjM3MTUxMjMsLTEuOTkwNzE3MDEgODAsMTAuNTAwMzkyNyA4MCwzNy43MzA0NDA1IEM4MCw2NC45NjA0ODgyIDY0Ljc3NjUwMzgsNzkuMDUwMzQxNCAzNC4zMjk1MTEzLDgwIEM0Ny4wNTUzNDg5LDc3LjU2NzA4MDggNTMuNDE4MjY3Nyw3MC4zMTM2MTAzIDUzLjQxODI2NzcsNTguMjM5NTg4NSBDNTMuNDE4MjY3Nyw0MC4xMjg1NTU3IDM2LjMwMzk1NDQsMzcuNzMwNDQwNSAyNS4yMjc0MTcsMzcuNzMwNDQwNSBDMTcuODQzMDU4NiwzNy43MzA0NDA1IDkuNDMzOTE5NjYsMzcuNzMwNDQwNSAwLDM3LjczMDQ0MDUgWiIgaWQ9IlBhdGgtMTkiIGZpbGw9IiMzNzkzRUYiPjwvcGF0aD4KICAgICAgICAgICAgPC9nPgogICAgICAgIDwvZz4KICAgIDwvZz4KPC9zdmc+' > </img>\nCreated in <span style='font-weight:600;margin-left:4px;'>Deepnote</span></a>",
      "metadata": {
        "tags": [],
        "created_in_deepnote_cell": true,
        "deepnote_cell_type": "markdown"
      }
    }
  ],
  "nbformat": 4,
  "nbformat_minor": 2,
  "metadata": {
    "kernelspec": {
      "display_name": "Python 3",
      "language": "python",
      "name": "python3"
    },
    "language_info": {
      "codemirror_mode": {
        "name": "ipython",
        "version": 3
      },
      "file_extension": ".py",
      "mimetype": "text/x-python",
      "name": "python",
      "nbconvert_exporter": "python",
      "pygments_lexer": "ipython3",
      "version": "3.9.1"
    },
    "varInspector": {
      "cols": {
        "lenName": 16,
        "lenType": 16,
        "lenVar": 40
      },
      "kernels_config": {
        "python": {
          "delete_cmd_postfix": "",
          "delete_cmd_prefix": "del ",
          "library": "var_list.py",
          "varRefreshCmd": "print(var_dic_list())"
        },
        "r": {
          "delete_cmd_postfix": ") ",
          "delete_cmd_prefix": "rm(",
          "library": "var_list.r",
          "varRefreshCmd": "cat(var_dic_list()) "
        }
      },
      "types_to_exclude": [
        "module",
        "function",
        "builtin_function_or_method",
        "instance",
        "_Feature"
      ],
      "window_display": false
    },
    "deepnote_notebook_id": "5beb1cee-d7a8-4f03-9b9a-ed6930a2e365",
    "deepnote": {},
    "deepnote_execution_queue": []
  }
}