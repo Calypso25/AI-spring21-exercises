{
 "cells": [
  {
   "cell_type": "code",
   "execution_count": 14,
   "id": "common-daisy",
   "metadata": {},
   "outputs": [],
   "source": [
    "# Install torch and torchvision on your computer\n",
    "# It's convenient to create a virtual env for that"
   ]
  },
  {
   "cell_type": "code",
   "execution_count": 15,
   "id": "romance-document",
   "metadata": {
    "ExecuteTime": {
     "end_time": "2021-05-26T05:44:46.718547Z",
     "start_time": "2021-05-26T05:44:44.015035Z"
    }
   },
   "outputs": [],
   "source": [
    "import torch\n",
    "import torch.nn as nn\n",
    "import numpy as np"
   ]
  },
  {
   "cell_type": "code",
   "execution_count": 16,
   "id": "younger-champagne",
   "metadata": {
    "ExecuteTime": {
     "end_time": "2021-05-26T05:55:09.345568Z",
     "start_time": "2021-05-26T05:55:09.326608Z"
    }
   },
   "outputs": [
    {
     "output_type": "execute_result",
     "data": {
      "text/plain": [
       "<torch._C.Generator at 0x251ecffa9f0>"
      ]
     },
     "metadata": {},
     "execution_count": 16
    }
   ],
   "source": [
    "# set the torch manual seed to 42\n",
    "torch.manual_seed(42)"
   ]
  },
  {
   "cell_type": "code",
   "execution_count": 17,
   "id": "informative-hammer",
   "metadata": {
    "ExecuteTime": {
     "end_time": "2021-05-26T05:53:21.990528Z",
     "start_time": "2021-05-26T05:53:21.982001Z"
    }
   },
   "outputs": [
    {
     "output_type": "stream",
     "name": "stdout",
     "text": [
      "tensor([-0.3278,  0.7950,  0.2815,  0.0562,  0.5227])\n"
     ]
    }
   ],
   "source": [
    "# Create a tensor of shape (5,) and store in the features variable\n",
    "features = 0\n",
    "features = torch.tensor([-0.3278,  0.7950,  0.2815,  0.0562,  0.5227])\n",
    "print(features)"
   ]
  },
  {
   "cell_type": "code",
   "execution_count": 18,
   "id": "piano-breach",
   "metadata": {
    "ExecuteTime": {
     "end_time": "2021-05-26T05:53:21.843474Z",
     "start_time": "2021-05-26T05:53:21.840266Z"
    }
   },
   "outputs": [
    {
     "output_type": "stream",
     "name": "stdout",
     "text": [
      "tensor([0.8823, 0.9150, 0.3829, 0.9593, 0.3904])\n"
     ]
    }
   ],
   "source": [
    "# Generate a tensor called weights with the same shape of features\n",
    "# Hint: search torch.rand_like\n",
    "weights = 0\n",
    "weights = torch.rand_like(features)\n",
    "print(weights)"
   ]
  },
  {
   "cell_type": "code",
   "execution_count": 19,
   "id": "offensive-interpretation",
   "metadata": {
    "ExecuteTime": {
     "end_time": "2021-05-26T06:03:23.249934Z",
     "start_time": "2021-05-26T06:03:23.232413Z"
    }
   },
   "outputs": [],
   "source": [
    "assert weights.shape == features.shape"
   ]
  },
  {
   "cell_type": "code",
   "execution_count": 20,
   "id": "neither-sample",
   "metadata": {
    "ExecuteTime": {
     "end_time": "2021-05-26T05:53:22.262490Z",
     "start_time": "2021-05-26T05:53:22.256392Z"
    }
   },
   "outputs": [
    {
     "output_type": "execute_result",
     "data": {
      "text/plain": [
       "tensor([0.8823, 0.9150, 0.3829, 0.9593, 0.3904])"
      ]
     },
     "metadata": {},
     "execution_count": 20
    }
   ],
   "source": [
    "weights"
   ]
  },
  {
   "cell_type": "code",
   "execution_count": 21,
   "id": "collected-measure",
   "metadata": {
    "ExecuteTime": {
     "end_time": "2021-05-26T05:53:22.688098Z",
     "start_time": "2021-05-26T05:53:22.685070Z"
    }
   },
   "outputs": [],
   "source": [
    "torch.dot(torch.tensor([2, 3]), torch.tensor([2, 1])) = torch.randn((1,1))"
   ]
  },
  {
   "cell_type": "code",
   "execution_count": 22,
   "id": "informal-enclosure",
   "metadata": {
    "ExecuteTime": {
     "end_time": "2021-05-26T05:53:22.837840Z",
     "start_time": "2021-05-26T05:53:22.832752Z"
    }
   },
   "outputs": [
    {
     "output_type": "execute_result",
     "data": {
      "text/plain": [
       "tensor([[0.3258]])"
      ]
     },
     "metadata": {},
     "execution_count": 22
    }
   ],
   "source": [
    "bias"
   ]
  },
  {
   "cell_type": "code",
   "execution_count": 26,
   "id": "cultural-freeze",
   "metadata": {
    "ExecuteTime": {
     "end_time": "2021-05-26T05:53:22.958309Z",
     "start_time": "2021-05-26T05:53:22.953589Z"
    }
   },
   "outputs": [],
   "source": [
    "# Implement the sigmoid function by using torch\n",
    "def sigmoid(x):\n",
    "    return 1 / (1+torch.exp(x))"
   ]
  },
  {
   "cell_type": "code",
   "execution_count": 29,
   "id": "caroline-assignment",
   "metadata": {
    "ExecuteTime": {
     "end_time": "2021-05-26T06:07:15.298988Z",
     "start_time": "2021-05-26T06:07:15.293636Z"
    }
   },
   "outputs": [],
   "source": [
    "# Use torch.dot function for multiplying weights and features and\n",
    "# add the bias to the result. Store the result into the score variable\n",
    "\n",
    "score = 0\n",
    "score = torch.dot(features, weights)+ bias\n"
   ]
  },
  {
   "cell_type": "code",
   "execution_count": 30,
   "id": "complicated-radar",
   "metadata": {
    "ExecuteTime": {
     "end_time": "2021-05-26T06:07:54.742774Z",
     "start_time": "2021-05-26T06:07:54.738740Z"
    }
   },
   "outputs": [],
   "source": [
    "assert score.shape == (1,1)"
   ]
  },
  {
   "cell_type": "code",
   "execution_count": 33,
   "id": "saved-martin",
   "metadata": {
    "ExecuteTime": {
     "end_time": "2021-05-26T06:09:09.770708Z",
     "start_time": "2021-05-26T06:09:09.764317Z"
    }
   },
   "outputs": [
    {
     "output_type": "stream",
     "name": "stdout",
     "text": [
      "tensor([[0.2442]])\n"
     ]
    }
   ],
   "source": [
    "# Use the defined sigmoid function to activate the score.\n",
    "# Store the result in the prob variable\n",
    "\n",
    "prob = 0\n",
    "prob = sigmoid(score)\n",
    "print(prob)"
   ]
  },
  {
   "cell_type": "code",
   "execution_count": 34,
   "id": "portuguese-nursery",
   "metadata": {
    "ExecuteTime": {
     "end_time": "2021-05-26T06:09:20.343108Z",
     "start_time": "2021-05-26T06:09:20.339958Z"
    }
   },
   "outputs": [],
   "source": [
    "assert prob.shape == (1,1)"
   ]
  },
  {
   "cell_type": "code",
   "execution_count": 37,
   "id": "latter-firewall",
   "metadata": {
    "ExecuteTime": {
     "end_time": "2021-05-26T06:11:19.575519Z",
     "start_time": "2021-05-26T06:11:19.568376Z"
    }
   },
   "outputs": [
    {
     "output_type": "stream",
     "name": "stdout",
     "text": [
      "tensor([[0.2063, 0.3420, 0.8344],\n        [0.5190, 0.1489, 0.9480],\n        [0.8151, 0.4798, 0.1209],\n        [0.7386, 0.3398, 0.1671]], dtype=torch.float64)\n"
     ]
    }
   ],
   "source": [
    "# Convert the a numpy array into a torch tensor\n",
    "# Store it in the b variable\n",
    "a = np.random.rand(4, 3) \n",
    "b = torch.tensor(a) \n",
    "print(b)"
   ]
  },
  {
   "cell_type": "code",
   "execution_count": 38,
   "id": "historical-passenger",
   "metadata": {
    "ExecuteTime": {
     "end_time": "2021-05-26T06:12:33.848173Z",
     "start_time": "2021-05-26T06:12:33.845007Z"
    }
   },
   "outputs": [],
   "source": [
    "assert b.shape == (4,3) "
   ]
  },
  {
   "cell_type": "code",
   "execution_count": 39,
   "id": "medieval-cabin",
   "metadata": {
    "ExecuteTime": {
     "end_time": "2021-05-26T06:15:11.278855Z",
     "start_time": "2021-05-26T06:15:11.274384Z"
    }
   },
   "outputs": [
    {
     "output_type": "stream",
     "name": "stdout",
     "text": [
      "[1 2]\n"
     ]
    }
   ],
   "source": [
    "# Do the opposite now. From the given tensor a convert it a numpy array\n",
    "# Store the result in b\n",
    "a = torch.tensor([1,2])\n",
    "b = np.array(a)\n",
    "print(b)"
   ]
  },
  {
   "cell_type": "code",
   "execution_count": 40,
   "id": "solar-conspiracy",
   "metadata": {
    "ExecuteTime": {
     "end_time": "2021-05-26T06:15:23.003363Z",
     "start_time": "2021-05-26T06:15:22.999824Z"
    }
   },
   "outputs": [],
   "source": [
    "assert type(b) == np.ndarray"
   ]
  },
  {
   "cell_type": "code",
   "execution_count": 41,
   "id": "unsigned-defeat",
   "metadata": {
    "ExecuteTime": {
     "end_time": "2021-05-26T06:38:16.934705Z",
     "start_time": "2021-05-26T06:38:16.929106Z"
    }
   },
   "outputs": [
    {
     "output_type": "stream",
     "name": "stdout",
     "text": [
      "tensor([[-0.4780, -0.2429, -0.9342, -0.2483, -1.2082, -0.4777,  0.5201,  1.6423,\n         -0.2394,  2.3228],\n        [-0.9634,  2.0024,  0.4664,  1.5730, -0.9228,  1.2791, -0.6866, -0.4934,\n          0.2415, -1.1109],\n        [ 0.0915, -2.3169, -0.2168, -1.3847, -0.3957,  0.8034, -0.6216, -0.5920,\n         -0.0631, -0.8286],\n        [ 0.3309, -1.5576,  0.3211,  1.5736, -0.8455,  1.3123,  0.6872, -1.0892,\n         -0.3553, -0.9138],\n        [ 0.8963,  0.0499,  2.2667,  1.1790, -0.4345, -1.3864, -1.2862, -1.4032,\n         -0.9224,  1.8113],\n        [ 0.1606,  0.3672,  0.1754,  1.3852, -0.4459,  1.4451,  0.7078, -1.0759,\n          0.5357,  1.1754],\n        [ 0.5612, -0.4527, -0.7718, -0.1722,  0.2311,  0.0087, -0.1423,  0.1971,\n         -1.1441,  0.3383],\n        [ 1.6992,  0.0109,  0.3598, -0.0898,  0.4584, -0.5644,  1.0563, -1.4692,\n          1.4332,  0.7440],\n        [-0.7106, -0.6021,  0.9604,  0.4048,  0.5886, -0.8905,  0.4098, -1.4570,\n         -0.1023, -0.5992],\n        [ 0.4771,  0.7262,  0.2332,  4.0356,  1.2795, -0.0127,  0.2408,  0.1325,\n          0.7642,  1.0950]])\n"
     ]
    }
   ],
   "source": [
    "# Reshape the given v tensor in a 10x10 tensor.\n",
    "# Store the result in v_reshaped\n",
    "# You can use various methods: reshape, view, resize... Check all of them\n",
    "\n",
    "v = torch.randn((100,1))\n",
    "v_reshaped = torch.reshape(v,(10,10))\n",
    "print(v_reshaped)\n"
   ]
  },
  {
   "cell_type": "code",
   "execution_count": 43,
   "id": "violent-kuwait",
   "metadata": {},
   "outputs": [
    {
     "output_type": "stream",
     "name": "stdout",
     "text": [
      "tensor([[[[1., 1., 1.],\n          [1., 1., 1.],\n          [1., 1., 1.],\n          ...,\n          [1., 1., 1.],\n          [1., 1., 1.],\n          [1., 1., 1.]],\n\n         [[1., 1., 1.],\n          [1., 1., 1.],\n          [1., 1., 1.],\n          ...,\n          [1., 1., 1.],\n          [1., 1., 1.],\n          [1., 1., 1.]],\n\n         [[1., 1., 1.],\n          [1., 1., 1.],\n          [1., 1., 1.],\n          ...,\n          [1., 1., 1.],\n          [1., 1., 1.],\n          [1., 1., 1.]],\n\n         ...,\n\n         [[1., 1., 1.],\n          [1., 1., 1.],\n          [1., 1., 1.],\n          ...,\n          [1., 1., 1.],\n          [1., 1., 1.],\n          [1., 1., 1.]],\n\n         [[1., 1., 1.],\n          [1., 1., 1.],\n          [1., 1., 1.],\n          ...,\n          [1., 1., 1.],\n          [1., 1., 1.],\n          [1., 1., 1.]],\n\n         [[1., 1., 1.],\n          [1., 1., 1.],\n          [1., 1., 1.],\n          ...,\n          [1., 1., 1.],\n          [1., 1., 1.],\n          [1., 1., 1.]]],\n\n\n        [[[1., 1., 1.],\n          [1., 1., 1.],\n          [1., 1., 1.],\n          ...,\n          [1., 1., 1.],\n          [1., 1., 1.],\n          [1., 1., 1.]],\n\n         [[1., 1., 1.],\n          [1., 1., 1.],\n          [1., 1., 1.],\n          ...,\n          [1., 1., 1.],\n          [1., 1., 1.],\n          [1., 1., 1.]],\n\n         [[1., 1., 1.],\n          [1., 1., 1.],\n          [1., 1., 1.],\n          ...,\n          [1., 1., 1.],\n          [1., 1., 1.],\n          [1., 1., 1.]],\n\n         ...,\n\n         [[1., 1., 1.],\n          [1., 1., 1.],\n          [1., 1., 1.],\n          ...,\n          [1., 1., 1.],\n          [1., 1., 1.],\n          [1., 1., 1.]],\n\n         [[1., 1., 1.],\n          [1., 1., 1.],\n          [1., 1., 1.],\n          ...,\n          [1., 1., 1.],\n          [1., 1., 1.],\n          [1., 1., 1.]],\n\n         [[1., 1., 1.],\n          [1., 1., 1.],\n          [1., 1., 1.],\n          ...,\n          [1., 1., 1.],\n          [1., 1., 1.],\n          [1., 1., 1.]]],\n\n\n        [[[1., 1., 1.],\n          [1., 1., 1.],\n          [1., 1., 1.],\n          ...,\n          [1., 1., 1.],\n          [1., 1., 1.],\n          [1., 1., 1.]],\n\n         [[1., 1., 1.],\n          [1., 1., 1.],\n          [1., 1., 1.],\n          ...,\n          [1., 1., 1.],\n          [1., 1., 1.],\n          [1., 1., 1.]],\n\n         [[1., 1., 1.],\n          [1., 1., 1.],\n          [1., 1., 1.],\n          ...,\n          [1., 1., 1.],\n          [1., 1., 1.],\n          [1., 1., 1.]],\n\n         ...,\n\n         [[1., 1., 1.],\n          [1., 1., 1.],\n          [1., 1., 1.],\n          ...,\n          [1., 1., 1.],\n          [1., 1., 1.],\n          [1., 1., 1.]],\n\n         [[1., 1., 1.],\n          [1., 1., 1.],\n          [1., 1., 1.],\n          ...,\n          [1., 1., 1.],\n          [1., 1., 1.],\n          [1., 1., 1.]],\n\n         [[1., 1., 1.],\n          [1., 1., 1.],\n          [1., 1., 1.],\n          ...,\n          [1., 1., 1.],\n          [1., 1., 1.],\n          [1., 1., 1.]]],\n\n\n        ...,\n\n\n        [[[1., 1., 1.],\n          [1., 1., 1.],\n          [1., 1., 1.],\n          ...,\n          [1., 1., 1.],\n          [1., 1., 1.],\n          [1., 1., 1.]],\n\n         [[1., 1., 1.],\n          [1., 1., 1.],\n          [1., 1., 1.],\n          ...,\n          [1., 1., 1.],\n          [1., 1., 1.],\n          [1., 1., 1.]],\n\n         [[1., 1., 1.],\n          [1., 1., 1.],\n          [1., 1., 1.],\n          ...,\n          [1., 1., 1.],\n          [1., 1., 1.],\n          [1., 1., 1.]],\n\n         ...,\n\n         [[1., 1., 1.],\n          [1., 1., 1.],\n          [1., 1., 1.],\n          ...,\n          [1., 1., 1.],\n          [1., 1., 1.],\n          [1., 1., 1.]],\n\n         [[1., 1., 1.],\n          [1., 1., 1.],\n          [1., 1., 1.],\n          ...,\n          [1., 1., 1.],\n          [1., 1., 1.],\n          [1., 1., 1.]],\n\n         [[1., 1., 1.],\n          [1., 1., 1.],\n          [1., 1., 1.],\n          ...,\n          [1., 1., 1.],\n          [1., 1., 1.],\n          [1., 1., 1.]]],\n\n\n        [[[1., 1., 1.],\n          [1., 1., 1.],\n          [1., 1., 1.],\n          ...,\n          [1., 1., 1.],\n          [1., 1., 1.],\n          [1., 1., 1.]],\n\n         [[1., 1., 1.],\n          [1., 1., 1.],\n          [1., 1., 1.],\n          ...,\n          [1., 1., 1.],\n          [1., 1., 1.],\n          [1., 1., 1.]],\n\n         [[1., 1., 1.],\n          [1., 1., 1.],\n          [1., 1., 1.],\n          ...,\n          [1., 1., 1.],\n          [1., 1., 1.],\n          [1., 1., 1.]],\n\n         ...,\n\n         [[1., 1., 1.],\n          [1., 1., 1.],\n          [1., 1., 1.],\n          ...,\n          [1., 1., 1.],\n          [1., 1., 1.],\n          [1., 1., 1.]],\n\n         [[1., 1., 1.],\n          [1., 1., 1.],\n          [1., 1., 1.],\n          ...,\n          [1., 1., 1.],\n          [1., 1., 1.],\n          [1., 1., 1.]],\n\n         [[1., 1., 1.],\n          [1., 1., 1.],\n          [1., 1., 1.],\n          ...,\n          [1., 1., 1.],\n          [1., 1., 1.],\n          [1., 1., 1.]]],\n\n\n        [[[1., 1., 1.],\n          [1., 1., 1.],\n          [1., 1., 1.],\n          ...,\n          [1., 1., 1.],\n          [1., 1., 1.],\n          [1., 1., 1.]],\n\n         [[1., 1., 1.],\n          [1., 1., 1.],\n          [1., 1., 1.],\n          ...,\n          [1., 1., 1.],\n          [1., 1., 1.],\n          [1., 1., 1.]],\n\n         [[1., 1., 1.],\n          [1., 1., 1.],\n          [1., 1., 1.],\n          ...,\n          [1., 1., 1.],\n          [1., 1., 1.],\n          [1., 1., 1.]],\n\n         ...,\n\n         [[1., 1., 1.],\n          [1., 1., 1.],\n          [1., 1., 1.],\n          ...,\n          [1., 1., 1.],\n          [1., 1., 1.],\n          [1., 1., 1.]],\n\n         [[1., 1., 1.],\n          [1., 1., 1.],\n          [1., 1., 1.],\n          ...,\n          [1., 1., 1.],\n          [1., 1., 1.],\n          [1., 1., 1.]],\n\n         [[1., 1., 1.],\n          [1., 1., 1.],\n          [1., 1., 1.],\n          ...,\n          [1., 1., 1.],\n          [1., 1., 1.],\n          [1., 1., 1.]]]])\n"
     ]
    }
   ],
   "source": [
    "# create a tensor with shape (16, 32, 32, 3) containing only ones\n",
    "# Store it in the ones variable\n",
    "ones = 0\n",
    "ones = torch.ones(16, 32, 32, 3)\n",
    "print(ones)\n"
   ]
  },
  {
   "cell_type": "code",
   "execution_count": null,
   "id": "otherwise-tourism",
   "metadata": {},
   "outputs": [],
   "source": [
    "assert ones.shape == (16, 32, 32, 3)"
   ]
  },
  {
   "cell_type": "code",
   "execution_count": 44,
   "id": "united-nebraska",
   "metadata": {
    "ExecuteTime": {
     "end_time": "2021-05-26T06:50:29.092598Z",
     "start_time": "2021-05-26T06:50:29.067520Z"
    }
   },
   "outputs": [
    {
     "output_type": "execute_result",
     "data": {
      "text/plain": [
       "          0         1  2\n",
       "0   0.78051 -0.063669  1\n",
       "1   0.28774  0.291390  1\n",
       "2   0.40714  0.178780  1\n",
       "3   0.29230  0.421700  1\n",
       "4   0.50922  0.352560  1\n",
       "..      ...       ... ..\n",
       "95  0.77029  0.701400  0\n",
       "96  0.73156  0.717820  0\n",
       "97  0.44556  0.579910  0\n",
       "98  0.85275  0.859870  0\n",
       "99  0.51912  0.623590  0\n",
       "\n",
       "[100 rows x 3 columns]"
      ],
      "text/html": "<div>\n<style scoped>\n    .dataframe tbody tr th:only-of-type {\n        vertical-align: middle;\n    }\n\n    .dataframe tbody tr th {\n        vertical-align: top;\n    }\n\n    .dataframe thead th {\n        text-align: right;\n    }\n</style>\n<table border=\"1\" class=\"dataframe\">\n  <thead>\n    <tr style=\"text-align: right;\">\n      <th></th>\n      <th>0</th>\n      <th>1</th>\n      <th>2</th>\n    </tr>\n  </thead>\n  <tbody>\n    <tr>\n      <th>0</th>\n      <td>0.78051</td>\n      <td>-0.063669</td>\n      <td>1</td>\n    </tr>\n    <tr>\n      <th>1</th>\n      <td>0.28774</td>\n      <td>0.291390</td>\n      <td>1</td>\n    </tr>\n    <tr>\n      <th>2</th>\n      <td>0.40714</td>\n      <td>0.178780</td>\n      <td>1</td>\n    </tr>\n    <tr>\n      <th>3</th>\n      <td>0.29230</td>\n      <td>0.421700</td>\n      <td>1</td>\n    </tr>\n    <tr>\n      <th>4</th>\n      <td>0.50922</td>\n      <td>0.352560</td>\n      <td>1</td>\n    </tr>\n    <tr>\n      <th>...</th>\n      <td>...</td>\n      <td>...</td>\n      <td>...</td>\n    </tr>\n    <tr>\n      <th>95</th>\n      <td>0.77029</td>\n      <td>0.701400</td>\n      <td>0</td>\n    </tr>\n    <tr>\n      <th>96</th>\n      <td>0.73156</td>\n      <td>0.717820</td>\n      <td>0</td>\n    </tr>\n    <tr>\n      <th>97</th>\n      <td>0.44556</td>\n      <td>0.579910</td>\n      <td>0</td>\n    </tr>\n    <tr>\n      <th>98</th>\n      <td>0.85275</td>\n      <td>0.859870</td>\n      <td>0</td>\n    </tr>\n    <tr>\n      <th>99</th>\n      <td>0.51912</td>\n      <td>0.623590</td>\n      <td>0</td>\n    </tr>\n  </tbody>\n</table>\n<p>100 rows × 3 columns</p>\n</div>"
     },
     "metadata": {},
     "execution_count": 44
    }
   ],
   "source": [
    "import pandas as pd\n",
    "import matplotlib.pyplot as plt\n",
    "# load and plot the data using scatterplot with different colors for labels\n",
    "data = pd.read_csv('data.csv', header=None)\n",
    "data"
   ]
  },
  {
   "cell_type": "code",
   "execution_count": 47,
   "id": "increased-schedule",
   "metadata": {
    "ExecuteTime": {
     "end_time": "2021-05-26T06:52:46.863528Z",
     "start_time": "2021-05-26T06:52:46.755851Z"
    }
   },
   "outputs": [
    {
     "output_type": "display_data",
     "data": {
      "text/plain": "<Figure size 432x288 with 1 Axes>",
      "image/svg+xml": "<?xml version=\"1.0\" encoding=\"utf-8\" standalone=\"no\"?>\r\n<!DOCTYPE svg PUBLIC \"-//W3C//DTD SVG 1.1//EN\"\r\n  \"http://www.w3.org/Graphics/SVG/1.1/DTD/svg11.dtd\">\r\n<!-- Created with matplotlib (https://matplotlib.org/) -->\r\n<svg height=\"248.518125pt\" version=\"1.1\" viewBox=\"0 0 372.103125 248.518125\" width=\"372.103125pt\" xmlns=\"http://www.w3.org/2000/svg\" xmlns:xlink=\"http://www.w3.org/1999/xlink\">\r\n <metadata>\r\n  <rdf:RDF xmlns:cc=\"http://creativecommons.org/ns#\" xmlns:dc=\"http://purl.org/dc/elements/1.1/\" xmlns:rdf=\"http://www.w3.org/1999/02/22-rdf-syntax-ns#\">\r\n   <cc:Work>\r\n    <dc:type rdf:resource=\"http://purl.org/dc/dcmitype/StillImage\"/>\r\n    <dc:date>2021-05-26T10:44:05.340737</dc:date>\r\n    <dc:format>image/svg+xml</dc:format>\r\n    <dc:creator>\r\n     <cc:Agent>\r\n      <dc:title>Matplotlib v3.3.4, https://matplotlib.org/</dc:title>\r\n     </cc:Agent>\r\n    </dc:creator>\r\n   </cc:Work>\r\n  </rdf:RDF>\r\n </metadata>\r\n <defs>\r\n  <style type=\"text/css\">*{stroke-linecap:butt;stroke-linejoin:round;}</style>\r\n </defs>\r\n <g id=\"figure_1\">\r\n  <g id=\"patch_1\">\r\n   <path d=\"M 0 248.518125 \r\nL 372.103125 248.518125 \r\nL 372.103125 0 \r\nL 0 0 \r\nz\r\n\" style=\"fill:none;\"/>\r\n  </g>\r\n  <g id=\"axes_1\">\r\n   <g id=\"patch_2\">\r\n    <path d=\"M 30.103125 224.64 \r\nL 364.903125 224.64 \r\nL 364.903125 7.2 \r\nL 30.103125 7.2 \r\nz\r\n\" style=\"fill:#ffffff;\"/>\r\n   </g>\r\n   <g id=\"PathCollection_1\">\r\n    <defs>\r\n     <path d=\"M 0 3 \r\nC 0.795609 3 1.55874 2.683901 2.12132 2.12132 \r\nC 2.683901 1.55874 3 0.795609 3 0 \r\nC 3 -0.795609 2.683901 -1.55874 2.12132 -2.12132 \r\nC 1.55874 -2.683901 0.795609 -3 0 -3 \r\nC -0.795609 -3 -1.55874 -2.683901 -2.12132 -2.12132 \r\nC -2.683901 -1.55874 -3 -0.795609 -3 0 \r\nC -3 0.795609 -2.683901 1.55874 -2.12132 2.12132 \r\nC -1.55874 2.683901 -0.795609 3 0 3 \r\nz\r\n\" id=\"mbdee8da728\" style=\"stroke:#1f77b4;\"/>\r\n    </defs>\r\n    <g clip-path=\"url(#pcb543b2951)\">\r\n     <use style=\"fill:#1f77b4;stroke:#1f77b4;\" x=\"282.310912\" xlink:href=\"#mbdee8da728\" y=\"214.756364\"/>\r\n     <use style=\"fill:#1f77b4;stroke:#1f77b4;\" x=\"131.051623\" xlink:href=\"#mbdee8da728\" y=\"148.772039\"/>\r\n     <use style=\"fill:#1f77b4;stroke:#1f77b4;\" x=\"167.70231\" xlink:href=\"#mbdee8da728\" y=\"169.699532\"/>\r\n     <use style=\"fill:#1f77b4;stroke:#1f77b4;\" x=\"132.451348\" xlink:href=\"#mbdee8da728\" y=\"124.55517\"/>\r\n     <use style=\"fill:#1f77b4;stroke:#1f77b4;\" x=\"199.036499\" xlink:href=\"#mbdee8da728\" y=\"137.404178\"/>\r\n     <use style=\"fill:#1f77b4;stroke:#1f77b4;\" x=\"128.015816\" xlink:href=\"#mbdee8da728\" y=\"182.849602\"/>\r\n     <use style=\"fill:#1f77b4;stroke:#1f77b4;\" x=\"127.223867\" xlink:href=\"#mbdee8da728\" y=\"141.182315\"/>\r\n     <use style=\"fill:#1f77b4;stroke:#1f77b4;\" x=\"177.785853\" xlink:href=\"#mbdee8da728\" y=\"144.858239\"/>\r\n     <use style=\"fill:#1f77b4;stroke:#1f77b4;\" x=\"145.733385\" xlink:href=\"#mbdee8da728\" y=\"123.042428\"/>\r\n     <use style=\"fill:#1f77b4;stroke:#1f77b4;\" x=\"114.703084\" xlink:href=\"#mbdee8da728\" y=\"156.489993\"/>\r\n     <use style=\"fill:#1f77b4;stroke:#1f77b4;\" x=\"45.321307\" xlink:href=\"#mbdee8da728\" y=\"177.541999\"/>\r\n     <use style=\"fill:#1f77b4;stroke:#1f77b4;\" x=\"80.848776\" xlink:href=\"#mbdee8da728\" y=\"140.490988\"/>\r\n     <use style=\"fill:#1f77b4;stroke:#1f77b4;\" x=\"121.443863\" xlink:href=\"#mbdee8da728\" y=\"123.711454\"/>\r\n     <use style=\"fill:#1f77b4;stroke:#1f77b4;\" x=\"183.651805\" xlink:href=\"#mbdee8da728\" y=\"127.796227\"/>\r\n     <use style=\"fill:#1f77b4;stroke:#1f77b4;\" x=\"179.467979\" xlink:href=\"#mbdee8da728\" y=\"119.078451\"/>\r\n     <use style=\"fill:#1f77b4;stroke:#1f77b4;\" x=\"172.318946\" xlink:href=\"#mbdee8da728\" y=\"165.536706\"/>\r\n     <use style=\"fill:#1f77b4;stroke:#1f77b4;\" x=\"194.864951\" xlink:href=\"#mbdee8da728\" y=\"163.070603\"/>\r\n     <use style=\"fill:#1f77b4;stroke:#1f77b4;\" x=\"137.417915\" xlink:href=\"#mbdee8da728\" y=\"157.753708\"/>\r\n     <use style=\"fill:#1f77b4;stroke:#1f77b4;\" x=\"164.611251\" xlink:href=\"#mbdee8da728\" y=\"120.340308\"/>\r\n     <use style=\"fill:#1f77b4;stroke:#1f77b4;\" x=\"143.854807\" xlink:href=\"#mbdee8da728\" y=\"130.043038\"/>\r\n     <use style=\"fill:#1f77b4;stroke:#1f77b4;\" x=\"167.779049\" xlink:href=\"#mbdee8da728\" y=\"128.08428\"/>\r\n     <use style=\"fill:#1f77b4;stroke:#1f77b4;\" x=\"138.068664\" xlink:href=\"#mbdee8da728\" y=\"108.699262\"/>\r\n     <use style=\"fill:#1f77b4;stroke:#1f77b4;\" x=\"195.095169\" xlink:href=\"#mbdee8da728\" y=\"118.582257\"/>\r\n     <use style=\"fill:#1f77b4;stroke:#1f77b4;\" x=\"73.647561\" xlink:href=\"#mbdee8da728\" y=\"143.356648\"/>\r\n     <use style=\"fill:#1f77b4;stroke:#1f77b4;\" x=\"257.312319\" xlink:href=\"#mbdee8da728\" y=\"133.592591\"/>\r\n     <use style=\"fill:#1f77b4;stroke:#1f77b4;\" x=\"134.099708\" xlink:href=\"#mbdee8da728\" y=\"73.48993\"/>\r\n     <use style=\"fill:#1f77b4;stroke:#1f77b4;\" x=\"89.075229\" xlink:href=\"#mbdee8da728\" y=\"96.361315\"/>\r\n     <use style=\"fill:#1f77b4;stroke:#1f77b4;\" x=\"93.15162\" xlink:href=\"#mbdee8da728\" y=\"151.336637\"/>\r\n     <use style=\"fill:#1f77b4;stroke:#1f77b4;\" x=\"144.818652\" xlink:href=\"#mbdee8da728\" y=\"192.523713\"/>\r\n     <use style=\"fill:#1f77b4;stroke:#1f77b4;\" x=\"207.689622\" xlink:href=\"#mbdee8da728\" y=\"149.704958\"/>\r\n     <use style=\"fill:#1f77b4;stroke:#1f77b4;\" x=\"102.593623\" xlink:href=\"#mbdee8da728\" y=\"134.387988\"/>\r\n     <use style=\"fill:#1f77b4;stroke:#1f77b4;\" x=\"166.363977\" xlink:href=\"#mbdee8da728\" y=\"196.392168\"/>\r\n     <use style=\"fill:#1f77b4;stroke:#1f77b4;\" x=\"108.097365\" xlink:href=\"#mbdee8da728\" y=\"100.397769\"/>\r\n     <use style=\"fill:#1f77b4;stroke:#1f77b4;\" x=\"191.439309\" xlink:href=\"#mbdee8da728\" y=\"97.011756\"/>\r\n     <use style=\"fill:#1f77b4;stroke:#1f77b4;\" x=\"120.928175\" xlink:href=\"#mbdee8da728\" y=\"138.630725\"/>\r\n     <use style=\"fill:#1f77b4;stroke:#1f77b4;\" x=\"109.417281\" xlink:href=\"#mbdee8da728\" y=\"149.697524\"/>\r\n     <use style=\"fill:#1f77b4;stroke:#1f77b4;\" x=\"248.628501\" xlink:href=\"#mbdee8da728\" y=\"116.437659\"/>\r\n     <use style=\"fill:#1f77b4;stroke:#1f77b4;\" x=\"159.831928\" xlink:href=\"#mbdee8da728\" y=\"117.028631\"/>\r\n     <use style=\"fill:#1f77b4;stroke:#1f77b4;\" x=\"207.98737\" xlink:href=\"#mbdee8da728\" y=\"142.016738\"/>\r\n     <use style=\"fill:#1f77b4;stroke:#1f77b4;\" x=\"191.5713\" xlink:href=\"#mbdee8da728\" y=\"154.473624\"/>\r\n     <use style=\"fill:#1f77b4;stroke:#1f77b4;\" x=\"156.59353\" xlink:href=\"#mbdee8da728\" y=\"130.801267\"/>\r\n     <use style=\"fill:#1f77b4;stroke:#1f77b4;\" x=\"210.102305\" xlink:href=\"#mbdee8da728\" y=\"84.151597\"/>\r\n     <use style=\"fill:#1f77b4;stroke:#1f77b4;\" x=\"141.411428\" xlink:href=\"#mbdee8da728\" y=\"180.610225\"/>\r\n     <use style=\"fill:#1f77b4;stroke:#1f77b4;\" x=\"172.312807\" xlink:href=\"#mbdee8da728\" y=\"88.323715\"/>\r\n     <use style=\"fill:#1f77b4;stroke:#1f77b4;\" x=\"74.018979\" xlink:href=\"#mbdee8da728\" y=\"191.697838\"/>\r\n     <use style=\"fill:#1f77b4;stroke:#1f77b4;\" x=\"89.551012\" xlink:href=\"#mbdee8da728\" y=\"162.633878\"/>\r\n     <use style=\"fill:#1f77b4;stroke:#1f77b4;\" x=\"182.571316\" xlink:href=\"#mbdee8da728\" y=\"121.583581\"/>\r\n     <use style=\"fill:#1f77b4;stroke:#1f77b4;\" x=\"130.173725\" xlink:href=\"#mbdee8da728\" y=\"106.02316\"/>\r\n     <use style=\"fill:#1f77b4;stroke:#1f77b4;\" x=\"127.549241\" xlink:href=\"#mbdee8da728\" y=\"163.406974\"/>\r\n     <use style=\"fill:#1f77b4;stroke:#1f77b4;\" x=\"164.737104\" xlink:href=\"#mbdee8da728\" y=\"143.637267\"/>\r\n     <use style=\"fill:#1f77b4;stroke:#1f77b4;\" x=\"212.567171\" xlink:href=\"#mbdee8da728\" y=\"17.083636\"/>\r\n     <use style=\"fill:#1f77b4;stroke:#1f77b4;\" x=\"178.629986\" xlink:href=\"#mbdee8da728\" y=\"92.897249\"/>\r\n     <use style=\"fill:#1f77b4;stroke:#1f77b4;\" x=\"304.181611\" xlink:href=\"#mbdee8da728\" y=\"80.046381\"/>\r\n     <use style=\"fill:#1f77b4;stroke:#1f77b4;\" x=\"228.240405\" xlink:href=\"#mbdee8da728\" y=\"41.976965\"/>\r\n     <use style=\"fill:#1f77b4;stroke:#1f77b4;\" x=\"252.204552\" xlink:href=\"#mbdee8da728\" y=\"113.161291\"/>\r\n     <use style=\"fill:#1f77b4;stroke:#1f77b4;\" x=\"349.684943\" xlink:href=\"#mbdee8da728\" y=\"60.170745\"/>\r\n     <use style=\"fill:#1f77b4;stroke:#1f77b4;\" x=\"266.77274\" xlink:href=\"#mbdee8da728\" y=\"52.263234\"/>\r\n     <use style=\"fill:#1f77b4;stroke:#1f77b4;\" x=\"249.546303\" xlink:href=\"#mbdee8da728\" y=\"58.014996\"/>\r\n     <use style=\"fill:#1f77b4;stroke:#1f77b4;\" x=\"284.490308\" xlink:href=\"#mbdee8da728\" y=\"94.807688\"/>\r\n     <use style=\"fill:#1f77b4;stroke:#1f77b4;\" x=\"262.024112\" xlink:href=\"#mbdee8da728\" y=\"60.42163\"/>\r\n     <use style=\"fill:#1f77b4;stroke:#1f77b4;\" x=\"194.30015\" xlink:href=\"#mbdee8da728\" y=\"102.150245\"/>\r\n     <use style=\"fill:#1f77b4;stroke:#1f77b4;\" x=\"285.144127\" xlink:href=\"#mbdee8da728\" y=\"64.969146\"/>\r\n     <use style=\"fill:#1f77b4;stroke:#1f77b4;\" x=\"251.167037\" xlink:href=\"#mbdee8da728\" y=\"89.708226\"/>\r\n     <use style=\"fill:#1f77b4;stroke:#1f77b4;\" x=\"246.608722\" xlink:href=\"#mbdee8da728\" y=\"68.154451\"/>\r\n     <use style=\"fill:#1f77b4;stroke:#1f77b4;\" x=\"286.439486\" xlink:href=\"#mbdee8da728\" y=\"97.387154\"/>\r\n     <use style=\"fill:#1f77b4;stroke:#1f77b4;\" x=\"259.924525\" xlink:href=\"#mbdee8da728\" y=\"61.64446\"/>\r\n     <use style=\"fill:#1f77b4;stroke:#1f77b4;\" x=\"225.12479\" xlink:href=\"#mbdee8da728\" y=\"87.96876\"/>\r\n     <use style=\"fill:#1f77b4;stroke:#1f77b4;\" x=\"194.254106\" xlink:href=\"#mbdee8da728\" y=\"98.437152\"/>\r\n     <use style=\"fill:#1f77b4;stroke:#1f77b4;\" x=\"281.254979\" xlink:href=\"#mbdee8da728\" y=\"137.83347\"/>\r\n     <use style=\"fill:#1f77b4;stroke:#1f77b4;\" x=\"287.633549\" xlink:href=\"#mbdee8da728\" y=\"59.973754\"/>\r\n     <use style=\"fill:#1f77b4;stroke:#1f77b4;\" x=\"260.286734\" xlink:href=\"#mbdee8da728\" y=\"23.097433\"/>\r\n     <use style=\"fill:#1f77b4;stroke:#1f77b4;\" x=\"255.068462\" xlink:href=\"#mbdee8da728\" y=\"89.812297\"/>\r\n     <use style=\"fill:#1f77b4;stroke:#1f77b4;\" x=\"246.571888\" xlink:href=\"#mbdee8da728\" y=\"31.811492\"/>\r\n     <use style=\"fill:#1f77b4;stroke:#1f77b4;\" x=\"245.236624\" xlink:href=\"#mbdee8da728\" y=\"79.031692\"/>\r\n     <use style=\"fill:#1f77b4;stroke:#1f77b4;\" x=\"240.942293\" xlink:href=\"#mbdee8da728\" y=\"97.283083\"/>\r\n     <use style=\"fill:#1f77b4;stroke:#1f77b4;\" x=\"317.88111\" xlink:href=\"#mbdee8da728\" y=\"71.256128\"/>\r\n     <use style=\"fill:#1f77b4;stroke:#1f77b4;\" x=\"305.102483\" xlink:href=\"#mbdee8da728\" y=\"85.53425\"/>\r\n     <use style=\"fill:#1f77b4;stroke:#1f77b4;\" x=\"233.320546\" xlink:href=\"#mbdee8da728\" y=\"53.463763\"/>\r\n     <use style=\"fill:#1f77b4;stroke:#1f77b4;\" x=\"285.398901\" xlink:href=\"#mbdee8da728\" y=\"98.652727\"/>\r\n     <use style=\"fill:#1f77b4;stroke:#1f77b4;\" x=\"223.632978\" xlink:href=\"#mbdee8da728\" y=\"69.895776\"/>\r\n     <use style=\"fill:#1f77b4;stroke:#1f77b4;\" x=\"217.220642\" xlink:href=\"#mbdee8da728\" y=\"65.290649\"/>\r\n     <use style=\"fill:#1f77b4;stroke:#1f77b4;\" x=\"245.04938\" xlink:href=\"#mbdee8da728\" y=\"69.958962\"/>\r\n     <use style=\"fill:#1f77b4;stroke:#1f77b4;\" x=\"260.477048\" xlink:href=\"#mbdee8da728\" y=\"65.325959\"/>\r\n     <use style=\"fill:#1f77b4;stroke:#1f77b4;\" x=\"224.305214\" xlink:href=\"#mbdee8da728\" y=\"85.980267\"/>\r\n     <use style=\"fill:#1f77b4;stroke:#1f77b4;\" x=\"183.40317\" xlink:href=\"#mbdee8da728\" y=\"116.675534\"/>\r\n     <use style=\"fill:#1f77b4;stroke:#1f77b4;\" x=\"288.238255\" xlink:href=\"#mbdee8da728\" y=\"63.828085\"/>\r\n     <use style=\"fill:#1f77b4;stroke:#1f77b4;\" x=\"229.891835\" xlink:href=\"#mbdee8da728\" y=\"101.163432\"/>\r\n     <use style=\"fill:#1f77b4;stroke:#1f77b4;\" x=\"251.848482\" xlink:href=\"#mbdee8da728\" y=\"41.270771\"/>\r\n     <use style=\"fill:#1f77b4;stroke:#1f77b4;\" x=\"278.145503\" xlink:href=\"#mbdee8da728\" y=\"82.618413\"/>\r\n     <use style=\"fill:#1f77b4;stroke:#1f77b4;\" x=\"254.675557\" xlink:href=\"#mbdee8da728\" y=\"48.568726\"/>\r\n     <use style=\"fill:#1f77b4;stroke:#1f77b4;\" x=\"251.833134\" xlink:href=\"#mbdee8da728\" y=\"23.511858\"/>\r\n     <use style=\"fill:#1f77b4;stroke:#1f77b4;\" x=\"267.509437\" xlink:href=\"#mbdee8da728\" y=\"83.53089\"/>\r\n     <use style=\"fill:#1f77b4;stroke:#1f77b4;\" x=\"276.460308\" xlink:href=\"#mbdee8da728\" y=\"91.163357\"/>\r\n     <use style=\"fill:#1f77b4;stroke:#1f77b4;\" x=\"223.786456\" xlink:href=\"#mbdee8da728\" y=\"41.326523\"/>\r\n     <use style=\"fill:#1f77b4;stroke:#1f77b4;\" x=\"267.251593\" xlink:href=\"#mbdee8da728\" y=\"64.443217\"/>\r\n     <use style=\"fill:#1f77b4;stroke:#1f77b4;\" x=\"279.17381\" xlink:href=\"#mbdee8da728\" y=\"72.575595\"/>\r\n     <use style=\"fill:#1f77b4;stroke:#1f77b4;\" x=\"267.285358\" xlink:href=\"#mbdee8da728\" y=\"69.524095\"/>\r\n     <use style=\"fill:#1f77b4;stroke:#1f77b4;\" x=\"179.495605\" xlink:href=\"#mbdee8da728\" y=\"95.153352\"/>\r\n     <use style=\"fill:#1f77b4;stroke:#1f77b4;\" x=\"304.485499\" xlink:href=\"#mbdee8da728\" y=\"43.125459\"/>\r\n     <use style=\"fill:#1f77b4;stroke:#1f77b4;\" x=\"202.075375\" xlink:href=\"#mbdee8da728\" y=\"87.035841\"/>\r\n    </g>\r\n   </g>\r\n   <g id=\"matplotlib.axis_1\">\r\n    <g id=\"xtick_1\">\r\n     <g id=\"line2d_1\">\r\n      <defs>\r\n       <path d=\"M 0 0 \r\nL 0 3.5 \r\n\" id=\"mb831f8b1d1\" style=\"stroke:#000000;stroke-width:0.8;\"/>\r\n      </defs>\r\n      <g>\r\n       <use style=\"stroke:#000000;stroke-width:0.8;\" x=\"42.727764\" xlink:href=\"#mb831f8b1d1\" y=\"224.64\"/>\r\n      </g>\r\n     </g>\r\n     <g id=\"text_1\">\r\n      <!-- 0.0 -->\r\n      <g transform=\"translate(34.776202 239.238437)scale(0.1 -0.1)\">\r\n       <defs>\r\n        <path d=\"M 31.78125 66.40625 \r\nQ 24.171875 66.40625 20.328125 58.90625 \r\nQ 16.5 51.421875 16.5 36.375 \r\nQ 16.5 21.390625 20.328125 13.890625 \r\nQ 24.171875 6.390625 31.78125 6.390625 \r\nQ 39.453125 6.390625 43.28125 13.890625 \r\nQ 47.125 21.390625 47.125 36.375 \r\nQ 47.125 51.421875 43.28125 58.90625 \r\nQ 39.453125 66.40625 31.78125 66.40625 \r\nz\r\nM 31.78125 74.21875 \r\nQ 44.046875 74.21875 50.515625 64.515625 \r\nQ 56.984375 54.828125 56.984375 36.375 \r\nQ 56.984375 17.96875 50.515625 8.265625 \r\nQ 44.046875 -1.421875 31.78125 -1.421875 \r\nQ 19.53125 -1.421875 13.0625 8.265625 \r\nQ 6.59375 17.96875 6.59375 36.375 \r\nQ 6.59375 54.828125 13.0625 64.515625 \r\nQ 19.53125 74.21875 31.78125 74.21875 \r\nz\r\n\" id=\"DejaVuSans-48\"/>\r\n        <path d=\"M 10.6875 12.40625 \r\nL 21 12.40625 \r\nL 21 0 \r\nL 10.6875 0 \r\nz\r\n\" id=\"DejaVuSans-46\"/>\r\n       </defs>\r\n       <use xlink:href=\"#DejaVuSans-48\"/>\r\n       <use x=\"63.623047\" xlink:href=\"#DejaVuSans-46\"/>\r\n       <use x=\"95.410156\" xlink:href=\"#DejaVuSans-48\"/>\r\n      </g>\r\n     </g>\r\n    </g>\r\n    <g id=\"xtick_2\">\r\n     <g id=\"line2d_2\">\r\n      <g>\r\n       <use style=\"stroke:#000000;stroke-width:0.8;\" x=\"104.1192\" xlink:href=\"#mb831f8b1d1\" y=\"224.64\"/>\r\n      </g>\r\n     </g>\r\n     <g id=\"text_2\">\r\n      <!-- 0.2 -->\r\n      <g transform=\"translate(96.167638 239.238437)scale(0.1 -0.1)\">\r\n       <defs>\r\n        <path d=\"M 19.1875 8.296875 \r\nL 53.609375 8.296875 \r\nL 53.609375 0 \r\nL 7.328125 0 \r\nL 7.328125 8.296875 \r\nQ 12.9375 14.109375 22.625 23.890625 \r\nQ 32.328125 33.6875 34.8125 36.53125 \r\nQ 39.546875 41.84375 41.421875 45.53125 \r\nQ 43.3125 49.21875 43.3125 52.78125 \r\nQ 43.3125 58.59375 39.234375 62.25 \r\nQ 35.15625 65.921875 28.609375 65.921875 \r\nQ 23.96875 65.921875 18.8125 64.3125 \r\nQ 13.671875 62.703125 7.8125 59.421875 \r\nL 7.8125 69.390625 \r\nQ 13.765625 71.78125 18.9375 73 \r\nQ 24.125 74.21875 28.421875 74.21875 \r\nQ 39.75 74.21875 46.484375 68.546875 \r\nQ 53.21875 62.890625 53.21875 53.421875 \r\nQ 53.21875 48.921875 51.53125 44.890625 \r\nQ 49.859375 40.875 45.40625 35.40625 \r\nQ 44.1875 33.984375 37.640625 27.21875 \r\nQ 31.109375 20.453125 19.1875 8.296875 \r\nz\r\n\" id=\"DejaVuSans-50\"/>\r\n       </defs>\r\n       <use xlink:href=\"#DejaVuSans-48\"/>\r\n       <use x=\"63.623047\" xlink:href=\"#DejaVuSans-46\"/>\r\n       <use x=\"95.410156\" xlink:href=\"#DejaVuSans-50\"/>\r\n      </g>\r\n     </g>\r\n    </g>\r\n    <g id=\"xtick_3\">\r\n     <g id=\"line2d_3\">\r\n      <g>\r\n       <use style=\"stroke:#000000;stroke-width:0.8;\" x=\"165.510636\" xlink:href=\"#mb831f8b1d1\" y=\"224.64\"/>\r\n      </g>\r\n     </g>\r\n     <g id=\"text_3\">\r\n      <!-- 0.4 -->\r\n      <g transform=\"translate(157.559073 239.238437)scale(0.1 -0.1)\">\r\n       <defs>\r\n        <path d=\"M 37.796875 64.3125 \r\nL 12.890625 25.390625 \r\nL 37.796875 25.390625 \r\nz\r\nM 35.203125 72.90625 \r\nL 47.609375 72.90625 \r\nL 47.609375 25.390625 \r\nL 58.015625 25.390625 \r\nL 58.015625 17.1875 \r\nL 47.609375 17.1875 \r\nL 47.609375 0 \r\nL 37.796875 0 \r\nL 37.796875 17.1875 \r\nL 4.890625 17.1875 \r\nL 4.890625 26.703125 \r\nz\r\n\" id=\"DejaVuSans-52\"/>\r\n       </defs>\r\n       <use xlink:href=\"#DejaVuSans-48\"/>\r\n       <use x=\"63.623047\" xlink:href=\"#DejaVuSans-46\"/>\r\n       <use x=\"95.410156\" xlink:href=\"#DejaVuSans-52\"/>\r\n      </g>\r\n     </g>\r\n    </g>\r\n    <g id=\"xtick_4\">\r\n     <g id=\"line2d_4\">\r\n      <g>\r\n       <use style=\"stroke:#000000;stroke-width:0.8;\" x=\"226.902072\" xlink:href=\"#mb831f8b1d1\" y=\"224.64\"/>\r\n      </g>\r\n     </g>\r\n     <g id=\"text_4\">\r\n      <!-- 0.6 -->\r\n      <g transform=\"translate(218.950509 239.238437)scale(0.1 -0.1)\">\r\n       <defs>\r\n        <path d=\"M 33.015625 40.375 \r\nQ 26.375 40.375 22.484375 35.828125 \r\nQ 18.609375 31.296875 18.609375 23.390625 \r\nQ 18.609375 15.53125 22.484375 10.953125 \r\nQ 26.375 6.390625 33.015625 6.390625 \r\nQ 39.65625 6.390625 43.53125 10.953125 \r\nQ 47.40625 15.53125 47.40625 23.390625 \r\nQ 47.40625 31.296875 43.53125 35.828125 \r\nQ 39.65625 40.375 33.015625 40.375 \r\nz\r\nM 52.59375 71.296875 \r\nL 52.59375 62.3125 \r\nQ 48.875 64.0625 45.09375 64.984375 \r\nQ 41.3125 65.921875 37.59375 65.921875 \r\nQ 27.828125 65.921875 22.671875 59.328125 \r\nQ 17.53125 52.734375 16.796875 39.40625 \r\nQ 19.671875 43.65625 24.015625 45.921875 \r\nQ 28.375 48.1875 33.59375 48.1875 \r\nQ 44.578125 48.1875 50.953125 41.515625 \r\nQ 57.328125 34.859375 57.328125 23.390625 \r\nQ 57.328125 12.15625 50.6875 5.359375 \r\nQ 44.046875 -1.421875 33.015625 -1.421875 \r\nQ 20.359375 -1.421875 13.671875 8.265625 \r\nQ 6.984375 17.96875 6.984375 36.375 \r\nQ 6.984375 53.65625 15.1875 63.9375 \r\nQ 23.390625 74.21875 37.203125 74.21875 \r\nQ 40.921875 74.21875 44.703125 73.484375 \r\nQ 48.484375 72.75 52.59375 71.296875 \r\nz\r\n\" id=\"DejaVuSans-54\"/>\r\n       </defs>\r\n       <use xlink:href=\"#DejaVuSans-48\"/>\r\n       <use x=\"63.623047\" xlink:href=\"#DejaVuSans-46\"/>\r\n       <use x=\"95.410156\" xlink:href=\"#DejaVuSans-54\"/>\r\n      </g>\r\n     </g>\r\n    </g>\r\n    <g id=\"xtick_5\">\r\n     <g id=\"line2d_5\">\r\n      <g>\r\n       <use style=\"stroke:#000000;stroke-width:0.8;\" x=\"288.293507\" xlink:href=\"#mb831f8b1d1\" y=\"224.64\"/>\r\n      </g>\r\n     </g>\r\n     <g id=\"text_5\">\r\n      <!-- 0.8 -->\r\n      <g transform=\"translate(280.341945 239.238437)scale(0.1 -0.1)\">\r\n       <defs>\r\n        <path d=\"M 31.78125 34.625 \r\nQ 24.75 34.625 20.71875 30.859375 \r\nQ 16.703125 27.09375 16.703125 20.515625 \r\nQ 16.703125 13.921875 20.71875 10.15625 \r\nQ 24.75 6.390625 31.78125 6.390625 \r\nQ 38.8125 6.390625 42.859375 10.171875 \r\nQ 46.921875 13.96875 46.921875 20.515625 \r\nQ 46.921875 27.09375 42.890625 30.859375 \r\nQ 38.875 34.625 31.78125 34.625 \r\nz\r\nM 21.921875 38.8125 \r\nQ 15.578125 40.375 12.03125 44.71875 \r\nQ 8.5 49.078125 8.5 55.328125 \r\nQ 8.5 64.0625 14.71875 69.140625 \r\nQ 20.953125 74.21875 31.78125 74.21875 \r\nQ 42.671875 74.21875 48.875 69.140625 \r\nQ 55.078125 64.0625 55.078125 55.328125 \r\nQ 55.078125 49.078125 51.53125 44.71875 \r\nQ 48 40.375 41.703125 38.8125 \r\nQ 48.828125 37.15625 52.796875 32.3125 \r\nQ 56.78125 27.484375 56.78125 20.515625 \r\nQ 56.78125 9.90625 50.3125 4.234375 \r\nQ 43.84375 -1.421875 31.78125 -1.421875 \r\nQ 19.734375 -1.421875 13.25 4.234375 \r\nQ 6.78125 9.90625 6.78125 20.515625 \r\nQ 6.78125 27.484375 10.78125 32.3125 \r\nQ 14.796875 37.15625 21.921875 38.8125 \r\nz\r\nM 18.3125 54.390625 \r\nQ 18.3125 48.734375 21.84375 45.5625 \r\nQ 25.390625 42.390625 31.78125 42.390625 \r\nQ 38.140625 42.390625 41.71875 45.5625 \r\nQ 45.3125 48.734375 45.3125 54.390625 \r\nQ 45.3125 60.0625 41.71875 63.234375 \r\nQ 38.140625 66.40625 31.78125 66.40625 \r\nQ 25.390625 66.40625 21.84375 63.234375 \r\nQ 18.3125 60.0625 18.3125 54.390625 \r\nz\r\n\" id=\"DejaVuSans-56\"/>\r\n       </defs>\r\n       <use xlink:href=\"#DejaVuSans-48\"/>\r\n       <use x=\"63.623047\" xlink:href=\"#DejaVuSans-46\"/>\r\n       <use x=\"95.410156\" xlink:href=\"#DejaVuSans-56\"/>\r\n      </g>\r\n     </g>\r\n    </g>\r\n    <g id=\"xtick_6\">\r\n     <g id=\"line2d_6\">\r\n      <g>\r\n       <use style=\"stroke:#000000;stroke-width:0.8;\" x=\"349.684943\" xlink:href=\"#mb831f8b1d1\" y=\"224.64\"/>\r\n      </g>\r\n     </g>\r\n     <g id=\"text_6\">\r\n      <!-- 1.0 -->\r\n      <g transform=\"translate(341.733381 239.238437)scale(0.1 -0.1)\">\r\n       <defs>\r\n        <path d=\"M 12.40625 8.296875 \r\nL 28.515625 8.296875 \r\nL 28.515625 63.921875 \r\nL 10.984375 60.40625 \r\nL 10.984375 69.390625 \r\nL 28.421875 72.90625 \r\nL 38.28125 72.90625 \r\nL 38.28125 8.296875 \r\nL 54.390625 8.296875 \r\nL 54.390625 0 \r\nL 12.40625 0 \r\nz\r\n\" id=\"DejaVuSans-49\"/>\r\n       </defs>\r\n       <use xlink:href=\"#DejaVuSans-49\"/>\r\n       <use x=\"63.623047\" xlink:href=\"#DejaVuSans-46\"/>\r\n       <use x=\"95.410156\" xlink:href=\"#DejaVuSans-48\"/>\r\n      </g>\r\n     </g>\r\n    </g>\r\n   </g>\r\n   <g id=\"matplotlib.axis_2\">\r\n    <g id=\"ytick_1\">\r\n     <g id=\"line2d_7\">\r\n      <defs>\r\n       <path d=\"M 0 0 \r\nL -3.5 0 \r\n\" id=\"m8d002b487d\" style=\"stroke:#000000;stroke-width:0.8;\"/>\r\n      </defs>\r\n      <g>\r\n       <use style=\"stroke:#000000;stroke-width:0.8;\" x=\"30.103125\" xlink:href=\"#m8d002b487d\" y=\"202.924088\"/>\r\n      </g>\r\n     </g>\r\n     <g id=\"text_7\">\r\n      <!-- 0.0 -->\r\n      <g transform=\"translate(7.2 206.723307)scale(0.1 -0.1)\">\r\n       <use xlink:href=\"#DejaVuSans-48\"/>\r\n       <use x=\"63.623047\" xlink:href=\"#DejaVuSans-46\"/>\r\n       <use x=\"95.410156\" xlink:href=\"#DejaVuSans-48\"/>\r\n      </g>\r\n     </g>\r\n    </g>\r\n    <g id=\"ytick_2\">\r\n     <g id=\"line2d_8\">\r\n      <g>\r\n       <use style=\"stroke:#000000;stroke-width:0.8;\" x=\"30.103125\" xlink:href=\"#m8d002b487d\" y=\"165.755998\"/>\r\n      </g>\r\n     </g>\r\n     <g id=\"text_8\">\r\n      <!-- 0.2 -->\r\n      <g transform=\"translate(7.2 169.555216)scale(0.1 -0.1)\">\r\n       <use xlink:href=\"#DejaVuSans-48\"/>\r\n       <use x=\"63.623047\" xlink:href=\"#DejaVuSans-46\"/>\r\n       <use x=\"95.410156\" xlink:href=\"#DejaVuSans-50\"/>\r\n      </g>\r\n     </g>\r\n    </g>\r\n    <g id=\"ytick_3\">\r\n     <g id=\"line2d_9\">\r\n      <g>\r\n       <use style=\"stroke:#000000;stroke-width:0.8;\" x=\"30.103125\" xlink:href=\"#m8d002b487d\" y=\"128.587907\"/>\r\n      </g>\r\n     </g>\r\n     <g id=\"text_9\">\r\n      <!-- 0.4 -->\r\n      <g transform=\"translate(7.2 132.387126)scale(0.1 -0.1)\">\r\n       <use xlink:href=\"#DejaVuSans-48\"/>\r\n       <use x=\"63.623047\" xlink:href=\"#DejaVuSans-46\"/>\r\n       <use x=\"95.410156\" xlink:href=\"#DejaVuSans-52\"/>\r\n      </g>\r\n     </g>\r\n    </g>\r\n    <g id=\"ytick_4\">\r\n     <g id=\"line2d_10\">\r\n      <g>\r\n       <use style=\"stroke:#000000;stroke-width:0.8;\" x=\"30.103125\" xlink:href=\"#m8d002b487d\" y=\"91.419817\"/>\r\n      </g>\r\n     </g>\r\n     <g id=\"text_10\">\r\n      <!-- 0.6 -->\r\n      <g transform=\"translate(7.2 95.219036)scale(0.1 -0.1)\">\r\n       <use xlink:href=\"#DejaVuSans-48\"/>\r\n       <use x=\"63.623047\" xlink:href=\"#DejaVuSans-46\"/>\r\n       <use x=\"95.410156\" xlink:href=\"#DejaVuSans-54\"/>\r\n      </g>\r\n     </g>\r\n    </g>\r\n    <g id=\"ytick_5\">\r\n     <g id=\"line2d_11\">\r\n      <g>\r\n       <use style=\"stroke:#000000;stroke-width:0.8;\" x=\"30.103125\" xlink:href=\"#m8d002b487d\" y=\"54.251727\"/>\r\n      </g>\r\n     </g>\r\n     <g id=\"text_11\">\r\n      <!-- 0.8 -->\r\n      <g transform=\"translate(7.2 58.050945)scale(0.1 -0.1)\">\r\n       <use xlink:href=\"#DejaVuSans-48\"/>\r\n       <use x=\"63.623047\" xlink:href=\"#DejaVuSans-46\"/>\r\n       <use x=\"95.410156\" xlink:href=\"#DejaVuSans-56\"/>\r\n      </g>\r\n     </g>\r\n    </g>\r\n    <g id=\"ytick_6\">\r\n     <g id=\"line2d_12\">\r\n      <g>\r\n       <use style=\"stroke:#000000;stroke-width:0.8;\" x=\"30.103125\" xlink:href=\"#m8d002b487d\" y=\"17.083636\"/>\r\n      </g>\r\n     </g>\r\n     <g id=\"text_12\">\r\n      <!-- 1.0 -->\r\n      <g transform=\"translate(7.2 20.882855)scale(0.1 -0.1)\">\r\n       <use xlink:href=\"#DejaVuSans-49\"/>\r\n       <use x=\"63.623047\" xlink:href=\"#DejaVuSans-46\"/>\r\n       <use x=\"95.410156\" xlink:href=\"#DejaVuSans-48\"/>\r\n      </g>\r\n     </g>\r\n    </g>\r\n   </g>\r\n   <g id=\"patch_3\">\r\n    <path d=\"M 30.103125 224.64 \r\nL 30.103125 7.2 \r\n\" style=\"fill:none;stroke:#000000;stroke-linecap:square;stroke-linejoin:miter;stroke-width:0.8;\"/>\r\n   </g>\r\n   <g id=\"patch_4\">\r\n    <path d=\"M 364.903125 224.64 \r\nL 364.903125 7.2 \r\n\" style=\"fill:none;stroke:#000000;stroke-linecap:square;stroke-linejoin:miter;stroke-width:0.8;\"/>\r\n   </g>\r\n   <g id=\"patch_5\">\r\n    <path d=\"M 30.103125 224.64 \r\nL 364.903125 224.64 \r\n\" style=\"fill:none;stroke:#000000;stroke-linecap:square;stroke-linejoin:miter;stroke-width:0.8;\"/>\r\n   </g>\r\n   <g id=\"patch_6\">\r\n    <path d=\"M 30.103125 7.2 \r\nL 364.903125 7.2 \r\n\" style=\"fill:none;stroke:#000000;stroke-linecap:square;stroke-linejoin:miter;stroke-width:0.8;\"/>\r\n   </g>\r\n  </g>\r\n </g>\r\n <defs>\r\n  <clipPath id=\"pcb543b2951\">\r\n   <rect height=\"217.44\" width=\"334.8\" x=\"30.103125\" y=\"7.2\"/>\r\n  </clipPath>\r\n </defs>\r\n</svg>\r\n",
      "image/png": "[encoded data removed]"
     },
     "metadata": {
      "needs_background": "light"
     }
    }
   ],
   "source": [
    "x = plt.scatter(data[0], data[1])\n",
    "plt.show(x)"
   ]
  },
  {
   "cell_type": "code",
   "execution_count": null,
   "id": "circular-surgery",
   "metadata": {},
   "outputs": [],
   "source": []
  }
 ],
 "metadata": {
  "kernelspec": {
   "name": "python3810jvsc74a57bd08871505908338171594df7488f04715e61276beea7e120e9964f293a7d923d33",
   "display_name": "Python 3.8.10 64-bit ('DeepLearning': conda)"
  },
  "language_info": {
   "codemirror_mode": {
    "name": "ipython",
    "version": 3
   },
   "file_extension": ".py",
   "mimetype": "text/x-python",
   "name": "python",
   "nbconvert_exporter": "python",
   "pygments_lexer": "ipython3",
   "version": "3.8.10"
  },
  "varInspector": {
   "cols": {
    "lenName": 16,
    "lenType": 16,
    "lenVar": 40
   },
   "kernels_config": {
    "python": {
     "delete_cmd_postfix": "",
     "delete_cmd_prefix": "del ",
     "library": "var_list.py",
     "varRefreshCmd": "print(var_dic_list())"
    },
    "r": {
     "delete_cmd_postfix": ") ",
     "delete_cmd_prefix": "rm(",
     "library": "var_list.r",
     "varRefreshCmd": "cat(var_dic_list()) "
    }
   },
   "types_to_exclude": [
    "module",
    "function",
    "builtin_function_or_method",
    "instance",
    "_Feature"
   ],
   "window_display": false
  },
  "metadata": {
   "interpreter": {
    "hash": "8871505908338171594df7488f04715e61276beea7e120e9964f293a7d923d33"
   }
  }
 },
 "nbformat": 4,
 "nbformat_minor": 5
}