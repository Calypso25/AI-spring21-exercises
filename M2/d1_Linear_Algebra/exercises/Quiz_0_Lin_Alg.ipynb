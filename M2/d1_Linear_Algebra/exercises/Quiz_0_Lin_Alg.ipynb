{
  "cells": [
    {
      "cell_type": "markdown",
      "source": "# Vectors and Matrices\nTime to work! Do it with numpy first and then if you have time, manually by hand :)",
      "metadata": {
        "cell_id": "00000-54044a63-f0fc-4e71-b87f-1f243903b163",
        "deepnote_cell_type": "markdown"
      }
    },
    {
      "cell_type": "markdown",
      "source": "## Vectors",
      "metadata": {
        "cell_id": "00001-80e6ce74-5d73-4c5c-ac97-d0c53adb2ec4",
        "deepnote_cell_type": "markdown"
      }
    },
    {
      "cell_type": "markdown",
      "source": "Lists can be used to represent mathematical vectors. In this exercise and several that follow you will write functions to perform standard operations on vectors. Create a file named vectors.py or use the Jupyter notebook provided\n\nWrite a function add_vectors(u, v) that takes two lists of numbers of the same length, and returns a new list containing the sums of the corresponding elements of each.\n\n**Note that the text in \"\"\" \"\"\" is provided for you to accurately verify that your function works :)**",
      "metadata": {
        "cell_id": "00002-b4212299-93ad-4b28-8c9c-d572cf1e14ef",
        "deepnote_cell_type": "markdown"
      }
    },
    {
      "cell_type": "code",
      "metadata": {
        "cell_id": "00003-aa0c1cbf-810d-46e2-9259-32b64c06886b",
        "deepnote_to_be_reexecuted": false,
        "source_hash": "852a625f",
        "execution_millis": 76,
        "execution_start": 1617026265037,
        "deepnote_cell_type": "code"
      },
      "source": "import numpy as np\n\ndef add_vectors(u, v):\n    \"\"\"\n      >>> add_vectors([1, 0], [1, 1])\n      [2, 1]\n      >>> add_vectors([1, 2], [1, 4])\n      [2, 6]\n      >>> add_vectors([1, 2, 1], [1, 4, 3])\n      [2, 6, 4]\n      >>> add_vectors([11, 0, -4, 5], [2, -4, 17, 0])\n      [13, -4, 13, 5]\n      >>> a = [1, 2, 3]\n      >>> b = [1, 1, 1]\n      >>> add_vectors(a, b)\n      [2, 3, 4]\n      >>> a\n      [1, 2, 3]\n      >>> b\n      [1, 1, 1]\n    \"\"\"\n    listU = np.array(u)\n    listV = np.array(v)\n    newList = listU + listV\n    return newList \n\nprint(add_vectors([1, 0], [1, 1]))\nprint(add_vectors([1, 2], [1, 4]))\nprint(add_vectors([1, 2, 1], [1, 4, 3]))\n",
      "execution_count": 7,
      "outputs": [
        {
          "name": "stdout",
          "text": "[2 1]\n[2 6]\n[2 6 4]\n",
          "output_type": "stream"
        }
      ]
    },
    {
      "cell_type": "markdown",
      "source": "Write a function scalar_mult(s, v) that takes a number, s, and a list, v and returns the [scalar multiple](https://en.wikipedia.org/wiki/Scalar_multiplication) of v by s.",
      "metadata": {
        "cell_id": "00004-5f1d32d5-1caa-4c54-bd40-a9759af97a15",
        "deepnote_cell_type": "markdown"
      }
    },
    {
      "cell_type": "code",
      "metadata": {
        "cell_id": "00005-b893755d-3a53-40b1-9047-0c64420f3931",
        "deepnote_to_be_reexecuted": false,
        "source_hash": "d31a3e5c",
        "execution_millis": 10,
        "execution_start": 1617026646354,
        "deepnote_cell_type": "code"
      },
      "source": "def scalar_mult(s, v):\n    \"\"\"\n      >>> scalar_mult(5, [1, 2])\n      [5, 10]\n      >>> scalar_mult(3, [1, 0, -1])\n      [3, 0, -3]\n      >>> scalar_mult(7, [3, 0, 5, 11, 2])\n      [21, 0, 35, 77, 14]\n      >>> a = [1, 2, 3]\n      >>> scalar_mult(4, a)\n      [4, 8, 12]\n      >>> a\n      [1, 2, 3]\n    \"\"\"\n    scalar = np.array(s)\n    listV = np.array(v)\n    return print('Scalar multiple =',scalar * listV)\n\nscalar_mult(5, [1, 2])\nscalar_mult(3, [1, 0, -1])",
      "execution_count": 13,
      "outputs": [
        {
          "name": "stdout",
          "text": "Scalar multiple = [ 5 10]\nScalar multiple = [ 3  0 -3]\n",
          "output_type": "stream"
        }
      ]
    },
    {
      "cell_type": "markdown",
      "source": "Write a function dot_product(u, v) that takes two lists of numbers of the same length, and returns the sum of the products of the corresponding elements of each (the [dot_product](https://en.wikipedia.org/wiki/Dot_product).",
      "metadata": {
        "cell_id": "00006-3c79114d-999e-4467-bd6d-646c375a85d7",
        "deepnote_cell_type": "markdown"
      }
    },
    {
      "cell_type": "code",
      "metadata": {
        "cell_id": "00007-2f09c8d1-f19b-42ac-b2b7-426dc689b93f",
        "deepnote_to_be_reexecuted": false,
        "source_hash": "1b3688e",
        "execution_millis": 43,
        "execution_start": 1617026995607,
        "deepnote_cell_type": "code"
      },
      "source": "import numpy.matlib\n\ndef dot_product(u, v):\n    \"\"\"\n      >>> dot_product([1, 1], [1, 1])\n      2\n      >>> dot_product([1, 2], [1, 4])\n      9\n      >>> dot_product([1, 2, 1], [1, 4, 3])\n      12\n      >>> dot_product([2, 0, -1, 1], [1, 5, 2, 0])\n      0\n    \"\"\"\n    u = np.array(u)\n    v = np.array(v)\n    return np.dot(u,v)\nprint(dot_product([1, 1], [1, 1]))\nprint(dot_product([1, 2], [1, 4]))\n",
      "execution_count": 16,
      "outputs": [
        {
          "name": "stdout",
          "text": "2\n9\n",
          "output_type": "stream"
        }
      ]
    },
    {
      "cell_type": "markdown",
      "source": "## Matrices",
      "metadata": {
        "cell_id": "00008-ff5eef0c-3cd9-487f-a0b5-d5f90673a419",
        "deepnote_cell_type": "markdown"
      }
    },
    {
      "cell_type": "markdown",
      "source": "Create a new module named matrices.py or *use the Jupyter notebook provided* and add the following function, which returns a copy of nested lists of numbers such that the lists are not aliases:",
      "metadata": {
        "cell_id": "00009-afca4ce0-3a83-49dd-89c8-06903a5b329e",
        "deepnote_cell_type": "markdown"
      }
    },
    {
      "cell_type": "code",
      "metadata": {
        "cell_id": "00010-79952295-5a25-4d63-863c-5847560ccb02",
        "deepnote_to_be_reexecuted": false,
        "source_hash": "8bb647e0",
        "execution_millis": 6,
        "execution_start": 1617028363160,
        "deepnote_cell_type": "code"
      },
      "source": "def copy_matrix(matrix):\n    \"\"\"\n      >>> copy_matrix([[1, 2], [3, 4]])\n      [[1, 2], [3, 4]]\n      >>> copy_matrix([[1, 2, 3], [4, 5, 6]])\n      [[1, 2, 3], [4, 5, 6]]\n      >>> copy_matrix([[1, 2], [3, 4], [5, 6], [7, 8]])\n      [[1, 2], [3, 4], [5, 6], [7, 8]]\n      >>> m = [[1, 0, 0], [0, 2, 0], [0, 0, 3]]\n      >>> copyofm = copy_matrix(m)\n      >>> copyofm\n      [[1, 0, 0], [0, 2, 0], [0, 0, 3]]\n      >>> for row_num, row in enumerate(copyofm):\n      ...     for col_num, col_val in enumerate(row):\n      ...         copyofm[row_num][col_num] = 42\n      ...\n      >>> copyofm\n      [[42, 42, 42], [42, 42, 42], [42, 42, 42]]\n      >>> m\n      [[1, 0, 0], [0, 2, 0], [0, 0, 3]]\n    \"\"\"\n    matrix = [matrix]\n    output = [] \n    for items in range(len(matrix)):\n      temp = []\n      for elem in matrix[items]:\n        temp.append(elem)\n      output.append(temp)\n    return output\n\nprint (copy_matrix([[1, 2], [3, 4]]))\nprint (copy_matrix([[1, 2, 3], [4, 5, 6]]))\n",
      "execution_count": 19,
      "outputs": [
        {
          "name": "stdout",
          "text": "[[[1, 2], [3, 4]]]\n[[[1, 2, 3], [4, 5, 6]]]\n",
          "output_type": "stream"
        }
      ]
    },
    {
      "cell_type": "code",
      "metadata": {
        "cell_id": "00011-4c762d57-5e7a-412d-bdeb-7afc50642579",
        "deepnote_cell_type": "code"
      },
      "source": "def add_row(matrix):\n    \"\"\"\n      >>> m = [[0, 0], [0, 0]]\n      >>> add_row(m)\n      [[0, 0], [0, 0], [0, 0]]\n      >>> n = [[3, 2, 5], [1, 4, 7]]\n      >>> add_row(n)\n      [[3, 2, 5], [1, 4, 7], [0, 0, 0]]\n      >>> n\n      [[3, 2, 5], [1, 4, 7]]\n    \"\"\"\n    for row in matrix:\n    row.insert(0, a)\n",
      "execution_count": null,
      "outputs": []
    },
    {
      "cell_type": "code",
      "metadata": {
        "cell_id": "00012-d894b998-9ec1-4418-836a-2cec0811e243",
        "deepnote_cell_type": "code"
      },
      "source": "def add_column(matrix):\n    \"\"\"\n      >>> m = [[0, 0], [0, 0]]\n      >>> add_column(m)\n      [[0, 0, 0], [0, 0, 0]]\n      >>> n = [[3, 2], [5, 1], [4, 7]]\n      >>> add_column(n)\n      [[3, 2, 0], [5, 1, 0], [4, 7, 0]]\n      >>> n\n      [[3, 2], [5, 1], [4, 7]]\n    \"\"\"",
      "execution_count": null,
      "outputs": []
    },
    {
      "cell_type": "markdown",
      "source": "Write a function add_matrices(m1, m2) that adds m1 and m2 and returns a new matrix containing their sum. You can assume that m1 and m2 are the same size. You add two matrices by adding their corresponding values.",
      "metadata": {
        "cell_id": "00013-7d76697e-2438-4229-b69e-9d42f68c013c",
        "deepnote_cell_type": "markdown"
      }
    },
    {
      "cell_type": "code",
      "metadata": {
        "cell_id": "00014-5b9c4b91-0049-4fdd-803b-f119b57a8409",
        "deepnote_cell_type": "code"
      },
      "source": "def add_matrices(m1, m2):\n    \"\"\"\n      >>> a = [[1, 2], [3, 4]]\n      >>> b = [[2, 2], [2, 2]]\n      >>> add_matrices(a, b)\n      [[3, 4], [5, 6]]\n      >>> c = [[8, 2], [3, 4], [5, 7]]\n      >>> d = [[3, 2], [9, 2], [10, 12]]\n      >>> add_matrices(c, d)\n      [[11, 4], [12, 6], [15, 19]]\n      >>> c\n      [[8, 2], [3, 4], [5, 7]]\n      >>> d\n      [[3, 2], [9, 2], [10, 12]]\n   \"\"\"",
      "execution_count": 7,
      "outputs": []
    },
    {
      "cell_type": "markdown",
      "source": "Write a function scalar_mult(s, m) that multiplies a matrix, m, by a scalar, s.",
      "metadata": {
        "cell_id": "00015-c1066cdf-2e17-4d3b-a931-cae35f3336d9",
        "deepnote_cell_type": "markdown"
      }
    },
    {
      "cell_type": "code",
      "metadata": {
        "cell_id": "00016-13b31c15-3d38-43c7-b552-dbdd043b3a32",
        "deepnote_cell_type": "code"
      },
      "source": "def scalar_mult(s, m):\n    \"\"\"\n      >>> a = [[1, 2], [3, 4]]\n      >>> scalar_mult(3, a)\n      [[3, 6], [9, 12]]\n      >>> b = [[3, 5, 7], [1, 1, 1], [0, 2, 0], [2, 2, 3]]\n      >>> scalar_mult(10, b)\n      [[30, 50, 70], [10, 10, 10], [0, 20, 0], [20, 20, 30]]\n      >>> b\n      [[3, 5, 7], [1, 1, 1], [0, 2, 0], [2, 2, 3]]\n    \"\"\"",
      "execution_count": 8,
      "outputs": []
    },
    {
      "cell_type": "markdown",
      "source": "Write functions row_times_column and matrix_mult:",
      "metadata": {
        "cell_id": "00017-76abc8d8-a859-41d1-b640-cfd321e3983c",
        "deepnote_cell_type": "markdown"
      }
    },
    {
      "cell_type": "code",
      "metadata": {
        "cell_id": "00018-20ae5ff8-d185-4565-8bfa-7f3bbd2336f3",
        "deepnote_cell_type": "code"
      },
      "source": "def row_times_column(m1, row, m2, column):\n    \"\"\"\n      >>> row_times_column([[1, 2], [3, 4]], 0, [[5, 6], [7, 8]], 0)\n      19\n      >>> row_times_column([[1, 2], [3, 4]], 0, [[5, 6], [7, 8]], 1)\n      22\n      >>> row_times_column([[1, 2], [3, 4]], 1, [[5, 6], [7, 8]], 0)\n      43\n      >>> row_times_column([[1, 2], [3, 4]], 1, [[5, 6], [7, 8]], 1)\n      50\n    \"\"\"",
      "execution_count": 9,
      "outputs": []
    },
    {
      "cell_type": "code",
      "metadata": {
        "cell_id": "00019-8cae2677-e462-4a4a-96a5-5c43cffbacf8",
        "deepnote_cell_type": "code"
      },
      "source": "def matrix_mult(m1, m2):\n   \"\"\"\n      >>> matrix_mult([[1, 2], [3,  4]], [[5, 6], [7, 8]])\n      [[19, 22], [43, 50]]\n      >>> matrix_mult([[1, 2, 3], [4,  5, 6]], [[7, 8], [9, 1], [2, 3]])\n      [[31, 19], [85, 55]]\n      >>> matrix_mult([[7, 8], [9, 1], [2, 3]], [[1, 2, 3], [4, 5, 6]])\n      [[39, 54, 69], [13, 23, 33], [14, 19, 24]]\n    \"\"\"",
      "execution_count": 10,
      "outputs": []
    },
    {
      "cell_type": "markdown",
      "source": "Write a function transpose that takes a matrix as an argument and returns is transpose:",
      "metadata": {
        "cell_id": "00020-a15ee500-c21d-46fd-ad50-41e265f6253e",
        "deepnote_cell_type": "markdown"
      }
    },
    {
      "cell_type": "code",
      "metadata": {
        "cell_id": "00021-26802b0d-db27-41af-bca9-05dc4990557d",
        "deepnote_cell_type": "code"
      },
      "source": "def transpose(m):\n   \"\"\"\n     >>> m = [[3, 4, 6]]\n     >>> transpose(m)\n     [[3], [4], [6]]\n     >>> m\n     [3, 4, 6]\n     >>> m = [[3, 4, 6], [1, 5, 9]]\n     >>> transpose(m)\n     [[3, 1], [4, 5], [6, 9]]\n   \"\"\"",
      "execution_count": 11,
      "outputs": []
    },
    {
      "cell_type": "markdown",
      "source": "<a style='text-decoration:none;line-height:16px;display:flex;color:#5B5B62;padding:10px;justify-content:end;' href='https://deepnote.com?utm_source=created-in-deepnote-cell&projectId=78b33a6b-1e92-409e-9adb-4e65a49c7fa3' target=\"_blank\">\n<img style='display:inline;max-height:16px;margin:0px;margin-right:7.5px;' src='data:image/svg+xml;base64,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' > </img>\nCreated in <span style='font-weight:600;margin-left:4px;'>Deepnote</span></a>",
      "metadata": {
        "tags": [],
        "created_in_deepnote_cell": true,
        "deepnote_cell_type": "markdown"
      }
    }
  ],
  "nbformat": 4,
  "nbformat_minor": 2,
  "metadata": {
    "kernelspec": {
      "display_name": "Python 3",
      "language": "python",
      "name": "python3"
    },
    "language_info": {
      "codemirror_mode": {
        "name": "ipython",
        "version": 3
      },
      "file_extension": ".py",
      "mimetype": "text/x-python",
      "name": "python",
      "nbconvert_exporter": "python",
      "pygments_lexer": "ipython3",
      "version": "3.8.5"
    },
    "deepnote_notebook_id": "793a58eb-db50-4fa3-96a5-642f1c7d0a0d",
    "deepnote": {},
    "deepnote_execution_queue": []
  }
}