{
  "cells": [
    {
      "cell_type": "markdown",
      "source": "## **Write your answers directly in the cells on this notebook.**\n\n### Show the entire process, from the initial fractions to the final result. \nThe probability results must be a decimal value between 0.0 and 1.0. Round your number to the third decimal (e.g 0.574).**",
      "metadata": {
        "cell_id": "00000-68630cb6-88fd-4b90-bd3b-7195b390be01",
        "deepnote_cell_type": "markdown"
      }
    },
    {
      "cell_type": "markdown",
      "source": "Consider the following boxes (two boxes (red/blue) with two types of balls (green/orange)):\n",
      "metadata": {
        "cell_id": "00001-cb1d58ef-6791-4bed-ae04-3454db63e9b4",
        "deepnote_cell_type": "markdown"
      }
    },
    {
      "cell_type": "markdown",
      "source": "![Picture title](image-20210401-155119.png)",
      "metadata": {
        "tags": [],
        "cell_id": "00002-ecdba8f1-f473-4c20-a8b8-242fcc453c5a",
        "deepnote_cell_type": "markdown"
      }
    },
    {
      "cell_type": "markdown",
      "source": "#### Exercise 1: which is the probability of selecting the red box?",
      "metadata": {
        "cell_id": "00002-1530d2e1-28b6-47c9-a1dc-d3e508c1adf1",
        "deepnote_cell_type": "markdown"
      }
    },
    {
      "cell_type": "code",
      "metadata": {
        "cell_id": "00003-2d91c7d9-47e5-488b-a18d-8c8c62f5a5dc",
        "deepnote_to_be_reexecuted": false,
        "source_hash": "7acd517f",
        "execution_millis": 25,
        "execution_start": 1617283246576,
        "deepnote_cell_type": "code"
      },
      "source": "red = 1/2\nprint(red)\n\nblue = 1/3\nprint(blue)\n\nblue =  round(blue,3)\nprint(blue)",
      "execution_count": 1,
      "outputs": [
        {
          "name": "stdout",
          "text": "0.5\n0.3333333333333333\n0.333\n",
          "output_type": "stream"
        }
      ]
    },
    {
      "cell_type": "code",
      "source": "get_red_box = 1/2\nget_red_box = float(get_red_box)\nget_blue_box = 1/2\nget_blue_box = float(get_blue_box)\nprint(get_red_box)",
      "metadata": {
        "tags": [],
        "cell_id": "00004-b3b17671-452e-4517-9ed3-74f60ef6a2e7",
        "deepnote_to_be_reexecuted": false,
        "source_hash": "bf2e0c53",
        "execution_millis": 13,
        "execution_start": 1617283246598,
        "deepnote_cell_type": "code"
      },
      "outputs": [
        {
          "name": "stdout",
          "text": "0.5\n",
          "output_type": "stream"
        }
      ],
      "execution_count": 2
    },
    {
      "cell_type": "markdown",
      "source": "#### Exercise 2: if you want to run out of balls both boxes at the same time, how often should you select the blue box?",
      "metadata": {
        "cell_id": "00004-bf5d762a-6edb-4d1b-8f4f-6c46762a0006",
        "deepnote_cell_type": "markdown"
      }
    },
    {
      "cell_type": "code",
      "metadata": {
        "cell_id": "00005-4e34f99d-01f7-4c16-a1f2-060780c54162",
        "deepnote_to_be_reexecuted": false,
        "source_hash": "1cebf95",
        "execution_millis": 13,
        "execution_start": 1617283246651,
        "deepnote_cell_type": "code"
      },
      "source": "# balls_in_red = \n\nblue = 4/12\nred = 8/12\nblue_red = round(blue / red * red, 3)\nprint(blue_red)",
      "execution_count": 3,
      "outputs": [
        {
          "name": "stdout",
          "text": "0.333\n",
          "output_type": "stream"
        }
      ]
    },
    {
      "cell_type": "markdown",
      "source": "#### Exercise 3: which is the probability of picking up a green ball if you are using the red box?",
      "metadata": {
        "cell_id": "00006-2e615748-d7e4-41ff-8726-44f9912c9aab",
        "deepnote_cell_type": "markdown"
      }
    },
    {
      "cell_type": "code",
      "metadata": {
        "cell_id": "00007-83cd2730-cd8b-4a6f-8d18-5a0b9f928811",
        "deepnote_to_be_reexecuted": false,
        "source_hash": "48a35eee",
        "execution_millis": 12,
        "execution_start": 1617283246652,
        "deepnote_cell_type": "code"
      },
      "source": "green_ball = 2/8\nprint(round(green_ball, 3))",
      "execution_count": 4,
      "outputs": [
        {
          "name": "stdout",
          "text": "0.25\n",
          "output_type": "stream"
        }
      ]
    },
    {
      "cell_type": "markdown",
      "source": "#### Exercise 4: which is the probability of picking up an orange ball (any of the boxes)?",
      "metadata": {
        "cell_id": "00008-1b0b1b0a-478e-45fe-bf77-99b87c9eea58",
        "deepnote_cell_type": "markdown"
      }
    },
    {
      "cell_type": "code",
      "metadata": {
        "cell_id": "00009-f59985a0-4a67-4356-aa7f-eb468bd396a5",
        "deepnote_to_be_reexecuted": false,
        "source_hash": "d5650f1a",
        "execution_millis": 11,
        "execution_start": 1617283774379,
        "deepnote_cell_type": "code"
      },
      "source": "orange_ball = 7/12\nprint(round(orange_ball, 3))",
      "execution_count": 20,
      "outputs": [
        {
          "name": "stdout",
          "text": "0.583\n",
          "output_type": "stream"
        }
      ]
    },
    {
      "cell_type": "markdown",
      "source": "#### Optional Exercise 5: given that you picked up a green ball, which is the probability of having selected the red box?",
      "metadata": {
        "cell_id": "00010-f67afe79-9a14-453f-97f6-c0ccab72ded3",
        "deepnote_cell_type": "markdown"
      }
    },
    {
      "cell_type": "code",
      "metadata": {
        "cell_id": "00011-06d778bc-5689-46d8-b9f9-e99c9c9047b1",
        "deepnote_to_be_reexecuted": false,
        "source_hash": "d633307a",
        "execution_start": 1617283769872,
        "execution_millis": 0,
        "deepnote_cell_type": "code"
      },
      "source": "# No need to use the Bayes Theorem as it has not been explained in class\ngreen_ball = 5/12\ngreen_ball_in_red = 2/5",
      "execution_count": 19,
      "outputs": []
    },
    {
      "cell_type": "markdown",
      "source": "#### Optional Exercise 6: I have chosen a ball from a box and I picked up a green one. Which is the probability of having used the blue box?",
      "metadata": {
        "cell_id": "00012-ddb756e7-48eb-4423-bc88-8c151b7ac90b",
        "deepnote_cell_type": "markdown"
      }
    },
    {
      "cell_type": "code",
      "metadata": {
        "cell_id": "00013-583b0efe-68ba-4950-8bac-03b9c51d1174",
        "deepnote_to_be_reexecuted": false,
        "source_hash": "eb50ba7f",
        "execution_start": 1617283246707,
        "deepnote_cell_type": "code"
      },
      "source": "# No need to use the Bayes Theorem as it has not been explained in class",
      "execution_count": 7,
      "outputs": []
    },
    {
      "cell_type": "markdown",
      "source": "Now consider a standard deck of cards (the one used in Poker):\n![image.png](attachment:image.png)",
      "metadata": {
        "cell_id": "00014-32e1ac89-b047-41aa-b0df-fc8f41475a08",
        "deepnote_cell_type": "markdown"
      }
    },
    {
      "cell_type": "markdown",
      "source": "#### Exercise 7: which is the probability of drawing an Ace?",
      "metadata": {
        "cell_id": "00015-6980ab72-41f5-4026-b1f3-8a0e81c3174c",
        "deepnote_cell_type": "markdown"
      }
    },
    {
      "cell_type": "code",
      "metadata": {
        "cell_id": "00016-68aafd49-4a82-48b0-bf45-b2bf961bcc90",
        "deepnote_to_be_reexecuted": false,
        "source_hash": "edd650c2",
        "execution_millis": 1,
        "execution_start": 1617283819856,
        "deepnote_cell_type": "code"
      },
      "source": "# Create function that returns probability percent rounded to three decimal places\ndef event_probability(event_outcomes, sample_space):\n    probability = event_outcomes / sample_space\n    return round(probability, 3)",
      "execution_count": 22,
      "outputs": []
    },
    {
      "cell_type": "code",
      "metadata": {
        "cell_id": "00017-fb9c20c9-3324-4146-847e-39c3aced0725",
        "deepnote_to_be_reexecuted": false,
        "source_hash": "6bbf4fcf",
        "execution_start": 1617283246738,
        "deepnote_cell_type": "code"
      },
      "source": "# Using the previously defined function: Determine the probability of drawing an Ace",
      "execution_count": 9,
      "outputs": []
    },
    {
      "cell_type": "code",
      "source": "event_probability(4,52)",
      "metadata": {
        "tags": [],
        "cell_id": "00019-bbffd2c5-ccb8-4fac-b7b0-b0ab529689a6",
        "deepnote_to_be_reexecuted": false,
        "source_hash": "3d5ed637",
        "execution_millis": 7,
        "execution_start": 1617283828118,
        "deepnote_cell_type": "code"
      },
      "outputs": [
        {
          "output_type": "execute_result",
          "execution_count": 24,
          "data": {
            "text/plain": "0.077"
          },
          "metadata": {}
        }
      ],
      "execution_count": 24
    },
    {
      "cell_type": "markdown",
      "source": "#### Exercise 8: which is the probability of drawing a card that is a Heart?",
      "metadata": {
        "cell_id": "00018-f79adc04-09eb-438d-939c-316c56a960de",
        "deepnote_cell_type": "markdown"
      }
    },
    {
      "cell_type": "code",
      "source": "event_probability(13,52)",
      "metadata": {
        "tags": [],
        "cell_id": "00021-b5d5d16b-d8e2-4c9e-aab2-3e55600ea664",
        "deepnote_to_be_reexecuted": false,
        "source_hash": "d3e5f356",
        "execution_start": 1617283834695,
        "execution_millis": 549,
        "deepnote_cell_type": "code"
      },
      "outputs": [
        {
          "output_type": "execute_result",
          "execution_count": 25,
          "data": {
            "text/plain": "0.25"
          },
          "metadata": {}
        }
      ],
      "execution_count": 25
    },
    {
      "cell_type": "code",
      "metadata": {
        "cell_id": "00019-f200a443-ca7e-44cc-813d-e7ef3b9ab654",
        "deepnote_to_be_reexecuted": false,
        "source_hash": "d81a993e",
        "execution_start": 1617283246740,
        "deepnote_cell_type": "code"
      },
      "source": "# Using the previously defined function: Determine the probability of drawing a heart",
      "execution_count": 10,
      "outputs": []
    },
    {
      "cell_type": "markdown",
      "source": "#### Exercise 9: which is the probability of drawing a face card (such as Jacks, Queens, or Kings)?",
      "metadata": {
        "cell_id": "00020-462649e2-756f-4053-a51e-e4f1eb1eae4c",
        "deepnote_cell_type": "markdown"
      }
    },
    {
      "cell_type": "code",
      "metadata": {
        "cell_id": "00021-be3c844e-1b14-44c8-8d57-363c77cc9cb3",
        "deepnote_to_be_reexecuted": false,
        "source_hash": "67471f6e",
        "execution_start": 1617283246754,
        "deepnote_cell_type": "code"
      },
      "source": "# Using the previously defined function: Determine the probability of drawing a face card",
      "execution_count": 11,
      "outputs": []
    },
    {
      "cell_type": "code",
      "source": "event_probability(12,52)",
      "metadata": {
        "tags": [],
        "cell_id": "00025-bdb4899c-99ce-4ae7-b576-0384e7ca5f8f",
        "deepnote_cell_type": "code"
      },
      "outputs": [],
      "execution_count": null
    },
    {
      "cell_type": "markdown",
      "source": "#### Exercise 10: which is the probability of drawing a face card which is also a Heart?",
      "metadata": {
        "cell_id": "00022-ddb3ebd2-183c-45ef-b082-122a6ab7174c",
        "deepnote_cell_type": "markdown"
      }
    },
    {
      "cell_type": "code",
      "metadata": {
        "cell_id": "00023-9043e8e4-4828-4861-9d05-261259f0d4ec",
        "deepnote_to_be_reexecuted": false,
        "source_hash": "3ebdd37a",
        "execution_start": 1617283246799,
        "deepnote_cell_type": "code"
      },
      "source": "# Using the previously defined function: Determine the probability of drawing the jack, queen or king  of hearts",
      "execution_count": 12,
      "outputs": []
    },
    {
      "cell_type": "code",
      "source": "event_probability(12/13,52)",
      "metadata": {
        "tags": [],
        "cell_id": "00028-d2d4874d-8902-419a-8e05-c908484b2cf3",
        "deepnote_to_be_reexecuted": false,
        "source_hash": "9558ff71",
        "execution_millis": 187,
        "execution_start": 1617283846775,
        "deepnote_cell_type": "code"
      },
      "outputs": [
        {
          "output_type": "execute_result",
          "execution_count": 26,
          "data": {
            "text/plain": "0.018"
          },
          "metadata": {}
        }
      ],
      "execution_count": 26
    },
    {
      "cell_type": "markdown",
      "source": "#### Exercise 11: which is the probability of drawing an Ace on the second draw, if the first card drawn was a King?",
      "metadata": {
        "cell_id": "00024-364a388c-000f-4e27-ade6-44e13e5c40e1",
        "deepnote_cell_type": "markdown"
      }
    },
    {
      "cell_type": "code",
      "metadata": {
        "cell_id": "00025-ea680fa8-bece-401c-af9a-4d6837e69e52",
        "deepnote_to_be_reexecuted": false,
        "source_hash": "2fc8ef3",
        "execution_start": 1617283246800,
        "deepnote_cell_type": "code"
      },
      "source": "# Using the previously defined function: Determine the probability of drawing an Ace after drawing a King on the first draw",
      "execution_count": 13,
      "outputs": []
    },
    {
      "cell_type": "code",
      "source": "event_probability(4,51)",
      "metadata": {
        "tags": [],
        "cell_id": "00031-83df4ac0-c0d3-4824-a767-6c929774d79e",
        "deepnote_to_be_reexecuted": false,
        "source_hash": "1c1e4b96",
        "execution_start": 1617283894910,
        "execution_millis": 7,
        "deepnote_cell_type": "code"
      },
      "outputs": [
        {
          "output_type": "execute_result",
          "execution_count": 27,
          "data": {
            "text/plain": "0.078"
          },
          "metadata": {}
        }
      ],
      "execution_count": 27
    },
    {
      "cell_type": "markdown",
      "source": "#### Exercise 12: which is the probability of drawing an Ace on the second draw, if the first card drawn was an Ace?",
      "metadata": {
        "cell_id": "00026-9a1c0e5f-865a-425e-b579-bf65ffd372b5",
        "deepnote_cell_type": "markdown"
      }
    },
    {
      "cell_type": "code",
      "metadata": {
        "cell_id": "00027-75a5f3ef-c4a1-47a0-a8ae-a1f11e6c1ee6",
        "deepnote_to_be_reexecuted": false,
        "source_hash": "c4499b2c",
        "execution_start": 1617283246817,
        "deepnote_cell_type": "code"
      },
      "source": "# Using the previously defined function: Determine the probability of drawing an Ace after drawing an Ace on the first draw",
      "execution_count": 14,
      "outputs": []
    },
    {
      "cell_type": "markdown",
      "source": "Now consider the following situation:\n\nYou are playing Poker in the [Texas Holdem variant](https://en.wikipedia.org/wiki/Texas_hold_%27em). In case you are not familiar, it is a variant of poker in which each player has two cards and there is a set of community cards to play from. \n![image.png](attachment:image.png)",
      "metadata": {
        "cell_id": "00028-fae7d814-3f49-47b0-8da7-5414e40781c7",
        "deepnote_cell_type": "markdown"
      }
    },
    {
      "cell_type": "markdown",
      "source": "#### Exercise 13: what is the probability that the next card drawn will be a Diamond card?",
      "metadata": {
        "cell_id": "00029-6c475741-562e-4105-89a4-140c1f5cfd62",
        "deepnote_cell_type": "markdown"
      }
    },
    {
      "cell_type": "code",
      "metadata": {
        "cell_id": "00030-a4d4e4b8-3c94-4be6-ad08-54fd98b18bf6",
        "deepnote_to_be_reexecuted": false,
        "source_hash": "aeb3ee19",
        "execution_millis": 5,
        "execution_start": 1617287127414,
        "deepnote_cell_type": "code"
      },
      "source": "# Sample Space\ncards = 52\nplayer_cards = 2\nturn_community_cards = 4\ncards = cards - (player_cards + turn_community_cards)\n\n# Outcomes\ndiamonds = 13  \ndiamonds_drawn = 4\n\n# In poker, cards that complete a draw are known as \"outs\"\nouts = diamonds  -  diamonds_drawn\n\n#Determine river flush probability using the previously defined function\nriver_flush_probability = event_probability(outs, cards)\nriver_flush_probability",
      "execution_count": 45,
      "outputs": [
        {
          "output_type": "execute_result",
          "execution_count": 45,
          "data": {
            "text/plain": "0.196"
          },
          "metadata": {}
        }
      ]
    },
    {
      "cell_type": "markdown",
      "source": "Now consider the following situation:\n![image.png](attachment:image.png)",
      "metadata": {
        "cell_id": "00031-137ff1c4-8101-45b5-bd23-acc24b7d4a21",
        "deepnote_cell_type": "markdown"
      }
    },
    {
      "cell_type": "markdown",
      "source": "#### Exercise 14: which is the probability that with the next card drawn there will be five cards in sequential order? \n\n(Notice that any Eight ( 8, 9, 10, Jack, Queen) or any King (9, 10, Jack, Queen, King) will complete the straight)",
      "metadata": {
        "cell_id": "00032-0bf77e33-bb6d-4f5a-b31c-722f42f47f7e",
        "deepnote_cell_type": "markdown"
      }
    },
    {
      "cell_type": "code",
      "metadata": {
        "cell_id": "00033-14f87edc-8bcf-409d-a53c-c3ac48c2e77a",
        "deepnote_to_be_reexecuted": false,
        "source_hash": "49316139",
        "execution_start": 1617283989009,
        "execution_millis": 18,
        "deepnote_cell_type": "code"
      },
      "source": "# Sample Space\ncards = 52\nplayer_cards = 2\nturn_community_cards = 4\ncards = cards - (player_cards + turn_community_cards)\n\n# Outcomes\neight_or_king = 8\neight_or_king_drawn = 0 \n\n# In poker, cards that complete a draw are known as \"outs\"\nouts = eight_or_king - eight_or_king_drawn #9 diamonds left in the game\n\n#Determine river flush probability using the previously defined function\nriver_flush_probability = event_probability(outs, cards)\nriver_flush_probability",
      "execution_count": 30,
      "outputs": [
        {
          "output_type": "execute_result",
          "execution_count": 30,
          "data": {
            "text/plain": "0.174"
          },
          "metadata": {}
        }
      ]
    },
    {
      "cell_type": "markdown",
      "source": "## Now, we keep playing Texas Holdem \n![](https://media.giphy.com/media/EQBsWLfdxHW01Y1OHK/giphy.gif)\n### But looking only at the cards we could have in our hand\n### (2 possible drawing events, ignore community cards)\n#### Exercise 15: which is the probability of drawing a heart OR drawing a club?",
      "metadata": {
        "cell_id": "00034-0ff91870-f24f-42d4-8c0a-cca1b411075e",
        "deepnote_cell_type": "markdown"
      }
    },
    {
      "cell_type": "code",
      "metadata": {
        "cell_id": "00035-09e49059-a9d3-405f-a1e9-899c19b5dc37",
        "deepnote_to_be_reexecuted": true,
        "source_hash": "2132e18e",
        "deepnote_cell_type": "code"
      },
      "source": "# Calculate the probability of drawing a heart or a club",
      "execution_count": null,
      "outputs": []
    },
    {
      "cell_type": "code",
      "source": "card1 = 13/52\ncard2 = 13/52\nprob = card1 + card2\nprint(prob)",
      "metadata": {
        "tags": [],
        "cell_id": "00042-b84feaa6-accd-460c-88a7-a2da902315b2",
        "deepnote_to_be_reexecuted": false,
        "source_hash": "2b2a0b",
        "execution_start": 1617284043966,
        "execution_millis": 12,
        "deepnote_cell_type": "code"
      },
      "outputs": [
        {
          "name": "stdout",
          "text": "0.5\n",
          "output_type": "stream"
        }
      ],
      "execution_count": 31
    },
    {
      "cell_type": "markdown",
      "source": "#### Exercise 16: which is the probability of drawing an ace, a king or a queen?",
      "metadata": {
        "cell_id": "00036-70072158-47ea-44da-b70f-cc24efa22dc9",
        "deepnote_cell_type": "markdown"
      }
    },
    {
      "cell_type": "code",
      "metadata": {
        "cell_id": "00037-1f709df6-d331-4b65-9bd6-9c1093505278",
        "deepnote_to_be_reexecuted": true,
        "source_hash": "7e0d87f3",
        "deepnote_cell_type": "code"
      },
      "source": "# Calculate the probability of drawing an ace, king, or a queen",
      "execution_count": null,
      "outputs": []
    },
    {
      "cell_type": "code",
      "source": "card1 = 4/52\ncard2 = 4/52\ncard3 = 4/52\nprob = card1 + card2 + card3\n\nprob",
      "metadata": {
        "tags": [],
        "cell_id": "00045-4f116513-c0e4-4bff-8508-a6a3361c0d2f",
        "deepnote_to_be_reexecuted": false,
        "source_hash": "8f682c",
        "execution_start": 1617284319465,
        "execution_millis": 17,
        "deepnote_cell_type": "code"
      },
      "outputs": [
        {
          "output_type": "execute_result",
          "execution_count": 32,
          "data": {
            "text/plain": "0.23076923076923078"
          },
          "metadata": {}
        }
      ],
      "execution_count": 32
    },
    {
      "cell_type": "markdown",
      "source": "#### Exercise 17: which is the probability of drawing a heart or an ace?",
      "metadata": {
        "cell_id": "00038-6ce42996-bade-4acc-bea8-24de7e0caa27",
        "deepnote_cell_type": "markdown"
      }
    },
    {
      "cell_type": "code",
      "metadata": {
        "cell_id": "00039-58fb4313-d56f-44d2-a95c-2f4d6be64ad4",
        "deepnote_to_be_reexecuted": true,
        "source_hash": "cdea437",
        "deepnote_cell_type": "code"
      },
      "source": "# Calculate the probability of drawing a heart or an ace",
      "execution_count": null,
      "outputs": []
    },
    {
      "cell_type": "code",
      "source": "card1 = 13/52\ncard2 = 4/52\nprob = round(card1 + card2,3)\nprob",
      "metadata": {
        "tags": [],
        "cell_id": "00048-84da3077-f953-411b-a006-6521c04fa580",
        "deepnote_to_be_reexecuted": false,
        "source_hash": "a1644b08",
        "execution_start": 1617284361433,
        "execution_millis": 17,
        "deepnote_cell_type": "code"
      },
      "outputs": [
        {
          "output_type": "execute_result",
          "execution_count": 33,
          "data": {
            "text/plain": "0.327"
          },
          "metadata": {}
        }
      ],
      "execution_count": 33
    },
    {
      "cell_type": "markdown",
      "source": "#### Exercise 18: which is the probability of drawing a red card or drawing a face card?",
      "metadata": {
        "cell_id": "00040-b5d1776a-2c8f-4b2d-b6fb-c113eb334230",
        "deepnote_cell_type": "markdown"
      }
    },
    {
      "cell_type": "code",
      "metadata": {
        "cell_id": "00041-13d6102b-ff7e-47c0-ac43-601991ee0e2e",
        "deepnote_to_be_reexecuted": true,
        "source_hash": "cac0f11c",
        "deepnote_cell_type": "code"
      },
      "source": "# Calculate the probability of drawing a red card or a face card",
      "execution_count": null,
      "outputs": []
    },
    {
      "cell_type": "code",
      "source": "heart = 13/52\nace = 4/52\nprob = (heart + ace) - heart * ace \nprint(round(prob, 3))",
      "metadata": {
        "tags": [],
        "cell_id": "00051-4c03bb7a-62f1-440d-88e5-8faea385b5c1",
        "deepnote_to_be_reexecuted": false,
        "source_hash": "1ebefd51",
        "execution_start": 1617284458647,
        "execution_millis": 5,
        "deepnote_cell_type": "code"
      },
      "outputs": [
        {
          "name": "stdout",
          "text": "0.308\n",
          "output_type": "stream"
        }
      ],
      "execution_count": 34
    },
    {
      "cell_type": "markdown",
      "source": "#### Exercise 19: which is the probability of drawing an Ace from a deck of cards, replacing it, reshuffling the deck, and drawing another Ace?",
      "metadata": {
        "cell_id": "00042-484f53d7-f801-470a-b261-360e81767ec2",
        "deepnote_cell_type": "markdown"
      }
    },
    {
      "cell_type": "code",
      "metadata": {
        "cell_id": "00043-36f61ee0-9506-40ba-8744-d80c5e03df2c",
        "deepnote_to_be_reexecuted": false,
        "source_hash": "136d8422",
        "execution_start": 1617284486471,
        "execution_millis": 12,
        "deepnote_cell_type": "code"
      },
      "source": "# Sample Space\ncards = 52\n\n# Outcomes\nouts = 4\nouts2 = 3\n#Determine river flush probability using the previously defined function\nriver_flush_probability = event_probability(outs, cards)\nprint('Prop of the 1st Ace: ',river_flush_probability)\n\n# Probability of one ace\n\n\n# Probability of two consecutive independent aces \nriver_flush_probability1 = event_probability(outs2, cards)\nprint('Prop of the 2nd Ace: ',river_flush_probability1)",
      "execution_count": 35,
      "outputs": [
        {
          "name": "stdout",
          "text": "Prop of the 1st Ace:  0.077\nProp of the 2nd Ace:  0.058\n",
          "output_type": "stream"
        }
      ]
    },
    {
      "cell_type": "markdown",
      "source": "#### Exercise 20: which is the probability of being dealt two Aces (drawing one Ace after the other starting with a full deck)?",
      "metadata": {
        "cell_id": "00044-b1cf58c6-6e4f-4c40-a703-11d987a74f03",
        "deepnote_cell_type": "markdown"
      }
    },
    {
      "cell_type": "code",
      "metadata": {
        "cell_id": "00045-943b3871-d353-439f-937f-d9772b0b22b1",
        "deepnote_to_be_reexecuted": false,
        "source_hash": "17c84f1b",
        "execution_start": 1617284507238,
        "execution_millis": 128,
        "deepnote_cell_type": "code"
      },
      "source": "# Sample Space first draw\ncards = 52\n# Outcomes first draw\nouts = 4\nreplace = 3\n\n# Probability of ace on first draw\nprob1 = event_probability(outs, cards)\nprint('Probability of the 1st Ace: ',prob1)\n\n# Sample Space second draw\nsecond_draw = 51\n\n# Outcomes second draw\notcome_second_draw = 1/52\n\n# Probability of ace on second draw after ace on first\nprob2 = event_probability(replace, cards)\nprint('Probability of the 2nd Ace: ',prob2)\n\n# Probability of two consecutive aces (dependent)\nprob3 = prob1 * prob2\nprint('Probability of two consecutive aces: ', round(prob3, 3))\n",
      "execution_count": 36,
      "outputs": [
        {
          "name": "stdout",
          "text": "Probability of the 1st Ace:  0.077\nProbability of the 2nd Ace:  0.058\nProbability of two consecutive aces:  0.004\n",
          "output_type": "stream"
        }
      ]
    },
    {
      "cell_type": "markdown",
      "source": "### Permutations and combinations",
      "metadata": {
        "cell_id": "00046-b1868351-6a5d-4f09-b7cf-2f62c6d432be",
        "deepnote_cell_type": "markdown"
      }
    },
    {
      "cell_type": "markdown",
      "source": "#### Exercise 22: How many different 5-letter arrangements are there of the letters in the word morse?",
      "metadata": {
        "cell_id": "00047-be144654-a4c4-4ef4-a097-51fc1dca60ed",
        "deepnote_cell_type": "markdown"
      }
    },
    {
      "cell_type": "code",
      "metadata": {
        "cell_id": "00048-2e6ff416-8973-48e2-b4fa-68dea6ff4a0f",
        "deepnote_to_be_reexecuted": false,
        "source_hash": "c92d8fa8",
        "execution_start": 1617284550606,
        "execution_millis": 101,
        "deepnote_cell_type": "code"
      },
      "source": "# 5 power 5 = 5*5*5*5*5\nimport numpy as np\nnum = np.power(5, 5)\nprint(num)",
      "execution_count": 37,
      "outputs": [
        {
          "name": "stdout",
          "text": "3125\n",
          "output_type": "stream"
        }
      ]
    },
    {
      "cell_type": "markdown",
      "source": "#### Exercise 23: How many different seven-letter arrangements of the letters in the word HEXAGON can be made if each letter is used only once?",
      "metadata": {
        "cell_id": "00049-09ae71e3-8348-4626-9586-8354af80f6e7",
        "deepnote_cell_type": "markdown"
      }
    },
    {
      "cell_type": "code",
      "metadata": {
        "cell_id": "00050-fea49559-ca48-4300-a137-4e4e8f63d32e",
        "deepnote_to_be_reexecuted": false,
        "source_hash": "cb5dcf9b",
        "execution_start": 1617284573689,
        "execution_millis": 1,
        "deepnote_cell_type": "code"
      },
      "source": "import math\nnum = math.factorial(7)\nprint(num)",
      "execution_count": 38,
      "outputs": [
        {
          "name": "stdout",
          "text": "5040\n",
          "output_type": "stream"
        }
      ]
    },
    {
      "cell_type": "markdown",
      "source": "#### Exercise 24: Two cards are drawn at random from a standard deck of cards, without replacement. Find the probability of drawing an 8 and a queen in that order.",
      "metadata": {
        "cell_id": "00051-285c415f-2b6c-4536-a294-0d03f62c2c76",
        "deepnote_cell_type": "markdown"
      }
    },
    {
      "cell_type": "code",
      "metadata": {
        "cell_id": "00052-a99f653e-9800-467d-b3ce-213cc5ddc2fa",
        "deepnote_to_be_reexecuted": false,
        "source_hash": "3cbdefa9",
        "execution_start": 1617284586667,
        "execution_millis": 14,
        "deepnote_cell_type": "code"
      },
      "source": "cards = 52\nouts = 4\n\neight = 4/52\nqueen = 4/52\n\nprob = round(eight * queen,3)\nprob",
      "execution_count": 39,
      "outputs": [
        {
          "output_type": "execute_result",
          "execution_count": 39,
          "data": {
            "text/plain": "0.006"
          },
          "metadata": {}
        }
      ]
    },
    {
      "cell_type": "markdown",
      "source": "<a style='text-decoration:none;line-height:16px;display:flex;color:#5B5B62;padding:10px;justify-content:end;' href='https://deepnote.com?utm_source=created-in-deepnote-cell&projectId=8eaf1c68-b71e-4d3f-978e-14d1d8728510' target=\"_blank\">\n<img alt='Created in deepnote.com' style='display:inline;max-height:16px;margin:0px;margin-right:7.5px;' src='data:image/svg+xml;base64,PD94bWwgdmVyc2lvbj0iMS4wIiBlbmNvZGluZz0iVVRGLTgiPz4KPHN2ZyB3aWR0aD0iODBweCIgaGVpZ2h0PSI4MHB4IiB2aWV3Qm94PSIwIDAgODAgODAiIHZlcnNpb249IjEuMSIgeG1sbnM9Imh0dHA6Ly93d3cudzMub3JnLzIwMDAvc3ZnIiB4bWxuczp4bGluaz0iaHR0cDovL3d3dy53My5vcmcvMTk5OS94bGluayI+CiAgICA8IS0tIEdlbmVyYXRvcjogU2tldGNoIDU0LjEgKDc2NDkwKSAtIGh0dHBzOi8vc2tldGNoYXBwLmNvbSAtLT4KICAgIDx0aXRsZT5Hcm91cCAzPC90aXRsZT4KICAgIDxkZXNjPkNyZWF0ZWQgd2l0aCBTa2V0Y2guPC9kZXNjPgogICAgPGcgaWQ9IkxhbmRpbmciIHN0cm9rZT0ibm9uZSIgc3Ryb2tlLXdpZHRoPSIxIiBmaWxsPSJub25lIiBmaWxsLXJ1bGU9ImV2ZW5vZGQiPgogICAgICAgIDxnIGlkPSJBcnRib2FyZCIgdHJhbnNmb3JtPSJ0cmFuc2xhdGUoLTEyMzUuMDAwMDAwLCAtNzkuMDAwMDAwKSI+CiAgICAgICAgICAgIDxnIGlkPSJHcm91cC0zIiB0cmFuc2Zvcm09InRyYW5zbGF0ZSgxMjM1LjAwMDAwMCwgNzkuMDAwMDAwKSI+CiAgICAgICAgICAgICAgICA8cG9seWdvbiBpZD0iUGF0aC0yMCIgZmlsbD0iIzAyNjVCNCIgcG9pbnRzPSIyLjM3NjIzNzYyIDgwIDM4LjA0NzY2NjcgODAgNTcuODIxNzgyMiA3My44MDU3NTkyIDU3LjgyMTc4MjIgMzIuNzU5MjczOSAzOS4xNDAyMjc4IDMxLjY4MzE2ODMiPjwvcG9seWdvbj4KICAgICAgICAgICAgICAgIDxwYXRoIGQ9Ik0zNS4wMDc3MTgsODAgQzQyLjkwNjIwMDcsNzYuNDU0OTM1OCA0Ny41NjQ5MTY3LDcxLjU0MjI2NzEgNDguOTgzODY2LDY1LjI2MTk5MzkgQzUxLjExMjI4OTksNTUuODQxNTg0MiA0MS42NzcxNzk1LDQ5LjIxMjIyODQgMjUuNjIzOTg0Niw0OS4yMTIyMjg0IEMyNS40ODQ5Mjg5LDQ5LjEyNjg0NDggMjkuODI2MTI5Niw0My4yODM4MjQ4IDM4LjY0NzU4NjksMzEuNjgzMTY4MyBMNzIuODcxMjg3MSwzMi41NTQ0MjUgTDY1LjI4MDk3Myw2Ny42NzYzNDIxIEw1MS4xMTIyODk5LDc3LjM3NjE0NCBMMzUuMDA3NzE4LDgwIFoiIGlkPSJQYXRoLTIyIiBmaWxsPSIjMDAyODY4Ij48L3BhdGg+CiAgICAgICAgICAgICAgICA8cGF0aCBkPSJNMCwzNy43MzA0NDA1IEwyNy4xMTQ1MzcsMC4yNTcxMTE0MzYgQzYyLjM3MTUxMjMsLTEuOTkwNzE3MDEgODAsMTAuNTAwMzkyNyA4MCwzNy43MzA0NDA1IEM4MCw2NC45NjA0ODgyIDY0Ljc3NjUwMzgsNzkuMDUwMzQxNCAzNC4zMjk1MTEzLDgwIEM0Ny4wNTUzNDg5LDc3LjU2NzA4MDggNTMuNDE4MjY3Nyw3MC4zMTM2MTAzIDUzLjQxODI2NzcsNTguMjM5NTg4NSBDNTMuNDE4MjY3Nyw0MC4xMjg1NTU3IDM2LjMwMzk1NDQsMzcuNzMwNDQwNSAyNS4yMjc0MTcsMzcuNzMwNDQwNSBDMTcuODQzMDU4NiwzNy43MzA0NDA1IDkuNDMzOTE5NjYsMzcuNzMwNDQwNSAwLDM3LjczMDQ0MDUgWiIgaWQ9IlBhdGgtMTkiIGZpbGw9IiMzNzkzRUYiPjwvcGF0aD4KICAgICAgICAgICAgPC9nPgogICAgICAgIDwvZz4KICAgIDwvZz4KPC9zdmc+' > </img>\nCreated in <span style='font-weight:600;margin-left:4px;'>Deepnote</span></a>",
      "metadata": {
        "tags": [],
        "created_in_deepnote_cell": true,
        "deepnote_cell_type": "markdown"
      }
    }
  ],
  "nbformat": 4,
  "nbformat_minor": 2,
  "metadata": {
    "kernelspec": {
      "display_name": "Python 3",
      "language": "python",
      "name": "python3"
    },
    "language_info": {
      "codemirror_mode": {
        "name": "ipython",
        "version": 3
      },
      "file_extension": ".py",
      "mimetype": "text/x-python",
      "name": "python",
      "nbconvert_exporter": "python",
      "pygments_lexer": "ipython3",
      "version": "3.8.5"
    },
    "deepnote_notebook_id": "b6116669-ee09-43eb-a83e-eed4f549999a",
    "deepnote": {},
    "deepnote_execution_queue": []
  }
}