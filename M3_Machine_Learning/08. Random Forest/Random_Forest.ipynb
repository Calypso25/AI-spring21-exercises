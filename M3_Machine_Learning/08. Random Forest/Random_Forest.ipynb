{
  "cells": [
    {
      "cell_type": "code",
      "metadata": {
        "cell_id": "00000-d63519d9-8673-4b02-b19e-32f0a945f941",
        "deepnote_to_be_reexecuted": false,
        "source_hash": "d577678f",
        "execution_start": 1619618698306,
        "execution_millis": 1022,
        "deepnote_cell_type": "code"
      },
      "source": "import numpy as np\nimport matplotlib\nimport matplotlib.pyplot as plt\nimport seaborn as sns\nimport pandas as pd\nfrom sklearn import tree\n\nfrom sklearn import datasets\nfrom sklearn import model_selection\nfrom sklearn.preprocessing import StandardScaler\nfrom sklearn import preprocessing\nfrom sklearn.model_selection import train_test_split, cross_validate\nfrom sklearn import metrics\nfrom sklearn.ensemble import RandomForestRegressor\nfrom sklearn.tree import DecisionTreeClassifier\n\n\n\n# Display plots inline and change plot resolution to retina\n%matplotlib inline\n%config InlineBackend.figure_format = 'retina'\n# Set Seaborn aesthetic parameters to defaults\nsns.set()\nprint('Setup Complete')",
      "execution_count": 1,
      "outputs": [
        {
          "name": "stdout",
          "text": "Setup Complete\n",
          "output_type": "stream"
        }
      ]
    },
    {
      "cell_type": "code",
      "metadata": {
        "cell_id": "00001-15757673-8e4a-418c-8c0d-2e1e392cf5ab",
        "deepnote_to_be_reexecuted": false,
        "source_hash": "111ea319",
        "execution_start": 1619618699329,
        "execution_millis": 3,
        "deepnote_cell_type": "code"
      },
      "source": "#load the dataset and return it\ndef load_data():\n    iris_data = datasets.load_iris()\n    return iris_data",
      "execution_count": 2,
      "outputs": []
    },
    {
      "cell_type": "code",
      "metadata": {
        "cell_id": "00002-d5ba26b1-35fb-4ffb-9241-a4d37af52748",
        "deepnote_to_be_reexecuted": false,
        "source_hash": "ebc3d2ab",
        "execution_start": 1619618699339,
        "execution_millis": 9,
        "deepnote_cell_type": "code"
      },
      "source": "dataset = load_data()\nload_data().feature_names",
      "execution_count": 3,
      "outputs": [
        {
          "output_type": "execute_result",
          "execution_count": 3,
          "data": {
            "text/plain": "['sepal length (cm)',\n 'sepal width (cm)',\n 'petal length (cm)',\n 'petal width (cm)']"
          },
          "metadata": {}
        }
      ]
    },
    {
      "cell_type": "code",
      "metadata": {
        "cell_id": "00003-db96a007-3697-4ece-8dea-7553fc4fca33",
        "deepnote_to_be_reexecuted": false,
        "source_hash": "559314ff",
        "execution_start": 1619618699401,
        "execution_millis": 2,
        "deepnote_cell_type": "code"
      },
      "source": "\ndef dataset_to_pandas():\n    ''' \n    put the dataset into a pandas DF using the feature names as columnsç\n    rename the column name so the dont include the '(cm)'\n    add 2 columns one with the target and another with the target_names\n    ''' \n    \n    df = pd.DataFrame(dataset['data'], columns=dataset['feature_names'])\n    df.columns = ['sepal length', 'sepal width', 'petal length', 'petal width']\n    df['target'] = dataset['target']\n    df['class'] = dataset.target_names[dataset.target]\n\n    #df['class'] = pd.Categorical.from_codes(dataset.target, dataset.target_names) #Make a Categorical type from codes and categories or dtype.\n    #here the codes are the target values and the dtype will be target_names\n    return df",
      "execution_count": 4,
      "outputs": []
    },
    {
      "cell_type": "code",
      "metadata": {
        "cell_id": "00004-2ed3c2ca-62fe-443b-914d-de2956810345",
        "deepnote_to_be_reexecuted": false,
        "source_hash": "c001f76d",
        "execution_start": 1619618699406,
        "execution_millis": 63,
        "deepnote_cell_type": "code"
      },
      "source": "df_iris = dataset_to_pandas()\ndf_iris",
      "execution_count": 5,
      "outputs": [
        {
          "output_type": "execute_result",
          "execution_count": 5,
          "data": {
            "application/vnd.deepnote.dataframe.v2+json": {
              "row_count": 150,
              "column_count": 6,
              "columns": [
                {
                  "name": "sepal length",
                  "dtype": "float64",
                  "stats": {
                    "unique_count": 35,
                    "nan_count": 0,
                    "min": "4.3",
                    "max": "7.9",
                    "histogram": [
                      {
                        "bin_start": 4.3,
                        "bin_end": 4.66,
                        "count": 9
                      },
                      {
                        "bin_start": 4.66,
                        "bin_end": 5.02,
                        "count": 23
                      },
                      {
                        "bin_start": 5.02,
                        "bin_end": 5.38,
                        "count": 14
                      },
                      {
                        "bin_start": 5.38,
                        "bin_end": 5.74,
                        "count": 27
                      },
                      {
                        "bin_start": 5.74,
                        "bin_end": 6.1,
                        "count": 16
                      },
                      {
                        "bin_start": 6.1,
                        "bin_end": 6.46,
                        "count": 26
                      },
                      {
                        "bin_start": 6.46,
                        "bin_end": 6.82,
                        "count": 18
                      },
                      {
                        "bin_start": 6.82,
                        "bin_end": 7.18,
                        "count": 6
                      },
                      {
                        "bin_start": 7.18,
                        "bin_end": 7.54,
                        "count": 5
                      },
                      {
                        "bin_start": 7.54,
                        "bin_end": 7.9,
                        "count": 6
                      }
                    ]
                  }
                },
                {
                  "name": "sepal width",
                  "dtype": "float64",
                  "stats": {
                    "unique_count": 23,
                    "nan_count": 0,
                    "min": "2.0",
                    "max": "4.4",
                    "histogram": [
                      {
                        "bin_start": 2,
                        "bin_end": 2.24,
                        "count": 4
                      },
                      {
                        "bin_start": 2.24,
                        "bin_end": 2.48,
                        "count": 7
                      },
                      {
                        "bin_start": 2.48,
                        "bin_end": 2.72,
                        "count": 22
                      },
                      {
                        "bin_start": 2.72,
                        "bin_end": 2.96,
                        "count": 24
                      },
                      {
                        "bin_start": 2.96,
                        "bin_end": 3.2,
                        "count": 37
                      },
                      {
                        "bin_start": 3.2,
                        "bin_end": 3.4400000000000004,
                        "count": 31
                      },
                      {
                        "bin_start": 3.4400000000000004,
                        "bin_end": 3.6800000000000006,
                        "count": 10
                      },
                      {
                        "bin_start": 3.6800000000000006,
                        "bin_end": 3.9200000000000004,
                        "count": 11
                      },
                      {
                        "bin_start": 3.9200000000000004,
                        "bin_end": 4.16,
                        "count": 2
                      },
                      {
                        "bin_start": 4.16,
                        "bin_end": 4.4,
                        "count": 2
                      }
                    ]
                  }
                },
                {
                  "name": "petal length",
                  "dtype": "float64",
                  "stats": {
                    "unique_count": 43,
                    "nan_count": 0,
                    "min": "1.0",
                    "max": "6.9",
                    "histogram": [
                      {
                        "bin_start": 1,
                        "bin_end": 1.59,
                        "count": 37
                      },
                      {
                        "bin_start": 1.59,
                        "bin_end": 2.18,
                        "count": 13
                      },
                      {
                        "bin_start": 2.18,
                        "bin_end": 2.7700000000000005,
                        "count": 0
                      },
                      {
                        "bin_start": 2.7700000000000005,
                        "bin_end": 3.3600000000000003,
                        "count": 3
                      },
                      {
                        "bin_start": 3.3600000000000003,
                        "bin_end": 3.95,
                        "count": 8
                      },
                      {
                        "bin_start": 3.95,
                        "bin_end": 4.540000000000001,
                        "count": 26
                      },
                      {
                        "bin_start": 4.540000000000001,
                        "bin_end": 5.130000000000001,
                        "count": 29
                      },
                      {
                        "bin_start": 5.130000000000001,
                        "bin_end": 5.720000000000001,
                        "count": 18
                      },
                      {
                        "bin_start": 5.720000000000001,
                        "bin_end": 6.3100000000000005,
                        "count": 11
                      },
                      {
                        "bin_start": 6.3100000000000005,
                        "bin_end": 6.9,
                        "count": 5
                      }
                    ]
                  }
                },
                {
                  "name": "petal width",
                  "dtype": "float64",
                  "stats": {
                    "unique_count": 22,
                    "nan_count": 0,
                    "min": "0.1",
                    "max": "2.5",
                    "histogram": [
                      {
                        "bin_start": 0.1,
                        "bin_end": 0.33999999999999997,
                        "count": 41
                      },
                      {
                        "bin_start": 0.33999999999999997,
                        "bin_end": 0.58,
                        "count": 8
                      },
                      {
                        "bin_start": 0.58,
                        "bin_end": 0.82,
                        "count": 1
                      },
                      {
                        "bin_start": 0.82,
                        "bin_end": 1.06,
                        "count": 7
                      },
                      {
                        "bin_start": 1.06,
                        "bin_end": 1.3,
                        "count": 8
                      },
                      {
                        "bin_start": 1.3,
                        "bin_end": 1.54,
                        "count": 33
                      },
                      {
                        "bin_start": 1.54,
                        "bin_end": 1.78,
                        "count": 6
                      },
                      {
                        "bin_start": 1.78,
                        "bin_end": 2.02,
                        "count": 23
                      },
                      {
                        "bin_start": 2.02,
                        "bin_end": 2.2600000000000002,
                        "count": 9
                      },
                      {
                        "bin_start": 2.2600000000000002,
                        "bin_end": 2.5,
                        "count": 14
                      }
                    ]
                  }
                },
                {
                  "name": "target",
                  "dtype": "int64",
                  "stats": {
                    "unique_count": 3,
                    "nan_count": 0,
                    "min": "0",
                    "max": "2",
                    "histogram": [
                      {
                        "bin_start": 0,
                        "bin_end": 0.2,
                        "count": 50
                      },
                      {
                        "bin_start": 0.2,
                        "bin_end": 0.4,
                        "count": 0
                      },
                      {
                        "bin_start": 0.4,
                        "bin_end": 0.6000000000000001,
                        "count": 0
                      },
                      {
                        "bin_start": 0.6000000000000001,
                        "bin_end": 0.8,
                        "count": 0
                      },
                      {
                        "bin_start": 0.8,
                        "bin_end": 1,
                        "count": 0
                      },
                      {
                        "bin_start": 1,
                        "bin_end": 1.2000000000000002,
                        "count": 50
                      },
                      {
                        "bin_start": 1.2000000000000002,
                        "bin_end": 1.4000000000000001,
                        "count": 0
                      },
                      {
                        "bin_start": 1.4000000000000001,
                        "bin_end": 1.6,
                        "count": 0
                      },
                      {
                        "bin_start": 1.6,
                        "bin_end": 1.8,
                        "count": 0
                      },
                      {
                        "bin_start": 1.8,
                        "bin_end": 2,
                        "count": 50
                      }
                    ]
                  }
                },
                {
                  "name": "class",
                  "dtype": "object",
                  "stats": {
                    "unique_count": 3,
                    "nan_count": 0,
                    "categories": [
                      {
                        "name": "setosa",
                        "count": 50
                      },
                      {
                        "name": "versicolor",
                        "count": 50
                      },
                      {
                        "name": "virginica",
                        "count": 50
                      }
                    ]
                  }
                },
                {
                  "name": "_deepnote_index_column",
                  "dtype": "int64"
                }
              ],
              "rows_top": [
                {
                  "sepal length": 5.1,
                  "sepal width": 3.5,
                  "petal length": 1.4,
                  "petal width": 0.2,
                  "target": 0,
                  "class": "setosa",
                  "_deepnote_index_column": 0
                },
                {
                  "sepal length": 4.9,
                  "sepal width": 3,
                  "petal length": 1.4,
                  "petal width": 0.2,
                  "target": 0,
                  "class": "setosa",
                  "_deepnote_index_column": 1
                },
                {
                  "sepal length": 4.7,
                  "sepal width": 3.2,
                  "petal length": 1.3,
                  "petal width": 0.2,
                  "target": 0,
                  "class": "setosa",
                  "_deepnote_index_column": 2
                },
                {
                  "sepal length": 4.6,
                  "sepal width": 3.1,
                  "petal length": 1.5,
                  "petal width": 0.2,
                  "target": 0,
                  "class": "setosa",
                  "_deepnote_index_column": 3
                },
                {
                  "sepal length": 5,
                  "sepal width": 3.6,
                  "petal length": 1.4,
                  "petal width": 0.2,
                  "target": 0,
                  "class": "setosa",
                  "_deepnote_index_column": 4
                },
                {
                  "sepal length": 5.4,
                  "sepal width": 3.9,
                  "petal length": 1.7,
                  "petal width": 0.4,
                  "target": 0,
                  "class": "setosa",
                  "_deepnote_index_column": 5
                },
                {
                  "sepal length": 4.6,
                  "sepal width": 3.4,
                  "petal length": 1.4,
                  "petal width": 0.3,
                  "target": 0,
                  "class": "setosa",
                  "_deepnote_index_column": 6
                },
                {
                  "sepal length": 5,
                  "sepal width": 3.4,
                  "petal length": 1.5,
                  "petal width": 0.2,
                  "target": 0,
                  "class": "setosa",
                  "_deepnote_index_column": 7
                },
                {
                  "sepal length": 4.4,
                  "sepal width": 2.9,
                  "petal length": 1.4,
                  "petal width": 0.2,
                  "target": 0,
                  "class": "setosa",
                  "_deepnote_index_column": 8
                },
                {
                  "sepal length": 4.9,
                  "sepal width": 3.1,
                  "petal length": 1.5,
                  "petal width": 0.1,
                  "target": 0,
                  "class": "setosa",
                  "_deepnote_index_column": 9
                },
                {
                  "sepal length": 5.4,
                  "sepal width": 3.7,
                  "petal length": 1.5,
                  "petal width": 0.2,
                  "target": 0,
                  "class": "setosa",
                  "_deepnote_index_column": 10
                },
                {
                  "sepal length": 4.8,
                  "sepal width": 3.4,
                  "petal length": 1.6,
                  "petal width": 0.2,
                  "target": 0,
                  "class": "setosa",
                  "_deepnote_index_column": 11
                },
                {
                  "sepal length": 4.8,
                  "sepal width": 3,
                  "petal length": 1.4,
                  "petal width": 0.1,
                  "target": 0,
                  "class": "setosa",
                  "_deepnote_index_column": 12
                },
                {
                  "sepal length": 4.3,
                  "sepal width": 3,
                  "petal length": 1.1,
                  "petal width": 0.1,
                  "target": 0,
                  "class": "setosa",
                  "_deepnote_index_column": 13
                },
                {
                  "sepal length": 5.8,
                  "sepal width": 4,
                  "petal length": 1.2,
                  "petal width": 0.2,
                  "target": 0,
                  "class": "setosa",
                  "_deepnote_index_column": 14
                },
                {
                  "sepal length": 5.7,
                  "sepal width": 4.4,
                  "petal length": 1.5,
                  "petal width": 0.4,
                  "target": 0,
                  "class": "setosa",
                  "_deepnote_index_column": 15
                },
                {
                  "sepal length": 5.4,
                  "sepal width": 3.9,
                  "petal length": 1.3,
                  "petal width": 0.4,
                  "target": 0,
                  "class": "setosa",
                  "_deepnote_index_column": 16
                },
                {
                  "sepal length": 5.1,
                  "sepal width": 3.5,
                  "petal length": 1.4,
                  "petal width": 0.3,
                  "target": 0,
                  "class": "setosa",
                  "_deepnote_index_column": 17
                },
                {
                  "sepal length": 5.7,
                  "sepal width": 3.8,
                  "petal length": 1.7,
                  "petal width": 0.3,
                  "target": 0,
                  "class": "setosa",
                  "_deepnote_index_column": 18
                },
                {
                  "sepal length": 5.1,
                  "sepal width": 3.8,
                  "petal length": 1.5,
                  "petal width": 0.3,
                  "target": 0,
                  "class": "setosa",
                  "_deepnote_index_column": 19
                },
                {
                  "sepal length": 5.4,
                  "sepal width": 3.4,
                  "petal length": 1.7,
                  "petal width": 0.2,
                  "target": 0,
                  "class": "setosa",
                  "_deepnote_index_column": 20
                },
                {
                  "sepal length": 5.1,
                  "sepal width": 3.7,
                  "petal length": 1.5,
                  "petal width": 0.4,
                  "target": 0,
                  "class": "setosa",
                  "_deepnote_index_column": 21
                },
                {
                  "sepal length": 4.6,
                  "sepal width": 3.6,
                  "petal length": 1,
                  "petal width": 0.2,
                  "target": 0,
                  "class": "setosa",
                  "_deepnote_index_column": 22
                },
                {
                  "sepal length": 5.1,
                  "sepal width": 3.3,
                  "petal length": 1.7,
                  "petal width": 0.5,
                  "target": 0,
                  "class": "setosa",
                  "_deepnote_index_column": 23
                },
                {
                  "sepal length": 4.8,
                  "sepal width": 3.4,
                  "petal length": 1.9,
                  "petal width": 0.2,
                  "target": 0,
                  "class": "setosa",
                  "_deepnote_index_column": 24
                },
                {
                  "sepal length": 5,
                  "sepal width": 3,
                  "petal length": 1.6,
                  "petal width": 0.2,
                  "target": 0,
                  "class": "setosa",
                  "_deepnote_index_column": 25
                },
                {
                  "sepal length": 5,
                  "sepal width": 3.4,
                  "petal length": 1.6,
                  "petal width": 0.4,
                  "target": 0,
                  "class": "setosa",
                  "_deepnote_index_column": 26
                },
                {
                  "sepal length": 5.2,
                  "sepal width": 3.5,
                  "petal length": 1.5,
                  "petal width": 0.2,
                  "target": 0,
                  "class": "setosa",
                  "_deepnote_index_column": 27
                },
                {
                  "sepal length": 5.2,
                  "sepal width": 3.4,
                  "petal length": 1.4,
                  "petal width": 0.2,
                  "target": 0,
                  "class": "setosa",
                  "_deepnote_index_column": 28
                },
                {
                  "sepal length": 4.7,
                  "sepal width": 3.2,
                  "petal length": 1.6,
                  "petal width": 0.2,
                  "target": 0,
                  "class": "setosa",
                  "_deepnote_index_column": 29
                },
                {
                  "sepal length": 4.8,
                  "sepal width": 3.1,
                  "petal length": 1.6,
                  "petal width": 0.2,
                  "target": 0,
                  "class": "setosa",
                  "_deepnote_index_column": 30
                },
                {
                  "sepal length": 5.4,
                  "sepal width": 3.4,
                  "petal length": 1.5,
                  "petal width": 0.4,
                  "target": 0,
                  "class": "setosa",
                  "_deepnote_index_column": 31
                },
                {
                  "sepal length": 5.2,
                  "sepal width": 4.1,
                  "petal length": 1.5,
                  "petal width": 0.1,
                  "target": 0,
                  "class": "setosa",
                  "_deepnote_index_column": 32
                },
                {
                  "sepal length": 5.5,
                  "sepal width": 4.2,
                  "petal length": 1.4,
                  "petal width": 0.2,
                  "target": 0,
                  "class": "setosa",
                  "_deepnote_index_column": 33
                },
                {
                  "sepal length": 4.9,
                  "sepal width": 3.1,
                  "petal length": 1.5,
                  "petal width": 0.2,
                  "target": 0,
                  "class": "setosa",
                  "_deepnote_index_column": 34
                },
                {
                  "sepal length": 5,
                  "sepal width": 3.2,
                  "petal length": 1.2,
                  "petal width": 0.2,
                  "target": 0,
                  "class": "setosa",
                  "_deepnote_index_column": 35
                },
                {
                  "sepal length": 5.5,
                  "sepal width": 3.5,
                  "petal length": 1.3,
                  "petal width": 0.2,
                  "target": 0,
                  "class": "setosa",
                  "_deepnote_index_column": 36
                },
                {
                  "sepal length": 4.9,
                  "sepal width": 3.6,
                  "petal length": 1.4,
                  "petal width": 0.1,
                  "target": 0,
                  "class": "setosa",
                  "_deepnote_index_column": 37
                },
                {
                  "sepal length": 4.4,
                  "sepal width": 3,
                  "petal length": 1.3,
                  "petal width": 0.2,
                  "target": 0,
                  "class": "setosa",
                  "_deepnote_index_column": 38
                },
                {
                  "sepal length": 5.1,
                  "sepal width": 3.4,
                  "petal length": 1.5,
                  "petal width": 0.2,
                  "target": 0,
                  "class": "setosa",
                  "_deepnote_index_column": 39
                },
                {
                  "sepal length": 5,
                  "sepal width": 3.5,
                  "petal length": 1.3,
                  "petal width": 0.3,
                  "target": 0,
                  "class": "setosa",
                  "_deepnote_index_column": 40
                },
                {
                  "sepal length": 4.5,
                  "sepal width": 2.3,
                  "petal length": 1.3,
                  "petal width": 0.3,
                  "target": 0,
                  "class": "setosa",
                  "_deepnote_index_column": 41
                },
                {
                  "sepal length": 4.4,
                  "sepal width": 3.2,
                  "petal length": 1.3,
                  "petal width": 0.2,
                  "target": 0,
                  "class": "setosa",
                  "_deepnote_index_column": 42
                },
                {
                  "sepal length": 5,
                  "sepal width": 3.5,
                  "petal length": 1.6,
                  "petal width": 0.6,
                  "target": 0,
                  "class": "setosa",
                  "_deepnote_index_column": 43
                },
                {
                  "sepal length": 5.1,
                  "sepal width": 3.8,
                  "petal length": 1.9,
                  "petal width": 0.4,
                  "target": 0,
                  "class": "setosa",
                  "_deepnote_index_column": 44
                },
                {
                  "sepal length": 4.8,
                  "sepal width": 3,
                  "petal length": 1.4,
                  "petal width": 0.3,
                  "target": 0,
                  "class": "setosa",
                  "_deepnote_index_column": 45
                },
                {
                  "sepal length": 5.1,
                  "sepal width": 3.8,
                  "petal length": 1.6,
                  "petal width": 0.2,
                  "target": 0,
                  "class": "setosa",
                  "_deepnote_index_column": 46
                },
                {
                  "sepal length": 4.6,
                  "sepal width": 3.2,
                  "petal length": 1.4,
                  "petal width": 0.2,
                  "target": 0,
                  "class": "setosa",
                  "_deepnote_index_column": 47
                },
                {
                  "sepal length": 5.3,
                  "sepal width": 3.7,
                  "petal length": 1.5,
                  "petal width": 0.2,
                  "target": 0,
                  "class": "setosa",
                  "_deepnote_index_column": 48
                },
                {
                  "sepal length": 5,
                  "sepal width": 3.3,
                  "petal length": 1.4,
                  "petal width": 0.2,
                  "target": 0,
                  "class": "setosa",
                  "_deepnote_index_column": 49
                },
                {
                  "sepal length": 7,
                  "sepal width": 3.2,
                  "petal length": 4.7,
                  "petal width": 1.4,
                  "target": 1,
                  "class": "versicolor",
                  "_deepnote_index_column": 50
                },
                {
                  "sepal length": 6.4,
                  "sepal width": 3.2,
                  "petal length": 4.5,
                  "petal width": 1.5,
                  "target": 1,
                  "class": "versicolor",
                  "_deepnote_index_column": 51
                },
                {
                  "sepal length": 6.9,
                  "sepal width": 3.1,
                  "petal length": 4.9,
                  "petal width": 1.5,
                  "target": 1,
                  "class": "versicolor",
                  "_deepnote_index_column": 52
                },
                {
                  "sepal length": 5.5,
                  "sepal width": 2.3,
                  "petal length": 4,
                  "petal width": 1.3,
                  "target": 1,
                  "class": "versicolor",
                  "_deepnote_index_column": 53
                },
                {
                  "sepal length": 6.5,
                  "sepal width": 2.8,
                  "petal length": 4.6,
                  "petal width": 1.5,
                  "target": 1,
                  "class": "versicolor",
                  "_deepnote_index_column": 54
                },
                {
                  "sepal length": 5.7,
                  "sepal width": 2.8,
                  "petal length": 4.5,
                  "petal width": 1.3,
                  "target": 1,
                  "class": "versicolor",
                  "_deepnote_index_column": 55
                },
                {
                  "sepal length": 6.3,
                  "sepal width": 3.3,
                  "petal length": 4.7,
                  "petal width": 1.6,
                  "target": 1,
                  "class": "versicolor",
                  "_deepnote_index_column": 56
                },
                {
                  "sepal length": 4.9,
                  "sepal width": 2.4,
                  "petal length": 3.3,
                  "petal width": 1,
                  "target": 1,
                  "class": "versicolor",
                  "_deepnote_index_column": 57
                },
                {
                  "sepal length": 6.6,
                  "sepal width": 2.9,
                  "petal length": 4.6,
                  "petal width": 1.3,
                  "target": 1,
                  "class": "versicolor",
                  "_deepnote_index_column": 58
                },
                {
                  "sepal length": 5.2,
                  "sepal width": 2.7,
                  "petal length": 3.9,
                  "petal width": 1.4,
                  "target": 1,
                  "class": "versicolor",
                  "_deepnote_index_column": 59
                },
                {
                  "sepal length": 5,
                  "sepal width": 2,
                  "petal length": 3.5,
                  "petal width": 1,
                  "target": 1,
                  "class": "versicolor",
                  "_deepnote_index_column": 60
                },
                {
                  "sepal length": 5.9,
                  "sepal width": 3,
                  "petal length": 4.2,
                  "petal width": 1.5,
                  "target": 1,
                  "class": "versicolor",
                  "_deepnote_index_column": 61
                },
                {
                  "sepal length": 6,
                  "sepal width": 2.2,
                  "petal length": 4,
                  "petal width": 1,
                  "target": 1,
                  "class": "versicolor",
                  "_deepnote_index_column": 62
                },
                {
                  "sepal length": 6.1,
                  "sepal width": 2.9,
                  "petal length": 4.7,
                  "petal width": 1.4,
                  "target": 1,
                  "class": "versicolor",
                  "_deepnote_index_column": 63
                },
                {
                  "sepal length": 5.6,
                  "sepal width": 2.9,
                  "petal length": 3.6,
                  "petal width": 1.3,
                  "target": 1,
                  "class": "versicolor",
                  "_deepnote_index_column": 64
                },
                {
                  "sepal length": 6.7,
                  "sepal width": 3.1,
                  "petal length": 4.4,
                  "petal width": 1.4,
                  "target": 1,
                  "class": "versicolor",
                  "_deepnote_index_column": 65
                },
                {
                  "sepal length": 5.6,
                  "sepal width": 3,
                  "petal length": 4.5,
                  "petal width": 1.5,
                  "target": 1,
                  "class": "versicolor",
                  "_deepnote_index_column": 66
                },
                {
                  "sepal length": 5.8,
                  "sepal width": 2.7,
                  "petal length": 4.1,
                  "petal width": 1,
                  "target": 1,
                  "class": "versicolor",
                  "_deepnote_index_column": 67
                },
                {
                  "sepal length": 6.2,
                  "sepal width": 2.2,
                  "petal length": 4.5,
                  "petal width": 1.5,
                  "target": 1,
                  "class": "versicolor",
                  "_deepnote_index_column": 68
                },
                {
                  "sepal length": 5.6,
                  "sepal width": 2.5,
                  "petal length": 3.9,
                  "petal width": 1.1,
                  "target": 1,
                  "class": "versicolor",
                  "_deepnote_index_column": 69
                },
                {
                  "sepal length": 5.9,
                  "sepal width": 3.2,
                  "petal length": 4.8,
                  "petal width": 1.8,
                  "target": 1,
                  "class": "versicolor",
                  "_deepnote_index_column": 70
                },
                {
                  "sepal length": 6.1,
                  "sepal width": 2.8,
                  "petal length": 4,
                  "petal width": 1.3,
                  "target": 1,
                  "class": "versicolor",
                  "_deepnote_index_column": 71
                },
                {
                  "sepal length": 6.3,
                  "sepal width": 2.5,
                  "petal length": 4.9,
                  "petal width": 1.5,
                  "target": 1,
                  "class": "versicolor",
                  "_deepnote_index_column": 72
                },
                {
                  "sepal length": 6.1,
                  "sepal width": 2.8,
                  "petal length": 4.7,
                  "petal width": 1.2,
                  "target": 1,
                  "class": "versicolor",
                  "_deepnote_index_column": 73
                },
                {
                  "sepal length": 6.4,
                  "sepal width": 2.9,
                  "petal length": 4.3,
                  "petal width": 1.3,
                  "target": 1,
                  "class": "versicolor",
                  "_deepnote_index_column": 74
                },
                {
                  "sepal length": 6.6,
                  "sepal width": 3,
                  "petal length": 4.4,
                  "petal width": 1.4,
                  "target": 1,
                  "class": "versicolor",
                  "_deepnote_index_column": 75
                },
                {
                  "sepal length": 6.8,
                  "sepal width": 2.8,
                  "petal length": 4.8,
                  "petal width": 1.4,
                  "target": 1,
                  "class": "versicolor",
                  "_deepnote_index_column": 76
                },
                {
                  "sepal length": 6.7,
                  "sepal width": 3,
                  "petal length": 5,
                  "petal width": 1.7,
                  "target": 1,
                  "class": "versicolor",
                  "_deepnote_index_column": 77
                },
                {
                  "sepal length": 6,
                  "sepal width": 2.9,
                  "petal length": 4.5,
                  "petal width": 1.5,
                  "target": 1,
                  "class": "versicolor",
                  "_deepnote_index_column": 78
                },
                {
                  "sepal length": 5.7,
                  "sepal width": 2.6,
                  "petal length": 3.5,
                  "petal width": 1,
                  "target": 1,
                  "class": "versicolor",
                  "_deepnote_index_column": 79
                },
                {
                  "sepal length": 5.5,
                  "sepal width": 2.4,
                  "petal length": 3.8,
                  "petal width": 1.1,
                  "target": 1,
                  "class": "versicolor",
                  "_deepnote_index_column": 80
                },
                {
                  "sepal length": 5.5,
                  "sepal width": 2.4,
                  "petal length": 3.7,
                  "petal width": 1,
                  "target": 1,
                  "class": "versicolor",
                  "_deepnote_index_column": 81
                },
                {
                  "sepal length": 5.8,
                  "sepal width": 2.7,
                  "petal length": 3.9,
                  "petal width": 1.2,
                  "target": 1,
                  "class": "versicolor",
                  "_deepnote_index_column": 82
                },
                {
                  "sepal length": 6,
                  "sepal width": 2.7,
                  "petal length": 5.1,
                  "petal width": 1.6,
                  "target": 1,
                  "class": "versicolor",
                  "_deepnote_index_column": 83
                },
                {
                  "sepal length": 5.4,
                  "sepal width": 3,
                  "petal length": 4.5,
                  "petal width": 1.5,
                  "target": 1,
                  "class": "versicolor",
                  "_deepnote_index_column": 84
                },
                {
                  "sepal length": 6,
                  "sepal width": 3.4,
                  "petal length": 4.5,
                  "petal width": 1.6,
                  "target": 1,
                  "class": "versicolor",
                  "_deepnote_index_column": 85
                },
                {
                  "sepal length": 6.7,
                  "sepal width": 3.1,
                  "petal length": 4.7,
                  "petal width": 1.5,
                  "target": 1,
                  "class": "versicolor",
                  "_deepnote_index_column": 86
                },
                {
                  "sepal length": 6.3,
                  "sepal width": 2.3,
                  "petal length": 4.4,
                  "petal width": 1.3,
                  "target": 1,
                  "class": "versicolor",
                  "_deepnote_index_column": 87
                },
                {
                  "sepal length": 5.6,
                  "sepal width": 3,
                  "petal length": 4.1,
                  "petal width": 1.3,
                  "target": 1,
                  "class": "versicolor",
                  "_deepnote_index_column": 88
                },
                {
                  "sepal length": 5.5,
                  "sepal width": 2.5,
                  "petal length": 4,
                  "petal width": 1.3,
                  "target": 1,
                  "class": "versicolor",
                  "_deepnote_index_column": 89
                },
                {
                  "sepal length": 5.5,
                  "sepal width": 2.6,
                  "petal length": 4.4,
                  "petal width": 1.2,
                  "target": 1,
                  "class": "versicolor",
                  "_deepnote_index_column": 90
                },
                {
                  "sepal length": 6.1,
                  "sepal width": 3,
                  "petal length": 4.6,
                  "petal width": 1.4,
                  "target": 1,
                  "class": "versicolor",
                  "_deepnote_index_column": 91
                },
                {
                  "sepal length": 5.8,
                  "sepal width": 2.6,
                  "petal length": 4,
                  "petal width": 1.2,
                  "target": 1,
                  "class": "versicolor",
                  "_deepnote_index_column": 92
                },
                {
                  "sepal length": 5,
                  "sepal width": 2.3,
                  "petal length": 3.3,
                  "petal width": 1,
                  "target": 1,
                  "class": "versicolor",
                  "_deepnote_index_column": 93
                },
                {
                  "sepal length": 5.6,
                  "sepal width": 2.7,
                  "petal length": 4.2,
                  "petal width": 1.3,
                  "target": 1,
                  "class": "versicolor",
                  "_deepnote_index_column": 94
                },
                {
                  "sepal length": 5.7,
                  "sepal width": 3,
                  "petal length": 4.2,
                  "petal width": 1.2,
                  "target": 1,
                  "class": "versicolor",
                  "_deepnote_index_column": 95
                },
                {
                  "sepal length": 5.7,
                  "sepal width": 2.9,
                  "petal length": 4.2,
                  "petal width": 1.3,
                  "target": 1,
                  "class": "versicolor",
                  "_deepnote_index_column": 96
                },
                {
                  "sepal length": 6.2,
                  "sepal width": 2.9,
                  "petal length": 4.3,
                  "petal width": 1.3,
                  "target": 1,
                  "class": "versicolor",
                  "_deepnote_index_column": 97
                },
                {
                  "sepal length": 5.1,
                  "sepal width": 2.5,
                  "petal length": 3,
                  "petal width": 1.1,
                  "target": 1,
                  "class": "versicolor",
                  "_deepnote_index_column": 98
                },
                {
                  "sepal length": 5.7,
                  "sepal width": 2.8,
                  "petal length": 4.1,
                  "petal width": 1.3,
                  "target": 1,
                  "class": "versicolor",
                  "_deepnote_index_column": 99
                },
                {
                  "sepal length": 6.3,
                  "sepal width": 3.3,
                  "petal length": 6,
                  "petal width": 2.5,
                  "target": 2,
                  "class": "virginica",
                  "_deepnote_index_column": 100
                },
                {
                  "sepal length": 5.8,
                  "sepal width": 2.7,
                  "petal length": 5.1,
                  "petal width": 1.9,
                  "target": 2,
                  "class": "virginica",
                  "_deepnote_index_column": 101
                },
                {
                  "sepal length": 7.1,
                  "sepal width": 3,
                  "petal length": 5.9,
                  "petal width": 2.1,
                  "target": 2,
                  "class": "virginica",
                  "_deepnote_index_column": 102
                },
                {
                  "sepal length": 6.3,
                  "sepal width": 2.9,
                  "petal length": 5.6,
                  "petal width": 1.8,
                  "target": 2,
                  "class": "virginica",
                  "_deepnote_index_column": 103
                },
                {
                  "sepal length": 6.5,
                  "sepal width": 3,
                  "petal length": 5.8,
                  "petal width": 2.2,
                  "target": 2,
                  "class": "virginica",
                  "_deepnote_index_column": 104
                },
                {
                  "sepal length": 7.6,
                  "sepal width": 3,
                  "petal length": 6.6,
                  "petal width": 2.1,
                  "target": 2,
                  "class": "virginica",
                  "_deepnote_index_column": 105
                },
                {
                  "sepal length": 4.9,
                  "sepal width": 2.5,
                  "petal length": 4.5,
                  "petal width": 1.7,
                  "target": 2,
                  "class": "virginica",
                  "_deepnote_index_column": 106
                },
                {
                  "sepal length": 7.3,
                  "sepal width": 2.9,
                  "petal length": 6.3,
                  "petal width": 1.8,
                  "target": 2,
                  "class": "virginica",
                  "_deepnote_index_column": 107
                },
                {
                  "sepal length": 6.7,
                  "sepal width": 2.5,
                  "petal length": 5.8,
                  "petal width": 1.8,
                  "target": 2,
                  "class": "virginica",
                  "_deepnote_index_column": 108
                },
                {
                  "sepal length": 7.2,
                  "sepal width": 3.6,
                  "petal length": 6.1,
                  "petal width": 2.5,
                  "target": 2,
                  "class": "virginica",
                  "_deepnote_index_column": 109
                },
                {
                  "sepal length": 6.5,
                  "sepal width": 3.2,
                  "petal length": 5.1,
                  "petal width": 2,
                  "target": 2,
                  "class": "virginica",
                  "_deepnote_index_column": 110
                },
                {
                  "sepal length": 6.4,
                  "sepal width": 2.7,
                  "petal length": 5.3,
                  "petal width": 1.9,
                  "target": 2,
                  "class": "virginica",
                  "_deepnote_index_column": 111
                },
                {
                  "sepal length": 6.8,
                  "sepal width": 3,
                  "petal length": 5.5,
                  "petal width": 2.1,
                  "target": 2,
                  "class": "virginica",
                  "_deepnote_index_column": 112
                },
                {
                  "sepal length": 5.7,
                  "sepal width": 2.5,
                  "petal length": 5,
                  "petal width": 2,
                  "target": 2,
                  "class": "virginica",
                  "_deepnote_index_column": 113
                },
                {
                  "sepal length": 5.8,
                  "sepal width": 2.8,
                  "petal length": 5.1,
                  "petal width": 2.4,
                  "target": 2,
                  "class": "virginica",
                  "_deepnote_index_column": 114
                },
                {
                  "sepal length": 6.4,
                  "sepal width": 3.2,
                  "petal length": 5.3,
                  "petal width": 2.3,
                  "target": 2,
                  "class": "virginica",
                  "_deepnote_index_column": 115
                },
                {
                  "sepal length": 6.5,
                  "sepal width": 3,
                  "petal length": 5.5,
                  "petal width": 1.8,
                  "target": 2,
                  "class": "virginica",
                  "_deepnote_index_column": 116
                },
                {
                  "sepal length": 7.7,
                  "sepal width": 3.8,
                  "petal length": 6.7,
                  "petal width": 2.2,
                  "target": 2,
                  "class": "virginica",
                  "_deepnote_index_column": 117
                },
                {
                  "sepal length": 7.7,
                  "sepal width": 2.6,
                  "petal length": 6.9,
                  "petal width": 2.3,
                  "target": 2,
                  "class": "virginica",
                  "_deepnote_index_column": 118
                },
                {
                  "sepal length": 6,
                  "sepal width": 2.2,
                  "petal length": 5,
                  "petal width": 1.5,
                  "target": 2,
                  "class": "virginica",
                  "_deepnote_index_column": 119
                },
                {
                  "sepal length": 6.9,
                  "sepal width": 3.2,
                  "petal length": 5.7,
                  "petal width": 2.3,
                  "target": 2,
                  "class": "virginica",
                  "_deepnote_index_column": 120
                },
                {
                  "sepal length": 5.6,
                  "sepal width": 2.8,
                  "petal length": 4.9,
                  "petal width": 2,
                  "target": 2,
                  "class": "virginica",
                  "_deepnote_index_column": 121
                },
                {
                  "sepal length": 7.7,
                  "sepal width": 2.8,
                  "petal length": 6.7,
                  "petal width": 2,
                  "target": 2,
                  "class": "virginica",
                  "_deepnote_index_column": 122
                },
                {
                  "sepal length": 6.3,
                  "sepal width": 2.7,
                  "petal length": 4.9,
                  "petal width": 1.8,
                  "target": 2,
                  "class": "virginica",
                  "_deepnote_index_column": 123
                },
                {
                  "sepal length": 6.7,
                  "sepal width": 3.3,
                  "petal length": 5.7,
                  "petal width": 2.1,
                  "target": 2,
                  "class": "virginica",
                  "_deepnote_index_column": 124
                },
                {
                  "sepal length": 7.2,
                  "sepal width": 3.2,
                  "petal length": 6,
                  "petal width": 1.8,
                  "target": 2,
                  "class": "virginica",
                  "_deepnote_index_column": 125
                },
                {
                  "sepal length": 6.2,
                  "sepal width": 2.8,
                  "petal length": 4.8,
                  "petal width": 1.8,
                  "target": 2,
                  "class": "virginica",
                  "_deepnote_index_column": 126
                },
                {
                  "sepal length": 6.1,
                  "sepal width": 3,
                  "petal length": 4.9,
                  "petal width": 1.8,
                  "target": 2,
                  "class": "virginica",
                  "_deepnote_index_column": 127
                },
                {
                  "sepal length": 6.4,
                  "sepal width": 2.8,
                  "petal length": 5.6,
                  "petal width": 2.1,
                  "target": 2,
                  "class": "virginica",
                  "_deepnote_index_column": 128
                },
                {
                  "sepal length": 7.2,
                  "sepal width": 3,
                  "petal length": 5.8,
                  "petal width": 1.6,
                  "target": 2,
                  "class": "virginica",
                  "_deepnote_index_column": 129
                },
                {
                  "sepal length": 7.4,
                  "sepal width": 2.8,
                  "petal length": 6.1,
                  "petal width": 1.9,
                  "target": 2,
                  "class": "virginica",
                  "_deepnote_index_column": 130
                },
                {
                  "sepal length": 7.9,
                  "sepal width": 3.8,
                  "petal length": 6.4,
                  "petal width": 2,
                  "target": 2,
                  "class": "virginica",
                  "_deepnote_index_column": 131
                },
                {
                  "sepal length": 6.4,
                  "sepal width": 2.8,
                  "petal length": 5.6,
                  "petal width": 2.2,
                  "target": 2,
                  "class": "virginica",
                  "_deepnote_index_column": 132
                },
                {
                  "sepal length": 6.3,
                  "sepal width": 2.8,
                  "petal length": 5.1,
                  "petal width": 1.5,
                  "target": 2,
                  "class": "virginica",
                  "_deepnote_index_column": 133
                },
                {
                  "sepal length": 6.1,
                  "sepal width": 2.6,
                  "petal length": 5.6,
                  "petal width": 1.4,
                  "target": 2,
                  "class": "virginica",
                  "_deepnote_index_column": 134
                },
                {
                  "sepal length": 7.7,
                  "sepal width": 3,
                  "petal length": 6.1,
                  "petal width": 2.3,
                  "target": 2,
                  "class": "virginica",
                  "_deepnote_index_column": 135
                },
                {
                  "sepal length": 6.3,
                  "sepal width": 3.4,
                  "petal length": 5.6,
                  "petal width": 2.4,
                  "target": 2,
                  "class": "virginica",
                  "_deepnote_index_column": 136
                },
                {
                  "sepal length": 6.4,
                  "sepal width": 3.1,
                  "petal length": 5.5,
                  "petal width": 1.8,
                  "target": 2,
                  "class": "virginica",
                  "_deepnote_index_column": 137
                },
                {
                  "sepal length": 6,
                  "sepal width": 3,
                  "petal length": 4.8,
                  "petal width": 1.8,
                  "target": 2,
                  "class": "virginica",
                  "_deepnote_index_column": 138
                },
                {
                  "sepal length": 6.9,
                  "sepal width": 3.1,
                  "petal length": 5.4,
                  "petal width": 2.1,
                  "target": 2,
                  "class": "virginica",
                  "_deepnote_index_column": 139
                },
                {
                  "sepal length": 6.7,
                  "sepal width": 3.1,
                  "petal length": 5.6,
                  "petal width": 2.4,
                  "target": 2,
                  "class": "virginica",
                  "_deepnote_index_column": 140
                },
                {
                  "sepal length": 6.9,
                  "sepal width": 3.1,
                  "petal length": 5.1,
                  "petal width": 2.3,
                  "target": 2,
                  "class": "virginica",
                  "_deepnote_index_column": 141
                },
                {
                  "sepal length": 5.8,
                  "sepal width": 2.7,
                  "petal length": 5.1,
                  "petal width": 1.9,
                  "target": 2,
                  "class": "virginica",
                  "_deepnote_index_column": 142
                },
                {
                  "sepal length": 6.8,
                  "sepal width": 3.2,
                  "petal length": 5.9,
                  "petal width": 2.3,
                  "target": 2,
                  "class": "virginica",
                  "_deepnote_index_column": 143
                },
                {
                  "sepal length": 6.7,
                  "sepal width": 3.3,
                  "petal length": 5.7,
                  "petal width": 2.5,
                  "target": 2,
                  "class": "virginica",
                  "_deepnote_index_column": 144
                },
                {
                  "sepal length": 6.7,
                  "sepal width": 3,
                  "petal length": 5.2,
                  "petal width": 2.3,
                  "target": 2,
                  "class": "virginica",
                  "_deepnote_index_column": 145
                },
                {
                  "sepal length": 6.3,
                  "sepal width": 2.5,
                  "petal length": 5,
                  "petal width": 1.9,
                  "target": 2,
                  "class": "virginica",
                  "_deepnote_index_column": 146
                },
                {
                  "sepal length": 6.5,
                  "sepal width": 3,
                  "petal length": 5.2,
                  "petal width": 2,
                  "target": 2,
                  "class": "virginica",
                  "_deepnote_index_column": 147
                },
                {
                  "sepal length": 6.2,
                  "sepal width": 3.4,
                  "petal length": 5.4,
                  "petal width": 2.3,
                  "target": 2,
                  "class": "virginica",
                  "_deepnote_index_column": 148
                },
                {
                  "sepal length": 5.9,
                  "sepal width": 3,
                  "petal length": 5.1,
                  "petal width": 1.8,
                  "target": 2,
                  "class": "virginica",
                  "_deepnote_index_column": 149
                }
              ],
              "rows_bottom": null
            },
            "text/plain": "     sepal length  sepal width  petal length  petal width  target      class\n0             5.1          3.5           1.4          0.2       0     setosa\n1             4.9          3.0           1.4          0.2       0     setosa\n2             4.7          3.2           1.3          0.2       0     setosa\n3             4.6          3.1           1.5          0.2       0     setosa\n4             5.0          3.6           1.4          0.2       0     setosa\n..            ...          ...           ...          ...     ...        ...\n145           6.7          3.0           5.2          2.3       2  virginica\n146           6.3          2.5           5.0          1.9       2  virginica\n147           6.5          3.0           5.2          2.0       2  virginica\n148           6.2          3.4           5.4          2.3       2  virginica\n149           5.9          3.0           5.1          1.8       2  virginica\n\n[150 rows x 6 columns]",
            "text/html": "<div>\n<style scoped>\n    .dataframe tbody tr th:only-of-type {\n        vertical-align: middle;\n    }\n\n    .dataframe tbody tr th {\n        vertical-align: top;\n    }\n\n    .dataframe thead th {\n        text-align: right;\n    }\n</style>\n<table border=\"1\" class=\"dataframe\">\n  <thead>\n    <tr style=\"text-align: right;\">\n      <th></th>\n      <th>sepal length</th>\n      <th>sepal width</th>\n      <th>petal length</th>\n      <th>petal width</th>\n      <th>target</th>\n      <th>class</th>\n    </tr>\n  </thead>\n  <tbody>\n    <tr>\n      <th>0</th>\n      <td>5.1</td>\n      <td>3.5</td>\n      <td>1.4</td>\n      <td>0.2</td>\n      <td>0</td>\n      <td>setosa</td>\n    </tr>\n    <tr>\n      <th>1</th>\n      <td>4.9</td>\n      <td>3.0</td>\n      <td>1.4</td>\n      <td>0.2</td>\n      <td>0</td>\n      <td>setosa</td>\n    </tr>\n    <tr>\n      <th>2</th>\n      <td>4.7</td>\n      <td>3.2</td>\n      <td>1.3</td>\n      <td>0.2</td>\n      <td>0</td>\n      <td>setosa</td>\n    </tr>\n    <tr>\n      <th>3</th>\n      <td>4.6</td>\n      <td>3.1</td>\n      <td>1.5</td>\n      <td>0.2</td>\n      <td>0</td>\n      <td>setosa</td>\n    </tr>\n    <tr>\n      <th>4</th>\n      <td>5.0</td>\n      <td>3.6</td>\n      <td>1.4</td>\n      <td>0.2</td>\n      <td>0</td>\n      <td>setosa</td>\n    </tr>\n    <tr>\n      <th>...</th>\n      <td>...</td>\n      <td>...</td>\n      <td>...</td>\n      <td>...</td>\n      <td>...</td>\n      <td>...</td>\n    </tr>\n    <tr>\n      <th>145</th>\n      <td>6.7</td>\n      <td>3.0</td>\n      <td>5.2</td>\n      <td>2.3</td>\n      <td>2</td>\n      <td>virginica</td>\n    </tr>\n    <tr>\n      <th>146</th>\n      <td>6.3</td>\n      <td>2.5</td>\n      <td>5.0</td>\n      <td>1.9</td>\n      <td>2</td>\n      <td>virginica</td>\n    </tr>\n    <tr>\n      <th>147</th>\n      <td>6.5</td>\n      <td>3.0</td>\n      <td>5.2</td>\n      <td>2.0</td>\n      <td>2</td>\n      <td>virginica</td>\n    </tr>\n    <tr>\n      <th>148</th>\n      <td>6.2</td>\n      <td>3.4</td>\n      <td>5.4</td>\n      <td>2.3</td>\n      <td>2</td>\n      <td>virginica</td>\n    </tr>\n    <tr>\n      <th>149</th>\n      <td>5.9</td>\n      <td>3.0</td>\n      <td>5.1</td>\n      <td>1.8</td>\n      <td>2</td>\n      <td>virginica</td>\n    </tr>\n  </tbody>\n</table>\n<p>150 rows × 6 columns</p>\n</div>"
          },
          "metadata": {}
        }
      ]
    },
    {
      "cell_type": "code",
      "metadata": {
        "cell_id": "00005-09a97093-2ac0-4aa5-adae-59cfb001af18",
        "deepnote_to_be_reexecuted": false,
        "source_hash": "fef11509",
        "execution_start": 1619618699467,
        "execution_millis": 51,
        "deepnote_cell_type": "code"
      },
      "source": "def ohe():\n    dummy = pd.get_dummies(df_iris, columns=[\"target\"])\n    return dummy\nohe()",
      "execution_count": 6,
      "outputs": [
        {
          "output_type": "execute_result",
          "execution_count": 6,
          "data": {
            "application/vnd.deepnote.dataframe.v2+json": {
              "row_count": 150,
              "column_count": 8,
              "columns": [
                {
                  "name": "sepal length",
                  "dtype": "float64",
                  "stats": {
                    "unique_count": 35,
                    "nan_count": 0,
                    "min": "4.3",
                    "max": "7.9",
                    "histogram": [
                      {
                        "bin_start": 4.3,
                        "bin_end": 4.66,
                        "count": 9
                      },
                      {
                        "bin_start": 4.66,
                        "bin_end": 5.02,
                        "count": 23
                      },
                      {
                        "bin_start": 5.02,
                        "bin_end": 5.38,
                        "count": 14
                      },
                      {
                        "bin_start": 5.38,
                        "bin_end": 5.74,
                        "count": 27
                      },
                      {
                        "bin_start": 5.74,
                        "bin_end": 6.1,
                        "count": 16
                      },
                      {
                        "bin_start": 6.1,
                        "bin_end": 6.46,
                        "count": 26
                      },
                      {
                        "bin_start": 6.46,
                        "bin_end": 6.82,
                        "count": 18
                      },
                      {
                        "bin_start": 6.82,
                        "bin_end": 7.18,
                        "count": 6
                      },
                      {
                        "bin_start": 7.18,
                        "bin_end": 7.54,
                        "count": 5
                      },
                      {
                        "bin_start": 7.54,
                        "bin_end": 7.9,
                        "count": 6
                      }
                    ]
                  }
                },
                {
                  "name": "sepal width",
                  "dtype": "float64",
                  "stats": {
                    "unique_count": 23,
                    "nan_count": 0,
                    "min": "2.0",
                    "max": "4.4",
                    "histogram": [
                      {
                        "bin_start": 2,
                        "bin_end": 2.24,
                        "count": 4
                      },
                      {
                        "bin_start": 2.24,
                        "bin_end": 2.48,
                        "count": 7
                      },
                      {
                        "bin_start": 2.48,
                        "bin_end": 2.72,
                        "count": 22
                      },
                      {
                        "bin_start": 2.72,
                        "bin_end": 2.96,
                        "count": 24
                      },
                      {
                        "bin_start": 2.96,
                        "bin_end": 3.2,
                        "count": 37
                      },
                      {
                        "bin_start": 3.2,
                        "bin_end": 3.4400000000000004,
                        "count": 31
                      },
                      {
                        "bin_start": 3.4400000000000004,
                        "bin_end": 3.6800000000000006,
                        "count": 10
                      },
                      {
                        "bin_start": 3.6800000000000006,
                        "bin_end": 3.9200000000000004,
                        "count": 11
                      },
                      {
                        "bin_start": 3.9200000000000004,
                        "bin_end": 4.16,
                        "count": 2
                      },
                      {
                        "bin_start": 4.16,
                        "bin_end": 4.4,
                        "count": 2
                      }
                    ]
                  }
                },
                {
                  "name": "petal length",
                  "dtype": "float64",
                  "stats": {
                    "unique_count": 43,
                    "nan_count": 0,
                    "min": "1.0",
                    "max": "6.9",
                    "histogram": [
                      {
                        "bin_start": 1,
                        "bin_end": 1.59,
                        "count": 37
                      },
                      {
                        "bin_start": 1.59,
                        "bin_end": 2.18,
                        "count": 13
                      },
                      {
                        "bin_start": 2.18,
                        "bin_end": 2.7700000000000005,
                        "count": 0
                      },
                      {
                        "bin_start": 2.7700000000000005,
                        "bin_end": 3.3600000000000003,
                        "count": 3
                      },
                      {
                        "bin_start": 3.3600000000000003,
                        "bin_end": 3.95,
                        "count": 8
                      },
                      {
                        "bin_start": 3.95,
                        "bin_end": 4.540000000000001,
                        "count": 26
                      },
                      {
                        "bin_start": 4.540000000000001,
                        "bin_end": 5.130000000000001,
                        "count": 29
                      },
                      {
                        "bin_start": 5.130000000000001,
                        "bin_end": 5.720000000000001,
                        "count": 18
                      },
                      {
                        "bin_start": 5.720000000000001,
                        "bin_end": 6.3100000000000005,
                        "count": 11
                      },
                      {
                        "bin_start": 6.3100000000000005,
                        "bin_end": 6.9,
                        "count": 5
                      }
                    ]
                  }
                },
                {
                  "name": "petal width",
                  "dtype": "float64",
                  "stats": {
                    "unique_count": 22,
                    "nan_count": 0,
                    "min": "0.1",
                    "max": "2.5",
                    "histogram": [
                      {
                        "bin_start": 0.1,
                        "bin_end": 0.33999999999999997,
                        "count": 41
                      },
                      {
                        "bin_start": 0.33999999999999997,
                        "bin_end": 0.58,
                        "count": 8
                      },
                      {
                        "bin_start": 0.58,
                        "bin_end": 0.82,
                        "count": 1
                      },
                      {
                        "bin_start": 0.82,
                        "bin_end": 1.06,
                        "count": 7
                      },
                      {
                        "bin_start": 1.06,
                        "bin_end": 1.3,
                        "count": 8
                      },
                      {
                        "bin_start": 1.3,
                        "bin_end": 1.54,
                        "count": 33
                      },
                      {
                        "bin_start": 1.54,
                        "bin_end": 1.78,
                        "count": 6
                      },
                      {
                        "bin_start": 1.78,
                        "bin_end": 2.02,
                        "count": 23
                      },
                      {
                        "bin_start": 2.02,
                        "bin_end": 2.2600000000000002,
                        "count": 9
                      },
                      {
                        "bin_start": 2.2600000000000002,
                        "bin_end": 2.5,
                        "count": 14
                      }
                    ]
                  }
                },
                {
                  "name": "class",
                  "dtype": "object",
                  "stats": {
                    "unique_count": 3,
                    "nan_count": 0,
                    "categories": [
                      {
                        "name": "setosa",
                        "count": 50
                      },
                      {
                        "name": "versicolor",
                        "count": 50
                      },
                      {
                        "name": "virginica",
                        "count": 50
                      }
                    ]
                  }
                },
                {
                  "name": "target_0",
                  "dtype": "uint8",
                  "stats": {
                    "unique_count": 2,
                    "nan_count": 0,
                    "min": "0",
                    "max": "1",
                    "histogram": [
                      {
                        "bin_start": 0,
                        "bin_end": 0.1,
                        "count": 100
                      },
                      {
                        "bin_start": 0.1,
                        "bin_end": 0.2,
                        "count": 0
                      },
                      {
                        "bin_start": 0.2,
                        "bin_end": 0.30000000000000004,
                        "count": 0
                      },
                      {
                        "bin_start": 0.30000000000000004,
                        "bin_end": 0.4,
                        "count": 0
                      },
                      {
                        "bin_start": 0.4,
                        "bin_end": 0.5,
                        "count": 0
                      },
                      {
                        "bin_start": 0.5,
                        "bin_end": 0.6000000000000001,
                        "count": 0
                      },
                      {
                        "bin_start": 0.6000000000000001,
                        "bin_end": 0.7000000000000001,
                        "count": 0
                      },
                      {
                        "bin_start": 0.7000000000000001,
                        "bin_end": 0.8,
                        "count": 0
                      },
                      {
                        "bin_start": 0.8,
                        "bin_end": 0.9,
                        "count": 0
                      },
                      {
                        "bin_start": 0.9,
                        "bin_end": 1,
                        "count": 50
                      }
                    ]
                  }
                },
                {
                  "name": "target_1",
                  "dtype": "uint8",
                  "stats": {
                    "unique_count": 2,
                    "nan_count": 0,
                    "min": "0",
                    "max": "1",
                    "histogram": [
                      {
                        "bin_start": 0,
                        "bin_end": 0.1,
                        "count": 100
                      },
                      {
                        "bin_start": 0.1,
                        "bin_end": 0.2,
                        "count": 0
                      },
                      {
                        "bin_start": 0.2,
                        "bin_end": 0.30000000000000004,
                        "count": 0
                      },
                      {
                        "bin_start": 0.30000000000000004,
                        "bin_end": 0.4,
                        "count": 0
                      },
                      {
                        "bin_start": 0.4,
                        "bin_end": 0.5,
                        "count": 0
                      },
                      {
                        "bin_start": 0.5,
                        "bin_end": 0.6000000000000001,
                        "count": 0
                      },
                      {
                        "bin_start": 0.6000000000000001,
                        "bin_end": 0.7000000000000001,
                        "count": 0
                      },
                      {
                        "bin_start": 0.7000000000000001,
                        "bin_end": 0.8,
                        "count": 0
                      },
                      {
                        "bin_start": 0.8,
                        "bin_end": 0.9,
                        "count": 0
                      },
                      {
                        "bin_start": 0.9,
                        "bin_end": 1,
                        "count": 50
                      }
                    ]
                  }
                },
                {
                  "name": "target_2",
                  "dtype": "uint8",
                  "stats": {
                    "unique_count": 2,
                    "nan_count": 0,
                    "min": "0",
                    "max": "1",
                    "histogram": [
                      {
                        "bin_start": 0,
                        "bin_end": 0.1,
                        "count": 100
                      },
                      {
                        "bin_start": 0.1,
                        "bin_end": 0.2,
                        "count": 0
                      },
                      {
                        "bin_start": 0.2,
                        "bin_end": 0.30000000000000004,
                        "count": 0
                      },
                      {
                        "bin_start": 0.30000000000000004,
                        "bin_end": 0.4,
                        "count": 0
                      },
                      {
                        "bin_start": 0.4,
                        "bin_end": 0.5,
                        "count": 0
                      },
                      {
                        "bin_start": 0.5,
                        "bin_end": 0.6000000000000001,
                        "count": 0
                      },
                      {
                        "bin_start": 0.6000000000000001,
                        "bin_end": 0.7000000000000001,
                        "count": 0
                      },
                      {
                        "bin_start": 0.7000000000000001,
                        "bin_end": 0.8,
                        "count": 0
                      },
                      {
                        "bin_start": 0.8,
                        "bin_end": 0.9,
                        "count": 0
                      },
                      {
                        "bin_start": 0.9,
                        "bin_end": 1,
                        "count": 50
                      }
                    ]
                  }
                },
                {
                  "name": "_deepnote_index_column",
                  "dtype": "int64"
                }
              ],
              "rows_top": [
                {
                  "sepal length": 5.1,
                  "sepal width": 3.5,
                  "petal length": 1.4,
                  "petal width": 0.2,
                  "class": "setosa",
                  "target_0": 1,
                  "target_1": 0,
                  "target_2": 0,
                  "_deepnote_index_column": 0
                },
                {
                  "sepal length": 4.9,
                  "sepal width": 3,
                  "petal length": 1.4,
                  "petal width": 0.2,
                  "class": "setosa",
                  "target_0": 1,
                  "target_1": 0,
                  "target_2": 0,
                  "_deepnote_index_column": 1
                },
                {
                  "sepal length": 4.7,
                  "sepal width": 3.2,
                  "petal length": 1.3,
                  "petal width": 0.2,
                  "class": "setosa",
                  "target_0": 1,
                  "target_1": 0,
                  "target_2": 0,
                  "_deepnote_index_column": 2
                },
                {
                  "sepal length": 4.6,
                  "sepal width": 3.1,
                  "petal length": 1.5,
                  "petal width": 0.2,
                  "class": "setosa",
                  "target_0": 1,
                  "target_1": 0,
                  "target_2": 0,
                  "_deepnote_index_column": 3
                },
                {
                  "sepal length": 5,
                  "sepal width": 3.6,
                  "petal length": 1.4,
                  "petal width": 0.2,
                  "class": "setosa",
                  "target_0": 1,
                  "target_1": 0,
                  "target_2": 0,
                  "_deepnote_index_column": 4
                },
                {
                  "sepal length": 5.4,
                  "sepal width": 3.9,
                  "petal length": 1.7,
                  "petal width": 0.4,
                  "class": "setosa",
                  "target_0": 1,
                  "target_1": 0,
                  "target_2": 0,
                  "_deepnote_index_column": 5
                },
                {
                  "sepal length": 4.6,
                  "sepal width": 3.4,
                  "petal length": 1.4,
                  "petal width": 0.3,
                  "class": "setosa",
                  "target_0": 1,
                  "target_1": 0,
                  "target_2": 0,
                  "_deepnote_index_column": 6
                },
                {
                  "sepal length": 5,
                  "sepal width": 3.4,
                  "petal length": 1.5,
                  "petal width": 0.2,
                  "class": "setosa",
                  "target_0": 1,
                  "target_1": 0,
                  "target_2": 0,
                  "_deepnote_index_column": 7
                },
                {
                  "sepal length": 4.4,
                  "sepal width": 2.9,
                  "petal length": 1.4,
                  "petal width": 0.2,
                  "class": "setosa",
                  "target_0": 1,
                  "target_1": 0,
                  "target_2": 0,
                  "_deepnote_index_column": 8
                },
                {
                  "sepal length": 4.9,
                  "sepal width": 3.1,
                  "petal length": 1.5,
                  "petal width": 0.1,
                  "class": "setosa",
                  "target_0": 1,
                  "target_1": 0,
                  "target_2": 0,
                  "_deepnote_index_column": 9
                },
                {
                  "sepal length": 5.4,
                  "sepal width": 3.7,
                  "petal length": 1.5,
                  "petal width": 0.2,
                  "class": "setosa",
                  "target_0": 1,
                  "target_1": 0,
                  "target_2": 0,
                  "_deepnote_index_column": 10
                },
                {
                  "sepal length": 4.8,
                  "sepal width": 3.4,
                  "petal length": 1.6,
                  "petal width": 0.2,
                  "class": "setosa",
                  "target_0": 1,
                  "target_1": 0,
                  "target_2": 0,
                  "_deepnote_index_column": 11
                },
                {
                  "sepal length": 4.8,
                  "sepal width": 3,
                  "petal length": 1.4,
                  "petal width": 0.1,
                  "class": "setosa",
                  "target_0": 1,
                  "target_1": 0,
                  "target_2": 0,
                  "_deepnote_index_column": 12
                },
                {
                  "sepal length": 4.3,
                  "sepal width": 3,
                  "petal length": 1.1,
                  "petal width": 0.1,
                  "class": "setosa",
                  "target_0": 1,
                  "target_1": 0,
                  "target_2": 0,
                  "_deepnote_index_column": 13
                },
                {
                  "sepal length": 5.8,
                  "sepal width": 4,
                  "petal length": 1.2,
                  "petal width": 0.2,
                  "class": "setosa",
                  "target_0": 1,
                  "target_1": 0,
                  "target_2": 0,
                  "_deepnote_index_column": 14
                },
                {
                  "sepal length": 5.7,
                  "sepal width": 4.4,
                  "petal length": 1.5,
                  "petal width": 0.4,
                  "class": "setosa",
                  "target_0": 1,
                  "target_1": 0,
                  "target_2": 0,
                  "_deepnote_index_column": 15
                },
                {
                  "sepal length": 5.4,
                  "sepal width": 3.9,
                  "petal length": 1.3,
                  "petal width": 0.4,
                  "class": "setosa",
                  "target_0": 1,
                  "target_1": 0,
                  "target_2": 0,
                  "_deepnote_index_column": 16
                },
                {
                  "sepal length": 5.1,
                  "sepal width": 3.5,
                  "petal length": 1.4,
                  "petal width": 0.3,
                  "class": "setosa",
                  "target_0": 1,
                  "target_1": 0,
                  "target_2": 0,
                  "_deepnote_index_column": 17
                },
                {
                  "sepal length": 5.7,
                  "sepal width": 3.8,
                  "petal length": 1.7,
                  "petal width": 0.3,
                  "class": "setosa",
                  "target_0": 1,
                  "target_1": 0,
                  "target_2": 0,
                  "_deepnote_index_column": 18
                },
                {
                  "sepal length": 5.1,
                  "sepal width": 3.8,
                  "petal length": 1.5,
                  "petal width": 0.3,
                  "class": "setosa",
                  "target_0": 1,
                  "target_1": 0,
                  "target_2": 0,
                  "_deepnote_index_column": 19
                },
                {
                  "sepal length": 5.4,
                  "sepal width": 3.4,
                  "petal length": 1.7,
                  "petal width": 0.2,
                  "class": "setosa",
                  "target_0": 1,
                  "target_1": 0,
                  "target_2": 0,
                  "_deepnote_index_column": 20
                },
                {
                  "sepal length": 5.1,
                  "sepal width": 3.7,
                  "petal length": 1.5,
                  "petal width": 0.4,
                  "class": "setosa",
                  "target_0": 1,
                  "target_1": 0,
                  "target_2": 0,
                  "_deepnote_index_column": 21
                },
                {
                  "sepal length": 4.6,
                  "sepal width": 3.6,
                  "petal length": 1,
                  "petal width": 0.2,
                  "class": "setosa",
                  "target_0": 1,
                  "target_1": 0,
                  "target_2": 0,
                  "_deepnote_index_column": 22
                },
                {
                  "sepal length": 5.1,
                  "sepal width": 3.3,
                  "petal length": 1.7,
                  "petal width": 0.5,
                  "class": "setosa",
                  "target_0": 1,
                  "target_1": 0,
                  "target_2": 0,
                  "_deepnote_index_column": 23
                },
                {
                  "sepal length": 4.8,
                  "sepal width": 3.4,
                  "petal length": 1.9,
                  "petal width": 0.2,
                  "class": "setosa",
                  "target_0": 1,
                  "target_1": 0,
                  "target_2": 0,
                  "_deepnote_index_column": 24
                },
                {
                  "sepal length": 5,
                  "sepal width": 3,
                  "petal length": 1.6,
                  "petal width": 0.2,
                  "class": "setosa",
                  "target_0": 1,
                  "target_1": 0,
                  "target_2": 0,
                  "_deepnote_index_column": 25
                },
                {
                  "sepal length": 5,
                  "sepal width": 3.4,
                  "petal length": 1.6,
                  "petal width": 0.4,
                  "class": "setosa",
                  "target_0": 1,
                  "target_1": 0,
                  "target_2": 0,
                  "_deepnote_index_column": 26
                },
                {
                  "sepal length": 5.2,
                  "sepal width": 3.5,
                  "petal length": 1.5,
                  "petal width": 0.2,
                  "class": "setosa",
                  "target_0": 1,
                  "target_1": 0,
                  "target_2": 0,
                  "_deepnote_index_column": 27
                },
                {
                  "sepal length": 5.2,
                  "sepal width": 3.4,
                  "petal length": 1.4,
                  "petal width": 0.2,
                  "class": "setosa",
                  "target_0": 1,
                  "target_1": 0,
                  "target_2": 0,
                  "_deepnote_index_column": 28
                },
                {
                  "sepal length": 4.7,
                  "sepal width": 3.2,
                  "petal length": 1.6,
                  "petal width": 0.2,
                  "class": "setosa",
                  "target_0": 1,
                  "target_1": 0,
                  "target_2": 0,
                  "_deepnote_index_column": 29
                },
                {
                  "sepal length": 4.8,
                  "sepal width": 3.1,
                  "petal length": 1.6,
                  "petal width": 0.2,
                  "class": "setosa",
                  "target_0": 1,
                  "target_1": 0,
                  "target_2": 0,
                  "_deepnote_index_column": 30
                },
                {
                  "sepal length": 5.4,
                  "sepal width": 3.4,
                  "petal length": 1.5,
                  "petal width": 0.4,
                  "class": "setosa",
                  "target_0": 1,
                  "target_1": 0,
                  "target_2": 0,
                  "_deepnote_index_column": 31
                },
                {
                  "sepal length": 5.2,
                  "sepal width": 4.1,
                  "petal length": 1.5,
                  "petal width": 0.1,
                  "class": "setosa",
                  "target_0": 1,
                  "target_1": 0,
                  "target_2": 0,
                  "_deepnote_index_column": 32
                },
                {
                  "sepal length": 5.5,
                  "sepal width": 4.2,
                  "petal length": 1.4,
                  "petal width": 0.2,
                  "class": "setosa",
                  "target_0": 1,
                  "target_1": 0,
                  "target_2": 0,
                  "_deepnote_index_column": 33
                },
                {
                  "sepal length": 4.9,
                  "sepal width": 3.1,
                  "petal length": 1.5,
                  "petal width": 0.2,
                  "class": "setosa",
                  "target_0": 1,
                  "target_1": 0,
                  "target_2": 0,
                  "_deepnote_index_column": 34
                },
                {
                  "sepal length": 5,
                  "sepal width": 3.2,
                  "petal length": 1.2,
                  "petal width": 0.2,
                  "class": "setosa",
                  "target_0": 1,
                  "target_1": 0,
                  "target_2": 0,
                  "_deepnote_index_column": 35
                },
                {
                  "sepal length": 5.5,
                  "sepal width": 3.5,
                  "petal length": 1.3,
                  "petal width": 0.2,
                  "class": "setosa",
                  "target_0": 1,
                  "target_1": 0,
                  "target_2": 0,
                  "_deepnote_index_column": 36
                },
                {
                  "sepal length": 4.9,
                  "sepal width": 3.6,
                  "petal length": 1.4,
                  "petal width": 0.1,
                  "class": "setosa",
                  "target_0": 1,
                  "target_1": 0,
                  "target_2": 0,
                  "_deepnote_index_column": 37
                },
                {
                  "sepal length": 4.4,
                  "sepal width": 3,
                  "petal length": 1.3,
                  "petal width": 0.2,
                  "class": "setosa",
                  "target_0": 1,
                  "target_1": 0,
                  "target_2": 0,
                  "_deepnote_index_column": 38
                },
                {
                  "sepal length": 5.1,
                  "sepal width": 3.4,
                  "petal length": 1.5,
                  "petal width": 0.2,
                  "class": "setosa",
                  "target_0": 1,
                  "target_1": 0,
                  "target_2": 0,
                  "_deepnote_index_column": 39
                },
                {
                  "sepal length": 5,
                  "sepal width": 3.5,
                  "petal length": 1.3,
                  "petal width": 0.3,
                  "class": "setosa",
                  "target_0": 1,
                  "target_1": 0,
                  "target_2": 0,
                  "_deepnote_index_column": 40
                },
                {
                  "sepal length": 4.5,
                  "sepal width": 2.3,
                  "petal length": 1.3,
                  "petal width": 0.3,
                  "class": "setosa",
                  "target_0": 1,
                  "target_1": 0,
                  "target_2": 0,
                  "_deepnote_index_column": 41
                },
                {
                  "sepal length": 4.4,
                  "sepal width": 3.2,
                  "petal length": 1.3,
                  "petal width": 0.2,
                  "class": "setosa",
                  "target_0": 1,
                  "target_1": 0,
                  "target_2": 0,
                  "_deepnote_index_column": 42
                },
                {
                  "sepal length": 5,
                  "sepal width": 3.5,
                  "petal length": 1.6,
                  "petal width": 0.6,
                  "class": "setosa",
                  "target_0": 1,
                  "target_1": 0,
                  "target_2": 0,
                  "_deepnote_index_column": 43
                },
                {
                  "sepal length": 5.1,
                  "sepal width": 3.8,
                  "petal length": 1.9,
                  "petal width": 0.4,
                  "class": "setosa",
                  "target_0": 1,
                  "target_1": 0,
                  "target_2": 0,
                  "_deepnote_index_column": 44
                },
                {
                  "sepal length": 4.8,
                  "sepal width": 3,
                  "petal length": 1.4,
                  "petal width": 0.3,
                  "class": "setosa",
                  "target_0": 1,
                  "target_1": 0,
                  "target_2": 0,
                  "_deepnote_index_column": 45
                },
                {
                  "sepal length": 5.1,
                  "sepal width": 3.8,
                  "petal length": 1.6,
                  "petal width": 0.2,
                  "class": "setosa",
                  "target_0": 1,
                  "target_1": 0,
                  "target_2": 0,
                  "_deepnote_index_column": 46
                },
                {
                  "sepal length": 4.6,
                  "sepal width": 3.2,
                  "petal length": 1.4,
                  "petal width": 0.2,
                  "class": "setosa",
                  "target_0": 1,
                  "target_1": 0,
                  "target_2": 0,
                  "_deepnote_index_column": 47
                },
                {
                  "sepal length": 5.3,
                  "sepal width": 3.7,
                  "petal length": 1.5,
                  "petal width": 0.2,
                  "class": "setosa",
                  "target_0": 1,
                  "target_1": 0,
                  "target_2": 0,
                  "_deepnote_index_column": 48
                },
                {
                  "sepal length": 5,
                  "sepal width": 3.3,
                  "petal length": 1.4,
                  "petal width": 0.2,
                  "class": "setosa",
                  "target_0": 1,
                  "target_1": 0,
                  "target_2": 0,
                  "_deepnote_index_column": 49
                },
                {
                  "sepal length": 7,
                  "sepal width": 3.2,
                  "petal length": 4.7,
                  "petal width": 1.4,
                  "class": "versicolor",
                  "target_0": 0,
                  "target_1": 1,
                  "target_2": 0,
                  "_deepnote_index_column": 50
                },
                {
                  "sepal length": 6.4,
                  "sepal width": 3.2,
                  "petal length": 4.5,
                  "petal width": 1.5,
                  "class": "versicolor",
                  "target_0": 0,
                  "target_1": 1,
                  "target_2": 0,
                  "_deepnote_index_column": 51
                },
                {
                  "sepal length": 6.9,
                  "sepal width": 3.1,
                  "petal length": 4.9,
                  "petal width": 1.5,
                  "class": "versicolor",
                  "target_0": 0,
                  "target_1": 1,
                  "target_2": 0,
                  "_deepnote_index_column": 52
                },
                {
                  "sepal length": 5.5,
                  "sepal width": 2.3,
                  "petal length": 4,
                  "petal width": 1.3,
                  "class": "versicolor",
                  "target_0": 0,
                  "target_1": 1,
                  "target_2": 0,
                  "_deepnote_index_column": 53
                },
                {
                  "sepal length": 6.5,
                  "sepal width": 2.8,
                  "petal length": 4.6,
                  "petal width": 1.5,
                  "class": "versicolor",
                  "target_0": 0,
                  "target_1": 1,
                  "target_2": 0,
                  "_deepnote_index_column": 54
                },
                {
                  "sepal length": 5.7,
                  "sepal width": 2.8,
                  "petal length": 4.5,
                  "petal width": 1.3,
                  "class": "versicolor",
                  "target_0": 0,
                  "target_1": 1,
                  "target_2": 0,
                  "_deepnote_index_column": 55
                },
                {
                  "sepal length": 6.3,
                  "sepal width": 3.3,
                  "petal length": 4.7,
                  "petal width": 1.6,
                  "class": "versicolor",
                  "target_0": 0,
                  "target_1": 1,
                  "target_2": 0,
                  "_deepnote_index_column": 56
                },
                {
                  "sepal length": 4.9,
                  "sepal width": 2.4,
                  "petal length": 3.3,
                  "petal width": 1,
                  "class": "versicolor",
                  "target_0": 0,
                  "target_1": 1,
                  "target_2": 0,
                  "_deepnote_index_column": 57
                },
                {
                  "sepal length": 6.6,
                  "sepal width": 2.9,
                  "petal length": 4.6,
                  "petal width": 1.3,
                  "class": "versicolor",
                  "target_0": 0,
                  "target_1": 1,
                  "target_2": 0,
                  "_deepnote_index_column": 58
                },
                {
                  "sepal length": 5.2,
                  "sepal width": 2.7,
                  "petal length": 3.9,
                  "petal width": 1.4,
                  "class": "versicolor",
                  "target_0": 0,
                  "target_1": 1,
                  "target_2": 0,
                  "_deepnote_index_column": 59
                },
                {
                  "sepal length": 5,
                  "sepal width": 2,
                  "petal length": 3.5,
                  "petal width": 1,
                  "class": "versicolor",
                  "target_0": 0,
                  "target_1": 1,
                  "target_2": 0,
                  "_deepnote_index_column": 60
                },
                {
                  "sepal length": 5.9,
                  "sepal width": 3,
                  "petal length": 4.2,
                  "petal width": 1.5,
                  "class": "versicolor",
                  "target_0": 0,
                  "target_1": 1,
                  "target_2": 0,
                  "_deepnote_index_column": 61
                }
              ],
              "rows_bottom": [
                {
                  "sepal length": 6.3,
                  "sepal width": 2.3,
                  "petal length": 4.4,
                  "petal width": 1.3,
                  "class": "versicolor",
                  "target_0": 0,
                  "target_1": 1,
                  "target_2": 0,
                  "_deepnote_index_column": 87
                },
                {
                  "sepal length": 5.6,
                  "sepal width": 3,
                  "petal length": 4.1,
                  "petal width": 1.3,
                  "class": "versicolor",
                  "target_0": 0,
                  "target_1": 1,
                  "target_2": 0,
                  "_deepnote_index_column": 88
                },
                {
                  "sepal length": 5.5,
                  "sepal width": 2.5,
                  "petal length": 4,
                  "petal width": 1.3,
                  "class": "versicolor",
                  "target_0": 0,
                  "target_1": 1,
                  "target_2": 0,
                  "_deepnote_index_column": 89
                },
                {
                  "sepal length": 5.5,
                  "sepal width": 2.6,
                  "petal length": 4.4,
                  "petal width": 1.2,
                  "class": "versicolor",
                  "target_0": 0,
                  "target_1": 1,
                  "target_2": 0,
                  "_deepnote_index_column": 90
                },
                {
                  "sepal length": 6.1,
                  "sepal width": 3,
                  "petal length": 4.6,
                  "petal width": 1.4,
                  "class": "versicolor",
                  "target_0": 0,
                  "target_1": 1,
                  "target_2": 0,
                  "_deepnote_index_column": 91
                },
                {
                  "sepal length": 5.8,
                  "sepal width": 2.6,
                  "petal length": 4,
                  "petal width": 1.2,
                  "class": "versicolor",
                  "target_0": 0,
                  "target_1": 1,
                  "target_2": 0,
                  "_deepnote_index_column": 92
                },
                {
                  "sepal length": 5,
                  "sepal width": 2.3,
                  "petal length": 3.3,
                  "petal width": 1,
                  "class": "versicolor",
                  "target_0": 0,
                  "target_1": 1,
                  "target_2": 0,
                  "_deepnote_index_column": 93
                },
                {
                  "sepal length": 5.6,
                  "sepal width": 2.7,
                  "petal length": 4.2,
                  "petal width": 1.3,
                  "class": "versicolor",
                  "target_0": 0,
                  "target_1": 1,
                  "target_2": 0,
                  "_deepnote_index_column": 94
                },
                {
                  "sepal length": 5.7,
                  "sepal width": 3,
                  "petal length": 4.2,
                  "petal width": 1.2,
                  "class": "versicolor",
                  "target_0": 0,
                  "target_1": 1,
                  "target_2": 0,
                  "_deepnote_index_column": 95
                },
                {
                  "sepal length": 5.7,
                  "sepal width": 2.9,
                  "petal length": 4.2,
                  "petal width": 1.3,
                  "class": "versicolor",
                  "target_0": 0,
                  "target_1": 1,
                  "target_2": 0,
                  "_deepnote_index_column": 96
                },
                {
                  "sepal length": 6.2,
                  "sepal width": 2.9,
                  "petal length": 4.3,
                  "petal width": 1.3,
                  "class": "versicolor",
                  "target_0": 0,
                  "target_1": 1,
                  "target_2": 0,
                  "_deepnote_index_column": 97
                },
                {
                  "sepal length": 5.1,
                  "sepal width": 2.5,
                  "petal length": 3,
                  "petal width": 1.1,
                  "class": "versicolor",
                  "target_0": 0,
                  "target_1": 1,
                  "target_2": 0,
                  "_deepnote_index_column": 98
                },
                {
                  "sepal length": 5.7,
                  "sepal width": 2.8,
                  "petal length": 4.1,
                  "petal width": 1.3,
                  "class": "versicolor",
                  "target_0": 0,
                  "target_1": 1,
                  "target_2": 0,
                  "_deepnote_index_column": 99
                },
                {
                  "sepal length": 6.3,
                  "sepal width": 3.3,
                  "petal length": 6,
                  "petal width": 2.5,
                  "class": "virginica",
                  "target_0": 0,
                  "target_1": 0,
                  "target_2": 1,
                  "_deepnote_index_column": 100
                },
                {
                  "sepal length": 5.8,
                  "sepal width": 2.7,
                  "petal length": 5.1,
                  "petal width": 1.9,
                  "class": "virginica",
                  "target_0": 0,
                  "target_1": 0,
                  "target_2": 1,
                  "_deepnote_index_column": 101
                },
                {
                  "sepal length": 7.1,
                  "sepal width": 3,
                  "petal length": 5.9,
                  "petal width": 2.1,
                  "class": "virginica",
                  "target_0": 0,
                  "target_1": 0,
                  "target_2": 1,
                  "_deepnote_index_column": 102
                },
                {
                  "sepal length": 6.3,
                  "sepal width": 2.9,
                  "petal length": 5.6,
                  "petal width": 1.8,
                  "class": "virginica",
                  "target_0": 0,
                  "target_1": 0,
                  "target_2": 1,
                  "_deepnote_index_column": 103
                },
                {
                  "sepal length": 6.5,
                  "sepal width": 3,
                  "petal length": 5.8,
                  "petal width": 2.2,
                  "class": "virginica",
                  "target_0": 0,
                  "target_1": 0,
                  "target_2": 1,
                  "_deepnote_index_column": 104
                },
                {
                  "sepal length": 7.6,
                  "sepal width": 3,
                  "petal length": 6.6,
                  "petal width": 2.1,
                  "class": "virginica",
                  "target_0": 0,
                  "target_1": 0,
                  "target_2": 1,
                  "_deepnote_index_column": 105
                },
                {
                  "sepal length": 4.9,
                  "sepal width": 2.5,
                  "petal length": 4.5,
                  "petal width": 1.7,
                  "class": "virginica",
                  "target_0": 0,
                  "target_1": 0,
                  "target_2": 1,
                  "_deepnote_index_column": 106
                },
                {
                  "sepal length": 7.3,
                  "sepal width": 2.9,
                  "petal length": 6.3,
                  "petal width": 1.8,
                  "class": "virginica",
                  "target_0": 0,
                  "target_1": 0,
                  "target_2": 1,
                  "_deepnote_index_column": 107
                },
                {
                  "sepal length": 6.7,
                  "sepal width": 2.5,
                  "petal length": 5.8,
                  "petal width": 1.8,
                  "class": "virginica",
                  "target_0": 0,
                  "target_1": 0,
                  "target_2": 1,
                  "_deepnote_index_column": 108
                },
                {
                  "sepal length": 7.2,
                  "sepal width": 3.6,
                  "petal length": 6.1,
                  "petal width": 2.5,
                  "class": "virginica",
                  "target_0": 0,
                  "target_1": 0,
                  "target_2": 1,
                  "_deepnote_index_column": 109
                },
                {
                  "sepal length": 6.5,
                  "sepal width": 3.2,
                  "petal length": 5.1,
                  "petal width": 2,
                  "class": "virginica",
                  "target_0": 0,
                  "target_1": 0,
                  "target_2": 1,
                  "_deepnote_index_column": 110
                },
                {
                  "sepal length": 6.4,
                  "sepal width": 2.7,
                  "petal length": 5.3,
                  "petal width": 1.9,
                  "class": "virginica",
                  "target_0": 0,
                  "target_1": 0,
                  "target_2": 1,
                  "_deepnote_index_column": 111
                },
                {
                  "sepal length": 6.8,
                  "sepal width": 3,
                  "petal length": 5.5,
                  "petal width": 2.1,
                  "class": "virginica",
                  "target_0": 0,
                  "target_1": 0,
                  "target_2": 1,
                  "_deepnote_index_column": 112
                },
                {
                  "sepal length": 5.7,
                  "sepal width": 2.5,
                  "petal length": 5,
                  "petal width": 2,
                  "class": "virginica",
                  "target_0": 0,
                  "target_1": 0,
                  "target_2": 1,
                  "_deepnote_index_column": 113
                },
                {
                  "sepal length": 5.8,
                  "sepal width": 2.8,
                  "petal length": 5.1,
                  "petal width": 2.4,
                  "class": "virginica",
                  "target_0": 0,
                  "target_1": 0,
                  "target_2": 1,
                  "_deepnote_index_column": 114
                },
                {
                  "sepal length": 6.4,
                  "sepal width": 3.2,
                  "petal length": 5.3,
                  "petal width": 2.3,
                  "class": "virginica",
                  "target_0": 0,
                  "target_1": 0,
                  "target_2": 1,
                  "_deepnote_index_column": 115
                },
                {
                  "sepal length": 6.5,
                  "sepal width": 3,
                  "petal length": 5.5,
                  "petal width": 1.8,
                  "class": "virginica",
                  "target_0": 0,
                  "target_1": 0,
                  "target_2": 1,
                  "_deepnote_index_column": 116
                },
                {
                  "sepal length": 7.7,
                  "sepal width": 3.8,
                  "petal length": 6.7,
                  "petal width": 2.2,
                  "class": "virginica",
                  "target_0": 0,
                  "target_1": 0,
                  "target_2": 1,
                  "_deepnote_index_column": 117
                },
                {
                  "sepal length": 7.7,
                  "sepal width": 2.6,
                  "petal length": 6.9,
                  "petal width": 2.3,
                  "class": "virginica",
                  "target_0": 0,
                  "target_1": 0,
                  "target_2": 1,
                  "_deepnote_index_column": 118
                },
                {
                  "sepal length": 6,
                  "sepal width": 2.2,
                  "petal length": 5,
                  "petal width": 1.5,
                  "class": "virginica",
                  "target_0": 0,
                  "target_1": 0,
                  "target_2": 1,
                  "_deepnote_index_column": 119
                },
                {
                  "sepal length": 6.9,
                  "sepal width": 3.2,
                  "petal length": 5.7,
                  "petal width": 2.3,
                  "class": "virginica",
                  "target_0": 0,
                  "target_1": 0,
                  "target_2": 1,
                  "_deepnote_index_column": 120
                },
                {
                  "sepal length": 5.6,
                  "sepal width": 2.8,
                  "petal length": 4.9,
                  "petal width": 2,
                  "class": "virginica",
                  "target_0": 0,
                  "target_1": 0,
                  "target_2": 1,
                  "_deepnote_index_column": 121
                },
                {
                  "sepal length": 7.7,
                  "sepal width": 2.8,
                  "petal length": 6.7,
                  "petal width": 2,
                  "class": "virginica",
                  "target_0": 0,
                  "target_1": 0,
                  "target_2": 1,
                  "_deepnote_index_column": 122
                },
                {
                  "sepal length": 6.3,
                  "sepal width": 2.7,
                  "petal length": 4.9,
                  "petal width": 1.8,
                  "class": "virginica",
                  "target_0": 0,
                  "target_1": 0,
                  "target_2": 1,
                  "_deepnote_index_column": 123
                },
                {
                  "sepal length": 6.7,
                  "sepal width": 3.3,
                  "petal length": 5.7,
                  "petal width": 2.1,
                  "class": "virginica",
                  "target_0": 0,
                  "target_1": 0,
                  "target_2": 1,
                  "_deepnote_index_column": 124
                },
                {
                  "sepal length": 7.2,
                  "sepal width": 3.2,
                  "petal length": 6,
                  "petal width": 1.8,
                  "class": "virginica",
                  "target_0": 0,
                  "target_1": 0,
                  "target_2": 1,
                  "_deepnote_index_column": 125
                },
                {
                  "sepal length": 6.2,
                  "sepal width": 2.8,
                  "petal length": 4.8,
                  "petal width": 1.8,
                  "class": "virginica",
                  "target_0": 0,
                  "target_1": 0,
                  "target_2": 1,
                  "_deepnote_index_column": 126
                },
                {
                  "sepal length": 6.1,
                  "sepal width": 3,
                  "petal length": 4.9,
                  "petal width": 1.8,
                  "class": "virginica",
                  "target_0": 0,
                  "target_1": 0,
                  "target_2": 1,
                  "_deepnote_index_column": 127
                },
                {
                  "sepal length": 6.4,
                  "sepal width": 2.8,
                  "petal length": 5.6,
                  "petal width": 2.1,
                  "class": "virginica",
                  "target_0": 0,
                  "target_1": 0,
                  "target_2": 1,
                  "_deepnote_index_column": 128
                },
                {
                  "sepal length": 7.2,
                  "sepal width": 3,
                  "petal length": 5.8,
                  "petal width": 1.6,
                  "class": "virginica",
                  "target_0": 0,
                  "target_1": 0,
                  "target_2": 1,
                  "_deepnote_index_column": 129
                },
                {
                  "sepal length": 7.4,
                  "sepal width": 2.8,
                  "petal length": 6.1,
                  "petal width": 1.9,
                  "class": "virginica",
                  "target_0": 0,
                  "target_1": 0,
                  "target_2": 1,
                  "_deepnote_index_column": 130
                },
                {
                  "sepal length": 7.9,
                  "sepal width": 3.8,
                  "petal length": 6.4,
                  "petal width": 2,
                  "class": "virginica",
                  "target_0": 0,
                  "target_1": 0,
                  "target_2": 1,
                  "_deepnote_index_column": 131
                },
                {
                  "sepal length": 6.4,
                  "sepal width": 2.8,
                  "petal length": 5.6,
                  "petal width": 2.2,
                  "class": "virginica",
                  "target_0": 0,
                  "target_1": 0,
                  "target_2": 1,
                  "_deepnote_index_column": 132
                },
                {
                  "sepal length": 6.3,
                  "sepal width": 2.8,
                  "petal length": 5.1,
                  "petal width": 1.5,
                  "class": "virginica",
                  "target_0": 0,
                  "target_1": 0,
                  "target_2": 1,
                  "_deepnote_index_column": 133
                },
                {
                  "sepal length": 6.1,
                  "sepal width": 2.6,
                  "petal length": 5.6,
                  "petal width": 1.4,
                  "class": "virginica",
                  "target_0": 0,
                  "target_1": 0,
                  "target_2": 1,
                  "_deepnote_index_column": 134
                },
                {
                  "sepal length": 7.7,
                  "sepal width": 3,
                  "petal length": 6.1,
                  "petal width": 2.3,
                  "class": "virginica",
                  "target_0": 0,
                  "target_1": 0,
                  "target_2": 1,
                  "_deepnote_index_column": 135
                },
                {
                  "sepal length": 6.3,
                  "sepal width": 3.4,
                  "petal length": 5.6,
                  "petal width": 2.4,
                  "class": "virginica",
                  "target_0": 0,
                  "target_1": 0,
                  "target_2": 1,
                  "_deepnote_index_column": 136
                },
                {
                  "sepal length": 6.4,
                  "sepal width": 3.1,
                  "petal length": 5.5,
                  "petal width": 1.8,
                  "class": "virginica",
                  "target_0": 0,
                  "target_1": 0,
                  "target_2": 1,
                  "_deepnote_index_column": 137
                },
                {
                  "sepal length": 6,
                  "sepal width": 3,
                  "petal length": 4.8,
                  "petal width": 1.8,
                  "class": "virginica",
                  "target_0": 0,
                  "target_1": 0,
                  "target_2": 1,
                  "_deepnote_index_column": 138
                },
                {
                  "sepal length": 6.9,
                  "sepal width": 3.1,
                  "petal length": 5.4,
                  "petal width": 2.1,
                  "class": "virginica",
                  "target_0": 0,
                  "target_1": 0,
                  "target_2": 1,
                  "_deepnote_index_column": 139
                },
                {
                  "sepal length": 6.7,
                  "sepal width": 3.1,
                  "petal length": 5.6,
                  "petal width": 2.4,
                  "class": "virginica",
                  "target_0": 0,
                  "target_1": 0,
                  "target_2": 1,
                  "_deepnote_index_column": 140
                },
                {
                  "sepal length": 6.9,
                  "sepal width": 3.1,
                  "petal length": 5.1,
                  "petal width": 2.3,
                  "class": "virginica",
                  "target_0": 0,
                  "target_1": 0,
                  "target_2": 1,
                  "_deepnote_index_column": 141
                },
                {
                  "sepal length": 5.8,
                  "sepal width": 2.7,
                  "petal length": 5.1,
                  "petal width": 1.9,
                  "class": "virginica",
                  "target_0": 0,
                  "target_1": 0,
                  "target_2": 1,
                  "_deepnote_index_column": 142
                },
                {
                  "sepal length": 6.8,
                  "sepal width": 3.2,
                  "petal length": 5.9,
                  "petal width": 2.3,
                  "class": "virginica",
                  "target_0": 0,
                  "target_1": 0,
                  "target_2": 1,
                  "_deepnote_index_column": 143
                },
                {
                  "sepal length": 6.7,
                  "sepal width": 3.3,
                  "petal length": 5.7,
                  "petal width": 2.5,
                  "class": "virginica",
                  "target_0": 0,
                  "target_1": 0,
                  "target_2": 1,
                  "_deepnote_index_column": 144
                },
                {
                  "sepal length": 6.7,
                  "sepal width": 3,
                  "petal length": 5.2,
                  "petal width": 2.3,
                  "class": "virginica",
                  "target_0": 0,
                  "target_1": 0,
                  "target_2": 1,
                  "_deepnote_index_column": 145
                },
                {
                  "sepal length": 6.3,
                  "sepal width": 2.5,
                  "petal length": 5,
                  "petal width": 1.9,
                  "class": "virginica",
                  "target_0": 0,
                  "target_1": 0,
                  "target_2": 1,
                  "_deepnote_index_column": 146
                },
                {
                  "sepal length": 6.5,
                  "sepal width": 3,
                  "petal length": 5.2,
                  "petal width": 2,
                  "class": "virginica",
                  "target_0": 0,
                  "target_1": 0,
                  "target_2": 1,
                  "_deepnote_index_column": 147
                },
                {
                  "sepal length": 6.2,
                  "sepal width": 3.4,
                  "petal length": 5.4,
                  "petal width": 2.3,
                  "class": "virginica",
                  "target_0": 0,
                  "target_1": 0,
                  "target_2": 1,
                  "_deepnote_index_column": 148
                },
                {
                  "sepal length": 5.9,
                  "sepal width": 3,
                  "petal length": 5.1,
                  "petal width": 1.8,
                  "class": "virginica",
                  "target_0": 0,
                  "target_1": 0,
                  "target_2": 1,
                  "_deepnote_index_column": 149
                }
              ]
            },
            "text/plain": "     sepal length  sepal width  petal length  petal width      class  \\\n0             5.1          3.5           1.4          0.2     setosa   \n1             4.9          3.0           1.4          0.2     setosa   \n2             4.7          3.2           1.3          0.2     setosa   \n3             4.6          3.1           1.5          0.2     setosa   \n4             5.0          3.6           1.4          0.2     setosa   \n..            ...          ...           ...          ...        ...   \n145           6.7          3.0           5.2          2.3  virginica   \n146           6.3          2.5           5.0          1.9  virginica   \n147           6.5          3.0           5.2          2.0  virginica   \n148           6.2          3.4           5.4          2.3  virginica   \n149           5.9          3.0           5.1          1.8  virginica   \n\n     target_0  target_1  target_2  \n0           1         0         0  \n1           1         0         0  \n2           1         0         0  \n3           1         0         0  \n4           1         0         0  \n..        ...       ...       ...  \n145         0         0         1  \n146         0         0         1  \n147         0         0         1  \n148         0         0         1  \n149         0         0         1  \n\n[150 rows x 8 columns]",
            "text/html": "<div>\n<style scoped>\n    .dataframe tbody tr th:only-of-type {\n        vertical-align: middle;\n    }\n\n    .dataframe tbody tr th {\n        vertical-align: top;\n    }\n\n    .dataframe thead th {\n        text-align: right;\n    }\n</style>\n<table border=\"1\" class=\"dataframe\">\n  <thead>\n    <tr style=\"text-align: right;\">\n      <th></th>\n      <th>sepal length</th>\n      <th>sepal width</th>\n      <th>petal length</th>\n      <th>petal width</th>\n      <th>class</th>\n      <th>target_0</th>\n      <th>target_1</th>\n      <th>target_2</th>\n    </tr>\n  </thead>\n  <tbody>\n    <tr>\n      <th>0</th>\n      <td>5.1</td>\n      <td>3.5</td>\n      <td>1.4</td>\n      <td>0.2</td>\n      <td>setosa</td>\n      <td>1</td>\n      <td>0</td>\n      <td>0</td>\n    </tr>\n    <tr>\n      <th>1</th>\n      <td>4.9</td>\n      <td>3.0</td>\n      <td>1.4</td>\n      <td>0.2</td>\n      <td>setosa</td>\n      <td>1</td>\n      <td>0</td>\n      <td>0</td>\n    </tr>\n    <tr>\n      <th>2</th>\n      <td>4.7</td>\n      <td>3.2</td>\n      <td>1.3</td>\n      <td>0.2</td>\n      <td>setosa</td>\n      <td>1</td>\n      <td>0</td>\n      <td>0</td>\n    </tr>\n    <tr>\n      <th>3</th>\n      <td>4.6</td>\n      <td>3.1</td>\n      <td>1.5</td>\n      <td>0.2</td>\n      <td>setosa</td>\n      <td>1</td>\n      <td>0</td>\n      <td>0</td>\n    </tr>\n    <tr>\n      <th>4</th>\n      <td>5.0</td>\n      <td>3.6</td>\n      <td>1.4</td>\n      <td>0.2</td>\n      <td>setosa</td>\n      <td>1</td>\n      <td>0</td>\n      <td>0</td>\n    </tr>\n    <tr>\n      <th>...</th>\n      <td>...</td>\n      <td>...</td>\n      <td>...</td>\n      <td>...</td>\n      <td>...</td>\n      <td>...</td>\n      <td>...</td>\n      <td>...</td>\n    </tr>\n    <tr>\n      <th>145</th>\n      <td>6.7</td>\n      <td>3.0</td>\n      <td>5.2</td>\n      <td>2.3</td>\n      <td>virginica</td>\n      <td>0</td>\n      <td>0</td>\n      <td>1</td>\n    </tr>\n    <tr>\n      <th>146</th>\n      <td>6.3</td>\n      <td>2.5</td>\n      <td>5.0</td>\n      <td>1.9</td>\n      <td>virginica</td>\n      <td>0</td>\n      <td>0</td>\n      <td>1</td>\n    </tr>\n    <tr>\n      <th>147</th>\n      <td>6.5</td>\n      <td>3.0</td>\n      <td>5.2</td>\n      <td>2.0</td>\n      <td>virginica</td>\n      <td>0</td>\n      <td>0</td>\n      <td>1</td>\n    </tr>\n    <tr>\n      <th>148</th>\n      <td>6.2</td>\n      <td>3.4</td>\n      <td>5.4</td>\n      <td>2.3</td>\n      <td>virginica</td>\n      <td>0</td>\n      <td>0</td>\n      <td>1</td>\n    </tr>\n    <tr>\n      <th>149</th>\n      <td>5.9</td>\n      <td>3.0</td>\n      <td>5.1</td>\n      <td>1.8</td>\n      <td>virginica</td>\n      <td>0</td>\n      <td>0</td>\n      <td>1</td>\n    </tr>\n  </tbody>\n</table>\n<p>150 rows × 8 columns</p>\n</div>"
          },
          "metadata": {}
        }
      ]
    },
    {
      "cell_type": "code",
      "metadata": {
        "cell_id": "00006-7c79a157-ff2d-4b84-ad29-0b7131bbe34c",
        "deepnote_to_be_reexecuted": false,
        "source_hash": "d3f64fe7",
        "execution_start": 1619618699507,
        "execution_millis": 3,
        "deepnote_cell_type": "code"
      },
      "source": "Y = df_iris.target.to_numpy()\nX = df_iris[['sepal length','sepal width']].to_numpy() \n",
      "execution_count": 7,
      "outputs": []
    },
    {
      "cell_type": "code",
      "metadata": {
        "cell_id": "00007-08b6db61-b1a2-45fe-a7e1-3ca02968d413",
        "deepnote_to_be_reexecuted": false,
        "source_hash": "86503387",
        "execution_start": 1619618699511,
        "execution_millis": 27,
        "deepnote_cell_type": "code"
      },
      "source": "X = df_iris[['sepal length', 'sepal width']].values\nprint(X.shape)\nX[:5]",
      "execution_count": 8,
      "outputs": [
        {
          "name": "stdout",
          "text": "(150, 2)\n",
          "output_type": "stream"
        },
        {
          "output_type": "execute_result",
          "execution_count": 8,
          "data": {
            "text/plain": "array([[5.1, 3.5],\n       [4.9, 3. ],\n       [4.7, 3.2],\n       [4.6, 3.1],\n       [5. , 3.6]])"
          },
          "metadata": {}
        }
      ]
    },
    {
      "cell_type": "code",
      "metadata": {
        "cell_id": "00008-48c6058b-19cc-493f-a6b1-636d648024cc",
        "deepnote_to_be_reexecuted": false,
        "source_hash": "7300ff5",
        "execution_start": 1619618699527,
        "execution_millis": 1,
        "deepnote_cell_type": "code"
      },
      "source": "#Split the data into train and test\nX_train, X_test, Y_train, Y_test = train_test_split(X, Y, train_size = 0.8, random_state = 42)",
      "execution_count": 9,
      "outputs": []
    },
    {
      "cell_type": "code",
      "metadata": {
        "cell_id": "00009-f2f03e4a-3a3b-41cf-bd5b-65d251493df2",
        "deepnote_to_be_reexecuted": false,
        "source_hash": "247e1c4d",
        "execution_start": 1619618699530,
        "execution_millis": 18,
        "deepnote_cell_type": "code"
      },
      "source": "#normalize the dataset\n#create and fit the scaler object on the training data\n\nscaling = StandardScaler() \nX_train =  scaling.fit_transform(X_train)\nX_test = scaling.fit_transform(X_test)\n\nX_train[:5]",
      "execution_count": 10,
      "outputs": [
        {
          "output_type": "execute_result",
          "execution_count": 10,
          "data": {
            "text/plain": "array([[-1.47393679,  1.20365799],\n       [-0.13307079,  2.99237573],\n       [ 1.08589829,  0.08570939],\n       [-1.23014297,  0.75647855],\n       [-1.7177306 ,  0.30929911]])"
          },
          "metadata": {}
        }
      ]
    },
    {
      "cell_type": "code",
      "metadata": {
        "cell_id": "00010-db9f6e38-dc3c-4dfa-a76d-5c233ac53dc6",
        "deepnote_to_be_reexecuted": false,
        "source_hash": "7532bfc4",
        "execution_start": 1619618699540,
        "execution_millis": 2,
        "deepnote_cell_type": "code"
      },
      "source": "# Create Decision Tree classifer object\nclf = DecisionTreeClassifier()\n\n# Train Decision Tree Classifer\nclf = clf.fit(X_train,Y_train)\n\n#Predict the response for test dataset\nY_pred = clf.predict(X_test)",
      "execution_count": 11,
      "outputs": []
    },
    {
      "cell_type": "code",
      "metadata": {
        "cell_id": "00011-02890cad-f362-4607-b9ec-ec0517ff7c39",
        "deepnote_to_be_reexecuted": false,
        "source_hash": "76409d8e",
        "execution_start": 1619618699544,
        "execution_millis": 8,
        "deepnote_cell_type": "code"
      },
      "source": "print(\"Accuracy:\",metrics.accuracy_score(Y_test, Y_pred))",
      "execution_count": 12,
      "outputs": [
        {
          "name": "stdout",
          "text": "Accuracy: 0.8333333333333334\n",
          "output_type": "stream"
        }
      ]
    },
    {
      "cell_type": "markdown",
      "source": "Second Exercise",
      "metadata": {
        "tags": [],
        "deepnote_cell_type": "text-cell-p"
      }
    },
    {
      "cell_type": "code",
      "source": "import pandas as pd\nfrom sklearn.tree import DecisionTreeClassifier\nfrom sklearn.model_selection import train_test_split\nfrom sklearn.metrics import accuracy_score\n\nzoo_df = pd.read_csv('zoo.data', header=None)\nX = zoo_df.iloc[:, 1:16]\ny = zoo_df[17]\n\nX_train, X_test, y_train, y_test = train_test_split(X, y, random_state=0)\nmodel = DecisionTreeClassifier(random_state=6)\nmodel.fit(X_train, y_train)\npredictions = model.predict(X_test)\nprint(predictions)\nprint(y_test.values)\naccuracy = accuracy_score(y_test, predictions)\n#suggest \n#Dec_tree_accu = accuracy_score(y_test, predictions)\nprint(accuracy)",
      "metadata": {
        "tags": [],
        "cell_id": "00014-6ce456ce-fa70-4608-a747-5dc3b0d4103b",
        "deepnote_to_be_reexecuted": false,
        "source_hash": "f7f3b6d1",
        "execution_start": 1619618812073,
        "execution_millis": 34,
        "deepnote_cell_type": "code"
      },
      "outputs": [
        {
          "name": "stdout",
          "text": "[3 4 4 1 1 1 2 4 1 1 7 1 2 7 4 6 1 6 2 4 2 3 1 2 1 1]\n[5 4 4 1 1 1 2 4 1 1 7 1 2 7 4 6 1 6 2 4 2 3 1 2 1 1]\n0.9615384615384616\n",
          "output_type": "stream"
        }
      ],
      "execution_count": 22
    },
    {
      "cell_type": "code",
      "source": "import pandas as pd\nfrom sklearn.tree import DecisionTreeClassifier\nfrom sklearn.model_selection import train_test_split\nfrom sklearn.metrics import accuracy_score\nfrom sklearn.model_selection import KFold\nfrom sklearn.model_selection import cross_val_score\n\nzoo_df = pd.read_csv('zoo.data', header=None)\nX = zoo_df.iloc[:, 1:16]\ny = zoo_df[17]\n'''\nclass sklearn.tree.DecisionTreeClassifier(criterion='gini', \nsplitter='best', max_depth=None, min_samples_split=2, \nmin_samples_leaf=1, max_features=None, random_state=None, \nmin_density=None, compute_importances=None, max_leaf_nodes=None)\n'''\nkfold = KFold(n_splits=15)\nX_train_z, X_test_z, y_train_z, y_test_z = train_test_split(X, y, random_state=0)\nmodel = DecisionTreeClassifier(criterion='gini', random_state=8)\nmodel.fit(X_train_z, y_train_z)\npredictions = model.predict(X_test_z)\nresult = cross_val_score(model, X_test_z, y_test_z, cv=kfold)\nprint(result)\nprint('The mean accuracy is %f' %(result.mean()))\nprint(predictions)\nprint(y_test_z.values)\n",
      "metadata": {
        "tags": [],
        "cell_id": "00012-6970d1de-3c3b-4322-951a-1bb987b9256c",
        "deepnote_to_be_reexecuted": false,
        "source_hash": "7426e371",
        "execution_start": 1619619460155,
        "execution_millis": 97,
        "deepnote_cell_type": "code"
      },
      "outputs": [
        {
          "name": "stdout",
          "text": "[0.5 1.  1.  1.  1.  1.  1.  1.  1.  1.  0.5 1.  1.  1.  1. ]\nThe mean accuracy is 0.933333\n[5 4 4 1 1 1 2 4 1 1 7 1 2 7 4 6 1 6 2 4 2 3 1 2 1 1]\n[5 4 4 1 1 1 2 4 1 1 7 1 2 7 4 6 1 6 2 4 2 3 1 2 1 1]\n",
          "output_type": "stream"
        }
      ],
      "execution_count": 29
    },
    {
      "cell_type": "code",
      "source": "accuracy = accuracy_score(y_test, predictions)\nprint(accuracy)",
      "metadata": {
        "tags": [],
        "cell_id": "00015-beeb1c48-7906-4642-a634-8b821942db57",
        "deepnote_to_be_reexecuted": false,
        "source_hash": "b397d89a",
        "execution_start": 1619619993623,
        "execution_millis": 8,
        "deepnote_cell_type": "code"
      },
      "outputs": [
        {
          "name": "stdout",
          "text": "1.0\n",
          "output_type": "stream"
        }
      ],
      "execution_count": 32
    },
    {
      "cell_type": "markdown",
      "source": "# Part II",
      "metadata": {
        "tags": [],
        "cell_id": "00013-7353331d-56cc-4087-8363-6dfec03e61de",
        "deepnote_cell_type": "text-cell-h1"
      }
    },
    {
      "cell_type": "markdown",
      "source": "Random Forest ",
      "metadata": {
        "tags": [],
        "deepnote_cell_type": "text-cell-p"
      }
    },
    {
      "cell_type": "code",
      "source": "#Random Forest \n#iris_data\nfrom sklearn.ensemble import RandomForestRegressor\nfrom sklearn.metrics import accuracy_score\n\n",
      "metadata": {
        "tags": [],
        "cell_id": "00014-61084220-bfb9-4d02-931f-98f25b46dd94",
        "deepnote_to_be_reexecuted": false,
        "source_hash": "58ce2e75",
        "execution_start": 1619620180918,
        "execution_millis": 0,
        "deepnote_cell_type": "code"
      },
      "outputs": [],
      "execution_count": 35
    },
    {
      "cell_type": "code",
      "source": "#default_Modeling\nfrom sklearn.model_selection import KFold\nfrom sklearn.model_selection import cross_val_score\n\nforest_default = RandomForestRegressor(random_state=1)\nforest_default.fit(X_train, y_train)\npredic_default_forest = forest_default.predict(X_test)\nkfold = KFold(n_splits=10)\n\n# Accuracy \ndef accuracy_check(t,p):\n    a =[]\n    for i in range(len(t)):\n        a.append((p[i]/t[i])*100)\n    a = np.array(a)\n    return np.mean(a)\n\n#forest_accuracy1 = accuracy_score(y_test, predic_default_forest )\nforest_accuracy = cross_val_score(y_test, predic_default_forest , cv=kfold)\nprint(forest_accuracy)\n",
      "metadata": {
        "tags": [],
        "cell_id": "00018-334d3b1e-df9a-4247-bc57-f4e0b4d5ba3b",
        "deepnote_to_be_reexecuted": false,
        "source_hash": "4885086f",
        "execution_start": 1619621911981,
        "execution_millis": 87,
        "deepnote_cell_type": "code"
      },
      "outputs": [
        {
          "output_type": "error",
          "ename": "TypeError",
          "evalue": "estimator should be an estimator implementing 'fit' method, 26    5\n86    4\n2     4\n55    1\n75    1\n94    1\n16    2\n73    4\n54    1\n96    1\n53    7\n93    1\n78    2\n13    7\n7     4\n30    6\n22    1\n24    6\n33    2\n8     4\n43    2\n62    3\n3     1\n71    2\n45    1\n48    1\nName: 17, dtype: int64 was passed",
          "traceback": [
            "\u001b[0;31m---------------------------------------------------------------------------\u001b[0m",
            "\u001b[0;31mTypeError\u001b[0m                                 Traceback (most recent call last)",
            "\u001b[0;32m<ipython-input-57-40bb61aebfb9>\u001b[0m in \u001b[0;36m<module>\u001b[0;34m\u001b[0m\n\u001b[1;32m     17\u001b[0m \u001b[0;34m\u001b[0m\u001b[0m\n\u001b[1;32m     18\u001b[0m \u001b[0;31m#forest_accuracy1 = accuracy_score(y_test, predic_default_forest )\u001b[0m\u001b[0;34m\u001b[0m\u001b[0;34m\u001b[0m\u001b[0;34m\u001b[0m\u001b[0m\n\u001b[0;32m---> 19\u001b[0;31m \u001b[0mforest_accuracy\u001b[0m \u001b[0;34m=\u001b[0m \u001b[0mcross_val_score\u001b[0m\u001b[0;34m(\u001b[0m\u001b[0my_test\u001b[0m\u001b[0;34m,\u001b[0m \u001b[0mpredic_default_forest\u001b[0m \u001b[0;34m)\u001b[0m\u001b[0;34m\u001b[0m\u001b[0;34m\u001b[0m\u001b[0m\n\u001b[0m\u001b[1;32m     20\u001b[0m \u001b[0mprint\u001b[0m\u001b[0;34m(\u001b[0m\u001b[0mforest_accuracy\u001b[0m\u001b[0;34m)\u001b[0m\u001b[0;34m\u001b[0m\u001b[0;34m\u001b[0m\u001b[0m\n",
            "\u001b[0;32m/shared-libs/python3.7/py/lib/python3.7/site-packages/sklearn/utils/validation.py\u001b[0m in \u001b[0;36minner_f\u001b[0;34m(*args, **kwargs)\u001b[0m\n\u001b[1;32m     61\u001b[0m             \u001b[0mextra_args\u001b[0m \u001b[0;34m=\u001b[0m \u001b[0mlen\u001b[0m\u001b[0;34m(\u001b[0m\u001b[0margs\u001b[0m\u001b[0;34m)\u001b[0m \u001b[0;34m-\u001b[0m \u001b[0mlen\u001b[0m\u001b[0;34m(\u001b[0m\u001b[0mall_args\u001b[0m\u001b[0;34m)\u001b[0m\u001b[0;34m\u001b[0m\u001b[0;34m\u001b[0m\u001b[0m\n\u001b[1;32m     62\u001b[0m             \u001b[0;32mif\u001b[0m \u001b[0mextra_args\u001b[0m \u001b[0;34m<=\u001b[0m \u001b[0;36m0\u001b[0m\u001b[0;34m:\u001b[0m\u001b[0;34m\u001b[0m\u001b[0;34m\u001b[0m\u001b[0m\n\u001b[0;32m---> 63\u001b[0;31m                 \u001b[0;32mreturn\u001b[0m \u001b[0mf\u001b[0m\u001b[0;34m(\u001b[0m\u001b[0;34m*\u001b[0m\u001b[0margs\u001b[0m\u001b[0;34m,\u001b[0m \u001b[0;34m**\u001b[0m\u001b[0mkwargs\u001b[0m\u001b[0;34m)\u001b[0m\u001b[0;34m\u001b[0m\u001b[0;34m\u001b[0m\u001b[0m\n\u001b[0m\u001b[1;32m     64\u001b[0m \u001b[0;34m\u001b[0m\u001b[0m\n\u001b[1;32m     65\u001b[0m             \u001b[0;31m# extra_args > 0\u001b[0m\u001b[0;34m\u001b[0m\u001b[0;34m\u001b[0m\u001b[0;34m\u001b[0m\u001b[0m\n",
            "\u001b[0;32m/shared-libs/python3.7/py/lib/python3.7/site-packages/sklearn/model_selection/_validation.py\u001b[0m in \u001b[0;36mcross_val_score\u001b[0;34m(estimator, X, y, groups, scoring, cv, n_jobs, verbose, fit_params, pre_dispatch, error_score)\u001b[0m\n\u001b[1;32m    436\u001b[0m     \"\"\"\n\u001b[1;32m    437\u001b[0m     \u001b[0;31m# To ensure multimetric format is not supported\u001b[0m\u001b[0;34m\u001b[0m\u001b[0;34m\u001b[0m\u001b[0;34m\u001b[0m\u001b[0m\n\u001b[0;32m--> 438\u001b[0;31m     \u001b[0mscorer\u001b[0m \u001b[0;34m=\u001b[0m \u001b[0mcheck_scoring\u001b[0m\u001b[0;34m(\u001b[0m\u001b[0mestimator\u001b[0m\u001b[0;34m,\u001b[0m \u001b[0mscoring\u001b[0m\u001b[0;34m=\u001b[0m\u001b[0mscoring\u001b[0m\u001b[0;34m)\u001b[0m\u001b[0;34m\u001b[0m\u001b[0;34m\u001b[0m\u001b[0m\n\u001b[0m\u001b[1;32m    439\u001b[0m \u001b[0;34m\u001b[0m\u001b[0m\n\u001b[1;32m    440\u001b[0m     cv_results = cross_validate(estimator=estimator, X=X, y=y, groups=groups,\n",
            "\u001b[0;32m/shared-libs/python3.7/py/lib/python3.7/site-packages/sklearn/utils/validation.py\u001b[0m in \u001b[0;36minner_f\u001b[0;34m(*args, **kwargs)\u001b[0m\n\u001b[1;32m     61\u001b[0m             \u001b[0mextra_args\u001b[0m \u001b[0;34m=\u001b[0m \u001b[0mlen\u001b[0m\u001b[0;34m(\u001b[0m\u001b[0margs\u001b[0m\u001b[0;34m)\u001b[0m \u001b[0;34m-\u001b[0m \u001b[0mlen\u001b[0m\u001b[0;34m(\u001b[0m\u001b[0mall_args\u001b[0m\u001b[0;34m)\u001b[0m\u001b[0;34m\u001b[0m\u001b[0;34m\u001b[0m\u001b[0m\n\u001b[1;32m     62\u001b[0m             \u001b[0;32mif\u001b[0m \u001b[0mextra_args\u001b[0m \u001b[0;34m<=\u001b[0m \u001b[0;36m0\u001b[0m\u001b[0;34m:\u001b[0m\u001b[0;34m\u001b[0m\u001b[0;34m\u001b[0m\u001b[0m\n\u001b[0;32m---> 63\u001b[0;31m                 \u001b[0;32mreturn\u001b[0m \u001b[0mf\u001b[0m\u001b[0;34m(\u001b[0m\u001b[0;34m*\u001b[0m\u001b[0margs\u001b[0m\u001b[0;34m,\u001b[0m \u001b[0;34m**\u001b[0m\u001b[0mkwargs\u001b[0m\u001b[0;34m)\u001b[0m\u001b[0;34m\u001b[0m\u001b[0;34m\u001b[0m\u001b[0m\n\u001b[0m\u001b[1;32m     64\u001b[0m \u001b[0;34m\u001b[0m\u001b[0m\n\u001b[1;32m     65\u001b[0m             \u001b[0;31m# extra_args > 0\u001b[0m\u001b[0;34m\u001b[0m\u001b[0;34m\u001b[0m\u001b[0;34m\u001b[0m\u001b[0m\n",
            "\u001b[0;32m/shared-libs/python3.7/py/lib/python3.7/site-packages/sklearn/metrics/_scorer.py\u001b[0m in \u001b[0;36mcheck_scoring\u001b[0;34m(estimator, scoring, allow_none)\u001b[0m\n\u001b[1;32m    426\u001b[0m     \u001b[0;32mif\u001b[0m \u001b[0;32mnot\u001b[0m \u001b[0mhasattr\u001b[0m\u001b[0;34m(\u001b[0m\u001b[0mestimator\u001b[0m\u001b[0;34m,\u001b[0m \u001b[0;34m'fit'\u001b[0m\u001b[0;34m)\u001b[0m\u001b[0;34m:\u001b[0m\u001b[0;34m\u001b[0m\u001b[0;34m\u001b[0m\u001b[0m\n\u001b[1;32m    427\u001b[0m         raise TypeError(\"estimator should be an estimator implementing \"\n\u001b[0;32m--> 428\u001b[0;31m                         \"'fit' method, %r was passed\" % estimator)\n\u001b[0m\u001b[1;32m    429\u001b[0m     \u001b[0;32mif\u001b[0m \u001b[0misinstance\u001b[0m\u001b[0;34m(\u001b[0m\u001b[0mscoring\u001b[0m\u001b[0;34m,\u001b[0m \u001b[0mstr\u001b[0m\u001b[0;34m)\u001b[0m\u001b[0;34m:\u001b[0m\u001b[0;34m\u001b[0m\u001b[0;34m\u001b[0m\u001b[0m\n\u001b[1;32m    430\u001b[0m         \u001b[0;32mreturn\u001b[0m \u001b[0mget_scorer\u001b[0m\u001b[0;34m(\u001b[0m\u001b[0mscoring\u001b[0m\u001b[0;34m)\u001b[0m\u001b[0;34m\u001b[0m\u001b[0;34m\u001b[0m\u001b[0m\n",
            "\u001b[0;31mTypeError\u001b[0m: estimator should be an estimator implementing 'fit' method, 26    5\n86    4\n2     4\n55    1\n75    1\n94    1\n16    2\n73    4\n54    1\n96    1\n53    7\n93    1\n78    2\n13    7\n7     4\n30    6\n22    1\n24    6\n33    2\n8     4\n43    2\n62    3\n3     1\n71    2\n45    1\n48    1\nName: 17, dtype: int64 was passed"
          ]
        }
      ],
      "execution_count": 57
    },
    {
      "cell_type": "code",
      "source": "",
      "metadata": {
        "tags": [],
        "cell_id": "00020-d5de6191-9051-45a5-9c89-2272a2ea3395",
        "deepnote_cell_type": "code"
      },
      "outputs": [],
      "execution_count": null
    },
    {
      "cell_type": "code",
      "source": "#try some changes \nkfold = KFold(n_splits=10)\nforest_model = RandomForestRegressor(n_estimators = 1000 , random_state=1)\nforest_model.fit(X_train, y_train)\npredic_forest = forest_model.predict(X_test)\n\n# Accuracy \nresult_R = cross_val_score(forest_model, X_test, y_test, cv=kfold)\nprint('The mean accuracy is %f' %(result_R.mean()))\n# accuracy = accuracy_score(y_test, predic_forest )\n# print( 'Random Forest Accuracy ', accuracy*100,'%')\n# print(predic_default_forest)",
      "metadata": {
        "tags": [],
        "cell_id": "00019-caaa9f0d-0f93-4d14-8292-c5d7f283ca5d",
        "deepnote_to_be_reexecuted": false,
        "source_hash": "fdbf932a",
        "execution_start": 1619621796497,
        "execution_millis": 11956,
        "deepnote_cell_type": "code"
      },
      "outputs": [
        {
          "name": "stdout",
          "text": "The mean accuracy is -1.478878\n",
          "output_type": "stream"
        }
      ],
      "execution_count": 56
    },
    {
      "cell_type": "code",
      "source": "#zoo dt\nkfold = kfold(n_splits = )",
      "metadata": {
        "tags": [],
        "cell_id": "00022-9fa833be-f867-42e0-aa27-c0e0da87ffa1",
        "deepnote_cell_type": "code"
      },
      "outputs": [],
      "execution_count": null
    },
    {
      "cell_type": "markdown",
      "source": "<a style='text-decoration:none;line-height:16px;display:flex;color:#5B5B62;padding:10px;justify-content:end;' href='https://deepnote.com?utm_source=created-in-deepnote-cell&projectId=6c28b595-5f74-4b59-965a-54b1f3dd0300' target=\"_blank\">\n<img alt='Created in deepnote.com' style='display:inline;max-height:16px;margin:0px;margin-right:7.5px;' src='data:image/svg+xml;base64,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' > </img>\nCreated in <span style='font-weight:600;margin-left:4px;'>Deepnote</span></a>",
      "metadata": {
        "tags": [],
        "created_in_deepnote_cell": true,
        "deepnote_cell_type": "markdown"
      }
    }
  ],
  "nbformat": 4,
  "nbformat_minor": 4,
  "metadata": {
    "kernelspec": {
      "display_name": "Python 3",
      "language": "python",
      "name": "python3"
    },
    "language_info": {
      "codemirror_mode": {
        "name": "ipython",
        "version": 3
      },
      "file_extension": ".py",
      "mimetype": "text/x-python",
      "name": "python",
      "nbconvert_exporter": "python",
      "pygments_lexer": "ipython3",
      "version": "3.8.5"
    },
    "deepnote_notebook_id": "8d0a1fc8-a1e9-415d-9c37-b172d6bea27d",
    "deepnote": {},
    "deepnote_execution_queue": []
  }
}