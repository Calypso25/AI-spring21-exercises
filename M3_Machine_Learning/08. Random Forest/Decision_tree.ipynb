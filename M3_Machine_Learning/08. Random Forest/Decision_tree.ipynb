{
  "cells": [
    {
      "cell_type": "code",
      "metadata": {
        "cell_id": "00000-833b7104-9187-4c52-93eb-2bacdf3ff652",
        "deepnote_to_be_reexecuted": false,
        "source_hash": "c46b33ed",
        "execution_start": 1619613730822,
        "execution_millis": 1413,
        "deepnote_cell_type": "code"
      },
      "source": "import numpy as np\nimport matplotlib\nimport matplotlib.pyplot as plt\nimport seaborn as sns\nimport pandas as pd\nfrom sklearn import datasets\nfrom sklearn import model_selection\nfrom sklearn.preprocessing import StandardScaler\nfrom sklearn import preprocessing\nfrom sklearn.model_selection import train_test_split, cross_validate\nfrom sklearn import metrics\nfrom sklearn.tree import DecisionTreeClassifier\n\n\n# Display plots inline and change plot resolution to retina\n%matplotlib inline\n%config InlineBackend.figure_format = 'retina'\n# Set Seaborn aesthetic parameters to defaults\nsns.set()",
      "execution_count": 1,
      "outputs": [
        {
          "name": "stdout",
          "text": "Setup Complete\n",
          "output_type": "stream"
        }
      ]
    },
    {
      "cell_type": "code",
      "metadata": {
        "cell_id": "00001-f5ec7d16-b420-4e91-85fd-27752305c74a",
        "deepnote_to_be_reexecuted": false,
        "source_hash": "9248e075",
        "execution_start": 1619613738442,
        "execution_millis": 0,
        "deepnote_cell_type": "code"
      },
      "source": "def load_data():\n    #load the dataset\n    #return the dataset\n    iris_data = datasets.load_iris()\n    return iris_data",
      "execution_count": 14,
      "outputs": []
    },
    {
      "cell_type": "code",
      "metadata": {
        "cell_id": "00002-fb70ac1b-124d-4006-af4d-61f89865b06d",
        "deepnote_to_be_reexecuted": false,
        "source_hash": "ebc3d2ab",
        "execution_start": 1619613740698,
        "execution_millis": 19,
        "deepnote_cell_type": "code"
      },
      "source": "dataset = load_data()\nload_data().feature_names",
      "execution_count": 15,
      "outputs": [
        {
          "output_type": "execute_result",
          "execution_count": 15,
          "data": {
            "text/plain": "['sepal length (cm)',\n 'sepal width (cm)',\n 'petal length (cm)',\n 'petal width (cm)']"
          },
          "metadata": {}
        }
      ]
    },
    {
      "cell_type": "code",
      "metadata": {
        "cell_id": "00003-03c0a503-9114-41d8-ba04-ef4be1f133a8",
        "deepnote_to_be_reexecuted": false,
        "source_hash": "68fcd774",
        "execution_start": 1619613743313,
        "execution_millis": 2,
        "deepnote_cell_type": "code"
      },
      "source": "def dataset_to_pandas():\n    #put the dataset into a pandas DF using the feature names as columnsç\n    #rename the column name so the dont include the '(cm)'\n    #add 2 columns one with the target and another with the target_names\n    \n    df = pd.DataFrame(dataset['data'], columns=dataset['feature_names'])\n    df.columns = ['sepal length', 'sepal width', 'petal length', 'petal width']\n    df['target'] = dataset['target']\n    df['class'] = dataset.target_names[dataset.target]\n\n    #df['class'] = pd.Categorical.from_codes(dataset.target, dataset.target_names) #Make a Categorical type from codes and categories or dtype.\n    #here the codes are the target values and the dtype will be target_names\n    return df",
      "execution_count": 16,
      "outputs": []
    },
    {
      "cell_type": "code",
      "metadata": {
        "cell_id": "00004-088147b7-60a1-4949-944d-39bdcc82db61",
        "deepnote_to_be_reexecuted": false,
        "source_hash": "c001f76d",
        "execution_start": 1619613746519,
        "execution_millis": 39,
        "deepnote_cell_type": "code"
      },
      "source": "df_iris = dataset_to_pandas()\ndf_iris",
      "execution_count": 17,
      "outputs": [
        {
          "output_type": "execute_result",
          "execution_count": 17,
          "data": {
            "application/vnd.deepnote.dataframe.v2+json": {
              "row_count": 150,
              "column_count": 6,
              "columns": [
                {
                  "name": "sepal length",
                  "dtype": "float64",
                  "stats": {
                    "unique_count": 35,
                    "nan_count": 0,
                    "min": "4.3",
                    "max": "7.9",
                    "histogram": [
                      {
                        "bin_start": 4.3,
                        "bin_end": 4.66,
                        "count": 9
                      },
                      {
                        "bin_start": 4.66,
                        "bin_end": 5.02,
                        "count": 23
                      },
                      {
                        "bin_start": 5.02,
                        "bin_end": 5.38,
                        "count": 14
                      },
                      {
                        "bin_start": 5.38,
                        "bin_end": 5.74,
                        "count": 27
                      },
                      {
                        "bin_start": 5.74,
                        "bin_end": 6.1,
                        "count": 16
                      },
                      {
                        "bin_start": 6.1,
                        "bin_end": 6.46,
                        "count": 26
                      },
                      {
                        "bin_start": 6.46,
                        "bin_end": 6.82,
                        "count": 18
                      },
                      {
                        "bin_start": 6.82,
                        "bin_end": 7.18,
                        "count": 6
                      },
                      {
                        "bin_start": 7.18,
                        "bin_end": 7.54,
                        "count": 5
                      },
                      {
                        "bin_start": 7.54,
                        "bin_end": 7.9,
                        "count": 6
                      }
                    ]
                  }
                },
                {
                  "name": "sepal width",
                  "dtype": "float64",
                  "stats": {
                    "unique_count": 23,
                    "nan_count": 0,
                    "min": "2.0",
                    "max": "4.4",
                    "histogram": [
                      {
                        "bin_start": 2,
                        "bin_end": 2.24,
                        "count": 4
                      },
                      {
                        "bin_start": 2.24,
                        "bin_end": 2.48,
                        "count": 7
                      },
                      {
                        "bin_start": 2.48,
                        "bin_end": 2.72,
                        "count": 22
                      },
                      {
                        "bin_start": 2.72,
                        "bin_end": 2.96,
                        "count": 24
                      },
                      {
                        "bin_start": 2.96,
                        "bin_end": 3.2,
                        "count": 37
                      },
                      {
                        "bin_start": 3.2,
                        "bin_end": 3.4400000000000004,
                        "count": 31
                      },
                      {
                        "bin_start": 3.4400000000000004,
                        "bin_end": 3.6800000000000006,
                        "count": 10
                      },
                      {
                        "bin_start": 3.6800000000000006,
                        "bin_end": 3.9200000000000004,
                        "count": 11
                      },
                      {
                        "bin_start": 3.9200000000000004,
                        "bin_end": 4.16,
                        "count": 2
                      },
                      {
                        "bin_start": 4.16,
                        "bin_end": 4.4,
                        "count": 2
                      }
                    ]
                  }
                },
                {
                  "name": "petal length",
                  "dtype": "float64",
                  "stats": {
                    "unique_count": 43,
                    "nan_count": 0,
                    "min": "1.0",
                    "max": "6.9",
                    "histogram": [
                      {
                        "bin_start": 1,
                        "bin_end": 1.59,
                        "count": 37
                      },
                      {
                        "bin_start": 1.59,
                        "bin_end": 2.18,
                        "count": 13
                      },
                      {
                        "bin_start": 2.18,
                        "bin_end": 2.7700000000000005,
                        "count": 0
                      },
                      {
                        "bin_start": 2.7700000000000005,
                        "bin_end": 3.3600000000000003,
                        "count": 3
                      },
                      {
                        "bin_start": 3.3600000000000003,
                        "bin_end": 3.95,
                        "count": 8
                      },
                      {
                        "bin_start": 3.95,
                        "bin_end": 4.540000000000001,
                        "count": 26
                      },
                      {
                        "bin_start": 4.540000000000001,
                        "bin_end": 5.130000000000001,
                        "count": 29
                      },
                      {
                        "bin_start": 5.130000000000001,
                        "bin_end": 5.720000000000001,
                        "count": 18
                      },
                      {
                        "bin_start": 5.720000000000001,
                        "bin_end": 6.3100000000000005,
                        "count": 11
                      },
                      {
                        "bin_start": 6.3100000000000005,
                        "bin_end": 6.9,
                        "count": 5
                      }
                    ]
                  }
                },
                {
                  "name": "petal width",
                  "dtype": "float64",
                  "stats": {
                    "unique_count": 22,
                    "nan_count": 0,
                    "min": "0.1",
                    "max": "2.5",
                    "histogram": [
                      {
                        "bin_start": 0.1,
                        "bin_end": 0.33999999999999997,
                        "count": 41
                      },
                      {
                        "bin_start": 0.33999999999999997,
                        "bin_end": 0.58,
                        "count": 8
                      },
                      {
                        "bin_start": 0.58,
                        "bin_end": 0.82,
                        "count": 1
                      },
                      {
                        "bin_start": 0.82,
                        "bin_end": 1.06,
                        "count": 7
                      },
                      {
                        "bin_start": 1.06,
                        "bin_end": 1.3,
                        "count": 8
                      },
                      {
                        "bin_start": 1.3,
                        "bin_end": 1.54,
                        "count": 33
                      },
                      {
                        "bin_start": 1.54,
                        "bin_end": 1.78,
                        "count": 6
                      },
                      {
                        "bin_start": 1.78,
                        "bin_end": 2.02,
                        "count": 23
                      },
                      {
                        "bin_start": 2.02,
                        "bin_end": 2.2600000000000002,
                        "count": 9
                      },
                      {
                        "bin_start": 2.2600000000000002,
                        "bin_end": 2.5,
                        "count": 14
                      }
                    ]
                  }
                },
                {
                  "name": "target",
                  "dtype": "int64",
                  "stats": {
                    "unique_count": 3,
                    "nan_count": 0,
                    "min": "0",
                    "max": "2",
                    "histogram": [
                      {
                        "bin_start": 0,
                        "bin_end": 0.2,
                        "count": 50
                      },
                      {
                        "bin_start": 0.2,
                        "bin_end": 0.4,
                        "count": 0
                      },
                      {
                        "bin_start": 0.4,
                        "bin_end": 0.6000000000000001,
                        "count": 0
                      },
                      {
                        "bin_start": 0.6000000000000001,
                        "bin_end": 0.8,
                        "count": 0
                      },
                      {
                        "bin_start": 0.8,
                        "bin_end": 1,
                        "count": 0
                      },
                      {
                        "bin_start": 1,
                        "bin_end": 1.2000000000000002,
                        "count": 50
                      },
                      {
                        "bin_start": 1.2000000000000002,
                        "bin_end": 1.4000000000000001,
                        "count": 0
                      },
                      {
                        "bin_start": 1.4000000000000001,
                        "bin_end": 1.6,
                        "count": 0
                      },
                      {
                        "bin_start": 1.6,
                        "bin_end": 1.8,
                        "count": 0
                      },
                      {
                        "bin_start": 1.8,
                        "bin_end": 2,
                        "count": 50
                      }
                    ]
                  }
                },
                {
                  "name": "class",
                  "dtype": "object",
                  "stats": {
                    "unique_count": 3,
                    "nan_count": 0,
                    "categories": [
                      {
                        "name": "setosa",
                        "count": 50
                      },
                      {
                        "name": "versicolor",
                        "count": 50
                      },
                      {
                        "name": "virginica",
                        "count": 50
                      }
                    ]
                  }
                },
                {
                  "name": "_deepnote_index_column",
                  "dtype": "int64"
                }
              ],
              "rows_top": [
                {
                  "sepal length": 5.1,
                  "sepal width": 3.5,
                  "petal length": 1.4,
                  "petal width": 0.2,
                  "target": 0,
                  "class": "setosa",
                  "_deepnote_index_column": 0
                },
                {
                  "sepal length": 4.9,
                  "sepal width": 3,
                  "petal length": 1.4,
                  "petal width": 0.2,
                  "target": 0,
                  "class": "setosa",
                  "_deepnote_index_column": 1
                },
                {
                  "sepal length": 4.7,
                  "sepal width": 3.2,
                  "petal length": 1.3,
                  "petal width": 0.2,
                  "target": 0,
                  "class": "setosa",
                  "_deepnote_index_column": 2
                },
                {
                  "sepal length": 4.6,
                  "sepal width": 3.1,
                  "petal length": 1.5,
                  "petal width": 0.2,
                  "target": 0,
                  "class": "setosa",
                  "_deepnote_index_column": 3
                },
                {
                  "sepal length": 5,
                  "sepal width": 3.6,
                  "petal length": 1.4,
                  "petal width": 0.2,
                  "target": 0,
                  "class": "setosa",
                  "_deepnote_index_column": 4
                },
                {
                  "sepal length": 5.4,
                  "sepal width": 3.9,
                  "petal length": 1.7,
                  "petal width": 0.4,
                  "target": 0,
                  "class": "setosa",
                  "_deepnote_index_column": 5
                },
                {
                  "sepal length": 4.6,
                  "sepal width": 3.4,
                  "petal length": 1.4,
                  "petal width": 0.3,
                  "target": 0,
                  "class": "setosa",
                  "_deepnote_index_column": 6
                },
                {
                  "sepal length": 5,
                  "sepal width": 3.4,
                  "petal length": 1.5,
                  "petal width": 0.2,
                  "target": 0,
                  "class": "setosa",
                  "_deepnote_index_column": 7
                },
                {
                  "sepal length": 4.4,
                  "sepal width": 2.9,
                  "petal length": 1.4,
                  "petal width": 0.2,
                  "target": 0,
                  "class": "setosa",
                  "_deepnote_index_column": 8
                },
                {
                  "sepal length": 4.9,
                  "sepal width": 3.1,
                  "petal length": 1.5,
                  "petal width": 0.1,
                  "target": 0,
                  "class": "setosa",
                  "_deepnote_index_column": 9
                },
                {
                  "sepal length": 5.4,
                  "sepal width": 3.7,
                  "petal length": 1.5,
                  "petal width": 0.2,
                  "target": 0,
                  "class": "setosa",
                  "_deepnote_index_column": 10
                },
                {
                  "sepal length": 4.8,
                  "sepal width": 3.4,
                  "petal length": 1.6,
                  "petal width": 0.2,
                  "target": 0,
                  "class": "setosa",
                  "_deepnote_index_column": 11
                },
                {
                  "sepal length": 4.8,
                  "sepal width": 3,
                  "petal length": 1.4,
                  "petal width": 0.1,
                  "target": 0,
                  "class": "setosa",
                  "_deepnote_index_column": 12
                },
                {
                  "sepal length": 4.3,
                  "sepal width": 3,
                  "petal length": 1.1,
                  "petal width": 0.1,
                  "target": 0,
                  "class": "setosa",
                  "_deepnote_index_column": 13
                },
                {
                  "sepal length": 5.8,
                  "sepal width": 4,
                  "petal length": 1.2,
                  "petal width": 0.2,
                  "target": 0,
                  "class": "setosa",
                  "_deepnote_index_column": 14
                },
                {
                  "sepal length": 5.7,
                  "sepal width": 4.4,
                  "petal length": 1.5,
                  "petal width": 0.4,
                  "target": 0,
                  "class": "setosa",
                  "_deepnote_index_column": 15
                },
                {
                  "sepal length": 5.4,
                  "sepal width": 3.9,
                  "petal length": 1.3,
                  "petal width": 0.4,
                  "target": 0,
                  "class": "setosa",
                  "_deepnote_index_column": 16
                },
                {
                  "sepal length": 5.1,
                  "sepal width": 3.5,
                  "petal length": 1.4,
                  "petal width": 0.3,
                  "target": 0,
                  "class": "setosa",
                  "_deepnote_index_column": 17
                },
                {
                  "sepal length": 5.7,
                  "sepal width": 3.8,
                  "petal length": 1.7,
                  "petal width": 0.3,
                  "target": 0,
                  "class": "setosa",
                  "_deepnote_index_column": 18
                },
                {
                  "sepal length": 5.1,
                  "sepal width": 3.8,
                  "petal length": 1.5,
                  "petal width": 0.3,
                  "target": 0,
                  "class": "setosa",
                  "_deepnote_index_column": 19
                },
                {
                  "sepal length": 5.4,
                  "sepal width": 3.4,
                  "petal length": 1.7,
                  "petal width": 0.2,
                  "target": 0,
                  "class": "setosa",
                  "_deepnote_index_column": 20
                },
                {
                  "sepal length": 5.1,
                  "sepal width": 3.7,
                  "petal length": 1.5,
                  "petal width": 0.4,
                  "target": 0,
                  "class": "setosa",
                  "_deepnote_index_column": 21
                },
                {
                  "sepal length": 4.6,
                  "sepal width": 3.6,
                  "petal length": 1,
                  "petal width": 0.2,
                  "target": 0,
                  "class": "setosa",
                  "_deepnote_index_column": 22
                },
                {
                  "sepal length": 5.1,
                  "sepal width": 3.3,
                  "petal length": 1.7,
                  "petal width": 0.5,
                  "target": 0,
                  "class": "setosa",
                  "_deepnote_index_column": 23
                },
                {
                  "sepal length": 4.8,
                  "sepal width": 3.4,
                  "petal length": 1.9,
                  "petal width": 0.2,
                  "target": 0,
                  "class": "setosa",
                  "_deepnote_index_column": 24
                },
                {
                  "sepal length": 5,
                  "sepal width": 3,
                  "petal length": 1.6,
                  "petal width": 0.2,
                  "target": 0,
                  "class": "setosa",
                  "_deepnote_index_column": 25
                },
                {
                  "sepal length": 5,
                  "sepal width": 3.4,
                  "petal length": 1.6,
                  "petal width": 0.4,
                  "target": 0,
                  "class": "setosa",
                  "_deepnote_index_column": 26
                },
                {
                  "sepal length": 5.2,
                  "sepal width": 3.5,
                  "petal length": 1.5,
                  "petal width": 0.2,
                  "target": 0,
                  "class": "setosa",
                  "_deepnote_index_column": 27
                },
                {
                  "sepal length": 5.2,
                  "sepal width": 3.4,
                  "petal length": 1.4,
                  "petal width": 0.2,
                  "target": 0,
                  "class": "setosa",
                  "_deepnote_index_column": 28
                },
                {
                  "sepal length": 4.7,
                  "sepal width": 3.2,
                  "petal length": 1.6,
                  "petal width": 0.2,
                  "target": 0,
                  "class": "setosa",
                  "_deepnote_index_column": 29
                },
                {
                  "sepal length": 4.8,
                  "sepal width": 3.1,
                  "petal length": 1.6,
                  "petal width": 0.2,
                  "target": 0,
                  "class": "setosa",
                  "_deepnote_index_column": 30
                },
                {
                  "sepal length": 5.4,
                  "sepal width": 3.4,
                  "petal length": 1.5,
                  "petal width": 0.4,
                  "target": 0,
                  "class": "setosa",
                  "_deepnote_index_column": 31
                },
                {
                  "sepal length": 5.2,
                  "sepal width": 4.1,
                  "petal length": 1.5,
                  "petal width": 0.1,
                  "target": 0,
                  "class": "setosa",
                  "_deepnote_index_column": 32
                },
                {
                  "sepal length": 5.5,
                  "sepal width": 4.2,
                  "petal length": 1.4,
                  "petal width": 0.2,
                  "target": 0,
                  "class": "setosa",
                  "_deepnote_index_column": 33
                },
                {
                  "sepal length": 4.9,
                  "sepal width": 3.1,
                  "petal length": 1.5,
                  "petal width": 0.2,
                  "target": 0,
                  "class": "setosa",
                  "_deepnote_index_column": 34
                },
                {
                  "sepal length": 5,
                  "sepal width": 3.2,
                  "petal length": 1.2,
                  "petal width": 0.2,
                  "target": 0,
                  "class": "setosa",
                  "_deepnote_index_column": 35
                },
                {
                  "sepal length": 5.5,
                  "sepal width": 3.5,
                  "petal length": 1.3,
                  "petal width": 0.2,
                  "target": 0,
                  "class": "setosa",
                  "_deepnote_index_column": 36
                },
                {
                  "sepal length": 4.9,
                  "sepal width": 3.6,
                  "petal length": 1.4,
                  "petal width": 0.1,
                  "target": 0,
                  "class": "setosa",
                  "_deepnote_index_column": 37
                },
                {
                  "sepal length": 4.4,
                  "sepal width": 3,
                  "petal length": 1.3,
                  "petal width": 0.2,
                  "target": 0,
                  "class": "setosa",
                  "_deepnote_index_column": 38
                },
                {
                  "sepal length": 5.1,
                  "sepal width": 3.4,
                  "petal length": 1.5,
                  "petal width": 0.2,
                  "target": 0,
                  "class": "setosa",
                  "_deepnote_index_column": 39
                },
                {
                  "sepal length": 5,
                  "sepal width": 3.5,
                  "petal length": 1.3,
                  "petal width": 0.3,
                  "target": 0,
                  "class": "setosa",
                  "_deepnote_index_column": 40
                },
                {
                  "sepal length": 4.5,
                  "sepal width": 2.3,
                  "petal length": 1.3,
                  "petal width": 0.3,
                  "target": 0,
                  "class": "setosa",
                  "_deepnote_index_column": 41
                },
                {
                  "sepal length": 4.4,
                  "sepal width": 3.2,
                  "petal length": 1.3,
                  "petal width": 0.2,
                  "target": 0,
                  "class": "setosa",
                  "_deepnote_index_column": 42
                },
                {
                  "sepal length": 5,
                  "sepal width": 3.5,
                  "petal length": 1.6,
                  "petal width": 0.6,
                  "target": 0,
                  "class": "setosa",
                  "_deepnote_index_column": 43
                },
                {
                  "sepal length": 5.1,
                  "sepal width": 3.8,
                  "petal length": 1.9,
                  "petal width": 0.4,
                  "target": 0,
                  "class": "setosa",
                  "_deepnote_index_column": 44
                },
                {
                  "sepal length": 4.8,
                  "sepal width": 3,
                  "petal length": 1.4,
                  "petal width": 0.3,
                  "target": 0,
                  "class": "setosa",
                  "_deepnote_index_column": 45
                },
                {
                  "sepal length": 5.1,
                  "sepal width": 3.8,
                  "petal length": 1.6,
                  "petal width": 0.2,
                  "target": 0,
                  "class": "setosa",
                  "_deepnote_index_column": 46
                },
                {
                  "sepal length": 4.6,
                  "sepal width": 3.2,
                  "petal length": 1.4,
                  "petal width": 0.2,
                  "target": 0,
                  "class": "setosa",
                  "_deepnote_index_column": 47
                },
                {
                  "sepal length": 5.3,
                  "sepal width": 3.7,
                  "petal length": 1.5,
                  "petal width": 0.2,
                  "target": 0,
                  "class": "setosa",
                  "_deepnote_index_column": 48
                },
                {
                  "sepal length": 5,
                  "sepal width": 3.3,
                  "petal length": 1.4,
                  "petal width": 0.2,
                  "target": 0,
                  "class": "setosa",
                  "_deepnote_index_column": 49
                },
                {
                  "sepal length": 7,
                  "sepal width": 3.2,
                  "petal length": 4.7,
                  "petal width": 1.4,
                  "target": 1,
                  "class": "versicolor",
                  "_deepnote_index_column": 50
                },
                {
                  "sepal length": 6.4,
                  "sepal width": 3.2,
                  "petal length": 4.5,
                  "petal width": 1.5,
                  "target": 1,
                  "class": "versicolor",
                  "_deepnote_index_column": 51
                },
                {
                  "sepal length": 6.9,
                  "sepal width": 3.1,
                  "petal length": 4.9,
                  "petal width": 1.5,
                  "target": 1,
                  "class": "versicolor",
                  "_deepnote_index_column": 52
                },
                {
                  "sepal length": 5.5,
                  "sepal width": 2.3,
                  "petal length": 4,
                  "petal width": 1.3,
                  "target": 1,
                  "class": "versicolor",
                  "_deepnote_index_column": 53
                },
                {
                  "sepal length": 6.5,
                  "sepal width": 2.8,
                  "petal length": 4.6,
                  "petal width": 1.5,
                  "target": 1,
                  "class": "versicolor",
                  "_deepnote_index_column": 54
                },
                {
                  "sepal length": 5.7,
                  "sepal width": 2.8,
                  "petal length": 4.5,
                  "petal width": 1.3,
                  "target": 1,
                  "class": "versicolor",
                  "_deepnote_index_column": 55
                },
                {
                  "sepal length": 6.3,
                  "sepal width": 3.3,
                  "petal length": 4.7,
                  "petal width": 1.6,
                  "target": 1,
                  "class": "versicolor",
                  "_deepnote_index_column": 56
                },
                {
                  "sepal length": 4.9,
                  "sepal width": 2.4,
                  "petal length": 3.3,
                  "petal width": 1,
                  "target": 1,
                  "class": "versicolor",
                  "_deepnote_index_column": 57
                },
                {
                  "sepal length": 6.6,
                  "sepal width": 2.9,
                  "petal length": 4.6,
                  "petal width": 1.3,
                  "target": 1,
                  "class": "versicolor",
                  "_deepnote_index_column": 58
                },
                {
                  "sepal length": 5.2,
                  "sepal width": 2.7,
                  "petal length": 3.9,
                  "petal width": 1.4,
                  "target": 1,
                  "class": "versicolor",
                  "_deepnote_index_column": 59
                },
                {
                  "sepal length": 5,
                  "sepal width": 2,
                  "petal length": 3.5,
                  "petal width": 1,
                  "target": 1,
                  "class": "versicolor",
                  "_deepnote_index_column": 60
                },
                {
                  "sepal length": 5.9,
                  "sepal width": 3,
                  "petal length": 4.2,
                  "petal width": 1.5,
                  "target": 1,
                  "class": "versicolor",
                  "_deepnote_index_column": 61
                },
                {
                  "sepal length": 6,
                  "sepal width": 2.2,
                  "petal length": 4,
                  "petal width": 1,
                  "target": 1,
                  "class": "versicolor",
                  "_deepnote_index_column": 62
                },
                {
                  "sepal length": 6.1,
                  "sepal width": 2.9,
                  "petal length": 4.7,
                  "petal width": 1.4,
                  "target": 1,
                  "class": "versicolor",
                  "_deepnote_index_column": 63
                },
                {
                  "sepal length": 5.6,
                  "sepal width": 2.9,
                  "petal length": 3.6,
                  "petal width": 1.3,
                  "target": 1,
                  "class": "versicolor",
                  "_deepnote_index_column": 64
                },
                {
                  "sepal length": 6.7,
                  "sepal width": 3.1,
                  "petal length": 4.4,
                  "petal width": 1.4,
                  "target": 1,
                  "class": "versicolor",
                  "_deepnote_index_column": 65
                },
                {
                  "sepal length": 5.6,
                  "sepal width": 3,
                  "petal length": 4.5,
                  "petal width": 1.5,
                  "target": 1,
                  "class": "versicolor",
                  "_deepnote_index_column": 66
                },
                {
                  "sepal length": 5.8,
                  "sepal width": 2.7,
                  "petal length": 4.1,
                  "petal width": 1,
                  "target": 1,
                  "class": "versicolor",
                  "_deepnote_index_column": 67
                },
                {
                  "sepal length": 6.2,
                  "sepal width": 2.2,
                  "petal length": 4.5,
                  "petal width": 1.5,
                  "target": 1,
                  "class": "versicolor",
                  "_deepnote_index_column": 68
                },
                {
                  "sepal length": 5.6,
                  "sepal width": 2.5,
                  "petal length": 3.9,
                  "petal width": 1.1,
                  "target": 1,
                  "class": "versicolor",
                  "_deepnote_index_column": 69
                },
                {
                  "sepal length": 5.9,
                  "sepal width": 3.2,
                  "petal length": 4.8,
                  "petal width": 1.8,
                  "target": 1,
                  "class": "versicolor",
                  "_deepnote_index_column": 70
                },
                {
                  "sepal length": 6.1,
                  "sepal width": 2.8,
                  "petal length": 4,
                  "petal width": 1.3,
                  "target": 1,
                  "class": "versicolor",
                  "_deepnote_index_column": 71
                },
                {
                  "sepal length": 6.3,
                  "sepal width": 2.5,
                  "petal length": 4.9,
                  "petal width": 1.5,
                  "target": 1,
                  "class": "versicolor",
                  "_deepnote_index_column": 72
                },
                {
                  "sepal length": 6.1,
                  "sepal width": 2.8,
                  "petal length": 4.7,
                  "petal width": 1.2,
                  "target": 1,
                  "class": "versicolor",
                  "_deepnote_index_column": 73
                },
                {
                  "sepal length": 6.4,
                  "sepal width": 2.9,
                  "petal length": 4.3,
                  "petal width": 1.3,
                  "target": 1,
                  "class": "versicolor",
                  "_deepnote_index_column": 74
                },
                {
                  "sepal length": 6.6,
                  "sepal width": 3,
                  "petal length": 4.4,
                  "petal width": 1.4,
                  "target": 1,
                  "class": "versicolor",
                  "_deepnote_index_column": 75
                },
                {
                  "sepal length": 6.8,
                  "sepal width": 2.8,
                  "petal length": 4.8,
                  "petal width": 1.4,
                  "target": 1,
                  "class": "versicolor",
                  "_deepnote_index_column": 76
                },
                {
                  "sepal length": 6.7,
                  "sepal width": 3,
                  "petal length": 5,
                  "petal width": 1.7,
                  "target": 1,
                  "class": "versicolor",
                  "_deepnote_index_column": 77
                },
                {
                  "sepal length": 6,
                  "sepal width": 2.9,
                  "petal length": 4.5,
                  "petal width": 1.5,
                  "target": 1,
                  "class": "versicolor",
                  "_deepnote_index_column": 78
                },
                {
                  "sepal length": 5.7,
                  "sepal width": 2.6,
                  "petal length": 3.5,
                  "petal width": 1,
                  "target": 1,
                  "class": "versicolor",
                  "_deepnote_index_column": 79
                },
                {
                  "sepal length": 5.5,
                  "sepal width": 2.4,
                  "petal length": 3.8,
                  "petal width": 1.1,
                  "target": 1,
                  "class": "versicolor",
                  "_deepnote_index_column": 80
                },
                {
                  "sepal length": 5.5,
                  "sepal width": 2.4,
                  "petal length": 3.7,
                  "petal width": 1,
                  "target": 1,
                  "class": "versicolor",
                  "_deepnote_index_column": 81
                },
                {
                  "sepal length": 5.8,
                  "sepal width": 2.7,
                  "petal length": 3.9,
                  "petal width": 1.2,
                  "target": 1,
                  "class": "versicolor",
                  "_deepnote_index_column": 82
                },
                {
                  "sepal length": 6,
                  "sepal width": 2.7,
                  "petal length": 5.1,
                  "petal width": 1.6,
                  "target": 1,
                  "class": "versicolor",
                  "_deepnote_index_column": 83
                },
                {
                  "sepal length": 5.4,
                  "sepal width": 3,
                  "petal length": 4.5,
                  "petal width": 1.5,
                  "target": 1,
                  "class": "versicolor",
                  "_deepnote_index_column": 84
                },
                {
                  "sepal length": 6,
                  "sepal width": 3.4,
                  "petal length": 4.5,
                  "petal width": 1.6,
                  "target": 1,
                  "class": "versicolor",
                  "_deepnote_index_column": 85
                },
                {
                  "sepal length": 6.7,
                  "sepal width": 3.1,
                  "petal length": 4.7,
                  "petal width": 1.5,
                  "target": 1,
                  "class": "versicolor",
                  "_deepnote_index_column": 86
                },
                {
                  "sepal length": 6.3,
                  "sepal width": 2.3,
                  "petal length": 4.4,
                  "petal width": 1.3,
                  "target": 1,
                  "class": "versicolor",
                  "_deepnote_index_column": 87
                },
                {
                  "sepal length": 5.6,
                  "sepal width": 3,
                  "petal length": 4.1,
                  "petal width": 1.3,
                  "target": 1,
                  "class": "versicolor",
                  "_deepnote_index_column": 88
                },
                {
                  "sepal length": 5.5,
                  "sepal width": 2.5,
                  "petal length": 4,
                  "petal width": 1.3,
                  "target": 1,
                  "class": "versicolor",
                  "_deepnote_index_column": 89
                },
                {
                  "sepal length": 5.5,
                  "sepal width": 2.6,
                  "petal length": 4.4,
                  "petal width": 1.2,
                  "target": 1,
                  "class": "versicolor",
                  "_deepnote_index_column": 90
                },
                {
                  "sepal length": 6.1,
                  "sepal width": 3,
                  "petal length": 4.6,
                  "petal width": 1.4,
                  "target": 1,
                  "class": "versicolor",
                  "_deepnote_index_column": 91
                },
                {
                  "sepal length": 5.8,
                  "sepal width": 2.6,
                  "petal length": 4,
                  "petal width": 1.2,
                  "target": 1,
                  "class": "versicolor",
                  "_deepnote_index_column": 92
                },
                {
                  "sepal length": 5,
                  "sepal width": 2.3,
                  "petal length": 3.3,
                  "petal width": 1,
                  "target": 1,
                  "class": "versicolor",
                  "_deepnote_index_column": 93
                },
                {
                  "sepal length": 5.6,
                  "sepal width": 2.7,
                  "petal length": 4.2,
                  "petal width": 1.3,
                  "target": 1,
                  "class": "versicolor",
                  "_deepnote_index_column": 94
                },
                {
                  "sepal length": 5.7,
                  "sepal width": 3,
                  "petal length": 4.2,
                  "petal width": 1.2,
                  "target": 1,
                  "class": "versicolor",
                  "_deepnote_index_column": 95
                },
                {
                  "sepal length": 5.7,
                  "sepal width": 2.9,
                  "petal length": 4.2,
                  "petal width": 1.3,
                  "target": 1,
                  "class": "versicolor",
                  "_deepnote_index_column": 96
                },
                {
                  "sepal length": 6.2,
                  "sepal width": 2.9,
                  "petal length": 4.3,
                  "petal width": 1.3,
                  "target": 1,
                  "class": "versicolor",
                  "_deepnote_index_column": 97
                },
                {
                  "sepal length": 5.1,
                  "sepal width": 2.5,
                  "petal length": 3,
                  "petal width": 1.1,
                  "target": 1,
                  "class": "versicolor",
                  "_deepnote_index_column": 98
                },
                {
                  "sepal length": 5.7,
                  "sepal width": 2.8,
                  "petal length": 4.1,
                  "petal width": 1.3,
                  "target": 1,
                  "class": "versicolor",
                  "_deepnote_index_column": 99
                },
                {
                  "sepal length": 6.3,
                  "sepal width": 3.3,
                  "petal length": 6,
                  "petal width": 2.5,
                  "target": 2,
                  "class": "virginica",
                  "_deepnote_index_column": 100
                },
                {
                  "sepal length": 5.8,
                  "sepal width": 2.7,
                  "petal length": 5.1,
                  "petal width": 1.9,
                  "target": 2,
                  "class": "virginica",
                  "_deepnote_index_column": 101
                },
                {
                  "sepal length": 7.1,
                  "sepal width": 3,
                  "petal length": 5.9,
                  "petal width": 2.1,
                  "target": 2,
                  "class": "virginica",
                  "_deepnote_index_column": 102
                },
                {
                  "sepal length": 6.3,
                  "sepal width": 2.9,
                  "petal length": 5.6,
                  "petal width": 1.8,
                  "target": 2,
                  "class": "virginica",
                  "_deepnote_index_column": 103
                },
                {
                  "sepal length": 6.5,
                  "sepal width": 3,
                  "petal length": 5.8,
                  "petal width": 2.2,
                  "target": 2,
                  "class": "virginica",
                  "_deepnote_index_column": 104
                },
                {
                  "sepal length": 7.6,
                  "sepal width": 3,
                  "petal length": 6.6,
                  "petal width": 2.1,
                  "target": 2,
                  "class": "virginica",
                  "_deepnote_index_column": 105
                },
                {
                  "sepal length": 4.9,
                  "sepal width": 2.5,
                  "petal length": 4.5,
                  "petal width": 1.7,
                  "target": 2,
                  "class": "virginica",
                  "_deepnote_index_column": 106
                },
                {
                  "sepal length": 7.3,
                  "sepal width": 2.9,
                  "petal length": 6.3,
                  "petal width": 1.8,
                  "target": 2,
                  "class": "virginica",
                  "_deepnote_index_column": 107
                },
                {
                  "sepal length": 6.7,
                  "sepal width": 2.5,
                  "petal length": 5.8,
                  "petal width": 1.8,
                  "target": 2,
                  "class": "virginica",
                  "_deepnote_index_column": 108
                },
                {
                  "sepal length": 7.2,
                  "sepal width": 3.6,
                  "petal length": 6.1,
                  "petal width": 2.5,
                  "target": 2,
                  "class": "virginica",
                  "_deepnote_index_column": 109
                },
                {
                  "sepal length": 6.5,
                  "sepal width": 3.2,
                  "petal length": 5.1,
                  "petal width": 2,
                  "target": 2,
                  "class": "virginica",
                  "_deepnote_index_column": 110
                },
                {
                  "sepal length": 6.4,
                  "sepal width": 2.7,
                  "petal length": 5.3,
                  "petal width": 1.9,
                  "target": 2,
                  "class": "virginica",
                  "_deepnote_index_column": 111
                },
                {
                  "sepal length": 6.8,
                  "sepal width": 3,
                  "petal length": 5.5,
                  "petal width": 2.1,
                  "target": 2,
                  "class": "virginica",
                  "_deepnote_index_column": 112
                },
                {
                  "sepal length": 5.7,
                  "sepal width": 2.5,
                  "petal length": 5,
                  "petal width": 2,
                  "target": 2,
                  "class": "virginica",
                  "_deepnote_index_column": 113
                },
                {
                  "sepal length": 5.8,
                  "sepal width": 2.8,
                  "petal length": 5.1,
                  "petal width": 2.4,
                  "target": 2,
                  "class": "virginica",
                  "_deepnote_index_column": 114
                },
                {
                  "sepal length": 6.4,
                  "sepal width": 3.2,
                  "petal length": 5.3,
                  "petal width": 2.3,
                  "target": 2,
                  "class": "virginica",
                  "_deepnote_index_column": 115
                },
                {
                  "sepal length": 6.5,
                  "sepal width": 3,
                  "petal length": 5.5,
                  "petal width": 1.8,
                  "target": 2,
                  "class": "virginica",
                  "_deepnote_index_column": 116
                },
                {
                  "sepal length": 7.7,
                  "sepal width": 3.8,
                  "petal length": 6.7,
                  "petal width": 2.2,
                  "target": 2,
                  "class": "virginica",
                  "_deepnote_index_column": 117
                },
                {
                  "sepal length": 7.7,
                  "sepal width": 2.6,
                  "petal length": 6.9,
                  "petal width": 2.3,
                  "target": 2,
                  "class": "virginica",
                  "_deepnote_index_column": 118
                },
                {
                  "sepal length": 6,
                  "sepal width": 2.2,
                  "petal length": 5,
                  "petal width": 1.5,
                  "target": 2,
                  "class": "virginica",
                  "_deepnote_index_column": 119
                },
                {
                  "sepal length": 6.9,
                  "sepal width": 3.2,
                  "petal length": 5.7,
                  "petal width": 2.3,
                  "target": 2,
                  "class": "virginica",
                  "_deepnote_index_column": 120
                },
                {
                  "sepal length": 5.6,
                  "sepal width": 2.8,
                  "petal length": 4.9,
                  "petal width": 2,
                  "target": 2,
                  "class": "virginica",
                  "_deepnote_index_column": 121
                },
                {
                  "sepal length": 7.7,
                  "sepal width": 2.8,
                  "petal length": 6.7,
                  "petal width": 2,
                  "target": 2,
                  "class": "virginica",
                  "_deepnote_index_column": 122
                },
                {
                  "sepal length": 6.3,
                  "sepal width": 2.7,
                  "petal length": 4.9,
                  "petal width": 1.8,
                  "target": 2,
                  "class": "virginica",
                  "_deepnote_index_column": 123
                },
                {
                  "sepal length": 6.7,
                  "sepal width": 3.3,
                  "petal length": 5.7,
                  "petal width": 2.1,
                  "target": 2,
                  "class": "virginica",
                  "_deepnote_index_column": 124
                },
                {
                  "sepal length": 7.2,
                  "sepal width": 3.2,
                  "petal length": 6,
                  "petal width": 1.8,
                  "target": 2,
                  "class": "virginica",
                  "_deepnote_index_column": 125
                },
                {
                  "sepal length": 6.2,
                  "sepal width": 2.8,
                  "petal length": 4.8,
                  "petal width": 1.8,
                  "target": 2,
                  "class": "virginica",
                  "_deepnote_index_column": 126
                },
                {
                  "sepal length": 6.1,
                  "sepal width": 3,
                  "petal length": 4.9,
                  "petal width": 1.8,
                  "target": 2,
                  "class": "virginica",
                  "_deepnote_index_column": 127
                },
                {
                  "sepal length": 6.4,
                  "sepal width": 2.8,
                  "petal length": 5.6,
                  "petal width": 2.1,
                  "target": 2,
                  "class": "virginica",
                  "_deepnote_index_column": 128
                },
                {
                  "sepal length": 7.2,
                  "sepal width": 3,
                  "petal length": 5.8,
                  "petal width": 1.6,
                  "target": 2,
                  "class": "virginica",
                  "_deepnote_index_column": 129
                },
                {
                  "sepal length": 7.4,
                  "sepal width": 2.8,
                  "petal length": 6.1,
                  "petal width": 1.9,
                  "target": 2,
                  "class": "virginica",
                  "_deepnote_index_column": 130
                },
                {
                  "sepal length": 7.9,
                  "sepal width": 3.8,
                  "petal length": 6.4,
                  "petal width": 2,
                  "target": 2,
                  "class": "virginica",
                  "_deepnote_index_column": 131
                },
                {
                  "sepal length": 6.4,
                  "sepal width": 2.8,
                  "petal length": 5.6,
                  "petal width": 2.2,
                  "target": 2,
                  "class": "virginica",
                  "_deepnote_index_column": 132
                },
                {
                  "sepal length": 6.3,
                  "sepal width": 2.8,
                  "petal length": 5.1,
                  "petal width": 1.5,
                  "target": 2,
                  "class": "virginica",
                  "_deepnote_index_column": 133
                },
                {
                  "sepal length": 6.1,
                  "sepal width": 2.6,
                  "petal length": 5.6,
                  "petal width": 1.4,
                  "target": 2,
                  "class": "virginica",
                  "_deepnote_index_column": 134
                },
                {
                  "sepal length": 7.7,
                  "sepal width": 3,
                  "petal length": 6.1,
                  "petal width": 2.3,
                  "target": 2,
                  "class": "virginica",
                  "_deepnote_index_column": 135
                },
                {
                  "sepal length": 6.3,
                  "sepal width": 3.4,
                  "petal length": 5.6,
                  "petal width": 2.4,
                  "target": 2,
                  "class": "virginica",
                  "_deepnote_index_column": 136
                },
                {
                  "sepal length": 6.4,
                  "sepal width": 3.1,
                  "petal length": 5.5,
                  "petal width": 1.8,
                  "target": 2,
                  "class": "virginica",
                  "_deepnote_index_column": 137
                },
                {
                  "sepal length": 6,
                  "sepal width": 3,
                  "petal length": 4.8,
                  "petal width": 1.8,
                  "target": 2,
                  "class": "virginica",
                  "_deepnote_index_column": 138
                },
                {
                  "sepal length": 6.9,
                  "sepal width": 3.1,
                  "petal length": 5.4,
                  "petal width": 2.1,
                  "target": 2,
                  "class": "virginica",
                  "_deepnote_index_column": 139
                },
                {
                  "sepal length": 6.7,
                  "sepal width": 3.1,
                  "petal length": 5.6,
                  "petal width": 2.4,
                  "target": 2,
                  "class": "virginica",
                  "_deepnote_index_column": 140
                },
                {
                  "sepal length": 6.9,
                  "sepal width": 3.1,
                  "petal length": 5.1,
                  "petal width": 2.3,
                  "target": 2,
                  "class": "virginica",
                  "_deepnote_index_column": 141
                },
                {
                  "sepal length": 5.8,
                  "sepal width": 2.7,
                  "petal length": 5.1,
                  "petal width": 1.9,
                  "target": 2,
                  "class": "virginica",
                  "_deepnote_index_column": 142
                },
                {
                  "sepal length": 6.8,
                  "sepal width": 3.2,
                  "petal length": 5.9,
                  "petal width": 2.3,
                  "target": 2,
                  "class": "virginica",
                  "_deepnote_index_column": 143
                },
                {
                  "sepal length": 6.7,
                  "sepal width": 3.3,
                  "petal length": 5.7,
                  "petal width": 2.5,
                  "target": 2,
                  "class": "virginica",
                  "_deepnote_index_column": 144
                },
                {
                  "sepal length": 6.7,
                  "sepal width": 3,
                  "petal length": 5.2,
                  "petal width": 2.3,
                  "target": 2,
                  "class": "virginica",
                  "_deepnote_index_column": 145
                },
                {
                  "sepal length": 6.3,
                  "sepal width": 2.5,
                  "petal length": 5,
                  "petal width": 1.9,
                  "target": 2,
                  "class": "virginica",
                  "_deepnote_index_column": 146
                },
                {
                  "sepal length": 6.5,
                  "sepal width": 3,
                  "petal length": 5.2,
                  "petal width": 2,
                  "target": 2,
                  "class": "virginica",
                  "_deepnote_index_column": 147
                },
                {
                  "sepal length": 6.2,
                  "sepal width": 3.4,
                  "petal length": 5.4,
                  "petal width": 2.3,
                  "target": 2,
                  "class": "virginica",
                  "_deepnote_index_column": 148
                },
                {
                  "sepal length": 5.9,
                  "sepal width": 3,
                  "petal length": 5.1,
                  "petal width": 1.8,
                  "target": 2,
                  "class": "virginica",
                  "_deepnote_index_column": 149
                }
              ],
              "rows_bottom": null
            },
            "text/plain": "     sepal length  sepal width  petal length  petal width  target      class\n0             5.1          3.5           1.4          0.2       0     setosa\n1             4.9          3.0           1.4          0.2       0     setosa\n2             4.7          3.2           1.3          0.2       0     setosa\n3             4.6          3.1           1.5          0.2       0     setosa\n4             5.0          3.6           1.4          0.2       0     setosa\n..            ...          ...           ...          ...     ...        ...\n145           6.7          3.0           5.2          2.3       2  virginica\n146           6.3          2.5           5.0          1.9       2  virginica\n147           6.5          3.0           5.2          2.0       2  virginica\n148           6.2          3.4           5.4          2.3       2  virginica\n149           5.9          3.0           5.1          1.8       2  virginica\n\n[150 rows x 6 columns]",
            "text/html": "<div>\n<style scoped>\n    .dataframe tbody tr th:only-of-type {\n        vertical-align: middle;\n    }\n\n    .dataframe tbody tr th {\n        vertical-align: top;\n    }\n\n    .dataframe thead th {\n        text-align: right;\n    }\n</style>\n<table border=\"1\" class=\"dataframe\">\n  <thead>\n    <tr style=\"text-align: right;\">\n      <th></th>\n      <th>sepal length</th>\n      <th>sepal width</th>\n      <th>petal length</th>\n      <th>petal width</th>\n      <th>target</th>\n      <th>class</th>\n    </tr>\n  </thead>\n  <tbody>\n    <tr>\n      <th>0</th>\n      <td>5.1</td>\n      <td>3.5</td>\n      <td>1.4</td>\n      <td>0.2</td>\n      <td>0</td>\n      <td>setosa</td>\n    </tr>\n    <tr>\n      <th>1</th>\n      <td>4.9</td>\n      <td>3.0</td>\n      <td>1.4</td>\n      <td>0.2</td>\n      <td>0</td>\n      <td>setosa</td>\n    </tr>\n    <tr>\n      <th>2</th>\n      <td>4.7</td>\n      <td>3.2</td>\n      <td>1.3</td>\n      <td>0.2</td>\n      <td>0</td>\n      <td>setosa</td>\n    </tr>\n    <tr>\n      <th>3</th>\n      <td>4.6</td>\n      <td>3.1</td>\n      <td>1.5</td>\n      <td>0.2</td>\n      <td>0</td>\n      <td>setosa</td>\n    </tr>\n    <tr>\n      <th>4</th>\n      <td>5.0</td>\n      <td>3.6</td>\n      <td>1.4</td>\n      <td>0.2</td>\n      <td>0</td>\n      <td>setosa</td>\n    </tr>\n    <tr>\n      <th>...</th>\n      <td>...</td>\n      <td>...</td>\n      <td>...</td>\n      <td>...</td>\n      <td>...</td>\n      <td>...</td>\n    </tr>\n    <tr>\n      <th>145</th>\n      <td>6.7</td>\n      <td>3.0</td>\n      <td>5.2</td>\n      <td>2.3</td>\n      <td>2</td>\n      <td>virginica</td>\n    </tr>\n    <tr>\n      <th>146</th>\n      <td>6.3</td>\n      <td>2.5</td>\n      <td>5.0</td>\n      <td>1.9</td>\n      <td>2</td>\n      <td>virginica</td>\n    </tr>\n    <tr>\n      <th>147</th>\n      <td>6.5</td>\n      <td>3.0</td>\n      <td>5.2</td>\n      <td>2.0</td>\n      <td>2</td>\n      <td>virginica</td>\n    </tr>\n    <tr>\n      <th>148</th>\n      <td>6.2</td>\n      <td>3.4</td>\n      <td>5.4</td>\n      <td>2.3</td>\n      <td>2</td>\n      <td>virginica</td>\n    </tr>\n    <tr>\n      <th>149</th>\n      <td>5.9</td>\n      <td>3.0</td>\n      <td>5.1</td>\n      <td>1.8</td>\n      <td>2</td>\n      <td>virginica</td>\n    </tr>\n  </tbody>\n</table>\n<p>150 rows × 6 columns</p>\n</div>"
          },
          "metadata": {}
        }
      ]
    },
    {
      "cell_type": "code",
      "metadata": {
        "cell_id": "00005-a8e9a45e-7de0-43f0-b8dc-1d084bbccbe0",
        "deepnote_to_be_reexecuted": false,
        "source_hash": "fef11509",
        "execution_start": 1619613751661,
        "execution_millis": 50,
        "deepnote_cell_type": "code"
      },
      "source": "def ohe():\n    dummy = pd.get_dummies(df_iris, columns=[\"target\"])\n    return dummy\nohe()",
      "execution_count": 18,
      "outputs": [
        {
          "output_type": "execute_result",
          "execution_count": 18,
          "data": {
            "application/vnd.deepnote.dataframe.v2+json": {
              "row_count": 150,
              "column_count": 8,
              "columns": [
                {
                  "name": "sepal length",
                  "dtype": "float64",
                  "stats": {
                    "unique_count": 35,
                    "nan_count": 0,
                    "min": "4.3",
                    "max": "7.9",
                    "histogram": [
                      {
                        "bin_start": 4.3,
                        "bin_end": 4.66,
                        "count": 9
                      },
                      {
                        "bin_start": 4.66,
                        "bin_end": 5.02,
                        "count": 23
                      },
                      {
                        "bin_start": 5.02,
                        "bin_end": 5.38,
                        "count": 14
                      },
                      {
                        "bin_start": 5.38,
                        "bin_end": 5.74,
                        "count": 27
                      },
                      {
                        "bin_start": 5.74,
                        "bin_end": 6.1,
                        "count": 16
                      },
                      {
                        "bin_start": 6.1,
                        "bin_end": 6.46,
                        "count": 26
                      },
                      {
                        "bin_start": 6.46,
                        "bin_end": 6.82,
                        "count": 18
                      },
                      {
                        "bin_start": 6.82,
                        "bin_end": 7.18,
                        "count": 6
                      },
                      {
                        "bin_start": 7.18,
                        "bin_end": 7.54,
                        "count": 5
                      },
                      {
                        "bin_start": 7.54,
                        "bin_end": 7.9,
                        "count": 6
                      }
                    ]
                  }
                },
                {
                  "name": "sepal width",
                  "dtype": "float64",
                  "stats": {
                    "unique_count": 23,
                    "nan_count": 0,
                    "min": "2.0",
                    "max": "4.4",
                    "histogram": [
                      {
                        "bin_start": 2,
                        "bin_end": 2.24,
                        "count": 4
                      },
                      {
                        "bin_start": 2.24,
                        "bin_end": 2.48,
                        "count": 7
                      },
                      {
                        "bin_start": 2.48,
                        "bin_end": 2.72,
                        "count": 22
                      },
                      {
                        "bin_start": 2.72,
                        "bin_end": 2.96,
                        "count": 24
                      },
                      {
                        "bin_start": 2.96,
                        "bin_end": 3.2,
                        "count": 37
                      },
                      {
                        "bin_start": 3.2,
                        "bin_end": 3.4400000000000004,
                        "count": 31
                      },
                      {
                        "bin_start": 3.4400000000000004,
                        "bin_end": 3.6800000000000006,
                        "count": 10
                      },
                      {
                        "bin_start": 3.6800000000000006,
                        "bin_end": 3.9200000000000004,
                        "count": 11
                      },
                      {
                        "bin_start": 3.9200000000000004,
                        "bin_end": 4.16,
                        "count": 2
                      },
                      {
                        "bin_start": 4.16,
                        "bin_end": 4.4,
                        "count": 2
                      }
                    ]
                  }
                },
                {
                  "name": "petal length",
                  "dtype": "float64",
                  "stats": {
                    "unique_count": 43,
                    "nan_count": 0,
                    "min": "1.0",
                    "max": "6.9",
                    "histogram": [
                      {
                        "bin_start": 1,
                        "bin_end": 1.59,
                        "count": 37
                      },
                      {
                        "bin_start": 1.59,
                        "bin_end": 2.18,
                        "count": 13
                      },
                      {
                        "bin_start": 2.18,
                        "bin_end": 2.7700000000000005,
                        "count": 0
                      },
                      {
                        "bin_start": 2.7700000000000005,
                        "bin_end": 3.3600000000000003,
                        "count": 3
                      },
                      {
                        "bin_start": 3.3600000000000003,
                        "bin_end": 3.95,
                        "count": 8
                      },
                      {
                        "bin_start": 3.95,
                        "bin_end": 4.540000000000001,
                        "count": 26
                      },
                      {
                        "bin_start": 4.540000000000001,
                        "bin_end": 5.130000000000001,
                        "count": 29
                      },
                      {
                        "bin_start": 5.130000000000001,
                        "bin_end": 5.720000000000001,
                        "count": 18
                      },
                      {
                        "bin_start": 5.720000000000001,
                        "bin_end": 6.3100000000000005,
                        "count": 11
                      },
                      {
                        "bin_start": 6.3100000000000005,
                        "bin_end": 6.9,
                        "count": 5
                      }
                    ]
                  }
                },
                {
                  "name": "petal width",
                  "dtype": "float64",
                  "stats": {
                    "unique_count": 22,
                    "nan_count": 0,
                    "min": "0.1",
                    "max": "2.5",
                    "histogram": [
                      {
                        "bin_start": 0.1,
                        "bin_end": 0.33999999999999997,
                        "count": 41
                      },
                      {
                        "bin_start": 0.33999999999999997,
                        "bin_end": 0.58,
                        "count": 8
                      },
                      {
                        "bin_start": 0.58,
                        "bin_end": 0.82,
                        "count": 1
                      },
                      {
                        "bin_start": 0.82,
                        "bin_end": 1.06,
                        "count": 7
                      },
                      {
                        "bin_start": 1.06,
                        "bin_end": 1.3,
                        "count": 8
                      },
                      {
                        "bin_start": 1.3,
                        "bin_end": 1.54,
                        "count": 33
                      },
                      {
                        "bin_start": 1.54,
                        "bin_end": 1.78,
                        "count": 6
                      },
                      {
                        "bin_start": 1.78,
                        "bin_end": 2.02,
                        "count": 23
                      },
                      {
                        "bin_start": 2.02,
                        "bin_end": 2.2600000000000002,
                        "count": 9
                      },
                      {
                        "bin_start": 2.2600000000000002,
                        "bin_end": 2.5,
                        "count": 14
                      }
                    ]
                  }
                },
                {
                  "name": "class",
                  "dtype": "object",
                  "stats": {
                    "unique_count": 3,
                    "nan_count": 0,
                    "categories": [
                      {
                        "name": "setosa",
                        "count": 50
                      },
                      {
                        "name": "versicolor",
                        "count": 50
                      },
                      {
                        "name": "virginica",
                        "count": 50
                      }
                    ]
                  }
                },
                {
                  "name": "target_0",
                  "dtype": "uint8",
                  "stats": {
                    "unique_count": 2,
                    "nan_count": 0,
                    "min": "0",
                    "max": "1",
                    "histogram": [
                      {
                        "bin_start": 0,
                        "bin_end": 0.1,
                        "count": 100
                      },
                      {
                        "bin_start": 0.1,
                        "bin_end": 0.2,
                        "count": 0
                      },
                      {
                        "bin_start": 0.2,
                        "bin_end": 0.30000000000000004,
                        "count": 0
                      },
                      {
                        "bin_start": 0.30000000000000004,
                        "bin_end": 0.4,
                        "count": 0
                      },
                      {
                        "bin_start": 0.4,
                        "bin_end": 0.5,
                        "count": 0
                      },
                      {
                        "bin_start": 0.5,
                        "bin_end": 0.6000000000000001,
                        "count": 0
                      },
                      {
                        "bin_start": 0.6000000000000001,
                        "bin_end": 0.7000000000000001,
                        "count": 0
                      },
                      {
                        "bin_start": 0.7000000000000001,
                        "bin_end": 0.8,
                        "count": 0
                      },
                      {
                        "bin_start": 0.8,
                        "bin_end": 0.9,
                        "count": 0
                      },
                      {
                        "bin_start": 0.9,
                        "bin_end": 1,
                        "count": 50
                      }
                    ]
                  }
                },
                {
                  "name": "target_1",
                  "dtype": "uint8",
                  "stats": {
                    "unique_count": 2,
                    "nan_count": 0,
                    "min": "0",
                    "max": "1",
                    "histogram": [
                      {
                        "bin_start": 0,
                        "bin_end": 0.1,
                        "count": 100
                      },
                      {
                        "bin_start": 0.1,
                        "bin_end": 0.2,
                        "count": 0
                      },
                      {
                        "bin_start": 0.2,
                        "bin_end": 0.30000000000000004,
                        "count": 0
                      },
                      {
                        "bin_start": 0.30000000000000004,
                        "bin_end": 0.4,
                        "count": 0
                      },
                      {
                        "bin_start": 0.4,
                        "bin_end": 0.5,
                        "count": 0
                      },
                      {
                        "bin_start": 0.5,
                        "bin_end": 0.6000000000000001,
                        "count": 0
                      },
                      {
                        "bin_start": 0.6000000000000001,
                        "bin_end": 0.7000000000000001,
                        "count": 0
                      },
                      {
                        "bin_start": 0.7000000000000001,
                        "bin_end": 0.8,
                        "count": 0
                      },
                      {
                        "bin_start": 0.8,
                        "bin_end": 0.9,
                        "count": 0
                      },
                      {
                        "bin_start": 0.9,
                        "bin_end": 1,
                        "count": 50
                      }
                    ]
                  }
                },
                {
                  "name": "target_2",
                  "dtype": "uint8",
                  "stats": {
                    "unique_count": 2,
                    "nan_count": 0,
                    "min": "0",
                    "max": "1",
                    "histogram": [
                      {
                        "bin_start": 0,
                        "bin_end": 0.1,
                        "count": 100
                      },
                      {
                        "bin_start": 0.1,
                        "bin_end": 0.2,
                        "count": 0
                      },
                      {
                        "bin_start": 0.2,
                        "bin_end": 0.30000000000000004,
                        "count": 0
                      },
                      {
                        "bin_start": 0.30000000000000004,
                        "bin_end": 0.4,
                        "count": 0
                      },
                      {
                        "bin_start": 0.4,
                        "bin_end": 0.5,
                        "count": 0
                      },
                      {
                        "bin_start": 0.5,
                        "bin_end": 0.6000000000000001,
                        "count": 0
                      },
                      {
                        "bin_start": 0.6000000000000001,
                        "bin_end": 0.7000000000000001,
                        "count": 0
                      },
                      {
                        "bin_start": 0.7000000000000001,
                        "bin_end": 0.8,
                        "count": 0
                      },
                      {
                        "bin_start": 0.8,
                        "bin_end": 0.9,
                        "count": 0
                      },
                      {
                        "bin_start": 0.9,
                        "bin_end": 1,
                        "count": 50
                      }
                    ]
                  }
                },
                {
                  "name": "_deepnote_index_column",
                  "dtype": "int64"
                }
              ],
              "rows_top": [
                {
                  "sepal length": 5.1,
                  "sepal width": 3.5,
                  "petal length": 1.4,
                  "petal width": 0.2,
                  "class": "setosa",
                  "target_0": 1,
                  "target_1": 0,
                  "target_2": 0,
                  "_deepnote_index_column": 0
                },
                {
                  "sepal length": 4.9,
                  "sepal width": 3,
                  "petal length": 1.4,
                  "petal width": 0.2,
                  "class": "setosa",
                  "target_0": 1,
                  "target_1": 0,
                  "target_2": 0,
                  "_deepnote_index_column": 1
                },
                {
                  "sepal length": 4.7,
                  "sepal width": 3.2,
                  "petal length": 1.3,
                  "petal width": 0.2,
                  "class": "setosa",
                  "target_0": 1,
                  "target_1": 0,
                  "target_2": 0,
                  "_deepnote_index_column": 2
                },
                {
                  "sepal length": 4.6,
                  "sepal width": 3.1,
                  "petal length": 1.5,
                  "petal width": 0.2,
                  "class": "setosa",
                  "target_0": 1,
                  "target_1": 0,
                  "target_2": 0,
                  "_deepnote_index_column": 3
                },
                {
                  "sepal length": 5,
                  "sepal width": 3.6,
                  "petal length": 1.4,
                  "petal width": 0.2,
                  "class": "setosa",
                  "target_0": 1,
                  "target_1": 0,
                  "target_2": 0,
                  "_deepnote_index_column": 4
                },
                {
                  "sepal length": 5.4,
                  "sepal width": 3.9,
                  "petal length": 1.7,
                  "petal width": 0.4,
                  "class": "setosa",
                  "target_0": 1,
                  "target_1": 0,
                  "target_2": 0,
                  "_deepnote_index_column": 5
                },
                {
                  "sepal length": 4.6,
                  "sepal width": 3.4,
                  "petal length": 1.4,
                  "petal width": 0.3,
                  "class": "setosa",
                  "target_0": 1,
                  "target_1": 0,
                  "target_2": 0,
                  "_deepnote_index_column": 6
                },
                {
                  "sepal length": 5,
                  "sepal width": 3.4,
                  "petal length": 1.5,
                  "petal width": 0.2,
                  "class": "setosa",
                  "target_0": 1,
                  "target_1": 0,
                  "target_2": 0,
                  "_deepnote_index_column": 7
                },
                {
                  "sepal length": 4.4,
                  "sepal width": 2.9,
                  "petal length": 1.4,
                  "petal width": 0.2,
                  "class": "setosa",
                  "target_0": 1,
                  "target_1": 0,
                  "target_2": 0,
                  "_deepnote_index_column": 8
                },
                {
                  "sepal length": 4.9,
                  "sepal width": 3.1,
                  "petal length": 1.5,
                  "petal width": 0.1,
                  "class": "setosa",
                  "target_0": 1,
                  "target_1": 0,
                  "target_2": 0,
                  "_deepnote_index_column": 9
                },
                {
                  "sepal length": 5.4,
                  "sepal width": 3.7,
                  "petal length": 1.5,
                  "petal width": 0.2,
                  "class": "setosa",
                  "target_0": 1,
                  "target_1": 0,
                  "target_2": 0,
                  "_deepnote_index_column": 10
                },
                {
                  "sepal length": 4.8,
                  "sepal width": 3.4,
                  "petal length": 1.6,
                  "petal width": 0.2,
                  "class": "setosa",
                  "target_0": 1,
                  "target_1": 0,
                  "target_2": 0,
                  "_deepnote_index_column": 11
                },
                {
                  "sepal length": 4.8,
                  "sepal width": 3,
                  "petal length": 1.4,
                  "petal width": 0.1,
                  "class": "setosa",
                  "target_0": 1,
                  "target_1": 0,
                  "target_2": 0,
                  "_deepnote_index_column": 12
                },
                {
                  "sepal length": 4.3,
                  "sepal width": 3,
                  "petal length": 1.1,
                  "petal width": 0.1,
                  "class": "setosa",
                  "target_0": 1,
                  "target_1": 0,
                  "target_2": 0,
                  "_deepnote_index_column": 13
                },
                {
                  "sepal length": 5.8,
                  "sepal width": 4,
                  "petal length": 1.2,
                  "petal width": 0.2,
                  "class": "setosa",
                  "target_0": 1,
                  "target_1": 0,
                  "target_2": 0,
                  "_deepnote_index_column": 14
                },
                {
                  "sepal length": 5.7,
                  "sepal width": 4.4,
                  "petal length": 1.5,
                  "petal width": 0.4,
                  "class": "setosa",
                  "target_0": 1,
                  "target_1": 0,
                  "target_2": 0,
                  "_deepnote_index_column": 15
                },
                {
                  "sepal length": 5.4,
                  "sepal width": 3.9,
                  "petal length": 1.3,
                  "petal width": 0.4,
                  "class": "setosa",
                  "target_0": 1,
                  "target_1": 0,
                  "target_2": 0,
                  "_deepnote_index_column": 16
                },
                {
                  "sepal length": 5.1,
                  "sepal width": 3.5,
                  "petal length": 1.4,
                  "petal width": 0.3,
                  "class": "setosa",
                  "target_0": 1,
                  "target_1": 0,
                  "target_2": 0,
                  "_deepnote_index_column": 17
                },
                {
                  "sepal length": 5.7,
                  "sepal width": 3.8,
                  "petal length": 1.7,
                  "petal width": 0.3,
                  "class": "setosa",
                  "target_0": 1,
                  "target_1": 0,
                  "target_2": 0,
                  "_deepnote_index_column": 18
                },
                {
                  "sepal length": 5.1,
                  "sepal width": 3.8,
                  "petal length": 1.5,
                  "petal width": 0.3,
                  "class": "setosa",
                  "target_0": 1,
                  "target_1": 0,
                  "target_2": 0,
                  "_deepnote_index_column": 19
                },
                {
                  "sepal length": 5.4,
                  "sepal width": 3.4,
                  "petal length": 1.7,
                  "petal width": 0.2,
                  "class": "setosa",
                  "target_0": 1,
                  "target_1": 0,
                  "target_2": 0,
                  "_deepnote_index_column": 20
                },
                {
                  "sepal length": 5.1,
                  "sepal width": 3.7,
                  "petal length": 1.5,
                  "petal width": 0.4,
                  "class": "setosa",
                  "target_0": 1,
                  "target_1": 0,
                  "target_2": 0,
                  "_deepnote_index_column": 21
                },
                {
                  "sepal length": 4.6,
                  "sepal width": 3.6,
                  "petal length": 1,
                  "petal width": 0.2,
                  "class": "setosa",
                  "target_0": 1,
                  "target_1": 0,
                  "target_2": 0,
                  "_deepnote_index_column": 22
                },
                {
                  "sepal length": 5.1,
                  "sepal width": 3.3,
                  "petal length": 1.7,
                  "petal width": 0.5,
                  "class": "setosa",
                  "target_0": 1,
                  "target_1": 0,
                  "target_2": 0,
                  "_deepnote_index_column": 23
                },
                {
                  "sepal length": 4.8,
                  "sepal width": 3.4,
                  "petal length": 1.9,
                  "petal width": 0.2,
                  "class": "setosa",
                  "target_0": 1,
                  "target_1": 0,
                  "target_2": 0,
                  "_deepnote_index_column": 24
                },
                {
                  "sepal length": 5,
                  "sepal width": 3,
                  "petal length": 1.6,
                  "petal width": 0.2,
                  "class": "setosa",
                  "target_0": 1,
                  "target_1": 0,
                  "target_2": 0,
                  "_deepnote_index_column": 25
                },
                {
                  "sepal length": 5,
                  "sepal width": 3.4,
                  "petal length": 1.6,
                  "petal width": 0.4,
                  "class": "setosa",
                  "target_0": 1,
                  "target_1": 0,
                  "target_2": 0,
                  "_deepnote_index_column": 26
                },
                {
                  "sepal length": 5.2,
                  "sepal width": 3.5,
                  "petal length": 1.5,
                  "petal width": 0.2,
                  "class": "setosa",
                  "target_0": 1,
                  "target_1": 0,
                  "target_2": 0,
                  "_deepnote_index_column": 27
                },
                {
                  "sepal length": 5.2,
                  "sepal width": 3.4,
                  "petal length": 1.4,
                  "petal width": 0.2,
                  "class": "setosa",
                  "target_0": 1,
                  "target_1": 0,
                  "target_2": 0,
                  "_deepnote_index_column": 28
                },
                {
                  "sepal length": 4.7,
                  "sepal width": 3.2,
                  "petal length": 1.6,
                  "petal width": 0.2,
                  "class": "setosa",
                  "target_0": 1,
                  "target_1": 0,
                  "target_2": 0,
                  "_deepnote_index_column": 29
                },
                {
                  "sepal length": 4.8,
                  "sepal width": 3.1,
                  "petal length": 1.6,
                  "petal width": 0.2,
                  "class": "setosa",
                  "target_0": 1,
                  "target_1": 0,
                  "target_2": 0,
                  "_deepnote_index_column": 30
                },
                {
                  "sepal length": 5.4,
                  "sepal width": 3.4,
                  "petal length": 1.5,
                  "petal width": 0.4,
                  "class": "setosa",
                  "target_0": 1,
                  "target_1": 0,
                  "target_2": 0,
                  "_deepnote_index_column": 31
                },
                {
                  "sepal length": 5.2,
                  "sepal width": 4.1,
                  "petal length": 1.5,
                  "petal width": 0.1,
                  "class": "setosa",
                  "target_0": 1,
                  "target_1": 0,
                  "target_2": 0,
                  "_deepnote_index_column": 32
                },
                {
                  "sepal length": 5.5,
                  "sepal width": 4.2,
                  "petal length": 1.4,
                  "petal width": 0.2,
                  "class": "setosa",
                  "target_0": 1,
                  "target_1": 0,
                  "target_2": 0,
                  "_deepnote_index_column": 33
                },
                {
                  "sepal length": 4.9,
                  "sepal width": 3.1,
                  "petal length": 1.5,
                  "petal width": 0.2,
                  "class": "setosa",
                  "target_0": 1,
                  "target_1": 0,
                  "target_2": 0,
                  "_deepnote_index_column": 34
                },
                {
                  "sepal length": 5,
                  "sepal width": 3.2,
                  "petal length": 1.2,
                  "petal width": 0.2,
                  "class": "setosa",
                  "target_0": 1,
                  "target_1": 0,
                  "target_2": 0,
                  "_deepnote_index_column": 35
                },
                {
                  "sepal length": 5.5,
                  "sepal width": 3.5,
                  "petal length": 1.3,
                  "petal width": 0.2,
                  "class": "setosa",
                  "target_0": 1,
                  "target_1": 0,
                  "target_2": 0,
                  "_deepnote_index_column": 36
                },
                {
                  "sepal length": 4.9,
                  "sepal width": 3.6,
                  "petal length": 1.4,
                  "petal width": 0.1,
                  "class": "setosa",
                  "target_0": 1,
                  "target_1": 0,
                  "target_2": 0,
                  "_deepnote_index_column": 37
                },
                {
                  "sepal length": 4.4,
                  "sepal width": 3,
                  "petal length": 1.3,
                  "petal width": 0.2,
                  "class": "setosa",
                  "target_0": 1,
                  "target_1": 0,
                  "target_2": 0,
                  "_deepnote_index_column": 38
                },
                {
                  "sepal length": 5.1,
                  "sepal width": 3.4,
                  "petal length": 1.5,
                  "petal width": 0.2,
                  "class": "setosa",
                  "target_0": 1,
                  "target_1": 0,
                  "target_2": 0,
                  "_deepnote_index_column": 39
                },
                {
                  "sepal length": 5,
                  "sepal width": 3.5,
                  "petal length": 1.3,
                  "petal width": 0.3,
                  "class": "setosa",
                  "target_0": 1,
                  "target_1": 0,
                  "target_2": 0,
                  "_deepnote_index_column": 40
                },
                {
                  "sepal length": 4.5,
                  "sepal width": 2.3,
                  "petal length": 1.3,
                  "petal width": 0.3,
                  "class": "setosa",
                  "target_0": 1,
                  "target_1": 0,
                  "target_2": 0,
                  "_deepnote_index_column": 41
                },
                {
                  "sepal length": 4.4,
                  "sepal width": 3.2,
                  "petal length": 1.3,
                  "petal width": 0.2,
                  "class": "setosa",
                  "target_0": 1,
                  "target_1": 0,
                  "target_2": 0,
                  "_deepnote_index_column": 42
                },
                {
                  "sepal length": 5,
                  "sepal width": 3.5,
                  "petal length": 1.6,
                  "petal width": 0.6,
                  "class": "setosa",
                  "target_0": 1,
                  "target_1": 0,
                  "target_2": 0,
                  "_deepnote_index_column": 43
                },
                {
                  "sepal length": 5.1,
                  "sepal width": 3.8,
                  "petal length": 1.9,
                  "petal width": 0.4,
                  "class": "setosa",
                  "target_0": 1,
                  "target_1": 0,
                  "target_2": 0,
                  "_deepnote_index_column": 44
                },
                {
                  "sepal length": 4.8,
                  "sepal width": 3,
                  "petal length": 1.4,
                  "petal width": 0.3,
                  "class": "setosa",
                  "target_0": 1,
                  "target_1": 0,
                  "target_2": 0,
                  "_deepnote_index_column": 45
                },
                {
                  "sepal length": 5.1,
                  "sepal width": 3.8,
                  "petal length": 1.6,
                  "petal width": 0.2,
                  "class": "setosa",
                  "target_0": 1,
                  "target_1": 0,
                  "target_2": 0,
                  "_deepnote_index_column": 46
                },
                {
                  "sepal length": 4.6,
                  "sepal width": 3.2,
                  "petal length": 1.4,
                  "petal width": 0.2,
                  "class": "setosa",
                  "target_0": 1,
                  "target_1": 0,
                  "target_2": 0,
                  "_deepnote_index_column": 47
                },
                {
                  "sepal length": 5.3,
                  "sepal width": 3.7,
                  "petal length": 1.5,
                  "petal width": 0.2,
                  "class": "setosa",
                  "target_0": 1,
                  "target_1": 0,
                  "target_2": 0,
                  "_deepnote_index_column": 48
                },
                {
                  "sepal length": 5,
                  "sepal width": 3.3,
                  "petal length": 1.4,
                  "petal width": 0.2,
                  "class": "setosa",
                  "target_0": 1,
                  "target_1": 0,
                  "target_2": 0,
                  "_deepnote_index_column": 49
                },
                {
                  "sepal length": 7,
                  "sepal width": 3.2,
                  "petal length": 4.7,
                  "petal width": 1.4,
                  "class": "versicolor",
                  "target_0": 0,
                  "target_1": 1,
                  "target_2": 0,
                  "_deepnote_index_column": 50
                },
                {
                  "sepal length": 6.4,
                  "sepal width": 3.2,
                  "petal length": 4.5,
                  "petal width": 1.5,
                  "class": "versicolor",
                  "target_0": 0,
                  "target_1": 1,
                  "target_2": 0,
                  "_deepnote_index_column": 51
                },
                {
                  "sepal length": 6.9,
                  "sepal width": 3.1,
                  "petal length": 4.9,
                  "petal width": 1.5,
                  "class": "versicolor",
                  "target_0": 0,
                  "target_1": 1,
                  "target_2": 0,
                  "_deepnote_index_column": 52
                },
                {
                  "sepal length": 5.5,
                  "sepal width": 2.3,
                  "petal length": 4,
                  "petal width": 1.3,
                  "class": "versicolor",
                  "target_0": 0,
                  "target_1": 1,
                  "target_2": 0,
                  "_deepnote_index_column": 53
                },
                {
                  "sepal length": 6.5,
                  "sepal width": 2.8,
                  "petal length": 4.6,
                  "petal width": 1.5,
                  "class": "versicolor",
                  "target_0": 0,
                  "target_1": 1,
                  "target_2": 0,
                  "_deepnote_index_column": 54
                },
                {
                  "sepal length": 5.7,
                  "sepal width": 2.8,
                  "petal length": 4.5,
                  "petal width": 1.3,
                  "class": "versicolor",
                  "target_0": 0,
                  "target_1": 1,
                  "target_2": 0,
                  "_deepnote_index_column": 55
                },
                {
                  "sepal length": 6.3,
                  "sepal width": 3.3,
                  "petal length": 4.7,
                  "petal width": 1.6,
                  "class": "versicolor",
                  "target_0": 0,
                  "target_1": 1,
                  "target_2": 0,
                  "_deepnote_index_column": 56
                },
                {
                  "sepal length": 4.9,
                  "sepal width": 2.4,
                  "petal length": 3.3,
                  "petal width": 1,
                  "class": "versicolor",
                  "target_0": 0,
                  "target_1": 1,
                  "target_2": 0,
                  "_deepnote_index_column": 57
                },
                {
                  "sepal length": 6.6,
                  "sepal width": 2.9,
                  "petal length": 4.6,
                  "petal width": 1.3,
                  "class": "versicolor",
                  "target_0": 0,
                  "target_1": 1,
                  "target_2": 0,
                  "_deepnote_index_column": 58
                },
                {
                  "sepal length": 5.2,
                  "sepal width": 2.7,
                  "petal length": 3.9,
                  "petal width": 1.4,
                  "class": "versicolor",
                  "target_0": 0,
                  "target_1": 1,
                  "target_2": 0,
                  "_deepnote_index_column": 59
                },
                {
                  "sepal length": 5,
                  "sepal width": 2,
                  "petal length": 3.5,
                  "petal width": 1,
                  "class": "versicolor",
                  "target_0": 0,
                  "target_1": 1,
                  "target_2": 0,
                  "_deepnote_index_column": 60
                },
                {
                  "sepal length": 5.9,
                  "sepal width": 3,
                  "petal length": 4.2,
                  "petal width": 1.5,
                  "class": "versicolor",
                  "target_0": 0,
                  "target_1": 1,
                  "target_2": 0,
                  "_deepnote_index_column": 61
                }
              ],
              "rows_bottom": [
                {
                  "sepal length": 6.3,
                  "sepal width": 2.3,
                  "petal length": 4.4,
                  "petal width": 1.3,
                  "class": "versicolor",
                  "target_0": 0,
                  "target_1": 1,
                  "target_2": 0,
                  "_deepnote_index_column": 87
                },
                {
                  "sepal length": 5.6,
                  "sepal width": 3,
                  "petal length": 4.1,
                  "petal width": 1.3,
                  "class": "versicolor",
                  "target_0": 0,
                  "target_1": 1,
                  "target_2": 0,
                  "_deepnote_index_column": 88
                },
                {
                  "sepal length": 5.5,
                  "sepal width": 2.5,
                  "petal length": 4,
                  "petal width": 1.3,
                  "class": "versicolor",
                  "target_0": 0,
                  "target_1": 1,
                  "target_2": 0,
                  "_deepnote_index_column": 89
                },
                {
                  "sepal length": 5.5,
                  "sepal width": 2.6,
                  "petal length": 4.4,
                  "petal width": 1.2,
                  "class": "versicolor",
                  "target_0": 0,
                  "target_1": 1,
                  "target_2": 0,
                  "_deepnote_index_column": 90
                },
                {
                  "sepal length": 6.1,
                  "sepal width": 3,
                  "petal length": 4.6,
                  "petal width": 1.4,
                  "class": "versicolor",
                  "target_0": 0,
                  "target_1": 1,
                  "target_2": 0,
                  "_deepnote_index_column": 91
                },
                {
                  "sepal length": 5.8,
                  "sepal width": 2.6,
                  "petal length": 4,
                  "petal width": 1.2,
                  "class": "versicolor",
                  "target_0": 0,
                  "target_1": 1,
                  "target_2": 0,
                  "_deepnote_index_column": 92
                },
                {
                  "sepal length": 5,
                  "sepal width": 2.3,
                  "petal length": 3.3,
                  "petal width": 1,
                  "class": "versicolor",
                  "target_0": 0,
                  "target_1": 1,
                  "target_2": 0,
                  "_deepnote_index_column": 93
                },
                {
                  "sepal length": 5.6,
                  "sepal width": 2.7,
                  "petal length": 4.2,
                  "petal width": 1.3,
                  "class": "versicolor",
                  "target_0": 0,
                  "target_1": 1,
                  "target_2": 0,
                  "_deepnote_index_column": 94
                },
                {
                  "sepal length": 5.7,
                  "sepal width": 3,
                  "petal length": 4.2,
                  "petal width": 1.2,
                  "class": "versicolor",
                  "target_0": 0,
                  "target_1": 1,
                  "target_2": 0,
                  "_deepnote_index_column": 95
                },
                {
                  "sepal length": 5.7,
                  "sepal width": 2.9,
                  "petal length": 4.2,
                  "petal width": 1.3,
                  "class": "versicolor",
                  "target_0": 0,
                  "target_1": 1,
                  "target_2": 0,
                  "_deepnote_index_column": 96
                },
                {
                  "sepal length": 6.2,
                  "sepal width": 2.9,
                  "petal length": 4.3,
                  "petal width": 1.3,
                  "class": "versicolor",
                  "target_0": 0,
                  "target_1": 1,
                  "target_2": 0,
                  "_deepnote_index_column": 97
                },
                {
                  "sepal length": 5.1,
                  "sepal width": 2.5,
                  "petal length": 3,
                  "petal width": 1.1,
                  "class": "versicolor",
                  "target_0": 0,
                  "target_1": 1,
                  "target_2": 0,
                  "_deepnote_index_column": 98
                },
                {
                  "sepal length": 5.7,
                  "sepal width": 2.8,
                  "petal length": 4.1,
                  "petal width": 1.3,
                  "class": "versicolor",
                  "target_0": 0,
                  "target_1": 1,
                  "target_2": 0,
                  "_deepnote_index_column": 99
                },
                {
                  "sepal length": 6.3,
                  "sepal width": 3.3,
                  "petal length": 6,
                  "petal width": 2.5,
                  "class": "virginica",
                  "target_0": 0,
                  "target_1": 0,
                  "target_2": 1,
                  "_deepnote_index_column": 100
                },
                {
                  "sepal length": 5.8,
                  "sepal width": 2.7,
                  "petal length": 5.1,
                  "petal width": 1.9,
                  "class": "virginica",
                  "target_0": 0,
                  "target_1": 0,
                  "target_2": 1,
                  "_deepnote_index_column": 101
                },
                {
                  "sepal length": 7.1,
                  "sepal width": 3,
                  "petal length": 5.9,
                  "petal width": 2.1,
                  "class": "virginica",
                  "target_0": 0,
                  "target_1": 0,
                  "target_2": 1,
                  "_deepnote_index_column": 102
                },
                {
                  "sepal length": 6.3,
                  "sepal width": 2.9,
                  "petal length": 5.6,
                  "petal width": 1.8,
                  "class": "virginica",
                  "target_0": 0,
                  "target_1": 0,
                  "target_2": 1,
                  "_deepnote_index_column": 103
                },
                {
                  "sepal length": 6.5,
                  "sepal width": 3,
                  "petal length": 5.8,
                  "petal width": 2.2,
                  "class": "virginica",
                  "target_0": 0,
                  "target_1": 0,
                  "target_2": 1,
                  "_deepnote_index_column": 104
                },
                {
                  "sepal length": 7.6,
                  "sepal width": 3,
                  "petal length": 6.6,
                  "petal width": 2.1,
                  "class": "virginica",
                  "target_0": 0,
                  "target_1": 0,
                  "target_2": 1,
                  "_deepnote_index_column": 105
                },
                {
                  "sepal length": 4.9,
                  "sepal width": 2.5,
                  "petal length": 4.5,
                  "petal width": 1.7,
                  "class": "virginica",
                  "target_0": 0,
                  "target_1": 0,
                  "target_2": 1,
                  "_deepnote_index_column": 106
                },
                {
                  "sepal length": 7.3,
                  "sepal width": 2.9,
                  "petal length": 6.3,
                  "petal width": 1.8,
                  "class": "virginica",
                  "target_0": 0,
                  "target_1": 0,
                  "target_2": 1,
                  "_deepnote_index_column": 107
                },
                {
                  "sepal length": 6.7,
                  "sepal width": 2.5,
                  "petal length": 5.8,
                  "petal width": 1.8,
                  "class": "virginica",
                  "target_0": 0,
                  "target_1": 0,
                  "target_2": 1,
                  "_deepnote_index_column": 108
                },
                {
                  "sepal length": 7.2,
                  "sepal width": 3.6,
                  "petal length": 6.1,
                  "petal width": 2.5,
                  "class": "virginica",
                  "target_0": 0,
                  "target_1": 0,
                  "target_2": 1,
                  "_deepnote_index_column": 109
                },
                {
                  "sepal length": 6.5,
                  "sepal width": 3.2,
                  "petal length": 5.1,
                  "petal width": 2,
                  "class": "virginica",
                  "target_0": 0,
                  "target_1": 0,
                  "target_2": 1,
                  "_deepnote_index_column": 110
                },
                {
                  "sepal length": 6.4,
                  "sepal width": 2.7,
                  "petal length": 5.3,
                  "petal width": 1.9,
                  "class": "virginica",
                  "target_0": 0,
                  "target_1": 0,
                  "target_2": 1,
                  "_deepnote_index_column": 111
                },
                {
                  "sepal length": 6.8,
                  "sepal width": 3,
                  "petal length": 5.5,
                  "petal width": 2.1,
                  "class": "virginica",
                  "target_0": 0,
                  "target_1": 0,
                  "target_2": 1,
                  "_deepnote_index_column": 112
                },
                {
                  "sepal length": 5.7,
                  "sepal width": 2.5,
                  "petal length": 5,
                  "petal width": 2,
                  "class": "virginica",
                  "target_0": 0,
                  "target_1": 0,
                  "target_2": 1,
                  "_deepnote_index_column": 113
                },
                {
                  "sepal length": 5.8,
                  "sepal width": 2.8,
                  "petal length": 5.1,
                  "petal width": 2.4,
                  "class": "virginica",
                  "target_0": 0,
                  "target_1": 0,
                  "target_2": 1,
                  "_deepnote_index_column": 114
                },
                {
                  "sepal length": 6.4,
                  "sepal width": 3.2,
                  "petal length": 5.3,
                  "petal width": 2.3,
                  "class": "virginica",
                  "target_0": 0,
                  "target_1": 0,
                  "target_2": 1,
                  "_deepnote_index_column": 115
                },
                {
                  "sepal length": 6.5,
                  "sepal width": 3,
                  "petal length": 5.5,
                  "petal width": 1.8,
                  "class": "virginica",
                  "target_0": 0,
                  "target_1": 0,
                  "target_2": 1,
                  "_deepnote_index_column": 116
                },
                {
                  "sepal length": 7.7,
                  "sepal width": 3.8,
                  "petal length": 6.7,
                  "petal width": 2.2,
                  "class": "virginica",
                  "target_0": 0,
                  "target_1": 0,
                  "target_2": 1,
                  "_deepnote_index_column": 117
                },
                {
                  "sepal length": 7.7,
                  "sepal width": 2.6,
                  "petal length": 6.9,
                  "petal width": 2.3,
                  "class": "virginica",
                  "target_0": 0,
                  "target_1": 0,
                  "target_2": 1,
                  "_deepnote_index_column": 118
                },
                {
                  "sepal length": 6,
                  "sepal width": 2.2,
                  "petal length": 5,
                  "petal width": 1.5,
                  "class": "virginica",
                  "target_0": 0,
                  "target_1": 0,
                  "target_2": 1,
                  "_deepnote_index_column": 119
                },
                {
                  "sepal length": 6.9,
                  "sepal width": 3.2,
                  "petal length": 5.7,
                  "petal width": 2.3,
                  "class": "virginica",
                  "target_0": 0,
                  "target_1": 0,
                  "target_2": 1,
                  "_deepnote_index_column": 120
                },
                {
                  "sepal length": 5.6,
                  "sepal width": 2.8,
                  "petal length": 4.9,
                  "petal width": 2,
                  "class": "virginica",
                  "target_0": 0,
                  "target_1": 0,
                  "target_2": 1,
                  "_deepnote_index_column": 121
                },
                {
                  "sepal length": 7.7,
                  "sepal width": 2.8,
                  "petal length": 6.7,
                  "petal width": 2,
                  "class": "virginica",
                  "target_0": 0,
                  "target_1": 0,
                  "target_2": 1,
                  "_deepnote_index_column": 122
                },
                {
                  "sepal length": 6.3,
                  "sepal width": 2.7,
                  "petal length": 4.9,
                  "petal width": 1.8,
                  "class": "virginica",
                  "target_0": 0,
                  "target_1": 0,
                  "target_2": 1,
                  "_deepnote_index_column": 123
                },
                {
                  "sepal length": 6.7,
                  "sepal width": 3.3,
                  "petal length": 5.7,
                  "petal width": 2.1,
                  "class": "virginica",
                  "target_0": 0,
                  "target_1": 0,
                  "target_2": 1,
                  "_deepnote_index_column": 124
                },
                {
                  "sepal length": 7.2,
                  "sepal width": 3.2,
                  "petal length": 6,
                  "petal width": 1.8,
                  "class": "virginica",
                  "target_0": 0,
                  "target_1": 0,
                  "target_2": 1,
                  "_deepnote_index_column": 125
                },
                {
                  "sepal length": 6.2,
                  "sepal width": 2.8,
                  "petal length": 4.8,
                  "petal width": 1.8,
                  "class": "virginica",
                  "target_0": 0,
                  "target_1": 0,
                  "target_2": 1,
                  "_deepnote_index_column": 126
                },
                {
                  "sepal length": 6.1,
                  "sepal width": 3,
                  "petal length": 4.9,
                  "petal width": 1.8,
                  "class": "virginica",
                  "target_0": 0,
                  "target_1": 0,
                  "target_2": 1,
                  "_deepnote_index_column": 127
                },
                {
                  "sepal length": 6.4,
                  "sepal width": 2.8,
                  "petal length": 5.6,
                  "petal width": 2.1,
                  "class": "virginica",
                  "target_0": 0,
                  "target_1": 0,
                  "target_2": 1,
                  "_deepnote_index_column": 128
                },
                {
                  "sepal length": 7.2,
                  "sepal width": 3,
                  "petal length": 5.8,
                  "petal width": 1.6,
                  "class": "virginica",
                  "target_0": 0,
                  "target_1": 0,
                  "target_2": 1,
                  "_deepnote_index_column": 129
                },
                {
                  "sepal length": 7.4,
                  "sepal width": 2.8,
                  "petal length": 6.1,
                  "petal width": 1.9,
                  "class": "virginica",
                  "target_0": 0,
                  "target_1": 0,
                  "target_2": 1,
                  "_deepnote_index_column": 130
                },
                {
                  "sepal length": 7.9,
                  "sepal width": 3.8,
                  "petal length": 6.4,
                  "petal width": 2,
                  "class": "virginica",
                  "target_0": 0,
                  "target_1": 0,
                  "target_2": 1,
                  "_deepnote_index_column": 131
                },
                {
                  "sepal length": 6.4,
                  "sepal width": 2.8,
                  "petal length": 5.6,
                  "petal width": 2.2,
                  "class": "virginica",
                  "target_0": 0,
                  "target_1": 0,
                  "target_2": 1,
                  "_deepnote_index_column": 132
                },
                {
                  "sepal length": 6.3,
                  "sepal width": 2.8,
                  "petal length": 5.1,
                  "petal width": 1.5,
                  "class": "virginica",
                  "target_0": 0,
                  "target_1": 0,
                  "target_2": 1,
                  "_deepnote_index_column": 133
                },
                {
                  "sepal length": 6.1,
                  "sepal width": 2.6,
                  "petal length": 5.6,
                  "petal width": 1.4,
                  "class": "virginica",
                  "target_0": 0,
                  "target_1": 0,
                  "target_2": 1,
                  "_deepnote_index_column": 134
                },
                {
                  "sepal length": 7.7,
                  "sepal width": 3,
                  "petal length": 6.1,
                  "petal width": 2.3,
                  "class": "virginica",
                  "target_0": 0,
                  "target_1": 0,
                  "target_2": 1,
                  "_deepnote_index_column": 135
                },
                {
                  "sepal length": 6.3,
                  "sepal width": 3.4,
                  "petal length": 5.6,
                  "petal width": 2.4,
                  "class": "virginica",
                  "target_0": 0,
                  "target_1": 0,
                  "target_2": 1,
                  "_deepnote_index_column": 136
                },
                {
                  "sepal length": 6.4,
                  "sepal width": 3.1,
                  "petal length": 5.5,
                  "petal width": 1.8,
                  "class": "virginica",
                  "target_0": 0,
                  "target_1": 0,
                  "target_2": 1,
                  "_deepnote_index_column": 137
                },
                {
                  "sepal length": 6,
                  "sepal width": 3,
                  "petal length": 4.8,
                  "petal width": 1.8,
                  "class": "virginica",
                  "target_0": 0,
                  "target_1": 0,
                  "target_2": 1,
                  "_deepnote_index_column": 138
                },
                {
                  "sepal length": 6.9,
                  "sepal width": 3.1,
                  "petal length": 5.4,
                  "petal width": 2.1,
                  "class": "virginica",
                  "target_0": 0,
                  "target_1": 0,
                  "target_2": 1,
                  "_deepnote_index_column": 139
                },
                {
                  "sepal length": 6.7,
                  "sepal width": 3.1,
                  "petal length": 5.6,
                  "petal width": 2.4,
                  "class": "virginica",
                  "target_0": 0,
                  "target_1": 0,
                  "target_2": 1,
                  "_deepnote_index_column": 140
                },
                {
                  "sepal length": 6.9,
                  "sepal width": 3.1,
                  "petal length": 5.1,
                  "petal width": 2.3,
                  "class": "virginica",
                  "target_0": 0,
                  "target_1": 0,
                  "target_2": 1,
                  "_deepnote_index_column": 141
                },
                {
                  "sepal length": 5.8,
                  "sepal width": 2.7,
                  "petal length": 5.1,
                  "petal width": 1.9,
                  "class": "virginica",
                  "target_0": 0,
                  "target_1": 0,
                  "target_2": 1,
                  "_deepnote_index_column": 142
                },
                {
                  "sepal length": 6.8,
                  "sepal width": 3.2,
                  "petal length": 5.9,
                  "petal width": 2.3,
                  "class": "virginica",
                  "target_0": 0,
                  "target_1": 0,
                  "target_2": 1,
                  "_deepnote_index_column": 143
                },
                {
                  "sepal length": 6.7,
                  "sepal width": 3.3,
                  "petal length": 5.7,
                  "petal width": 2.5,
                  "class": "virginica",
                  "target_0": 0,
                  "target_1": 0,
                  "target_2": 1,
                  "_deepnote_index_column": 144
                },
                {
                  "sepal length": 6.7,
                  "sepal width": 3,
                  "petal length": 5.2,
                  "petal width": 2.3,
                  "class": "virginica",
                  "target_0": 0,
                  "target_1": 0,
                  "target_2": 1,
                  "_deepnote_index_column": 145
                },
                {
                  "sepal length": 6.3,
                  "sepal width": 2.5,
                  "petal length": 5,
                  "petal width": 1.9,
                  "class": "virginica",
                  "target_0": 0,
                  "target_1": 0,
                  "target_2": 1,
                  "_deepnote_index_column": 146
                },
                {
                  "sepal length": 6.5,
                  "sepal width": 3,
                  "petal length": 5.2,
                  "petal width": 2,
                  "class": "virginica",
                  "target_0": 0,
                  "target_1": 0,
                  "target_2": 1,
                  "_deepnote_index_column": 147
                },
                {
                  "sepal length": 6.2,
                  "sepal width": 3.4,
                  "petal length": 5.4,
                  "petal width": 2.3,
                  "class": "virginica",
                  "target_0": 0,
                  "target_1": 0,
                  "target_2": 1,
                  "_deepnote_index_column": 148
                },
                {
                  "sepal length": 5.9,
                  "sepal width": 3,
                  "petal length": 5.1,
                  "petal width": 1.8,
                  "class": "virginica",
                  "target_0": 0,
                  "target_1": 0,
                  "target_2": 1,
                  "_deepnote_index_column": 149
                }
              ]
            },
            "text/plain": "     sepal length  sepal width  petal length  petal width      class  \\\n0             5.1          3.5           1.4          0.2     setosa   \n1             4.9          3.0           1.4          0.2     setosa   \n2             4.7          3.2           1.3          0.2     setosa   \n3             4.6          3.1           1.5          0.2     setosa   \n4             5.0          3.6           1.4          0.2     setosa   \n..            ...          ...           ...          ...        ...   \n145           6.7          3.0           5.2          2.3  virginica   \n146           6.3          2.5           5.0          1.9  virginica   \n147           6.5          3.0           5.2          2.0  virginica   \n148           6.2          3.4           5.4          2.3  virginica   \n149           5.9          3.0           5.1          1.8  virginica   \n\n     target_0  target_1  target_2  \n0           1         0         0  \n1           1         0         0  \n2           1         0         0  \n3           1         0         0  \n4           1         0         0  \n..        ...       ...       ...  \n145         0         0         1  \n146         0         0         1  \n147         0         0         1  \n148         0         0         1  \n149         0         0         1  \n\n[150 rows x 8 columns]",
            "text/html": "<div>\n<style scoped>\n    .dataframe tbody tr th:only-of-type {\n        vertical-align: middle;\n    }\n\n    .dataframe tbody tr th {\n        vertical-align: top;\n    }\n\n    .dataframe thead th {\n        text-align: right;\n    }\n</style>\n<table border=\"1\" class=\"dataframe\">\n  <thead>\n    <tr style=\"text-align: right;\">\n      <th></th>\n      <th>sepal length</th>\n      <th>sepal width</th>\n      <th>petal length</th>\n      <th>petal width</th>\n      <th>class</th>\n      <th>target_0</th>\n      <th>target_1</th>\n      <th>target_2</th>\n    </tr>\n  </thead>\n  <tbody>\n    <tr>\n      <th>0</th>\n      <td>5.1</td>\n      <td>3.5</td>\n      <td>1.4</td>\n      <td>0.2</td>\n      <td>setosa</td>\n      <td>1</td>\n      <td>0</td>\n      <td>0</td>\n    </tr>\n    <tr>\n      <th>1</th>\n      <td>4.9</td>\n      <td>3.0</td>\n      <td>1.4</td>\n      <td>0.2</td>\n      <td>setosa</td>\n      <td>1</td>\n      <td>0</td>\n      <td>0</td>\n    </tr>\n    <tr>\n      <th>2</th>\n      <td>4.7</td>\n      <td>3.2</td>\n      <td>1.3</td>\n      <td>0.2</td>\n      <td>setosa</td>\n      <td>1</td>\n      <td>0</td>\n      <td>0</td>\n    </tr>\n    <tr>\n      <th>3</th>\n      <td>4.6</td>\n      <td>3.1</td>\n      <td>1.5</td>\n      <td>0.2</td>\n      <td>setosa</td>\n      <td>1</td>\n      <td>0</td>\n      <td>0</td>\n    </tr>\n    <tr>\n      <th>4</th>\n      <td>5.0</td>\n      <td>3.6</td>\n      <td>1.4</td>\n      <td>0.2</td>\n      <td>setosa</td>\n      <td>1</td>\n      <td>0</td>\n      <td>0</td>\n    </tr>\n    <tr>\n      <th>...</th>\n      <td>...</td>\n      <td>...</td>\n      <td>...</td>\n      <td>...</td>\n      <td>...</td>\n      <td>...</td>\n      <td>...</td>\n      <td>...</td>\n    </tr>\n    <tr>\n      <th>145</th>\n      <td>6.7</td>\n      <td>3.0</td>\n      <td>5.2</td>\n      <td>2.3</td>\n      <td>virginica</td>\n      <td>0</td>\n      <td>0</td>\n      <td>1</td>\n    </tr>\n    <tr>\n      <th>146</th>\n      <td>6.3</td>\n      <td>2.5</td>\n      <td>5.0</td>\n      <td>1.9</td>\n      <td>virginica</td>\n      <td>0</td>\n      <td>0</td>\n      <td>1</td>\n    </tr>\n    <tr>\n      <th>147</th>\n      <td>6.5</td>\n      <td>3.0</td>\n      <td>5.2</td>\n      <td>2.0</td>\n      <td>virginica</td>\n      <td>0</td>\n      <td>0</td>\n      <td>1</td>\n    </tr>\n    <tr>\n      <th>148</th>\n      <td>6.2</td>\n      <td>3.4</td>\n      <td>5.4</td>\n      <td>2.3</td>\n      <td>virginica</td>\n      <td>0</td>\n      <td>0</td>\n      <td>1</td>\n    </tr>\n    <tr>\n      <th>149</th>\n      <td>5.9</td>\n      <td>3.0</td>\n      <td>5.1</td>\n      <td>1.8</td>\n      <td>virginica</td>\n      <td>0</td>\n      <td>0</td>\n      <td>1</td>\n    </tr>\n  </tbody>\n</table>\n<p>150 rows × 8 columns</p>\n</div>"
          },
          "metadata": {}
        }
      ]
    },
    {
      "cell_type": "code",
      "metadata": {
        "cell_id": "00006-2cd70712-07d9-4be1-9df2-ef4b3fd953b3",
        "deepnote_to_be_reexecuted": false,
        "source_hash": "80c69626",
        "execution_start": 1619613756822,
        "execution_millis": 0,
        "deepnote_cell_type": "code"
      },
      "source": "def target_to_numpy():\n    Y = df_iris.target.to_numpy()\n    return Y\ndef data_to_numpy():\n    X = df_iris[['sepal length','sepal width']].to_numpy() #only selects specified columns\n    return X\n\nY = target_to_numpy()\nX = data_to_numpy()\n",
      "execution_count": 19,
      "outputs": []
    },
    {
      "cell_type": "code",
      "metadata": {
        "cell_id": "00007-6cf63c49-af6d-4761-9868-013ee3b3d490",
        "deepnote_to_be_reexecuted": false,
        "source_hash": "86503387",
        "execution_start": 1619613759732,
        "execution_millis": 17,
        "deepnote_cell_type": "code"
      },
      "source": "X = df_iris[['sepal length', 'sepal width']].values\nprint(X.shape)\nX[:5]",
      "execution_count": 20,
      "outputs": [
        {
          "name": "stdout",
          "text": "(150, 2)\n",
          "output_type": "stream"
        },
        {
          "output_type": "execute_result",
          "execution_count": 20,
          "data": {
            "text/plain": "array([[5.1, 3.5],\n       [4.9, 3. ],\n       [4.7, 3.2],\n       [4.6, 3.1],\n       [5. , 3.6]])"
          },
          "metadata": {}
        }
      ]
    },
    {
      "cell_type": "code",
      "metadata": {
        "cell_id": "00008-423f48f7-a813-4e9c-b361-4d241b04a269",
        "deepnote_to_be_reexecuted": false,
        "source_hash": "7300ff5",
        "execution_start": 1619613762896,
        "execution_millis": 1,
        "deepnote_cell_type": "code"
      },
      "source": "#Split the data into train and test\nX_train, X_test, Y_train, Y_test = train_test_split(X, Y, train_size = 0.8, random_state = 42)",
      "execution_count": 21,
      "outputs": []
    },
    {
      "cell_type": "code",
      "metadata": {
        "cell_id": "00009-41396ded-334a-46e5-a072-c6bd04e7b507",
        "deepnote_to_be_reexecuted": false,
        "source_hash": "247e1c4d",
        "execution_start": 1619613765545,
        "execution_millis": 15,
        "deepnote_cell_type": "code"
      },
      "source": "#normalize the dataset\n#create and fit the scaler object on the training data\n\nscaling = StandardScaler() \nX_train =  scaling.fit_transform(X_train)\nX_test = scaling.fit_transform(X_test)\n\nX_train[:5]",
      "execution_count": 22,
      "outputs": [
        {
          "output_type": "execute_result",
          "execution_count": 22,
          "data": {
            "text/plain": "array([[-1.47393679,  1.20365799],\n       [-0.13307079,  2.99237573],\n       [ 1.08589829,  0.08570939],\n       [-1.23014297,  0.75647855],\n       [-1.7177306 ,  0.30929911]])"
          },
          "metadata": {}
        }
      ]
    },
    {
      "cell_type": "code",
      "metadata": {
        "cell_id": "00010-6ca3285c-00b1-4790-a02a-a3fcafffc73a",
        "deepnote_to_be_reexecuted": false,
        "source_hash": "29f99a71",
        "execution_start": 1619613781782,
        "execution_millis": 1,
        "deepnote_cell_type": "code"
      },
      "source": "\n# Create Decision Tree classifer object\nclf = DecisionTreeClassifier()\n\n# Train Decision Tree Classifer\nclf = clf.fit(X_train,Y_train)\n\n#Predict the response for test dataset\nY_pred = clf.predict(X_test)",
      "execution_count": 24,
      "outputs": []
    },
    {
      "cell_type": "code",
      "metadata": {
        "cell_id": "00011-8b0a0af7-a899-45d3-a706-0d0bea3c68ed",
        "deepnote_to_be_reexecuted": false,
        "source_hash": "76409d8e",
        "execution_start": 1619613787441,
        "execution_millis": 48,
        "deepnote_cell_type": "code"
      },
      "source": "print(\"Accuracy:\",metrics.accuracy_score(Y_test, Y_pred))",
      "execution_count": 25,
      "outputs": [
        {
          "name": "stdout",
          "text": "Accuracy: 0.8333333333333334\n",
          "output_type": "stream"
        }
      ]
    },
    {
      "cell_type": "code",
      "metadata": {
        "tags": [],
        "cell_id": "00012-bd0c9481-a676-44a4-8ddc-5ac27fbb2c9c",
        "deepnote_to_be_reexecuted": false,
        "source_hash": "8b57ee70",
        "execution_start": 1619613801963,
        "execution_millis": 9,
        "deepnote_cell_type": "code"
      },
      "source": "##deniz \nfrom sklearn.model_selection import train_test_split, cross_val_score\nfrom sklearn.tree import DecisionTreeClassifier\nfrom sklearn.metrics import classification_report, confusion_matrix\n\nX = dataset.data\ny = dataset.target\nX_train, X_test, y_train, y_test = train_test_split(X,y, test_size=0.2, random_state = 42)\nmodel = DecisionTreeClassifier()\nmodel.fit(X_train,y_train)\ny_pred = model.predict(X_test)\nprint(cross_val_score(model, X_train, y_train, cv=3))\nprint(confusion_matrix(y_test, y_pred))\nprint(classification_report(y_test, y_pred))\nprint(\"Accuracy:\",metrics.accuracy_score(y_test, y_pred))",
      "execution_count": 26,
      "outputs": [
        {
          "name": "stdout",
          "text": "[0.975 0.9   0.95 ]\n[[10  0  0]\n [ 0  9  0]\n [ 0  0 11]]\n              precision    recall  f1-score   support\n\n           0       1.00      1.00      1.00        10\n           1       1.00      1.00      1.00         9\n           2       1.00      1.00      1.00        11\n\n    accuracy                           1.00        30\n   macro avg       1.00      1.00      1.00        30\nweighted avg       1.00      1.00      1.00        30\n\nAccuracy: 1.0\n",
          "output_type": "stream"
        }
      ]
    },
    {
      "cell_type": "markdown",
      "source": "<a style='text-decoration:none;line-height:16px;display:flex;color:#5B5B62;padding:10px;justify-content:end;' href='https://deepnote.com?utm_source=created-in-deepnote-cell&projectId=6c28b595-5f74-4b59-965a-54b1f3dd0300' target=\"_blank\">\n<img alt='Created in deepnote.com' style='display:inline;max-height:16px;margin:0px;margin-right:7.5px;' src='data:image/svg+xml;base64,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' > </img>\nCreated in <span style='font-weight:600;margin-left:4px;'>Deepnote</span></a>",
      "metadata": {
        "tags": [],
        "created_in_deepnote_cell": true,
        "deepnote_cell_type": "markdown"
      }
    }
  ],
  "nbformat": 4,
  "nbformat_minor": 4,
  "metadata": {
    "kernelspec": {
      "display_name": "Python 3",
      "language": "python",
      "name": "python3"
    },
    "language_info": {
      "codemirror_mode": {
        "name": "ipython",
        "version": 3
      },
      "file_extension": ".py",
      "mimetype": "text/x-python",
      "name": "python",
      "nbconvert_exporter": "python",
      "pygments_lexer": "ipython3",
      "version": "3.8.5"
    },
    "deepnote_notebook_id": "5fea97ab-8947-43a7-954b-9d8ec748bb06",
    "deepnote": {},
    "deepnote_execution_queue": []
  }
}