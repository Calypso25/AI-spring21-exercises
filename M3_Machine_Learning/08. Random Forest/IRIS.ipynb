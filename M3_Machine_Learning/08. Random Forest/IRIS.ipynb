{
  "cells": [
    {
      "cell_type": "code",
      "metadata": {
        "tags": [],
        "cell_id": "00000-f92c2c14-e88a-473c-9c87-548dcc5db064",
        "deepnote_to_be_reexecuted": false,
        "source_hash": "d577678f",
        "execution_start": 1619618367282,
        "execution_millis": 1924,
        "deepnote_cell_type": "code"
      },
      "source": "import numpy as np\nimport matplotlib\nimport matplotlib.pyplot as plt\nimport seaborn as sns\nimport pandas as pd\nfrom sklearn import tree\n\nfrom sklearn import datasets\nfrom sklearn import model_selection\nfrom sklearn.preprocessing import StandardScaler\nfrom sklearn import preprocessing\nfrom sklearn.model_selection import train_test_split, cross_validate\nfrom sklearn import metrics\nfrom sklearn.ensemble import RandomForestRegressor\nfrom sklearn.tree import DecisionTreeClassifier\n\n\n\n# Display plots inline and change plot resolution to retina\n%matplotlib inline\n%config InlineBackend.figure_format = 'retina'\n# Set Seaborn aesthetic parameters to defaults\nsns.set()\nprint('Setup Complete')",
      "execution_count": 1,
      "outputs": [
        {
          "name": "stdout",
          "text": "Setup Complete\n",
          "output_type": "stream"
        }
      ]
    },
    {
      "cell_type": "code",
      "source": "#load the dataset and return it\ndef load_data():\n    iris_data = datasets.load_iris()\n    return iris_data",
      "metadata": {
        "tags": [],
        "cell_id": "00001-47283ba2-bd92-4557-9f04-6f5561eaff5d",
        "deepnote_to_be_reexecuted": false,
        "source_hash": "111ea319",
        "execution_start": 1619618369206,
        "execution_millis": 13,
        "deepnote_cell_type": "code"
      },
      "outputs": [],
      "execution_count": 2
    },
    {
      "cell_type": "code",
      "source": "dataset = load_data()\nload_data().feature_names",
      "metadata": {
        "tags": [],
        "cell_id": "00002-c60d1d3d-d7a8-4c13-8ff9-5909eca114cf",
        "deepnote_to_be_reexecuted": false,
        "source_hash": "ebc3d2ab",
        "execution_start": 1619618369224,
        "execution_millis": 9,
        "deepnote_cell_type": "code"
      },
      "outputs": [
        {
          "output_type": "execute_result",
          "execution_count": 3,
          "data": {
            "text/plain": "['sepal length (cm)',\n 'sepal width (cm)',\n 'petal length (cm)',\n 'petal width (cm)']"
          },
          "metadata": {}
        }
      ],
      "execution_count": 3
    },
    {
      "cell_type": "code",
      "source": "def dataset_to_pandas():\n    ''' \n    put the dataset into a pandas DF using the feature names as columnsç\n    rename the column name so the dont include the '(cm)'\n    add 2 columns one with the target and another with the target_names\n    ''' \n    \n    df = pd.DataFrame(dataset['data'], columns=dataset['feature_names'])\n    df.columns = ['sepal length', 'sepal width', 'petal length', 'petal width']\n    df['target'] = dataset['target']\n    df['class'] = dataset.target_names[dataset.target]\n\n    #df['class'] = pd.Categorical.from_codes(dataset.target, dataset.target_names) #Make a Categorical type from codes and categories or dtype.\n    #here the codes are the target values and the dtype will be target_names\n    return df",
      "metadata": {
        "tags": [],
        "cell_id": "00003-80158714-ce6f-438c-9fd4-0a01ea972072",
        "deepnote_cell_type": "code"
      },
      "outputs": [],
      "execution_count": null
    },
    {
      "cell_type": "code",
      "source": "df_iris = dataset_to_pandas()\ndf_iris",
      "metadata": {
        "tags": [],
        "cell_id": "00004-35429661-132e-44d5-a165-4e4e599e8565",
        "deepnote_cell_type": "code"
      },
      "outputs": [],
      "execution_count": null
    },
    {
      "cell_type": "code",
      "source": "def ohe():\n    dummy = pd.get_dummies(df_iris, columns=[\"target\"])\n    return dummy\nohe()",
      "metadata": {
        "tags": [],
        "cell_id": "00005-918cc69b-2d0d-4e58-8c00-9764c8c6de68",
        "deepnote_cell_type": "code"
      },
      "outputs": [],
      "execution_count": null
    },
    {
      "cell_type": "code",
      "source": "Y = df_iris.target.to_numpy()\nX = df_iris[['sepal length','sepal width']].to_numpy() \n",
      "metadata": {
        "tags": [],
        "cell_id": "00006-60e7c5f3-99a6-4052-8014-37611e9e55fa",
        "deepnote_cell_type": "code"
      },
      "outputs": [],
      "execution_count": null
    },
    {
      "cell_type": "code",
      "source": "X = df_iris[['sepal length', 'sepal width']].values\nprint(X.shape)\nX[:5]",
      "metadata": {
        "tags": [],
        "cell_id": "00007-b9616201-031f-40ca-9f85-19c27b41996c",
        "deepnote_cell_type": "code"
      },
      "outputs": [],
      "execution_count": null
    },
    {
      "cell_type": "code",
      "source": "#Split the data into train and test\nX_train, X_test, Y_train, Y_test = train_test_split(X, Y, train_size = 0.8, random_state = 42)",
      "metadata": {
        "tags": [],
        "cell_id": "00008-062f5f14-bd0d-46ff-8292-d010117b3c0a",
        "deepnote_cell_type": "code"
      },
      "outputs": [],
      "execution_count": null
    },
    {
      "cell_type": "code",
      "source": "scaling = StandardScaler() \nX_train = scaling.fit_transform(X_train)\nX_test = scaling.fit_transform(X_test)\n\nX_train[:5]",
      "metadata": {
        "tags": [],
        "cell_id": "00009-5adf79bf-f435-4a2c-a725-51ff7526f1c5",
        "deepnote_cell_type": "code"
      },
      "outputs": [],
      "execution_count": null
    },
    {
      "cell_type": "code",
      "source": "# Create Decision Tree classifer object\nclf = DecisionTreeClassifier()\n\n# Train Decision Tree Classifer\nclf = clf.fit(X_train,Y_train)\n\n#Predict the response for test dataset\nY_pred = clf.predict(X_test)",
      "metadata": {
        "tags": [],
        "cell_id": "00010-e4e30c5d-7f4b-44e6-b506-13db70cb2c58",
        "deepnote_cell_type": "code"
      },
      "outputs": [],
      "execution_count": null
    },
    {
      "cell_type": "code",
      "source": "print(\"Accuracy:\",metrics.accuracy_score(Y_test, Y_pred))",
      "metadata": {
        "tags": [],
        "cell_id": "00011-8e321b05-3922-4b0a-baad-a260839b925e",
        "deepnote_cell_type": "code"
      },
      "outputs": [],
      "execution_count": null
    },
    {
      "cell_type": "markdown",
      "source": "<a style='text-decoration:none;line-height:16px;display:flex;color:#5B5B62;padding:10px;justify-content:end;' href='https://deepnote.com?utm_source=created-in-deepnote-cell&projectId=6c28b595-5f74-4b59-965a-54b1f3dd0300' target=\"_blank\">\n<img alt='Created in deepnote.com' style='display:inline;max-height:16px;margin:0px;margin-right:7.5px;' src='data:image/svg+xml;base64,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' > </img>\nCreated in <span style='font-weight:600;margin-left:4px;'>Deepnote</span></a>",
      "metadata": {
        "tags": [],
        "created_in_deepnote_cell": true,
        "deepnote_cell_type": "markdown"
      }
    }
  ],
  "nbformat": 4,
  "nbformat_minor": 2,
  "metadata": {
    "orig_nbformat": 2,
    "deepnote": {
      "is_reactive": false
    },
    "deepnote_notebook_id": "62659f93-b095-43c6-9858-a4ee0490ebc6",
    "deepnote_execution_queue": []
  }
}