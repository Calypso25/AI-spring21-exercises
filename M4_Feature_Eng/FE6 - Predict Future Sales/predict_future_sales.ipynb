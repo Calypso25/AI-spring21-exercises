{
 "cells": [
  {
   "cell_type": "code",
   "metadata": {
    "tags": [],
    "cell_id": "00000-d6d6b847-f31e-4a14-8000-2c92dc46a182",
    "deepnote_to_be_reexecuted": false,
    "source_hash": "505561f9",
    "execution_start": 1620652701011,
    "execution_millis": 479,
    "deepnote_cell_type": "code"
   },
   "source": "import pandas as pd\nimport numpy as np\nimport matplotlib.pyplot as plt ",
   "execution_count": null,
   "outputs": []
  },
  {
   "cell_type": "code",
   "metadata": {
    "tags": [],
    "cell_id": "00001-739dc434-bceb-4bb3-847f-62390905014c",
    "deepnote_to_be_reexecuted": false,
    "source_hash": "aee3d4aa",
    "execution_start": 1620652703686,
    "execution_millis": 2229,
    "deepnote_cell_type": "code"
   },
   "source": "df_train = pd.read_csv('sales_train.csv')\ndf_test = pd.read_csv('test.csv')",
   "execution_count": null,
   "outputs": []
  },
  {
   "cell_type": "code",
   "metadata": {
    "tags": [],
    "cell_id": "00002-6e4bacef-42d8-4aaa-aef2-be28a0bf1906",
    "deepnote_to_be_reexecuted": false,
    "source_hash": "a2a15a3e",
    "execution_start": 1620652706531,
    "execution_millis": 81,
    "deepnote_cell_type": "code"
   },
   "source": "df_items = pd.read_csv('items.csv', index_col='item_id')\ndf_categories = pd.read_csv('categories.csv', index_col='category_id')\ndf_shops = pd.read_csv('shops.csv', index_col='shop_id')\ndf_test = pd.read_csv('test.csv')\n",
   "execution_count": null,
   "outputs": []
  },
  {
   "cell_type": "code",
   "metadata": {
    "tags": [],
    "cell_id": "00005-af65da8c-d250-464b-9882-67b2c2fc9d92",
    "deepnote_to_be_reexecuted": false,
    "source_hash": "3ccbf131",
    "execution_start": 1620652708276,
    "execution_millis": 17,
    "deepnote_cell_type": "code"
   },
   "source": "df_shops",
   "execution_count": null,
   "outputs": [
    {
     "output_type": "execute_result",
     "execution_count": 5,
     "data": {
      "application/vnd.deepnote.dataframe.v2+json": {
       "row_count": 60,
       "column_count": 1,
       "columns": [
        {
         "name": "shop_name",
         "dtype": "object",
         "stats": {
          "unique_count": 60,
          "nan_count": 0,
          "categories": [
           {
            "name": "! Yakutsk Ordzhonikidze, 56 francs",
            "count": 1
           },
           {
            "name": "! Yakutsk TC \"Central\" fran",
            "count": 1
           },
           {
            "name": "58 others",
            "count": 58
           }
          ]
         }
        },
        {
         "name": "_deepnote_index_column",
         "dtype": "int64"
        }
       ],
       "rows_top": [
        {
         "shop_name": "! Yakutsk Ordzhonikidze, 56 francs",
         "_deepnote_index_column": 0
        },
        {
         "shop_name": "! Yakutsk TC \"Central\" fran",
         "_deepnote_index_column": 1
        },
        {
         "shop_name": " Adygea TC \"Mega\"",
         "_deepnote_index_column": 2
        },
        {
         "shop_name": " Balashikha TC \"Oktyabr-Kinomir\"",
         "_deepnote_index_column": 3
        },
        {
         "shop_name": " Volga TC \"Volga Mall\"",
         "_deepnote_index_column": 4
        },
        {
         "shop_name": " Vologda SEC \"Marmelad\"",
         "_deepnote_index_column": 5
        },
        {
         "shop_name": " Voronezh (Plekhanovskaya, 13)",
         "_deepnote_index_column": 6
        },
        {
         "shop_name": " Voronezh SEC \"Maksimir\"",
         "_deepnote_index_column": 7
        },
        {
         "shop_name": " Voronezh SEC City-Park \"Grad\"",
         "_deepnote_index_column": 8
        },
        {
         "shop_name": " Outbound Trade",
         "_deepnote_index_column": 9
        },
        {
         "shop_name": " Zhukovsky st. Chkalov 39m?",
         "_deepnote_index_column": 10
        },
        {
         "shop_name": " Zhukovsky st. Chkalov 39m²",
         "_deepnote_index_column": 11
        },
        {
         "shop_name": " Internet-shop of emergency situations",
         "_deepnote_index_column": 12
        },
        {
         "shop_name": " Kazan TC \"Behetle\"",
         "_deepnote_index_column": 13
        },
        {
         "shop_name": " Kazan TC \"ParkHouse\" II",
         "_deepnote_index_column": 14
        },
        {
         "shop_name": " Kaluga TC \"XXI century\"",
         "_deepnote_index_column": 15
        },
        {
         "shop_name": " Kolomna TC \"Rio\"",
         "_deepnote_index_column": 16
        },
        {
         "shop_name": " Krasnoyarsk TC \"Vzletka Plaza\"",
         "_deepnote_index_column": 17
        },
        {
         "shop_name": " Krasnoyarsk TC \"June\"",
         "_deepnote_index_column": 18
        },
        {
         "shop_name": " Kursk TC \" Pushkinskiy \"",
         "_deepnote_index_column": 19
        },
        {
         "shop_name": " Moscow\" Sale \"",
         "_deepnote_index_column": 20
        },
        {
         "shop_name": " Moscow MTRC\" Afi Mall \"",
         "_deepnote_index_column": 21
        },
        {
         "shop_name": " Moscow Shop C21",
         "_deepnote_index_column": 22
        },
        {
         "shop_name": " Moscow TK\" Budenovskiy \"(pav.A2)",
         "_deepnote_index_column": 23
        },
        {
         "shop_name": " Moscow TK\" Budenovskiy \"(pav.K7)",
         "_deepnote_index_column": 24
        },
        {
         "shop_name": " Moscow TEC\" Atrium \"",
         "_deepnote_index_column": 25
        },
        {
         "shop_name": " Moscow TTS\" Areal \"(Belyaevo)",
         "_deepnote_index_column": 26
        },
        {
         "shop_name": " Moscow TC\" MEGA Belaya Dacha II \"",
         "_deepnote_index_column": 27
        },
        {
         "shop_name": " Moscow TC\" MEGA Teply Stan \"II",
         "_deepnote_index_column": 28
        },
        {
         "shop_name": " Moscow TC\" New Age \"(Novokosino)",
         "_deepnote_index_column": 29
        },
        {
         "shop_name": " Moscow TC\" Perlovsky \"",
         "_deepnote_index_column": 30
        },
        {
         "shop_name": " Moscow TC\" Semenovsky \"",
         "_deepnote_index_column": 31
        },
        {
         "shop_name": " Moscow TC\" Serebryany House \"",
         "_deepnote_index_column": 32
        },
        {
         "shop_name": " Mytishchi SEC\" XL-3 \"",
         "_deepnote_index_column": 33
        },
        {
         "shop_name": " N.Novgorod SEC\" RIO \"",
         "_deepnote_index_column": 34
        },
        {
         "shop_name": " N.Novgorod SEC\" Fantasy \"",
         "_deepnote_index_column": 35
        },
        {
         "shop_name": " Novosibirsk SEC\" Gallery Novosibirsk \"",
         "_deepnote_index_column": 36
        },
        {
         "shop_name": " Novosibirsk SEC\" Mega \"",
         "_deepnote_index_column": 37
        },
        {
         "shop_name": " Omsk TC\" Mega \"",
         "_deepnote_index_column": 38
        },
        {
         "shop_name": " RostovNaDonu SEC\" Megacenter Horizon",
         "_deepnote_index_column": 39
        },
        {
         "shop_name": " RostovNaDon Megatsentr Gorizont Ostrovnoy shopping mall",
         "_deepnote_index_column": 40
        },
        {
         "shop_name": " RostovNaDon Mega shopping center",
         "_deepnote_index_column": 41
        },
        {
         "shop_name": " St. Petersburg Nevsky Center shopping center",
         "_deepnote_index_column": 42
        },
        {
         "shop_name": " St. Petersburg Sennaya shopping center",
         "_deepnote_index_column": 43
        },
        {
         "shop_name": " Samara Melody shopping center",
         "_deepnote_index_column": 44
        },
        {
         "shop_name": " Samara ParkHouse shopping center",
         "_deepnote_index_column": 45
        },
        {
         "shop_name": " Sergiev Posad 7Ya shopping center",
         "_deepnote_index_column": 46
        },
        {
         "shop_name": " Surgut SEC \"City Mall\"",
         "_deepnote_index_column": 47
        },
        {
         "shop_name": " Tomsk SEC \"Emerald City\"",
         "_deepnote_index_column": 48
        },
        {
         "shop_name": " Tyumen SEC \"Crystal\"",
         "_deepnote_index_column": 49
        },
        {
         "shop_name": " Tyumen SEC \"Goodwin\"",
         "_deepnote_index_column": 50
        },
        {
         "shop_name": " Tyumen TC \"Green Coast \"",
         "_deepnote_index_column": 51
        },
        {
         "shop_name": " Ufa TC\" Central \"",
         "_deepnote_index_column": 52
        },
        {
         "shop_name": " Ufa TC\" Family \"2",
         "_deepnote_index_column": 53
        },
        {
         "shop_name": " Khimki TC\" Mega \"",
         "_deepnote_index_column": 54
        },
        {
         "shop_name": " Digital warehouse 1C-Online",
         "_deepnote_index_column": 55
        },
        {
         "shop_name": " Chekhov TC\" Karnaval \"",
         "_deepnote_index_column": 56
        },
        {
         "shop_name": " Yakutsk Ordzhonikidze, 56",
         "_deepnote_index_column": 57
        },
        {
         "shop_name": " Yakutsk TC\" Central \"",
         "_deepnote_index_column": 58
        },
        {
         "shop_name": " Yaroslavl TC\" Altair \"",
         "_deepnote_index_column": 59
        }
       ],
       "rows_bottom": null
      },
      "text/plain": "                                                 shop_name\nshop_id                                                   \n0                       ! Yakutsk Ordzhonikidze, 56 francs\n1                              ! Yakutsk TC \"Central\" fran\n2                                         Adygea TC \"Mega\"\n3                          Balashikha TC \"Oktyabr-Kinomir\"\n4                                    Volga TC \"Volga Mall\"\n5                                   Vologda SEC \"Marmelad\"\n6                            Voronezh (Plekhanovskaya, 13)\n7                                  Voronezh SEC \"Maksimir\"\n8                            Voronezh SEC City-Park \"Grad\"\n9                                           Outbound Trade\n10                              Zhukovsky st. Chkalov 39m?\n11                              Zhukovsky st. Chkalov 39m²\n12                   Internet-shop of emergency situations\n13                                      Kazan TC \"Behetle\"\n14                                 Kazan TC \"ParkHouse\" II\n15                                 Kaluga TC \"XXI century\"\n16                                        Kolomna TC \"Rio\"\n17                          Krasnoyarsk TC \"Vzletka Plaza\"\n18                                   Krasnoyarsk TC \"June\"\n19                                Kursk TC \" Pushkinskiy \"\n20                                          Moscow\" Sale \"\n21                                 Moscow MTRC\" Afi Mall \"\n22                                         Moscow Shop C21\n23                        Moscow TK\" Budenovskiy \"(pav.A2)\n24                        Moscow TK\" Budenovskiy \"(pav.K7)\n25                                    Moscow TEC\" Atrium \"\n26                           Moscow TTS\" Areal \"(Belyaevo)\n27                       Moscow TC\" MEGA Belaya Dacha II \"\n28                          Moscow TC\" MEGA Teply Stan \"II\n29                        Moscow TC\" New Age \"(Novokosino)\n30                                  Moscow TC\" Perlovsky \"\n31                                 Moscow TC\" Semenovsky \"\n32                           Moscow TC\" Serebryany House \"\n33                                   Mytishchi SEC\" XL-3 \"\n34                                   N.Novgorod SEC\" RIO \"\n35                               N.Novgorod SEC\" Fantasy \"\n36                  Novosibirsk SEC\" Gallery Novosibirsk \"\n37                                 Novosibirsk SEC\" Mega \"\n38                                         Omsk TC\" Mega \"\n39                    RostovNaDonu SEC\" Megacenter Horizon\n40        RostovNaDon Megatsentr Gorizont Ostrovnoy sho...\n41                        RostovNaDon Mega shopping center\n42            St. Petersburg Nevsky Center shopping center\n43                  St. Petersburg Sennaya shopping center\n44                           Samara Melody shopping center\n45                        Samara ParkHouse shopping center\n46                       Sergiev Posad 7Ya shopping center\n47                                  Surgut SEC \"City Mall\"\n48                                Tomsk SEC \"Emerald City\"\n49                                    Tyumen SEC \"Crystal\"\n50                                    Tyumen SEC \"Goodwin\"\n51                                Tyumen TC \"Green Coast \"\n52                                       Ufa TC\" Central \"\n53                                       Ufa TC\" Family \"2\n54                                       Khimki TC\" Mega \"\n55                             Digital warehouse 1C-Online\n56                                  Chekhov TC\" Karnaval \"\n57                               Yakutsk Ordzhonikidze, 56\n58                                   Yakutsk TC\" Central \"\n59                                  Yaroslavl TC\" Altair \"",
      "text/html": "<div>\n<style scoped>\n    .dataframe tbody tr th:only-of-type {\n        vertical-align: middle;\n    }\n\n    .dataframe tbody tr th {\n        vertical-align: top;\n    }\n\n    .dataframe thead th {\n        text-align: right;\n    }\n</style>\n<table border=\"1\" class=\"dataframe\">\n  <thead>\n    <tr style=\"text-align: right;\">\n      <th></th>\n      <th>shop_name</th>\n    </tr>\n    <tr>\n      <th>shop_id</th>\n      <th></th>\n    </tr>\n  </thead>\n  <tbody>\n    <tr>\n      <th>0</th>\n      <td>! Yakutsk Ordzhonikidze, 56 francs</td>\n    </tr>\n    <tr>\n      <th>1</th>\n      <td>! Yakutsk TC \"Central\" fran</td>\n    </tr>\n    <tr>\n      <th>2</th>\n      <td>Adygea TC \"Mega\"</td>\n    </tr>\n    <tr>\n      <th>3</th>\n      <td>Balashikha TC \"Oktyabr-Kinomir\"</td>\n    </tr>\n    <tr>\n      <th>4</th>\n      <td>Volga TC \"Volga Mall\"</td>\n    </tr>\n    <tr>\n      <th>5</th>\n      <td>Vologda SEC \"Marmelad\"</td>\n    </tr>\n    <tr>\n      <th>6</th>\n      <td>Voronezh (Plekhanovskaya, 13)</td>\n    </tr>\n    <tr>\n      <th>7</th>\n      <td>Voronezh SEC \"Maksimir\"</td>\n    </tr>\n    <tr>\n      <th>8</th>\n      <td>Voronezh SEC City-Park \"Grad\"</td>\n    </tr>\n    <tr>\n      <th>9</th>\n      <td>Outbound Trade</td>\n    </tr>\n    <tr>\n      <th>10</th>\n      <td>Zhukovsky st. Chkalov 39m?</td>\n    </tr>\n    <tr>\n      <th>11</th>\n      <td>Zhukovsky st. Chkalov 39m²</td>\n    </tr>\n    <tr>\n      <th>12</th>\n      <td>Internet-shop of emergency situations</td>\n    </tr>\n    <tr>\n      <th>13</th>\n      <td>Kazan TC \"Behetle\"</td>\n    </tr>\n    <tr>\n      <th>14</th>\n      <td>Kazan TC \"ParkHouse\" II</td>\n    </tr>\n    <tr>\n      <th>15</th>\n      <td>Kaluga TC \"XXI century\"</td>\n    </tr>\n    <tr>\n      <th>16</th>\n      <td>Kolomna TC \"Rio\"</td>\n    </tr>\n    <tr>\n      <th>17</th>\n      <td>Krasnoyarsk TC \"Vzletka Plaza\"</td>\n    </tr>\n    <tr>\n      <th>18</th>\n      <td>Krasnoyarsk TC \"June\"</td>\n    </tr>\n    <tr>\n      <th>19</th>\n      <td>Kursk TC \" Pushkinskiy \"</td>\n    </tr>\n    <tr>\n      <th>20</th>\n      <td>Moscow\" Sale \"</td>\n    </tr>\n    <tr>\n      <th>21</th>\n      <td>Moscow MTRC\" Afi Mall \"</td>\n    </tr>\n    <tr>\n      <th>22</th>\n      <td>Moscow Shop C21</td>\n    </tr>\n    <tr>\n      <th>23</th>\n      <td>Moscow TK\" Budenovskiy \"(pav.A2)</td>\n    </tr>\n    <tr>\n      <th>24</th>\n      <td>Moscow TK\" Budenovskiy \"(pav.K7)</td>\n    </tr>\n    <tr>\n      <th>25</th>\n      <td>Moscow TEC\" Atrium \"</td>\n    </tr>\n    <tr>\n      <th>26</th>\n      <td>Moscow TTS\" Areal \"(Belyaevo)</td>\n    </tr>\n    <tr>\n      <th>27</th>\n      <td>Moscow TC\" MEGA Belaya Dacha II \"</td>\n    </tr>\n    <tr>\n      <th>28</th>\n      <td>Moscow TC\" MEGA Teply Stan \"II</td>\n    </tr>\n    <tr>\n      <th>29</th>\n      <td>Moscow TC\" New Age \"(Novokosino)</td>\n    </tr>\n    <tr>\n      <th>30</th>\n      <td>Moscow TC\" Perlovsky \"</td>\n    </tr>\n    <tr>\n      <th>31</th>\n      <td>Moscow TC\" Semenovsky \"</td>\n    </tr>\n    <tr>\n      <th>32</th>\n      <td>Moscow TC\" Serebryany House \"</td>\n    </tr>\n    <tr>\n      <th>33</th>\n      <td>Mytishchi SEC\" XL-3 \"</td>\n    </tr>\n    <tr>\n      <th>34</th>\n      <td>N.Novgorod SEC\" RIO \"</td>\n    </tr>\n    <tr>\n      <th>35</th>\n      <td>N.Novgorod SEC\" Fantasy \"</td>\n    </tr>\n    <tr>\n      <th>36</th>\n      <td>Novosibirsk SEC\" Gallery Novosibirsk \"</td>\n    </tr>\n    <tr>\n      <th>37</th>\n      <td>Novosibirsk SEC\" Mega \"</td>\n    </tr>\n    <tr>\n      <th>38</th>\n      <td>Omsk TC\" Mega \"</td>\n    </tr>\n    <tr>\n      <th>39</th>\n      <td>RostovNaDonu SEC\" Megacenter Horizon</td>\n    </tr>\n    <tr>\n      <th>40</th>\n      <td>RostovNaDon Megatsentr Gorizont Ostrovnoy sho...</td>\n    </tr>\n    <tr>\n      <th>41</th>\n      <td>RostovNaDon Mega shopping center</td>\n    </tr>\n    <tr>\n      <th>42</th>\n      <td>St. Petersburg Nevsky Center shopping center</td>\n    </tr>\n    <tr>\n      <th>43</th>\n      <td>St. Petersburg Sennaya shopping center</td>\n    </tr>\n    <tr>\n      <th>44</th>\n      <td>Samara Melody shopping center</td>\n    </tr>\n    <tr>\n      <th>45</th>\n      <td>Samara ParkHouse shopping center</td>\n    </tr>\n    <tr>\n      <th>46</th>\n      <td>Sergiev Posad 7Ya shopping center</td>\n    </tr>\n    <tr>\n      <th>47</th>\n      <td>Surgut SEC \"City Mall\"</td>\n    </tr>\n    <tr>\n      <th>48</th>\n      <td>Tomsk SEC \"Emerald City\"</td>\n    </tr>\n    <tr>\n      <th>49</th>\n      <td>Tyumen SEC \"Crystal\"</td>\n    </tr>\n    <tr>\n      <th>50</th>\n      <td>Tyumen SEC \"Goodwin\"</td>\n    </tr>\n    <tr>\n      <th>51</th>\n      <td>Tyumen TC \"Green Coast \"</td>\n    </tr>\n    <tr>\n      <th>52</th>\n      <td>Ufa TC\" Central \"</td>\n    </tr>\n    <tr>\n      <th>53</th>\n      <td>Ufa TC\" Family \"2</td>\n    </tr>\n    <tr>\n      <th>54</th>\n      <td>Khimki TC\" Mega \"</td>\n    </tr>\n    <tr>\n      <th>55</th>\n      <td>Digital warehouse 1C-Online</td>\n    </tr>\n    <tr>\n      <th>56</th>\n      <td>Chekhov TC\" Karnaval \"</td>\n    </tr>\n    <tr>\n      <th>57</th>\n      <td>Yakutsk Ordzhonikidze, 56</td>\n    </tr>\n    <tr>\n      <th>58</th>\n      <td>Yakutsk TC\" Central \"</td>\n    </tr>\n    <tr>\n      <th>59</th>\n      <td>Yaroslavl TC\" Altair \"</td>\n    </tr>\n  </tbody>\n</table>\n</div>"
     },
     "metadata": {}
    }
   ]
  },
  {
   "cell_type": "code",
   "metadata": {
    "tags": [],
    "cell_id": "00006-c4bfa06c-6ec7-4b15-9081-ba07a4f87f31",
    "deepnote_to_be_reexecuted": false,
    "source_hash": "5b9c39d3",
    "execution_start": 1620652711807,
    "execution_millis": 33,
    "deepnote_cell_type": "code"
   },
   "source": "df_items.describe()\n# df_categories.describe()\n# df_shops.describe()",
   "execution_count": null,
   "outputs": [
    {
     "output_type": "execute_result",
     "execution_count": 6,
     "data": {
      "application/vnd.deepnote.dataframe.v2+json": {
       "row_count": 8,
       "column_count": 1,
       "columns": [
        {
         "name": "category_id",
         "dtype": "float64",
         "stats": {
          "unique_count": 8,
          "nan_count": 0,
          "min": "0.0",
          "max": "22170.0",
          "histogram": [
           {
            "bin_start": 0,
            "bin_end": 2217,
            "count": 7
           },
           {
            "bin_start": 2217,
            "bin_end": 4434,
            "count": 0
           },
           {
            "bin_start": 4434,
            "bin_end": 6651,
            "count": 0
           },
           {
            "bin_start": 6651,
            "bin_end": 8868,
            "count": 0
           },
           {
            "bin_start": 8868,
            "bin_end": 11085,
            "count": 0
           },
           {
            "bin_start": 11085,
            "bin_end": 13302,
            "count": 0
           },
           {
            "bin_start": 13302,
            "bin_end": 15519,
            "count": 0
           },
           {
            "bin_start": 15519,
            "bin_end": 17736,
            "count": 0
           },
           {
            "bin_start": 17736,
            "bin_end": 19953,
            "count": 0
           },
           {
            "bin_start": 19953,
            "bin_end": 22170,
            "count": 1
           }
          ]
         }
        },
        {
         "name": "_deepnote_index_column",
         "dtype": "object"
        }
       ],
       "rows_top": [
        {
         "category_id": 22170,
         "_deepnote_index_column": "count"
        },
        {
         "category_id": 46.290753270184936,
         "_deepnote_index_column": "mean"
        },
        {
         "category_id": 15.941486282896323,
         "_deepnote_index_column": "std"
        },
        {
         "category_id": 0,
         "_deepnote_index_column": "min"
        },
        {
         "category_id": 37,
         "_deepnote_index_column": "25%"
        },
        {
         "category_id": 40,
         "_deepnote_index_column": "50%"
        },
        {
         "category_id": 58,
         "_deepnote_index_column": "75%"
        },
        {
         "category_id": 83,
         "_deepnote_index_column": "max"
        }
       ],
       "rows_bottom": null
      },
      "text/plain": "        category_id\ncount  22170.000000\nmean      46.290753\nstd       15.941486\nmin        0.000000\n25%       37.000000\n50%       40.000000\n75%       58.000000\nmax       83.000000",
      "text/html": "<div>\n<style scoped>\n    .dataframe tbody tr th:only-of-type {\n        vertical-align: middle;\n    }\n\n    .dataframe tbody tr th {\n        vertical-align: top;\n    }\n\n    .dataframe thead th {\n        text-align: right;\n    }\n</style>\n<table border=\"1\" class=\"dataframe\">\n  <thead>\n    <tr style=\"text-align: right;\">\n      <th></th>\n      <th>category_id</th>\n    </tr>\n  </thead>\n  <tbody>\n    <tr>\n      <th>count</th>\n      <td>22170.000000</td>\n    </tr>\n    <tr>\n      <th>mean</th>\n      <td>46.290753</td>\n    </tr>\n    <tr>\n      <th>std</th>\n      <td>15.941486</td>\n    </tr>\n    <tr>\n      <th>min</th>\n      <td>0.000000</td>\n    </tr>\n    <tr>\n      <th>25%</th>\n      <td>37.000000</td>\n    </tr>\n    <tr>\n      <th>50%</th>\n      <td>40.000000</td>\n    </tr>\n    <tr>\n      <th>75%</th>\n      <td>58.000000</td>\n    </tr>\n    <tr>\n      <th>max</th>\n      <td>83.000000</td>\n    </tr>\n  </tbody>\n</table>\n</div>"
     },
     "metadata": {}
    }
   ]
  },
  {
   "cell_type": "code",
   "metadata": {
    "tags": [],
    "cell_id": "00006-ddcf84af-7fb1-4957-8080-5dac04d24c76",
    "deepnote_to_be_reexecuted": false,
    "source_hash": "fd7eec98",
    "execution_start": 1620652714606,
    "execution_millis": 21,
    "deepnote_cell_type": "code"
   },
   "source": "df_categories.describe()\n# df_shops.describe()",
   "execution_count": null,
   "outputs": [
    {
     "output_type": "execute_result",
     "execution_count": 7,
     "data": {
      "application/vnd.deepnote.dataframe.v2+json": {
       "row_count": 4,
       "column_count": 1,
       "columns": [
        {
         "name": "category_name",
         "dtype": "object",
         "stats": {
          "unique_count": 3,
          "nan_count": 0,
          "categories": [
           {
            "name": "84",
            "count": 2
           },
           {
            "name": " Gifts - Attributes",
            "count": 1
           },
           {
            "name": "1",
            "count": 1
           }
          ]
         }
        },
        {
         "name": "_deepnote_index_column",
         "dtype": "object"
        }
       ],
       "rows_top": [
        {
         "category_name": "84",
         "_deepnote_index_column": "count"
        },
        {
         "category_name": "84",
         "_deepnote_index_column": "unique"
        },
        {
         "category_name": " Gifts - Attributes",
         "_deepnote_index_column": "top"
        },
        {
         "category_name": "1",
         "_deepnote_index_column": "freq"
        }
       ],
       "rows_bottom": null
      },
      "text/plain": "              category_name\ncount                    84\nunique                   84\ntop      Gifts - Attributes\nfreq                      1",
      "text/html": "<div>\n<style scoped>\n    .dataframe tbody tr th:only-of-type {\n        vertical-align: middle;\n    }\n\n    .dataframe tbody tr th {\n        vertical-align: top;\n    }\n\n    .dataframe thead th {\n        text-align: right;\n    }\n</style>\n<table border=\"1\" class=\"dataframe\">\n  <thead>\n    <tr style=\"text-align: right;\">\n      <th></th>\n      <th>category_name</th>\n    </tr>\n  </thead>\n  <tbody>\n    <tr>\n      <th>count</th>\n      <td>84</td>\n    </tr>\n    <tr>\n      <th>unique</th>\n      <td>84</td>\n    </tr>\n    <tr>\n      <th>top</th>\n      <td>Gifts - Attributes</td>\n    </tr>\n    <tr>\n      <th>freq</th>\n      <td>1</td>\n    </tr>\n  </tbody>\n</table>\n</div>"
     },
     "metadata": {}
    }
   ]
  },
  {
   "cell_type": "code",
   "metadata": {
    "tags": [],
    "cell_id": "00006-d2e17782-fa77-4923-845d-fd0c8d3f20ed",
    "deepnote_to_be_reexecuted": false,
    "source_hash": "3232cbdc",
    "execution_start": 1620652717322,
    "execution_millis": 5,
    "deepnote_cell_type": "code"
   },
   "source": "df_shops.describe()",
   "execution_count": null,
   "outputs": [
    {
     "output_type": "execute_result",
     "execution_count": 8,
     "data": {
      "application/vnd.deepnote.dataframe.v2+json": {
       "row_count": 4,
       "column_count": 1,
       "columns": [
        {
         "name": "shop_name",
         "dtype": "object",
         "stats": {
          "unique_count": 3,
          "nan_count": 0,
          "categories": [
           {
            "name": "60",
            "count": 2
           },
           {
            "name": " Sergiev Posad 7Ya shopping center",
            "count": 1
           },
           {
            "name": "1",
            "count": 1
           }
          ]
         }
        },
        {
         "name": "_deepnote_index_column",
         "dtype": "object"
        }
       ],
       "rows_top": [
        {
         "shop_name": "60",
         "_deepnote_index_column": "count"
        },
        {
         "shop_name": "60",
         "_deepnote_index_column": "unique"
        },
        {
         "shop_name": " Sergiev Posad 7Ya shopping center",
         "_deepnote_index_column": "top"
        },
        {
         "shop_name": "1",
         "_deepnote_index_column": "freq"
        }
       ],
       "rows_bottom": null
      },
      "text/plain": "                                 shop_name\ncount                                   60\nunique                                  60\ntop      Sergiev Posad 7Ya shopping center\nfreq                                     1",
      "text/html": "<div>\n<style scoped>\n    .dataframe tbody tr th:only-of-type {\n        vertical-align: middle;\n    }\n\n    .dataframe tbody tr th {\n        vertical-align: top;\n    }\n\n    .dataframe thead th {\n        text-align: right;\n    }\n</style>\n<table border=\"1\" class=\"dataframe\">\n  <thead>\n    <tr style=\"text-align: right;\">\n      <th></th>\n      <th>shop_name</th>\n    </tr>\n  </thead>\n  <tbody>\n    <tr>\n      <th>count</th>\n      <td>60</td>\n    </tr>\n    <tr>\n      <th>unique</th>\n      <td>60</td>\n    </tr>\n    <tr>\n      <th>top</th>\n      <td>Sergiev Posad 7Ya shopping center</td>\n    </tr>\n    <tr>\n      <th>freq</th>\n      <td>1</td>\n    </tr>\n  </tbody>\n</table>\n</div>"
     },
     "metadata": {}
    }
   ]
  },
  {
   "cell_type": "code",
   "metadata": {
    "tags": [],
    "cell_id": "00009-bc09872a-e256-40fa-b9c8-fa83b19a8004",
    "deepnote_to_be_reexecuted": false,
    "source_hash": "d228fb43",
    "execution_start": 1620652719483,
    "execution_millis": 566,
    "deepnote_cell_type": "code"
   },
   "source": "df_train.corr()[\"item_price\"].abs().sort_values().plot.barh();",
   "execution_count": null,
   "outputs": [
    {
     "data": {
      "text/plain": "<Figure size 432x288 with 1 Axes>",
      "image/png": "[encoded data removed]"
     },
     "metadata": {
      "needs_background": "light",
      "image/png": {
       "width": 437,
       "height": 248
      }
     },
     "output_type": "display_data"
    }
   ]
  },
  {
   "cell_type": "code",
   "metadata": {
    "tags": [],
    "cell_id": "00013-00e06012-55d1-4ee6-b432-b1a648048123",
    "deepnote_to_be_reexecuted": false,
    "source_hash": "5e2a9c26",
    "execution_start": 1620652722869,
    "execution_millis": 10,
    "deepnote_cell_type": "code"
   },
   "source": "df_train.head()",
   "execution_count": null,
   "outputs": [
    {
     "output_type": "execute_result",
     "execution_count": 11,
     "data": {
      "application/vnd.deepnote.dataframe.v2+json": {
       "row_count": 5,
       "column_count": 6,
       "columns": [
        {
         "name": "date",
         "dtype": "object",
         "stats": {
          "unique_count": 5,
          "nan_count": 0,
          "categories": [
           {
            "name": "02.01.2013",
            "count": 1
           },
           {
            "name": "03.01.2013",
            "count": 1
           },
           {
            "name": "3 others",
            "count": 3
           }
          ]
         }
        },
        {
         "name": "date_block_num",
         "dtype": "int64",
         "stats": {
          "unique_count": 1,
          "nan_count": 0,
          "min": "0",
          "max": "0",
          "histogram": [
           {
            "bin_start": -0.5,
            "bin_end": -0.4,
            "count": 0
           },
           {
            "bin_start": -0.4,
            "bin_end": -0.3,
            "count": 0
           },
           {
            "bin_start": -0.3,
            "bin_end": -0.19999999999999996,
            "count": 0
           },
           {
            "bin_start": -0.19999999999999996,
            "bin_end": -0.09999999999999998,
            "count": 0
           },
           {
            "bin_start": -0.09999999999999998,
            "bin_end": 0,
            "count": 0
           },
           {
            "bin_start": 0,
            "bin_end": 0.10000000000000009,
            "count": 5
           },
           {
            "bin_start": 0.10000000000000009,
            "bin_end": 0.20000000000000007,
            "count": 0
           },
           {
            "bin_start": 0.20000000000000007,
            "bin_end": 0.30000000000000004,
            "count": 0
           },
           {
            "bin_start": 0.30000000000000004,
            "bin_end": 0.4,
            "count": 0
           },
           {
            "bin_start": 0.4,
            "bin_end": 0.5,
            "count": 0
           }
          ]
         }
        },
        {
         "name": "shop_id",
         "dtype": "int64",
         "stats": {
          "unique_count": 2,
          "nan_count": 0,
          "min": "25",
          "max": "59",
          "histogram": [
           {
            "bin_start": 25,
            "bin_end": 28.4,
            "count": 4
           },
           {
            "bin_start": 28.4,
            "bin_end": 31.8,
            "count": 0
           },
           {
            "bin_start": 31.8,
            "bin_end": 35.2,
            "count": 0
           },
           {
            "bin_start": 35.2,
            "bin_end": 38.6,
            "count": 0
           },
           {
            "bin_start": 38.6,
            "bin_end": 42,
            "count": 0
           },
           {
            "bin_start": 42,
            "bin_end": 45.4,
            "count": 0
           },
           {
            "bin_start": 45.4,
            "bin_end": 48.8,
            "count": 0
           },
           {
            "bin_start": 48.8,
            "bin_end": 52.2,
            "count": 0
           },
           {
            "bin_start": 52.2,
            "bin_end": 55.599999999999994,
            "count": 0
           },
           {
            "bin_start": 55.599999999999994,
            "bin_end": 59,
            "count": 1
           }
          ]
         }
        },
        {
         "name": "item_id",
         "dtype": "int64",
         "stats": {
          "unique_count": 4,
          "nan_count": 0,
          "min": "2552",
          "max": "22154",
          "histogram": [
           {
            "bin_start": 2552,
            "bin_end": 4512.2,
            "count": 4
           },
           {
            "bin_start": 4512.2,
            "bin_end": 6472.4,
            "count": 0
           },
           {
            "bin_start": 6472.4,
            "bin_end": 8432.6,
            "count": 0
           },
           {
            "bin_start": 8432.6,
            "bin_end": 10392.8,
            "count": 0
           },
           {
            "bin_start": 10392.8,
            "bin_end": 12353,
            "count": 0
           },
           {
            "bin_start": 12353,
            "bin_end": 14313.2,
            "count": 0
           },
           {
            "bin_start": 14313.2,
            "bin_end": 16273.4,
            "count": 0
           },
           {
            "bin_start": 16273.4,
            "bin_end": 18233.6,
            "count": 0
           },
           {
            "bin_start": 18233.6,
            "bin_end": 20193.8,
            "count": 0
           },
           {
            "bin_start": 20193.8,
            "bin_end": 22154,
            "count": 1
           }
          ]
         }
        },
        {
         "name": "item_price",
         "dtype": "float64",
         "stats": {
          "unique_count": 4,
          "nan_count": 0,
          "min": "899.0",
          "max": "1709.05",
          "histogram": [
           {
            "bin_start": 899,
            "bin_end": 980.005,
            "count": 2
           },
           {
            "bin_start": 980.005,
            "bin_end": 1061.01,
            "count": 1
           },
           {
            "bin_start": 1061.01,
            "bin_end": 1142.0149999999999,
            "count": 1
           },
           {
            "bin_start": 1142.0149999999999,
            "bin_end": 1223.02,
            "count": 0
           },
           {
            "bin_start": 1223.02,
            "bin_end": 1304.025,
            "count": 0
           },
           {
            "bin_start": 1304.025,
            "bin_end": 1385.03,
            "count": 0
           },
           {
            "bin_start": 1385.03,
            "bin_end": 1466.0349999999999,
            "count": 0
           },
           {
            "bin_start": 1466.0349999999999,
            "bin_end": 1547.04,
            "count": 0
           },
           {
            "bin_start": 1547.04,
            "bin_end": 1628.045,
            "count": 0
           },
           {
            "bin_start": 1628.045,
            "bin_end": 1709.05,
            "count": 1
           }
          ]
         }
        },
        {
         "name": "item_cnt_day",
         "dtype": "float64",
         "stats": {
          "unique_count": 2,
          "nan_count": 0,
          "min": "-1.0",
          "max": "1.0",
          "histogram": [
           {
            "bin_start": -1,
            "bin_end": -0.8,
            "count": 1
           },
           {
            "bin_start": -0.8,
            "bin_end": -0.6,
            "count": 0
           },
           {
            "bin_start": -0.6,
            "bin_end": -0.3999999999999999,
            "count": 0
           },
           {
            "bin_start": -0.3999999999999999,
            "bin_end": -0.19999999999999996,
            "count": 0
           },
           {
            "bin_start": -0.19999999999999996,
            "bin_end": 0,
            "count": 0
           },
           {
            "bin_start": 0,
            "bin_end": 0.20000000000000018,
            "count": 0
           },
           {
            "bin_start": 0.20000000000000018,
            "bin_end": 0.40000000000000013,
            "count": 0
           },
           {
            "bin_start": 0.40000000000000013,
            "bin_end": 0.6000000000000001,
            "count": 0
           },
           {
            "bin_start": 0.6000000000000001,
            "bin_end": 0.8,
            "count": 0
           },
           {
            "bin_start": 0.8,
            "bin_end": 1,
            "count": 4
           }
          ]
         }
        },
        {
         "name": "_deepnote_index_column",
         "dtype": "int64"
        }
       ],
       "rows_top": [
        {
         "date": "02.01.2013",
         "date_block_num": 0,
         "shop_id": 59,
         "item_id": 22154,
         "item_price": 999,
         "item_cnt_day": 1,
         "_deepnote_index_column": 0
        },
        {
         "date": "03.01.2013",
         "date_block_num": 0,
         "shop_id": 25,
         "item_id": 2552,
         "item_price": 899,
         "item_cnt_day": 1,
         "_deepnote_index_column": 1
        },
        {
         "date": "05.01.2013",
         "date_block_num": 0,
         "shop_id": 25,
         "item_id": 2552,
         "item_price": 899,
         "item_cnt_day": -1,
         "_deepnote_index_column": 2
        },
        {
         "date": "06.01.2013",
         "date_block_num": 0,
         "shop_id": 25,
         "item_id": 2554,
         "item_price": 1709.05,
         "item_cnt_day": 1,
         "_deepnote_index_column": 3
        },
        {
         "date": "15.01.2013",
         "date_block_num": 0,
         "shop_id": 25,
         "item_id": 2555,
         "item_price": 1099,
         "item_cnt_day": 1,
         "_deepnote_index_column": 4
        }
       ],
       "rows_bottom": null
      },
      "text/plain": "         date  date_block_num  shop_id  item_id  item_price  item_cnt_day\n0  02.01.2013               0       59    22154      999.00           1.0\n1  03.01.2013               0       25     2552      899.00           1.0\n2  05.01.2013               0       25     2552      899.00          -1.0\n3  06.01.2013               0       25     2554     1709.05           1.0\n4  15.01.2013               0       25     2555     1099.00           1.0",
      "text/html": "<div>\n<style scoped>\n    .dataframe tbody tr th:only-of-type {\n        vertical-align: middle;\n    }\n\n    .dataframe tbody tr th {\n        vertical-align: top;\n    }\n\n    .dataframe thead th {\n        text-align: right;\n    }\n</style>\n<table border=\"1\" class=\"dataframe\">\n  <thead>\n    <tr style=\"text-align: right;\">\n      <th></th>\n      <th>date</th>\n      <th>date_block_num</th>\n      <th>shop_id</th>\n      <th>item_id</th>\n      <th>item_price</th>\n      <th>item_cnt_day</th>\n    </tr>\n  </thead>\n  <tbody>\n    <tr>\n      <th>0</th>\n      <td>02.01.2013</td>\n      <td>0</td>\n      <td>59</td>\n      <td>22154</td>\n      <td>999.00</td>\n      <td>1.0</td>\n    </tr>\n    <tr>\n      <th>1</th>\n      <td>03.01.2013</td>\n      <td>0</td>\n      <td>25</td>\n      <td>2552</td>\n      <td>899.00</td>\n      <td>1.0</td>\n    </tr>\n    <tr>\n      <th>2</th>\n      <td>05.01.2013</td>\n      <td>0</td>\n      <td>25</td>\n      <td>2552</td>\n      <td>899.00</td>\n      <td>-1.0</td>\n    </tr>\n    <tr>\n      <th>3</th>\n      <td>06.01.2013</td>\n      <td>0</td>\n      <td>25</td>\n      <td>2554</td>\n      <td>1709.05</td>\n      <td>1.0</td>\n    </tr>\n    <tr>\n      <th>4</th>\n      <td>15.01.2013</td>\n      <td>0</td>\n      <td>25</td>\n      <td>2555</td>\n      <td>1099.00</td>\n      <td>1.0</td>\n    </tr>\n  </tbody>\n</table>\n</div>"
     },
     "metadata": {}
    }
   ]
  },
  {
   "cell_type": "code",
   "metadata": {
    "tags": [],
    "cell_id": "00013-c34af31e-3c80-4c92-a979-44b352b7b0ed",
    "deepnote_to_be_reexecuted": false,
    "source_hash": "dc62752b",
    "execution_start": 1620652725504,
    "execution_millis": 8,
    "deepnote_cell_type": "code"
   },
   "source": "df_train.dtypes",
   "execution_count": null,
   "outputs": [
    {
     "output_type": "execute_result",
     "execution_count": 12,
     "data": {
      "text/plain": "date               object\ndate_block_num      int64\nshop_id             int64\nitem_id             int64\nitem_price        float64\nitem_cnt_day      float64\ndtype: object"
     },
     "metadata": {}
    }
   ]
  },
  {
   "cell_type": "code",
   "metadata": {
    "tags": [],
    "cell_id": "00010-eb21ceee-0779-4a76-9273-640c5f96b720",
    "deepnote_to_be_reexecuted": false,
    "source_hash": "849ce5a8",
    "execution_start": 1620652727756,
    "execution_millis": 443,
    "deepnote_cell_type": "code"
   },
   "source": "df_train.describe()",
   "execution_count": null,
   "outputs": [
    {
     "output_type": "execute_result",
     "execution_count": 13,
     "data": {
      "application/vnd.deepnote.dataframe.v2+json": {
       "row_count": 8,
       "column_count": 5,
       "columns": [
        {
         "name": "date_block_num",
         "dtype": "float64",
         "stats": {
          "unique_count": 8,
          "nan_count": 0,
          "min": "0.0",
          "max": "2935849.0",
          "histogram": [
           {
            "bin_start": 0,
            "bin_end": 293584.9,
            "count": 7
           },
           {
            "bin_start": 293584.9,
            "bin_end": 587169.8,
            "count": 0
           },
           {
            "bin_start": 587169.8,
            "bin_end": 880754.7000000001,
            "count": 0
           },
           {
            "bin_start": 880754.7000000001,
            "bin_end": 1174339.6,
            "count": 0
           },
           {
            "bin_start": 1174339.6,
            "bin_end": 1467924.5,
            "count": 0
           },
           {
            "bin_start": 1467924.5,
            "bin_end": 1761509.4000000001,
            "count": 0
           },
           {
            "bin_start": 1761509.4000000001,
            "bin_end": 2055094.3000000003,
            "count": 0
           },
           {
            "bin_start": 2055094.3000000003,
            "bin_end": 2348679.2,
            "count": 0
           },
           {
            "bin_start": 2348679.2,
            "bin_end": 2642264.1,
            "count": 0
           },
           {
            "bin_start": 2642264.1,
            "bin_end": 2935849,
            "count": 1
           }
          ]
         }
        },
        {
         "name": "shop_id",
         "dtype": "float64",
         "stats": {
          "unique_count": 8,
          "nan_count": 0,
          "min": "0.0",
          "max": "2935849.0",
          "histogram": [
           {
            "bin_start": 0,
            "bin_end": 293584.9,
            "count": 7
           },
           {
            "bin_start": 293584.9,
            "bin_end": 587169.8,
            "count": 0
           },
           {
            "bin_start": 587169.8,
            "bin_end": 880754.7000000001,
            "count": 0
           },
           {
            "bin_start": 880754.7000000001,
            "bin_end": 1174339.6,
            "count": 0
           },
           {
            "bin_start": 1174339.6,
            "bin_end": 1467924.5,
            "count": 0
           },
           {
            "bin_start": 1467924.5,
            "bin_end": 1761509.4000000001,
            "count": 0
           },
           {
            "bin_start": 1761509.4000000001,
            "bin_end": 2055094.3000000003,
            "count": 0
           },
           {
            "bin_start": 2055094.3000000003,
            "bin_end": 2348679.2,
            "count": 0
           },
           {
            "bin_start": 2348679.2,
            "bin_end": 2642264.1,
            "count": 0
           },
           {
            "bin_start": 2642264.1,
            "bin_end": 2935849,
            "count": 1
           }
          ]
         }
        },
        {
         "name": "item_id",
         "dtype": "float64",
         "stats": {
          "unique_count": 8,
          "nan_count": 0,
          "min": "0.0",
          "max": "2935849.0",
          "histogram": [
           {
            "bin_start": 0,
            "bin_end": 293584.9,
            "count": 7
           },
           {
            "bin_start": 293584.9,
            "bin_end": 587169.8,
            "count": 0
           },
           {
            "bin_start": 587169.8,
            "bin_end": 880754.7000000001,
            "count": 0
           },
           {
            "bin_start": 880754.7000000001,
            "bin_end": 1174339.6,
            "count": 0
           },
           {
            "bin_start": 1174339.6,
            "bin_end": 1467924.5,
            "count": 0
           },
           {
            "bin_start": 1467924.5,
            "bin_end": 1761509.4000000001,
            "count": 0
           },
           {
            "bin_start": 1761509.4000000001,
            "bin_end": 2055094.3000000003,
            "count": 0
           },
           {
            "bin_start": 2055094.3000000003,
            "bin_end": 2348679.2,
            "count": 0
           },
           {
            "bin_start": 2348679.2,
            "bin_end": 2642264.1,
            "count": 0
           },
           {
            "bin_start": 2642264.1,
            "bin_end": 2935849,
            "count": 1
           }
          ]
         }
        },
        {
         "name": "item_price",
         "dtype": "float64",
         "stats": {
          "unique_count": 8,
          "nan_count": 0,
          "min": "-1.0",
          "max": "2935849.0",
          "histogram": [
           {
            "bin_start": -1,
            "bin_end": 293584,
            "count": 6
           },
           {
            "bin_start": 293584,
            "bin_end": 587169,
            "count": 1
           },
           {
            "bin_start": 587169,
            "bin_end": 880754,
            "count": 0
           },
           {
            "bin_start": 880754,
            "bin_end": 1174339,
            "count": 0
           },
           {
            "bin_start": 1174339,
            "bin_end": 1467924,
            "count": 0
           },
           {
            "bin_start": 1467924,
            "bin_end": 1761509,
            "count": 0
           },
           {
            "bin_start": 1761509,
            "bin_end": 2055094,
            "count": 0
           },
           {
            "bin_start": 2055094,
            "bin_end": 2348679,
            "count": 0
           },
           {
            "bin_start": 2348679,
            "bin_end": 2642264,
            "count": 0
           },
           {
            "bin_start": 2642264,
            "bin_end": 2935849,
            "count": 1
           }
          ]
         }
        },
        {
         "name": "item_cnt_day",
         "dtype": "float64",
         "stats": {
          "unique_count": 6,
          "nan_count": 0,
          "min": "-22.0",
          "max": "2935849.0",
          "histogram": [
           {
            "bin_start": -22,
            "bin_end": 293565.1,
            "count": 7
           },
           {
            "bin_start": 293565.1,
            "bin_end": 587152.2,
            "count": 0
           },
           {
            "bin_start": 587152.2,
            "bin_end": 880739.2999999999,
            "count": 0
           },
           {
            "bin_start": 880739.2999999999,
            "bin_end": 1174326.4,
            "count": 0
           },
           {
            "bin_start": 1174326.4,
            "bin_end": 1467913.5,
            "count": 0
           },
           {
            "bin_start": 1467913.5,
            "bin_end": 1761500.5999999999,
            "count": 0
           },
           {
            "bin_start": 1761500.5999999999,
            "bin_end": 2055087.6999999997,
            "count": 0
           },
           {
            "bin_start": 2055087.6999999997,
            "bin_end": 2348674.8,
            "count": 0
           },
           {
            "bin_start": 2348674.8,
            "bin_end": 2642261.9,
            "count": 0
           },
           {
            "bin_start": 2642261.9,
            "bin_end": 2935849,
            "count": 1
           }
          ]
         }
        },
        {
         "name": "_deepnote_index_column",
         "dtype": "object"
        }
       ],
       "rows_top": [
        {
         "date_block_num": 2935849,
         "shop_id": 2935849,
         "item_id": 2935849,
         "item_price": 2935849,
         "item_cnt_day": 2935849,
         "_deepnote_index_column": "count"
        },
        {
         "date_block_num": 14.56991146343017,
         "shop_id": 33.001728290521754,
         "item_id": 10197.227056977385,
         "item_price": 890.8532326980126,
         "item_cnt_day": 1.242640885140891,
         "_deepnote_index_column": "mean"
        },
        {
         "date_block_num": 9.42298770875573,
         "shop_id": 16.226973048333605,
         "item_id": 6324.297353891169,
         "item_price": 1729.7996307126623,
         "item_cnt_day": 2.618834430895425,
         "_deepnote_index_column": "std"
        },
        {
         "date_block_num": 0,
         "shop_id": 0,
         "item_id": 0,
         "item_price": -1,
         "item_cnt_day": -22,
         "_deepnote_index_column": "min"
        },
        {
         "date_block_num": 7,
         "shop_id": 22,
         "item_id": 4476,
         "item_price": 249,
         "item_cnt_day": 1,
         "_deepnote_index_column": "25%"
        },
        {
         "date_block_num": 14,
         "shop_id": 31,
         "item_id": 9343,
         "item_price": 399,
         "item_cnt_day": 1,
         "_deepnote_index_column": "50%"
        },
        {
         "date_block_num": 23,
         "shop_id": 47,
         "item_id": 15684,
         "item_price": 999,
         "item_cnt_day": 1,
         "_deepnote_index_column": "75%"
        },
        {
         "date_block_num": 33,
         "shop_id": 59,
         "item_id": 22169,
         "item_price": 307980,
         "item_cnt_day": 2169,
         "_deepnote_index_column": "max"
        }
       ],
       "rows_bottom": null
      },
      "text/plain": "       date_block_num       shop_id       item_id    item_price  item_cnt_day\ncount    2.935849e+06  2.935849e+06  2.935849e+06  2.935849e+06  2.935849e+06\nmean     1.456991e+01  3.300173e+01  1.019723e+04  8.908532e+02  1.242641e+00\nstd      9.422988e+00  1.622697e+01  6.324297e+03  1.729800e+03  2.618834e+00\nmin      0.000000e+00  0.000000e+00  0.000000e+00 -1.000000e+00 -2.200000e+01\n25%      7.000000e+00  2.200000e+01  4.476000e+03  2.490000e+02  1.000000e+00\n50%      1.400000e+01  3.100000e+01  9.343000e+03  3.990000e+02  1.000000e+00\n75%      2.300000e+01  4.700000e+01  1.568400e+04  9.990000e+02  1.000000e+00\nmax      3.300000e+01  5.900000e+01  2.216900e+04  3.079800e+05  2.169000e+03",
      "text/html": "<div>\n<style scoped>\n    .dataframe tbody tr th:only-of-type {\n        vertical-align: middle;\n    }\n\n    .dataframe tbody tr th {\n        vertical-align: top;\n    }\n\n    .dataframe thead th {\n        text-align: right;\n    }\n</style>\n<table border=\"1\" class=\"dataframe\">\n  <thead>\n    <tr style=\"text-align: right;\">\n      <th></th>\n      <th>date_block_num</th>\n      <th>shop_id</th>\n      <th>item_id</th>\n      <th>item_price</th>\n      <th>item_cnt_day</th>\n    </tr>\n  </thead>\n  <tbody>\n    <tr>\n      <th>count</th>\n      <td>2.935849e+06</td>\n      <td>2.935849e+06</td>\n      <td>2.935849e+06</td>\n      <td>2.935849e+06</td>\n      <td>2.935849e+06</td>\n    </tr>\n    <tr>\n      <th>mean</th>\n      <td>1.456991e+01</td>\n      <td>3.300173e+01</td>\n      <td>1.019723e+04</td>\n      <td>8.908532e+02</td>\n      <td>1.242641e+00</td>\n    </tr>\n    <tr>\n      <th>std</th>\n      <td>9.422988e+00</td>\n      <td>1.622697e+01</td>\n      <td>6.324297e+03</td>\n      <td>1.729800e+03</td>\n      <td>2.618834e+00</td>\n    </tr>\n    <tr>\n      <th>min</th>\n      <td>0.000000e+00</td>\n      <td>0.000000e+00</td>\n      <td>0.000000e+00</td>\n      <td>-1.000000e+00</td>\n      <td>-2.200000e+01</td>\n    </tr>\n    <tr>\n      <th>25%</th>\n      <td>7.000000e+00</td>\n      <td>2.200000e+01</td>\n      <td>4.476000e+03</td>\n      <td>2.490000e+02</td>\n      <td>1.000000e+00</td>\n    </tr>\n    <tr>\n      <th>50%</th>\n      <td>1.400000e+01</td>\n      <td>3.100000e+01</td>\n      <td>9.343000e+03</td>\n      <td>3.990000e+02</td>\n      <td>1.000000e+00</td>\n    </tr>\n    <tr>\n      <th>75%</th>\n      <td>2.300000e+01</td>\n      <td>4.700000e+01</td>\n      <td>1.568400e+04</td>\n      <td>9.990000e+02</td>\n      <td>1.000000e+00</td>\n    </tr>\n    <tr>\n      <th>max</th>\n      <td>3.300000e+01</td>\n      <td>5.900000e+01</td>\n      <td>2.216900e+04</td>\n      <td>3.079800e+05</td>\n      <td>2.169000e+03</td>\n    </tr>\n  </tbody>\n</table>\n</div>"
     },
     "metadata": {}
    }
   ]
  },
  {
   "cell_type": "code",
   "metadata": {
    "tags": [],
    "cell_id": "00011-547981b8-28c8-4c81-8069-7e124ffbff01",
    "deepnote_to_be_reexecuted": false,
    "source_hash": "455c7b4b",
    "execution_start": 1620652732668,
    "execution_millis": 51,
    "deepnote_cell_type": "code"
   },
   "source": "df_train.isnull().sum()",
   "execution_count": null,
   "outputs": [
    {
     "output_type": "execute_result",
     "execution_count": 15,
     "data": {
      "text/plain": "date              0\ndate_block_num    0\nshop_id           0\nitem_id           0\nitem_price        0\nitem_cnt_day      0\ndtype: int64"
     },
     "metadata": {}
    }
   ]
  },
  {
   "cell_type": "code",
   "metadata": {
    "tags": [],
    "cell_id": "00012-a931dbb6-5015-4f5a-acd8-eea791ffb264",
    "deepnote_to_be_reexecuted": false,
    "source_hash": "b7b87001",
    "execution_start": 1620652736045,
    "execution_millis": 177,
    "deepnote_cell_type": "code"
   },
   "source": "df_train.groupby(\"date\").agg({\"date\": \"count\"}).plot(figsize=(12, 6))",
   "execution_count": null,
   "outputs": [
    {
     "output_type": "execute_result",
     "execution_count": 16,
     "data": {
      "text/plain": "<AxesSubplot:xlabel='date'>"
     },
     "metadata": {}
    },
    {
     "data": {
      "text/plain": "<Figure size 864x432 with 1 Axes>",
      "image/png": "[encoded data removed]"
     },
     "metadata": {
      "needs_background": "light",
      "image/png": {
       "width": 716,
       "height": 371
      }
     },
     "output_type": "display_data"
    }
   ]
  },
  {
   "cell_type": "code",
   "metadata": {
    "tags": [],
    "cell_id": "00013-ea581422-b0ed-4ae7-89a0-bf3780c8f1d4",
    "deepnote_to_be_reexecuted": false,
    "source_hash": "9ee5e05f",
    "execution_start": 1620653009568,
    "execution_millis": 12,
    "deepnote_cell_type": "code"
   },
   "source": "df_train[\"shop_id\"].nunique(), df_train[\"item_id\"].nunique()",
   "execution_count": null,
   "outputs": [
    {
     "output_type": "execute_result",
     "execution_count": 21,
     "data": {
      "text/plain": "(44, 5413)"
     },
     "metadata": {}
    }
   ]
  },
  {
   "cell_type": "code",
   "metadata": {
    "tags": [],
    "cell_id": "00013-719485d6-74b2-4ff9-89a0-7ecbb3b9e20a",
    "deepnote_to_be_reexecuted": false,
    "source_hash": "73d750c6",
    "execution_start": 1620652962170,
    "execution_millis": 253,
    "deepnote_cell_type": "code"
   },
   "source": "df_train.groupby(\"item_id\").agg({\"shop_id\": \"nunique\"}).reset_index().plot.scatter(\"item_id\", \"shop_id\", figsize=(10, 6), s=10);",
   "execution_count": null,
   "outputs": [
    {
     "data": {
      "text/plain": "<Figure size 720x432 with 1 Axes>",
      "image/png": "[encoded data removed]"
     },
     "metadata": {
      "needs_background": "light",
      "image/png": {
       "width": 606,
       "height": 372
      }
     },
     "output_type": "display_data"
    }
   ]
  },
  {
   "cell_type": "code",
   "metadata": {
    "tags": [],
    "cell_id": "00014-16ed37ac-0c88-4518-8dac-8bfc5de6186c",
    "deepnote_to_be_reexecuted": false,
    "source_hash": "382284f9",
    "execution_start": 1620653920974,
    "execution_millis": 4,
    "deepnote_cell_type": "code"
   },
   "source": "df_33 = df_train.loc[df_train['date_block_num']==33]",
   "execution_count": null,
   "outputs": []
  },
  {
   "cell_type": "code",
   "metadata": {
    "tags": [],
    "cell_id": "00016-e8072625-0662-4b13-bd51-15ce31424aa6",
    "deepnote_cell_type": "code"
   },
   "source": "\noct2015 = train[train.date_block_num==33]",
   "execution_count": null,
   "outputs": []
  },
  {
   "cell_type": "code",
   "metadata": {
    "tags": [],
    "cell_id": "00015-6d3a9a83-c859-477d-97ed-e6ed5e4e8ac1",
    "deepnote_to_be_reexecuted": false,
    "source_hash": "59cd2df5",
    "execution_start": 1620653942181,
    "execution_millis": 63,
    "deepnote_cell_type": "code"
   },
   "source": "df_train.drop(df_train.loc[df_train['date_block_num'] != 33 ].index, inplace=True)\n\ndf_train",
   "execution_count": null,
   "outputs": [
    {
     "output_type": "execute_result",
     "execution_count": 26,
     "data": {
      "application/vnd.deepnote.dataframe.v2+json": {
       "row_count": 53514,
       "column_count": 6,
       "columns": [
        {
         "name": "date",
         "dtype": "object",
         "stats": {
          "unique_count": 31,
          "nan_count": 0,
          "categories": [
           {
            "name": "03.10.2015",
            "count": 2871
           },
           {
            "name": "31.10.2015",
            "count": 2579
           },
           {
            "name": "29 others",
            "count": 48064
           }
          ]
         }
        },
        {
         "name": "date_block_num",
         "dtype": "int64"
        },
        {
         "name": "shop_id",
         "dtype": "int64"
        },
        {
         "name": "item_id",
         "dtype": "int64"
        },
        {
         "name": "item_price",
         "dtype": "float64"
        },
        {
         "name": "item_cnt_day",
         "dtype": "float64"
        },
        {
         "name": "_deepnote_index_column",
         "dtype": "int64"
        }
       ],
       "rows_top": [
        {
         "date": "23.10.2015",
         "date_block_num": 33,
         "shop_id": 45,
         "item_id": 13315,
         "item_price": 649,
         "item_cnt_day": 1,
         "_deepnote_index_column": 2882335
        },
        {
         "date": "05.10.2015",
         "date_block_num": 33,
         "shop_id": 45,
         "item_id": 13880,
         "item_price": 229,
         "item_cnt_day": 1,
         "_deepnote_index_column": 2882336
        },
        {
         "date": "02.10.2015",
         "date_block_num": 33,
         "shop_id": 45,
         "item_id": 13881,
         "item_price": 659,
         "item_cnt_day": 1,
         "_deepnote_index_column": 2882337
        },
        {
         "date": "12.10.2015",
         "date_block_num": 33,
         "shop_id": 45,
         "item_id": 13881,
         "item_price": 659,
         "item_cnt_day": 1,
         "_deepnote_index_column": 2882338
        },
        {
         "date": "04.10.2015",
         "date_block_num": 33,
         "shop_id": 45,
         "item_id": 13923,
         "item_price": 169,
         "item_cnt_day": 1,
         "_deepnote_index_column": 2882339
        },
        {
         "date": "31.10.2015",
         "date_block_num": 33,
         "shop_id": 45,
         "item_id": 14227,
         "item_price": 99,
         "item_cnt_day": 1,
         "_deepnote_index_column": 2882340
        },
        {
         "date": "12.10.2015",
         "date_block_num": 33,
         "shop_id": 45,
         "item_id": 14931,
         "item_price": 799,
         "item_cnt_day": 1,
         "_deepnote_index_column": 2882341
        },
        {
         "date": "05.10.2015",
         "date_block_num": 33,
         "shop_id": 45,
         "item_id": 14101,
         "item_price": 449,
         "item_cnt_day": 1,
         "_deepnote_index_column": 2882342
        },
        {
         "date": "20.10.2015",
         "date_block_num": 33,
         "shop_id": 45,
         "item_id": 14957,
         "item_price": 299,
         "item_cnt_day": 1,
         "_deepnote_index_column": 2882343
        },
        {
         "date": "05.10.2015",
         "date_block_num": 33,
         "shop_id": 45,
         "item_id": 14102,
         "item_price": 749,
         "item_cnt_day": 1,
         "_deepnote_index_column": 2882344
        },
        {
         "date": "16.10.2015",
         "date_block_num": 33,
         "shop_id": 45,
         "item_id": 14957,
         "item_price": 299,
         "item_cnt_day": 1,
         "_deepnote_index_column": 2882345
        },
        {
         "date": "30.10.2015",
         "date_block_num": 33,
         "shop_id": 45,
         "item_id": 14127,
         "item_price": 649,
         "item_cnt_day": 1,
         "_deepnote_index_column": 2882346
        },
        {
         "date": "02.10.2015",
         "date_block_num": 33,
         "shop_id": 45,
         "item_id": 14931,
         "item_price": 799,
         "item_cnt_day": 1,
         "_deepnote_index_column": 2882347
        },
        {
         "date": "09.10.2015",
         "date_block_num": 33,
         "shop_id": 45,
         "item_id": 14931,
         "item_price": 799,
         "item_cnt_day": 1,
         "_deepnote_index_column": 2882348
        },
        {
         "date": "24.10.2015",
         "date_block_num": 33,
         "shop_id": 45,
         "item_id": 14956,
         "item_price": 299,
         "item_cnt_day": 1,
         "_deepnote_index_column": 2882349
        },
        {
         "date": "17.10.2015",
         "date_block_num": 33,
         "shop_id": 45,
         "item_id": 14228,
         "item_price": 99,
         "item_cnt_day": 1,
         "_deepnote_index_column": 2882350
        },
        {
         "date": "02.10.2015",
         "date_block_num": 33,
         "shop_id": 45,
         "item_id": 13827,
         "item_price": 169,
         "item_cnt_day": 1,
         "_deepnote_index_column": 2882351
        },
        {
         "date": "24.10.2015",
         "date_block_num": 33,
         "shop_id": 45,
         "item_id": 12809,
         "item_price": 99,
         "item_cnt_day": 1,
         "_deepnote_index_column": 2882352
        },
        {
         "date": "14.10.2015",
         "date_block_num": 33,
         "shop_id": 45,
         "item_id": 12981,
         "item_price": 349,
         "item_cnt_day": 1,
         "_deepnote_index_column": 2882353
        },
        {
         "date": "23.10.2015",
         "date_block_num": 33,
         "shop_id": 45,
         "item_id": 12730,
         "item_price": 1490,
         "item_cnt_day": 1,
         "_deepnote_index_column": 2882354
        },
        {
         "date": "05.10.2015",
         "date_block_num": 33,
         "shop_id": 45,
         "item_id": 13340,
         "item_price": 359,
         "item_cnt_day": 1,
         "_deepnote_index_column": 2882355
        },
        {
         "date": "21.10.2015",
         "date_block_num": 33,
         "shop_id": 45,
         "item_id": 13406,
         "item_price": 22399,
         "item_cnt_day": 1,
         "_deepnote_index_column": 2882356
        },
        {
         "date": "05.10.2015",
         "date_block_num": 33,
         "shop_id": 45,
         "item_id": 13339,
         "item_price": 359,
         "item_cnt_day": 1,
         "_deepnote_index_column": 2882357
        },
        {
         "date": "24.10.2015",
         "date_block_num": 33,
         "shop_id": 45,
         "item_id": 13464,
         "item_price": 1699,
         "item_cnt_day": 1,
         "_deepnote_index_column": 2882358
        },
        {
         "date": "23.10.2015",
         "date_block_num": 33,
         "shop_id": 45,
         "item_id": 13334,
         "item_price": 359,
         "item_cnt_day": 1,
         "_deepnote_index_column": 2882359
        },
        {
         "date": "20.10.2015",
         "date_block_num": 33,
         "shop_id": 45,
         "item_id": 14958,
         "item_price": 299,
         "item_cnt_day": 1,
         "_deepnote_index_column": 2882360
        },
        {
         "date": "21.10.2015",
         "date_block_num": 33,
         "shop_id": 45,
         "item_id": 13334,
         "item_price": 359,
         "item_cnt_day": 1,
         "_deepnote_index_column": 2882361
        },
        {
         "date": "10.10.2015",
         "date_block_num": 33,
         "shop_id": 45,
         "item_id": 13331,
         "item_price": 399,
         "item_cnt_day": 1,
         "_deepnote_index_column": 2882362
        },
        {
         "date": "02.10.2015",
         "date_block_num": 33,
         "shop_id": 45,
         "item_id": 13505,
         "item_price": 1099,
         "item_cnt_day": 1,
         "_deepnote_index_column": 2882363
        },
        {
         "date": "18.10.2015",
         "date_block_num": 33,
         "shop_id": 45,
         "item_id": 13824,
         "item_price": 169,
         "item_cnt_day": 1,
         "_deepnote_index_column": 2882364
        },
        {
         "date": "05.10.2015",
         "date_block_num": 33,
         "shop_id": 45,
         "item_id": 13505,
         "item_price": 1099,
         "item_cnt_day": 1,
         "_deepnote_index_column": 2882365
        },
        {
         "date": "18.10.2015",
         "date_block_num": 33,
         "shop_id": 45,
         "item_id": 13505,
         "item_price": 1099,
         "item_cnt_day": 1,
         "_deepnote_index_column": 2882366
        },
        {
         "date": "03.10.2015",
         "date_block_num": 33,
         "shop_id": 45,
         "item_id": 13409,
         "item_price": 1999,
         "item_cnt_day": 1,
         "_deepnote_index_column": 2882367
        },
        {
         "date": "02.10.2015",
         "date_block_num": 33,
         "shop_id": 45,
         "item_id": 13411,
         "item_price": 3490,
         "item_cnt_day": 1,
         "_deepnote_index_column": 2882368
        },
        {
         "date": "24.10.2015",
         "date_block_num": 33,
         "shop_id": 45,
         "item_id": 13422,
         "item_price": 8198,
         "item_cnt_day": 1,
         "_deepnote_index_column": 2882369
        },
        {
         "date": "15.10.2015",
         "date_block_num": 33,
         "shop_id": 45,
         "item_id": 13440,
         "item_price": 25392,
         "item_cnt_day": 1,
         "_deepnote_index_column": 2882370
        },
        {
         "date": "20.10.2015",
         "date_block_num": 33,
         "shop_id": 45,
         "item_id": 12851,
         "item_price": 299,
         "item_cnt_day": 1,
         "_deepnote_index_column": 2882371
        },
        {
         "date": "09.10.2015",
         "date_block_num": 33,
         "shop_id": 45,
         "item_id": 12871,
         "item_price": 299,
         "item_cnt_day": 1,
         "_deepnote_index_column": 2882372
        },
        {
         "date": "16.10.2015",
         "date_block_num": 33,
         "shop_id": 45,
         "item_id": 12881,
         "item_price": 399,
         "item_cnt_day": 1,
         "_deepnote_index_column": 2882373
        },
        {
         "date": "24.10.2015",
         "date_block_num": 33,
         "shop_id": 45,
         "item_id": 13634,
         "item_price": 999,
         "item_cnt_day": 1,
         "_deepnote_index_column": 2882374
        },
        {
         "date": "08.10.2015",
         "date_block_num": 33,
         "shop_id": 45,
         "item_id": 13716,
         "item_price": 229,
         "item_cnt_day": 1,
         "_deepnote_index_column": 2882375
        },
        {
         "date": "11.10.2015",
         "date_block_num": 33,
         "shop_id": 45,
         "item_id": 13505,
         "item_price": 1099,
         "item_cnt_day": 1,
         "_deepnote_index_column": 2882376
        },
        {
         "date": "23.10.2015",
         "date_block_num": 33,
         "shop_id": 45,
         "item_id": 14958,
         "item_price": 299,
         "item_cnt_day": 1,
         "_deepnote_index_column": 2882377
        },
        {
         "date": "23.10.2015",
         "date_block_num": 33,
         "shop_id": 45,
         "item_id": 15239,
         "item_price": 499,
         "item_cnt_day": 1,
         "_deepnote_index_column": 2882378
        },
        {
         "date": "08.10.2015",
         "date_block_num": 33,
         "shop_id": 45,
         "item_id": 14500,
         "item_price": 199,
         "item_cnt_day": 1,
         "_deepnote_index_column": 2882379
        },
        {
         "date": "03.10.2015",
         "date_block_num": 33,
         "shop_id": 45,
         "item_id": 15257,
         "item_price": 399,
         "item_cnt_day": 1,
         "_deepnote_index_column": 2882380
        },
        {
         "date": "12.10.2015",
         "date_block_num": 33,
         "shop_id": 45,
         "item_id": 15257,
         "item_price": 399,
         "item_cnt_day": 1,
         "_deepnote_index_column": 2882381
        },
        {
         "date": "16.10.2015",
         "date_block_num": 33,
         "shop_id": 45,
         "item_id": 15262,
         "item_price": 599,
         "item_cnt_day": 1,
         "_deepnote_index_column": 2882382
        },
        {
         "date": "14.10.2015",
         "date_block_num": 33,
         "shop_id": 45,
         "item_id": 15278,
         "item_price": 1099,
         "item_cnt_day": 1,
         "_deepnote_index_column": 2882383
        },
        {
         "date": "16.10.2015",
         "date_block_num": 33,
         "shop_id": 45,
         "item_id": 15279,
         "item_price": 1099,
         "item_cnt_day": 1,
         "_deepnote_index_column": 2882384
        },
        {
         "date": "04.10.2015",
         "date_block_num": 33,
         "shop_id": 45,
         "item_id": 15281,
         "item_price": 1099,
         "item_cnt_day": 1,
         "_deepnote_index_column": 2882385
        },
        {
         "date": "04.10.2015",
         "date_block_num": 33,
         "shop_id": 45,
         "item_id": 15287,
         "item_price": 1099,
         "item_cnt_day": 1,
         "_deepnote_index_column": 2882386
        },
        {
         "date": "23.10.2015",
         "date_block_num": 33,
         "shop_id": 45,
         "item_id": 15287,
         "item_price": 1099,
         "item_cnt_day": 1,
         "_deepnote_index_column": 2882387
        },
        {
         "date": "16.10.2015",
         "date_block_num": 33,
         "shop_id": 45,
         "item_id": 15294,
         "item_price": 1099,
         "item_cnt_day": 1,
         "_deepnote_index_column": 2882388
        },
        {
         "date": "10.10.2015",
         "date_block_num": 33,
         "shop_id": 45,
         "item_id": 15302,
         "item_price": 889,
         "item_cnt_day": 1,
         "_deepnote_index_column": 2882389
        },
        {
         "date": "10.10.2015",
         "date_block_num": 33,
         "shop_id": 45,
         "item_id": 15303,
         "item_price": 959,
         "item_cnt_day": 1,
         "_deepnote_index_column": 2882390
        },
        {
         "date": "16.10.2015",
         "date_block_num": 33,
         "shop_id": 45,
         "item_id": 15348,
         "item_price": 1669,
         "item_cnt_day": 1,
         "_deepnote_index_column": 2882391
        },
        {
         "date": "11.10.2015",
         "date_block_num": 33,
         "shop_id": 45,
         "item_id": 13302,
         "item_price": 559,
         "item_cnt_day": 1,
         "_deepnote_index_column": 2882392
        },
        {
         "date": "09.10.2015",
         "date_block_num": 33,
         "shop_id": 45,
         "item_id": 16059,
         "item_price": 499,
         "item_cnt_day": 1,
         "_deepnote_index_column": 2882393
        },
        {
         "date": "12.10.2015",
         "date_block_num": 33,
         "shop_id": 45,
         "item_id": 15395,
         "item_price": 699,
         "item_cnt_day": 1,
         "_deepnote_index_column": 2882394
        },
        {
         "date": "16.10.2015",
         "date_block_num": 33,
         "shop_id": 45,
         "item_id": 15397,
         "item_price": 1569,
         "item_cnt_day": 1,
         "_deepnote_index_column": 2882395
        },
        {
         "date": "01.10.2015",
         "date_block_num": 33,
         "shop_id": 45,
         "item_id": 15410,
         "item_price": 1139,
         "item_cnt_day": 1,
         "_deepnote_index_column": 2882396
        },
        {
         "date": "11.10.2015",
         "date_block_num": 33,
         "shop_id": 45,
         "item_id": 16076,
         "item_price": 999,
         "item_cnt_day": 1,
         "_deepnote_index_column": 2882397
        },
        {
         "date": "01.10.2015",
         "date_block_num": 33,
         "shop_id": 45,
         "item_id": 16069,
         "item_price": 799,
         "item_cnt_day": 1,
         "_deepnote_index_column": 2882398
        },
        {
         "date": "02.10.2015",
         "date_block_num": 33,
         "shop_id": 45,
         "item_id": 16009,
         "item_price": 1499,
         "item_cnt_day": 1,
         "_deepnote_index_column": 2882399
        },
        {
         "date": "18.10.2015",
         "date_block_num": 33,
         "shop_id": 45,
         "item_id": 16003,
         "item_price": 1499,
         "item_cnt_day": 1,
         "_deepnote_index_column": 2882400
        },
        {
         "date": "27.10.2015",
         "date_block_num": 33,
         "shop_id": 45,
         "item_id": 15256,
         "item_price": 399,
         "item_cnt_day": 1,
         "_deepnote_index_column": 2882401
        },
        {
         "date": "24.10.2015",
         "date_block_num": 33,
         "shop_id": 45,
         "item_id": 14479,
         "item_price": 399,
         "item_cnt_day": 1,
         "_deepnote_index_column": 2882402
        },
        {
         "date": "17.10.2015",
         "date_block_num": 33,
         "shop_id": 45,
         "item_id": 15256,
         "item_price": 399,
         "item_cnt_day": 1,
         "_deepnote_index_column": 2882403
        },
        {
         "date": "03.10.2015",
         "date_block_num": 33,
         "shop_id": 45,
         "item_id": 15256,
         "item_price": 399,
         "item_cnt_day": 1,
         "_deepnote_index_column": 2882404
        },
        {
         "date": "03.10.2015",
         "date_block_num": 33,
         "shop_id": 45,
         "item_id": 14552,
         "item_price": 99,
         "item_cnt_day": 1,
         "_deepnote_index_column": 2882405
        },
        {
         "date": "08.10.2015",
         "date_block_num": 33,
         "shop_id": 45,
         "item_id": 15040,
         "item_price": 599,
         "item_cnt_day": 1,
         "_deepnote_index_column": 2882406
        },
        {
         "date": "03.10.2015",
         "date_block_num": 33,
         "shop_id": 45,
         "item_id": 15045,
         "item_price": 699,
         "item_cnt_day": 1,
         "_deepnote_index_column": 2882407
        },
        {
         "date": "02.10.2015",
         "date_block_num": 33,
         "shop_id": 45,
         "item_id": 15047,
         "item_price": 1499,
         "item_cnt_day": 1,
         "_deepnote_index_column": 2882408
        },
        {
         "date": "02.10.2015",
         "date_block_num": 33,
         "shop_id": 45,
         "item_id": 15049,
         "item_price": 1499,
         "item_cnt_day": 1,
         "_deepnote_index_column": 2882409
        },
        {
         "date": "29.10.2015",
         "date_block_num": 33,
         "shop_id": 45,
         "item_id": 15066,
         "item_price": 799,
         "item_cnt_day": 1,
         "_deepnote_index_column": 2882410
        },
        {
         "date": "07.10.2015",
         "date_block_num": 33,
         "shop_id": 45,
         "item_id": 15067,
         "item_price": 5499,
         "item_cnt_day": 1,
         "_deepnote_index_column": 2882411
        },
        {
         "date": "02.10.2015",
         "date_block_num": 33,
         "shop_id": 45,
         "item_id": 15069,
         "item_price": 2499,
         "item_cnt_day": 2,
         "_deepnote_index_column": 2882412
        },
        {
         "date": "03.10.2015",
         "date_block_num": 33,
         "shop_id": 45,
         "item_id": 15069,
         "item_price": 2499,
         "item_cnt_day": 1,
         "_deepnote_index_column": 2882413
        },
        {
         "date": "22.10.2015",
         "date_block_num": 33,
         "shop_id": 45,
         "item_id": 15069,
         "item_price": 2499,
         "item_cnt_day": 1,
         "_deepnote_index_column": 2882414
        },
        {
         "date": "11.10.2015",
         "date_block_num": 33,
         "shop_id": 45,
         "item_id": 14736,
         "item_price": 399,
         "item_cnt_day": 1,
         "_deepnote_index_column": 2882415
        },
        {
         "date": "02.10.2015",
         "date_block_num": 33,
         "shop_id": 45,
         "item_id": 14801,
         "item_price": 449,
         "item_cnt_day": 1,
         "_deepnote_index_column": 2882416
        },
        {
         "date": "08.10.2015",
         "date_block_num": 33,
         "shop_id": 45,
         "item_id": 14802,
         "item_price": 1499,
         "item_cnt_day": 1,
         "_deepnote_index_column": 2882417
        }
       ],
       "rows_bottom": [
        {
         "date": "07.10.2015",
         "date_block_num": 33,
         "shop_id": 25,
         "item_id": 7223,
         "item_price": 3999,
         "item_cnt_day": 35,
         "_deepnote_index_column": 2935766
        },
        {
         "date": "10.10.2015",
         "date_block_num": 33,
         "shop_id": 25,
         "item_id": 7220,
         "item_price": 1299,
         "item_cnt_day": 1,
         "_deepnote_index_column": 2935767
        },
        {
         "date": "08.10.2015",
         "date_block_num": 33,
         "shop_id": 25,
         "item_id": 7220,
         "item_price": 1299,
         "item_cnt_day": 1,
         "_deepnote_index_column": 2935768
        },
        {
         "date": "31.10.2015",
         "date_block_num": 33,
         "shop_id": 25,
         "item_id": 7215,
         "item_price": 1199,
         "item_cnt_day": 1,
         "_deepnote_index_column": 2935769
        },
        {
         "date": "12.10.2015",
         "date_block_num": 33,
         "shop_id": 25,
         "item_id": 7071,
         "item_price": 999,
         "item_cnt_day": 2,
         "_deepnote_index_column": 2935770
        },
        {
         "date": "18.10.2015",
         "date_block_num": 33,
         "shop_id": 25,
         "item_id": 7071,
         "item_price": 999,
         "item_cnt_day": 1,
         "_deepnote_index_column": 2935771
        },
        {
         "date": "10.10.2015",
         "date_block_num": 33,
         "shop_id": 25,
         "item_id": 7793,
         "item_price": 1799,
         "item_cnt_day": 1,
         "_deepnote_index_column": 2935772
        },
        {
         "date": "03.10.2015",
         "date_block_num": 33,
         "shop_id": 25,
         "item_id": 7018,
         "item_price": 999,
         "item_cnt_day": 1,
         "_deepnote_index_column": 2935773
        },
        {
         "date": "24.10.2015",
         "date_block_num": 33,
         "shop_id": 25,
         "item_id": 7003,
         "item_price": 299,
         "item_cnt_day": 1,
         "_deepnote_index_column": 2935774
        },
        {
         "date": "04.10.2015",
         "date_block_num": 33,
         "shop_id": 25,
         "item_id": 7075,
         "item_price": 1499,
         "item_cnt_day": 1,
         "_deepnote_index_column": 2935775
        },
        {
         "date": "05.10.2015",
         "date_block_num": 33,
         "shop_id": 25,
         "item_id": 7075,
         "item_price": 1499,
         "item_cnt_day": 1,
         "_deepnote_index_column": 2935776
        },
        {
         "date": "16.10.2015",
         "date_block_num": 33,
         "shop_id": 25,
         "item_id": 7075,
         "item_price": 1499,
         "item_cnt_day": 1,
         "_deepnote_index_column": 2935777
        },
        {
         "date": "23.10.2015",
         "date_block_num": 33,
         "shop_id": 25,
         "item_id": 7075,
         "item_price": 1499,
         "item_cnt_day": 1,
         "_deepnote_index_column": 2935778
        },
        {
         "date": "07.10.2015",
         "date_block_num": 33,
         "shop_id": 25,
         "item_id": 7087,
         "item_price": 999,
         "item_cnt_day": -1,
         "_deepnote_index_column": 2935779
        },
        {
         "date": "31.10.2015",
         "date_block_num": 33,
         "shop_id": 25,
         "item_id": 7087,
         "item_price": 699,
         "item_cnt_day": 1,
         "_deepnote_index_column": 2935780
        },
        {
         "date": "29.10.2015",
         "date_block_num": 33,
         "shop_id": 25,
         "item_id": 7224,
         "item_price": 4499,
         "item_cnt_day": 1,
         "_deepnote_index_column": 2935781
        },
        {
         "date": "30.10.2015",
         "date_block_num": 33,
         "shop_id": 25,
         "item_id": 7134,
         "item_price": 3599,
         "item_cnt_day": 1,
         "_deepnote_index_column": 2935782
        },
        {
         "date": "09.10.2015",
         "date_block_num": 33,
         "shop_id": 25,
         "item_id": 7172,
         "item_price": 1499,
         "item_cnt_day": 1,
         "_deepnote_index_column": 2935783
        },
        {
         "date": "21.10.2015",
         "date_block_num": 33,
         "shop_id": 25,
         "item_id": 7172,
         "item_price": 1499,
         "item_cnt_day": 1,
         "_deepnote_index_column": 2935784
        },
        {
         "date": "30.10.2015",
         "date_block_num": 33,
         "shop_id": 25,
         "item_id": 7172,
         "item_price": 1499,
         "item_cnt_day": 1,
         "_deepnote_index_column": 2935785
        },
        {
         "date": "31.10.2015",
         "date_block_num": 33,
         "shop_id": 25,
         "item_id": 7172,
         "item_price": 1499,
         "item_cnt_day": 1,
         "_deepnote_index_column": 2935786
        },
        {
         "date": "02.10.2015",
         "date_block_num": 33,
         "shop_id": 25,
         "item_id": 7202,
         "item_price": 199,
         "item_cnt_day": 1,
         "_deepnote_index_column": 2935787
        },
        {
         "date": "04.10.2015",
         "date_block_num": 33,
         "shop_id": 25,
         "item_id": 7202,
         "item_price": 199,
         "item_cnt_day": 1,
         "_deepnote_index_column": 2935788
        },
        {
         "date": "06.10.2015",
         "date_block_num": 33,
         "shop_id": 25,
         "item_id": 7202,
         "item_price": 199,
         "item_cnt_day": 1,
         "_deepnote_index_column": 2935789
        },
        {
         "date": "10.10.2015",
         "date_block_num": 33,
         "shop_id": 25,
         "item_id": 7202,
         "item_price": 199,
         "item_cnt_day": 1,
         "_deepnote_index_column": 2935790
        },
        {
         "date": "31.10.2015",
         "date_block_num": 33,
         "shop_id": 25,
         "item_id": 7202,
         "item_price": 199,
         "item_cnt_day": 1,
         "_deepnote_index_column": 2935791
        },
        {
         "date": "18.10.2015",
         "date_block_num": 33,
         "shop_id": 25,
         "item_id": 7206,
         "item_price": 199,
         "item_cnt_day": 1,
         "_deepnote_index_column": 2935792
        },
        {
         "date": "17.10.2015",
         "date_block_num": 33,
         "shop_id": 25,
         "item_id": 7215,
         "item_price": 1199,
         "item_cnt_day": 1,
         "_deepnote_index_column": 2935793
        },
        {
         "date": "03.10.2015",
         "date_block_num": 33,
         "shop_id": 25,
         "item_id": 7172,
         "item_price": 1499,
         "item_cnt_day": 1,
         "_deepnote_index_column": 2935794
        },
        {
         "date": "26.10.2015",
         "date_block_num": 33,
         "shop_id": 25,
         "item_id": 7230,
         "item_price": 699,
         "item_cnt_day": 1,
         "_deepnote_index_column": 2935795
        },
        {
         "date": "10.10.2015",
         "date_block_num": 33,
         "shop_id": 25,
         "item_id": 7087,
         "item_price": 999,
         "item_cnt_day": 1,
         "_deepnote_index_column": 2935796
        },
        {
         "date": "01.10.2015",
         "date_block_num": 33,
         "shop_id": 25,
         "item_id": 7233,
         "item_price": 599,
         "item_cnt_day": 1,
         "_deepnote_index_column": 2935797
        },
        {
         "date": "26.10.2015",
         "date_block_num": 33,
         "shop_id": 25,
         "item_id": 7499,
         "item_price": 399,
         "item_cnt_day": 1,
         "_deepnote_index_column": 2935798
        },
        {
         "date": "13.10.2015",
         "date_block_num": 33,
         "shop_id": 25,
         "item_id": 7524,
         "item_price": 299,
         "item_cnt_day": 1,
         "_deepnote_index_column": 2935799
        },
        {
         "date": "08.10.2015",
         "date_block_num": 33,
         "shop_id": 25,
         "item_id": 7529,
         "item_price": 249,
         "item_cnt_day": 1,
         "_deepnote_index_column": 2935800
        },
        {
         "date": "29.10.2015",
         "date_block_num": 33,
         "shop_id": 25,
         "item_id": 7531,
         "item_price": 199,
         "item_cnt_day": 1,
         "_deepnote_index_column": 2935801
        },
        {
         "date": "19.10.2015",
         "date_block_num": 33,
         "shop_id": 25,
         "item_id": 7583,
         "item_price": 2150,
         "item_cnt_day": 1,
         "_deepnote_index_column": 2935802
        },
        {
         "date": "22.10.2015",
         "date_block_num": 33,
         "shop_id": 25,
         "item_id": 7590,
         "item_price": 1625,
         "item_cnt_day": 1,
         "_deepnote_index_column": 2935803
        },
        {
         "date": "29.10.2015",
         "date_block_num": 33,
         "shop_id": 25,
         "item_id": 7610,
         "item_price": 2890,
         "item_cnt_day": 1,
         "_deepnote_index_column": 2935804
        },
        {
         "date": "19.10.2015",
         "date_block_num": 33,
         "shop_id": 25,
         "item_id": 7612,
         "item_price": 250,
         "item_cnt_day": 1,
         "_deepnote_index_column": 2935805
        },
        {
         "date": "11.10.2015",
         "date_block_num": 33,
         "shop_id": 25,
         "item_id": 7615,
         "item_price": 250,
         "item_cnt_day": 1,
         "_deepnote_index_column": 2935806
        },
        {
         "date": "11.10.2015",
         "date_block_num": 33,
         "shop_id": 25,
         "item_id": 7624,
         "item_price": 250,
         "item_cnt_day": 1,
         "_deepnote_index_column": 2935807
        },
        {
         "date": "19.10.2015",
         "date_block_num": 33,
         "shop_id": 25,
         "item_id": 7627,
         "item_price": 349,
         "item_cnt_day": 1,
         "_deepnote_index_column": 2935808
        },
        {
         "date": "26.10.2015",
         "date_block_num": 33,
         "shop_id": 25,
         "item_id": 7493,
         "item_price": 349,
         "item_cnt_day": 1,
         "_deepnote_index_column": 2935809
        },
        {
         "date": "16.10.2015",
         "date_block_num": 33,
         "shop_id": 25,
         "item_id": 7628,
         "item_price": 250,
         "item_cnt_day": 1,
         "_deepnote_index_column": 2935810
        },
        {
         "date": "22.10.2015",
         "date_block_num": 33,
         "shop_id": 25,
         "item_id": 7635,
         "item_price": 2100,
         "item_cnt_day": 1,
         "_deepnote_index_column": 2935811
        },
        {
         "date": "30.10.2015",
         "date_block_num": 33,
         "shop_id": 25,
         "item_id": 7638,
         "item_price": 1890,
         "item_cnt_day": 1,
         "_deepnote_index_column": 2935812
        },
        {
         "date": "01.10.2015",
         "date_block_num": 33,
         "shop_id": 25,
         "item_id": 7640,
         "item_price": 4040,
         "item_cnt_day": 1,
         "_deepnote_index_column": 2935813
        },
        {
         "date": "05.10.2015",
         "date_block_num": 33,
         "shop_id": 25,
         "item_id": 7780,
         "item_price": 248,
         "item_cnt_day": 1,
         "_deepnote_index_column": 2935814
        },
        {
         "date": "24.10.2015",
         "date_block_num": 33,
         "shop_id": 25,
         "item_id": 7231,
         "item_price": 999,
         "item_cnt_day": 1,
         "_deepnote_index_column": 2935815
        },
        {
         "date": "19.10.2015",
         "date_block_num": 33,
         "shop_id": 25,
         "item_id": 7780,
         "item_price": 248,
         "item_cnt_day": 1,
         "_deepnote_index_column": 2935816
        },
        {
         "date": "23.10.2015",
         "date_block_num": 33,
         "shop_id": 25,
         "item_id": 7780,
         "item_price": 248,
         "item_cnt_day": 2,
         "_deepnote_index_column": 2935817
        },
        {
         "date": "31.10.2015",
         "date_block_num": 33,
         "shop_id": 25,
         "item_id": 7780,
         "item_price": 198,
         "item_cnt_day": 1,
         "_deepnote_index_column": 2935818
        },
        {
         "date": "16.10.2015",
         "date_block_num": 33,
         "shop_id": 25,
         "item_id": 7789,
         "item_price": 1799,
         "item_cnt_day": 1,
         "_deepnote_index_column": 2935819
        },
        {
         "date": "22.10.2015",
         "date_block_num": 33,
         "shop_id": 25,
         "item_id": 7790,
         "item_price": 799,
         "item_cnt_day": 1,
         "_deepnote_index_column": 2935820
        },
        {
         "date": "22.10.2015",
         "date_block_num": 33,
         "shop_id": 25,
         "item_id": 7791,
         "item_price": 899.5,
         "item_cnt_day": 1,
         "_deepnote_index_column": 2935821
        },
        {
         "date": "17.10.2015",
         "date_block_num": 33,
         "shop_id": 25,
         "item_id": 7632,
         "item_price": 2310,
         "item_cnt_day": 1,
         "_deepnote_index_column": 2935822
        },
        {
         "date": "26.10.2015",
         "date_block_num": 33,
         "shop_id": 25,
         "item_id": 7487,
         "item_price": 299,
         "item_cnt_day": 1,
         "_deepnote_index_column": 2935823
        },
        {
         "date": "14.10.2015",
         "date_block_num": 33,
         "shop_id": 25,
         "item_id": 7029,
         "item_price": 999,
         "item_cnt_day": 1,
         "_deepnote_index_column": 2935824
        },
        {
         "date": "23.10.2015",
         "date_block_num": 33,
         "shop_id": 25,
         "item_id": 7460,
         "item_price": 299,
         "item_cnt_day": 1,
         "_deepnote_index_column": 2935825
        },
        {
         "date": "04.10.2015",
         "date_block_num": 33,
         "shop_id": 25,
         "item_id": 7233,
         "item_price": 599,
         "item_cnt_day": 1,
         "_deepnote_index_column": 2935826
        },
        {
         "date": "18.10.2015",
         "date_block_num": 33,
         "shop_id": 25,
         "item_id": 7308,
         "item_price": 349,
         "item_cnt_day": 1,
         "_deepnote_index_column": 2935827
        },
        {
         "date": "21.10.2015",
         "date_block_num": 33,
         "shop_id": 25,
         "item_id": 7233,
         "item_price": 479,
         "item_cnt_day": 1,
         "_deepnote_index_column": 2935828
        },
        {
         "date": "03.10.2015",
         "date_block_num": 33,
         "shop_id": 25,
         "item_id": 7233,
         "item_price": 599,
         "item_cnt_day": 1,
         "_deepnote_index_column": 2935829
        },
        {
         "date": "11.10.2015",
         "date_block_num": 33,
         "shop_id": 25,
         "item_id": 7286,
         "item_price": 299,
         "item_cnt_day": 1,
         "_deepnote_index_column": 2935830
        },
        {
         "date": "22.10.2015",
         "date_block_num": 33,
         "shop_id": 25,
         "item_id": 7187,
         "item_price": 299,
         "item_cnt_day": 1,
         "_deepnote_index_column": 2935831
        },
        {
         "date": "26.10.2015",
         "date_block_num": 33,
         "shop_id": 25,
         "item_id": 7484,
         "item_price": 299,
         "item_cnt_day": 1,
         "_deepnote_index_column": 2935832
        },
        {
         "date": "22.10.2015",
         "date_block_num": 33,
         "shop_id": 25,
         "item_id": 7308,
         "item_price": 349,
         "item_cnt_day": 1,
         "_deepnote_index_column": 2935833
        },
        {
         "date": "29.10.2015",
         "date_block_num": 33,
         "shop_id": 25,
         "item_id": 7235,
         "item_price": 298,
         "item_cnt_day": 1,
         "_deepnote_index_column": 2935834
        },
        {
         "date": "18.10.2015",
         "date_block_num": 33,
         "shop_id": 25,
         "item_id": 7327,
         "item_price": 349,
         "item_cnt_day": 1,
         "_deepnote_index_column": 2935835
        },
        {
         "date": "22.10.2015",
         "date_block_num": 33,
         "shop_id": 25,
         "item_id": 7327,
         "item_price": 349,
         "item_cnt_day": 1,
         "_deepnote_index_column": 2935836
        },
        {
         "date": "24.10.2015",
         "date_block_num": 33,
         "shop_id": 25,
         "item_id": 7328,
         "item_price": 249,
         "item_cnt_day": 1,
         "_deepnote_index_column": 2935837
        },
        {
         "date": "17.10.2015",
         "date_block_num": 33,
         "shop_id": 25,
         "item_id": 7338,
         "item_price": 349,
         "item_cnt_day": 1,
         "_deepnote_index_column": 2935838
        },
        {
         "date": "24.10.2015",
         "date_block_num": 33,
         "shop_id": 25,
         "item_id": 7315,
         "item_price": 399,
         "item_cnt_day": 1,
         "_deepnote_index_column": 2935839
        },
        {
         "date": "31.10.2015",
         "date_block_num": 33,
         "shop_id": 25,
         "item_id": 7409,
         "item_price": 299,
         "item_cnt_day": 1,
         "_deepnote_index_column": 2935840
        },
        {
         "date": "11.10.2015",
         "date_block_num": 33,
         "shop_id": 25,
         "item_id": 7393,
         "item_price": 349,
         "item_cnt_day": 1,
         "_deepnote_index_column": 2935841
        },
        {
         "date": "10.10.2015",
         "date_block_num": 33,
         "shop_id": 25,
         "item_id": 7384,
         "item_price": 749,
         "item_cnt_day": 1,
         "_deepnote_index_column": 2935842
        },
        {
         "date": "09.10.2015",
         "date_block_num": 33,
         "shop_id": 25,
         "item_id": 7409,
         "item_price": 299,
         "item_cnt_day": 1,
         "_deepnote_index_column": 2935843
        },
        {
         "date": "10.10.2015",
         "date_block_num": 33,
         "shop_id": 25,
         "item_id": 7409,
         "item_price": 299,
         "item_cnt_day": 1,
         "_deepnote_index_column": 2935844
        },
        {
         "date": "09.10.2015",
         "date_block_num": 33,
         "shop_id": 25,
         "item_id": 7460,
         "item_price": 299,
         "item_cnt_day": 1,
         "_deepnote_index_column": 2935845
        },
        {
         "date": "14.10.2015",
         "date_block_num": 33,
         "shop_id": 25,
         "item_id": 7459,
         "item_price": 349,
         "item_cnt_day": 1,
         "_deepnote_index_column": 2935846
        },
        {
         "date": "22.10.2015",
         "date_block_num": 33,
         "shop_id": 25,
         "item_id": 7440,
         "item_price": 299,
         "item_cnt_day": 1,
         "_deepnote_index_column": 2935847
        },
        {
         "date": "03.10.2015",
         "date_block_num": 33,
         "shop_id": 25,
         "item_id": 7460,
         "item_price": 299,
         "item_cnt_day": 1,
         "_deepnote_index_column": 2935848
        }
       ]
      },
      "text/plain": "               date  date_block_num  shop_id  item_id  item_price  \\\n2882335  23.10.2015              33       45    13315       649.0   \n2882336  05.10.2015              33       45    13880       229.0   \n2882337  02.10.2015              33       45    13881       659.0   \n2882338  12.10.2015              33       45    13881       659.0   \n2882339  04.10.2015              33       45    13923       169.0   \n...             ...             ...      ...      ...         ...   \n2935844  10.10.2015              33       25     7409       299.0   \n2935845  09.10.2015              33       25     7460       299.0   \n2935846  14.10.2015              33       25     7459       349.0   \n2935847  22.10.2015              33       25     7440       299.0   \n2935848  03.10.2015              33       25     7460       299.0   \n\n         item_cnt_day  \n2882335           1.0  \n2882336           1.0  \n2882337           1.0  \n2882338           1.0  \n2882339           1.0  \n...               ...  \n2935844           1.0  \n2935845           1.0  \n2935846           1.0  \n2935847           1.0  \n2935848           1.0  \n\n[53514 rows x 6 columns]",
      "text/html": "<div>\n<style scoped>\n    .dataframe tbody tr th:only-of-type {\n        vertical-align: middle;\n    }\n\n    .dataframe tbody tr th {\n        vertical-align: top;\n    }\n\n    .dataframe thead th {\n        text-align: right;\n    }\n</style>\n<table border=\"1\" class=\"dataframe\">\n  <thead>\n    <tr style=\"text-align: right;\">\n      <th></th>\n      <th>date</th>\n      <th>date_block_num</th>\n      <th>shop_id</th>\n      <th>item_id</th>\n      <th>item_price</th>\n      <th>item_cnt_day</th>\n    </tr>\n  </thead>\n  <tbody>\n    <tr>\n      <th>2882335</th>\n      <td>23.10.2015</td>\n      <td>33</td>\n      <td>45</td>\n      <td>13315</td>\n      <td>649.0</td>\n      <td>1.0</td>\n    </tr>\n    <tr>\n      <th>2882336</th>\n      <td>05.10.2015</td>\n      <td>33</td>\n      <td>45</td>\n      <td>13880</td>\n      <td>229.0</td>\n      <td>1.0</td>\n    </tr>\n    <tr>\n      <th>2882337</th>\n      <td>02.10.2015</td>\n      <td>33</td>\n      <td>45</td>\n      <td>13881</td>\n      <td>659.0</td>\n      <td>1.0</td>\n    </tr>\n    <tr>\n      <th>2882338</th>\n      <td>12.10.2015</td>\n      <td>33</td>\n      <td>45</td>\n      <td>13881</td>\n      <td>659.0</td>\n      <td>1.0</td>\n    </tr>\n    <tr>\n      <th>2882339</th>\n      <td>04.10.2015</td>\n      <td>33</td>\n      <td>45</td>\n      <td>13923</td>\n      <td>169.0</td>\n      <td>1.0</td>\n    </tr>\n    <tr>\n      <th>...</th>\n      <td>...</td>\n      <td>...</td>\n      <td>...</td>\n      <td>...</td>\n      <td>...</td>\n      <td>...</td>\n    </tr>\n    <tr>\n      <th>2935844</th>\n      <td>10.10.2015</td>\n      <td>33</td>\n      <td>25</td>\n      <td>7409</td>\n      <td>299.0</td>\n      <td>1.0</td>\n    </tr>\n    <tr>\n      <th>2935845</th>\n      <td>09.10.2015</td>\n      <td>33</td>\n      <td>25</td>\n      <td>7460</td>\n      <td>299.0</td>\n      <td>1.0</td>\n    </tr>\n    <tr>\n      <th>2935846</th>\n      <td>14.10.2015</td>\n      <td>33</td>\n      <td>25</td>\n      <td>7459</td>\n      <td>349.0</td>\n      <td>1.0</td>\n    </tr>\n    <tr>\n      <th>2935847</th>\n      <td>22.10.2015</td>\n      <td>33</td>\n      <td>25</td>\n      <td>7440</td>\n      <td>299.0</td>\n      <td>1.0</td>\n    </tr>\n    <tr>\n      <th>2935848</th>\n      <td>03.10.2015</td>\n      <td>33</td>\n      <td>25</td>\n      <td>7460</td>\n      <td>299.0</td>\n      <td>1.0</td>\n    </tr>\n  </tbody>\n</table>\n<p>53514 rows × 6 columns</p>\n</div>"
     },
     "metadata": {}
    }
   ]
  },
  {
   "cell_type": "code",
   "metadata": {
    "tags": [],
    "cell_id": "00018-bc4bd7ba-55c0-49f0-9b56-5a9a1d4db576",
    "deepnote_to_be_reexecuted": false,
    "source_hash": "70fa6ff3",
    "execution_start": 1620653956627,
    "execution_millis": 38,
    "deepnote_cell_type": "code"
   },
   "source": "df_train.groupby(['date_block_num']).agg(['mean'])",
   "execution_count": null,
   "outputs": [
    {
     "output_type": "execute_result",
     "execution_count": 28,
     "data": {
      "application/vnd.deepnote.dataframe.v2+json": {
       "row_count": 1,
       "column_count": 4,
       "columns": [
        {
         "name": [
          "shop_id",
          "mean"
         ],
         "dtype": "float64",
         "stats": {
          "unique_count": 1,
          "nan_count": 0,
          "min": "31.58096946593415",
          "max": "31.58096946593415",
          "histogram": [
           {
            "bin_start": 31.08096946593415,
            "bin_end": 31.180969465934147,
            "count": 0
           },
           {
            "bin_start": 31.180969465934147,
            "bin_end": 31.28096946593415,
            "count": 0
           },
           {
            "bin_start": 31.28096946593415,
            "bin_end": 31.38096946593415,
            "count": 0
           },
           {
            "bin_start": 31.38096946593415,
            "bin_end": 31.480969465934148,
            "count": 0
           },
           {
            "bin_start": 31.480969465934148,
            "bin_end": 31.580969465934146,
            "count": 0
           },
           {
            "bin_start": 31.580969465934146,
            "bin_end": 31.680969465934147,
            "count": 1
           },
           {
            "bin_start": 31.680969465934147,
            "bin_end": 31.78096946593415,
            "count": 0
           },
           {
            "bin_start": 31.78096946593415,
            "bin_end": 31.880969465934147,
            "count": 0
           },
           {
            "bin_start": 31.880969465934147,
            "bin_end": 31.980969465934145,
            "count": 0
           },
           {
            "bin_start": 31.980969465934145,
            "bin_end": 32.080969465934146,
            "count": 0
           }
          ]
         }
        },
        {
         "name": [
          "item_id",
          "mean"
         ],
         "dtype": "float64",
         "stats": {
          "unique_count": 1,
          "nan_count": 0,
          "min": "10799.986582950256",
          "max": "10799.986582950256",
          "histogram": [
           {
            "bin_start": 10799.486582950256,
            "bin_end": 10799.586582950256,
            "count": 0
           },
           {
            "bin_start": 10799.586582950256,
            "bin_end": 10799.686582950257,
            "count": 0
           },
           {
            "bin_start": 10799.686582950257,
            "bin_end": 10799.786582950255,
            "count": 0
           },
           {
            "bin_start": 10799.786582950255,
            "bin_end": 10799.886582950256,
            "count": 0
           },
           {
            "bin_start": 10799.886582950256,
            "bin_end": 10799.986582950256,
            "count": 0
           },
           {
            "bin_start": 10799.986582950256,
            "bin_end": 10800.086582950256,
            "count": 1
           },
           {
            "bin_start": 10800.086582950256,
            "bin_end": 10800.186582950257,
            "count": 0
           },
           {
            "bin_start": 10800.186582950257,
            "bin_end": 10800.286582950255,
            "count": 0
           },
           {
            "bin_start": 10800.286582950255,
            "bin_end": 10800.386582950256,
            "count": 0
           },
           {
            "bin_start": 10800.386582950256,
            "bin_end": 10800.486582950256,
            "count": 0
           }
          ]
         }
        },
        {
         "name": [
          "item_price",
          "mean"
         ],
         "dtype": "float64",
         "stats": {
          "unique_count": 1,
          "nan_count": 0,
          "min": "1224.574825065101",
          "max": "1224.574825065101",
          "histogram": [
           {
            "bin_start": 1224.074825065101,
            "bin_end": 1224.174825065101,
            "count": 0
           },
           {
            "bin_start": 1224.174825065101,
            "bin_end": 1224.2748250651011,
            "count": 0
           },
           {
            "bin_start": 1224.2748250651011,
            "bin_end": 1224.374825065101,
            "count": 0
           },
           {
            "bin_start": 1224.374825065101,
            "bin_end": 1224.4748250651012,
            "count": 0
           },
           {
            "bin_start": 1224.4748250651012,
            "bin_end": 1224.574825065101,
            "count": 0
           },
           {
            "bin_start": 1224.574825065101,
            "bin_end": 1224.674825065101,
            "count": 1
           },
           {
            "bin_start": 1224.674825065101,
            "bin_end": 1224.7748250651011,
            "count": 0
           },
           {
            "bin_start": 1224.7748250651011,
            "bin_end": 1224.874825065101,
            "count": 0
           },
           {
            "bin_start": 1224.874825065101,
            "bin_end": 1224.9748250651012,
            "count": 0
           },
           {
            "bin_start": 1224.9748250651012,
            "bin_end": 1225.074825065101,
            "count": 0
           }
          ]
         }
        },
        {
         "name": [
          "item_cnt_day",
          "mean"
         ],
         "dtype": "float64",
         "stats": {
          "unique_count": 1,
          "nan_count": 0,
          "min": "1.327802070486228",
          "max": "1.327802070486228",
          "histogram": [
           {
            "bin_start": 0.8278020704862279,
            "bin_end": 0.9278020704862279,
            "count": 0
           },
           {
            "bin_start": 0.9278020704862279,
            "bin_end": 1.0278020704862278,
            "count": 0
           },
           {
            "bin_start": 1.0278020704862278,
            "bin_end": 1.127802070486228,
            "count": 0
           },
           {
            "bin_start": 1.127802070486228,
            "bin_end": 1.227802070486228,
            "count": 0
           },
           {
            "bin_start": 1.227802070486228,
            "bin_end": 1.327802070486228,
            "count": 0
           },
           {
            "bin_start": 1.327802070486228,
            "bin_end": 1.427802070486228,
            "count": 1
           },
           {
            "bin_start": 1.427802070486228,
            "bin_end": 1.5278020704862278,
            "count": 0
           },
           {
            "bin_start": 1.5278020704862278,
            "bin_end": 1.627802070486228,
            "count": 0
           },
           {
            "bin_start": 1.627802070486228,
            "bin_end": 1.727802070486228,
            "count": 0
           },
           {
            "bin_start": 1.727802070486228,
            "bin_end": 1.827802070486228,
            "count": 0
           }
          ]
         }
        },
        {
         "name": "_deepnote_index_column",
         "dtype": "int64"
        }
       ],
       "rows_top": [
        {
         "('shop_id', 'mean')": 31.58096946593415,
         "('item_id', 'mean')": 10799.986582950256,
         "('item_price', 'mean')": 1224.574825065101,
         "('item_cnt_day', 'mean')": 1.327802070486228,
         "_deepnote_index_column": 33
        }
       ],
       "rows_bottom": null
      },
      "text/plain": "                  shop_id       item_id   item_price item_cnt_day\n                     mean          mean         mean         mean\ndate_block_num                                                   \n33              31.580969  10799.986583  1224.574825     1.327802",
      "text/html": "<div>\n<style scoped>\n    .dataframe tbody tr th:only-of-type {\n        vertical-align: middle;\n    }\n\n    .dataframe tbody tr th {\n        vertical-align: top;\n    }\n\n    .dataframe thead tr th {\n        text-align: left;\n    }\n\n    .dataframe thead tr:last-of-type th {\n        text-align: right;\n    }\n</style>\n<table border=\"1\" class=\"dataframe\">\n  <thead>\n    <tr>\n      <th></th>\n      <th>shop_id</th>\n      <th>item_id</th>\n      <th>item_price</th>\n      <th>item_cnt_day</th>\n    </tr>\n    <tr>\n      <th></th>\n      <th>mean</th>\n      <th>mean</th>\n      <th>mean</th>\n      <th>mean</th>\n    </tr>\n    <tr>\n      <th>date_block_num</th>\n      <th></th>\n      <th></th>\n      <th></th>\n      <th></th>\n    </tr>\n  </thead>\n  <tbody>\n    <tr>\n      <th>33</th>\n      <td>31.580969</td>\n      <td>10799.986583</td>\n      <td>1224.574825</td>\n      <td>1.327802</td>\n    </tr>\n  </tbody>\n</table>\n</div>"
     },
     "metadata": {}
    }
   ]
  },
  {
   "cell_type": "code",
   "metadata": {
    "tags": [],
    "cell_id": "00020-9133ff47-cde7-4e20-abbd-33388e55ffcf",
    "deepnote_to_be_reexecuted": false,
    "source_hash": "b474372b",
    "execution_start": 1620656187631,
    "execution_millis": 7,
    "deepnote_cell_type": "code"
   },
   "source": "df_train = df_train[df_train.item_cnt_day < 0]",
   "execution_count": null,
   "outputs": []
  },
  {
   "cell_type": "code",
   "metadata": {
    "tags": [],
    "cell_id": "00020-19c9c108-12d2-4b3a-9cc0-d356545c81e5",
    "deepnote_to_be_reexecuted": false,
    "source_hash": "e7a4a97c",
    "execution_start": 1620656198545,
    "execution_millis": 16,
    "deepnote_cell_type": "code"
   },
   "source": "df_train",
   "execution_count": null,
   "outputs": [
    {
     "output_type": "execute_result",
     "execution_count": 35,
     "data": {
      "application/vnd.deepnote.dataframe.v2+json": {
       "row_count": 128,
       "column_count": 7,
       "columns": [
        {
         "name": "date",
         "dtype": "object",
         "stats": {
          "unique_count": 31,
          "nan_count": 0,
          "categories": [
           {
            "name": "04.10.2015",
            "count": 9
           },
           {
            "name": "17.10.2015",
            "count": 8
           },
           {
            "name": "29 others",
            "count": 111
           }
          ]
         }
        },
        {
         "name": "date_block_num",
         "dtype": "int64",
         "stats": {
          "unique_count": 1,
          "nan_count": 0,
          "min": "33",
          "max": "33",
          "histogram": [
           {
            "bin_start": 32.5,
            "bin_end": 32.6,
            "count": 0
           },
           {
            "bin_start": 32.6,
            "bin_end": 32.7,
            "count": 0
           },
           {
            "bin_start": 32.7,
            "bin_end": 32.8,
            "count": 0
           },
           {
            "bin_start": 32.8,
            "bin_end": 32.9,
            "count": 0
           },
           {
            "bin_start": 32.9,
            "bin_end": 33,
            "count": 0
           },
           {
            "bin_start": 33,
            "bin_end": 33.1,
            "count": 128
           },
           {
            "bin_start": 33.1,
            "bin_end": 33.2,
            "count": 0
           },
           {
            "bin_start": 33.2,
            "bin_end": 33.3,
            "count": 0
           },
           {
            "bin_start": 33.3,
            "bin_end": 33.4,
            "count": 0
           },
           {
            "bin_start": 33.4,
            "bin_end": 33.5,
            "count": 0
           }
          ]
         }
        },
        {
         "name": "shop_id",
         "dtype": "int64",
         "stats": {
          "unique_count": 37,
          "nan_count": 0,
          "min": "3",
          "max": "59",
          "histogram": [
           {
            "bin_start": 3,
            "bin_end": 8.6,
            "count": 10
           },
           {
            "bin_start": 8.6,
            "bin_end": 14.2,
            "count": 11
           },
           {
            "bin_start": 14.2,
            "bin_end": 19.799999999999997,
            "count": 13
           },
           {
            "bin_start": 19.799999999999997,
            "bin_end": 25.4,
            "count": 18
           },
           {
            "bin_start": 25.4,
            "bin_end": 31,
            "count": 6
           },
           {
            "bin_start": 31,
            "bin_end": 36.599999999999994,
            "count": 15
           },
           {
            "bin_start": 36.599999999999994,
            "bin_end": 42.199999999999996,
            "count": 13
           },
           {
            "bin_start": 42.199999999999996,
            "bin_end": 47.8,
            "count": 12
           },
           {
            "bin_start": 47.8,
            "bin_end": 53.4,
            "count": 19
           },
           {
            "bin_start": 53.4,
            "bin_end": 59,
            "count": 11
           }
          ]
         }
        },
        {
         "name": "item_id",
         "dtype": "int64",
         "stats": {
          "unique_count": 115,
          "nan_count": 0,
          "min": "1523",
          "max": "21404",
          "histogram": [
           {
            "bin_start": 1523,
            "bin_end": 3511.1,
            "count": 28
           },
           {
            "bin_start": 3511.1,
            "bin_end": 5499.2,
            "count": 18
           },
           {
            "bin_start": 5499.2,
            "bin_end": 7487.299999999999,
            "count": 14
           },
           {
            "bin_start": 7487.299999999999,
            "bin_end": 9475.4,
            "count": 16
           },
           {
            "bin_start": 9475.4,
            "bin_end": 11463.5,
            "count": 11
           },
           {
            "bin_start": 11463.5,
            "bin_end": 13451.599999999999,
            "count": 7
           },
           {
            "bin_start": 13451.599999999999,
            "bin_end": 15439.699999999999,
            "count": 8
           },
           {
            "bin_start": 15439.699999999999,
            "bin_end": 17427.8,
            "count": 11
           },
           {
            "bin_start": 17427.8,
            "bin_end": 19415.899999999998,
            "count": 7
           },
           {
            "bin_start": 19415.899999999998,
            "bin_end": 21404,
            "count": 8
           }
          ]
         }
        },
        {
         "name": "item_price",
         "dtype": "float64",
         "stats": {
          "unique_count": 52,
          "nan_count": 0,
          "min": "99.0",
          "max": "31199.0",
          "histogram": [
           {
            "bin_start": 99,
            "bin_end": 3209,
            "count": 105
           },
           {
            "bin_start": 3209,
            "bin_end": 6319,
            "count": 18
           },
           {
            "bin_start": 6319,
            "bin_end": 9429,
            "count": 2
           },
           {
            "bin_start": 9429,
            "bin_end": 12539,
            "count": 0
           },
           {
            "bin_start": 12539,
            "bin_end": 15649,
            "count": 0
           },
           {
            "bin_start": 15649,
            "bin_end": 18759,
            "count": 0
           },
           {
            "bin_start": 18759,
            "bin_end": 21869,
            "count": 1
           },
           {
            "bin_start": 21869,
            "bin_end": 24979,
            "count": 0
           },
           {
            "bin_start": 24979,
            "bin_end": 28089,
            "count": 0
           },
           {
            "bin_start": 28089,
            "bin_end": 31199,
            "count": 2
           }
          ]
         }
        },
        {
         "name": "item_cnt_day",
         "dtype": "float64",
         "stats": {
          "unique_count": 1,
          "nan_count": 0,
          "min": "-1.0",
          "max": "-1.0",
          "histogram": [
           {
            "bin_start": -1.5,
            "bin_end": -1.4,
            "count": 0
           },
           {
            "bin_start": -1.4,
            "bin_end": -1.3,
            "count": 0
           },
           {
            "bin_start": -1.3,
            "bin_end": -1.2,
            "count": 0
           },
           {
            "bin_start": -1.2,
            "bin_end": -1.1,
            "count": 0
           },
           {
            "bin_start": -1.1,
            "bin_end": -1,
            "count": 0
           },
           {
            "bin_start": -1,
            "bin_end": -0.8999999999999999,
            "count": 128
           },
           {
            "bin_start": -0.8999999999999999,
            "bin_end": -0.7999999999999999,
            "count": 0
           },
           {
            "bin_start": -0.7999999999999999,
            "bin_end": -0.7,
            "count": 0
           },
           {
            "bin_start": -0.7,
            "bin_end": -0.6,
            "count": 0
           },
           {
            "bin_start": -0.6,
            "bin_end": -0.5,
            "count": 0
           }
          ]
         }
        },
        {
         "name": "month",
         "dtype": "object",
         "stats": {
          "unique_count": 31,
          "nan_count": 0,
          "categories": [
           {
            "name": "04.10.2015",
            "count": 9
           },
           {
            "name": "17.10.2015",
            "count": 8
           },
           {
            "name": "29 others",
            "count": 111
           }
          ]
         }
        },
        {
         "name": "_deepnote_index_column",
         "dtype": "int64"
        }
       ],
       "rows_top": [
        {
         "date": "15.10.2015",
         "date_block_num": 33,
         "shop_id": 46,
         "item_id": 3350,
         "item_price": 2999,
         "item_cnt_day": -1,
         "month": "15.10.2015",
         "_deepnote_index_column": 2883677
        },
        {
         "date": "08.10.2015",
         "date_block_num": 33,
         "shop_id": 46,
         "item_id": 6503,
         "item_price": 1999,
         "item_cnt_day": -1,
         "month": "08.10.2015",
         "_deepnote_index_column": 2883749
        },
        {
         "date": "04.10.2015",
         "date_block_num": 33,
         "shop_id": 41,
         "item_id": 3353,
         "item_price": 3999,
         "item_cnt_day": -1,
         "month": "04.10.2015",
         "_deepnote_index_column": 2884570
        },
        {
         "date": "19.10.2015",
         "date_block_num": 33,
         "shop_id": 44,
         "item_id": 3835,
         "item_price": 2199,
         "item_cnt_day": -1,
         "month": "19.10.2015",
         "_deepnote_index_column": 2885471
        },
        {
         "date": "08.10.2015",
         "date_block_num": 33,
         "shop_id": 42,
         "item_id": 12664,
         "item_price": 249,
         "item_cnt_day": -1,
         "month": "08.10.2015",
         "_deepnote_index_column": 2885519
        },
        {
         "date": "31.10.2015",
         "date_block_num": 33,
         "shop_id": 42,
         "item_id": 16790,
         "item_price": 2464,
         "item_cnt_day": -1,
         "month": "31.10.2015",
         "_deepnote_index_column": 2886370
        },
        {
         "date": "26.10.2015",
         "date_block_num": 33,
         "shop_id": 42,
         "item_id": 14327,
         "item_price": 299,
         "item_cnt_day": -1,
         "month": "26.10.2015",
         "_deepnote_index_column": 2886827
        },
        {
         "date": "26.10.2015",
         "date_block_num": 33,
         "shop_id": 42,
         "item_id": 15686,
         "item_price": 299,
         "item_cnt_day": -1,
         "month": "26.10.2015",
         "_deepnote_index_column": 2886930
        },
        {
         "date": "12.10.2015",
         "date_block_num": 33,
         "shop_id": 42,
         "item_id": 3350,
         "item_price": 2999,
         "item_cnt_day": -1,
         "month": "12.10.2015",
         "_deepnote_index_column": 2887419
        },
        {
         "date": "14.10.2015",
         "date_block_num": 33,
         "shop_id": 42,
         "item_id": 9275,
         "item_price": 1299,
         "item_cnt_day": -1,
         "month": "14.10.2015",
         "_deepnote_index_column": 2888131
        },
        {
         "date": "06.10.2015",
         "date_block_num": 33,
         "shop_id": 42,
         "item_id": 8113,
         "item_price": 349,
         "item_cnt_day": -1,
         "month": "06.10.2015",
         "_deepnote_index_column": 2888148
        },
        {
         "date": "17.10.2015",
         "date_block_num": 33,
         "shop_id": 35,
         "item_id": 3042,
         "item_price": 3199,
         "item_cnt_day": -1,
         "month": "17.10.2015",
         "_deepnote_index_column": 2889573
        },
        {
         "date": "18.10.2015",
         "date_block_num": 33,
         "shop_id": 34,
         "item_id": 7233,
         "item_price": 599,
         "item_cnt_day": -1,
         "month": "18.10.2015",
         "_deepnote_index_column": 2889857
        },
        {
         "date": "08.10.2015",
         "date_block_num": 33,
         "shop_id": 34,
         "item_id": 13499,
         "item_price": 31199,
         "item_cnt_day": -1,
         "month": "08.10.2015",
         "_deepnote_index_column": 2889885
        },
        {
         "date": "07.10.2015",
         "date_block_num": 33,
         "shop_id": 35,
         "item_id": 1557,
         "item_price": 1999,
         "item_cnt_day": -1,
         "month": "07.10.2015",
         "_deepnote_index_column": 2890092
        },
        {
         "date": "02.10.2015",
         "date_block_num": 33,
         "shop_id": 31,
         "item_id": 13822,
         "item_price": 249,
         "item_cnt_day": -1,
         "month": "02.10.2015",
         "_deepnote_index_column": 2890803
        },
        {
         "date": "28.10.2015",
         "date_block_num": 33,
         "shop_id": 31,
         "item_id": 16353,
         "item_price": 249,
         "item_cnt_day": -1,
         "month": "28.10.2015",
         "_deepnote_index_column": 2891591
        },
        {
         "date": "11.10.2015",
         "date_block_num": 33,
         "shop_id": 31,
         "item_id": 15706,
         "item_price": 169,
         "item_cnt_day": -1,
         "month": "11.10.2015",
         "_deepnote_index_column": 2891685
        },
        {
         "date": "22.10.2015",
         "date_block_num": 33,
         "shop_id": 38,
         "item_id": 13246,
         "item_price": 359,
         "item_cnt_day": -1,
         "month": "22.10.2015",
         "_deepnote_index_column": 2892049
        },
        {
         "date": "11.10.2015",
         "date_block_num": 33,
         "shop_id": 38,
         "item_id": 1988,
         "item_price": 1299,
         "item_cnt_day": -1,
         "month": "11.10.2015",
         "_deepnote_index_column": 2892477
        },
        {
         "date": "31.10.2015",
         "date_block_num": 33,
         "shop_id": 38,
         "item_id": 1846,
         "item_price": 1199,
         "item_cnt_day": -1,
         "month": "31.10.2015",
         "_deepnote_index_column": 2892512
        },
        {
         "date": "17.10.2015",
         "date_block_num": 33,
         "shop_id": 39,
         "item_id": 7834,
         "item_price": 799,
         "item_cnt_day": -1,
         "month": "17.10.2015",
         "_deepnote_index_column": 2892642
        },
        {
         "date": "28.10.2015",
         "date_block_num": 33,
         "shop_id": 38,
         "item_id": 19650,
         "item_price": 299,
         "item_cnt_day": -1,
         "month": "28.10.2015",
         "_deepnote_index_column": 2893344
        },
        {
         "date": "27.10.2015",
         "date_block_num": 33,
         "shop_id": 35,
         "item_id": 16245,
         "item_price": 1099,
         "item_cnt_day": -1,
         "month": "27.10.2015",
         "_deepnote_index_column": 2893443
        },
        {
         "date": "30.10.2015",
         "date_block_num": 33,
         "shop_id": 36,
         "item_id": 10207,
         "item_price": 1199,
         "item_cnt_day": -1,
         "month": "30.10.2015",
         "_deepnote_index_column": 2894554
        },
        {
         "date": "27.10.2015",
         "date_block_num": 33,
         "shop_id": 36,
         "item_id": 12421,
         "item_price": 249,
         "item_cnt_day": -1,
         "month": "27.10.2015",
         "_deepnote_index_column": 2894620
        },
        {
         "date": "25.10.2015",
         "date_block_num": 33,
         "shop_id": 36,
         "item_id": 6847,
         "item_price": 299,
         "item_cnt_day": -1,
         "month": "25.10.2015",
         "_deepnote_index_column": 2894706
        },
        {
         "date": "06.10.2015",
         "date_block_num": 33,
         "shop_id": 56,
         "item_id": 19858,
         "item_price": 249,
         "item_cnt_day": -1,
         "month": "06.10.2015",
         "_deepnote_index_column": 2895124
        },
        {
         "date": "21.10.2015",
         "date_block_num": 33,
         "shop_id": 57,
         "item_id": 8448,
         "item_price": 4890,
         "item_cnt_day": -1,
         "month": "21.10.2015",
         "_deepnote_index_column": 2895794
        },
        {
         "date": "21.10.2015",
         "date_block_num": 33,
         "shop_id": 57,
         "item_id": 3353,
         "item_price": 3999,
         "item_cnt_day": -1,
         "month": "21.10.2015",
         "_deepnote_index_column": 2896277
        },
        {
         "date": "05.10.2015",
         "date_block_num": 33,
         "shop_id": 57,
         "item_id": 4894,
         "item_price": 3999,
         "item_cnt_day": -1,
         "month": "05.10.2015",
         "_deepnote_index_column": 2896469
        },
        {
         "date": "17.10.2015",
         "date_block_num": 33,
         "shop_id": 56,
         "item_id": 3237,
         "item_price": 1998,
         "item_cnt_day": -1,
         "month": "17.10.2015",
         "_deepnote_index_column": 2897987
        },
        {
         "date": "18.10.2015",
         "date_block_num": 33,
         "shop_id": 56,
         "item_id": 1538,
         "item_price": 999,
         "item_cnt_day": -1,
         "month": "18.10.2015",
         "_deepnote_index_column": 2898024
        },
        {
         "date": "17.10.2015",
         "date_block_num": 33,
         "shop_id": 56,
         "item_id": 1971,
         "item_price": 3598,
         "item_cnt_day": -1,
         "month": "17.10.2015",
         "_deepnote_index_column": 2898035
        },
        {
         "date": "20.10.2015",
         "date_block_num": 33,
         "shop_id": 58,
         "item_id": 15680,
         "item_price": 399,
         "item_cnt_day": -1,
         "month": "20.10.2015",
         "_deepnote_index_column": 2898098
        },
        {
         "date": "16.10.2015",
         "date_block_num": 33,
         "shop_id": 59,
         "item_id": 21404,
         "item_price": 169,
         "item_cnt_day": -1,
         "month": "16.10.2015",
         "_deepnote_index_column": 2899124
        },
        {
         "date": "10.10.2015",
         "date_block_num": 33,
         "shop_id": 59,
         "item_id": 6503,
         "item_price": 1999,
         "item_cnt_day": -1,
         "month": "10.10.2015",
         "_deepnote_index_column": 2899476
        },
        {
         "date": "07.10.2015",
         "date_block_num": 33,
         "shop_id": 58,
         "item_id": 3115,
         "item_price": 349,
         "item_cnt_day": -1,
         "month": "07.10.2015",
         "_deepnote_index_column": 2900633
        },
        {
         "date": "01.10.2015",
         "date_block_num": 33,
         "shop_id": 48,
         "item_id": 6674,
         "item_price": 29990,
         "item_cnt_day": -1,
         "month": "01.10.2015",
         "_deepnote_index_column": 2901239
        },
        {
         "date": "28.10.2015",
         "date_block_num": 33,
         "shop_id": 48,
         "item_id": 5232,
         "item_price": 1199,
         "item_cnt_day": -1,
         "month": "28.10.2015",
         "_deepnote_index_column": 2901345
        },
        {
         "date": "25.10.2015",
         "date_block_num": 33,
         "shop_id": 48,
         "item_id": 5908,
         "item_price": 3199,
         "item_cnt_day": -1,
         "month": "25.10.2015",
         "_deepnote_index_column": 2901427
        },
        {
         "date": "28.10.2015",
         "date_block_num": 33,
         "shop_id": 48,
         "item_id": 9361,
         "item_price": 699,
         "item_cnt_day": -1,
         "month": "28.10.2015",
         "_deepnote_index_column": 2901541
        },
        {
         "date": "26.10.2015",
         "date_block_num": 33,
         "shop_id": 48,
         "item_id": 10216,
         "item_price": 149,
         "item_cnt_day": -1,
         "month": "26.10.2015",
         "_deepnote_index_column": 2901605
        },
        {
         "date": "22.10.2015",
         "date_block_num": 33,
         "shop_id": 47,
         "item_id": 19795,
         "item_price": 299,
         "item_cnt_day": -1,
         "month": "22.10.2015",
         "_deepnote_index_column": 2901738
        },
        {
         "date": "04.10.2015",
         "date_block_num": 33,
         "shop_id": 48,
         "item_id": 4244,
         "item_price": 1299,
         "item_cnt_day": -1,
         "month": "04.10.2015",
         "_deepnote_index_column": 2901907
        },
        {
         "date": "01.10.2015",
         "date_block_num": 33,
         "shop_id": 48,
         "item_id": 2860,
         "item_price": 1799,
         "item_cnt_day": -1,
         "month": "01.10.2015",
         "_deepnote_index_column": 2901944
        },
        {
         "date": "14.10.2015",
         "date_block_num": 33,
         "shop_id": 49,
         "item_id": 15040,
         "item_price": 599,
         "item_cnt_day": -1,
         "month": "14.10.2015",
         "_deepnote_index_column": 2902274
        },
        {
         "date": "29.10.2015",
         "date_block_num": 33,
         "shop_id": 48,
         "item_id": 15571,
         "item_price": 229,
         "item_cnt_day": -1,
         "month": "29.10.2015",
         "_deepnote_index_column": 2902431
        },
        {
         "date": "31.10.2015",
         "date_block_num": 33,
         "shop_id": 47,
         "item_id": 4056,
         "item_price": 2999,
         "item_cnt_day": -1,
         "month": "31.10.2015",
         "_deepnote_index_column": 2902831
        },
        {
         "date": "09.10.2015",
         "date_block_num": 33,
         "shop_id": 47,
         "item_id": 3733,
         "item_price": 4499,
         "item_cnt_day": -1,
         "month": "09.10.2015",
         "_deepnote_index_column": 2902852
        },
        {
         "date": "05.10.2015",
         "date_block_num": 33,
         "shop_id": 47,
         "item_id": 3353,
         "item_price": 3999,
         "item_cnt_day": -1,
         "month": "05.10.2015",
         "_deepnote_index_column": 2902970
        },
        {
         "date": "25.10.2015",
         "date_block_num": 33,
         "shop_id": 47,
         "item_id": 4838,
         "item_price": 1399,
         "item_cnt_day": -1,
         "month": "25.10.2015",
         "_deepnote_index_column": 2903152
        },
        {
         "date": "14.10.2015",
         "date_block_num": 33,
         "shop_id": 47,
         "item_id": 15117,
         "item_price": 249,
         "item_cnt_day": -1,
         "month": "14.10.2015",
         "_deepnote_index_column": 2903671
        },
        {
         "date": "02.10.2015",
         "date_block_num": 33,
         "shop_id": 47,
         "item_id": 12882,
         "item_price": 749,
         "item_cnt_day": -1,
         "month": "02.10.2015",
         "_deepnote_index_column": 2903764
        },
        {
         "date": "17.10.2015",
         "date_block_num": 33,
         "shop_id": 47,
         "item_id": 16113,
         "item_price": 1599,
         "item_cnt_day": -1,
         "month": "17.10.2015",
         "_deepnote_index_column": 2903981
        },
        {
         "date": "11.10.2015",
         "date_block_num": 33,
         "shop_id": 47,
         "item_id": 11215,
         "item_price": 349,
         "item_cnt_day": -1,
         "month": "11.10.2015",
         "_deepnote_index_column": 2904304
        },
        {
         "date": "15.10.2015",
         "date_block_num": 33,
         "shop_id": 53,
         "item_id": 3731,
         "item_price": 2199,
         "item_cnt_day": -1,
         "month": "15.10.2015",
         "_deepnote_index_column": 2904514
        },
        {
         "date": "18.10.2015",
         "date_block_num": 33,
         "shop_id": 53,
         "item_id": 4806,
         "item_price": 99,
         "item_cnt_day": -1,
         "month": "18.10.2015",
         "_deepnote_index_column": 2904537
        },
        {
         "date": "12.10.2015",
         "date_block_num": 33,
         "shop_id": 53,
         "item_id": 7836,
         "item_price": 1599,
         "item_cnt_day": -1,
         "month": "12.10.2015",
         "_deepnote_index_column": 2904720
        },
        {
         "date": "17.10.2015",
         "date_block_num": 33,
         "shop_id": 52,
         "item_id": 18186,
         "item_price": 299,
         "item_cnt_day": -1,
         "month": "17.10.2015",
         "_deepnote_index_column": 2904790
        },
        {
         "date": "17.10.2015",
         "date_block_num": 33,
         "shop_id": 52,
         "item_id": 18187,
         "item_price": 299,
         "item_cnt_day": -1,
         "month": "17.10.2015",
         "_deepnote_index_column": 2904802
        },
        {
         "date": "18.10.2015",
         "date_block_num": 33,
         "shop_id": 53,
         "item_id": 2308,
         "item_price": 299,
         "item_cnt_day": -1,
         "month": "18.10.2015",
         "_deepnote_index_column": 2905011
        },
        {
         "date": "29.10.2015",
         "date_block_num": 33,
         "shop_id": 50,
         "item_id": 14147,
         "item_price": 299,
         "item_cnt_day": -1,
         "month": "29.10.2015",
         "_deepnote_index_column": 2906248
        },
        {
         "date": "14.10.2015",
         "date_block_num": 33,
         "shop_id": 52,
         "item_id": 8452,
         "item_price": 2990,
         "item_cnt_day": -1,
         "month": "14.10.2015",
         "_deepnote_index_column": 2906771
        },
        {
         "date": "30.10.2015",
         "date_block_num": 33,
         "shop_id": 52,
         "item_id": 10378,
         "item_price": 169,
         "item_cnt_day": -1,
         "month": "30.10.2015",
         "_deepnote_index_column": 2907054
        },
        {
         "date": "10.10.2015",
         "date_block_num": 33,
         "shop_id": 52,
         "item_id": 1905,
         "item_price": 249,
         "item_cnt_day": -1,
         "month": "10.10.2015",
         "_deepnote_index_column": 2907513
        },
        {
         "date": "05.10.2015",
         "date_block_num": 33,
         "shop_id": 15,
         "item_id": 17655,
         "item_price": 2999,
         "item_cnt_day": -1,
         "month": "05.10.2015",
         "_deepnote_index_column": 2907960
        },
        {
         "date": "06.10.2015",
         "date_block_num": 33,
         "shop_id": 15,
         "item_id": 17655,
         "item_price": 2999,
         "item_cnt_day": -1,
         "month": "06.10.2015",
         "_deepnote_index_column": 2907961
        },
        {
         "date": "05.10.2015",
         "date_block_num": 33,
         "shop_id": 15,
         "item_id": 6126,
         "item_price": 698,
         "item_cnt_day": -1,
         "month": "05.10.2015",
         "_deepnote_index_column": 2908343
        },
        {
         "date": "18.10.2015",
         "date_block_num": 33,
         "shop_id": 15,
         "item_id": 7893,
         "item_price": 2990,
         "item_cnt_day": -1,
         "month": "18.10.2015",
         "_deepnote_index_column": 2908385
        },
        {
         "date": "02.10.2015",
         "date_block_num": 33,
         "shop_id": 16,
         "item_id": 10210,
         "item_price": 3499,
         "item_cnt_day": -1,
         "month": "02.10.2015",
         "_deepnote_index_column": 2908632
        },
        {
         "date": "15.10.2015",
         "date_block_num": 33,
         "shop_id": 16,
         "item_id": 3350,
         "item_price": 2999,
         "item_cnt_day": -1,
         "month": "15.10.2015",
         "_deepnote_index_column": 2908955
        },
        {
         "date": "22.10.2015",
         "date_block_num": 33,
         "shop_id": 16,
         "item_id": 3343,
         "item_price": 1499,
         "item_cnt_day": -1,
         "month": "22.10.2015",
         "_deepnote_index_column": 2908959
        },
        {
         "date": "13.10.2015",
         "date_block_num": 33,
         "shop_id": 12,
         "item_id": 9242,
         "item_price": 1500,
         "item_cnt_day": -1,
         "month": "13.10.2015",
         "_deepnote_index_column": 2909862
        },
        {
         "date": "04.10.2015",
         "date_block_num": 33,
         "shop_id": 14,
         "item_id": 19902,
         "item_price": 199,
         "item_cnt_day": -1,
         "month": "04.10.2015",
         "_deepnote_index_column": 2910202
        },
        {
         "date": "04.10.2015",
         "date_block_num": 33,
         "shop_id": 14,
         "item_id": 19093,
         "item_price": 199,
         "item_cnt_day": -1,
         "month": "04.10.2015",
         "_deepnote_index_column": 2910231
        },
        {
         "date": "05.10.2015",
         "date_block_num": 33,
         "shop_id": 15,
         "item_id": 1716,
         "item_price": 349,
         "item_cnt_day": -1,
         "month": "05.10.2015",
         "_deepnote_index_column": 2910616
        },
        {
         "date": "19.10.2015",
         "date_block_num": 33,
         "shop_id": 14,
         "item_id": 8035,
         "item_price": 299,
         "item_cnt_day": -1,
         "month": "19.10.2015",
         "_deepnote_index_column": 2910647
        },
        {
         "date": "03.10.2015",
         "date_block_num": 33,
         "shop_id": 14,
         "item_id": 6847,
         "item_price": 299,
         "item_cnt_day": -1,
         "month": "03.10.2015",
         "_deepnote_index_column": 2910821
        },
        {
         "date": "27.10.2015",
         "date_block_num": 33,
         "shop_id": 14,
         "item_id": 9976,
         "item_price": 199,
         "item_cnt_day": -1,
         "month": "27.10.2015",
         "_deepnote_index_column": 2910855
        },
        {
         "date": "24.10.2015",
         "date_block_num": 33,
         "shop_id": 22,
         "item_id": 4143,
         "item_price": 990,
         "item_cnt_day": -1,
         "month": "24.10.2015",
         "_deepnote_index_column": 2912225
        },
        {
         "date": "24.10.2015",
         "date_block_num": 33,
         "shop_id": 18,
         "item_id": 1547,
         "item_price": 5599,
         "item_cnt_day": -1,
         "month": "24.10.2015",
         "_deepnote_index_column": 2913411
        },
        {
         "date": "11.10.2015",
         "date_block_num": 33,
         "shop_id": 19,
         "item_id": 7791,
         "item_price": 1799,
         "item_cnt_day": -1,
         "month": "11.10.2015",
         "_deepnote_index_column": 2913794
        },
        {
         "date": "21.10.2015",
         "date_block_num": 33,
         "shop_id": 19,
         "item_id": 4870,
         "item_price": 1299,
         "item_cnt_day": -1,
         "month": "21.10.2015",
         "_deepnote_index_column": 2913892
        },
        {
         "date": "16.10.2015",
         "date_block_num": 33,
         "shop_id": 19,
         "item_id": 3351,
         "item_price": 3999,
         "item_cnt_day": -1,
         "month": "16.10.2015",
         "_deepnote_index_column": 2914437
        },
        {
         "date": "23.10.2015",
         "date_block_num": 33,
         "shop_id": 19,
         "item_id": 3027,
         "item_price": 2499,
         "item_cnt_day": -1,
         "month": "23.10.2015",
         "_deepnote_index_column": 2914573
        },
        {
         "date": "23.10.2015",
         "date_block_num": 33,
         "shop_id": 5,
         "item_id": 5666,
         "item_price": 3590,
         "item_cnt_day": -1,
         "month": "23.10.2015",
         "_deepnote_index_column": 2915339
        },
        {
         "date": "17.10.2015",
         "date_block_num": 33,
         "shop_id": 5,
         "item_id": 3076,
         "item_price": 1199,
         "item_cnt_day": -1,
         "month": "17.10.2015",
         "_deepnote_index_column": 2915432
        },
        {
         "date": "16.10.2015",
         "date_block_num": 33,
         "shop_id": 6,
         "item_id": 3352,
         "item_price": 2999,
         "item_cnt_day": -1,
         "month": "16.10.2015",
         "_deepnote_index_column": 2916256
        },
        {
         "date": "04.10.2015",
         "date_block_num": 33,
         "shop_id": 3,
         "item_id": 4244,
         "item_price": 1299,
         "item_cnt_day": -1,
         "month": "04.10.2015",
         "_deepnote_index_column": 2916639
        },
        {
         "date": "04.10.2015",
         "date_block_num": 33,
         "shop_id": 3,
         "item_id": 3556,
         "item_price": 1299,
         "item_cnt_day": -1,
         "month": "04.10.2015",
         "_deepnote_index_column": 2916799
        },
        {
         "date": "04.10.2015",
         "date_block_num": 33,
         "shop_id": 3,
         "item_id": 7883,
         "item_price": 398,
         "item_cnt_day": -1,
         "month": "04.10.2015",
         "_deepnote_index_column": 2917848
        },
        {
         "date": "14.10.2015",
         "date_block_num": 33,
         "shop_id": 9,
         "item_id": 18103,
         "item_price": 3799,
         "item_cnt_day": -1,
         "month": "14.10.2015",
         "_deepnote_index_column": 2918221
        },
        {
         "date": "04.10.2015",
         "date_block_num": 33,
         "shop_id": 9,
         "item_id": 21036,
         "item_price": 1899,
         "item_cnt_day": -1,
         "month": "04.10.2015",
         "_deepnote_index_column": 2918395
        },
        {
         "date": "15.10.2015",
         "date_block_num": 33,
         "shop_id": 12,
         "item_id": 1971,
         "item_price": 3598,
         "item_cnt_day": -1,
         "month": "15.10.2015",
         "_deepnote_index_column": 2919101
        },
        {
         "date": "26.10.2015",
         "date_block_num": 33,
         "shop_id": 12,
         "item_id": 5488,
         "item_price": 2799,
         "item_cnt_day": -1,
         "month": "26.10.2015",
         "_deepnote_index_column": 2919263
        },
        {
         "date": "13.10.2015",
         "date_block_num": 33,
         "shop_id": 12,
         "item_id": 5041,
         "item_price": 3499,
         "item_cnt_day": -1,
         "month": "13.10.2015",
         "_deepnote_index_column": 2919311
        },
        {
         "date": "04.10.2015",
         "date_block_num": 33,
         "shop_id": 7,
         "item_id": 7834,
         "item_price": 799,
         "item_cnt_day": -1,
         "month": "04.10.2015",
         "_deepnote_index_column": 2920957
        },
        {
         "date": "14.10.2015",
         "date_block_num": 33,
         "shop_id": 7,
         "item_id": 16179,
         "item_price": 2499,
         "item_cnt_day": -1,
         "month": "14.10.2015",
         "_deepnote_index_column": 2921035
        },
        {
         "date": "07.10.2015",
         "date_block_num": 33,
         "shop_id": 7,
         "item_id": 3351,
         "item_price": 3999,
         "item_cnt_day": -1,
         "month": "07.10.2015",
         "_deepnote_index_column": 2921261
        },
        {
         "date": "02.10.2015",
         "date_block_num": 33,
         "shop_id": 7,
         "item_id": 4415,
         "item_price": 1500,
         "item_cnt_day": -1,
         "month": "02.10.2015",
         "_deepnote_index_column": 2921586
        },
        {
         "date": "02.10.2015",
         "date_block_num": 33,
         "shop_id": 26,
         "item_id": 21363,
         "item_price": 3199,
         "item_cnt_day": -1,
         "month": "02.10.2015",
         "_deepnote_index_column": 2922502
        },
        {
         "date": "26.10.2015",
         "date_block_num": 33,
         "shop_id": 28,
         "item_id": 5656,
         "item_price": 5990,
         "item_cnt_day": -1,
         "month": "26.10.2015",
         "_deepnote_index_column": 2923221
        },
        {
         "date": "20.10.2015",
         "date_block_num": 33,
         "shop_id": 28,
         "item_id": 7230,
         "item_price": 699,
         "item_cnt_day": -1,
         "month": "20.10.2015",
         "_deepnote_index_column": 2923357
        },
        {
         "date": "27.10.2015",
         "date_block_num": 33,
         "shop_id": 28,
         "item_id": 7223,
         "item_price": 3999,
         "item_cnt_day": -1,
         "month": "27.10.2015",
         "_deepnote_index_column": 2923403
        },
        {
         "date": "03.10.2015",
         "date_block_num": 33,
         "shop_id": 25,
         "item_id": 21256,
         "item_price": 1299,
         "item_cnt_day": -1,
         "month": "03.10.2015",
         "_deepnote_index_column": 2923865
        },
        {
         "date": "03.10.2015",
         "date_block_num": 33,
         "shop_id": 25,
         "item_id": 18125,
         "item_price": 249,
         "item_cnt_day": -1,
         "month": "03.10.2015",
         "_deepnote_index_column": 2924293
        },
        {
         "date": "02.10.2015",
         "date_block_num": 33,
         "shop_id": 26,
         "item_id": 10513,
         "item_price": 1499,
         "item_cnt_day": -1,
         "month": "02.10.2015",
         "_deepnote_index_column": 2924406
        },
        {
         "date": "02.10.2015",
         "date_block_num": 33,
         "shop_id": 26,
         "item_id": 10352,
         "item_price": 4849,
         "item_cnt_day": -1,
         "month": "02.10.2015",
         "_deepnote_index_column": 2924442
        },
        {
         "date": "23.10.2015",
         "date_block_num": 33,
         "shop_id": 31,
         "item_id": 9313,
         "item_price": 349,
         "item_cnt_day": -1,
         "month": "23.10.2015",
         "_deepnote_index_column": 2926713
        },
        {
         "date": "15.10.2015",
         "date_block_num": 33,
         "shop_id": 31,
         "item_id": 10678,
         "item_price": 1499,
         "item_cnt_day": -1,
         "month": "15.10.2015",
         "_deepnote_index_column": 2926793
        },
        {
         "date": "20.10.2015",
         "date_block_num": 33,
         "shop_id": 31,
         "item_id": 10780,
         "item_price": 349,
         "item_cnt_day": -1,
         "month": "20.10.2015",
         "_deepnote_index_column": 2926839
        },
        {
         "date": "22.10.2015",
         "date_block_num": 33,
         "shop_id": 31,
         "item_id": 1523,
         "item_price": 799,
         "item_cnt_day": -1,
         "month": "22.10.2015",
         "_deepnote_index_column": 2928586
        },
        {
         "date": "08.10.2015",
         "date_block_num": 33,
         "shop_id": 21,
         "item_id": 16146,
         "item_price": 1799,
         "item_cnt_day": -1,
         "month": "08.10.2015",
         "_deepnote_index_column": 2929224
        },
        {
         "date": "08.10.2015",
         "date_block_num": 33,
         "shop_id": 25,
         "item_id": 1523,
         "item_price": 799,
         "item_cnt_day": -1,
         "month": "08.10.2015",
         "_deepnote_index_column": 2929946
        },
        {
         "date": "06.10.2015",
         "date_block_num": 33,
         "shop_id": 24,
         "item_id": 7039,
         "item_price": 299,
         "item_cnt_day": -1,
         "month": "06.10.2015",
         "_deepnote_index_column": 2930269
        },
        {
         "date": "30.10.2015",
         "date_block_num": 33,
         "shop_id": 22,
         "item_id": 8546,
         "item_price": 1299,
         "item_cnt_day": -1,
         "month": "30.10.2015",
         "_deepnote_index_column": 2931176
        },
        {
         "date": "28.10.2015",
         "date_block_num": 33,
         "shop_id": 25,
         "item_id": 13215,
         "item_price": 799,
         "item_cnt_day": -1,
         "month": "28.10.2015",
         "_deepnote_index_column": 2932364
        },
        {
         "date": "05.10.2015",
         "date_block_num": 33,
         "shop_id": 25,
         "item_id": 13476,
         "item_price": 7998,
         "item_cnt_day": -1,
         "month": "05.10.2015",
         "_deepnote_index_column": 2932589
        },
        {
         "date": "16.10.2015",
         "date_block_num": 33,
         "shop_id": 25,
         "item_id": 13400,
         "item_price": 18990,
         "item_cnt_day": -1,
         "month": "16.10.2015",
         "_deepnote_index_column": 2932636
        },
        {
         "date": "28.10.2015",
         "date_block_num": 33,
         "shop_id": 25,
         "item_id": 13304,
         "item_price": 799,
         "item_cnt_day": -1,
         "month": "28.10.2015",
         "_deepnote_index_column": 2932721
        },
        {
         "date": "21.10.2015",
         "date_block_num": 33,
         "shop_id": 25,
         "item_id": 16199,
         "item_price": 1999,
         "item_cnt_day": -1,
         "month": "21.10.2015",
         "_deepnote_index_column": 2933448
        },
        {
         "date": "03.10.2015",
         "date_block_num": 33,
         "shop_id": 25,
         "item_id": 14064,
         "item_price": 249,
         "item_cnt_day": -1,
         "month": "03.10.2015",
         "_deepnote_index_column": 2933712
        },
        {
         "date": "26.10.2015",
         "date_block_num": 33,
         "shop_id": 25,
         "item_id": 3917,
         "item_price": 449,
         "item_cnt_day": -1,
         "month": "26.10.2015",
         "_deepnote_index_column": 2934243
        },
        {
         "date": "18.10.2015",
         "date_block_num": 33,
         "shop_id": 25,
         "item_id": 4896,
         "item_price": 6398,
         "item_cnt_day": -1,
         "month": "18.10.2015",
         "_deepnote_index_column": 2934462
        },
        {
         "date": "05.10.2015",
         "date_block_num": 33,
         "shop_id": 25,
         "item_id": 10039,
         "item_price": 249,
         "item_cnt_day": -1,
         "month": "05.10.2015",
         "_deepnote_index_column": 2935263
        },
        {
         "date": "16.10.2015",
         "date_block_num": 33,
         "shop_id": 25,
         "item_id": 7893,
         "item_price": 2990,
         "item_cnt_day": -1,
         "month": "16.10.2015",
         "_deepnote_index_column": 2935643
        },
        {
         "date": "07.10.2015",
         "date_block_num": 33,
         "shop_id": 25,
         "item_id": 7087,
         "item_price": 999,
         "item_cnt_day": -1,
         "month": "07.10.2015",
         "_deepnote_index_column": 2935779
        }
       ],
       "rows_bottom": null
      },
      "text/plain": "               date  date_block_num  shop_id  item_id  item_price  \\\n2883677  15.10.2015              33       46     3350      2999.0   \n2883749  08.10.2015              33       46     6503      1999.0   \n2884570  04.10.2015              33       41     3353      3999.0   \n2885471  19.10.2015              33       44     3835      2199.0   \n2885519  08.10.2015              33       42    12664       249.0   \n...             ...             ...      ...      ...         ...   \n2934243  26.10.2015              33       25     3917       449.0   \n2934462  18.10.2015              33       25     4896      6398.0   \n2935263  05.10.2015              33       25    10039       249.0   \n2935643  16.10.2015              33       25     7893      2990.0   \n2935779  07.10.2015              33       25     7087       999.0   \n\n         item_cnt_day       month  \n2883677          -1.0  15.10.2015  \n2883749          -1.0  08.10.2015  \n2884570          -1.0  04.10.2015  \n2885471          -1.0  19.10.2015  \n2885519          -1.0  08.10.2015  \n...               ...         ...  \n2934243          -1.0  26.10.2015  \n2934462          -1.0  18.10.2015  \n2935263          -1.0  05.10.2015  \n2935643          -1.0  16.10.2015  \n2935779          -1.0  07.10.2015  \n\n[128 rows x 7 columns]",
      "text/html": "<div>\n<style scoped>\n    .dataframe tbody tr th:only-of-type {\n        vertical-align: middle;\n    }\n\n    .dataframe tbody tr th {\n        vertical-align: top;\n    }\n\n    .dataframe thead th {\n        text-align: right;\n    }\n</style>\n<table border=\"1\" class=\"dataframe\">\n  <thead>\n    <tr style=\"text-align: right;\">\n      <th></th>\n      <th>date</th>\n      <th>date_block_num</th>\n      <th>shop_id</th>\n      <th>item_id</th>\n      <th>item_price</th>\n      <th>item_cnt_day</th>\n      <th>month</th>\n    </tr>\n  </thead>\n  <tbody>\n    <tr>\n      <th>2883677</th>\n      <td>15.10.2015</td>\n      <td>33</td>\n      <td>46</td>\n      <td>3350</td>\n      <td>2999.0</td>\n      <td>-1.0</td>\n      <td>15.10.2015</td>\n    </tr>\n    <tr>\n      <th>2883749</th>\n      <td>08.10.2015</td>\n      <td>33</td>\n      <td>46</td>\n      <td>6503</td>\n      <td>1999.0</td>\n      <td>-1.0</td>\n      <td>08.10.2015</td>\n    </tr>\n    <tr>\n      <th>2884570</th>\n      <td>04.10.2015</td>\n      <td>33</td>\n      <td>41</td>\n      <td>3353</td>\n      <td>3999.0</td>\n      <td>-1.0</td>\n      <td>04.10.2015</td>\n    </tr>\n    <tr>\n      <th>2885471</th>\n      <td>19.10.2015</td>\n      <td>33</td>\n      <td>44</td>\n      <td>3835</td>\n      <td>2199.0</td>\n      <td>-1.0</td>\n      <td>19.10.2015</td>\n    </tr>\n    <tr>\n      <th>2885519</th>\n      <td>08.10.2015</td>\n      <td>33</td>\n      <td>42</td>\n      <td>12664</td>\n      <td>249.0</td>\n      <td>-1.0</td>\n      <td>08.10.2015</td>\n    </tr>\n    <tr>\n      <th>...</th>\n      <td>...</td>\n      <td>...</td>\n      <td>...</td>\n      <td>...</td>\n      <td>...</td>\n      <td>...</td>\n      <td>...</td>\n    </tr>\n    <tr>\n      <th>2934243</th>\n      <td>26.10.2015</td>\n      <td>33</td>\n      <td>25</td>\n      <td>3917</td>\n      <td>449.0</td>\n      <td>-1.0</td>\n      <td>26.10.2015</td>\n    </tr>\n    <tr>\n      <th>2934462</th>\n      <td>18.10.2015</td>\n      <td>33</td>\n      <td>25</td>\n      <td>4896</td>\n      <td>6398.0</td>\n      <td>-1.0</td>\n      <td>18.10.2015</td>\n    </tr>\n    <tr>\n      <th>2935263</th>\n      <td>05.10.2015</td>\n      <td>33</td>\n      <td>25</td>\n      <td>10039</td>\n      <td>249.0</td>\n      <td>-1.0</td>\n      <td>05.10.2015</td>\n    </tr>\n    <tr>\n      <th>2935643</th>\n      <td>16.10.2015</td>\n      <td>33</td>\n      <td>25</td>\n      <td>7893</td>\n      <td>2990.0</td>\n      <td>-1.0</td>\n      <td>16.10.2015</td>\n    </tr>\n    <tr>\n      <th>2935779</th>\n      <td>07.10.2015</td>\n      <td>33</td>\n      <td>25</td>\n      <td>7087</td>\n      <td>999.0</td>\n      <td>-1.0</td>\n      <td>07.10.2015</td>\n    </tr>\n  </tbody>\n</table>\n<p>128 rows × 7 columns</p>\n</div>"
     },
     "metadata": {}
    }
   ]
  },
  {
   "cell_type": "code",
   "metadata": {
    "tags": [],
    "cell_id": "00021-da4434eb-8329-4c28-be8b-670d52c5dfbd",
    "deepnote_cell_type": "code"
   },
   "source": "",
   "execution_count": null,
   "outputs": []
  },
  {
   "cell_type": "markdown",
   "source": "<a style='text-decoration:none;line-height:16px;display:flex;color:#5B5B62;padding:10px;justify-content:end;' href='https://deepnote.com?utm_source=created-in-deepnote-cell&projectId=32ebab46-e526-42a3-8966-92f4ff6ef571' target=\"_blank\">\n<img alt='Created in deepnote.com' style='display:inline;max-height:16px;margin:0px;margin-right:7.5px;' src='data:image/svg+xml;base64,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' > </img>\nCreated in <span style='font-weight:600;margin-left:4px;'>Deepnote</span></a>",
   "metadata": {
    "tags": [],
    "created_in_deepnote_cell": true,
    "deepnote_cell_type": "markdown"
   }
  }
 ],
 "nbformat": 4,
 "nbformat_minor": 2,
 "metadata": {
  "orig_nbformat": 2,
  "deepnote": {
   "is_reactive": false
  },
  "deepnote_notebook_id": "1b9a6fbe-7a99-4ee4-b12d-316e874460b0",
  "deepnote_execution_queue": []
 }
}