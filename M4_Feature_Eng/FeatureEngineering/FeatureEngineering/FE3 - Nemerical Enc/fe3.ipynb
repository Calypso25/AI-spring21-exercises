{
 "cells": [
  {
   "cell_type": "code",
   "metadata": {
    "cell_id": "00000-d590b3ad-f49e-4102-874c-0935a2da8237",
    "deepnote_to_be_reexecuted": false,
    "source_hash": "c1da6352",
    "execution_start": 1620221369202,
    "execution_millis": 1836,
    "deepnote_cell_type": "code"
   },
   "source": "import pandas as pd\nimport matplotlib.pyplot as plt\n#import seaborn as sb\nimport sklearn as skl\nimport time\nfrom IPython.display import display, clear_output\n\nimport sklearn\nfrom sklearn import pipeline      # Pipeline\nfrom sklearn import preprocessing # OrdinalEncoder, LabelEncoder\nfrom sklearn import impute\nfrom sklearn import compose\nfrom sklearn import model_selection # train_test_split\nfrom sklearn import metrics         # accuracy_score, balanced_accuracy_score, plot_confusion_matrix\nfrom sklearn import set_config\n\nset_config(display='diagram') # Useful for display the pipeline\n\nprint(\"Pandas  \", pd.__version__)\nprint(\"Sklearn \", skl.__version__) # Try to use 0.24",
   "execution_count": null,
   "outputs": [
    {
     "name": "stdout",
     "text": "Pandas   1.2.4\nSklearn  0.24.1\n",
     "output_type": "stream"
    }
   ]
  },
  {
   "cell_type": "code",
   "metadata": {
    "deletable": false,
    "editable": false,
    "nbgrader": {
     "cell_type": "code",
     "checksum": "ba64a626f4514047c1f189598c684da9",
     "grade": false,
     "grade_id": "cell-c9956bc3084ab64e",
     "locked": true,
     "schema_version": 3,
     "solution": false,
     "task": false
    },
    "cell_id": "00001-09cc1037-2bdf-4feb-a4b5-e2df3ce328b6",
    "deepnote_to_be_reexecuted": false,
    "source_hash": "fdf1a544",
    "execution_start": 1620221371018,
    "execution_millis": 637,
    "deepnote_cell_type": "code"
   },
   "source": "path = \"tabular-playground-feb21\"\n!ls $path",
   "execution_count": null,
   "outputs": [
    {
     "name": "stdout",
     "text": "'Complete solution.ipynb'   sample_submission.csv   test.csv   train.csv\r\n",
     "output_type": "stream"
    }
   ]
  },
  {
   "cell_type": "markdown",
   "source": "### Load data",
   "metadata": {
    "cell_id": "00002-3da8aff7-6db6-4725-a434-66b4d98d19a1",
    "deepnote_cell_type": "markdown"
   }
  },
  {
   "cell_type": "code",
   "metadata": {
    "deletable": false,
    "nbgrader": {
     "cell_type": "code",
     "checksum": "4ea3a25f357a30f495f76db4dfa4e6a9",
     "grade": false,
     "grade_id": "cell-52a8794a601f4d0e",
     "locked": false,
     "schema_version": 3,
     "solution": true,
     "task": false
    },
    "cell_id": "00003-a685cd47-fdb5-43c0-b4d7-e964f195c01d",
    "deepnote_to_be_reexecuted": false,
    "source_hash": "272331d2",
    "execution_start": 1620221371649,
    "execution_millis": 1799,
    "deepnote_cell_type": "code"
   },
   "source": "# 1 point \n#  load the train, test and sample_submission data using the is as the index column\ndf = pd.read_csv(path+\"/train.csv\", index_col='id')\ndf_t = pd.read_csv(path+\"/test.csv\", index_col='id')\nsub = pd.read_csv(path+\"/sample_submission.csv\", index_col='id')\n\n# YOUR CODE HERE\n# raise NotImplementedError()\n\nprint(\"Train dataframe:\", df.shape)\nprint(\"Test dataframe:\", df_t.shape)\nprint(\"Sub dataframe:\", sub.shape)\ndf.head()",
   "execution_count": null,
   "outputs": [
    {
     "name": "stdout",
     "text": "Train dataframe: (300000, 25)\nTest dataframe: (200000, 24)\nSub dataframe: (200000, 1)\n",
     "output_type": "stream"
    },
    {
     "output_type": "execute_result",
     "execution_count": 3,
     "data": {
      "application/vnd.deepnote.dataframe.v2+json": {
       "row_count": 5,
       "column_count": 25,
       "columns": [
        {
         "name": "cat0",
         "dtype": "object",
         "stats": {
          "unique_count": 2,
          "nan_count": 0,
          "categories": [
           {
            "name": "A",
            "count": 4
           },
           {
            "name": "B",
            "count": 1
           }
          ]
         }
        },
        {
         "name": "cat1",
         "dtype": "object",
         "stats": {
          "unique_count": 2,
          "nan_count": 0,
          "categories": [
           {
            "name": "A",
            "count": 3
           },
           {
            "name": "B",
            "count": 2
           }
          ]
         }
        },
        {
         "name": "cat2",
         "dtype": "object",
         "stats": {
          "unique_count": 1,
          "nan_count": 0,
          "categories": [
           {
            "name": "A",
            "count": 5
           }
          ]
         }
        },
        {
         "name": "cat3",
         "dtype": "object",
         "stats": {
          "unique_count": 2,
          "nan_count": 0,
          "categories": [
           {
            "name": "A",
            "count": 3
           },
           {
            "name": "C",
            "count": 2
           }
          ]
         }
        },
        {
         "name": "cat4",
         "dtype": "object",
         "stats": {
          "unique_count": 1,
          "nan_count": 0,
          "categories": [
           {
            "name": "B",
            "count": 5
           }
          ]
         }
        },
        {
         "name": "cat5",
         "dtype": "object",
         "stats": {
          "unique_count": 2,
          "nan_count": 0,
          "categories": [
           {
            "name": "D",
            "count": 3
           },
           {
            "name": "B",
            "count": 2
           }
          ]
         }
        },
        {
         "name": "cat6",
         "dtype": "object",
         "stats": {
          "unique_count": 1,
          "nan_count": 0,
          "categories": [
           {
            "name": "A",
            "count": 5
           }
          ]
         }
        },
        {
         "name": "cat7",
         "dtype": "object",
         "stats": {
          "unique_count": 2,
          "nan_count": 0,
          "categories": [
           {
            "name": "E",
            "count": 4
           },
           {
            "name": "B",
            "count": 1
           }
          ]
         }
        },
        {
         "name": "cat8",
         "dtype": "object",
         "stats": {
          "unique_count": 3,
          "nan_count": 0,
          "categories": [
           {
            "name": "C",
            "count": 3
           },
           {
            "name": "A",
            "count": 1
           },
           {
            "name": "G",
            "count": 1
           }
          ]
         }
        },
        {
         "name": "cat9",
         "dtype": "object",
         "stats": {
          "unique_count": 4,
          "nan_count": 0,
          "categories": [
           {
            "name": "F",
            "count": 2
           },
           {
            "name": "I",
            "count": 1
           },
           {
            "name": "2 others",
            "count": 2
           }
          ]
         }
        },
        {
         "name": "cont0",
         "dtype": "float64",
         "stats": {
          "unique_count": 5,
          "nan_count": 0,
          "min": "0.4376273493011995",
          "max": "0.9231905532961956",
          "histogram": [
           {
            "bin_start": 0.4376273493011995,
            "bin_end": 0.4861836697006991,
            "count": 2
           },
           {
            "bin_start": 0.4861836697006991,
            "bin_end": 0.5347399901001987,
            "count": 0
           },
           {
            "bin_start": 0.5347399901001987,
            "bin_end": 0.5832963104996983,
            "count": 0
           },
           {
            "bin_start": 0.5832963104996983,
            "bin_end": 0.631852630899198,
            "count": 0
           },
           {
            "bin_start": 0.631852630899198,
            "bin_end": 0.6804089512986975,
            "count": 0
           },
           {
            "bin_start": 0.6804089512986975,
            "bin_end": 0.7289652716981971,
            "count": 1
           },
           {
            "bin_start": 0.7289652716981971,
            "bin_end": 0.7775215920976968,
            "count": 1
           },
           {
            "bin_start": 0.7775215920976968,
            "bin_end": 0.8260779124971964,
            "count": 0
           },
           {
            "bin_start": 0.8260779124971964,
            "bin_end": 0.874634232896696,
            "count": 0
           },
           {
            "bin_start": 0.874634232896696,
            "bin_end": 0.9231905532961956,
            "count": 1
           }
          ]
         }
        },
        {
         "name": "cont1",
         "dtype": "float64",
         "stats": {
          "unique_count": 5,
          "nan_count": 0,
          "min": "0.0142130223611504",
          "max": "0.7716782515601588",
          "histogram": [
           {
            "bin_start": 0.0142130223611504,
            "bin_end": 0.08995954528105124,
            "count": 1
           },
           {
            "bin_start": 0.08995954528105124,
            "bin_end": 0.16570606820095207,
            "count": 0
           },
           {
            "bin_start": 0.16570606820095207,
            "bin_end": 0.2414525911208529,
            "count": 0
           },
           {
            "bin_start": 0.2414525911208529,
            "bin_end": 0.31719911404075374,
            "count": 0
           },
           {
            "bin_start": 0.31719911404075374,
            "bin_end": 0.39294563696065454,
            "count": 0
           },
           {
            "bin_start": 0.39294563696065454,
            "bin_end": 0.4686921598805554,
            "count": 0
           },
           {
            "bin_start": 0.4686921598805554,
            "bin_end": 0.5444386828004563,
            "count": 0
           },
           {
            "bin_start": 0.5444386828004563,
            "bin_end": 0.6201852057203571,
            "count": 0
           },
           {
            "bin_start": 0.6201852057203571,
            "bin_end": 0.6959317286402579,
            "count": 2
           },
           {
            "bin_start": 0.6959317286402579,
            "bin_end": 0.7716782515601588,
            "count": 2
           }
          ]
         }
        },
        {
         "name": "cont2",
         "dtype": "float64",
         "stats": {
          "unique_count": 5,
          "nan_count": 0,
          "min": "0.1244535913682793",
          "max": "0.4962124675496179",
          "histogram": [
           {
            "bin_start": 0.1244535913682793,
            "bin_end": 0.16162947898641317,
            "count": 2
           },
           {
            "bin_start": 0.16162947898641317,
            "bin_end": 0.198805366604547,
            "count": 0
           },
           {
            "bin_start": 0.198805366604547,
            "bin_end": 0.23598125422268088,
            "count": 0
           },
           {
            "bin_start": 0.23598125422268088,
            "bin_end": 0.27315714184081474,
            "count": 0
           },
           {
            "bin_start": 0.27315714184081474,
            "bin_end": 0.3103330294589486,
            "count": 0
           },
           {
            "bin_start": 0.3103330294589486,
            "bin_end": 0.3475089170770824,
            "count": 0
           },
           {
            "bin_start": 0.3475089170770824,
            "bin_end": 0.3846848046952164,
            "count": 1
           },
           {
            "bin_start": 0.3846848046952164,
            "bin_end": 0.4218606923133502,
            "count": 0
           },
           {
            "bin_start": 0.4218606923133502,
            "bin_end": 0.45903657993148406,
            "count": 1
           },
           {
            "bin_start": 0.45903657993148406,
            "bin_end": 0.4962124675496179,
            "count": 1
           }
          ]
         }
        },
        {
         "name": "cont3",
         "dtype": "float64",
         "stats": {
          "unique_count": 5,
          "nan_count": 0,
          "min": "0.2178862997233316",
          "max": "0.8461267049747274",
          "histogram": [
           {
            "bin_start": 0.2178862997233316,
            "bin_end": 0.2807103402484712,
            "count": 1
           },
           {
            "bin_start": 0.2807103402484712,
            "bin_end": 0.34353438077361076,
            "count": 0
           },
           {
            "bin_start": 0.34353438077361076,
            "bin_end": 0.4063584212987503,
            "count": 1
           },
           {
            "bin_start": 0.4063584212987503,
            "bin_end": 0.4691824618238899,
            "count": 0
           },
           {
            "bin_start": 0.4691824618238899,
            "bin_end": 0.5320065023490295,
            "count": 0
           },
           {
            "bin_start": 0.5320065023490295,
            "bin_end": 0.5948305428741691,
            "count": 0
           },
           {
            "bin_start": 0.5948305428741691,
            "bin_end": 0.6576545833993087,
            "count": 0
           },
           {
            "bin_start": 0.6576545833993087,
            "bin_end": 0.7204786239244483,
            "count": 0
           },
           {
            "bin_start": 0.7204786239244483,
            "bin_end": 0.7833026644495878,
            "count": 1
           },
           {
            "bin_start": 0.7833026644495878,
            "bin_end": 0.8461267049747274,
            "count": 2
           }
          ]
         }
        },
        {
         "name": "cont4",
         "dtype": "float64",
         "stats": {
          "unique_count": 5,
          "nan_count": 0,
          "min": "0.2791052771945682",
          "max": "0.7697848796518671",
          "histogram": [
           {
            "bin_start": 0.2791052771945682,
            "bin_end": 0.3281732374402981,
            "count": 4
           },
           {
            "bin_start": 0.3281732374402981,
            "bin_end": 0.377241197686028,
            "count": 0
           },
           {
            "bin_start": 0.377241197686028,
            "bin_end": 0.42630915793175783,
            "count": 0
           },
           {
            "bin_start": 0.42630915793175783,
            "bin_end": 0.47537711817748773,
            "count": 0
           },
           {
            "bin_start": 0.47537711817748773,
            "bin_end": 0.5244450784232176,
            "count": 0
           },
           {
            "bin_start": 0.5244450784232176,
            "bin_end": 0.5735130386689475,
            "count": 0
           },
           {
            "bin_start": 0.5735130386689475,
            "bin_end": 0.6225809989146774,
            "count": 0
           },
           {
            "bin_start": 0.6225809989146774,
            "bin_end": 0.6716489591604073,
            "count": 0
           },
           {
            "bin_start": 0.6716489591604073,
            "bin_end": 0.7207169194061372,
            "count": 0
           },
           {
            "bin_start": 0.7207169194061372,
            "bin_end": 0.7697848796518671,
            "count": 1
           }
          ]
         }
        },
        {
         "name": "cont5",
         "dtype": "float64",
         "stats": {
          "unique_count": 5,
          "nan_count": 0,
          "min": "0.382599692488609",
          "max": "0.9341375246924604",
          "histogram": [
           {
            "bin_start": 0.382599692488609,
            "bin_end": 0.4377534757089941,
            "count": 1
           },
           {
            "bin_start": 0.4377534757089941,
            "bin_end": 0.49290725892937926,
            "count": 1
           },
           {
            "bin_start": 0.49290725892937926,
            "bin_end": 0.5480610421497644,
            "count": 0
           },
           {
            "bin_start": 0.5480610421497644,
            "bin_end": 0.6032148253701495,
            "count": 0
           },
           {
            "bin_start": 0.6032148253701495,
            "bin_end": 0.6583686085905347,
            "count": 0
           },
           {
            "bin_start": 0.6583686085905347,
            "bin_end": 0.7135223918109197,
            "count": 0
           },
           {
            "bin_start": 0.7135223918109197,
            "bin_end": 0.7686761750313049,
            "count": 0
           },
           {
            "bin_start": 0.7686761750313049,
            "bin_end": 0.82382995825169,
            "count": 0
           },
           {
            "bin_start": 0.82382995825169,
            "bin_end": 0.8789837414720751,
            "count": 0
           },
           {
            "bin_start": 0.8789837414720751,
            "bin_end": 0.9341375246924604,
            "count": 3
           }
          ]
         }
        },
        {
         "name": "cont6",
         "dtype": "float64",
         "stats": {
          "unique_count": 5,
          "nan_count": 0,
          "min": "0.3462296232318922",
          "max": "0.7059400327615131",
          "histogram": [
           {
            "bin_start": 0.3462296232318922,
            "bin_end": 0.3822006641848543,
            "count": 2
           },
           {
            "bin_start": 0.3822006641848543,
            "bin_end": 0.4181717051378164,
            "count": 0
           },
           {
            "bin_start": 0.4181717051378164,
            "bin_end": 0.4541427460907785,
            "count": 1
           },
           {
            "bin_start": 0.4541427460907785,
            "bin_end": 0.49011378704374053,
            "count": 0
           },
           {
            "bin_start": 0.49011378704374053,
            "bin_end": 0.5260848279967026,
            "count": 0
           },
           {
            "bin_start": 0.5260848279967026,
            "bin_end": 0.5620558689496647,
            "count": 0
           },
           {
            "bin_start": 0.5620558689496647,
            "bin_end": 0.5980269099026267,
            "count": 1
           },
           {
            "bin_start": 0.5980269099026267,
            "bin_end": 0.6339979508555889,
            "count": 0
           },
           {
            "bin_start": 0.6339979508555889,
            "bin_end": 0.669968991808551,
            "count": 0
           },
           {
            "bin_start": 0.669968991808551,
            "bin_end": 0.7059400327615131,
            "count": 1
           }
          ]
         }
        },
        {
         "name": "cont7",
         "dtype": "float64",
         "stats": {
          "unique_count": 5,
          "nan_count": 0,
          "min": "0.2784948726175908",
          "max": "0.8325644700649786",
          "histogram": [
           {
            "bin_start": 0.2784948726175908,
            "bin_end": 0.33390183236232956,
            "count": 2
           },
           {
            "bin_start": 0.33390183236232956,
            "bin_end": 0.38930879210706837,
            "count": 0
           },
           {
            "bin_start": 0.38930879210706837,
            "bin_end": 0.4447157518518071,
            "count": 1
           },
           {
            "bin_start": 0.4447157518518071,
            "bin_end": 0.5001227115965459,
            "count": 0
           },
           {
            "bin_start": 0.5001227115965459,
            "bin_end": 0.5555296713412847,
            "count": 0
           },
           {
            "bin_start": 0.5555296713412847,
            "bin_end": 0.6109366310860234,
            "count": 0
           },
           {
            "bin_start": 0.6109366310860234,
            "bin_end": 0.6663435908307622,
            "count": 0
           },
           {
            "bin_start": 0.6663435908307622,
            "bin_end": 0.721750550575501,
            "count": 0
           },
           {
            "bin_start": 0.721750550575501,
            "bin_end": 0.7771575103202397,
            "count": 1
           },
           {
            "bin_start": 0.7771575103202397,
            "bin_end": 0.8325644700649786,
            "count": 1
           }
          ]
         }
        },
        {
         "name": "cont8",
         "dtype": "float64",
         "stats": {
          "unique_count": 5,
          "nan_count": 0,
          "min": "0.4409671383892113",
          "max": "0.8957994783149412",
          "histogram": [
           {
            "bin_start": 0.4409671383892113,
            "bin_end": 0.4864503723817843,
            "count": 1
           },
           {
            "bin_start": 0.4864503723817843,
            "bin_end": 0.5319336063743573,
            "count": 0
           },
           {
            "bin_start": 0.5319336063743573,
            "bin_end": 0.5774168403669303,
            "count": 0
           },
           {
            "bin_start": 0.5774168403669303,
            "bin_end": 0.6229000743595032,
            "count": 1
           },
           {
            "bin_start": 0.6229000743595032,
            "bin_end": 0.6683833083520763,
            "count": 0
           },
           {
            "bin_start": 0.6683833083520763,
            "bin_end": 0.7138665423446493,
            "count": 0
           },
           {
            "bin_start": 0.7138665423446493,
            "bin_end": 0.7593497763372223,
            "count": 0
           },
           {
            "bin_start": 0.7593497763372223,
            "bin_end": 0.8048330103297953,
            "count": 0
           },
           {
            "bin_start": 0.8048330103297953,
            "bin_end": 0.8503162443223682,
            "count": 0
           },
           {
            "bin_start": 0.8503162443223682,
            "bin_end": 0.8957994783149412,
            "count": 3
           }
          ]
         }
        },
        {
         "name": "cont9",
         "dtype": "float64",
         "stats": {
          "unique_count": 5,
          "nan_count": 0,
          "min": "0.4621459946175901",
          "max": "0.8252514470475938",
          "histogram": [
           {
            "bin_start": 0.4621459946175901,
            "bin_end": 0.49845653986059046,
            "count": 1
           },
           {
            "bin_start": 0.49845653986059046,
            "bin_end": 0.5347670851035908,
            "count": 0
           },
           {
            "bin_start": 0.5347670851035908,
            "bin_end": 0.5710776303465912,
            "count": 1
           },
           {
            "bin_start": 0.5710776303465912,
            "bin_end": 0.6073881755895916,
            "count": 0
           },
           {
            "bin_start": 0.6073881755895916,
            "bin_end": 0.6436987208325919,
            "count": 0
           },
           {
            "bin_start": 0.6436987208325919,
            "bin_end": 0.6800092660755923,
            "count": 0
           },
           {
            "bin_start": 0.6800092660755923,
            "bin_end": 0.7163198113185927,
            "count": 0
           },
           {
            "bin_start": 0.7163198113185927,
            "bin_end": 0.752630356561593,
            "count": 0
           },
           {
            "bin_start": 0.752630356561593,
            "bin_end": 0.7889409018045934,
            "count": 0
           },
           {
            "bin_start": 0.7889409018045934,
            "bin_end": 0.8252514470475938,
            "count": 3
           }
          ]
         }
        },
        {
         "name": "cont10",
         "dtype": "float64",
         "stats": {
          "unique_count": 5,
          "nan_count": 0,
          "min": "0.2641037582107835",
          "max": "0.7244472417704731",
          "histogram": [
           {
            "bin_start": 0.2641037582107835,
            "bin_end": 0.3101381065667525,
            "count": 1
           },
           {
            "bin_start": 0.3101381065667525,
            "bin_end": 0.3561724549227214,
            "count": 0
           },
           {
            "bin_start": 0.3561724549227214,
            "bin_end": 0.4022068032786904,
            "count": 0
           },
           {
            "bin_start": 0.4022068032786904,
            "bin_end": 0.4482411516346594,
            "count": 0
           },
           {
            "bin_start": 0.4482411516346594,
            "bin_end": 0.49427549999062836,
            "count": 1
           },
           {
            "bin_start": 0.49427549999062836,
            "bin_end": 0.5403098483465973,
            "count": 0
           },
           {
            "bin_start": 0.5403098483465973,
            "bin_end": 0.5863441967025662,
            "count": 0
           },
           {
            "bin_start": 0.5863441967025662,
            "bin_end": 0.6323785450585353,
            "count": 1
           },
           {
            "bin_start": 0.6323785450585353,
            "bin_end": 0.6784128934145042,
            "count": 0
           },
           {
            "bin_start": 0.6784128934145042,
            "bin_end": 0.7244472417704731,
            "count": 2
           }
          ]
         }
        },
        {
         "name": "cont11",
         "dtype": "float64",
         "stats": {
          "unique_count": 5,
          "nan_count": 0,
          "min": "0.6830731438086716",
          "max": "0.7412892342594564",
          "histogram": [
           {
            "bin_start": 0.6830731438086716,
            "bin_end": 0.68889475285375,
            "count": 1
           },
           {
            "bin_start": 0.68889475285375,
            "bin_end": 0.6947163618988286,
            "count": 0
           },
           {
            "bin_start": 0.6947163618988286,
            "bin_end": 0.700537970943907,
            "count": 2
           },
           {
            "bin_start": 0.700537970943907,
            "bin_end": 0.7063595799889855,
            "count": 1
           },
           {
            "bin_start": 0.7063595799889855,
            "bin_end": 0.7121811890340639,
            "count": 0
           },
           {
            "bin_start": 0.7121811890340639,
            "bin_end": 0.7180027980791425,
            "count": 0
           },
           {
            "bin_start": 0.7180027980791425,
            "bin_end": 0.7238244071242209,
            "count": 0
           },
           {
            "bin_start": 0.7238244071242209,
            "bin_end": 0.7296460161692994,
            "count": 0
           },
           {
            "bin_start": 0.7296460161692994,
            "bin_end": 0.7354676252143779,
            "count": 0
           },
           {
            "bin_start": 0.7354676252143779,
            "bin_end": 0.7412892342594564,
            "count": 1
           }
          ]
         }
        },
        {
         "name": "cont12",
         "dtype": "float64",
         "stats": {
          "unique_count": 5,
          "nan_count": 0,
          "min": "0.326678696122427",
          "max": "0.8776181954988187",
          "histogram": [
           {
            "bin_start": 0.326678696122427,
            "bin_end": 0.38177264606006617,
            "count": 2
           },
           {
            "bin_start": 0.38177264606006617,
            "bin_end": 0.43686659599770533,
            "count": 0
           },
           {
            "bin_start": 0.43686659599770533,
            "bin_end": 0.4919605459353445,
            "count": 0
           },
           {
            "bin_start": 0.4919605459353445,
            "bin_end": 0.5470544958729837,
            "count": 0
           },
           {
            "bin_start": 0.5470544958729837,
            "bin_end": 0.6021484458106228,
            "count": 0
           },
           {
            "bin_start": 0.6021484458106228,
            "bin_end": 0.657242395748262,
            "count": 0
           },
           {
            "bin_start": 0.657242395748262,
            "bin_end": 0.7123363456859011,
            "count": 0
           },
           {
            "bin_start": 0.7123363456859011,
            "bin_end": 0.7674302956235404,
            "count": 0
           },
           {
            "bin_start": 0.7674302956235404,
            "bin_end": 0.8225242455611794,
            "count": 1
           },
           {
            "bin_start": 0.8225242455611794,
            "bin_end": 0.8776181954988187,
            "count": 2
           }
          ]
         }
        },
        {
         "name": "cont13",
         "dtype": "float64",
         "stats": {
          "unique_count": 5,
          "nan_count": 0,
          "min": "0.2977434168196609",
          "max": "0.8283516037771875",
          "histogram": [
           {
            "bin_start": 0.2977434168196609,
            "bin_end": 0.35080423551541356,
            "count": 1
           },
           {
            "bin_start": 0.35080423551541356,
            "bin_end": 0.4038650542111662,
            "count": 0
           },
           {
            "bin_start": 0.4038650542111662,
            "bin_end": 0.4569258729069189,
            "count": 0
           },
           {
            "bin_start": 0.4569258729069189,
            "bin_end": 0.5099866916026715,
            "count": 0
           },
           {
            "bin_start": 0.5099866916026715,
            "bin_end": 0.5630475102984243,
            "count": 0
           },
           {
            "bin_start": 0.5630475102984243,
            "bin_end": 0.6161083289941769,
            "count": 1
           },
           {
            "bin_start": 0.6161083289941769,
            "bin_end": 0.6691691476899295,
            "count": 0
           },
           {
            "bin_start": 0.6691691476899295,
            "bin_end": 0.7222299663856822,
            "count": 1
           },
           {
            "bin_start": 0.7222299663856822,
            "bin_end": 0.7752907850814349,
            "count": 0
           },
           {
            "bin_start": 0.7752907850814349,
            "bin_end": 0.8283516037771875,
            "count": 2
           }
          ]
         }
        },
        {
         "name": "target",
         "dtype": "float64",
         "stats": {
          "unique_count": 5,
          "nan_count": 0,
          "min": "5.760455653644145",
          "max": "8.071256056994837",
          "histogram": [
           {
            "bin_start": 5.760455653644145,
            "bin_end": 5.991535693979214,
            "count": 1
           },
           {
            "bin_start": 5.991535693979214,
            "bin_end": 6.222615734314283,
            "count": 0
           },
           {
            "bin_start": 6.222615734314283,
            "bin_end": 6.453695774649352,
            "count": 0
           },
           {
            "bin_start": 6.453695774649352,
            "bin_end": 6.684775814984422,
            "count": 0
           },
           {
            "bin_start": 6.684775814984422,
            "bin_end": 6.915855855319491,
            "count": 1
           },
           {
            "bin_start": 6.915855855319491,
            "bin_end": 7.14693589565456,
            "count": 1
           },
           {
            "bin_start": 7.14693589565456,
            "bin_end": 7.378015935989629,
            "count": 0
           },
           {
            "bin_start": 7.378015935989629,
            "bin_end": 7.609095976324699,
            "count": 0
           },
           {
            "bin_start": 7.609095976324699,
            "bin_end": 7.840176016659768,
            "count": 1
           },
           {
            "bin_start": 7.840176016659768,
            "bin_end": 8.071256056994837,
            "count": 1
           }
          ]
         }
        },
        {
         "name": "_deepnote_index_column",
         "dtype": "int64"
        }
       ],
       "rows_top": [
        {
         "cat0": "A",
         "cat1": "B",
         "cat2": "A",
         "cat3": "A",
         "cat4": "B",
         "cat5": "D",
         "cat6": "A",
         "cat7": "E",
         "cat8": "C",
         "cat9": "I",
         "cont0": 0.9231905532961956,
         "cont1": 0.6849683209193232,
         "cont2": 0.1244535913682793,
         "cont3": 0.2178862997233316,
         "cont4": 0.2814212891113367,
         "cont5": 0.8811221447083947,
         "cont6": 0.4216503694548104,
         "cont7": 0.7414131470380283,
         "cont8": 0.8957994783149412,
         "cont9": 0.8024605621118054,
         "cont10": 0.7244167511375598,
         "cont11": 0.7019154376947166,
         "cont12": 0.8776181954988187,
         "cont13": 0.7199028510670258,
         "target": 6.994022554611728,
         "_deepnote_index_column": 1
        },
        {
         "cat0": "B",
         "cat1": "A",
         "cat2": "A",
         "cat3": "A",
         "cat4": "B",
         "cat5": "B",
         "cat6": "A",
         "cat7": "E",
         "cat8": "A",
         "cat9": "F",
         "cont0": 0.4376273493011995,
         "cont1": 0.0142130223611504,
         "cont2": 0.3574379809777704,
         "cont3": 0.8461267049747274,
         "cont4": 0.2823539978698745,
         "cont5": 0.4400106876739779,
         "cont6": 0.3462296232318922,
         "cont7": 0.2784948726175908,
         "cont8": 0.593413297150756,
         "cont9": 0.5460562232934362,
         "cont10": 0.6132521355858089,
         "cont11": 0.7412892342594564,
         "cont12": 0.326678696122427,
         "cont13": 0.8084643570851451,
         "target": 8.071256056994837,
         "_deepnote_index_column": 2
        },
        {
         "cat0": "A",
         "cat1": "A",
         "cat2": "A",
         "cat3": "C",
         "cat4": "B",
         "cat5": "D",
         "cat6": "A",
         "cat7": "B",
         "cat8": "C",
         "cat9": "N",
         "cont0": 0.7322085684360234,
         "cont1": 0.7601220397848099,
         "cont2": 0.4546439356312624,
         "cont3": 0.8129903217977429,
         "cont4": 0.2937562691270103,
         "cont5": 0.9141547023946132,
         "cont6": 0.3696015902215768,
         "cont7": 0.8325644700649786,
         "cont8": 0.8656196934768817,
         "cont9": 0.8252514470475938,
         "cont10": 0.2641037582107835,
         "cont11": 0.6955613880926892,
         "cont12": 0.8691325356777109,
         "cont13": 0.8283516037771875,
         "target": 5.760455653644145,
         "_deepnote_index_column": 3
        },
        {
         "cat0": "A",
         "cat1": "A",
         "cat2": "A",
         "cat3": "C",
         "cat4": "B",
         "cat5": "D",
         "cat6": "A",
         "cat7": "E",
         "cat8": "G",
         "cat9": "K",
         "cont0": 0.7051416980694408,
         "cont1": 0.7716782515601588,
         "cont2": 0.1537353029887317,
         "cont3": 0.7328933127581979,
         "cont4": 0.7697848796518671,
         "cont5": 0.9341375246924604,
         "cont6": 0.5789300516632971,
         "cont7": 0.4073126019295212,
         "cont8": 0.868099438625062,
         "cont9": 0.7944016040067676,
         "cont10": 0.4942691057940123,
         "cont11": 0.6981252630692696,
         "cont12": 0.8097988097804755,
         "cont13": 0.6147663111504925,
         "target": 7.806456965797237,
         "_deepnote_index_column": 4
        },
        {
         "cat0": "A",
         "cat1": "B",
         "cat2": "A",
         "cat3": "A",
         "cat4": "B",
         "cat5": "B",
         "cat6": "A",
         "cat7": "E",
         "cat8": "C",
         "cat9": "F",
         "cont0": 0.4860631333058962,
         "cont1": 0.6393485097316489,
         "cont2": 0.4962124675496179,
         "cont3": 0.3541858161801454,
         "cont4": 0.2791052771945682,
         "cont5": 0.382599692488609,
         "cont6": 0.7059400327615131,
         "cont7": 0.3251931238558244,
         "cont8": 0.4409671383892113,
         "cont9": 0.4621459946175901,
         "cont10": 0.7244472417704731,
         "cont11": 0.6830731438086716,
         "cont12": 0.343456509807682,
         "cont13": 0.2977434168196609,
         "target": 6.868974207542201,
         "_deepnote_index_column": 6
        }
       ],
       "rows_bottom": null
      },
      "text/plain": "   cat0 cat1 cat2 cat3 cat4 cat5 cat6 cat7 cat8 cat9  ...     cont5     cont6  \\\nid                                                    ...                       \n1     A    B    A    A    B    D    A    E    C    I  ...  0.881122  0.421650   \n2     B    A    A    A    B    B    A    E    A    F  ...  0.440011  0.346230   \n3     A    A    A    C    B    D    A    B    C    N  ...  0.914155  0.369602   \n4     A    A    A    C    B    D    A    E    G    K  ...  0.934138  0.578930   \n6     A    B    A    A    B    B    A    E    C    F  ...  0.382600  0.705940   \n\n       cont7     cont8     cont9    cont10    cont11    cont12    cont13  \\\nid                                                                         \n1   0.741413  0.895799  0.802461  0.724417  0.701915  0.877618  0.719903   \n2   0.278495  0.593413  0.546056  0.613252  0.741289  0.326679  0.808464   \n3   0.832564  0.865620  0.825251  0.264104  0.695561  0.869133  0.828352   \n4   0.407313  0.868099  0.794402  0.494269  0.698125  0.809799  0.614766   \n6   0.325193  0.440967  0.462146  0.724447  0.683073  0.343457  0.297743   \n\n      target  \nid            \n1   6.994023  \n2   8.071256  \n3   5.760456  \n4   7.806457  \n6   6.868974  \n\n[5 rows x 25 columns]",
      "text/html": "<div>\n<style scoped>\n    .dataframe tbody tr th:only-of-type {\n        vertical-align: middle;\n    }\n\n    .dataframe tbody tr th {\n        vertical-align: top;\n    }\n\n    .dataframe thead th {\n        text-align: right;\n    }\n</style>\n<table border=\"1\" class=\"dataframe\">\n  <thead>\n    <tr style=\"text-align: right;\">\n      <th></th>\n      <th>cat0</th>\n      <th>cat1</th>\n      <th>cat2</th>\n      <th>cat3</th>\n      <th>cat4</th>\n      <th>cat5</th>\n      <th>cat6</th>\n      <th>cat7</th>\n      <th>cat8</th>\n      <th>cat9</th>\n      <th>...</th>\n      <th>cont5</th>\n      <th>cont6</th>\n      <th>cont7</th>\n      <th>cont8</th>\n      <th>cont9</th>\n      <th>cont10</th>\n      <th>cont11</th>\n      <th>cont12</th>\n      <th>cont13</th>\n      <th>target</th>\n    </tr>\n    <tr>\n      <th>id</th>\n      <th></th>\n      <th></th>\n      <th></th>\n      <th></th>\n      <th></th>\n      <th></th>\n      <th></th>\n      <th></th>\n      <th></th>\n      <th></th>\n      <th></th>\n      <th></th>\n      <th></th>\n      <th></th>\n      <th></th>\n      <th></th>\n      <th></th>\n      <th></th>\n      <th></th>\n      <th></th>\n      <th></th>\n    </tr>\n  </thead>\n  <tbody>\n    <tr>\n      <th>1</th>\n      <td>A</td>\n      <td>B</td>\n      <td>A</td>\n      <td>A</td>\n      <td>B</td>\n      <td>D</td>\n      <td>A</td>\n      <td>E</td>\n      <td>C</td>\n      <td>I</td>\n      <td>...</td>\n      <td>0.881122</td>\n      <td>0.421650</td>\n      <td>0.741413</td>\n      <td>0.895799</td>\n      <td>0.802461</td>\n      <td>0.724417</td>\n      <td>0.701915</td>\n      <td>0.877618</td>\n      <td>0.719903</td>\n      <td>6.994023</td>\n    </tr>\n    <tr>\n      <th>2</th>\n      <td>B</td>\n      <td>A</td>\n      <td>A</td>\n      <td>A</td>\n      <td>B</td>\n      <td>B</td>\n      <td>A</td>\n      <td>E</td>\n      <td>A</td>\n      <td>F</td>\n      <td>...</td>\n      <td>0.440011</td>\n      <td>0.346230</td>\n      <td>0.278495</td>\n      <td>0.593413</td>\n      <td>0.546056</td>\n      <td>0.613252</td>\n      <td>0.741289</td>\n      <td>0.326679</td>\n      <td>0.808464</td>\n      <td>8.071256</td>\n    </tr>\n    <tr>\n      <th>3</th>\n      <td>A</td>\n      <td>A</td>\n      <td>A</td>\n      <td>C</td>\n      <td>B</td>\n      <td>D</td>\n      <td>A</td>\n      <td>B</td>\n      <td>C</td>\n      <td>N</td>\n      <td>...</td>\n      <td>0.914155</td>\n      <td>0.369602</td>\n      <td>0.832564</td>\n      <td>0.865620</td>\n      <td>0.825251</td>\n      <td>0.264104</td>\n      <td>0.695561</td>\n      <td>0.869133</td>\n      <td>0.828352</td>\n      <td>5.760456</td>\n    </tr>\n    <tr>\n      <th>4</th>\n      <td>A</td>\n      <td>A</td>\n      <td>A</td>\n      <td>C</td>\n      <td>B</td>\n      <td>D</td>\n      <td>A</td>\n      <td>E</td>\n      <td>G</td>\n      <td>K</td>\n      <td>...</td>\n      <td>0.934138</td>\n      <td>0.578930</td>\n      <td>0.407313</td>\n      <td>0.868099</td>\n      <td>0.794402</td>\n      <td>0.494269</td>\n      <td>0.698125</td>\n      <td>0.809799</td>\n      <td>0.614766</td>\n      <td>7.806457</td>\n    </tr>\n    <tr>\n      <th>6</th>\n      <td>A</td>\n      <td>B</td>\n      <td>A</td>\n      <td>A</td>\n      <td>B</td>\n      <td>B</td>\n      <td>A</td>\n      <td>E</td>\n      <td>C</td>\n      <td>F</td>\n      <td>...</td>\n      <td>0.382600</td>\n      <td>0.705940</td>\n      <td>0.325193</td>\n      <td>0.440967</td>\n      <td>0.462146</td>\n      <td>0.724447</td>\n      <td>0.683073</td>\n      <td>0.343457</td>\n      <td>0.297743</td>\n      <td>6.868974</td>\n    </tr>\n  </tbody>\n</table>\n<p>5 rows × 25 columns</p>\n</div>"
     },
     "metadata": {}
    }
   ]
  },
  {
   "cell_type": "code",
   "metadata": {
    "deletable": false,
    "editable": false,
    "nbgrader": {
     "cell_type": "code",
     "checksum": "283057813be21d0e38dbf98f96fa6b75",
     "grade": true,
     "grade_id": "cell-63c54563653a95db",
     "locked": true,
     "points": 1,
     "schema_version": 3,
     "solution": false,
     "task": false
    },
    "cell_id": "00004-ff9bb232-1294-424d-8678-1e3ba4949bfc",
    "deepnote_to_be_reexecuted": false,
    "source_hash": "d2814531",
    "execution_start": 1620221373441,
    "execution_millis": 9,
    "deepnote_cell_type": "code"
   },
   "source": "print(sub.shape)\nassert df.shape == (300000,25) \nassert df_t.shape == (200000,24) \nassert sub.shape == (200000,1) ",
   "execution_count": null,
   "outputs": [
    {
     "name": "stdout",
     "text": "(200000, 1)\n",
     "output_type": "stream"
    }
   ]
  },
  {
   "cell_type": "markdown",
   "source": "### Subsample the data",
   "metadata": {
    "cell_id": "00005-aac7a033-6ce6-4d92-aed5-0ac4fcbdb24a",
    "deepnote_cell_type": "markdown"
   }
  },
  {
   "cell_type": "code",
   "metadata": {
    "deletable": false,
    "nbgrader": {
     "cell_type": "code",
     "checksum": "48b8af006c0502ef277ad7f9f51bae73",
     "grade": false,
     "grade_id": "cell-af0fe9c9d53bb080",
     "locked": false,
     "schema_version": 3,
     "solution": true,
     "task": false
    },
    "cell_id": "00006-603c2c48-7014-4f71-a1fe-8f495834de4d",
    "deepnote_to_be_reexecuted": false,
    "source_hash": "986bd075",
    "execution_start": 1620221373443,
    "execution_millis": 30,
    "deepnote_cell_type": "code"
   },
   "source": "#1 point\n# get a random sample of size 50k, tested with random state 0\ndfs = df.sample(n=50000, random_state=50)\n# YOUR CODE HERE\n# raise NotImplementedError()",
   "execution_count": null,
   "outputs": []
  },
  {
   "cell_type": "code",
   "metadata": {
    "deletable": false,
    "editable": false,
    "nbgrader": {
     "cell_type": "code",
     "checksum": "3a65c53efee5c6fb13a948c4a711c409",
     "grade": true,
     "grade_id": "cell-6d044ab7181322e1",
     "locked": true,
     "points": 1,
     "schema_version": 3,
     "solution": false,
     "task": false
    },
    "cell_id": "00007-65d9ed88-4245-4685-ac8d-8fccee5d385e",
    "deepnote_to_be_reexecuted": false,
    "source_hash": "ea4c6212",
    "execution_start": 1620221373478,
    "execution_millis": 0,
    "deepnote_cell_type": "code"
   },
   "source": "assert dfs.shape == (50000,25)",
   "execution_count": null,
   "outputs": []
  },
  {
   "cell_type": "markdown",
   "source": "### There are no missings in this dataset",
   "metadata": {
    "cell_id": "00008-2bf2d8b3-8e0d-432e-a8d1-4cfcf70bdfa9",
    "deepnote_cell_type": "markdown"
   }
  },
  {
   "cell_type": "code",
   "metadata": {
    "cell_id": "00009-c282f1f4-4d90-4947-8438-d44023ca09e0",
    "deepnote_to_be_reexecuted": false,
    "source_hash": "1c0c1492",
    "execution_start": 1620221373522,
    "execution_millis": 184,
    "deepnote_cell_type": "code"
   },
   "source": "df.isna().sum().sum(), df_t.isna().sum().sum()",
   "execution_count": null,
   "outputs": [
    {
     "output_type": "execute_result",
     "execution_count": 7,
     "data": {
      "text/plain": "(0, 0)"
     },
     "metadata": {}
    }
   ]
  },
  {
   "cell_type": "code",
   "metadata": {
    "cell_id": "00010-0cad29d7-f733-45ae-85fd-3531507e2339",
    "deepnote_to_be_reexecuted": false,
    "source_hash": "25d43fa0",
    "execution_start": 1620221373685,
    "execution_millis": 32,
    "deepnote_cell_type": "code"
   },
   "source": "df.columns",
   "execution_count": null,
   "outputs": [
    {
     "output_type": "execute_result",
     "execution_count": 8,
     "data": {
      "text/plain": "Index(['cat0', 'cat1', 'cat2', 'cat3', 'cat4', 'cat5', 'cat6', 'cat7', 'cat8',\n       'cat9', 'cont0', 'cont1', 'cont2', 'cont3', 'cont4', 'cont5', 'cont6',\n       'cont7', 'cont8', 'cont9', 'cont10', 'cont11', 'cont12', 'cont13',\n       'target'],\n      dtype='object')"
     },
     "metadata": {}
    }
   ]
  },
  {
   "cell_type": "markdown",
   "source": "### Define variables for x and y",
   "metadata": {
    "cell_id": "00011-9af70f26-6339-4265-804d-88fb59277939",
    "deepnote_cell_type": "markdown"
   }
  },
  {
   "cell_type": "code",
   "metadata": {
    "deletable": false,
    "nbgrader": {
     "cell_type": "code",
     "checksum": "9da5eb270c24b61b947f95901ab01244",
     "grade": false,
     "grade_id": "cell-798649ceac290b47",
     "locked": false,
     "schema_version": 3,
     "solution": true,
     "task": false
    },
    "cell_id": "00012-8749a5f9-c495-4b66-ac71-076961673c6e",
    "deepnote_to_be_reexecuted": false,
    "source_hash": "a956c116",
    "execution_start": 1620221373737,
    "execution_millis": 4,
    "deepnote_cell_type": "code"
   },
   "source": "cat_vars = ['cat0', 'cat1', 'cat2', 'cat3', 'cat4', 'cat5', 'cat6', 'cat7', 'cat8', 'cat9']\nnum_vars = ['cont0', 'cont1', 'cont2', 'cont3',  'cont4',  'cont5',  'cont6',\n            'cont7', 'cont8', 'cont9', 'cont10', 'cont11', 'cont12', 'cont13']\n\n# 1 point \n# store in X all the categorical and numerical columns\n# store in Y the target\n\nx = dfs[cat_vars+num_vars].values\ny = dfs['target'].values\n# YOUR CODE HERE\n# raise NotImplementedError()\n",
   "execution_count": null,
   "outputs": []
  },
  {
   "cell_type": "code",
   "metadata": {
    "tags": [],
    "cell_id": "00013-2d205f00-7810-4e53-a5e5-48288838d428",
    "deepnote_to_be_reexecuted": false,
    "source_hash": "577d5527",
    "execution_start": 1620221373743,
    "execution_millis": 19,
    "deepnote_cell_type": "code"
   },
   "source": "x",
   "execution_count": null,
   "outputs": [
    {
     "output_type": "execute_result",
     "execution_count": 10,
     "data": {
      "text/plain": "array([['A', 'A', 'A', ..., 0.681722133367345, 0.6759425955034102,\n        0.7929978777614367],\n       ['B', 'A', 'A', ..., 0.8736117220638269, 0.8288544982492807,\n        0.7253805034532981],\n       ['A', 'A', 'A', ..., 0.3243238042687904, 0.5912458649703088,\n        0.2796815749023647],\n       ...,\n       ['A', 'A', 'A', ..., 0.443270763901912, 0.2790052164227797,\n        0.6901073334367915],\n       ['B', 'A', 'A', ..., 0.5994339531105995, 0.771418557386994,\n        0.2699185046284917],\n       ['A', 'A', 'A', ..., 0.8735194353308154, 0.3731068128120571,\n        0.6886436664092705]], dtype=object)"
     },
     "metadata": {}
    }
   ]
  },
  {
   "cell_type": "code",
   "metadata": {
    "deletable": false,
    "editable": false,
    "nbgrader": {
     "cell_type": "code",
     "checksum": "d43a4e2c399b56436b32dbc7502477e0",
     "grade": true,
     "grade_id": "cell-a12e77048aa686c4",
     "locked": true,
     "points": 1,
     "schema_version": 3,
     "solution": false,
     "task": false
    },
    "cell_id": "00013-227c8fa1-0882-4d86-9127-6da815a9f529",
    "deepnote_to_be_reexecuted": false,
    "source_hash": "e13f21dc",
    "execution_start": 1620221373752,
    "execution_millis": 1,
    "deepnote_cell_type": "code"
   },
   "source": "assert x.shape == (50000,24)\nassert y.shape == (50000,)",
   "execution_count": null,
   "outputs": []
  },
  {
   "cell_type": "markdown",
   "source": "### See the target variable ([The metric is RMSE](https://www.kaggle.com/c/tabular-playground-series-feb-2021/overview/evaluation))",
   "metadata": {
    "cell_id": "00014-92856df6-d40b-405e-8fd9-f6b15281d4c7",
    "deepnote_cell_type": "markdown"
   }
  },
  {
   "cell_type": "code",
   "metadata": {
    "cell_id": "00015-6a1203d2-9fb2-42e8-92f6-af65be422e51",
    "deepnote_to_be_reexecuted": false,
    "source_hash": "19bbce39",
    "execution_start": 1620221373757,
    "execution_millis": 1064,
    "deepnote_cell_type": "code"
   },
   "source": "df.target.plot.hist(bins=500);",
   "execution_count": null,
   "outputs": [
    {
     "data": {
      "text/plain": "<Figure size 432x288 with 1 Axes>",
      "image/png": "[encoded data removed]"
     },
     "metadata": {
      "needs_background": "light",
      "image/png": {
       "width": 395,
       "height": 248
      }
     },
     "output_type": "display_data"
    }
   ]
  },
  {
   "cell_type": "markdown",
   "source": "### See the numerical variables",
   "metadata": {
    "cell_id": "00016-5d9e295a-09e1-4fc9-8ca0-3cbdc11d29a1",
    "deepnote_cell_type": "markdown"
   }
  },
  {
   "cell_type": "code",
   "metadata": {
    "cell_id": "00017-7945b91d-511e-484c-88a6-9028b1c46dac",
    "deepnote_to_be_reexecuted": false,
    "source_hash": "262b6310",
    "execution_start": 1620221374812,
    "execution_millis": 13971,
    "deepnote_cell_type": "code"
   },
   "source": "for var in num_vars:\n    df[var].plot.hist(bins=500)\n    plt.show();",
   "execution_count": null,
   "outputs": [
    {
     "data": {
      "text/plain": "<Figure size 432x288 with 1 Axes>",
      "image/png": "[encoded data removed]"
     },
     "metadata": {
      "needs_background": "light",
      "image/png": {
       "width": 395,
       "height": 248
      }
     },
     "output_type": "display_data"
    },
    {
     "data": {
      "text/plain": "<Figure size 432x288 with 1 Axes>",
      "image/png": "[encoded data removed]"
     },
     "metadata": {
      "needs_background": "light",
      "image/png": {
       "width": 401,
       "height": 248
      }
     },
     "output_type": "display_data"
    },
    {
     "data": {
      "text/plain": "<Figure size 432x288 with 1 Axes>",
      "image/png": "[encoded data removed]"
     },
     "metadata": {
      "needs_background": "light",
      "image/png": {
       "width": 395,
       "height": 248
      }
     },
     "output_type": "display_data"
    },
    {
     "data": {
      "text/plain": "<Figure size 432x288 with 1 Axes>",
      "image/png": "[encoded data removed]"
     },
     "metadata": {
      "needs_background": "light",
      "image/png": {
       "width": 395,
       "height": 248
      }
     },
     "output_type": "display_data"
    },
    {
     "data": {
      "text/plain": "<Figure size 432x288 with 1 Axes>",
      "image/png": "[encoded data removed]"
     },
     "metadata": {
      "needs_background": "light",
      "image/png": {
       "width": 401,
       "height": 248
      }
     },
     "output_type": "display_data"
    },
    {
     "data": {
      "text/plain": "<Figure size 432x288 with 1 Axes>",
      "image/png": "[encoded data removed]"
     },
     "metadata": {
      "needs_background": "light",
      "image/png": {
       "width": 395,
       "height": 248
      }
     },
     "output_type": "display_data"
    },
    {
     "data": {
      "text/plain": "<Figure size 432x288 with 1 Axes>",
      "image/png": "[encoded data removed]"
     },
     "metadata": {
      "needs_background": "light",
      "image/png": {
       "width": 395,
       "height": 248
      }
     },
     "output_type": "display_data"
    },
    {
     "data": {
      "text/plain": "<Figure size 432x288 with 1 Axes>",
      "image/png": "[encoded data removed]"
     },
     "metadata": {
      "needs_background": "light",
      "image/png": {
       "width": 395,
       "height": 252
      }
     },
     "output_type": "display_data"
    },
    {
     "data": {
      "text/plain": "<Figure size 432x288 with 1 Axes>",
      "image/png": "[encoded data removed]"
     },
     "metadata": {
      "needs_background": "light",
      "image/png": {
       "width": 395,
       "height": 248
      }
     },
     "output_type": "display_data"
    },
    {
     "data": {
      "text/plain": "<Figure size 432x288 with 1 Axes>",
      "image/png": "[encoded data removed]"
     },
     "metadata": {
      "needs_background": "light",
      "image/png": {
       "width": 397,
       "height": 248
      }
     },
     "output_type": "display_data"
    },
    {
     "data": {
      "text/plain": "<Figure size 432x288 with 1 Axes>",
      "image/png": "[encoded data removed]"
     },
     "metadata": {
      "needs_background": "light",
      "image/png": {
       "width": 395,
       "height": 248
      }
     },
     "output_type": "display_data"
    },
    {
     "data": {
      "text/plain": "<Figure size 432x288 with 1 Axes>",
      "image/png": "[encoded data removed]"
     },
     "metadata": {
      "needs_background": "light",
      "image/png": {
       "width": 395,
       "height": 248
      }
     },
     "output_type": "display_data"
    },
    {
     "data": {
      "text/plain": "<Figure size 432x288 with 1 Axes>",
      "image/png": "[encoded data removed]"
     },
     "metadata": {
      "needs_background": "light",
      "image/png": {
       "width": 400,
       "height": 248
      }
     },
     "output_type": "display_data"
    },
    {
     "data": {
      "text/plain": "<Figure size 432x288 with 1 Axes>",
      "image/png": "[encoded data removed]"
     },
     "metadata": {
      "needs_background": "light",
      "image/png": {
       "width": 399,
       "height": 252
      }
     },
     "output_type": "display_data"
    }
   ]
  },
  {
   "cell_type": "markdown",
   "source": "### See the categorical variables (ypu can use `bar()`, `barh()` or `.pie()`)",
   "metadata": {
    "cell_id": "00018-5807a7d2-408c-478d-bb71-672102f25dbd",
    "deepnote_cell_type": "markdown"
   }
  },
  {
   "cell_type": "code",
   "metadata": {
    "cell_id": "00019-fd252dd3-5323-44d0-b996-19c89e36765c",
    "deepnote_to_be_reexecuted": false,
    "source_hash": "fe37aa4d",
    "execution_start": 1620221388841,
    "execution_millis": 1127,
    "deepnote_cell_type": "code"
   },
   "source": "for var in cat_vars:\n    #df[var].value_counts().plot.bar()\n    #df[var].value_counts().plot.barh()\n    df[var].value_counts().plot.pie()\n    plt.show();",
   "execution_count": null,
   "outputs": [
    {
     "data": {
      "text/plain": "<Figure size 432x288 with 1 Axes>",
      "image/png": "[encoded data removed]"
     },
     "metadata": {
      "image/png": {
       "width": 245,
       "height": 231
      }
     },
     "output_type": "display_data"
    },
    {
     "data": {
      "text/plain": "<Figure size 432x288 with 1 Axes>",
      "image/png": "[encoded data removed]"
     },
     "metadata": {
      "image/png": {
       "width": 245,
       "height": 231
      }
     },
     "output_type": "display_data"
    },
    {
     "data": {
      "text/plain": "<Figure size 432x288 with 1 Axes>",
      "image/png": "[encoded data removed]"
     },
     "metadata": {
      "image/png": {
       "width": 245,
       "height": 231
      }
     },
     "output_type": "display_data"
    },
    {
     "data": {
      "text/plain": "<Figure size 432x288 with 1 Axes>",
      "image/png": "[encoded data removed]"
     },
     "metadata": {
      "image/png": {
       "width": 245,
       "height": 231
      }
     },
     "output_type": "display_data"
    },
    {
     "data": {
      "text/plain": "<Figure size 432x288 with 1 Axes>",
      "image/png": "[encoded data removed]"
     },
     "metadata": {
      "image/png": {
       "width": 245,
       "height": 231
      }
     },
     "output_type": "display_data"
    },
    {
     "data": {
      "text/plain": "<Figure size 432x288 with 1 Axes>",
      "image/png": "[encoded data removed]"
     },
     "metadata": {
      "image/png": {
       "width": 245,
       "height": 231
      }
     },
     "output_type": "display_data"
    },
    {
     "data": {
      "text/plain": "<Figure size 432x288 with 1 Axes>",
      "image/png": "[encoded data removed]"
     },
     "metadata": {
      "image/png": {
       "width": 245,
       "height": 231
      }
     },
     "output_type": "display_data"
    },
    {
     "data": {
      "text/plain": "<Figure size 432x288 with 1 Axes>",
      "image/png": "[encoded data removed]"
     },
     "metadata": {
      "image/png": {
       "width": 245,
       "height": 231
      }
     },
     "output_type": "display_data"
    },
    {
     "data": {
      "text/plain": "<Figure size 432x288 with 1 Axes>",
      "image/png": "[encoded data removed]"
     },
     "metadata": {
      "image/png": {
       "width": 245,
       "height": 231
      }
     },
     "output_type": "display_data"
    },
    {
     "data": {
      "text/plain": "<Figure size 432x288 with 1 Axes>",
      "image/png": "[encoded data removed]"
     },
     "metadata": {
      "image/png": {
       "width": 245,
       "height": 231
      }
     },
     "output_type": "display_data"
    }
   ]
  },
  {
   "cell_type": "markdown",
   "source": "# Exercise 1 (2 pts)\n\nCreate the `ColumTransformer` for **models based on multiplications and distances**:\n- Pipeline for numerical variables (`num_vars`): `Standardscaler()` or `QuantileTransformer(n_quantiles=100, output_distribution='normal')`\n- Pipeline for categorical variables (`cat_vars`): `OneHotEncoder(handle_unknown='ignore')`",
   "metadata": {
    "cell_id": "00020-a0f1c793-99f7-40f8-8467-95aa06d2d304",
    "deepnote_cell_type": "markdown"
   }
  },
  {
   "cell_type": "code",
   "metadata": {
    "deletable": false,
    "nbgrader": {
     "cell_type": "code",
     "checksum": "10d603101a3a872dc52bf1a241871cf9",
     "grade": false,
     "grade_id": "cell-1bcb9c03884767e0",
     "locked": false,
     "schema_version": 3,
     "solution": true,
     "task": false
    },
    "cell_id": "00021-76415e35-0307-46a3-978d-bdbbf97e6e43",
    "deepnote_to_be_reexecuted": false,
    "source_hash": "cfd681cb",
    "execution_start": 1620221389978,
    "execution_millis": 22,
    "deepnote_cell_type": "code"
   },
   "source": "num_4_Models = pipeline.Pipeline(steps=[\n    ('scalar',preprocessing.StandardScaler()),\n#     ('scalar',preprocessing.QuantileTransformer(n_quantiles=100, output_distribution='normal'))\n    \n])\n\ncat_4_Models = pipeline.Pipeline(steps=[\n  ('onehot', preprocessing.OneHotEncoder(handle_unknown='ignore'))\n])\n\ntree_prepro = compose.ColumnTransformer(transformers=[\n    ('num', num_4_Models, num_vars),\n    ('cat', cat_4_Models, cat_vars),\n], remainder='drop') # Drop other vars not specified in num_vars or cat_vars\n\n\n\ntree_prepro",
   "execution_count": null,
   "outputs": [
    {
     "output_type": "execute_result",
     "execution_count": 15,
     "data": {
      "text/plain": "ColumnTransformer(transformers=[('num',\n                                 Pipeline(steps=[('scalar', StandardScaler())]),\n                                 ['cont0', 'cont1', 'cont2', 'cont3', 'cont4',\n                                  'cont5', 'cont6', 'cont7', 'cont8', 'cont9',\n                                  'cont10', 'cont11', 'cont12', 'cont13']),\n                                ('cat',\n                                 Pipeline(steps=[('onehot',\n                                                  OneHotEncoder(handle_unknown='ignore'))]),\n                                 ['cat0', 'cat1', 'cat2', 'cat3', 'cat4',\n                                  'cat5', 'cat6', 'cat7', 'cat8', 'cat9'])])",
      "text/html": "<style>div.sk-top-container {color: black;background-color: white;}div.sk-toggleable {background-color: white;}label.sk-toggleable__label {cursor: pointer;display: block;width: 100%;margin-bottom: 0;padding: 0.2em 0.3em;box-sizing: border-box;text-align: center;}div.sk-toggleable__content {max-height: 0;max-width: 0;overflow: hidden;text-align: left;background-color: #f0f8ff;}div.sk-toggleable__content pre {margin: 0.2em;color: black;border-radius: 0.25em;background-color: #f0f8ff;}input.sk-toggleable__control:checked~div.sk-toggleable__content {max-height: 200px;max-width: 100%;overflow: auto;}div.sk-estimator input.sk-toggleable__control:checked~label.sk-toggleable__label {background-color: #d4ebff;}div.sk-label input.sk-toggleable__control:checked~label.sk-toggleable__label {background-color: #d4ebff;}input.sk-hidden--visually {border: 0;clip: rect(1px 1px 1px 1px);clip: rect(1px, 1px, 1px, 1px);height: 1px;margin: -1px;overflow: hidden;padding: 0;position: absolute;width: 1px;}div.sk-estimator {font-family: monospace;background-color: #f0f8ff;margin: 0.25em 0.25em;border: 1px dotted black;border-radius: 0.25em;box-sizing: border-box;}div.sk-estimator:hover {background-color: #d4ebff;}div.sk-parallel-item::after {content: \"\";width: 100%;border-bottom: 1px solid gray;flex-grow: 1;}div.sk-label:hover label.sk-toggleable__label {background-color: #d4ebff;}div.sk-serial::before {content: \"\";position: absolute;border-left: 1px solid gray;box-sizing: border-box;top: 2em;bottom: 0;left: 50%;}div.sk-serial {display: flex;flex-direction: column;align-items: center;background-color: white;}div.sk-item {z-index: 1;}div.sk-parallel {display: flex;align-items: stretch;justify-content: center;background-color: white;}div.sk-parallel-item {display: flex;flex-direction: column;position: relative;background-color: white;}div.sk-parallel-item:first-child::after {align-self: flex-end;width: 50%;}div.sk-parallel-item:last-child::after {align-self: flex-start;width: 50%;}div.sk-parallel-item:only-child::after {width: 0;}div.sk-dashed-wrapped {border: 1px dashed gray;margin: 0.2em;box-sizing: border-box;padding-bottom: 0.1em;background-color: white;position: relative;}div.sk-label label {font-family: monospace;font-weight: bold;background-color: white;display: inline-block;line-height: 1.2em;}div.sk-label-container {position: relative;z-index: 2;text-align: center;}div.sk-container {display: inline-block;position: relative;}</style><div class=\"sk-top-container\"><div class=\"sk-container\"><div class=\"sk-item sk-dashed-wrapped\"><div class=\"sk-label-container\"><div class=\"sk-label sk-toggleable\"><input class=\"sk-toggleable__control sk-hidden--visually\" id=\"ac52a207-efeb-4876-b1d7-d83b723d6078\" type=\"checkbox\" ><label class=\"sk-toggleable__label\" for=\"ac52a207-efeb-4876-b1d7-d83b723d6078\">ColumnTransformer</label><div class=\"sk-toggleable__content\"><pre>ColumnTransformer(transformers=[('num',\n                                 Pipeline(steps=[('scalar', StandardScaler())]),\n                                 ['cont0', 'cont1', 'cont2', 'cont3', 'cont4',\n                                  'cont5', 'cont6', 'cont7', 'cont8', 'cont9',\n                                  'cont10', 'cont11', 'cont12', 'cont13']),\n                                ('cat',\n                                 Pipeline(steps=[('onehot',\n                                                  OneHotEncoder(handle_unknown='ignore'))]),\n                                 ['cat0', 'cat1', 'cat2', 'cat3', 'cat4',\n                                  'cat5', 'cat6', 'cat7', 'cat8', 'cat9'])])</pre></div></div></div><div class=\"sk-parallel\"><div class=\"sk-parallel-item\"><div class=\"sk-item\"><div class=\"sk-label-container\"><div class=\"sk-label sk-toggleable\"><input class=\"sk-toggleable__control sk-hidden--visually\" id=\"c0da141a-b601-435f-beb2-2c0aba346fc0\" type=\"checkbox\" ><label class=\"sk-toggleable__label\" for=\"c0da141a-b601-435f-beb2-2c0aba346fc0\">num</label><div class=\"sk-toggleable__content\"><pre>['cont0', 'cont1', 'cont2', 'cont3', 'cont4', 'cont5', 'cont6', 'cont7', 'cont8', 'cont9', 'cont10', 'cont11', 'cont12', 'cont13']</pre></div></div></div><div class=\"sk-serial\"><div class=\"sk-item\"><div class=\"sk-serial\"><div class=\"sk-item\"><div class=\"sk-estimator sk-toggleable\"><input class=\"sk-toggleable__control sk-hidden--visually\" id=\"0d760e21-bcdb-4e07-a854-f7fcc84d62c4\" type=\"checkbox\" ><label class=\"sk-toggleable__label\" for=\"0d760e21-bcdb-4e07-a854-f7fcc84d62c4\">StandardScaler</label><div class=\"sk-toggleable__content\"><pre>StandardScaler()</pre></div></div></div></div></div></div></div></div><div class=\"sk-parallel-item\"><div class=\"sk-item\"><div class=\"sk-label-container\"><div class=\"sk-label sk-toggleable\"><input class=\"sk-toggleable__control sk-hidden--visually\" id=\"3f70b162-deaf-4ec6-8491-e1ddba37382a\" type=\"checkbox\" ><label class=\"sk-toggleable__label\" for=\"3f70b162-deaf-4ec6-8491-e1ddba37382a\">cat</label><div class=\"sk-toggleable__content\"><pre>['cat0', 'cat1', 'cat2', 'cat3', 'cat4', 'cat5', 'cat6', 'cat7', 'cat8', 'cat9']</pre></div></div></div><div class=\"sk-serial\"><div class=\"sk-item\"><div class=\"sk-serial\"><div class=\"sk-item\"><div class=\"sk-estimator sk-toggleable\"><input class=\"sk-toggleable__control sk-hidden--visually\" id=\"a99610b3-52ed-4d35-9d44-fd419f10af61\" type=\"checkbox\" ><label class=\"sk-toggleable__label\" for=\"a99610b3-52ed-4d35-9d44-fd419f10af61\">OneHotEncoder</label><div class=\"sk-toggleable__content\"><pre>OneHotEncoder(handle_unknown='ignore')</pre></div></div></div></div></div></div></div></div></div></div></div></div>"
     },
     "metadata": {}
    }
   ]
  },
  {
   "cell_type": "code",
   "metadata": {
    "deletable": false,
    "editable": false,
    "nbgrader": {
     "cell_type": "code",
     "checksum": "84e1dc4290931eeee92c3c7fdc67732f",
     "grade": true,
     "grade_id": "cell-25faeb14cfb1e048",
     "locked": true,
     "points": 2,
     "schema_version": 3,
     "solution": false,
     "task": false
    },
    "cell_id": "00022-fbfc8cfe-5850-429b-a1d9-8cb5e7d902dd",
    "deepnote_to_be_reexecuted": false,
    "source_hash": "13e25197",
    "execution_start": 1620221389986,
    "execution_millis": 4,
    "deepnote_cell_type": "code"
   },
   "source": "assert type(tree_prepro) is sklearn.compose._column_transformer.ColumnTransformer",
   "execution_count": null,
   "outputs": []
  },
  {
   "cell_type": "markdown",
   "source": "# Exercise 2 (2 pts)\n\nCreate the `ColumTransformer` for **models based on trees**:\n- Pipeline for numerical variables (`num_vars`): **Do nothing**. Tip: You can use `remainder='passthrough'` when you create the `ColumTransformer`.\n- Pipeline for categorical variables (`cat_vars`): `OrdinalEncoder(handle_unknown='use_encoded_value', unknown_value=-1)[source]`",
   "metadata": {
    "cell_id": "00023-8d7ef70d-6787-489a-bced-e037ab0b277a",
    "deepnote_cell_type": "markdown"
   }
  },
  {
   "cell_type": "code",
   "metadata": {
    "deletable": false,
    "nbgrader": {
     "cell_type": "code",
     "checksum": "1cd4cdd16f7ac771b2014244d76bc9b9",
     "grade": false,
     "grade_id": "cell-d5bc34b399dc8b7a",
     "locked": false,
     "schema_version": 3,
     "solution": true,
     "task": false
    },
    "cell_id": "00024-0ac0e6a6-1077-4ff9-94b8-25b9e5df21ef",
    "deepnote_to_be_reexecuted": false,
    "source_hash": "ce7dd8eb",
    "execution_start": 1620224707433,
    "execution_millis": 11,
    "deepnote_cell_type": "code"
   },
   "source": "num_4_Models = pipeline.Pipeline(steps=[\n    # ('scalar',preprocessing.StandardScaler()),\n    #('scalar',preprocessing.QuantileTransformer(n_quantiles=100, output_distribution='normal'))\n    #i dont think we should scale in tree models\n],remainder='passthrough')\n\ncat_4_Models = pipeline.Pipeline(steps=[\n  ('onehot', preprocessing.OrdinalEncoder(handle_unknown='use_encoded_value', unknown_value=-1))\n])\n\nmult_prepro = compose.ColumnTransformer(transformers=[\n    ('num', num_4_Models, num_vars),\n    ('cat', cat_4_Models, cat_vars),\n], remainder='drop') # Drop other vars not specified in num_vars or cat_vars\n\nmult_prepro\n\n",
   "execution_count": null,
   "outputs": [
    {
     "output_type": "error",
     "ename": "TypeError",
     "evalue": "__init__() got an unexpected keyword argument 'remainder'",
     "traceback": [
      "\u001b[0;31m---------------------------------------------------------------------------\u001b[0m",
      "\u001b[0;31mTypeError\u001b[0m                                 Traceback (most recent call last)",
      "\u001b[0;32m<ipython-input-24-6f7ffcf3aeb9>\u001b[0m in \u001b[0;36m<module>\u001b[0;34m\u001b[0m\n\u001b[1;32m      3\u001b[0m     \u001b[0;31m#('scalar',preprocessing.QuantileTransformer(n_quantiles=100, output_distribution='normal'))\u001b[0m\u001b[0;34m\u001b[0m\u001b[0;34m\u001b[0m\u001b[0;34m\u001b[0m\u001b[0m\n\u001b[1;32m      4\u001b[0m     \u001b[0;31m#i dont think we should scale in tree models\u001b[0m\u001b[0;34m\u001b[0m\u001b[0;34m\u001b[0m\u001b[0;34m\u001b[0m\u001b[0m\n\u001b[0;32m----> 5\u001b[0;31m ],remainder='passthrough')\n\u001b[0m\u001b[1;32m      6\u001b[0m \u001b[0;34m\u001b[0m\u001b[0m\n\u001b[1;32m      7\u001b[0m cat_4_Models = pipeline.Pipeline(steps=[\n",
      "\u001b[0;32m/shared-libs/python3.7/py/lib/python3.7/site-packages/sklearn/utils/validation.py\u001b[0m in \u001b[0;36minner_f\u001b[0;34m(*args, **kwargs)\u001b[0m\n\u001b[1;32m     61\u001b[0m             \u001b[0mextra_args\u001b[0m \u001b[0;34m=\u001b[0m \u001b[0mlen\u001b[0m\u001b[0;34m(\u001b[0m\u001b[0margs\u001b[0m\u001b[0;34m)\u001b[0m \u001b[0;34m-\u001b[0m \u001b[0mlen\u001b[0m\u001b[0;34m(\u001b[0m\u001b[0mall_args\u001b[0m\u001b[0;34m)\u001b[0m\u001b[0;34m\u001b[0m\u001b[0;34m\u001b[0m\u001b[0m\n\u001b[1;32m     62\u001b[0m             \u001b[0;32mif\u001b[0m \u001b[0mextra_args\u001b[0m \u001b[0;34m<=\u001b[0m \u001b[0;36m0\u001b[0m\u001b[0;34m:\u001b[0m\u001b[0;34m\u001b[0m\u001b[0;34m\u001b[0m\u001b[0m\n\u001b[0;32m---> 63\u001b[0;31m                 \u001b[0;32mreturn\u001b[0m \u001b[0mf\u001b[0m\u001b[0;34m(\u001b[0m\u001b[0;34m*\u001b[0m\u001b[0margs\u001b[0m\u001b[0;34m,\u001b[0m \u001b[0;34m**\u001b[0m\u001b[0mkwargs\u001b[0m\u001b[0;34m)\u001b[0m\u001b[0;34m\u001b[0m\u001b[0;34m\u001b[0m\u001b[0m\n\u001b[0m\u001b[1;32m     64\u001b[0m \u001b[0;34m\u001b[0m\u001b[0m\n\u001b[1;32m     65\u001b[0m             \u001b[0;31m# extra_args > 0\u001b[0m\u001b[0;34m\u001b[0m\u001b[0;34m\u001b[0m\u001b[0;34m\u001b[0m\u001b[0m\n",
      "\u001b[0;31mTypeError\u001b[0m: __init__() got an unexpected keyword argument 'remainder'"
     ]
    }
   ]
  },
  {
   "cell_type": "code",
   "metadata": {
    "deletable": false,
    "editable": false,
    "nbgrader": {
     "cell_type": "code",
     "checksum": "4b130d0f54fb35850e5bcea2bfd6794b",
     "grade": true,
     "grade_id": "cell-5938715b631f6081",
     "locked": true,
     "points": 2,
     "schema_version": 3,
     "solution": false,
     "task": false
    },
    "cell_id": "00025-589f335c-dc18-43cd-ab08-95f569185668",
    "deepnote_to_be_reexecuted": false,
    "source_hash": "b682750a",
    "execution_start": 1620221390010,
    "execution_millis": 1,
    "deepnote_cell_type": "code"
   },
   "source": "assert type(mult_prepro) is sklearn.compose._column_transformer.ColumnTransformer",
   "execution_count": null,
   "outputs": []
  },
  {
   "cell_type": "markdown",
   "source": "## Exercise 3 (2pts)\nReasearch about som models and its hyperparamters",
   "metadata": {
    "cell_id": "00026-34b12498-bde2-4794-9765-df182ef2fd19",
    "deepnote_cell_type": "markdown"
   }
  },
  {
   "cell_type": "code",
   "metadata": {
    "tags": [],
    "cell_id": "00027-e9020513-6379-44d9-b3ba-0acd1344726e",
    "deepnote_to_be_reexecuted": false,
    "source_hash": "16b9bd07",
    "execution_start": 1620221390015,
    "execution_millis": 3024,
    "output_cleared": false,
    "deepnote_cell_type": "code"
   },
   "source": "!pip install lightgbm==3.2.1",
   "execution_count": null,
   "outputs": [
    {
     "name": "stdout",
     "text": "Requirement already satisfied: lightgbm==3.2.1 in /root/venv/lib/python3.7/site-packages (3.2.1)\nRequirement already satisfied: numpy in /shared-libs/python3.7/py/lib/python3.7/site-packages (from lightgbm==3.2.1) (1.19.5)\nRequirement already satisfied: scikit-learn!=0.22.0 in /shared-libs/python3.7/py/lib/python3.7/site-packages (from lightgbm==3.2.1) (0.24.1)\nRequirement already satisfied: wheel in /root/venv/lib/python3.7/site-packages (from lightgbm==3.2.1) (0.36.2)\nRequirement already satisfied: scipy in /shared-libs/python3.7/py/lib/python3.7/site-packages (from lightgbm==3.2.1) (1.6.2)\nRequirement already satisfied: joblib>=0.11 in /shared-libs/python3.7/py/lib/python3.7/site-packages (from scikit-learn!=0.22.0->lightgbm==3.2.1) (1.0.1)\nRequirement already satisfied: threadpoolctl>=2.0.0 in /shared-libs/python3.7/py/lib/python3.7/site-packages (from scikit-learn!=0.22.0->lightgbm==3.2.1) (2.1.0)\n\u001b[33mWARNING: You are using pip version 21.0.1; however, version 21.1.1 is available.\nYou should consider upgrading via the '/root/venv/bin/python -m pip install --upgrade pip' command.\u001b[0m\n",
     "output_type": "stream"
    }
   ]
  },
  {
   "cell_type": "code",
   "metadata": {
    "tags": [],
    "cell_id": "00028-3c7829cd-5219-49da-8434-043459339b2a",
    "deepnote_to_be_reexecuted": false,
    "source_hash": "f3be0113",
    "execution_start": 1620221393048,
    "execution_millis": 2882,
    "output_cleared": false,
    "deepnote_cell_type": "code"
   },
   "source": "!pip install catboost==0.25.1",
   "execution_count": null,
   "outputs": [
    {
     "name": "stdout",
     "text": "Requirement already satisfied: catboost==0.25.1 in /root/venv/lib/python3.7/site-packages (0.25.1)\nRequirement already satisfied: graphviz in /root/venv/lib/python3.7/site-packages (from catboost==0.25.1) (0.16)\nRequirement already satisfied: numpy>=1.16.0 in /shared-libs/python3.7/py/lib/python3.7/site-packages (from catboost==0.25.1) (1.19.5)\nRequirement already satisfied: matplotlib in /shared-libs/python3.7/py/lib/python3.7/site-packages (from catboost==0.25.1) (3.4.1)\nRequirement already satisfied: six in /shared-libs/python3.7/py-core/lib/python3.7/site-packages (from catboost==0.25.1) (1.15.0)\nRequirement already satisfied: pandas>=0.24.0 in /shared-libs/python3.7/py/lib/python3.7/site-packages (from catboost==0.25.1) (1.2.4)\nRequirement already satisfied: plotly in /shared-libs/python3.7/py/lib/python3.7/site-packages (from catboost==0.25.1) (4.14.3)\nRequirement already satisfied: scipy in /shared-libs/python3.7/py/lib/python3.7/site-packages (from catboost==0.25.1) (1.6.2)\nRequirement already satisfied: python-dateutil>=2.7.3 in /shared-libs/python3.7/py-core/lib/python3.7/site-packages (from pandas>=0.24.0->catboost==0.25.1) (2.8.1)\nRequirement already satisfied: pytz>=2017.3 in /shared-libs/python3.7/py/lib/python3.7/site-packages (from pandas>=0.24.0->catboost==0.25.1) (2021.1)\nRequirement already satisfied: cycler>=0.10 in /shared-libs/python3.7/py/lib/python3.7/site-packages (from matplotlib->catboost==0.25.1) (0.10.0)\nRequirement already satisfied: pillow>=6.2.0 in /shared-libs/python3.7/py/lib/python3.7/site-packages (from matplotlib->catboost==0.25.1) (8.2.0)\nRequirement already satisfied: kiwisolver>=1.0.1 in /shared-libs/python3.7/py/lib/python3.7/site-packages (from matplotlib->catboost==0.25.1) (1.3.1)\nRequirement already satisfied: pyparsing>=2.2.1 in /shared-libs/python3.7/py-core/lib/python3.7/site-packages (from matplotlib->catboost==0.25.1) (2.4.7)\nRequirement already satisfied: retrying>=1.3.3 in /shared-libs/python3.7/py/lib/python3.7/site-packages (from plotly->catboost==0.25.1) (1.3.3)\n\u001b[33mWARNING: You are using pip version 21.0.1; however, version 21.1.1 is available.\nYou should consider upgrading via the '/root/venv/bin/python -m pip install --upgrade pip' command.\u001b[0m\n",
     "output_type": "stream"
    }
   ]
  },
  {
   "cell_type": "code",
   "metadata": {
    "deletable": false,
    "nbgrader": {
     "cell_type": "code",
     "checksum": "d7adbff0db3e9d7dd7008bbde13d756c",
     "grade": false,
     "grade_id": "cell-b3793d6c01aa98b1",
     "locked": false,
     "schema_version": 3,
     "solution": true,
     "task": false
    },
    "cell_id": "00027-eb6a054b-5fda-4bd3-9433-a082a780e4c1",
    "deepnote_to_be_reexecuted": false,
    "source_hash": "23a5933a",
    "execution_start": 1620221395974,
    "execution_millis": 28,
    "deepnote_cell_type": "code"
   },
   "source": "from sklearn.linear_model import BayesianRidge, LinearRegression,Lasso,Ridge\nfrom sklearn.preprocessing import PolynomialFeatures\nclassifiers = {\n \"Linear\":LinearRegression(),\n  'Lasso':Lasso(alpha=0.1),  \n    \"BayeR\":BayesianRidge(),\n    \"Ridge\":Ridge()\n}\nall_pipelines = {name: pipeline.make_pipeline(mult_prepro, model) for name, model in classifiers.items()}\nall_pipelines['Linear']",
   "execution_count": null,
   "outputs": [
    {
     "output_type": "execute_result",
     "execution_count": 21,
     "data": {
      "text/plain": "Pipeline(steps=[('columntransformer',\n                 ColumnTransformer(transformers=[('num',\n                                                  Pipeline(steps=[('scalar',\n                                                                   QuantileTransformer(n_quantiles=100,\n                                                                                       output_distribution='normal'))]),\n                                                  ['cont0', 'cont1', 'cont2',\n                                                   'cont3', 'cont4', 'cont5',\n                                                   'cont6', 'cont7', 'cont8',\n                                                   'cont9', 'cont10', 'cont11',\n                                                   'cont12', 'cont13']),\n                                                 ('cat',\n                                                  Pipeline(steps=[('onehot',\n                                                                   OrdinalEncoder(handle_unknown='use_encoded_value',\n                                                                                  unknown_value=-1))]),\n                                                  ['cat0', 'cat1', 'cat2',\n                                                   'cat3', 'cat4', 'cat5',\n                                                   'cat6', 'cat7', 'cat8',\n                                                   'cat9'])])),\n                ('linearregression', LinearRegression())])",
      "text/html": "<style>div.sk-top-container {color: black;background-color: white;}div.sk-toggleable {background-color: white;}label.sk-toggleable__label {cursor: pointer;display: block;width: 100%;margin-bottom: 0;padding: 0.2em 0.3em;box-sizing: border-box;text-align: center;}div.sk-toggleable__content {max-height: 0;max-width: 0;overflow: hidden;text-align: left;background-color: #f0f8ff;}div.sk-toggleable__content pre {margin: 0.2em;color: black;border-radius: 0.25em;background-color: #f0f8ff;}input.sk-toggleable__control:checked~div.sk-toggleable__content {max-height: 200px;max-width: 100%;overflow: auto;}div.sk-estimator input.sk-toggleable__control:checked~label.sk-toggleable__label {background-color: #d4ebff;}div.sk-label input.sk-toggleable__control:checked~label.sk-toggleable__label {background-color: #d4ebff;}input.sk-hidden--visually {border: 0;clip: rect(1px 1px 1px 1px);clip: rect(1px, 1px, 1px, 1px);height: 1px;margin: -1px;overflow: hidden;padding: 0;position: absolute;width: 1px;}div.sk-estimator {font-family: monospace;background-color: #f0f8ff;margin: 0.25em 0.25em;border: 1px dotted black;border-radius: 0.25em;box-sizing: border-box;}div.sk-estimator:hover {background-color: #d4ebff;}div.sk-parallel-item::after {content: \"\";width: 100%;border-bottom: 1px solid gray;flex-grow: 1;}div.sk-label:hover label.sk-toggleable__label {background-color: #d4ebff;}div.sk-serial::before {content: \"\";position: absolute;border-left: 1px solid gray;box-sizing: border-box;top: 2em;bottom: 0;left: 50%;}div.sk-serial {display: flex;flex-direction: column;align-items: center;background-color: white;}div.sk-item {z-index: 1;}div.sk-parallel {display: flex;align-items: stretch;justify-content: center;background-color: white;}div.sk-parallel-item {display: flex;flex-direction: column;position: relative;background-color: white;}div.sk-parallel-item:first-child::after {align-self: flex-end;width: 50%;}div.sk-parallel-item:last-child::after {align-self: flex-start;width: 50%;}div.sk-parallel-item:only-child::after {width: 0;}div.sk-dashed-wrapped {border: 1px dashed gray;margin: 0.2em;box-sizing: border-box;padding-bottom: 0.1em;background-color: white;position: relative;}div.sk-label label {font-family: monospace;font-weight: bold;background-color: white;display: inline-block;line-height: 1.2em;}div.sk-label-container {position: relative;z-index: 2;text-align: center;}div.sk-container {display: inline-block;position: relative;}</style><div class=\"sk-top-container\"><div class=\"sk-container\"><div class=\"sk-item sk-dashed-wrapped\"><div class=\"sk-label-container\"><div class=\"sk-label sk-toggleable\"><input class=\"sk-toggleable__control sk-hidden--visually\" id=\"79341dfa-9bf7-48cf-b9c1-b319ca8cde92\" type=\"checkbox\" ><label class=\"sk-toggleable__label\" for=\"79341dfa-9bf7-48cf-b9c1-b319ca8cde92\">Pipeline</label><div class=\"sk-toggleable__content\"><pre>Pipeline(steps=[('columntransformer',\n                 ColumnTransformer(transformers=[('num',\n                                                  Pipeline(steps=[('scalar',\n                                                                   QuantileTransformer(n_quantiles=100,\n                                                                                       output_distribution='normal'))]),\n                                                  ['cont0', 'cont1', 'cont2',\n                                                   'cont3', 'cont4', 'cont5',\n                                                   'cont6', 'cont7', 'cont8',\n                                                   'cont9', 'cont10', 'cont11',\n                                                   'cont12', 'cont13']),\n                                                 ('cat',\n                                                  Pipeline(steps=[('onehot',\n                                                                   OrdinalEncoder(handle_unknown='use_encoded_value',\n                                                                                  unknown_value=-1))]),\n                                                  ['cat0', 'cat1', 'cat2',\n                                                   'cat3', 'cat4', 'cat5',\n                                                   'cat6', 'cat7', 'cat8',\n                                                   'cat9'])])),\n                ('linearregression', LinearRegression())])</pre></div></div></div><div class=\"sk-serial\"><div class=\"sk-item sk-dashed-wrapped\"><div class=\"sk-label-container\"><div class=\"sk-label sk-toggleable\"><input class=\"sk-toggleable__control sk-hidden--visually\" id=\"cfa68aef-da73-4a0f-9539-156a9bb1007f\" type=\"checkbox\" ><label class=\"sk-toggleable__label\" for=\"cfa68aef-da73-4a0f-9539-156a9bb1007f\">columntransformer: ColumnTransformer</label><div class=\"sk-toggleable__content\"><pre>ColumnTransformer(transformers=[('num',\n                                 Pipeline(steps=[('scalar',\n                                                  QuantileTransformer(n_quantiles=100,\n                                                                      output_distribution='normal'))]),\n                                 ['cont0', 'cont1', 'cont2', 'cont3', 'cont4',\n                                  'cont5', 'cont6', 'cont7', 'cont8', 'cont9',\n                                  'cont10', 'cont11', 'cont12', 'cont13']),\n                                ('cat',\n                                 Pipeline(steps=[('onehot',\n                                                  OrdinalEncoder(handle_unknown='use_encoded_value',\n                                                                 unknown_value=-1))]),\n                                 ['cat0', 'cat1', 'cat2', 'cat3', 'cat4',\n                                  'cat5', 'cat6', 'cat7', 'cat8', 'cat9'])])</pre></div></div></div><div class=\"sk-parallel\"><div class=\"sk-parallel-item\"><div class=\"sk-item\"><div class=\"sk-label-container\"><div class=\"sk-label sk-toggleable\"><input class=\"sk-toggleable__control sk-hidden--visually\" id=\"186e66a2-482a-4313-952a-c3d2d4f1bd8e\" type=\"checkbox\" ><label class=\"sk-toggleable__label\" for=\"186e66a2-482a-4313-952a-c3d2d4f1bd8e\">num</label><div class=\"sk-toggleable__content\"><pre>['cont0', 'cont1', 'cont2', 'cont3', 'cont4', 'cont5', 'cont6', 'cont7', 'cont8', 'cont9', 'cont10', 'cont11', 'cont12', 'cont13']</pre></div></div></div><div class=\"sk-serial\"><div class=\"sk-item\"><div class=\"sk-serial\"><div class=\"sk-item\"><div class=\"sk-estimator sk-toggleable\"><input class=\"sk-toggleable__control sk-hidden--visually\" id=\"067ffa82-6af5-43bf-a58d-3ad80a334edb\" type=\"checkbox\" ><label class=\"sk-toggleable__label\" for=\"067ffa82-6af5-43bf-a58d-3ad80a334edb\">QuantileTransformer</label><div class=\"sk-toggleable__content\"><pre>QuantileTransformer(n_quantiles=100, output_distribution='normal')</pre></div></div></div></div></div></div></div></div><div class=\"sk-parallel-item\"><div class=\"sk-item\"><div class=\"sk-label-container\"><div class=\"sk-label sk-toggleable\"><input class=\"sk-toggleable__control sk-hidden--visually\" id=\"08d82030-ed63-406d-bdf1-1fdf3562a7a1\" type=\"checkbox\" ><label class=\"sk-toggleable__label\" for=\"08d82030-ed63-406d-bdf1-1fdf3562a7a1\">cat</label><div class=\"sk-toggleable__content\"><pre>['cat0', 'cat1', 'cat2', 'cat3', 'cat4', 'cat5', 'cat6', 'cat7', 'cat8', 'cat9']</pre></div></div></div><div class=\"sk-serial\"><div class=\"sk-item\"><div class=\"sk-serial\"><div class=\"sk-item\"><div class=\"sk-estimator sk-toggleable\"><input class=\"sk-toggleable__control sk-hidden--visually\" id=\"0a69edea-1789-47e8-9bd6-d972b6e7d39c\" type=\"checkbox\" ><label class=\"sk-toggleable__label\" for=\"0a69edea-1789-47e8-9bd6-d972b6e7d39c\">OrdinalEncoder</label><div class=\"sk-toggleable__content\"><pre>OrdinalEncoder(handle_unknown='use_encoded_value', unknown_value=-1)</pre></div></div></div></div></div></div></div></div></div></div><div class=\"sk-item\"><div class=\"sk-estimator sk-toggleable\"><input class=\"sk-toggleable__control sk-hidden--visually\" id=\"fad08113-e478-44de-b344-13a084214980\" type=\"checkbox\" ><label class=\"sk-toggleable__label\" for=\"fad08113-e478-44de-b344-13a084214980\">LinearRegression</label><div class=\"sk-toggleable__content\"><pre>LinearRegression()</pre></div></div></div></div></div></div></div>"
     },
     "metadata": {}
    }
   ]
  },
  {
   "cell_type": "code",
   "metadata": {
    "tags": [],
    "cell_id": "00030-912dc450-5be8-4fe2-ba43-2af499153586",
    "deepnote_to_be_reexecuted": false,
    "source_hash": "9999a9ff",
    "execution_start": 1620221395984,
    "execution_millis": 26,
    "deepnote_cell_type": "code"
   },
   "source": "all_pipelines = {name: pipeline.make_pipeline(tree_prepro, model) for name, model in classifiers.items()}\nclassifiers[\"Linear\"]",
   "execution_count": null,
   "outputs": [
    {
     "output_type": "execute_result",
     "execution_count": 22,
     "data": {
      "text/plain": "LinearRegression()",
      "text/html": "<style>div.sk-top-container {color: black;background-color: white;}div.sk-toggleable {background-color: white;}label.sk-toggleable__label {cursor: pointer;display: block;width: 100%;margin-bottom: 0;padding: 0.2em 0.3em;box-sizing: border-box;text-align: center;}div.sk-toggleable__content {max-height: 0;max-width: 0;overflow: hidden;text-align: left;background-color: #f0f8ff;}div.sk-toggleable__content pre {margin: 0.2em;color: black;border-radius: 0.25em;background-color: #f0f8ff;}input.sk-toggleable__control:checked~div.sk-toggleable__content {max-height: 200px;max-width: 100%;overflow: auto;}div.sk-estimator input.sk-toggleable__control:checked~label.sk-toggleable__label {background-color: #d4ebff;}div.sk-label input.sk-toggleable__control:checked~label.sk-toggleable__label {background-color: #d4ebff;}input.sk-hidden--visually {border: 0;clip: rect(1px 1px 1px 1px);clip: rect(1px, 1px, 1px, 1px);height: 1px;margin: -1px;overflow: hidden;padding: 0;position: absolute;width: 1px;}div.sk-estimator {font-family: monospace;background-color: #f0f8ff;margin: 0.25em 0.25em;border: 1px dotted black;border-radius: 0.25em;box-sizing: border-box;}div.sk-estimator:hover {background-color: #d4ebff;}div.sk-parallel-item::after {content: \"\";width: 100%;border-bottom: 1px solid gray;flex-grow: 1;}div.sk-label:hover label.sk-toggleable__label {background-color: #d4ebff;}div.sk-serial::before {content: \"\";position: absolute;border-left: 1px solid gray;box-sizing: border-box;top: 2em;bottom: 0;left: 50%;}div.sk-serial {display: flex;flex-direction: column;align-items: center;background-color: white;}div.sk-item {z-index: 1;}div.sk-parallel {display: flex;align-items: stretch;justify-content: center;background-color: white;}div.sk-parallel-item {display: flex;flex-direction: column;position: relative;background-color: white;}div.sk-parallel-item:first-child::after {align-self: flex-end;width: 50%;}div.sk-parallel-item:last-child::after {align-self: flex-start;width: 50%;}div.sk-parallel-item:only-child::after {width: 0;}div.sk-dashed-wrapped {border: 1px dashed gray;margin: 0.2em;box-sizing: border-box;padding-bottom: 0.1em;background-color: white;position: relative;}div.sk-label label {font-family: monospace;font-weight: bold;background-color: white;display: inline-block;line-height: 1.2em;}div.sk-label-container {position: relative;z-index: 2;text-align: center;}div.sk-container {display: inline-block;position: relative;}</style><div class=\"sk-top-container\"><div class=\"sk-container\"><div class=\"sk-item\"><div class=\"sk-estimator sk-toggleable\"><input class=\"sk-toggleable__control sk-hidden--visually\" id=\"32edbd40-99d4-494d-9078-183f96c7a7fb\" type=\"checkbox\" checked><label class=\"sk-toggleable__label\" for=\"32edbd40-99d4-494d-9078-183f96c7a7fb\">LinearRegression</label><div class=\"sk-toggleable__content\"><pre>LinearRegression()</pre></div></div></div></div></div>"
     },
     "metadata": {}
    }
   ]
  },
  {
   "cell_type": "code",
   "metadata": {
    "tags": [],
    "cell_id": "00031-74b558a7-fcd6-43bd-8745-b323d65f048a",
    "deepnote_to_be_reexecuted": false,
    "source_hash": "f071b8e1",
    "execution_start": 1620221395993,
    "execution_millis": 150,
    "deepnote_cell_type": "code"
   },
   "source": "for pipe in classifiers.values():\n    assert type(pipe) is pipeline.Pipeline",
   "execution_count": null,
   "outputs": [
    {
     "output_type": "error",
     "ename": "AssertionError",
     "evalue": "",
     "traceback": [
      "\u001b[0;31m---------------------------------------------------------------------------\u001b[0m",
      "\u001b[0;31mAssertionError\u001b[0m                            Traceback (most recent call last)",
      "\u001b[0;32m<ipython-input-23-6e9f58ff7550>\u001b[0m in \u001b[0;36m<module>\u001b[0;34m\u001b[0m\n\u001b[1;32m      1\u001b[0m \u001b[0;32mfor\u001b[0m \u001b[0mpipe\u001b[0m \u001b[0;32min\u001b[0m \u001b[0mclassifiers\u001b[0m\u001b[0;34m.\u001b[0m\u001b[0mvalues\u001b[0m\u001b[0;34m(\u001b[0m\u001b[0;34m)\u001b[0m\u001b[0;34m:\u001b[0m\u001b[0;34m\u001b[0m\u001b[0;34m\u001b[0m\u001b[0m\n\u001b[0;32m----> 2\u001b[0;31m     \u001b[0;32massert\u001b[0m \u001b[0mtype\u001b[0m\u001b[0;34m(\u001b[0m\u001b[0mpipe\u001b[0m\u001b[0;34m)\u001b[0m \u001b[0;32mis\u001b[0m \u001b[0mpipeline\u001b[0m\u001b[0;34m.\u001b[0m\u001b[0mPipeline\u001b[0m\u001b[0;34m\u001b[0m\u001b[0;34m\u001b[0m\u001b[0m\n\u001b[0m",
      "\u001b[0;31mAssertionError\u001b[0m: "
     ]
    }
   ]
  },
  {
   "cell_type": "code",
   "metadata": {
    "deletable": false,
    "nbgrader": {
     "cell_type": "code",
     "checksum": "8e9749823b5f8d1003f7dce809b6939c",
     "grade": false,
     "grade_id": "cell-b2aa9f758935ebbf",
     "locked": false,
     "schema_version": 3,
     "solution": true,
     "task": false
    },
    "cell_id": "00028-2719b00e-bd33-4647-ab45-889fc20647e2",
    "deepnote_to_be_reexecuted": true,
    "source_hash": "8c39f418",
    "execution_start": 1620219943768,
    "execution_millis": 276,
    "deepnote_cell_type": "code"
   },
   "source": "from sklearn.metrics import mean_squared_error\nimport time\n\nx_train, x_valid, y_train, y_valid = model_selection.train_test_split(x, y, test_size=0.4, random_state=0)\n\nresults = pd.DataFrame({'Model': [], 'MSE': [], 'RMSE': [], 'Time': []})\n\nfor name, pipe in all_pipelines.items():\n\n    start_time = time.time()\n    pipe.fit(x_train, y_train)\n    preds = pipe.predict(x_valid)\n    total_time = time.time() - start_time\n\n    results = results.append({\"Model\": name,\n                              \"MSE\": metrics.mean_squared_error(y_valid, preds),  # mean square error,\n                              \"RMSE\": np.sqrt(metrics.mean_squared_error(y_valid, preds)),  #mean square error squared,\n                              \"Time\": total_time},\n                              ignore_index=True)\n\n    \n    results_ord = results.sort_values(by=['RMSE'], ascending=True, ignore_index=True)\n    results_ord.index += 1 \n    clear_output()\n    display(results_ord.style.bar(subset=['MSE', 'RMSE'], vmin=0, color='#5fba7d'))\n",
   "execution_count": null,
   "outputs": [
    {
     "output_type": "error",
     "ename": "ValueError",
     "evalue": "Specifying the columns using strings is only supported for pandas DataFrames",
     "traceback": [
      "\u001b[0;31m---------------------------------------------------------------------------\u001b[0m",
      "\u001b[0;31mAttributeError\u001b[0m                            Traceback (most recent call last)",
      "\u001b[0;32m/shared-libs/python3.7/py/lib/python3.7/site-packages/sklearn/utils/__init__.py\u001b[0m in \u001b[0;36m_get_column_indices\u001b[0;34m(X, key)\u001b[0m\n\u001b[1;32m    373\u001b[0m         \u001b[0;32mtry\u001b[0m\u001b[0;34m:\u001b[0m\u001b[0;34m\u001b[0m\u001b[0;34m\u001b[0m\u001b[0m\n\u001b[0;32m--> 374\u001b[0;31m             \u001b[0mall_columns\u001b[0m \u001b[0;34m=\u001b[0m \u001b[0mX\u001b[0m\u001b[0;34m.\u001b[0m\u001b[0mcolumns\u001b[0m\u001b[0;34m\u001b[0m\u001b[0;34m\u001b[0m\u001b[0m\n\u001b[0m\u001b[1;32m    375\u001b[0m         \u001b[0;32mexcept\u001b[0m \u001b[0mAttributeError\u001b[0m\u001b[0;34m:\u001b[0m\u001b[0;34m\u001b[0m\u001b[0;34m\u001b[0m\u001b[0m\n",
      "\u001b[0;31mAttributeError\u001b[0m: 'numpy.ndarray' object has no attribute 'columns'",
      "\nDuring handling of the above exception, another exception occurred:\n",
      "\u001b[0;31mValueError\u001b[0m                                Traceback (most recent call last)",
      "\u001b[0;32m<ipython-input-79-757aaba7d438>\u001b[0m in \u001b[0;36m<module>\u001b[0;34m\u001b[0m\n\u001b[1;32m      9\u001b[0m \u001b[0;34m\u001b[0m\u001b[0m\n\u001b[1;32m     10\u001b[0m     \u001b[0mstart_time\u001b[0m \u001b[0;34m=\u001b[0m \u001b[0mtime\u001b[0m\u001b[0;34m.\u001b[0m\u001b[0mtime\u001b[0m\u001b[0;34m(\u001b[0m\u001b[0;34m)\u001b[0m\u001b[0;34m\u001b[0m\u001b[0;34m\u001b[0m\u001b[0m\n\u001b[0;32m---> 11\u001b[0;31m     \u001b[0mpipe\u001b[0m\u001b[0;34m.\u001b[0m\u001b[0mfit\u001b[0m\u001b[0;34m(\u001b[0m\u001b[0mx_train\u001b[0m\u001b[0;34m,\u001b[0m \u001b[0my_train\u001b[0m\u001b[0;34m)\u001b[0m\u001b[0;34m\u001b[0m\u001b[0;34m\u001b[0m\u001b[0m\n\u001b[0m\u001b[1;32m     12\u001b[0m     \u001b[0mpreds\u001b[0m \u001b[0;34m=\u001b[0m \u001b[0mpipe\u001b[0m\u001b[0;34m.\u001b[0m\u001b[0mpredict\u001b[0m\u001b[0;34m(\u001b[0m\u001b[0mx_valid\u001b[0m\u001b[0;34m)\u001b[0m\u001b[0;34m\u001b[0m\u001b[0;34m\u001b[0m\u001b[0m\n\u001b[1;32m     13\u001b[0m     \u001b[0mtotal_time\u001b[0m \u001b[0;34m=\u001b[0m \u001b[0mtime\u001b[0m\u001b[0;34m.\u001b[0m\u001b[0mtime\u001b[0m\u001b[0;34m(\u001b[0m\u001b[0;34m)\u001b[0m \u001b[0;34m-\u001b[0m \u001b[0mstart_time\u001b[0m\u001b[0;34m\u001b[0m\u001b[0;34m\u001b[0m\u001b[0m\n",
      "\u001b[0;32m/shared-libs/python3.7/py/lib/python3.7/site-packages/sklearn/pipeline.py\u001b[0m in \u001b[0;36mfit\u001b[0;34m(self, X, y, **fit_params)\u001b[0m\n\u001b[1;32m    339\u001b[0m         \"\"\"\n\u001b[1;32m    340\u001b[0m         \u001b[0mfit_params_steps\u001b[0m \u001b[0;34m=\u001b[0m \u001b[0mself\u001b[0m\u001b[0;34m.\u001b[0m\u001b[0m_check_fit_params\u001b[0m\u001b[0;34m(\u001b[0m\u001b[0;34m**\u001b[0m\u001b[0mfit_params\u001b[0m\u001b[0;34m)\u001b[0m\u001b[0;34m\u001b[0m\u001b[0;34m\u001b[0m\u001b[0m\n\u001b[0;32m--> 341\u001b[0;31m         \u001b[0mXt\u001b[0m \u001b[0;34m=\u001b[0m \u001b[0mself\u001b[0m\u001b[0;34m.\u001b[0m\u001b[0m_fit\u001b[0m\u001b[0;34m(\u001b[0m\u001b[0mX\u001b[0m\u001b[0;34m,\u001b[0m \u001b[0my\u001b[0m\u001b[0;34m,\u001b[0m \u001b[0;34m**\u001b[0m\u001b[0mfit_params_steps\u001b[0m\u001b[0;34m)\u001b[0m\u001b[0;34m\u001b[0m\u001b[0;34m\u001b[0m\u001b[0m\n\u001b[0m\u001b[1;32m    342\u001b[0m         with _print_elapsed_time('Pipeline',\n\u001b[1;32m    343\u001b[0m                                  self._log_message(len(self.steps) - 1)):\n",
      "\u001b[0;32m/shared-libs/python3.7/py/lib/python3.7/site-packages/sklearn/pipeline.py\u001b[0m in \u001b[0;36m_fit\u001b[0;34m(self, X, y, **fit_params_steps)\u001b[0m\n\u001b[1;32m    305\u001b[0m                 \u001b[0mmessage_clsname\u001b[0m\u001b[0;34m=\u001b[0m\u001b[0;34m'Pipeline'\u001b[0m\u001b[0;34m,\u001b[0m\u001b[0;34m\u001b[0m\u001b[0;34m\u001b[0m\u001b[0m\n\u001b[1;32m    306\u001b[0m                 \u001b[0mmessage\u001b[0m\u001b[0;34m=\u001b[0m\u001b[0mself\u001b[0m\u001b[0;34m.\u001b[0m\u001b[0m_log_message\u001b[0m\u001b[0;34m(\u001b[0m\u001b[0mstep_idx\u001b[0m\u001b[0;34m)\u001b[0m\u001b[0;34m,\u001b[0m\u001b[0;34m\u001b[0m\u001b[0;34m\u001b[0m\u001b[0m\n\u001b[0;32m--> 307\u001b[0;31m                 **fit_params_steps[name])\n\u001b[0m\u001b[1;32m    308\u001b[0m             \u001b[0;31m# Replace the transformer of the step with the fitted\u001b[0m\u001b[0;34m\u001b[0m\u001b[0;34m\u001b[0m\u001b[0;34m\u001b[0m\u001b[0m\n\u001b[1;32m    309\u001b[0m             \u001b[0;31m# transformer. This is necessary when loading the transformer\u001b[0m\u001b[0;34m\u001b[0m\u001b[0;34m\u001b[0m\u001b[0;34m\u001b[0m\u001b[0m\n",
      "\u001b[0;32m/shared-libs/python3.7/py/lib/python3.7/site-packages/joblib/memory.py\u001b[0m in \u001b[0;36m__call__\u001b[0;34m(self, *args, **kwargs)\u001b[0m\n\u001b[1;32m    350\u001b[0m \u001b[0;34m\u001b[0m\u001b[0m\n\u001b[1;32m    351\u001b[0m     \u001b[0;32mdef\u001b[0m \u001b[0m__call__\u001b[0m\u001b[0;34m(\u001b[0m\u001b[0mself\u001b[0m\u001b[0;34m,\u001b[0m \u001b[0;34m*\u001b[0m\u001b[0margs\u001b[0m\u001b[0;34m,\u001b[0m \u001b[0;34m**\u001b[0m\u001b[0mkwargs\u001b[0m\u001b[0;34m)\u001b[0m\u001b[0;34m:\u001b[0m\u001b[0;34m\u001b[0m\u001b[0;34m\u001b[0m\u001b[0m\n\u001b[0;32m--> 352\u001b[0;31m         \u001b[0;32mreturn\u001b[0m \u001b[0mself\u001b[0m\u001b[0;34m.\u001b[0m\u001b[0mfunc\u001b[0m\u001b[0;34m(\u001b[0m\u001b[0;34m*\u001b[0m\u001b[0margs\u001b[0m\u001b[0;34m,\u001b[0m \u001b[0;34m**\u001b[0m\u001b[0mkwargs\u001b[0m\u001b[0;34m)\u001b[0m\u001b[0;34m\u001b[0m\u001b[0;34m\u001b[0m\u001b[0m\n\u001b[0m\u001b[1;32m    353\u001b[0m \u001b[0;34m\u001b[0m\u001b[0m\n\u001b[1;32m    354\u001b[0m     \u001b[0;32mdef\u001b[0m \u001b[0mcall_and_shelve\u001b[0m\u001b[0;34m(\u001b[0m\u001b[0mself\u001b[0m\u001b[0;34m,\u001b[0m \u001b[0;34m*\u001b[0m\u001b[0margs\u001b[0m\u001b[0;34m,\u001b[0m \u001b[0;34m**\u001b[0m\u001b[0mkwargs\u001b[0m\u001b[0;34m)\u001b[0m\u001b[0;34m:\u001b[0m\u001b[0;34m\u001b[0m\u001b[0;34m\u001b[0m\u001b[0m\n",
      "\u001b[0;32m/shared-libs/python3.7/py/lib/python3.7/site-packages/sklearn/pipeline.py\u001b[0m in \u001b[0;36m_fit_transform_one\u001b[0;34m(transformer, X, y, weight, message_clsname, message, **fit_params)\u001b[0m\n\u001b[1;32m    752\u001b[0m     \u001b[0;32mwith\u001b[0m \u001b[0m_print_elapsed_time\u001b[0m\u001b[0;34m(\u001b[0m\u001b[0mmessage_clsname\u001b[0m\u001b[0;34m,\u001b[0m \u001b[0mmessage\u001b[0m\u001b[0;34m)\u001b[0m\u001b[0;34m:\u001b[0m\u001b[0;34m\u001b[0m\u001b[0;34m\u001b[0m\u001b[0m\n\u001b[1;32m    753\u001b[0m         \u001b[0;32mif\u001b[0m \u001b[0mhasattr\u001b[0m\u001b[0;34m(\u001b[0m\u001b[0mtransformer\u001b[0m\u001b[0;34m,\u001b[0m \u001b[0;34m'fit_transform'\u001b[0m\u001b[0;34m)\u001b[0m\u001b[0;34m:\u001b[0m\u001b[0;34m\u001b[0m\u001b[0;34m\u001b[0m\u001b[0m\n\u001b[0;32m--> 754\u001b[0;31m             \u001b[0mres\u001b[0m \u001b[0;34m=\u001b[0m \u001b[0mtransformer\u001b[0m\u001b[0;34m.\u001b[0m\u001b[0mfit_transform\u001b[0m\u001b[0;34m(\u001b[0m\u001b[0mX\u001b[0m\u001b[0;34m,\u001b[0m \u001b[0my\u001b[0m\u001b[0;34m,\u001b[0m \u001b[0;34m**\u001b[0m\u001b[0mfit_params\u001b[0m\u001b[0;34m)\u001b[0m\u001b[0;34m\u001b[0m\u001b[0;34m\u001b[0m\u001b[0m\n\u001b[0m\u001b[1;32m    755\u001b[0m         \u001b[0;32melse\u001b[0m\u001b[0;34m:\u001b[0m\u001b[0;34m\u001b[0m\u001b[0;34m\u001b[0m\u001b[0m\n\u001b[1;32m    756\u001b[0m             \u001b[0mres\u001b[0m \u001b[0;34m=\u001b[0m \u001b[0mtransformer\u001b[0m\u001b[0;34m.\u001b[0m\u001b[0mfit\u001b[0m\u001b[0;34m(\u001b[0m\u001b[0mX\u001b[0m\u001b[0;34m,\u001b[0m \u001b[0my\u001b[0m\u001b[0;34m,\u001b[0m \u001b[0;34m**\u001b[0m\u001b[0mfit_params\u001b[0m\u001b[0;34m)\u001b[0m\u001b[0;34m.\u001b[0m\u001b[0mtransform\u001b[0m\u001b[0;34m(\u001b[0m\u001b[0mX\u001b[0m\u001b[0;34m)\u001b[0m\u001b[0;34m\u001b[0m\u001b[0;34m\u001b[0m\u001b[0m\n",
      "\u001b[0;32m/shared-libs/python3.7/py/lib/python3.7/site-packages/sklearn/compose/_column_transformer.py\u001b[0m in \u001b[0;36mfit_transform\u001b[0;34m(self, X, y)\u001b[0m\n\u001b[1;32m    504\u001b[0m         \u001b[0mself\u001b[0m\u001b[0;34m.\u001b[0m\u001b[0m_validate_transformers\u001b[0m\u001b[0;34m(\u001b[0m\u001b[0;34m)\u001b[0m\u001b[0;34m\u001b[0m\u001b[0;34m\u001b[0m\u001b[0m\n\u001b[1;32m    505\u001b[0m         \u001b[0mself\u001b[0m\u001b[0;34m.\u001b[0m\u001b[0m_validate_column_callables\u001b[0m\u001b[0;34m(\u001b[0m\u001b[0mX\u001b[0m\u001b[0;34m)\u001b[0m\u001b[0;34m\u001b[0m\u001b[0;34m\u001b[0m\u001b[0m\n\u001b[0;32m--> 506\u001b[0;31m         \u001b[0mself\u001b[0m\u001b[0;34m.\u001b[0m\u001b[0m_validate_remainder\u001b[0m\u001b[0;34m(\u001b[0m\u001b[0mX\u001b[0m\u001b[0;34m)\u001b[0m\u001b[0;34m\u001b[0m\u001b[0;34m\u001b[0m\u001b[0m\n\u001b[0m\u001b[1;32m    507\u001b[0m \u001b[0;34m\u001b[0m\u001b[0m\n\u001b[1;32m    508\u001b[0m         \u001b[0mresult\u001b[0m \u001b[0;34m=\u001b[0m \u001b[0mself\u001b[0m\u001b[0;34m.\u001b[0m\u001b[0m_fit_transform\u001b[0m\u001b[0;34m(\u001b[0m\u001b[0mX\u001b[0m\u001b[0;34m,\u001b[0m \u001b[0my\u001b[0m\u001b[0;34m,\u001b[0m \u001b[0m_fit_transform_one\u001b[0m\u001b[0;34m)\u001b[0m\u001b[0;34m\u001b[0m\u001b[0;34m\u001b[0m\u001b[0m\n",
      "\u001b[0;32m/shared-libs/python3.7/py/lib/python3.7/site-packages/sklearn/compose/_column_transformer.py\u001b[0m in \u001b[0;36m_validate_remainder\u001b[0;34m(self, X)\u001b[0m\n\u001b[1;32m    330\u001b[0m         \u001b[0mcols\u001b[0m \u001b[0;34m=\u001b[0m \u001b[0;34m[\u001b[0m\u001b[0;34m]\u001b[0m\u001b[0;34m\u001b[0m\u001b[0;34m\u001b[0m\u001b[0m\n\u001b[1;32m    331\u001b[0m         \u001b[0;32mfor\u001b[0m \u001b[0mcolumns\u001b[0m \u001b[0;32min\u001b[0m \u001b[0mself\u001b[0m\u001b[0;34m.\u001b[0m\u001b[0m_columns\u001b[0m\u001b[0;34m:\u001b[0m\u001b[0;34m\u001b[0m\u001b[0;34m\u001b[0m\u001b[0m\n\u001b[0;32m--> 332\u001b[0;31m             \u001b[0mcols\u001b[0m\u001b[0;34m.\u001b[0m\u001b[0mextend\u001b[0m\u001b[0;34m(\u001b[0m\u001b[0m_get_column_indices\u001b[0m\u001b[0;34m(\u001b[0m\u001b[0mX\u001b[0m\u001b[0;34m,\u001b[0m \u001b[0mcolumns\u001b[0m\u001b[0;34m)\u001b[0m\u001b[0;34m)\u001b[0m\u001b[0;34m\u001b[0m\u001b[0;34m\u001b[0m\u001b[0m\n\u001b[0m\u001b[1;32m    333\u001b[0m \u001b[0;34m\u001b[0m\u001b[0m\n\u001b[1;32m    334\u001b[0m         \u001b[0mremaining_idx\u001b[0m \u001b[0;34m=\u001b[0m \u001b[0msorted\u001b[0m\u001b[0;34m(\u001b[0m\u001b[0mset\u001b[0m\u001b[0;34m(\u001b[0m\u001b[0mrange\u001b[0m\u001b[0;34m(\u001b[0m\u001b[0mself\u001b[0m\u001b[0;34m.\u001b[0m\u001b[0m_n_features\u001b[0m\u001b[0;34m)\u001b[0m\u001b[0;34m)\u001b[0m \u001b[0;34m-\u001b[0m \u001b[0mset\u001b[0m\u001b[0;34m(\u001b[0m\u001b[0mcols\u001b[0m\u001b[0;34m)\u001b[0m\u001b[0;34m)\u001b[0m\u001b[0;34m\u001b[0m\u001b[0;34m\u001b[0m\u001b[0m\n",
      "\u001b[0;32m/shared-libs/python3.7/py/lib/python3.7/site-packages/sklearn/utils/__init__.py\u001b[0m in \u001b[0;36m_get_column_indices\u001b[0;34m(X, key)\u001b[0m\n\u001b[1;32m    374\u001b[0m             \u001b[0mall_columns\u001b[0m \u001b[0;34m=\u001b[0m \u001b[0mX\u001b[0m\u001b[0;34m.\u001b[0m\u001b[0mcolumns\u001b[0m\u001b[0;34m\u001b[0m\u001b[0;34m\u001b[0m\u001b[0m\n\u001b[1;32m    375\u001b[0m         \u001b[0;32mexcept\u001b[0m \u001b[0mAttributeError\u001b[0m\u001b[0;34m:\u001b[0m\u001b[0;34m\u001b[0m\u001b[0;34m\u001b[0m\u001b[0m\n\u001b[0;32m--> 376\u001b[0;31m             raise ValueError(\"Specifying the columns using strings is only \"\n\u001b[0m\u001b[1;32m    377\u001b[0m                              \"supported for pandas DataFrames\")\n\u001b[1;32m    378\u001b[0m         \u001b[0;32mif\u001b[0m \u001b[0misinstance\u001b[0m\u001b[0;34m(\u001b[0m\u001b[0mkey\u001b[0m\u001b[0;34m,\u001b[0m \u001b[0mstr\u001b[0m\u001b[0;34m)\u001b[0m\u001b[0;34m:\u001b[0m\u001b[0;34m\u001b[0m\u001b[0;34m\u001b[0m\u001b[0m\n",
      "\u001b[0;31mValueError\u001b[0m: Specifying the columns using strings is only supported for pandas DataFrames"
     ]
    }
   ]
  },
  {
   "cell_type": "code",
   "metadata": {
    "deletable": false,
    "editable": false,
    "nbgrader": {
     "cell_type": "code",
     "checksum": "c8e143a5d4336a2f22d05d9c54d50b92",
     "grade": true,
     "grade_id": "cell-56489e8dd6257a2a",
     "locked": true,
     "points": 3,
     "schema_version": 3,
     "solution": false,
     "task": false
    },
    "cell_id": "00029-71b40edb-5088-4688-a8bf-637a9c0cca37",
    "deepnote_to_be_reexecuted": true,
    "source_hash": "fe29d6ed",
    "deepnote_cell_type": "code"
   },
   "source": "assert results_ord['MSE'].max() < 2\nassert results_ord['MSE'].min() < 0.8\nassert results_ord['RMSE'].max() < 1.5\nassert results_ord['RMSE'].min() < 0.9",
   "execution_count": null,
   "outputs": []
  },
  {
   "cell_type": "markdown",
   "source": "### Optional Exercise (optional because it takes a lot of time of computation)\nTrain with a more realable validation data the best models (maybe the best 5 models). You can:\n- Use all training data (without subsample)\n- Use Crosvalidation (`KFold`)(using 3, 5 or 7 folds) instead of `train_test_split`",
   "metadata": {
    "cell_id": "00030-9632c697-155a-40bd-bc25-4f1913844035",
    "deepnote_cell_type": "markdown"
   }
  },
  {
   "cell_type": "code",
   "metadata": {
    "cell_id": "00031-17c2b10b-83dc-4f00-ade6-b2575fa174d7",
    "deepnote_to_be_reexecuted": true,
    "source_hash": "9fe265ca",
    "deepnote_cell_type": "code"
   },
   "source": "df   = pd.read_csv(path+\"train.csv\", index_col=\"id\")\n\nprint(\"Using all data with\", len(df), \"rows\")\nx = df[num_vars+cat_vars]\ny = df[\"target\"]",
   "execution_count": null,
   "outputs": []
  },
  {
   "cell_type": "code",
   "metadata": {
    "deletable": false,
    "nbgrader": {
     "cell_type": "code",
     "checksum": "7e555af7bbf548a2dc42d6d50df469e2",
     "grade": false,
     "grade_id": "cell-2f06f87cae93f9e9",
     "locked": false,
     "schema_version": 3,
     "solution": true,
     "task": false
    },
    "cell_id": "00032-7c422256-c56d-4860-8ff7-fe976b7e7492",
    "deepnote_to_be_reexecuted": true,
    "source_hash": "51fb2d37",
    "deepnote_cell_type": "code"
   },
   "source": "# IMPLEMENT SOMETHING SIMILAR TO THE PROCESS BEFORE\n# BUT USE KFOLD\n\n# YOUR CODE HERE\nraise NotImplementedError()",
   "execution_count": null,
   "outputs": []
  },
  {
   "cell_type": "code",
   "metadata": {
    "cell_id": "00033-96ad1cfa-ce4a-4ddb-82ee-9d9ff49a9075",
    "deepnote_to_be_reexecuted": true,
    "source_hash": "b623e53d",
    "deepnote_cell_type": "code"
   },
   "source": "",
   "execution_count": null,
   "outputs": []
  },
  {
   "cell_type": "markdown",
   "source": "<a style='text-decoration:none;line-height:16px;display:flex;color:#5B5B62;padding:10px;justify-content:end;' href='https://deepnote.com?utm_source=created-in-deepnote-cell&projectId=32ebab46-e526-42a3-8966-92f4ff6ef571' target=\"_blank\">\n<img alt='Created in deepnote.com' style='display:inline;max-height:16px;margin:0px;margin-right:7.5px;' src='data:image/svg+xml;base64,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' > </img>\nCreated in <span style='font-weight:600;margin-left:4px;'>Deepnote</span></a>",
   "metadata": {
    "tags": [],
    "created_in_deepnote_cell": true,
    "deepnote_cell_type": "markdown"
   }
  }
 ],
 "nbformat": 4,
 "nbformat_minor": 4,
 "metadata": {
  "kernelspec": {
   "display_name": "Python 3",
   "language": "python",
   "name": "python3"
  },
  "language_info": {
   "codemirror_mode": {
    "name": "ipython",
    "version": 3
   },
   "file_extension": ".py",
   "mimetype": "text/x-python",
   "name": "python",
   "nbconvert_exporter": "python",
   "pygments_lexer": "ipython3",
   "version": "3.7.10"
  },
  "deepnote_notebook_id": "f99e1535-ea27-4f23-b364-a66f06956d6b",
  "deepnote": {},
  "deepnote_execution_queue": []
 }
}