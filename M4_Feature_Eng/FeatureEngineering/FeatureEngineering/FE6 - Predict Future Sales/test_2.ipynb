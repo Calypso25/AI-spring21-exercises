{
 "cells": [
  {
   "cell_type": "code",
   "metadata": {
    "tags": [],
    "deepnote_to_be_reexecuted": false,
    "source_hash": "fd8e157a",
    "execution_start": 1620654747556,
    "execution_millis": 489,
    "cell_id": "00000-922dcb02-510a-4c30-a6b9-6fff2faab37e",
    "deepnote_cell_type": "code"
   },
   "source": "import pandas as pd\nimport numpy as np\nimport matplotlib.pyplot as plt ",
   "execution_count": null,
   "outputs": []
  },
  {
   "cell_type": "code",
   "metadata": {
    "tags": [],
    "cell_id": "00001-d7dfaec4-3e67-40d1-ad6d-89f01c5db7a5",
    "deepnote_to_be_reexecuted": false,
    "source_hash": "3987870c",
    "execution_start": 1620654750395,
    "execution_millis": 2193,
    "deepnote_cell_type": "code"
   },
   "source": "# scintific computing libraries\nimport pandas as pd                                      \nimport numpy as np                    \nfrom scipy import optimize, stats        \n\n# visualisation libraries\nimport matplotlib.pyplot as plt                      \nimport seaborn as sns                \n\n# algorithmic library\nfrom sklearn.linear_model import LinearRegression, Ridge\nfrom sklearn.ensemble import RandomForestRegressor\nfrom sklearn.ensemble import GradientBoostingRegressor\nfrom lightgbm import LGBMRegressor\n\nfrom sklearn.preprocessing import StandardScaler, MinMaxScaler\nfrom sklearn.preprocessing import LabelEncoder, OneHotEncoder\nfrom sklearn.model_selection import train_test_split, StratifiedKFold, KFold",
   "execution_count": null,
   "outputs": []
  },
  {
   "cell_type": "code",
   "metadata": {
    "tags": [],
    "cell_id": "00002-08027010-ae87-4184-9e45-756d88824aa7",
    "deepnote_to_be_reexecuted": false,
    "source_hash": "5676044a",
    "execution_start": 1620654752591,
    "execution_millis": 6459,
    "deepnote_cell_type": "code"
   },
   "source": "from sklearn.model_selection import RandomizedSearchCV, GridSearchCV\nfrom sklearn.metrics import mean_squared_error\nfrom sklearn.utils import resample\nfrom sklearn.pipeline import Pipeline\n\nfrom tensorflow.keras.models import Sequential\nfrom tensorflow.keras.layers import LSTM, Dense, Flatten, Dropout\nfrom tensorflow.keras.layers import LeakyReLU, PReLU, ELU\nfrom keras.utils import np_utils",
   "execution_count": null,
   "outputs": []
  },
  {
   "cell_type": "code",
   "metadata": {
    "tags": [],
    "deepnote_to_be_reexecuted": false,
    "source_hash": "aee3d4aa",
    "execution_start": 1620654759052,
    "execution_millis": 1843,
    "cell_id": "00001-2c84e1b1-4b6b-4426-ac98-8c560a8a2b80",
    "deepnote_cell_type": "code"
   },
   "source": "df_train = pd.read_csv('sales_train.csv')\ndf_test = pd.read_csv('test.csv')",
   "execution_count": null,
   "outputs": []
  },
  {
   "cell_type": "code",
   "metadata": {
    "tags": [],
    "deepnote_to_be_reexecuted": false,
    "source_hash": "a2a15a3e",
    "execution_start": 1620654767132,
    "execution_millis": 95,
    "cell_id": "00002-b37324b4-9910-40d9-aed1-382928a2c64c",
    "deepnote_cell_type": "code"
   },
   "source": "df_items = pd.read_csv('items.csv', index_col='item_id')\ndf_categories = pd.read_csv('categories.csv', index_col='category_id')\ndf_shops = pd.read_csv('shops.csv', index_col='shop_id')\ndf_test = pd.read_csv('test.csv')\n",
   "execution_count": null,
   "outputs": []
  },
  {
   "cell_type": "code",
   "metadata": {
    "tags": [],
    "deepnote_to_be_reexecuted": false,
    "source_hash": "3ccbf131",
    "execution_start": 1620654778046,
    "execution_millis": 42,
    "cell_id": "00003-cc602d71-6e70-4309-8b52-c1011af380ed",
    "deepnote_cell_type": "code"
   },
   "source": "df_shops",
   "execution_count": null,
   "outputs": [
    {
     "output_type": "execute_result",
     "execution_count": 8,
     "data": {
      "application/vnd.deepnote.dataframe.v2+json": {
       "row_count": 60,
       "column_count": 1,
       "columns": [
        {
         "name": "shop_name",
         "dtype": "object",
         "stats": {
          "unique_count": 60,
          "nan_count": 0,
          "categories": [
           {
            "name": "! Yakutsk Ordzhonikidze, 56 francs",
            "count": 1
           },
           {
            "name": "! Yakutsk TC \"Central\" fran",
            "count": 1
           },
           {
            "name": "58 others",
            "count": 58
           }
          ]
         }
        },
        {
         "name": "_deepnote_index_column",
         "dtype": "int64"
        }
       ],
       "rows_top": [
        {
         "shop_name": "! Yakutsk Ordzhonikidze, 56 francs",
         "_deepnote_index_column": 0
        },
        {
         "shop_name": "! Yakutsk TC \"Central\" fran",
         "_deepnote_index_column": 1
        },
        {
         "shop_name": " Adygea TC \"Mega\"",
         "_deepnote_index_column": 2
        },
        {
         "shop_name": " Balashikha TC \"Oktyabr-Kinomir\"",
         "_deepnote_index_column": 3
        },
        {
         "shop_name": " Volga TC \"Volga Mall\"",
         "_deepnote_index_column": 4
        },
        {
         "shop_name": " Vologda SEC \"Marmelad\"",
         "_deepnote_index_column": 5
        },
        {
         "shop_name": " Voronezh (Plekhanovskaya, 13)",
         "_deepnote_index_column": 6
        },
        {
         "shop_name": " Voronezh SEC \"Maksimir\"",
         "_deepnote_index_column": 7
        },
        {
         "shop_name": " Voronezh SEC City-Park \"Grad\"",
         "_deepnote_index_column": 8
        },
        {
         "shop_name": " Outbound Trade",
         "_deepnote_index_column": 9
        },
        {
         "shop_name": " Zhukovsky st. Chkalov 39m?",
         "_deepnote_index_column": 10
        },
        {
         "shop_name": " Zhukovsky st. Chkalov 39m²",
         "_deepnote_index_column": 11
        },
        {
         "shop_name": " Internet-shop of emergency situations",
         "_deepnote_index_column": 12
        },
        {
         "shop_name": " Kazan TC \"Behetle\"",
         "_deepnote_index_column": 13
        },
        {
         "shop_name": " Kazan TC \"ParkHouse\" II",
         "_deepnote_index_column": 14
        },
        {
         "shop_name": " Kaluga TC \"XXI century\"",
         "_deepnote_index_column": 15
        },
        {
         "shop_name": " Kolomna TC \"Rio\"",
         "_deepnote_index_column": 16
        },
        {
         "shop_name": " Krasnoyarsk TC \"Vzletka Plaza\"",
         "_deepnote_index_column": 17
        },
        {
         "shop_name": " Krasnoyarsk TC \"June\"",
         "_deepnote_index_column": 18
        },
        {
         "shop_name": " Kursk TC \" Pushkinskiy \"",
         "_deepnote_index_column": 19
        },
        {
         "shop_name": " Moscow\" Sale \"",
         "_deepnote_index_column": 20
        },
        {
         "shop_name": " Moscow MTRC\" Afi Mall \"",
         "_deepnote_index_column": 21
        },
        {
         "shop_name": " Moscow Shop C21",
         "_deepnote_index_column": 22
        },
        {
         "shop_name": " Moscow TK\" Budenovskiy \"(pav.A2)",
         "_deepnote_index_column": 23
        },
        {
         "shop_name": " Moscow TK\" Budenovskiy \"(pav.K7)",
         "_deepnote_index_column": 24
        },
        {
         "shop_name": " Moscow TEC\" Atrium \"",
         "_deepnote_index_column": 25
        },
        {
         "shop_name": " Moscow TTS\" Areal \"(Belyaevo)",
         "_deepnote_index_column": 26
        },
        {
         "shop_name": " Moscow TC\" MEGA Belaya Dacha II \"",
         "_deepnote_index_column": 27
        },
        {
         "shop_name": " Moscow TC\" MEGA Teply Stan \"II",
         "_deepnote_index_column": 28
        },
        {
         "shop_name": " Moscow TC\" New Age \"(Novokosino)",
         "_deepnote_index_column": 29
        },
        {
         "shop_name": " Moscow TC\" Perlovsky \"",
         "_deepnote_index_column": 30
        },
        {
         "shop_name": " Moscow TC\" Semenovsky \"",
         "_deepnote_index_column": 31
        },
        {
         "shop_name": " Moscow TC\" Serebryany House \"",
         "_deepnote_index_column": 32
        },
        {
         "shop_name": " Mytishchi SEC\" XL-3 \"",
         "_deepnote_index_column": 33
        },
        {
         "shop_name": " N.Novgorod SEC\" RIO \"",
         "_deepnote_index_column": 34
        },
        {
         "shop_name": " N.Novgorod SEC\" Fantasy \"",
         "_deepnote_index_column": 35
        },
        {
         "shop_name": " Novosibirsk SEC\" Gallery Novosibirsk \"",
         "_deepnote_index_column": 36
        },
        {
         "shop_name": " Novosibirsk SEC\" Mega \"",
         "_deepnote_index_column": 37
        },
        {
         "shop_name": " Omsk TC\" Mega \"",
         "_deepnote_index_column": 38
        },
        {
         "shop_name": " RostovNaDonu SEC\" Megacenter Horizon",
         "_deepnote_index_column": 39
        },
        {
         "shop_name": " RostovNaDon Megatsentr Gorizont Ostrovnoy shopping mall",
         "_deepnote_index_column": 40
        },
        {
         "shop_name": " RostovNaDon Mega shopping center",
         "_deepnote_index_column": 41
        },
        {
         "shop_name": " St. Petersburg Nevsky Center shopping center",
         "_deepnote_index_column": 42
        },
        {
         "shop_name": " St. Petersburg Sennaya shopping center",
         "_deepnote_index_column": 43
        },
        {
         "shop_name": " Samara Melody shopping center",
         "_deepnote_index_column": 44
        },
        {
         "shop_name": " Samara ParkHouse shopping center",
         "_deepnote_index_column": 45
        },
        {
         "shop_name": " Sergiev Posad 7Ya shopping center",
         "_deepnote_index_column": 46
        },
        {
         "shop_name": " Surgut SEC \"City Mall\"",
         "_deepnote_index_column": 47
        },
        {
         "shop_name": " Tomsk SEC \"Emerald City\"",
         "_deepnote_index_column": 48
        },
        {
         "shop_name": " Tyumen SEC \"Crystal\"",
         "_deepnote_index_column": 49
        },
        {
         "shop_name": " Tyumen SEC \"Goodwin\"",
         "_deepnote_index_column": 50
        },
        {
         "shop_name": " Tyumen TC \"Green Coast \"",
         "_deepnote_index_column": 51
        },
        {
         "shop_name": " Ufa TC\" Central \"",
         "_deepnote_index_column": 52
        },
        {
         "shop_name": " Ufa TC\" Family \"2",
         "_deepnote_index_column": 53
        },
        {
         "shop_name": " Khimki TC\" Mega \"",
         "_deepnote_index_column": 54
        },
        {
         "shop_name": " Digital warehouse 1C-Online",
         "_deepnote_index_column": 55
        },
        {
         "shop_name": " Chekhov TC\" Karnaval \"",
         "_deepnote_index_column": 56
        },
        {
         "shop_name": " Yakutsk Ordzhonikidze, 56",
         "_deepnote_index_column": 57
        },
        {
         "shop_name": " Yakutsk TC\" Central \"",
         "_deepnote_index_column": 58
        },
        {
         "shop_name": " Yaroslavl TC\" Altair \"",
         "_deepnote_index_column": 59
        }
       ],
       "rows_bottom": null
      },
      "text/plain": "                                                 shop_name\nshop_id                                                   \n0                       ! Yakutsk Ordzhonikidze, 56 francs\n1                              ! Yakutsk TC \"Central\" fran\n2                                         Adygea TC \"Mega\"\n3                          Balashikha TC \"Oktyabr-Kinomir\"\n4                                    Volga TC \"Volga Mall\"\n5                                   Vologda SEC \"Marmelad\"\n6                            Voronezh (Plekhanovskaya, 13)\n7                                  Voronezh SEC \"Maksimir\"\n8                            Voronezh SEC City-Park \"Grad\"\n9                                           Outbound Trade\n10                              Zhukovsky st. Chkalov 39m?\n11                              Zhukovsky st. Chkalov 39m²\n12                   Internet-shop of emergency situations\n13                                      Kazan TC \"Behetle\"\n14                                 Kazan TC \"ParkHouse\" II\n15                                 Kaluga TC \"XXI century\"\n16                                        Kolomna TC \"Rio\"\n17                          Krasnoyarsk TC \"Vzletka Plaza\"\n18                                   Krasnoyarsk TC \"June\"\n19                                Kursk TC \" Pushkinskiy \"\n20                                          Moscow\" Sale \"\n21                                 Moscow MTRC\" Afi Mall \"\n22                                         Moscow Shop C21\n23                        Moscow TK\" Budenovskiy \"(pav.A2)\n24                        Moscow TK\" Budenovskiy \"(pav.K7)\n25                                    Moscow TEC\" Atrium \"\n26                           Moscow TTS\" Areal \"(Belyaevo)\n27                       Moscow TC\" MEGA Belaya Dacha II \"\n28                          Moscow TC\" MEGA Teply Stan \"II\n29                        Moscow TC\" New Age \"(Novokosino)\n30                                  Moscow TC\" Perlovsky \"\n31                                 Moscow TC\" Semenovsky \"\n32                           Moscow TC\" Serebryany House \"\n33                                   Mytishchi SEC\" XL-3 \"\n34                                   N.Novgorod SEC\" RIO \"\n35                               N.Novgorod SEC\" Fantasy \"\n36                  Novosibirsk SEC\" Gallery Novosibirsk \"\n37                                 Novosibirsk SEC\" Mega \"\n38                                         Omsk TC\" Mega \"\n39                    RostovNaDonu SEC\" Megacenter Horizon\n40        RostovNaDon Megatsentr Gorizont Ostrovnoy sho...\n41                        RostovNaDon Mega shopping center\n42            St. Petersburg Nevsky Center shopping center\n43                  St. Petersburg Sennaya shopping center\n44                           Samara Melody shopping center\n45                        Samara ParkHouse shopping center\n46                       Sergiev Posad 7Ya shopping center\n47                                  Surgut SEC \"City Mall\"\n48                                Tomsk SEC \"Emerald City\"\n49                                    Tyumen SEC \"Crystal\"\n50                                    Tyumen SEC \"Goodwin\"\n51                                Tyumen TC \"Green Coast \"\n52                                       Ufa TC\" Central \"\n53                                       Ufa TC\" Family \"2\n54                                       Khimki TC\" Mega \"\n55                             Digital warehouse 1C-Online\n56                                  Chekhov TC\" Karnaval \"\n57                               Yakutsk Ordzhonikidze, 56\n58                                   Yakutsk TC\" Central \"\n59                                  Yaroslavl TC\" Altair \"",
      "text/html": "<div>\n<style scoped>\n    .dataframe tbody tr th:only-of-type {\n        vertical-align: middle;\n    }\n\n    .dataframe tbody tr th {\n        vertical-align: top;\n    }\n\n    .dataframe thead th {\n        text-align: right;\n    }\n</style>\n<table border=\"1\" class=\"dataframe\">\n  <thead>\n    <tr style=\"text-align: right;\">\n      <th></th>\n      <th>shop_name</th>\n    </tr>\n    <tr>\n      <th>shop_id</th>\n      <th></th>\n    </tr>\n  </thead>\n  <tbody>\n    <tr>\n      <th>0</th>\n      <td>! Yakutsk Ordzhonikidze, 56 francs</td>\n    </tr>\n    <tr>\n      <th>1</th>\n      <td>! Yakutsk TC \"Central\" fran</td>\n    </tr>\n    <tr>\n      <th>2</th>\n      <td>Adygea TC \"Mega\"</td>\n    </tr>\n    <tr>\n      <th>3</th>\n      <td>Balashikha TC \"Oktyabr-Kinomir\"</td>\n    </tr>\n    <tr>\n      <th>4</th>\n      <td>Volga TC \"Volga Mall\"</td>\n    </tr>\n    <tr>\n      <th>5</th>\n      <td>Vologda SEC \"Marmelad\"</td>\n    </tr>\n    <tr>\n      <th>6</th>\n      <td>Voronezh (Plekhanovskaya, 13)</td>\n    </tr>\n    <tr>\n      <th>7</th>\n      <td>Voronezh SEC \"Maksimir\"</td>\n    </tr>\n    <tr>\n      <th>8</th>\n      <td>Voronezh SEC City-Park \"Grad\"</td>\n    </tr>\n    <tr>\n      <th>9</th>\n      <td>Outbound Trade</td>\n    </tr>\n    <tr>\n      <th>10</th>\n      <td>Zhukovsky st. Chkalov 39m?</td>\n    </tr>\n    <tr>\n      <th>11</th>\n      <td>Zhukovsky st. Chkalov 39m²</td>\n    </tr>\n    <tr>\n      <th>12</th>\n      <td>Internet-shop of emergency situations</td>\n    </tr>\n    <tr>\n      <th>13</th>\n      <td>Kazan TC \"Behetle\"</td>\n    </tr>\n    <tr>\n      <th>14</th>\n      <td>Kazan TC \"ParkHouse\" II</td>\n    </tr>\n    <tr>\n      <th>15</th>\n      <td>Kaluga TC \"XXI century\"</td>\n    </tr>\n    <tr>\n      <th>16</th>\n      <td>Kolomna TC \"Rio\"</td>\n    </tr>\n    <tr>\n      <th>17</th>\n      <td>Krasnoyarsk TC \"Vzletka Plaza\"</td>\n    </tr>\n    <tr>\n      <th>18</th>\n      <td>Krasnoyarsk TC \"June\"</td>\n    </tr>\n    <tr>\n      <th>19</th>\n      <td>Kursk TC \" Pushkinskiy \"</td>\n    </tr>\n    <tr>\n      <th>20</th>\n      <td>Moscow\" Sale \"</td>\n    </tr>\n    <tr>\n      <th>21</th>\n      <td>Moscow MTRC\" Afi Mall \"</td>\n    </tr>\n    <tr>\n      <th>22</th>\n      <td>Moscow Shop C21</td>\n    </tr>\n    <tr>\n      <th>23</th>\n      <td>Moscow TK\" Budenovskiy \"(pav.A2)</td>\n    </tr>\n    <tr>\n      <th>24</th>\n      <td>Moscow TK\" Budenovskiy \"(pav.K7)</td>\n    </tr>\n    <tr>\n      <th>25</th>\n      <td>Moscow TEC\" Atrium \"</td>\n    </tr>\n    <tr>\n      <th>26</th>\n      <td>Moscow TTS\" Areal \"(Belyaevo)</td>\n    </tr>\n    <tr>\n      <th>27</th>\n      <td>Moscow TC\" MEGA Belaya Dacha II \"</td>\n    </tr>\n    <tr>\n      <th>28</th>\n      <td>Moscow TC\" MEGA Teply Stan \"II</td>\n    </tr>\n    <tr>\n      <th>29</th>\n      <td>Moscow TC\" New Age \"(Novokosino)</td>\n    </tr>\n    <tr>\n      <th>30</th>\n      <td>Moscow TC\" Perlovsky \"</td>\n    </tr>\n    <tr>\n      <th>31</th>\n      <td>Moscow TC\" Semenovsky \"</td>\n    </tr>\n    <tr>\n      <th>32</th>\n      <td>Moscow TC\" Serebryany House \"</td>\n    </tr>\n    <tr>\n      <th>33</th>\n      <td>Mytishchi SEC\" XL-3 \"</td>\n    </tr>\n    <tr>\n      <th>34</th>\n      <td>N.Novgorod SEC\" RIO \"</td>\n    </tr>\n    <tr>\n      <th>35</th>\n      <td>N.Novgorod SEC\" Fantasy \"</td>\n    </tr>\n    <tr>\n      <th>36</th>\n      <td>Novosibirsk SEC\" Gallery Novosibirsk \"</td>\n    </tr>\n    <tr>\n      <th>37</th>\n      <td>Novosibirsk SEC\" Mega \"</td>\n    </tr>\n    <tr>\n      <th>38</th>\n      <td>Omsk TC\" Mega \"</td>\n    </tr>\n    <tr>\n      <th>39</th>\n      <td>RostovNaDonu SEC\" Megacenter Horizon</td>\n    </tr>\n    <tr>\n      <th>40</th>\n      <td>RostovNaDon Megatsentr Gorizont Ostrovnoy sho...</td>\n    </tr>\n    <tr>\n      <th>41</th>\n      <td>RostovNaDon Mega shopping center</td>\n    </tr>\n    <tr>\n      <th>42</th>\n      <td>St. Petersburg Nevsky Center shopping center</td>\n    </tr>\n    <tr>\n      <th>43</th>\n      <td>St. Petersburg Sennaya shopping center</td>\n    </tr>\n    <tr>\n      <th>44</th>\n      <td>Samara Melody shopping center</td>\n    </tr>\n    <tr>\n      <th>45</th>\n      <td>Samara ParkHouse shopping center</td>\n    </tr>\n    <tr>\n      <th>46</th>\n      <td>Sergiev Posad 7Ya shopping center</td>\n    </tr>\n    <tr>\n      <th>47</th>\n      <td>Surgut SEC \"City Mall\"</td>\n    </tr>\n    <tr>\n      <th>48</th>\n      <td>Tomsk SEC \"Emerald City\"</td>\n    </tr>\n    <tr>\n      <th>49</th>\n      <td>Tyumen SEC \"Crystal\"</td>\n    </tr>\n    <tr>\n      <th>50</th>\n      <td>Tyumen SEC \"Goodwin\"</td>\n    </tr>\n    <tr>\n      <th>51</th>\n      <td>Tyumen TC \"Green Coast \"</td>\n    </tr>\n    <tr>\n      <th>52</th>\n      <td>Ufa TC\" Central \"</td>\n    </tr>\n    <tr>\n      <th>53</th>\n      <td>Ufa TC\" Family \"2</td>\n    </tr>\n    <tr>\n      <th>54</th>\n      <td>Khimki TC\" Mega \"</td>\n    </tr>\n    <tr>\n      <th>55</th>\n      <td>Digital warehouse 1C-Online</td>\n    </tr>\n    <tr>\n      <th>56</th>\n      <td>Chekhov TC\" Karnaval \"</td>\n    </tr>\n    <tr>\n      <th>57</th>\n      <td>Yakutsk Ordzhonikidze, 56</td>\n    </tr>\n    <tr>\n      <th>58</th>\n      <td>Yakutsk TC\" Central \"</td>\n    </tr>\n    <tr>\n      <th>59</th>\n      <td>Yaroslavl TC\" Altair \"</td>\n    </tr>\n  </tbody>\n</table>\n</div>"
     },
     "metadata": {}
    }
   ]
  },
  {
   "cell_type": "code",
   "metadata": {
    "tags": [],
    "deepnote_to_be_reexecuted": false,
    "source_hash": "5b9c39d3",
    "execution_start": 1620654782938,
    "execution_millis": 29,
    "cell_id": "00004-a2f15fb1-619b-4c4d-b69d-dc9265a1ed07",
    "deepnote_cell_type": "code"
   },
   "source": "df_items.describe()\n# df_categories.describe()\n# df_shops.describe()",
   "execution_count": null,
   "outputs": [
    {
     "output_type": "execute_result",
     "execution_count": 9,
     "data": {
      "application/vnd.deepnote.dataframe.v2+json": {
       "row_count": 8,
       "column_count": 1,
       "columns": [
        {
         "name": "category_id",
         "dtype": "float64",
         "stats": {
          "unique_count": 8,
          "nan_count": 0,
          "min": "0.0",
          "max": "22170.0",
          "histogram": [
           {
            "bin_start": 0,
            "bin_end": 2217,
            "count": 7
           },
           {
            "bin_start": 2217,
            "bin_end": 4434,
            "count": 0
           },
           {
            "bin_start": 4434,
            "bin_end": 6651,
            "count": 0
           },
           {
            "bin_start": 6651,
            "bin_end": 8868,
            "count": 0
           },
           {
            "bin_start": 8868,
            "bin_end": 11085,
            "count": 0
           },
           {
            "bin_start": 11085,
            "bin_end": 13302,
            "count": 0
           },
           {
            "bin_start": 13302,
            "bin_end": 15519,
            "count": 0
           },
           {
            "bin_start": 15519,
            "bin_end": 17736,
            "count": 0
           },
           {
            "bin_start": 17736,
            "bin_end": 19953,
            "count": 0
           },
           {
            "bin_start": 19953,
            "bin_end": 22170,
            "count": 1
           }
          ]
         }
        },
        {
         "name": "_deepnote_index_column",
         "dtype": "object"
        }
       ],
       "rows_top": [
        {
         "category_id": 22170,
         "_deepnote_index_column": "count"
        },
        {
         "category_id": 46.290753270184936,
         "_deepnote_index_column": "mean"
        },
        {
         "category_id": 15.941486282896323,
         "_deepnote_index_column": "std"
        },
        {
         "category_id": 0,
         "_deepnote_index_column": "min"
        },
        {
         "category_id": 37,
         "_deepnote_index_column": "25%"
        },
        {
         "category_id": 40,
         "_deepnote_index_column": "50%"
        },
        {
         "category_id": 58,
         "_deepnote_index_column": "75%"
        },
        {
         "category_id": 83,
         "_deepnote_index_column": "max"
        }
       ],
       "rows_bottom": null
      },
      "text/plain": "        category_id\ncount  22170.000000\nmean      46.290753\nstd       15.941486\nmin        0.000000\n25%       37.000000\n50%       40.000000\n75%       58.000000\nmax       83.000000",
      "text/html": "<div>\n<style scoped>\n    .dataframe tbody tr th:only-of-type {\n        vertical-align: middle;\n    }\n\n    .dataframe tbody tr th {\n        vertical-align: top;\n    }\n\n    .dataframe thead th {\n        text-align: right;\n    }\n</style>\n<table border=\"1\" class=\"dataframe\">\n  <thead>\n    <tr style=\"text-align: right;\">\n      <th></th>\n      <th>category_id</th>\n    </tr>\n  </thead>\n  <tbody>\n    <tr>\n      <th>count</th>\n      <td>22170.000000</td>\n    </tr>\n    <tr>\n      <th>mean</th>\n      <td>46.290753</td>\n    </tr>\n    <tr>\n      <th>std</th>\n      <td>15.941486</td>\n    </tr>\n    <tr>\n      <th>min</th>\n      <td>0.000000</td>\n    </tr>\n    <tr>\n      <th>25%</th>\n      <td>37.000000</td>\n    </tr>\n    <tr>\n      <th>50%</th>\n      <td>40.000000</td>\n    </tr>\n    <tr>\n      <th>75%</th>\n      <td>58.000000</td>\n    </tr>\n    <tr>\n      <th>max</th>\n      <td>83.000000</td>\n    </tr>\n  </tbody>\n</table>\n</div>"
     },
     "metadata": {}
    }
   ]
  },
  {
   "cell_type": "code",
   "metadata": {
    "tags": [],
    "deepnote_to_be_reexecuted": false,
    "source_hash": "fd7eec98",
    "execution_start": 1620644518977,
    "execution_millis": 39,
    "cell_id": "00005-40558881-b13f-4772-9a2d-b67b80e1e296",
    "deepnote_cell_type": "code"
   },
   "source": "df_categories.describe()\n# df_shops.describe()",
   "execution_count": null,
   "outputs": [
    {
     "output_type": "execute_result",
     "execution_count": 10,
     "data": {
      "application/vnd.deepnote.dataframe.v2+json": {
       "row_count": 4,
       "column_count": 1,
       "columns": [
        {
         "name": "category_name",
         "dtype": "object",
         "stats": {
          "unique_count": 3,
          "nan_count": 0,
          "categories": [
           {
            "name": "84",
            "count": 2
           },
           {
            "name": " Game consoles - PS3",
            "count": 1
           },
           {
            "name": "1",
            "count": 1
           }
          ]
         }
        },
        {
         "name": "_deepnote_index_column",
         "dtype": "object"
        }
       ],
       "rows_top": [
        {
         "category_name": "84",
         "_deepnote_index_column": "count"
        },
        {
         "category_name": "84",
         "_deepnote_index_column": "unique"
        },
        {
         "category_name": " Game consoles - PS3",
         "_deepnote_index_column": "top"
        },
        {
         "category_name": "1",
         "_deepnote_index_column": "freq"
        }
       ],
       "rows_bottom": null
      },
      "text/plain": "               category_name\ncount                     84\nunique                    84\ntop      Game consoles - PS3\nfreq                       1",
      "text/html": "<div>\n<style scoped>\n    .dataframe tbody tr th:only-of-type {\n        vertical-align: middle;\n    }\n\n    .dataframe tbody tr th {\n        vertical-align: top;\n    }\n\n    .dataframe thead th {\n        text-align: right;\n    }\n</style>\n<table border=\"1\" class=\"dataframe\">\n  <thead>\n    <tr style=\"text-align: right;\">\n      <th></th>\n      <th>category_name</th>\n    </tr>\n  </thead>\n  <tbody>\n    <tr>\n      <th>count</th>\n      <td>84</td>\n    </tr>\n    <tr>\n      <th>unique</th>\n      <td>84</td>\n    </tr>\n    <tr>\n      <th>top</th>\n      <td>Game consoles - PS3</td>\n    </tr>\n    <tr>\n      <th>freq</th>\n      <td>1</td>\n    </tr>\n  </tbody>\n</table>\n</div>"
     },
     "metadata": {}
    }
   ]
  },
  {
   "cell_type": "code",
   "metadata": {
    "tags": [],
    "deepnote_to_be_reexecuted": false,
    "source_hash": "3232cbdc",
    "execution_start": 1620650856982,
    "execution_millis": 21,
    "cell_id": "00006-63f47ad2-6f46-40a7-9fff-955f052cc1dc",
    "deepnote_cell_type": "code"
   },
   "source": "df_shops.describe()",
   "execution_count": null,
   "outputs": [
    {
     "output_type": "execute_result",
     "execution_count": 31,
     "data": {
      "application/vnd.deepnote.dataframe.v2+json": {
       "row_count": 4,
       "column_count": 1,
       "columns": [
        {
         "name": "shop_name",
         "dtype": "object",
         "stats": {
          "unique_count": 3,
          "nan_count": 0,
          "categories": [
           {
            "name": "60",
            "count": 2
           },
           {
            "name": " RostovNaDon Mega shopping center",
            "count": 1
           },
           {
            "name": "1",
            "count": 1
           }
          ]
         }
        },
        {
         "name": "_deepnote_index_column",
         "dtype": "object"
        }
       ],
       "rows_top": [
        {
         "shop_name": "60",
         "_deepnote_index_column": "count"
        },
        {
         "shop_name": "60",
         "_deepnote_index_column": "unique"
        },
        {
         "shop_name": " RostovNaDon Mega shopping center",
         "_deepnote_index_column": "top"
        },
        {
         "shop_name": "1",
         "_deepnote_index_column": "freq"
        }
       ],
       "rows_bottom": null
      },
      "text/plain": "                                shop_name\ncount                                  60\nunique                                 60\ntop      RostovNaDon Mega shopping center\nfreq                                    1",
      "text/html": "<div>\n<style scoped>\n    .dataframe tbody tr th:only-of-type {\n        vertical-align: middle;\n    }\n\n    .dataframe tbody tr th {\n        vertical-align: top;\n    }\n\n    .dataframe thead th {\n        text-align: right;\n    }\n</style>\n<table border=\"1\" class=\"dataframe\">\n  <thead>\n    <tr style=\"text-align: right;\">\n      <th></th>\n      <th>shop_name</th>\n    </tr>\n  </thead>\n  <tbody>\n    <tr>\n      <th>count</th>\n      <td>60</td>\n    </tr>\n    <tr>\n      <th>unique</th>\n      <td>60</td>\n    </tr>\n    <tr>\n      <th>top</th>\n      <td>RostovNaDon Mega shopping center</td>\n    </tr>\n    <tr>\n      <th>freq</th>\n      <td>1</td>\n    </tr>\n  </tbody>\n</table>\n</div>"
     },
     "metadata": {}
    }
   ]
  },
  {
   "cell_type": "code",
   "metadata": {
    "tags": [],
    "deepnote_to_be_reexecuted": false,
    "source_hash": "d228fb43",
    "execution_start": 1620650874952,
    "execution_millis": 515,
    "cell_id": "00007-1f9b9af7-e65a-4f01-aa84-4f300bc0e8d2",
    "deepnote_cell_type": "code"
   },
   "source": "df_train.corr()[\"item_price\"].abs().sort_values().plot.barh();",
   "execution_count": null,
   "outputs": [
    {
     "data": {
      "text/plain": "<Figure size 432x288 with 1 Axes>",
      "image/png": "[encoded data removed]"
     },
     "metadata": {
      "needs_background": "light",
      "image/png": {
       "width": 437,
       "height": 248
      }
     },
     "output_type": "display_data"
    }
   ]
  },
  {
   "cell_type": "code",
   "metadata": {
    "tags": [],
    "deepnote_to_be_reexecuted": false,
    "source_hash": "5e2a9c26",
    "execution_start": 1620651563096,
    "execution_millis": 5,
    "cell_id": "00008-259b64f1-5dad-48c2-9a72-a5cde75900d1",
    "deepnote_cell_type": "code"
   },
   "source": "df_train.head()",
   "execution_count": null,
   "outputs": [
    {
     "output_type": "execute_result",
     "execution_count": 38,
     "data": {
      "application/vnd.deepnote.dataframe.v2+json": {
       "row_count": 5,
       "column_count": 6,
       "columns": [
        {
         "name": "date",
         "dtype": "datetime64[ns]",
         "stats": {
          "unique_count": 5,
          "nan_count": 0,
          "min": "2013-01-02 00:00:00",
          "max": "2013-01-15 00:00:00",
          "histogram": [
           {
            "bin_start": 1357084800000000000,
            "bin_end": 1357197120000000000,
            "count": 2
           },
           {
            "bin_start": 1357197120000000000,
            "bin_end": 1357309440000000000,
            "count": 0
           },
           {
            "bin_start": 1357309440000000000,
            "bin_end": 1357421760000000000,
            "count": 1
           },
           {
            "bin_start": 1357421760000000000,
            "bin_end": 1357534080000000000,
            "count": 1
           },
           {
            "bin_start": 1357534080000000000,
            "bin_end": 1357646400000000000,
            "count": 0
           },
           {
            "bin_start": 1357646400000000000,
            "bin_end": 1357758720000000000,
            "count": 0
           },
           {
            "bin_start": 1357758720000000000,
            "bin_end": 1357871040000000000,
            "count": 0
           },
           {
            "bin_start": 1357871040000000000,
            "bin_end": 1357983360000000000,
            "count": 0
           },
           {
            "bin_start": 1357983360000000000,
            "bin_end": 1358095680000000000,
            "count": 0
           },
           {
            "bin_start": 1358095680000000000,
            "bin_end": 1358208000000000000,
            "count": 1
           }
          ]
         }
        },
        {
         "name": "date_block_num",
         "dtype": "int64",
         "stats": {
          "unique_count": 1,
          "nan_count": 0,
          "min": "0",
          "max": "0",
          "histogram": [
           {
            "bin_start": -0.5,
            "bin_end": -0.4,
            "count": 0
           },
           {
            "bin_start": -0.4,
            "bin_end": -0.3,
            "count": 0
           },
           {
            "bin_start": -0.3,
            "bin_end": -0.19999999999999996,
            "count": 0
           },
           {
            "bin_start": -0.19999999999999996,
            "bin_end": -0.09999999999999998,
            "count": 0
           },
           {
            "bin_start": -0.09999999999999998,
            "bin_end": 0,
            "count": 0
           },
           {
            "bin_start": 0,
            "bin_end": 0.10000000000000009,
            "count": 5
           },
           {
            "bin_start": 0.10000000000000009,
            "bin_end": 0.20000000000000007,
            "count": 0
           },
           {
            "bin_start": 0.20000000000000007,
            "bin_end": 0.30000000000000004,
            "count": 0
           },
           {
            "bin_start": 0.30000000000000004,
            "bin_end": 0.4,
            "count": 0
           },
           {
            "bin_start": 0.4,
            "bin_end": 0.5,
            "count": 0
           }
          ]
         }
        },
        {
         "name": "shop_id",
         "dtype": "int64",
         "stats": {
          "unique_count": 2,
          "nan_count": 0,
          "min": "25",
          "max": "59",
          "histogram": [
           {
            "bin_start": 25,
            "bin_end": 28.4,
            "count": 4
           },
           {
            "bin_start": 28.4,
            "bin_end": 31.8,
            "count": 0
           },
           {
            "bin_start": 31.8,
            "bin_end": 35.2,
            "count": 0
           },
           {
            "bin_start": 35.2,
            "bin_end": 38.6,
            "count": 0
           },
           {
            "bin_start": 38.6,
            "bin_end": 42,
            "count": 0
           },
           {
            "bin_start": 42,
            "bin_end": 45.4,
            "count": 0
           },
           {
            "bin_start": 45.4,
            "bin_end": 48.8,
            "count": 0
           },
           {
            "bin_start": 48.8,
            "bin_end": 52.2,
            "count": 0
           },
           {
            "bin_start": 52.2,
            "bin_end": 55.599999999999994,
            "count": 0
           },
           {
            "bin_start": 55.599999999999994,
            "bin_end": 59,
            "count": 1
           }
          ]
         }
        },
        {
         "name": "item_id",
         "dtype": "int64",
         "stats": {
          "unique_count": 4,
          "nan_count": 0,
          "min": "2552",
          "max": "22154",
          "histogram": [
           {
            "bin_start": 2552,
            "bin_end": 4512.2,
            "count": 4
           },
           {
            "bin_start": 4512.2,
            "bin_end": 6472.4,
            "count": 0
           },
           {
            "bin_start": 6472.4,
            "bin_end": 8432.6,
            "count": 0
           },
           {
            "bin_start": 8432.6,
            "bin_end": 10392.8,
            "count": 0
           },
           {
            "bin_start": 10392.8,
            "bin_end": 12353,
            "count": 0
           },
           {
            "bin_start": 12353,
            "bin_end": 14313.2,
            "count": 0
           },
           {
            "bin_start": 14313.2,
            "bin_end": 16273.4,
            "count": 0
           },
           {
            "bin_start": 16273.4,
            "bin_end": 18233.6,
            "count": 0
           },
           {
            "bin_start": 18233.6,
            "bin_end": 20193.8,
            "count": 0
           },
           {
            "bin_start": 20193.8,
            "bin_end": 22154,
            "count": 1
           }
          ]
         }
        },
        {
         "name": "item_price",
         "dtype": "float64",
         "stats": {
          "unique_count": 4,
          "nan_count": 0,
          "min": "899.0",
          "max": "1709.05",
          "histogram": [
           {
            "bin_start": 899,
            "bin_end": 980.005,
            "count": 2
           },
           {
            "bin_start": 980.005,
            "bin_end": 1061.01,
            "count": 1
           },
           {
            "bin_start": 1061.01,
            "bin_end": 1142.0149999999999,
            "count": 1
           },
           {
            "bin_start": 1142.0149999999999,
            "bin_end": 1223.02,
            "count": 0
           },
           {
            "bin_start": 1223.02,
            "bin_end": 1304.025,
            "count": 0
           },
           {
            "bin_start": 1304.025,
            "bin_end": 1385.03,
            "count": 0
           },
           {
            "bin_start": 1385.03,
            "bin_end": 1466.0349999999999,
            "count": 0
           },
           {
            "bin_start": 1466.0349999999999,
            "bin_end": 1547.04,
            "count": 0
           },
           {
            "bin_start": 1547.04,
            "bin_end": 1628.045,
            "count": 0
           },
           {
            "bin_start": 1628.045,
            "bin_end": 1709.05,
            "count": 1
           }
          ]
         }
        },
        {
         "name": "item_cnt_day",
         "dtype": "float64",
         "stats": {
          "unique_count": 2,
          "nan_count": 0,
          "min": "-1.0",
          "max": "1.0",
          "histogram": [
           {
            "bin_start": -1,
            "bin_end": -0.8,
            "count": 1
           },
           {
            "bin_start": -0.8,
            "bin_end": -0.6,
            "count": 0
           },
           {
            "bin_start": -0.6,
            "bin_end": -0.3999999999999999,
            "count": 0
           },
           {
            "bin_start": -0.3999999999999999,
            "bin_end": -0.19999999999999996,
            "count": 0
           },
           {
            "bin_start": -0.19999999999999996,
            "bin_end": 0,
            "count": 0
           },
           {
            "bin_start": 0,
            "bin_end": 0.20000000000000018,
            "count": 0
           },
           {
            "bin_start": 0.20000000000000018,
            "bin_end": 0.40000000000000013,
            "count": 0
           },
           {
            "bin_start": 0.40000000000000013,
            "bin_end": 0.6000000000000001,
            "count": 0
           },
           {
            "bin_start": 0.6000000000000001,
            "bin_end": 0.8,
            "count": 0
           },
           {
            "bin_start": 0.8,
            "bin_end": 1,
            "count": 4
           }
          ]
         }
        },
        {
         "name": "_deepnote_index_column",
         "dtype": "int64"
        }
       ],
       "rows_top": [
        {
         "date": "2013-01-02T00:00:00.000000",
         "date_block_num": 0,
         "shop_id": 59,
         "item_id": 22154,
         "item_price": 999,
         "item_cnt_day": 1,
         "_deepnote_index_column": 0
        },
        {
         "date": "2013-01-03T00:00:00.000000",
         "date_block_num": 0,
         "shop_id": 25,
         "item_id": 2552,
         "item_price": 899,
         "item_cnt_day": 1,
         "_deepnote_index_column": 1
        },
        {
         "date": "2013-01-05T00:00:00.000000",
         "date_block_num": 0,
         "shop_id": 25,
         "item_id": 2552,
         "item_price": 899,
         "item_cnt_day": -1,
         "_deepnote_index_column": 2
        },
        {
         "date": "2013-01-06T00:00:00.000000",
         "date_block_num": 0,
         "shop_id": 25,
         "item_id": 2554,
         "item_price": 1709.05,
         "item_cnt_day": 1,
         "_deepnote_index_column": 3
        },
        {
         "date": "2013-01-15T00:00:00.000000",
         "date_block_num": 0,
         "shop_id": 25,
         "item_id": 2555,
         "item_price": 1099,
         "item_cnt_day": 1,
         "_deepnote_index_column": 4
        }
       ],
       "rows_bottom": null
      },
      "text/plain": "        date  date_block_num  shop_id  item_id  item_price  item_cnt_day\n0 2013-01-02               0       59    22154      999.00           1.0\n1 2013-01-03               0       25     2552      899.00           1.0\n2 2013-01-05               0       25     2552      899.00          -1.0\n3 2013-01-06               0       25     2554     1709.05           1.0\n4 2013-01-15               0       25     2555     1099.00           1.0",
      "text/html": "<div>\n<style scoped>\n    .dataframe tbody tr th:only-of-type {\n        vertical-align: middle;\n    }\n\n    .dataframe tbody tr th {\n        vertical-align: top;\n    }\n\n    .dataframe thead th {\n        text-align: right;\n    }\n</style>\n<table border=\"1\" class=\"dataframe\">\n  <thead>\n    <tr style=\"text-align: right;\">\n      <th></th>\n      <th>date</th>\n      <th>date_block_num</th>\n      <th>shop_id</th>\n      <th>item_id</th>\n      <th>item_price</th>\n      <th>item_cnt_day</th>\n    </tr>\n  </thead>\n  <tbody>\n    <tr>\n      <th>0</th>\n      <td>2013-01-02</td>\n      <td>0</td>\n      <td>59</td>\n      <td>22154</td>\n      <td>999.00</td>\n      <td>1.0</td>\n    </tr>\n    <tr>\n      <th>1</th>\n      <td>2013-01-03</td>\n      <td>0</td>\n      <td>25</td>\n      <td>2552</td>\n      <td>899.00</td>\n      <td>1.0</td>\n    </tr>\n    <tr>\n      <th>2</th>\n      <td>2013-01-05</td>\n      <td>0</td>\n      <td>25</td>\n      <td>2552</td>\n      <td>899.00</td>\n      <td>-1.0</td>\n    </tr>\n    <tr>\n      <th>3</th>\n      <td>2013-01-06</td>\n      <td>0</td>\n      <td>25</td>\n      <td>2554</td>\n      <td>1709.05</td>\n      <td>1.0</td>\n    </tr>\n    <tr>\n      <th>4</th>\n      <td>2013-01-15</td>\n      <td>0</td>\n      <td>25</td>\n      <td>2555</td>\n      <td>1099.00</td>\n      <td>1.0</td>\n    </tr>\n  </tbody>\n</table>\n</div>"
     },
     "metadata": {}
    }
   ]
  },
  {
   "cell_type": "code",
   "metadata": {
    "tags": [],
    "deepnote_to_be_reexecuted": false,
    "source_hash": "dc62752b",
    "execution_start": 1620650929322,
    "execution_millis": 4,
    "cell_id": "00009-613d70b7-ae1f-4832-a5ca-bc55afc625bb",
    "deepnote_cell_type": "code"
   },
   "source": "df_train.dtypes",
   "execution_count": null,
   "outputs": [
    {
     "output_type": "execute_result",
     "execution_count": 34,
     "data": {
      "text/plain": "date               object\ndate_block_num      int64\nshop_id             int64\nitem_id             int64\nitem_price        float64\nitem_cnt_day      float64\ndtype: object"
     },
     "metadata": {}
    }
   ]
  },
  {
   "cell_type": "code",
   "metadata": {
    "tags": [],
    "deepnote_to_be_reexecuted": false,
    "source_hash": "849ce5a8",
    "execution_start": 1620650976381,
    "execution_millis": 360,
    "cell_id": "00010-99517a87-9666-4c6a-b148-f24531bf27fc",
    "deepnote_cell_type": "code"
   },
   "source": "df_train.describe()",
   "execution_count": null,
   "outputs": [
    {
     "output_type": "execute_result",
     "execution_count": 35,
     "data": {
      "application/vnd.deepnote.dataframe.v2+json": {
       "row_count": 8,
       "column_count": 5,
       "columns": [
        {
         "name": "date_block_num",
         "dtype": "float64",
         "stats": {
          "unique_count": 8,
          "nan_count": 0,
          "min": "0.0",
          "max": "2935849.0",
          "histogram": [
           {
            "bin_start": 0,
            "bin_end": 293584.9,
            "count": 7
           },
           {
            "bin_start": 293584.9,
            "bin_end": 587169.8,
            "count": 0
           },
           {
            "bin_start": 587169.8,
            "bin_end": 880754.7000000001,
            "count": 0
           },
           {
            "bin_start": 880754.7000000001,
            "bin_end": 1174339.6,
            "count": 0
           },
           {
            "bin_start": 1174339.6,
            "bin_end": 1467924.5,
            "count": 0
           },
           {
            "bin_start": 1467924.5,
            "bin_end": 1761509.4000000001,
            "count": 0
           },
           {
            "bin_start": 1761509.4000000001,
            "bin_end": 2055094.3000000003,
            "count": 0
           },
           {
            "bin_start": 2055094.3000000003,
            "bin_end": 2348679.2,
            "count": 0
           },
           {
            "bin_start": 2348679.2,
            "bin_end": 2642264.1,
            "count": 0
           },
           {
            "bin_start": 2642264.1,
            "bin_end": 2935849,
            "count": 1
           }
          ]
         }
        },
        {
         "name": "shop_id",
         "dtype": "float64",
         "stats": {
          "unique_count": 8,
          "nan_count": 0,
          "min": "0.0",
          "max": "2935849.0",
          "histogram": [
           {
            "bin_start": 0,
            "bin_end": 293584.9,
            "count": 7
           },
           {
            "bin_start": 293584.9,
            "bin_end": 587169.8,
            "count": 0
           },
           {
            "bin_start": 587169.8,
            "bin_end": 880754.7000000001,
            "count": 0
           },
           {
            "bin_start": 880754.7000000001,
            "bin_end": 1174339.6,
            "count": 0
           },
           {
            "bin_start": 1174339.6,
            "bin_end": 1467924.5,
            "count": 0
           },
           {
            "bin_start": 1467924.5,
            "bin_end": 1761509.4000000001,
            "count": 0
           },
           {
            "bin_start": 1761509.4000000001,
            "bin_end": 2055094.3000000003,
            "count": 0
           },
           {
            "bin_start": 2055094.3000000003,
            "bin_end": 2348679.2,
            "count": 0
           },
           {
            "bin_start": 2348679.2,
            "bin_end": 2642264.1,
            "count": 0
           },
           {
            "bin_start": 2642264.1,
            "bin_end": 2935849,
            "count": 1
           }
          ]
         }
        },
        {
         "name": "item_id",
         "dtype": "float64",
         "stats": {
          "unique_count": 8,
          "nan_count": 0,
          "min": "0.0",
          "max": "2935849.0",
          "histogram": [
           {
            "bin_start": 0,
            "bin_end": 293584.9,
            "count": 7
           },
           {
            "bin_start": 293584.9,
            "bin_end": 587169.8,
            "count": 0
           },
           {
            "bin_start": 587169.8,
            "bin_end": 880754.7000000001,
            "count": 0
           },
           {
            "bin_start": 880754.7000000001,
            "bin_end": 1174339.6,
            "count": 0
           },
           {
            "bin_start": 1174339.6,
            "bin_end": 1467924.5,
            "count": 0
           },
           {
            "bin_start": 1467924.5,
            "bin_end": 1761509.4000000001,
            "count": 0
           },
           {
            "bin_start": 1761509.4000000001,
            "bin_end": 2055094.3000000003,
            "count": 0
           },
           {
            "bin_start": 2055094.3000000003,
            "bin_end": 2348679.2,
            "count": 0
           },
           {
            "bin_start": 2348679.2,
            "bin_end": 2642264.1,
            "count": 0
           },
           {
            "bin_start": 2642264.1,
            "bin_end": 2935849,
            "count": 1
           }
          ]
         }
        },
        {
         "name": "item_price",
         "dtype": "float64",
         "stats": {
          "unique_count": 8,
          "nan_count": 0,
          "min": "-1.0",
          "max": "2935849.0",
          "histogram": [
           {
            "bin_start": -1,
            "bin_end": 293584,
            "count": 6
           },
           {
            "bin_start": 293584,
            "bin_end": 587169,
            "count": 1
           },
           {
            "bin_start": 587169,
            "bin_end": 880754,
            "count": 0
           },
           {
            "bin_start": 880754,
            "bin_end": 1174339,
            "count": 0
           },
           {
            "bin_start": 1174339,
            "bin_end": 1467924,
            "count": 0
           },
           {
            "bin_start": 1467924,
            "bin_end": 1761509,
            "count": 0
           },
           {
            "bin_start": 1761509,
            "bin_end": 2055094,
            "count": 0
           },
           {
            "bin_start": 2055094,
            "bin_end": 2348679,
            "count": 0
           },
           {
            "bin_start": 2348679,
            "bin_end": 2642264,
            "count": 0
           },
           {
            "bin_start": 2642264,
            "bin_end": 2935849,
            "count": 1
           }
          ]
         }
        },
        {
         "name": "item_cnt_day",
         "dtype": "float64",
         "stats": {
          "unique_count": 6,
          "nan_count": 0,
          "min": "-22.0",
          "max": "2935849.0",
          "histogram": [
           {
            "bin_start": -22,
            "bin_end": 293565.1,
            "count": 7
           },
           {
            "bin_start": 293565.1,
            "bin_end": 587152.2,
            "count": 0
           },
           {
            "bin_start": 587152.2,
            "bin_end": 880739.2999999999,
            "count": 0
           },
           {
            "bin_start": 880739.2999999999,
            "bin_end": 1174326.4,
            "count": 0
           },
           {
            "bin_start": 1174326.4,
            "bin_end": 1467913.5,
            "count": 0
           },
           {
            "bin_start": 1467913.5,
            "bin_end": 1761500.5999999999,
            "count": 0
           },
           {
            "bin_start": 1761500.5999999999,
            "bin_end": 2055087.6999999997,
            "count": 0
           },
           {
            "bin_start": 2055087.6999999997,
            "bin_end": 2348674.8,
            "count": 0
           },
           {
            "bin_start": 2348674.8,
            "bin_end": 2642261.9,
            "count": 0
           },
           {
            "bin_start": 2642261.9,
            "bin_end": 2935849,
            "count": 1
           }
          ]
         }
        },
        {
         "name": "_deepnote_index_column",
         "dtype": "object"
        }
       ],
       "rows_top": [
        {
         "date_block_num": 2935849,
         "shop_id": 2935849,
         "item_id": 2935849,
         "item_price": 2935849,
         "item_cnt_day": 2935849,
         "_deepnote_index_column": "count"
        },
        {
         "date_block_num": 14.56991146343017,
         "shop_id": 33.001728290521754,
         "item_id": 10197.227056977385,
         "item_price": 890.8532326980126,
         "item_cnt_day": 1.242640885140891,
         "_deepnote_index_column": "mean"
        },
        {
         "date_block_num": 9.42298770875573,
         "shop_id": 16.226973048333605,
         "item_id": 6324.297353891169,
         "item_price": 1729.7996307126623,
         "item_cnt_day": 2.618834430895425,
         "_deepnote_index_column": "std"
        },
        {
         "date_block_num": 0,
         "shop_id": 0,
         "item_id": 0,
         "item_price": -1,
         "item_cnt_day": -22,
         "_deepnote_index_column": "min"
        },
        {
         "date_block_num": 7,
         "shop_id": 22,
         "item_id": 4476,
         "item_price": 249,
         "item_cnt_day": 1,
         "_deepnote_index_column": "25%"
        },
        {
         "date_block_num": 14,
         "shop_id": 31,
         "item_id": 9343,
         "item_price": 399,
         "item_cnt_day": 1,
         "_deepnote_index_column": "50%"
        },
        {
         "date_block_num": 23,
         "shop_id": 47,
         "item_id": 15684,
         "item_price": 999,
         "item_cnt_day": 1,
         "_deepnote_index_column": "75%"
        },
        {
         "date_block_num": 33,
         "shop_id": 59,
         "item_id": 22169,
         "item_price": 307980,
         "item_cnt_day": 2169,
         "_deepnote_index_column": "max"
        }
       ],
       "rows_bottom": null
      },
      "text/plain": "       date_block_num       shop_id       item_id    item_price  item_cnt_day\ncount    2.935849e+06  2.935849e+06  2.935849e+06  2.935849e+06  2.935849e+06\nmean     1.456991e+01  3.300173e+01  1.019723e+04  8.908532e+02  1.242641e+00\nstd      9.422988e+00  1.622697e+01  6.324297e+03  1.729800e+03  2.618834e+00\nmin      0.000000e+00  0.000000e+00  0.000000e+00 -1.000000e+00 -2.200000e+01\n25%      7.000000e+00  2.200000e+01  4.476000e+03  2.490000e+02  1.000000e+00\n50%      1.400000e+01  3.100000e+01  9.343000e+03  3.990000e+02  1.000000e+00\n75%      2.300000e+01  4.700000e+01  1.568400e+04  9.990000e+02  1.000000e+00\nmax      3.300000e+01  5.900000e+01  2.216900e+04  3.079800e+05  2.169000e+03",
      "text/html": "<div>\n<style scoped>\n    .dataframe tbody tr th:only-of-type {\n        vertical-align: middle;\n    }\n\n    .dataframe tbody tr th {\n        vertical-align: top;\n    }\n\n    .dataframe thead th {\n        text-align: right;\n    }\n</style>\n<table border=\"1\" class=\"dataframe\">\n  <thead>\n    <tr style=\"text-align: right;\">\n      <th></th>\n      <th>date_block_num</th>\n      <th>shop_id</th>\n      <th>item_id</th>\n      <th>item_price</th>\n      <th>item_cnt_day</th>\n    </tr>\n  </thead>\n  <tbody>\n    <tr>\n      <th>count</th>\n      <td>2.935849e+06</td>\n      <td>2.935849e+06</td>\n      <td>2.935849e+06</td>\n      <td>2.935849e+06</td>\n      <td>2.935849e+06</td>\n    </tr>\n    <tr>\n      <th>mean</th>\n      <td>1.456991e+01</td>\n      <td>3.300173e+01</td>\n      <td>1.019723e+04</td>\n      <td>8.908532e+02</td>\n      <td>1.242641e+00</td>\n    </tr>\n    <tr>\n      <th>std</th>\n      <td>9.422988e+00</td>\n      <td>1.622697e+01</td>\n      <td>6.324297e+03</td>\n      <td>1.729800e+03</td>\n      <td>2.618834e+00</td>\n    </tr>\n    <tr>\n      <th>min</th>\n      <td>0.000000e+00</td>\n      <td>0.000000e+00</td>\n      <td>0.000000e+00</td>\n      <td>-1.000000e+00</td>\n      <td>-2.200000e+01</td>\n    </tr>\n    <tr>\n      <th>25%</th>\n      <td>7.000000e+00</td>\n      <td>2.200000e+01</td>\n      <td>4.476000e+03</td>\n      <td>2.490000e+02</td>\n      <td>1.000000e+00</td>\n    </tr>\n    <tr>\n      <th>50%</th>\n      <td>1.400000e+01</td>\n      <td>3.100000e+01</td>\n      <td>9.343000e+03</td>\n      <td>3.990000e+02</td>\n      <td>1.000000e+00</td>\n    </tr>\n    <tr>\n      <th>75%</th>\n      <td>2.300000e+01</td>\n      <td>4.700000e+01</td>\n      <td>1.568400e+04</td>\n      <td>9.990000e+02</td>\n      <td>1.000000e+00</td>\n    </tr>\n    <tr>\n      <th>max</th>\n      <td>3.300000e+01</td>\n      <td>5.900000e+01</td>\n      <td>2.216900e+04</td>\n      <td>3.079800e+05</td>\n      <td>2.169000e+03</td>\n    </tr>\n  </tbody>\n</table>\n</div>"
     },
     "metadata": {}
    }
   ]
  },
  {
   "cell_type": "code",
   "metadata": {
    "tags": [],
    "deepnote_to_be_reexecuted": false,
    "source_hash": "455c7b4b",
    "execution_start": 1620652070651,
    "execution_millis": 25,
    "cell_id": "00011-14887234-3a82-4301-be1a-a62779f07e88",
    "deepnote_cell_type": "code"
   },
   "source": "df_train.isnull().sum()",
   "execution_count": null,
   "outputs": [
    {
     "output_type": "execute_result",
     "execution_count": 10,
     "data": {
      "text/plain": "date            0\nshop_id         0\nitem_id         0\nitem_cnt_day    0\ndtype: int64"
     },
     "metadata": {}
    }
   ]
  },
  {
   "cell_type": "code",
   "metadata": {
    "tags": [],
    "deepnote_to_be_reexecuted": false,
    "source_hash": "9f54e9f3",
    "execution_start": 1620654741195,
    "execution_millis": 12,
    "cell_id": "00013-f2c48e7e-0bb6-4735-b81d-e9da66834248",
    "deepnote_cell_type": "code"
   },
   "source": "df_train['date'] = pd.to_datetime(df_train['date'], dayfirst=True)\ndf_train['date'] = df_train['date'].apply(lambda x: x.strftime('%Y-%m'))\ndf_train.head()",
   "execution_count": null,
   "outputs": [
    {
     "output_type": "error",
     "ename": "NameError",
     "evalue": "name 'pd' is not defined",
     "traceback": [
      "\u001b[0;31m---------------------------------------------------------------------------\u001b[0m",
      "\u001b[0;31mNameError\u001b[0m                                 Traceback (most recent call last)",
      "\u001b[0;32m<ipython-input-2-2ba7064b6f10>\u001b[0m in \u001b[0;36m<module>\u001b[0;34m\u001b[0m\n\u001b[0;32m----> 1\u001b[0;31m \u001b[0mdf_train\u001b[0m\u001b[0;34m[\u001b[0m\u001b[0;34m'date'\u001b[0m\u001b[0;34m]\u001b[0m \u001b[0;34m=\u001b[0m \u001b[0mpd\u001b[0m\u001b[0;34m.\u001b[0m\u001b[0mto_datetime\u001b[0m\u001b[0;34m(\u001b[0m\u001b[0mdf_train\u001b[0m\u001b[0;34m[\u001b[0m\u001b[0;34m'date'\u001b[0m\u001b[0;34m]\u001b[0m\u001b[0;34m,\u001b[0m \u001b[0mdayfirst\u001b[0m\u001b[0;34m=\u001b[0m\u001b[0;32mTrue\u001b[0m\u001b[0;34m)\u001b[0m\u001b[0;34m\u001b[0m\u001b[0;34m\u001b[0m\u001b[0m\n\u001b[0m\u001b[1;32m      2\u001b[0m \u001b[0mdf_train\u001b[0m\u001b[0;34m[\u001b[0m\u001b[0;34m'date'\u001b[0m\u001b[0;34m]\u001b[0m \u001b[0;34m=\u001b[0m \u001b[0mdf_train\u001b[0m\u001b[0;34m[\u001b[0m\u001b[0;34m'date'\u001b[0m\u001b[0;34m]\u001b[0m\u001b[0;34m.\u001b[0m\u001b[0mapply\u001b[0m\u001b[0;34m(\u001b[0m\u001b[0;32mlambda\u001b[0m \u001b[0mx\u001b[0m\u001b[0;34m:\u001b[0m \u001b[0mx\u001b[0m\u001b[0;34m.\u001b[0m\u001b[0mstrftime\u001b[0m\u001b[0;34m(\u001b[0m\u001b[0;34m'%Y-%m'\u001b[0m\u001b[0;34m)\u001b[0m\u001b[0;34m)\u001b[0m\u001b[0;34m\u001b[0m\u001b[0;34m\u001b[0m\u001b[0m\n\u001b[1;32m      3\u001b[0m \u001b[0mdf_train\u001b[0m\u001b[0;34m.\u001b[0m\u001b[0mhead\u001b[0m\u001b[0;34m(\u001b[0m\u001b[0;34m)\u001b[0m\u001b[0;34m\u001b[0m\u001b[0;34m\u001b[0m\u001b[0m\n",
      "\u001b[0;31mNameError\u001b[0m: name 'pd' is not defined"
     ]
    }
   ]
  },
  {
   "cell_type": "code",
   "metadata": {
    "tags": [],
    "cell_id": "00014-2cdd09e0-e3b5-462d-aa3b-f770331d20db",
    "deepnote_to_be_reexecuted": false,
    "source_hash": "8c86f7db",
    "execution_start": 1620654732271,
    "execution_millis": 551,
    "deepnote_cell_type": "code"
   },
   "source": "df = df_train.groupby(['date','shop_id','item_id']).sum()\n#df = df.pivot_table(index=['shop_id','item_id'], columns='date', values='item_cnt_day', fill_value=0)\n#df.reset_index(inplace=True)\ndf.head()",
   "execution_count": null,
   "outputs": [
    {
     "output_type": "error",
     "ename": "NameError",
     "evalue": "name 'df_train' is not defined",
     "traceback": [
      "\u001b[0;31m---------------------------------------------------------------------------\u001b[0m",
      "\u001b[0;31mNameError\u001b[0m                                 Traceback (most recent call last)",
      "\u001b[0;32m<ipython-input-1-c360f67f9923>\u001b[0m in \u001b[0;36m<module>\u001b[0;34m\u001b[0m\n\u001b[0;32m----> 1\u001b[0;31m \u001b[0mdf\u001b[0m \u001b[0;34m=\u001b[0m \u001b[0mdf_train\u001b[0m\u001b[0;34m.\u001b[0m\u001b[0mgroupby\u001b[0m\u001b[0;34m(\u001b[0m\u001b[0;34m[\u001b[0m\u001b[0;34m'date'\u001b[0m\u001b[0;34m,\u001b[0m\u001b[0;34m'shop_id'\u001b[0m\u001b[0;34m,\u001b[0m\u001b[0;34m'item_id'\u001b[0m\u001b[0;34m]\u001b[0m\u001b[0;34m)\u001b[0m\u001b[0;34m.\u001b[0m\u001b[0msum\u001b[0m\u001b[0;34m(\u001b[0m\u001b[0;34m)\u001b[0m\u001b[0;34m\u001b[0m\u001b[0;34m\u001b[0m\u001b[0m\n\u001b[0m\u001b[1;32m      2\u001b[0m \u001b[0;31m#df = df.pivot_table(index=['shop_id','item_id'], columns='date', values='item_cnt_day', fill_value=0)\u001b[0m\u001b[0;34m\u001b[0m\u001b[0;34m\u001b[0m\u001b[0;34m\u001b[0m\u001b[0m\n\u001b[1;32m      3\u001b[0m \u001b[0;31m#df.reset_index(inplace=True)\u001b[0m\u001b[0;34m\u001b[0m\u001b[0;34m\u001b[0m\u001b[0;34m\u001b[0m\u001b[0m\n\u001b[1;32m      4\u001b[0m \u001b[0mdf\u001b[0m\u001b[0;34m.\u001b[0m\u001b[0mhead\u001b[0m\u001b[0;34m(\u001b[0m\u001b[0;34m)\u001b[0m\u001b[0;34m\u001b[0m\u001b[0;34m\u001b[0m\u001b[0m\n",
      "\u001b[0;31mNameError\u001b[0m: name 'df_train' is not defined"
     ]
    }
   ]
  },
  {
   "cell_type": "code",
   "metadata": {
    "tags": [],
    "cell_id": "00014-fd2d12e7-4a34-4434-854f-adba3d3e34a0",
    "deepnote_to_be_reexecuted": false,
    "source_hash": "366b5afb",
    "execution_start": 1620652653144,
    "execution_millis": 480,
    "deepnote_cell_type": "code"
   },
   "source": "df_test = pd.merge(df_test, df, on=['shop_id','item_id'], how='left')\ndf_test.drop(['ID', '2013-01'], axis=1, inplace=True)\ndf_test = df_test.fillna(0)\ndf_test.head()",
   "execution_count": null,
   "outputs": [
    {
     "output_type": "execute_result",
     "execution_count": 21,
     "data": {
      "application/vnd.deepnote.dataframe.v2+json": {
       "row_count": 5,
       "column_count": 35,
       "columns": [
        {
         "name": "shop_id",
         "dtype": "int64",
         "stats": {
          "unique_count": 1,
          "nan_count": 0,
          "min": "5",
          "max": "5",
          "histogram": [
           {
            "bin_start": 4.5,
            "bin_end": 4.6,
            "count": 0
           },
           {
            "bin_start": 4.6,
            "bin_end": 4.7,
            "count": 0
           },
           {
            "bin_start": 4.7,
            "bin_end": 4.8,
            "count": 0
           },
           {
            "bin_start": 4.8,
            "bin_end": 4.9,
            "count": 0
           },
           {
            "bin_start": 4.9,
            "bin_end": 5,
            "count": 0
           },
           {
            "bin_start": 5,
            "bin_end": 5.1,
            "count": 5
           },
           {
            "bin_start": 5.1,
            "bin_end": 5.2,
            "count": 0
           },
           {
            "bin_start": 5.2,
            "bin_end": 5.3,
            "count": 0
           },
           {
            "bin_start": 5.3,
            "bin_end": 5.4,
            "count": 0
           },
           {
            "bin_start": 5.4,
            "bin_end": 5.5,
            "count": 0
           }
          ]
         }
        },
        {
         "name": "item_id",
         "dtype": "int64",
         "stats": {
          "unique_count": 5,
          "nan_count": 0,
          "min": "5037",
          "max": "5320",
          "histogram": [
           {
            "bin_start": 5037,
            "bin_end": 5065.3,
            "count": 1
           },
           {
            "bin_start": 5065.3,
            "bin_end": 5093.6,
            "count": 0
           },
           {
            "bin_start": 5093.6,
            "bin_end": 5121.9,
            "count": 0
           },
           {
            "bin_start": 5121.9,
            "bin_end": 5150.2,
            "count": 0
           },
           {
            "bin_start": 5150.2,
            "bin_end": 5178.5,
            "count": 0
           },
           {
            "bin_start": 5178.5,
            "bin_end": 5206.8,
            "count": 0
           },
           {
            "bin_start": 5206.8,
            "bin_end": 5235.1,
            "count": 2
           },
           {
            "bin_start": 5235.1,
            "bin_end": 5263.4,
            "count": 0
           },
           {
            "bin_start": 5263.4,
            "bin_end": 5291.7,
            "count": 1
           },
           {
            "bin_start": 5291.7,
            "bin_end": 5320,
            "count": 1
           }
          ]
         }
        },
        {
         "name": "2013-02",
         "dtype": "float64",
         "stats": {
          "unique_count": 1,
          "nan_count": 0,
          "min": "0.0",
          "max": "0.0",
          "histogram": [
           {
            "bin_start": -0.5,
            "bin_end": -0.4,
            "count": 0
           },
           {
            "bin_start": -0.4,
            "bin_end": -0.3,
            "count": 0
           },
           {
            "bin_start": -0.3,
            "bin_end": -0.19999999999999996,
            "count": 0
           },
           {
            "bin_start": -0.19999999999999996,
            "bin_end": -0.09999999999999998,
            "count": 0
           },
           {
            "bin_start": -0.09999999999999998,
            "bin_end": 0,
            "count": 0
           },
           {
            "bin_start": 0,
            "bin_end": 0.10000000000000009,
            "count": 5
           },
           {
            "bin_start": 0.10000000000000009,
            "bin_end": 0.20000000000000007,
            "count": 0
           },
           {
            "bin_start": 0.20000000000000007,
            "bin_end": 0.30000000000000004,
            "count": 0
           },
           {
            "bin_start": 0.30000000000000004,
            "bin_end": 0.4,
            "count": 0
           },
           {
            "bin_start": 0.4,
            "bin_end": 0.5,
            "count": 0
           }
          ]
         }
        },
        {
         "name": "2013-03",
         "dtype": "float64",
         "stats": {
          "unique_count": 1,
          "nan_count": 0,
          "min": "0.0",
          "max": "0.0",
          "histogram": [
           {
            "bin_start": -0.5,
            "bin_end": -0.4,
            "count": 0
           },
           {
            "bin_start": -0.4,
            "bin_end": -0.3,
            "count": 0
           },
           {
            "bin_start": -0.3,
            "bin_end": -0.19999999999999996,
            "count": 0
           },
           {
            "bin_start": -0.19999999999999996,
            "bin_end": -0.09999999999999998,
            "count": 0
           },
           {
            "bin_start": -0.09999999999999998,
            "bin_end": 0,
            "count": 0
           },
           {
            "bin_start": 0,
            "bin_end": 0.10000000000000009,
            "count": 5
           },
           {
            "bin_start": 0.10000000000000009,
            "bin_end": 0.20000000000000007,
            "count": 0
           },
           {
            "bin_start": 0.20000000000000007,
            "bin_end": 0.30000000000000004,
            "count": 0
           },
           {
            "bin_start": 0.30000000000000004,
            "bin_end": 0.4,
            "count": 0
           },
           {
            "bin_start": 0.4,
            "bin_end": 0.5,
            "count": 0
           }
          ]
         }
        },
        {
         "name": "2013-04",
         "dtype": "float64",
         "stats": {
          "unique_count": 1,
          "nan_count": 0,
          "min": "0.0",
          "max": "0.0",
          "histogram": [
           {
            "bin_start": -0.5,
            "bin_end": -0.4,
            "count": 0
           },
           {
            "bin_start": -0.4,
            "bin_end": -0.3,
            "count": 0
           },
           {
            "bin_start": -0.3,
            "bin_end": -0.19999999999999996,
            "count": 0
           },
           {
            "bin_start": -0.19999999999999996,
            "bin_end": -0.09999999999999998,
            "count": 0
           },
           {
            "bin_start": -0.09999999999999998,
            "bin_end": 0,
            "count": 0
           },
           {
            "bin_start": 0,
            "bin_end": 0.10000000000000009,
            "count": 5
           },
           {
            "bin_start": 0.10000000000000009,
            "bin_end": 0.20000000000000007,
            "count": 0
           },
           {
            "bin_start": 0.20000000000000007,
            "bin_end": 0.30000000000000004,
            "count": 0
           },
           {
            "bin_start": 0.30000000000000004,
            "bin_end": 0.4,
            "count": 0
           },
           {
            "bin_start": 0.4,
            "bin_end": 0.5,
            "count": 0
           }
          ]
         }
        },
        {
         "name": "2013-05",
         "dtype": "float64",
         "stats": {
          "unique_count": 1,
          "nan_count": 0,
          "min": "0.0",
          "max": "0.0",
          "histogram": [
           {
            "bin_start": -0.5,
            "bin_end": -0.4,
            "count": 0
           },
           {
            "bin_start": -0.4,
            "bin_end": -0.3,
            "count": 0
           },
           {
            "bin_start": -0.3,
            "bin_end": -0.19999999999999996,
            "count": 0
           },
           {
            "bin_start": -0.19999999999999996,
            "bin_end": -0.09999999999999998,
            "count": 0
           },
           {
            "bin_start": -0.09999999999999998,
            "bin_end": 0,
            "count": 0
           },
           {
            "bin_start": 0,
            "bin_end": 0.10000000000000009,
            "count": 5
           },
           {
            "bin_start": 0.10000000000000009,
            "bin_end": 0.20000000000000007,
            "count": 0
           },
           {
            "bin_start": 0.20000000000000007,
            "bin_end": 0.30000000000000004,
            "count": 0
           },
           {
            "bin_start": 0.30000000000000004,
            "bin_end": 0.4,
            "count": 0
           },
           {
            "bin_start": 0.4,
            "bin_end": 0.5,
            "count": 0
           }
          ]
         }
        },
        {
         "name": "2013-06",
         "dtype": "float64",
         "stats": {
          "unique_count": 1,
          "nan_count": 0,
          "min": "0.0",
          "max": "0.0",
          "histogram": [
           {
            "bin_start": -0.5,
            "bin_end": -0.4,
            "count": 0
           },
           {
            "bin_start": -0.4,
            "bin_end": -0.3,
            "count": 0
           },
           {
            "bin_start": -0.3,
            "bin_end": -0.19999999999999996,
            "count": 0
           },
           {
            "bin_start": -0.19999999999999996,
            "bin_end": -0.09999999999999998,
            "count": 0
           },
           {
            "bin_start": -0.09999999999999998,
            "bin_end": 0,
            "count": 0
           },
           {
            "bin_start": 0,
            "bin_end": 0.10000000000000009,
            "count": 5
           },
           {
            "bin_start": 0.10000000000000009,
            "bin_end": 0.20000000000000007,
            "count": 0
           },
           {
            "bin_start": 0.20000000000000007,
            "bin_end": 0.30000000000000004,
            "count": 0
           },
           {
            "bin_start": 0.30000000000000004,
            "bin_end": 0.4,
            "count": 0
           },
           {
            "bin_start": 0.4,
            "bin_end": 0.5,
            "count": 0
           }
          ]
         }
        },
        {
         "name": "2013-07",
         "dtype": "float64",
         "stats": {
          "unique_count": 1,
          "nan_count": 0,
          "min": "0.0",
          "max": "0.0",
          "histogram": [
           {
            "bin_start": -0.5,
            "bin_end": -0.4,
            "count": 0
           },
           {
            "bin_start": -0.4,
            "bin_end": -0.3,
            "count": 0
           },
           {
            "bin_start": -0.3,
            "bin_end": -0.19999999999999996,
            "count": 0
           },
           {
            "bin_start": -0.19999999999999996,
            "bin_end": -0.09999999999999998,
            "count": 0
           },
           {
            "bin_start": -0.09999999999999998,
            "bin_end": 0,
            "count": 0
           },
           {
            "bin_start": 0,
            "bin_end": 0.10000000000000009,
            "count": 5
           },
           {
            "bin_start": 0.10000000000000009,
            "bin_end": 0.20000000000000007,
            "count": 0
           },
           {
            "bin_start": 0.20000000000000007,
            "bin_end": 0.30000000000000004,
            "count": 0
           },
           {
            "bin_start": 0.30000000000000004,
            "bin_end": 0.4,
            "count": 0
           },
           {
            "bin_start": 0.4,
            "bin_end": 0.5,
            "count": 0
           }
          ]
         }
        },
        {
         "name": "2013-08",
         "dtype": "float64",
         "stats": {
          "unique_count": 1,
          "nan_count": 0,
          "min": "0.0",
          "max": "0.0",
          "histogram": [
           {
            "bin_start": -0.5,
            "bin_end": -0.4,
            "count": 0
           },
           {
            "bin_start": -0.4,
            "bin_end": -0.3,
            "count": 0
           },
           {
            "bin_start": -0.3,
            "bin_end": -0.19999999999999996,
            "count": 0
           },
           {
            "bin_start": -0.19999999999999996,
            "bin_end": -0.09999999999999998,
            "count": 0
           },
           {
            "bin_start": -0.09999999999999998,
            "bin_end": 0,
            "count": 0
           },
           {
            "bin_start": 0,
            "bin_end": 0.10000000000000009,
            "count": 5
           },
           {
            "bin_start": 0.10000000000000009,
            "bin_end": 0.20000000000000007,
            "count": 0
           },
           {
            "bin_start": 0.20000000000000007,
            "bin_end": 0.30000000000000004,
            "count": 0
           },
           {
            "bin_start": 0.30000000000000004,
            "bin_end": 0.4,
            "count": 0
           },
           {
            "bin_start": 0.4,
            "bin_end": 0.5,
            "count": 0
           }
          ]
         }
        },
        {
         "name": "2013-09",
         "dtype": "float64",
         "stats": {
          "unique_count": 1,
          "nan_count": 0,
          "min": "0.0",
          "max": "0.0",
          "histogram": [
           {
            "bin_start": -0.5,
            "bin_end": -0.4,
            "count": 0
           },
           {
            "bin_start": -0.4,
            "bin_end": -0.3,
            "count": 0
           },
           {
            "bin_start": -0.3,
            "bin_end": -0.19999999999999996,
            "count": 0
           },
           {
            "bin_start": -0.19999999999999996,
            "bin_end": -0.09999999999999998,
            "count": 0
           },
           {
            "bin_start": -0.09999999999999998,
            "bin_end": 0,
            "count": 0
           },
           {
            "bin_start": 0,
            "bin_end": 0.10000000000000009,
            "count": 5
           },
           {
            "bin_start": 0.10000000000000009,
            "bin_end": 0.20000000000000007,
            "count": 0
           },
           {
            "bin_start": 0.20000000000000007,
            "bin_end": 0.30000000000000004,
            "count": 0
           },
           {
            "bin_start": 0.30000000000000004,
            "bin_end": 0.4,
            "count": 0
           },
           {
            "bin_start": 0.4,
            "bin_end": 0.5,
            "count": 0
           }
          ]
         }
        },
        {
         "name": "2013-10",
         "dtype": "float64",
         "stats": {
          "unique_count": 1,
          "nan_count": 0,
          "min": "0.0",
          "max": "0.0",
          "histogram": [
           {
            "bin_start": -0.5,
            "bin_end": -0.4,
            "count": 0
           },
           {
            "bin_start": -0.4,
            "bin_end": -0.3,
            "count": 0
           },
           {
            "bin_start": -0.3,
            "bin_end": -0.19999999999999996,
            "count": 0
           },
           {
            "bin_start": -0.19999999999999996,
            "bin_end": -0.09999999999999998,
            "count": 0
           },
           {
            "bin_start": -0.09999999999999998,
            "bin_end": 0,
            "count": 0
           },
           {
            "bin_start": 0,
            "bin_end": 0.10000000000000009,
            "count": 5
           },
           {
            "bin_start": 0.10000000000000009,
            "bin_end": 0.20000000000000007,
            "count": 0
           },
           {
            "bin_start": 0.20000000000000007,
            "bin_end": 0.30000000000000004,
            "count": 0
           },
           {
            "bin_start": 0.30000000000000004,
            "bin_end": 0.4,
            "count": 0
           },
           {
            "bin_start": 0.4,
            "bin_end": 0.5,
            "count": 0
           }
          ]
         }
        },
        {
         "name": "2013-11",
         "dtype": "float64",
         "stats": {
          "unique_count": 1,
          "nan_count": 0,
          "min": "0.0",
          "max": "0.0",
          "histogram": [
           {
            "bin_start": -0.5,
            "bin_end": -0.4,
            "count": 0
           },
           {
            "bin_start": -0.4,
            "bin_end": -0.3,
            "count": 0
           },
           {
            "bin_start": -0.3,
            "bin_end": -0.19999999999999996,
            "count": 0
           },
           {
            "bin_start": -0.19999999999999996,
            "bin_end": -0.09999999999999998,
            "count": 0
           },
           {
            "bin_start": -0.09999999999999998,
            "bin_end": 0,
            "count": 0
           },
           {
            "bin_start": 0,
            "bin_end": 0.10000000000000009,
            "count": 5
           },
           {
            "bin_start": 0.10000000000000009,
            "bin_end": 0.20000000000000007,
            "count": 0
           },
           {
            "bin_start": 0.20000000000000007,
            "bin_end": 0.30000000000000004,
            "count": 0
           },
           {
            "bin_start": 0.30000000000000004,
            "bin_end": 0.4,
            "count": 0
           },
           {
            "bin_start": 0.4,
            "bin_end": 0.5,
            "count": 0
           }
          ]
         }
        },
        {
         "name": "2013-12",
         "dtype": "float64",
         "stats": {
          "unique_count": 1,
          "nan_count": 0,
          "min": "0.0",
          "max": "0.0",
          "histogram": [
           {
            "bin_start": -0.5,
            "bin_end": -0.4,
            "count": 0
           },
           {
            "bin_start": -0.4,
            "bin_end": -0.3,
            "count": 0
           },
           {
            "bin_start": -0.3,
            "bin_end": -0.19999999999999996,
            "count": 0
           },
           {
            "bin_start": -0.19999999999999996,
            "bin_end": -0.09999999999999998,
            "count": 0
           },
           {
            "bin_start": -0.09999999999999998,
            "bin_end": 0,
            "count": 0
           },
           {
            "bin_start": 0,
            "bin_end": 0.10000000000000009,
            "count": 5
           },
           {
            "bin_start": 0.10000000000000009,
            "bin_end": 0.20000000000000007,
            "count": 0
           },
           {
            "bin_start": 0.20000000000000007,
            "bin_end": 0.30000000000000004,
            "count": 0
           },
           {
            "bin_start": 0.30000000000000004,
            "bin_end": 0.4,
            "count": 0
           },
           {
            "bin_start": 0.4,
            "bin_end": 0.5,
            "count": 0
           }
          ]
         }
        },
        {
         "name": "2014-01",
         "dtype": "float64",
         "stats": {
          "unique_count": 1,
          "nan_count": 0,
          "min": "0.0",
          "max": "0.0",
          "histogram": [
           {
            "bin_start": -0.5,
            "bin_end": -0.4,
            "count": 0
           },
           {
            "bin_start": -0.4,
            "bin_end": -0.3,
            "count": 0
           },
           {
            "bin_start": -0.3,
            "bin_end": -0.19999999999999996,
            "count": 0
           },
           {
            "bin_start": -0.19999999999999996,
            "bin_end": -0.09999999999999998,
            "count": 0
           },
           {
            "bin_start": -0.09999999999999998,
            "bin_end": 0,
            "count": 0
           },
           {
            "bin_start": 0,
            "bin_end": 0.10000000000000009,
            "count": 5
           },
           {
            "bin_start": 0.10000000000000009,
            "bin_end": 0.20000000000000007,
            "count": 0
           },
           {
            "bin_start": 0.20000000000000007,
            "bin_end": 0.30000000000000004,
            "count": 0
           },
           {
            "bin_start": 0.30000000000000004,
            "bin_end": 0.4,
            "count": 0
           },
           {
            "bin_start": 0.4,
            "bin_end": 0.5,
            "count": 0
           }
          ]
         }
        },
        {
         "name": "2014-02",
         "dtype": "float64",
         "stats": {
          "unique_count": 1,
          "nan_count": 0,
          "min": "0.0",
          "max": "0.0",
          "histogram": [
           {
            "bin_start": -0.5,
            "bin_end": -0.4,
            "count": 0
           },
           {
            "bin_start": -0.4,
            "bin_end": -0.3,
            "count": 0
           },
           {
            "bin_start": -0.3,
            "bin_end": -0.19999999999999996,
            "count": 0
           },
           {
            "bin_start": -0.19999999999999996,
            "bin_end": -0.09999999999999998,
            "count": 0
           },
           {
            "bin_start": -0.09999999999999998,
            "bin_end": 0,
            "count": 0
           },
           {
            "bin_start": 0,
            "bin_end": 0.10000000000000009,
            "count": 5
           },
           {
            "bin_start": 0.10000000000000009,
            "bin_end": 0.20000000000000007,
            "count": 0
           },
           {
            "bin_start": 0.20000000000000007,
            "bin_end": 0.30000000000000004,
            "count": 0
           },
           {
            "bin_start": 0.30000000000000004,
            "bin_end": 0.4,
            "count": 0
           },
           {
            "bin_start": 0.4,
            "bin_end": 0.5,
            "count": 0
           }
          ]
         }
        },
        {
         "name": "2014-03",
         "dtype": "float64",
         "stats": {
          "unique_count": 1,
          "nan_count": 0,
          "min": "0.0",
          "max": "0.0",
          "histogram": [
           {
            "bin_start": -0.5,
            "bin_end": -0.4,
            "count": 0
           },
           {
            "bin_start": -0.4,
            "bin_end": -0.3,
            "count": 0
           },
           {
            "bin_start": -0.3,
            "bin_end": -0.19999999999999996,
            "count": 0
           },
           {
            "bin_start": -0.19999999999999996,
            "bin_end": -0.09999999999999998,
            "count": 0
           },
           {
            "bin_start": -0.09999999999999998,
            "bin_end": 0,
            "count": 0
           },
           {
            "bin_start": 0,
            "bin_end": 0.10000000000000009,
            "count": 5
           },
           {
            "bin_start": 0.10000000000000009,
            "bin_end": 0.20000000000000007,
            "count": 0
           },
           {
            "bin_start": 0.20000000000000007,
            "bin_end": 0.30000000000000004,
            "count": 0
           },
           {
            "bin_start": 0.30000000000000004,
            "bin_end": 0.4,
            "count": 0
           },
           {
            "bin_start": 0.4,
            "bin_end": 0.5,
            "count": 0
           }
          ]
         }
        },
        {
         "name": "2014-04",
         "dtype": "float64",
         "stats": {
          "unique_count": 1,
          "nan_count": 0,
          "min": "0.0",
          "max": "0.0",
          "histogram": [
           {
            "bin_start": -0.5,
            "bin_end": -0.4,
            "count": 0
           },
           {
            "bin_start": -0.4,
            "bin_end": -0.3,
            "count": 0
           },
           {
            "bin_start": -0.3,
            "bin_end": -0.19999999999999996,
            "count": 0
           },
           {
            "bin_start": -0.19999999999999996,
            "bin_end": -0.09999999999999998,
            "count": 0
           },
           {
            "bin_start": -0.09999999999999998,
            "bin_end": 0,
            "count": 0
           },
           {
            "bin_start": 0,
            "bin_end": 0.10000000000000009,
            "count": 5
           },
           {
            "bin_start": 0.10000000000000009,
            "bin_end": 0.20000000000000007,
            "count": 0
           },
           {
            "bin_start": 0.20000000000000007,
            "bin_end": 0.30000000000000004,
            "count": 0
           },
           {
            "bin_start": 0.30000000000000004,
            "bin_end": 0.4,
            "count": 0
           },
           {
            "bin_start": 0.4,
            "bin_end": 0.5,
            "count": 0
           }
          ]
         }
        },
        {
         "name": "2014-05",
         "dtype": "float64",
         "stats": {
          "unique_count": 1,
          "nan_count": 0,
          "min": "0.0",
          "max": "0.0",
          "histogram": [
           {
            "bin_start": -0.5,
            "bin_end": -0.4,
            "count": 0
           },
           {
            "bin_start": -0.4,
            "bin_end": -0.3,
            "count": 0
           },
           {
            "bin_start": -0.3,
            "bin_end": -0.19999999999999996,
            "count": 0
           },
           {
            "bin_start": -0.19999999999999996,
            "bin_end": -0.09999999999999998,
            "count": 0
           },
           {
            "bin_start": -0.09999999999999998,
            "bin_end": 0,
            "count": 0
           },
           {
            "bin_start": 0,
            "bin_end": 0.10000000000000009,
            "count": 5
           },
           {
            "bin_start": 0.10000000000000009,
            "bin_end": 0.20000000000000007,
            "count": 0
           },
           {
            "bin_start": 0.20000000000000007,
            "bin_end": 0.30000000000000004,
            "count": 0
           },
           {
            "bin_start": 0.30000000000000004,
            "bin_end": 0.4,
            "count": 0
           },
           {
            "bin_start": 0.4,
            "bin_end": 0.5,
            "count": 0
           }
          ]
         }
        },
        {
         "name": "2014-06",
         "dtype": "float64",
         "stats": {
          "unique_count": 1,
          "nan_count": 0,
          "min": "0.0",
          "max": "0.0",
          "histogram": [
           {
            "bin_start": -0.5,
            "bin_end": -0.4,
            "count": 0
           },
           {
            "bin_start": -0.4,
            "bin_end": -0.3,
            "count": 0
           },
           {
            "bin_start": -0.3,
            "bin_end": -0.19999999999999996,
            "count": 0
           },
           {
            "bin_start": -0.19999999999999996,
            "bin_end": -0.09999999999999998,
            "count": 0
           },
           {
            "bin_start": -0.09999999999999998,
            "bin_end": 0,
            "count": 0
           },
           {
            "bin_start": 0,
            "bin_end": 0.10000000000000009,
            "count": 5
           },
           {
            "bin_start": 0.10000000000000009,
            "bin_end": 0.20000000000000007,
            "count": 0
           },
           {
            "bin_start": 0.20000000000000007,
            "bin_end": 0.30000000000000004,
            "count": 0
           },
           {
            "bin_start": 0.30000000000000004,
            "bin_end": 0.4,
            "count": 0
           },
           {
            "bin_start": 0.4,
            "bin_end": 0.5,
            "count": 0
           }
          ]
         }
        },
        {
         "name": "2014-07",
         "dtype": "float64",
         "stats": {
          "unique_count": 1,
          "nan_count": 0,
          "min": "0.0",
          "max": "0.0",
          "histogram": [
           {
            "bin_start": -0.5,
            "bin_end": -0.4,
            "count": 0
           },
           {
            "bin_start": -0.4,
            "bin_end": -0.3,
            "count": 0
           },
           {
            "bin_start": -0.3,
            "bin_end": -0.19999999999999996,
            "count": 0
           },
           {
            "bin_start": -0.19999999999999996,
            "bin_end": -0.09999999999999998,
            "count": 0
           },
           {
            "bin_start": -0.09999999999999998,
            "bin_end": 0,
            "count": 0
           },
           {
            "bin_start": 0,
            "bin_end": 0.10000000000000009,
            "count": 5
           },
           {
            "bin_start": 0.10000000000000009,
            "bin_end": 0.20000000000000007,
            "count": 0
           },
           {
            "bin_start": 0.20000000000000007,
            "bin_end": 0.30000000000000004,
            "count": 0
           },
           {
            "bin_start": 0.30000000000000004,
            "bin_end": 0.4,
            "count": 0
           },
           {
            "bin_start": 0.4,
            "bin_end": 0.5,
            "count": 0
           }
          ]
         }
        },
        {
         "name": "2014-08",
         "dtype": "float64",
         "stats": {
          "unique_count": 1,
          "nan_count": 0,
          "min": "0.0",
          "max": "0.0",
          "histogram": [
           {
            "bin_start": -0.5,
            "bin_end": -0.4,
            "count": 0
           },
           {
            "bin_start": -0.4,
            "bin_end": -0.3,
            "count": 0
           },
           {
            "bin_start": -0.3,
            "bin_end": -0.19999999999999996,
            "count": 0
           },
           {
            "bin_start": -0.19999999999999996,
            "bin_end": -0.09999999999999998,
            "count": 0
           },
           {
            "bin_start": -0.09999999999999998,
            "bin_end": 0,
            "count": 0
           },
           {
            "bin_start": 0,
            "bin_end": 0.10000000000000009,
            "count": 5
           },
           {
            "bin_start": 0.10000000000000009,
            "bin_end": 0.20000000000000007,
            "count": 0
           },
           {
            "bin_start": 0.20000000000000007,
            "bin_end": 0.30000000000000004,
            "count": 0
           },
           {
            "bin_start": 0.30000000000000004,
            "bin_end": 0.4,
            "count": 0
           },
           {
            "bin_start": 0.4,
            "bin_end": 0.5,
            "count": 0
           }
          ]
         }
        },
        {
         "name": "2014-09",
         "dtype": "float64",
         "stats": {
          "unique_count": 2,
          "nan_count": 0,
          "min": "0.0",
          "max": "1.0",
          "histogram": [
           {
            "bin_start": 0,
            "bin_end": 0.1,
            "count": 4
           },
           {
            "bin_start": 0.1,
            "bin_end": 0.2,
            "count": 0
           },
           {
            "bin_start": 0.2,
            "bin_end": 0.30000000000000004,
            "count": 0
           },
           {
            "bin_start": 0.30000000000000004,
            "bin_end": 0.4,
            "count": 0
           },
           {
            "bin_start": 0.4,
            "bin_end": 0.5,
            "count": 0
           },
           {
            "bin_start": 0.5,
            "bin_end": 0.6000000000000001,
            "count": 0
           },
           {
            "bin_start": 0.6000000000000001,
            "bin_end": 0.7000000000000001,
            "count": 0
           },
           {
            "bin_start": 0.7000000000000001,
            "bin_end": 0.8,
            "count": 0
           },
           {
            "bin_start": 0.8,
            "bin_end": 0.9,
            "count": 0
           },
           {
            "bin_start": 0.9,
            "bin_end": 1,
            "count": 1
           }
          ]
         }
        },
        {
         "name": "2014-10",
         "dtype": "float64",
         "stats": {
          "unique_count": 1,
          "nan_count": 0,
          "min": "0.0",
          "max": "0.0",
          "histogram": [
           {
            "bin_start": -0.5,
            "bin_end": -0.4,
            "count": 0
           },
           {
            "bin_start": -0.4,
            "bin_end": -0.3,
            "count": 0
           },
           {
            "bin_start": -0.3,
            "bin_end": -0.19999999999999996,
            "count": 0
           },
           {
            "bin_start": -0.19999999999999996,
            "bin_end": -0.09999999999999998,
            "count": 0
           },
           {
            "bin_start": -0.09999999999999998,
            "bin_end": 0,
            "count": 0
           },
           {
            "bin_start": 0,
            "bin_end": 0.10000000000000009,
            "count": 5
           },
           {
            "bin_start": 0.10000000000000009,
            "bin_end": 0.20000000000000007,
            "count": 0
           },
           {
            "bin_start": 0.20000000000000007,
            "bin_end": 0.30000000000000004,
            "count": 0
           },
           {
            "bin_start": 0.30000000000000004,
            "bin_end": 0.4,
            "count": 0
           },
           {
            "bin_start": 0.4,
            "bin_end": 0.5,
            "count": 0
           }
          ]
         }
        },
        {
         "name": "2014-11",
         "dtype": "float64",
         "stats": {
          "unique_count": 2,
          "nan_count": 0,
          "min": "0.0",
          "max": "1.0",
          "histogram": [
           {
            "bin_start": 0,
            "bin_end": 0.1,
            "count": 4
           },
           {
            "bin_start": 0.1,
            "bin_end": 0.2,
            "count": 0
           },
           {
            "bin_start": 0.2,
            "bin_end": 0.30000000000000004,
            "count": 0
           },
           {
            "bin_start": 0.30000000000000004,
            "bin_end": 0.4,
            "count": 0
           },
           {
            "bin_start": 0.4,
            "bin_end": 0.5,
            "count": 0
           },
           {
            "bin_start": 0.5,
            "bin_end": 0.6000000000000001,
            "count": 0
           },
           {
            "bin_start": 0.6000000000000001,
            "bin_end": 0.7000000000000001,
            "count": 0
           },
           {
            "bin_start": 0.7000000000000001,
            "bin_end": 0.8,
            "count": 0
           },
           {
            "bin_start": 0.8,
            "bin_end": 0.9,
            "count": 0
           },
           {
            "bin_start": 0.9,
            "bin_end": 1,
            "count": 1
           }
          ]
         }
        },
        {
         "name": "2014-12",
         "dtype": "float64",
         "stats": {
          "unique_count": 2,
          "nan_count": 0,
          "min": "0.0",
          "max": "2.0",
          "histogram": [
           {
            "bin_start": 0,
            "bin_end": 0.2,
            "count": 4
           },
           {
            "bin_start": 0.2,
            "bin_end": 0.4,
            "count": 0
           },
           {
            "bin_start": 0.4,
            "bin_end": 0.6000000000000001,
            "count": 0
           },
           {
            "bin_start": 0.6000000000000001,
            "bin_end": 0.8,
            "count": 0
           },
           {
            "bin_start": 0.8,
            "bin_end": 1,
            "count": 0
           },
           {
            "bin_start": 1,
            "bin_end": 1.2000000000000002,
            "count": 0
           },
           {
            "bin_start": 1.2000000000000002,
            "bin_end": 1.4000000000000001,
            "count": 0
           },
           {
            "bin_start": 1.4000000000000001,
            "bin_end": 1.6,
            "count": 0
           },
           {
            "bin_start": 1.6,
            "bin_end": 1.8,
            "count": 0
           },
           {
            "bin_start": 1.8,
            "bin_end": 2,
            "count": 1
           }
          ]
         }
        },
        {
         "name": "2015-01",
         "dtype": "float64",
         "stats": {
          "unique_count": 2,
          "nan_count": 0,
          "min": "0.0",
          "max": "2.0",
          "histogram": [
           {
            "bin_start": 0,
            "bin_end": 0.2,
            "count": 4
           },
           {
            "bin_start": 0.2,
            "bin_end": 0.4,
            "count": 0
           },
           {
            "bin_start": 0.4,
            "bin_end": 0.6000000000000001,
            "count": 0
           },
           {
            "bin_start": 0.6000000000000001,
            "bin_end": 0.8,
            "count": 0
           },
           {
            "bin_start": 0.8,
            "bin_end": 1,
            "count": 0
           },
           {
            "bin_start": 1,
            "bin_end": 1.2000000000000002,
            "count": 0
           },
           {
            "bin_start": 1.2000000000000002,
            "bin_end": 1.4000000000000001,
            "count": 0
           },
           {
            "bin_start": 1.4000000000000001,
            "bin_end": 1.6,
            "count": 0
           },
           {
            "bin_start": 1.6,
            "bin_end": 1.8,
            "count": 0
           },
           {
            "bin_start": 1.8,
            "bin_end": 2,
            "count": 1
           }
          ]
         }
        },
        {
         "name": "2015-02",
         "dtype": "float64",
         "stats": {
          "unique_count": 1,
          "nan_count": 0,
          "min": "0.0",
          "max": "0.0",
          "histogram": [
           {
            "bin_start": -0.5,
            "bin_end": -0.4,
            "count": 0
           },
           {
            "bin_start": -0.4,
            "bin_end": -0.3,
            "count": 0
           },
           {
            "bin_start": -0.3,
            "bin_end": -0.19999999999999996,
            "count": 0
           },
           {
            "bin_start": -0.19999999999999996,
            "bin_end": -0.09999999999999998,
            "count": 0
           },
           {
            "bin_start": -0.09999999999999998,
            "bin_end": 0,
            "count": 0
           },
           {
            "bin_start": 0,
            "bin_end": 0.10000000000000009,
            "count": 5
           },
           {
            "bin_start": 0.10000000000000009,
            "bin_end": 0.20000000000000007,
            "count": 0
           },
           {
            "bin_start": 0.20000000000000007,
            "bin_end": 0.30000000000000004,
            "count": 0
           },
           {
            "bin_start": 0.30000000000000004,
            "bin_end": 0.4,
            "count": 0
           },
           {
            "bin_start": 0.4,
            "bin_end": 0.5,
            "count": 0
           }
          ]
         }
        },
        {
         "name": "2015-03",
         "dtype": "float64",
         "stats": {
          "unique_count": 1,
          "nan_count": 0,
          "min": "0.0",
          "max": "0.0",
          "histogram": [
           {
            "bin_start": -0.5,
            "bin_end": -0.4,
            "count": 0
           },
           {
            "bin_start": -0.4,
            "bin_end": -0.3,
            "count": 0
           },
           {
            "bin_start": -0.3,
            "bin_end": -0.19999999999999996,
            "count": 0
           },
           {
            "bin_start": -0.19999999999999996,
            "bin_end": -0.09999999999999998,
            "count": 0
           },
           {
            "bin_start": -0.09999999999999998,
            "bin_end": 0,
            "count": 0
           },
           {
            "bin_start": 0,
            "bin_end": 0.10000000000000009,
            "count": 5
           },
           {
            "bin_start": 0.10000000000000009,
            "bin_end": 0.20000000000000007,
            "count": 0
           },
           {
            "bin_start": 0.20000000000000007,
            "bin_end": 0.30000000000000004,
            "count": 0
           },
           {
            "bin_start": 0.30000000000000004,
            "bin_end": 0.4,
            "count": 0
           },
           {
            "bin_start": 0.4,
            "bin_end": 0.5,
            "count": 0
           }
          ]
         }
        },
        {
         "name": "2015-04",
         "dtype": "float64",
         "stats": {
          "unique_count": 1,
          "nan_count": 0,
          "min": "0.0",
          "max": "0.0",
          "histogram": [
           {
            "bin_start": -0.5,
            "bin_end": -0.4,
            "count": 0
           },
           {
            "bin_start": -0.4,
            "bin_end": -0.3,
            "count": 0
           },
           {
            "bin_start": -0.3,
            "bin_end": -0.19999999999999996,
            "count": 0
           },
           {
            "bin_start": -0.19999999999999996,
            "bin_end": -0.09999999999999998,
            "count": 0
           },
           {
            "bin_start": -0.09999999999999998,
            "bin_end": 0,
            "count": 0
           },
           {
            "bin_start": 0,
            "bin_end": 0.10000000000000009,
            "count": 5
           },
           {
            "bin_start": 0.10000000000000009,
            "bin_end": 0.20000000000000007,
            "count": 0
           },
           {
            "bin_start": 0.20000000000000007,
            "bin_end": 0.30000000000000004,
            "count": 0
           },
           {
            "bin_start": 0.30000000000000004,
            "bin_end": 0.4,
            "count": 0
           },
           {
            "bin_start": 0.4,
            "bin_end": 0.5,
            "count": 0
           }
          ]
         }
        },
        {
         "name": "2015-05",
         "dtype": "float64",
         "stats": {
          "unique_count": 3,
          "nan_count": 0,
          "min": "0.0",
          "max": "3.0",
          "histogram": [
           {
            "bin_start": 0,
            "bin_end": 0.3,
            "count": 3
           },
           {
            "bin_start": 0.3,
            "bin_end": 0.6,
            "count": 0
           },
           {
            "bin_start": 0.6,
            "bin_end": 0.8999999999999999,
            "count": 0
           },
           {
            "bin_start": 0.8999999999999999,
            "bin_end": 1.2,
            "count": 1
           },
           {
            "bin_start": 1.2,
            "bin_end": 1.5,
            "count": 0
           },
           {
            "bin_start": 1.5,
            "bin_end": 1.7999999999999998,
            "count": 0
           },
           {
            "bin_start": 1.7999999999999998,
            "bin_end": 2.1,
            "count": 0
           },
           {
            "bin_start": 2.1,
            "bin_end": 2.4,
            "count": 0
           },
           {
            "bin_start": 2.4,
            "bin_end": 2.6999999999999997,
            "count": 0
           },
           {
            "bin_start": 2.6999999999999997,
            "bin_end": 3,
            "count": 1
           }
          ]
         }
        },
        {
         "name": "2015-06",
         "dtype": "float64",
         "stats": {
          "unique_count": 3,
          "nan_count": 0,
          "min": "0.0",
          "max": "2.0",
          "histogram": [
           {
            "bin_start": 0,
            "bin_end": 0.2,
            "count": 3
           },
           {
            "bin_start": 0.2,
            "bin_end": 0.4,
            "count": 0
           },
           {
            "bin_start": 0.4,
            "bin_end": 0.6000000000000001,
            "count": 0
           },
           {
            "bin_start": 0.6000000000000001,
            "bin_end": 0.8,
            "count": 0
           },
           {
            "bin_start": 0.8,
            "bin_end": 1,
            "count": 0
           },
           {
            "bin_start": 1,
            "bin_end": 1.2000000000000002,
            "count": 1
           },
           {
            "bin_start": 1.2000000000000002,
            "bin_end": 1.4000000000000001,
            "count": 0
           },
           {
            "bin_start": 1.4000000000000001,
            "bin_end": 1.6,
            "count": 0
           },
           {
            "bin_start": 1.6,
            "bin_end": 1.8,
            "count": 0
           },
           {
            "bin_start": 1.8,
            "bin_end": 2,
            "count": 1
           }
          ]
         }
        },
        {
         "name": "2015-07",
         "dtype": "float64",
         "stats": {
          "unique_count": 2,
          "nan_count": 0,
          "min": "0.0",
          "max": "1.0",
          "histogram": [
           {
            "bin_start": 0,
            "bin_end": 0.1,
            "count": 4
           },
           {
            "bin_start": 0.1,
            "bin_end": 0.2,
            "count": 0
           },
           {
            "bin_start": 0.2,
            "bin_end": 0.30000000000000004,
            "count": 0
           },
           {
            "bin_start": 0.30000000000000004,
            "bin_end": 0.4,
            "count": 0
           },
           {
            "bin_start": 0.4,
            "bin_end": 0.5,
            "count": 0
           },
           {
            "bin_start": 0.5,
            "bin_end": 0.6000000000000001,
            "count": 0
           },
           {
            "bin_start": 0.6000000000000001,
            "bin_end": 0.7000000000000001,
            "count": 0
           },
           {
            "bin_start": 0.7000000000000001,
            "bin_end": 0.8,
            "count": 0
           },
           {
            "bin_start": 0.8,
            "bin_end": 0.9,
            "count": 0
           },
           {
            "bin_start": 0.9,
            "bin_end": 1,
            "count": 1
           }
          ]
         }
        },
        {
         "name": "2015-08",
         "dtype": "float64",
         "stats": {
          "unique_count": 3,
          "nan_count": 0,
          "min": "0.0",
          "max": "3.0",
          "histogram": [
           {
            "bin_start": 0,
            "bin_end": 0.3,
            "count": 2
           },
           {
            "bin_start": 0.3,
            "bin_end": 0.6,
            "count": 0
           },
           {
            "bin_start": 0.6,
            "bin_end": 0.8999999999999999,
            "count": 0
           },
           {
            "bin_start": 0.8999999999999999,
            "bin_end": 1.2,
            "count": 2
           },
           {
            "bin_start": 1.2,
            "bin_end": 1.5,
            "count": 0
           },
           {
            "bin_start": 1.5,
            "bin_end": 1.7999999999999998,
            "count": 0
           },
           {
            "bin_start": 1.7999999999999998,
            "bin_end": 2.1,
            "count": 0
           },
           {
            "bin_start": 2.1,
            "bin_end": 2.4,
            "count": 0
           },
           {
            "bin_start": 2.4,
            "bin_end": 2.6999999999999997,
            "count": 0
           },
           {
            "bin_start": 2.6999999999999997,
            "bin_end": 3,
            "count": 1
           }
          ]
         }
        },
        {
         "name": "2015-09",
         "dtype": "float64",
         "stats": {
          "unique_count": 3,
          "nan_count": 0,
          "min": "0.0",
          "max": "3.0",
          "histogram": [
           {
            "bin_start": 0,
            "bin_end": 0.3,
            "count": 3
           },
           {
            "bin_start": 0.3,
            "bin_end": 0.6,
            "count": 0
           },
           {
            "bin_start": 0.6,
            "bin_end": 0.8999999999999999,
            "count": 0
           },
           {
            "bin_start": 0.8999999999999999,
            "bin_end": 1.2,
            "count": 1
           },
           {
            "bin_start": 1.2,
            "bin_end": 1.5,
            "count": 0
           },
           {
            "bin_start": 1.5,
            "bin_end": 1.7999999999999998,
            "count": 0
           },
           {
            "bin_start": 1.7999999999999998,
            "bin_end": 2.1,
            "count": 0
           },
           {
            "bin_start": 2.1,
            "bin_end": 2.4,
            "count": 0
           },
           {
            "bin_start": 2.4,
            "bin_end": 2.6999999999999997,
            "count": 0
           },
           {
            "bin_start": 2.6999999999999997,
            "bin_end": 3,
            "count": 1
           }
          ]
         }
        },
        {
         "name": "2015-10",
         "dtype": "float64",
         "stats": {
          "unique_count": 2,
          "nan_count": 0,
          "min": "0.0",
          "max": "1.0",
          "histogram": [
           {
            "bin_start": 0,
            "bin_end": 0.1,
            "count": 4
           },
           {
            "bin_start": 0.1,
            "bin_end": 0.2,
            "count": 0
           },
           {
            "bin_start": 0.2,
            "bin_end": 0.30000000000000004,
            "count": 0
           },
           {
            "bin_start": 0.30000000000000004,
            "bin_end": 0.4,
            "count": 0
           },
           {
            "bin_start": 0.4,
            "bin_end": 0.5,
            "count": 0
           },
           {
            "bin_start": 0.5,
            "bin_end": 0.6000000000000001,
            "count": 0
           },
           {
            "bin_start": 0.6000000000000001,
            "bin_end": 0.7000000000000001,
            "count": 0
           },
           {
            "bin_start": 0.7000000000000001,
            "bin_end": 0.8,
            "count": 0
           },
           {
            "bin_start": 0.8,
            "bin_end": 0.9,
            "count": 0
           },
           {
            "bin_start": 0.9,
            "bin_end": 1,
            "count": 1
           }
          ]
         }
        },
        {
         "name": "_deepnote_index_column",
         "dtype": "int64"
        }
       ],
       "rows_top": [
        {
         "shop_id": 5,
         "item_id": 5037,
         "2013-02": 0,
         "2013-03": 0,
         "2013-04": 0,
         "2013-05": 0,
         "2013-06": 0,
         "2013-07": 0,
         "2013-08": 0,
         "2013-09": 0,
         "2013-10": 0,
         "2013-11": 0,
         "2013-12": 0,
         "2014-01": 0,
         "2014-02": 0,
         "2014-03": 0,
         "2014-04": 0,
         "2014-05": 0,
         "2014-06": 0,
         "2014-07": 0,
         "2014-08": 0,
         "2014-09": 1,
         "2014-10": 0,
         "2014-11": 1,
         "2014-12": 2,
         "2015-01": 2,
         "2015-02": 0,
         "2015-03": 0,
         "2015-04": 0,
         "2015-05": 1,
         "2015-06": 1,
         "2015-07": 1,
         "2015-08": 3,
         "2015-09": 1,
         "2015-10": 0,
         "_deepnote_index_column": 0
        },
        {
         "shop_id": 5,
         "item_id": 5320,
         "2013-02": 0,
         "2013-03": 0,
         "2013-04": 0,
         "2013-05": 0,
         "2013-06": 0,
         "2013-07": 0,
         "2013-08": 0,
         "2013-09": 0,
         "2013-10": 0,
         "2013-11": 0,
         "2013-12": 0,
         "2014-01": 0,
         "2014-02": 0,
         "2014-03": 0,
         "2014-04": 0,
         "2014-05": 0,
         "2014-06": 0,
         "2014-07": 0,
         "2014-08": 0,
         "2014-09": 0,
         "2014-10": 0,
         "2014-11": 0,
         "2014-12": 0,
         "2015-01": 0,
         "2015-02": 0,
         "2015-03": 0,
         "2015-04": 0,
         "2015-05": 0,
         "2015-06": 0,
         "2015-07": 0,
         "2015-08": 0,
         "2015-09": 0,
         "2015-10": 0,
         "_deepnote_index_column": 1
        },
        {
         "shop_id": 5,
         "item_id": 5233,
         "2013-02": 0,
         "2013-03": 0,
         "2013-04": 0,
         "2013-05": 0,
         "2013-06": 0,
         "2013-07": 0,
         "2013-08": 0,
         "2013-09": 0,
         "2013-10": 0,
         "2013-11": 0,
         "2013-12": 0,
         "2014-01": 0,
         "2014-02": 0,
         "2014-03": 0,
         "2014-04": 0,
         "2014-05": 0,
         "2014-06": 0,
         "2014-07": 0,
         "2014-08": 0,
         "2014-09": 0,
         "2014-10": 0,
         "2014-11": 0,
         "2014-12": 0,
         "2015-01": 0,
         "2015-02": 0,
         "2015-03": 0,
         "2015-04": 0,
         "2015-05": 3,
         "2015-06": 2,
         "2015-07": 0,
         "2015-08": 1,
         "2015-09": 3,
         "2015-10": 1,
         "_deepnote_index_column": 2
        },
        {
         "shop_id": 5,
         "item_id": 5232,
         "2013-02": 0,
         "2013-03": 0,
         "2013-04": 0,
         "2013-05": 0,
         "2013-06": 0,
         "2013-07": 0,
         "2013-08": 0,
         "2013-09": 0,
         "2013-10": 0,
         "2013-11": 0,
         "2013-12": 0,
         "2014-01": 0,
         "2014-02": 0,
         "2014-03": 0,
         "2014-04": 0,
         "2014-05": 0,
         "2014-06": 0,
         "2014-07": 0,
         "2014-08": 0,
         "2014-09": 0,
         "2014-10": 0,
         "2014-11": 0,
         "2014-12": 0,
         "2015-01": 0,
         "2015-02": 0,
         "2015-03": 0,
         "2015-04": 0,
         "2015-05": 0,
         "2015-06": 0,
         "2015-07": 0,
         "2015-08": 1,
         "2015-09": 0,
         "2015-10": 0,
         "_deepnote_index_column": 3
        },
        {
         "shop_id": 5,
         "item_id": 5268,
         "2013-02": 0,
         "2013-03": 0,
         "2013-04": 0,
         "2013-05": 0,
         "2013-06": 0,
         "2013-07": 0,
         "2013-08": 0,
         "2013-09": 0,
         "2013-10": 0,
         "2013-11": 0,
         "2013-12": 0,
         "2014-01": 0,
         "2014-02": 0,
         "2014-03": 0,
         "2014-04": 0,
         "2014-05": 0,
         "2014-06": 0,
         "2014-07": 0,
         "2014-08": 0,
         "2014-09": 0,
         "2014-10": 0,
         "2014-11": 0,
         "2014-12": 0,
         "2015-01": 0,
         "2015-02": 0,
         "2015-03": 0,
         "2015-04": 0,
         "2015-05": 0,
         "2015-06": 0,
         "2015-07": 0,
         "2015-08": 0,
         "2015-09": 0,
         "2015-10": 0,
         "_deepnote_index_column": 4
        }
       ],
       "rows_bottom": null
      },
      "text/plain": "   shop_id  item_id  2013-02  2013-03  2013-04  2013-05  2013-06  2013-07  \\\n0        5     5037      0.0      0.0      0.0      0.0      0.0      0.0   \n1        5     5320      0.0      0.0      0.0      0.0      0.0      0.0   \n2        5     5233      0.0      0.0      0.0      0.0      0.0      0.0   \n3        5     5232      0.0      0.0      0.0      0.0      0.0      0.0   \n4        5     5268      0.0      0.0      0.0      0.0      0.0      0.0   \n\n   2013-08  2013-09  ...  2015-01  2015-02  2015-03  2015-04  2015-05  \\\n0      0.0      0.0  ...      2.0      0.0      0.0      0.0      1.0   \n1      0.0      0.0  ...      0.0      0.0      0.0      0.0      0.0   \n2      0.0      0.0  ...      0.0      0.0      0.0      0.0      3.0   \n3      0.0      0.0  ...      0.0      0.0      0.0      0.0      0.0   \n4      0.0      0.0  ...      0.0      0.0      0.0      0.0      0.0   \n\n   2015-06  2015-07  2015-08  2015-09  2015-10  \n0      1.0      1.0      3.0      1.0      0.0  \n1      0.0      0.0      0.0      0.0      0.0  \n2      2.0      0.0      1.0      3.0      1.0  \n3      0.0      0.0      1.0      0.0      0.0  \n4      0.0      0.0      0.0      0.0      0.0  \n\n[5 rows x 35 columns]",
      "text/html": "<div>\n<style scoped>\n    .dataframe tbody tr th:only-of-type {\n        vertical-align: middle;\n    }\n\n    .dataframe tbody tr th {\n        vertical-align: top;\n    }\n\n    .dataframe thead th {\n        text-align: right;\n    }\n</style>\n<table border=\"1\" class=\"dataframe\">\n  <thead>\n    <tr style=\"text-align: right;\">\n      <th></th>\n      <th>shop_id</th>\n      <th>item_id</th>\n      <th>2013-02</th>\n      <th>2013-03</th>\n      <th>2013-04</th>\n      <th>2013-05</th>\n      <th>2013-06</th>\n      <th>2013-07</th>\n      <th>2013-08</th>\n      <th>2013-09</th>\n      <th>...</th>\n      <th>2015-01</th>\n      <th>2015-02</th>\n      <th>2015-03</th>\n      <th>2015-04</th>\n      <th>2015-05</th>\n      <th>2015-06</th>\n      <th>2015-07</th>\n      <th>2015-08</th>\n      <th>2015-09</th>\n      <th>2015-10</th>\n    </tr>\n  </thead>\n  <tbody>\n    <tr>\n      <th>0</th>\n      <td>5</td>\n      <td>5037</td>\n      <td>0.0</td>\n      <td>0.0</td>\n      <td>0.0</td>\n      <td>0.0</td>\n      <td>0.0</td>\n      <td>0.0</td>\n      <td>0.0</td>\n      <td>0.0</td>\n      <td>...</td>\n      <td>2.0</td>\n      <td>0.0</td>\n      <td>0.0</td>\n      <td>0.0</td>\n      <td>1.0</td>\n      <td>1.0</td>\n      <td>1.0</td>\n      <td>3.0</td>\n      <td>1.0</td>\n      <td>0.0</td>\n    </tr>\n    <tr>\n      <th>1</th>\n      <td>5</td>\n      <td>5320</td>\n      <td>0.0</td>\n      <td>0.0</td>\n      <td>0.0</td>\n      <td>0.0</td>\n      <td>0.0</td>\n      <td>0.0</td>\n      <td>0.0</td>\n      <td>0.0</td>\n      <td>...</td>\n      <td>0.0</td>\n      <td>0.0</td>\n      <td>0.0</td>\n      <td>0.0</td>\n      <td>0.0</td>\n      <td>0.0</td>\n      <td>0.0</td>\n      <td>0.0</td>\n      <td>0.0</td>\n      <td>0.0</td>\n    </tr>\n    <tr>\n      <th>2</th>\n      <td>5</td>\n      <td>5233</td>\n      <td>0.0</td>\n      <td>0.0</td>\n      <td>0.0</td>\n      <td>0.0</td>\n      <td>0.0</td>\n      <td>0.0</td>\n      <td>0.0</td>\n      <td>0.0</td>\n      <td>...</td>\n      <td>0.0</td>\n      <td>0.0</td>\n      <td>0.0</td>\n      <td>0.0</td>\n      <td>3.0</td>\n      <td>2.0</td>\n      <td>0.0</td>\n      <td>1.0</td>\n      <td>3.0</td>\n      <td>1.0</td>\n    </tr>\n    <tr>\n      <th>3</th>\n      <td>5</td>\n      <td>5232</td>\n      <td>0.0</td>\n      <td>0.0</td>\n      <td>0.0</td>\n      <td>0.0</td>\n      <td>0.0</td>\n      <td>0.0</td>\n      <td>0.0</td>\n      <td>0.0</td>\n      <td>...</td>\n      <td>0.0</td>\n      <td>0.0</td>\n      <td>0.0</td>\n      <td>0.0</td>\n      <td>0.0</td>\n      <td>0.0</td>\n      <td>0.0</td>\n      <td>1.0</td>\n      <td>0.0</td>\n      <td>0.0</td>\n    </tr>\n    <tr>\n      <th>4</th>\n      <td>5</td>\n      <td>5268</td>\n      <td>0.0</td>\n      <td>0.0</td>\n      <td>0.0</td>\n      <td>0.0</td>\n      <td>0.0</td>\n      <td>0.0</td>\n      <td>0.0</td>\n      <td>0.0</td>\n      <td>...</td>\n      <td>0.0</td>\n      <td>0.0</td>\n      <td>0.0</td>\n      <td>0.0</td>\n      <td>0.0</td>\n      <td>0.0</td>\n      <td>0.0</td>\n      <td>0.0</td>\n      <td>0.0</td>\n      <td>0.0</td>\n    </tr>\n  </tbody>\n</table>\n<p>5 rows × 35 columns</p>\n</div>"
     },
     "metadata": {}
    }
   ]
  },
  {
   "cell_type": "code",
   "metadata": {
    "tags": [],
    "cell_id": "00015-ec1fd302-a0e6-4445-b91d-126050ace15e",
    "deepnote_to_be_reexecuted": false,
    "source_hash": "fa7237fd",
    "execution_start": 1620652684552,
    "execution_millis": 141,
    "deepnote_cell_type": "code"
   },
   "source": "Y_train = df['2015-10'].values\nX_train = df.drop(['2015-10'], axis = 1)\nX_test = df_test\n\nprint(X_train.shape, Y_train.shape)\nprint(X_test.shape)",
   "execution_count": null,
   "outputs": [
    {
     "name": "stdout",
     "text": "(424124, 35) (424124,)\n(214200, 35)\n",
     "output_type": "stream"
    }
   ]
  },
  {
   "cell_type": "code",
   "metadata": {
    "tags": [],
    "cell_id": "00016-897aff13-14a7-4502-a0c8-bf0532ff6c8b",
    "deepnote_to_be_reexecuted": false,
    "source_hash": "cd86e3ff",
    "execution_start": 1620652752581,
    "execution_millis": 152,
    "deepnote_cell_type": "code"
   },
   "source": "x_train, x_test, y_train, y_test = train_test_split( X_train, Y_train, test_size=0.2, random_state=101)\nprint ('Train set:', x_train.shape,  y_train.shape)\nprint ('Test set:', x_test.shape,  y_test.shape)",
   "execution_count": null,
   "outputs": [
    {
     "name": "stdout",
     "text": "Train set: (339299, 35) (339299,)\nTest set: (84825, 35) (84825,)\n",
     "output_type": "stream"
    }
   ]
  },
  {
   "cell_type": "code",
   "metadata": {
    "tags": [],
    "cell_id": "00020-a0bef9c4-0203-4a34-9bc6-1ce6db152883",
    "deepnote_to_be_reexecuted": false,
    "source_hash": "b8341fe1",
    "execution_start": 1620652955373,
    "execution_millis": 334294,
    "deepnote_cell_type": "code"
   },
   "source": "RFR = RandomForestRegressor(n_estimators = 100)\nRFR.fit(x_train,y_train)\n\nprint('Train set mse:', mean_squared_error(y_train, RFR.predict(x_train)))\nprint('Test set mse:', mean_squared_error(y_test, RFR.predict(x_test)))\nprint('Test set score:', RFR.score(x_train,y_train))",
   "execution_count": null,
   "outputs": [
    {
     "name": "stdout",
     "text": "Train set mse: 2.8712348536246783\nTest set mse: 1.612203575596817\nTest set score: 0.8477878922583748\n",
     "output_type": "stream"
    }
   ]
  },
  {
   "cell_type": "code",
   "metadata": {
    "tags": [],
    "cell_id": "00021-4518a3e0-9da6-48a7-a498-5e7d9663898c",
    "deepnote_to_be_reexecuted": false,
    "source_hash": "8e4f5919",
    "execution_start": 1620653423724,
    "execution_millis": 4817,
    "deepnote_cell_type": "code"
   },
   "source": "prediction = RFR.predict(X_test)",
   "execution_count": null,
   "outputs": []
  },
  {
   "cell_type": "code",
   "metadata": {
    "tags": [],
    "cell_id": "00022-dcfe66e4-acfa-4512-baf1-1a7ed10cbbba",
    "deepnote_cell_type": "code"
   },
   "source": "",
   "execution_count": null,
   "outputs": []
  },
  {
   "cell_type": "markdown",
   "source": "<a style='text-decoration:none;line-height:16px;display:flex;color:#5B5B62;padding:10px;justify-content:end;' href='https://deepnote.com?utm_source=created-in-deepnote-cell&projectId=32ebab46-e526-42a3-8966-92f4ff6ef571' target=\"_blank\">\n<img alt='Created in deepnote.com' style='display:inline;max-height:16px;margin:0px;margin-right:7.5px;' src='data:image/svg+xml;base64,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' > </img>\nCreated in <span style='font-weight:600;margin-left:4px;'>Deepnote</span></a>",
   "metadata": {
    "tags": [],
    "created_in_deepnote_cell": true,
    "deepnote_cell_type": "markdown"
   }
  }
 ],
 "nbformat": 4,
 "nbformat_minor": 2,
 "metadata": {
  "orig_nbformat": 2,
  "deepnote": {
   "is_reactive": false
  },
  "deepnote_notebook_id": "f49f27df-2037-457a-9e8f-36f0c1cc0205",
  "deepnote_execution_queue": []
 }
}