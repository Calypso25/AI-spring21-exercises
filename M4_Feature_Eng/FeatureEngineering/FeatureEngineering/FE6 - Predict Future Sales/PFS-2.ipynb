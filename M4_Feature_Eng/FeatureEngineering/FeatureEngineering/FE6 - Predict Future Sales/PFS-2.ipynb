{
 "cells": [
  {
   "cell_type": "code",
   "source": "!pip install xgboost==1.4.1",
   "metadata": {
    "tags": [],
    "cell_id": "00000-fc1ce3ad-888b-4509-a774-b76908a9fb3e",
    "deepnote_to_be_reexecuted": false,
    "source_hash": "296427eb",
    "execution_start": 1620654493969,
    "execution_millis": 10589,
    "deepnote_cell_type": "code"
   },
   "outputs": [
    {
     "name": "stdout",
     "text": "Collecting xgboost==1.4.1\n  Downloading xgboost-1.4.1-py3-none-manylinux2010_x86_64.whl (166.7 MB)\n\u001b[K     |████████████████████████████████| 166.7 MB 114 kB/s \n\u001b[?25hRequirement already satisfied: scipy in /shared-libs/python3.7/py/lib/python3.7/site-packages (from xgboost==1.4.1) (1.6.3)\nRequirement already satisfied: numpy in /shared-libs/python3.7/py/lib/python3.7/site-packages (from xgboost==1.4.1) (1.19.5)\nInstalling collected packages: xgboost\nSuccessfully installed xgboost-1.4.1\n",
     "output_type": "stream"
    }
   ],
   "execution_count": null
  },
  {
   "cell_type": "code",
   "metadata": {
    "tags": [],
    "cell_id": "00000-fab7a8c4-ee73-49ac-9bf6-7a7712d90607",
    "deepnote_to_be_reexecuted": false,
    "source_hash": "7809550e",
    "execution_start": 1620654507552,
    "execution_millis": 2229,
    "deepnote_cell_type": "code"
   },
   "source": "import numpy as np\nimport pandas as pd\nimport matplotlib.pyplot as plt\nimport seaborn as sns\nimport xgboost as xgb\nimport time\n\nfrom math import sqrt\nfrom numpy import loadtxt\nfrom itertools import product\nfrom tqdm import tqdm\nfrom sklearn import preprocessing\nfrom xgboost import plot_tree\nfrom matplotlib import pyplot\n\nfrom sklearn.model_selection import train_test_split\nfrom sklearn.metrics import accuracy_score\nfrom sklearn.metrics import mean_squared_error\nfrom sklearn.model_selection import KFold\nfrom sklearn.feature_extraction.text import TfidfVectorizer\n\n",
   "outputs": [],
   "execution_count": null
  },
  {
   "cell_type": "code",
   "source": "df_train = pd.read_csv('sales_train.csv')\ndf_items = pd.read_csv('items.csv')\ndf_shops = pd.read_csv('shops.csv')\ndf_categories = pd.read_csv('categories.csv')\ndf_test = pd.read_csv('test.csv')\ndf_sample_submission = pd.read_csv('sample_submission.csv')",
   "metadata": {
    "tags": [],
    "cell_id": "00001-c0ffcad7-6294-4afb-914f-0fdfb2fe870f",
    "deepnote_to_be_reexecuted": false,
    "source_hash": "2ac6331c",
    "execution_start": 1620654561542,
    "execution_millis": 1236,
    "deepnote_cell_type": "code"
   },
   "outputs": [],
   "execution_count": null
  },
  {
   "cell_type": "code",
   "source": "df_train['date'] = pd.to_datetime(df_train['date'],format = '%d.%m.%Y')\ndf_train.sample(10)",
   "metadata": {
    "tags": [],
    "cell_id": "00008-5919d9e4-e390-4099-9a73-0c85c7ac5719",
    "deepnote_to_be_reexecuted": false,
    "source_hash": "c513b5b",
    "execution_start": 1620654576047,
    "execution_millis": 215,
    "deepnote_cell_type": "code"
   },
   "outputs": [
    {
     "output_type": "execute_result",
     "execution_count": 7,
     "data": {
      "application/vnd.deepnote.dataframe.v2+json": {
       "row_count": 10,
       "column_count": 6,
       "columns": [
        {
         "name": "date",
         "dtype": "datetime64[ns]",
         "stats": {
          "unique_count": 10,
          "nan_count": 0,
          "min": "2013-01-26 00:00:00",
          "max": "2015-03-22 00:00:00",
          "histogram": [
           {
            "bin_start": 1359158400000000000,
            "bin_end": 1365940800000000000,
            "count": 1
           },
           {
            "bin_start": 1365940800000000000,
            "bin_end": 1372723200000000000,
            "count": 0
           },
           {
            "bin_start": 1372723200000000000,
            "bin_end": 1379505600000000000,
            "count": 2
           },
           {
            "bin_start": 1379505600000000000,
            "bin_end": 1386288000000000000,
            "count": 2
           },
           {
            "bin_start": 1386288000000000000,
            "bin_end": 1393070400000000000,
            "count": 1
           },
           {
            "bin_start": 1393070400000000000,
            "bin_end": 1399852800000000000,
            "count": 3
           },
           {
            "bin_start": 1399852800000000000,
            "bin_end": 1406635200000000000,
            "count": 0
           },
           {
            "bin_start": 1406635200000000000,
            "bin_end": 1413417600000000000,
            "count": 0
           },
           {
            "bin_start": 1413417600000000000,
            "bin_end": 1420200000000000000,
            "count": 0
           },
           {
            "bin_start": 1420200000000000000,
            "bin_end": 1426982400000000000,
            "count": 1
           }
          ]
         }
        },
        {
         "name": "date_block_num",
         "dtype": "int64",
         "stats": {
          "unique_count": 9,
          "nan_count": 0,
          "min": "0",
          "max": "26",
          "histogram": [
           {
            "bin_start": 0,
            "bin_end": 2.6,
            "count": 1
           },
           {
            "bin_start": 2.6,
            "bin_end": 5.2,
            "count": 0
           },
           {
            "bin_start": 5.2,
            "bin_end": 7.800000000000001,
            "count": 2
           },
           {
            "bin_start": 7.800000000000001,
            "bin_end": 10.4,
            "count": 2
           },
           {
            "bin_start": 10.4,
            "bin_end": 13,
            "count": 1
           },
           {
            "bin_start": 13,
            "bin_end": 15.600000000000001,
            "count": 3
           },
           {
            "bin_start": 15.600000000000001,
            "bin_end": 18.2,
            "count": 0
           },
           {
            "bin_start": 18.2,
            "bin_end": 20.8,
            "count": 0
           },
           {
            "bin_start": 20.8,
            "bin_end": 23.400000000000002,
            "count": 0
           },
           {
            "bin_start": 23.400000000000002,
            "bin_end": 26,
            "count": 1
           }
          ]
         }
        },
        {
         "name": "shop_id",
         "dtype": "int64",
         "stats": {
          "unique_count": 10,
          "nan_count": 0,
          "min": "5",
          "max": "59",
          "histogram": [
           {
            "bin_start": 5,
            "bin_end": 10.4,
            "count": 1
           },
           {
            "bin_start": 10.4,
            "bin_end": 15.8,
            "count": 0
           },
           {
            "bin_start": 15.8,
            "bin_end": 21.200000000000003,
            "count": 3
           },
           {
            "bin_start": 21.200000000000003,
            "bin_end": 26.6,
            "count": 0
           },
           {
            "bin_start": 26.6,
            "bin_end": 32,
            "count": 2
           },
           {
            "bin_start": 32,
            "bin_end": 37.400000000000006,
            "count": 0
           },
           {
            "bin_start": 37.400000000000006,
            "bin_end": 42.800000000000004,
            "count": 0
           },
           {
            "bin_start": 42.800000000000004,
            "bin_end": 48.2,
            "count": 1
           },
           {
            "bin_start": 48.2,
            "bin_end": 53.6,
            "count": 0
           },
           {
            "bin_start": 53.6,
            "bin_end": 59,
            "count": 3
           }
          ]
         }
        },
        {
         "name": "item_id",
         "dtype": "int64",
         "stats": {
          "unique_count": 10,
          "nan_count": 0,
          "min": "32",
          "max": "18474",
          "histogram": [
           {
            "bin_start": 32,
            "bin_end": 1876.2,
            "count": 1
           },
           {
            "bin_start": 1876.2,
            "bin_end": 3720.4,
            "count": 1
           },
           {
            "bin_start": 3720.4,
            "bin_end": 5564.6,
            "count": 1
           },
           {
            "bin_start": 5564.6,
            "bin_end": 7408.8,
            "count": 1
           },
           {
            "bin_start": 7408.8,
            "bin_end": 9253,
            "count": 0
           },
           {
            "bin_start": 9253,
            "bin_end": 11097.2,
            "count": 0
           },
           {
            "bin_start": 11097.2,
            "bin_end": 12941.4,
            "count": 0
           },
           {
            "bin_start": 12941.4,
            "bin_end": 14785.6,
            "count": 2
           },
           {
            "bin_start": 14785.6,
            "bin_end": 16629.8,
            "count": 2
           },
           {
            "bin_start": 16629.8,
            "bin_end": 18474,
            "count": 2
           }
          ]
         }
        },
        {
         "name": "item_price",
         "dtype": "float64",
         "stats": {
          "unique_count": 10,
          "nan_count": 0,
          "min": "30.0",
          "max": "1999.0",
          "histogram": [
           {
            "bin_start": 30,
            "bin_end": 226.9,
            "count": 3
           },
           {
            "bin_start": 226.9,
            "bin_end": 423.8,
            "count": 3
           },
           {
            "bin_start": 423.8,
            "bin_end": 620.7,
            "count": 0
           },
           {
            "bin_start": 620.7,
            "bin_end": 817.6,
            "count": 0
           },
           {
            "bin_start": 817.6,
            "bin_end": 1014.5,
            "count": 1
           },
           {
            "bin_start": 1014.5,
            "bin_end": 1211.4,
            "count": 1
           },
           {
            "bin_start": 1211.4,
            "bin_end": 1408.3,
            "count": 0
           },
           {
            "bin_start": 1408.3,
            "bin_end": 1605.2,
            "count": 1
           },
           {
            "bin_start": 1605.2,
            "bin_end": 1802.1000000000001,
            "count": 0
           },
           {
            "bin_start": 1802.1000000000001,
            "bin_end": 1999,
            "count": 1
           }
          ]
         }
        },
        {
         "name": "item_cnt_day",
         "dtype": "float64",
         "stats": {
          "unique_count": 1,
          "nan_count": 0,
          "min": "1.0",
          "max": "1.0",
          "histogram": [
           {
            "bin_start": 0.5,
            "bin_end": 0.6,
            "count": 0
           },
           {
            "bin_start": 0.6,
            "bin_end": 0.7,
            "count": 0
           },
           {
            "bin_start": 0.7,
            "bin_end": 0.8,
            "count": 0
           },
           {
            "bin_start": 0.8,
            "bin_end": 0.9,
            "count": 0
           },
           {
            "bin_start": 0.9,
            "bin_end": 1,
            "count": 0
           },
           {
            "bin_start": 1,
            "bin_end": 1.1,
            "count": 10
           },
           {
            "bin_start": 1.1,
            "bin_end": 1.2000000000000002,
            "count": 0
           },
           {
            "bin_start": 1.2000000000000002,
            "bin_end": 1.3,
            "count": 0
           },
           {
            "bin_start": 1.3,
            "bin_end": 1.4,
            "count": 0
           },
           {
            "bin_start": 1.4,
            "bin_end": 1.5,
            "count": 0
           }
          ]
         }
        },
        {
         "name": "_deepnote_index_column",
         "dtype": "int64"
        }
       ],
       "rows_top": [
        {
         "date": "2014-03-23T00:00:00.000000",
         "date_block_num": 14,
         "shop_id": 44,
         "item_id": 13354,
         "item_price": 30,
         "item_cnt_day": 1,
         "_deepnote_index_column": 1526760
        },
        {
         "date": "2015-03-22T00:00:00.000000",
         "date_block_num": 26,
         "shop_id": 16,
         "item_id": 32,
         "item_price": 149,
         "item_cnt_day": 1,
         "_deepnote_index_column": 2522837
        },
        {
         "date": "2013-07-20T00:00:00.000000",
         "date_block_num": 6,
         "shop_id": 28,
         "item_id": 13901,
         "item_price": 299,
         "item_cnt_day": 1,
         "_deepnote_index_column": 636153
        },
        {
         "date": "2013-07-08T00:00:00.000000",
         "date_block_num": 6,
         "shop_id": 5,
         "item_id": 6090,
         "item_price": 999,
         "item_cnt_day": 1,
         "_deepnote_index_column": 670779
        },
        {
         "date": "2014-02-23T00:00:00.000000",
         "date_block_num": 13,
         "shop_id": 54,
         "item_id": 2445,
         "item_price": 399.44,
         "item_cnt_day": 1,
         "_deepnote_index_column": 1428517
        },
        {
         "date": "2013-09-26T00:00:00.000000",
         "date_block_num": 8,
         "shop_id": 59,
         "item_id": 18474,
         "item_price": 199,
         "item_cnt_day": 1,
         "_deepnote_index_column": 922457
        },
        {
         "date": "2013-12-28T00:00:00.000000",
         "date_block_num": 11,
         "shop_id": 56,
         "item_id": 15317,
         "item_price": 1599,
         "item_cnt_day": 1,
         "_deepnote_index_column": 1224765
        },
        {
         "date": "2014-04-09T00:00:00.000000",
         "date_block_num": 15,
         "shop_id": 19,
         "item_id": 15229,
         "item_price": 1199,
         "item_cnt_day": 1,
         "_deepnote_index_column": 1569464
        },
        {
         "date": "2013-11-15T00:00:00.000000",
         "date_block_num": 10,
         "shop_id": 21,
         "item_id": 16914,
         "item_price": 249,
         "item_cnt_day": 1,
         "_deepnote_index_column": 1075949
        },
        {
         "date": "2013-01-26T00:00:00.000000",
         "date_block_num": 0,
         "shop_id": 30,
         "item_id": 4811,
         "item_price": 1999,
         "item_cnt_day": 1,
         "_deepnote_index_column": 64948
        }
       ],
       "rows_bottom": null
      },
      "text/plain": "              date  date_block_num  shop_id  item_id  item_price  item_cnt_day\n1526760 2014-03-23              14       44    13354       30.00           1.0\n2522837 2015-03-22              26       16       32      149.00           1.0\n636153  2013-07-20               6       28    13901      299.00           1.0\n670779  2013-07-08               6        5     6090      999.00           1.0\n1428517 2014-02-23              13       54     2445      399.44           1.0\n922457  2013-09-26               8       59    18474      199.00           1.0\n1224765 2013-12-28              11       56    15317     1599.00           1.0\n1569464 2014-04-09              15       19    15229     1199.00           1.0\n1075949 2013-11-15              10       21    16914      249.00           1.0\n64948   2013-01-26               0       30     4811     1999.00           1.0",
      "text/html": "<div>\n<style scoped>\n    .dataframe tbody tr th:only-of-type {\n        vertical-align: middle;\n    }\n\n    .dataframe tbody tr th {\n        vertical-align: top;\n    }\n\n    .dataframe thead th {\n        text-align: right;\n    }\n</style>\n<table border=\"1\" class=\"dataframe\">\n  <thead>\n    <tr style=\"text-align: right;\">\n      <th></th>\n      <th>date</th>\n      <th>date_block_num</th>\n      <th>shop_id</th>\n      <th>item_id</th>\n      <th>item_price</th>\n      <th>item_cnt_day</th>\n    </tr>\n  </thead>\n  <tbody>\n    <tr>\n      <th>1526760</th>\n      <td>2014-03-23</td>\n      <td>14</td>\n      <td>44</td>\n      <td>13354</td>\n      <td>30.00</td>\n      <td>1.0</td>\n    </tr>\n    <tr>\n      <th>2522837</th>\n      <td>2015-03-22</td>\n      <td>26</td>\n      <td>16</td>\n      <td>32</td>\n      <td>149.00</td>\n      <td>1.0</td>\n    </tr>\n    <tr>\n      <th>636153</th>\n      <td>2013-07-20</td>\n      <td>6</td>\n      <td>28</td>\n      <td>13901</td>\n      <td>299.00</td>\n      <td>1.0</td>\n    </tr>\n    <tr>\n      <th>670779</th>\n      <td>2013-07-08</td>\n      <td>6</td>\n      <td>5</td>\n      <td>6090</td>\n      <td>999.00</td>\n      <td>1.0</td>\n    </tr>\n    <tr>\n      <th>1428517</th>\n      <td>2014-02-23</td>\n      <td>13</td>\n      <td>54</td>\n      <td>2445</td>\n      <td>399.44</td>\n      <td>1.0</td>\n    </tr>\n    <tr>\n      <th>922457</th>\n      <td>2013-09-26</td>\n      <td>8</td>\n      <td>59</td>\n      <td>18474</td>\n      <td>199.00</td>\n      <td>1.0</td>\n    </tr>\n    <tr>\n      <th>1224765</th>\n      <td>2013-12-28</td>\n      <td>11</td>\n      <td>56</td>\n      <td>15317</td>\n      <td>1599.00</td>\n      <td>1.0</td>\n    </tr>\n    <tr>\n      <th>1569464</th>\n      <td>2014-04-09</td>\n      <td>15</td>\n      <td>19</td>\n      <td>15229</td>\n      <td>1199.00</td>\n      <td>1.0</td>\n    </tr>\n    <tr>\n      <th>1075949</th>\n      <td>2013-11-15</td>\n      <td>10</td>\n      <td>21</td>\n      <td>16914</td>\n      <td>249.00</td>\n      <td>1.0</td>\n    </tr>\n    <tr>\n      <th>64948</th>\n      <td>2013-01-26</td>\n      <td>0</td>\n      <td>30</td>\n      <td>4811</td>\n      <td>1999.00</td>\n      <td>1.0</td>\n    </tr>\n  </tbody>\n</table>\n</div>"
     },
     "metadata": {}
    }
   ],
   "execution_count": null
  },
  {
   "cell_type": "code",
   "source": "df_train.describe()",
   "metadata": {
    "tags": [],
    "cell_id": "00004-6bf53691-8669-4598-a533-fdada2714471",
    "deepnote_to_be_reexecuted": false,
    "source_hash": "849ce5a8",
    "execution_start": 1620654745970,
    "execution_millis": 458,
    "deepnote_cell_type": "code"
   },
   "outputs": [
    {
     "output_type": "execute_result",
     "execution_count": 11,
     "data": {
      "application/vnd.deepnote.dataframe.v2+json": {
       "row_count": 8,
       "column_count": 5,
       "columns": [
        {
         "name": "date_block_num",
         "dtype": "float64",
         "stats": {
          "unique_count": 8,
          "nan_count": 0,
          "min": "0.0",
          "max": "2935849.0",
          "histogram": [
           {
            "bin_start": 0,
            "bin_end": 293584.9,
            "count": 7
           },
           {
            "bin_start": 293584.9,
            "bin_end": 587169.8,
            "count": 0
           },
           {
            "bin_start": 587169.8,
            "bin_end": 880754.7000000001,
            "count": 0
           },
           {
            "bin_start": 880754.7000000001,
            "bin_end": 1174339.6,
            "count": 0
           },
           {
            "bin_start": 1174339.6,
            "bin_end": 1467924.5,
            "count": 0
           },
           {
            "bin_start": 1467924.5,
            "bin_end": 1761509.4000000001,
            "count": 0
           },
           {
            "bin_start": 1761509.4000000001,
            "bin_end": 2055094.3000000003,
            "count": 0
           },
           {
            "bin_start": 2055094.3000000003,
            "bin_end": 2348679.2,
            "count": 0
           },
           {
            "bin_start": 2348679.2,
            "bin_end": 2642264.1,
            "count": 0
           },
           {
            "bin_start": 2642264.1,
            "bin_end": 2935849,
            "count": 1
           }
          ]
         }
        },
        {
         "name": "shop_id",
         "dtype": "float64",
         "stats": {
          "unique_count": 8,
          "nan_count": 0,
          "min": "0.0",
          "max": "2935849.0",
          "histogram": [
           {
            "bin_start": 0,
            "bin_end": 293584.9,
            "count": 7
           },
           {
            "bin_start": 293584.9,
            "bin_end": 587169.8,
            "count": 0
           },
           {
            "bin_start": 587169.8,
            "bin_end": 880754.7000000001,
            "count": 0
           },
           {
            "bin_start": 880754.7000000001,
            "bin_end": 1174339.6,
            "count": 0
           },
           {
            "bin_start": 1174339.6,
            "bin_end": 1467924.5,
            "count": 0
           },
           {
            "bin_start": 1467924.5,
            "bin_end": 1761509.4000000001,
            "count": 0
           },
           {
            "bin_start": 1761509.4000000001,
            "bin_end": 2055094.3000000003,
            "count": 0
           },
           {
            "bin_start": 2055094.3000000003,
            "bin_end": 2348679.2,
            "count": 0
           },
           {
            "bin_start": 2348679.2,
            "bin_end": 2642264.1,
            "count": 0
           },
           {
            "bin_start": 2642264.1,
            "bin_end": 2935849,
            "count": 1
           }
          ]
         }
        },
        {
         "name": "item_id",
         "dtype": "float64",
         "stats": {
          "unique_count": 8,
          "nan_count": 0,
          "min": "0.0",
          "max": "2935849.0",
          "histogram": [
           {
            "bin_start": 0,
            "bin_end": 293584.9,
            "count": 7
           },
           {
            "bin_start": 293584.9,
            "bin_end": 587169.8,
            "count": 0
           },
           {
            "bin_start": 587169.8,
            "bin_end": 880754.7000000001,
            "count": 0
           },
           {
            "bin_start": 880754.7000000001,
            "bin_end": 1174339.6,
            "count": 0
           },
           {
            "bin_start": 1174339.6,
            "bin_end": 1467924.5,
            "count": 0
           },
           {
            "bin_start": 1467924.5,
            "bin_end": 1761509.4000000001,
            "count": 0
           },
           {
            "bin_start": 1761509.4000000001,
            "bin_end": 2055094.3000000003,
            "count": 0
           },
           {
            "bin_start": 2055094.3000000003,
            "bin_end": 2348679.2,
            "count": 0
           },
           {
            "bin_start": 2348679.2,
            "bin_end": 2642264.1,
            "count": 0
           },
           {
            "bin_start": 2642264.1,
            "bin_end": 2935849,
            "count": 1
           }
          ]
         }
        },
        {
         "name": "item_price",
         "dtype": "float64",
         "stats": {
          "unique_count": 8,
          "nan_count": 0,
          "min": "-1.0",
          "max": "2935849.0",
          "histogram": [
           {
            "bin_start": -1,
            "bin_end": 293584,
            "count": 6
           },
           {
            "bin_start": 293584,
            "bin_end": 587169,
            "count": 1
           },
           {
            "bin_start": 587169,
            "bin_end": 880754,
            "count": 0
           },
           {
            "bin_start": 880754,
            "bin_end": 1174339,
            "count": 0
           },
           {
            "bin_start": 1174339,
            "bin_end": 1467924,
            "count": 0
           },
           {
            "bin_start": 1467924,
            "bin_end": 1761509,
            "count": 0
           },
           {
            "bin_start": 1761509,
            "bin_end": 2055094,
            "count": 0
           },
           {
            "bin_start": 2055094,
            "bin_end": 2348679,
            "count": 0
           },
           {
            "bin_start": 2348679,
            "bin_end": 2642264,
            "count": 0
           },
           {
            "bin_start": 2642264,
            "bin_end": 2935849,
            "count": 1
           }
          ]
         }
        },
        {
         "name": "item_cnt_day",
         "dtype": "float64",
         "stats": {
          "unique_count": 6,
          "nan_count": 0,
          "min": "-22.0",
          "max": "2935849.0",
          "histogram": [
           {
            "bin_start": -22,
            "bin_end": 293565.1,
            "count": 7
           },
           {
            "bin_start": 293565.1,
            "bin_end": 587152.2,
            "count": 0
           },
           {
            "bin_start": 587152.2,
            "bin_end": 880739.2999999999,
            "count": 0
           },
           {
            "bin_start": 880739.2999999999,
            "bin_end": 1174326.4,
            "count": 0
           },
           {
            "bin_start": 1174326.4,
            "bin_end": 1467913.5,
            "count": 0
           },
           {
            "bin_start": 1467913.5,
            "bin_end": 1761500.5999999999,
            "count": 0
           },
           {
            "bin_start": 1761500.5999999999,
            "bin_end": 2055087.6999999997,
            "count": 0
           },
           {
            "bin_start": 2055087.6999999997,
            "bin_end": 2348674.8,
            "count": 0
           },
           {
            "bin_start": 2348674.8,
            "bin_end": 2642261.9,
            "count": 0
           },
           {
            "bin_start": 2642261.9,
            "bin_end": 2935849,
            "count": 1
           }
          ]
         }
        },
        {
         "name": "_deepnote_index_column",
         "dtype": "object"
        }
       ],
       "rows_top": [
        {
         "date_block_num": 2935849,
         "shop_id": 2935849,
         "item_id": 2935849,
         "item_price": 2935849,
         "item_cnt_day": 2935849,
         "_deepnote_index_column": "count"
        },
        {
         "date_block_num": 14.56991146343017,
         "shop_id": 33.001728290521754,
         "item_id": 10197.227056977385,
         "item_price": 890.8532326980126,
         "item_cnt_day": 1.242640885140891,
         "_deepnote_index_column": "mean"
        },
        {
         "date_block_num": 9.42298770875573,
         "shop_id": 16.226973048333605,
         "item_id": 6324.297353891169,
         "item_price": 1729.7996307126623,
         "item_cnt_day": 2.618834430895425,
         "_deepnote_index_column": "std"
        },
        {
         "date_block_num": 0,
         "shop_id": 0,
         "item_id": 0,
         "item_price": -1,
         "item_cnt_day": -22,
         "_deepnote_index_column": "min"
        },
        {
         "date_block_num": 7,
         "shop_id": 22,
         "item_id": 4476,
         "item_price": 249,
         "item_cnt_day": 1,
         "_deepnote_index_column": "25%"
        },
        {
         "date_block_num": 14,
         "shop_id": 31,
         "item_id": 9343,
         "item_price": 399,
         "item_cnt_day": 1,
         "_deepnote_index_column": "50%"
        },
        {
         "date_block_num": 23,
         "shop_id": 47,
         "item_id": 15684,
         "item_price": 999,
         "item_cnt_day": 1,
         "_deepnote_index_column": "75%"
        },
        {
         "date_block_num": 33,
         "shop_id": 59,
         "item_id": 22169,
         "item_price": 307980,
         "item_cnt_day": 2169,
         "_deepnote_index_column": "max"
        }
       ],
       "rows_bottom": null
      },
      "text/plain": "       date_block_num       shop_id       item_id    item_price  item_cnt_day\ncount    2.935849e+06  2.935849e+06  2.935849e+06  2.935849e+06  2.935849e+06\nmean     1.456991e+01  3.300173e+01  1.019723e+04  8.908532e+02  1.242641e+00\nstd      9.422988e+00  1.622697e+01  6.324297e+03  1.729800e+03  2.618834e+00\nmin      0.000000e+00  0.000000e+00  0.000000e+00 -1.000000e+00 -2.200000e+01\n25%      7.000000e+00  2.200000e+01  4.476000e+03  2.490000e+02  1.000000e+00\n50%      1.400000e+01  3.100000e+01  9.343000e+03  3.990000e+02  1.000000e+00\n75%      2.300000e+01  4.700000e+01  1.568400e+04  9.990000e+02  1.000000e+00\nmax      3.300000e+01  5.900000e+01  2.216900e+04  3.079800e+05  2.169000e+03",
      "text/html": "<div>\n<style scoped>\n    .dataframe tbody tr th:only-of-type {\n        vertical-align: middle;\n    }\n\n    .dataframe tbody tr th {\n        vertical-align: top;\n    }\n\n    .dataframe thead th {\n        text-align: right;\n    }\n</style>\n<table border=\"1\" class=\"dataframe\">\n  <thead>\n    <tr style=\"text-align: right;\">\n      <th></th>\n      <th>date_block_num</th>\n      <th>shop_id</th>\n      <th>item_id</th>\n      <th>item_price</th>\n      <th>item_cnt_day</th>\n    </tr>\n  </thead>\n  <tbody>\n    <tr>\n      <th>count</th>\n      <td>2.935849e+06</td>\n      <td>2.935849e+06</td>\n      <td>2.935849e+06</td>\n      <td>2.935849e+06</td>\n      <td>2.935849e+06</td>\n    </tr>\n    <tr>\n      <th>mean</th>\n      <td>1.456991e+01</td>\n      <td>3.300173e+01</td>\n      <td>1.019723e+04</td>\n      <td>8.908532e+02</td>\n      <td>1.242641e+00</td>\n    </tr>\n    <tr>\n      <th>std</th>\n      <td>9.422988e+00</td>\n      <td>1.622697e+01</td>\n      <td>6.324297e+03</td>\n      <td>1.729800e+03</td>\n      <td>2.618834e+00</td>\n    </tr>\n    <tr>\n      <th>min</th>\n      <td>0.000000e+00</td>\n      <td>0.000000e+00</td>\n      <td>0.000000e+00</td>\n      <td>-1.000000e+00</td>\n      <td>-2.200000e+01</td>\n    </tr>\n    <tr>\n      <th>25%</th>\n      <td>7.000000e+00</td>\n      <td>2.200000e+01</td>\n      <td>4.476000e+03</td>\n      <td>2.490000e+02</td>\n      <td>1.000000e+00</td>\n    </tr>\n    <tr>\n      <th>50%</th>\n      <td>1.400000e+01</td>\n      <td>3.100000e+01</td>\n      <td>9.343000e+03</td>\n      <td>3.990000e+02</td>\n      <td>1.000000e+00</td>\n    </tr>\n    <tr>\n      <th>75%</th>\n      <td>2.300000e+01</td>\n      <td>4.700000e+01</td>\n      <td>1.568400e+04</td>\n      <td>9.990000e+02</td>\n      <td>1.000000e+00</td>\n    </tr>\n    <tr>\n      <th>max</th>\n      <td>3.300000e+01</td>\n      <td>5.900000e+01</td>\n      <td>2.216900e+04</td>\n      <td>3.079800e+05</td>\n      <td>2.169000e+03</td>\n    </tr>\n  </tbody>\n</table>\n</div>"
     },
     "metadata": {}
    }
   ],
   "execution_count": null
  },
  {
   "cell_type": "code",
   "source": "# create dataset pivot table\ndataset = df_train.pivot_table(index = ['shop_id','item_id'],values = ['item_cnt_day'],columns = ['date_block_num'],fill_value = 0,aggfunc='sum')\ndataset.reset_index(inplace = True)\ndataset",
   "metadata": {
    "tags": [],
    "cell_id": "00009-db1ab704-ebab-48a0-bd4a-8cbeb47ad715",
    "deepnote_to_be_reexecuted": false,
    "source_hash": "e45d20c3",
    "execution_start": 1620654750702,
    "execution_millis": 3057,
    "deepnote_cell_type": "code"
   },
   "outputs": [
    {
     "output_type": "execute_result",
     "execution_count": 12,
     "data": {
      "application/vnd.deepnote.dataframe.v2+json": {
       "row_count": 424124,
       "column_count": 36,
       "columns": [
        {
         "name": [
          "shop_id",
          ""
         ],
         "dtype": "int64"
        },
        {
         "name": [
          "item_id",
          ""
         ],
         "dtype": "int64"
        },
        {
         "name": [
          "item_cnt_day",
          0
         ],
         "dtype": "int64"
        },
        {
         "name": [
          "item_cnt_day",
          1
         ],
         "dtype": "int64"
        },
        {
         "name": [
          "item_cnt_day",
          2
         ],
         "dtype": "int64"
        },
        {
         "name": [
          "item_cnt_day",
          3
         ],
         "dtype": "int64"
        },
        {
         "name": [
          "item_cnt_day",
          4
         ],
         "dtype": "int64"
        },
        {
         "name": [
          "item_cnt_day",
          5
         ],
         "dtype": "int64"
        },
        {
         "name": [
          "item_cnt_day",
          6
         ],
         "dtype": "int64"
        },
        {
         "name": [
          "item_cnt_day",
          7
         ],
         "dtype": "int64"
        },
        {
         "name": [
          "item_cnt_day",
          8
         ],
         "dtype": "int64"
        },
        {
         "name": [
          "item_cnt_day",
          9
         ],
         "dtype": "int64"
        },
        {
         "name": [
          "item_cnt_day",
          10
         ],
         "dtype": "int64"
        },
        {
         "name": [
          "item_cnt_day",
          11
         ],
         "dtype": "int64"
        },
        {
         "name": [
          "item_cnt_day",
          12
         ],
         "dtype": "int64"
        },
        {
         "name": [
          "item_cnt_day",
          13
         ],
         "dtype": "int64"
        },
        {
         "name": [
          "item_cnt_day",
          14
         ],
         "dtype": "int64"
        },
        {
         "name": [
          "item_cnt_day",
          15
         ],
         "dtype": "int64"
        },
        {
         "name": [
          "item_cnt_day",
          16
         ],
         "dtype": "int64"
        },
        {
         "name": [
          "item_cnt_day",
          17
         ],
         "dtype": "int64"
        },
        {
         "name": [
          "item_cnt_day",
          18
         ],
         "dtype": "int64"
        },
        {
         "name": [
          "item_cnt_day",
          19
         ],
         "dtype": "int64"
        },
        {
         "name": [
          "item_cnt_day",
          20
         ],
         "dtype": "int64"
        },
        {
         "name": [
          "item_cnt_day",
          21
         ],
         "dtype": "int64"
        },
        {
         "name": [
          "item_cnt_day",
          22
         ],
         "dtype": "int64"
        },
        {
         "name": [
          "item_cnt_day",
          23
         ],
         "dtype": "int64"
        },
        {
         "name": [
          "item_cnt_day",
          24
         ],
         "dtype": "int64"
        },
        {
         "name": [
          "item_cnt_day",
          25
         ],
         "dtype": "int64"
        },
        {
         "name": [
          "item_cnt_day",
          26
         ],
         "dtype": "int64"
        },
        {
         "name": [
          "item_cnt_day",
          27
         ],
         "dtype": "int64"
        },
        {
         "name": [
          "item_cnt_day",
          28
         ],
         "dtype": "int64"
        },
        {
         "name": [
          "item_cnt_day",
          29
         ],
         "dtype": "int64"
        },
        {
         "name": [
          "item_cnt_day",
          30
         ],
         "dtype": "int64"
        },
        {
         "name": [
          "item_cnt_day",
          31
         ],
         "dtype": "int64"
        },
        {
         "name": [
          "item_cnt_day",
          32
         ],
         "dtype": "int64"
        },
        {
         "name": [
          "item_cnt_day",
          33
         ],
         "dtype": "int64"
        },
        {
         "name": "_deepnote_index_column",
         "dtype": "int64"
        }
       ],
       "rows_top": [
        {
         "('shop_id', '')": 0,
         "('item_id', '')": 30,
         "('item_cnt_day', 0)": 0,
         "('item_cnt_day', 1)": 31,
         "('item_cnt_day', 2)": 0,
         "('item_cnt_day', 3)": 0,
         "('item_cnt_day', 4)": 0,
         "('item_cnt_day', 5)": 0,
         "('item_cnt_day', 6)": 0,
         "('item_cnt_day', 7)": 0,
         "('item_cnt_day', 8)": 0,
         "('item_cnt_day', 9)": 0,
         "('item_cnt_day', 10)": 0,
         "('item_cnt_day', 11)": 0,
         "('item_cnt_day', 12)": 0,
         "('item_cnt_day', 13)": 0,
         "('item_cnt_day', 14)": 0,
         "('item_cnt_day', 15)": 0,
         "('item_cnt_day', 16)": 0,
         "('item_cnt_day', 17)": 0,
         "('item_cnt_day', 18)": 0,
         "('item_cnt_day', 19)": 0,
         "('item_cnt_day', 20)": 0,
         "('item_cnt_day', 21)": 0,
         "('item_cnt_day', 22)": 0,
         "('item_cnt_day', 23)": 0,
         "('item_cnt_day', 24)": 0,
         "('item_cnt_day', 25)": 0,
         "('item_cnt_day', 26)": 0,
         "('item_cnt_day', 27)": 0,
         "('item_cnt_day', 28)": 0,
         "('item_cnt_day', 29)": 0,
         "('item_cnt_day', 30)": 0,
         "('item_cnt_day', 31)": 0,
         "('item_cnt_day', 32)": 0,
         "('item_cnt_day', 33)": 0,
         "_deepnote_index_column": 0
        },
        {
         "('shop_id', '')": 0,
         "('item_id', '')": 31,
         "('item_cnt_day', 0)": 0,
         "('item_cnt_day', 1)": 11,
         "('item_cnt_day', 2)": 0,
         "('item_cnt_day', 3)": 0,
         "('item_cnt_day', 4)": 0,
         "('item_cnt_day', 5)": 0,
         "('item_cnt_day', 6)": 0,
         "('item_cnt_day', 7)": 0,
         "('item_cnt_day', 8)": 0,
         "('item_cnt_day', 9)": 0,
         "('item_cnt_day', 10)": 0,
         "('item_cnt_day', 11)": 0,
         "('item_cnt_day', 12)": 0,
         "('item_cnt_day', 13)": 0,
         "('item_cnt_day', 14)": 0,
         "('item_cnt_day', 15)": 0,
         "('item_cnt_day', 16)": 0,
         "('item_cnt_day', 17)": 0,
         "('item_cnt_day', 18)": 0,
         "('item_cnt_day', 19)": 0,
         "('item_cnt_day', 20)": 0,
         "('item_cnt_day', 21)": 0,
         "('item_cnt_day', 22)": 0,
         "('item_cnt_day', 23)": 0,
         "('item_cnt_day', 24)": 0,
         "('item_cnt_day', 25)": 0,
         "('item_cnt_day', 26)": 0,
         "('item_cnt_day', 27)": 0,
         "('item_cnt_day', 28)": 0,
         "('item_cnt_day', 29)": 0,
         "('item_cnt_day', 30)": 0,
         "('item_cnt_day', 31)": 0,
         "('item_cnt_day', 32)": 0,
         "('item_cnt_day', 33)": 0,
         "_deepnote_index_column": 1
        },
        {
         "('shop_id', '')": 0,
         "('item_id', '')": 32,
         "('item_cnt_day', 0)": 6,
         "('item_cnt_day', 1)": 10,
         "('item_cnt_day', 2)": 0,
         "('item_cnt_day', 3)": 0,
         "('item_cnt_day', 4)": 0,
         "('item_cnt_day', 5)": 0,
         "('item_cnt_day', 6)": 0,
         "('item_cnt_day', 7)": 0,
         "('item_cnt_day', 8)": 0,
         "('item_cnt_day', 9)": 0,
         "('item_cnt_day', 10)": 0,
         "('item_cnt_day', 11)": 0,
         "('item_cnt_day', 12)": 0,
         "('item_cnt_day', 13)": 0,
         "('item_cnt_day', 14)": 0,
         "('item_cnt_day', 15)": 0,
         "('item_cnt_day', 16)": 0,
         "('item_cnt_day', 17)": 0,
         "('item_cnt_day', 18)": 0,
         "('item_cnt_day', 19)": 0,
         "('item_cnt_day', 20)": 0,
         "('item_cnt_day', 21)": 0,
         "('item_cnt_day', 22)": 0,
         "('item_cnt_day', 23)": 0,
         "('item_cnt_day', 24)": 0,
         "('item_cnt_day', 25)": 0,
         "('item_cnt_day', 26)": 0,
         "('item_cnt_day', 27)": 0,
         "('item_cnt_day', 28)": 0,
         "('item_cnt_day', 29)": 0,
         "('item_cnt_day', 30)": 0,
         "('item_cnt_day', 31)": 0,
         "('item_cnt_day', 32)": 0,
         "('item_cnt_day', 33)": 0,
         "_deepnote_index_column": 2
        },
        {
         "('shop_id', '')": 0,
         "('item_id', '')": 33,
         "('item_cnt_day', 0)": 3,
         "('item_cnt_day', 1)": 3,
         "('item_cnt_day', 2)": 0,
         "('item_cnt_day', 3)": 0,
         "('item_cnt_day', 4)": 0,
         "('item_cnt_day', 5)": 0,
         "('item_cnt_day', 6)": 0,
         "('item_cnt_day', 7)": 0,
         "('item_cnt_day', 8)": 0,
         "('item_cnt_day', 9)": 0,
         "('item_cnt_day', 10)": 0,
         "('item_cnt_day', 11)": 0,
         "('item_cnt_day', 12)": 0,
         "('item_cnt_day', 13)": 0,
         "('item_cnt_day', 14)": 0,
         "('item_cnt_day', 15)": 0,
         "('item_cnt_day', 16)": 0,
         "('item_cnt_day', 17)": 0,
         "('item_cnt_day', 18)": 0,
         "('item_cnt_day', 19)": 0,
         "('item_cnt_day', 20)": 0,
         "('item_cnt_day', 21)": 0,
         "('item_cnt_day', 22)": 0,
         "('item_cnt_day', 23)": 0,
         "('item_cnt_day', 24)": 0,
         "('item_cnt_day', 25)": 0,
         "('item_cnt_day', 26)": 0,
         "('item_cnt_day', 27)": 0,
         "('item_cnt_day', 28)": 0,
         "('item_cnt_day', 29)": 0,
         "('item_cnt_day', 30)": 0,
         "('item_cnt_day', 31)": 0,
         "('item_cnt_day', 32)": 0,
         "('item_cnt_day', 33)": 0,
         "_deepnote_index_column": 3
        },
        {
         "('shop_id', '')": 0,
         "('item_id', '')": 35,
         "('item_cnt_day', 0)": 1,
         "('item_cnt_day', 1)": 14,
         "('item_cnt_day', 2)": 0,
         "('item_cnt_day', 3)": 0,
         "('item_cnt_day', 4)": 0,
         "('item_cnt_day', 5)": 0,
         "('item_cnt_day', 6)": 0,
         "('item_cnt_day', 7)": 0,
         "('item_cnt_day', 8)": 0,
         "('item_cnt_day', 9)": 0,
         "('item_cnt_day', 10)": 0,
         "('item_cnt_day', 11)": 0,
         "('item_cnt_day', 12)": 0,
         "('item_cnt_day', 13)": 0,
         "('item_cnt_day', 14)": 0,
         "('item_cnt_day', 15)": 0,
         "('item_cnt_day', 16)": 0,
         "('item_cnt_day', 17)": 0,
         "('item_cnt_day', 18)": 0,
         "('item_cnt_day', 19)": 0,
         "('item_cnt_day', 20)": 0,
         "('item_cnt_day', 21)": 0,
         "('item_cnt_day', 22)": 0,
         "('item_cnt_day', 23)": 0,
         "('item_cnt_day', 24)": 0,
         "('item_cnt_day', 25)": 0,
         "('item_cnt_day', 26)": 0,
         "('item_cnt_day', 27)": 0,
         "('item_cnt_day', 28)": 0,
         "('item_cnt_day', 29)": 0,
         "('item_cnt_day', 30)": 0,
         "('item_cnt_day', 31)": 0,
         "('item_cnt_day', 32)": 0,
         "('item_cnt_day', 33)": 0,
         "_deepnote_index_column": 4
        },
        {
         "('shop_id', '')": 0,
         "('item_id', '')": 36,
         "('item_cnt_day', 0)": 0,
         "('item_cnt_day', 1)": 1,
         "('item_cnt_day', 2)": 0,
         "('item_cnt_day', 3)": 0,
         "('item_cnt_day', 4)": 0,
         "('item_cnt_day', 5)": 0,
         "('item_cnt_day', 6)": 0,
         "('item_cnt_day', 7)": 0,
         "('item_cnt_day', 8)": 0,
         "('item_cnt_day', 9)": 0,
         "('item_cnt_day', 10)": 0,
         "('item_cnt_day', 11)": 0,
         "('item_cnt_day', 12)": 0,
         "('item_cnt_day', 13)": 0,
         "('item_cnt_day', 14)": 0,
         "('item_cnt_day', 15)": 0,
         "('item_cnt_day', 16)": 0,
         "('item_cnt_day', 17)": 0,
         "('item_cnt_day', 18)": 0,
         "('item_cnt_day', 19)": 0,
         "('item_cnt_day', 20)": 0,
         "('item_cnt_day', 21)": 0,
         "('item_cnt_day', 22)": 0,
         "('item_cnt_day', 23)": 0,
         "('item_cnt_day', 24)": 0,
         "('item_cnt_day', 25)": 0,
         "('item_cnt_day', 26)": 0,
         "('item_cnt_day', 27)": 0,
         "('item_cnt_day', 28)": 0,
         "('item_cnt_day', 29)": 0,
         "('item_cnt_day', 30)": 0,
         "('item_cnt_day', 31)": 0,
         "('item_cnt_day', 32)": 0,
         "('item_cnt_day', 33)": 0,
         "_deepnote_index_column": 5
        },
        {
         "('shop_id', '')": 0,
         "('item_id', '')": 40,
         "('item_cnt_day', 0)": 0,
         "('item_cnt_day', 1)": 1,
         "('item_cnt_day', 2)": 0,
         "('item_cnt_day', 3)": 0,
         "('item_cnt_day', 4)": 0,
         "('item_cnt_day', 5)": 0,
         "('item_cnt_day', 6)": 0,
         "('item_cnt_day', 7)": 0,
         "('item_cnt_day', 8)": 0,
         "('item_cnt_day', 9)": 0,
         "('item_cnt_day', 10)": 0,
         "('item_cnt_day', 11)": 0,
         "('item_cnt_day', 12)": 0,
         "('item_cnt_day', 13)": 0,
         "('item_cnt_day', 14)": 0,
         "('item_cnt_day', 15)": 0,
         "('item_cnt_day', 16)": 0,
         "('item_cnt_day', 17)": 0,
         "('item_cnt_day', 18)": 0,
         "('item_cnt_day', 19)": 0,
         "('item_cnt_day', 20)": 0,
         "('item_cnt_day', 21)": 0,
         "('item_cnt_day', 22)": 0,
         "('item_cnt_day', 23)": 0,
         "('item_cnt_day', 24)": 0,
         "('item_cnt_day', 25)": 0,
         "('item_cnt_day', 26)": 0,
         "('item_cnt_day', 27)": 0,
         "('item_cnt_day', 28)": 0,
         "('item_cnt_day', 29)": 0,
         "('item_cnt_day', 30)": 0,
         "('item_cnt_day', 31)": 0,
         "('item_cnt_day', 32)": 0,
         "('item_cnt_day', 33)": 0,
         "_deepnote_index_column": 6
        },
        {
         "('shop_id', '')": 0,
         "('item_id', '')": 42,
         "('item_cnt_day', 0)": 0,
         "('item_cnt_day', 1)": 1,
         "('item_cnt_day', 2)": 0,
         "('item_cnt_day', 3)": 0,
         "('item_cnt_day', 4)": 0,
         "('item_cnt_day', 5)": 0,
         "('item_cnt_day', 6)": 0,
         "('item_cnt_day', 7)": 0,
         "('item_cnt_day', 8)": 0,
         "('item_cnt_day', 9)": 0,
         "('item_cnt_day', 10)": 0,
         "('item_cnt_day', 11)": 0,
         "('item_cnt_day', 12)": 0,
         "('item_cnt_day', 13)": 0,
         "('item_cnt_day', 14)": 0,
         "('item_cnt_day', 15)": 0,
         "('item_cnt_day', 16)": 0,
         "('item_cnt_day', 17)": 0,
         "('item_cnt_day', 18)": 0,
         "('item_cnt_day', 19)": 0,
         "('item_cnt_day', 20)": 0,
         "('item_cnt_day', 21)": 0,
         "('item_cnt_day', 22)": 0,
         "('item_cnt_day', 23)": 0,
         "('item_cnt_day', 24)": 0,
         "('item_cnt_day', 25)": 0,
         "('item_cnt_day', 26)": 0,
         "('item_cnt_day', 27)": 0,
         "('item_cnt_day', 28)": 0,
         "('item_cnt_day', 29)": 0,
         "('item_cnt_day', 30)": 0,
         "('item_cnt_day', 31)": 0,
         "('item_cnt_day', 32)": 0,
         "('item_cnt_day', 33)": 0,
         "_deepnote_index_column": 7
        },
        {
         "('shop_id', '')": 0,
         "('item_id', '')": 43,
         "('item_cnt_day', 0)": 1,
         "('item_cnt_day', 1)": 0,
         "('item_cnt_day', 2)": 0,
         "('item_cnt_day', 3)": 0,
         "('item_cnt_day', 4)": 0,
         "('item_cnt_day', 5)": 0,
         "('item_cnt_day', 6)": 0,
         "('item_cnt_day', 7)": 0,
         "('item_cnt_day', 8)": 0,
         "('item_cnt_day', 9)": 0,
         "('item_cnt_day', 10)": 0,
         "('item_cnt_day', 11)": 0,
         "('item_cnt_day', 12)": 0,
         "('item_cnt_day', 13)": 0,
         "('item_cnt_day', 14)": 0,
         "('item_cnt_day', 15)": 0,
         "('item_cnt_day', 16)": 0,
         "('item_cnt_day', 17)": 0,
         "('item_cnt_day', 18)": 0,
         "('item_cnt_day', 19)": 0,
         "('item_cnt_day', 20)": 0,
         "('item_cnt_day', 21)": 0,
         "('item_cnt_day', 22)": 0,
         "('item_cnt_day', 23)": 0,
         "('item_cnt_day', 24)": 0,
         "('item_cnt_day', 25)": 0,
         "('item_cnt_day', 26)": 0,
         "('item_cnt_day', 27)": 0,
         "('item_cnt_day', 28)": 0,
         "('item_cnt_day', 29)": 0,
         "('item_cnt_day', 30)": 0,
         "('item_cnt_day', 31)": 0,
         "('item_cnt_day', 32)": 0,
         "('item_cnt_day', 33)": 0,
         "_deepnote_index_column": 8
        },
        {
         "('shop_id', '')": 0,
         "('item_id', '')": 49,
         "('item_cnt_day', 0)": 0,
         "('item_cnt_day', 1)": 2,
         "('item_cnt_day', 2)": 0,
         "('item_cnt_day', 3)": 0,
         "('item_cnt_day', 4)": 0,
         "('item_cnt_day', 5)": 0,
         "('item_cnt_day', 6)": 0,
         "('item_cnt_day', 7)": 0,
         "('item_cnt_day', 8)": 0,
         "('item_cnt_day', 9)": 0,
         "('item_cnt_day', 10)": 0,
         "('item_cnt_day', 11)": 0,
         "('item_cnt_day', 12)": 0,
         "('item_cnt_day', 13)": 0,
         "('item_cnt_day', 14)": 0,
         "('item_cnt_day', 15)": 0,
         "('item_cnt_day', 16)": 0,
         "('item_cnt_day', 17)": 0,
         "('item_cnt_day', 18)": 0,
         "('item_cnt_day', 19)": 0,
         "('item_cnt_day', 20)": 0,
         "('item_cnt_day', 21)": 0,
         "('item_cnt_day', 22)": 0,
         "('item_cnt_day', 23)": 0,
         "('item_cnt_day', 24)": 0,
         "('item_cnt_day', 25)": 0,
         "('item_cnt_day', 26)": 0,
         "('item_cnt_day', 27)": 0,
         "('item_cnt_day', 28)": 0,
         "('item_cnt_day', 29)": 0,
         "('item_cnt_day', 30)": 0,
         "('item_cnt_day', 31)": 0,
         "('item_cnt_day', 32)": 0,
         "('item_cnt_day', 33)": 0,
         "_deepnote_index_column": 9
        },
        {
         "('shop_id', '')": 0,
         "('item_id', '')": 51,
         "('item_cnt_day', 0)": 2,
         "('item_cnt_day', 1)": 3,
         "('item_cnt_day', 2)": 0,
         "('item_cnt_day', 3)": 0,
         "('item_cnt_day', 4)": 0,
         "('item_cnt_day', 5)": 0,
         "('item_cnt_day', 6)": 0,
         "('item_cnt_day', 7)": 0,
         "('item_cnt_day', 8)": 0,
         "('item_cnt_day', 9)": 0,
         "('item_cnt_day', 10)": 0,
         "('item_cnt_day', 11)": 0,
         "('item_cnt_day', 12)": 0,
         "('item_cnt_day', 13)": 0,
         "('item_cnt_day', 14)": 0,
         "('item_cnt_day', 15)": 0,
         "('item_cnt_day', 16)": 0,
         "('item_cnt_day', 17)": 0,
         "('item_cnt_day', 18)": 0,
         "('item_cnt_day', 19)": 0,
         "('item_cnt_day', 20)": 0,
         "('item_cnt_day', 21)": 0,
         "('item_cnt_day', 22)": 0,
         "('item_cnt_day', 23)": 0,
         "('item_cnt_day', 24)": 0,
         "('item_cnt_day', 25)": 0,
         "('item_cnt_day', 26)": 0,
         "('item_cnt_day', 27)": 0,
         "('item_cnt_day', 28)": 0,
         "('item_cnt_day', 29)": 0,
         "('item_cnt_day', 30)": 0,
         "('item_cnt_day', 31)": 0,
         "('item_cnt_day', 32)": 0,
         "('item_cnt_day', 33)": 0,
         "_deepnote_index_column": 10
        },
        {
         "('shop_id', '')": 0,
         "('item_id', '')": 57,
         "('item_cnt_day', 0)": 0,
         "('item_cnt_day', 1)": 1,
         "('item_cnt_day', 2)": 0,
         "('item_cnt_day', 3)": 0,
         "('item_cnt_day', 4)": 0,
         "('item_cnt_day', 5)": 0,
         "('item_cnt_day', 6)": 0,
         "('item_cnt_day', 7)": 0,
         "('item_cnt_day', 8)": 0,
         "('item_cnt_day', 9)": 0,
         "('item_cnt_day', 10)": 0,
         "('item_cnt_day', 11)": 0,
         "('item_cnt_day', 12)": 0,
         "('item_cnt_day', 13)": 0,
         "('item_cnt_day', 14)": 0,
         "('item_cnt_day', 15)": 0,
         "('item_cnt_day', 16)": 0,
         "('item_cnt_day', 17)": 0,
         "('item_cnt_day', 18)": 0,
         "('item_cnt_day', 19)": 0,
         "('item_cnt_day', 20)": 0,
         "('item_cnt_day', 21)": 0,
         "('item_cnt_day', 22)": 0,
         "('item_cnt_day', 23)": 0,
         "('item_cnt_day', 24)": 0,
         "('item_cnt_day', 25)": 0,
         "('item_cnt_day', 26)": 0,
         "('item_cnt_day', 27)": 0,
         "('item_cnt_day', 28)": 0,
         "('item_cnt_day', 29)": 0,
         "('item_cnt_day', 30)": 0,
         "('item_cnt_day', 31)": 0,
         "('item_cnt_day', 32)": 0,
         "('item_cnt_day', 33)": 0,
         "_deepnote_index_column": 11
        },
        {
         "('shop_id', '')": 0,
         "('item_id', '')": 59,
         "('item_cnt_day', 0)": 0,
         "('item_cnt_day', 1)": 1,
         "('item_cnt_day', 2)": 0,
         "('item_cnt_day', 3)": 0,
         "('item_cnt_day', 4)": 0,
         "('item_cnt_day', 5)": 0,
         "('item_cnt_day', 6)": 0,
         "('item_cnt_day', 7)": 0,
         "('item_cnt_day', 8)": 0,
         "('item_cnt_day', 9)": 0,
         "('item_cnt_day', 10)": 0,
         "('item_cnt_day', 11)": 0,
         "('item_cnt_day', 12)": 0,
         "('item_cnt_day', 13)": 0,
         "('item_cnt_day', 14)": 0,
         "('item_cnt_day', 15)": 0,
         "('item_cnt_day', 16)": 0,
         "('item_cnt_day', 17)": 0,
         "('item_cnt_day', 18)": 0,
         "('item_cnt_day', 19)": 0,
         "('item_cnt_day', 20)": 0,
         "('item_cnt_day', 21)": 0,
         "('item_cnt_day', 22)": 0,
         "('item_cnt_day', 23)": 0,
         "('item_cnt_day', 24)": 0,
         "('item_cnt_day', 25)": 0,
         "('item_cnt_day', 26)": 0,
         "('item_cnt_day', 27)": 0,
         "('item_cnt_day', 28)": 0,
         "('item_cnt_day', 29)": 0,
         "('item_cnt_day', 30)": 0,
         "('item_cnt_day', 31)": 0,
         "('item_cnt_day', 32)": 0,
         "('item_cnt_day', 33)": 0,
         "_deepnote_index_column": 12
        }
       ],
       "rows_bottom": [
        {
         "('shop_id', '')": 59,
         "('item_id', '')": 22134,
         "('item_cnt_day', 0)": 2,
         "('item_cnt_day', 1)": 1,
         "('item_cnt_day', 2)": 0,
         "('item_cnt_day', 3)": 0,
         "('item_cnt_day', 4)": 0,
         "('item_cnt_day', 5)": 0,
         "('item_cnt_day', 6)": 0,
         "('item_cnt_day', 7)": 0,
         "('item_cnt_day', 8)": 0,
         "('item_cnt_day', 9)": 0,
         "('item_cnt_day', 10)": 0,
         "('item_cnt_day', 11)": 0,
         "('item_cnt_day', 12)": 0,
         "('item_cnt_day', 13)": 0,
         "('item_cnt_day', 14)": 0,
         "('item_cnt_day', 15)": 0,
         "('item_cnt_day', 16)": 0,
         "('item_cnt_day', 17)": 0,
         "('item_cnt_day', 18)": 0,
         "('item_cnt_day', 19)": 0,
         "('item_cnt_day', 20)": 0,
         "('item_cnt_day', 21)": 0,
         "('item_cnt_day', 22)": 0,
         "('item_cnt_day', 23)": 0,
         "('item_cnt_day', 24)": 0,
         "('item_cnt_day', 25)": 0,
         "('item_cnt_day', 26)": 0,
         "('item_cnt_day', 27)": 0,
         "('item_cnt_day', 28)": 0,
         "('item_cnt_day', 29)": 0,
         "('item_cnt_day', 30)": 0,
         "('item_cnt_day', 31)": 0,
         "('item_cnt_day', 32)": 0,
         "('item_cnt_day', 33)": 0,
         "_deepnote_index_column": 424110
        },
        {
         "('shop_id', '')": 59,
         "('item_id', '')": 22139,
         "('item_cnt_day', 0)": 0,
         "('item_cnt_day', 1)": 0,
         "('item_cnt_day', 2)": 0,
         "('item_cnt_day', 3)": 0,
         "('item_cnt_day', 4)": 0,
         "('item_cnt_day', 5)": 0,
         "('item_cnt_day', 6)": 0,
         "('item_cnt_day', 7)": 0,
         "('item_cnt_day', 8)": 0,
         "('item_cnt_day', 9)": 0,
         "('item_cnt_day', 10)": 0,
         "('item_cnt_day', 11)": 0,
         "('item_cnt_day', 12)": 0,
         "('item_cnt_day', 13)": 0,
         "('item_cnt_day', 14)": 0,
         "('item_cnt_day', 15)": 0,
         "('item_cnt_day', 16)": 0,
         "('item_cnt_day', 17)": 0,
         "('item_cnt_day', 18)": 0,
         "('item_cnt_day', 19)": 0,
         "('item_cnt_day', 20)": 0,
         "('item_cnt_day', 21)": 0,
         "('item_cnt_day', 22)": 0,
         "('item_cnt_day', 23)": 0,
         "('item_cnt_day', 24)": 1,
         "('item_cnt_day', 25)": 0,
         "('item_cnt_day', 26)": 0,
         "('item_cnt_day', 27)": 0,
         "('item_cnt_day', 28)": 0,
         "('item_cnt_day', 29)": 0,
         "('item_cnt_day', 30)": 0,
         "('item_cnt_day', 31)": 0,
         "('item_cnt_day', 32)": 1,
         "('item_cnt_day', 33)": 0,
         "_deepnote_index_column": 424111
        },
        {
         "('shop_id', '')": 59,
         "('item_id', '')": 22141,
         "('item_cnt_day', 0)": 0,
         "('item_cnt_day', 1)": 0,
         "('item_cnt_day', 2)": 0,
         "('item_cnt_day', 3)": 0,
         "('item_cnt_day', 4)": 0,
         "('item_cnt_day', 5)": 0,
         "('item_cnt_day', 6)": 0,
         "('item_cnt_day', 7)": 0,
         "('item_cnt_day', 8)": 0,
         "('item_cnt_day', 9)": 0,
         "('item_cnt_day', 10)": 0,
         "('item_cnt_day', 11)": 0,
         "('item_cnt_day', 12)": 0,
         "('item_cnt_day', 13)": 0,
         "('item_cnt_day', 14)": 2,
         "('item_cnt_day', 15)": 0,
         "('item_cnt_day', 16)": 0,
         "('item_cnt_day', 17)": 0,
         "('item_cnt_day', 18)": 0,
         "('item_cnt_day', 19)": 0,
         "('item_cnt_day', 20)": 0,
         "('item_cnt_day', 21)": 0,
         "('item_cnt_day', 22)": 0,
         "('item_cnt_day', 23)": 0,
         "('item_cnt_day', 24)": 0,
         "('item_cnt_day', 25)": 0,
         "('item_cnt_day', 26)": 0,
         "('item_cnt_day', 27)": 0,
         "('item_cnt_day', 28)": 0,
         "('item_cnt_day', 29)": 0,
         "('item_cnt_day', 30)": 0,
         "('item_cnt_day', 31)": 0,
         "('item_cnt_day', 32)": 0,
         "('item_cnt_day', 33)": 0,
         "_deepnote_index_column": 424112
        },
        {
         "('shop_id', '')": 59,
         "('item_id', '')": 22143,
         "('item_cnt_day', 0)": 0,
         "('item_cnt_day', 1)": 0,
         "('item_cnt_day', 2)": 0,
         "('item_cnt_day', 3)": 0,
         "('item_cnt_day', 4)": 0,
         "('item_cnt_day', 5)": 0,
         "('item_cnt_day', 6)": 0,
         "('item_cnt_day', 7)": 0,
         "('item_cnt_day', 8)": 0,
         "('item_cnt_day', 9)": 0,
         "('item_cnt_day', 10)": 0,
         "('item_cnt_day', 11)": 0,
         "('item_cnt_day', 12)": 0,
         "('item_cnt_day', 13)": 0,
         "('item_cnt_day', 14)": 6,
         "('item_cnt_day', 15)": 1,
         "('item_cnt_day', 16)": 0,
         "('item_cnt_day', 17)": 0,
         "('item_cnt_day', 18)": 0,
         "('item_cnt_day', 19)": 1,
         "('item_cnt_day', 20)": 0,
         "('item_cnt_day', 21)": 0,
         "('item_cnt_day', 22)": 0,
         "('item_cnt_day', 23)": 0,
         "('item_cnt_day', 24)": 0,
         "('item_cnt_day', 25)": 0,
         "('item_cnt_day', 26)": 0,
         "('item_cnt_day', 27)": 0,
         "('item_cnt_day', 28)": 0,
         "('item_cnt_day', 29)": 0,
         "('item_cnt_day', 30)": 0,
         "('item_cnt_day', 31)": 0,
         "('item_cnt_day', 32)": 0,
         "('item_cnt_day', 33)": 0,
         "_deepnote_index_column": 424113
        },
        {
         "('shop_id', '')": 59,
         "('item_id', '')": 22144,
         "('item_cnt_day', 0)": 0,
         "('item_cnt_day', 1)": 0,
         "('item_cnt_day', 2)": 0,
         "('item_cnt_day', 3)": 0,
         "('item_cnt_day', 4)": 0,
         "('item_cnt_day', 5)": 0,
         "('item_cnt_day', 6)": 0,
         "('item_cnt_day', 7)": 0,
         "('item_cnt_day', 8)": 0,
         "('item_cnt_day', 9)": 0,
         "('item_cnt_day', 10)": 0,
         "('item_cnt_day', 11)": 0,
         "('item_cnt_day', 12)": 0,
         "('item_cnt_day', 13)": 0,
         "('item_cnt_day', 14)": 0,
         "('item_cnt_day', 15)": 0,
         "('item_cnt_day', 16)": 1,
         "('item_cnt_day', 17)": 0,
         "('item_cnt_day', 18)": 0,
         "('item_cnt_day', 19)": 0,
         "('item_cnt_day', 20)": 0,
         "('item_cnt_day', 21)": 0,
         "('item_cnt_day', 22)": 0,
         "('item_cnt_day', 23)": 0,
         "('item_cnt_day', 24)": 0,
         "('item_cnt_day', 25)": 0,
         "('item_cnt_day', 26)": 0,
         "('item_cnt_day', 27)": 0,
         "('item_cnt_day', 28)": 0,
         "('item_cnt_day', 29)": 0,
         "('item_cnt_day', 30)": 0,
         "('item_cnt_day', 31)": 0,
         "('item_cnt_day', 32)": 0,
         "('item_cnt_day', 33)": 0,
         "_deepnote_index_column": 424114
        },
        {
         "('shop_id', '')": 59,
         "('item_id', '')": 22145,
         "('item_cnt_day', 0)": 0,
         "('item_cnt_day', 1)": 0,
         "('item_cnt_day', 2)": 0,
         "('item_cnt_day', 3)": 0,
         "('item_cnt_day', 4)": 0,
         "('item_cnt_day', 5)": 0,
         "('item_cnt_day', 6)": 0,
         "('item_cnt_day', 7)": 0,
         "('item_cnt_day', 8)": 0,
         "('item_cnt_day', 9)": 0,
         "('item_cnt_day', 10)": 0,
         "('item_cnt_day', 11)": 0,
         "('item_cnt_day', 12)": 0,
         "('item_cnt_day', 13)": 0,
         "('item_cnt_day', 14)": 3,
         "('item_cnt_day', 15)": 0,
         "('item_cnt_day', 16)": 0,
         "('item_cnt_day', 17)": 0,
         "('item_cnt_day', 18)": 0,
         "('item_cnt_day', 19)": 0,
         "('item_cnt_day', 20)": 1,
         "('item_cnt_day', 21)": 0,
         "('item_cnt_day', 22)": 0,
         "('item_cnt_day', 23)": 0,
         "('item_cnt_day', 24)": 0,
         "('item_cnt_day', 25)": 0,
         "('item_cnt_day', 26)": 0,
         "('item_cnt_day', 27)": 0,
         "('item_cnt_day', 28)": 0,
         "('item_cnt_day', 29)": 0,
         "('item_cnt_day', 30)": 0,
         "('item_cnt_day', 31)": 0,
         "('item_cnt_day', 32)": 0,
         "('item_cnt_day', 33)": 0,
         "_deepnote_index_column": 424115
        },
        {
         "('shop_id', '')": 59,
         "('item_id', '')": 22150,
         "('item_cnt_day', 0)": 0,
         "('item_cnt_day', 1)": 0,
         "('item_cnt_day', 2)": 0,
         "('item_cnt_day', 3)": 0,
         "('item_cnt_day', 4)": 0,
         "('item_cnt_day', 5)": 0,
         "('item_cnt_day', 6)": 1,
         "('item_cnt_day', 7)": 1,
         "('item_cnt_day', 8)": 0,
         "('item_cnt_day', 9)": 0,
         "('item_cnt_day', 10)": 0,
         "('item_cnt_day', 11)": 0,
         "('item_cnt_day', 12)": 0,
         "('item_cnt_day', 13)": 0,
         "('item_cnt_day', 14)": 0,
         "('item_cnt_day', 15)": 0,
         "('item_cnt_day', 16)": 0,
         "('item_cnt_day', 17)": 0,
         "('item_cnt_day', 18)": 0,
         "('item_cnt_day', 19)": 0,
         "('item_cnt_day', 20)": 0,
         "('item_cnt_day', 21)": 0,
         "('item_cnt_day', 22)": 0,
         "('item_cnt_day', 23)": 0,
         "('item_cnt_day', 24)": 0,
         "('item_cnt_day', 25)": 0,
         "('item_cnt_day', 26)": 0,
         "('item_cnt_day', 27)": 0,
         "('item_cnt_day', 28)": 0,
         "('item_cnt_day', 29)": 0,
         "('item_cnt_day', 30)": 0,
         "('item_cnt_day', 31)": 0,
         "('item_cnt_day', 32)": 0,
         "('item_cnt_day', 33)": 0,
         "_deepnote_index_column": 424116
        },
        {
         "('shop_id', '')": 59,
         "('item_id', '')": 22151,
         "('item_cnt_day', 0)": 2,
         "('item_cnt_day', 1)": 0,
         "('item_cnt_day', 2)": 1,
         "('item_cnt_day', 3)": 0,
         "('item_cnt_day', 4)": 0,
         "('item_cnt_day', 5)": 0,
         "('item_cnt_day', 6)": 0,
         "('item_cnt_day', 7)": 0,
         "('item_cnt_day', 8)": 0,
         "('item_cnt_day', 9)": 0,
         "('item_cnt_day', 10)": 0,
         "('item_cnt_day', 11)": 0,
         "('item_cnt_day', 12)": 0,
         "('item_cnt_day', 13)": 0,
         "('item_cnt_day', 14)": 0,
         "('item_cnt_day', 15)": 0,
         "('item_cnt_day', 16)": 0,
         "('item_cnt_day', 17)": 0,
         "('item_cnt_day', 18)": 0,
         "('item_cnt_day', 19)": 0,
         "('item_cnt_day', 20)": 0,
         "('item_cnt_day', 21)": 0,
         "('item_cnt_day', 22)": 0,
         "('item_cnt_day', 23)": 0,
         "('item_cnt_day', 24)": 0,
         "('item_cnt_day', 25)": 0,
         "('item_cnt_day', 26)": 0,
         "('item_cnt_day', 27)": 0,
         "('item_cnt_day', 28)": 0,
         "('item_cnt_day', 29)": 0,
         "('item_cnt_day', 30)": 0,
         "('item_cnt_day', 31)": 0,
         "('item_cnt_day', 32)": 0,
         "('item_cnt_day', 33)": 0,
         "_deepnote_index_column": 424117
        },
        {
         "('shop_id', '')": 59,
         "('item_id', '')": 22153,
         "('item_cnt_day', 0)": 0,
         "('item_cnt_day', 1)": 0,
         "('item_cnt_day', 2)": 0,
         "('item_cnt_day', 3)": 0,
         "('item_cnt_day', 4)": 0,
         "('item_cnt_day', 5)": 0,
         "('item_cnt_day', 6)": 0,
         "('item_cnt_day', 7)": 0,
         "('item_cnt_day', 8)": 0,
         "('item_cnt_day', 9)": 0,
         "('item_cnt_day', 10)": 0,
         "('item_cnt_day', 11)": 0,
         "('item_cnt_day', 12)": 0,
         "('item_cnt_day', 13)": 0,
         "('item_cnt_day', 14)": 0,
         "('item_cnt_day', 15)": 0,
         "('item_cnt_day', 16)": 0,
         "('item_cnt_day', 17)": 0,
         "('item_cnt_day', 18)": 0,
         "('item_cnt_day', 19)": 1,
         "('item_cnt_day', 20)": 0,
         "('item_cnt_day', 21)": 0,
         "('item_cnt_day', 22)": 0,
         "('item_cnt_day', 23)": 0,
         "('item_cnt_day', 24)": 0,
         "('item_cnt_day', 25)": 0,
         "('item_cnt_day', 26)": 0,
         "('item_cnt_day', 27)": 0,
         "('item_cnt_day', 28)": 0,
         "('item_cnt_day', 29)": 0,
         "('item_cnt_day', 30)": 0,
         "('item_cnt_day', 31)": 0,
         "('item_cnt_day', 32)": 0,
         "('item_cnt_day', 33)": 0,
         "_deepnote_index_column": 424118
        },
        {
         "('shop_id', '')": 59,
         "('item_id', '')": 22154,
         "('item_cnt_day', 0)": 1,
         "('item_cnt_day', 1)": 0,
         "('item_cnt_day', 2)": 0,
         "('item_cnt_day', 3)": 0,
         "('item_cnt_day', 4)": 0,
         "('item_cnt_day', 5)": 0,
         "('item_cnt_day', 6)": 0,
         "('item_cnt_day', 7)": 0,
         "('item_cnt_day', 8)": 0,
         "('item_cnt_day', 9)": 0,
         "('item_cnt_day', 10)": 0,
         "('item_cnt_day', 11)": 0,
         "('item_cnt_day', 12)": 0,
         "('item_cnt_day', 13)": 0,
         "('item_cnt_day', 14)": 0,
         "('item_cnt_day', 15)": 0,
         "('item_cnt_day', 16)": 0,
         "('item_cnt_day', 17)": 0,
         "('item_cnt_day', 18)": 0,
         "('item_cnt_day', 19)": 0,
         "('item_cnt_day', 20)": 0,
         "('item_cnt_day', 21)": 0,
         "('item_cnt_day', 22)": 0,
         "('item_cnt_day', 23)": 0,
         "('item_cnt_day', 24)": 0,
         "('item_cnt_day', 25)": 0,
         "('item_cnt_day', 26)": 0,
         "('item_cnt_day', 27)": 0,
         "('item_cnt_day', 28)": 0,
         "('item_cnt_day', 29)": 0,
         "('item_cnt_day', 30)": 0,
         "('item_cnt_day', 31)": 0,
         "('item_cnt_day', 32)": 0,
         "('item_cnt_day', 33)": 0,
         "_deepnote_index_column": 424119
        },
        {
         "('shop_id', '')": 59,
         "('item_id', '')": 22155,
         "('item_cnt_day', 0)": 0,
         "('item_cnt_day', 1)": 0,
         "('item_cnt_day', 2)": 0,
         "('item_cnt_day', 3)": 0,
         "('item_cnt_day', 4)": 0,
         "('item_cnt_day', 5)": 0,
         "('item_cnt_day', 6)": 1,
         "('item_cnt_day', 7)": 0,
         "('item_cnt_day', 8)": 0,
         "('item_cnt_day', 9)": 0,
         "('item_cnt_day', 10)": 0,
         "('item_cnt_day', 11)": 0,
         "('item_cnt_day', 12)": 0,
         "('item_cnt_day', 13)": 0,
         "('item_cnt_day', 14)": 0,
         "('item_cnt_day', 15)": 0,
         "('item_cnt_day', 16)": 0,
         "('item_cnt_day', 17)": 0,
         "('item_cnt_day', 18)": 0,
         "('item_cnt_day', 19)": 0,
         "('item_cnt_day', 20)": 0,
         "('item_cnt_day', 21)": 0,
         "('item_cnt_day', 22)": 0,
         "('item_cnt_day', 23)": 0,
         "('item_cnt_day', 24)": 0,
         "('item_cnt_day', 25)": 0,
         "('item_cnt_day', 26)": 0,
         "('item_cnt_day', 27)": 0,
         "('item_cnt_day', 28)": 0,
         "('item_cnt_day', 29)": 0,
         "('item_cnt_day', 30)": 0,
         "('item_cnt_day', 31)": 0,
         "('item_cnt_day', 32)": 0,
         "('item_cnt_day', 33)": 0,
         "_deepnote_index_column": 424120
        },
        {
         "('shop_id', '')": 59,
         "('item_id', '')": 22162,
         "('item_cnt_day', 0)": 0,
         "('item_cnt_day', 1)": 0,
         "('item_cnt_day', 2)": 0,
         "('item_cnt_day', 3)": 0,
         "('item_cnt_day', 4)": 0,
         "('item_cnt_day', 5)": 0,
         "('item_cnt_day', 6)": 0,
         "('item_cnt_day', 7)": 0,
         "('item_cnt_day', 8)": 0,
         "('item_cnt_day', 9)": 0,
         "('item_cnt_day', 10)": 0,
         "('item_cnt_day', 11)": 0,
         "('item_cnt_day', 12)": 0,
         "('item_cnt_day', 13)": 0,
         "('item_cnt_day', 14)": 0,
         "('item_cnt_day', 15)": 0,
         "('item_cnt_day', 16)": 0,
         "('item_cnt_day', 17)": 0,
         "('item_cnt_day', 18)": 0,
         "('item_cnt_day', 19)": 0,
         "('item_cnt_day', 20)": 0,
         "('item_cnt_day', 21)": 0,
         "('item_cnt_day', 22)": 0,
         "('item_cnt_day', 23)": 0,
         "('item_cnt_day', 24)": 0,
         "('item_cnt_day', 25)": 9,
         "('item_cnt_day', 26)": 4,
         "('item_cnt_day', 27)": 1,
         "('item_cnt_day', 28)": 1,
         "('item_cnt_day', 29)": 0,
         "('item_cnt_day', 30)": 0,
         "('item_cnt_day', 31)": 1,
         "('item_cnt_day', 32)": 0,
         "('item_cnt_day', 33)": 0,
         "_deepnote_index_column": 424121
        },
        {
         "('shop_id', '')": 59,
         "('item_id', '')": 22164,
         "('item_cnt_day', 0)": 0,
         "('item_cnt_day', 1)": 0,
         "('item_cnt_day', 2)": 0,
         "('item_cnt_day', 3)": 0,
         "('item_cnt_day', 4)": 0,
         "('item_cnt_day', 5)": 0,
         "('item_cnt_day', 6)": 0,
         "('item_cnt_day', 7)": 0,
         "('item_cnt_day', 8)": 0,
         "('item_cnt_day', 9)": 0,
         "('item_cnt_day', 10)": 0,
         "('item_cnt_day', 11)": 0,
         "('item_cnt_day', 12)": 0,
         "('item_cnt_day', 13)": 0,
         "('item_cnt_day', 14)": 0,
         "('item_cnt_day', 15)": 0,
         "('item_cnt_day', 16)": 0,
         "('item_cnt_day', 17)": 0,
         "('item_cnt_day', 18)": 0,
         "('item_cnt_day', 19)": 0,
         "('item_cnt_day', 20)": 0,
         "('item_cnt_day', 21)": 0,
         "('item_cnt_day', 22)": 0,
         "('item_cnt_day', 23)": 0,
         "('item_cnt_day', 24)": 0,
         "('item_cnt_day', 25)": 2,
         "('item_cnt_day', 26)": 1,
         "('item_cnt_day', 27)": 2,
         "('item_cnt_day', 28)": 0,
         "('item_cnt_day', 29)": 0,
         "('item_cnt_day', 30)": 1,
         "('item_cnt_day', 31)": 0,
         "('item_cnt_day', 32)": 0,
         "('item_cnt_day', 33)": 0,
         "_deepnote_index_column": 424122
        },
        {
         "('shop_id', '')": 59,
         "('item_id', '')": 22167,
         "('item_cnt_day', 0)": 0,
         "('item_cnt_day', 1)": 0,
         "('item_cnt_day', 2)": 0,
         "('item_cnt_day', 3)": 0,
         "('item_cnt_day', 4)": 0,
         "('item_cnt_day', 5)": 0,
         "('item_cnt_day', 6)": 0,
         "('item_cnt_day', 7)": 0,
         "('item_cnt_day', 8)": 0,
         "('item_cnt_day', 9)": 1,
         "('item_cnt_day', 10)": 0,
         "('item_cnt_day', 11)": 2,
         "('item_cnt_day', 12)": 0,
         "('item_cnt_day', 13)": 0,
         "('item_cnt_day', 14)": 0,
         "('item_cnt_day', 15)": 0,
         "('item_cnt_day', 16)": 0,
         "('item_cnt_day', 17)": 1,
         "('item_cnt_day', 18)": 0,
         "('item_cnt_day', 19)": 0,
         "('item_cnt_day', 20)": 0,
         "('item_cnt_day', 21)": 0,
         "('item_cnt_day', 22)": 0,
         "('item_cnt_day', 23)": 0,
         "('item_cnt_day', 24)": 0,
         "('item_cnt_day', 25)": 0,
         "('item_cnt_day', 26)": 0,
         "('item_cnt_day', 27)": 0,
         "('item_cnt_day', 28)": 0,
         "('item_cnt_day', 29)": 0,
         "('item_cnt_day', 30)": 0,
         "('item_cnt_day', 31)": 0,
         "('item_cnt_day', 32)": 0,
         "('item_cnt_day', 33)": 0,
         "_deepnote_index_column": 424123
        }
       ]
      },
      "text/plain": "               shop_id item_id item_cnt_day                        ...        \\\ndate_block_num                            0   1  2  3  4  5  6  7  ... 24 25   \n0                    0      30            0  31  0  0  0  0  0  0  ...  0  0   \n1                    0      31            0  11  0  0  0  0  0  0  ...  0  0   \n2                    0      32            6  10  0  0  0  0  0  0  ...  0  0   \n3                    0      33            3   3  0  0  0  0  0  0  ...  0  0   \n4                    0      35            1  14  0  0  0  0  0  0  ...  0  0   \n...                ...     ...          ...  .. .. .. .. .. .. ..  ... .. ..   \n424119              59   22154            1   0  0  0  0  0  0  0  ...  0  0   \n424120              59   22155            0   0  0  0  0  0  1  0  ...  0  0   \n424121              59   22162            0   0  0  0  0  0  0  0  ...  0  9   \n424122              59   22164            0   0  0  0  0  0  0  0  ...  0  2   \n424123              59   22167            0   0  0  0  0  0  0  0  ...  0  0   \n\n                                        \ndate_block_num 26 27 28 29 30 31 32 33  \n0               0  0  0  0  0  0  0  0  \n1               0  0  0  0  0  0  0  0  \n2               0  0  0  0  0  0  0  0  \n3               0  0  0  0  0  0  0  0  \n4               0  0  0  0  0  0  0  0  \n...            .. .. .. .. .. .. .. ..  \n424119          0  0  0  0  0  0  0  0  \n424120          0  0  0  0  0  0  0  0  \n424121          4  1  1  0  0  1  0  0  \n424122          1  2  0  0  1  0  0  0  \n424123          0  0  0  0  0  0  0  0  \n\n[424124 rows x 36 columns]",
      "text/html": "<div>\n<style scoped>\n    .dataframe tbody tr th:only-of-type {\n        vertical-align: middle;\n    }\n\n    .dataframe tbody tr th {\n        vertical-align: top;\n    }\n\n    .dataframe thead tr th {\n        text-align: left;\n    }\n</style>\n<table border=\"1\" class=\"dataframe\">\n  <thead>\n    <tr>\n      <th></th>\n      <th>shop_id</th>\n      <th>item_id</th>\n      <th colspan=\"19\" halign=\"left\">item_cnt_day</th>\n    </tr>\n    <tr>\n      <th>date_block_num</th>\n      <th></th>\n      <th></th>\n      <th>0</th>\n      <th>1</th>\n      <th>2</th>\n      <th>3</th>\n      <th>4</th>\n      <th>5</th>\n      <th>6</th>\n      <th>7</th>\n      <th>...</th>\n      <th>24</th>\n      <th>25</th>\n      <th>26</th>\n      <th>27</th>\n      <th>28</th>\n      <th>29</th>\n      <th>30</th>\n      <th>31</th>\n      <th>32</th>\n      <th>33</th>\n    </tr>\n  </thead>\n  <tbody>\n    <tr>\n      <th>0</th>\n      <td>0</td>\n      <td>30</td>\n      <td>0</td>\n      <td>31</td>\n      <td>0</td>\n      <td>0</td>\n      <td>0</td>\n      <td>0</td>\n      <td>0</td>\n      <td>0</td>\n      <td>...</td>\n      <td>0</td>\n      <td>0</td>\n      <td>0</td>\n      <td>0</td>\n      <td>0</td>\n      <td>0</td>\n      <td>0</td>\n      <td>0</td>\n      <td>0</td>\n      <td>0</td>\n    </tr>\n    <tr>\n      <th>1</th>\n      <td>0</td>\n      <td>31</td>\n      <td>0</td>\n      <td>11</td>\n      <td>0</td>\n      <td>0</td>\n      <td>0</td>\n      <td>0</td>\n      <td>0</td>\n      <td>0</td>\n      <td>...</td>\n      <td>0</td>\n      <td>0</td>\n      <td>0</td>\n      <td>0</td>\n      <td>0</td>\n      <td>0</td>\n      <td>0</td>\n      <td>0</td>\n      <td>0</td>\n      <td>0</td>\n    </tr>\n    <tr>\n      <th>2</th>\n      <td>0</td>\n      <td>32</td>\n      <td>6</td>\n      <td>10</td>\n      <td>0</td>\n      <td>0</td>\n      <td>0</td>\n      <td>0</td>\n      <td>0</td>\n      <td>0</td>\n      <td>...</td>\n      <td>0</td>\n      <td>0</td>\n      <td>0</td>\n      <td>0</td>\n      <td>0</td>\n      <td>0</td>\n      <td>0</td>\n      <td>0</td>\n      <td>0</td>\n      <td>0</td>\n    </tr>\n    <tr>\n      <th>3</th>\n      <td>0</td>\n      <td>33</td>\n      <td>3</td>\n      <td>3</td>\n      <td>0</td>\n      <td>0</td>\n      <td>0</td>\n      <td>0</td>\n      <td>0</td>\n      <td>0</td>\n      <td>...</td>\n      <td>0</td>\n      <td>0</td>\n      <td>0</td>\n      <td>0</td>\n      <td>0</td>\n      <td>0</td>\n      <td>0</td>\n      <td>0</td>\n      <td>0</td>\n      <td>0</td>\n    </tr>\n    <tr>\n      <th>4</th>\n      <td>0</td>\n      <td>35</td>\n      <td>1</td>\n      <td>14</td>\n      <td>0</td>\n      <td>0</td>\n      <td>0</td>\n      <td>0</td>\n      <td>0</td>\n      <td>0</td>\n      <td>...</td>\n      <td>0</td>\n      <td>0</td>\n      <td>0</td>\n      <td>0</td>\n      <td>0</td>\n      <td>0</td>\n      <td>0</td>\n      <td>0</td>\n      <td>0</td>\n      <td>0</td>\n    </tr>\n    <tr>\n      <th>...</th>\n      <td>...</td>\n      <td>...</td>\n      <td>...</td>\n      <td>...</td>\n      <td>...</td>\n      <td>...</td>\n      <td>...</td>\n      <td>...</td>\n      <td>...</td>\n      <td>...</td>\n      <td>...</td>\n      <td>...</td>\n      <td>...</td>\n      <td>...</td>\n      <td>...</td>\n      <td>...</td>\n      <td>...</td>\n      <td>...</td>\n      <td>...</td>\n      <td>...</td>\n      <td>...</td>\n    </tr>\n    <tr>\n      <th>424119</th>\n      <td>59</td>\n      <td>22154</td>\n      <td>1</td>\n      <td>0</td>\n      <td>0</td>\n      <td>0</td>\n      <td>0</td>\n      <td>0</td>\n      <td>0</td>\n      <td>0</td>\n      <td>...</td>\n      <td>0</td>\n      <td>0</td>\n      <td>0</td>\n      <td>0</td>\n      <td>0</td>\n      <td>0</td>\n      <td>0</td>\n      <td>0</td>\n      <td>0</td>\n      <td>0</td>\n    </tr>\n    <tr>\n      <th>424120</th>\n      <td>59</td>\n      <td>22155</td>\n      <td>0</td>\n      <td>0</td>\n      <td>0</td>\n      <td>0</td>\n      <td>0</td>\n      <td>0</td>\n      <td>1</td>\n      <td>0</td>\n      <td>...</td>\n      <td>0</td>\n      <td>0</td>\n      <td>0</td>\n      <td>0</td>\n      <td>0</td>\n      <td>0</td>\n      <td>0</td>\n      <td>0</td>\n      <td>0</td>\n      <td>0</td>\n    </tr>\n    <tr>\n      <th>424121</th>\n      <td>59</td>\n      <td>22162</td>\n      <td>0</td>\n      <td>0</td>\n      <td>0</td>\n      <td>0</td>\n      <td>0</td>\n      <td>0</td>\n      <td>0</td>\n      <td>0</td>\n      <td>...</td>\n      <td>0</td>\n      <td>9</td>\n      <td>4</td>\n      <td>1</td>\n      <td>1</td>\n      <td>0</td>\n      <td>0</td>\n      <td>1</td>\n      <td>0</td>\n      <td>0</td>\n    </tr>\n    <tr>\n      <th>424122</th>\n      <td>59</td>\n      <td>22164</td>\n      <td>0</td>\n      <td>0</td>\n      <td>0</td>\n      <td>0</td>\n      <td>0</td>\n      <td>0</td>\n      <td>0</td>\n      <td>0</td>\n      <td>...</td>\n      <td>0</td>\n      <td>2</td>\n      <td>1</td>\n      <td>2</td>\n      <td>0</td>\n      <td>0</td>\n      <td>1</td>\n      <td>0</td>\n      <td>0</td>\n      <td>0</td>\n    </tr>\n    <tr>\n      <th>424123</th>\n      <td>59</td>\n      <td>22167</td>\n      <td>0</td>\n      <td>0</td>\n      <td>0</td>\n      <td>0</td>\n      <td>0</td>\n      <td>0</td>\n      <td>0</td>\n      <td>0</td>\n      <td>...</td>\n      <td>0</td>\n      <td>0</td>\n      <td>0</td>\n      <td>0</td>\n      <td>0</td>\n      <td>0</td>\n      <td>0</td>\n      <td>0</td>\n      <td>0</td>\n      <td>0</td>\n    </tr>\n  </tbody>\n</table>\n<p>424124 rows × 36 columns</p>\n</div>"
     },
     "metadata": {}
    }
   ],
   "execution_count": null
  },
  {
   "cell_type": "code",
   "source": "# preprocess data\nID = df_test.ID\nID",
   "metadata": {
    "tags": [],
    "cell_id": "00006-39c67c62-f569-46cf-a2d9-3194152a2770",
    "deepnote_to_be_reexecuted": false,
    "source_hash": "bd6047ed",
    "execution_start": 1620654801738,
    "execution_millis": 8,
    "deepnote_cell_type": "code"
   },
   "outputs": [
    {
     "output_type": "execute_result",
     "execution_count": 16,
     "data": {
      "text/plain": "0              0\n1              1\n2              2\n3              3\n4              4\n           ...  \n214195    214195\n214196    214196\n214197    214197\n214198    214198\n214199    214199\nName: ID, Length: 214200, dtype: int64"
     },
     "metadata": {}
    }
   ],
   "execution_count": null
  },
  {
   "cell_type": "code",
   "source": "#merge pivot table with test set\ndataset = pd.merge(df_test,dataset,on = ['item_id','shop_id'],how = 'left')\ndataset",
   "metadata": {
    "tags": [],
    "cell_id": "00007-7ada588b-eac7-43a6-97c5-6513e1a14c6c",
    "deepnote_to_be_reexecuted": false,
    "source_hash": "bccae702",
    "execution_start": 1620654821560,
    "execution_millis": 435,
    "deepnote_cell_type": "code"
   },
   "outputs": [
    {
     "name": "stderr",
     "text": "/shared-libs/python3.7/py/lib/python3.7/site-packages/pandas/core/reshape/merge.py:648: UserWarning: merging between different levels can give an unintended result (1 levels on the left,2 on the right)\n  warnings.warn(msg, UserWarning)\n/shared-libs/python3.7/py/lib/python3.7/site-packages/pandas/core/generic.py:4153: PerformanceWarning: dropping on a non-lexsorted multi-index without a level parameter may impact performance.\n  obj = obj._drop_axis(labels, axis, level=level, errors=errors)\n",
     "output_type": "stream"
    },
    {
     "output_type": "execute_result",
     "execution_count": 17,
     "data": {
      "application/vnd.deepnote.dataframe.v2+json": {
       "row_count": 214200,
       "column_count": 37,
       "columns": [
        {
         "name": "ID",
         "dtype": "int64"
        },
        {
         "name": "shop_id",
         "dtype": "int64"
        },
        {
         "name": "item_id",
         "dtype": "int64"
        },
        {
         "name": [
          "item_cnt_day",
          0
         ],
         "dtype": "float64"
        },
        {
         "name": [
          "item_cnt_day",
          1
         ],
         "dtype": "float64"
        },
        {
         "name": [
          "item_cnt_day",
          2
         ],
         "dtype": "float64"
        },
        {
         "name": [
          "item_cnt_day",
          3
         ],
         "dtype": "float64"
        },
        {
         "name": [
          "item_cnt_day",
          4
         ],
         "dtype": "float64"
        },
        {
         "name": [
          "item_cnt_day",
          5
         ],
         "dtype": "float64"
        },
        {
         "name": [
          "item_cnt_day",
          6
         ],
         "dtype": "float64"
        },
        {
         "name": [
          "item_cnt_day",
          7
         ],
         "dtype": "float64"
        },
        {
         "name": [
          "item_cnt_day",
          8
         ],
         "dtype": "float64"
        },
        {
         "name": [
          "item_cnt_day",
          9
         ],
         "dtype": "float64"
        },
        {
         "name": [
          "item_cnt_day",
          10
         ],
         "dtype": "float64"
        },
        {
         "name": [
          "item_cnt_day",
          11
         ],
         "dtype": "float64"
        },
        {
         "name": [
          "item_cnt_day",
          12
         ],
         "dtype": "float64"
        },
        {
         "name": [
          "item_cnt_day",
          13
         ],
         "dtype": "float64"
        },
        {
         "name": [
          "item_cnt_day",
          14
         ],
         "dtype": "float64"
        },
        {
         "name": [
          "item_cnt_day",
          15
         ],
         "dtype": "float64"
        },
        {
         "name": [
          "item_cnt_day",
          16
         ],
         "dtype": "float64"
        },
        {
         "name": [
          "item_cnt_day",
          17
         ],
         "dtype": "float64"
        },
        {
         "name": [
          "item_cnt_day",
          18
         ],
         "dtype": "float64"
        },
        {
         "name": [
          "item_cnt_day",
          19
         ],
         "dtype": "float64"
        },
        {
         "name": [
          "item_cnt_day",
          20
         ],
         "dtype": "float64"
        },
        {
         "name": [
          "item_cnt_day",
          21
         ],
         "dtype": "float64"
        },
        {
         "name": [
          "item_cnt_day",
          22
         ],
         "dtype": "float64"
        },
        {
         "name": [
          "item_cnt_day",
          23
         ],
         "dtype": "float64"
        },
        {
         "name": [
          "item_cnt_day",
          24
         ],
         "dtype": "float64"
        },
        {
         "name": [
          "item_cnt_day",
          25
         ],
         "dtype": "float64"
        },
        {
         "name": [
          "item_cnt_day",
          26
         ],
         "dtype": "float64"
        },
        {
         "name": [
          "item_cnt_day",
          27
         ],
         "dtype": "float64"
        },
        {
         "name": [
          "item_cnt_day",
          28
         ],
         "dtype": "float64"
        },
        {
         "name": [
          "item_cnt_day",
          29
         ],
         "dtype": "float64"
        },
        {
         "name": [
          "item_cnt_day",
          30
         ],
         "dtype": "float64"
        },
        {
         "name": [
          "item_cnt_day",
          31
         ],
         "dtype": "float64"
        },
        {
         "name": [
          "item_cnt_day",
          32
         ],
         "dtype": "float64"
        },
        {
         "name": [
          "item_cnt_day",
          33
         ],
         "dtype": "float64"
        },
        {
         "name": "_deepnote_index_column",
         "dtype": "int64"
        }
       ],
       "rows_top": [
        {
         "ID": 0,
         "shop_id": 5,
         "item_id": 5037,
         "('item_cnt_day', 0)": "0.0",
         "('item_cnt_day', 1)": "0.0",
         "('item_cnt_day', 2)": "0.0",
         "('item_cnt_day', 3)": "0.0",
         "('item_cnt_day', 4)": "0.0",
         "('item_cnt_day', 5)": "0.0",
         "('item_cnt_day', 6)": "0.0",
         "('item_cnt_day', 7)": "0.0",
         "('item_cnt_day', 8)": "0.0",
         "('item_cnt_day', 9)": "0.0",
         "('item_cnt_day', 10)": "0.0",
         "('item_cnt_day', 11)": "0.0",
         "('item_cnt_day', 12)": "0.0",
         "('item_cnt_day', 13)": "0.0",
         "('item_cnt_day', 14)": "0.0",
         "('item_cnt_day', 15)": "0.0",
         "('item_cnt_day', 16)": "0.0",
         "('item_cnt_day', 17)": "0.0",
         "('item_cnt_day', 18)": "0.0",
         "('item_cnt_day', 19)": "0.0",
         "('item_cnt_day', 20)": "1.0",
         "('item_cnt_day', 21)": "0.0",
         "('item_cnt_day', 22)": "1.0",
         "('item_cnt_day', 23)": "2.0",
         "('item_cnt_day', 24)": "2.0",
         "('item_cnt_day', 25)": "0.0",
         "('item_cnt_day', 26)": "0.0",
         "('item_cnt_day', 27)": "0.0",
         "('item_cnt_day', 28)": "1.0",
         "('item_cnt_day', 29)": "1.0",
         "('item_cnt_day', 30)": "1.0",
         "('item_cnt_day', 31)": "3.0",
         "('item_cnt_day', 32)": "1.0",
         "('item_cnt_day', 33)": "0.0",
         "_deepnote_index_column": 0
        },
        {
         "ID": 1,
         "shop_id": 5,
         "item_id": 5320,
         "('item_cnt_day', 0)": "nan",
         "('item_cnt_day', 1)": "nan",
         "('item_cnt_day', 2)": "nan",
         "('item_cnt_day', 3)": "nan",
         "('item_cnt_day', 4)": "nan",
         "('item_cnt_day', 5)": "nan",
         "('item_cnt_day', 6)": "nan",
         "('item_cnt_day', 7)": "nan",
         "('item_cnt_day', 8)": "nan",
         "('item_cnt_day', 9)": "nan",
         "('item_cnt_day', 10)": "nan",
         "('item_cnt_day', 11)": "nan",
         "('item_cnt_day', 12)": "nan",
         "('item_cnt_day', 13)": "nan",
         "('item_cnt_day', 14)": "nan",
         "('item_cnt_day', 15)": "nan",
         "('item_cnt_day', 16)": "nan",
         "('item_cnt_day', 17)": "nan",
         "('item_cnt_day', 18)": "nan",
         "('item_cnt_day', 19)": "nan",
         "('item_cnt_day', 20)": "nan",
         "('item_cnt_day', 21)": "nan",
         "('item_cnt_day', 22)": "nan",
         "('item_cnt_day', 23)": "nan",
         "('item_cnt_day', 24)": "nan",
         "('item_cnt_day', 25)": "nan",
         "('item_cnt_day', 26)": "nan",
         "('item_cnt_day', 27)": "nan",
         "('item_cnt_day', 28)": "nan",
         "('item_cnt_day', 29)": "nan",
         "('item_cnt_day', 30)": "nan",
         "('item_cnt_day', 31)": "nan",
         "('item_cnt_day', 32)": "nan",
         "('item_cnt_day', 33)": "nan",
         "_deepnote_index_column": 1
        },
        {
         "ID": 2,
         "shop_id": 5,
         "item_id": 5233,
         "('item_cnt_day', 0)": "0.0",
         "('item_cnt_day', 1)": "0.0",
         "('item_cnt_day', 2)": "0.0",
         "('item_cnt_day', 3)": "0.0",
         "('item_cnt_day', 4)": "0.0",
         "('item_cnt_day', 5)": "0.0",
         "('item_cnt_day', 6)": "0.0",
         "('item_cnt_day', 7)": "0.0",
         "('item_cnt_day', 8)": "0.0",
         "('item_cnt_day', 9)": "0.0",
         "('item_cnt_day', 10)": "0.0",
         "('item_cnt_day', 11)": "0.0",
         "('item_cnt_day', 12)": "0.0",
         "('item_cnt_day', 13)": "0.0",
         "('item_cnt_day', 14)": "0.0",
         "('item_cnt_day', 15)": "0.0",
         "('item_cnt_day', 16)": "0.0",
         "('item_cnt_day', 17)": "0.0",
         "('item_cnt_day', 18)": "0.0",
         "('item_cnt_day', 19)": "0.0",
         "('item_cnt_day', 20)": "0.0",
         "('item_cnt_day', 21)": "0.0",
         "('item_cnt_day', 22)": "0.0",
         "('item_cnt_day', 23)": "0.0",
         "('item_cnt_day', 24)": "0.0",
         "('item_cnt_day', 25)": "0.0",
         "('item_cnt_day', 26)": "0.0",
         "('item_cnt_day', 27)": "0.0",
         "('item_cnt_day', 28)": "3.0",
         "('item_cnt_day', 29)": "2.0",
         "('item_cnt_day', 30)": "0.0",
         "('item_cnt_day', 31)": "1.0",
         "('item_cnt_day', 32)": "3.0",
         "('item_cnt_day', 33)": "1.0",
         "_deepnote_index_column": 2
        },
        {
         "ID": 3,
         "shop_id": 5,
         "item_id": 5232,
         "('item_cnt_day', 0)": "0.0",
         "('item_cnt_day', 1)": "0.0",
         "('item_cnt_day', 2)": "0.0",
         "('item_cnt_day', 3)": "0.0",
         "('item_cnt_day', 4)": "0.0",
         "('item_cnt_day', 5)": "0.0",
         "('item_cnt_day', 6)": "0.0",
         "('item_cnt_day', 7)": "0.0",
         "('item_cnt_day', 8)": "0.0",
         "('item_cnt_day', 9)": "0.0",
         "('item_cnt_day', 10)": "0.0",
         "('item_cnt_day', 11)": "0.0",
         "('item_cnt_day', 12)": "0.0",
         "('item_cnt_day', 13)": "0.0",
         "('item_cnt_day', 14)": "0.0",
         "('item_cnt_day', 15)": "0.0",
         "('item_cnt_day', 16)": "0.0",
         "('item_cnt_day', 17)": "0.0",
         "('item_cnt_day', 18)": "0.0",
         "('item_cnt_day', 19)": "0.0",
         "('item_cnt_day', 20)": "0.0",
         "('item_cnt_day', 21)": "0.0",
         "('item_cnt_day', 22)": "0.0",
         "('item_cnt_day', 23)": "0.0",
         "('item_cnt_day', 24)": "0.0",
         "('item_cnt_day', 25)": "0.0",
         "('item_cnt_day', 26)": "0.0",
         "('item_cnt_day', 27)": "0.0",
         "('item_cnt_day', 28)": "0.0",
         "('item_cnt_day', 29)": "0.0",
         "('item_cnt_day', 30)": "0.0",
         "('item_cnt_day', 31)": "1.0",
         "('item_cnt_day', 32)": "0.0",
         "('item_cnt_day', 33)": "0.0",
         "_deepnote_index_column": 3
        },
        {
         "ID": 4,
         "shop_id": 5,
         "item_id": 5268,
         "('item_cnt_day', 0)": "nan",
         "('item_cnt_day', 1)": "nan",
         "('item_cnt_day', 2)": "nan",
         "('item_cnt_day', 3)": "nan",
         "('item_cnt_day', 4)": "nan",
         "('item_cnt_day', 5)": "nan",
         "('item_cnt_day', 6)": "nan",
         "('item_cnt_day', 7)": "nan",
         "('item_cnt_day', 8)": "nan",
         "('item_cnt_day', 9)": "nan",
         "('item_cnt_day', 10)": "nan",
         "('item_cnt_day', 11)": "nan",
         "('item_cnt_day', 12)": "nan",
         "('item_cnt_day', 13)": "nan",
         "('item_cnt_day', 14)": "nan",
         "('item_cnt_day', 15)": "nan",
         "('item_cnt_day', 16)": "nan",
         "('item_cnt_day', 17)": "nan",
         "('item_cnt_day', 18)": "nan",
         "('item_cnt_day', 19)": "nan",
         "('item_cnt_day', 20)": "nan",
         "('item_cnt_day', 21)": "nan",
         "('item_cnt_day', 22)": "nan",
         "('item_cnt_day', 23)": "nan",
         "('item_cnt_day', 24)": "nan",
         "('item_cnt_day', 25)": "nan",
         "('item_cnt_day', 26)": "nan",
         "('item_cnt_day', 27)": "nan",
         "('item_cnt_day', 28)": "nan",
         "('item_cnt_day', 29)": "nan",
         "('item_cnt_day', 30)": "nan",
         "('item_cnt_day', 31)": "nan",
         "('item_cnt_day', 32)": "nan",
         "('item_cnt_day', 33)": "nan",
         "_deepnote_index_column": 4
        },
        {
         "ID": 5,
         "shop_id": 5,
         "item_id": 5039,
         "('item_cnt_day', 0)": "0.0",
         "('item_cnt_day', 1)": "0.0",
         "('item_cnt_day', 2)": "0.0",
         "('item_cnt_day', 3)": "0.0",
         "('item_cnt_day', 4)": "0.0",
         "('item_cnt_day', 5)": "0.0",
         "('item_cnt_day', 6)": "0.0",
         "('item_cnt_day', 7)": "0.0",
         "('item_cnt_day', 8)": "0.0",
         "('item_cnt_day', 9)": "0.0",
         "('item_cnt_day', 10)": "0.0",
         "('item_cnt_day', 11)": "0.0",
         "('item_cnt_day', 12)": "0.0",
         "('item_cnt_day', 13)": "0.0",
         "('item_cnt_day', 14)": "0.0",
         "('item_cnt_day', 15)": "0.0",
         "('item_cnt_day', 16)": "0.0",
         "('item_cnt_day', 17)": "0.0",
         "('item_cnt_day', 18)": "0.0",
         "('item_cnt_day', 19)": "0.0",
         "('item_cnt_day', 20)": "2.0",
         "('item_cnt_day', 21)": "0.0",
         "('item_cnt_day', 22)": "0.0",
         "('item_cnt_day', 23)": "3.0",
         "('item_cnt_day', 24)": "1.0",
         "('item_cnt_day', 25)": "0.0",
         "('item_cnt_day', 26)": "0.0",
         "('item_cnt_day', 27)": "0.0",
         "('item_cnt_day', 28)": "3.0",
         "('item_cnt_day', 29)": "0.0",
         "('item_cnt_day', 30)": "0.0",
         "('item_cnt_day', 31)": "0.0",
         "('item_cnt_day', 32)": "1.0",
         "('item_cnt_day', 33)": "1.0",
         "_deepnote_index_column": 5
        },
        {
         "ID": 6,
         "shop_id": 5,
         "item_id": 5041,
         "('item_cnt_day', 0)": "0.0",
         "('item_cnt_day', 1)": "0.0",
         "('item_cnt_day', 2)": "0.0",
         "('item_cnt_day', 3)": "0.0",
         "('item_cnt_day', 4)": "0.0",
         "('item_cnt_day', 5)": "0.0",
         "('item_cnt_day', 6)": "0.0",
         "('item_cnt_day', 7)": "0.0",
         "('item_cnt_day', 8)": "0.0",
         "('item_cnt_day', 9)": "0.0",
         "('item_cnt_day', 10)": "0.0",
         "('item_cnt_day', 11)": "0.0",
         "('item_cnt_day', 12)": "0.0",
         "('item_cnt_day', 13)": "0.0",
         "('item_cnt_day', 14)": "0.0",
         "('item_cnt_day', 15)": "0.0",
         "('item_cnt_day', 16)": "0.0",
         "('item_cnt_day', 17)": "0.0",
         "('item_cnt_day', 18)": "0.0",
         "('item_cnt_day', 19)": "0.0",
         "('item_cnt_day', 20)": "0.0",
         "('item_cnt_day', 21)": "0.0",
         "('item_cnt_day', 22)": "0.0",
         "('item_cnt_day', 23)": "0.0",
         "('item_cnt_day', 24)": "0.0",
         "('item_cnt_day', 25)": "0.0",
         "('item_cnt_day', 26)": "0.0",
         "('item_cnt_day', 27)": "0.0",
         "('item_cnt_day', 28)": "0.0",
         "('item_cnt_day', 29)": "0.0",
         "('item_cnt_day', 30)": "0.0",
         "('item_cnt_day', 31)": "0.0",
         "('item_cnt_day', 32)": "3.0",
         "('item_cnt_day', 33)": "2.0",
         "_deepnote_index_column": 6
        },
        {
         "ID": 7,
         "shop_id": 5,
         "item_id": 5046,
         "('item_cnt_day', 0)": "0.0",
         "('item_cnt_day', 1)": "0.0",
         "('item_cnt_day', 2)": "0.0",
         "('item_cnt_day', 3)": "0.0",
         "('item_cnt_day', 4)": "0.0",
         "('item_cnt_day', 5)": "0.0",
         "('item_cnt_day', 6)": "0.0",
         "('item_cnt_day', 7)": "0.0",
         "('item_cnt_day', 8)": "0.0",
         "('item_cnt_day', 9)": "0.0",
         "('item_cnt_day', 10)": "0.0",
         "('item_cnt_day', 11)": "0.0",
         "('item_cnt_day', 12)": "0.0",
         "('item_cnt_day', 13)": "0.0",
         "('item_cnt_day', 14)": "0.0",
         "('item_cnt_day', 15)": "0.0",
         "('item_cnt_day', 16)": "0.0",
         "('item_cnt_day', 17)": "0.0",
         "('item_cnt_day', 18)": "0.0",
         "('item_cnt_day', 19)": "0.0",
         "('item_cnt_day', 20)": "0.0",
         "('item_cnt_day', 21)": "0.0",
         "('item_cnt_day', 22)": "1.0",
         "('item_cnt_day', 23)": "5.0",
         "('item_cnt_day', 24)": "0.0",
         "('item_cnt_day', 25)": "0.0",
         "('item_cnt_day', 26)": "1.0",
         "('item_cnt_day', 27)": "0.0",
         "('item_cnt_day', 28)": "0.0",
         "('item_cnt_day', 29)": "1.0",
         "('item_cnt_day', 30)": "0.0",
         "('item_cnt_day', 31)": "0.0",
         "('item_cnt_day', 32)": "0.0",
         "('item_cnt_day', 33)": "0.0",
         "_deepnote_index_column": 7
        },
        {
         "ID": 8,
         "shop_id": 5,
         "item_id": 5319,
         "('item_cnt_day', 0)": "0.0",
         "('item_cnt_day', 1)": "0.0",
         "('item_cnt_day', 2)": "0.0",
         "('item_cnt_day', 3)": "0.0",
         "('item_cnt_day', 4)": "0.0",
         "('item_cnt_day', 5)": "0.0",
         "('item_cnt_day', 6)": "0.0",
         "('item_cnt_day', 7)": "0.0",
         "('item_cnt_day', 8)": "0.0",
         "('item_cnt_day', 9)": "0.0",
         "('item_cnt_day', 10)": "0.0",
         "('item_cnt_day', 11)": "0.0",
         "('item_cnt_day', 12)": "0.0",
         "('item_cnt_day', 13)": "0.0",
         "('item_cnt_day', 14)": "0.0",
         "('item_cnt_day', 15)": "0.0",
         "('item_cnt_day', 16)": "0.0",
         "('item_cnt_day', 17)": "0.0",
         "('item_cnt_day', 18)": "0.0",
         "('item_cnt_day', 19)": "0.0",
         "('item_cnt_day', 20)": "0.0",
         "('item_cnt_day', 21)": "0.0",
         "('item_cnt_day', 22)": "5.0",
         "('item_cnt_day', 23)": "28.0",
         "('item_cnt_day', 24)": "9.0",
         "('item_cnt_day', 25)": "2.0",
         "('item_cnt_day', 26)": "3.0",
         "('item_cnt_day', 27)": "2.0",
         "('item_cnt_day', 28)": "2.0",
         "('item_cnt_day', 29)": "4.0",
         "('item_cnt_day', 30)": "3.0",
         "('item_cnt_day', 31)": "2.0",
         "('item_cnt_day', 32)": "3.0",
         "('item_cnt_day', 33)": "0.0",
         "_deepnote_index_column": 8
        },
        {
         "ID": 9,
         "shop_id": 5,
         "item_id": 5003,
         "('item_cnt_day', 0)": "nan",
         "('item_cnt_day', 1)": "nan",
         "('item_cnt_day', 2)": "nan",
         "('item_cnt_day', 3)": "nan",
         "('item_cnt_day', 4)": "nan",
         "('item_cnt_day', 5)": "nan",
         "('item_cnt_day', 6)": "nan",
         "('item_cnt_day', 7)": "nan",
         "('item_cnt_day', 8)": "nan",
         "('item_cnt_day', 9)": "nan",
         "('item_cnt_day', 10)": "nan",
         "('item_cnt_day', 11)": "nan",
         "('item_cnt_day', 12)": "nan",
         "('item_cnt_day', 13)": "nan",
         "('item_cnt_day', 14)": "nan",
         "('item_cnt_day', 15)": "nan",
         "('item_cnt_day', 16)": "nan",
         "('item_cnt_day', 17)": "nan",
         "('item_cnt_day', 18)": "nan",
         "('item_cnt_day', 19)": "nan",
         "('item_cnt_day', 20)": "nan",
         "('item_cnt_day', 21)": "nan",
         "('item_cnt_day', 22)": "nan",
         "('item_cnt_day', 23)": "nan",
         "('item_cnt_day', 24)": "nan",
         "('item_cnt_day', 25)": "nan",
         "('item_cnt_day', 26)": "nan",
         "('item_cnt_day', 27)": "nan",
         "('item_cnt_day', 28)": "nan",
         "('item_cnt_day', 29)": "nan",
         "('item_cnt_day', 30)": "nan",
         "('item_cnt_day', 31)": "nan",
         "('item_cnt_day', 32)": "nan",
         "('item_cnt_day', 33)": "nan",
         "_deepnote_index_column": 9
        },
        {
         "ID": 10,
         "shop_id": 5,
         "item_id": 4806,
         "('item_cnt_day', 0)": "0.0",
         "('item_cnt_day', 1)": "0.0",
         "('item_cnt_day', 2)": "0.0",
         "('item_cnt_day', 3)": "0.0",
         "('item_cnt_day', 4)": "0.0",
         "('item_cnt_day', 5)": "0.0",
         "('item_cnt_day', 6)": "0.0",
         "('item_cnt_day', 7)": "0.0",
         "('item_cnt_day', 8)": "0.0",
         "('item_cnt_day', 9)": "0.0",
         "('item_cnt_day', 10)": "0.0",
         "('item_cnt_day', 11)": "0.0",
         "('item_cnt_day', 12)": "1.0",
         "('item_cnt_day', 13)": "2.0",
         "('item_cnt_day', 14)": "4.0",
         "('item_cnt_day', 15)": "1.0",
         "('item_cnt_day', 16)": "8.0",
         "('item_cnt_day', 17)": "4.0",
         "('item_cnt_day', 18)": "0.0",
         "('item_cnt_day', 19)": "2.0",
         "('item_cnt_day', 20)": "0.0",
         "('item_cnt_day', 21)": "1.0",
         "('item_cnt_day', 22)": "2.0",
         "('item_cnt_day', 23)": "6.0",
         "('item_cnt_day', 24)": "4.0",
         "('item_cnt_day', 25)": "3.0",
         "('item_cnt_day', 26)": "6.0",
         "('item_cnt_day', 27)": "2.0",
         "('item_cnt_day', 28)": "6.0",
         "('item_cnt_day', 29)": "6.0",
         "('item_cnt_day', 30)": "5.0",
         "('item_cnt_day', 31)": "5.0",
         "('item_cnt_day', 32)": "2.0",
         "('item_cnt_day', 33)": "3.0",
         "_deepnote_index_column": 10
        },
        {
         "ID": 11,
         "shop_id": 5,
         "item_id": 4843,
         "('item_cnt_day', 0)": "0.0",
         "('item_cnt_day', 1)": "0.0",
         "('item_cnt_day', 2)": "0.0",
         "('item_cnt_day', 3)": "0.0",
         "('item_cnt_day', 4)": "0.0",
         "('item_cnt_day', 5)": "0.0",
         "('item_cnt_day', 6)": "0.0",
         "('item_cnt_day', 7)": "0.0",
         "('item_cnt_day', 8)": "0.0",
         "('item_cnt_day', 9)": "0.0",
         "('item_cnt_day', 10)": "0.0",
         "('item_cnt_day', 11)": "0.0",
         "('item_cnt_day', 12)": "0.0",
         "('item_cnt_day', 13)": "0.0",
         "('item_cnt_day', 14)": "0.0",
         "('item_cnt_day', 15)": "0.0",
         "('item_cnt_day', 16)": "0.0",
         "('item_cnt_day', 17)": "0.0",
         "('item_cnt_day', 18)": "0.0",
         "('item_cnt_day', 19)": "0.0",
         "('item_cnt_day', 20)": "0.0",
         "('item_cnt_day', 21)": "0.0",
         "('item_cnt_day', 22)": "0.0",
         "('item_cnt_day', 23)": "0.0",
         "('item_cnt_day', 24)": "0.0",
         "('item_cnt_day', 25)": "0.0",
         "('item_cnt_day', 26)": "0.0",
         "('item_cnt_day', 27)": "0.0",
         "('item_cnt_day', 28)": "0.0",
         "('item_cnt_day', 29)": "0.0",
         "('item_cnt_day', 30)": "0.0",
         "('item_cnt_day', 31)": "0.0",
         "('item_cnt_day', 32)": "1.0",
         "('item_cnt_day', 33)": "0.0",
         "_deepnote_index_column": 11
        },
        {
         "ID": 12,
         "shop_id": 5,
         "item_id": 4607,
         "('item_cnt_day', 0)": "0.0",
         "('item_cnt_day', 1)": "0.0",
         "('item_cnt_day', 2)": "1.0",
         "('item_cnt_day', 3)": "0.0",
         "('item_cnt_day', 4)": "1.0",
         "('item_cnt_day', 5)": "0.0",
         "('item_cnt_day', 6)": "0.0",
         "('item_cnt_day', 7)": "0.0",
         "('item_cnt_day', 8)": "0.0",
         "('item_cnt_day', 9)": "0.0",
         "('item_cnt_day', 10)": "0.0",
         "('item_cnt_day', 11)": "1.0",
         "('item_cnt_day', 12)": "0.0",
         "('item_cnt_day', 13)": "0.0",
         "('item_cnt_day', 14)": "0.0",
         "('item_cnt_day', 15)": "0.0",
         "('item_cnt_day', 16)": "0.0",
         "('item_cnt_day', 17)": "0.0",
         "('item_cnt_day', 18)": "1.0",
         "('item_cnt_day', 19)": "0.0",
         "('item_cnt_day', 20)": "1.0",
         "('item_cnt_day', 21)": "0.0",
         "('item_cnt_day', 22)": "0.0",
         "('item_cnt_day', 23)": "0.0",
         "('item_cnt_day', 24)": "0.0",
         "('item_cnt_day', 25)": "0.0",
         "('item_cnt_day', 26)": "0.0",
         "('item_cnt_day', 27)": "0.0",
         "('item_cnt_day', 28)": "0.0",
         "('item_cnt_day', 29)": "0.0",
         "('item_cnt_day', 30)": "0.0",
         "('item_cnt_day', 31)": "0.0",
         "('item_cnt_day', 32)": "0.0",
         "('item_cnt_day', 33)": "0.0",
         "_deepnote_index_column": 12
        }
       ],
       "rows_bottom": [
        {
         "ID": 214186,
         "shop_id": 45,
         "item_id": 14341,
         "('item_cnt_day', 0)": "nan",
         "('item_cnt_day', 1)": "nan",
         "('item_cnt_day', 2)": "nan",
         "('item_cnt_day', 3)": "nan",
         "('item_cnt_day', 4)": "nan",
         "('item_cnt_day', 5)": "nan",
         "('item_cnt_day', 6)": "nan",
         "('item_cnt_day', 7)": "nan",
         "('item_cnt_day', 8)": "nan",
         "('item_cnt_day', 9)": "nan",
         "('item_cnt_day', 10)": "nan",
         "('item_cnt_day', 11)": "nan",
         "('item_cnt_day', 12)": "nan",
         "('item_cnt_day', 13)": "nan",
         "('item_cnt_day', 14)": "nan",
         "('item_cnt_day', 15)": "nan",
         "('item_cnt_day', 16)": "nan",
         "('item_cnt_day', 17)": "nan",
         "('item_cnt_day', 18)": "nan",
         "('item_cnt_day', 19)": "nan",
         "('item_cnt_day', 20)": "nan",
         "('item_cnt_day', 21)": "nan",
         "('item_cnt_day', 22)": "nan",
         "('item_cnt_day', 23)": "nan",
         "('item_cnt_day', 24)": "nan",
         "('item_cnt_day', 25)": "nan",
         "('item_cnt_day', 26)": "nan",
         "('item_cnt_day', 27)": "nan",
         "('item_cnt_day', 28)": "nan",
         "('item_cnt_day', 29)": "nan",
         "('item_cnt_day', 30)": "nan",
         "('item_cnt_day', 31)": "nan",
         "('item_cnt_day', 32)": "nan",
         "('item_cnt_day', 33)": "nan",
         "_deepnote_index_column": 214186
        },
        {
         "ID": 214187,
         "shop_id": 45,
         "item_id": 5401,
         "('item_cnt_day', 0)": "0.0",
         "('item_cnt_day', 1)": "0.0",
         "('item_cnt_day', 2)": "0.0",
         "('item_cnt_day', 3)": "0.0",
         "('item_cnt_day', 4)": "0.0",
         "('item_cnt_day', 5)": "0.0",
         "('item_cnt_day', 6)": "0.0",
         "('item_cnt_day', 7)": "0.0",
         "('item_cnt_day', 8)": "0.0",
         "('item_cnt_day', 9)": "0.0",
         "('item_cnt_day', 10)": "0.0",
         "('item_cnt_day', 11)": "0.0",
         "('item_cnt_day', 12)": "0.0",
         "('item_cnt_day', 13)": "0.0",
         "('item_cnt_day', 14)": "0.0",
         "('item_cnt_day', 15)": "0.0",
         "('item_cnt_day', 16)": "0.0",
         "('item_cnt_day', 17)": "0.0",
         "('item_cnt_day', 18)": "0.0",
         "('item_cnt_day', 19)": "0.0",
         "('item_cnt_day', 20)": "0.0",
         "('item_cnt_day', 21)": "0.0",
         "('item_cnt_day', 22)": "0.0",
         "('item_cnt_day', 23)": "0.0",
         "('item_cnt_day', 24)": "0.0",
         "('item_cnt_day', 25)": "0.0",
         "('item_cnt_day', 26)": "0.0",
         "('item_cnt_day', 27)": "0.0",
         "('item_cnt_day', 28)": "0.0",
         "('item_cnt_day', 29)": "0.0",
         "('item_cnt_day', 30)": "0.0",
         "('item_cnt_day', 31)": "0.0",
         "('item_cnt_day', 32)": "0.0",
         "('item_cnt_day', 33)": "1.0",
         "_deepnote_index_column": 214187
        },
        {
         "ID": 214188,
         "shop_id": 45,
         "item_id": 9500,
         "('item_cnt_day', 0)": "nan",
         "('item_cnt_day', 1)": "nan",
         "('item_cnt_day', 2)": "nan",
         "('item_cnt_day', 3)": "nan",
         "('item_cnt_day', 4)": "nan",
         "('item_cnt_day', 5)": "nan",
         "('item_cnt_day', 6)": "nan",
         "('item_cnt_day', 7)": "nan",
         "('item_cnt_day', 8)": "nan",
         "('item_cnt_day', 9)": "nan",
         "('item_cnt_day', 10)": "nan",
         "('item_cnt_day', 11)": "nan",
         "('item_cnt_day', 12)": "nan",
         "('item_cnt_day', 13)": "nan",
         "('item_cnt_day', 14)": "nan",
         "('item_cnt_day', 15)": "nan",
         "('item_cnt_day', 16)": "nan",
         "('item_cnt_day', 17)": "nan",
         "('item_cnt_day', 18)": "nan",
         "('item_cnt_day', 19)": "nan",
         "('item_cnt_day', 20)": "nan",
         "('item_cnt_day', 21)": "nan",
         "('item_cnt_day', 22)": "nan",
         "('item_cnt_day', 23)": "nan",
         "('item_cnt_day', 24)": "nan",
         "('item_cnt_day', 25)": "nan",
         "('item_cnt_day', 26)": "nan",
         "('item_cnt_day', 27)": "nan",
         "('item_cnt_day', 28)": "nan",
         "('item_cnt_day', 29)": "nan",
         "('item_cnt_day', 30)": "nan",
         "('item_cnt_day', 31)": "nan",
         "('item_cnt_day', 32)": "nan",
         "('item_cnt_day', 33)": "nan",
         "_deepnote_index_column": 214188
        },
        {
         "ID": 214189,
         "shop_id": 45,
         "item_id": 16007,
         "('item_cnt_day', 0)": "nan",
         "('item_cnt_day', 1)": "nan",
         "('item_cnt_day', 2)": "nan",
         "('item_cnt_day', 3)": "nan",
         "('item_cnt_day', 4)": "nan",
         "('item_cnt_day', 5)": "nan",
         "('item_cnt_day', 6)": "nan",
         "('item_cnt_day', 7)": "nan",
         "('item_cnt_day', 8)": "nan",
         "('item_cnt_day', 9)": "nan",
         "('item_cnt_day', 10)": "nan",
         "('item_cnt_day', 11)": "nan",
         "('item_cnt_day', 12)": "nan",
         "('item_cnt_day', 13)": "nan",
         "('item_cnt_day', 14)": "nan",
         "('item_cnt_day', 15)": "nan",
         "('item_cnt_day', 16)": "nan",
         "('item_cnt_day', 17)": "nan",
         "('item_cnt_day', 18)": "nan",
         "('item_cnt_day', 19)": "nan",
         "('item_cnt_day', 20)": "nan",
         "('item_cnt_day', 21)": "nan",
         "('item_cnt_day', 22)": "nan",
         "('item_cnt_day', 23)": "nan",
         "('item_cnt_day', 24)": "nan",
         "('item_cnt_day', 25)": "nan",
         "('item_cnt_day', 26)": "nan",
         "('item_cnt_day', 27)": "nan",
         "('item_cnt_day', 28)": "nan",
         "('item_cnt_day', 29)": "nan",
         "('item_cnt_day', 30)": "nan",
         "('item_cnt_day', 31)": "nan",
         "('item_cnt_day', 32)": "nan",
         "('item_cnt_day', 33)": "nan",
         "_deepnote_index_column": 214189
        },
        {
         "ID": 214190,
         "shop_id": 45,
         "item_id": 3280,
         "('item_cnt_day', 0)": "0.0",
         "('item_cnt_day', 1)": "0.0",
         "('item_cnt_day', 2)": "0.0",
         "('item_cnt_day', 3)": "0.0",
         "('item_cnt_day', 4)": "0.0",
         "('item_cnt_day', 5)": "0.0",
         "('item_cnt_day', 6)": "0.0",
         "('item_cnt_day', 7)": "0.0",
         "('item_cnt_day', 8)": "0.0",
         "('item_cnt_day', 9)": "0.0",
         "('item_cnt_day', 10)": "0.0",
         "('item_cnt_day', 11)": "0.0",
         "('item_cnt_day', 12)": "0.0",
         "('item_cnt_day', 13)": "0.0",
         "('item_cnt_day', 14)": "0.0",
         "('item_cnt_day', 15)": "0.0",
         "('item_cnt_day', 16)": "0.0",
         "('item_cnt_day', 17)": "0.0",
         "('item_cnt_day', 18)": "0.0",
         "('item_cnt_day', 19)": "0.0",
         "('item_cnt_day', 20)": "0.0",
         "('item_cnt_day', 21)": "0.0",
         "('item_cnt_day', 22)": "0.0",
         "('item_cnt_day', 23)": "0.0",
         "('item_cnt_day', 24)": "0.0",
         "('item_cnt_day', 25)": "0.0",
         "('item_cnt_day', 26)": "0.0",
         "('item_cnt_day', 27)": "1.0",
         "('item_cnt_day', 28)": "0.0",
         "('item_cnt_day', 29)": "0.0",
         "('item_cnt_day', 30)": "0.0",
         "('item_cnt_day', 31)": "0.0",
         "('item_cnt_day', 32)": "0.0",
         "('item_cnt_day', 33)": "0.0",
         "_deepnote_index_column": 214190
        },
        {
         "ID": 214191,
         "shop_id": 45,
         "item_id": 4393,
         "('item_cnt_day', 0)": "0.0",
         "('item_cnt_day', 1)": "0.0",
         "('item_cnt_day', 2)": "0.0",
         "('item_cnt_day', 3)": "0.0",
         "('item_cnt_day', 4)": "0.0",
         "('item_cnt_day', 5)": "0.0",
         "('item_cnt_day', 6)": "0.0",
         "('item_cnt_day', 7)": "0.0",
         "('item_cnt_day', 8)": "0.0",
         "('item_cnt_day', 9)": "0.0",
         "('item_cnt_day', 10)": "0.0",
         "('item_cnt_day', 11)": "0.0",
         "('item_cnt_day', 12)": "0.0",
         "('item_cnt_day', 13)": "0.0",
         "('item_cnt_day', 14)": "0.0",
         "('item_cnt_day', 15)": "0.0",
         "('item_cnt_day', 16)": "0.0",
         "('item_cnt_day', 17)": "0.0",
         "('item_cnt_day', 18)": "0.0",
         "('item_cnt_day', 19)": "1.0",
         "('item_cnt_day', 20)": "0.0",
         "('item_cnt_day', 21)": "0.0",
         "('item_cnt_day', 22)": "0.0",
         "('item_cnt_day', 23)": "0.0",
         "('item_cnt_day', 24)": "0.0",
         "('item_cnt_day', 25)": "0.0",
         "('item_cnt_day', 26)": "0.0",
         "('item_cnt_day', 27)": "0.0",
         "('item_cnt_day', 28)": "0.0",
         "('item_cnt_day', 29)": "0.0",
         "('item_cnt_day', 30)": "0.0",
         "('item_cnt_day', 31)": "0.0",
         "('item_cnt_day', 32)": "0.0",
         "('item_cnt_day', 33)": "0.0",
         "_deepnote_index_column": 214191
        },
        {
         "ID": 214192,
         "shop_id": 45,
         "item_id": 4352,
         "('item_cnt_day', 0)": "0.0",
         "('item_cnt_day', 1)": "0.0",
         "('item_cnt_day', 2)": "0.0",
         "('item_cnt_day', 3)": "0.0",
         "('item_cnt_day', 4)": "0.0",
         "('item_cnt_day', 5)": "0.0",
         "('item_cnt_day', 6)": "0.0",
         "('item_cnt_day', 7)": "0.0",
         "('item_cnt_day', 8)": "0.0",
         "('item_cnt_day', 9)": "0.0",
         "('item_cnt_day', 10)": "0.0",
         "('item_cnt_day', 11)": "2.0",
         "('item_cnt_day', 12)": "1.0",
         "('item_cnt_day', 13)": "1.0",
         "('item_cnt_day', 14)": "0.0",
         "('item_cnt_day', 15)": "1.0",
         "('item_cnt_day', 16)": "0.0",
         "('item_cnt_day', 17)": "1.0",
         "('item_cnt_day', 18)": "0.0",
         "('item_cnt_day', 19)": "1.0",
         "('item_cnt_day', 20)": "0.0",
         "('item_cnt_day', 21)": "0.0",
         "('item_cnt_day', 22)": "0.0",
         "('item_cnt_day', 23)": "0.0",
         "('item_cnt_day', 24)": "1.0",
         "('item_cnt_day', 25)": "0.0",
         "('item_cnt_day', 26)": "0.0",
         "('item_cnt_day', 27)": "0.0",
         "('item_cnt_day', 28)": "0.0",
         "('item_cnt_day', 29)": "0.0",
         "('item_cnt_day', 30)": "0.0",
         "('item_cnt_day', 31)": "0.0",
         "('item_cnt_day', 32)": "0.0",
         "('item_cnt_day', 33)": "0.0",
         "_deepnote_index_column": 214192
        },
        {
         "ID": 214193,
         "shop_id": 45,
         "item_id": 18049,
         "('item_cnt_day', 0)": "0.0",
         "('item_cnt_day', 1)": "0.0",
         "('item_cnt_day', 2)": "0.0",
         "('item_cnt_day', 3)": "0.0",
         "('item_cnt_day', 4)": "0.0",
         "('item_cnt_day', 5)": "0.0",
         "('item_cnt_day', 6)": "0.0",
         "('item_cnt_day', 7)": "0.0",
         "('item_cnt_day', 8)": "0.0",
         "('item_cnt_day', 9)": "0.0",
         "('item_cnt_day', 10)": "0.0",
         "('item_cnt_day', 11)": "0.0",
         "('item_cnt_day', 12)": "0.0",
         "('item_cnt_day', 13)": "0.0",
         "('item_cnt_day', 14)": "0.0",
         "('item_cnt_day', 15)": "0.0",
         "('item_cnt_day', 16)": "0.0",
         "('item_cnt_day', 17)": "0.0",
         "('item_cnt_day', 18)": "0.0",
         "('item_cnt_day', 19)": "0.0",
         "('item_cnt_day', 20)": "0.0",
         "('item_cnt_day', 21)": "0.0",
         "('item_cnt_day', 22)": "0.0",
         "('item_cnt_day', 23)": "0.0",
         "('item_cnt_day', 24)": "0.0",
         "('item_cnt_day', 25)": "0.0",
         "('item_cnt_day', 26)": "0.0",
         "('item_cnt_day', 27)": "0.0",
         "('item_cnt_day', 28)": "1.0",
         "('item_cnt_day', 29)": "1.0",
         "('item_cnt_day', 30)": "1.0",
         "('item_cnt_day', 31)": "0.0",
         "('item_cnt_day', 32)": "0.0",
         "('item_cnt_day', 33)": "0.0",
         "_deepnote_index_column": 214193
        },
        {
         "ID": 214194,
         "shop_id": 45,
         "item_id": 18027,
         "('item_cnt_day', 0)": "nan",
         "('item_cnt_day', 1)": "nan",
         "('item_cnt_day', 2)": "nan",
         "('item_cnt_day', 3)": "nan",
         "('item_cnt_day', 4)": "nan",
         "('item_cnt_day', 5)": "nan",
         "('item_cnt_day', 6)": "nan",
         "('item_cnt_day', 7)": "nan",
         "('item_cnt_day', 8)": "nan",
         "('item_cnt_day', 9)": "nan",
         "('item_cnt_day', 10)": "nan",
         "('item_cnt_day', 11)": "nan",
         "('item_cnt_day', 12)": "nan",
         "('item_cnt_day', 13)": "nan",
         "('item_cnt_day', 14)": "nan",
         "('item_cnt_day', 15)": "nan",
         "('item_cnt_day', 16)": "nan",
         "('item_cnt_day', 17)": "nan",
         "('item_cnt_day', 18)": "nan",
         "('item_cnt_day', 19)": "nan",
         "('item_cnt_day', 20)": "nan",
         "('item_cnt_day', 21)": "nan",
         "('item_cnt_day', 22)": "nan",
         "('item_cnt_day', 23)": "nan",
         "('item_cnt_day', 24)": "nan",
         "('item_cnt_day', 25)": "nan",
         "('item_cnt_day', 26)": "nan",
         "('item_cnt_day', 27)": "nan",
         "('item_cnt_day', 28)": "nan",
         "('item_cnt_day', 29)": "nan",
         "('item_cnt_day', 30)": "nan",
         "('item_cnt_day', 31)": "nan",
         "('item_cnt_day', 32)": "nan",
         "('item_cnt_day', 33)": "nan",
         "_deepnote_index_column": 214194
        },
        {
         "ID": 214195,
         "shop_id": 45,
         "item_id": 18454,
         "('item_cnt_day', 0)": "0.0",
         "('item_cnt_day', 1)": "0.0",
         "('item_cnt_day', 2)": "0.0",
         "('item_cnt_day', 3)": "0.0",
         "('item_cnt_day', 4)": "0.0",
         "('item_cnt_day', 5)": "0.0",
         "('item_cnt_day', 6)": "0.0",
         "('item_cnt_day', 7)": "0.0",
         "('item_cnt_day', 8)": "0.0",
         "('item_cnt_day', 9)": "0.0",
         "('item_cnt_day', 10)": "0.0",
         "('item_cnt_day', 11)": "0.0",
         "('item_cnt_day', 12)": "0.0",
         "('item_cnt_day', 13)": "0.0",
         "('item_cnt_day', 14)": "0.0",
         "('item_cnt_day', 15)": "0.0",
         "('item_cnt_day', 16)": "0.0",
         "('item_cnt_day', 17)": "0.0",
         "('item_cnt_day', 18)": "0.0",
         "('item_cnt_day', 19)": "0.0",
         "('item_cnt_day', 20)": "0.0",
         "('item_cnt_day', 21)": "0.0",
         "('item_cnt_day', 22)": "0.0",
         "('item_cnt_day', 23)": "4.0",
         "('item_cnt_day', 24)": "2.0",
         "('item_cnt_day', 25)": "1.0",
         "('item_cnt_day', 26)": "1.0",
         "('item_cnt_day', 27)": "0.0",
         "('item_cnt_day', 28)": "0.0",
         "('item_cnt_day', 29)": "0.0",
         "('item_cnt_day', 30)": "0.0",
         "('item_cnt_day', 31)": "0.0",
         "('item_cnt_day', 32)": "0.0",
         "('item_cnt_day', 33)": "1.0",
         "_deepnote_index_column": 214195
        },
        {
         "ID": 214196,
         "shop_id": 45,
         "item_id": 16188,
         "('item_cnt_day', 0)": "nan",
         "('item_cnt_day', 1)": "nan",
         "('item_cnt_day', 2)": "nan",
         "('item_cnt_day', 3)": "nan",
         "('item_cnt_day', 4)": "nan",
         "('item_cnt_day', 5)": "nan",
         "('item_cnt_day', 6)": "nan",
         "('item_cnt_day', 7)": "nan",
         "('item_cnt_day', 8)": "nan",
         "('item_cnt_day', 9)": "nan",
         "('item_cnt_day', 10)": "nan",
         "('item_cnt_day', 11)": "nan",
         "('item_cnt_day', 12)": "nan",
         "('item_cnt_day', 13)": "nan",
         "('item_cnt_day', 14)": "nan",
         "('item_cnt_day', 15)": "nan",
         "('item_cnt_day', 16)": "nan",
         "('item_cnt_day', 17)": "nan",
         "('item_cnt_day', 18)": "nan",
         "('item_cnt_day', 19)": "nan",
         "('item_cnt_day', 20)": "nan",
         "('item_cnt_day', 21)": "nan",
         "('item_cnt_day', 22)": "nan",
         "('item_cnt_day', 23)": "nan",
         "('item_cnt_day', 24)": "nan",
         "('item_cnt_day', 25)": "nan",
         "('item_cnt_day', 26)": "nan",
         "('item_cnt_day', 27)": "nan",
         "('item_cnt_day', 28)": "nan",
         "('item_cnt_day', 29)": "nan",
         "('item_cnt_day', 30)": "nan",
         "('item_cnt_day', 31)": "nan",
         "('item_cnt_day', 32)": "nan",
         "('item_cnt_day', 33)": "nan",
         "_deepnote_index_column": 214196
        },
        {
         "ID": 214197,
         "shop_id": 45,
         "item_id": 15757,
         "('item_cnt_day', 0)": "1.0",
         "('item_cnt_day', 1)": "0.0",
         "('item_cnt_day', 2)": "0.0",
         "('item_cnt_day', 3)": "0.0",
         "('item_cnt_day', 4)": "0.0",
         "('item_cnt_day', 5)": "0.0",
         "('item_cnt_day', 6)": "0.0",
         "('item_cnt_day', 7)": "0.0",
         "('item_cnt_day', 8)": "0.0",
         "('item_cnt_day', 9)": "0.0",
         "('item_cnt_day', 10)": "2.0",
         "('item_cnt_day', 11)": "0.0",
         "('item_cnt_day', 12)": "0.0",
         "('item_cnt_day', 13)": "0.0",
         "('item_cnt_day', 14)": "0.0",
         "('item_cnt_day', 15)": "1.0",
         "('item_cnt_day', 16)": "1.0",
         "('item_cnt_day', 17)": "0.0",
         "('item_cnt_day', 18)": "0.0",
         "('item_cnt_day', 19)": "0.0",
         "('item_cnt_day', 20)": "0.0",
         "('item_cnt_day', 21)": "0.0",
         "('item_cnt_day', 22)": "0.0",
         "('item_cnt_day', 23)": "0.0",
         "('item_cnt_day', 24)": "1.0",
         "('item_cnt_day', 25)": "1.0",
         "('item_cnt_day', 26)": "0.0",
         "('item_cnt_day', 27)": "0.0",
         "('item_cnt_day', 28)": "0.0",
         "('item_cnt_day', 29)": "0.0",
         "('item_cnt_day', 30)": "0.0",
         "('item_cnt_day', 31)": "0.0",
         "('item_cnt_day', 32)": "0.0",
         "('item_cnt_day', 33)": "0.0",
         "_deepnote_index_column": 214197
        },
        {
         "ID": 214198,
         "shop_id": 45,
         "item_id": 19648,
         "('item_cnt_day', 0)": "nan",
         "('item_cnt_day', 1)": "nan",
         "('item_cnt_day', 2)": "nan",
         "('item_cnt_day', 3)": "nan",
         "('item_cnt_day', 4)": "nan",
         "('item_cnt_day', 5)": "nan",
         "('item_cnt_day', 6)": "nan",
         "('item_cnt_day', 7)": "nan",
         "('item_cnt_day', 8)": "nan",
         "('item_cnt_day', 9)": "nan",
         "('item_cnt_day', 10)": "nan",
         "('item_cnt_day', 11)": "nan",
         "('item_cnt_day', 12)": "nan",
         "('item_cnt_day', 13)": "nan",
         "('item_cnt_day', 14)": "nan",
         "('item_cnt_day', 15)": "nan",
         "('item_cnt_day', 16)": "nan",
         "('item_cnt_day', 17)": "nan",
         "('item_cnt_day', 18)": "nan",
         "('item_cnt_day', 19)": "nan",
         "('item_cnt_day', 20)": "nan",
         "('item_cnt_day', 21)": "nan",
         "('item_cnt_day', 22)": "nan",
         "('item_cnt_day', 23)": "nan",
         "('item_cnt_day', 24)": "nan",
         "('item_cnt_day', 25)": "nan",
         "('item_cnt_day', 26)": "nan",
         "('item_cnt_day', 27)": "nan",
         "('item_cnt_day', 28)": "nan",
         "('item_cnt_day', 29)": "nan",
         "('item_cnt_day', 30)": "nan",
         "('item_cnt_day', 31)": "nan",
         "('item_cnt_day', 32)": "nan",
         "('item_cnt_day', 33)": "nan",
         "_deepnote_index_column": 214198
        },
        {
         "ID": 214199,
         "shop_id": 45,
         "item_id": 969,
         "('item_cnt_day', 0)": "0.0",
         "('item_cnt_day', 1)": "0.0",
         "('item_cnt_day', 2)": "0.0",
         "('item_cnt_day', 3)": "0.0",
         "('item_cnt_day', 4)": "0.0",
         "('item_cnt_day', 5)": "0.0",
         "('item_cnt_day', 6)": "0.0",
         "('item_cnt_day', 7)": "0.0",
         "('item_cnt_day', 8)": "0.0",
         "('item_cnt_day', 9)": "0.0",
         "('item_cnt_day', 10)": "0.0",
         "('item_cnt_day', 11)": "0.0",
         "('item_cnt_day', 12)": "0.0",
         "('item_cnt_day', 13)": "0.0",
         "('item_cnt_day', 14)": "0.0",
         "('item_cnt_day', 15)": "0.0",
         "('item_cnt_day', 16)": "0.0",
         "('item_cnt_day', 17)": "3.0",
         "('item_cnt_day', 18)": "1.0",
         "('item_cnt_day', 19)": "1.0",
         "('item_cnt_day', 20)": "0.0",
         "('item_cnt_day', 21)": "0.0",
         "('item_cnt_day', 22)": "0.0",
         "('item_cnt_day', 23)": "0.0",
         "('item_cnt_day', 24)": "0.0",
         "('item_cnt_day', 25)": "0.0",
         "('item_cnt_day', 26)": "0.0",
         "('item_cnt_day', 27)": "0.0",
         "('item_cnt_day', 28)": "0.0",
         "('item_cnt_day', 29)": "0.0",
         "('item_cnt_day', 30)": "0.0",
         "('item_cnt_day', 31)": "0.0",
         "('item_cnt_day', 32)": "0.0",
         "('item_cnt_day', 33)": "0.0",
         "_deepnote_index_column": 214199
        }
       ]
      },
      "text/plain": "            ID  shop_id  item_id  (item_cnt_day, 0)  (item_cnt_day, 1)  \\\n0            0        5     5037                0.0                0.0   \n1            1        5     5320                NaN                NaN   \n2            2        5     5233                0.0                0.0   \n3            3        5     5232                0.0                0.0   \n4            4        5     5268                NaN                NaN   \n...        ...      ...      ...                ...                ...   \n214195  214195       45    18454                0.0                0.0   \n214196  214196       45    16188                NaN                NaN   \n214197  214197       45    15757                1.0                0.0   \n214198  214198       45    19648                NaN                NaN   \n214199  214199       45      969                0.0                0.0   \n\n        (item_cnt_day, 2)  (item_cnt_day, 3)  (item_cnt_day, 4)  \\\n0                     0.0                0.0                0.0   \n1                     NaN                NaN                NaN   \n2                     0.0                0.0                0.0   \n3                     0.0                0.0                0.0   \n4                     NaN                NaN                NaN   \n...                   ...                ...                ...   \n214195                0.0                0.0                0.0   \n214196                NaN                NaN                NaN   \n214197                0.0                0.0                0.0   \n214198                NaN                NaN                NaN   \n214199                0.0                0.0                0.0   \n\n        (item_cnt_day, 5)  (item_cnt_day, 6)  ...  (item_cnt_day, 24)  \\\n0                     0.0                0.0  ...                 2.0   \n1                     NaN                NaN  ...                 NaN   \n2                     0.0                0.0  ...                 0.0   \n3                     0.0                0.0  ...                 0.0   \n4                     NaN                NaN  ...                 NaN   \n...                   ...                ...  ...                 ...   \n214195                0.0                0.0  ...                 2.0   \n214196                NaN                NaN  ...                 NaN   \n214197                0.0                0.0  ...                 1.0   \n214198                NaN                NaN  ...                 NaN   \n214199                0.0                0.0  ...                 0.0   \n\n        (item_cnt_day, 25)  (item_cnt_day, 26)  (item_cnt_day, 27)  \\\n0                      0.0                 0.0                 0.0   \n1                      NaN                 NaN                 NaN   \n2                      0.0                 0.0                 0.0   \n3                      0.0                 0.0                 0.0   \n4                      NaN                 NaN                 NaN   \n...                    ...                 ...                 ...   \n214195                 1.0                 1.0                 0.0   \n214196                 NaN                 NaN                 NaN   \n214197                 1.0                 0.0                 0.0   \n214198                 NaN                 NaN                 NaN   \n214199                 0.0                 0.0                 0.0   \n\n        (item_cnt_day, 28)  (item_cnt_day, 29)  (item_cnt_day, 30)  \\\n0                      1.0                 1.0                 1.0   \n1                      NaN                 NaN                 NaN   \n2                      3.0                 2.0                 0.0   \n3                      0.0                 0.0                 0.0   \n4                      NaN                 NaN                 NaN   \n...                    ...                 ...                 ...   \n214195                 0.0                 0.0                 0.0   \n214196                 NaN                 NaN                 NaN   \n214197                 0.0                 0.0                 0.0   \n214198                 NaN                 NaN                 NaN   \n214199                 0.0                 0.0                 0.0   \n\n        (item_cnt_day, 31)  (item_cnt_day, 32)  (item_cnt_day, 33)  \n0                      3.0                 1.0                 0.0  \n1                      NaN                 NaN                 NaN  \n2                      1.0                 3.0                 1.0  \n3                      1.0                 0.0                 0.0  \n4                      NaN                 NaN                 NaN  \n...                    ...                 ...                 ...  \n214195                 0.0                 0.0                 1.0  \n214196                 NaN                 NaN                 NaN  \n214197                 0.0                 0.0                 0.0  \n214198                 NaN                 NaN                 NaN  \n214199                 0.0                 0.0                 0.0  \n\n[214200 rows x 37 columns]",
      "text/html": "<div>\n<style scoped>\n    .dataframe tbody tr th:only-of-type {\n        vertical-align: middle;\n    }\n\n    .dataframe tbody tr th {\n        vertical-align: top;\n    }\n\n    .dataframe thead th {\n        text-align: right;\n    }\n</style>\n<table border=\"1\" class=\"dataframe\">\n  <thead>\n    <tr style=\"text-align: right;\">\n      <th></th>\n      <th>ID</th>\n      <th>shop_id</th>\n      <th>item_id</th>\n      <th>(item_cnt_day, 0)</th>\n      <th>(item_cnt_day, 1)</th>\n      <th>(item_cnt_day, 2)</th>\n      <th>(item_cnt_day, 3)</th>\n      <th>(item_cnt_day, 4)</th>\n      <th>(item_cnt_day, 5)</th>\n      <th>(item_cnt_day, 6)</th>\n      <th>...</th>\n      <th>(item_cnt_day, 24)</th>\n      <th>(item_cnt_day, 25)</th>\n      <th>(item_cnt_day, 26)</th>\n      <th>(item_cnt_day, 27)</th>\n      <th>(item_cnt_day, 28)</th>\n      <th>(item_cnt_day, 29)</th>\n      <th>(item_cnt_day, 30)</th>\n      <th>(item_cnt_day, 31)</th>\n      <th>(item_cnt_day, 32)</th>\n      <th>(item_cnt_day, 33)</th>\n    </tr>\n  </thead>\n  <tbody>\n    <tr>\n      <th>0</th>\n      <td>0</td>\n      <td>5</td>\n      <td>5037</td>\n      <td>0.0</td>\n      <td>0.0</td>\n      <td>0.0</td>\n      <td>0.0</td>\n      <td>0.0</td>\n      <td>0.0</td>\n      <td>0.0</td>\n      <td>...</td>\n      <td>2.0</td>\n      <td>0.0</td>\n      <td>0.0</td>\n      <td>0.0</td>\n      <td>1.0</td>\n      <td>1.0</td>\n      <td>1.0</td>\n      <td>3.0</td>\n      <td>1.0</td>\n      <td>0.0</td>\n    </tr>\n    <tr>\n      <th>1</th>\n      <td>1</td>\n      <td>5</td>\n      <td>5320</td>\n      <td>NaN</td>\n      <td>NaN</td>\n      <td>NaN</td>\n      <td>NaN</td>\n      <td>NaN</td>\n      <td>NaN</td>\n      <td>NaN</td>\n      <td>...</td>\n      <td>NaN</td>\n      <td>NaN</td>\n      <td>NaN</td>\n      <td>NaN</td>\n      <td>NaN</td>\n      <td>NaN</td>\n      <td>NaN</td>\n      <td>NaN</td>\n      <td>NaN</td>\n      <td>NaN</td>\n    </tr>\n    <tr>\n      <th>2</th>\n      <td>2</td>\n      <td>5</td>\n      <td>5233</td>\n      <td>0.0</td>\n      <td>0.0</td>\n      <td>0.0</td>\n      <td>0.0</td>\n      <td>0.0</td>\n      <td>0.0</td>\n      <td>0.0</td>\n      <td>...</td>\n      <td>0.0</td>\n      <td>0.0</td>\n      <td>0.0</td>\n      <td>0.0</td>\n      <td>3.0</td>\n      <td>2.0</td>\n      <td>0.0</td>\n      <td>1.0</td>\n      <td>3.0</td>\n      <td>1.0</td>\n    </tr>\n    <tr>\n      <th>3</th>\n      <td>3</td>\n      <td>5</td>\n      <td>5232</td>\n      <td>0.0</td>\n      <td>0.0</td>\n      <td>0.0</td>\n      <td>0.0</td>\n      <td>0.0</td>\n      <td>0.0</td>\n      <td>0.0</td>\n      <td>...</td>\n      <td>0.0</td>\n      <td>0.0</td>\n      <td>0.0</td>\n      <td>0.0</td>\n      <td>0.0</td>\n      <td>0.0</td>\n      <td>0.0</td>\n      <td>1.0</td>\n      <td>0.0</td>\n      <td>0.0</td>\n    </tr>\n    <tr>\n      <th>4</th>\n      <td>4</td>\n      <td>5</td>\n      <td>5268</td>\n      <td>NaN</td>\n      <td>NaN</td>\n      <td>NaN</td>\n      <td>NaN</td>\n      <td>NaN</td>\n      <td>NaN</td>\n      <td>NaN</td>\n      <td>...</td>\n      <td>NaN</td>\n      <td>NaN</td>\n      <td>NaN</td>\n      <td>NaN</td>\n      <td>NaN</td>\n      <td>NaN</td>\n      <td>NaN</td>\n      <td>NaN</td>\n      <td>NaN</td>\n      <td>NaN</td>\n    </tr>\n    <tr>\n      <th>...</th>\n      <td>...</td>\n      <td>...</td>\n      <td>...</td>\n      <td>...</td>\n      <td>...</td>\n      <td>...</td>\n      <td>...</td>\n      <td>...</td>\n      <td>...</td>\n      <td>...</td>\n      <td>...</td>\n      <td>...</td>\n      <td>...</td>\n      <td>...</td>\n      <td>...</td>\n      <td>...</td>\n      <td>...</td>\n      <td>...</td>\n      <td>...</td>\n      <td>...</td>\n      <td>...</td>\n    </tr>\n    <tr>\n      <th>214195</th>\n      <td>214195</td>\n      <td>45</td>\n      <td>18454</td>\n      <td>0.0</td>\n      <td>0.0</td>\n      <td>0.0</td>\n      <td>0.0</td>\n      <td>0.0</td>\n      <td>0.0</td>\n      <td>0.0</td>\n      <td>...</td>\n      <td>2.0</td>\n      <td>1.0</td>\n      <td>1.0</td>\n      <td>0.0</td>\n      <td>0.0</td>\n      <td>0.0</td>\n      <td>0.0</td>\n      <td>0.0</td>\n      <td>0.0</td>\n      <td>1.0</td>\n    </tr>\n    <tr>\n      <th>214196</th>\n      <td>214196</td>\n      <td>45</td>\n      <td>16188</td>\n      <td>NaN</td>\n      <td>NaN</td>\n      <td>NaN</td>\n      <td>NaN</td>\n      <td>NaN</td>\n      <td>NaN</td>\n      <td>NaN</td>\n      <td>...</td>\n      <td>NaN</td>\n      <td>NaN</td>\n      <td>NaN</td>\n      <td>NaN</td>\n      <td>NaN</td>\n      <td>NaN</td>\n      <td>NaN</td>\n      <td>NaN</td>\n      <td>NaN</td>\n      <td>NaN</td>\n    </tr>\n    <tr>\n      <th>214197</th>\n      <td>214197</td>\n      <td>45</td>\n      <td>15757</td>\n      <td>1.0</td>\n      <td>0.0</td>\n      <td>0.0</td>\n      <td>0.0</td>\n      <td>0.0</td>\n      <td>0.0</td>\n      <td>0.0</td>\n      <td>...</td>\n      <td>1.0</td>\n      <td>1.0</td>\n      <td>0.0</td>\n      <td>0.0</td>\n      <td>0.0</td>\n      <td>0.0</td>\n      <td>0.0</td>\n      <td>0.0</td>\n      <td>0.0</td>\n      <td>0.0</td>\n    </tr>\n    <tr>\n      <th>214198</th>\n      <td>214198</td>\n      <td>45</td>\n      <td>19648</td>\n      <td>NaN</td>\n      <td>NaN</td>\n      <td>NaN</td>\n      <td>NaN</td>\n      <td>NaN</td>\n      <td>NaN</td>\n      <td>NaN</td>\n      <td>...</td>\n      <td>NaN</td>\n      <td>NaN</td>\n      <td>NaN</td>\n      <td>NaN</td>\n      <td>NaN</td>\n      <td>NaN</td>\n      <td>NaN</td>\n      <td>NaN</td>\n      <td>NaN</td>\n      <td>NaN</td>\n    </tr>\n    <tr>\n      <th>214199</th>\n      <td>214199</td>\n      <td>45</td>\n      <td>969</td>\n      <td>0.0</td>\n      <td>0.0</td>\n      <td>0.0</td>\n      <td>0.0</td>\n      <td>0.0</td>\n      <td>0.0</td>\n      <td>0.0</td>\n      <td>...</td>\n      <td>0.0</td>\n      <td>0.0</td>\n      <td>0.0</td>\n      <td>0.0</td>\n      <td>0.0</td>\n      <td>0.0</td>\n      <td>0.0</td>\n      <td>0.0</td>\n      <td>0.0</td>\n      <td>0.0</td>\n    </tr>\n  </tbody>\n</table>\n<p>214200 rows × 37 columns</p>\n</div>"
     },
     "metadata": {}
    }
   ],
   "execution_count": null
  },
  {
   "cell_type": "code",
   "source": "#check for any null values\ndataset.isnull().sum().sum()",
   "metadata": {
    "tags": [],
    "cell_id": "00008-268040e6-46ed-4b5b-bda9-57259dc8d0f9",
    "deepnote_to_be_reexecuted": false,
    "source_hash": "71bba765",
    "execution_start": 1620654838091,
    "execution_millis": 21,
    "deepnote_cell_type": "code"
   },
   "outputs": [
    {
     "output_type": "execute_result",
     "execution_count": 18,
     "data": {
      "text/plain": "3495064"
     },
     "metadata": {}
    }
   ],
   "execution_count": null
  },
  {
   "cell_type": "code",
   "source": "#fill all NaN values with 0\ndataset.fillna(0,inplace = True)\ndataset.isnull().sum().sum()",
   "metadata": {
    "tags": [],
    "cell_id": "00009-2ddf704a-6e44-49a9-9447-71a9966f4b4e",
    "deepnote_to_be_reexecuted": false,
    "source_hash": "9e8f89f6",
    "execution_start": 1620654853324,
    "execution_millis": 71,
    "deepnote_cell_type": "code"
   },
   "outputs": [
    {
     "output_type": "execute_result",
     "execution_count": 19,
     "data": {
      "text/plain": "0"
     },
     "metadata": {}
    }
   ],
   "execution_count": null
  },
  {
   "cell_type": "code",
   "source": "#drop shop_id and item_id\ndataset.drop(['shop_id','item_id'],inplace = True, axis = 1)\ndataset",
   "metadata": {
    "tags": [],
    "cell_id": "00010-945033a6-b504-43ed-8d20-8ff5058aa695",
    "deepnote_to_be_reexecuted": false,
    "source_hash": "80a63656",
    "execution_start": 1620654863787,
    "execution_millis": 123,
    "deepnote_cell_type": "code"
   },
   "outputs": [
    {
     "output_type": "execute_result",
     "execution_count": 20,
     "data": {
      "application/vnd.deepnote.dataframe.v2+json": {
       "row_count": 214200,
       "column_count": 35,
       "columns": [
        {
         "name": "ID",
         "dtype": "int64"
        },
        {
         "name": [
          "item_cnt_day",
          0
         ],
         "dtype": "float64"
        },
        {
         "name": [
          "item_cnt_day",
          1
         ],
         "dtype": "float64"
        },
        {
         "name": [
          "item_cnt_day",
          2
         ],
         "dtype": "float64"
        },
        {
         "name": [
          "item_cnt_day",
          3
         ],
         "dtype": "float64"
        },
        {
         "name": [
          "item_cnt_day",
          4
         ],
         "dtype": "float64"
        },
        {
         "name": [
          "item_cnt_day",
          5
         ],
         "dtype": "float64"
        },
        {
         "name": [
          "item_cnt_day",
          6
         ],
         "dtype": "float64"
        },
        {
         "name": [
          "item_cnt_day",
          7
         ],
         "dtype": "float64"
        },
        {
         "name": [
          "item_cnt_day",
          8
         ],
         "dtype": "float64"
        },
        {
         "name": [
          "item_cnt_day",
          9
         ],
         "dtype": "float64"
        },
        {
         "name": [
          "item_cnt_day",
          10
         ],
         "dtype": "float64"
        },
        {
         "name": [
          "item_cnt_day",
          11
         ],
         "dtype": "float64"
        },
        {
         "name": [
          "item_cnt_day",
          12
         ],
         "dtype": "float64"
        },
        {
         "name": [
          "item_cnt_day",
          13
         ],
         "dtype": "float64"
        },
        {
         "name": [
          "item_cnt_day",
          14
         ],
         "dtype": "float64"
        },
        {
         "name": [
          "item_cnt_day",
          15
         ],
         "dtype": "float64"
        },
        {
         "name": [
          "item_cnt_day",
          16
         ],
         "dtype": "float64"
        },
        {
         "name": [
          "item_cnt_day",
          17
         ],
         "dtype": "float64"
        },
        {
         "name": [
          "item_cnt_day",
          18
         ],
         "dtype": "float64"
        },
        {
         "name": [
          "item_cnt_day",
          19
         ],
         "dtype": "float64"
        },
        {
         "name": [
          "item_cnt_day",
          20
         ],
         "dtype": "float64"
        },
        {
         "name": [
          "item_cnt_day",
          21
         ],
         "dtype": "float64"
        },
        {
         "name": [
          "item_cnt_day",
          22
         ],
         "dtype": "float64"
        },
        {
         "name": [
          "item_cnt_day",
          23
         ],
         "dtype": "float64"
        },
        {
         "name": [
          "item_cnt_day",
          24
         ],
         "dtype": "float64"
        },
        {
         "name": [
          "item_cnt_day",
          25
         ],
         "dtype": "float64"
        },
        {
         "name": [
          "item_cnt_day",
          26
         ],
         "dtype": "float64"
        },
        {
         "name": [
          "item_cnt_day",
          27
         ],
         "dtype": "float64"
        },
        {
         "name": [
          "item_cnt_day",
          28
         ],
         "dtype": "float64"
        },
        {
         "name": [
          "item_cnt_day",
          29
         ],
         "dtype": "float64"
        },
        {
         "name": [
          "item_cnt_day",
          30
         ],
         "dtype": "float64"
        },
        {
         "name": [
          "item_cnt_day",
          31
         ],
         "dtype": "float64"
        },
        {
         "name": [
          "item_cnt_day",
          32
         ],
         "dtype": "float64"
        },
        {
         "name": [
          "item_cnt_day",
          33
         ],
         "dtype": "float64"
        },
        {
         "name": "_deepnote_index_column",
         "dtype": "int64"
        }
       ],
       "rows_top": [
        {
         "ID": 0,
         "('item_cnt_day', 0)": 0,
         "('item_cnt_day', 1)": 0,
         "('item_cnt_day', 2)": 0,
         "('item_cnt_day', 3)": 0,
         "('item_cnt_day', 4)": 0,
         "('item_cnt_day', 5)": 0,
         "('item_cnt_day', 6)": 0,
         "('item_cnt_day', 7)": 0,
         "('item_cnt_day', 8)": 0,
         "('item_cnt_day', 9)": 0,
         "('item_cnt_day', 10)": 0,
         "('item_cnt_day', 11)": 0,
         "('item_cnt_day', 12)": 0,
         "('item_cnt_day', 13)": 0,
         "('item_cnt_day', 14)": 0,
         "('item_cnt_day', 15)": 0,
         "('item_cnt_day', 16)": 0,
         "('item_cnt_day', 17)": 0,
         "('item_cnt_day', 18)": 0,
         "('item_cnt_day', 19)": 0,
         "('item_cnt_day', 20)": 1,
         "('item_cnt_day', 21)": 0,
         "('item_cnt_day', 22)": 1,
         "('item_cnt_day', 23)": 2,
         "('item_cnt_day', 24)": 2,
         "('item_cnt_day', 25)": 0,
         "('item_cnt_day', 26)": 0,
         "('item_cnt_day', 27)": 0,
         "('item_cnt_day', 28)": 1,
         "('item_cnt_day', 29)": 1,
         "('item_cnt_day', 30)": 1,
         "('item_cnt_day', 31)": 3,
         "('item_cnt_day', 32)": 1,
         "('item_cnt_day', 33)": 0,
         "_deepnote_index_column": 0
        },
        {
         "ID": 1,
         "('item_cnt_day', 0)": 0,
         "('item_cnt_day', 1)": 0,
         "('item_cnt_day', 2)": 0,
         "('item_cnt_day', 3)": 0,
         "('item_cnt_day', 4)": 0,
         "('item_cnt_day', 5)": 0,
         "('item_cnt_day', 6)": 0,
         "('item_cnt_day', 7)": 0,
         "('item_cnt_day', 8)": 0,
         "('item_cnt_day', 9)": 0,
         "('item_cnt_day', 10)": 0,
         "('item_cnt_day', 11)": 0,
         "('item_cnt_day', 12)": 0,
         "('item_cnt_day', 13)": 0,
         "('item_cnt_day', 14)": 0,
         "('item_cnt_day', 15)": 0,
         "('item_cnt_day', 16)": 0,
         "('item_cnt_day', 17)": 0,
         "('item_cnt_day', 18)": 0,
         "('item_cnt_day', 19)": 0,
         "('item_cnt_day', 20)": 0,
         "('item_cnt_day', 21)": 0,
         "('item_cnt_day', 22)": 0,
         "('item_cnt_day', 23)": 0,
         "('item_cnt_day', 24)": 0,
         "('item_cnt_day', 25)": 0,
         "('item_cnt_day', 26)": 0,
         "('item_cnt_day', 27)": 0,
         "('item_cnt_day', 28)": 0,
         "('item_cnt_day', 29)": 0,
         "('item_cnt_day', 30)": 0,
         "('item_cnt_day', 31)": 0,
         "('item_cnt_day', 32)": 0,
         "('item_cnt_day', 33)": 0,
         "_deepnote_index_column": 1
        },
        {
         "ID": 2,
         "('item_cnt_day', 0)": 0,
         "('item_cnt_day', 1)": 0,
         "('item_cnt_day', 2)": 0,
         "('item_cnt_day', 3)": 0,
         "('item_cnt_day', 4)": 0,
         "('item_cnt_day', 5)": 0,
         "('item_cnt_day', 6)": 0,
         "('item_cnt_day', 7)": 0,
         "('item_cnt_day', 8)": 0,
         "('item_cnt_day', 9)": 0,
         "('item_cnt_day', 10)": 0,
         "('item_cnt_day', 11)": 0,
         "('item_cnt_day', 12)": 0,
         "('item_cnt_day', 13)": 0,
         "('item_cnt_day', 14)": 0,
         "('item_cnt_day', 15)": 0,
         "('item_cnt_day', 16)": 0,
         "('item_cnt_day', 17)": 0,
         "('item_cnt_day', 18)": 0,
         "('item_cnt_day', 19)": 0,
         "('item_cnt_day', 20)": 0,
         "('item_cnt_day', 21)": 0,
         "('item_cnt_day', 22)": 0,
         "('item_cnt_day', 23)": 0,
         "('item_cnt_day', 24)": 0,
         "('item_cnt_day', 25)": 0,
         "('item_cnt_day', 26)": 0,
         "('item_cnt_day', 27)": 0,
         "('item_cnt_day', 28)": 3,
         "('item_cnt_day', 29)": 2,
         "('item_cnt_day', 30)": 0,
         "('item_cnt_day', 31)": 1,
         "('item_cnt_day', 32)": 3,
         "('item_cnt_day', 33)": 1,
         "_deepnote_index_column": 2
        },
        {
         "ID": 3,
         "('item_cnt_day', 0)": 0,
         "('item_cnt_day', 1)": 0,
         "('item_cnt_day', 2)": 0,
         "('item_cnt_day', 3)": 0,
         "('item_cnt_day', 4)": 0,
         "('item_cnt_day', 5)": 0,
         "('item_cnt_day', 6)": 0,
         "('item_cnt_day', 7)": 0,
         "('item_cnt_day', 8)": 0,
         "('item_cnt_day', 9)": 0,
         "('item_cnt_day', 10)": 0,
         "('item_cnt_day', 11)": 0,
         "('item_cnt_day', 12)": 0,
         "('item_cnt_day', 13)": 0,
         "('item_cnt_day', 14)": 0,
         "('item_cnt_day', 15)": 0,
         "('item_cnt_day', 16)": 0,
         "('item_cnt_day', 17)": 0,
         "('item_cnt_day', 18)": 0,
         "('item_cnt_day', 19)": 0,
         "('item_cnt_day', 20)": 0,
         "('item_cnt_day', 21)": 0,
         "('item_cnt_day', 22)": 0,
         "('item_cnt_day', 23)": 0,
         "('item_cnt_day', 24)": 0,
         "('item_cnt_day', 25)": 0,
         "('item_cnt_day', 26)": 0,
         "('item_cnt_day', 27)": 0,
         "('item_cnt_day', 28)": 0,
         "('item_cnt_day', 29)": 0,
         "('item_cnt_day', 30)": 0,
         "('item_cnt_day', 31)": 1,
         "('item_cnt_day', 32)": 0,
         "('item_cnt_day', 33)": 0,
         "_deepnote_index_column": 3
        },
        {
         "ID": 4,
         "('item_cnt_day', 0)": 0,
         "('item_cnt_day', 1)": 0,
         "('item_cnt_day', 2)": 0,
         "('item_cnt_day', 3)": 0,
         "('item_cnt_day', 4)": 0,
         "('item_cnt_day', 5)": 0,
         "('item_cnt_day', 6)": 0,
         "('item_cnt_day', 7)": 0,
         "('item_cnt_day', 8)": 0,
         "('item_cnt_day', 9)": 0,
         "('item_cnt_day', 10)": 0,
         "('item_cnt_day', 11)": 0,
         "('item_cnt_day', 12)": 0,
         "('item_cnt_day', 13)": 0,
         "('item_cnt_day', 14)": 0,
         "('item_cnt_day', 15)": 0,
         "('item_cnt_day', 16)": 0,
         "('item_cnt_day', 17)": 0,
         "('item_cnt_day', 18)": 0,
         "('item_cnt_day', 19)": 0,
         "('item_cnt_day', 20)": 0,
         "('item_cnt_day', 21)": 0,
         "('item_cnt_day', 22)": 0,
         "('item_cnt_day', 23)": 0,
         "('item_cnt_day', 24)": 0,
         "('item_cnt_day', 25)": 0,
         "('item_cnt_day', 26)": 0,
         "('item_cnt_day', 27)": 0,
         "('item_cnt_day', 28)": 0,
         "('item_cnt_day', 29)": 0,
         "('item_cnt_day', 30)": 0,
         "('item_cnt_day', 31)": 0,
         "('item_cnt_day', 32)": 0,
         "('item_cnt_day', 33)": 0,
         "_deepnote_index_column": 4
        },
        {
         "ID": 5,
         "('item_cnt_day', 0)": 0,
         "('item_cnt_day', 1)": 0,
         "('item_cnt_day', 2)": 0,
         "('item_cnt_day', 3)": 0,
         "('item_cnt_day', 4)": 0,
         "('item_cnt_day', 5)": 0,
         "('item_cnt_day', 6)": 0,
         "('item_cnt_day', 7)": 0,
         "('item_cnt_day', 8)": 0,
         "('item_cnt_day', 9)": 0,
         "('item_cnt_day', 10)": 0,
         "('item_cnt_day', 11)": 0,
         "('item_cnt_day', 12)": 0,
         "('item_cnt_day', 13)": 0,
         "('item_cnt_day', 14)": 0,
         "('item_cnt_day', 15)": 0,
         "('item_cnt_day', 16)": 0,
         "('item_cnt_day', 17)": 0,
         "('item_cnt_day', 18)": 0,
         "('item_cnt_day', 19)": 0,
         "('item_cnt_day', 20)": 2,
         "('item_cnt_day', 21)": 0,
         "('item_cnt_day', 22)": 0,
         "('item_cnt_day', 23)": 3,
         "('item_cnt_day', 24)": 1,
         "('item_cnt_day', 25)": 0,
         "('item_cnt_day', 26)": 0,
         "('item_cnt_day', 27)": 0,
         "('item_cnt_day', 28)": 3,
         "('item_cnt_day', 29)": 0,
         "('item_cnt_day', 30)": 0,
         "('item_cnt_day', 31)": 0,
         "('item_cnt_day', 32)": 1,
         "('item_cnt_day', 33)": 1,
         "_deepnote_index_column": 5
        },
        {
         "ID": 6,
         "('item_cnt_day', 0)": 0,
         "('item_cnt_day', 1)": 0,
         "('item_cnt_day', 2)": 0,
         "('item_cnt_day', 3)": 0,
         "('item_cnt_day', 4)": 0,
         "('item_cnt_day', 5)": 0,
         "('item_cnt_day', 6)": 0,
         "('item_cnt_day', 7)": 0,
         "('item_cnt_day', 8)": 0,
         "('item_cnt_day', 9)": 0,
         "('item_cnt_day', 10)": 0,
         "('item_cnt_day', 11)": 0,
         "('item_cnt_day', 12)": 0,
         "('item_cnt_day', 13)": 0,
         "('item_cnt_day', 14)": 0,
         "('item_cnt_day', 15)": 0,
         "('item_cnt_day', 16)": 0,
         "('item_cnt_day', 17)": 0,
         "('item_cnt_day', 18)": 0,
         "('item_cnt_day', 19)": 0,
         "('item_cnt_day', 20)": 0,
         "('item_cnt_day', 21)": 0,
         "('item_cnt_day', 22)": 0,
         "('item_cnt_day', 23)": 0,
         "('item_cnt_day', 24)": 0,
         "('item_cnt_day', 25)": 0,
         "('item_cnt_day', 26)": 0,
         "('item_cnt_day', 27)": 0,
         "('item_cnt_day', 28)": 0,
         "('item_cnt_day', 29)": 0,
         "('item_cnt_day', 30)": 0,
         "('item_cnt_day', 31)": 0,
         "('item_cnt_day', 32)": 3,
         "('item_cnt_day', 33)": 2,
         "_deepnote_index_column": 6
        },
        {
         "ID": 7,
         "('item_cnt_day', 0)": 0,
         "('item_cnt_day', 1)": 0,
         "('item_cnt_day', 2)": 0,
         "('item_cnt_day', 3)": 0,
         "('item_cnt_day', 4)": 0,
         "('item_cnt_day', 5)": 0,
         "('item_cnt_day', 6)": 0,
         "('item_cnt_day', 7)": 0,
         "('item_cnt_day', 8)": 0,
         "('item_cnt_day', 9)": 0,
         "('item_cnt_day', 10)": 0,
         "('item_cnt_day', 11)": 0,
         "('item_cnt_day', 12)": 0,
         "('item_cnt_day', 13)": 0,
         "('item_cnt_day', 14)": 0,
         "('item_cnt_day', 15)": 0,
         "('item_cnt_day', 16)": 0,
         "('item_cnt_day', 17)": 0,
         "('item_cnt_day', 18)": 0,
         "('item_cnt_day', 19)": 0,
         "('item_cnt_day', 20)": 0,
         "('item_cnt_day', 21)": 0,
         "('item_cnt_day', 22)": 1,
         "('item_cnt_day', 23)": 5,
         "('item_cnt_day', 24)": 0,
         "('item_cnt_day', 25)": 0,
         "('item_cnt_day', 26)": 1,
         "('item_cnt_day', 27)": 0,
         "('item_cnt_day', 28)": 0,
         "('item_cnt_day', 29)": 1,
         "('item_cnt_day', 30)": 0,
         "('item_cnt_day', 31)": 0,
         "('item_cnt_day', 32)": 0,
         "('item_cnt_day', 33)": 0,
         "_deepnote_index_column": 7
        },
        {
         "ID": 8,
         "('item_cnt_day', 0)": 0,
         "('item_cnt_day', 1)": 0,
         "('item_cnt_day', 2)": 0,
         "('item_cnt_day', 3)": 0,
         "('item_cnt_day', 4)": 0,
         "('item_cnt_day', 5)": 0,
         "('item_cnt_day', 6)": 0,
         "('item_cnt_day', 7)": 0,
         "('item_cnt_day', 8)": 0,
         "('item_cnt_day', 9)": 0,
         "('item_cnt_day', 10)": 0,
         "('item_cnt_day', 11)": 0,
         "('item_cnt_day', 12)": 0,
         "('item_cnt_day', 13)": 0,
         "('item_cnt_day', 14)": 0,
         "('item_cnt_day', 15)": 0,
         "('item_cnt_day', 16)": 0,
         "('item_cnt_day', 17)": 0,
         "('item_cnt_day', 18)": 0,
         "('item_cnt_day', 19)": 0,
         "('item_cnt_day', 20)": 0,
         "('item_cnt_day', 21)": 0,
         "('item_cnt_day', 22)": 5,
         "('item_cnt_day', 23)": 28,
         "('item_cnt_day', 24)": 9,
         "('item_cnt_day', 25)": 2,
         "('item_cnt_day', 26)": 3,
         "('item_cnt_day', 27)": 2,
         "('item_cnt_day', 28)": 2,
         "('item_cnt_day', 29)": 4,
         "('item_cnt_day', 30)": 3,
         "('item_cnt_day', 31)": 2,
         "('item_cnt_day', 32)": 3,
         "('item_cnt_day', 33)": 0,
         "_deepnote_index_column": 8
        },
        {
         "ID": 9,
         "('item_cnt_day', 0)": 0,
         "('item_cnt_day', 1)": 0,
         "('item_cnt_day', 2)": 0,
         "('item_cnt_day', 3)": 0,
         "('item_cnt_day', 4)": 0,
         "('item_cnt_day', 5)": 0,
         "('item_cnt_day', 6)": 0,
         "('item_cnt_day', 7)": 0,
         "('item_cnt_day', 8)": 0,
         "('item_cnt_day', 9)": 0,
         "('item_cnt_day', 10)": 0,
         "('item_cnt_day', 11)": 0,
         "('item_cnt_day', 12)": 0,
         "('item_cnt_day', 13)": 0,
         "('item_cnt_day', 14)": 0,
         "('item_cnt_day', 15)": 0,
         "('item_cnt_day', 16)": 0,
         "('item_cnt_day', 17)": 0,
         "('item_cnt_day', 18)": 0,
         "('item_cnt_day', 19)": 0,
         "('item_cnt_day', 20)": 0,
         "('item_cnt_day', 21)": 0,
         "('item_cnt_day', 22)": 0,
         "('item_cnt_day', 23)": 0,
         "('item_cnt_day', 24)": 0,
         "('item_cnt_day', 25)": 0,
         "('item_cnt_day', 26)": 0,
         "('item_cnt_day', 27)": 0,
         "('item_cnt_day', 28)": 0,
         "('item_cnt_day', 29)": 0,
         "('item_cnt_day', 30)": 0,
         "('item_cnt_day', 31)": 0,
         "('item_cnt_day', 32)": 0,
         "('item_cnt_day', 33)": 0,
         "_deepnote_index_column": 9
        },
        {
         "ID": 10,
         "('item_cnt_day', 0)": 0,
         "('item_cnt_day', 1)": 0,
         "('item_cnt_day', 2)": 0,
         "('item_cnt_day', 3)": 0,
         "('item_cnt_day', 4)": 0,
         "('item_cnt_day', 5)": 0,
         "('item_cnt_day', 6)": 0,
         "('item_cnt_day', 7)": 0,
         "('item_cnt_day', 8)": 0,
         "('item_cnt_day', 9)": 0,
         "('item_cnt_day', 10)": 0,
         "('item_cnt_day', 11)": 0,
         "('item_cnt_day', 12)": 1,
         "('item_cnt_day', 13)": 2,
         "('item_cnt_day', 14)": 4,
         "('item_cnt_day', 15)": 1,
         "('item_cnt_day', 16)": 8,
         "('item_cnt_day', 17)": 4,
         "('item_cnt_day', 18)": 0,
         "('item_cnt_day', 19)": 2,
         "('item_cnt_day', 20)": 0,
         "('item_cnt_day', 21)": 1,
         "('item_cnt_day', 22)": 2,
         "('item_cnt_day', 23)": 6,
         "('item_cnt_day', 24)": 4,
         "('item_cnt_day', 25)": 3,
         "('item_cnt_day', 26)": 6,
         "('item_cnt_day', 27)": 2,
         "('item_cnt_day', 28)": 6,
         "('item_cnt_day', 29)": 6,
         "('item_cnt_day', 30)": 5,
         "('item_cnt_day', 31)": 5,
         "('item_cnt_day', 32)": 2,
         "('item_cnt_day', 33)": 3,
         "_deepnote_index_column": 10
        },
        {
         "ID": 11,
         "('item_cnt_day', 0)": 0,
         "('item_cnt_day', 1)": 0,
         "('item_cnt_day', 2)": 0,
         "('item_cnt_day', 3)": 0,
         "('item_cnt_day', 4)": 0,
         "('item_cnt_day', 5)": 0,
         "('item_cnt_day', 6)": 0,
         "('item_cnt_day', 7)": 0,
         "('item_cnt_day', 8)": 0,
         "('item_cnt_day', 9)": 0,
         "('item_cnt_day', 10)": 0,
         "('item_cnt_day', 11)": 0,
         "('item_cnt_day', 12)": 0,
         "('item_cnt_day', 13)": 0,
         "('item_cnt_day', 14)": 0,
         "('item_cnt_day', 15)": 0,
         "('item_cnt_day', 16)": 0,
         "('item_cnt_day', 17)": 0,
         "('item_cnt_day', 18)": 0,
         "('item_cnt_day', 19)": 0,
         "('item_cnt_day', 20)": 0,
         "('item_cnt_day', 21)": 0,
         "('item_cnt_day', 22)": 0,
         "('item_cnt_day', 23)": 0,
         "('item_cnt_day', 24)": 0,
         "('item_cnt_day', 25)": 0,
         "('item_cnt_day', 26)": 0,
         "('item_cnt_day', 27)": 0,
         "('item_cnt_day', 28)": 0,
         "('item_cnt_day', 29)": 0,
         "('item_cnt_day', 30)": 0,
         "('item_cnt_day', 31)": 0,
         "('item_cnt_day', 32)": 1,
         "('item_cnt_day', 33)": 0,
         "_deepnote_index_column": 11
        },
        {
         "ID": 12,
         "('item_cnt_day', 0)": 0,
         "('item_cnt_day', 1)": 0,
         "('item_cnt_day', 2)": 1,
         "('item_cnt_day', 3)": 0,
         "('item_cnt_day', 4)": 1,
         "('item_cnt_day', 5)": 0,
         "('item_cnt_day', 6)": 0,
         "('item_cnt_day', 7)": 0,
         "('item_cnt_day', 8)": 0,
         "('item_cnt_day', 9)": 0,
         "('item_cnt_day', 10)": 0,
         "('item_cnt_day', 11)": 1,
         "('item_cnt_day', 12)": 0,
         "('item_cnt_day', 13)": 0,
         "('item_cnt_day', 14)": 0,
         "('item_cnt_day', 15)": 0,
         "('item_cnt_day', 16)": 0,
         "('item_cnt_day', 17)": 0,
         "('item_cnt_day', 18)": 1,
         "('item_cnt_day', 19)": 0,
         "('item_cnt_day', 20)": 1,
         "('item_cnt_day', 21)": 0,
         "('item_cnt_day', 22)": 0,
         "('item_cnt_day', 23)": 0,
         "('item_cnt_day', 24)": 0,
         "('item_cnt_day', 25)": 0,
         "('item_cnt_day', 26)": 0,
         "('item_cnt_day', 27)": 0,
         "('item_cnt_day', 28)": 0,
         "('item_cnt_day', 29)": 0,
         "('item_cnt_day', 30)": 0,
         "('item_cnt_day', 31)": 0,
         "('item_cnt_day', 32)": 0,
         "('item_cnt_day', 33)": 0,
         "_deepnote_index_column": 12
        },
        {
         "ID": 13,
         "('item_cnt_day', 0)": 0,
         "('item_cnt_day', 1)": 0,
         "('item_cnt_day', 2)": 0,
         "('item_cnt_day', 3)": 0,
         "('item_cnt_day', 4)": 0,
         "('item_cnt_day', 5)": 0,
         "('item_cnt_day', 6)": 0,
         "('item_cnt_day', 7)": 0,
         "('item_cnt_day', 8)": 0,
         "('item_cnt_day', 9)": 0,
         "('item_cnt_day', 10)": 0,
         "('item_cnt_day', 11)": 0,
         "('item_cnt_day', 12)": 0,
         "('item_cnt_day', 13)": 0,
         "('item_cnt_day', 14)": 0,
         "('item_cnt_day', 15)": 0,
         "('item_cnt_day', 16)": 0,
         "('item_cnt_day', 17)": 0,
         "('item_cnt_day', 18)": 0,
         "('item_cnt_day', 19)": 0,
         "('item_cnt_day', 20)": 0,
         "('item_cnt_day', 21)": 0,
         "('item_cnt_day', 22)": 0,
         "('item_cnt_day', 23)": 6,
         "('item_cnt_day', 24)": 3,
         "('item_cnt_day', 25)": 3,
         "('item_cnt_day', 26)": 1,
         "('item_cnt_day', 27)": 0,
         "('item_cnt_day', 28)": 0,
         "('item_cnt_day', 29)": 3,
         "('item_cnt_day', 30)": 1,
         "('item_cnt_day', 31)": 1,
         "('item_cnt_day', 32)": 0,
         "('item_cnt_day', 33)": 0,
         "_deepnote_index_column": 13
        }
       ],
       "rows_bottom": [
        {
         "ID": 214186,
         "('item_cnt_day', 0)": 0,
         "('item_cnt_day', 1)": 0,
         "('item_cnt_day', 2)": 0,
         "('item_cnt_day', 3)": 0,
         "('item_cnt_day', 4)": 0,
         "('item_cnt_day', 5)": 0,
         "('item_cnt_day', 6)": 0,
         "('item_cnt_day', 7)": 0,
         "('item_cnt_day', 8)": 0,
         "('item_cnt_day', 9)": 0,
         "('item_cnt_day', 10)": 0,
         "('item_cnt_day', 11)": 0,
         "('item_cnt_day', 12)": 0,
         "('item_cnt_day', 13)": 0,
         "('item_cnt_day', 14)": 0,
         "('item_cnt_day', 15)": 0,
         "('item_cnt_day', 16)": 0,
         "('item_cnt_day', 17)": 0,
         "('item_cnt_day', 18)": 0,
         "('item_cnt_day', 19)": 0,
         "('item_cnt_day', 20)": 0,
         "('item_cnt_day', 21)": 0,
         "('item_cnt_day', 22)": 0,
         "('item_cnt_day', 23)": 0,
         "('item_cnt_day', 24)": 0,
         "('item_cnt_day', 25)": 0,
         "('item_cnt_day', 26)": 0,
         "('item_cnt_day', 27)": 0,
         "('item_cnt_day', 28)": 0,
         "('item_cnt_day', 29)": 0,
         "('item_cnt_day', 30)": 0,
         "('item_cnt_day', 31)": 0,
         "('item_cnt_day', 32)": 0,
         "('item_cnt_day', 33)": 0,
         "_deepnote_index_column": 214186
        },
        {
         "ID": 214187,
         "('item_cnt_day', 0)": 0,
         "('item_cnt_day', 1)": 0,
         "('item_cnt_day', 2)": 0,
         "('item_cnt_day', 3)": 0,
         "('item_cnt_day', 4)": 0,
         "('item_cnt_day', 5)": 0,
         "('item_cnt_day', 6)": 0,
         "('item_cnt_day', 7)": 0,
         "('item_cnt_day', 8)": 0,
         "('item_cnt_day', 9)": 0,
         "('item_cnt_day', 10)": 0,
         "('item_cnt_day', 11)": 0,
         "('item_cnt_day', 12)": 0,
         "('item_cnt_day', 13)": 0,
         "('item_cnt_day', 14)": 0,
         "('item_cnt_day', 15)": 0,
         "('item_cnt_day', 16)": 0,
         "('item_cnt_day', 17)": 0,
         "('item_cnt_day', 18)": 0,
         "('item_cnt_day', 19)": 0,
         "('item_cnt_day', 20)": 0,
         "('item_cnt_day', 21)": 0,
         "('item_cnt_day', 22)": 0,
         "('item_cnt_day', 23)": 0,
         "('item_cnt_day', 24)": 0,
         "('item_cnt_day', 25)": 0,
         "('item_cnt_day', 26)": 0,
         "('item_cnt_day', 27)": 0,
         "('item_cnt_day', 28)": 0,
         "('item_cnt_day', 29)": 0,
         "('item_cnt_day', 30)": 0,
         "('item_cnt_day', 31)": 0,
         "('item_cnt_day', 32)": 0,
         "('item_cnt_day', 33)": 1,
         "_deepnote_index_column": 214187
        },
        {
         "ID": 214188,
         "('item_cnt_day', 0)": 0,
         "('item_cnt_day', 1)": 0,
         "('item_cnt_day', 2)": 0,
         "('item_cnt_day', 3)": 0,
         "('item_cnt_day', 4)": 0,
         "('item_cnt_day', 5)": 0,
         "('item_cnt_day', 6)": 0,
         "('item_cnt_day', 7)": 0,
         "('item_cnt_day', 8)": 0,
         "('item_cnt_day', 9)": 0,
         "('item_cnt_day', 10)": 0,
         "('item_cnt_day', 11)": 0,
         "('item_cnt_day', 12)": 0,
         "('item_cnt_day', 13)": 0,
         "('item_cnt_day', 14)": 0,
         "('item_cnt_day', 15)": 0,
         "('item_cnt_day', 16)": 0,
         "('item_cnt_day', 17)": 0,
         "('item_cnt_day', 18)": 0,
         "('item_cnt_day', 19)": 0,
         "('item_cnt_day', 20)": 0,
         "('item_cnt_day', 21)": 0,
         "('item_cnt_day', 22)": 0,
         "('item_cnt_day', 23)": 0,
         "('item_cnt_day', 24)": 0,
         "('item_cnt_day', 25)": 0,
         "('item_cnt_day', 26)": 0,
         "('item_cnt_day', 27)": 0,
         "('item_cnt_day', 28)": 0,
         "('item_cnt_day', 29)": 0,
         "('item_cnt_day', 30)": 0,
         "('item_cnt_day', 31)": 0,
         "('item_cnt_day', 32)": 0,
         "('item_cnt_day', 33)": 0,
         "_deepnote_index_column": 214188
        },
        {
         "ID": 214189,
         "('item_cnt_day', 0)": 0,
         "('item_cnt_day', 1)": 0,
         "('item_cnt_day', 2)": 0,
         "('item_cnt_day', 3)": 0,
         "('item_cnt_day', 4)": 0,
         "('item_cnt_day', 5)": 0,
         "('item_cnt_day', 6)": 0,
         "('item_cnt_day', 7)": 0,
         "('item_cnt_day', 8)": 0,
         "('item_cnt_day', 9)": 0,
         "('item_cnt_day', 10)": 0,
         "('item_cnt_day', 11)": 0,
         "('item_cnt_day', 12)": 0,
         "('item_cnt_day', 13)": 0,
         "('item_cnt_day', 14)": 0,
         "('item_cnt_day', 15)": 0,
         "('item_cnt_day', 16)": 0,
         "('item_cnt_day', 17)": 0,
         "('item_cnt_day', 18)": 0,
         "('item_cnt_day', 19)": 0,
         "('item_cnt_day', 20)": 0,
         "('item_cnt_day', 21)": 0,
         "('item_cnt_day', 22)": 0,
         "('item_cnt_day', 23)": 0,
         "('item_cnt_day', 24)": 0,
         "('item_cnt_day', 25)": 0,
         "('item_cnt_day', 26)": 0,
         "('item_cnt_day', 27)": 0,
         "('item_cnt_day', 28)": 0,
         "('item_cnt_day', 29)": 0,
         "('item_cnt_day', 30)": 0,
         "('item_cnt_day', 31)": 0,
         "('item_cnt_day', 32)": 0,
         "('item_cnt_day', 33)": 0,
         "_deepnote_index_column": 214189
        },
        {
         "ID": 214190,
         "('item_cnt_day', 0)": 0,
         "('item_cnt_day', 1)": 0,
         "('item_cnt_day', 2)": 0,
         "('item_cnt_day', 3)": 0,
         "('item_cnt_day', 4)": 0,
         "('item_cnt_day', 5)": 0,
         "('item_cnt_day', 6)": 0,
         "('item_cnt_day', 7)": 0,
         "('item_cnt_day', 8)": 0,
         "('item_cnt_day', 9)": 0,
         "('item_cnt_day', 10)": 0,
         "('item_cnt_day', 11)": 0,
         "('item_cnt_day', 12)": 0,
         "('item_cnt_day', 13)": 0,
         "('item_cnt_day', 14)": 0,
         "('item_cnt_day', 15)": 0,
         "('item_cnt_day', 16)": 0,
         "('item_cnt_day', 17)": 0,
         "('item_cnt_day', 18)": 0,
         "('item_cnt_day', 19)": 0,
         "('item_cnt_day', 20)": 0,
         "('item_cnt_day', 21)": 0,
         "('item_cnt_day', 22)": 0,
         "('item_cnt_day', 23)": 0,
         "('item_cnt_day', 24)": 0,
         "('item_cnt_day', 25)": 0,
         "('item_cnt_day', 26)": 0,
         "('item_cnt_day', 27)": 1,
         "('item_cnt_day', 28)": 0,
         "('item_cnt_day', 29)": 0,
         "('item_cnt_day', 30)": 0,
         "('item_cnt_day', 31)": 0,
         "('item_cnt_day', 32)": 0,
         "('item_cnt_day', 33)": 0,
         "_deepnote_index_column": 214190
        },
        {
         "ID": 214191,
         "('item_cnt_day', 0)": 0,
         "('item_cnt_day', 1)": 0,
         "('item_cnt_day', 2)": 0,
         "('item_cnt_day', 3)": 0,
         "('item_cnt_day', 4)": 0,
         "('item_cnt_day', 5)": 0,
         "('item_cnt_day', 6)": 0,
         "('item_cnt_day', 7)": 0,
         "('item_cnt_day', 8)": 0,
         "('item_cnt_day', 9)": 0,
         "('item_cnt_day', 10)": 0,
         "('item_cnt_day', 11)": 0,
         "('item_cnt_day', 12)": 0,
         "('item_cnt_day', 13)": 0,
         "('item_cnt_day', 14)": 0,
         "('item_cnt_day', 15)": 0,
         "('item_cnt_day', 16)": 0,
         "('item_cnt_day', 17)": 0,
         "('item_cnt_day', 18)": 0,
         "('item_cnt_day', 19)": 1,
         "('item_cnt_day', 20)": 0,
         "('item_cnt_day', 21)": 0,
         "('item_cnt_day', 22)": 0,
         "('item_cnt_day', 23)": 0,
         "('item_cnt_day', 24)": 0,
         "('item_cnt_day', 25)": 0,
         "('item_cnt_day', 26)": 0,
         "('item_cnt_day', 27)": 0,
         "('item_cnt_day', 28)": 0,
         "('item_cnt_day', 29)": 0,
         "('item_cnt_day', 30)": 0,
         "('item_cnt_day', 31)": 0,
         "('item_cnt_day', 32)": 0,
         "('item_cnt_day', 33)": 0,
         "_deepnote_index_column": 214191
        },
        {
         "ID": 214192,
         "('item_cnt_day', 0)": 0,
         "('item_cnt_day', 1)": 0,
         "('item_cnt_day', 2)": 0,
         "('item_cnt_day', 3)": 0,
         "('item_cnt_day', 4)": 0,
         "('item_cnt_day', 5)": 0,
         "('item_cnt_day', 6)": 0,
         "('item_cnt_day', 7)": 0,
         "('item_cnt_day', 8)": 0,
         "('item_cnt_day', 9)": 0,
         "('item_cnt_day', 10)": 0,
         "('item_cnt_day', 11)": 2,
         "('item_cnt_day', 12)": 1,
         "('item_cnt_day', 13)": 1,
         "('item_cnt_day', 14)": 0,
         "('item_cnt_day', 15)": 1,
         "('item_cnt_day', 16)": 0,
         "('item_cnt_day', 17)": 1,
         "('item_cnt_day', 18)": 0,
         "('item_cnt_day', 19)": 1,
         "('item_cnt_day', 20)": 0,
         "('item_cnt_day', 21)": 0,
         "('item_cnt_day', 22)": 0,
         "('item_cnt_day', 23)": 0,
         "('item_cnt_day', 24)": 1,
         "('item_cnt_day', 25)": 0,
         "('item_cnt_day', 26)": 0,
         "('item_cnt_day', 27)": 0,
         "('item_cnt_day', 28)": 0,
         "('item_cnt_day', 29)": 0,
         "('item_cnt_day', 30)": 0,
         "('item_cnt_day', 31)": 0,
         "('item_cnt_day', 32)": 0,
         "('item_cnt_day', 33)": 0,
         "_deepnote_index_column": 214192
        },
        {
         "ID": 214193,
         "('item_cnt_day', 0)": 0,
         "('item_cnt_day', 1)": 0,
         "('item_cnt_day', 2)": 0,
         "('item_cnt_day', 3)": 0,
         "('item_cnt_day', 4)": 0,
         "('item_cnt_day', 5)": 0,
         "('item_cnt_day', 6)": 0,
         "('item_cnt_day', 7)": 0,
         "('item_cnt_day', 8)": 0,
         "('item_cnt_day', 9)": 0,
         "('item_cnt_day', 10)": 0,
         "('item_cnt_day', 11)": 0,
         "('item_cnt_day', 12)": 0,
         "('item_cnt_day', 13)": 0,
         "('item_cnt_day', 14)": 0,
         "('item_cnt_day', 15)": 0,
         "('item_cnt_day', 16)": 0,
         "('item_cnt_day', 17)": 0,
         "('item_cnt_day', 18)": 0,
         "('item_cnt_day', 19)": 0,
         "('item_cnt_day', 20)": 0,
         "('item_cnt_day', 21)": 0,
         "('item_cnt_day', 22)": 0,
         "('item_cnt_day', 23)": 0,
         "('item_cnt_day', 24)": 0,
         "('item_cnt_day', 25)": 0,
         "('item_cnt_day', 26)": 0,
         "('item_cnt_day', 27)": 0,
         "('item_cnt_day', 28)": 1,
         "('item_cnt_day', 29)": 1,
         "('item_cnt_day', 30)": 1,
         "('item_cnt_day', 31)": 0,
         "('item_cnt_day', 32)": 0,
         "('item_cnt_day', 33)": 0,
         "_deepnote_index_column": 214193
        },
        {
         "ID": 214194,
         "('item_cnt_day', 0)": 0,
         "('item_cnt_day', 1)": 0,
         "('item_cnt_day', 2)": 0,
         "('item_cnt_day', 3)": 0,
         "('item_cnt_day', 4)": 0,
         "('item_cnt_day', 5)": 0,
         "('item_cnt_day', 6)": 0,
         "('item_cnt_day', 7)": 0,
         "('item_cnt_day', 8)": 0,
         "('item_cnt_day', 9)": 0,
         "('item_cnt_day', 10)": 0,
         "('item_cnt_day', 11)": 0,
         "('item_cnt_day', 12)": 0,
         "('item_cnt_day', 13)": 0,
         "('item_cnt_day', 14)": 0,
         "('item_cnt_day', 15)": 0,
         "('item_cnt_day', 16)": 0,
         "('item_cnt_day', 17)": 0,
         "('item_cnt_day', 18)": 0,
         "('item_cnt_day', 19)": 0,
         "('item_cnt_day', 20)": 0,
         "('item_cnt_day', 21)": 0,
         "('item_cnt_day', 22)": 0,
         "('item_cnt_day', 23)": 0,
         "('item_cnt_day', 24)": 0,
         "('item_cnt_day', 25)": 0,
         "('item_cnt_day', 26)": 0,
         "('item_cnt_day', 27)": 0,
         "('item_cnt_day', 28)": 0,
         "('item_cnt_day', 29)": 0,
         "('item_cnt_day', 30)": 0,
         "('item_cnt_day', 31)": 0,
         "('item_cnt_day', 32)": 0,
         "('item_cnt_day', 33)": 0,
         "_deepnote_index_column": 214194
        },
        {
         "ID": 214195,
         "('item_cnt_day', 0)": 0,
         "('item_cnt_day', 1)": 0,
         "('item_cnt_day', 2)": 0,
         "('item_cnt_day', 3)": 0,
         "('item_cnt_day', 4)": 0,
         "('item_cnt_day', 5)": 0,
         "('item_cnt_day', 6)": 0,
         "('item_cnt_day', 7)": 0,
         "('item_cnt_day', 8)": 0,
         "('item_cnt_day', 9)": 0,
         "('item_cnt_day', 10)": 0,
         "('item_cnt_day', 11)": 0,
         "('item_cnt_day', 12)": 0,
         "('item_cnt_day', 13)": 0,
         "('item_cnt_day', 14)": 0,
         "('item_cnt_day', 15)": 0,
         "('item_cnt_day', 16)": 0,
         "('item_cnt_day', 17)": 0,
         "('item_cnt_day', 18)": 0,
         "('item_cnt_day', 19)": 0,
         "('item_cnt_day', 20)": 0,
         "('item_cnt_day', 21)": 0,
         "('item_cnt_day', 22)": 0,
         "('item_cnt_day', 23)": 4,
         "('item_cnt_day', 24)": 2,
         "('item_cnt_day', 25)": 1,
         "('item_cnt_day', 26)": 1,
         "('item_cnt_day', 27)": 0,
         "('item_cnt_day', 28)": 0,
         "('item_cnt_day', 29)": 0,
         "('item_cnt_day', 30)": 0,
         "('item_cnt_day', 31)": 0,
         "('item_cnt_day', 32)": 0,
         "('item_cnt_day', 33)": 1,
         "_deepnote_index_column": 214195
        },
        {
         "ID": 214196,
         "('item_cnt_day', 0)": 0,
         "('item_cnt_day', 1)": 0,
         "('item_cnt_day', 2)": 0,
         "('item_cnt_day', 3)": 0,
         "('item_cnt_day', 4)": 0,
         "('item_cnt_day', 5)": 0,
         "('item_cnt_day', 6)": 0,
         "('item_cnt_day', 7)": 0,
         "('item_cnt_day', 8)": 0,
         "('item_cnt_day', 9)": 0,
         "('item_cnt_day', 10)": 0,
         "('item_cnt_day', 11)": 0,
         "('item_cnt_day', 12)": 0,
         "('item_cnt_day', 13)": 0,
         "('item_cnt_day', 14)": 0,
         "('item_cnt_day', 15)": 0,
         "('item_cnt_day', 16)": 0,
         "('item_cnt_day', 17)": 0,
         "('item_cnt_day', 18)": 0,
         "('item_cnt_day', 19)": 0,
         "('item_cnt_day', 20)": 0,
         "('item_cnt_day', 21)": 0,
         "('item_cnt_day', 22)": 0,
         "('item_cnt_day', 23)": 0,
         "('item_cnt_day', 24)": 0,
         "('item_cnt_day', 25)": 0,
         "('item_cnt_day', 26)": 0,
         "('item_cnt_day', 27)": 0,
         "('item_cnt_day', 28)": 0,
         "('item_cnt_day', 29)": 0,
         "('item_cnt_day', 30)": 0,
         "('item_cnt_day', 31)": 0,
         "('item_cnt_day', 32)": 0,
         "('item_cnt_day', 33)": 0,
         "_deepnote_index_column": 214196
        },
        {
         "ID": 214197,
         "('item_cnt_day', 0)": 1,
         "('item_cnt_day', 1)": 0,
         "('item_cnt_day', 2)": 0,
         "('item_cnt_day', 3)": 0,
         "('item_cnt_day', 4)": 0,
         "('item_cnt_day', 5)": 0,
         "('item_cnt_day', 6)": 0,
         "('item_cnt_day', 7)": 0,
         "('item_cnt_day', 8)": 0,
         "('item_cnt_day', 9)": 0,
         "('item_cnt_day', 10)": 2,
         "('item_cnt_day', 11)": 0,
         "('item_cnt_day', 12)": 0,
         "('item_cnt_day', 13)": 0,
         "('item_cnt_day', 14)": 0,
         "('item_cnt_day', 15)": 1,
         "('item_cnt_day', 16)": 1,
         "('item_cnt_day', 17)": 0,
         "('item_cnt_day', 18)": 0,
         "('item_cnt_day', 19)": 0,
         "('item_cnt_day', 20)": 0,
         "('item_cnt_day', 21)": 0,
         "('item_cnt_day', 22)": 0,
         "('item_cnt_day', 23)": 0,
         "('item_cnt_day', 24)": 1,
         "('item_cnt_day', 25)": 1,
         "('item_cnt_day', 26)": 0,
         "('item_cnt_day', 27)": 0,
         "('item_cnt_day', 28)": 0,
         "('item_cnt_day', 29)": 0,
         "('item_cnt_day', 30)": 0,
         "('item_cnt_day', 31)": 0,
         "('item_cnt_day', 32)": 0,
         "('item_cnt_day', 33)": 0,
         "_deepnote_index_column": 214197
        },
        {
         "ID": 214198,
         "('item_cnt_day', 0)": 0,
         "('item_cnt_day', 1)": 0,
         "('item_cnt_day', 2)": 0,
         "('item_cnt_day', 3)": 0,
         "('item_cnt_day', 4)": 0,
         "('item_cnt_day', 5)": 0,
         "('item_cnt_day', 6)": 0,
         "('item_cnt_day', 7)": 0,
         "('item_cnt_day', 8)": 0,
         "('item_cnt_day', 9)": 0,
         "('item_cnt_day', 10)": 0,
         "('item_cnt_day', 11)": 0,
         "('item_cnt_day', 12)": 0,
         "('item_cnt_day', 13)": 0,
         "('item_cnt_day', 14)": 0,
         "('item_cnt_day', 15)": 0,
         "('item_cnt_day', 16)": 0,
         "('item_cnt_day', 17)": 0,
         "('item_cnt_day', 18)": 0,
         "('item_cnt_day', 19)": 0,
         "('item_cnt_day', 20)": 0,
         "('item_cnt_day', 21)": 0,
         "('item_cnt_day', 22)": 0,
         "('item_cnt_day', 23)": 0,
         "('item_cnt_day', 24)": 0,
         "('item_cnt_day', 25)": 0,
         "('item_cnt_day', 26)": 0,
         "('item_cnt_day', 27)": 0,
         "('item_cnt_day', 28)": 0,
         "('item_cnt_day', 29)": 0,
         "('item_cnt_day', 30)": 0,
         "('item_cnt_day', 31)": 0,
         "('item_cnt_day', 32)": 0,
         "('item_cnt_day', 33)": 0,
         "_deepnote_index_column": 214198
        },
        {
         "ID": 214199,
         "('item_cnt_day', 0)": 0,
         "('item_cnt_day', 1)": 0,
         "('item_cnt_day', 2)": 0,
         "('item_cnt_day', 3)": 0,
         "('item_cnt_day', 4)": 0,
         "('item_cnt_day', 5)": 0,
         "('item_cnt_day', 6)": 0,
         "('item_cnt_day', 7)": 0,
         "('item_cnt_day', 8)": 0,
         "('item_cnt_day', 9)": 0,
         "('item_cnt_day', 10)": 0,
         "('item_cnt_day', 11)": 0,
         "('item_cnt_day', 12)": 0,
         "('item_cnt_day', 13)": 0,
         "('item_cnt_day', 14)": 0,
         "('item_cnt_day', 15)": 0,
         "('item_cnt_day', 16)": 0,
         "('item_cnt_day', 17)": 3,
         "('item_cnt_day', 18)": 1,
         "('item_cnt_day', 19)": 1,
         "('item_cnt_day', 20)": 0,
         "('item_cnt_day', 21)": 0,
         "('item_cnt_day', 22)": 0,
         "('item_cnt_day', 23)": 0,
         "('item_cnt_day', 24)": 0,
         "('item_cnt_day', 25)": 0,
         "('item_cnt_day', 26)": 0,
         "('item_cnt_day', 27)": 0,
         "('item_cnt_day', 28)": 0,
         "('item_cnt_day', 29)": 0,
         "('item_cnt_day', 30)": 0,
         "('item_cnt_day', 31)": 0,
         "('item_cnt_day', 32)": 0,
         "('item_cnt_day', 33)": 0,
         "_deepnote_index_column": 214199
        }
       ]
      },
      "text/plain": "            ID  (item_cnt_day, 0)  (item_cnt_day, 1)  (item_cnt_day, 2)  \\\n0            0                0.0                0.0                0.0   \n1            1                0.0                0.0                0.0   \n2            2                0.0                0.0                0.0   \n3            3                0.0                0.0                0.0   \n4            4                0.0                0.0                0.0   \n...        ...                ...                ...                ...   \n214195  214195                0.0                0.0                0.0   \n214196  214196                0.0                0.0                0.0   \n214197  214197                1.0                0.0                0.0   \n214198  214198                0.0                0.0                0.0   \n214199  214199                0.0                0.0                0.0   \n\n        (item_cnt_day, 3)  (item_cnt_day, 4)  (item_cnt_day, 5)  \\\n0                     0.0                0.0                0.0   \n1                     0.0                0.0                0.0   \n2                     0.0                0.0                0.0   \n3                     0.0                0.0                0.0   \n4                     0.0                0.0                0.0   \n...                   ...                ...                ...   \n214195                0.0                0.0                0.0   \n214196                0.0                0.0                0.0   \n214197                0.0                0.0                0.0   \n214198                0.0                0.0                0.0   \n214199                0.0                0.0                0.0   \n\n        (item_cnt_day, 6)  (item_cnt_day, 7)  (item_cnt_day, 8)  ...  \\\n0                     0.0                0.0                0.0  ...   \n1                     0.0                0.0                0.0  ...   \n2                     0.0                0.0                0.0  ...   \n3                     0.0                0.0                0.0  ...   \n4                     0.0                0.0                0.0  ...   \n...                   ...                ...                ...  ...   \n214195                0.0                0.0                0.0  ...   \n214196                0.0                0.0                0.0  ...   \n214197                0.0                0.0                0.0  ...   \n214198                0.0                0.0                0.0  ...   \n214199                0.0                0.0                0.0  ...   \n\n        (item_cnt_day, 24)  (item_cnt_day, 25)  (item_cnt_day, 26)  \\\n0                      2.0                 0.0                 0.0   \n1                      0.0                 0.0                 0.0   \n2                      0.0                 0.0                 0.0   \n3                      0.0                 0.0                 0.0   \n4                      0.0                 0.0                 0.0   \n...                    ...                 ...                 ...   \n214195                 2.0                 1.0                 1.0   \n214196                 0.0                 0.0                 0.0   \n214197                 1.0                 1.0                 0.0   \n214198                 0.0                 0.0                 0.0   \n214199                 0.0                 0.0                 0.0   \n\n        (item_cnt_day, 27)  (item_cnt_day, 28)  (item_cnt_day, 29)  \\\n0                      0.0                 1.0                 1.0   \n1                      0.0                 0.0                 0.0   \n2                      0.0                 3.0                 2.0   \n3                      0.0                 0.0                 0.0   \n4                      0.0                 0.0                 0.0   \n...                    ...                 ...                 ...   \n214195                 0.0                 0.0                 0.0   \n214196                 0.0                 0.0                 0.0   \n214197                 0.0                 0.0                 0.0   \n214198                 0.0                 0.0                 0.0   \n214199                 0.0                 0.0                 0.0   \n\n        (item_cnt_day, 30)  (item_cnt_day, 31)  (item_cnt_day, 32)  \\\n0                      1.0                 3.0                 1.0   \n1                      0.0                 0.0                 0.0   \n2                      0.0                 1.0                 3.0   \n3                      0.0                 1.0                 0.0   \n4                      0.0                 0.0                 0.0   \n...                    ...                 ...                 ...   \n214195                 0.0                 0.0                 0.0   \n214196                 0.0                 0.0                 0.0   \n214197                 0.0                 0.0                 0.0   \n214198                 0.0                 0.0                 0.0   \n214199                 0.0                 0.0                 0.0   \n\n        (item_cnt_day, 33)  \n0                      0.0  \n1                      0.0  \n2                      1.0  \n3                      0.0  \n4                      0.0  \n...                    ...  \n214195                 1.0  \n214196                 0.0  \n214197                 0.0  \n214198                 0.0  \n214199                 0.0  \n\n[214200 rows x 35 columns]",
      "text/html": "<div>\n<style scoped>\n    .dataframe tbody tr th:only-of-type {\n        vertical-align: middle;\n    }\n\n    .dataframe tbody tr th {\n        vertical-align: top;\n    }\n\n    .dataframe thead th {\n        text-align: right;\n    }\n</style>\n<table border=\"1\" class=\"dataframe\">\n  <thead>\n    <tr style=\"text-align: right;\">\n      <th></th>\n      <th>ID</th>\n      <th>(item_cnt_day, 0)</th>\n      <th>(item_cnt_day, 1)</th>\n      <th>(item_cnt_day, 2)</th>\n      <th>(item_cnt_day, 3)</th>\n      <th>(item_cnt_day, 4)</th>\n      <th>(item_cnt_day, 5)</th>\n      <th>(item_cnt_day, 6)</th>\n      <th>(item_cnt_day, 7)</th>\n      <th>(item_cnt_day, 8)</th>\n      <th>...</th>\n      <th>(item_cnt_day, 24)</th>\n      <th>(item_cnt_day, 25)</th>\n      <th>(item_cnt_day, 26)</th>\n      <th>(item_cnt_day, 27)</th>\n      <th>(item_cnt_day, 28)</th>\n      <th>(item_cnt_day, 29)</th>\n      <th>(item_cnt_day, 30)</th>\n      <th>(item_cnt_day, 31)</th>\n      <th>(item_cnt_day, 32)</th>\n      <th>(item_cnt_day, 33)</th>\n    </tr>\n  </thead>\n  <tbody>\n    <tr>\n      <th>0</th>\n      <td>0</td>\n      <td>0.0</td>\n      <td>0.0</td>\n      <td>0.0</td>\n      <td>0.0</td>\n      <td>0.0</td>\n      <td>0.0</td>\n      <td>0.0</td>\n      <td>0.0</td>\n      <td>0.0</td>\n      <td>...</td>\n      <td>2.0</td>\n      <td>0.0</td>\n      <td>0.0</td>\n      <td>0.0</td>\n      <td>1.0</td>\n      <td>1.0</td>\n      <td>1.0</td>\n      <td>3.0</td>\n      <td>1.0</td>\n      <td>0.0</td>\n    </tr>\n    <tr>\n      <th>1</th>\n      <td>1</td>\n      <td>0.0</td>\n      <td>0.0</td>\n      <td>0.0</td>\n      <td>0.0</td>\n      <td>0.0</td>\n      <td>0.0</td>\n      <td>0.0</td>\n      <td>0.0</td>\n      <td>0.0</td>\n      <td>...</td>\n      <td>0.0</td>\n      <td>0.0</td>\n      <td>0.0</td>\n      <td>0.0</td>\n      <td>0.0</td>\n      <td>0.0</td>\n      <td>0.0</td>\n      <td>0.0</td>\n      <td>0.0</td>\n      <td>0.0</td>\n    </tr>\n    <tr>\n      <th>2</th>\n      <td>2</td>\n      <td>0.0</td>\n      <td>0.0</td>\n      <td>0.0</td>\n      <td>0.0</td>\n      <td>0.0</td>\n      <td>0.0</td>\n      <td>0.0</td>\n      <td>0.0</td>\n      <td>0.0</td>\n      <td>...</td>\n      <td>0.0</td>\n      <td>0.0</td>\n      <td>0.0</td>\n      <td>0.0</td>\n      <td>3.0</td>\n      <td>2.0</td>\n      <td>0.0</td>\n      <td>1.0</td>\n      <td>3.0</td>\n      <td>1.0</td>\n    </tr>\n    <tr>\n      <th>3</th>\n      <td>3</td>\n      <td>0.0</td>\n      <td>0.0</td>\n      <td>0.0</td>\n      <td>0.0</td>\n      <td>0.0</td>\n      <td>0.0</td>\n      <td>0.0</td>\n      <td>0.0</td>\n      <td>0.0</td>\n      <td>...</td>\n      <td>0.0</td>\n      <td>0.0</td>\n      <td>0.0</td>\n      <td>0.0</td>\n      <td>0.0</td>\n      <td>0.0</td>\n      <td>0.0</td>\n      <td>1.0</td>\n      <td>0.0</td>\n      <td>0.0</td>\n    </tr>\n    <tr>\n      <th>4</th>\n      <td>4</td>\n      <td>0.0</td>\n      <td>0.0</td>\n      <td>0.0</td>\n      <td>0.0</td>\n      <td>0.0</td>\n      <td>0.0</td>\n      <td>0.0</td>\n      <td>0.0</td>\n      <td>0.0</td>\n      <td>...</td>\n      <td>0.0</td>\n      <td>0.0</td>\n      <td>0.0</td>\n      <td>0.0</td>\n      <td>0.0</td>\n      <td>0.0</td>\n      <td>0.0</td>\n      <td>0.0</td>\n      <td>0.0</td>\n      <td>0.0</td>\n    </tr>\n    <tr>\n      <th>...</th>\n      <td>...</td>\n      <td>...</td>\n      <td>...</td>\n      <td>...</td>\n      <td>...</td>\n      <td>...</td>\n      <td>...</td>\n      <td>...</td>\n      <td>...</td>\n      <td>...</td>\n      <td>...</td>\n      <td>...</td>\n      <td>...</td>\n      <td>...</td>\n      <td>...</td>\n      <td>...</td>\n      <td>...</td>\n      <td>...</td>\n      <td>...</td>\n      <td>...</td>\n      <td>...</td>\n    </tr>\n    <tr>\n      <th>214195</th>\n      <td>214195</td>\n      <td>0.0</td>\n      <td>0.0</td>\n      <td>0.0</td>\n      <td>0.0</td>\n      <td>0.0</td>\n      <td>0.0</td>\n      <td>0.0</td>\n      <td>0.0</td>\n      <td>0.0</td>\n      <td>...</td>\n      <td>2.0</td>\n      <td>1.0</td>\n      <td>1.0</td>\n      <td>0.0</td>\n      <td>0.0</td>\n      <td>0.0</td>\n      <td>0.0</td>\n      <td>0.0</td>\n      <td>0.0</td>\n      <td>1.0</td>\n    </tr>\n    <tr>\n      <th>214196</th>\n      <td>214196</td>\n      <td>0.0</td>\n      <td>0.0</td>\n      <td>0.0</td>\n      <td>0.0</td>\n      <td>0.0</td>\n      <td>0.0</td>\n      <td>0.0</td>\n      <td>0.0</td>\n      <td>0.0</td>\n      <td>...</td>\n      <td>0.0</td>\n      <td>0.0</td>\n      <td>0.0</td>\n      <td>0.0</td>\n      <td>0.0</td>\n      <td>0.0</td>\n      <td>0.0</td>\n      <td>0.0</td>\n      <td>0.0</td>\n      <td>0.0</td>\n    </tr>\n    <tr>\n      <th>214197</th>\n      <td>214197</td>\n      <td>1.0</td>\n      <td>0.0</td>\n      <td>0.0</td>\n      <td>0.0</td>\n      <td>0.0</td>\n      <td>0.0</td>\n      <td>0.0</td>\n      <td>0.0</td>\n      <td>0.0</td>\n      <td>...</td>\n      <td>1.0</td>\n      <td>1.0</td>\n      <td>0.0</td>\n      <td>0.0</td>\n      <td>0.0</td>\n      <td>0.0</td>\n      <td>0.0</td>\n      <td>0.0</td>\n      <td>0.0</td>\n      <td>0.0</td>\n    </tr>\n    <tr>\n      <th>214198</th>\n      <td>214198</td>\n      <td>0.0</td>\n      <td>0.0</td>\n      <td>0.0</td>\n      <td>0.0</td>\n      <td>0.0</td>\n      <td>0.0</td>\n      <td>0.0</td>\n      <td>0.0</td>\n      <td>0.0</td>\n      <td>...</td>\n      <td>0.0</td>\n      <td>0.0</td>\n      <td>0.0</td>\n      <td>0.0</td>\n      <td>0.0</td>\n      <td>0.0</td>\n      <td>0.0</td>\n      <td>0.0</td>\n      <td>0.0</td>\n      <td>0.0</td>\n    </tr>\n    <tr>\n      <th>214199</th>\n      <td>214199</td>\n      <td>0.0</td>\n      <td>0.0</td>\n      <td>0.0</td>\n      <td>0.0</td>\n      <td>0.0</td>\n      <td>0.0</td>\n      <td>0.0</td>\n      <td>0.0</td>\n      <td>0.0</td>\n      <td>...</td>\n      <td>0.0</td>\n      <td>0.0</td>\n      <td>0.0</td>\n      <td>0.0</td>\n      <td>0.0</td>\n      <td>0.0</td>\n      <td>0.0</td>\n      <td>0.0</td>\n      <td>0.0</td>\n      <td>0.0</td>\n    </tr>\n  </tbody>\n</table>\n<p>214200 rows × 35 columns</p>\n</div>"
     },
     "metadata": {}
    }
   ],
   "execution_count": null
  },
  {
   "cell_type": "code",
   "source": "# Creating X, y and X_test\n\n#split the dataset in two\n# the last column is our label\ny_train = dataset.iloc[:,-1:]\n#drop last column of data\nX_train = dataset.iloc[:, :-1]\n#drop first colum of data\nX_test = dataset.iloc[:,1:]\n# lets have a look on the shape \nprint(X_train.shape,y_train.shape,X_test.shape)",
   "metadata": {
    "tags": [],
    "cell_id": "00011-5bbf8de9-16cf-4409-80fa-492ed5a17ec0",
    "deepnote_to_be_reexecuted": false,
    "source_hash": "ba856ea5",
    "execution_start": 1620654877161,
    "execution_millis": 7,
    "deepnote_cell_type": "code"
   },
   "outputs": [
    {
     "name": "stdout",
     "text": "(214200, 34) (214200, 1) (214200, 34)\n",
     "output_type": "stream"
    }
   ],
   "execution_count": null
  },
  {
   "cell_type": "code",
   "source": "# define models\n\nfrom sklearn.ensemble import AdaBoostRegressor\nfrom sklearn.ensemble import RandomForestRegressor\n\nmodel = AdaBoostRegressor(base_estimator = RandomForestRegressor(max_depth=10), random_state=0, n_estimators=3000).fit(X_train, y_train)\ny_pred = model.predict(X_train)\ny_pred",
   "metadata": {
    "tags": [],
    "cell_id": "00012-58aeffcf-c195-47ab-849b-ecee6dac2b68",
    "deepnote_to_be_reexecuted": false,
    "source_hash": "1b348f51",
    "execution_start": 1620655140815,
    "execution_millis": 131750,
    "deepnote_cell_type": "code"
   },
   "outputs": [
    {
     "name": "stderr",
     "text": "/shared-libs/python3.7/py/lib/python3.7/site-packages/sklearn/utils/validation.py:63: DataConversionWarning: A column-vector y was passed when a 1d array was expected. Please change the shape of y to (n_samples, ), for example using ravel().\n  return f(*args, **kwargs)\n",
     "output_type": "stream"
    },
    {
     "output_type": "error",
     "ename": "KernelInterrupted",
     "evalue": "Execution interrupted by the Jupyter kernel.",
     "traceback": [
      "\u001b[0;31m---------------------------------------------------------------------------\u001b[0m",
      "\u001b[0;31mKernelInterrupted\u001b[0m: Execution interrupted by the Jupyter kernel."
     ]
    }
   ],
   "execution_count": null
  },
  {
   "cell_type": "code",
   "source": "print(model.score(X_train, y_train))",
   "metadata": {
    "tags": [],
    "cell_id": "00013-290ed000-23c5-4ba4-a792-467f3a41bc4a",
    "deepnote_cell_type": "code"
   },
   "outputs": [],
   "execution_count": null
  },
  {
   "cell_type": "code",
   "source": "# predictions\n\npred = model.predict(X_test)\npred",
   "metadata": {
    "tags": [],
    "cell_id": "00014-6917b448-611c-4fef-b139-53b5f18e151e",
    "deepnote_cell_type": "code"
   },
   "outputs": [],
   "execution_count": null
  },
  {
   "cell_type": "markdown",
   "source": "<a style='text-decoration:none;line-height:16px;display:flex;color:#5B5B62;padding:10px;justify-content:end;' href='https://deepnote.com?utm_source=created-in-deepnote-cell&projectId=32ebab46-e526-42a3-8966-92f4ff6ef571' target=\"_blank\">\n<img alt='Created in deepnote.com' style='display:inline;max-height:16px;margin:0px;margin-right:7.5px;' src='data:image/svg+xml;base64,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' > </img>\nCreated in <span style='font-weight:600;margin-left:4px;'>Deepnote</span></a>",
   "metadata": {
    "tags": [],
    "created_in_deepnote_cell": true,
    "deepnote_cell_type": "markdown"
   }
  }
 ],
 "nbformat": 4,
 "nbformat_minor": 2,
 "metadata": {
  "orig_nbformat": 2,
  "deepnote": {
   "is_reactive": false
  },
  "deepnote_notebook_id": "a60756c6-9f96-4084-8114-f04a68adc977",
  "deepnote_execution_queue": []
 }
}