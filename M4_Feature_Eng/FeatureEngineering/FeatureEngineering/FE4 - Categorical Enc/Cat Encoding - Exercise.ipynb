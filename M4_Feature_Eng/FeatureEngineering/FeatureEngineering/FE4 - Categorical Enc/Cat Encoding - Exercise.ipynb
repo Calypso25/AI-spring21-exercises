{
 "cells": [
  {
   "cell_type": "markdown",
   "source": "**This notebook is an exercise in the [Feature Engineering](https://www.kaggle.com/learn/feature-engineering) course.  You can reference the tutorial at [this link](https://www.kaggle.com/scratchpad/notebook5822d38764/edit).**",
   "metadata": {
    "cell_id": "00000-38a9a6d9-5b4e-4497-a150-812dc3709034",
    "deepnote_cell_type": "markdown"
   }
  },
  {
   "cell_type": "markdown",
   "source": "# Introduction\n\nIn this exercise you'll apply more advanced encodings to encode the categorical variables ito improve your classifier model. The encodings you will implement are:\n\n- Count Encoding\n- Target Encoding\n- CatBoost Encoding\n\nYou'll refit the classifier after each encoding to check its performance on hold-out data. \n\nBegin by running the next code cell to set up the notebook.",
   "metadata": {
    "cell_id": "00001-034d8b5f-845d-43ce-879e-dba926de9233",
    "deepnote_cell_type": "markdown"
   }
  },
  {
   "cell_type": "code",
   "metadata": {
    "tags": [],
    "cell_id": "00002-d5d6e136-7f00-4a76-8d59-a37fd06c4166",
    "deepnote_to_be_reexecuted": false,
    "source_hash": "8106c2f3",
    "execution_start": 1620304303258,
    "execution_millis": 2492,
    "deepnote_cell_type": "code"
   },
   "source": "!pip install learntools",
   "execution_count": null,
   "outputs": [
    {
     "name": "stdout",
     "text": "\u001b[31mERROR: Could not find a version that satisfies the requirement learntools (from versions: none)\u001b[0m\r\n\u001b[31mERROR: No matching distribution found for learntools\u001b[0m\r\n",
     "output_type": "stream"
    }
   ]
  },
  {
   "cell_type": "code",
   "metadata": {
    "cell_id": "00002-5a5a2eba-0fc0-4cb6-a0c9-e03b878242d8",
    "deepnote_to_be_reexecuted": false,
    "source_hash": "c097b542",
    "execution_start": 1620304308272,
    "execution_millis": 15,
    "deepnote_cell_type": "code"
   },
   "source": "# Set up code checking\n# This can take a few seconds\nfrom learntools.core import binder\nbinder.bind(globals())\nfrom learntools.feature_engineering.ex2 import *",
   "execution_count": null,
   "outputs": [
    {
     "output_type": "error",
     "ename": "ModuleNotFoundError",
     "evalue": "No module named 'learntools'",
     "traceback": [
      "\u001b[0;31m---------------------------------------------------------------------------\u001b[0m",
      "\u001b[0;31mModuleNotFoundError\u001b[0m                       Traceback (most recent call last)",
      "\u001b[0;32m<ipython-input-4-aa24042bf689>\u001b[0m in \u001b[0;36m<module>\u001b[0;34m\u001b[0m\n\u001b[1;32m      1\u001b[0m \u001b[0;31m# Set up code checking\u001b[0m\u001b[0;34m\u001b[0m\u001b[0;34m\u001b[0m\u001b[0;34m\u001b[0m\u001b[0m\n\u001b[1;32m      2\u001b[0m \u001b[0;31m# This can take a few seconds\u001b[0m\u001b[0;34m\u001b[0m\u001b[0;34m\u001b[0m\u001b[0;34m\u001b[0m\u001b[0m\n\u001b[0;32m----> 3\u001b[0;31m \u001b[0;32mfrom\u001b[0m \u001b[0mlearntools\u001b[0m\u001b[0;34m.\u001b[0m\u001b[0mcore\u001b[0m \u001b[0;32mimport\u001b[0m \u001b[0mbinder\u001b[0m\u001b[0;34m\u001b[0m\u001b[0;34m\u001b[0m\u001b[0m\n\u001b[0m\u001b[1;32m      4\u001b[0m \u001b[0mbinder\u001b[0m\u001b[0;34m.\u001b[0m\u001b[0mbind\u001b[0m\u001b[0;34m(\u001b[0m\u001b[0mglobals\u001b[0m\u001b[0;34m(\u001b[0m\u001b[0;34m)\u001b[0m\u001b[0;34m)\u001b[0m\u001b[0;34m\u001b[0m\u001b[0;34m\u001b[0m\u001b[0m\n\u001b[1;32m      5\u001b[0m \u001b[0;32mfrom\u001b[0m \u001b[0mlearntools\u001b[0m\u001b[0;34m.\u001b[0m\u001b[0mfeature_engineering\u001b[0m\u001b[0;34m.\u001b[0m\u001b[0mex2\u001b[0m \u001b[0;32mimport\u001b[0m \u001b[0;34m*\u001b[0m\u001b[0;34m\u001b[0m\u001b[0;34m\u001b[0m\u001b[0m\n",
      "\u001b[0;31mModuleNotFoundError\u001b[0m: No module named 'learntools'"
     ]
    }
   ]
  },
  {
   "cell_type": "markdown",
   "source": "The next code cell repeats the work that you did in the previous exercise.",
   "metadata": {
    "cell_id": "00003-374673a6-e05d-4aa4-bc02-553832d85a6a",
    "deepnote_cell_type": "markdown"
   }
  },
  {
   "cell_type": "code",
   "metadata": {
    "cell_id": "00004-a69999f4-8490-4099-b164-8c89aaa6ee5b",
    "deepnote_to_be_reexecuted": false,
    "source_hash": "711bfefd",
    "execution_start": 1620305645941,
    "execution_millis": 1463,
    "deepnote_cell_type": "code"
   },
   "source": "import numpy as np\nimport pandas as pd\nfrom sklearn import preprocessing, metrics\nimport lightgbm as lgb\n\nclicks = pd.read_parquet('../input/feature-engineering-data/baseline_data.pqt')",
   "execution_count": null,
   "outputs": [
    {
     "output_type": "error",
     "ename": "ModuleNotFoundError",
     "evalue": "No module named 'lightgbm'",
     "traceback": [
      "\u001b[0;31m---------------------------------------------------------------------------\u001b[0m",
      "\u001b[0;31mModuleNotFoundError\u001b[0m                       Traceback (most recent call last)",
      "\u001b[0;32m<ipython-input-5-48761a6618de>\u001b[0m in \u001b[0;36m<module>\u001b[0;34m\u001b[0m\n\u001b[1;32m      2\u001b[0m \u001b[0;32mimport\u001b[0m \u001b[0mpandas\u001b[0m \u001b[0;32mas\u001b[0m \u001b[0mpd\u001b[0m\u001b[0;34m\u001b[0m\u001b[0;34m\u001b[0m\u001b[0m\n\u001b[1;32m      3\u001b[0m \u001b[0;32mfrom\u001b[0m \u001b[0msklearn\u001b[0m \u001b[0;32mimport\u001b[0m \u001b[0mpreprocessing\u001b[0m\u001b[0;34m,\u001b[0m \u001b[0mmetrics\u001b[0m\u001b[0;34m\u001b[0m\u001b[0;34m\u001b[0m\u001b[0m\n\u001b[0;32m----> 4\u001b[0;31m \u001b[0;32mimport\u001b[0m \u001b[0mlightgbm\u001b[0m \u001b[0;32mas\u001b[0m \u001b[0mlgb\u001b[0m\u001b[0;34m\u001b[0m\u001b[0;34m\u001b[0m\u001b[0m\n\u001b[0m\u001b[1;32m      5\u001b[0m \u001b[0;34m\u001b[0m\u001b[0m\n\u001b[1;32m      6\u001b[0m \u001b[0mclicks\u001b[0m \u001b[0;34m=\u001b[0m \u001b[0mpd\u001b[0m\u001b[0;34m.\u001b[0m\u001b[0mread_parquet\u001b[0m\u001b[0;34m(\u001b[0m\u001b[0;34m'../input/feature-engineering-data/baseline_data.pqt'\u001b[0m\u001b[0;34m)\u001b[0m\u001b[0;34m\u001b[0m\u001b[0;34m\u001b[0m\u001b[0m\n",
      "\u001b[0;31mModuleNotFoundError\u001b[0m: No module named 'lightgbm'"
     ]
    }
   ]
  },
  {
   "cell_type": "markdown",
   "source": "Next, we define a couple functions that you'll use to test the encodings that you implement in this exercise.",
   "metadata": {
    "cell_id": "00005-e19e1476-896c-4ae3-8e1d-8b147baa5ae3",
    "deepnote_cell_type": "markdown"
   }
  },
  {
   "cell_type": "code",
   "metadata": {
    "cell_id": "00006-2cea70fd-3c86-49d5-9834-35301a87ea13",
    "deepnote_cell_type": "code"
   },
   "source": "def get_data_splits(dataframe, valid_fraction=0.1):\n    \"\"\"Splits a dataframe into train, validation, and test sets.\n\n    First, orders by the column 'click_time'. Set the size of the \n    validation and test sets with the valid_fraction keyword argument.\n    \"\"\"\n\n    dataframe = dataframe.sort_values('click_time')\n    valid_rows = int(len(dataframe) * valid_fraction)\n    train = dataframe[:-valid_rows * 2]\n    # valid size == test size, last two sections of the data\n    valid = dataframe[-valid_rows * 2:-valid_rows]\n    test = dataframe[-valid_rows:]\n    \n    return train, valid, test\n\ndef train_model(train, valid, test=None, feature_cols=None):\n    if feature_cols is None:\n        feature_cols = train.columns.drop(['click_time', 'attributed_time',\n                                           'is_attributed'])\n    dtrain = lgb.Dataset(train[feature_cols], label=train['is_attributed'])\n    dvalid = lgb.Dataset(valid[feature_cols], label=valid['is_attributed'])\n    \n    param = {'num_leaves': 64, 'objective': 'binary', \n             'metric': 'auc', 'seed': 7}\n    num_round = 1000\n    bst = lgb.train(param, dtrain, num_round, valid_sets=[dvalid], \n                    early_stopping_rounds=20, verbose_eval=False)\n    \n    valid_pred = bst.predict(valid[feature_cols])\n    valid_score = metrics.roc_auc_score(valid['is_attributed'], valid_pred)\n    print(f\"Validation AUC score: {valid_score}\")\n    \n    if test is not None: \n        test_pred = bst.predict(test[feature_cols])\n        test_score = metrics.roc_auc_score(test['is_attributed'], test_pred)\n        return bst, valid_score, test_score\n    else:\n        return bst, valid_score",
   "execution_count": null,
   "outputs": []
  },
  {
   "cell_type": "markdown",
   "source": "Run this cell to get a baseline score. ",
   "metadata": {
    "cell_id": "00007-1d681f31-01d0-4b36-8c88-29906eff67f3",
    "deepnote_cell_type": "markdown"
   }
  },
  {
   "cell_type": "code",
   "metadata": {
    "cell_id": "00008-439558d5-6439-4adf-a043-db4a53a0a7c8",
    "deepnote_cell_type": "code"
   },
   "source": "print(\"Baseline model\")\ntrain, valid, test = get_data_splits(clicks)\n_ = train_model(train, valid)",
   "execution_count": null,
   "outputs": []
  },
  {
   "cell_type": "markdown",
   "source": "### 1) Categorical encodings and leakage\n\nThese encodings are all based on statistics calculated from the dataset like counts and means. \n\nConsidering this, what data should you be using to calculate the encodings?  Specifically, can you use the validation data?  Can you use the test data?\n\nRun the following line after you've decided your answer.",
   "metadata": {
    "cell_id": "00009-b18d9252-e204-4bee-a827-bbe9f9744299",
    "deepnote_cell_type": "markdown"
   }
  },
  {
   "cell_type": "code",
   "metadata": {
    "cell_id": "00010-6931c68b-fb9b-4a31-9f5b-5d9b49a4000e",
    "deepnote_cell_type": "code"
   },
   "source": "# Check your answer (Run this code cell to receive credit!)\nq_1.solution()",
   "execution_count": null,
   "outputs": []
  },
  {
   "cell_type": "markdown",
   "source": "### 2) Count encodings\n\nBegin by running the next code cell to get started.",
   "metadata": {
    "cell_id": "00011-4ff29f0d-0124-41ae-b31f-c22f561f0c5d",
    "deepnote_cell_type": "markdown"
   }
  },
  {
   "cell_type": "code",
   "metadata": {
    "cell_id": "00012-4eea723b-0183-4b9b-a0ca-ee47cacd5900",
    "deepnote_cell_type": "code"
   },
   "source": "import category_encoders as ce\n\ncat_features = ['ip', 'app', 'device', 'os', 'channel']\ntrain, valid, test = get_data_splits(clicks)",
   "execution_count": null,
   "outputs": []
  },
  {
   "cell_type": "markdown",
   "source": "Next, encode the categorical features `['ip', 'app', 'device', 'os', 'channel']` using the count of each value in the data set. \n- Using `CountEncoder` from the `category_encoders` library, fit the encoding using the categorical feature columns defined in `cat_features`. \n- Then apply the encodings to the train and validation sets, adding them as new columns with names suffixed `\"_count\"`.",
   "metadata": {
    "cell_id": "00013-4ab4bc58-6498-4168-a142-d8ed981d09b9",
    "deepnote_cell_type": "markdown"
   }
  },
  {
   "cell_type": "code",
   "metadata": {
    "cell_id": "00014-4659606b-a3ed-461e-a5ba-dc918eeeb991",
    "deepnote_cell_type": "code"
   },
   "source": "# Create the count encoder\ncount_enc = ____\n\n# Learn encoding from the training set\n____\n\n# Apply encoding to the train and validation sets as new columns\n# Make sure to add `_count` as a suffix to the new columns\ntrain_encoded = ____\nvalid_encoded = ____\n\n# Check your answer\nq_2.check()",
   "execution_count": null,
   "outputs": []
  },
  {
   "cell_type": "code",
   "metadata": {
    "cell_id": "00015-8fed2fa6-37fc-4f01-978c-f8611d933f5a",
    "deepnote_cell_type": "code"
   },
   "source": "# Uncomment if you need some guidance\n# q_2.hint()\n# q_2.solution()",
   "execution_count": null,
   "outputs": []
  },
  {
   "cell_type": "markdown",
   "source": "Run the next code cell to see how count encoding changes the results.",
   "metadata": {
    "cell_id": "00016-9cd8fcd0-146c-43a7-afc8-9437470cebc8",
    "deepnote_cell_type": "markdown"
   }
  },
  {
   "cell_type": "code",
   "metadata": {
    "cell_id": "00017-e3da6fe8-4a23-4e7c-8a7a-780c8c17a305",
    "deepnote_cell_type": "code"
   },
   "source": "# Train the model on the encoded datasets\n# This can take around 30 seconds to complete\n_ = train_model(train_encoded, valid_encoded)",
   "execution_count": null,
   "outputs": []
  },
  {
   "cell_type": "markdown",
   "source": "Count encoding improved our model's score!",
   "metadata": {
    "cell_id": "00018-f2451937-2a91-4006-b809-4a0929c0bfc1",
    "deepnote_cell_type": "markdown"
   }
  },
  {
   "cell_type": "markdown",
   "source": "### 3) Why is count encoding effective?\nAt first glance, it could be surprising that count encoding helps make accurate models. \nWhy do you think is count encoding is a good idea, or how does it improve the model score?\n\nRun the following line after you've decided your answer.",
   "metadata": {
    "cell_id": "00019-e70abbfa-1d48-44cf-ab12-49c7fdc0ca0f",
    "deepnote_cell_type": "markdown"
   }
  },
  {
   "cell_type": "code",
   "metadata": {
    "cell_id": "00020-1eadfcf0-11cc-41ea-9581-47077559030b",
    "deepnote_cell_type": "code"
   },
   "source": "# Check your answer (Run this code cell to receive credit!)\nq_3.solution()",
   "execution_count": null,
   "outputs": []
  },
  {
   "cell_type": "markdown",
   "source": "### 4) Target encoding\n\nHere you'll try some supervised encodings that use the labels (the targets) to transform categorical features. The first one is target encoding. \n- Create the target encoder from the `category_encoders` library. \n- Then, learn the encodings from the training dataset, apply the encodings to all the datasets, and retrain the model.",
   "metadata": {
    "cell_id": "00021-75d735de-7eea-414f-8e60-b710102166fc",
    "deepnote_cell_type": "markdown"
   }
  },
  {
   "cell_type": "code",
   "metadata": {
    "cell_id": "00022-63f6454b-e6a1-4360-b54b-9c93be212de2",
    "deepnote_cell_type": "code"
   },
   "source": "# Create the target encoder. You can find this easily by using tab completion.\n# Start typing ce. the press Tab to bring up a list of classes and functions.\ntarget_enc = ____\n\n# Learn encoding from the training set. Use the 'is_attributed' column as the target.\n____\n\n# Apply encoding to the train and validation sets as new columns\n# Make sure to add `_target` as a suffix to the new columns\ntrain_encoded = ____\nvalid_encoded = ____\n\n# Check your answer\nq_4.check()",
   "execution_count": null,
   "outputs": []
  },
  {
   "cell_type": "code",
   "metadata": {
    "cell_id": "00023-55a92e83-aafb-49ed-ae36-7b2a9ac657df",
    "deepnote_cell_type": "code"
   },
   "source": "# Uncomment these if you need some guidance\n#q_4.hint()\n#q_4.solution()",
   "execution_count": null,
   "outputs": []
  },
  {
   "cell_type": "markdown",
   "source": "Run the next cell to see how target encoding affects your results.",
   "metadata": {
    "cell_id": "00024-37caa5d2-745d-454f-8509-4d90796f3832",
    "deepnote_cell_type": "markdown"
   }
  },
  {
   "cell_type": "code",
   "metadata": {
    "cell_id": "00025-6d176bac-51e8-49c2-a08f-746b22937bf5",
    "deepnote_cell_type": "code"
   },
   "source": "_ = train_model(train_encoded, valid_encoded)",
   "execution_count": null,
   "outputs": []
  },
  {
   "cell_type": "markdown",
   "source": "### 5) Try removing IP encoding\n\nIf you leave `ip` out of the encoded features and retrain the model with target encoding, you should find that the score increases and is above the baseline score! Why do you think the score is below baseline when we encode the IP address but above baseline when we don't?\n\nRun the following line after you've decided your answer.",
   "metadata": {
    "cell_id": "00026-8c219c52-f56d-4b73-9eea-471c82849ef0",
    "deepnote_cell_type": "markdown"
   }
  },
  {
   "cell_type": "code",
   "metadata": {
    "cell_id": "00027-4f4a6b62-2654-40a9-895d-0c34b7f6350d",
    "deepnote_cell_type": "code"
   },
   "source": "# Check your answer (Run this code cell to receive credit!)\nq_5.solution()",
   "execution_count": null,
   "outputs": []
  },
  {
   "cell_type": "markdown",
   "source": "### 6) CatBoost Encoding\n\nThe CatBoost encoder is supposed to work well with the LightGBM model. Encode the categorical features with `CatBoostEncoder` and train the model on the encoded data again.",
   "metadata": {
    "cell_id": "00028-299d6f49-d1be-41ba-9ef1-a3a62abe2eb9",
    "deepnote_cell_type": "markdown"
   }
  },
  {
   "cell_type": "code",
   "metadata": {
    "cell_id": "00029-532df056-fb4f-4ee7-9ea1-02ad0ee9c6f2",
    "deepnote_cell_type": "code"
   },
   "source": "# Remove IP from the encoded features\ncat_features = ['app', 'device', 'os', 'channel']\n\n# Create the CatBoost encoder\ncb_enc = ce.CatBoostEncoder(cols=cat_features, random_state=7)\n\n# Learn encoding from the training set\n____\n\n# Apply encoding to the train and validation sets as new columns\n# Make sure to add `_cb` as a suffix to the new columns\ntrain_encoded = ____\nvalid_encoded = ____\n\n# Check your answer\nq_6.check()",
   "execution_count": null,
   "outputs": []
  },
  {
   "cell_type": "code",
   "metadata": {
    "cell_id": "00030-f1408e86-7ca4-4738-a8d7-0dd89acb5e6e",
    "deepnote_cell_type": "code"
   },
   "source": "# Uncomment these if you need some guidance\n#q_6.hint()\n#q_6.solution()",
   "execution_count": null,
   "outputs": []
  },
  {
   "cell_type": "markdown",
   "source": "Run the next code cell to see how the CatBoost encoder changes your results.",
   "metadata": {
    "cell_id": "00031-e0d260d3-8e4f-4633-9498-4c503a9fa4d8",
    "deepnote_cell_type": "markdown"
   }
  },
  {
   "cell_type": "code",
   "metadata": {
    "cell_id": "00032-76850184-659b-4dbf-ae8c-b956bc4111fe",
    "deepnote_cell_type": "code"
   },
   "source": "_ = train_model(train_encoded, valid_encoded)",
   "execution_count": null,
   "outputs": []
  },
  {
   "cell_type": "markdown",
   "source": "<a style='text-decoration:none;line-height:16px;display:flex;color:#5B5B62;padding:10px;justify-content:end;' href='https://deepnote.com?utm_source=created-in-deepnote-cell&projectId=32ebab46-e526-42a3-8966-92f4ff6ef571' target=\"_blank\">\n<img alt='Created in deepnote.com' style='display:inline;max-height:16px;margin:0px;margin-right:7.5px;' src='data:image/svg+xml;base64,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' > </img>\nCreated in <span style='font-weight:600;margin-left:4px;'>Deepnote</span></a>",
   "metadata": {
    "tags": [],
    "created_in_deepnote_cell": true,
    "deepnote_cell_type": "markdown"
   }
  }
 ],
 "nbformat": 4,
 "nbformat_minor": 4,
 "metadata": {
  "kernelspec": {
   "display_name": "Python 3",
   "language": "python",
   "name": "python3"
  },
  "language_info": {
   "codemirror_mode": {
    "name": "ipython",
    "version": 3
   },
   "file_extension": ".py",
   "mimetype": "text/x-python",
   "name": "python",
   "nbconvert_exporter": "python",
   "pygments_lexer": "ipython3",
   "version": "3.9.4"
  },
  "deepnote_notebook_id": "7d23d470-232f-4080-87ed-d0aebc3dba64",
  "deepnote": {},
  "deepnote_execution_queue": []
 }
}