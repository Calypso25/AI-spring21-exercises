{
  "cells": [
    {
      "cell_type": "markdown",
      "source": "## Imports",
      "metadata": {
        "cell_id": "00000-3ac1759e-bf20-41da-97de-698909d5d125",
        "deepnote_cell_type": "markdown"
      }
    },
    {
      "cell_type": "code",
      "metadata": {
        "cell_id": "00001-1d82fab6-3f5f-4025-8a96-b59251e52e73",
        "deepnote_to_be_reexecuted": false,
        "source_hash": "d46d2d4f",
        "execution_start": 1620057555940,
        "execution_millis": 0,
        "deepnote_cell_type": "code"
      },
      "source": "# pip install --upgrade scikit-learn",
      "execution_count": null,
      "outputs": []
    },
    {
      "cell_type": "code",
      "metadata": {
        "colab": {},
        "colab_type": "code",
        "id": "mjnuJ19dJV7v",
        "cell_id": "00002-ef0b0028-80e8-4d72-89ea-7a2f0f7865a4",
        "deepnote_to_be_reexecuted": false,
        "source_hash": "a4a6928a",
        "execution_start": 1620057555953,
        "execution_millis": 1861,
        "deepnote_cell_type": "code"
      },
      "source": "import time\nfrom IPython.display import clear_output\nimport numpy    as np\nimport pandas   as pd\nimport seaborn  as sb\nimport matplotlib.pyplot as plt\nimport sklearn  as skl\n\nfrom sklearn import pipeline      # Pipeline\nfrom sklearn import preprocessing # OrdinalEncoder, LabelEncoder\nfrom sklearn import impute\nfrom sklearn import compose\nfrom sklearn import model_selection # train_test_split\nfrom sklearn import metrics         # accuracy_score, balanced_accuracy_score, plot_confusion_matrix\nfrom sklearn import set_config\n\nset_config(display='diagram') # Useful for display the pipeline\n\nprint(\"Pandas  \", pd.__version__)\nprint(\"Sklearn \", skl.__version__) # Try to use 0.24",
      "execution_count": null,
      "outputs": [
        {
          "name": "stdout",
          "text": "Pandas   1.2.4\nSklearn  0.24.1\n",
          "output_type": "stream"
        }
      ]
    },
    {
      "cell_type": "markdown",
      "source": "## Get the dataset\n- **CLOUD = True**: Download dataset from Kaggle. Necesary for cloud enviroments like COLAB. **Specify your [kaggle credentials](https://www.kaggle.com/docs/api)**.\n- **CLOUD = False**: Get the dataset from your local machine. **Specify the data path**.",
      "metadata": {
        "cell_id": "00003-755e4ec0-18cd-4ea9-b633-cc85ba7d09da",
        "deepnote_cell_type": "markdown"
      }
    },
    {
      "cell_type": "code",
      "metadata": {
        "cell_id": "00004-4b332e26-d747-4fa9-a15f-8147339242fc",
        "deepnote_to_be_reexecuted": false,
        "source_hash": "9eeda15b",
        "execution_start": 1620057557817,
        "execution_millis": 3,
        "deepnote_cell_type": "code"
      },
      "source": "CLOUD = False\n\nif CLOUD:\n    import os\n    os.environ['KAGGLE_USERNAME'] = \"your_kaggle_username\"\n    os.environ['KAGGLE_KEY']      = \"your_kaggle_api_key\"  # See https://www.kaggle.com/docs/api\n    !pip install --upgrade kaggle\n    !kaggle competitions download -c titanic\n    DATA_PATH = \"./\"\n\nelse:\n    DATA_PATH = \"titanic/\" # remember to change it!!!!",
      "execution_count": null,
      "outputs": []
    },
    {
      "cell_type": "markdown",
      "source": "## Load data",
      "metadata": {
        "cell_id": "00005-3795bfa3-78f1-4e8d-bc7b-ff003b87761d",
        "deepnote_cell_type": "markdown"
      }
    },
    {
      "cell_type": "code",
      "metadata": {
        "colab": {},
        "colab_type": "code",
        "id": "wAy8TnVPJV8S",
        "cell_id": "00006-e8ccb947-5553-408b-bc68-642516ca0044",
        "deepnote_to_be_reexecuted": false,
        "source_hash": "e6b3969e",
        "execution_start": 1620057557826,
        "execution_millis": 24,
        "deepnote_cell_type": "code"
      },
      "source": "df      = pd.read_csv(DATA_PATH + \"train.csv\", index_col='PassengerId')\ndf_test = pd.read_csv(DATA_PATH + \"test.csv\",  index_col='PassengerId')\n\nprint(\"Train DataFrame:\", df.shape)\nprint(\"Test DataFrame: \", df_test.shape)",
      "execution_count": null,
      "outputs": [
        {
          "name": "stdout",
          "text": "Train DataFrame: (891, 11)\nTest DataFrame:  (418, 10)\n",
          "output_type": "stream"
        }
      ]
    },
    {
      "cell_type": "markdown",
      "source": "## Check missings",
      "metadata": {
        "cell_id": "00007-7aac5721-37cb-4118-b32c-45b928fa7b7b",
        "deepnote_cell_type": "markdown"
      }
    },
    {
      "cell_type": "code",
      "metadata": {
        "cell_id": "00008-62620a78-83da-4bf0-b70a-0372603a62f2",
        "deepnote_to_be_reexecuted": false,
        "source_hash": "f3dd26da",
        "execution_start": 1620057557851,
        "execution_millis": 11,
        "deepnote_cell_type": "code"
      },
      "source": "df.isnull().sum()",
      "execution_count": null,
      "outputs": [
        {
          "output_type": "execute_result",
          "execution_count": 5,
          "data": {
            "text/plain": "Survived      0\nPclass        0\nName          0\nSex           0\nAge         177\nSibSp         0\nParch         0\nTicket        0\nFare          0\nCabin       687\nEmbarked      2\ndtype: int64"
          },
          "metadata": {}
        }
      ]
    },
    {
      "cell_type": "code",
      "metadata": {
        "cell_id": "00009-de164e0b-975e-4153-809f-673257c4e66b",
        "deepnote_to_be_reexecuted": false,
        "source_hash": "5a27af67",
        "execution_start": 1620057557859,
        "execution_millis": 18,
        "deepnote_cell_type": "code"
      },
      "source": "df_test.isnull().sum()",
      "execution_count": null,
      "outputs": [
        {
          "output_type": "execute_result",
          "execution_count": 6,
          "data": {
            "text/plain": "Pclass        0\nName          0\nSex           0\nAge          86\nSibSp         0\nParch         0\nTicket        0\nFare          1\nCabin       327\nEmbarked      0\ndtype: int64"
          },
          "metadata": {}
        }
      ]
    },
    {
      "cell_type": "markdown",
      "source": "# Exercise 1 (2pts):\nExtract the title (Mr, Mrs, ... ) from the \"Name\" column.\n\nTips:\n- split(',')[1] to get the 2nd part, and remove the surnamename\n- split('.')[0] to get the 1str part, and remove the name",
      "metadata": {
        "cell_id": "00010-4829d5a9-a206-47ad-92fc-a9aac61ddbd9",
        "deepnote_cell_type": "markdown"
      }
    },
    {
      "cell_type": "code",
      "metadata": {
        "deletable": false,
        "nbgrader": {
          "cell_type": "code",
          "checksum": "cac1de4ed2d966fcdf707a8bfd131fba",
          "grade": false,
          "grade_id": "cell-d56107842f0f54d2",
          "locked": false,
          "schema_version": 3,
          "solution": true,
          "task": false
        },
        "cell_id": "00011-14c11889-1cd0-490b-b94f-1dcf5721c4ad",
        "deepnote_to_be_reexecuted": false,
        "source_hash": "2e4eaeae",
        "execution_start": 1620057557901,
        "execution_millis": 1,
        "deepnote_cell_type": "code"
      },
      "source": "# CODE HERE get_Title_from_Name funtion\n# Create this function using lambda (not def)\n\n# get_Title_from_Name = None\n\n# YOUR CODE HERE\nget_Title_from_Name = lambda name: name.split(',')[1].split('.')[0].strip()\n\ndf['Title']      = df['Name'].map(get_Title_from_Name)\ndf_test['Title'] = df_test['Name'].map(get_Title_from_Name)",
      "execution_count": null,
      "outputs": []
    },
    {
      "cell_type": "code",
      "metadata": {
        "deletable": false,
        "editable": false,
        "nbgrader": {
          "cell_type": "code",
          "checksum": "f23c4d567e5fb4f4b69a001df14c6f7c",
          "grade": true,
          "grade_id": "cell-f3d989a17018344b",
          "locked": true,
          "points": 2,
          "schema_version": 3,
          "solution": false,
          "task": false
        },
        "cell_id": "00012-dbdc4ab0-cc2f-4659-b6dc-923c6fd79cff",
        "deepnote_to_be_reexecuted": false,
        "source_hash": "cdcf037f",
        "execution_start": 1620057557902,
        "execution_millis": 1,
        "deepnote_cell_type": "code"
      },
      "source": "assert df['Title'].values[0] == \"Mr\"\nassert df['Title'].values[1] == \"Mrs\"\nassert df['Title'].values[2] == \"Miss\"\n\nassert df_test['Title'].values[0] == \"Mr\"\nassert df_test['Title'].values[1] == \"Mrs\"\nassert df_test['Title'].values[414] == \"Dona\"",
      "execution_count": null,
      "outputs": []
    },
    {
      "cell_type": "markdown",
      "source": "# Exercise 2 (1pts):\nApply the title_dictionary to get a better information about the title. You have to overwrite the Title variable.",
      "metadata": {
        "cell_id": "00013-a5d00ffb-2a04-4135-9666-0f5f3be88103",
        "deepnote_cell_type": "markdown"
      }
    },
    {
      "cell_type": "code",
      "metadata": {
        "cell_id": "00014-6beccab7-c65c-4f06-b558-6c45bfffdd5d",
        "deepnote_to_be_reexecuted": false,
        "source_hash": "93108900",
        "execution_start": 1620057557903,
        "execution_millis": 1,
        "deepnote_cell_type": "code"
      },
      "source": "title_dictionary = {\n    \"Capt\": \"Officer\",\n    \"Col\": \"Officer\",\n    \"Major\": \"Officer\",\n    \"Jonkheer\": \"Royalty\",\n    \"Don\": \"Royalty\",\n    \"Sir\" : \"Royalty\",\n    \"Dr\": \"Officer\",\n    \"Rev\": \"Officer\",\n    \"the Countess\":\"Royalty\",\n    \"Mme\": \"Mrs\",\n    \"Mlle\": \"Miss\",\n    \"Ms\": \"Mrs\",\n    \"Mr\" : \"Mr\",\n    \"Mrs\" : \"Mrs\",\n    \"Miss\" : \"Miss\",\n    \"Master\" : \"Master\",\n    \"Lady\" : \"Royalty\"\n}",
      "execution_count": null,
      "outputs": []
    },
    {
      "cell_type": "code",
      "metadata": {
        "tags": [],
        "cell_id": "00015-2481142b-312e-4538-a89c-9898a9ebf1a3",
        "deepnote_to_be_reexecuted": false,
        "source_hash": "b353c92a",
        "execution_start": 1620057557904,
        "execution_millis": 57,
        "deepnote_cell_type": "code"
      },
      "source": "df['Title'].values[886]",
      "execution_count": null,
      "outputs": [
        {
          "output_type": "execute_result",
          "execution_count": 10,
          "data": {
            "text/plain": "'Rev'"
          },
          "metadata": {}
        }
      ]
    },
    {
      "cell_type": "code",
      "metadata": {
        "deletable": false,
        "nbgrader": {
          "cell_type": "code",
          "checksum": "da7233548e7218eded680b5edb7963de",
          "grade": false,
          "grade_id": "cell-5c6a842c812fafda",
          "locked": false,
          "schema_version": 3,
          "solution": true,
          "task": false
        },
        "cell_id": "00015-cbce3100-2a18-4fcb-939f-1591c3b9ba0f",
        "deepnote_to_be_reexecuted": false,
        "source_hash": "4148b2d5",
        "execution_start": 1620057557914,
        "execution_millis": 4,
        "deepnote_cell_type": "code"
      },
      "source": "# Use map to apply the prevous dict\n\ndf[\"Title\"] = df.Title.map(title_dictionary) \ndf_test[\"Title\"] = df_test.Title.map(title_dictionary)\n\n# YOUR CODE HERE\n# raise NotImplementedError()",
      "execution_count": null,
      "outputs": []
    },
    {
      "cell_type": "code",
      "metadata": {
        "deletable": false,
        "editable": false,
        "nbgrader": {
          "cell_type": "code",
          "checksum": "96a09f1cde63b704ff2f391309c30690",
          "grade": true,
          "grade_id": "cell-669f5a637e57e835",
          "locked": true,
          "points": 1,
          "schema_version": 3,
          "solution": false,
          "task": false
        },
        "cell_id": "00016-7664e169-ca79-412c-9fce-5c28db792d5b",
        "deepnote_to_be_reexecuted": false,
        "source_hash": "c2c848aa",
        "execution_start": 1620057557921,
        "execution_millis": 3,
        "deepnote_cell_type": "code"
      },
      "source": "assert df['Title'].values[886] == \"Officer\"\nassert df_test['Title'].values[417] == \"Master\"",
      "execution_count": null,
      "outputs": []
    },
    {
      "cell_type": "markdown",
      "source": "# Exercise OPTIONAL (0pts):\nTry to extract some information from the feature **Ticket**. Search on Internet if that colum has some kind of information.",
      "metadata": {
        "cell_id": "00017-ce6fa847-c254-47bf-8956-2ff344c28d6a",
        "deepnote_cell_type": "markdown"
      }
    },
    {
      "cell_type": "code",
      "metadata": {
        "cell_id": "00018-8466abae-928d-43ec-a1db-ff9e5921d000",
        "deepnote_to_be_reexecuted": false,
        "source_hash": "8057010a",
        "execution_start": 1620057557933,
        "execution_millis": 28,
        "deepnote_cell_type": "code"
      },
      "source": "df_test['Ticket']",
      "execution_count": null,
      "outputs": [
        {
          "output_type": "execute_result",
          "execution_count": 13,
          "data": {
            "text/plain": "PassengerId\n892                 330911\n893                 363272\n894                 240276\n895                 315154\n896                3101298\n               ...        \n1305             A.5. 3236\n1306              PC 17758\n1307    SOTON/O.Q. 3101262\n1308                359309\n1309                  2668\nName: Ticket, Length: 418, dtype: object"
          },
          "metadata": {}
        }
      ]
    },
    {
      "cell_type": "markdown",
      "source": "# Exercise OPTIONAL (0pts):\nTry to extract some information from the feature **Cabin**. Search on Internet if that colum has some kind of information.",
      "metadata": {
        "cell_id": "00019-1d8fd730-8406-4262-9763-9ac93d8b1aa1",
        "deepnote_cell_type": "markdown"
      }
    },
    {
      "cell_type": "code",
      "metadata": {
        "cell_id": "00020-fad09e9b-1e7b-4a73-856c-622a2bc61819",
        "deepnote_to_be_reexecuted": false,
        "source_hash": "90539046",
        "execution_start": 1620057557941,
        "execution_millis": 28,
        "deepnote_cell_type": "code"
      },
      "source": "df_test['Cabin']",
      "execution_count": null,
      "outputs": [
        {
          "output_type": "execute_result",
          "execution_count": 14,
          "data": {
            "text/plain": "PassengerId\n892      NaN\n893      NaN\n894      NaN\n895      NaN\n896      NaN\n        ... \n1305     NaN\n1306    C105\n1307     NaN\n1308     NaN\n1309     NaN\nName: Cabin, Length: 418, dtype: object"
          },
          "metadata": {}
        }
      ]
    },
    {
      "cell_type": "code",
      "metadata": {
        "tags": [],
        "cell_id": "00021-5192e136-a861-471a-9bb0-8428a6bfb80a",
        "deepnote_to_be_reexecuted": false,
        "source_hash": "f88152d9",
        "execution_start": 1620057557955,
        "execution_millis": 62,
        "deepnote_cell_type": "code"
      },
      "source": "df.describe()",
      "execution_count": null,
      "outputs": [
        {
          "output_type": "execute_result",
          "execution_count": 15,
          "data": {
            "application/vnd.deepnote.dataframe.v2+json": {
              "row_count": 8,
              "column_count": 6,
              "columns": [
                {
                  "name": "Survived",
                  "dtype": "float64",
                  "stats": {
                    "unique_count": 5,
                    "nan_count": 0,
                    "min": "0.0",
                    "max": "891.0",
                    "histogram": [
                      {
                        "bin_start": 0,
                        "bin_end": 89.1,
                        "count": 7
                      },
                      {
                        "bin_start": 89.1,
                        "bin_end": 178.2,
                        "count": 0
                      },
                      {
                        "bin_start": 178.2,
                        "bin_end": 267.29999999999995,
                        "count": 0
                      },
                      {
                        "bin_start": 267.29999999999995,
                        "bin_end": 356.4,
                        "count": 0
                      },
                      {
                        "bin_start": 356.4,
                        "bin_end": 445.5,
                        "count": 0
                      },
                      {
                        "bin_start": 445.5,
                        "bin_end": 534.5999999999999,
                        "count": 0
                      },
                      {
                        "bin_start": 534.5999999999999,
                        "bin_end": 623.6999999999999,
                        "count": 0
                      },
                      {
                        "bin_start": 623.6999999999999,
                        "bin_end": 712.8,
                        "count": 0
                      },
                      {
                        "bin_start": 712.8,
                        "bin_end": 801.9,
                        "count": 0
                      },
                      {
                        "bin_start": 801.9,
                        "bin_end": 891,
                        "count": 1
                      }
                    ]
                  }
                },
                {
                  "name": "Pclass",
                  "dtype": "float64",
                  "stats": {
                    "unique_count": 6,
                    "nan_count": 0,
                    "min": "0.836071240977049",
                    "max": "891.0",
                    "histogram": [
                      {
                        "bin_start": 0.836071240977049,
                        "bin_end": 89.85246411687935,
                        "count": 7
                      },
                      {
                        "bin_start": 89.85246411687935,
                        "bin_end": 178.86885699278164,
                        "count": 0
                      },
                      {
                        "bin_start": 178.86885699278164,
                        "bin_end": 267.88524986868396,
                        "count": 0
                      },
                      {
                        "bin_start": 267.88524986868396,
                        "bin_end": 356.90164274458624,
                        "count": 0
                      },
                      {
                        "bin_start": 356.90164274458624,
                        "bin_end": 445.9180356204885,
                        "count": 0
                      },
                      {
                        "bin_start": 445.9180356204885,
                        "bin_end": 534.9344284963909,
                        "count": 0
                      },
                      {
                        "bin_start": 534.9344284963909,
                        "bin_end": 623.9508213722931,
                        "count": 0
                      },
                      {
                        "bin_start": 623.9508213722931,
                        "bin_end": 712.9672142481954,
                        "count": 0
                      },
                      {
                        "bin_start": 712.9672142481954,
                        "bin_end": 801.9836071240977,
                        "count": 0
                      },
                      {
                        "bin_start": 801.9836071240977,
                        "bin_end": 891,
                        "count": 1
                      }
                    ]
                  }
                },
                {
                  "name": "Age",
                  "dtype": "float64",
                  "stats": {
                    "unique_count": 8,
                    "nan_count": 0,
                    "min": "0.42",
                    "max": "714.0",
                    "histogram": [
                      {
                        "bin_start": 0.42,
                        "bin_end": 71.778,
                        "count": 6
                      },
                      {
                        "bin_start": 71.778,
                        "bin_end": 143.136,
                        "count": 1
                      },
                      {
                        "bin_start": 143.136,
                        "bin_end": 214.494,
                        "count": 0
                      },
                      {
                        "bin_start": 214.494,
                        "bin_end": 285.85200000000003,
                        "count": 0
                      },
                      {
                        "bin_start": 285.85200000000003,
                        "bin_end": 357.21000000000004,
                        "count": 0
                      },
                      {
                        "bin_start": 357.21000000000004,
                        "bin_end": 428.56800000000004,
                        "count": 0
                      },
                      {
                        "bin_start": 428.56800000000004,
                        "bin_end": 499.92600000000004,
                        "count": 0
                      },
                      {
                        "bin_start": 499.92600000000004,
                        "bin_end": 571.284,
                        "count": 0
                      },
                      {
                        "bin_start": 571.284,
                        "bin_end": 642.6419999999999,
                        "count": 0
                      },
                      {
                        "bin_start": 642.6419999999999,
                        "bin_end": 714,
                        "count": 1
                      }
                    ]
                  }
                },
                {
                  "name": "SibSp",
                  "dtype": "float64",
                  "stats": {
                    "unique_count": 6,
                    "nan_count": 0,
                    "min": "0.0",
                    "max": "891.0",
                    "histogram": [
                      {
                        "bin_start": 0,
                        "bin_end": 89.1,
                        "count": 7
                      },
                      {
                        "bin_start": 89.1,
                        "bin_end": 178.2,
                        "count": 0
                      },
                      {
                        "bin_start": 178.2,
                        "bin_end": 267.29999999999995,
                        "count": 0
                      },
                      {
                        "bin_start": 267.29999999999995,
                        "bin_end": 356.4,
                        "count": 0
                      },
                      {
                        "bin_start": 356.4,
                        "bin_end": 445.5,
                        "count": 0
                      },
                      {
                        "bin_start": 445.5,
                        "bin_end": 534.5999999999999,
                        "count": 0
                      },
                      {
                        "bin_start": 534.5999999999999,
                        "bin_end": 623.6999999999999,
                        "count": 0
                      },
                      {
                        "bin_start": 623.6999999999999,
                        "bin_end": 712.8,
                        "count": 0
                      },
                      {
                        "bin_start": 712.8,
                        "bin_end": 801.9,
                        "count": 0
                      },
                      {
                        "bin_start": 801.9,
                        "bin_end": 891,
                        "count": 1
                      }
                    ]
                  }
                },
                {
                  "name": "Parch",
                  "dtype": "float64",
                  "stats": {
                    "unique_count": 5,
                    "nan_count": 0,
                    "min": "0.0",
                    "max": "891.0",
                    "histogram": [
                      {
                        "bin_start": 0,
                        "bin_end": 89.1,
                        "count": 7
                      },
                      {
                        "bin_start": 89.1,
                        "bin_end": 178.2,
                        "count": 0
                      },
                      {
                        "bin_start": 178.2,
                        "bin_end": 267.29999999999995,
                        "count": 0
                      },
                      {
                        "bin_start": 267.29999999999995,
                        "bin_end": 356.4,
                        "count": 0
                      },
                      {
                        "bin_start": 356.4,
                        "bin_end": 445.5,
                        "count": 0
                      },
                      {
                        "bin_start": 445.5,
                        "bin_end": 534.5999999999999,
                        "count": 0
                      },
                      {
                        "bin_start": 534.5999999999999,
                        "bin_end": 623.6999999999999,
                        "count": 0
                      },
                      {
                        "bin_start": 623.6999999999999,
                        "bin_end": 712.8,
                        "count": 0
                      },
                      {
                        "bin_start": 712.8,
                        "bin_end": 801.9,
                        "count": 0
                      },
                      {
                        "bin_start": 801.9,
                        "bin_end": 891,
                        "count": 1
                      }
                    ]
                  }
                },
                {
                  "name": "Fare",
                  "dtype": "float64",
                  "stats": {
                    "unique_count": 8,
                    "nan_count": 0,
                    "min": "0.0",
                    "max": "891.0",
                    "histogram": [
                      {
                        "bin_start": 0,
                        "bin_end": 89.1,
                        "count": 6
                      },
                      {
                        "bin_start": 89.1,
                        "bin_end": 178.2,
                        "count": 0
                      },
                      {
                        "bin_start": 178.2,
                        "bin_end": 267.29999999999995,
                        "count": 0
                      },
                      {
                        "bin_start": 267.29999999999995,
                        "bin_end": 356.4,
                        "count": 0
                      },
                      {
                        "bin_start": 356.4,
                        "bin_end": 445.5,
                        "count": 0
                      },
                      {
                        "bin_start": 445.5,
                        "bin_end": 534.5999999999999,
                        "count": 1
                      },
                      {
                        "bin_start": 534.5999999999999,
                        "bin_end": 623.6999999999999,
                        "count": 0
                      },
                      {
                        "bin_start": 623.6999999999999,
                        "bin_end": 712.8,
                        "count": 0
                      },
                      {
                        "bin_start": 712.8,
                        "bin_end": 801.9,
                        "count": 0
                      },
                      {
                        "bin_start": 801.9,
                        "bin_end": 891,
                        "count": 1
                      }
                    ]
                  }
                },
                {
                  "name": "_deepnote_index_column",
                  "dtype": "object"
                }
              ],
              "rows_top": [
                {
                  "Survived": 891,
                  "Pclass": 891,
                  "Age": 714,
                  "SibSp": 891,
                  "Parch": 891,
                  "Fare": 891,
                  "_deepnote_index_column": "count"
                },
                {
                  "Survived": 0.3838383838383838,
                  "Pclass": 2.308641975308642,
                  "Age": 29.69911764705882,
                  "SibSp": 0.5230078563411896,
                  "Parch": 0.38159371492704824,
                  "Fare": 32.204207968574636,
                  "_deepnote_index_column": "mean"
                },
                {
                  "Survived": 0.4865924542648575,
                  "Pclass": 0.836071240977049,
                  "Age": 14.526497332334042,
                  "SibSp": 1.1027434322934317,
                  "Parch": 0.8060572211299483,
                  "Fare": 49.6934285971809,
                  "_deepnote_index_column": "std"
                },
                {
                  "Survived": 0,
                  "Pclass": 1,
                  "Age": 0.42,
                  "SibSp": 0,
                  "Parch": 0,
                  "Fare": 0,
                  "_deepnote_index_column": "min"
                },
                {
                  "Survived": 0,
                  "Pclass": 2,
                  "Age": 20.125,
                  "SibSp": 0,
                  "Parch": 0,
                  "Fare": 7.9104,
                  "_deepnote_index_column": "25%"
                },
                {
                  "Survived": 0,
                  "Pclass": 3,
                  "Age": 28,
                  "SibSp": 0,
                  "Parch": 0,
                  "Fare": 14.4542,
                  "_deepnote_index_column": "50%"
                },
                {
                  "Survived": 1,
                  "Pclass": 3,
                  "Age": 38,
                  "SibSp": 1,
                  "Parch": 0,
                  "Fare": 31,
                  "_deepnote_index_column": "75%"
                },
                {
                  "Survived": 1,
                  "Pclass": 3,
                  "Age": 80,
                  "SibSp": 8,
                  "Parch": 6,
                  "Fare": 512.3292,
                  "_deepnote_index_column": "max"
                }
              ],
              "rows_bottom": null
            },
            "text/plain": "         Survived      Pclass         Age       SibSp       Parch        Fare\ncount  891.000000  891.000000  714.000000  891.000000  891.000000  891.000000\nmean     0.383838    2.308642   29.699118    0.523008    0.381594   32.204208\nstd      0.486592    0.836071   14.526497    1.102743    0.806057   49.693429\nmin      0.000000    1.000000    0.420000    0.000000    0.000000    0.000000\n25%      0.000000    2.000000   20.125000    0.000000    0.000000    7.910400\n50%      0.000000    3.000000   28.000000    0.000000    0.000000   14.454200\n75%      1.000000    3.000000   38.000000    1.000000    0.000000   31.000000\nmax      1.000000    3.000000   80.000000    8.000000    6.000000  512.329200",
            "text/html": "<div>\n<style scoped>\n    .dataframe tbody tr th:only-of-type {\n        vertical-align: middle;\n    }\n\n    .dataframe tbody tr th {\n        vertical-align: top;\n    }\n\n    .dataframe thead th {\n        text-align: right;\n    }\n</style>\n<table border=\"1\" class=\"dataframe\">\n  <thead>\n    <tr style=\"text-align: right;\">\n      <th></th>\n      <th>Survived</th>\n      <th>Pclass</th>\n      <th>Age</th>\n      <th>SibSp</th>\n      <th>Parch</th>\n      <th>Fare</th>\n    </tr>\n  </thead>\n  <tbody>\n    <tr>\n      <th>count</th>\n      <td>891.000000</td>\n      <td>891.000000</td>\n      <td>714.000000</td>\n      <td>891.000000</td>\n      <td>891.000000</td>\n      <td>891.000000</td>\n    </tr>\n    <tr>\n      <th>mean</th>\n      <td>0.383838</td>\n      <td>2.308642</td>\n      <td>29.699118</td>\n      <td>0.523008</td>\n      <td>0.381594</td>\n      <td>32.204208</td>\n    </tr>\n    <tr>\n      <th>std</th>\n      <td>0.486592</td>\n      <td>0.836071</td>\n      <td>14.526497</td>\n      <td>1.102743</td>\n      <td>0.806057</td>\n      <td>49.693429</td>\n    </tr>\n    <tr>\n      <th>min</th>\n      <td>0.000000</td>\n      <td>1.000000</td>\n      <td>0.420000</td>\n      <td>0.000000</td>\n      <td>0.000000</td>\n      <td>0.000000</td>\n    </tr>\n    <tr>\n      <th>25%</th>\n      <td>0.000000</td>\n      <td>2.000000</td>\n      <td>20.125000</td>\n      <td>0.000000</td>\n      <td>0.000000</td>\n      <td>7.910400</td>\n    </tr>\n    <tr>\n      <th>50%</th>\n      <td>0.000000</td>\n      <td>3.000000</td>\n      <td>28.000000</td>\n      <td>0.000000</td>\n      <td>0.000000</td>\n      <td>14.454200</td>\n    </tr>\n    <tr>\n      <th>75%</th>\n      <td>1.000000</td>\n      <td>3.000000</td>\n      <td>38.000000</td>\n      <td>1.000000</td>\n      <td>0.000000</td>\n      <td>31.000000</td>\n    </tr>\n    <tr>\n      <th>max</th>\n      <td>1.000000</td>\n      <td>3.000000</td>\n      <td>80.000000</td>\n      <td>8.000000</td>\n      <td>6.000000</td>\n      <td>512.329200</td>\n    </tr>\n  </tbody>\n</table>\n</div>"
          },
          "metadata": {}
        }
      ]
    },
    {
      "cell_type": "code",
      "metadata": {
        "tags": [],
        "cell_id": "00022-db6f4235-6ea0-4a2c-b727-0a1be9bef1cb",
        "deepnote_to_be_reexecuted": false,
        "source_hash": "b623e53d",
        "execution_start": 1620057558000,
        "execution_millis": 4,
        "deepnote_cell_type": "code"
      },
      "source": "",
      "execution_count": null,
      "outputs": []
    },
    {
      "cell_type": "markdown",
      "source": "# Preprocessing\nFor X data, notice that...\n- We drop Survived because is the target variable\n- We drop Name because we have extracted the Title: Mr, Mrs, ...\n- We drop Ticket because it has no information -> see df.Ticket.nunique()\n- We drop Cabin because it has a lot of missings (77% are missings)\n\nThen, we identify **numerical** variables and **categorical** variables,",
      "metadata": {
        "cell_id": "00021-8aa50113-2afc-40e4-b604-c53e170d3b99",
        "deepnote_cell_type": "markdown"
      }
    },
    {
      "cell_type": "code",
      "metadata": {
        "cell_id": "00022-69bbc23c-8a4f-4cdd-ac8b-c3810f68f540",
        "deepnote_to_be_reexecuted": false,
        "source_hash": "48bb2d72",
        "execution_start": 1620057558035,
        "execution_millis": 1,
        "deepnote_cell_type": "code"
      },
      "source": "x = df.drop(columns=[\"Survived\", 'Name', 'Ticket', 'Cabin']) # X DATA (WILL BE TRAIN+VALID DATA)\ny = df[\"Survived\"] # 0 = No, 1 = Yes\n\nx_test = df_test.drop(columns=['Name', 'Ticket', 'Cabin']) # # X_TEST DATA (NEW DATA)",
      "execution_count": null,
      "outputs": []
    },
    {
      "cell_type": "code",
      "metadata": {
        "cell_id": "00023-29530603-6261-4d6f-9817-d59ea5b3628e",
        "deepnote_to_be_reexecuted": false,
        "source_hash": "d4ce8b83",
        "execution_start": 1620057558036,
        "execution_millis": 45,
        "deepnote_cell_type": "code"
      },
      "source": "cat_vars  = ['Sex', 'Embarked', 'Title']         # x.select_dtypes(include=[object]).columns.values.tolist()\nnum_vars  = ['Pclass', 'SibSp', 'Parch', 'Fare', 'Age'] # x.select_dtypes(exclude=[object]).columns.values.tolist()\n\nprint(\"\\nNumerical features:\\n\", num_vars)\nprint(\"\\nCategorical features:\\n\", cat_vars)",
      "execution_count": null,
      "outputs": [
        {
          "name": "stdout",
          "text": "\nNumerical features:\n ['Pclass', 'SibSp', 'Parch', 'Fare', 'Age']\n\nCategorical features:\n ['Sex', 'Embarked', 'Title']\n",
          "output_type": "stream"
        }
      ]
    },
    {
      "cell_type": "code",
      "metadata": {
        "tags": [],
        "cell_id": "00026-353667cb-ad9f-4c24-80d1-588471822a0b",
        "deepnote_to_be_reexecuted": false,
        "source_hash": "211bf7c2",
        "execution_start": 1620057558037,
        "execution_millis": 44,
        "deepnote_cell_type": "code"
      },
      "source": "x.select_dtypes(include=[object]).columns.values.tolist()",
      "execution_count": null,
      "outputs": [
        {
          "output_type": "execute_result",
          "execution_count": 18,
          "data": {
            "text/plain": "['Sex', 'Embarked', 'Title']"
          },
          "metadata": {}
        }
      ]
    },
    {
      "cell_type": "code",
      "metadata": {
        "tags": [],
        "cell_id": "00027-4970ca19-1c89-4756-87be-e260653c0c68",
        "deepnote_to_be_reexecuted": false,
        "source_hash": "42b5b381",
        "execution_start": 1620057558059,
        "execution_millis": 56,
        "deepnote_cell_type": "code"
      },
      "source": "x.select_dtypes(exclude=[object]).columns.values.tolist()",
      "execution_count": null,
      "outputs": [
        {
          "output_type": "execute_result",
          "execution_count": 19,
          "data": {
            "text/plain": "['Pclass', 'Age', 'SibSp', 'Parch', 'Fare']"
          },
          "metadata": {}
        }
      ]
    },
    {
      "cell_type": "markdown",
      "source": "# Exercise 3 (2pts):\nCreate a **ColumnTransformer for Tree Models**. You need to create 2 pipelines (one for numerical and other for categories). Remember:\n- Categorical pipeline: Some SimpleImputer -> Some Encoder\n- Numerical pipeline: Some SimpleImputer -> NO Encoder",
      "metadata": {
        "cell_id": "00024-e1abb0b1-a071-4cae-8252-9b478d7b1128",
        "deepnote_cell_type": "markdown"
      }
    },
    {
      "cell_type": "code",
      "metadata": {
        "deletable": false,
        "nbgrader": {
          "cell_type": "code",
          "checksum": "4a99fc5ecc693dc549b0e1560c568eea",
          "grade": false,
          "grade_id": "cell-c607e75fb38ea248",
          "locked": false,
          "schema_version": 3,
          "solution": true,
          "task": false
        },
        "cell_id": "00025-cbdc3a7c-c61e-4fb1-bae4-4985bb406903",
        "deepnote_to_be_reexecuted": false,
        "source_hash": "5287e247",
        "execution_start": 1620057558060,
        "execution_millis": 55,
        "deepnote_cell_type": "code"
      },
      "source": "num_4_treeModels = pipeline.Pipeline(steps=[\n  ('imputer', impute.SimpleImputer(strategy='mean', add_indicator=False))\n])\n\ncat_4_treeModels = pipeline.Pipeline(steps=[\n  ('imputer', impute.SimpleImputer(strategy='constant', fill_value='missing')),\n  ('onehot', preprocessing.OneHotEncoder(handle_unknown='ignore'))\n])\n\ntree_prepro = compose.ColumnTransformer(transformers=[\n    ('num', num_4_treeModels, num_vars),\n    ('cat', cat_4_treeModels, cat_vars),\n], remainder='drop') # Drop other vars not specified in num_vars or cat_vars\n\ntree_prepro\n\n\n\n# YOUR CODE HERE\n# raise NotImplementedError()",
      "execution_count": null,
      "outputs": [
        {
          "output_type": "execute_result",
          "execution_count": 20,
          "data": {
            "text/plain": "ColumnTransformer(transformers=[('num',\n                                 Pipeline(steps=[('imputer', SimpleImputer())]),\n                                 ['Pclass', 'SibSp', 'Parch', 'Fare', 'Age']),\n                                ('cat',\n                                 Pipeline(steps=[('imputer',\n                                                  SimpleImputer(fill_value='missing',\n                                                                strategy='constant')),\n                                                 ('onehot',\n                                                  OneHotEncoder(handle_unknown='ignore'))]),\n                                 ['Sex', 'Embarked', 'Title'])])",
            "text/html": "<style>div.sk-top-container {color: black;background-color: white;}div.sk-toggleable {background-color: white;}label.sk-toggleable__label {cursor: pointer;display: block;width: 100%;margin-bottom: 0;padding: 0.2em 0.3em;box-sizing: border-box;text-align: center;}div.sk-toggleable__content {max-height: 0;max-width: 0;overflow: hidden;text-align: left;background-color: #f0f8ff;}div.sk-toggleable__content pre {margin: 0.2em;color: black;border-radius: 0.25em;background-color: #f0f8ff;}input.sk-toggleable__control:checked~div.sk-toggleable__content {max-height: 200px;max-width: 100%;overflow: auto;}div.sk-estimator input.sk-toggleable__control:checked~label.sk-toggleable__label {background-color: #d4ebff;}div.sk-label input.sk-toggleable__control:checked~label.sk-toggleable__label {background-color: #d4ebff;}input.sk-hidden--visually {border: 0;clip: rect(1px 1px 1px 1px);clip: rect(1px, 1px, 1px, 1px);height: 1px;margin: -1px;overflow: hidden;padding: 0;position: absolute;width: 1px;}div.sk-estimator {font-family: monospace;background-color: #f0f8ff;margin: 0.25em 0.25em;border: 1px dotted black;border-radius: 0.25em;box-sizing: border-box;}div.sk-estimator:hover {background-color: #d4ebff;}div.sk-parallel-item::after {content: \"\";width: 100%;border-bottom: 1px solid gray;flex-grow: 1;}div.sk-label:hover label.sk-toggleable__label {background-color: #d4ebff;}div.sk-serial::before {content: \"\";position: absolute;border-left: 1px solid gray;box-sizing: border-box;top: 2em;bottom: 0;left: 50%;}div.sk-serial {display: flex;flex-direction: column;align-items: center;background-color: white;}div.sk-item {z-index: 1;}div.sk-parallel {display: flex;align-items: stretch;justify-content: center;background-color: white;}div.sk-parallel-item {display: flex;flex-direction: column;position: relative;background-color: white;}div.sk-parallel-item:first-child::after {align-self: flex-end;width: 50%;}div.sk-parallel-item:last-child::after {align-self: flex-start;width: 50%;}div.sk-parallel-item:only-child::after {width: 0;}div.sk-dashed-wrapped {border: 1px dashed gray;margin: 0.2em;box-sizing: border-box;padding-bottom: 0.1em;background-color: white;position: relative;}div.sk-label label {font-family: monospace;font-weight: bold;background-color: white;display: inline-block;line-height: 1.2em;}div.sk-label-container {position: relative;z-index: 2;text-align: center;}div.sk-container {display: inline-block;position: relative;}</style><div class=\"sk-top-container\"><div class=\"sk-container\"><div class=\"sk-item sk-dashed-wrapped\"><div class=\"sk-label-container\"><div class=\"sk-label sk-toggleable\"><input class=\"sk-toggleable__control sk-hidden--visually\" id=\"f1caa52e-9068-4b19-9ead-bf6f367dbe56\" type=\"checkbox\" ><label class=\"sk-toggleable__label\" for=\"f1caa52e-9068-4b19-9ead-bf6f367dbe56\">ColumnTransformer</label><div class=\"sk-toggleable__content\"><pre>ColumnTransformer(transformers=[('num',\n                                 Pipeline(steps=[('imputer', SimpleImputer())]),\n                                 ['Pclass', 'SibSp', 'Parch', 'Fare', 'Age']),\n                                ('cat',\n                                 Pipeline(steps=[('imputer',\n                                                  SimpleImputer(fill_value='missing',\n                                                                strategy='constant')),\n                                                 ('onehot',\n                                                  OneHotEncoder(handle_unknown='ignore'))]),\n                                 ['Sex', 'Embarked', 'Title'])])</pre></div></div></div><div class=\"sk-parallel\"><div class=\"sk-parallel-item\"><div class=\"sk-item\"><div class=\"sk-label-container\"><div class=\"sk-label sk-toggleable\"><input class=\"sk-toggleable__control sk-hidden--visually\" id=\"b7fe8d92-ddeb-415c-8377-e1767711c3aa\" type=\"checkbox\" ><label class=\"sk-toggleable__label\" for=\"b7fe8d92-ddeb-415c-8377-e1767711c3aa\">num</label><div class=\"sk-toggleable__content\"><pre>['Pclass', 'SibSp', 'Parch', 'Fare', 'Age']</pre></div></div></div><div class=\"sk-serial\"><div class=\"sk-item\"><div class=\"sk-serial\"><div class=\"sk-item\"><div class=\"sk-estimator sk-toggleable\"><input class=\"sk-toggleable__control sk-hidden--visually\" id=\"17101ec4-a685-4388-989e-007e71846a81\" type=\"checkbox\" ><label class=\"sk-toggleable__label\" for=\"17101ec4-a685-4388-989e-007e71846a81\">SimpleImputer</label><div class=\"sk-toggleable__content\"><pre>SimpleImputer()</pre></div></div></div></div></div></div></div></div><div class=\"sk-parallel-item\"><div class=\"sk-item\"><div class=\"sk-label-container\"><div class=\"sk-label sk-toggleable\"><input class=\"sk-toggleable__control sk-hidden--visually\" id=\"d1571f14-2392-47a3-af6c-184e5c4399be\" type=\"checkbox\" ><label class=\"sk-toggleable__label\" for=\"d1571f14-2392-47a3-af6c-184e5c4399be\">cat</label><div class=\"sk-toggleable__content\"><pre>['Sex', 'Embarked', 'Title']</pre></div></div></div><div class=\"sk-serial\"><div class=\"sk-item\"><div class=\"sk-serial\"><div class=\"sk-item\"><div class=\"sk-estimator sk-toggleable\"><input class=\"sk-toggleable__control sk-hidden--visually\" id=\"adb65d6c-7ea6-4673-b056-da728dc26bfa\" type=\"checkbox\" ><label class=\"sk-toggleable__label\" for=\"adb65d6c-7ea6-4673-b056-da728dc26bfa\">SimpleImputer</label><div class=\"sk-toggleable__content\"><pre>SimpleImputer(fill_value='missing', strategy='constant')</pre></div></div></div><div class=\"sk-item\"><div class=\"sk-estimator sk-toggleable\"><input class=\"sk-toggleable__control sk-hidden--visually\" id=\"d155c9c6-da4f-413d-8ae8-ece4bac2ee5b\" type=\"checkbox\" ><label class=\"sk-toggleable__label\" for=\"d155c9c6-da4f-413d-8ae8-ece4bac2ee5b\">OneHotEncoder</label><div class=\"sk-toggleable__content\"><pre>OneHotEncoder(handle_unknown='ignore')</pre></div></div></div></div></div></div></div></div></div></div></div></div>"
          },
          "metadata": {}
        }
      ]
    },
    {
      "cell_type": "code",
      "metadata": {
        "deletable": false,
        "editable": false,
        "nbgrader": {
          "cell_type": "code",
          "checksum": "00bde840843413a4f57c4480f8930ef0",
          "grade": true,
          "grade_id": "cell-e636558135fb5975",
          "locked": true,
          "points": 2,
          "schema_version": 3,
          "solution": false,
          "task": false
        },
        "cell_id": "00026-0978ec0e-dc67-4dae-842d-aed1c35026aa",
        "deepnote_to_be_reexecuted": false,
        "source_hash": "302e028d",
        "execution_start": 1620057558089,
        "execution_millis": 0,
        "deepnote_cell_type": "code"
      },
      "source": "assert type(tree_prepro)      is compose._column_transformer.ColumnTransformer\nassert type(num_4_treeModels) is pipeline.Pipeline\nassert type(cat_4_treeModels) is pipeline.Pipeline\nassert len(num_4_treeModels) == 1\nassert len(cat_4_treeModels) == 2",
      "execution_count": null,
      "outputs": []
    },
    {
      "cell_type": "markdown",
      "source": "# Exercise 4 (1pts):\n1. Complete the diccionary with some Tree Models.\n2. Then we put each model in a Pipeline where:\n   - first is the prepocessing with the column Transformer\n   - Then is the Tree model\n3. Display the fullpipeline of the LGBMClassifier",
      "metadata": {
        "cell_id": "00027-66d251c8-5c98-4866-8167-716637f2ab54",
        "deepnote_cell_type": "markdown"
      }
    },
    {
      "cell_type": "code",
      "metadata": {
        "tags": [],
        "cell_id": "00033-3435c093-c817-4a03-b0fb-ec9585f6f9be",
        "deepnote_to_be_reexecuted": false,
        "source_hash": "16b9bd07",
        "execution_start": 1620057558097,
        "execution_millis": 3123,
        "output_cleared": false,
        "deepnote_cell_type": "code"
      },
      "source": "!pip install lightgbm==3.2.1",
      "execution_count": null,
      "outputs": [
        {
          "name": "stdout",
          "text": "Requirement already satisfied: lightgbm==3.2.1 in /root/venv/lib/python3.7/site-packages (3.2.1)\nRequirement already satisfied: scipy in /shared-libs/python3.7/py/lib/python3.7/site-packages (from lightgbm==3.2.1) (1.6.2)\nRequirement already satisfied: wheel in /root/venv/lib/python3.7/site-packages (from lightgbm==3.2.1) (0.36.2)\nRequirement already satisfied: scikit-learn!=0.22.0 in /shared-libs/python3.7/py/lib/python3.7/site-packages (from lightgbm==3.2.1) (0.24.1)\nRequirement already satisfied: numpy in /shared-libs/python3.7/py/lib/python3.7/site-packages (from lightgbm==3.2.1) (1.19.5)\nRequirement already satisfied: threadpoolctl>=2.0.0 in /shared-libs/python3.7/py/lib/python3.7/site-packages (from scikit-learn!=0.22.0->lightgbm==3.2.1) (2.1.0)\nRequirement already satisfied: joblib>=0.11 in /shared-libs/python3.7/py/lib/python3.7/site-packages (from scikit-learn!=0.22.0->lightgbm==3.2.1) (1.0.1)\n\u001b[33mWARNING: You are using pip version 21.0.1; however, version 21.1.1 is available.\nYou should consider upgrading via the '/root/venv/bin/python -m pip install --upgrade pip' command.\u001b[0m\n",
          "output_type": "stream"
        }
      ]
    },
    {
      "cell_type": "code",
      "metadata": {
        "cell_id": "00028-438cfcf4-c0e3-407b-8bd3-c50a293b8266",
        "deepnote_to_be_reexecuted": false,
        "source_hash": "4a1a7429",
        "execution_start": 1620057561222,
        "execution_millis": 302,
        "deepnote_cell_type": "code"
      },
      "source": "from sklearn.tree          import DecisionTreeClassifier\nfrom sklearn.ensemble      import RandomForestClassifier\nfrom sklearn.ensemble      import ExtraTreesClassifier\nfrom sklearn.ensemble      import AdaBoostClassifier\nfrom sklearn.ensemble      import GradientBoostingClassifier\nfrom sklearn.ensemble      import GradientBoostingClassifier # Necesary for HistGradientBoostingClassifier\n#from sklearn.ensemble      import HistGradientBoostingClassifier\nfrom xgboost               import XGBClassifier\nfrom lightgbm              import LGBMClassifier\nfrom catboost              import CatBoostClassifier",
      "execution_count": null,
      "outputs": []
    },
    {
      "cell_type": "code",
      "metadata": {
        "deletable": false,
        "nbgrader": {
          "cell_type": "code",
          "checksum": "f23af11f3af791efa5687477c0a4c9d6",
          "grade": false,
          "grade_id": "cell-76a3be8223730c5a",
          "locked": false,
          "schema_version": 3,
          "solution": true,
          "task": false
        },
        "cell_id": "00029-3463e948-96ac-440f-bf37-40ac3501ac0e",
        "deepnote_to_be_reexecuted": false,
        "source_hash": "4c22d596",
        "execution_start": 1620057561565,
        "execution_millis": 31,
        "deepnote_cell_type": "code"
      },
      "source": "\ntree_classifiers = {\n  \"Decision Tree\": DecisionTreeClassifier(),\n  \"Extra Trees\":ExtraTreesClassifier(),\n  \"Random Forest\":RandomForestClassifier(),\n  \"AdaBoost\":AdaBoostClassifier(),\n  \"Skl GBM\":GradientBoostingClassifier(),\n  \"Skl HistGBM\":GradientBoostingClassifier(),\n  \"XGBoost\":XGBClassifier(),\n  \"LightGBM\":LGBMClassifier(),\n  \"CatBoost\":CatBoostClassifier()\n}\ntree_classifiers = {name: pipeline.make_pipeline(tree_prepro, model) for name, model in tree_classifiers.items()}\ntree_classifiers[\"LightGBM\"]\n\n\n\n# YOUR CODE HERE\n# raise NotImplementedError()\n\n# tree_classifiers = {name: pipeline.make_pipeline(tree_prepro, model) for name, model in tree_classifiers.items()}\n\n# tree_classifiers[\"LightGBM\"]",
      "execution_count": null,
      "outputs": [
        {
          "output_type": "execute_result",
          "execution_count": 24,
          "data": {
            "text/plain": "Pipeline(steps=[('columntransformer',\n                 ColumnTransformer(transformers=[('num',\n                                                  Pipeline(steps=[('imputer',\n                                                                   SimpleImputer())]),\n                                                  ['Pclass', 'SibSp', 'Parch',\n                                                   'Fare', 'Age']),\n                                                 ('cat',\n                                                  Pipeline(steps=[('imputer',\n                                                                   SimpleImputer(fill_value='missing',\n                                                                                 strategy='constant')),\n                                                                  ('onehot',\n                                                                   OneHotEncoder(handle_unknown='ignore'))]),\n                                                  ['Sex', 'Embarked',\n                                                   'Title'])])),\n                ('lgbmclassifier', LGBMClassifier())])",
            "text/html": "<style>div.sk-top-container {color: black;background-color: white;}div.sk-toggleable {background-color: white;}label.sk-toggleable__label {cursor: pointer;display: block;width: 100%;margin-bottom: 0;padding: 0.2em 0.3em;box-sizing: border-box;text-align: center;}div.sk-toggleable__content {max-height: 0;max-width: 0;overflow: hidden;text-align: left;background-color: #f0f8ff;}div.sk-toggleable__content pre {margin: 0.2em;color: black;border-radius: 0.25em;background-color: #f0f8ff;}input.sk-toggleable__control:checked~div.sk-toggleable__content {max-height: 200px;max-width: 100%;overflow: auto;}div.sk-estimator input.sk-toggleable__control:checked~label.sk-toggleable__label {background-color: #d4ebff;}div.sk-label input.sk-toggleable__control:checked~label.sk-toggleable__label {background-color: #d4ebff;}input.sk-hidden--visually {border: 0;clip: rect(1px 1px 1px 1px);clip: rect(1px, 1px, 1px, 1px);height: 1px;margin: -1px;overflow: hidden;padding: 0;position: absolute;width: 1px;}div.sk-estimator {font-family: monospace;background-color: #f0f8ff;margin: 0.25em 0.25em;border: 1px dotted black;border-radius: 0.25em;box-sizing: border-box;}div.sk-estimator:hover {background-color: #d4ebff;}div.sk-parallel-item::after {content: \"\";width: 100%;border-bottom: 1px solid gray;flex-grow: 1;}div.sk-label:hover label.sk-toggleable__label {background-color: #d4ebff;}div.sk-serial::before {content: \"\";position: absolute;border-left: 1px solid gray;box-sizing: border-box;top: 2em;bottom: 0;left: 50%;}div.sk-serial {display: flex;flex-direction: column;align-items: center;background-color: white;}div.sk-item {z-index: 1;}div.sk-parallel {display: flex;align-items: stretch;justify-content: center;background-color: white;}div.sk-parallel-item {display: flex;flex-direction: column;position: relative;background-color: white;}div.sk-parallel-item:first-child::after {align-self: flex-end;width: 50%;}div.sk-parallel-item:last-child::after {align-self: flex-start;width: 50%;}div.sk-parallel-item:only-child::after {width: 0;}div.sk-dashed-wrapped {border: 1px dashed gray;margin: 0.2em;box-sizing: border-box;padding-bottom: 0.1em;background-color: white;position: relative;}div.sk-label label {font-family: monospace;font-weight: bold;background-color: white;display: inline-block;line-height: 1.2em;}div.sk-label-container {position: relative;z-index: 2;text-align: center;}div.sk-container {display: inline-block;position: relative;}</style><div class=\"sk-top-container\"><div class=\"sk-container\"><div class=\"sk-item sk-dashed-wrapped\"><div class=\"sk-label-container\"><div class=\"sk-label sk-toggleable\"><input class=\"sk-toggleable__control sk-hidden--visually\" id=\"985ea1e5-74da-434f-a788-f9b3cd04049d\" type=\"checkbox\" ><label class=\"sk-toggleable__label\" for=\"985ea1e5-74da-434f-a788-f9b3cd04049d\">Pipeline</label><div class=\"sk-toggleable__content\"><pre>Pipeline(steps=[('columntransformer',\n                 ColumnTransformer(transformers=[('num',\n                                                  Pipeline(steps=[('imputer',\n                                                                   SimpleImputer())]),\n                                                  ['Pclass', 'SibSp', 'Parch',\n                                                   'Fare', 'Age']),\n                                                 ('cat',\n                                                  Pipeline(steps=[('imputer',\n                                                                   SimpleImputer(fill_value='missing',\n                                                                                 strategy='constant')),\n                                                                  ('onehot',\n                                                                   OneHotEncoder(handle_unknown='ignore'))]),\n                                                  ['Sex', 'Embarked',\n                                                   'Title'])])),\n                ('lgbmclassifier', LGBMClassifier())])</pre></div></div></div><div class=\"sk-serial\"><div class=\"sk-item sk-dashed-wrapped\"><div class=\"sk-label-container\"><div class=\"sk-label sk-toggleable\"><input class=\"sk-toggleable__control sk-hidden--visually\" id=\"2cc5fb61-dabd-4269-94b0-119cfab93bee\" type=\"checkbox\" ><label class=\"sk-toggleable__label\" for=\"2cc5fb61-dabd-4269-94b0-119cfab93bee\">columntransformer: ColumnTransformer</label><div class=\"sk-toggleable__content\"><pre>ColumnTransformer(transformers=[('num',\n                                 Pipeline(steps=[('imputer', SimpleImputer())]),\n                                 ['Pclass', 'SibSp', 'Parch', 'Fare', 'Age']),\n                                ('cat',\n                                 Pipeline(steps=[('imputer',\n                                                  SimpleImputer(fill_value='missing',\n                                                                strategy='constant')),\n                                                 ('onehot',\n                                                  OneHotEncoder(handle_unknown='ignore'))]),\n                                 ['Sex', 'Embarked', 'Title'])])</pre></div></div></div><div class=\"sk-parallel\"><div class=\"sk-parallel-item\"><div class=\"sk-item\"><div class=\"sk-label-container\"><div class=\"sk-label sk-toggleable\"><input class=\"sk-toggleable__control sk-hidden--visually\" id=\"758de2c3-b0e9-48e9-bb47-dbda23218963\" type=\"checkbox\" ><label class=\"sk-toggleable__label\" for=\"758de2c3-b0e9-48e9-bb47-dbda23218963\">num</label><div class=\"sk-toggleable__content\"><pre>['Pclass', 'SibSp', 'Parch', 'Fare', 'Age']</pre></div></div></div><div class=\"sk-serial\"><div class=\"sk-item\"><div class=\"sk-serial\"><div class=\"sk-item\"><div class=\"sk-estimator sk-toggleable\"><input class=\"sk-toggleable__control sk-hidden--visually\" id=\"bcc4a9aa-317b-4bca-9439-6e0a1e9d065f\" type=\"checkbox\" ><label class=\"sk-toggleable__label\" for=\"bcc4a9aa-317b-4bca-9439-6e0a1e9d065f\">SimpleImputer</label><div class=\"sk-toggleable__content\"><pre>SimpleImputer()</pre></div></div></div></div></div></div></div></div><div class=\"sk-parallel-item\"><div class=\"sk-item\"><div class=\"sk-label-container\"><div class=\"sk-label sk-toggleable\"><input class=\"sk-toggleable__control sk-hidden--visually\" id=\"0871fcb4-8f41-42c6-a3ef-fe1a6362bf45\" type=\"checkbox\" ><label class=\"sk-toggleable__label\" for=\"0871fcb4-8f41-42c6-a3ef-fe1a6362bf45\">cat</label><div class=\"sk-toggleable__content\"><pre>['Sex', 'Embarked', 'Title']</pre></div></div></div><div class=\"sk-serial\"><div class=\"sk-item\"><div class=\"sk-serial\"><div class=\"sk-item\"><div class=\"sk-estimator sk-toggleable\"><input class=\"sk-toggleable__control sk-hidden--visually\" id=\"f55efd98-80b2-4ae5-9db0-97677e1f4d85\" type=\"checkbox\" ><label class=\"sk-toggleable__label\" for=\"f55efd98-80b2-4ae5-9db0-97677e1f4d85\">SimpleImputer</label><div class=\"sk-toggleable__content\"><pre>SimpleImputer(fill_value='missing', strategy='constant')</pre></div></div></div><div class=\"sk-item\"><div class=\"sk-estimator sk-toggleable\"><input class=\"sk-toggleable__control sk-hidden--visually\" id=\"c8895e40-3ee7-4328-baa2-effe798d5467\" type=\"checkbox\" ><label class=\"sk-toggleable__label\" for=\"c8895e40-3ee7-4328-baa2-effe798d5467\">OneHotEncoder</label><div class=\"sk-toggleable__content\"><pre>OneHotEncoder(handle_unknown='ignore')</pre></div></div></div></div></div></div></div></div></div></div><div class=\"sk-item\"><div class=\"sk-estimator sk-toggleable\"><input class=\"sk-toggleable__control sk-hidden--visually\" id=\"5e17a828-8585-4d61-97e8-15ea625c77c8\" type=\"checkbox\" ><label class=\"sk-toggleable__label\" for=\"5e17a828-8585-4d61-97e8-15ea625c77c8\">LGBMClassifier</label><div class=\"sk-toggleable__content\"><pre>LGBMClassifier()</pre></div></div></div></div></div></div></div>"
          },
          "metadata": {}
        }
      ]
    },
    {
      "cell_type": "code",
      "metadata": {
        "deletable": false,
        "editable": false,
        "nbgrader": {
          "cell_type": "code",
          "checksum": "2355552b3ce823e44fdaea06394e054c",
          "grade": true,
          "grade_id": "cell-d4744022b37e2e9b",
          "locked": true,
          "points": 1,
          "schema_version": 3,
          "solution": false,
          "task": false
        },
        "cell_id": "00030-3b606eb1-3173-4e28-94e0-f5a61e0be9f8",
        "deepnote_to_be_reexecuted": false,
        "source_hash": "25e0f28b",
        "execution_start": 1620057561588,
        "execution_millis": 3,
        "deepnote_cell_type": "code"
      },
      "source": "for pipe in tree_classifiers.values():\n    assert type(pipe) is pipeline.Pipeline",
      "execution_count": null,
      "outputs": []
    },
    {
      "cell_type": "markdown",
      "source": "# Exercise 5 (3pts):\nDefine a simple split validation strategy with:\n- 80% for train\n- 20% for validation\n- With stratification\n- random_state=0\n\nAnd train all the models in a for loop",
      "metadata": {
        "cell_id": "00031-bef25fd4-57d9-498a-a0fa-659e1d78b753",
        "deepnote_cell_type": "markdown"
      }
    },
    {
      "cell_type": "code",
      "metadata": {
        "tags": [],
        "cell_id": "00037-4cc63462-2695-463b-8e54-e1620ce15d0f",
        "deepnote_to_be_reexecuted": false,
        "source_hash": "b58145e6",
        "execution_start": 1620057561612,
        "execution_millis": 178,
        "deepnote_cell_type": "code"
      },
      "source": "for model_name, model in tree_classifiers.items():\n    print(model)",
      "execution_count": null,
      "outputs": [
        {
          "name": "stdout",
          "text": "Pipeline(steps=[('columntransformer',\n                 ColumnTransformer(transformers=[('num',\n                                                  Pipeline(steps=[('imputer',\n                                                                   SimpleImputer())]),\n                                                  ['Pclass', 'SibSp', 'Parch',\n                                                   'Fare', 'Age']),\n                                                 ('cat',\n                                                  Pipeline(steps=[('imputer',\n                                                                   SimpleImputer(fill_value='missing',\n                                                                                 strategy='constant')),\n                                                                  ('onehot',\n                                                                   OneHotEncoder(handle_unknown='ignore'))]),\n                                                  ['Sex', 'Embarked',\n                                                   'Title'])])),\n                ('decisiontreeclassifier', DecisionTreeClassifier())])\nPipeline(steps=[('columntransformer',\n                 ColumnTransformer(transformers=[('num',\n                                                  Pipeline(steps=[('imputer',\n                                                                   SimpleImputer())]),\n                                                  ['Pclass', 'SibSp', 'Parch',\n                                                   'Fare', 'Age']),\n                                                 ('cat',\n                                                  Pipeline(steps=[('imputer',\n                                                                   SimpleImputer(fill_value='missing',\n                                                                                 strategy='constant')),\n                                                                  ('onehot',\n                                                                   OneHotEncoder(handle_unknown='ignore'))]),\n                                                  ['Sex', 'Embarked',\n                                                   'Title'])])),\n                ('extratreesclassifier', ExtraTreesClassifier())])\nPipeline(steps=[('columntransformer',\n                 ColumnTransformer(transformers=[('num',\n                                                  Pipeline(steps=[('imputer',\n                                                                   SimpleImputer())]),\n                                                  ['Pclass', 'SibSp', 'Parch',\n                                                   'Fare', 'Age']),\n                                                 ('cat',\n                                                  Pipeline(steps=[('imputer',\n                                                                   SimpleImputer(fill_value='missing',\n                                                                                 strategy='constant')),\n                                                                  ('onehot',\n                                                                   OneHotEncoder(handle_unknown='ignore'))]),\n                                                  ['Sex', 'Embarked',\n                                                   'Title'])])),\n                ('randomforestclassifier', RandomForestClassifier())])\nPipeline(steps=[('columntransformer',\n                 ColumnTransformer(transformers=[('num',\n                                                  Pipeline(steps=[('imputer',\n                                                                   SimpleImputer())]),\n                                                  ['Pclass', 'SibSp', 'Parch',\n                                                   'Fare', 'Age']),\n                                                 ('cat',\n                                                  Pipeline(steps=[('imputer',\n                                                                   SimpleImputer(fill_value='missing',\n                                                                                 strategy='constant')),\n                                                                  ('onehot',\n                                                                   OneHotEncoder(handle_unknown='ignore'))]),\n                                                  ['Sex', 'Embarked',\n                                                   'Title'])])),\n                ('adaboostclassifier', AdaBoostClassifier())])\nPipeline(steps=[('columntransformer',\n                 ColumnTransformer(transformers=[('num',\n                                                  Pipeline(steps=[('imputer',\n                                                                   SimpleImputer())]),\n                                                  ['Pclass', 'SibSp', 'Parch',\n                                                   'Fare', 'Age']),\n                                                 ('cat',\n                                                  Pipeline(steps=[('imputer',\n                                                                   SimpleImputer(fill_value='missing',\n                                                                                 strategy='constant')),\n                                                                  ('onehot',\n                                                                   OneHotEncoder(handle_unknown='ignore'))]),\n                                                  ['Sex', 'Embarked',\n                                                   'Title'])])),\n                ('gradientboostingclassifier', GradientBoostingClassifier())])\nPipeline(steps=[('columntransformer',\n                 ColumnTransformer(transformers=[('num',\n                                                  Pipeline(steps=[('imputer',\n                                                                   SimpleImputer())]),\n                                                  ['Pclass', 'SibSp', 'Parch',\n                                                   'Fare', 'Age']),\n                                                 ('cat',\n                                                  Pipeline(steps=[('imputer',\n                                                                   SimpleImputer(fill_value='missing',\n                                                                                 strategy='constant')),\n                                                                  ('onehot',\n                                                                   OneHotEncoder(handle_unknown='ignore'))]),\n                                                  ['Sex', 'Embarked',\n                                                   'Title'])])),\n                ('gradientboostingclassifier', GradientBoostingClassifier())])\nPipeline(steps=[('columntransformer',\n                 ColumnTransformer(transformers=[('num',\n                                                  Pipeline(steps=[('imputer',\n                                                                   SimpleImputer())]),\n                                                  ['Pclass', 'SibSp', 'Parch',\n                                                   'Fare', 'Age']),\n                                                 ('cat',\n                                                  Pipeline(steps=[('imputer',\n                                                                   SimpleImputer(fill_value='missing',\n                                                                                 strategy='constant')),\n                                                                  ('onehot',\n                                                                   OneHotEncoder(handle_unknown='ignore'))]),\n                                                  ['Sex', 'Embarked',\n                                                   'Title'])])),\n                ('xgbclassifi...\n                               importance_type='gain',\n                               interaction_constraints=None, learning_rate=None,\n                               max_delta_step=None, max_depth=None,\n                               min_child_weight=None, missing=nan,\n                               monotone_constraints=None, n_estimators=100,\n                               n_jobs=None, num_parallel_tree=None,\n                               random_state=None, reg_alpha=None,\n                               reg_lambda=None, scale_pos_weight=None,\n                               subsample=None, tree_method=None,\n                               validate_parameters=None, verbosity=None))])\nPipeline(steps=[('columntransformer',\n                 ColumnTransformer(transformers=[('num',\n                                                  Pipeline(steps=[('imputer',\n                                                                   SimpleImputer())]),\n                                                  ['Pclass', 'SibSp', 'Parch',\n                                                   'Fare', 'Age']),\n                                                 ('cat',\n                                                  Pipeline(steps=[('imputer',\n                                                                   SimpleImputer(fill_value='missing',\n                                                                                 strategy='constant')),\n                                                                  ('onehot',\n                                                                   OneHotEncoder(handle_unknown='ignore'))]),\n                                                  ['Sex', 'Embarked',\n                                                   'Title'])])),\n                ('lgbmclassifier', LGBMClassifier())])\nPipeline(steps=[('columntransformer',\n                 ColumnTransformer(transformers=[('num',\n                                                  Pipeline(steps=[('imputer',\n                                                                   SimpleImputer())]),\n                                                  ['Pclass', 'SibSp', 'Parch',\n                                                   'Fare', 'Age']),\n                                                 ('cat',\n                                                  Pipeline(steps=[('imputer',\n                                                                   SimpleImputer(fill_value='missing',\n                                                                                 strategy='constant')),\n                                                                  ('onehot',\n                                                                   OneHotEncoder(handle_unknown='ignore'))]),\n                                                  ['Sex', 'Embarked',\n                                                   'Title'])])),\n                ('catboostclassifier',\n                 <catboost.core.CatBoostClassifier object at 0x7fd522cd2510>)])\n",
          "output_type": "stream"
        }
      ]
    },
    {
      "cell_type": "code",
      "metadata": {
        "tags": [],
        "cell_id": "00040-a3dd0083-7008-4fd0-a136-cbd89f8c68e9",
        "deepnote_to_be_reexecuted": false,
        "source_hash": "388fc022",
        "execution_start": 1620057561802,
        "execution_millis": 5168851,
        "deepnote_cell_type": "code"
      },
      "source": "# x_train_prepro  = tree_prepro.fit_transform(x_train)\n\n",
      "execution_count": null,
      "outputs": []
    },
    {
      "cell_type": "code",
      "metadata": {
        "tags": [],
        "cell_id": "00041-bcdae83c-a545-445e-b840-d7b98644fde2",
        "deepnote_to_be_reexecuted": false,
        "source_hash": "d268f50a",
        "execution_start": 1620057561803,
        "execution_millis": 5168849,
        "deepnote_cell_type": "code"
      },
      "source": "# x_test",
      "execution_count": null,
      "outputs": []
    },
    {
      "cell_type": "code",
      "metadata": {
        "tags": [],
        "cell_id": "00043-cc87f467-a6e8-4608-83d4-927b81d41440",
        "deepnote_to_be_reexecuted": false,
        "source_hash": "2f15b21b",
        "execution_start": 1620057614838,
        "execution_millis": 2446,
        "deepnote_cell_type": "code"
      },
      "source": "x_train, x_val, y_train, y_val = model_selection.train_test_split(\n    x, y,\n    test_size=0.2,\n    stratify = y,   \n    random_state=42 ) #on 42 it passes asserts\n\nresults = pd.DataFrame({'Model': [], 'Accuracy': [], 'Bal Acc.': [], 'Time': []})\n\nfor model_name, model in tree_classifiers.items():\n\n    start_time = time.time()\n    model.fit(x_train, y_train)\n    total_time = time.time() - start_time\n    \n    pred = model.predict(x_val)\n    \n    results = results.append({\"Model\":    model_name,\n                              \"Accuracy\": metrics.accuracy_score(y_val, pred)*100,\n                              \"Bal Acc.\": metrics.balanced_accuracy_score(y_val, pred)*100,\n                              \"Time\":     total_time},\n                              ignore_index=True)\n\n\nresults_ord = results.sort_values(by=['Accuracy'], ascending=False, ignore_index=True)\nresults_ord.index += 1 \nresults_ord.style.bar(subset=['Accuracy', 'Bal Acc.'], vmin=0, vmax=100, color='#5fba7d')",
      "execution_count": null,
      "outputs": [
        {
          "name": "stderr",
          "text": "1:\tlearn: 0.6807542\ttotal: 2.18ms\tremaining: 1.09s\n2:\tlearn: 0.6752059\ttotal: 3.21ms\tremaining: 1.07s\n3:\tlearn: 0.6719610\ttotal: 3.76ms\tremaining: 936ms\n4:\tlearn: 0.6668264\ttotal: 4.84ms\tremaining: 964ms\n5:\tlearn: 0.6614641\ttotal: 5.87ms\tremaining: 972ms\n6:\tlearn: 0.6554242\ttotal: 6.88ms\tremaining: 976ms\n7:\tlearn: 0.6507065\ttotal: 7.71ms\tremaining: 956ms\n8:\tlearn: 0.6454106\ttotal: 8.78ms\tremaining: 967ms\n9:\tlearn: 0.6402708\ttotal: 9.82ms\tremaining: 972ms\n10:\tlearn: 0.6361167\ttotal: 10.4ms\tremaining: 936ms\n11:\tlearn: 0.6311927\ttotal: 11.4ms\tremaining: 937ms\n12:\tlearn: 0.6263344\ttotal: 12.4ms\tremaining: 942ms\n13:\tlearn: 0.6219586\ttotal: 13.4ms\tremaining: 942ms\n14:\tlearn: 0.6173809\ttotal: 14.4ms\tremaining: 943ms\n15:\tlearn: 0.6124795\ttotal: 15.4ms\tremaining: 946ms\n16:\tlearn: 0.6096779\ttotal: 16.1ms\tremaining: 931ms\n17:\tlearn: 0.6071238\ttotal: 16.7ms\tremaining: 909ms\n18:\tlearn: 0.6033357\ttotal: 17.7ms\tremaining: 915ms\n19:\tlearn: 0.5992340\ttotal: 18.8ms\tremaining: 921ms\n20:\tlearn: 0.5945081\ttotal: 19.9ms\tremaining: 926ms\n21:\tlearn: 0.5903418\ttotal: 20.9ms\tremaining: 929ms\n22:\tlearn: 0.5858623\ttotal: 22.3ms\tremaining: 948ms\n23:\tlearn: 0.5826129\ttotal: 23.3ms\tremaining: 947ms\n24:\tlearn: 0.5792286\ttotal: 24.7ms\tremaining: 963ms\n25:\tlearn: 0.5751499\ttotal: 26.1ms\tremaining: 977ms\n26:\tlearn: 0.5719976\ttotal: 27.5ms\tremaining: 991ms\n27:\tlearn: 0.5683813\ttotal: 29.2ms\tremaining: 1.01s\n28:\tlearn: 0.5649227\ttotal: 30.9ms\tremaining: 1.03s\n29:\tlearn: 0.5619884\ttotal: 31.9ms\tremaining: 1.03s\n30:\tlearn: 0.5597496\ttotal: 33.1ms\tremaining: 1.04s\n31:\tlearn: 0.5564323\ttotal: 34.3ms\tremaining: 1.04s\n32:\tlearn: 0.5534722\ttotal: 35.6ms\tremaining: 1.04s\n33:\tlearn: 0.5503783\ttotal: 37.2ms\tremaining: 1.05s\n34:\tlearn: 0.5473641\ttotal: 38.3ms\tremaining: 1.05s\n35:\tlearn: 0.5444941\ttotal: 40ms\tremaining: 1.07s\n36:\tlearn: 0.5411930\ttotal: 41.1ms\tremaining: 1.07s\n37:\tlearn: 0.5385011\ttotal: 42ms\tremaining: 1.06s\n38:\tlearn: 0.5360422\ttotal: 43ms\tremaining: 1.06s\n39:\tlearn: 0.5333071\ttotal: 44ms\tremaining: 1.05s\n40:\tlearn: 0.5300963\ttotal: 45.1ms\tremaining: 1.05s\n41:\tlearn: 0.5272516\ttotal: 46.1ms\tremaining: 1.05s\n42:\tlearn: 0.5247886\ttotal: 47.1ms\tremaining: 1.05s\n43:\tlearn: 0.5222486\ttotal: 48.2ms\tremaining: 1.05s\n44:\tlearn: 0.5198534\ttotal: 49.2ms\tremaining: 1.04s\n45:\tlearn: 0.5169045\ttotal: 50.1ms\tremaining: 1.04s\n46:\tlearn: 0.5143829\ttotal: 51.2ms\tremaining: 1.04s\n47:\tlearn: 0.5121232\ttotal: 52ms\tremaining: 1.03s\n48:\tlearn: 0.5095335\ttotal: 53ms\tremaining: 1.03s\n49:\tlearn: 0.5071589\ttotal: 54.1ms\tremaining: 1.03s\n50:\tlearn: 0.5045126\ttotal: 55.1ms\tremaining: 1.02s\n51:\tlearn: 0.5022826\ttotal: 56.1ms\tremaining: 1.02s\n52:\tlearn: 0.5003965\ttotal: 57.1ms\tremaining: 1.02s\n53:\tlearn: 0.4978828\ttotal: 58.2ms\tremaining: 1.02s\n54:\tlearn: 0.4959092\ttotal: 59.2ms\tremaining: 1.02s\n55:\tlearn: 0.4946913\ttotal: 59.8ms\tremaining: 1.01s\n56:\tlearn: 0.4922482\ttotal: 60.8ms\tremaining: 1.01s\n57:\tlearn: 0.4903119\ttotal: 61.8ms\tremaining: 1s\n58:\tlearn: 0.4884872\ttotal: 62.9ms\tremaining: 1s\n59:\tlearn: 0.4867762\ttotal: 64ms\tremaining: 1s\n60:\tlearn: 0.4846911\ttotal: 65.1ms\tremaining: 1s\n61:\tlearn: 0.4828772\ttotal: 66.2ms\tremaining: 1s\n62:\tlearn: 0.4811431\ttotal: 67.3ms\tremaining: 1s\n63:\tlearn: 0.4795580\ttotal: 68.4ms\tremaining: 1s\n64:\tlearn: 0.4776256\ttotal: 69.4ms\tremaining: 999ms\n65:\tlearn: 0.4761304\ttotal: 70.5ms\tremaining: 998ms\n66:\tlearn: 0.4748153\ttotal: 71.5ms\tremaining: 996ms\n67:\tlearn: 0.4727610\ttotal: 72.6ms\tremaining: 995ms\n68:\tlearn: 0.4714138\ttotal: 73.6ms\tremaining: 993ms\n69:\tlearn: 0.4705883\ttotal: 74.2ms\tremaining: 986ms\n70:\tlearn: 0.4695000\ttotal: 75.3ms\tremaining: 985ms\n71:\tlearn: 0.4676784\ttotal: 76.3ms\tremaining: 984ms\n72:\tlearn: 0.4665161\ttotal: 77ms\tremaining: 977ms\n73:\tlearn: 0.4647874\ttotal: 78.2ms\tremaining: 979ms\n74:\tlearn: 0.4630395\ttotal: 79.2ms\tremaining: 977ms\n75:\tlearn: 0.4612099\ttotal: 80.3ms\tremaining: 976ms\n76:\tlearn: 0.4596454\ttotal: 81.3ms\tremaining: 975ms\n77:\tlearn: 0.4579732\ttotal: 82.4ms\tremaining: 974ms\n78:\tlearn: 0.4568368\ttotal: 83.5ms\tremaining: 973ms\n79:\tlearn: 0.4554017\ttotal: 84.3ms\tremaining: 970ms\n80:\tlearn: 0.4540098\ttotal: 85.4ms\tremaining: 969ms\n81:\tlearn: 0.4526752\ttotal: 86.4ms\tremaining: 967ms\n82:\tlearn: 0.4515538\ttotal: 87.4ms\tremaining: 966ms\n83:\tlearn: 0.4501034\ttotal: 88.4ms\tremaining: 964ms\n84:\tlearn: 0.4486287\ttotal: 89.4ms\tremaining: 962ms\n85:\tlearn: 0.4474196\ttotal: 90.4ms\tremaining: 961ms\n86:\tlearn: 0.4464716\ttotal: 91.5ms\tremaining: 960ms\n87:\tlearn: 0.4453292\ttotal: 92.4ms\tremaining: 957ms\n88:\tlearn: 0.4439199\ttotal: 93.4ms\tremaining: 957ms\n89:\tlearn: 0.4425066\ttotal: 94.6ms\tremaining: 956ms\n90:\tlearn: 0.4417247\ttotal: 95.2ms\tremaining: 951ms\n91:\tlearn: 0.4403056\ttotal: 96.3ms\tremaining: 950ms\n92:\tlearn: 0.4392360\ttotal: 97.4ms\tremaining: 950ms\n93:\tlearn: 0.4383602\ttotal: 98.4ms\tremaining: 948ms\n94:\tlearn: 0.4371817\ttotal: 99.4ms\tremaining: 947ms\n95:\tlearn: 0.4361610\ttotal: 101ms\tremaining: 947ms\n96:\tlearn: 0.4351375\ttotal: 102ms\tremaining: 945ms\n97:\tlearn: 0.4339381\ttotal: 103ms\tremaining: 944ms\n98:\tlearn: 0.4331903\ttotal: 103ms\tremaining: 942ms\n99:\tlearn: 0.4318008\ttotal: 105ms\tremaining: 941ms\n100:\tlearn: 0.4306260\ttotal: 106ms\tremaining: 940ms\n101:\tlearn: 0.4297626\ttotal: 106ms\tremaining: 937ms\n102:\tlearn: 0.4288137\ttotal: 107ms\tremaining: 936ms\n103:\tlearn: 0.4279368\ttotal: 109ms\tremaining: 935ms\n104:\tlearn: 0.4267799\ttotal: 110ms\tremaining: 935ms\n105:\tlearn: 0.4259189\ttotal: 111ms\tremaining: 934ms\n106:\tlearn: 0.4252198\ttotal: 112ms\tremaining: 933ms\n107:\tlearn: 0.4248379\ttotal: 112ms\tremaining: 929ms\n108:\tlearn: 0.4241366\ttotal: 113ms\tremaining: 928ms\n109:\tlearn: 0.4235453\ttotal: 115ms\tremaining: 926ms\n110:\tlearn: 0.4228257\ttotal: 115ms\tremaining: 923ms\n111:\tlearn: 0.4220153\ttotal: 116ms\tremaining: 922ms\n112:\tlearn: 0.4215833\ttotal: 117ms\tremaining: 920ms\n113:\tlearn: 0.4204686\ttotal: 118ms\tremaining: 919ms\n114:\tlearn: 0.4201763\ttotal: 119ms\tremaining: 915ms\n115:\tlearn: 0.4198422\ttotal: 120ms\tremaining: 911ms\n116:\tlearn: 0.4188995\ttotal: 121ms\tremaining: 910ms\n117:\tlearn: 0.4181815\ttotal: 122ms\tremaining: 909ms\n118:\tlearn: 0.4171895\ttotal: 123ms\tremaining: 908ms\n119:\tlearn: 0.4164419\ttotal: 124ms\tremaining: 908ms\n120:\tlearn: 0.4156538\ttotal: 125ms\tremaining: 907ms\n121:\tlearn: 0.4150280\ttotal: 126ms\tremaining: 906ms\n122:\tlearn: 0.4147059\ttotal: 127ms\tremaining: 902ms\n123:\tlearn: 0.4138021\ttotal: 128ms\tremaining: 902ms\n124:\tlearn: 0.4129404\ttotal: 129ms\tremaining: 901ms\n125:\tlearn: 0.4122886\ttotal: 130ms\tremaining: 900ms\n126:\tlearn: 0.4114377\ttotal: 131ms\tremaining: 899ms\n127:\tlearn: 0.4107644\ttotal: 132ms\tremaining: 898ms\n128:\tlearn: 0.4100956\ttotal: 133ms\tremaining: 898ms\n129:\tlearn: 0.4096925\ttotal: 134ms\tremaining: 895ms\n130:\tlearn: 0.4088205\ttotal: 135ms\tremaining: 894ms\n131:\tlearn: 0.4078494\ttotal: 136ms\tremaining: 893ms\n132:\tlearn: 0.4071181\ttotal: 137ms\tremaining: 893ms\n133:\tlearn: 0.4065762\ttotal: 138ms\tremaining: 892ms\n134:\tlearn: 0.4060264\ttotal: 139ms\tremaining: 891ms\n135:\tlearn: 0.4051386\ttotal: 140ms\tremaining: 890ms\n136:\tlearn: 0.4046150\ttotal: 141ms\tremaining: 889ms\n137:\tlearn: 0.4039942\ttotal: 142ms\tremaining: 888ms\n138:\tlearn: 0.4039025\ttotal: 143ms\tremaining: 884ms\n139:\tlearn: 0.4033215\ttotal: 144ms\tremaining: 883ms\n140:\tlearn: 0.4031481\ttotal: 144ms\tremaining: 879ms\n141:\tlearn: 0.4024770\ttotal: 145ms\tremaining: 878ms\n142:\tlearn: 0.4020365\ttotal: 146ms\tremaining: 878ms\n143:\tlearn: 0.4015151\ttotal: 148ms\tremaining: 877ms\n144:\tlearn: 0.4008663\ttotal: 149ms\tremaining: 876ms\n145:\tlearn: 0.4001489\ttotal: 150ms\tremaining: 875ms\n146:\tlearn: 0.3995535\ttotal: 151ms\tremaining: 874ms\n147:\tlearn: 0.3988596\ttotal: 152ms\tremaining: 874ms\n148:\tlearn: 0.3984186\ttotal: 153ms\tremaining: 872ms\n149:\tlearn: 0.3982104\ttotal: 153ms\tremaining: 870ms\n150:\tlearn: 0.3975110\ttotal: 154ms\tremaining: 869ms\n151:\tlearn: 0.3972999\ttotal: 155ms\tremaining: 866ms\n152:\tlearn: 0.3969466\ttotal: 156ms\tremaining: 864ms\n153:\tlearn: 0.3964764\ttotal: 157ms\tremaining: 863ms\n154:\tlearn: 0.3959760\ttotal: 158ms\tremaining: 862ms\n155:\tlearn: 0.3954149\ttotal: 159ms\tremaining: 862ms\n156:\tlearn: 0.3951149\ttotal: 160ms\tremaining: 860ms\n157:\tlearn: 0.3946389\ttotal: 161ms\tremaining: 860ms\n158:\tlearn: 0.3941169\ttotal: 162ms\tremaining: 859ms\n159:\tlearn: 0.3934450\ttotal: 163ms\tremaining: 858ms\n160:\tlearn: 0.3930748\ttotal: 164ms\tremaining: 857ms\n161:\tlearn: 0.3925604\ttotal: 165ms\tremaining: 856ms\n162:\tlearn: 0.3921262\ttotal: 167ms\tremaining: 855ms\n163:\tlearn: 0.3915334\ttotal: 168ms\tremaining: 854ms\n164:\tlearn: 0.3910696\ttotal: 169ms\tremaining: 853ms\n165:\tlearn: 0.3909529\ttotal: 169ms\tremaining: 850ms\n166:\tlearn: 0.3906960\ttotal: 175ms\tremaining: 872ms\n167:\tlearn: 0.3900702\ttotal: 176ms\tremaining: 871ms\n168:\tlearn: 0.3895535\ttotal: 177ms\tremaining: 871ms\n169:\tlearn: 0.3891458\ttotal: 178ms\tremaining: 869ms\n170:\tlearn: 0.3886934\ttotal: 179ms\tremaining: 867ms\n171:\tlearn: 0.3881871\ttotal: 180ms\tremaining: 866ms\n172:\tlearn: 0.3877541\ttotal: 183ms\tremaining: 876ms\n173:\tlearn: 0.3874750\ttotal: 184ms\tremaining: 875ms\n174:\tlearn: 0.3871173\ttotal: 185ms\tremaining: 874ms\n175:\tlearn: 0.3867515\ttotal: 186ms\tremaining: 873ms\n176:\tlearn: 0.3861684\ttotal: 187ms\tremaining: 872ms\n177:\tlearn: 0.3855433\ttotal: 189ms\tremaining: 871ms\n178:\tlearn: 0.3849574\ttotal: 190ms\tremaining: 869ms\n179:\tlearn: 0.3844696\ttotal: 191ms\tremaining: 868ms\n180:\tlearn: 0.3840097\ttotal: 192ms\tremaining: 867ms\n181:\tlearn: 0.3835684\ttotal: 193ms\tremaining: 866ms\n182:\tlearn: 0.3830751\ttotal: 194ms\tremaining: 865ms\n183:\tlearn: 0.3828102\ttotal: 195ms\tremaining: 864ms\n184:\tlearn: 0.3823846\ttotal: 196ms\tremaining: 863ms\n185:\tlearn: 0.3821313\ttotal: 197ms\tremaining: 862ms\n186:\tlearn: 0.3817978\ttotal: 198ms\tremaining: 861ms\n187:\tlearn: 0.3815286\ttotal: 199ms\tremaining: 860ms\n188:\tlearn: 0.3813479\ttotal: 200ms\tremaining: 858ms\n189:\tlearn: 0.3809865\ttotal: 201ms\tremaining: 857ms\n190:\tlearn: 0.3805307\ttotal: 202ms\tremaining: 856ms\n191:\tlearn: 0.3801512\ttotal: 203ms\tremaining: 855ms\n192:\tlearn: 0.3797551\ttotal: 204ms\tremaining: 854ms\n193:\tlearn: 0.3793411\ttotal: 205ms\tremaining: 853ms\n194:\tlearn: 0.3790452\ttotal: 206ms\tremaining: 852ms\n195:\tlearn: 0.3785174\ttotal: 207ms\tremaining: 851ms\n196:\tlearn: 0.3781963\ttotal: 208ms\tremaining: 849ms\n197:\tlearn: 0.3777979\ttotal: 209ms\tremaining: 848ms\n198:\tlearn: 0.3775047\ttotal: 210ms\tremaining: 847ms\n199:\tlearn: 0.3774516\ttotal: 211ms\tremaining: 844ms\n200:\tlearn: 0.3773446\ttotal: 212ms\tremaining: 841ms\n201:\tlearn: 0.3770852\ttotal: 213ms\tremaining: 840ms\n202:\tlearn: 0.3765603\ttotal: 214ms\tremaining: 839ms\n203:\tlearn: 0.3764280\ttotal: 215ms\tremaining: 838ms\n204:\tlearn: 0.3760335\ttotal: 216ms\tremaining: 837ms\n205:\tlearn: 0.3755448\ttotal: 217ms\tremaining: 836ms\n206:\tlearn: 0.3752907\ttotal: 218ms\tremaining: 835ms\n207:\tlearn: 0.3751943\ttotal: 219ms\tremaining: 834ms\n208:\tlearn: 0.3748803\ttotal: 220ms\tremaining: 833ms\n209:\tlearn: 0.3747516\ttotal: 221ms\tremaining: 832ms\n210:\tlearn: 0.3745544\ttotal: 222ms\tremaining: 831ms\n211:\tlearn: 0.3741397\ttotal: 223ms\tremaining: 830ms\n212:\tlearn: 0.3739189\ttotal: 224ms\tremaining: 828ms\n213:\tlearn: 0.3736710\ttotal: 225ms\tremaining: 828ms\n214:\tlearn: 0.3734530\ttotal: 226ms\tremaining: 826ms\n215:\tlearn: 0.3730994\ttotal: 227ms\tremaining: 826ms\n216:\tlearn: 0.3729005\ttotal: 228ms\tremaining: 824ms\n217:\tlearn: 0.3724797\ttotal: 230ms\tremaining: 824ms\n218:\tlearn: 0.3721692\ttotal: 231ms\tremaining: 823ms\n219:\tlearn: 0.3719367\ttotal: 232ms\tremaining: 821ms\n220:\tlearn: 0.3715481\ttotal: 233ms\tremaining: 820ms\n221:\tlearn: 0.3712413\ttotal: 234ms\tremaining: 819ms\n222:\tlearn: 0.3709437\ttotal: 235ms\tremaining: 818ms\n223:\tlearn: 0.3706357\ttotal: 236ms\tremaining: 817ms\n224:\tlearn: 0.3702058\ttotal: 237ms\tremaining: 816ms\n225:\tlearn: 0.3699087\ttotal: 238ms\tremaining: 815ms\n226:\tlearn: 0.3696126\ttotal: 239ms\tremaining: 814ms\n227:\tlearn: 0.3693255\ttotal: 240ms\tremaining: 813ms\n228:\tlearn: 0.3690345\ttotal: 241ms\tremaining: 812ms\n229:\tlearn: 0.3686884\ttotal: 242ms\tremaining: 811ms\n230:\tlearn: 0.3682575\ttotal: 243ms\tremaining: 809ms\n231:\tlearn: 0.3679084\ttotal: 244ms\tremaining: 808ms\n232:\tlearn: 0.3676561\ttotal: 245ms\tremaining: 807ms\n233:\tlearn: 0.3674151\ttotal: 246ms\tremaining: 806ms\n234:\tlearn: 0.3671567\ttotal: 247ms\tremaining: 805ms\n235:\tlearn: 0.3668884\ttotal: 248ms\tremaining: 804ms\n236:\tlearn: 0.3666936\ttotal: 250ms\tremaining: 803ms\n237:\tlearn: 0.3664686\ttotal: 251ms\tremaining: 802ms\n238:\tlearn: 0.3660576\ttotal: 252ms\tremaining: 801ms\n239:\tlearn: 0.3657481\ttotal: 253ms\tremaining: 800ms\n240:\tlearn: 0.3653316\ttotal: 254ms\tremaining: 799ms\n241:\tlearn: 0.3650005\ttotal: 255ms\tremaining: 798ms\n242:\tlearn: 0.3645149\ttotal: 256ms\tremaining: 797ms\n243:\tlearn: 0.3642349\ttotal: 257ms\tremaining: 796ms\n244:\tlearn: 0.3639469\ttotal: 258ms\tremaining: 795ms\n245:\tlearn: 0.3635335\ttotal: 259ms\tremaining: 794ms\n246:\tlearn: 0.3633932\ttotal: 260ms\tremaining: 793ms\n247:\tlearn: 0.3633485\ttotal: 268ms\tremaining: 812ms\n248:\tlearn: 0.3630666\ttotal: 269ms\tremaining: 811ms\n249:\tlearn: 0.3627850\ttotal: 270ms\tremaining: 810ms\n250:\tlearn: 0.3625411\ttotal: 271ms\tremaining: 809ms\n251:\tlearn: 0.3619953\ttotal: 272ms\tremaining: 808ms\n252:\tlearn: 0.3617457\ttotal: 273ms\tremaining: 807ms\n253:\tlearn: 0.3615493\ttotal: 274ms\tremaining: 806ms\n254:\tlearn: 0.3612593\ttotal: 275ms\tremaining: 804ms\n255:\tlearn: 0.3610330\ttotal: 276ms\tremaining: 803ms\n256:\tlearn: 0.3607211\ttotal: 278ms\tremaining: 802ms\n257:\tlearn: 0.3605567\ttotal: 279ms\tremaining: 801ms\n258:\tlearn: 0.3602915\ttotal: 280ms\tremaining: 800ms\n259:\tlearn: 0.3601001\ttotal: 281ms\tremaining: 799ms\n260:\tlearn: 0.3598488\ttotal: 282ms\tremaining: 798ms\n261:\tlearn: 0.3595868\ttotal: 283ms\tremaining: 797ms\n262:\tlearn: 0.3592307\ttotal: 284ms\tremaining: 796ms\n263:\tlearn: 0.3589156\ttotal: 285ms\tremaining: 795ms\n264:\tlearn: 0.3586775\ttotal: 286ms\tremaining: 794ms\n265:\tlearn: 0.3584793\ttotal: 287ms\tremaining: 793ms\n266:\tlearn: 0.3583112\ttotal: 288ms\tremaining: 792ms\n267:\tlearn: 0.3580492\ttotal: 289ms\tremaining: 790ms\n268:\tlearn: 0.3579503\ttotal: 290ms\tremaining: 789ms\n269:\tlearn: 0.3576587\ttotal: 294ms\tremaining: 795ms\n270:\tlearn: 0.3575163\ttotal: 296ms\tremaining: 795ms\n271:\tlearn: 0.3573678\ttotal: 297ms\tremaining: 796ms\n272:\tlearn: 0.3570622\ttotal: 299ms\tremaining: 796ms\n273:\tlearn: 0.3567248\ttotal: 301ms\tremaining: 798ms\n274:\tlearn: 0.3563006\ttotal: 303ms\tremaining: 799ms\n275:\tlearn: 0.3560017\ttotal: 304ms\tremaining: 798ms\n276:\tlearn: 0.3559820\ttotal: 305ms\tremaining: 796ms\n277:\tlearn: 0.3558971\ttotal: 306ms\tremaining: 795ms\n278:\tlearn: 0.3558614\ttotal: 307ms\tremaining: 793ms\n279:\tlearn: 0.3556520\ttotal: 308ms\tremaining: 793ms\n280:\tlearn: 0.3554156\ttotal: 310ms\tremaining: 792ms\n281:\tlearn: 0.3552727\ttotal: 311ms\tremaining: 792ms\n282:\tlearn: 0.3549696\ttotal: 312ms\tremaining: 791ms\n283:\tlearn: 0.3549270\ttotal: 313ms\tremaining: 790ms\n284:\tlearn: 0.3547521\ttotal: 315ms\tremaining: 789ms\n285:\tlearn: 0.3545785\ttotal: 316ms\tremaining: 788ms\n286:\tlearn: 0.3544199\ttotal: 317ms\tremaining: 788ms\n287:\tlearn: 0.3540908\ttotal: 318ms\tremaining: 787ms\n288:\tlearn: 0.3540782\ttotal: 319ms\tremaining: 785ms\n289:\tlearn: 0.3538676\ttotal: 321ms\tremaining: 785ms\n290:\tlearn: 0.3536366\ttotal: 322ms\tremaining: 784ms\n291:\tlearn: 0.3535275\ttotal: 323ms\tremaining: 783ms\n292:\tlearn: 0.3535107\ttotal: 324ms\tremaining: 781ms\n293:\tlearn: 0.3533337\ttotal: 325ms\tremaining: 780ms\n294:\tlearn: 0.3532105\ttotal: 326ms\tremaining: 779ms\n295:\tlearn: 0.3528225\ttotal: 327ms\tremaining: 778ms\n296:\tlearn: 0.3525549\ttotal: 328ms\tremaining: 777ms\n297:\tlearn: 0.3524026\ttotal: 329ms\tremaining: 776ms\n298:\tlearn: 0.3521986\ttotal: 330ms\tremaining: 775ms\n299:\tlearn: 0.3519184\ttotal: 331ms\tremaining: 773ms\n300:\tlearn: 0.3517179\ttotal: 333ms\tremaining: 772ms\n301:\tlearn: 0.3515692\ttotal: 334ms\tremaining: 771ms\n302:\tlearn: 0.3514187\ttotal: 335ms\tremaining: 770ms\n303:\tlearn: 0.3512850\ttotal: 336ms\tremaining: 769ms\n304:\tlearn: 0.3511745\ttotal: 337ms\tremaining: 768ms\n305:\tlearn: 0.3510532\ttotal: 338ms\tremaining: 767ms\n306:\tlearn: 0.3508673\ttotal: 339ms\tremaining: 765ms\n307:\tlearn: 0.3507459\ttotal: 340ms\tremaining: 765ms\n308:\tlearn: 0.3503823\ttotal: 342ms\tremaining: 764ms\n309:\tlearn: 0.3502541\ttotal: 344ms\tremaining: 765ms\n310:\tlearn: 0.3500868\ttotal: 346ms\tremaining: 766ms\n311:\tlearn: 0.3498877\ttotal: 347ms\tremaining: 765ms\n312:\tlearn: 0.3497435\ttotal: 348ms\tremaining: 764ms\n313:\tlearn: 0.3496926\ttotal: 349ms\tremaining: 762ms\n314:\tlearn: 0.3495062\ttotal: 350ms\tremaining: 762ms\n315:\tlearn: 0.3492182\ttotal: 351ms\tremaining: 761ms\n316:\tlearn: 0.3489103\ttotal: 353ms\tremaining: 760ms\n317:\tlearn: 0.3488850\ttotal: 353ms\tremaining: 758ms\n318:\tlearn: 0.3486855\ttotal: 354ms\tremaining: 757ms\n319:\tlearn: 0.3485609\ttotal: 356ms\tremaining: 757ms\n320:\tlearn: 0.3483973\ttotal: 358ms\tremaining: 756ms\n321:\tlearn: 0.3482030\ttotal: 359ms\tremaining: 756ms\n322:\tlearn: 0.3479508\ttotal: 360ms\tremaining: 755ms\n323:\tlearn: 0.3477066\ttotal: 361ms\tremaining: 754ms\n324:\tlearn: 0.3475214\ttotal: 363ms\tremaining: 753ms\n325:\tlearn: 0.3473432\ttotal: 364ms\tremaining: 752ms\n326:\tlearn: 0.3471694\ttotal: 365ms\tremaining: 751ms\n327:\tlearn: 0.3470337\ttotal: 367ms\tremaining: 751ms\n328:\tlearn: 0.3468217\ttotal: 368ms\tremaining: 750ms\n329:\tlearn: 0.3465927\ttotal: 369ms\tremaining: 749ms\n330:\tlearn: 0.3462621\ttotal: 370ms\tremaining: 748ms\n331:\tlearn: 0.3461107\ttotal: 373ms\tremaining: 750ms\n332:\tlearn: 0.3459523\ttotal: 375ms\tremaining: 751ms\n333:\tlearn: 0.3457673\ttotal: 376ms\tremaining: 750ms\n334:\tlearn: 0.3455499\ttotal: 377ms\tremaining: 749ms\n335:\tlearn: 0.3453462\ttotal: 378ms\tremaining: 748ms\n336:\tlearn: 0.3451729\ttotal: 380ms\tremaining: 747ms\n337:\tlearn: 0.3450094\ttotal: 381ms\tremaining: 746ms\n338:\tlearn: 0.3448883\ttotal: 382ms\tremaining: 744ms\n339:\tlearn: 0.3448240\ttotal: 383ms\tremaining: 743ms\n340:\tlearn: 0.3447132\ttotal: 384ms\tremaining: 741ms\n341:\tlearn: 0.3444348\ttotal: 385ms\tremaining: 740ms\n342:\tlearn: 0.3443429\ttotal: 385ms\tremaining: 738ms\n343:\tlearn: 0.3439504\ttotal: 386ms\tremaining: 737ms\n344:\tlearn: 0.3438012\ttotal: 388ms\tremaining: 736ms\n345:\tlearn: 0.3436411\ttotal: 389ms\tremaining: 735ms\n346:\tlearn: 0.3434838\ttotal: 390ms\tremaining: 734ms\n347:\tlearn: 0.3434721\ttotal: 391ms\tremaining: 732ms\n348:\tlearn: 0.3432753\ttotal: 392ms\tremaining: 731ms\n349:\tlearn: 0.3431152\ttotal: 394ms\tremaining: 731ms\n350:\tlearn: 0.3430347\ttotal: 395ms\tremaining: 730ms\n351:\tlearn: 0.3428609\ttotal: 396ms\tremaining: 729ms\n352:\tlearn: 0.3427918\ttotal: 397ms\tremaining: 728ms\n353:\tlearn: 0.3426792\ttotal: 401ms\tremaining: 731ms\n354:\tlearn: 0.3424925\ttotal: 402ms\tremaining: 730ms\n355:\tlearn: 0.3423223\ttotal: 403ms\tremaining: 729ms\n356:\tlearn: 0.3422181\ttotal: 405ms\tremaining: 729ms\n357:\tlearn: 0.3421069\ttotal: 406ms\tremaining: 728ms\n358:\tlearn: 0.3420291\ttotal: 407ms\tremaining: 727ms\n359:\tlearn: 0.3419744\ttotal: 408ms\tremaining: 726ms\n360:\tlearn: 0.3418580\ttotal: 410ms\tremaining: 725ms\n361:\tlearn: 0.3417304\ttotal: 411ms\tremaining: 724ms\n362:\tlearn: 0.3415733\ttotal: 412ms\tremaining: 724ms\n363:\tlearn: 0.3415043\ttotal: 414ms\tremaining: 723ms\n364:\tlearn: 0.3413914\ttotal: 415ms\tremaining: 722ms\n365:\tlearn: 0.3411951\ttotal: 416ms\tremaining: 721ms\n366:\tlearn: 0.3410012\ttotal: 418ms\tremaining: 720ms\n367:\tlearn: 0.3409049\ttotal: 419ms\tremaining: 719ms\n368:\tlearn: 0.3408928\ttotal: 420ms\tremaining: 718ms\n369:\tlearn: 0.3406751\ttotal: 421ms\tremaining: 717ms\n370:\tlearn: 0.3403325\ttotal: 422ms\tremaining: 716ms\n371:\tlearn: 0.3401399\ttotal: 424ms\tremaining: 715ms\n372:\tlearn: 0.3399305\ttotal: 425ms\tremaining: 714ms\n373:\tlearn: 0.3397261\ttotal: 426ms\tremaining: 714ms\n374:\tlearn: 0.3396393\ttotal: 428ms\tremaining: 713ms\n375:\tlearn: 0.3394130\ttotal: 429ms\tremaining: 712ms\n376:\tlearn: 0.3392222\ttotal: 430ms\tremaining: 711ms\n377:\tlearn: 0.3391384\ttotal: 432ms\tremaining: 710ms\n378:\tlearn: 0.3390183\ttotal: 433ms\tremaining: 709ms\n379:\tlearn: 0.3389168\ttotal: 434ms\tremaining: 709ms\n380:\tlearn: 0.3388132\ttotal: 436ms\tremaining: 708ms\n381:\tlearn: 0.3385748\ttotal: 437ms\tremaining: 707ms\n382:\tlearn: 0.3385473\ttotal: 438ms\tremaining: 705ms\n383:\tlearn: 0.3384144\ttotal: 439ms\tremaining: 704ms\n384:\tlearn: 0.3383290\ttotal: 440ms\tremaining: 703ms\n385:\tlearn: 0.3381436\ttotal: 441ms\tremaining: 702ms\n386:\tlearn: 0.3379970\ttotal: 443ms\tremaining: 702ms\n387:\tlearn: 0.3377367\ttotal: 444ms\tremaining: 701ms\n388:\tlearn: 0.3375402\ttotal: 446ms\tremaining: 700ms\n389:\tlearn: 0.3373428\ttotal: 447ms\tremaining: 699ms\n390:\tlearn: 0.3371953\ttotal: 448ms\tremaining: 698ms\n391:\tlearn: 0.3370858\ttotal: 449ms\tremaining: 697ms\n392:\tlearn: 0.3369058\ttotal: 451ms\tremaining: 696ms\n393:\tlearn: 0.3368623\ttotal: 452ms\tremaining: 696ms\n394:\tlearn: 0.3367191\ttotal: 454ms\tremaining: 695ms\n395:\tlearn: 0.3366869\ttotal: 455ms\tremaining: 694ms\n396:\tlearn: 0.3364954\ttotal: 456ms\tremaining: 693ms\n397:\tlearn: 0.3363264\ttotal: 458ms\tremaining: 692ms\n398:\tlearn: 0.3360993\ttotal: 459ms\tremaining: 691ms\n399:\tlearn: 0.3360354\ttotal: 460ms\tremaining: 690ms\n400:\tlearn: 0.3359793\ttotal: 461ms\tremaining: 689ms\n401:\tlearn: 0.3357546\ttotal: 463ms\tremaining: 688ms\n402:\tlearn: 0.3356302\ttotal: 464ms\tremaining: 687ms\n403:\tlearn: 0.3354789\ttotal: 465ms\tremaining: 686ms\n404:\tlearn: 0.3352916\ttotal: 466ms\tremaining: 685ms\n405:\tlearn: 0.3350768\ttotal: 468ms\tremaining: 684ms\n406:\tlearn: 0.3348817\ttotal: 469ms\tremaining: 683ms\n407:\tlearn: 0.3348000\ttotal: 470ms\tremaining: 682ms\n408:\tlearn: 0.3347270\ttotal: 471ms\tremaining: 681ms\n409:\tlearn: 0.3345841\ttotal: 472ms\tremaining: 680ms\n410:\tlearn: 0.3344615\ttotal: 474ms\tremaining: 679ms\n411:\tlearn: 0.3342748\ttotal: 475ms\tremaining: 678ms\n412:\tlearn: 0.3338519\ttotal: 476ms\tremaining: 677ms\n413:\tlearn: 0.3336635\ttotal: 477ms\tremaining: 675ms\n414:\tlearn: 0.3335714\ttotal: 478ms\tremaining: 674ms\n415:\tlearn: 0.3334545\ttotal: 480ms\tremaining: 674ms\n416:\tlearn: 0.3333539\ttotal: 481ms\tremaining: 672ms\n417:\tlearn: 0.3331166\ttotal: 482ms\tremaining: 671ms\n418:\tlearn: 0.3329706\ttotal: 483ms\tremaining: 670ms\n419:\tlearn: 0.3327137\ttotal: 485ms\tremaining: 669ms\n420:\tlearn: 0.3325715\ttotal: 486ms\tremaining: 668ms\n421:\tlearn: 0.3324169\ttotal: 487ms\tremaining: 667ms\n422:\tlearn: 0.3321423\ttotal: 488ms\tremaining: 666ms\n423:\tlearn: 0.3320514\ttotal: 489ms\tremaining: 665ms\n424:\tlearn: 0.3319702\ttotal: 491ms\tremaining: 664ms\n425:\tlearn: 0.3318192\ttotal: 492ms\tremaining: 663ms\n426:\tlearn: 0.3317703\ttotal: 493ms\tremaining: 662ms\n427:\tlearn: 0.3315900\ttotal: 494ms\tremaining: 661ms\n428:\tlearn: 0.3314944\ttotal: 496ms\tremaining: 660ms\n429:\tlearn: 0.3312960\ttotal: 497ms\tremaining: 658ms\n430:\tlearn: 0.3312456\ttotal: 498ms\tremaining: 657ms\n431:\tlearn: 0.3309816\ttotal: 499ms\tremaining: 656ms\n432:\tlearn: 0.3307776\ttotal: 500ms\tremaining: 655ms\n433:\tlearn: 0.3305152\ttotal: 501ms\tremaining: 654ms\n434:\tlearn: 0.3303833\ttotal: 503ms\tremaining: 653ms\n435:\tlearn: 0.3302081\ttotal: 504ms\tremaining: 652ms\n436:\tlearn: 0.3301128\ttotal: 505ms\tremaining: 651ms\n437:\tlearn: 0.3299504\ttotal: 506ms\tremaining: 650ms\n438:\tlearn: 0.3299492\ttotal: 507ms\tremaining: 648ms\n439:\tlearn: 0.3296871\ttotal: 508ms\tremaining: 647ms\n440:\tlearn: 0.3296817\ttotal: 509ms\tremaining: 645ms\n441:\tlearn: 0.3295453\ttotal: 510ms\tremaining: 644ms\n442:\tlearn: 0.3293019\ttotal: 512ms\tremaining: 644ms\n443:\tlearn: 0.3292326\ttotal: 513ms\tremaining: 643ms\n444:\tlearn: 0.3290900\ttotal: 515ms\tremaining: 642ms\n445:\tlearn: 0.3289547\ttotal: 516ms\tremaining: 641ms\n446:\tlearn: 0.3288644\ttotal: 518ms\tremaining: 640ms\n447:\tlearn: 0.3288227\ttotal: 519ms\tremaining: 639ms\n448:\tlearn: 0.3286391\ttotal: 520ms\tremaining: 638ms\n449:\tlearn: 0.3284412\ttotal: 521ms\tremaining: 637ms\n450:\tlearn: 0.3282650\ttotal: 522ms\tremaining: 636ms\n451:\tlearn: 0.3281908\ttotal: 524ms\tremaining: 635ms\n452:\tlearn: 0.3280384\ttotal: 525ms\tremaining: 634ms\n453:\tlearn: 0.3280008\ttotal: 526ms\tremaining: 633ms\n454:\tlearn: 0.3277757\ttotal: 528ms\tremaining: 633ms\n455:\tlearn: 0.3276755\ttotal: 530ms\tremaining: 632ms\n456:\tlearn: 0.3274923\ttotal: 531ms\tremaining: 631ms\n457:\tlearn: 0.3274069\ttotal: 533ms\tremaining: 631ms\n458:\tlearn: 0.3273431\ttotal: 535ms\tremaining: 630ms\n459:\tlearn: 0.3272877\ttotal: 536ms\tremaining: 629ms\n460:\tlearn: 0.3271703\ttotal: 537ms\tremaining: 628ms\n461:\tlearn: 0.3270690\ttotal: 538ms\tremaining: 627ms\n462:\tlearn: 0.3269287\ttotal: 539ms\tremaining: 625ms\n463:\tlearn: 0.3268912\ttotal: 540ms\tremaining: 624ms\n464:\tlearn: 0.3268390\ttotal: 541ms\tremaining: 623ms\n465:\tlearn: 0.3268057\ttotal: 542ms\tremaining: 621ms\n466:\tlearn: 0.3266348\ttotal: 544ms\tremaining: 621ms\n467:\tlearn: 0.3263827\ttotal: 545ms\tremaining: 620ms\n468:\tlearn: 0.3262534\ttotal: 547ms\tremaining: 619ms\n469:\tlearn: 0.3260977\ttotal: 549ms\tremaining: 619ms\n470:\tlearn: 0.3259194\ttotal: 550ms\tremaining: 617ms\n471:\tlearn: 0.3258760\ttotal: 551ms\tremaining: 617ms\n472:\tlearn: 0.3258546\ttotal: 552ms\tremaining: 615ms\n473:\tlearn: 0.3257829\ttotal: 553ms\tremaining: 614ms\n474:\tlearn: 0.3256747\ttotal: 554ms\tremaining: 613ms\n475:\tlearn: 0.3254962\ttotal: 556ms\tremaining: 612ms\n476:\tlearn: 0.3254859\ttotal: 556ms\tremaining: 610ms\n477:\tlearn: 0.3254379\ttotal: 557ms\tremaining: 609ms\n478:\tlearn: 0.3252514\ttotal: 558ms\tremaining: 607ms\n479:\tlearn: 0.3250406\ttotal: 559ms\tremaining: 606ms\n480:\tlearn: 0.3249883\ttotal: 560ms\tremaining: 605ms\n481:\tlearn: 0.3248423\ttotal: 561ms\tremaining: 603ms\n482:\tlearn: 0.3247040\ttotal: 563ms\tremaining: 602ms\n483:\tlearn: 0.3246365\ttotal: 564ms\tremaining: 601ms\n484:\tlearn: 0.3243228\ttotal: 565ms\tremaining: 600ms\n485:\tlearn: 0.3242199\ttotal: 566ms\tremaining: 599ms\n486:\tlearn: 0.3241382\ttotal: 567ms\tremaining: 597ms\n487:\tlearn: 0.3239690\ttotal: 568ms\tremaining: 596ms\n488:\tlearn: 0.3239101\ttotal: 569ms\tremaining: 595ms\n489:\tlearn: 0.3238135\ttotal: 571ms\tremaining: 594ms\n490:\tlearn: 0.3236011\ttotal: 572ms\tremaining: 593ms\n491:\tlearn: 0.3235112\ttotal: 573ms\tremaining: 592ms\n492:\tlearn: 0.3234927\ttotal: 579ms\tremaining: 595ms\n493:\tlearn: 0.3233151\ttotal: 580ms\tremaining: 594ms\n494:\tlearn: 0.3232594\ttotal: 581ms\tremaining: 593ms\n495:\tlearn: 0.3230347\ttotal: 582ms\tremaining: 592ms\n496:\tlearn: 0.3229740\ttotal: 584ms\tremaining: 591ms\n497:\tlearn: 0.3228064\ttotal: 585ms\tremaining: 589ms\n498:\tlearn: 0.3226763\ttotal: 586ms\tremaining: 588ms\n499:\tlearn: 0.3225781\ttotal: 587ms\tremaining: 587ms\n500:\tlearn: 0.3225006\ttotal: 588ms\tremaining: 586ms\n501:\tlearn: 0.3224835\ttotal: 589ms\tremaining: 584ms\n502:\tlearn: 0.3223661\ttotal: 590ms\tremaining: 583ms\n503:\tlearn: 0.3221297\ttotal: 592ms\tremaining: 582ms\n504:\tlearn: 0.3221031\ttotal: 592ms\tremaining: 581ms\n505:\tlearn: 0.3220099\ttotal: 594ms\tremaining: 580ms\n506:\tlearn: 0.3219784\ttotal: 595ms\tremaining: 579ms\n507:\tlearn: 0.3219771\ttotal: 596ms\tremaining: 577ms\n508:\tlearn: 0.3218901\ttotal: 597ms\tremaining: 576ms\n509:\tlearn: 0.3218264\ttotal: 598ms\tremaining: 575ms\n510:\tlearn: 0.3217859\ttotal: 600ms\tremaining: 574ms\n511:\tlearn: 0.3216523\ttotal: 603ms\tremaining: 575ms\n512:\tlearn: 0.3215955\ttotal: 604ms\tremaining: 574ms\n513:\tlearn: 0.3214449\ttotal: 606ms\tremaining: 573ms\n514:\tlearn: 0.3212216\ttotal: 607ms\tremaining: 572ms\n515:\tlearn: 0.3211225\ttotal: 608ms\tremaining: 571ms\n516:\tlearn: 0.3211219\ttotal: 609ms\tremaining: 569ms\n517:\tlearn: 0.3209501\ttotal: 610ms\tremaining: 568ms\n518:\tlearn: 0.3208041\ttotal: 612ms\tremaining: 567ms\n519:\tlearn: 0.3205486\ttotal: 613ms\tremaining: 566ms\n520:\tlearn: 0.3204884\ttotal: 614ms\tremaining: 564ms\n521:\tlearn: 0.3202942\ttotal: 615ms\tremaining: 563ms\n522:\tlearn: 0.3202194\ttotal: 616ms\tremaining: 562ms\n523:\tlearn: 0.3201290\ttotal: 617ms\tremaining: 561ms\n524:\tlearn: 0.3199246\ttotal: 618ms\tremaining: 559ms\n525:\tlearn: 0.3197571\ttotal: 620ms\tremaining: 558ms\n526:\tlearn: 0.3196551\ttotal: 621ms\tremaining: 557ms\n527:\tlearn: 0.3195002\ttotal: 629ms\tremaining: 562ms\n528:\tlearn: 0.3194072\ttotal: 630ms\tremaining: 561ms\n529:\tlearn: 0.3193170\ttotal: 633ms\tremaining: 561ms\n530:\tlearn: 0.3192179\ttotal: 634ms\tremaining: 560ms\n531:\tlearn: 0.3190324\ttotal: 635ms\tremaining: 559ms\n532:\tlearn: 0.3189422\ttotal: 637ms\tremaining: 558ms\n533:\tlearn: 0.3188328\ttotal: 638ms\tremaining: 557ms\n534:\tlearn: 0.3187711\ttotal: 640ms\tremaining: 556ms\n535:\tlearn: 0.3187690\ttotal: 640ms\tremaining: 554ms\n536:\tlearn: 0.3186830\ttotal: 642ms\tremaining: 553ms\n537:\tlearn: 0.3185283\ttotal: 643ms\tremaining: 552ms\n538:\tlearn: 0.3182313\ttotal: 644ms\tremaining: 551ms\n539:\tlearn: 0.3181386\ttotal: 645ms\tremaining: 549ms\n540:\tlearn: 0.3179798\ttotal: 646ms\tremaining: 548ms\n541:\tlearn: 0.3179438\ttotal: 647ms\tremaining: 547ms\n542:\tlearn: 0.3177965\ttotal: 649ms\tremaining: 546ms\n543:\tlearn: 0.3174994\ttotal: 650ms\tremaining: 545ms\n544:\tlearn: 0.3174817\ttotal: 651ms\tremaining: 544ms\n545:\tlearn: 0.3173328\ttotal: 653ms\tremaining: 543ms\n546:\tlearn: 0.3171741\ttotal: 654ms\tremaining: 542ms\n547:\tlearn: 0.3171442\ttotal: 655ms\tremaining: 540ms\n548:\tlearn: 0.3171224\ttotal: 656ms\tremaining: 539ms\n549:\tlearn: 0.3169105\ttotal: 657ms\tremaining: 538ms\n550:\tlearn: 0.3168466\ttotal: 659ms\tremaining: 537ms\n551:\tlearn: 0.3167118\ttotal: 660ms\tremaining: 535ms\n552:\tlearn: 0.3166650\ttotal: 661ms\tremaining: 534ms\n553:\tlearn: 0.3165579\ttotal: 662ms\tremaining: 533ms\n554:\tlearn: 0.3165503\ttotal: 663ms\tremaining: 532ms\n555:\tlearn: 0.3164490\ttotal: 664ms\tremaining: 530ms\n556:\tlearn: 0.3162543\ttotal: 668ms\tremaining: 531ms\n557:\tlearn: 0.3160781\ttotal: 669ms\tremaining: 530ms\n558:\tlearn: 0.3160735\ttotal: 670ms\tremaining: 529ms\n559:\tlearn: 0.3159351\ttotal: 671ms\tremaining: 527ms\n560:\tlearn: 0.3158968\ttotal: 672ms\tremaining: 526ms\n561:\tlearn: 0.3157431\ttotal: 673ms\tremaining: 525ms\n562:\tlearn: 0.3156623\ttotal: 675ms\tremaining: 524ms\n563:\tlearn: 0.3155756\ttotal: 676ms\tremaining: 522ms\n564:\tlearn: 0.3154482\ttotal: 677ms\tremaining: 521ms\n565:\tlearn: 0.3152751\ttotal: 678ms\tremaining: 520ms\n566:\tlearn: 0.3151786\ttotal: 679ms\tremaining: 519ms\n567:\tlearn: 0.3150918\ttotal: 680ms\tremaining: 518ms\n568:\tlearn: 0.3150108\ttotal: 682ms\tremaining: 516ms\n569:\tlearn: 0.3149472\ttotal: 683ms\tremaining: 515ms\n570:\tlearn: 0.3147643\ttotal: 684ms\tremaining: 514ms\n571:\tlearn: 0.3147473\ttotal: 685ms\tremaining: 512ms\n572:\tlearn: 0.3146449\ttotal: 686ms\tremaining: 511ms\n573:\tlearn: 0.3145541\ttotal: 688ms\tremaining: 510ms\n574:\tlearn: 0.3144783\ttotal: 690ms\tremaining: 510ms\n575:\tlearn: 0.3144082\ttotal: 693ms\tremaining: 510ms\n576:\tlearn: 0.3143474\ttotal: 694ms\tremaining: 509ms\n577:\tlearn: 0.3141958\ttotal: 695ms\tremaining: 508ms\n578:\tlearn: 0.3140606\ttotal: 697ms\tremaining: 506ms\n579:\tlearn: 0.3140477\ttotal: 697ms\tremaining: 505ms\n580:\tlearn: 0.3137943\ttotal: 699ms\tremaining: 504ms\n581:\tlearn: 0.3137941\ttotal: 699ms\tremaining: 502ms\n582:\tlearn: 0.3134495\ttotal: 700ms\tremaining: 501ms\n583:\tlearn: 0.3133066\ttotal: 702ms\tremaining: 500ms\n584:\tlearn: 0.3132311\ttotal: 703ms\tremaining: 499ms\n585:\tlearn: 0.3131440\ttotal: 722ms\tremaining: 510ms\n586:\tlearn: 0.3131025\ttotal: 723ms\tremaining: 509ms\n587:\tlearn: 0.3129954\ttotal: 724ms\tremaining: 507ms\n588:\tlearn: 0.3129404\ttotal: 725ms\tremaining: 506ms\n589:\tlearn: 0.3129263\ttotal: 727ms\tremaining: 505ms\n590:\tlearn: 0.3128122\ttotal: 728ms\tremaining: 504ms\n591:\tlearn: 0.3127129\ttotal: 729ms\tremaining: 502ms\n592:\tlearn: 0.3126034\ttotal: 730ms\tremaining: 501ms\n593:\tlearn: 0.3125264\ttotal: 731ms\tremaining: 500ms\n594:\tlearn: 0.3124870\ttotal: 732ms\tremaining: 499ms\n595:\tlearn: 0.3122310\ttotal: 734ms\tremaining: 497ms\n596:\tlearn: 0.3121554\ttotal: 735ms\tremaining: 496ms\n597:\tlearn: 0.3120955\ttotal: 736ms\tremaining: 495ms\n598:\tlearn: 0.3119817\ttotal: 737ms\tremaining: 494ms\n599:\tlearn: 0.3118466\ttotal: 739ms\tremaining: 492ms\n600:\tlearn: 0.3118185\ttotal: 740ms\tremaining: 491ms\n601:\tlearn: 0.3117527\ttotal: 741ms\tremaining: 490ms\n602:\tlearn: 0.3116981\ttotal: 742ms\tremaining: 488ms\n603:\tlearn: 0.3116311\ttotal: 743ms\tremaining: 487ms\n604:\tlearn: 0.3115910\ttotal: 744ms\tremaining: 486ms\n605:\tlearn: 0.3115274\ttotal: 745ms\tremaining: 485ms\n606:\tlearn: 0.3114269\ttotal: 747ms\tremaining: 483ms\n607:\tlearn: 0.3113271\ttotal: 748ms\tremaining: 482ms\n608:\tlearn: 0.3112014\ttotal: 749ms\tremaining: 481ms\n609:\tlearn: 0.3110660\ttotal: 750ms\tremaining: 480ms\n610:\tlearn: 0.3109626\ttotal: 751ms\tremaining: 478ms\n611:\tlearn: 0.3108874\ttotal: 753ms\tremaining: 477ms\n612:\tlearn: 0.3108060\ttotal: 754ms\tremaining: 476ms\n613:\tlearn: 0.3107469\ttotal: 755ms\tremaining: 475ms\n614:\tlearn: 0.3106661\ttotal: 756ms\tremaining: 473ms\n615:\tlearn: 0.3105583\ttotal: 757ms\tremaining: 472ms\n616:\tlearn: 0.3104862\ttotal: 759ms\tremaining: 471ms\n617:\tlearn: 0.3104027\ttotal: 760ms\tremaining: 470ms\n618:\tlearn: 0.3103004\ttotal: 761ms\tremaining: 468ms\n619:\tlearn: 0.3102494\ttotal: 762ms\tremaining: 467ms\n620:\tlearn: 0.3101051\ttotal: 763ms\tremaining: 466ms\n621:\tlearn: 0.3100785\ttotal: 765ms\tremaining: 465ms\n622:\tlearn: 0.3098684\ttotal: 766ms\tremaining: 463ms\n623:\tlearn: 0.3098226\ttotal: 767ms\tremaining: 462ms\n624:\tlearn: 0.3097545\ttotal: 768ms\tremaining: 461ms\n625:\tlearn: 0.3096245\ttotal: 769ms\tremaining: 460ms\n626:\tlearn: 0.3095238\ttotal: 771ms\tremaining: 458ms\n627:\tlearn: 0.3094573\ttotal: 772ms\tremaining: 457ms\n628:\tlearn: 0.3092249\ttotal: 773ms\tremaining: 456ms\n629:\tlearn: 0.3089439\ttotal: 775ms\tremaining: 455ms\n630:\tlearn: 0.3088498\ttotal: 776ms\tremaining: 454ms\n631:\tlearn: 0.3087662\ttotal: 777ms\tremaining: 452ms\n632:\tlearn: 0.3087051\ttotal: 778ms\tremaining: 451ms\n633:\tlearn: 0.3085629\ttotal: 779ms\tremaining: 450ms\n634:\tlearn: 0.3083870\ttotal: 780ms\tremaining: 448ms\n635:\tlearn: 0.3083641\ttotal: 781ms\tremaining: 447ms\n636:\tlearn: 0.3082434\ttotal: 782ms\tremaining: 446ms\n637:\tlearn: 0.3082245\ttotal: 784ms\tremaining: 445ms\n638:\tlearn: 0.3081753\ttotal: 785ms\tremaining: 443ms\n639:\tlearn: 0.3081095\ttotal: 786ms\tremaining: 442ms\n640:\tlearn: 0.3079074\ttotal: 787ms\tremaining: 441ms\n641:\tlearn: 0.3077985\ttotal: 788ms\tremaining: 440ms\n642:\tlearn: 0.3077105\ttotal: 790ms\tremaining: 438ms\n643:\tlearn: 0.3075416\ttotal: 791ms\tremaining: 437ms\n644:\tlearn: 0.3075267\ttotal: 791ms\tremaining: 436ms\n645:\tlearn: 0.3073140\ttotal: 814ms\tremaining: 446ms\n646:\tlearn: 0.3072748\ttotal: 815ms\tremaining: 444ms\n647:\tlearn: 0.3072023\ttotal: 816ms\tremaining: 443ms\n648:\tlearn: 0.3071360\ttotal: 819ms\tremaining: 443ms\n649:\tlearn: 0.3069644\ttotal: 821ms\tremaining: 442ms\n650:\tlearn: 0.3069152\ttotal: 824ms\tremaining: 442ms\n651:\tlearn: 0.3068011\ttotal: 826ms\tremaining: 441ms\n652:\tlearn: 0.3066771\ttotal: 829ms\tremaining: 441ms\n653:\tlearn: 0.3065250\ttotal: 832ms\tremaining: 440ms\n654:\tlearn: 0.3063510\ttotal: 835ms\tremaining: 440ms\n655:\tlearn: 0.3061998\ttotal: 838ms\tremaining: 439ms\n656:\tlearn: 0.3061860\ttotal: 839ms\tremaining: 438ms\n657:\tlearn: 0.3061148\ttotal: 840ms\tremaining: 437ms\n658:\tlearn: 0.3059344\ttotal: 841ms\tremaining: 435ms\n659:\tlearn: 0.3057923\ttotal: 842ms\tremaining: 434ms\n660:\tlearn: 0.3056607\ttotal: 844ms\tremaining: 433ms\n661:\tlearn: 0.3055583\ttotal: 845ms\tremaining: 431ms\n662:\tlearn: 0.3054731\ttotal: 846ms\tremaining: 430ms\n663:\tlearn: 0.3053877\ttotal: 847ms\tremaining: 429ms\n664:\tlearn: 0.3052947\ttotal: 848ms\tremaining: 427ms\n665:\tlearn: 0.3051384\ttotal: 850ms\tremaining: 426ms\n666:\tlearn: 0.3050465\ttotal: 851ms\tremaining: 425ms\n667:\tlearn: 0.3049802\ttotal: 852ms\tremaining: 423ms\n668:\tlearn: 0.3049651\ttotal: 853ms\tremaining: 422ms\n669:\tlearn: 0.3049240\ttotal: 854ms\tremaining: 421ms\n670:\tlearn: 0.3048317\ttotal: 856ms\tremaining: 420ms\n671:\tlearn: 0.3047298\ttotal: 857ms\tremaining: 418ms\n672:\tlearn: 0.3045769\ttotal: 858ms\tremaining: 417ms\n673:\tlearn: 0.3045009\ttotal: 859ms\tremaining: 416ms\n674:\tlearn: 0.3043540\ttotal: 861ms\tremaining: 414ms\n675:\tlearn: 0.3043076\ttotal: 862ms\tremaining: 413ms\n676:\tlearn: 0.3041806\ttotal: 863ms\tremaining: 412ms\n677:\tlearn: 0.3040766\ttotal: 865ms\tremaining: 411ms\n678:\tlearn: 0.3040491\ttotal: 866ms\tremaining: 410ms\n679:\tlearn: 0.3038690\ttotal: 868ms\tremaining: 408ms\n680:\tlearn: 0.3038617\ttotal: 868ms\tremaining: 407ms\n681:\tlearn: 0.3038031\ttotal: 870ms\tremaining: 405ms\n682:\tlearn: 0.3037311\ttotal: 871ms\tremaining: 404ms\n683:\tlearn: 0.3036576\ttotal: 872ms\tremaining: 403ms\n684:\tlearn: 0.3034920\ttotal: 873ms\tremaining: 402ms\n685:\tlearn: 0.3034002\ttotal: 874ms\tremaining: 400ms\n686:\tlearn: 0.3032768\ttotal: 876ms\tremaining: 399ms\n687:\tlearn: 0.3032603\ttotal: 877ms\tremaining: 398ms\n688:\tlearn: 0.3029960\ttotal: 878ms\tremaining: 396ms\n689:\tlearn: 0.3028466\ttotal: 879ms\tremaining: 395ms\n690:\tlearn: 0.3027011\ttotal: 880ms\tremaining: 394ms\n691:\tlearn: 0.3025981\ttotal: 881ms\tremaining: 392ms\n692:\tlearn: 0.3025078\ttotal: 883ms\tremaining: 391ms\n693:\tlearn: 0.3023170\ttotal: 884ms\tremaining: 390ms\n694:\tlearn: 0.3021301\ttotal: 908ms\tremaining: 398ms\n695:\tlearn: 0.3020893\ttotal: 909ms\tremaining: 397ms\n696:\tlearn: 0.3019255\ttotal: 910ms\tremaining: 396ms\n697:\tlearn: 0.3017417\ttotal: 911ms\tremaining: 394ms\n698:\tlearn: 0.3017236\ttotal: 912ms\tremaining: 393ms\n699:\tlearn: 0.3015562\ttotal: 913ms\tremaining: 391ms\n700:\tlearn: 0.3014555\ttotal: 914ms\tremaining: 390ms\n701:\tlearn: 0.3012931\ttotal: 915ms\tremaining: 389ms\n702:\tlearn: 0.3012392\ttotal: 916ms\tremaining: 387ms\n703:\tlearn: 0.3011519\ttotal: 917ms\tremaining: 386ms\n704:\tlearn: 0.3009259\ttotal: 918ms\tremaining: 384ms\n705:\tlearn: 0.3008477\ttotal: 919ms\tremaining: 383ms\n706:\tlearn: 0.3006988\ttotal: 920ms\tremaining: 381ms\n707:\tlearn: 0.3006072\ttotal: 921ms\tremaining: 380ms\n708:\tlearn: 0.3005289\ttotal: 923ms\tremaining: 379ms\n709:\tlearn: 0.3004332\ttotal: 924ms\tremaining: 377ms\n710:\tlearn: 0.3003562\ttotal: 925ms\tremaining: 376ms\n711:\tlearn: 0.3002425\ttotal: 932ms\tremaining: 377ms\n712:\tlearn: 0.3000437\ttotal: 933ms\tremaining: 376ms\n713:\tlearn: 0.2999832\ttotal: 935ms\tremaining: 374ms\n714:\tlearn: 0.2998325\ttotal: 936ms\tremaining: 373ms\n715:\tlearn: 0.2997613\ttotal: 938ms\tremaining: 372ms\n716:\tlearn: 0.2996901\ttotal: 940ms\tremaining: 371ms\n717:\tlearn: 0.2994881\ttotal: 941ms\tremaining: 370ms\n718:\tlearn: 0.2993824\ttotal: 943ms\tremaining: 369ms\n719:\tlearn: 0.2992044\ttotal: 945ms\tremaining: 367ms\n720:\tlearn: 0.2991478\ttotal: 946ms\tremaining: 366ms\n721:\tlearn: 0.2990619\ttotal: 947ms\tremaining: 365ms\n722:\tlearn: 0.2989804\ttotal: 948ms\tremaining: 363ms\n723:\tlearn: 0.2989096\ttotal: 949ms\tremaining: 362ms\n724:\tlearn: 0.2987908\ttotal: 950ms\tremaining: 360ms\n725:\tlearn: 0.2987194\ttotal: 951ms\tremaining: 359ms\n726:\tlearn: 0.2985525\ttotal: 952ms\tremaining: 358ms\n727:\tlearn: 0.2984829\ttotal: 953ms\tremaining: 356ms\n728:\tlearn: 0.2984719\ttotal: 955ms\tremaining: 355ms\n729:\tlearn: 0.2983014\ttotal: 956ms\tremaining: 353ms\n730:\tlearn: 0.2982620\ttotal: 957ms\tremaining: 352ms\n731:\tlearn: 0.2981932\ttotal: 958ms\tremaining: 351ms\n732:\tlearn: 0.2980740\ttotal: 959ms\tremaining: 349ms\n733:\tlearn: 0.2978539\ttotal: 960ms\tremaining: 348ms\n734:\tlearn: 0.2977891\ttotal: 961ms\tremaining: 346ms\n735:\tlearn: 0.2976469\ttotal: 962ms\tremaining: 345ms\n736:\tlearn: 0.2976060\ttotal: 963ms\tremaining: 344ms\n737:\tlearn: 0.2974958\ttotal: 964ms\tremaining: 342ms\n738:\tlearn: 0.2973940\ttotal: 965ms\tremaining: 341ms\n739:\tlearn: 0.2973743\ttotal: 966ms\tremaining: 339ms\n740:\tlearn: 0.2972590\ttotal: 967ms\tremaining: 338ms\n741:\tlearn: 0.2972536\ttotal: 967ms\tremaining: 336ms\n742:\tlearn: 0.2970472\ttotal: 968ms\tremaining: 335ms\n743:\tlearn: 0.2969647\ttotal: 969ms\tremaining: 334ms\n744:\tlearn: 0.2969557\ttotal: 970ms\tremaining: 332ms\n745:\tlearn: 0.2968304\ttotal: 971ms\tremaining: 331ms\n746:\tlearn: 0.2966960\ttotal: 972ms\tremaining: 329ms\n747:\tlearn: 0.2965529\ttotal: 973ms\tremaining: 328ms\n748:\tlearn: 0.2965058\ttotal: 974ms\tremaining: 327ms\n749:\tlearn: 0.2962579\ttotal: 975ms\tremaining: 325ms\n750:\tlearn: 0.2960511\ttotal: 976ms\tremaining: 324ms\n751:\tlearn: 0.2960035\ttotal: 978ms\tremaining: 322ms\n752:\tlearn: 0.2959628\ttotal: 978ms\tremaining: 321ms\n753:\tlearn: 0.2958047\ttotal: 979ms\tremaining: 320ms\n754:\tlearn: 0.2956945\ttotal: 981ms\tremaining: 318ms\n755:\tlearn: 0.2956219\ttotal: 982ms\tremaining: 317ms\n756:\tlearn: 0.2954900\ttotal: 983ms\tremaining: 315ms\n757:\tlearn: 0.2953562\ttotal: 984ms\tremaining: 314ms\n758:\tlearn: 0.2952893\ttotal: 985ms\tremaining: 313ms\n759:\tlearn: 0.2951858\ttotal: 986ms\tremaining: 311ms\n760:\tlearn: 0.2951162\ttotal: 987ms\tremaining: 310ms\n761:\tlearn: 0.2950780\ttotal: 988ms\tremaining: 309ms\n762:\tlearn: 0.2950722\ttotal: 989ms\tremaining: 307ms\n763:\tlearn: 0.2949742\ttotal: 990ms\tremaining: 306ms\n764:\tlearn: 0.2947891\ttotal: 991ms\tremaining: 304ms\n765:\tlearn: 0.2945825\ttotal: 992ms\tremaining: 303ms\n766:\tlearn: 0.2945060\ttotal: 993ms\tremaining: 302ms\n767:\tlearn: 0.2943988\ttotal: 994ms\tremaining: 300ms\n768:\tlearn: 0.2942975\ttotal: 995ms\tremaining: 299ms\n769:\tlearn: 0.2942443\ttotal: 996ms\tremaining: 298ms\n770:\tlearn: 0.2941819\ttotal: 997ms\tremaining: 296ms\n771:\tlearn: 0.2940473\ttotal: 998ms\tremaining: 295ms\n772:\tlearn: 0.2939959\ttotal: 999ms\tremaining: 294ms\n773:\tlearn: 0.2939162\ttotal: 1s\tremaining: 292ms\n774:\tlearn: 0.2937660\ttotal: 1s\tremaining: 291ms\n775:\tlearn: 0.2936087\ttotal: 1s\tremaining: 289ms\n776:\tlearn: 0.2935751\ttotal: 1s\tremaining: 288ms\n777:\tlearn: 0.2935259\ttotal: 1s\tremaining: 287ms\n778:\tlearn: 0.2933348\ttotal: 1s\tremaining: 285ms\n779:\tlearn: 0.2931024\ttotal: 1.01s\tremaining: 284ms\n780:\tlearn: 0.2930027\ttotal: 1.01s\tremaining: 283ms\n781:\tlearn: 0.2928429\ttotal: 1.01s\tremaining: 281ms\n782:\tlearn: 0.2928315\ttotal: 1.01s\tremaining: 280ms\n783:\tlearn: 0.2927409\ttotal: 1.01s\tremaining: 279ms\n784:\tlearn: 0.2927066\ttotal: 1.01s\tremaining: 277ms\n785:\tlearn: 0.2926772\ttotal: 1.01s\tremaining: 276ms\n786:\tlearn: 0.2926484\ttotal: 1.01s\tremaining: 275ms\n787:\tlearn: 0.2925400\ttotal: 1.01s\tremaining: 273ms\n788:\tlearn: 0.2924922\ttotal: 1.02s\tremaining: 272ms\n789:\tlearn: 0.2923938\ttotal: 1.02s\tremaining: 270ms\n790:\tlearn: 0.2922901\ttotal: 1.02s\tremaining: 269ms\n791:\tlearn: 0.2922428\ttotal: 1.02s\tremaining: 268ms\n792:\tlearn: 0.2921274\ttotal: 1.02s\tremaining: 266ms\n793:\tlearn: 0.2920882\ttotal: 1.02s\tremaining: 265ms\n794:\tlearn: 0.2920314\ttotal: 1.02s\tremaining: 264ms\n795:\tlearn: 0.2919115\ttotal: 1.02s\tremaining: 262ms\n796:\tlearn: 0.2918313\ttotal: 1.02s\tremaining: 261ms\n797:\tlearn: 0.2918109\ttotal: 1.02s\tremaining: 260ms\n798:\tlearn: 0.2917842\ttotal: 1.03s\tremaining: 258ms\n799:\tlearn: 0.2917321\ttotal: 1.03s\tremaining: 257ms\n800:\tlearn: 0.2917267\ttotal: 1.03s\tremaining: 256ms\n801:\tlearn: 0.2916267\ttotal: 1.03s\tremaining: 254ms\n802:\tlearn: 0.2915169\ttotal: 1.03s\tremaining: 253ms\n803:\tlearn: 0.2914149\ttotal: 1.03s\tremaining: 251ms\n804:\tlearn: 0.2912905\ttotal: 1.03s\tremaining: 250ms\n805:\tlearn: 0.2911954\ttotal: 1.03s\tremaining: 249ms\n806:\tlearn: 0.2910159\ttotal: 1.03s\tremaining: 247ms\n807:\tlearn: 0.2909600\ttotal: 1.03s\tremaining: 246ms\n808:\tlearn: 0.2907126\ttotal: 1.04s\tremaining: 245ms\n809:\tlearn: 0.2905846\ttotal: 1.04s\tremaining: 243ms\n810:\tlearn: 0.2904460\ttotal: 1.04s\tremaining: 242ms\n811:\tlearn: 0.2902295\ttotal: 1.04s\tremaining: 241ms\n812:\tlearn: 0.2902002\ttotal: 1.04s\tremaining: 239ms\n813:\tlearn: 0.2901156\ttotal: 1.04s\tremaining: 238ms\n814:\tlearn: 0.2897777\ttotal: 1.04s\tremaining: 237ms\n815:\tlearn: 0.2895513\ttotal: 1.04s\tremaining: 235ms\n816:\tlearn: 0.2893932\ttotal: 1.04s\tremaining: 234ms\n817:\tlearn: 0.2892635\ttotal: 1.05s\tremaining: 233ms\n818:\tlearn: 0.2892567\ttotal: 1.05s\tremaining: 231ms\n819:\tlearn: 0.2891635\ttotal: 1.05s\tremaining: 230ms\n820:\tlearn: 0.2889824\ttotal: 1.05s\tremaining: 229ms\n821:\tlearn: 0.2888882\ttotal: 1.05s\tremaining: 227ms\n822:\tlearn: 0.2887538\ttotal: 1.05s\tremaining: 226ms\n823:\tlearn: 0.2887309\ttotal: 1.05s\tremaining: 225ms\n824:\tlearn: 0.2886909\ttotal: 1.05s\tremaining: 223ms\n825:\tlearn: 0.2886051\ttotal: 1.05s\tremaining: 222ms\n826:\tlearn: 0.2884566\ttotal: 1.05s\tremaining: 221ms\n827:\tlearn: 0.2883886\ttotal: 1.06s\tremaining: 219ms\n828:\tlearn: 0.2883519\ttotal: 1.06s\tremaining: 218ms\n829:\tlearn: 0.2883012\ttotal: 1.06s\tremaining: 217ms\n830:\tlearn: 0.2881807\ttotal: 1.06s\tremaining: 215ms\n831:\tlearn: 0.2879790\ttotal: 1.06s\tremaining: 214ms\n832:\tlearn: 0.2879141\ttotal: 1.06s\tremaining: 213ms\n833:\tlearn: 0.2877828\ttotal: 1.06s\tremaining: 212ms\n834:\tlearn: 0.2876530\ttotal: 1.06s\tremaining: 210ms\n835:\tlearn: 0.2875230\ttotal: 1.06s\tremaining: 209ms\n836:\tlearn: 0.2874667\ttotal: 1.06s\tremaining: 208ms\n837:\tlearn: 0.2873583\ttotal: 1.07s\tremaining: 206ms\n838:\tlearn: 0.2872765\ttotal: 1.07s\tremaining: 205ms\n839:\tlearn: 0.2871766\ttotal: 1.07s\tremaining: 204ms\n840:\tlearn: 0.2870927\ttotal: 1.07s\tremaining: 202ms\n841:\tlearn: 0.2868841\ttotal: 1.07s\tremaining: 201ms\n842:\tlearn: 0.2867475\ttotal: 1.07s\tremaining: 200ms\n843:\tlearn: 0.2865857\ttotal: 1.07s\tremaining: 198ms\n844:\tlearn: 0.2864620\ttotal: 1.07s\tremaining: 197ms\n845:\tlearn: 0.2863702\ttotal: 1.07s\tremaining: 196ms\n846:\tlearn: 0.2863060\ttotal: 1.08s\tremaining: 194ms\n847:\tlearn: 0.2861319\ttotal: 1.08s\tremaining: 193ms\n848:\tlearn: 0.2859687\ttotal: 1.08s\tremaining: 192ms\n849:\tlearn: 0.2859192\ttotal: 1.08s\tremaining: 191ms\n850:\tlearn: 0.2858723\ttotal: 1.08s\tremaining: 189ms\n851:\tlearn: 0.2857461\ttotal: 1.08s\tremaining: 188ms\n852:\tlearn: 0.2856195\ttotal: 1.08s\tremaining: 187ms\n853:\tlearn: 0.2855151\ttotal: 1.08s\tremaining: 185ms\n854:\tlearn: 0.2854102\ttotal: 1.08s\tremaining: 184ms\n855:\tlearn: 0.2850705\ttotal: 1.09s\tremaining: 184ms\n856:\tlearn: 0.2849586\ttotal: 1.09s\tremaining: 182ms\n857:\tlearn: 0.2849182\ttotal: 1.09s\tremaining: 181ms\n858:\tlearn: 0.2848186\ttotal: 1.09s\tremaining: 180ms\n859:\tlearn: 0.2847085\ttotal: 1.1s\tremaining: 179ms\n860:\tlearn: 0.2844813\ttotal: 1.1s\tremaining: 177ms\n861:\tlearn: 0.2843481\ttotal: 1.1s\tremaining: 176ms\n862:\tlearn: 0.2842809\ttotal: 1.1s\tremaining: 175ms\n863:\tlearn: 0.2841993\ttotal: 1.1s\tremaining: 173ms\n864:\tlearn: 0.2841305\ttotal: 1.1s\tremaining: 172ms\n865:\tlearn: 0.2840983\ttotal: 1.1s\tremaining: 171ms\n866:\tlearn: 0.2839467\ttotal: 1.1s\tremaining: 169ms\n867:\tlearn: 0.2839011\ttotal: 1.1s\tremaining: 168ms\n868:\tlearn: 0.2836860\ttotal: 1.11s\tremaining: 167ms\n869:\tlearn: 0.2835415\ttotal: 1.11s\tremaining: 165ms\n870:\tlearn: 0.2834433\ttotal: 1.11s\tremaining: 164ms\n871:\tlearn: 0.2832791\ttotal: 1.11s\tremaining: 163ms\n872:\tlearn: 0.2832336\ttotal: 1.11s\tremaining: 162ms\n873:\tlearn: 0.2832053\ttotal: 1.11s\tremaining: 160ms\n874:\tlearn: 0.2831394\ttotal: 1.11s\tremaining: 159ms\n875:\tlearn: 0.2831147\ttotal: 1.11s\tremaining: 158ms\n876:\tlearn: 0.2830919\ttotal: 1.11s\tremaining: 156ms\n877:\tlearn: 0.2827967\ttotal: 1.12s\tremaining: 155ms\n878:\tlearn: 0.2827482\ttotal: 1.12s\tremaining: 154ms\n879:\tlearn: 0.2826804\ttotal: 1.12s\tremaining: 153ms\n880:\tlearn: 0.2825520\ttotal: 1.12s\tremaining: 151ms\n881:\tlearn: 0.2824192\ttotal: 1.12s\tremaining: 150ms\n882:\tlearn: 0.2822529\ttotal: 1.12s\tremaining: 149ms\n883:\tlearn: 0.2820630\ttotal: 1.12s\tremaining: 147ms\n884:\tlearn: 0.2819429\ttotal: 1.12s\tremaining: 146ms\n885:\tlearn: 0.2818662\ttotal: 1.12s\tremaining: 145ms\n886:\tlearn: 0.2817817\ttotal: 1.13s\tremaining: 143ms\n887:\tlearn: 0.2816625\ttotal: 1.13s\tremaining: 142ms\n888:\tlearn: 0.2815752\ttotal: 1.13s\tremaining: 141ms\n889:\tlearn: 0.2814081\ttotal: 1.13s\tremaining: 140ms\n890:\tlearn: 0.2812818\ttotal: 1.13s\tremaining: 138ms\n891:\tlearn: 0.2812154\ttotal: 1.13s\tremaining: 137ms\n892:\tlearn: 0.2812012\ttotal: 1.13s\tremaining: 136ms\n893:\tlearn: 0.2811828\ttotal: 1.13s\tremaining: 134ms\n894:\tlearn: 0.2809813\ttotal: 1.13s\tremaining: 133ms\n895:\tlearn: 0.2809730\ttotal: 1.14s\tremaining: 132ms\n896:\tlearn: 0.2808703\ttotal: 1.14s\tremaining: 131ms\n897:\tlearn: 0.2807893\ttotal: 1.14s\tremaining: 129ms\n898:\tlearn: 0.2806923\ttotal: 1.14s\tremaining: 128ms\n899:\tlearn: 0.2804441\ttotal: 1.14s\tremaining: 127ms\n900:\tlearn: 0.2804097\ttotal: 1.14s\tremaining: 125ms\n901:\tlearn: 0.2802465\ttotal: 1.14s\tremaining: 124ms\n902:\tlearn: 0.2801508\ttotal: 1.14s\tremaining: 123ms\n903:\tlearn: 0.2799806\ttotal: 1.14s\tremaining: 121ms\n904:\tlearn: 0.2799360\ttotal: 1.15s\tremaining: 120ms\n905:\tlearn: 0.2797830\ttotal: 1.15s\tremaining: 119ms\n906:\tlearn: 0.2797458\ttotal: 1.15s\tremaining: 118ms\n907:\tlearn: 0.2795483\ttotal: 1.15s\tremaining: 116ms\n908:\tlearn: 0.2794912\ttotal: 1.15s\tremaining: 115ms\n909:\tlearn: 0.2794137\ttotal: 1.15s\tremaining: 114ms\n910:\tlearn: 0.2792612\ttotal: 1.15s\tremaining: 112ms\n911:\tlearn: 0.2789635\ttotal: 1.15s\tremaining: 111ms\n912:\tlearn: 0.2788063\ttotal: 1.15s\tremaining: 110ms\n913:\tlearn: 0.2787671\ttotal: 1.15s\tremaining: 109ms\n914:\tlearn: 0.2786349\ttotal: 1.16s\tremaining: 107ms\n915:\tlearn: 0.2786110\ttotal: 1.16s\tremaining: 106ms\n916:\tlearn: 0.2782884\ttotal: 1.16s\tremaining: 105ms\n917:\tlearn: 0.2779854\ttotal: 1.16s\tremaining: 104ms\n918:\tlearn: 0.2779460\ttotal: 1.16s\tremaining: 102ms\n919:\tlearn: 0.2778565\ttotal: 1.16s\tremaining: 101ms\n920:\tlearn: 0.2776486\ttotal: 1.16s\tremaining: 99.7ms\n921:\tlearn: 0.2774754\ttotal: 1.16s\tremaining: 98.4ms\n922:\tlearn: 0.2774232\ttotal: 1.16s\tremaining: 97.1ms\n923:\tlearn: 0.2773670\ttotal: 1.17s\tremaining: 95.8ms\n924:\tlearn: 0.2773079\ttotal: 1.17s\tremaining: 94.6ms\n925:\tlearn: 0.2771548\ttotal: 1.17s\tremaining: 93.3ms\n926:\tlearn: 0.2770875\ttotal: 1.17s\tremaining: 92ms\n927:\tlearn: 0.2770806\ttotal: 1.17s\tremaining: 90.7ms\n928:\tlearn: 0.2768749\ttotal: 1.17s\tremaining: 89.4ms\n929:\tlearn: 0.2767395\ttotal: 1.17s\tremaining: 88.2ms\n930:\tlearn: 0.2766388\ttotal: 1.17s\tremaining: 86.9ms\n931:\tlearn: 0.2765919\ttotal: 1.17s\tremaining: 85.6ms\n932:\tlearn: 0.2764302\ttotal: 1.17s\tremaining: 84.4ms\n933:\tlearn: 0.2763404\ttotal: 1.18s\tremaining: 83.1ms\n934:\tlearn: 0.2761870\ttotal: 1.18s\tremaining: 81.8ms\n935:\tlearn: 0.2761279\ttotal: 1.18s\tremaining: 80.5ms\n936:\tlearn: 0.2760800\ttotal: 1.18s\tremaining: 79.2ms\n937:\tlearn: 0.2760537\ttotal: 1.18s\tremaining: 78.3ms\n938:\tlearn: 0.2760148\ttotal: 1.19s\tremaining: 77ms\n939:\tlearn: 0.2759491\ttotal: 1.19s\tremaining: 75.8ms\n940:\tlearn: 0.2758501\ttotal: 1.19s\tremaining: 74.5ms\n941:\tlearn: 0.2757746\ttotal: 1.19s\tremaining: 73.2ms\n942:\tlearn: 0.2756906\ttotal: 1.19s\tremaining: 71.9ms\n943:\tlearn: 0.2755318\ttotal: 1.19s\tremaining: 70.7ms\n944:\tlearn: 0.2754883\ttotal: 1.19s\tremaining: 69.4ms\n945:\tlearn: 0.2753808\ttotal: 1.19s\tremaining: 68.1ms\n946:\tlearn: 0.2752927\ttotal: 1.19s\tremaining: 66.8ms\n947:\tlearn: 0.2752020\ttotal: 1.2s\tremaining: 65.6ms\n948:\tlearn: 0.2751207\ttotal: 1.2s\tremaining: 64.3ms\n949:\tlearn: 0.2750134\ttotal: 1.2s\tremaining: 63ms\n950:\tlearn: 0.2748952\ttotal: 1.2s\tremaining: 61.8ms\n951:\tlearn: 0.2748547\ttotal: 1.2s\tremaining: 60.5ms\n952:\tlearn: 0.2747930\ttotal: 1.2s\tremaining: 59.2ms\n953:\tlearn: 0.2746542\ttotal: 1.2s\tremaining: 57.9ms\n954:\tlearn: 0.2746166\ttotal: 1.2s\tremaining: 56.7ms\n955:\tlearn: 0.2745271\ttotal: 1.2s\tremaining: 55.4ms\n956:\tlearn: 0.2744325\ttotal: 1.2s\tremaining: 54.1ms\n957:\tlearn: 0.2742188\ttotal: 1.21s\tremaining: 52.9ms\n958:\tlearn: 0.2741044\ttotal: 1.21s\tremaining: 51.6ms\n959:\tlearn: 0.2740656\ttotal: 1.21s\tremaining: 50.3ms\n960:\tlearn: 0.2739924\ttotal: 1.21s\tremaining: 49.1ms\n961:\tlearn: 0.2739458\ttotal: 1.21s\tremaining: 47.8ms\n962:\tlearn: 0.2738413\ttotal: 1.21s\tremaining: 46.5ms\n963:\tlearn: 0.2735961\ttotal: 1.21s\tremaining: 45.3ms\n964:\tlearn: 0.2734737\ttotal: 1.21s\tremaining: 44ms\n965:\tlearn: 0.2733618\ttotal: 1.21s\tremaining: 42.7ms\n966:\tlearn: 0.2731183\ttotal: 1.22s\tremaining: 41.5ms\n967:\tlearn: 0.2729944\ttotal: 1.22s\tremaining: 40.3ms\n968:\tlearn: 0.2728904\ttotal: 1.22s\tremaining: 39.1ms\n969:\tlearn: 0.2728460\ttotal: 1.22s\tremaining: 37.8ms\n970:\tlearn: 0.2727237\ttotal: 1.22s\tremaining: 36.6ms\n971:\tlearn: 0.2724811\ttotal: 1.23s\tremaining: 35.3ms\n972:\tlearn: 0.2723979\ttotal: 1.23s\tremaining: 34ms\n973:\tlearn: 0.2722171\ttotal: 1.23s\tremaining: 32.8ms\n974:\tlearn: 0.2721510\ttotal: 1.23s\tremaining: 31.5ms\n975:\tlearn: 0.2721224\ttotal: 1.23s\tremaining: 30.2ms\n976:\tlearn: 0.2720862\ttotal: 1.23s\tremaining: 29ms\n977:\tlearn: 0.2719649\ttotal: 1.23s\tremaining: 27.7ms\n978:\tlearn: 0.2718899\ttotal: 1.23s\tremaining: 26.4ms\n979:\tlearn: 0.2716331\ttotal: 1.23s\tremaining: 25.2ms\n980:\tlearn: 0.2716078\ttotal: 1.24s\tremaining: 23.9ms\n981:\tlearn: 0.2714072\ttotal: 1.24s\tremaining: 22.7ms\n982:\tlearn: 0.2713826\ttotal: 1.24s\tremaining: 21.4ms\n983:\tlearn: 0.2713343\ttotal: 1.24s\tremaining: 20.1ms\n984:\tlearn: 0.2712556\ttotal: 1.24s\tremaining: 18.9ms\n985:\tlearn: 0.2711820\ttotal: 1.24s\tremaining: 17.6ms\n986:\tlearn: 0.2710319\ttotal: 1.24s\tremaining: 16.4ms\n987:\tlearn: 0.2708539\ttotal: 1.24s\tremaining: 15.1ms\n988:\tlearn: 0.2707600\ttotal: 1.24s\tremaining: 13.8ms\n989:\tlearn: 0.2707301\ttotal: 1.24s\tremaining: 12.6ms\n990:\tlearn: 0.2706593\ttotal: 1.25s\tremaining: 11.3ms\n991:\tlearn: 0.2705588\ttotal: 1.25s\tremaining: 10.1ms\n992:\tlearn: 0.2705347\ttotal: 1.25s\tremaining: 8.8ms\n993:\tlearn: 0.2705290\ttotal: 1.25s\tremaining: 7.54ms\n994:\tlearn: 0.2705235\ttotal: 1.25s\tremaining: 6.28ms\n995:\tlearn: 0.2705185\ttotal: 1.25s\tremaining: 5.02ms\n996:\tlearn: 0.2704577\ttotal: 1.25s\tremaining: 3.77ms\n997:\tlearn: 0.2702605\ttotal: 1.25s\tremaining: 2.51ms\n998:\tlearn: 0.2701054\ttotal: 1.25s\tremaining: 1.25ms\n999:\tlearn: 0.2697978\ttotal: 1.25s\tremaining: 0us\n",
          "output_type": "stream"
        },
        {
          "output_type": "execute_result",
          "execution_count": 33,
          "data": {
            "text/plain": "<pandas.io.formats.style.Styler at 0x7fd51e1316d0>",
            "text/html": "<style  type=\"text/css\" >\n#T_5dc98_row0_col1,#T_5dc98_row1_col1{\n            width:  10em;\n             height:  80%;\n            background:  linear-gradient(90deg,#5fba7d 83.2%, transparent 83.2%);\n        }#T_5dc98_row0_col2{\n            width:  10em;\n             height:  80%;\n            background:  linear-gradient(90deg,#5fba7d 81.5%, transparent 81.5%);\n        }#T_5dc98_row1_col2,#T_5dc98_row4_col1,#T_5dc98_row5_col1{\n            width:  10em;\n             height:  80%;\n            background:  linear-gradient(90deg,#5fba7d 81.0%, transparent 81.0%);\n        }#T_5dc98_row2_col1{\n            width:  10em;\n             height:  80%;\n            background:  linear-gradient(90deg,#5fba7d 82.1%, transparent 82.1%);\n        }#T_5dc98_row2_col2{\n            width:  10em;\n             height:  80%;\n            background:  linear-gradient(90deg,#5fba7d 80.9%, transparent 80.9%);\n        }#T_5dc98_row3_col1{\n            width:  10em;\n             height:  80%;\n            background:  linear-gradient(90deg,#5fba7d 81.6%, transparent 81.6%);\n        }#T_5dc98_row3_col2{\n            width:  10em;\n             height:  80%;\n            background:  linear-gradient(90deg,#5fba7d 80.7%, transparent 80.7%);\n        }#T_5dc98_row4_col2,#T_5dc98_row5_col2{\n            width:  10em;\n             height:  80%;\n            background:  linear-gradient(90deg,#5fba7d 78.3%, transparent 78.3%);\n        }#T_5dc98_row6_col1{\n            width:  10em;\n             height:  80%;\n            background:  linear-gradient(90deg,#5fba7d 79.9%, transparent 79.9%);\n        }#T_5dc98_row6_col2{\n            width:  10em;\n             height:  80%;\n            background:  linear-gradient(90deg,#5fba7d 78.8%, transparent 78.8%);\n        }#T_5dc98_row7_col1,#T_5dc98_row8_col1{\n            width:  10em;\n             height:  80%;\n            background:  linear-gradient(90deg,#5fba7d 79.3%, transparent 79.3%);\n        }#T_5dc98_row7_col2{\n            width:  10em;\n             height:  80%;\n            background:  linear-gradient(90deg,#5fba7d 78.1%, transparent 78.1%);\n        }#T_5dc98_row8_col2{\n            width:  10em;\n             height:  80%;\n            background:  linear-gradient(90deg,#5fba7d 78.9%, transparent 78.9%);\n        }</style><table id=\"T_5dc98_\" ><thead>    <tr>        <th class=\"blank level0\" ></th>        <th class=\"col_heading level0 col0\" >Model</th>        <th class=\"col_heading level0 col1\" >Accuracy</th>        <th class=\"col_heading level0 col2\" >Bal Acc.</th>        <th class=\"col_heading level0 col3\" >Time</th>    </tr></thead><tbody>\n                <tr>\n                        <th id=\"T_5dc98_level0_row0\" class=\"row_heading level0 row0\" >1</th>\n                        <td id=\"T_5dc98_row0_col0\" class=\"data row0 col0\" >Random Forest</td>\n                        <td id=\"T_5dc98_row0_col1\" class=\"data row0 col1\" >83.240223</td>\n                        <td id=\"T_5dc98_row0_col2\" class=\"data row0 col2\" >81.501976</td>\n                        <td id=\"T_5dc98_row0_col3\" class=\"data row0 col3\" >0.185694</td>\n            </tr>\n            <tr>\n                        <th id=\"T_5dc98_level0_row1\" class=\"row_heading level0 row1\" >2</th>\n                        <td id=\"T_5dc98_row1_col0\" class=\"data row1 col0\" >CatBoost</td>\n                        <td id=\"T_5dc98_row1_col1\" class=\"data row1 col1\" >83.240223</td>\n                        <td id=\"T_5dc98_row1_col2\" class=\"data row1 col2\" >80.961792</td>\n                        <td id=\"T_5dc98_row1_col3\" class=\"data row1 col3\" >1.434741</td>\n            </tr>\n            <tr>\n                        <th id=\"T_5dc98_level0_row2\" class=\"row_heading level0 row2\" >3</th>\n                        <td id=\"T_5dc98_row2_col0\" class=\"data row2 col0\" >Decision Tree</td>\n                        <td id=\"T_5dc98_row2_col1\" class=\"data row2 col1\" >82.122905</td>\n                        <td id=\"T_5dc98_row2_col2\" class=\"data row2 col2\" >80.862978</td>\n                        <td id=\"T_5dc98_row2_col3\" class=\"data row2 col3\" >0.016270</td>\n            </tr>\n            <tr>\n                        <th id=\"T_5dc98_level0_row3\" class=\"row_heading level0 row3\" >4</th>\n                        <td id=\"T_5dc98_row3_col0\" class=\"data row3 col0\" >XGBoost</td>\n                        <td id=\"T_5dc98_row3_col1\" class=\"data row3 col1\" >81.564246</td>\n                        <td id=\"T_5dc98_row3_col2\" class=\"data row3 col2\" >80.678524</td>\n                        <td id=\"T_5dc98_row3_col3\" class=\"data row3 col3\" >0.115649</td>\n            </tr>\n            <tr>\n                        <th id=\"T_5dc98_level0_row4\" class=\"row_heading level0 row4\" >5</th>\n                        <td id=\"T_5dc98_row4_col0\" class=\"data row4 col0\" >Skl GBM</td>\n                        <td id=\"T_5dc98_row4_col1\" class=\"data row4 col1\" >81.005587</td>\n                        <td id=\"T_5dc98_row4_col2\" class=\"data row4 col2\" >78.333333</td>\n                        <td id=\"T_5dc98_row4_col3\" class=\"data row4 col3\" >0.120035</td>\n            </tr>\n            <tr>\n                        <th id=\"T_5dc98_level0_row5\" class=\"row_heading level0 row5\" >6</th>\n                        <td id=\"T_5dc98_row5_col0\" class=\"data row5 col0\" >Skl HistGBM</td>\n                        <td id=\"T_5dc98_row5_col1\" class=\"data row5 col1\" >81.005587</td>\n                        <td id=\"T_5dc98_row5_col2\" class=\"data row5 col2\" >78.333333</td>\n                        <td id=\"T_5dc98_row5_col3\" class=\"data row5 col3\" >0.114069</td>\n            </tr>\n            <tr>\n                        <th id=\"T_5dc98_level0_row6\" class=\"row_heading level0 row6\" >7</th>\n                        <td id=\"T_5dc98_row6_col0\" class=\"data row6 col0\" >LightGBM</td>\n                        <td id=\"T_5dc98_row6_col1\" class=\"data row6 col1\" >79.888268</td>\n                        <td id=\"T_5dc98_row6_col2\" class=\"data row6 col2\" >78.774704</td>\n                        <td id=\"T_5dc98_row6_col3\" class=\"data row6 col3\" >0.072389</td>\n            </tr>\n            <tr>\n                        <th id=\"T_5dc98_level0_row7\" class=\"row_heading level0 row7\" >8</th>\n                        <td id=\"T_5dc98_row7_col0\" class=\"data row7 col0\" >Extra Trees</td>\n                        <td id=\"T_5dc98_row7_col1\" class=\"data row7 col1\" >79.329609</td>\n                        <td id=\"T_5dc98_row7_col2\" class=\"data row7 col2\" >78.050066</td>\n                        <td id=\"T_5dc98_row7_col3\" class=\"data row7 col3\" >0.145281</td>\n            </tr>\n            <tr>\n                        <th id=\"T_5dc98_level0_row8\" class=\"row_heading level0 row8\" >9</th>\n                        <td id=\"T_5dc98_row8_col0\" class=\"data row8 col0\" >AdaBoost</td>\n                        <td id=\"T_5dc98_row8_col1\" class=\"data row8 col1\" >79.329609</td>\n                        <td id=\"T_5dc98_row8_col2\" class=\"data row8 col2\" >78.860343</td>\n                        <td id=\"T_5dc98_row8_col3\" class=\"data row8 col3\" >0.090377</td>\n            </tr>\n    </tbody></table>"
          },
          "metadata": {}
        }
      ]
    },
    {
      "cell_type": "code",
      "metadata": {
        "deletable": false,
        "editable": false,
        "nbgrader": {
          "cell_type": "code",
          "checksum": "dde6f91a6185745a813882e0c1f997bc",
          "grade": true,
          "grade_id": "cell-af27b33fe88ad384",
          "locked": true,
          "points": 3,
          "schema_version": 3,
          "solution": false,
          "task": false
        },
        "cell_id": "00033-724806f6-10a8-4d81-9bab-20d70b8ea956",
        "deepnote_to_be_reexecuted": false,
        "source_hash": "c344ef58",
        "execution_start": 1620057619581,
        "execution_millis": 2,
        "deepnote_cell_type": "code"
      },
      "source": "assert results_ord[\"Accuracy\"].min() > 75\nassert results_ord[\"Bal Acc.\"].min() > 75\nassert len(results_ord) == 9",
      "execution_count": null,
      "outputs": []
    },
    {
      "cell_type": "markdown",
      "source": "# Exercise 6 (3pts):\nDefine a 10 Fold cross validation strategy with:\n- With stratification\n- shuffle=True\n- random_state=0\n\nAnd train all the models in a for loop.\n\nTip you can use **[cross_val_predict](https://scikit-learn.org/stable/modules/generated/sklearn.model_selection.cross_val_predict.html)** for both training and predict with ",
      "metadata": {
        "cell_id": "00034-134d7703-fa00-4953-aaa8-a1f3b55db90f",
        "deepnote_cell_type": "markdown"
      }
    },
    {
      "cell_type": "code",
      "metadata": {
        "deletable": false,
        "nbgrader": {
          "cell_type": "code",
          "checksum": "b9238f7916249fc81179a78b5492e5d4",
          "grade": false,
          "grade_id": "cell-37bf16dc25b43732",
          "locked": false,
          "schema_version": 3,
          "solution": true,
          "task": false
        },
        "cell_id": "00035-92d28916-94c6-46fa-8e88-95517d5c6f87",
        "deepnote_to_be_reexecuted": false,
        "source_hash": "401d260",
        "execution_start": 1620059047682,
        "execution_millis": 24212,
        "deepnote_cell_type": "code"
      },
      "source": "from sklearn.model_selection import cross_val_predict\n\nskf = model_selection.StratifiedKFold(\n    n_splits= 10,\n    shuffle=True,\n    random_state = 0\n)\n\n# YOUR CODE HERE\n#raise NotImplementedError()\n\n\nresults = pd.DataFrame({'Model': [], 'Accuracy': [], 'Bal Acc.': [], 'Time': []})\n\n\nfor model_name, model in tree_classifiers.items():\n\n    start_time = time.time()\n    #model.fit(x_train, y_train) # model is already trained?\n    \n    \n    pred = cross_val_predict(model, x, y, cv=skf) #this is the prediction\n    #pred = model.predict(x_val) # PASSES ASSERT BUT WRONG!\n    #last changed by Daniel\n    total_time = time.time() - start_time\n\n    results = results.append({\"Model\":    model_name,\n                              \"Accuracy\": metrics.accuracy_score(y, pred)*100,\n                              \"Bal Acc.\": metrics.balanced_accuracy_score(y, pred)*100,\n                              \"Time\":     total_time},\n                              ignore_index=True)\n\n                              \n\n\n# YOUR CODE HERE\n#raise NotImplementedError()\n\n\nresults_ord = results.sort_values(by=['Accuracy'], ascending=False, ignore_index=True)\nresults_ord.index += 1 \nresults_ord.style.bar(subset=['Accuracy', 'Bal Acc.'], vmin=0, vmax=100, color='#5fba7d')",
      "execution_count": null,
      "outputs": [
        {
          "name": "stderr",
          "text": "1:\tlearn: 0.6801685\ttotal: 2.34ms\tremaining: 1.17s\n2:\tlearn: 0.6749165\ttotal: 3.42ms\tremaining: 1.14s\n3:\tlearn: 0.6714911\ttotal: 4.03ms\tremaining: 1s\n4:\tlearn: 0.6654880\ttotal: 5.2ms\tremaining: 1.03s\n5:\tlearn: 0.6588881\ttotal: 6.36ms\tremaining: 1.05s\n6:\tlearn: 0.6530269\ttotal: 7.72ms\tremaining: 1.09s\n7:\tlearn: 0.6476230\ttotal: 9.47ms\tremaining: 1.17s\n8:\tlearn: 0.6431961\ttotal: 11.1ms\tremaining: 1.23s\n9:\tlearn: 0.6373725\ttotal: 12.6ms\tremaining: 1.24s\n10:\tlearn: 0.6319217\ttotal: 13.9ms\tremaining: 1.25s\n11:\tlearn: 0.6270857\ttotal: 15.8ms\tremaining: 1.3s\n12:\tlearn: 0.6240288\ttotal: 16.6ms\tremaining: 1.26s\n13:\tlearn: 0.6192589\ttotal: 17.4ms\tremaining: 1.23s\n14:\tlearn: 0.6143890\ttotal: 19ms\tremaining: 1.24s\n15:\tlearn: 0.6107632\ttotal: 19.7ms\tremaining: 1.21s\n16:\tlearn: 0.6054662\ttotal: 20.9ms\tremaining: 1.21s\n17:\tlearn: 0.6005415\ttotal: 22.2ms\tremaining: 1.21s\n18:\tlearn: 0.5969288\ttotal: 23.2ms\tremaining: 1.2s\n19:\tlearn: 0.5929768\ttotal: 24.4ms\tremaining: 1.19s\n20:\tlearn: 0.5883159\ttotal: 25.7ms\tremaining: 1.2s\n21:\tlearn: 0.5840588\ttotal: 27ms\tremaining: 1.2s\n22:\tlearn: 0.5801668\ttotal: 28ms\tremaining: 1.19s\n23:\tlearn: 0.5759941\ttotal: 29.3ms\tremaining: 1.19s\n24:\tlearn: 0.5725354\ttotal: 30.6ms\tremaining: 1.19s\n25:\tlearn: 0.5681263\ttotal: 31.9ms\tremaining: 1.19s\n26:\tlearn: 0.5645105\ttotal: 32.9ms\tremaining: 1.19s\n27:\tlearn: 0.5609129\ttotal: 34.1ms\tremaining: 1.18s\n28:\tlearn: 0.5573882\ttotal: 35.2ms\tremaining: 1.18s\n29:\tlearn: 0.5542700\ttotal: 36ms\tremaining: 1.17s\n30:\tlearn: 0.5509969\ttotal: 37.3ms\tremaining: 1.17s\n31:\tlearn: 0.5480422\ttotal: 38.1ms\tremaining: 1.15s\n32:\tlearn: 0.5461340\ttotal: 38.7ms\tremaining: 1.13s\n33:\tlearn: 0.5437289\ttotal: 39.3ms\tremaining: 1.12s\n34:\tlearn: 0.5406813\ttotal: 40.2ms\tremaining: 1.11s\n35:\tlearn: 0.5379236\ttotal: 41.4ms\tremaining: 1.11s\n36:\tlearn: 0.5358525\ttotal: 42.4ms\tremaining: 1.1s\n37:\tlearn: 0.5335983\ttotal: 43.5ms\tremaining: 1.1s\n38:\tlearn: 0.5305024\ttotal: 44.7ms\tremaining: 1.1s\n39:\tlearn: 0.5287993\ttotal: 45.3ms\tremaining: 1.09s\n40:\tlearn: 0.5257128\ttotal: 46.2ms\tremaining: 1.08s\n41:\tlearn: 0.5221694\ttotal: 47.2ms\tremaining: 1.08s\n42:\tlearn: 0.5192198\ttotal: 48.3ms\tremaining: 1.07s\n43:\tlearn: 0.5166537\ttotal: 49.4ms\tremaining: 1.07s\n44:\tlearn: 0.5139060\ttotal: 50.5ms\tremaining: 1.07s\n45:\tlearn: 0.5109310\ttotal: 51.6ms\tremaining: 1.07s\n46:\tlearn: 0.5085691\ttotal: 52.4ms\tremaining: 1.06s\n47:\tlearn: 0.5062743\ttotal: 53.5ms\tremaining: 1.06s\n48:\tlearn: 0.5040011\ttotal: 54.6ms\tremaining: 1.06s\n49:\tlearn: 0.5017018\ttotal: 55.8ms\tremaining: 1.06s\n50:\tlearn: 0.4993701\ttotal: 56.9ms\tremaining: 1.06s\n51:\tlearn: 0.4974406\ttotal: 57.8ms\tremaining: 1.05s\n52:\tlearn: 0.4947412\ttotal: 58.9ms\tremaining: 1.05s\n53:\tlearn: 0.4926783\ttotal: 60ms\tremaining: 1.05s\n54:\tlearn: 0.4905215\ttotal: 61.1ms\tremaining: 1.05s\n55:\tlearn: 0.4888608\ttotal: 61.9ms\tremaining: 1.04s\n56:\tlearn: 0.4866705\ttotal: 63ms\tremaining: 1.04s\n57:\tlearn: 0.4851260\ttotal: 63.9ms\tremaining: 1.04s\n58:\tlearn: 0.4832466\ttotal: 65ms\tremaining: 1.04s\n59:\tlearn: 0.4811948\ttotal: 66.1ms\tremaining: 1.03s\n60:\tlearn: 0.4790436\ttotal: 67.3ms\tremaining: 1.03s\n61:\tlearn: 0.4768348\ttotal: 68.3ms\tremaining: 1.03s\n62:\tlearn: 0.4752750\ttotal: 69.4ms\tremaining: 1.03s\n63:\tlearn: 0.4737542\ttotal: 70.2ms\tremaining: 1.03s\n64:\tlearn: 0.4716107\ttotal: 71.4ms\tremaining: 1.03s\n65:\tlearn: 0.4699787\ttotal: 72.5ms\tremaining: 1.03s\n66:\tlearn: 0.4685243\ttotal: 73.6ms\tremaining: 1.02s\n67:\tlearn: 0.4668301\ttotal: 74.7ms\tremaining: 1.02s\n68:\tlearn: 0.4649910\ttotal: 75.8ms\tremaining: 1.02s\n69:\tlearn: 0.4632714\ttotal: 76.9ms\tremaining: 1.02s\n70:\tlearn: 0.4616162\ttotal: 78.1ms\tremaining: 1.02s\n71:\tlearn: 0.4606385\ttotal: 79.2ms\tremaining: 1.02s\n72:\tlearn: 0.4591586\ttotal: 80.3ms\tremaining: 1.02s\n73:\tlearn: 0.4576720\ttotal: 81.5ms\tremaining: 1.02s\n74:\tlearn: 0.4561461\ttotal: 82.6ms\tremaining: 1.02s\n75:\tlearn: 0.4552500\ttotal: 83.6ms\tremaining: 1.02s\n76:\tlearn: 0.4540425\ttotal: 84.7ms\tremaining: 1.01s\n77:\tlearn: 0.4526247\ttotal: 85.8ms\tremaining: 1.01s\n78:\tlearn: 0.4519865\ttotal: 86.5ms\tremaining: 1.01s\n79:\tlearn: 0.4505152\ttotal: 88.6ms\tremaining: 1.02s\n80:\tlearn: 0.4490656\ttotal: 89.8ms\tremaining: 1.02s\n81:\tlearn: 0.4481568\ttotal: 91ms\tremaining: 1.02s\n82:\tlearn: 0.4468470\ttotal: 92.1ms\tremaining: 1.02s\n83:\tlearn: 0.4452797\ttotal: 93.2ms\tremaining: 1.02s\n84:\tlearn: 0.4437386\ttotal: 94.4ms\tremaining: 1.01s\n85:\tlearn: 0.4432281\ttotal: 95.1ms\tremaining: 1.01s\n86:\tlearn: 0.4423789\ttotal: 96.3ms\tremaining: 1.01s\n87:\tlearn: 0.4413915\ttotal: 97.5ms\tremaining: 1.01s\n88:\tlearn: 0.4403809\ttotal: 98.5ms\tremaining: 1.01s\n89:\tlearn: 0.4393533\ttotal: 99.7ms\tremaining: 1.01s\n90:\tlearn: 0.4380097\ttotal: 101ms\tremaining: 1.01s\n91:\tlearn: 0.4368234\ttotal: 102ms\tremaining: 1.01s\n92:\tlearn: 0.4359839\ttotal: 103ms\tremaining: 1s\n93:\tlearn: 0.4347786\ttotal: 104ms\tremaining: 1s\n94:\tlearn: 0.4337506\ttotal: 105ms\tremaining: 1s\n95:\tlearn: 0.4328934\ttotal: 107ms\tremaining: 1s\n96:\tlearn: 0.4319087\ttotal: 108ms\tremaining: 1s\n97:\tlearn: 0.4309192\ttotal: 109ms\tremaining: 1s\n98:\tlearn: 0.4299356\ttotal: 110ms\tremaining: 1s\n99:\tlearn: 0.4288580\ttotal: 111ms\tremaining: 1s\n100:\tlearn: 0.4280623\ttotal: 112ms\tremaining: 997ms\n101:\tlearn: 0.4266920\ttotal: 113ms\tremaining: 996ms\n102:\tlearn: 0.4253378\ttotal: 114ms\tremaining: 995ms\n103:\tlearn: 0.4244802\ttotal: 115ms\tremaining: 992ms\n104:\tlearn: 0.4237703\ttotal: 116ms\tremaining: 991ms\n105:\tlearn: 0.4230255\ttotal: 117ms\tremaining: 989ms\n106:\tlearn: 0.4221179\ttotal: 118ms\tremaining: 989ms\n107:\tlearn: 0.4212747\ttotal: 120ms\tremaining: 988ms\n108:\tlearn: 0.4204851\ttotal: 121ms\tremaining: 987ms\n109:\tlearn: 0.4201368\ttotal: 121ms\tremaining: 983ms\n110:\tlearn: 0.4192694\ttotal: 123ms\tremaining: 982ms\n111:\tlearn: 0.4183372\ttotal: 124ms\tremaining: 981ms\n112:\tlearn: 0.4178152\ttotal: 125ms\tremaining: 978ms\n113:\tlearn: 0.4169041\ttotal: 126ms\tremaining: 977ms\n114:\tlearn: 0.4159754\ttotal: 127ms\tremaining: 976ms\n115:\tlearn: 0.4151133\ttotal: 128ms\tremaining: 976ms\n116:\tlearn: 0.4144551\ttotal: 129ms\tremaining: 975ms\n117:\tlearn: 0.4140278\ttotal: 130ms\tremaining: 971ms\n118:\tlearn: 0.4130771\ttotal: 131ms\tremaining: 970ms\n119:\tlearn: 0.4124053\ttotal: 132ms\tremaining: 969ms\n120:\tlearn: 0.4117783\ttotal: 133ms\tremaining: 969ms\n121:\tlearn: 0.4110727\ttotal: 135ms\tremaining: 968ms\n122:\tlearn: 0.4103683\ttotal: 136ms\tremaining: 967ms\n123:\tlearn: 0.4095981\ttotal: 137ms\tremaining: 967ms\n124:\tlearn: 0.4091583\ttotal: 138ms\tremaining: 966ms\n125:\tlearn: 0.4082452\ttotal: 139ms\tremaining: 965ms\n126:\tlearn: 0.4078206\ttotal: 140ms\tremaining: 962ms\n127:\tlearn: 0.4070461\ttotal: 141ms\tremaining: 960ms\n128:\tlearn: 0.4067575\ttotal: 142ms\tremaining: 958ms\n129:\tlearn: 0.4065631\ttotal: 142ms\tremaining: 953ms\n130:\tlearn: 0.4059127\ttotal: 144ms\tremaining: 952ms\n131:\tlearn: 0.4052195\ttotal: 145ms\tremaining: 951ms\n132:\tlearn: 0.4044659\ttotal: 146ms\tremaining: 950ms\n133:\tlearn: 0.4042875\ttotal: 146ms\tremaining: 946ms\n134:\tlearn: 0.4037158\ttotal: 147ms\tremaining: 944ms\n135:\tlearn: 0.4029239\ttotal: 149ms\tremaining: 944ms\n136:\tlearn: 0.4022366\ttotal: 150ms\tremaining: 942ms\n137:\tlearn: 0.4019317\ttotal: 151ms\tremaining: 941ms\n138:\tlearn: 0.4012105\ttotal: 152ms\tremaining: 940ms\n139:\tlearn: 0.4010534\ttotal: 152ms\tremaining: 936ms\n140:\tlearn: 0.4002755\ttotal: 153ms\tremaining: 935ms\n141:\tlearn: 0.3996891\ttotal: 155ms\tremaining: 934ms\n142:\tlearn: 0.3991260\ttotal: 156ms\tremaining: 934ms\n143:\tlearn: 0.3985899\ttotal: 157ms\tremaining: 933ms\n144:\tlearn: 0.3981125\ttotal: 158ms\tremaining: 932ms\n145:\tlearn: 0.3975134\ttotal: 159ms\tremaining: 930ms\n146:\tlearn: 0.3970651\ttotal: 160ms\tremaining: 929ms\n147:\tlearn: 0.3969039\ttotal: 161ms\tremaining: 926ms\n148:\tlearn: 0.3962953\ttotal: 162ms\tremaining: 924ms\n149:\tlearn: 0.3959573\ttotal: 163ms\tremaining: 924ms\n150:\tlearn: 0.3952105\ttotal: 164ms\tremaining: 923ms\n151:\tlearn: 0.3948639\ttotal: 165ms\tremaining: 922ms\n152:\tlearn: 0.3944822\ttotal: 166ms\tremaining: 921ms\n153:\tlearn: 0.3940886\ttotal: 168ms\tremaining: 920ms\n154:\tlearn: 0.3934587\ttotal: 169ms\tremaining: 919ms\n155:\tlearn: 0.3929995\ttotal: 170ms\tremaining: 919ms\n156:\tlearn: 0.3925198\ttotal: 171ms\tremaining: 918ms\n157:\tlearn: 0.3919371\ttotal: 172ms\tremaining: 917ms\n158:\tlearn: 0.3915913\ttotal: 173ms\tremaining: 916ms\n159:\tlearn: 0.3909541\ttotal: 174ms\tremaining: 916ms\n160:\tlearn: 0.3904235\ttotal: 175ms\tremaining: 914ms\n161:\tlearn: 0.3902654\ttotal: 183ms\tremaining: 948ms\n162:\tlearn: 0.3898334\ttotal: 184ms\tremaining: 947ms\n163:\tlearn: 0.3896620\ttotal: 185ms\tremaining: 944ms\n164:\tlearn: 0.3890706\ttotal: 187ms\tremaining: 944ms\n165:\tlearn: 0.3888446\ttotal: 187ms\tremaining: 941ms\n166:\tlearn: 0.3884345\ttotal: 188ms\tremaining: 940ms\n167:\tlearn: 0.3880859\ttotal: 190ms\tremaining: 939ms\n168:\tlearn: 0.3878225\ttotal: 191ms\tremaining: 937ms\n169:\tlearn: 0.3873304\ttotal: 192ms\tremaining: 936ms\n170:\tlearn: 0.3869250\ttotal: 193ms\tremaining: 935ms\n171:\tlearn: 0.3865225\ttotal: 194ms\tremaining: 933ms\n172:\tlearn: 0.3862656\ttotal: 195ms\tremaining: 932ms\n173:\tlearn: 0.3857801\ttotal: 196ms\tremaining: 931ms\n174:\tlearn: 0.3856075\ttotal: 197ms\tremaining: 928ms\n175:\tlearn: 0.3851869\ttotal: 198ms\tremaining: 927ms\n176:\tlearn: 0.3847980\ttotal: 199ms\tremaining: 925ms\n177:\tlearn: 0.3844518\ttotal: 200ms\tremaining: 924ms\n178:\tlearn: 0.3840621\ttotal: 201ms\tremaining: 923ms\n179:\tlearn: 0.3836799\ttotal: 202ms\tremaining: 922ms\n180:\tlearn: 0.3832014\ttotal: 204ms\tremaining: 923ms\n181:\tlearn: 0.3828807\ttotal: 205ms\tremaining: 923ms\n182:\tlearn: 0.3824274\ttotal: 207ms\tremaining: 923ms\n183:\tlearn: 0.3820920\ttotal: 208ms\tremaining: 921ms\n184:\tlearn: 0.3817913\ttotal: 209ms\tremaining: 920ms\n185:\tlearn: 0.3814048\ttotal: 210ms\tremaining: 919ms\n186:\tlearn: 0.3810463\ttotal: 211ms\tremaining: 918ms\n187:\tlearn: 0.3807860\ttotal: 212ms\tremaining: 917ms\n188:\tlearn: 0.3803048\ttotal: 213ms\tremaining: 915ms\n189:\tlearn: 0.3800779\ttotal: 214ms\tremaining: 914ms\n190:\tlearn: 0.3796832\ttotal: 216ms\tremaining: 913ms\n191:\tlearn: 0.3793307\ttotal: 217ms\tremaining: 913ms\n192:\tlearn: 0.3787147\ttotal: 218ms\tremaining: 912ms\n193:\tlearn: 0.3783035\ttotal: 219ms\tremaining: 911ms\n194:\tlearn: 0.3779074\ttotal: 221ms\tremaining: 911ms\n195:\tlearn: 0.3775779\ttotal: 222ms\tremaining: 910ms\n196:\tlearn: 0.3770645\ttotal: 223ms\tremaining: 909ms\n197:\tlearn: 0.3768882\ttotal: 224ms\tremaining: 908ms\n198:\tlearn: 0.3764006\ttotal: 225ms\tremaining: 906ms\n199:\tlearn: 0.3761603\ttotal: 226ms\tremaining: 905ms\n200:\tlearn: 0.3761105\ttotal: 227ms\tremaining: 902ms\n201:\tlearn: 0.3757586\ttotal: 228ms\tremaining: 901ms\n202:\tlearn: 0.3754935\ttotal: 229ms\tremaining: 900ms\n203:\tlearn: 0.3751286\ttotal: 230ms\tremaining: 899ms\n204:\tlearn: 0.3748263\ttotal: 231ms\tremaining: 897ms\n205:\tlearn: 0.3744655\ttotal: 232ms\tremaining: 896ms\n206:\tlearn: 0.3742075\ttotal: 234ms\tremaining: 895ms\n207:\tlearn: 0.3741051\ttotal: 234ms\tremaining: 893ms\n208:\tlearn: 0.3739090\ttotal: 236ms\tremaining: 891ms\n209:\tlearn: 0.3736754\ttotal: 236ms\tremaining: 889ms\n210:\tlearn: 0.3733917\ttotal: 237ms\tremaining: 888ms\n211:\tlearn: 0.3732008\ttotal: 239ms\tremaining: 887ms\n212:\tlearn: 0.3728346\ttotal: 240ms\tremaining: 886ms\n213:\tlearn: 0.3725213\ttotal: 241ms\tremaining: 885ms\n214:\tlearn: 0.3722372\ttotal: 242ms\tremaining: 884ms\n215:\tlearn: 0.3719756\ttotal: 243ms\tremaining: 883ms\n216:\tlearn: 0.3717306\ttotal: 244ms\tremaining: 882ms\n217:\tlearn: 0.3714433\ttotal: 246ms\tremaining: 881ms\n218:\tlearn: 0.3711175\ttotal: 247ms\tremaining: 880ms\n219:\tlearn: 0.3707986\ttotal: 248ms\tremaining: 879ms\n220:\tlearn: 0.3704900\ttotal: 249ms\tremaining: 877ms\n221:\tlearn: 0.3702582\ttotal: 250ms\tremaining: 876ms\n222:\tlearn: 0.3701239\ttotal: 251ms\tremaining: 875ms\n223:\tlearn: 0.3698044\ttotal: 252ms\tremaining: 874ms\n224:\tlearn: 0.3695902\ttotal: 253ms\tremaining: 873ms\n225:\tlearn: 0.3691057\ttotal: 254ms\tremaining: 871ms\n226:\tlearn: 0.3688190\ttotal: 256ms\tremaining: 870ms\n227:\tlearn: 0.3683913\ttotal: 257ms\tremaining: 869ms\n228:\tlearn: 0.3683153\ttotal: 258ms\tremaining: 867ms\n229:\tlearn: 0.3680367\ttotal: 259ms\tremaining: 866ms\n230:\tlearn: 0.3677228\ttotal: 260ms\tremaining: 864ms\n231:\tlearn: 0.3673620\ttotal: 261ms\tremaining: 863ms\n232:\tlearn: 0.3671025\ttotal: 262ms\tremaining: 862ms\n233:\tlearn: 0.3667669\ttotal: 263ms\tremaining: 861ms\n234:\tlearn: 0.3665575\ttotal: 264ms\tremaining: 860ms\n235:\tlearn: 0.3662669\ttotal: 265ms\tremaining: 859ms\n236:\tlearn: 0.3659672\ttotal: 266ms\tremaining: 858ms\n237:\tlearn: 0.3658292\ttotal: 267ms\tremaining: 855ms\n238:\tlearn: 0.3657003\ttotal: 268ms\tremaining: 854ms\n239:\tlearn: 0.3654665\ttotal: 276ms\tremaining: 874ms\n240:\tlearn: 0.3651663\ttotal: 277ms\tremaining: 873ms\n241:\tlearn: 0.3649500\ttotal: 278ms\tremaining: 871ms\n242:\tlearn: 0.3648122\ttotal: 279ms\tremaining: 870ms\n243:\tlearn: 0.3646935\ttotal: 280ms\tremaining: 868ms\n244:\tlearn: 0.3645482\ttotal: 282ms\tremaining: 868ms\n245:\tlearn: 0.3640706\ttotal: 283ms\tremaining: 868ms\n246:\tlearn: 0.3638460\ttotal: 285ms\tremaining: 868ms\n247:\tlearn: 0.3636139\ttotal: 292ms\tremaining: 885ms\n248:\tlearn: 0.3632487\ttotal: 293ms\tremaining: 884ms\n249:\tlearn: 0.3630485\ttotal: 294ms\tremaining: 883ms\n250:\tlearn: 0.3629414\ttotal: 295ms\tremaining: 881ms\n251:\tlearn: 0.3627597\ttotal: 297ms\tremaining: 880ms\n252:\tlearn: 0.3625577\ttotal: 298ms\tremaining: 879ms\n253:\tlearn: 0.3624987\ttotal: 299ms\tremaining: 878ms\n254:\tlearn: 0.3622814\ttotal: 300ms\tremaining: 877ms\n255:\tlearn: 0.3620807\ttotal: 302ms\tremaining: 876ms\n256:\tlearn: 0.3618799\ttotal: 303ms\tremaining: 875ms\n257:\tlearn: 0.3616346\ttotal: 304ms\tremaining: 875ms\n258:\tlearn: 0.3615475\ttotal: 305ms\tremaining: 874ms\n259:\tlearn: 0.3613331\ttotal: 307ms\tremaining: 873ms\n260:\tlearn: 0.3612473\ttotal: 308ms\tremaining: 872ms\n261:\tlearn: 0.3609535\ttotal: 309ms\tremaining: 871ms\n262:\tlearn: 0.3608764\ttotal: 310ms\tremaining: 869ms\n263:\tlearn: 0.3606042\ttotal: 312ms\tremaining: 869ms\n264:\tlearn: 0.3603015\ttotal: 313ms\tremaining: 868ms\n265:\tlearn: 0.3601118\ttotal: 314ms\tremaining: 867ms\n266:\tlearn: 0.3599963\ttotal: 316ms\tremaining: 867ms\n267:\tlearn: 0.3596859\ttotal: 317ms\tremaining: 866ms\n268:\tlearn: 0.3594385\ttotal: 318ms\tremaining: 865ms\n269:\tlearn: 0.3592835\ttotal: 320ms\tremaining: 864ms\n270:\tlearn: 0.3591389\ttotal: 321ms\tremaining: 864ms\n271:\tlearn: 0.3589505\ttotal: 322ms\tremaining: 863ms\n272:\tlearn: 0.3587448\ttotal: 324ms\tremaining: 862ms\n273:\tlearn: 0.3585826\ttotal: 325ms\tremaining: 861ms\n274:\tlearn: 0.3584558\ttotal: 327ms\tremaining: 861ms\n275:\tlearn: 0.3581507\ttotal: 328ms\tremaining: 860ms\n276:\tlearn: 0.3578748\ttotal: 329ms\tremaining: 859ms\n277:\tlearn: 0.3576453\ttotal: 335ms\tremaining: 870ms\n278:\tlearn: 0.3573832\ttotal: 336ms\tremaining: 869ms\n279:\tlearn: 0.3573378\ttotal: 337ms\tremaining: 867ms\n280:\tlearn: 0.3570986\ttotal: 339ms\tremaining: 866ms\n281:\tlearn: 0.3569619\ttotal: 340ms\tremaining: 865ms\n282:\tlearn: 0.3568259\ttotal: 342ms\tremaining: 866ms\n283:\tlearn: 0.3567769\ttotal: 343ms\tremaining: 865ms\n284:\tlearn: 0.3564681\ttotal: 344ms\tremaining: 864ms\n285:\tlearn: 0.3563865\ttotal: 346ms\tremaining: 863ms\n286:\tlearn: 0.3562255\ttotal: 347ms\tremaining: 862ms\n287:\tlearn: 0.3559544\ttotal: 348ms\tremaining: 861ms\n288:\tlearn: 0.3557972\ttotal: 350ms\tremaining: 861ms\n289:\tlearn: 0.3556217\ttotal: 351ms\tremaining: 859ms\n290:\tlearn: 0.3554093\ttotal: 352ms\tremaining: 859ms\n291:\tlearn: 0.3552795\ttotal: 354ms\tremaining: 859ms\n292:\tlearn: 0.3551643\ttotal: 355ms\tremaining: 858ms\n293:\tlearn: 0.3549684\ttotal: 357ms\tremaining: 857ms\n294:\tlearn: 0.3546621\ttotal: 358ms\tremaining: 855ms\n295:\tlearn: 0.3544375\ttotal: 360ms\tremaining: 857ms\n296:\tlearn: 0.3542978\ttotal: 362ms\tremaining: 856ms\n297:\tlearn: 0.3540783\ttotal: 364ms\tremaining: 859ms\n298:\tlearn: 0.3539281\ttotal: 367ms\tremaining: 861ms\n299:\tlearn: 0.3537628\ttotal: 370ms\tremaining: 863ms\n300:\tlearn: 0.3537191\ttotal: 371ms\tremaining: 862ms\n301:\tlearn: 0.3536166\ttotal: 372ms\tremaining: 860ms\n302:\tlearn: 0.3533431\ttotal: 373ms\tremaining: 859ms\n303:\tlearn: 0.3531971\ttotal: 374ms\tremaining: 857ms\n304:\tlearn: 0.3530352\ttotal: 376ms\tremaining: 856ms\n305:\tlearn: 0.3528699\ttotal: 377ms\tremaining: 855ms\n306:\tlearn: 0.3525885\ttotal: 378ms\tremaining: 853ms\n307:\tlearn: 0.3524286\ttotal: 379ms\tremaining: 852ms\n308:\tlearn: 0.3521174\ttotal: 380ms\tremaining: 850ms\n309:\tlearn: 0.3519388\ttotal: 381ms\tremaining: 849ms\n310:\tlearn: 0.3517929\ttotal: 382ms\tremaining: 847ms\n311:\tlearn: 0.3516847\ttotal: 383ms\tremaining: 846ms\n312:\tlearn: 0.3515330\ttotal: 385ms\tremaining: 844ms\n313:\tlearn: 0.3512664\ttotal: 386ms\tremaining: 843ms\n314:\tlearn: 0.3509304\ttotal: 387ms\tremaining: 841ms\n315:\tlearn: 0.3508086\ttotal: 388ms\tremaining: 840ms\n316:\tlearn: 0.3506743\ttotal: 389ms\tremaining: 838ms\n317:\tlearn: 0.3504474\ttotal: 390ms\tremaining: 836ms\n318:\tlearn: 0.3503440\ttotal: 391ms\tremaining: 835ms\n319:\tlearn: 0.3500757\ttotal: 393ms\tremaining: 835ms\n320:\tlearn: 0.3498855\ttotal: 394ms\tremaining: 834ms\n321:\tlearn: 0.3497667\ttotal: 395ms\tremaining: 832ms\n322:\tlearn: 0.3496779\ttotal: 396ms\tremaining: 830ms\n323:\tlearn: 0.3494713\ttotal: 397ms\tremaining: 829ms\n324:\tlearn: 0.3493579\ttotal: 398ms\tremaining: 827ms\n325:\tlearn: 0.3492273\ttotal: 400ms\tremaining: 826ms\n326:\tlearn: 0.3491550\ttotal: 401ms\tremaining: 825ms\n327:\tlearn: 0.3489532\ttotal: 402ms\tremaining: 824ms\n328:\tlearn: 0.3488200\ttotal: 403ms\tremaining: 822ms\n329:\tlearn: 0.3486176\ttotal: 404ms\tremaining: 821ms\n330:\tlearn: 0.3484286\ttotal: 406ms\tremaining: 820ms\n331:\tlearn: 0.3482754\ttotal: 407ms\tremaining: 818ms\n332:\tlearn: 0.3481256\ttotal: 408ms\tremaining: 817ms\n333:\tlearn: 0.3478931\ttotal: 409ms\tremaining: 816ms\n334:\tlearn: 0.3478374\ttotal: 410ms\tremaining: 814ms\n335:\tlearn: 0.3475609\ttotal: 411ms\tremaining: 813ms\n336:\tlearn: 0.3473445\ttotal: 412ms\tremaining: 811ms\n337:\tlearn: 0.3472292\ttotal: 413ms\tremaining: 810ms\n338:\tlearn: 0.3470995\ttotal: 414ms\tremaining: 808ms\n339:\tlearn: 0.3469573\ttotal: 416ms\tremaining: 807ms\n340:\tlearn: 0.3468954\ttotal: 416ms\tremaining: 805ms\n341:\tlearn: 0.3467569\ttotal: 417ms\tremaining: 803ms\n342:\tlearn: 0.3466192\ttotal: 419ms\tremaining: 802ms\n343:\tlearn: 0.3465079\ttotal: 420ms\tremaining: 800ms\n344:\tlearn: 0.3462605\ttotal: 421ms\tremaining: 799ms\n345:\tlearn: 0.3461390\ttotal: 422ms\tremaining: 798ms\n346:\tlearn: 0.3458855\ttotal: 423ms\tremaining: 796ms\n347:\tlearn: 0.3457432\ttotal: 424ms\tremaining: 795ms\n348:\tlearn: 0.3456469\ttotal: 425ms\tremaining: 793ms\n349:\tlearn: 0.3454797\ttotal: 426ms\tremaining: 792ms\n350:\tlearn: 0.3452680\ttotal: 427ms\tremaining: 790ms\n351:\tlearn: 0.3451209\ttotal: 429ms\tremaining: 789ms\n352:\tlearn: 0.3449150\ttotal: 430ms\tremaining: 787ms\n353:\tlearn: 0.3448470\ttotal: 431ms\tremaining: 786ms\n354:\tlearn: 0.3445702\ttotal: 432ms\tremaining: 785ms\n355:\tlearn: 0.3443487\ttotal: 433ms\tremaining: 783ms\n356:\tlearn: 0.3442393\ttotal: 434ms\tremaining: 782ms\n357:\tlearn: 0.3441369\ttotal: 435ms\tremaining: 780ms\n358:\tlearn: 0.3440519\ttotal: 436ms\tremaining: 779ms\n359:\tlearn: 0.3438835\ttotal: 437ms\tremaining: 778ms\n360:\tlearn: 0.3438255\ttotal: 438ms\tremaining: 776ms\n361:\tlearn: 0.3437112\ttotal: 440ms\tremaining: 775ms\n362:\tlearn: 0.3435939\ttotal: 441ms\tremaining: 773ms\n363:\tlearn: 0.3433258\ttotal: 442ms\tremaining: 772ms\n364:\tlearn: 0.3432393\ttotal: 443ms\tremaining: 771ms\n365:\tlearn: 0.3431006\ttotal: 444ms\tremaining: 769ms\n366:\tlearn: 0.3428943\ttotal: 445ms\tremaining: 768ms\n367:\tlearn: 0.3427009\ttotal: 446ms\tremaining: 766ms\n368:\tlearn: 0.3426375\ttotal: 447ms\tremaining: 764ms\n369:\tlearn: 0.3423603\ttotal: 448ms\tremaining: 763ms\n370:\tlearn: 0.3419899\ttotal: 449ms\tremaining: 761ms\n371:\tlearn: 0.3417150\ttotal: 450ms\tremaining: 760ms\n372:\tlearn: 0.3415730\ttotal: 451ms\tremaining: 759ms\n373:\tlearn: 0.3415281\ttotal: 452ms\tremaining: 757ms\n374:\tlearn: 0.3414214\ttotal: 454ms\tremaining: 756ms\n375:\tlearn: 0.3412820\ttotal: 455ms\tremaining: 754ms\n376:\tlearn: 0.3412788\ttotal: 455ms\tremaining: 752ms\n377:\tlearn: 0.3410376\ttotal: 456ms\tremaining: 750ms\n378:\tlearn: 0.3409052\ttotal: 457ms\tremaining: 748ms\n379:\tlearn: 0.3406603\ttotal: 459ms\tremaining: 749ms\n380:\tlearn: 0.3405234\ttotal: 460ms\tremaining: 748ms\n381:\tlearn: 0.3403709\ttotal: 461ms\tremaining: 746ms\n382:\tlearn: 0.3402747\ttotal: 462ms\tremaining: 745ms\n383:\tlearn: 0.3401719\ttotal: 463ms\tremaining: 743ms\n384:\tlearn: 0.3400048\ttotal: 464ms\tremaining: 742ms\n385:\tlearn: 0.3399477\ttotal: 465ms\tremaining: 740ms\n386:\tlearn: 0.3398255\ttotal: 467ms\tremaining: 739ms\n387:\tlearn: 0.3396676\ttotal: 468ms\tremaining: 738ms\n388:\tlearn: 0.3396619\ttotal: 468ms\tremaining: 736ms\n389:\tlearn: 0.3395926\ttotal: 469ms\tremaining: 734ms\n390:\tlearn: 0.3394269\ttotal: 470ms\tremaining: 733ms\n391:\tlearn: 0.3393315\ttotal: 472ms\tremaining: 731ms\n392:\tlearn: 0.3392869\ttotal: 473ms\tremaining: 730ms\n393:\tlearn: 0.3390828\ttotal: 474ms\tremaining: 728ms\n394:\tlearn: 0.3389709\ttotal: 475ms\tremaining: 727ms\n395:\tlearn: 0.3388267\ttotal: 476ms\tremaining: 726ms\n396:\tlearn: 0.3388241\ttotal: 476ms\tremaining: 724ms\n397:\tlearn: 0.3386569\ttotal: 477ms\tremaining: 722ms\n398:\tlearn: 0.3385213\ttotal: 479ms\tremaining: 721ms\n399:\tlearn: 0.3383673\ttotal: 480ms\tremaining: 719ms\n400:\tlearn: 0.3381886\ttotal: 481ms\tremaining: 718ms\n401:\tlearn: 0.3380849\ttotal: 482ms\tremaining: 717ms\n402:\tlearn: 0.3379931\ttotal: 483ms\tremaining: 715ms\n403:\tlearn: 0.3379189\ttotal: 484ms\tremaining: 714ms\n404:\tlearn: 0.3378319\ttotal: 485ms\tremaining: 713ms\n405:\tlearn: 0.3377620\ttotal: 486ms\tremaining: 711ms\n406:\tlearn: 0.3377487\ttotal: 487ms\tremaining: 709ms\n407:\tlearn: 0.3375816\ttotal: 488ms\tremaining: 708ms\n408:\tlearn: 0.3374123\ttotal: 489ms\tremaining: 706ms\n409:\tlearn: 0.3371752\ttotal: 490ms\tremaining: 705ms\n410:\tlearn: 0.3370972\ttotal: 491ms\tremaining: 704ms\n411:\tlearn: 0.3369806\ttotal: 492ms\tremaining: 702ms\n412:\tlearn: 0.3368512\ttotal: 493ms\tremaining: 701ms\n413:\tlearn: 0.3366664\ttotal: 494ms\tremaining: 700ms\n414:\tlearn: 0.3364669\ttotal: 496ms\tremaining: 699ms\n415:\tlearn: 0.3363998\ttotal: 497ms\tremaining: 697ms\n416:\tlearn: 0.3363081\ttotal: 498ms\tremaining: 696ms\n417:\tlearn: 0.3361480\ttotal: 499ms\tremaining: 695ms\n418:\tlearn: 0.3360204\ttotal: 500ms\tremaining: 694ms\n419:\tlearn: 0.3358542\ttotal: 502ms\tremaining: 693ms\n420:\tlearn: 0.3357881\ttotal: 503ms\tremaining: 691ms\n421:\tlearn: 0.3356536\ttotal: 504ms\tremaining: 690ms\n422:\tlearn: 0.3355445\ttotal: 505ms\tremaining: 689ms\n423:\tlearn: 0.3354177\ttotal: 506ms\tremaining: 687ms\n424:\tlearn: 0.3352935\ttotal: 507ms\tremaining: 686ms\n425:\tlearn: 0.3352723\ttotal: 508ms\tremaining: 684ms\n426:\tlearn: 0.3351302\ttotal: 509ms\tremaining: 683ms\n427:\tlearn: 0.3350656\ttotal: 510ms\tremaining: 681ms\n428:\tlearn: 0.3348523\ttotal: 511ms\tremaining: 680ms\n429:\tlearn: 0.3346306\ttotal: 512ms\tremaining: 679ms\n430:\tlearn: 0.3345677\ttotal: 513ms\tremaining: 678ms\n431:\tlearn: 0.3345593\ttotal: 514ms\tremaining: 676ms\n432:\tlearn: 0.3343890\ttotal: 515ms\tremaining: 674ms\n433:\tlearn: 0.3342666\ttotal: 516ms\tremaining: 673ms\n434:\tlearn: 0.3341573\ttotal: 517ms\tremaining: 672ms\n435:\tlearn: 0.3338978\ttotal: 518ms\tremaining: 671ms\n436:\tlearn: 0.3336971\ttotal: 519ms\tremaining: 669ms\n437:\tlearn: 0.3335810\ttotal: 521ms\tremaining: 668ms\n438:\tlearn: 0.3334689\ttotal: 522ms\tremaining: 667ms\n439:\tlearn: 0.3332942\ttotal: 523ms\tremaining: 665ms\n440:\tlearn: 0.3331710\ttotal: 524ms\tremaining: 664ms\n441:\tlearn: 0.3330492\ttotal: 525ms\tremaining: 663ms\n442:\tlearn: 0.3329194\ttotal: 526ms\tremaining: 661ms\n443:\tlearn: 0.3328015\ttotal: 527ms\tremaining: 660ms\n444:\tlearn: 0.3327578\ttotal: 528ms\tremaining: 659ms\n445:\tlearn: 0.3326190\ttotal: 529ms\tremaining: 657ms\n446:\tlearn: 0.3325652\ttotal: 530ms\tremaining: 656ms\n447:\tlearn: 0.3324141\ttotal: 531ms\tremaining: 655ms\n448:\tlearn: 0.3321309\ttotal: 533ms\tremaining: 654ms\n449:\tlearn: 0.3320680\ttotal: 534ms\tremaining: 652ms\n450:\tlearn: 0.3319283\ttotal: 535ms\tremaining: 651ms\n451:\tlearn: 0.3317642\ttotal: 536ms\tremaining: 650ms\n452:\tlearn: 0.3316699\ttotal: 537ms\tremaining: 648ms\n453:\tlearn: 0.3315344\ttotal: 538ms\tremaining: 647ms\n454:\tlearn: 0.3314259\ttotal: 539ms\tremaining: 646ms\n455:\tlearn: 0.3312208\ttotal: 540ms\tremaining: 644ms\n456:\tlearn: 0.3310422\ttotal: 541ms\tremaining: 643ms\n457:\tlearn: 0.3309336\ttotal: 542ms\tremaining: 642ms\n458:\tlearn: 0.3308602\ttotal: 543ms\tremaining: 640ms\n459:\tlearn: 0.3307952\ttotal: 544ms\tremaining: 639ms\n460:\tlearn: 0.3307274\ttotal: 546ms\tremaining: 638ms\n461:\tlearn: 0.3306881\ttotal: 552ms\tremaining: 643ms\n462:\tlearn: 0.3306677\ttotal: 553ms\tremaining: 642ms\n463:\tlearn: 0.3305495\ttotal: 555ms\tremaining: 641ms\n464:\tlearn: 0.3304161\ttotal: 556ms\tremaining: 640ms\n465:\tlearn: 0.3303525\ttotal: 558ms\tremaining: 639ms\n466:\tlearn: 0.3303124\ttotal: 559ms\tremaining: 638ms\n467:\tlearn: 0.3301929\ttotal: 561ms\tremaining: 637ms\n468:\tlearn: 0.3300059\ttotal: 562ms\tremaining: 636ms\n469:\tlearn: 0.3299867\ttotal: 563ms\tremaining: 634ms\n470:\tlearn: 0.3298040\ttotal: 564ms\tremaining: 633ms\n471:\tlearn: 0.3297351\ttotal: 565ms\tremaining: 631ms\n472:\tlearn: 0.3295436\ttotal: 566ms\tremaining: 630ms\n473:\tlearn: 0.3294640\ttotal: 567ms\tremaining: 629ms\n474:\tlearn: 0.3294293\ttotal: 568ms\tremaining: 627ms\n475:\tlearn: 0.3293917\ttotal: 568ms\tremaining: 626ms\n476:\tlearn: 0.3291824\ttotal: 570ms\tremaining: 624ms\n477:\tlearn: 0.3290895\ttotal: 571ms\tremaining: 623ms\n478:\tlearn: 0.3290137\ttotal: 572ms\tremaining: 622ms\n479:\tlearn: 0.3289124\ttotal: 573ms\tremaining: 621ms\n480:\tlearn: 0.3287260\ttotal: 574ms\tremaining: 619ms\n481:\tlearn: 0.3286640\ttotal: 575ms\tremaining: 618ms\n482:\tlearn: 0.3285470\ttotal: 576ms\tremaining: 617ms\n483:\tlearn: 0.3284472\ttotal: 577ms\tremaining: 615ms\n484:\tlearn: 0.3282930\ttotal: 579ms\tremaining: 615ms\n485:\tlearn: 0.3281882\ttotal: 581ms\tremaining: 614ms\n486:\tlearn: 0.3281709\ttotal: 582ms\tremaining: 613ms\n487:\tlearn: 0.3281246\ttotal: 583ms\tremaining: 611ms\n488:\tlearn: 0.3279130\ttotal: 584ms\tremaining: 610ms\n489:\tlearn: 0.3277170\ttotal: 585ms\tremaining: 609ms\n490:\tlearn: 0.3275111\ttotal: 586ms\tremaining: 608ms\n491:\tlearn: 0.3274611\ttotal: 587ms\tremaining: 606ms\n492:\tlearn: 0.3273150\ttotal: 589ms\tremaining: 605ms\n493:\tlearn: 0.3269695\ttotal: 590ms\tremaining: 604ms\n494:\tlearn: 0.3269515\ttotal: 591ms\tremaining: 602ms\n495:\tlearn: 0.3268271\ttotal: 592ms\tremaining: 601ms\n496:\tlearn: 0.3266990\ttotal: 593ms\tremaining: 600ms\n497:\tlearn: 0.3266400\ttotal: 594ms\tremaining: 599ms\n498:\tlearn: 0.3264706\ttotal: 595ms\tremaining: 598ms\n499:\tlearn: 0.3264003\ttotal: 596ms\tremaining: 596ms\n500:\tlearn: 0.3263027\ttotal: 597ms\tremaining: 595ms\n501:\tlearn: 0.3262895\ttotal: 598ms\tremaining: 593ms\n502:\tlearn: 0.3262233\ttotal: 599ms\tremaining: 592ms\n503:\tlearn: 0.3260941\ttotal: 600ms\tremaining: 591ms\n504:\tlearn: 0.3260339\ttotal: 601ms\tremaining: 589ms\n505:\tlearn: 0.3259108\ttotal: 602ms\tremaining: 588ms\n506:\tlearn: 0.3257770\ttotal: 604ms\tremaining: 587ms\n507:\tlearn: 0.3257051\ttotal: 605ms\tremaining: 586ms\n508:\tlearn: 0.3255458\ttotal: 606ms\tremaining: 584ms\n509:\tlearn: 0.3254291\ttotal: 607ms\tremaining: 583ms\n510:\tlearn: 0.3252685\ttotal: 608ms\tremaining: 582ms\n511:\tlearn: 0.3251667\ttotal: 609ms\tremaining: 581ms\n512:\tlearn: 0.3251666\ttotal: 610ms\tremaining: 579ms\n513:\tlearn: 0.3250664\ttotal: 611ms\tremaining: 578ms\n514:\tlearn: 0.3249454\ttotal: 612ms\tremaining: 576ms\n515:\tlearn: 0.3248680\ttotal: 613ms\tremaining: 575ms\n516:\tlearn: 0.3247518\ttotal: 614ms\tremaining: 574ms\n517:\tlearn: 0.3246602\ttotal: 615ms\tremaining: 573ms\n518:\tlearn: 0.3246597\ttotal: 616ms\tremaining: 571ms\n519:\tlearn: 0.3245949\ttotal: 617ms\tremaining: 570ms\n520:\tlearn: 0.3244931\ttotal: 618ms\tremaining: 568ms\n521:\tlearn: 0.3243361\ttotal: 619ms\tremaining: 567ms\n522:\tlearn: 0.3242271\ttotal: 620ms\tremaining: 566ms\n523:\tlearn: 0.3240280\ttotal: 621ms\tremaining: 564ms\n524:\tlearn: 0.3239109\ttotal: 622ms\tremaining: 563ms\n525:\tlearn: 0.3238660\ttotal: 624ms\tremaining: 562ms\n526:\tlearn: 0.3238027\ttotal: 625ms\tremaining: 561ms\n527:\tlearn: 0.3237413\ttotal: 626ms\tremaining: 559ms\n528:\tlearn: 0.3237050\ttotal: 627ms\tremaining: 558ms\n529:\tlearn: 0.3236380\ttotal: 628ms\tremaining: 557ms\n530:\tlearn: 0.3235943\ttotal: 629ms\tremaining: 555ms\n531:\tlearn: 0.3234413\ttotal: 630ms\tremaining: 554ms\n532:\tlearn: 0.3233697\ttotal: 631ms\tremaining: 553ms\n533:\tlearn: 0.3232635\ttotal: 632ms\tremaining: 552ms\n534:\tlearn: 0.3229978\ttotal: 633ms\tremaining: 550ms\n535:\tlearn: 0.3229969\ttotal: 634ms\tremaining: 549ms\n536:\tlearn: 0.3228475\ttotal: 635ms\tremaining: 548ms\n537:\tlearn: 0.3227973\ttotal: 636ms\tremaining: 546ms\n538:\tlearn: 0.3226019\ttotal: 637ms\tremaining: 545ms\n539:\tlearn: 0.3225728\ttotal: 638ms\tremaining: 544ms\n540:\tlearn: 0.3223208\ttotal: 644ms\tremaining: 547ms\n541:\tlearn: 0.3222106\ttotal: 645ms\tremaining: 545ms\n542:\tlearn: 0.3220931\ttotal: 647ms\tremaining: 544ms\n543:\tlearn: 0.3219771\ttotal: 648ms\tremaining: 543ms\n544:\tlearn: 0.3218927\ttotal: 649ms\tremaining: 542ms\n545:\tlearn: 0.3218779\ttotal: 650ms\tremaining: 540ms\n546:\tlearn: 0.3217994\ttotal: 651ms\tremaining: 539ms\n547:\tlearn: 0.3216942\ttotal: 652ms\tremaining: 538ms\n548:\tlearn: 0.3214846\ttotal: 653ms\tremaining: 536ms\n549:\tlearn: 0.3212568\ttotal: 654ms\tremaining: 535ms\n550:\tlearn: 0.3211472\ttotal: 655ms\tremaining: 534ms\n551:\tlearn: 0.3210901\ttotal: 656ms\tremaining: 532ms\n552:\tlearn: 0.3210606\ttotal: 657ms\tremaining: 531ms\n553:\tlearn: 0.3209479\ttotal: 658ms\tremaining: 530ms\n554:\tlearn: 0.3208345\ttotal: 659ms\tremaining: 529ms\n555:\tlearn: 0.3207406\ttotal: 661ms\tremaining: 527ms\n556:\tlearn: 0.3206194\ttotal: 662ms\tremaining: 526ms\n557:\tlearn: 0.3206047\ttotal: 662ms\tremaining: 525ms\n558:\tlearn: 0.3204892\ttotal: 663ms\tremaining: 523ms\n559:\tlearn: 0.3204098\ttotal: 665ms\tremaining: 522ms\n560:\tlearn: 0.3203489\ttotal: 666ms\tremaining: 521ms\n561:\tlearn: 0.3202605\ttotal: 667ms\tremaining: 520ms\n562:\tlearn: 0.3200468\ttotal: 668ms\tremaining: 518ms\n563:\tlearn: 0.3199363\ttotal: 669ms\tremaining: 517ms\n564:\tlearn: 0.3197681\ttotal: 670ms\tremaining: 516ms\n565:\tlearn: 0.3197096\ttotal: 671ms\tremaining: 515ms\n566:\tlearn: 0.3196976\ttotal: 672ms\tremaining: 513ms\n567:\tlearn: 0.3195750\ttotal: 673ms\tremaining: 512ms\n568:\tlearn: 0.3194916\ttotal: 674ms\tremaining: 511ms\n569:\tlearn: 0.3194446\ttotal: 675ms\tremaining: 509ms\n570:\tlearn: 0.3193654\ttotal: 676ms\tremaining: 508ms\n571:\tlearn: 0.3192753\ttotal: 677ms\tremaining: 507ms\n572:\tlearn: 0.3191038\ttotal: 678ms\tremaining: 505ms\n573:\tlearn: 0.3190481\ttotal: 679ms\tremaining: 504ms\n574:\tlearn: 0.3189107\ttotal: 681ms\tremaining: 503ms\n575:\tlearn: 0.3188643\ttotal: 682ms\tremaining: 502ms\n576:\tlearn: 0.3187441\ttotal: 683ms\tremaining: 501ms\n577:\tlearn: 0.3187159\ttotal: 684ms\tremaining: 499ms\n578:\tlearn: 0.3186160\ttotal: 685ms\tremaining: 498ms\n579:\tlearn: 0.3185860\ttotal: 686ms\tremaining: 497ms\n580:\tlearn: 0.3184148\ttotal: 687ms\tremaining: 495ms\n581:\tlearn: 0.3182923\ttotal: 688ms\tremaining: 494ms\n582:\tlearn: 0.3182045\ttotal: 689ms\tremaining: 493ms\n583:\tlearn: 0.3180157\ttotal: 690ms\tremaining: 492ms\n584:\tlearn: 0.3178804\ttotal: 691ms\tremaining: 491ms\n585:\tlearn: 0.3177560\ttotal: 693ms\tremaining: 490ms\n586:\tlearn: 0.3176569\ttotal: 695ms\tremaining: 489ms\n587:\tlearn: 0.3175153\ttotal: 696ms\tremaining: 487ms\n588:\tlearn: 0.3173755\ttotal: 697ms\tremaining: 486ms\n589:\tlearn: 0.3172915\ttotal: 698ms\tremaining: 485ms\n590:\tlearn: 0.3172276\ttotal: 699ms\tremaining: 484ms\n591:\tlearn: 0.3171299\ttotal: 700ms\tremaining: 483ms\n592:\tlearn: 0.3169889\ttotal: 701ms\tremaining: 481ms\n593:\tlearn: 0.3168057\ttotal: 703ms\tremaining: 480ms\n594:\tlearn: 0.3167000\ttotal: 704ms\tremaining: 479ms\n595:\tlearn: 0.3166424\ttotal: 705ms\tremaining: 478ms\n596:\tlearn: 0.3165670\ttotal: 706ms\tremaining: 477ms\n597:\tlearn: 0.3165268\ttotal: 707ms\tremaining: 476ms\n598:\tlearn: 0.3164352\ttotal: 709ms\tremaining: 474ms\n599:\tlearn: 0.3163492\ttotal: 710ms\tremaining: 473ms\n600:\tlearn: 0.3162455\ttotal: 711ms\tremaining: 472ms\n601:\tlearn: 0.3161119\ttotal: 712ms\tremaining: 471ms\n602:\tlearn: 0.3161008\ttotal: 713ms\tremaining: 469ms\n603:\tlearn: 0.3159724\ttotal: 714ms\tremaining: 468ms\n604:\tlearn: 0.3158351\ttotal: 715ms\tremaining: 467ms\n605:\tlearn: 0.3157367\ttotal: 716ms\tremaining: 465ms\n606:\tlearn: 0.3155491\ttotal: 717ms\tremaining: 464ms\n607:\tlearn: 0.3153682\ttotal: 718ms\tremaining: 463ms\n608:\tlearn: 0.3152500\ttotal: 719ms\tremaining: 462ms\n609:\tlearn: 0.3151987\ttotal: 720ms\tremaining: 461ms\n610:\tlearn: 0.3151799\ttotal: 721ms\tremaining: 459ms\n611:\tlearn: 0.3151079\ttotal: 722ms\tremaining: 458ms\n612:\tlearn: 0.3150434\ttotal: 723ms\tremaining: 457ms\n613:\tlearn: 0.3150365\ttotal: 724ms\tremaining: 455ms\n614:\tlearn: 0.3149779\ttotal: 725ms\tremaining: 454ms\n615:\tlearn: 0.3149286\ttotal: 726ms\tremaining: 453ms\n616:\tlearn: 0.3148528\ttotal: 727ms\tremaining: 452ms\n617:\tlearn: 0.3148407\ttotal: 728ms\tremaining: 450ms\n618:\tlearn: 0.3147858\ttotal: 729ms\tremaining: 449ms\n619:\tlearn: 0.3147161\ttotal: 730ms\tremaining: 448ms\n620:\tlearn: 0.3146253\ttotal: 738ms\tremaining: 450ms\n621:\tlearn: 0.3144754\ttotal: 739ms\tremaining: 449ms\n622:\tlearn: 0.3144623\ttotal: 740ms\tremaining: 448ms\n623:\tlearn: 0.3144492\ttotal: 741ms\tremaining: 446ms\n624:\tlearn: 0.3144137\ttotal: 742ms\tremaining: 445ms\n625:\tlearn: 0.3142566\ttotal: 743ms\tremaining: 444ms\n626:\tlearn: 0.3141072\ttotal: 744ms\tremaining: 443ms\n627:\tlearn: 0.3140984\ttotal: 745ms\tremaining: 441ms\n628:\tlearn: 0.3140142\ttotal: 746ms\tremaining: 440ms\n629:\tlearn: 0.3139441\ttotal: 747ms\tremaining: 439ms\n630:\tlearn: 0.3138682\ttotal: 748ms\tremaining: 437ms\n631:\tlearn: 0.3135868\ttotal: 749ms\tremaining: 436ms\n632:\tlearn: 0.3134627\ttotal: 750ms\tremaining: 435ms\n633:\tlearn: 0.3133592\ttotal: 751ms\tremaining: 434ms\n634:\tlearn: 0.3132428\ttotal: 752ms\tremaining: 432ms\n635:\tlearn: 0.3132092\ttotal: 753ms\tremaining: 431ms\n636:\tlearn: 0.3130542\ttotal: 755ms\tremaining: 430ms\n637:\tlearn: 0.3129405\ttotal: 756ms\tremaining: 429ms\n638:\tlearn: 0.3129140\ttotal: 757ms\tremaining: 427ms\n639:\tlearn: 0.3128282\ttotal: 758ms\tremaining: 426ms\n640:\tlearn: 0.3127531\ttotal: 759ms\tremaining: 425ms\n641:\tlearn: 0.3125915\ttotal: 760ms\tremaining: 424ms\n642:\tlearn: 0.3124412\ttotal: 761ms\tremaining: 423ms\n643:\tlearn: 0.3123513\ttotal: 762ms\tremaining: 421ms\n644:\tlearn: 0.3121777\ttotal: 763ms\tremaining: 420ms\n645:\tlearn: 0.3120533\ttotal: 764ms\tremaining: 419ms\n646:\tlearn: 0.3119619\ttotal: 765ms\tremaining: 418ms\n647:\tlearn: 0.3118763\ttotal: 767ms\tremaining: 416ms\n648:\tlearn: 0.3117944\ttotal: 768ms\tremaining: 415ms\n649:\tlearn: 0.3117745\ttotal: 769ms\tremaining: 414ms\n650:\tlearn: 0.3116620\ttotal: 771ms\tremaining: 413ms\n651:\tlearn: 0.3115405\ttotal: 772ms\tremaining: 412ms\n652:\tlearn: 0.3114441\ttotal: 773ms\tremaining: 411ms\n653:\tlearn: 0.3113195\ttotal: 774ms\tremaining: 410ms\n654:\tlearn: 0.3113014\ttotal: 775ms\tremaining: 408ms\n655:\tlearn: 0.3112532\ttotal: 776ms\tremaining: 407ms\n656:\tlearn: 0.3111029\ttotal: 777ms\tremaining: 406ms\n657:\tlearn: 0.3108551\ttotal: 778ms\tremaining: 405ms\n658:\tlearn: 0.3106816\ttotal: 780ms\tremaining: 403ms\n659:\tlearn: 0.3105046\ttotal: 782ms\tremaining: 403ms\n660:\tlearn: 0.3103520\ttotal: 783ms\tremaining: 401ms\n661:\tlearn: 0.3102463\ttotal: 784ms\tremaining: 400ms\n662:\tlearn: 0.3101611\ttotal: 785ms\tremaining: 399ms\n663:\tlearn: 0.3101132\ttotal: 786ms\tremaining: 398ms\n664:\tlearn: 0.3100461\ttotal: 787ms\tremaining: 397ms\n665:\tlearn: 0.3099493\ttotal: 789ms\tremaining: 396ms\n666:\tlearn: 0.3098950\ttotal: 790ms\tremaining: 394ms\n667:\tlearn: 0.3098549\ttotal: 791ms\tremaining: 393ms\n668:\tlearn: 0.3096259\ttotal: 792ms\tremaining: 392ms\n669:\tlearn: 0.3094391\ttotal: 793ms\tremaining: 391ms\n670:\tlearn: 0.3093776\ttotal: 794ms\tremaining: 389ms\n671:\tlearn: 0.3093273\ttotal: 795ms\tremaining: 388ms\n672:\tlearn: 0.3092641\ttotal: 796ms\tremaining: 387ms\n673:\tlearn: 0.3091444\ttotal: 797ms\tremaining: 386ms\n674:\tlearn: 0.3091253\ttotal: 799ms\tremaining: 384ms\n675:\tlearn: 0.3090527\ttotal: 800ms\tremaining: 383ms\n676:\tlearn: 0.3088819\ttotal: 801ms\tremaining: 382ms\n677:\tlearn: 0.3087829\ttotal: 802ms\tremaining: 381ms\n678:\tlearn: 0.3086501\ttotal: 803ms\tremaining: 380ms\n679:\tlearn: 0.3086302\ttotal: 804ms\tremaining: 378ms\n680:\tlearn: 0.3085427\ttotal: 805ms\tremaining: 377ms\n681:\tlearn: 0.3084450\ttotal: 806ms\tremaining: 376ms\n682:\tlearn: 0.3083508\ttotal: 807ms\tremaining: 375ms\n683:\tlearn: 0.3082343\ttotal: 808ms\tremaining: 373ms\n684:\tlearn: 0.3081943\ttotal: 810ms\tremaining: 372ms\n685:\tlearn: 0.3081082\ttotal: 811ms\tremaining: 371ms\n686:\tlearn: 0.3080342\ttotal: 812ms\tremaining: 370ms\n687:\tlearn: 0.3079393\ttotal: 813ms\tremaining: 369ms\n688:\tlearn: 0.3079087\ttotal: 814ms\tremaining: 367ms\n689:\tlearn: 0.3077474\ttotal: 815ms\tremaining: 366ms\n690:\tlearn: 0.3075981\ttotal: 816ms\tremaining: 365ms\n691:\tlearn: 0.3074955\ttotal: 817ms\tremaining: 364ms\n692:\tlearn: 0.3073740\ttotal: 819ms\tremaining: 363ms\n693:\tlearn: 0.3073092\ttotal: 820ms\tremaining: 361ms\n694:\tlearn: 0.3072258\ttotal: 821ms\tremaining: 360ms\n695:\tlearn: 0.3071371\ttotal: 822ms\tremaining: 359ms\n696:\tlearn: 0.3070659\ttotal: 823ms\tremaining: 358ms\n697:\tlearn: 0.3070482\ttotal: 824ms\tremaining: 356ms\n698:\tlearn: 0.3068784\ttotal: 830ms\tremaining: 357ms\n699:\tlearn: 0.3066999\ttotal: 831ms\tremaining: 356ms\n700:\tlearn: 0.3066297\ttotal: 832ms\tremaining: 355ms\n701:\tlearn: 0.3064545\ttotal: 833ms\tremaining: 354ms\n702:\tlearn: 0.3062755\ttotal: 834ms\tremaining: 352ms\n703:\tlearn: 0.3062016\ttotal: 835ms\tremaining: 351ms\n704:\tlearn: 0.3060092\ttotal: 836ms\tremaining: 350ms\n705:\tlearn: 0.3058273\ttotal: 838ms\tremaining: 349ms\n706:\tlearn: 0.3057385\ttotal: 839ms\tremaining: 348ms\n707:\tlearn: 0.3055856\ttotal: 840ms\tremaining: 346ms\n708:\tlearn: 0.3055358\ttotal: 841ms\tremaining: 345ms\n709:\tlearn: 0.3054340\ttotal: 842ms\tremaining: 344ms\n710:\tlearn: 0.3052961\ttotal: 843ms\tremaining: 343ms\n711:\tlearn: 0.3052075\ttotal: 844ms\tremaining: 341ms\n712:\tlearn: 0.3051487\ttotal: 845ms\tremaining: 340ms\n713:\tlearn: 0.3050672\ttotal: 846ms\tremaining: 339ms\n714:\tlearn: 0.3049915\ttotal: 847ms\tremaining: 338ms\n715:\tlearn: 0.3048247\ttotal: 849ms\tremaining: 337ms\n716:\tlearn: 0.3046562\ttotal: 850ms\tremaining: 335ms\n717:\tlearn: 0.3045892\ttotal: 851ms\tremaining: 334ms\n718:\tlearn: 0.3045430\ttotal: 852ms\tremaining: 333ms\n719:\tlearn: 0.3044919\ttotal: 853ms\tremaining: 332ms\n720:\tlearn: 0.3043745\ttotal: 854ms\tremaining: 330ms\n721:\tlearn: 0.3042551\ttotal: 855ms\tremaining: 329ms\n722:\tlearn: 0.3039705\ttotal: 856ms\tremaining: 328ms\n723:\tlearn: 0.3038780\ttotal: 857ms\tremaining: 327ms\n724:\tlearn: 0.3038544\ttotal: 858ms\tremaining: 326ms\n725:\tlearn: 0.3036476\ttotal: 859ms\tremaining: 324ms\n726:\tlearn: 0.3034785\ttotal: 861ms\tremaining: 323ms\n727:\tlearn: 0.3032877\ttotal: 862ms\tremaining: 322ms\n728:\tlearn: 0.3032366\ttotal: 863ms\tremaining: 321ms\n729:\tlearn: 0.3031721\ttotal: 864ms\tremaining: 320ms\n730:\tlearn: 0.3030525\ttotal: 865ms\tremaining: 318ms\n731:\tlearn: 0.3028376\ttotal: 866ms\tremaining: 317ms\n732:\tlearn: 0.3027750\ttotal: 867ms\tremaining: 316ms\n733:\tlearn: 0.3027661\ttotal: 868ms\tremaining: 315ms\n734:\tlearn: 0.3026948\ttotal: 869ms\tremaining: 313ms\n735:\tlearn: 0.3025340\ttotal: 870ms\tremaining: 312ms\n736:\tlearn: 0.3024932\ttotal: 871ms\tremaining: 311ms\n737:\tlearn: 0.3024187\ttotal: 873ms\tremaining: 310ms\n738:\tlearn: 0.3023455\ttotal: 874ms\tremaining: 309ms\n739:\tlearn: 0.3021919\ttotal: 875ms\tremaining: 307ms\n740:\tlearn: 0.3021841\ttotal: 876ms\tremaining: 306ms\n741:\tlearn: 0.3020856\ttotal: 877ms\tremaining: 305ms\n742:\tlearn: 0.3020138\ttotal: 878ms\tremaining: 304ms\n743:\tlearn: 0.3019555\ttotal: 879ms\tremaining: 302ms\n744:\tlearn: 0.3016935\ttotal: 880ms\tremaining: 301ms\n745:\tlearn: 0.3016203\ttotal: 881ms\tremaining: 300ms\n746:\tlearn: 0.3013812\ttotal: 882ms\tremaining: 299ms\n747:\tlearn: 0.3012575\ttotal: 883ms\tremaining: 298ms\n748:\tlearn: 0.3011248\ttotal: 884ms\tremaining: 296ms\n749:\tlearn: 0.3009793\ttotal: 886ms\tremaining: 295ms\n750:\tlearn: 0.3009196\ttotal: 887ms\tremaining: 294ms\n751:\tlearn: 0.3007463\ttotal: 888ms\tremaining: 293ms\n752:\tlearn: 0.3006611\ttotal: 889ms\tremaining: 292ms\n753:\tlearn: 0.3004718\ttotal: 890ms\tremaining: 290ms\n754:\tlearn: 0.3003266\ttotal: 891ms\tremaining: 289ms\n755:\tlearn: 0.3002717\ttotal: 892ms\tremaining: 288ms\n756:\tlearn: 0.3001902\ttotal: 893ms\tremaining: 287ms\n757:\tlearn: 0.3000692\ttotal: 894ms\tremaining: 286ms\n758:\tlearn: 0.3000083\ttotal: 896ms\tremaining: 284ms\n759:\tlearn: 0.2999431\ttotal: 897ms\tremaining: 283ms\n760:\tlearn: 0.2998718\ttotal: 898ms\tremaining: 282ms\n761:\tlearn: 0.2997510\ttotal: 899ms\tremaining: 281ms\n762:\tlearn: 0.2996894\ttotal: 900ms\tremaining: 280ms\n763:\tlearn: 0.2996121\ttotal: 901ms\tremaining: 278ms\n764:\tlearn: 0.2995636\ttotal: 902ms\tremaining: 277ms\n765:\tlearn: 0.2994832\ttotal: 903ms\tremaining: 276ms\n766:\tlearn: 0.2993971\ttotal: 904ms\tremaining: 275ms\n767:\tlearn: 0.2992689\ttotal: 905ms\tremaining: 273ms\n768:\tlearn: 0.2991733\ttotal: 906ms\tremaining: 272ms\n769:\tlearn: 0.2990167\ttotal: 907ms\tremaining: 271ms\n770:\tlearn: 0.2990129\ttotal: 908ms\tremaining: 270ms\n771:\tlearn: 0.2988511\ttotal: 909ms\tremaining: 269ms\n772:\tlearn: 0.2987590\ttotal: 910ms\tremaining: 267ms\n773:\tlearn: 0.2985253\ttotal: 912ms\tremaining: 266ms\n774:\tlearn: 0.2983466\ttotal: 913ms\tremaining: 265ms\n775:\tlearn: 0.2981445\ttotal: 914ms\tremaining: 264ms\n776:\tlearn: 0.2981038\ttotal: 915ms\tremaining: 263ms\n777:\tlearn: 0.2980438\ttotal: 916ms\tremaining: 261ms\n778:\tlearn: 0.2978753\ttotal: 916ms\tremaining: 260ms\n779:\tlearn: 0.2977645\ttotal: 923ms\tremaining: 260ms\n780:\tlearn: 0.2976838\ttotal: 924ms\tremaining: 259ms\n781:\tlearn: 0.2976725\ttotal: 925ms\tremaining: 258ms\n782:\tlearn: 0.2975058\ttotal: 926ms\tremaining: 257ms\n783:\tlearn: 0.2972730\ttotal: 927ms\tremaining: 255ms\n784:\tlearn: 0.2972201\ttotal: 928ms\tremaining: 254ms\n785:\tlearn: 0.2971449\ttotal: 929ms\tremaining: 253ms\n786:\tlearn: 0.2968632\ttotal: 930ms\tremaining: 252ms\n787:\tlearn: 0.2968262\ttotal: 931ms\tremaining: 251ms\n788:\tlearn: 0.2966667\ttotal: 932ms\tremaining: 249ms\n789:\tlearn: 0.2966144\ttotal: 934ms\tremaining: 248ms\n790:\tlearn: 0.2964676\ttotal: 935ms\tremaining: 247ms\n791:\tlearn: 0.2963724\ttotal: 936ms\tremaining: 246ms\n792:\tlearn: 0.2962783\ttotal: 938ms\tremaining: 245ms\n793:\tlearn: 0.2961233\ttotal: 939ms\tremaining: 244ms\n794:\tlearn: 0.2960876\ttotal: 941ms\tremaining: 243ms\n795:\tlearn: 0.2959503\ttotal: 942ms\tremaining: 242ms\n796:\tlearn: 0.2958533\ttotal: 944ms\tremaining: 240ms\n797:\tlearn: 0.2956674\ttotal: 945ms\tremaining: 239ms\n798:\tlearn: 0.2956334\ttotal: 946ms\tremaining: 238ms\n799:\tlearn: 0.2955315\ttotal: 947ms\tremaining: 237ms\n800:\tlearn: 0.2955038\ttotal: 948ms\tremaining: 236ms\n801:\tlearn: 0.2954987\ttotal: 949ms\tremaining: 234ms\n802:\tlearn: 0.2954504\ttotal: 950ms\tremaining: 233ms\n803:\tlearn: 0.2953877\ttotal: 952ms\tremaining: 232ms\n804:\tlearn: 0.2952707\ttotal: 953ms\tremaining: 231ms\n805:\tlearn: 0.2952352\ttotal: 954ms\tremaining: 230ms\n806:\tlearn: 0.2950092\ttotal: 956ms\tremaining: 229ms\n807:\tlearn: 0.2949676\ttotal: 957ms\tremaining: 227ms\n808:\tlearn: 0.2949027\ttotal: 958ms\tremaining: 226ms\n809:\tlearn: 0.2948593\ttotal: 960ms\tremaining: 225ms\n810:\tlearn: 0.2948550\ttotal: 960ms\tremaining: 224ms\n811:\tlearn: 0.2947298\ttotal: 962ms\tremaining: 223ms\n812:\tlearn: 0.2946526\ttotal: 963ms\tremaining: 221ms\n813:\tlearn: 0.2946111\ttotal: 964ms\tremaining: 220ms\n814:\tlearn: 0.2945533\ttotal: 965ms\tremaining: 219ms\n815:\tlearn: 0.2944771\ttotal: 967ms\tremaining: 218ms\n816:\tlearn: 0.2942349\ttotal: 968ms\tremaining: 217ms\n817:\tlearn: 0.2941836\ttotal: 969ms\tremaining: 216ms\n818:\tlearn: 0.2940703\ttotal: 970ms\tremaining: 214ms\n819:\tlearn: 0.2940673\ttotal: 971ms\tremaining: 213ms\n820:\tlearn: 0.2940326\ttotal: 972ms\tremaining: 212ms\n821:\tlearn: 0.2939234\ttotal: 973ms\tremaining: 211ms\n822:\tlearn: 0.2938596\ttotal: 975ms\tremaining: 210ms\n823:\tlearn: 0.2936414\ttotal: 976ms\tremaining: 208ms\n824:\tlearn: 0.2935170\ttotal: 977ms\tremaining: 207ms\n825:\tlearn: 0.2934528\ttotal: 978ms\tremaining: 206ms\n826:\tlearn: 0.2933775\ttotal: 980ms\tremaining: 205ms\n827:\tlearn: 0.2933199\ttotal: 981ms\tremaining: 204ms\n828:\tlearn: 0.2931004\ttotal: 982ms\tremaining: 203ms\n829:\tlearn: 0.2930151\ttotal: 983ms\tremaining: 201ms\n830:\tlearn: 0.2929196\ttotal: 984ms\tremaining: 200ms\n831:\tlearn: 0.2928013\ttotal: 986ms\tremaining: 199ms\n832:\tlearn: 0.2927185\ttotal: 987ms\tremaining: 198ms\n833:\tlearn: 0.2926884\ttotal: 988ms\tremaining: 197ms\n834:\tlearn: 0.2926107\ttotal: 989ms\tremaining: 195ms\n835:\tlearn: 0.2925685\ttotal: 991ms\tremaining: 194ms\n836:\tlearn: 0.2925240\ttotal: 992ms\tremaining: 193ms\n837:\tlearn: 0.2923652\ttotal: 993ms\tremaining: 192ms\n838:\tlearn: 0.2923512\ttotal: 994ms\tremaining: 191ms\n839:\tlearn: 0.2923108\ttotal: 995ms\tremaining: 190ms\n840:\tlearn: 0.2922756\ttotal: 997ms\tremaining: 188ms\n841:\tlearn: 0.2921616\ttotal: 998ms\tremaining: 187ms\n842:\tlearn: 0.2920412\ttotal: 1000ms\tremaining: 186ms\n843:\tlearn: 0.2920035\ttotal: 1s\tremaining: 185ms\n844:\tlearn: 0.2919597\ttotal: 1s\tremaining: 184ms\n845:\tlearn: 0.2918962\ttotal: 1s\tremaining: 183ms\n846:\tlearn: 0.2917117\ttotal: 1s\tremaining: 181ms\n847:\tlearn: 0.2916653\ttotal: 1s\tremaining: 180ms\n848:\tlearn: 0.2915151\ttotal: 1.01s\tremaining: 179ms\n849:\tlearn: 0.2914416\ttotal: 1.01s\tremaining: 178ms\n850:\tlearn: 0.2912091\ttotal: 1.01s\tremaining: 177ms\n851:\tlearn: 0.2910958\ttotal: 1.01s\tremaining: 176ms\n852:\tlearn: 0.2909290\ttotal: 1.01s\tremaining: 175ms\n853:\tlearn: 0.2908499\ttotal: 1.01s\tremaining: 174ms\n854:\tlearn: 0.2905100\ttotal: 1.02s\tremaining: 173ms\n855:\tlearn: 0.2903284\ttotal: 1.02s\tremaining: 171ms\n856:\tlearn: 0.2903017\ttotal: 1.02s\tremaining: 170ms\n857:\tlearn: 0.2901581\ttotal: 1.02s\tremaining: 169ms\n858:\tlearn: 0.2899280\ttotal: 1.02s\tremaining: 168ms\n859:\tlearn: 0.2898368\ttotal: 1.02s\tremaining: 167ms\n860:\tlearn: 0.2897074\ttotal: 1.02s\tremaining: 165ms\n861:\tlearn: 0.2896667\ttotal: 1.02s\tremaining: 164ms\n862:\tlearn: 0.2896299\ttotal: 1.03s\tremaining: 163ms\n863:\tlearn: 0.2895009\ttotal: 1.03s\tremaining: 162ms\n864:\tlearn: 0.2894069\ttotal: 1.03s\tremaining: 161ms\n865:\tlearn: 0.2892408\ttotal: 1.03s\tremaining: 159ms\n866:\tlearn: 0.2889980\ttotal: 1.03s\tremaining: 158ms\n867:\tlearn: 0.2888349\ttotal: 1.03s\tremaining: 157ms\n868:\tlearn: 0.2888095\ttotal: 1.03s\tremaining: 156ms\n869:\tlearn: 0.2885309\ttotal: 1.03s\tremaining: 155ms\n870:\tlearn: 0.2884910\ttotal: 1.03s\tremaining: 153ms\n871:\tlearn: 0.2884420\ttotal: 1.04s\tremaining: 152ms\n872:\tlearn: 0.2883982\ttotal: 1.04s\tremaining: 151ms\n873:\tlearn: 0.2883713\ttotal: 1.04s\tremaining: 150ms\n874:\tlearn: 0.2881212\ttotal: 1.04s\tremaining: 149ms\n875:\tlearn: 0.2880604\ttotal: 1.04s\tremaining: 147ms\n876:\tlearn: 0.2879700\ttotal: 1.04s\tremaining: 146ms\n877:\tlearn: 0.2878883\ttotal: 1.04s\tremaining: 145ms\n878:\tlearn: 0.2876478\ttotal: 1.04s\tremaining: 144ms\n879:\tlearn: 0.2874759\ttotal: 1.04s\tremaining: 143ms\n880:\tlearn: 0.2873850\ttotal: 1.05s\tremaining: 141ms\n881:\tlearn: 0.2872523\ttotal: 1.05s\tremaining: 140ms\n882:\tlearn: 0.2872002\ttotal: 1.05s\tremaining: 139ms\n883:\tlearn: 0.2870807\ttotal: 1.05s\tremaining: 138ms\n884:\tlearn: 0.2870194\ttotal: 1.05s\tremaining: 137ms\n885:\tlearn: 0.2867705\ttotal: 1.05s\tremaining: 135ms\n886:\tlearn: 0.2867267\ttotal: 1.05s\tremaining: 134ms\n887:\tlearn: 0.2865397\ttotal: 1.05s\tremaining: 133ms\n888:\tlearn: 0.2864555\ttotal: 1.05s\tremaining: 132ms\n889:\tlearn: 0.2863968\ttotal: 1.06s\tremaining: 131ms\n890:\tlearn: 0.2863558\ttotal: 1.06s\tremaining: 129ms\n891:\tlearn: 0.2863270\ttotal: 1.06s\tremaining: 128ms\n892:\tlearn: 0.2861837\ttotal: 1.06s\tremaining: 127ms\n893:\tlearn: 0.2860833\ttotal: 1.06s\tremaining: 126ms\n894:\tlearn: 0.2858435\ttotal: 1.06s\tremaining: 125ms\n895:\tlearn: 0.2857477\ttotal: 1.06s\tremaining: 123ms\n896:\tlearn: 0.2857182\ttotal: 1.06s\tremaining: 122ms\n897:\tlearn: 0.2855442\ttotal: 1.06s\tremaining: 121ms\n898:\tlearn: 0.2853715\ttotal: 1.07s\tremaining: 120ms\n899:\tlearn: 0.2853341\ttotal: 1.07s\tremaining: 119ms\n900:\tlearn: 0.2852473\ttotal: 1.07s\tremaining: 117ms\n901:\tlearn: 0.2850123\ttotal: 1.07s\tremaining: 116ms\n902:\tlearn: 0.2848946\ttotal: 1.07s\tremaining: 115ms\n903:\tlearn: 0.2848686\ttotal: 1.07s\tremaining: 114ms\n904:\tlearn: 0.2847671\ttotal: 1.07s\tremaining: 113ms\n905:\tlearn: 0.2847241\ttotal: 1.07s\tremaining: 111ms\n906:\tlearn: 0.2846614\ttotal: 1.07s\tremaining: 110ms\n907:\tlearn: 0.2845366\ttotal: 1.08s\tremaining: 109ms\n908:\tlearn: 0.2844867\ttotal: 1.08s\tremaining: 108ms\n909:\tlearn: 0.2844838\ttotal: 1.08s\tremaining: 107ms\n910:\tlearn: 0.2843951\ttotal: 1.08s\tremaining: 105ms\n911:\tlearn: 0.2843523\ttotal: 1.08s\tremaining: 104ms\n912:\tlearn: 0.2842826\ttotal: 1.08s\tremaining: 103ms\n913:\tlearn: 0.2842461\ttotal: 1.08s\tremaining: 102ms\n914:\tlearn: 0.2839524\ttotal: 1.08s\tremaining: 101ms\n915:\tlearn: 0.2837424\ttotal: 1.08s\tremaining: 99.5ms\n916:\tlearn: 0.2836064\ttotal: 1.09s\tremaining: 98.3ms\n917:\tlearn: 0.2834978\ttotal: 1.09s\tremaining: 97.1ms\n918:\tlearn: 0.2833962\ttotal: 1.09s\tremaining: 96ms\n919:\tlearn: 0.2833641\ttotal: 1.09s\tremaining: 94.8ms\n920:\tlearn: 0.2832886\ttotal: 1.09s\tremaining: 93.6ms\n921:\tlearn: 0.2831804\ttotal: 1.09s\tremaining: 92.4ms\n922:\tlearn: 0.2830511\ttotal: 1.09s\tremaining: 91.2ms\n923:\tlearn: 0.2829814\ttotal: 1.09s\tremaining: 90ms\n924:\tlearn: 0.2828536\ttotal: 1.09s\tremaining: 88.8ms\n925:\tlearn: 0.2828122\ttotal: 1.1s\tremaining: 87.6ms\n926:\tlearn: 0.2827541\ttotal: 1.1s\tremaining: 86.5ms\n927:\tlearn: 0.2825587\ttotal: 1.1s\tremaining: 85.3ms\n928:\tlearn: 0.2825104\ttotal: 1.1s\tremaining: 84.1ms\n929:\tlearn: 0.2824168\ttotal: 1.11s\tremaining: 83.3ms\n930:\tlearn: 0.2823509\ttotal: 1.11s\tremaining: 82.1ms\n931:\tlearn: 0.2822718\ttotal: 1.11s\tremaining: 80.9ms\n932:\tlearn: 0.2822039\ttotal: 1.11s\tremaining: 79.7ms\n933:\tlearn: 0.2821384\ttotal: 1.11s\tremaining: 78.5ms\n934:\tlearn: 0.2820261\ttotal: 1.11s\tremaining: 77.3ms\n935:\tlearn: 0.2819622\ttotal: 1.11s\tremaining: 76.2ms\n936:\tlearn: 0.2818167\ttotal: 1.11s\tremaining: 75ms\n937:\tlearn: 0.2817922\ttotal: 1.11s\tremaining: 73.8ms\n938:\tlearn: 0.2816230\ttotal: 1.12s\tremaining: 72.6ms\n939:\tlearn: 0.2815622\ttotal: 1.12s\tremaining: 71.4ms\n940:\tlearn: 0.2815006\ttotal: 1.12s\tremaining: 70.2ms\n941:\tlearn: 0.2813783\ttotal: 1.12s\tremaining: 69ms\n942:\tlearn: 0.2813116\ttotal: 1.12s\tremaining: 67.8ms\n943:\tlearn: 0.2812188\ttotal: 1.12s\tremaining: 66.6ms\n944:\tlearn: 0.2811578\ttotal: 1.12s\tremaining: 65.4ms\n945:\tlearn: 0.2809698\ttotal: 1.12s\tremaining: 64.2ms\n946:\tlearn: 0.2807747\ttotal: 1.13s\tremaining: 63ms\n947:\tlearn: 0.2805073\ttotal: 1.13s\tremaining: 61.8ms\n948:\tlearn: 0.2804568\ttotal: 1.13s\tremaining: 60.6ms\n949:\tlearn: 0.2803832\ttotal: 1.13s\tremaining: 59.4ms\n950:\tlearn: 0.2801516\ttotal: 1.13s\tremaining: 58.2ms\n951:\tlearn: 0.2800925\ttotal: 1.13s\tremaining: 57ms\n952:\tlearn: 0.2799371\ttotal: 1.13s\tremaining: 55.9ms\n953:\tlearn: 0.2798732\ttotal: 1.13s\tremaining: 54.7ms\n954:\tlearn: 0.2798305\ttotal: 1.13s\tremaining: 53.5ms\n955:\tlearn: 0.2797008\ttotal: 1.14s\tremaining: 52.3ms\n956:\tlearn: 0.2796504\ttotal: 1.14s\tremaining: 51.1ms\n957:\tlearn: 0.2796184\ttotal: 1.14s\tremaining: 49.9ms\n958:\tlearn: 0.2795371\ttotal: 1.14s\tremaining: 48.7ms\n959:\tlearn: 0.2794915\ttotal: 1.14s\tremaining: 47.5ms\n960:\tlearn: 0.2794283\ttotal: 1.14s\tremaining: 46.4ms\n961:\tlearn: 0.2793545\ttotal: 1.14s\tremaining: 45.2ms\n962:\tlearn: 0.2792673\ttotal: 1.15s\tremaining: 44ms\n963:\tlearn: 0.2792427\ttotal: 1.15s\tremaining: 42.8ms\n964:\tlearn: 0.2791484\ttotal: 1.15s\tremaining: 41.6ms\n965:\tlearn: 0.2790990\ttotal: 1.15s\tremaining: 40.4ms\n966:\tlearn: 0.2790537\ttotal: 1.15s\tremaining: 39.2ms\n967:\tlearn: 0.2788685\ttotal: 1.15s\tremaining: 38ms\n968:\tlearn: 0.2787995\ttotal: 1.15s\tremaining: 36.8ms\n969:\tlearn: 0.2787240\ttotal: 1.15s\tremaining: 35.7ms\n970:\tlearn: 0.2786821\ttotal: 1.15s\tremaining: 34.5ms\n971:\tlearn: 0.2785902\ttotal: 1.16s\tremaining: 33.3ms\n972:\tlearn: 0.2785241\ttotal: 1.16s\tremaining: 32.1ms\n973:\tlearn: 0.2784174\ttotal: 1.16s\tremaining: 30.9ms\n974:\tlearn: 0.2783771\ttotal: 1.16s\tremaining: 29.7ms\n975:\tlearn: 0.2783296\ttotal: 1.16s\tremaining: 28.5ms\n976:\tlearn: 0.2780754\ttotal: 1.16s\tremaining: 27.3ms\n977:\tlearn: 0.2779868\ttotal: 1.16s\tremaining: 26.1ms\n978:\tlearn: 0.2777759\ttotal: 1.16s\tremaining: 24.9ms\n979:\tlearn: 0.2777282\ttotal: 1.16s\tremaining: 23.8ms\n980:\tlearn: 0.2776912\ttotal: 1.16s\tremaining: 22.6ms\n981:\tlearn: 0.2776682\ttotal: 1.17s\tremaining: 21.4ms\n982:\tlearn: 0.2776430\ttotal: 1.17s\tremaining: 20.2ms\n983:\tlearn: 0.2776035\ttotal: 1.17s\tremaining: 19ms\n984:\tlearn: 0.2774215\ttotal: 1.17s\tremaining: 17.8ms\n985:\tlearn: 0.2773875\ttotal: 1.17s\tremaining: 16.6ms\n986:\tlearn: 0.2773296\ttotal: 1.17s\tremaining: 15.4ms\n987:\tlearn: 0.2771141\ttotal: 1.17s\tremaining: 14.2ms\n988:\tlearn: 0.2769473\ttotal: 1.17s\tremaining: 13.1ms\n989:\tlearn: 0.2768854\ttotal: 1.17s\tremaining: 11.9ms\n990:\tlearn: 0.2768342\ttotal: 1.18s\tremaining: 10.7ms\n991:\tlearn: 0.2766799\ttotal: 1.18s\tremaining: 9.49ms\n992:\tlearn: 0.2766094\ttotal: 1.18s\tremaining: 8.3ms\n993:\tlearn: 0.2765289\ttotal: 1.18s\tremaining: 7.12ms\n994:\tlearn: 0.2764231\ttotal: 1.18s\tremaining: 5.93ms\n995:\tlearn: 0.2763444\ttotal: 1.18s\tremaining: 4.74ms\n996:\tlearn: 0.2762016\ttotal: 1.18s\tremaining: 3.56ms\n997:\tlearn: 0.2759595\ttotal: 1.18s\tremaining: 2.37ms\n998:\tlearn: 0.2757457\ttotal: 1.18s\tremaining: 1.19ms\n999:\tlearn: 0.2755452\ttotal: 1.19s\tremaining: 0us\n",
          "output_type": "stream"
        },
        {
          "output_type": "execute_result",
          "execution_count": 37,
          "data": {
            "text/plain": "<pandas.io.formats.style.Styler at 0x7fd522ccff10>",
            "text/html": "<style  type=\"text/css\" >\n#T_44f1c_row0_col1,#T_44f1c_row1_col1{\n            width:  10em;\n             height:  80%;\n            background:  linear-gradient(90deg,#5fba7d 83.8%, transparent 83.8%);\n        }#T_44f1c_row0_col2,#T_44f1c_row1_col2{\n            width:  10em;\n             height:  80%;\n            background:  linear-gradient(90deg,#5fba7d 81.7%, transparent 81.7%);\n        }#T_44f1c_row2_col1{\n            width:  10em;\n             height:  80%;\n            background:  linear-gradient(90deg,#5fba7d 83.4%, transparent 83.4%);\n        }#T_44f1c_row2_col2{\n            width:  10em;\n             height:  80%;\n            background:  linear-gradient(90deg,#5fba7d 81.2%, transparent 81.2%);\n        }#T_44f1c_row3_col1{\n            width:  10em;\n             height:  80%;\n            background:  linear-gradient(90deg,#5fba7d 82.7%, transparent 82.7%);\n        }#T_44f1c_row3_col2{\n            width:  10em;\n             height:  80%;\n            background:  linear-gradient(90deg,#5fba7d 81.1%, transparent 81.1%);\n        }#T_44f1c_row4_col1{\n            width:  10em;\n             height:  80%;\n            background:  linear-gradient(90deg,#5fba7d 81.8%, transparent 81.8%);\n        }#T_44f1c_row4_col2{\n            width:  10em;\n             height:  80%;\n            background:  linear-gradient(90deg,#5fba7d 80.2%, transparent 80.2%);\n        }#T_44f1c_row5_col1{\n            width:  10em;\n             height:  80%;\n            background:  linear-gradient(90deg,#5fba7d 81.0%, transparent 81.0%);\n        }#T_44f1c_row5_col2{\n            width:  10em;\n             height:  80%;\n            background:  linear-gradient(90deg,#5fba7d 79.9%, transparent 79.9%);\n        }#T_44f1c_row6_col1{\n            width:  10em;\n             height:  80%;\n            background:  linear-gradient(90deg,#5fba7d 80.9%, transparent 80.9%);\n        }#T_44f1c_row6_col2{\n            width:  10em;\n             height:  80%;\n            background:  linear-gradient(90deg,#5fba7d 79.6%, transparent 79.6%);\n        }#T_44f1c_row7_col1{\n            width:  10em;\n             height:  80%;\n            background:  linear-gradient(90deg,#5fba7d 80.7%, transparent 80.7%);\n        }#T_44f1c_row7_col2{\n            width:  10em;\n             height:  80%;\n            background:  linear-gradient(90deg,#5fba7d 79.2%, transparent 79.2%);\n        }#T_44f1c_row8_col1{\n            width:  10em;\n             height:  80%;\n            background:  linear-gradient(90deg,#5fba7d 78.9%, transparent 78.9%);\n        }#T_44f1c_row8_col2{\n            width:  10em;\n             height:  80%;\n            background:  linear-gradient(90deg,#5fba7d 77.6%, transparent 77.6%);\n        }</style><table id=\"T_44f1c_\" ><thead>    <tr>        <th class=\"blank level0\" ></th>        <th class=\"col_heading level0 col0\" >Model</th>        <th class=\"col_heading level0 col1\" >Accuracy</th>        <th class=\"col_heading level0 col2\" >Bal Acc.</th>        <th class=\"col_heading level0 col3\" >Time</th>    </tr></thead><tbody>\n                <tr>\n                        <th id=\"T_44f1c_level0_row0\" class=\"row_heading level0 row0\" >1</th>\n                        <td id=\"T_44f1c_row0_col0\" class=\"data row0 col0\" >Skl GBM</td>\n                        <td id=\"T_44f1c_row0_col1\" class=\"data row0 col1\" >83.838384</td>\n                        <td id=\"T_44f1c_row0_col2\" class=\"data row0 col2\" >81.703576</td>\n                        <td id=\"T_44f1c_row0_col3\" class=\"data row0 col3\" >1.366555</td>\n            </tr>\n            <tr>\n                        <th id=\"T_44f1c_level0_row1\" class=\"row_heading level0 row1\" >2</th>\n                        <td id=\"T_44f1c_row1_col0\" class=\"data row1 col0\" >Skl HistGBM</td>\n                        <td id=\"T_44f1c_row1_col1\" class=\"data row1 col1\" >83.838384</td>\n                        <td id=\"T_44f1c_row1_col2\" class=\"data row1 col2\" >81.703576</td>\n                        <td id=\"T_44f1c_row1_col3\" class=\"data row1 col3\" >1.348266</td>\n            </tr>\n            <tr>\n                        <th id=\"T_44f1c_level0_row2\" class=\"row_heading level0 row2\" >3</th>\n                        <td id=\"T_44f1c_row2_col0\" class=\"data row2 col0\" >CatBoost</td>\n                        <td id=\"T_44f1c_row2_col1\" class=\"data row2 col1\" >83.389450</td>\n                        <td id=\"T_44f1c_row2_col2\" class=\"data row2 col2\" >81.173905</td>\n                        <td id=\"T_44f1c_row2_col3\" class=\"data row2 col3\" >13.578346</td>\n            </tr>\n            <tr>\n                        <th id=\"T_44f1c_level0_row3\" class=\"row_heading level0 row3\" >4</th>\n                        <td id=\"T_44f1c_row3_col0\" class=\"data row3 col0\" >LightGBM</td>\n                        <td id=\"T_44f1c_row3_col1\" class=\"data row3 col1\" >82.716049</td>\n                        <td id=\"T_44f1c_row3_col2\" class=\"data row3 col2\" >81.123574</td>\n                        <td id=\"T_44f1c_row3_col3\" class=\"data row3 col3\" >1.052186</td>\n            </tr>\n            <tr>\n                        <th id=\"T_44f1c_level0_row4\" class=\"row_heading level0 row4\" >5</th>\n                        <td id=\"T_44f1c_row4_col0\" class=\"data row4 col0\" >XGBoost</td>\n                        <td id=\"T_44f1c_row4_col1\" class=\"data row4 col1\" >81.818182</td>\n                        <td id=\"T_44f1c_row4_col2\" class=\"data row4 col2\" >80.174480</td>\n                        <td id=\"T_44f1c_row4_col3\" class=\"data row4 col3\" >1.611933</td>\n            </tr>\n            <tr>\n                        <th id=\"T_44f1c_level0_row5\" class=\"row_heading level0 row5\" >6</th>\n                        <td id=\"T_44f1c_row5_col0\" class=\"data row5 col0\" >AdaBoost</td>\n                        <td id=\"T_44f1c_row5_col1\" class=\"data row5 col1\" >81.032548</td>\n                        <td id=\"T_44f1c_row5_col2\" class=\"data row5 col2\" >79.922826</td>\n                        <td id=\"T_44f1c_row5_col3\" class=\"data row5 col3\" >1.110572</td>\n            </tr>\n            <tr>\n                        <th id=\"T_44f1c_level0_row6\" class=\"row_heading level0 row6\" >7</th>\n                        <td id=\"T_44f1c_row6_col0\" class=\"data row6 col0\" >Random Forest</td>\n                        <td id=\"T_44f1c_row6_col1\" class=\"data row6 col1\" >80.920314</td>\n                        <td id=\"T_44f1c_row6_col2\" class=\"data row6 col2\" >79.556131</td>\n                        <td id=\"T_44f1c_row6_col3\" class=\"data row6 col3\" >2.116913</td>\n            </tr>\n            <tr>\n                        <th id=\"T_44f1c_level0_row7\" class=\"row_heading level0 row7\" >8</th>\n                        <td id=\"T_44f1c_row7_col0\" class=\"data row7 col0\" >Extra Trees</td>\n                        <td id=\"T_44f1c_row7_col1\" class=\"data row7 col1\" >80.695847</td>\n                        <td id=\"T_44f1c_row7_col2\" class=\"data row7 col2\" >79.153485</td>\n                        <td id=\"T_44f1c_row7_col3\" class=\"data row7 col3\" >1.784595</td>\n            </tr>\n            <tr>\n                        <th id=\"T_44f1c_level0_row8\" class=\"row_heading level0 row8\" >9</th>\n                        <td id=\"T_44f1c_row8_col0\" class=\"data row8 col0\" >Decision Tree</td>\n                        <td id=\"T_44f1c_row8_col1\" class=\"data row8 col1\" >78.900112</td>\n                        <td id=\"T_44f1c_row8_col2\" class=\"data row8 col2\" >77.641166</td>\n                        <td id=\"T_44f1c_row8_col3\" class=\"data row8 col3\" >0.226274</td>\n            </tr>\n    </tbody></table>"
          },
          "metadata": {}
        }
      ]
    },
    {
      "cell_type": "code",
      "metadata": {
        "deletable": false,
        "editable": false,
        "nbgrader": {
          "cell_type": "code",
          "checksum": "355f8e8321aae7be679a8d16b25172f2",
          "grade": true,
          "grade_id": "cell-57cc085faad513cf",
          "locked": true,
          "points": 3,
          "schema_version": 3,
          "solution": false,
          "task": false
        },
        "cell_id": "00036-1dc1085f-71bd-4b27-a46e-5976f1517a48",
        "deepnote_to_be_reexecuted": false,
        "source_hash": "c344ef58",
        "execution_start": 1620059110251,
        "execution_millis": 0,
        "deepnote_cell_type": "code"
      },
      "source": "assert results_ord[\"Accuracy\"].min() > 75\nassert results_ord[\"Bal Acc.\"].min() > 75\nassert len(results_ord) == 9",
      "execution_count": null,
      "outputs": []
    },
    {
      "cell_type": "markdown",
      "source": "# Exercise 7.1\nTrain with all data the best model",
      "metadata": {
        "cell_id": "00037-81874d79-5d17-4d9f-8003-73ba148dea6b",
        "deepnote_cell_type": "markdown"
      }
    },
    {
      "cell_type": "code",
      "metadata": {
        "colab": {},
        "colab_type": "code",
        "deletable": false,
        "id": "monuuQhHL7B_",
        "nbgrader": {
          "cell_type": "code",
          "checksum": "088ae511ec2eb947de2bff002e75d460",
          "grade": false,
          "grade_id": "cell-031a656e1e811717",
          "locked": false,
          "schema_version": 3,
          "solution": true,
          "task": false
        },
        "cell_id": "00038-4791945d-5158-44a0-8cfa-49b606036c17",
        "deepnote_to_be_reexecuted": false,
        "source_hash": "3eed6d96",
        "execution_start": 1620059113576,
        "execution_millis": 174,
        "deepnote_cell_type": "code"
      },
      "source": "best_model = tree_classifiers[\"Skl GBM\"]\nbest_model.fit(x,y)\n\n# Fit best model with all data\n\n# YOUR CODE HERE\n# raise NotImplementedError()",
      "execution_count": null,
      "outputs": [
        {
          "output_type": "execute_result",
          "execution_count": 39,
          "data": {
            "text/plain": "Pipeline(steps=[('columntransformer',\n                 ColumnTransformer(transformers=[('num',\n                                                  Pipeline(steps=[('imputer',\n                                                                   SimpleImputer())]),\n                                                  ['Pclass', 'SibSp', 'Parch',\n                                                   'Fare', 'Age']),\n                                                 ('cat',\n                                                  Pipeline(steps=[('imputer',\n                                                                   SimpleImputer(fill_value='missing',\n                                                                                 strategy='constant')),\n                                                                  ('onehot',\n                                                                   OneHotEncoder(handle_unknown='ignore'))]),\n                                                  ['Sex', 'Embarked',\n                                                   'Title'])])),\n                ('gradientboostingclassifier', GradientBoostingClassifier())])",
            "text/html": "<style>div.sk-top-container {color: black;background-color: white;}div.sk-toggleable {background-color: white;}label.sk-toggleable__label {cursor: pointer;display: block;width: 100%;margin-bottom: 0;padding: 0.2em 0.3em;box-sizing: border-box;text-align: center;}div.sk-toggleable__content {max-height: 0;max-width: 0;overflow: hidden;text-align: left;background-color: #f0f8ff;}div.sk-toggleable__content pre {margin: 0.2em;color: black;border-radius: 0.25em;background-color: #f0f8ff;}input.sk-toggleable__control:checked~div.sk-toggleable__content {max-height: 200px;max-width: 100%;overflow: auto;}div.sk-estimator input.sk-toggleable__control:checked~label.sk-toggleable__label {background-color: #d4ebff;}div.sk-label input.sk-toggleable__control:checked~label.sk-toggleable__label {background-color: #d4ebff;}input.sk-hidden--visually {border: 0;clip: rect(1px 1px 1px 1px);clip: rect(1px, 1px, 1px, 1px);height: 1px;margin: -1px;overflow: hidden;padding: 0;position: absolute;width: 1px;}div.sk-estimator {font-family: monospace;background-color: #f0f8ff;margin: 0.25em 0.25em;border: 1px dotted black;border-radius: 0.25em;box-sizing: border-box;}div.sk-estimator:hover {background-color: #d4ebff;}div.sk-parallel-item::after {content: \"\";width: 100%;border-bottom: 1px solid gray;flex-grow: 1;}div.sk-label:hover label.sk-toggleable__label {background-color: #d4ebff;}div.sk-serial::before {content: \"\";position: absolute;border-left: 1px solid gray;box-sizing: border-box;top: 2em;bottom: 0;left: 50%;}div.sk-serial {display: flex;flex-direction: column;align-items: center;background-color: white;}div.sk-item {z-index: 1;}div.sk-parallel {display: flex;align-items: stretch;justify-content: center;background-color: white;}div.sk-parallel-item {display: flex;flex-direction: column;position: relative;background-color: white;}div.sk-parallel-item:first-child::after {align-self: flex-end;width: 50%;}div.sk-parallel-item:last-child::after {align-self: flex-start;width: 50%;}div.sk-parallel-item:only-child::after {width: 0;}div.sk-dashed-wrapped {border: 1px dashed gray;margin: 0.2em;box-sizing: border-box;padding-bottom: 0.1em;background-color: white;position: relative;}div.sk-label label {font-family: monospace;font-weight: bold;background-color: white;display: inline-block;line-height: 1.2em;}div.sk-label-container {position: relative;z-index: 2;text-align: center;}div.sk-container {display: inline-block;position: relative;}</style><div class=\"sk-top-container\"><div class=\"sk-container\"><div class=\"sk-item sk-dashed-wrapped\"><div class=\"sk-label-container\"><div class=\"sk-label sk-toggleable\"><input class=\"sk-toggleable__control sk-hidden--visually\" id=\"1777c42c-6ebd-4551-a028-ee9f1de31486\" type=\"checkbox\" ><label class=\"sk-toggleable__label\" for=\"1777c42c-6ebd-4551-a028-ee9f1de31486\">Pipeline</label><div class=\"sk-toggleable__content\"><pre>Pipeline(steps=[('columntransformer',\n                 ColumnTransformer(transformers=[('num',\n                                                  Pipeline(steps=[('imputer',\n                                                                   SimpleImputer())]),\n                                                  ['Pclass', 'SibSp', 'Parch',\n                                                   'Fare', 'Age']),\n                                                 ('cat',\n                                                  Pipeline(steps=[('imputer',\n                                                                   SimpleImputer(fill_value='missing',\n                                                                                 strategy='constant')),\n                                                                  ('onehot',\n                                                                   OneHotEncoder(handle_unknown='ignore'))]),\n                                                  ['Sex', 'Embarked',\n                                                   'Title'])])),\n                ('gradientboostingclassifier', GradientBoostingClassifier())])</pre></div></div></div><div class=\"sk-serial\"><div class=\"sk-item sk-dashed-wrapped\"><div class=\"sk-label-container\"><div class=\"sk-label sk-toggleable\"><input class=\"sk-toggleable__control sk-hidden--visually\" id=\"68337bac-732d-4686-b5e3-36160e143a0e\" type=\"checkbox\" ><label class=\"sk-toggleable__label\" for=\"68337bac-732d-4686-b5e3-36160e143a0e\">columntransformer: ColumnTransformer</label><div class=\"sk-toggleable__content\"><pre>ColumnTransformer(transformers=[('num',\n                                 Pipeline(steps=[('imputer', SimpleImputer())]),\n                                 ['Pclass', 'SibSp', 'Parch', 'Fare', 'Age']),\n                                ('cat',\n                                 Pipeline(steps=[('imputer',\n                                                  SimpleImputer(fill_value='missing',\n                                                                strategy='constant')),\n                                                 ('onehot',\n                                                  OneHotEncoder(handle_unknown='ignore'))]),\n                                 ['Sex', 'Embarked', 'Title'])])</pre></div></div></div><div class=\"sk-parallel\"><div class=\"sk-parallel-item\"><div class=\"sk-item\"><div class=\"sk-label-container\"><div class=\"sk-label sk-toggleable\"><input class=\"sk-toggleable__control sk-hidden--visually\" id=\"a662724b-dc8c-47c8-a0df-3712933a348f\" type=\"checkbox\" ><label class=\"sk-toggleable__label\" for=\"a662724b-dc8c-47c8-a0df-3712933a348f\">num</label><div class=\"sk-toggleable__content\"><pre>['Pclass', 'SibSp', 'Parch', 'Fare', 'Age']</pre></div></div></div><div class=\"sk-serial\"><div class=\"sk-item\"><div class=\"sk-serial\"><div class=\"sk-item\"><div class=\"sk-estimator sk-toggleable\"><input class=\"sk-toggleable__control sk-hidden--visually\" id=\"b7f98acc-568f-445e-97a1-cb2b04a2fec8\" type=\"checkbox\" ><label class=\"sk-toggleable__label\" for=\"b7f98acc-568f-445e-97a1-cb2b04a2fec8\">SimpleImputer</label><div class=\"sk-toggleable__content\"><pre>SimpleImputer()</pre></div></div></div></div></div></div></div></div><div class=\"sk-parallel-item\"><div class=\"sk-item\"><div class=\"sk-label-container\"><div class=\"sk-label sk-toggleable\"><input class=\"sk-toggleable__control sk-hidden--visually\" id=\"e271c634-9dcd-4ed2-9e3a-adca20de4b81\" type=\"checkbox\" ><label class=\"sk-toggleable__label\" for=\"e271c634-9dcd-4ed2-9e3a-adca20de4b81\">cat</label><div class=\"sk-toggleable__content\"><pre>['Sex', 'Embarked', 'Title']</pre></div></div></div><div class=\"sk-serial\"><div class=\"sk-item\"><div class=\"sk-serial\"><div class=\"sk-item\"><div class=\"sk-estimator sk-toggleable\"><input class=\"sk-toggleable__control sk-hidden--visually\" id=\"4bf6c657-bf42-46b4-8b69-f0833799ecce\" type=\"checkbox\" ><label class=\"sk-toggleable__label\" for=\"4bf6c657-bf42-46b4-8b69-f0833799ecce\">SimpleImputer</label><div class=\"sk-toggleable__content\"><pre>SimpleImputer(fill_value='missing', strategy='constant')</pre></div></div></div><div class=\"sk-item\"><div class=\"sk-estimator sk-toggleable\"><input class=\"sk-toggleable__control sk-hidden--visually\" id=\"a2dee60b-3d31-40db-9714-b4825a66c867\" type=\"checkbox\" ><label class=\"sk-toggleable__label\" for=\"a2dee60b-3d31-40db-9714-b4825a66c867\">OneHotEncoder</label><div class=\"sk-toggleable__content\"><pre>OneHotEncoder(handle_unknown='ignore')</pre></div></div></div></div></div></div></div></div></div></div><div class=\"sk-item\"><div class=\"sk-estimator sk-toggleable\"><input class=\"sk-toggleable__control sk-hidden--visually\" id=\"e258b106-e8a4-40ae-9041-d6041981a5cb\" type=\"checkbox\" ><label class=\"sk-toggleable__label\" for=\"e258b106-e8a4-40ae-9041-d6041981a5cb\">GradientBoostingClassifier</label><div class=\"sk-toggleable__content\"><pre>GradientBoostingClassifier()</pre></div></div></div></div></div></div></div>"
          },
          "metadata": {}
        }
      ]
    },
    {
      "cell_type": "markdown",
      "source": "# Exercise 7.2 (2pts)\nWith your best model, generate the predicitions for test data (x_test)",
      "metadata": {
        "cell_id": "00039-40ceb4a2-3db6-4c54-a3c2-91372eb2fc85",
        "deepnote_cell_type": "markdown"
      }
    },
    {
      "cell_type": "code",
      "metadata": {
        "deletable": false,
        "nbgrader": {
          "cell_type": "code",
          "checksum": "031ab122b02b5833236370a53d148daf",
          "grade": false,
          "grade_id": "cell-44b93a0dbd4eb6fc",
          "locked": false,
          "schema_version": 3,
          "solution": true,
          "task": false
        },
        "cell_id": "00040-8f076fd6-256c-43e1-bd69-43bbbd6bd581",
        "deepnote_to_be_reexecuted": false,
        "source_hash": "a5ff0cb3",
        "execution_start": 1620059116945,
        "execution_millis": 7,
        "deepnote_cell_type": "code"
      },
      "source": "test_pred = best_model.predict(x_test)\n\n# YOUR CODE HERE\n\n# raise NotImplementedError()",
      "execution_count": null,
      "outputs": []
    },
    {
      "cell_type": "code",
      "metadata": {
        "deletable": false,
        "editable": false,
        "nbgrader": {
          "cell_type": "code",
          "checksum": "180b37cf4a0276bdf509220b1706a8aa",
          "grade": true,
          "grade_id": "cell-a29fc8d24284520e",
          "locked": true,
          "points": 2,
          "schema_version": 3,
          "solution": false,
          "task": false
        },
        "cell_id": "00041-0c4fb3ca-7b52-4a83-8562-56ef613f8e5a",
        "deepnote_to_be_reexecuted": false,
        "source_hash": "9e8127cf",
        "execution_start": 1620059121746,
        "execution_millis": 6,
        "deepnote_cell_type": "code"
      },
      "source": "assert len(test_pred) == 418\nassert np.unique(test_pred).tolist() == [0,1]",
      "execution_count": null,
      "outputs": []
    },
    {
      "cell_type": "markdown",
      "source": "# Exercise 7.3\n\nSubmit to kaggle.\n\n- You can use the kaggle command line app. Check https://github.com/Kaggle/kaggle-api",
      "metadata": {
        "cell_id": "00042-9caec0a7-970f-4618-9eb3-0d456c65fdb5",
        "deepnote_cell_type": "markdown"
      }
    },
    {
      "cell_type": "code",
      "metadata": {
        "cell_id": "00043-c4ed8727-cf75-4da9-ba57-f0a076e8c014",
        "deepnote_to_be_reexecuted": false,
        "source_hash": "82f8bb8f",
        "execution_start": 1620059124982,
        "execution_millis": 13,
        "deepnote_cell_type": "code"
      },
      "source": "sub = pd.DataFrame(test_pred, index=x_test.index, columns=[\"Survived\"])\nsub.head()",
      "execution_count": null,
      "outputs": [
        {
          "output_type": "execute_result",
          "execution_count": 42,
          "data": {
            "application/vnd.deepnote.dataframe.v2+json": {
              "row_count": 5,
              "column_count": 1,
              "columns": [
                {
                  "name": "Survived",
                  "dtype": "int64",
                  "stats": {
                    "unique_count": 2,
                    "nan_count": 0,
                    "min": "0",
                    "max": "1",
                    "histogram": [
                      {
                        "bin_start": 0,
                        "bin_end": 0.1,
                        "count": 4
                      },
                      {
                        "bin_start": 0.1,
                        "bin_end": 0.2,
                        "count": 0
                      },
                      {
                        "bin_start": 0.2,
                        "bin_end": 0.30000000000000004,
                        "count": 0
                      },
                      {
                        "bin_start": 0.30000000000000004,
                        "bin_end": 0.4,
                        "count": 0
                      },
                      {
                        "bin_start": 0.4,
                        "bin_end": 0.5,
                        "count": 0
                      },
                      {
                        "bin_start": 0.5,
                        "bin_end": 0.6000000000000001,
                        "count": 0
                      },
                      {
                        "bin_start": 0.6000000000000001,
                        "bin_end": 0.7000000000000001,
                        "count": 0
                      },
                      {
                        "bin_start": 0.7000000000000001,
                        "bin_end": 0.8,
                        "count": 0
                      },
                      {
                        "bin_start": 0.8,
                        "bin_end": 0.9,
                        "count": 0
                      },
                      {
                        "bin_start": 0.9,
                        "bin_end": 1,
                        "count": 1
                      }
                    ]
                  }
                },
                {
                  "name": "_deepnote_index_column",
                  "dtype": "int64"
                }
              ],
              "rows_top": [
                {
                  "Survived": 0,
                  "_deepnote_index_column": 892
                },
                {
                  "Survived": 0,
                  "_deepnote_index_column": 893
                },
                {
                  "Survived": 0,
                  "_deepnote_index_column": 894
                },
                {
                  "Survived": 0,
                  "_deepnote_index_column": 895
                },
                {
                  "Survived": 1,
                  "_deepnote_index_column": 896
                }
              ],
              "rows_bottom": null
            },
            "text/plain": "             Survived\nPassengerId          \n892                 0\n893                 0\n894                 0\n895                 0\n896                 1",
            "text/html": "<div>\n<style scoped>\n    .dataframe tbody tr th:only-of-type {\n        vertical-align: middle;\n    }\n\n    .dataframe tbody tr th {\n        vertical-align: top;\n    }\n\n    .dataframe thead th {\n        text-align: right;\n    }\n</style>\n<table border=\"1\" class=\"dataframe\">\n  <thead>\n    <tr style=\"text-align: right;\">\n      <th></th>\n      <th>Survived</th>\n    </tr>\n    <tr>\n      <th>PassengerId</th>\n      <th></th>\n    </tr>\n  </thead>\n  <tbody>\n    <tr>\n      <th>892</th>\n      <td>0</td>\n    </tr>\n    <tr>\n      <th>893</th>\n      <td>0</td>\n    </tr>\n    <tr>\n      <th>894</th>\n      <td>0</td>\n    </tr>\n    <tr>\n      <th>895</th>\n      <td>0</td>\n    </tr>\n    <tr>\n      <th>896</th>\n      <td>1</td>\n    </tr>\n  </tbody>\n</table>\n</div>"
          },
          "metadata": {}
        }
      ]
    },
    {
      "cell_type": "code",
      "metadata": {
        "cell_id": "00044-ca49dcfd-b2a9-410b-8c0c-3286ae6ee359",
        "deepnote_to_be_reexecuted": true,
        "source_hash": "d25356f7",
        "execution_start": 1620053616077,
        "execution_millis": 19,
        "deepnote_cell_type": "code"
      },
      "source": "sub.to_csv(\"sub.csv\")",
      "execution_count": null,
      "outputs": []
    },
    {
      "cell_type": "code",
      "metadata": {
        "cell_id": "00045-3633219b-e8a3-4ee3-9d2e-49ac3d52184c",
        "deepnote_to_be_reexecuted": true,
        "source_hash": "c64add6f",
        "execution_start": 1620053618015,
        "execution_millis": 612,
        "deepnote_cell_type": "code"
      },
      "source": "!kaggle competitions submit -c titanic -f sub.csv -m \"My submission message\"",
      "execution_count": null,
      "outputs": [
        {
          "name": "stdout",
          "text": "/bin/bash: kaggle: command not found\r\n",
          "output_type": "stream"
        }
      ]
    },
    {
      "cell_type": "markdown",
      "source": "<a style='text-decoration:none;line-height:16px;display:flex;color:#5B5B62;padding:10px;justify-content:end;' href='https://deepnote.com?utm_source=created-in-deepnote-cell&projectId=32ebab46-e526-42a3-8966-92f4ff6ef571' target=\"_blank\">\n<img alt='Created in deepnote.com' style='display:inline;max-height:16px;margin:0px;margin-right:7.5px;' src='data:image/svg+xml;base64,PD94bWwgdmVyc2lvbj0iMS4wIiBlbmNvZGluZz0iVVRGLTgiPz4KPHN2ZyB3aWR0aD0iODBweCIgaGVpZ2h0PSI4MHB4IiB2aWV3Qm94PSIwIDAgODAgODAiIHZlcnNpb249IjEuMSIgeG1sbnM9Imh0dHA6Ly93d3cudzMub3JnLzIwMDAvc3ZnIiB4bWxuczp4bGluaz0iaHR0cDovL3d3dy53My5vcmcvMTk5OS94bGluayI+CiAgICA8IS0tIEdlbmVyYXRvcjogU2tldGNoIDU0LjEgKDc2NDkwKSAtIGh0dHBzOi8vc2tldGNoYXBwLmNvbSAtLT4KICAgIDx0aXRsZT5Hcm91cCAzPC90aXRsZT4KICAgIDxkZXNjPkNyZWF0ZWQgd2l0aCBTa2V0Y2guPC9kZXNjPgogICAgPGcgaWQ9IkxhbmRpbmciIHN0cm9rZT0ibm9uZSIgc3Ryb2tlLXdpZHRoPSIxIiBmaWxsPSJub25lIiBmaWxsLXJ1bGU9ImV2ZW5vZGQiPgogICAgICAgIDxnIGlkPSJBcnRib2FyZCIgdHJhbnNmb3JtPSJ0cmFuc2xhdGUoLTEyMzUuMDAwMDAwLCAtNzkuMDAwMDAwKSI+CiAgICAgICAgICAgIDxnIGlkPSJHcm91cC0zIiB0cmFuc2Zvcm09InRyYW5zbGF0ZSgxMjM1LjAwMDAwMCwgNzkuMDAwMDAwKSI+CiAgICAgICAgICAgICAgICA8cG9seWdvbiBpZD0iUGF0aC0yMCIgZmlsbD0iIzAyNjVCNCIgcG9pbnRzPSIyLjM3NjIzNzYyIDgwIDM4LjA0NzY2NjcgODAgNTcuODIxNzgyMiA3My44MDU3NTkyIDU3LjgyMTc4MjIgMzIuNzU5MjczOSAzOS4xNDAyMjc4IDMxLjY4MzE2ODMiPjwvcG9seWdvbj4KICAgICAgICAgICAgICAgIDxwYXRoIGQ9Ik0zNS4wMDc3MTgsODAgQzQyLjkwNjIwMDcsNzYuNDU0OTM1OCA0Ny41NjQ5MTY3LDcxLjU0MjI2NzEgNDguOTgzODY2LDY1LjI2MTk5MzkgQzUxLjExMjI4OTksNTUuODQxNTg0MiA0MS42NzcxNzk1LDQ5LjIxMjIyODQgMjUuNjIzOTg0Niw0OS4yMTIyMjg0IEMyNS40ODQ5Mjg5LDQ5LjEyNjg0NDggMjkuODI2MTI5Niw0My4yODM4MjQ4IDM4LjY0NzU4NjksMzEuNjgzMTY4MyBMNzIuODcxMjg3MSwzMi41NTQ0MjUgTDY1LjI4MDk3Myw2Ny42NzYzNDIxIEw1MS4xMTIyODk5LDc3LjM3NjE0NCBMMzUuMDA3NzE4LDgwIFoiIGlkPSJQYXRoLTIyIiBmaWxsPSIjMDAyODY4Ij48L3BhdGg+CiAgICAgICAgICAgICAgICA8cGF0aCBkPSJNMCwzNy43MzA0NDA1IEwyNy4xMTQ1MzcsMC4yNTcxMTE0MzYgQzYyLjM3MTUxMjMsLTEuOTkwNzE3MDEgODAsMTAuNTAwMzkyNyA4MCwzNy43MzA0NDA1IEM4MCw2NC45NjA0ODgyIDY0Ljc3NjUwMzgsNzkuMDUwMzQxNCAzNC4zMjk1MTEzLDgwIEM0Ny4wNTUzNDg5LDc3LjU2NzA4MDggNTMuNDE4MjY3Nyw3MC4zMTM2MTAzIDUzLjQxODI2NzcsNTguMjM5NTg4NSBDNTMuNDE4MjY3Nyw0MC4xMjg1NTU3IDM2LjMwMzk1NDQsMzcuNzMwNDQwNSAyNS4yMjc0MTcsMzcuNzMwNDQwNSBDMTcuODQzMDU4NiwzNy43MzA0NDA1IDkuNDMzOTE5NjYsMzcuNzMwNDQwNSAwLDM3LjczMDQ0MDUgWiIgaWQ9IlBhdGgtMTkiIGZpbGw9IiMzNzkzRUYiPjwvcGF0aD4KICAgICAgICAgICAgPC9nPgogICAgICAgIDwvZz4KICAgIDwvZz4KPC9zdmc+' > </img>\nCreated in <span style='font-weight:600;margin-left:4px;'>Deepnote</span></a>",
      "metadata": {
        "tags": [],
        "created_in_deepnote_cell": true,
        "deepnote_cell_type": "markdown"
      }
    }
  ],
  "nbformat": 4,
  "nbformat_minor": 4,
  "metadata": {
    "anaconda-cloud": {},
    "colab": {
      "collapsed_sections": [],
      "name": "Titanic LogReg.ipynb",
      "provenance": []
    },
    "kernelspec": {
      "display_name": "Python 3",
      "language": "python",
      "name": "python3"
    },
    "language_info": {
      "codemirror_mode": {
        "name": "ipython",
        "version": 3
      },
      "file_extension": ".py",
      "mimetype": "text/x-python",
      "name": "python",
      "nbconvert_exporter": "python",
      "pygments_lexer": "ipython3",
      "version": "3.7.10"
    },
    "name": "seminar13_optional_practice_trees_titanic.ipynb",
    "deepnote_notebook_id": "96cee755-d2de-4833-b56a-947139bd887b",
    "deepnote": {},
    "deepnote_execution_queue": []
  }
}